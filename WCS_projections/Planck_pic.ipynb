{
 "cells": [
  {
   "cell_type": "code",
   "execution_count": 1,
   "metadata": {
    "ExecuteTime": {
     "end_time": "2020-08-17T14:52:21.921852Z",
     "start_time": "2020-08-17T14:52:17.254033Z"
    }
   },
   "outputs": [],
   "source": [
    "import pandas as pd\n",
    "import numpy as np\n",
    "from DS_healpix_fragmentation import *\n",
    "from DS_data_transformation import *\n",
    "import DS_Coma_Cluster_param as cc_prm"
   ]
  },
  {
   "cell_type": "code",
   "execution_count": 2,
   "metadata": {
    "ExecuteTime": {
     "end_time": "2020-08-17T14:53:11.543180Z",
     "start_time": "2020-08-17T14:53:02.308565Z"
    }
   },
   "outputs": [],
   "source": [
    "df = pd.read_csv('/home/rt2122/Data/coma_sweep/south/circle_2degree_filtered.csv')\n",
    "df = n_max_flux_df(df, 100, ['FLUX_G', 'FLUX_R', 'FLUX_Z'])"
   ]
  },
  {
   "cell_type": "code",
   "execution_count": 3,
   "metadata": {
    "ExecuteTime": {
     "end_time": "2020-08-17T14:54:08.116991Z",
     "start_time": "2020-08-17T14:54:07.494017Z"
    }
   },
   "outputs": [],
   "source": [
    "matr = np.load('/home/rt2122/Data/coma_sweep/south/true_matr.npy')"
   ]
  },
  {
   "cell_type": "code",
   "execution_count": 4,
   "metadata": {
    "ExecuteTime": {
     "end_time": "2020-08-17T14:54:24.501731Z",
     "start_time": "2020-08-17T14:54:23.252561Z"
    }
   },
   "outputs": [],
   "source": [
    "mdict = matr2dict(matr)"
   ]
  },
  {
   "cell_type": "code",
   "execution_count": 5,
   "metadata": {
    "ExecuteTime": {
     "end_time": "2020-08-17T14:57:49.197758Z",
     "start_time": "2020-08-17T14:57:49.184931Z"
    }
   },
   "outputs": [],
   "source": [
    "def draw_circles(ra, dec, nside, shape, mdict, data, coef=0.02):\n",
    "    from skimage.draw import circle\n",
    "    \n",
    "    pic = np.zeros(shape)\n",
    "    coef = shape[0] * coef / max(data) \n",
    "    pix = radec2pix(ra, dec, nside)\n",
    "    coords = [(*mdict[pix[i]], data[i]) for i in range(data.shape[0]) \n",
    "              if pix[i] in mdict]\n",
    "    for x, y, flux in coords:\n",
    "        pic[circle(x, y, coef*flux, shape=shape)] = 1\n",
    "    return pic"
   ]
  },
  {
   "cell_type": "code",
   "execution_count": 6,
   "metadata": {
    "ExecuteTime": {
     "end_time": "2020-08-17T14:58:59.537300Z",
     "start_time": "2020-08-17T14:58:50.418858Z"
    }
   },
   "outputs": [],
   "source": [
    "mask = draw_circles(df['RA'], df['DEC'], 65536, (2048, 2048), mdict, \n",
    "                    df['FLUX_G'] + df['FLUX_R'] + df['FLUX_Z'])"
   ]
  },
  {
   "cell_type": "code",
   "execution_count": 7,
   "metadata": {
    "ExecuteTime": {
     "end_time": "2020-08-17T14:59:02.729532Z",
     "start_time": "2020-08-17T14:59:01.529543Z"
    }
   },
   "outputs": [
    {
     "data": {
      "image/png": "[encoded data removed]",
      "text/plain": [
       "<Figure size 720x720 with 1 Axes>"
      ]
     },
     "metadata": {
      "needs_background": "light"
     },
     "output_type": "display_data"
    }
   ],
   "source": [
    "show_pic(mask)"
   ]
  },
  {
   "cell_type": "code",
   "execution_count": null,
   "metadata": {},
   "outputs": [],
   "source": []
  }
 ],
 "metadata": {
  "kernelspec": {
   "display_name": "Python 3",
   "language": "python",
   "name": "python3"
  },
  "language_info": {
   "codemirror_mode": {
    "name": "ipython",
    "version": 3
   },
   "file_extension": ".py",
   "mimetype": "text/x-python",
   "name": "python",
   "nbconvert_exporter": "python",
   "pygments_lexer": "ipython3",
   "version": "3.8.3"
  }
 },
 "nbformat": 4,
 "nbformat_minor": 4
}
