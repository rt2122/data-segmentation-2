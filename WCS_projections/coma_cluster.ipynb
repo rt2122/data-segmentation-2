{
 "cells": [
  {
   "cell_type": "code",
   "execution_count": 1,
   "metadata": {
    "ExecuteTime": {
     "end_time": "2020-08-05T08:07:07.421757Z",
     "start_time": "2020-08-05T08:07:06.958991Z"
    }
   },
   "outputs": [],
   "source": [
    "from DS_WCS_projections import *\n",
    "import numpy as np\n",
    "from astropy.coordinates import SkyCoord\n",
    "from astropy import units as u"
   ]
  },
  {
   "cell_type": "code",
   "execution_count": 2,
   "metadata": {
    "ExecuteTime": {
     "end_time": "2020-08-05T08:07:07.431958Z",
     "start_time": "2020-08-05T08:07:07.422932Z"
    }
   },
   "outputs": [
    {
     "name": "stderr",
     "output_type": "stream",
     "text": [
      "WARNING: FITSFixedWarning: 'cdfix' made the change 'Success'. [astropy.wcs.wcs]\n",
      "/home/rt2122/L/git/data-segmentation-2/modules/DS_WCS_projections.py:39: RuntimeWarning: cdelt will be ignored since cd is present\n",
      "  w1.wcs.cdelt = w.wcs.cdelt[:2]\n"
     ]
    }
   ],
   "source": [
    "c_wcs = custom_wcs(194.9356, 28.0256)"
   ]
  },
  {
   "cell_type": "code",
   "execution_count": 3,
   "metadata": {
    "ExecuteTime": {
     "end_time": "2020-08-05T08:07:08.269905Z",
     "start_time": "2020-08-05T08:07:08.252250Z"
    },
    "collapsed": true
   },
   "outputs": [
    {
     "data": {
      "text/plain": [
       "       flag: 137\n",
       "      naxis: 2\n",
       "      crpix: 0x5576726cae70\n",
       "               1024.5       1024.5    \n",
       "         pc: 0x557671a07cf0\n",
       "    pc[0][]:  -0.0011111    0.0000    \n",
       "    pc[1][]:   0.0000       0.0011111 \n",
       "      cdelt: 0x5576726a12f0\n",
       "               1.0000       1.0000    \n",
       "      crval: 0x557671dd17c0\n",
       "               194.94       28.026    \n",
       "      cunit: 0x5576725456a0\n",
       "             \"deg\"\n",
       "             \"deg\"\n",
       "      ctype: 0x5576725eb210\n",
       "             \"RA---TAN\"\n",
       "             \"DEC--TAN\"\n",
       "    lonpole: 180.000000\n",
       "    latpole: 28.025600\n",
       "    restfrq: 0.000000\n",
       "    restwav: 0.000000\n",
       "        npv: 1\n",
       "     npvmax: 64\n",
       "         pv: 0x5576726ca9f0\n",
       "               2   0   0.0000    \n",
       "        nps: 0\n",
       "     npsmax: 8\n",
       "         ps: 0x5576726cd1a0\n",
       "         cd: 0x55767266db20\n",
       "    cd[0][]:  -0.0011111    0.0000    \n",
       "    cd[1][]:   0.0000       0.0011111 \n",
       "      crota: 0x5576726cd430\n",
       "               0.0000       0.0000    \n",
       "     altlin: 2\n",
       "     velref: 0\n",
       "        alt: ' '\n",
       "     colnum: 0\n",
       "      colax: 0x5576726cd450\n",
       "                 0      0\n",
       "      cname: 0x5576726cd470\n",
       "             UNDEFINED\n",
       "             UNDEFINED\n",
       "      crder: 0x5576726cd510\n",
       "               UNDEFINED    UNDEFINED\n",
       "      csyer: 0x5576726cd530\n",
       "               UNDEFINED    UNDEFINED\n",
       "      czphs: 0x5576726cd550\n",
       "               UNDEFINED    UNDEFINED\n",
       "      cperi: 0x5576726cd570\n",
       "               UNDEFINED    UNDEFINED\n",
       "    wcsname: UNDEFINED\n",
       "    timesys: UNDEFINED\n",
       "    trefpos: UNDEFINED\n",
       "    trefdir: UNDEFINED\n",
       "    plephem: UNDEFINED\n",
       "   timeunit: UNDEFINED\n",
       "    dateref: \"1858-11-17\"\n",
       "     mjdref:      0.000000000     0.000000000\n",
       "   timeoffs: UNDEFINED\n",
       "    dateobs: UNDEFINED\n",
       "    datebeg: UNDEFINED\n",
       "    dateavg: UNDEFINED\n",
       "    dateend: UNDEFINED\n",
       "     mjdobs: UNDEFINED\n",
       "     mjdbeg: UNDEFINED\n",
       "     mjdavg: UNDEFINED\n",
       "     mjdend: UNDEFINED\n",
       "     jepoch: UNDEFINED\n",
       "     bepoch: UNDEFINED\n",
       "     tstart: UNDEFINED\n",
       "      tstop: UNDEFINED\n",
       "    xposure: UNDEFINED\n",
       "    telapse: UNDEFINED\n",
       "    timsyer: UNDEFINED\n",
       "    timrder: UNDEFINED\n",
       "    timedel: UNDEFINED\n",
       "   timepixr: UNDEFINED\n",
       "     obsgeo:        UNDEFINED       UNDEFINED       UNDEFINED\n",
       "                    UNDEFINED       UNDEFINED       UNDEFINED\n",
       "   obsorbit: UNDEFINED\n",
       "    radesys: \"ICRS\"\n",
       "    equinox: UNDEFINED\n",
       "    specsys: UNDEFINED\n",
       "    ssysobs: UNDEFINED\n",
       "    velosys: UNDEFINED\n",
       "    zsource: UNDEFINED\n",
       "    ssyssrc: UNDEFINED\n",
       "    velangl: UNDEFINED\n",
       "        aux: 0x0\n",
       "       ntab: 0\n",
       "        tab: 0x0\n",
       "       nwtb: 0\n",
       "        wtb: 0x0\n",
       "      types: 0x5576726b3690\n",
       "            2200 2201\n",
       "     lngtyp: \"RA\"\n",
       "     lattyp: \"DEC\"\n",
       "        lng: 0\n",
       "        lat: 1\n",
       "       spec: -1\n",
       "   cubeface: -1\n",
       "        err: 0x0\n",
       "        lin: (see below)\n",
       "        cel: (see below)\n",
       "        spc: (see below)\n",
       "     m_flag: 137\n",
       "    m_naxis: 2\n",
       "    m_crpix: 0x5576726cae70  (= crpix)\n",
       "       m_pc: 0x557671a07cf0  (= pc)\n",
       "    m_cdelt: 0x5576726a12f0  (= cdelt)\n",
       "    m_crval: 0x557671dd17c0  (= crval)\n",
       "    m_cunit: 0x5576725456a0  (= cunit)\n",
       "    m_ctype: 0x5576725eb210  (= ctype)\n",
       "       m_pv: 0x5576726ca9f0  (= pv)\n",
       "       m_ps: 0x5576726cd1a0  (= ps)\n",
       "       m_cd: 0x55767266db20  (= cd)\n",
       "    m_crota: 0x5576726cd430  (= crota)\n",
       "\n",
       "    m_colax: 0x5576726cd450  (= colax)\n",
       "    m_cname: 0x5576726cd470  (= cname)\n",
       "    m_crder: 0x5576726cd510  (= crder)\n",
       "    m_csyer: 0x5576726cd530  (= csyer)\n",
       "    m_czphs: 0x5576726cd550  (= czphs)\n",
       "    m_cperi: 0x5576726cd570  (= cperi)\n",
       "      m_aux: 0x0  (= aux)\n",
       "      m_tab: 0x0  (= tab)\n",
       "      m_wtb: 0x0  (= wtb)\n",
       "\n",
       "   lin.*\n",
       "       flag: 137\n",
       "      naxis: 2\n",
       "      crpix: 0x5576726cae70\n",
       "               1024.5       1024.5    \n",
       "         pc: 0x557671a07cf0\n",
       "    pc[0][]:  -0.0011111    0.0000    \n",
       "    pc[1][]:   0.0000       0.0011111 \n",
       "      cdelt: 0x5576726a12f0\n",
       "               1.0000       1.0000    \n",
       "     dispre: 0x0\n",
       "     disseq: 0x0\n",
       "piximg[0][]:  -0.0011111    0.0000    \n",
       "piximg[1][]:   0.0000       0.0011111 \n",
       "imgpix[0][]:  -900.00      -0.0000    \n",
       "imgpix[1][]:   0.0000       900.00    \n",
       "    i_naxis: 2\n",
       "      unity: 0\n",
       "     affine: 1\n",
       "     simple: 0\n",
       "        err: 0x0\n",
       "     tmpcrd: 0x5576726cd5b0\n",
       "     m_flag: 0\n",
       "    m_naxis: 0\n",
       "    m_crpix: 0x0\n",
       "       m_pc: 0x0\n",
       "    m_cdelt: 0x0\n",
       "   m_dispre: 0x0\n",
       "   m_disseq: 0x0\n",
       "\n",
       "   cel.*\n",
       "      flag: 137\n",
       "     offset: 0\n",
       "       phi0:  0.000000\n",
       "     theta0: 90.000000\n",
       "        ref:   194.94       28.026       180.00       28.026    \n",
       "        prj: (see below)\n",
       "      euler:   194.94       61.974       180.00       0.46987      0.88274   \n",
       "    latpreq: 0 (not required)\n",
       "     isolat: 0\n",
       "        err: 0x0\n",
       "\n",
       "   prj.*\n",
       "       flag: 103\n",
       "       code: \"TAN\"\n",
       "         r0: 57.295780\n",
       "         pv: (not used)\n",
       "       phi0:  0.000000\n",
       "     theta0: 90.000000\n",
       "     bounds: 7\n",
       "\n",
       "       name: \"gnomonic\"\n",
       "   category: 1 (zenithal)\n",
       "    pvrange: 0\n",
       "  simplezen: 1\n",
       "  equiareal: 0\n",
       "  conformal: 0\n",
       "     global: 0\n",
       "  divergent: 1\n",
       "         x0: 0.000000\n",
       "         y0: 0.000000\n",
       "        err: 0x0\n",
       "        w[]:   0.0000       0.0000       0.0000       0.0000       0.0000    \n",
       "               0.0000       0.0000       0.0000       0.0000       0.0000    \n",
       "          m: 0\n",
       "          n: 0\n",
       "     prjx2s: 0x7fc770542af0\n",
       "     prjs2x: 0x7fc770542ef0\n",
       "\n",
       "   spc.*\n",
       "       flag: 0\n",
       "       type: \"    \"\n",
       "       code: \"   \"\n",
       "      crval: UNDEFINED\n",
       "    restfrq: 0.000000\n",
       "    restwav: 0.000000\n",
       "         pv: (not used)\n",
       "          w:   0.0000       0.0000       0.0000      (remainder unused)\n",
       "    isGrism: 0\n",
       "        err: 0x0\n",
       "     spxX2P: 0x0\n",
       "     spxP2S: 0x0\n",
       "     spxS2P: 0x0\n",
       "     spxP2X: 0x0"
      ]
     },
     "execution_count": 3,
     "metadata": {},
     "output_type": "execute_result"
    }
   ],
   "source": [
    "c_wcs.wcs"
   ]
  },
  {
   "cell_type": "code",
   "execution_count": 5,
   "metadata": {
    "ExecuteTime": {
     "end_time": "2020-08-04T17:27:41.654309Z",
     "start_time": "2020-08-04T17:27:41.642283Z"
    }
   },
   "outputs": [
    {
     "data": {
      "text/plain": [
       "array([128.5, 128.5,   0. ])"
      ]
     },
     "execution_count": 5,
     "metadata": {},
     "output_type": "execute_result"
    }
   ],
   "source": [
    "c_wcs.wcs.crpix"
   ]
  },
  {
   "cell_type": "code",
   "execution_count": 42,
   "metadata": {
    "ExecuteTime": {
     "end_time": "2020-08-04T17:57:47.200400Z",
     "start_time": "2020-08-04T17:57:47.190457Z"
    }
   },
   "outputs": [],
   "source": [
    "pixels = np.array([[0, 0], [128, 128]], dtype=int)"
   ]
  },
  {
   "cell_type": "code",
   "execution_count": 43,
   "metadata": {
    "ExecuteTime": {
     "end_time": "2020-08-04T17:57:47.502995Z",
     "start_time": "2020-08-04T17:57:47.497275Z"
    }
   },
   "outputs": [],
   "source": [
    "pixels_t = c_wcs.all_pix2world(pixels[:, 0], pixels[:, 1], [0, 0], 0)"
   ]
  },
  {
   "cell_type": "code",
   "execution_count": 44,
   "metadata": {
    "ExecuteTime": {
     "end_time": "2020-08-04T17:57:47.910726Z",
     "start_time": "2020-08-04T17:57:47.902064Z"
    }
   },
   "outputs": [
    {
     "data": {
      "text/plain": [
       "array([195.09587421, 194.93497064])"
      ]
     },
     "execution_count": 44,
     "metadata": {},
     "output_type": "execute_result"
    }
   ],
   "source": [
    "pixels_t[0]"
   ]
  },
  {
   "cell_type": "code",
   "execution_count": 45,
   "metadata": {
    "ExecuteTime": {
     "end_time": "2020-08-04T17:57:48.894790Z",
     "start_time": "2020-08-04T17:57:48.884408Z"
    }
   },
   "outputs": [
    {
     "data": {
      "text/plain": [
       "0.20113177899585538"
      ]
     },
     "execution_count": 45,
     "metadata": {},
     "output_type": "execute_result"
    }
   ],
   "source": [
    "sc = SkyCoord(ra=pixels_t[0]*u.degree, dec=pixels_t[1]*u.degree, frame='icrs')\n",
    "sc[0].separation(sc[1]).degree"
   ]
  },
  {
   "cell_type": "code",
   "execution_count": 16,
   "metadata": {
    "ExecuteTime": {
     "end_time": "2020-08-04T17:36:31.813525Z",
     "start_time": "2020-08-04T17:36:31.807504Z"
    }
   },
   "outputs": [
    {
     "data": {
      "text/plain": [
       "array([[-0.00111111,  0.        ,  0.        ],\n",
       "       [ 0.        ,  0.00111111,  0.        ],\n",
       "       [ 0.        ,  0.        ,  1.        ]])"
      ]
     },
     "execution_count": 16,
     "metadata": {},
     "output_type": "execute_result"
    }
   ],
   "source": [
    "c_wcs.wcs.cd"
   ]
  },
  {
   "cell_type": "code",
   "execution_count": 20,
   "metadata": {
    "ExecuteTime": {
     "end_time": "2020-08-04T17:37:35.517866Z",
     "start_time": "2020-08-04T17:37:35.514082Z"
    }
   },
   "outputs": [
    {
     "data": {
      "text/plain": [
       "0.3999996"
      ]
     },
     "execution_count": 20,
     "metadata": {},
     "output_type": "execute_result"
    }
   ],
   "source": [
    "0.00111111 * 360"
   ]
  },
  {
   "cell_type": "code",
   "execution_count": 6,
   "metadata": {
    "ExecuteTime": {
     "end_time": "2020-08-05T08:08:11.348096Z",
     "start_time": "2020-08-05T08:08:11.061785Z"
    }
   },
   "outputs": [
    {
     "name": "stderr",
     "output_type": "stream",
     "text": [
      "/home/rt2122/L/git/data-segmentation-2/modules/DS_WCS_projections.py:19: RuntimeWarning: cdelt will be ignored since cd is present\n",
      "  w.wcs.cdelt = line['CDELT']\n"
     ]
    }
   ],
   "source": [
    "o_wcs = find_nearest_tile(194.9356, 28.0256)"
   ]
  },
  {
   "cell_type": "code",
   "execution_count": 29,
   "metadata": {
    "ExecuteTime": {
     "end_time": "2020-08-04T17:41:21.279646Z",
     "start_time": "2020-08-04T17:41:21.273911Z"
    }
   },
   "outputs": [
    {
     "data": {
      "text/plain": [
       "array([[-0.00076389,  0.        ],\n",
       "       [ 0.        ,  0.00076389]])"
      ]
     },
     "execution_count": 29,
     "metadata": {},
     "output_type": "execute_result"
    }
   ],
   "source": [
    "o_wcs.wcs.cd"
   ]
  },
  {
   "cell_type": "code",
   "execution_count": 30,
   "metadata": {
    "ExecuteTime": {
     "end_time": "2020-08-04T17:41:44.934402Z",
     "start_time": "2020-08-04T17:41:44.930492Z"
    }
   },
   "outputs": [
    {
     "data": {
      "text/plain": [
       "0.13750020000000002"
      ]
     },
     "execution_count": 30,
     "metadata": {},
     "output_type": "execute_result"
    }
   ],
   "source": [
    "180 * 0.00076389"
   ]
  },
  {
   "cell_type": "code",
   "execution_count": 41,
   "metadata": {
    "ExecuteTime": {
     "end_time": "2020-08-04T17:57:17.610000Z",
     "start_time": "2020-08-04T17:57:17.599861Z"
    }
   },
   "outputs": [
    {
     "data": {
      "text/plain": [
       "0.20113177899585538"
      ]
     },
     "execution_count": 41,
     "metadata": {},
     "output_type": "execute_result"
    }
   ],
   "source": [
    "pixels = np.array([[0, 0], [128, 128]], dtype=int)\n",
    "pixels_t = c_wcs.all_pix2world(pixels[:, 0], pixels[:, 1], [0, 0], 0)\n",
    "sc = SkyCoord(ra=pixels_t[0]*u.degree, dec=pixels_t[1]*u.degree, frame='icrs')\n",
    "sc[0].separation(sc[1]).degree"
   ]
  },
  {
   "cell_type": "code",
   "execution_count": 32,
   "metadata": {
    "ExecuteTime": {
     "end_time": "2020-08-04T17:43:12.464982Z",
     "start_time": "2020-08-04T17:43:12.455181Z"
    }
   },
   "outputs": [
    {
     "name": "stderr",
     "output_type": "stream",
     "text": [
      "<ipython-input-32-6fe1acba437c>:1: RuntimeWarning: cdelt will be ignored since cd is present\n",
      "  o_wcs.wcs.cdelt\n"
     ]
    },
    {
     "data": {
      "text/plain": [
       "array([1., 1.])"
      ]
     },
     "execution_count": 32,
     "metadata": {},
     "output_type": "execute_result"
    }
   ],
   "source": [
    "o_wcs.wcs.cdelt"
   ]
  },
  {
   "cell_type": "code",
   "execution_count": 33,
   "metadata": {
    "ExecuteTime": {
     "end_time": "2020-08-04T17:43:30.664543Z",
     "start_time": "2020-08-04T17:43:30.653545Z"
    }
   },
   "outputs": [
    {
     "name": "stderr",
     "output_type": "stream",
     "text": [
      "<ipython-input-33-1f78aef4318f>:1: RuntimeWarning: cdelt will be ignored since cd is present\n",
      "  c_wcs.wcs.cdelt\n"
     ]
    },
    {
     "data": {
      "text/plain": [
       "array([1., 1., 1.])"
      ]
     },
     "execution_count": 33,
     "metadata": {},
     "output_type": "execute_result"
    }
   ],
   "source": [
    "c_wcs.wcs.cdelt"
   ]
  },
  {
   "cell_type": "code",
   "execution_count": 35,
   "metadata": {
    "ExecuteTime": {
     "end_time": "2020-08-04T17:47:55.790722Z",
     "start_time": "2020-08-04T17:47:55.777275Z"
    },
    "collapsed": true
   },
   "outputs": [
    {
     "data": {
      "text/plain": [
       "       flag: 137\n",
       "      naxis: 2\n",
       "      crpix: 0x561f192cb5c0\n",
       "               1024.5       1024.5    \n",
       "         pc: 0x561f1925b820\n",
       "    pc[0][]:  -0.00076389   0.0000    \n",
       "    pc[1][]:   0.0000       0.00076389\n",
       "      cdelt: 0x561f1908ee10\n",
       "               1.0000       1.0000    \n",
       "      crval: 0x561f192cb600\n",
       "               195.43       28.774    \n",
       "      cunit: 0x561f192935f0\n",
       "             \"deg\"\n",
       "             \"deg\"\n",
       "      ctype: 0x561f193d6780\n",
       "             \"RA---TAN\"\n",
       "             \"DEC--TAN\"\n",
       "    lonpole: 180.000000\n",
       "    latpole: 28.774444\n",
       "    restfrq: 0.000000\n",
       "    restwav: 0.000000\n",
       "        npv: 1\n",
       "     npvmax: 64\n",
       "         pv: 0x561f1936abe0\n",
       "               2   0   0.0000    \n",
       "        nps: 0\n",
       "     npsmax: 8\n",
       "         ps: 0x561f19366c10\n",
       "         cd: 0x561f19366ea0\n",
       "    cd[0][]:  -0.00076389   0.0000    \n",
       "    cd[1][]:   0.0000       0.00076389\n",
       "      crota: 0x561f19291b90\n",
       "               0.0000       0.0000    \n",
       "     altlin: 2\n",
       "     velref: 0\n",
       "        alt: ' '\n",
       "     colnum: 0\n",
       "      colax: 0x561f19293690\n",
       "                 0      0\n",
       "      cname: 0x561f191b3720\n",
       "             UNDEFINED\n",
       "             UNDEFINED\n",
       "      crder: 0x561f193d6820\n",
       "               UNDEFINED    UNDEFINED\n",
       "      csyer: 0x561f191b37c0\n",
       "               UNDEFINED    UNDEFINED\n",
       "      czphs: 0x561f191826d0\n",
       "               UNDEFINED    UNDEFINED\n",
       "      cperi: 0x561f191826f0\n",
       "               UNDEFINED    UNDEFINED\n",
       "    wcsname: UNDEFINED\n",
       "    timesys: UNDEFINED\n",
       "    trefpos: UNDEFINED\n",
       "    trefdir: UNDEFINED\n",
       "    plephem: UNDEFINED\n",
       "   timeunit: UNDEFINED\n",
       "    dateref: \"1858-11-17\"\n",
       "     mjdref:      0.000000000     0.000000000\n",
       "   timeoffs: UNDEFINED\n",
       "    dateobs: UNDEFINED\n",
       "    datebeg: UNDEFINED\n",
       "    dateavg: UNDEFINED\n",
       "    dateend: UNDEFINED\n",
       "     mjdobs: UNDEFINED\n",
       "     mjdbeg: UNDEFINED\n",
       "     mjdavg: UNDEFINED\n",
       "     mjdend: UNDEFINED\n",
       "     jepoch: UNDEFINED\n",
       "     bepoch: UNDEFINED\n",
       "     tstart: UNDEFINED\n",
       "      tstop: UNDEFINED\n",
       "    xposure: UNDEFINED\n",
       "    telapse: UNDEFINED\n",
       "    timsyer: UNDEFINED\n",
       "    timrder: UNDEFINED\n",
       "    timedel: UNDEFINED\n",
       "   timepixr: UNDEFINED\n",
       "     obsgeo:        UNDEFINED       UNDEFINED       UNDEFINED\n",
       "                    UNDEFINED       UNDEFINED       UNDEFINED\n",
       "   obsorbit: UNDEFINED\n",
       "    radesys: \"ICRS\"\n",
       "    equinox: UNDEFINED\n",
       "    specsys: UNDEFINED\n",
       "    ssysobs: UNDEFINED\n",
       "    velosys: UNDEFINED\n",
       "    zsource: UNDEFINED\n",
       "    ssyssrc: UNDEFINED\n",
       "    velangl: UNDEFINED\n",
       "        aux: 0x0\n",
       "       ntab: 0\n",
       "        tab: 0x0\n",
       "       nwtb: 0\n",
       "        wtb: 0x0\n",
       "      types: 0x561f192035d0\n",
       "            2200 2201\n",
       "     lngtyp: \"RA\"\n",
       "     lattyp: \"DEC\"\n",
       "        lng: 0\n",
       "        lat: 1\n",
       "       spec: -1\n",
       "   cubeface: -1\n",
       "        err: 0x0\n",
       "        lin: (see below)\n",
       "        cel: (see below)\n",
       "        spc: (see below)\n",
       "     m_flag: 137\n",
       "    m_naxis: 2\n",
       "    m_crpix: 0x561f192cb5c0  (= crpix)\n",
       "       m_pc: 0x561f1925b820  (= pc)\n",
       "    m_cdelt: 0x561f1908ee10  (= cdelt)\n",
       "    m_crval: 0x561f192cb600  (= crval)\n",
       "    m_cunit: 0x561f192935f0  (= cunit)\n",
       "    m_ctype: 0x561f193d6780  (= ctype)\n",
       "       m_pv: 0x561f1936abe0  (= pv)\n",
       "       m_ps: 0x561f19366c10  (= ps)\n",
       "       m_cd: 0x561f19366ea0  (= cd)\n",
       "    m_crota: 0x561f19291b90  (= crota)\n",
       "\n",
       "    m_colax: 0x561f19293690  (= colax)\n",
       "    m_cname: 0x561f191b3720  (= cname)\n",
       "    m_crder: 0x561f193d6820  (= crder)\n",
       "    m_csyer: 0x561f191b37c0  (= csyer)\n",
       "    m_czphs: 0x561f191826d0  (= czphs)\n",
       "    m_cperi: 0x561f191826f0  (= cperi)\n",
       "      m_aux: 0x0  (= aux)\n",
       "      m_tab: 0x0  (= tab)\n",
       "      m_wtb: 0x0  (= wtb)\n",
       "\n",
       "   lin.*\n",
       "       flag: 137\n",
       "      naxis: 2\n",
       "      crpix: 0x561f192cb5c0\n",
       "               1024.5       1024.5    \n",
       "         pc: 0x561f1925b820\n",
       "    pc[0][]:  -0.00076389   0.0000    \n",
       "    pc[1][]:   0.0000       0.00076389\n",
       "      cdelt: 0x561f1908ee10\n",
       "               1.0000       1.0000    \n",
       "     dispre: 0x0\n",
       "     disseq: 0x0\n",
       "piximg[0][]:  -0.00076389   0.0000    \n",
       "piximg[1][]:   0.0000       0.00076389\n",
       "imgpix[0][]:  -1309.1      -0.0000    \n",
       "imgpix[1][]:   0.0000       1309.1    \n",
       "    i_naxis: 2\n",
       "      unity: 0\n",
       "     affine: 1\n",
       "     simple: 0\n",
       "        err: 0x0\n",
       "     tmpcrd: 0x561f19182730\n",
       "     m_flag: 0\n",
       "    m_naxis: 0\n",
       "    m_crpix: 0x0\n",
       "       m_pc: 0x0\n",
       "    m_cdelt: 0x0\n",
       "   m_dispre: 0x0\n",
       "   m_disseq: 0x0\n",
       "\n",
       "   cel.*\n",
       "      flag: 137\n",
       "     offset: 0\n",
       "       phi0:  0.000000\n",
       "     theta0: 90.000000\n",
       "        ref:   195.43       28.774       180.00       28.774    \n",
       "        prj: (see below)\n",
       "      euler:   195.43       61.226       180.00       0.48136      0.87652   \n",
       "    latpreq: 0 (not required)\n",
       "     isolat: 0\n",
       "        err: 0x0\n",
       "\n",
       "   prj.*\n",
       "       flag: 103\n",
       "       code: \"TAN\"\n",
       "         r0: 57.295780\n",
       "         pv: (not used)\n",
       "       phi0:  0.000000\n",
       "     theta0: 90.000000\n",
       "     bounds: 7\n",
       "\n",
       "       name: \"gnomonic\"\n",
       "   category: 1 (zenithal)\n",
       "    pvrange: 0\n",
       "  simplezen: 1\n",
       "  equiareal: 0\n",
       "  conformal: 0\n",
       "     global: 0\n",
       "  divergent: 1\n",
       "         x0: 0.000000\n",
       "         y0: 0.000000\n",
       "        err: 0x0\n",
       "        w[]:   0.0000       0.0000       0.0000       0.0000       0.0000    \n",
       "               0.0000       0.0000       0.0000       0.0000       0.0000    \n",
       "          m: 0\n",
       "          n: 0\n",
       "     prjx2s: 0x7f8c28873af0\n",
       "     prjs2x: 0x7f8c28873ef0\n",
       "\n",
       "   spc.*\n",
       "       flag: 0\n",
       "       type: \"    \"\n",
       "       code: \"   \"\n",
       "      crval: UNDEFINED\n",
       "    restfrq: 0.000000\n",
       "    restwav: 0.000000\n",
       "         pv: (not used)\n",
       "          w:   0.0000       0.0000       0.0000      (remainder unused)\n",
       "    isGrism: 0\n",
       "        err: 0x0\n",
       "     spxX2P: 0x0\n",
       "     spxP2S: 0x0\n",
       "     spxS2P: 0x0\n",
       "     spxP2X: 0x0"
      ]
     },
     "execution_count": 35,
     "metadata": {},
     "output_type": "execute_result"
    }
   ],
   "source": [
    "o_wcs.wcs"
   ]
  },
  {
   "cell_type": "code",
   "execution_count": 38,
   "metadata": {
    "ExecuteTime": {
     "end_time": "2020-08-04T17:50:52.200693Z",
     "start_time": "2020-08-04T17:50:52.191580Z"
    }
   },
   "outputs": [
    {
     "data": {
      "text/plain": [
       "0.13750020000000002"
      ]
     },
     "execution_count": 38,
     "metadata": {},
     "output_type": "execute_result"
    }
   ],
   "source": [
    "180 * 0.00076389 "
   ]
  },
  {
   "cell_type": "code",
   "execution_count": 16,
   "metadata": {
    "ExecuteTime": {
     "end_time": "2020-08-05T08:11:58.994048Z",
     "start_time": "2020-08-05T08:11:58.985157Z"
    }
   },
   "outputs": [],
   "source": [
    "def dist_from_center(wcs_proj):\n",
    "    pixels = np.array([[0, wcs_proj.wcs.crpix[0]], wcs_proj.wcs.crpix], dtype=int)\n",
    "    pixels_t = c_wcs.all_pix2world(pixels[:, 0], pixels[:, 1], 0)\n",
    "    sc = SkyCoord(ra=pixels_t[0]*u.degree, dec=pixels_t[1]*u.degree, frame='icrs')\n",
    "    return sc[0].separation(sc[1]).degree"
   ]
  },
  {
   "cell_type": "code",
   "execution_count": 19,
   "metadata": {
    "ExecuteTime": {
     "end_time": "2020-08-05T08:12:16.475523Z",
     "start_time": "2020-08-05T08:12:16.457774Z"
    }
   },
   "outputs": [
    {
     "data": {
      "text/plain": [
       "1.1376284753016908"
      ]
     },
     "execution_count": 19,
     "metadata": {},
     "output_type": "execute_result"
    }
   ],
   "source": [
    "dist_from_center(c_wcs)"
   ]
  },
  {
   "cell_type": "code",
   "execution_count": 7,
   "metadata": {
    "ExecuteTime": {
     "end_time": "2020-08-05T08:08:20.026084Z",
     "start_time": "2020-08-05T08:08:20.014155Z"
    }
   },
   "outputs": [
    {
     "data": {
      "text/plain": [
       "1.6086385730354449"
      ]
     },
     "execution_count": 7,
     "metadata": {},
     "output_type": "execute_result"
    }
   ],
   "source": [
    "dist_from_center(o_wcs)"
   ]
  },
  {
   "cell_type": "code",
   "execution_count": 12,
   "metadata": {
    "ExecuteTime": {
     "end_time": "2020-08-05T08:09:06.836903Z",
     "start_time": "2020-08-05T08:09:06.825507Z"
    }
   },
   "outputs": [
    {
     "data": {
      "text/plain": [
       "array([[-0.00076389,  0.        ],\n",
       "       [ 0.        ,  0.00076389]])"
      ]
     },
     "execution_count": 12,
     "metadata": {},
     "output_type": "execute_result"
    }
   ],
   "source": [
    "c_wcs.wcs.cd"
   ]
  },
  {
   "cell_type": "code",
   "execution_count": 13,
   "metadata": {
    "ExecuteTime": {
     "end_time": "2020-08-05T08:09:21.812736Z",
     "start_time": "2020-08-05T08:09:21.802880Z"
    }
   },
   "outputs": [
    {
     "data": {
      "text/plain": [
       "array([[-0.00076389,  0.        ],\n",
       "       [ 0.        ,  0.00076389]])"
      ]
     },
     "execution_count": 13,
     "metadata": {},
     "output_type": "execute_result"
    }
   ],
   "source": [
    "o_wcs.wcs.cd"
   ]
  },
  {
   "cell_type": "code",
   "execution_count": 18,
   "metadata": {
    "ExecuteTime": {
     "end_time": "2020-08-05T08:12:12.127063Z",
     "start_time": "2020-08-05T08:12:12.122175Z"
    }
   },
   "outputs": [],
   "source": [
    "c_wcs.wcs.cd /= 2"
   ]
  },
  {
   "cell_type": "code",
   "execution_count": null,
   "metadata": {},
   "outputs": [],
   "source": []
  }
 ],
 "metadata": {
  "kernelspec": {
   "display_name": "Python 3",
   "language": "python",
   "name": "python3"
  },
  "language_info": {
   "codemirror_mode": {
    "name": "ipython",
    "version": 3
   },
   "file_extension": ".py",
   "mimetype": "text/x-python",
   "name": "python",
   "nbconvert_exporter": "python",
   "pygments_lexer": "ipython3",
   "version": "3.8.3"
  }
 },
 "nbformat": 4,
 "nbformat_minor": 4
}
