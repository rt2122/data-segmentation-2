{
 "cells": [
  {
   "cell_type": "code",
   "execution_count": 1,
   "metadata": {
    "ExecuteTime": {
     "end_time": "2020-08-10T05:17:48.259277Z",
     "start_time": "2020-08-10T05:17:47.148048Z"
    }
   },
   "outputs": [],
   "source": [
    "import pandas as pd\n",
    "import numpy as np\n",
    "from tqdm.notebook import tqdm \n",
    "from DS_WCS_projections import *\n",
    "import DS_Coma_Cluster_param as cc_prm\n",
    "from DS_data_transformation import *\n",
    "from astropy.coordinates import SkyCoord\n",
    "from astropy import units as u\n",
    "from skimage.filters import gaussian\n",
    "from skimage.draw import circle_perimeter"
   ]
  },
  {
   "cell_type": "code",
   "execution_count": 2,
   "metadata": {
    "ExecuteTime": {
     "end_time": "2020-08-10T05:18:03.949975Z",
     "start_time": "2020-08-10T05:17:48.260789Z"
    }
   },
   "outputs": [
    {
     "name": "stdout",
     "output_type": "stream",
     "text": [
      "(908997, 120)\n"
     ]
    },
    {
     "data": {
      "text/html": [
       "<div>\n",
       "<style scoped>\n",
       "    .dataframe tbody tr th:only-of-type {\n",
       "        vertical-align: middle;\n",
       "    }\n",
       "\n",
       "    .dataframe tbody tr th {\n",
       "        vertical-align: top;\n",
       "    }\n",
       "\n",
       "    .dataframe thead th {\n",
       "        text-align: right;\n",
       "    }\n",
       "</style>\n",
       "<table border=\"1\" class=\"dataframe\">\n",
       "  <thead>\n",
       "    <tr style=\"text-align: right;\">\n",
       "      <th></th>\n",
       "      <th>RELEASE</th>\n",
       "      <th>BRICKID</th>\n",
       "      <th>BRICKNAME</th>\n",
       "      <th>OBJID</th>\n",
       "      <th>TYPE</th>\n",
       "      <th>RA</th>\n",
       "      <th>DEC</th>\n",
       "      <th>RA_IVAR</th>\n",
       "      <th>DEC_IVAR</th>\n",
       "      <th>EBV</th>\n",
       "      <th>...</th>\n",
       "      <th>GAIA_ASTROMETRIC_SIGMA5D_MAX</th>\n",
       "      <th>GAIA_ASTROMETRIC_PARAMS_SOLVED</th>\n",
       "      <th>PARALLAX</th>\n",
       "      <th>PARALLAX_IVAR</th>\n",
       "      <th>PMRA</th>\n",
       "      <th>PMRA_IVAR</th>\n",
       "      <th>PMDEC</th>\n",
       "      <th>PMDEC_IVAR</th>\n",
       "      <th>MASKBITS</th>\n",
       "      <th>phot_is_star_gaia</th>\n",
       "    </tr>\n",
       "  </thead>\n",
       "  <tbody>\n",
       "    <tr>\n",
       "      <th>0</th>\n",
       "      <td>8000</td>\n",
       "      <td>483713</td>\n",
       "      <td>1944p275</td>\n",
       "      <td>0</td>\n",
       "      <td>DEV</td>\n",
       "      <td>194.370715</td>\n",
       "      <td>27.376434</td>\n",
       "      <td>7.766236e+10</td>\n",
       "      <td>5.132580e+10</td>\n",
       "      <td>0.010509</td>\n",
       "      <td>...</td>\n",
       "      <td>0.0</td>\n",
       "      <td>0</td>\n",
       "      <td>0.0</td>\n",
       "      <td>0.0</td>\n",
       "      <td>0.0</td>\n",
       "      <td>0.0</td>\n",
       "      <td>0.0</td>\n",
       "      <td>0.0</td>\n",
       "      <td>0</td>\n",
       "      <td>0</td>\n",
       "    </tr>\n",
       "    <tr>\n",
       "      <th>1</th>\n",
       "      <td>8000</td>\n",
       "      <td>483713</td>\n",
       "      <td>1944p275</td>\n",
       "      <td>1</td>\n",
       "      <td>PSF</td>\n",
       "      <td>194.375536</td>\n",
       "      <td>27.377389</td>\n",
       "      <td>6.551291e+10</td>\n",
       "      <td>5.075641e+10</td>\n",
       "      <td>0.010561</td>\n",
       "      <td>...</td>\n",
       "      <td>0.0</td>\n",
       "      <td>0</td>\n",
       "      <td>0.0</td>\n",
       "      <td>0.0</td>\n",
       "      <td>0.0</td>\n",
       "      <td>0.0</td>\n",
       "      <td>0.0</td>\n",
       "      <td>0.0</td>\n",
       "      <td>4096</td>\n",
       "      <td>0</td>\n",
       "    </tr>\n",
       "    <tr>\n",
       "      <th>2</th>\n",
       "      <td>8000</td>\n",
       "      <td>483713</td>\n",
       "      <td>1944p275</td>\n",
       "      <td>3</td>\n",
       "      <td>REX</td>\n",
       "      <td>194.377318</td>\n",
       "      <td>27.377674</td>\n",
       "      <td>8.259466e+09</td>\n",
       "      <td>7.358640e+09</td>\n",
       "      <td>0.010576</td>\n",
       "      <td>...</td>\n",
       "      <td>0.0</td>\n",
       "      <td>0</td>\n",
       "      <td>0.0</td>\n",
       "      <td>0.0</td>\n",
       "      <td>0.0</td>\n",
       "      <td>0.0</td>\n",
       "      <td>0.0</td>\n",
       "      <td>0.0</td>\n",
       "      <td>0</td>\n",
       "      <td>0</td>\n",
       "    </tr>\n",
       "    <tr>\n",
       "      <th>3</th>\n",
       "      <td>8000</td>\n",
       "      <td>483713</td>\n",
       "      <td>1944p275</td>\n",
       "      <td>4</td>\n",
       "      <td>REX</td>\n",
       "      <td>194.368014</td>\n",
       "      <td>27.376374</td>\n",
       "      <td>1.218444e+10</td>\n",
       "      <td>1.040580e+10</td>\n",
       "      <td>0.010495</td>\n",
       "      <td>...</td>\n",
       "      <td>0.0</td>\n",
       "      <td>0</td>\n",
       "      <td>0.0</td>\n",
       "      <td>0.0</td>\n",
       "      <td>0.0</td>\n",
       "      <td>0.0</td>\n",
       "      <td>0.0</td>\n",
       "      <td>0.0</td>\n",
       "      <td>0</td>\n",
       "      <td>0</td>\n",
       "    </tr>\n",
       "    <tr>\n",
       "      <th>4</th>\n",
       "      <td>8000</td>\n",
       "      <td>483713</td>\n",
       "      <td>1944p275</td>\n",
       "      <td>5</td>\n",
       "      <td>PSF</td>\n",
       "      <td>194.376378</td>\n",
       "      <td>27.378784</td>\n",
       "      <td>1.483136e+09</td>\n",
       "      <td>1.303248e+09</td>\n",
       "      <td>0.010614</td>\n",
       "      <td>...</td>\n",
       "      <td>0.0</td>\n",
       "      <td>0</td>\n",
       "      <td>0.0</td>\n",
       "      <td>0.0</td>\n",
       "      <td>0.0</td>\n",
       "      <td>0.0</td>\n",
       "      <td>0.0</td>\n",
       "      <td>0.0</td>\n",
       "      <td>0</td>\n",
       "      <td>0</td>\n",
       "    </tr>\n",
       "  </tbody>\n",
       "</table>\n",
       "<p>5 rows × 120 columns</p>\n",
       "</div>"
      ],
      "text/plain": [
       "   RELEASE  BRICKID BRICKNAME  OBJID  TYPE          RA        DEC  \\\n",
       "0     8000   483713  1944p275      0  DEV   194.370715  27.376434   \n",
       "1     8000   483713  1944p275      1  PSF   194.375536  27.377389   \n",
       "2     8000   483713  1944p275      3  REX   194.377318  27.377674   \n",
       "3     8000   483713  1944p275      4  REX   194.368014  27.376374   \n",
       "4     8000   483713  1944p275      5  PSF   194.376378  27.378784   \n",
       "\n",
       "        RA_IVAR      DEC_IVAR       EBV  ...  GAIA_ASTROMETRIC_SIGMA5D_MAX  \\\n",
       "0  7.766236e+10  5.132580e+10  0.010509  ...                           0.0   \n",
       "1  6.551291e+10  5.075641e+10  0.010561  ...                           0.0   \n",
       "2  8.259466e+09  7.358640e+09  0.010576  ...                           0.0   \n",
       "3  1.218444e+10  1.040580e+10  0.010495  ...                           0.0   \n",
       "4  1.483136e+09  1.303248e+09  0.010614  ...                           0.0   \n",
       "\n",
       "   GAIA_ASTROMETRIC_PARAMS_SOLVED  PARALLAX  PARALLAX_IVAR  PMRA  PMRA_IVAR  \\\n",
       "0                               0       0.0            0.0   0.0        0.0   \n",
       "1                               0       0.0            0.0   0.0        0.0   \n",
       "2                               0       0.0            0.0   0.0        0.0   \n",
       "3                               0       0.0            0.0   0.0        0.0   \n",
       "4                               0       0.0            0.0   0.0        0.0   \n",
       "\n",
       "   PMDEC  PMDEC_IVAR  MASKBITS  phot_is_star_gaia  \n",
       "0    0.0         0.0         0                  0  \n",
       "1    0.0         0.0      4096                  0  \n",
       "2    0.0         0.0         0                  0  \n",
       "3    0.0         0.0         0                  0  \n",
       "4    0.0         0.0         0                  0  \n",
       "\n",
       "[5 rows x 120 columns]"
      ]
     },
     "execution_count": 2,
     "metadata": {},
     "output_type": "execute_result"
    }
   ],
   "source": [
    "df = pd.read_csv('/home/rt2122/Data/coma_sweep/south/circle_2degree_filtered.csv')\n",
    "print(df.shape)\n",
    "df.head()"
   ]
  },
  {
   "cell_type": "code",
   "execution_count": 3,
   "metadata": {
    "ExecuteTime": {
     "end_time": "2020-08-10T05:18:03.954464Z",
     "start_time": "2020-08-10T05:18:03.951697Z"
    }
   },
   "outputs": [
    {
     "data": {
      "text/plain": [
       "(194.9356, 28.0256)"
      ]
     },
     "execution_count": 3,
     "metadata": {},
     "output_type": "execute_result"
    }
   ],
   "source": [
    "cc_prm.ra_center, cc_prm.dec_center"
   ]
  },
  {
   "cell_type": "code",
   "execution_count": 4,
   "metadata": {
    "ExecuteTime": {
     "end_time": "2020-08-10T05:18:04.087353Z",
     "start_time": "2020-08-10T05:18:03.955684Z"
    }
   },
   "outputs": [
    {
     "data": {
      "text/plain": [
       "259970"
      ]
     },
     "execution_count": 4,
     "metadata": {},
     "output_type": "execute_result"
    }
   ],
   "source": [
    "sc = SkyCoord(ra=np.array(df['RA'])*u.degree, \n",
    "              dec=np.array(df['DEC'])*u.degree, frame='icrs')\n",
    "sc_cen = SkyCoord(ra=cc_prm.ra_center*u.degree, \n",
    "                 dec=cc_prm.dec_center*u.degree, frame='icrs')\n",
    "in_rad = sc.separation(sc_cen).degree < cc_prm.radius\n",
    "np.count_nonzero(in_rad)"
   ]
  },
  {
   "cell_type": "code",
   "execution_count": 5,
   "metadata": {
    "ExecuteTime": {
     "end_time": "2020-08-10T05:18:04.168098Z",
     "start_time": "2020-08-10T05:18:04.088843Z"
    }
   },
   "outputs": [],
   "source": [
    "df = df[in_rad]\n",
    "df.index = np.arange(df.shape[0])"
   ]
  },
  {
   "cell_type": "code",
   "execution_count": 6,
   "metadata": {
    "ExecuteTime": {
     "end_time": "2020-08-10T05:18:29.176383Z",
     "start_time": "2020-08-10T05:18:29.156120Z"
    }
   },
   "outputs": [],
   "source": [
    "df_brighest = n_max_flux_df(df, 100, ['FLUX_G', 'FLUX_R', 'FLUX_Z'])"
   ]
  },
  {
   "cell_type": "code",
   "execution_count": 7,
   "metadata": {
    "ExecuteTime": {
     "end_time": "2020-08-10T05:18:40.805844Z",
     "start_time": "2020-08-10T05:18:40.787226Z"
    }
   },
   "outputs": [
    {
     "name": "stdout",
     "output_type": "stream",
     "text": [
      "(2048, 2048)\n"
     ]
    },
    {
     "name": "stderr",
     "output_type": "stream",
     "text": [
      "WARNING: FITSFixedWarning: 'cdfix' made the change 'Success'. [astropy.wcs.wcs]\n",
      "/home/rt2122/L/git/data-segmentation-2/modules/DS_WCS_projections.py:39: RuntimeWarning: cdelt will be ignored since cd is present\n",
      "  w1.wcs.cdelt = w.wcs.cdelt[:2]\n"
     ]
    },
    {
     "data": {
      "text/plain": [
       "1.1376284753016908"
      ]
     },
     "execution_count": 7,
     "metadata": {},
     "output_type": "execute_result"
    }
   ],
   "source": [
    "c_wcs = custom_wcs(cc_prm.ra_center, cc_prm.dec_center)\n",
    "print(c_wcs.array_shape)\n",
    "dist_from_center(c_wcs)"
   ]
  },
  {
   "cell_type": "code",
   "execution_count": 9,
   "metadata": {
    "ExecuteTime": {
     "end_time": "2020-08-10T05:18:57.338135Z",
     "start_time": "2020-08-10T05:18:57.327395Z"
    }
   },
   "outputs": [
    {
     "data": {
      "text/plain": [
       "(100, 2)"
      ]
     },
     "execution_count": 9,
     "metadata": {},
     "output_type": "execute_result"
    }
   ],
   "source": [
    "cur_pixels = c_wcs.all_world2pix(df_brighest['RA'], \n",
    "                                 df_brighest['DEC'], 0)\n",
    "cur_pixels = np.array(cur_pixels, dtype=np.int32).T\n",
    "cur_pixels.shape"
   ]
  },
  {
   "cell_type": "code",
   "execution_count": 12,
   "metadata": {
    "ExecuteTime": {
     "end_time": "2020-08-10T05:19:21.032065Z",
     "start_time": "2020-08-10T05:19:21.005860Z"
    }
   },
   "outputs": [],
   "source": [
    "pic_g = draw_circles(cur_pixels, np.array(df_brighest['FLUX_G']), (2048, 2048, 1), 0.01)"
   ]
  },
  {
   "cell_type": "code",
   "execution_count": 13,
   "metadata": {
    "ExecuteTime": {
     "end_time": "2020-08-10T05:19:22.278426Z",
     "start_time": "2020-08-10T05:19:21.364377Z"
    }
   },
   "outputs": [
    {
     "data": {
      "image/png": "[encoded data removed]",
      "text/plain": [
       "<Figure size 720x720 with 1 Axes>"
      ]
     },
     "metadata": {
      "needs_background": "light"
     },
     "output_type": "display_data"
    }
   ],
   "source": [
    "show_pic(pic_g[:,:,0], projection=c_wcs)"
   ]
  },
  {
   "cell_type": "code",
   "execution_count": 14,
   "metadata": {
    "ExecuteTime": {
     "end_time": "2020-08-10T05:19:30.411804Z",
     "start_time": "2020-08-10T05:19:30.328020Z"
    }
   },
   "outputs": [],
   "source": [
    "pic_grz = np.zeros((2048, 2048, 3))\n",
    "for num_ch, ch in enumerate(['FLUX_G', 'FLUX_R', 'FLUX_Z']):\n",
    "    df_brightest = n_max_flux_df(df, 20, ch)\n",
    "    pixels = c_wcs.all_world2pix(df_brightest['RA'], df_brightest['DEC'], 0)\n",
    "    pixels = np.array(pixels, dtype=np.int32).T\n",
    "    pic_grz[:,:,num_ch] = draw_circles(pixels, np.array(df_brightest[ch]), \n",
    "                                       (2048, 2048), 0.03)"
   ]
  },
  {
   "cell_type": "code",
   "execution_count": 15,
   "metadata": {
    "ExecuteTime": {
     "end_time": "2020-08-10T05:19:33.031943Z",
     "start_time": "2020-08-10T05:19:32.422123Z"
    }
   },
   "outputs": [
    {
     "name": "stderr",
     "output_type": "stream",
     "text": [
      "Clipping input data to the valid range for imshow with RGB data ([0..1] for floats or [0..255] for integers).\n"
     ]
    },
    {
     "data": {
      "image/png": "[encoded data removed]",
      "text/plain": [
       "<Figure size 720x720 with 1 Axes>"
      ]
     },
     "metadata": {
      "needs_background": "light"
     },
     "output_type": "display_data"
    }
   ],
   "source": [
    "show_pic(pic_grz, projection=c_wcs)"
   ]
  },
  {
   "cell_type": "code",
   "execution_count": 16,
   "metadata": {
    "ExecuteTime": {
     "end_time": "2020-08-10T05:19:53.978195Z",
     "start_time": "2020-08-10T05:19:52.614577Z"
    }
   },
   "outputs": [],
   "source": [
    "r500_pix = find_radius_wcs(cc_prm.r500, c_wcs)"
   ]
  },
  {
   "cell_type": "code",
   "execution_count": 17,
   "metadata": {
    "ExecuteTime": {
     "end_time": "2020-08-10T05:19:53.985422Z",
     "start_time": "2020-08-10T05:19:53.979389Z"
    }
   },
   "outputs": [],
   "source": [
    "circle_r500 = circle_perimeter(1024, 1024, r500_pix, shape=(2048, 2048, 3))"
   ]
  },
  {
   "cell_type": "code",
   "execution_count": 18,
   "metadata": {
    "ExecuteTime": {
     "end_time": "2020-08-10T05:19:54.442942Z",
     "start_time": "2020-08-10T05:19:54.438646Z"
    }
   },
   "outputs": [],
   "source": [
    "pic_grz[circle_r500] = 1"
   ]
  },
  {
   "cell_type": "code",
   "execution_count": 19,
   "metadata": {
    "ExecuteTime": {
     "end_time": "2020-08-10T05:19:56.364531Z",
     "start_time": "2020-08-10T05:19:55.770151Z"
    }
   },
   "outputs": [
    {
     "name": "stderr",
     "output_type": "stream",
     "text": [
      "Clipping input data to the valid range for imshow with RGB data ([0..1] for floats or [0..255] for integers).\n"
     ]
    },
    {
     "data": {
      "image/png": "[encoded data removed]",
      "text/plain": [
       "<Figure size 720x720 with 1 Axes>"
      ]
     },
     "metadata": {
      "needs_background": "light"
     },
     "output_type": "display_data"
    }
   ],
   "source": [
    "show_pic(pic_grz, projection=c_wcs)"
   ]
  },
  {
   "cell_type": "code",
   "execution_count": 33,
   "metadata": {
    "ExecuteTime": {
     "end_time": "2020-08-09T08:40:54.339413Z",
     "start_time": "2020-08-09T08:40:54.208829Z"
    }
   },
   "outputs": [],
   "source": [
    "pic_g_2 = np.zeros((2048, 2048, 3))\n",
    "flux_list = ['FLUX_G', 'FLUX_R', 'FLUX_Z']\n",
    "for num_ch, ch in enumerate(flux_list):\n",
    "    df_brightest = n_max_flux_df(df, 20, [ch, flux_list[(num_ch + 1) % 3]])\n",
    "    pixels = c_wcs.all_world2pix(df_brightest['RA'], df_brightest['DEC'], 0)\n",
    "    pixels = np.array(pixels, dtype=np.int32).T\n",
    "    pic_g_2[:,:,num_ch] = draw_circles(pixels, np.array(df_brightest['FLUX_G']), \n",
    "                                       (2048, 2048), 0.03)"
   ]
  },
  {
   "cell_type": "code",
   "execution_count": 36,
   "metadata": {
    "ExecuteTime": {
     "end_time": "2020-08-09T08:41:23.464047Z",
     "start_time": "2020-08-09T08:41:22.850310Z"
    }
   },
   "outputs": [
    {
     "name": "stderr",
     "output_type": "stream",
     "text": [
      "Clipping input data to the valid range for imshow with RGB data ([0..1] for floats or [0..255] for integers).\n"
     ]
    },
    {
     "data": {
      "image/png": "[encoded data removed]",
      "text/plain": [
       "<Figure size 720x720 with 1 Axes>"
      ]
     },
     "metadata": {
      "needs_background": "light"
     },
     "output_type": "display_data"
    }
   ],
   "source": [
    "pic_g_2[circle_r500] = 1\n",
    "show_pic(pic_g_2, projection=c_wcs)"
   ]
  },
  {
   "cell_type": "code",
   "execution_count": 37,
   "metadata": {
    "ExecuteTime": {
     "end_time": "2020-08-09T08:47:27.974453Z",
     "start_time": "2020-08-09T08:47:27.826902Z"
    }
   },
   "outputs": [],
   "source": [
    "pic_grz_3 = np.zeros((2048, 2048, 3))\n",
    "flux_list = ['FLUX_G', 'FLUX_R', 'FLUX_Z']\n",
    "for num_ch, ch in enumerate(flux_list):\n",
    "    df_brightest = n_max_flux_df(df, 20, flux_list)\n",
    "    pixels = c_wcs.all_world2pix(df_brightest['RA'], df_brightest['DEC'], 0)\n",
    "    pixels = np.array(pixels, dtype=np.int32).T\n",
    "    pic_grz_3[:,:,num_ch] = draw_circles(pixels, np.array(df_brightest[ch]), \n",
    "                                       (2048, 2048), 0.03)"
   ]
  },
  {
   "cell_type": "code",
   "execution_count": 38,
   "metadata": {
    "ExecuteTime": {
     "end_time": "2020-08-09T08:47:50.379336Z",
     "start_time": "2020-08-09T08:47:49.767850Z"
    }
   },
   "outputs": [
    {
     "name": "stderr",
     "output_type": "stream",
     "text": [
      "Clipping input data to the valid range for imshow with RGB data ([0..1] for floats or [0..255] for integers).\n"
     ]
    },
    {
     "data": {
      "image/png": "[encoded data removed]",
      "text/plain": [
       "<Figure size 720x720 with 1 Axes>"
      ]
     },
     "metadata": {
      "needs_background": "light"
     },
     "output_type": "display_data"
    }
   ],
   "source": [
    "pic_grz_3[circle_r500] = 1\n",
    "show_pic(pic_grz_3, projection=c_wcs)"
   ]
  },
  {
   "cell_type": "code",
   "execution_count": null,
   "metadata": {},
   "outputs": [],
   "source": []
  }
 ],
 "metadata": {
  "kernelspec": {
   "display_name": "Python 3",
   "language": "python",
   "name": "python3"
  },
  "language_info": {
   "codemirror_mode": {
    "name": "ipython",
    "version": 3
   },
   "file_extension": ".py",
   "mimetype": "text/x-python",
   "name": "python",
   "nbconvert_exporter": "python",
   "pygments_lexer": "ipython3",
   "version": "3.8.3"
  }
 },
 "nbformat": 4,
 "nbformat_minor": 4
}
