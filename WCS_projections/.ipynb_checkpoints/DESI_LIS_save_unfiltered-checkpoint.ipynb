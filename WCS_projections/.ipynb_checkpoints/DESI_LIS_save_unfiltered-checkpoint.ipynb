{
 "cells": [
  {
   "cell_type": "code",
   "execution_count": 2,
   "metadata": {
    "ExecuteTime": {
     "end_time": "2020-08-08T15:33:33.171378Z",
     "start_time": "2020-08-08T15:33:33.163987Z"
    }
   },
   "outputs": [],
   "source": [
    "from DS_WCS_projections import *\n",
    "import DS_Coma_Cluster_param as cc_prm\n",
    "from DS_healpix_fragmentation import n_max_flux_df\n",
    "import numpy as np\n",
    "import pandas as pd\n",
    "from astropy.io import fits\n",
    "from astropy.coordinates import SkyCoord\n",
    "from astropy import units as u"
   ]
  },
  {
   "cell_type": "code",
   "execution_count": 6,
   "metadata": {
    "ExecuteTime": {
     "end_time": "2020-08-08T15:34:53.615145Z",
     "start_time": "2020-08-08T15:34:21.889545Z"
    }
   },
   "outputs": [],
   "source": [
    "df = fits2df('/home/rt2122/Data/coma_sweep/south/sweep-190p025-200p030.fits')"
   ]
  },
  {
   "cell_type": "code",
   "execution_count": 7,
   "metadata": {
    "ExecuteTime": {
     "end_time": "2020-08-08T15:36:13.267989Z",
     "start_time": "2020-08-08T15:36:13.194739Z"
    }
   },
   "outputs": [
    {
     "name": "stdout",
     "output_type": "stream",
     "text": [
      "(3249602, 119)\n"
     ]
    },
    {
     "data": {
      "text/html": [
       "<div>\n",
       "<style scoped>\n",
       "    .dataframe tbody tr th:only-of-type {\n",
       "        vertical-align: middle;\n",
       "    }\n",
       "\n",
       "    .dataframe tbody tr th {\n",
       "        vertical-align: top;\n",
       "    }\n",
       "\n",
       "    .dataframe thead th {\n",
       "        text-align: right;\n",
       "    }\n",
       "</style>\n",
       "<table border=\"1\" class=\"dataframe\">\n",
       "  <thead>\n",
       "    <tr style=\"text-align: right;\">\n",
       "      <th></th>\n",
       "      <th>RELEASE</th>\n",
       "      <th>BRICKID</th>\n",
       "      <th>BRICKNAME</th>\n",
       "      <th>OBJID</th>\n",
       "      <th>TYPE</th>\n",
       "      <th>RA</th>\n",
       "      <th>DEC</th>\n",
       "      <th>RA_IVAR</th>\n",
       "      <th>DEC_IVAR</th>\n",
       "      <th>EBV</th>\n",
       "      <th>...</th>\n",
       "      <th>GAIA_PHOT_BP_RP_EXCESS_FACTOR</th>\n",
       "      <th>GAIA_ASTROMETRIC_SIGMA5D_MAX</th>\n",
       "      <th>GAIA_ASTROMETRIC_PARAMS_SOLVED</th>\n",
       "      <th>PARALLAX</th>\n",
       "      <th>PARALLAX_IVAR</th>\n",
       "      <th>PMRA</th>\n",
       "      <th>PMRA_IVAR</th>\n",
       "      <th>PMDEC</th>\n",
       "      <th>PMDEC_IVAR</th>\n",
       "      <th>MASKBITS</th>\n",
       "    </tr>\n",
       "  </thead>\n",
       "  <tbody>\n",
       "    <tr>\n",
       "      <th>0</th>\n",
       "      <td>8000</td>\n",
       "      <td>478589</td>\n",
       "      <td>1993p265</td>\n",
       "      <td>0</td>\n",
       "      <td>EXP</td>\n",
       "      <td>199.330649</td>\n",
       "      <td>26.379275</td>\n",
       "      <td>2.119709e+11</td>\n",
       "      <td>3.096483e+11</td>\n",
       "      <td>0.014988</td>\n",
       "      <td>...</td>\n",
       "      <td>0.0</td>\n",
       "      <td>0.0</td>\n",
       "      <td>0</td>\n",
       "      <td>0.0</td>\n",
       "      <td>0.0</td>\n",
       "      <td>0.0</td>\n",
       "      <td>0.0</td>\n",
       "      <td>0.0</td>\n",
       "      <td>0.0</td>\n",
       "      <td>0</td>\n",
       "    </tr>\n",
       "    <tr>\n",
       "      <th>1</th>\n",
       "      <td>8000</td>\n",
       "      <td>478589</td>\n",
       "      <td>1993p265</td>\n",
       "      <td>2</td>\n",
       "      <td>PSF</td>\n",
       "      <td>199.329303</td>\n",
       "      <td>26.377979</td>\n",
       "      <td>3.810337e+09</td>\n",
       "      <td>2.796970e+09</td>\n",
       "      <td>0.014962</td>\n",
       "      <td>...</td>\n",
       "      <td>0.0</td>\n",
       "      <td>0.0</td>\n",
       "      <td>0</td>\n",
       "      <td>0.0</td>\n",
       "      <td>0.0</td>\n",
       "      <td>0.0</td>\n",
       "      <td>0.0</td>\n",
       "      <td>0.0</td>\n",
       "      <td>0.0</td>\n",
       "      <td>2048</td>\n",
       "    </tr>\n",
       "    <tr>\n",
       "      <th>2</th>\n",
       "      <td>8000</td>\n",
       "      <td>478589</td>\n",
       "      <td>1993p265</td>\n",
       "      <td>3</td>\n",
       "      <td>REX</td>\n",
       "      <td>199.328253</td>\n",
       "      <td>26.379562</td>\n",
       "      <td>1.667802e+09</td>\n",
       "      <td>1.268920e+09</td>\n",
       "      <td>0.014963</td>\n",
       "      <td>...</td>\n",
       "      <td>0.0</td>\n",
       "      <td>0.0</td>\n",
       "      <td>0</td>\n",
       "      <td>0.0</td>\n",
       "      <td>0.0</td>\n",
       "      <td>0.0</td>\n",
       "      <td>0.0</td>\n",
       "      <td>0.0</td>\n",
       "      <td>0.0</td>\n",
       "      <td>2048</td>\n",
       "    </tr>\n",
       "    <tr>\n",
       "      <th>3</th>\n",
       "      <td>8000</td>\n",
       "      <td>478589</td>\n",
       "      <td>1993p265</td>\n",
       "      <td>8</td>\n",
       "      <td>REX</td>\n",
       "      <td>199.360177</td>\n",
       "      <td>26.375551</td>\n",
       "      <td>5.944957e+09</td>\n",
       "      <td>4.856183e+09</td>\n",
       "      <td>0.015105</td>\n",
       "      <td>...</td>\n",
       "      <td>0.0</td>\n",
       "      <td>0.0</td>\n",
       "      <td>0</td>\n",
       "      <td>0.0</td>\n",
       "      <td>0.0</td>\n",
       "      <td>0.0</td>\n",
       "      <td>0.0</td>\n",
       "      <td>0.0</td>\n",
       "      <td>0.0</td>\n",
       "      <td>0</td>\n",
       "    </tr>\n",
       "    <tr>\n",
       "      <th>4</th>\n",
       "      <td>8000</td>\n",
       "      <td>478589</td>\n",
       "      <td>1993p265</td>\n",
       "      <td>9</td>\n",
       "      <td>REX</td>\n",
       "      <td>199.358510</td>\n",
       "      <td>26.375616</td>\n",
       "      <td>1.517739e+09</td>\n",
       "      <td>1.197460e+09</td>\n",
       "      <td>0.015109</td>\n",
       "      <td>...</td>\n",
       "      <td>0.0</td>\n",
       "      <td>0.0</td>\n",
       "      <td>0</td>\n",
       "      <td>0.0</td>\n",
       "      <td>0.0</td>\n",
       "      <td>0.0</td>\n",
       "      <td>0.0</td>\n",
       "      <td>0.0</td>\n",
       "      <td>0.0</td>\n",
       "      <td>0</td>\n",
       "    </tr>\n",
       "  </tbody>\n",
       "</table>\n",
       "<p>5 rows × 119 columns</p>\n",
       "</div>"
      ],
      "text/plain": [
       "   RELEASE  BRICKID BRICKNAME  OBJID  TYPE          RA        DEC  \\\n",
       "0     8000   478589  1993p265      0  EXP   199.330649  26.379275   \n",
       "1     8000   478589  1993p265      2  PSF   199.329303  26.377979   \n",
       "2     8000   478589  1993p265      3  REX   199.328253  26.379562   \n",
       "3     8000   478589  1993p265      8  REX   199.360177  26.375551   \n",
       "4     8000   478589  1993p265      9  REX   199.358510  26.375616   \n",
       "\n",
       "        RA_IVAR      DEC_IVAR       EBV  ...  GAIA_PHOT_BP_RP_EXCESS_FACTOR  \\\n",
       "0  2.119709e+11  3.096483e+11  0.014988  ...                            0.0   \n",
       "1  3.810337e+09  2.796970e+09  0.014962  ...                            0.0   \n",
       "2  1.667802e+09  1.268920e+09  0.014963  ...                            0.0   \n",
       "3  5.944957e+09  4.856183e+09  0.015105  ...                            0.0   \n",
       "4  1.517739e+09  1.197460e+09  0.015109  ...                            0.0   \n",
       "\n",
       "   GAIA_ASTROMETRIC_SIGMA5D_MAX  GAIA_ASTROMETRIC_PARAMS_SOLVED  PARALLAX  \\\n",
       "0                           0.0                               0       0.0   \n",
       "1                           0.0                               0       0.0   \n",
       "2                           0.0                               0       0.0   \n",
       "3                           0.0                               0       0.0   \n",
       "4                           0.0                               0       0.0   \n",
       "\n",
       "   PARALLAX_IVAR  PMRA  PMRA_IVAR  PMDEC  PMDEC_IVAR  MASKBITS  \n",
       "0            0.0   0.0        0.0    0.0         0.0         0  \n",
       "1            0.0   0.0        0.0    0.0         0.0      2048  \n",
       "2            0.0   0.0        0.0    0.0         0.0      2048  \n",
       "3            0.0   0.0        0.0    0.0         0.0         0  \n",
       "4            0.0   0.0        0.0    0.0         0.0         0  \n",
       "\n",
       "[5 rows x 119 columns]"
      ]
     },
     "execution_count": 7,
     "metadata": {},
     "output_type": "execute_result"
    }
   ],
   "source": [
    "print(df.shape)\n",
    "df.head()"
   ]
  },
  {
   "cell_type": "code",
   "execution_count": 5,
   "metadata": {
    "ExecuteTime": {
     "end_time": "2020-08-08T15:34:17.753653Z",
     "start_time": "2020-08-08T15:34:17.741616Z"
    }
   },
   "outputs": [],
   "source": [
    "def fits2df(fitsname):\n",
    "    from astropy.io import fits\n",
    "    from astropy.table import Table\n",
    "    \n",
    "    df = None\n",
    "    with fits.open(fitsname) as hdul:\n",
    "        tbl = Table(hdul[1].data)\n",
    "        names = [name for name in tbl.colnames if len(tbl[name].shape) <= 1]\n",
    "        df = tbl[names].to_pandas()\n",
    "    return df"
   ]
  },
  {
   "cell_type": "code",
   "execution_count": 9,
   "metadata": {
    "ExecuteTime": {
     "end_time": "2020-08-08T15:38:54.847471Z",
     "start_time": "2020-08-08T15:38:54.419046Z"
    }
   },
   "outputs": [
    {
     "name": "stdout",
     "output_type": "stream",
     "text": [
      "932855\n"
     ]
    }
   ],
   "source": [
    "sc = SkyCoord(ra=np.array(df['RA'])*u.degree, \n",
    "              dec=np.array(df['DEC'])*u.degree, frame='icrs')\n",
    "sc_cen = SkyCoord(ra=cc_prm.ra_center*u.degree, dec=cc_prm.dec_center*u.degree, \n",
    "                  frame='icrs')\n",
    "in_rad = sc.separation(sc_cen).degree < 2.0\n",
    "print(np.count_nonzero(in_rad))"
   ]
  },
  {
   "cell_type": "code",
   "execution_count": 10,
   "metadata": {
    "ExecuteTime": {
     "end_time": "2020-08-08T15:39:04.253791Z",
     "start_time": "2020-08-08T15:39:04.053599Z"
    }
   },
   "outputs": [],
   "source": [
    "df = df[in_rad]"
   ]
  },
  {
   "cell_type": "code",
   "execution_count": 11,
   "metadata": {
    "ExecuteTime": {
     "end_time": "2020-08-08T15:40:51.983610Z",
     "start_time": "2020-08-08T15:39:39.224769Z"
    }
   },
   "outputs": [],
   "source": [
    "df.to_csv('/home/rt2122/Data/coma_sweep/south/circle_2degree_unfiltered.csv', index=False)"
   ]
  },
  {
   "cell_type": "code",
   "execution_count": null,
   "metadata": {},
   "outputs": [],
   "source": [
    "df.index = np.arange(df.shape[0])"
   ]
  }
 ],
 "metadata": {
  "kernelspec": {
   "display_name": "Python 3",
   "language": "python",
   "name": "python3"
  },
  "language_info": {
   "codemirror_mode": {
    "name": "ipython",
    "version": 3
   },
   "file_extension": ".py",
   "mimetype": "text/x-python",
   "name": "python",
   "nbconvert_exporter": "python",
   "pygments_lexer": "ipython3",
   "version": "3.8.3"
  }
 },
 "nbformat": 4,
 "nbformat_minor": 4
}
