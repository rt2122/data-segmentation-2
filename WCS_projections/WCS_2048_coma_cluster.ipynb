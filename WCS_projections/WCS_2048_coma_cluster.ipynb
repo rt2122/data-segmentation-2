{
 "cells": [
  {
   "cell_type": "code",
   "execution_count": 1,
   "metadata": {
    "ExecuteTime": {
     "end_time": "2020-08-15T18:11:17.546995Z",
     "start_time": "2020-08-15T18:11:12.152220Z"
    }
   },
   "outputs": [],
   "source": [
    "import pandas as pd\n",
    "import numpy as np\n",
    "from DS_WCS_projections import *\n",
    "from DS_data_transformation import *\n",
    "import DS_Coma_Cluster_param as cc_prm"
   ]
  },
  {
   "cell_type": "code",
   "execution_count": 12,
   "metadata": {
    "ExecuteTime": {
     "end_time": "2020-08-15T18:14:52.695314Z",
     "start_time": "2020-08-15T18:14:52.674149Z"
    }
   },
   "outputs": [
    {
     "name": "stderr",
     "output_type": "stream",
     "text": [
      "WARNING: FITSFixedWarning: 'cdfix' made the change 'Success'. [astropy.wcs.wcs]\n",
      "/home/rt2122/L/git/data-segmentation-2/modules/DS_WCS_projections.py:39: RuntimeWarning: cdelt will be ignored since cd is present\n",
      "  w1.wcs.cdelt = w.wcs.cdelt[:2]\n"
     ]
    }
   ],
   "source": [
    "wcs = custom_wcs(cc_prm.ra_center, cc_prm.dec_center)"
   ]
  },
  {
   "cell_type": "code",
   "execution_count": 15,
   "metadata": {
    "ExecuteTime": {
     "end_time": "2020-08-15T17:47:35.736602Z",
     "start_time": "2020-08-15T17:47:35.709058Z"
    }
   },
   "outputs": [
    {
     "data": {
      "text/plain": [
       "1.0000008509437766"
      ]
     },
     "execution_count": 15,
     "metadata": {},
     "output_type": "execute_result"
    }
   ],
   "source": [
    "dist_between_pix([0, 0], [0, 1], wcs) / 1.561472637857801e-05"
   ]
  },
  {
   "cell_type": "code",
   "execution_count": 14,
   "metadata": {
    "ExecuteTime": {
     "end_time": "2020-08-15T17:47:34.665130Z",
     "start_time": "2020-08-15T17:47:34.653881Z"
    }
   },
   "outputs": [],
   "source": [
    "wcs.wcs.cd /= 2"
   ]
  },
  {
   "cell_type": "code",
   "execution_count": 10,
   "metadata": {
    "ExecuteTime": {
     "end_time": "2020-08-15T17:46:31.893458Z",
     "start_time": "2020-08-15T17:46:31.861085Z"
    }
   },
   "outputs": [
    {
     "data": {
      "text/plain": [
       "4.4978336663587194e-05"
      ]
     },
     "execution_count": 10,
     "metadata": {},
     "output_type": "execute_result"
    }
   ],
   "source": [
    "dist_between_pix([0, 0], [0, 1], wcs)"
   ]
  },
  {
   "cell_type": "code",
   "execution_count": 17,
   "metadata": {
    "ExecuteTime": {
     "end_time": "2020-08-15T17:49:34.712885Z",
     "start_time": "2020-08-15T17:49:34.708722Z"
    }
   },
   "outputs": [
    {
     "data": {
      "text/plain": [
       "array([[-1.56147415e-05,  0.00000000e+00],\n",
       "       [ 0.00000000e+00,  1.56147415e-05]])"
      ]
     },
     "execution_count": 17,
     "metadata": {},
     "output_type": "execute_result"
    }
   ],
   "source": [
    "wcs.wcs.cd"
   ]
  },
  {
   "cell_type": "code",
   "execution_count": 18,
   "metadata": {
    "ExecuteTime": {
     "end_time": "2020-08-15T17:50:00.953511Z",
     "start_time": "2020-08-15T17:50:00.931443Z"
    }
   },
   "outputs": [
    {
     "data": {
      "text/plain": [
       "1.5614739665832245e-05"
      ]
     },
     "execution_count": 18,
     "metadata": {},
     "output_type": "execute_result"
    }
   ],
   "source": [
    "dist_between_pix([0, 0], [0, 1], wcs)"
   ]
  },
  {
   "cell_type": "code",
   "execution_count": 6,
   "metadata": {
    "ExecuteTime": {
     "end_time": "2020-08-15T18:12:59.296463Z",
     "start_time": "2020-08-15T18:12:41.800297Z"
    }
   },
   "outputs": [],
   "source": [
    "df = pd.read_csv('/home/rt2122/Data/coma_sweep/south/circle_2degree_filtered.csv')\n",
    "df_max = n_max_flux_df(df, 100, ['FLUX_G', 'FLUX_R', 'FLUX_Z'])\n",
    "df_max.index = np.arange(df_max.shape[0])"
   ]
  },
  {
   "cell_type": "code",
   "execution_count": 19,
   "metadata": {
    "ExecuteTime": {
     "end_time": "2020-08-15T18:24:47.190927Z",
     "start_time": "2020-08-15T18:24:47.185284Z"
    }
   },
   "outputs": [],
   "source": [
    "pixels = wcs.all_world2pix(np.array(df_max['RA']), np.array(df_max['DEC']), 0)\n",
    "pixels = np.array(pixels, dtype=np.int32).T"
   ]
  },
  {
   "cell_type": "code",
   "execution_count": 20,
   "metadata": {
    "ExecuteTime": {
     "end_time": "2020-08-15T18:24:47.715929Z",
     "start_time": "2020-08-15T18:24:47.620612Z"
    }
   },
   "outputs": [],
   "source": [
    "pic_g = draw_circles(pixels, df_max['FLUX_G'], (2048, 2048, 1), 0.02)\n",
    "pic_r = draw_circles(pixels, df_max['FLUX_R'], (2048, 2048, 1), 0.02)\n",
    "pic_z = draw_circles(pixels, df_max['FLUX_Z'], (2048, 2048, 1), 0.02)"
   ]
  },
  {
   "cell_type": "code",
   "execution_count": 21,
   "metadata": {
    "ExecuteTime": {
     "end_time": "2020-08-15T18:24:49.931949Z",
     "start_time": "2020-08-15T18:24:49.174598Z"
    }
   },
   "outputs": [
    {
     "name": "stderr",
     "output_type": "stream",
     "text": [
      "Clipping input data to the valid range for imshow with RGB data ([0..1] for floats or [0..255] for integers).\n"
     ]
    },
    {
     "data": {
      "image/png": "[encoded data removed]",
      "text/plain": [
       "<Figure size 720x720 with 1 Axes>"
      ]
     },
     "metadata": {
      "needs_background": "light"
     },
     "output_type": "display_data"
    }
   ],
   "source": [
    "show_pic(np.flipud(np.rot90(np.dstack([pic_g, pic_r, pic_z]))), projection=wcs)"
   ]
  },
  {
   "cell_type": "code",
   "execution_count": 23,
   "metadata": {
    "ExecuteTime": {
     "end_time": "2020-08-15T17:54:04.772582Z",
     "start_time": "2020-08-15T17:54:04.765927Z"
    }
   },
   "outputs": [
    {
     "data": {
      "text/plain": [
       "0.0"
      ]
     },
     "execution_count": 23,
     "metadata": {},
     "output_type": "execute_result"
    }
   ],
   "source": [
    "pic_g.max()"
   ]
  },
  {
   "cell_type": "code",
   "execution_count": 24,
   "metadata": {
    "ExecuteTime": {
     "end_time": "2020-08-15T17:54:40.706418Z",
     "start_time": "2020-08-15T17:54:40.700840Z"
    }
   },
   "outputs": [
    {
     "data": {
      "text/plain": [
       "array([ 31486, -33004], dtype=int32)"
      ]
     },
     "execution_count": 24,
     "metadata": {},
     "output_type": "execute_result"
    }
   ],
   "source": [
    "pixels[0]"
   ]
  },
  {
   "cell_type": "code",
   "execution_count": 17,
   "metadata": {
    "ExecuteTime": {
     "end_time": "2020-08-15T18:24:04.023332Z",
     "start_time": "2020-08-15T18:24:04.019338Z"
    }
   },
   "outputs": [],
   "source": [
    "alpha = 0.5\n",
    "matr_rot = np.array([[np.cos(alpha), -np.sin(alpha)],\n",
    "                    [np.sin(alpha), np.cos(alpha)]])"
   ]
  },
  {
   "cell_type": "code",
   "execution_count": 4,
   "metadata": {
    "ExecuteTime": {
     "end_time": "2020-08-15T18:12:02.484369Z",
     "start_time": "2020-08-15T18:12:02.473952Z"
    }
   },
   "outputs": [
    {
     "data": {
      "text/plain": [
       "array([[-0.00111111,  0.        ],\n",
       "       [ 0.        ,  0.00111111]])"
      ]
     },
     "execution_count": 4,
     "metadata": {},
     "output_type": "execute_result"
    }
   ],
   "source": [
    "wcs.wcs.cd"
   ]
  },
  {
   "cell_type": "code",
   "execution_count": 18,
   "metadata": {
    "ExecuteTime": {
     "end_time": "2020-08-15T18:24:40.055005Z",
     "start_time": "2020-08-15T18:24:40.041323Z"
    }
   },
   "outputs": [
    {
     "data": {
      "text/plain": [
       "array([[-0.00097509,  0.00053269],\n",
       "       [ 0.00053269,  0.00097509]])"
      ]
     },
     "execution_count": 18,
     "metadata": {},
     "output_type": "execute_result"
    }
   ],
   "source": [
    "prim = np. array([[-0.00111111,  0.        ],\n",
    "                   [ 0.        ,  0.00111111]]) \n",
    "wcs.wcs.cd = np.dot(prim, matr_rot)\n",
    "wcs.wcs.cd"
   ]
  },
  {
   "cell_type": "code",
   "execution_count": null,
   "metadata": {},
   "outputs": [],
   "source": []
  }
 ],
 "metadata": {
  "kernelspec": {
   "display_name": "Python 3",
   "language": "python",
   "name": "python3"
  },
  "language_info": {
   "codemirror_mode": {
    "name": "ipython",
    "version": 3
   },
   "file_extension": ".py",
   "mimetype": "text/x-python",
   "name": "python",
   "nbconvert_exporter": "python",
   "pygments_lexer": "ipython3",
   "version": "3.8.3"
  }
 },
 "nbformat": 4,
 "nbformat_minor": 4
}
