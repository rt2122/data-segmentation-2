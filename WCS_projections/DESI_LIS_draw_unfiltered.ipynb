{
 "cells": [
  {
   "cell_type": "code",
   "execution_count": 1,
   "metadata": {
    "ExecuteTime": {
     "end_time": "2020-08-08T16:56:34.166267Z",
     "start_time": "2020-08-08T16:56:33.768254Z"
    }
   },
   "outputs": [],
   "source": [
    "import DS_Coma_Cluster_param as cc_prm\n",
    "from DS_WCS_projections import *\n",
    "from DS_healpix_fragmentation import n_max_flux_df\n",
    "import pandas as pd\n",
    "import numpy as np\n",
    "from skimage.draw import circle, circle_perimeter\n",
    "from matplotlib import pyplot as plt"
   ]
  },
  {
   "cell_type": "code",
   "execution_count": 2,
   "metadata": {
    "ExecuteTime": {
     "end_time": "2020-08-08T16:56:34.408144Z",
     "start_time": "2020-08-08T16:56:34.182706Z"
    }
   },
   "outputs": [
    {
     "name": "stderr",
     "output_type": "stream",
     "text": [
      "WARNING: FITSFixedWarning: 'cdfix' made the change 'Success'. [astropy.wcs.wcs]\n",
      "/home/rt2122/L/git/data-segmentation-2/modules/DS_WCS_projections.py:39: RuntimeWarning: cdelt will be ignored since cd is present\n",
      "  w1.wcs.cdelt = w.wcs.cdelt[:2]\n"
     ]
    }
   ],
   "source": [
    "c_wcs = custom_wcs(cc_prm.ra_center, cc_prm.dec_center)"
   ]
  },
  {
   "cell_type": "code",
   "execution_count": 3,
   "metadata": {
    "ExecuteTime": {
     "end_time": "2020-08-08T16:56:44.431734Z",
     "start_time": "2020-08-08T16:56:35.159057Z"
    }
   },
   "outputs": [
    {
     "data": {
      "text/html": [
       "<div>\n",
       "<style scoped>\n",
       "    .dataframe tbody tr th:only-of-type {\n",
       "        vertical-align: middle;\n",
       "    }\n",
       "\n",
       "    .dataframe tbody tr th {\n",
       "        vertical-align: top;\n",
       "    }\n",
       "\n",
       "    .dataframe thead th {\n",
       "        text-align: right;\n",
       "    }\n",
       "</style>\n",
       "<table border=\"1\" class=\"dataframe\">\n",
       "  <thead>\n",
       "    <tr style=\"text-align: right;\">\n",
       "      <th></th>\n",
       "      <th>RELEASE</th>\n",
       "      <th>BRICKID</th>\n",
       "      <th>BRICKNAME</th>\n",
       "      <th>OBJID</th>\n",
       "      <th>TYPE</th>\n",
       "      <th>RA</th>\n",
       "      <th>DEC</th>\n",
       "      <th>RA_IVAR</th>\n",
       "      <th>DEC_IVAR</th>\n",
       "      <th>EBV</th>\n",
       "      <th>...</th>\n",
       "      <th>GAIA_PHOT_BP_RP_EXCESS_FACTOR</th>\n",
       "      <th>GAIA_ASTROMETRIC_SIGMA5D_MAX</th>\n",
       "      <th>GAIA_ASTROMETRIC_PARAMS_SOLVED</th>\n",
       "      <th>PARALLAX</th>\n",
       "      <th>PARALLAX_IVAR</th>\n",
       "      <th>PMRA</th>\n",
       "      <th>PMRA_IVAR</th>\n",
       "      <th>PMDEC</th>\n",
       "      <th>PMDEC_IVAR</th>\n",
       "      <th>MASKBITS</th>\n",
       "    </tr>\n",
       "  </thead>\n",
       "  <tbody>\n",
       "    <tr>\n",
       "      <th>0</th>\n",
       "      <td>8000</td>\n",
       "      <td>483713</td>\n",
       "      <td>1944p275</td>\n",
       "      <td>0</td>\n",
       "      <td>DEV</td>\n",
       "      <td>194.370715</td>\n",
       "      <td>27.376434</td>\n",
       "      <td>7.766236e+10</td>\n",
       "      <td>5.132580e+10</td>\n",
       "      <td>0.010509</td>\n",
       "      <td>...</td>\n",
       "      <td>0.0</td>\n",
       "      <td>0.0</td>\n",
       "      <td>0</td>\n",
       "      <td>0.0</td>\n",
       "      <td>0.0</td>\n",
       "      <td>0.0</td>\n",
       "      <td>0.0</td>\n",
       "      <td>0.0</td>\n",
       "      <td>0.0</td>\n",
       "      <td>0</td>\n",
       "    </tr>\n",
       "    <tr>\n",
       "      <th>1</th>\n",
       "      <td>8000</td>\n",
       "      <td>483713</td>\n",
       "      <td>1944p275</td>\n",
       "      <td>1</td>\n",
       "      <td>PSF</td>\n",
       "      <td>194.375536</td>\n",
       "      <td>27.377389</td>\n",
       "      <td>6.551291e+10</td>\n",
       "      <td>5.075641e+10</td>\n",
       "      <td>0.010561</td>\n",
       "      <td>...</td>\n",
       "      <td>0.0</td>\n",
       "      <td>0.0</td>\n",
       "      <td>0</td>\n",
       "      <td>0.0</td>\n",
       "      <td>0.0</td>\n",
       "      <td>0.0</td>\n",
       "      <td>0.0</td>\n",
       "      <td>0.0</td>\n",
       "      <td>0.0</td>\n",
       "      <td>4096</td>\n",
       "    </tr>\n",
       "    <tr>\n",
       "      <th>2</th>\n",
       "      <td>8000</td>\n",
       "      <td>483713</td>\n",
       "      <td>1944p275</td>\n",
       "      <td>3</td>\n",
       "      <td>REX</td>\n",
       "      <td>194.377318</td>\n",
       "      <td>27.377674</td>\n",
       "      <td>8.259466e+09</td>\n",
       "      <td>7.358640e+09</td>\n",
       "      <td>0.010576</td>\n",
       "      <td>...</td>\n",
       "      <td>0.0</td>\n",
       "      <td>0.0</td>\n",
       "      <td>0</td>\n",
       "      <td>0.0</td>\n",
       "      <td>0.0</td>\n",
       "      <td>0.0</td>\n",
       "      <td>0.0</td>\n",
       "      <td>0.0</td>\n",
       "      <td>0.0</td>\n",
       "      <td>0</td>\n",
       "    </tr>\n",
       "    <tr>\n",
       "      <th>3</th>\n",
       "      <td>8000</td>\n",
       "      <td>483713</td>\n",
       "      <td>1944p275</td>\n",
       "      <td>4</td>\n",
       "      <td>REX</td>\n",
       "      <td>194.368014</td>\n",
       "      <td>27.376374</td>\n",
       "      <td>1.218444e+10</td>\n",
       "      <td>1.040580e+10</td>\n",
       "      <td>0.010495</td>\n",
       "      <td>...</td>\n",
       "      <td>0.0</td>\n",
       "      <td>0.0</td>\n",
       "      <td>0</td>\n",
       "      <td>0.0</td>\n",
       "      <td>0.0</td>\n",
       "      <td>0.0</td>\n",
       "      <td>0.0</td>\n",
       "      <td>0.0</td>\n",
       "      <td>0.0</td>\n",
       "      <td>0</td>\n",
       "    </tr>\n",
       "    <tr>\n",
       "      <th>4</th>\n",
       "      <td>8000</td>\n",
       "      <td>483713</td>\n",
       "      <td>1944p275</td>\n",
       "      <td>5</td>\n",
       "      <td>PSF</td>\n",
       "      <td>194.376378</td>\n",
       "      <td>27.378784</td>\n",
       "      <td>1.483136e+09</td>\n",
       "      <td>1.303248e+09</td>\n",
       "      <td>0.010614</td>\n",
       "      <td>...</td>\n",
       "      <td>0.0</td>\n",
       "      <td>0.0</td>\n",
       "      <td>0</td>\n",
       "      <td>0.0</td>\n",
       "      <td>0.0</td>\n",
       "      <td>0.0</td>\n",
       "      <td>0.0</td>\n",
       "      <td>0.0</td>\n",
       "      <td>0.0</td>\n",
       "      <td>0</td>\n",
       "    </tr>\n",
       "  </tbody>\n",
       "</table>\n",
       "<p>5 rows × 119 columns</p>\n",
       "</div>"
      ],
      "text/plain": [
       "   RELEASE  BRICKID BRICKNAME  OBJID  TYPE          RA        DEC  \\\n",
       "0     8000   483713  1944p275      0  DEV   194.370715  27.376434   \n",
       "1     8000   483713  1944p275      1  PSF   194.375536  27.377389   \n",
       "2     8000   483713  1944p275      3  REX   194.377318  27.377674   \n",
       "3     8000   483713  1944p275      4  REX   194.368014  27.376374   \n",
       "4     8000   483713  1944p275      5  PSF   194.376378  27.378784   \n",
       "\n",
       "        RA_IVAR      DEC_IVAR       EBV  ...  GAIA_PHOT_BP_RP_EXCESS_FACTOR  \\\n",
       "0  7.766236e+10  5.132580e+10  0.010509  ...                            0.0   \n",
       "1  6.551291e+10  5.075641e+10  0.010561  ...                            0.0   \n",
       "2  8.259466e+09  7.358640e+09  0.010576  ...                            0.0   \n",
       "3  1.218444e+10  1.040580e+10  0.010495  ...                            0.0   \n",
       "4  1.483136e+09  1.303248e+09  0.010614  ...                            0.0   \n",
       "\n",
       "   GAIA_ASTROMETRIC_SIGMA5D_MAX  GAIA_ASTROMETRIC_PARAMS_SOLVED  PARALLAX  \\\n",
       "0                           0.0                               0       0.0   \n",
       "1                           0.0                               0       0.0   \n",
       "2                           0.0                               0       0.0   \n",
       "3                           0.0                               0       0.0   \n",
       "4                           0.0                               0       0.0   \n",
       "\n",
       "   PARALLAX_IVAR  PMRA  PMRA_IVAR  PMDEC  PMDEC_IVAR  MASKBITS  \n",
       "0            0.0   0.0        0.0    0.0         0.0         0  \n",
       "1            0.0   0.0        0.0    0.0         0.0      4096  \n",
       "2            0.0   0.0        0.0    0.0         0.0         0  \n",
       "3            0.0   0.0        0.0    0.0         0.0         0  \n",
       "4            0.0   0.0        0.0    0.0         0.0         0  \n",
       "\n",
       "[5 rows x 119 columns]"
      ]
     },
     "execution_count": 3,
     "metadata": {},
     "output_type": "execute_result"
    }
   ],
   "source": [
    "desi_lis_data = pd.read_csv('/home/rt2122/Data/coma_sweep/south/circle_2degree_unfiltered.csv')\n",
    "desi_lis_data.head()"
   ]
  },
  {
   "cell_type": "code",
   "execution_count": 4,
   "metadata": {
    "ExecuteTime": {
     "end_time": "2020-08-08T16:56:44.486575Z",
     "start_time": "2020-08-08T16:56:44.433477Z"
    }
   },
   "outputs": [],
   "source": [
    "desi_lis_brightest = n_max_flux_df(desi_lis_data, 30, ['FLUX_G', 'FLUX_R', 'FLUX_Z'])"
   ]
  },
  {
   "cell_type": "code",
   "execution_count": 5,
   "metadata": {
    "ExecuteTime": {
     "end_time": "2020-08-08T16:56:44.540829Z",
     "start_time": "2020-08-08T16:56:44.487779Z"
    }
   },
   "outputs": [],
   "source": [
    "def draw_circles(coords, data, shape, coef):\n",
    "    coef = shape[0] * coef / max(data)\n",
    "    pic = np.zeros(shape)\n",
    "    for i in range(len(data)):\n",
    "        x, y = coords[i]\n",
    "        circle_coords = circle(x, y, coef*data[i], shape=shape)\n",
    "        pic[circle_coords] += 1\n",
    "    return pic"
   ]
  },
  {
   "cell_type": "code",
   "execution_count": 6,
   "metadata": {
    "ExecuteTime": {
     "end_time": "2020-08-08T16:56:45.121621Z",
     "start_time": "2020-08-08T16:56:45.112474Z"
    }
   },
   "outputs": [],
   "source": [
    "pix_coords = c_wcs.all_world2pix(desi_lis_brightest['RA'], desi_lis_brightest['DEC'], 0)\n",
    "pix_coords = np.array(pix_coords).T"
   ]
  },
  {
   "cell_type": "code",
   "execution_count": 7,
   "metadata": {
    "ExecuteTime": {
     "end_time": "2020-08-08T16:56:46.161597Z",
     "start_time": "2020-08-08T16:56:46.127441Z"
    }
   },
   "outputs": [],
   "source": [
    "pic_g = draw_circles(pix_coords, desi_lis_brightest['FLUX_G'], c_wcs.array_shape, 0.1)\n",
    "pic_r = draw_circles(pix_coords, desi_lis_brightest['FLUX_R'], c_wcs.array_shape, 0.1)\n",
    "pic_z = draw_circles(pix_coords, desi_lis_brightest['FLUX_Z'], c_wcs.array_shape, 0.1)"
   ]
  },
  {
   "cell_type": "code",
   "execution_count": 14,
   "metadata": {
    "ExecuteTime": {
     "end_time": "2020-08-08T16:57:39.230641Z",
     "start_time": "2020-08-08T16:57:38.675771Z"
    }
   },
   "outputs": [
    {
     "name": "stderr",
     "output_type": "stream",
     "text": [
      "Clipping input data to the valid range for imshow with RGB data ([0..1] for floats or [0..255] for integers).\n"
     ]
    },
    {
     "data": {
      "image/png": "[encoded data removed]",
      "text/plain": [
       "<Figure size 720x720 with 1 Axes>"
      ]
     },
     "metadata": {
      "needs_background": "light"
     },
     "output_type": "display_data"
    }
   ],
   "source": [
    "show_pic(np.dstack([pic_g, pic_r, pic_g_f]))"
   ]
  },
  {
   "cell_type": "code",
   "execution_count": 15,
   "metadata": {
    "ExecuteTime": {
     "end_time": "2020-08-08T16:57:58.693923Z",
     "start_time": "2020-08-08T16:57:58.647162Z"
    }
   },
   "outputs": [],
   "source": [
    "def find_radius_wcs(radius, wcs):\n",
    "    def dist_between_pix(pix0, pix1):\n",
    "        from astropy.coordinates import SkyCoord\n",
    "        from astropy import units as u\n",
    "        \n",
    "        pix = np.stack([pix0, pix1])\n",
    "        ra, dec = wcs.all_pix2world(pix[:,0], pix[:,1], 0)\n",
    "        sc = SkyCoord(ra=ra*u.degree, dec=dec*u.degree, frame='icrs')\n",
    "        return sc[0].separation(sc[1]).degree\n",
    "    \n",
    "    cen_pix = np.array(wcs.array_shape, dtype=np.int32) // 2\n",
    "    \n",
    "    pix_rad = 1\n",
    "    cur_pix = np.copy(cen_pix)\n",
    "    cur_pix[0] -= 1\n",
    "    \n",
    "    if dist_between_pix(cen_pix, cur_pix) > radius:\n",
    "        return pix_rad\n",
    "    \n",
    "    while cur_pix[0] >= 0:\n",
    "        if dist_between_pix(cen_pix, cur_pix) > radius:\n",
    "            break\n",
    "        \n",
    "        pix_rad += 1\n",
    "        cur_pix[0] -= 1\n",
    "    \n",
    "    return pix_rad"
   ]
  },
  {
   "cell_type": "code",
   "execution_count": 16,
   "metadata": {
    "ExecuteTime": {
     "end_time": "2020-08-08T16:58:00.683466Z",
     "start_time": "2020-08-08T16:57:59.053517Z"
    }
   },
   "outputs": [
    {
     "data": {
      "text/plain": [
       "706"
      ]
     },
     "execution_count": 16,
     "metadata": {},
     "output_type": "execute_result"
    }
   ],
   "source": [
    "r500_pix = find_radius_wcs(cc_prm.r500, c_wcs)\n",
    "r500_pix"
   ]
  },
  {
   "cell_type": "code",
   "execution_count": 18,
   "metadata": {
    "ExecuteTime": {
     "end_time": "2020-08-08T16:58:18.990324Z",
     "start_time": "2020-08-08T16:58:18.983734Z"
    }
   },
   "outputs": [],
   "source": [
    "circle_per = circle_perimeter(1024, 1024, r500_pix, shape=(2048, 2048, 1)) "
   ]
  },
  {
   "cell_type": "code",
   "execution_count": 19,
   "metadata": {
    "ExecuteTime": {
     "end_time": "2020-08-08T16:58:43.089474Z",
     "start_time": "2020-08-08T16:58:43.056746Z"
    }
   },
   "outputs": [],
   "source": [
    "pic = np.dstack([pic_g, pic_r, pic_g_f])"
   ]
  },
  {
   "cell_type": "code",
   "execution_count": 20,
   "metadata": {
    "ExecuteTime": {
     "end_time": "2020-08-08T16:58:45.192653Z",
     "start_time": "2020-08-08T16:58:45.183568Z"
    }
   },
   "outputs": [],
   "source": [
    "pic[circle_per] = 1"
   ]
  },
  {
   "cell_type": "code",
   "execution_count": 21,
   "metadata": {
    "ExecuteTime": {
     "end_time": "2020-08-08T16:58:47.179865Z",
     "start_time": "2020-08-08T16:58:46.254282Z"
    }
   },
   "outputs": [
    {
     "name": "stderr",
     "output_type": "stream",
     "text": [
      "Clipping input data to the valid range for imshow with RGB data ([0..1] for floats or [0..255] for integers).\n"
     ]
    },
    {
     "data": {
      "image/png": "[encoded data removed]",
      "text/plain": [
       "<Figure size 720x720 with 1 Axes>"
      ]
     },
     "metadata": {
      "needs_background": "light"
     },
     "output_type": "display_data"
    }
   ],
   "source": [
    "show_pic(pic, projection=c_wcs)"
   ]
  },
  {
   "cell_type": "code",
   "execution_count": 9,
   "metadata": {
    "ExecuteTime": {
     "end_time": "2020-08-08T16:57:14.028976Z",
     "start_time": "2020-08-08T16:57:05.565979Z"
    }
   },
   "outputs": [
    {
     "data": {
      "text/html": [
       "<div>\n",
       "<style scoped>\n",
       "    .dataframe tbody tr th:only-of-type {\n",
       "        vertical-align: middle;\n",
       "    }\n",
       "\n",
       "    .dataframe tbody tr th {\n",
       "        vertical-align: top;\n",
       "    }\n",
       "\n",
       "    .dataframe thead th {\n",
       "        text-align: right;\n",
       "    }\n",
       "</style>\n",
       "<table border=\"1\" class=\"dataframe\">\n",
       "  <thead>\n",
       "    <tr style=\"text-align: right;\">\n",
       "      <th></th>\n",
       "      <th>RELEASE</th>\n",
       "      <th>BRICKID</th>\n",
       "      <th>BRICKNAME</th>\n",
       "      <th>OBJID</th>\n",
       "      <th>TYPE</th>\n",
       "      <th>RA</th>\n",
       "      <th>DEC</th>\n",
       "      <th>RA_IVAR</th>\n",
       "      <th>DEC_IVAR</th>\n",
       "      <th>EBV</th>\n",
       "      <th>...</th>\n",
       "      <th>GAIA_PHOT_BP_RP_EXCESS_FACTOR</th>\n",
       "      <th>GAIA_ASTROMETRIC_SIGMA5D_MAX</th>\n",
       "      <th>GAIA_ASTROMETRIC_PARAMS_SOLVED</th>\n",
       "      <th>PARALLAX</th>\n",
       "      <th>PARALLAX_IVAR</th>\n",
       "      <th>PMRA</th>\n",
       "      <th>PMRA_IVAR</th>\n",
       "      <th>PMDEC</th>\n",
       "      <th>PMDEC_IVAR</th>\n",
       "      <th>MASKBITS</th>\n",
       "    </tr>\n",
       "  </thead>\n",
       "  <tbody>\n",
       "    <tr>\n",
       "      <th>0</th>\n",
       "      <td>8000</td>\n",
       "      <td>483713</td>\n",
       "      <td>1944p275</td>\n",
       "      <td>0</td>\n",
       "      <td>DEV</td>\n",
       "      <td>194.370715</td>\n",
       "      <td>27.376434</td>\n",
       "      <td>7.766236e+10</td>\n",
       "      <td>5.132580e+10</td>\n",
       "      <td>0.010509</td>\n",
       "      <td>...</td>\n",
       "      <td>0.0</td>\n",
       "      <td>0.0</td>\n",
       "      <td>0</td>\n",
       "      <td>0.0</td>\n",
       "      <td>0.0</td>\n",
       "      <td>0.0</td>\n",
       "      <td>0.0</td>\n",
       "      <td>0.0</td>\n",
       "      <td>0.0</td>\n",
       "      <td>0</td>\n",
       "    </tr>\n",
       "    <tr>\n",
       "      <th>1</th>\n",
       "      <td>8000</td>\n",
       "      <td>483713</td>\n",
       "      <td>1944p275</td>\n",
       "      <td>1</td>\n",
       "      <td>PSF</td>\n",
       "      <td>194.375536</td>\n",
       "      <td>27.377389</td>\n",
       "      <td>6.551291e+10</td>\n",
       "      <td>5.075641e+10</td>\n",
       "      <td>0.010561</td>\n",
       "      <td>...</td>\n",
       "      <td>0.0</td>\n",
       "      <td>0.0</td>\n",
       "      <td>0</td>\n",
       "      <td>0.0</td>\n",
       "      <td>0.0</td>\n",
       "      <td>0.0</td>\n",
       "      <td>0.0</td>\n",
       "      <td>0.0</td>\n",
       "      <td>0.0</td>\n",
       "      <td>4096</td>\n",
       "    </tr>\n",
       "    <tr>\n",
       "      <th>2</th>\n",
       "      <td>8000</td>\n",
       "      <td>483713</td>\n",
       "      <td>1944p275</td>\n",
       "      <td>3</td>\n",
       "      <td>REX</td>\n",
       "      <td>194.377318</td>\n",
       "      <td>27.377674</td>\n",
       "      <td>8.259466e+09</td>\n",
       "      <td>7.358640e+09</td>\n",
       "      <td>0.010576</td>\n",
       "      <td>...</td>\n",
       "      <td>0.0</td>\n",
       "      <td>0.0</td>\n",
       "      <td>0</td>\n",
       "      <td>0.0</td>\n",
       "      <td>0.0</td>\n",
       "      <td>0.0</td>\n",
       "      <td>0.0</td>\n",
       "      <td>0.0</td>\n",
       "      <td>0.0</td>\n",
       "      <td>0</td>\n",
       "    </tr>\n",
       "    <tr>\n",
       "      <th>3</th>\n",
       "      <td>8000</td>\n",
       "      <td>483713</td>\n",
       "      <td>1944p275</td>\n",
       "      <td>4</td>\n",
       "      <td>REX</td>\n",
       "      <td>194.368014</td>\n",
       "      <td>27.376374</td>\n",
       "      <td>1.218444e+10</td>\n",
       "      <td>1.040580e+10</td>\n",
       "      <td>0.010495</td>\n",
       "      <td>...</td>\n",
       "      <td>0.0</td>\n",
       "      <td>0.0</td>\n",
       "      <td>0</td>\n",
       "      <td>0.0</td>\n",
       "      <td>0.0</td>\n",
       "      <td>0.0</td>\n",
       "      <td>0.0</td>\n",
       "      <td>0.0</td>\n",
       "      <td>0.0</td>\n",
       "      <td>0</td>\n",
       "    </tr>\n",
       "    <tr>\n",
       "      <th>4</th>\n",
       "      <td>8000</td>\n",
       "      <td>483713</td>\n",
       "      <td>1944p275</td>\n",
       "      <td>5</td>\n",
       "      <td>PSF</td>\n",
       "      <td>194.376378</td>\n",
       "      <td>27.378784</td>\n",
       "      <td>1.483136e+09</td>\n",
       "      <td>1.303248e+09</td>\n",
       "      <td>0.010614</td>\n",
       "      <td>...</td>\n",
       "      <td>0.0</td>\n",
       "      <td>0.0</td>\n",
       "      <td>0</td>\n",
       "      <td>0.0</td>\n",
       "      <td>0.0</td>\n",
       "      <td>0.0</td>\n",
       "      <td>0.0</td>\n",
       "      <td>0.0</td>\n",
       "      <td>0.0</td>\n",
       "      <td>0</td>\n",
       "    </tr>\n",
       "  </tbody>\n",
       "</table>\n",
       "<p>5 rows × 119 columns</p>\n",
       "</div>"
      ],
      "text/plain": [
       "   RELEASE  BRICKID BRICKNAME  OBJID  TYPE          RA        DEC  \\\n",
       "0     8000   483713  1944p275      0  DEV   194.370715  27.376434   \n",
       "1     8000   483713  1944p275      1  PSF   194.375536  27.377389   \n",
       "2     8000   483713  1944p275      3  REX   194.377318  27.377674   \n",
       "3     8000   483713  1944p275      4  REX   194.368014  27.376374   \n",
       "4     8000   483713  1944p275      5  PSF   194.376378  27.378784   \n",
       "\n",
       "        RA_IVAR      DEC_IVAR       EBV  ...  GAIA_PHOT_BP_RP_EXCESS_FACTOR  \\\n",
       "0  7.766236e+10  5.132580e+10  0.010509  ...                            0.0   \n",
       "1  6.551291e+10  5.075641e+10  0.010561  ...                            0.0   \n",
       "2  8.259466e+09  7.358640e+09  0.010576  ...                            0.0   \n",
       "3  1.218444e+10  1.040580e+10  0.010495  ...                            0.0   \n",
       "4  1.483136e+09  1.303248e+09  0.010614  ...                            0.0   \n",
       "\n",
       "   GAIA_ASTROMETRIC_SIGMA5D_MAX  GAIA_ASTROMETRIC_PARAMS_SOLVED  PARALLAX  \\\n",
       "0                           0.0                               0       0.0   \n",
       "1                           0.0                               0       0.0   \n",
       "2                           0.0                               0       0.0   \n",
       "3                           0.0                               0       0.0   \n",
       "4                           0.0                               0       0.0   \n",
       "\n",
       "   PARALLAX_IVAR  PMRA  PMRA_IVAR  PMDEC  PMDEC_IVAR  MASKBITS  \n",
       "0            0.0   0.0        0.0    0.0         0.0         0  \n",
       "1            0.0   0.0        0.0    0.0         0.0      4096  \n",
       "2            0.0   0.0        0.0    0.0         0.0         0  \n",
       "3            0.0   0.0        0.0    0.0         0.0         0  \n",
       "4            0.0   0.0        0.0    0.0         0.0         0  \n",
       "\n",
       "[5 rows x 119 columns]"
      ]
     },
     "execution_count": 9,
     "metadata": {},
     "output_type": "execute_result"
    }
   ],
   "source": [
    "desi_lis_data_f = pd.read_csv('/home/rt2122/Data/coma_sweep/south/circle_2degree_filtered.csv')\n",
    "desi_lis_data.head()"
   ]
  },
  {
   "cell_type": "code",
   "execution_count": 10,
   "metadata": {
    "ExecuteTime": {
     "end_time": "2020-08-08T16:57:14.447045Z",
     "start_time": "2020-08-08T16:57:14.384432Z"
    }
   },
   "outputs": [],
   "source": [
    "desi_lis_brightest_f = n_max_flux_df(desi_lis_data_f, 30, \n",
    "                                     ['FLUX_G', 'FLUX_R', 'FLUX_Z'])"
   ]
  },
  {
   "cell_type": "code",
   "execution_count": 11,
   "metadata": {
    "ExecuteTime": {
     "end_time": "2020-08-08T16:57:16.010251Z",
     "start_time": "2020-08-08T16:57:16.006771Z"
    }
   },
   "outputs": [],
   "source": [
    "pix_coords = c_wcs.all_world2pix(desi_lis_brightest_f['RA'], \n",
    "                                 desi_lis_brightest_f['DEC'], 0)\n",
    "pix_coords = np.array(pix_coords).T"
   ]
  },
  {
   "cell_type": "code",
   "execution_count": 12,
   "metadata": {
    "ExecuteTime": {
     "end_time": "2020-08-08T16:57:17.264682Z",
     "start_time": "2020-08-08T16:57:17.235173Z"
    }
   },
   "outputs": [],
   "source": [
    "pic_g_f = draw_circles(pix_coords, desi_lis_brightest_f['FLUX_G'], c_wcs.array_shape, 0.05)"
   ]
  },
  {
   "cell_type": "code",
   "execution_count": 13,
   "metadata": {
    "ExecuteTime": {
     "end_time": "2020-08-08T16:57:17.890892Z",
     "start_time": "2020-08-08T16:57:17.665949Z"
    }
   },
   "outputs": [
    {
     "data": {
      "image/png": "[encoded data removed]",
      "text/plain": [
       "<Figure size 720x720 with 1 Axes>"
      ]
     },
     "metadata": {
      "needs_background": "light"
     },
     "output_type": "display_data"
    }
   ],
   "source": [
    "show_pic(pic_g_f)"
   ]
  },
  {
   "cell_type": "code",
   "execution_count": 22,
   "metadata": {
    "ExecuteTime": {
     "end_time": "2020-08-08T17:00:12.504442Z",
     "start_time": "2020-08-08T17:00:12.492492Z"
    }
   },
   "outputs": [],
   "source": [
    "circle_pic = np.zeros_like(pic_g)\n",
    "circle_pic[circle_per] = 1"
   ]
  },
  {
   "cell_type": "code",
   "execution_count": 23,
   "metadata": {
    "ExecuteTime": {
     "end_time": "2020-08-08T17:00:23.058950Z",
     "start_time": "2020-08-08T17:00:22.718888Z"
    }
   },
   "outputs": [
    {
     "data": {
      "text/plain": [
       "<matplotlib.image.AxesImage at 0x7f6c342d68b0>"
      ]
     },
     "execution_count": 23,
     "metadata": {},
     "output_type": "execute_result"
    },
    {
     "data": {
      "image/png": "[encoded data removed]",
      "text/plain": [
       "<Figure size 432x288 with 1 Axes>"
      ]
     },
     "metadata": {
      "needs_background": "light"
     },
     "output_type": "display_data"
    }
   ],
   "source": [
    "plt.imshow(circle_pic)"
   ]
  },
  {
   "cell_type": "code",
   "execution_count": 25,
   "metadata": {
    "ExecuteTime": {
     "end_time": "2020-08-08T17:01:42.943563Z",
     "start_time": "2020-08-08T17:01:42.904583Z"
    }
   },
   "outputs": [],
   "source": [
    "pic_fits = np.dstack([pic_g, circle_pic, pic_g_f])"
   ]
  },
  {
   "cell_type": "code",
   "execution_count": 26,
   "metadata": {
    "ExecuteTime": {
     "end_time": "2020-08-08T17:01:52.064673Z",
     "start_time": "2020-08-08T17:01:51.496198Z"
    }
   },
   "outputs": [
    {
     "name": "stderr",
     "output_type": "stream",
     "text": [
      "Clipping input data to the valid range for imshow with RGB data ([0..1] for floats or [0..255] for integers).\n"
     ]
    },
    {
     "data": {
      "image/png": "[encoded data removed]",
      "text/plain": [
       "<Figure size 720x720 with 1 Axes>"
      ]
     },
     "metadata": {
      "needs_background": "light"
     },
     "output_type": "display_data"
    }
   ],
   "source": [
    "show_pic(pic_fits)"
   ]
  },
  {
   "cell_type": "code",
   "execution_count": 27,
   "metadata": {
    "ExecuteTime": {
     "end_time": "2020-08-08T17:02:45.114995Z",
     "start_time": "2020-08-08T17:02:45.103067Z"
    }
   },
   "outputs": [],
   "source": [
    "def pic2fits(pic, wcs, fitsname):\n",
    "    from astropy.io import fits\n",
    "\n",
    "    hdul = fits.HDUList([fits.PrimaryHDU(), \n",
    "        fits.ImageHDU(np.stack([pic[:,:,i] for i in range(pic.shape[-1])]), \n",
    "                     header=wcs.to_header())])\n",
    "    hdul.writeto(fitsname)"
   ]
  },
  {
   "cell_type": "code",
   "execution_count": 28,
   "metadata": {
    "ExecuteTime": {
     "end_time": "2020-08-08T17:03:25.773135Z",
     "start_time": "2020-08-08T17:03:25.629044Z"
    }
   },
   "outputs": [],
   "source": [
    "pic2fits(pic_fits, c_wcs, '/home/rt2122/Data/coma_sweep/south/g_filter_no_filter.fits')"
   ]
  },
  {
   "cell_type": "code",
   "execution_count": null,
   "metadata": {},
   "outputs": [],
   "source": []
  }
 ],
 "metadata": {
  "kernelspec": {
   "display_name": "Python 3",
   "language": "python",
   "name": "python3"
  },
  "language_info": {
   "codemirror_mode": {
    "name": "ipython",
    "version": 3
   },
   "file_extension": ".py",
   "mimetype": "text/x-python",
   "name": "python",
   "nbconvert_exporter": "python",
   "pygments_lexer": "ipython3",
   "version": "3.8.3"
  }
 },
 "nbformat": 4,
 "nbformat_minor": 4
}
