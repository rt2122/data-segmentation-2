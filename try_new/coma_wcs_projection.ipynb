{
 "cells": [
  {
   "cell_type": "code",
   "execution_count": 8,
   "metadata": {
    "ExecuteTime": {
     "end_time": "2020-07-16T08:53:16.859518Z",
     "start_time": "2020-07-16T08:53:16.844190Z"
    }
   },
   "outputs": [],
   "source": [
    "import pandas as pd\n",
    "from astropy.wcs import WCS\n",
    "from astropy.io import fits\n",
    "import numpy as np\n",
    "from astropy.coordinates import SkyCoord\n",
    "from astropy import units as u\n",
    "from matplotlib import pyplot as plt\n",
    "from skimage.filters import gaussian\n",
    "from skimage.draw import circle\n",
    "from tqdm.notebook import tqdm\n",
    "from astropy import wcs"
   ]
  },
  {
   "cell_type": "code",
   "execution_count": 2,
   "metadata": {
    "ExecuteTime": {
     "end_time": "2020-07-16T08:51:15.264749Z",
     "start_time": "2020-07-16T08:51:15.142230Z"
    }
   },
   "outputs": [
    {
     "data": {
      "text/plain": [
       "('1954p287', 195.428964, 28.774444, 1, 69.48128366255652, 87.19628005860534, 181.52370111489248, 32.30326166612798, 55362.1085755, 57911.35203755, 56873.7871054679, 2549.243462049999, 119, 180, 153.0, 1594.0, 4350, array([2048, 2048], dtype=int32), array([[-0.00076389,  0.        ],\n",
       "       [ 0.        ,  0.00076389]]), array([1., 1.]), array([1024.48167699, 1024.51643945]), array([195.428964,  28.774444]), chararray(['RA---TAN', 'DEC--TAN'], dtype='<U8'), 180.0, 0.0, array([0., 0.]))"
      ]
     },
     "execution_count": 2,
     "metadata": {},
     "output_type": "execute_result"
    }
   ],
   "source": [
    "coma_wcs_hdul = fits.open('/home/rt2122/Data/fulldepth_neo4_index.fits')\n",
    "cur_line = coma_wcs_hdul[1].data[19926]\n",
    "cur_line"
   ]
  },
  {
   "cell_type": "code",
   "execution_count": 24,
   "metadata": {
    "ExecuteTime": {
     "end_time": "2020-07-16T09:11:07.894253Z",
     "start_time": "2020-07-16T09:11:07.882594Z"
    }
   },
   "outputs": [
    {
     "name": "stderr",
     "output_type": "stream",
     "text": [
      "/home/rt2122/anaconda3/lib/python3.7/site-packages/ipykernel_launcher.py:3: RuntimeWarning: cdelt will be ignored since cd is present\n",
      "  This is separate from the ipykernel package so we can avoid doing imports until\n"
     ]
    }
   ],
   "source": [
    "w = WCS(naxis=2)\n",
    "w.wcs.cd = cur_line['CD']\n",
    "w.wcs.cdelt = cur_line['CDELT']\n",
    "w.wcs.crpix = cur_line['CRPIX']\n",
    "w.wcs.crval = cur_line['CRVAL']\n",
    "w.wcs.ctype = ['RA---TAN', 'DEC--TAN']\n",
    "w.wcs.lonpole = cur_line['LONGPOLE']\n",
    "w.wcs.latpole = cur_line['LATPOLE']\n",
    "w.wcs.set_pv([(0, 0, 0)])\n",
    "w.array_shape = (2048, 2048)"
   ]
  },
  {
   "cell_type": "code",
   "execution_count": 4,
   "metadata": {
    "ExecuteTime": {
     "end_time": "2020-07-16T08:51:46.011042Z",
     "start_time": "2020-07-16T08:51:46.007541Z"
    }
   },
   "outputs": [],
   "source": [
    "coma_wcs_hdul.close()"
   ]
  },
  {
   "cell_type": "code",
   "execution_count": 5,
   "metadata": {
    "ExecuteTime": {
     "end_time": "2020-07-16T08:52:00.826663Z",
     "start_time": "2020-07-16T08:52:00.812088Z"
    }
   },
   "outputs": [],
   "source": [
    "coma_hdul = fits.open('/home/rt2122/Data/coma_sweep/south/sweep-190p025-200p030.fits')"
   ]
  },
  {
   "cell_type": "code",
   "execution_count": 6,
   "metadata": {
    "ExecuteTime": {
     "end_time": "2020-07-16T08:52:08.442180Z",
     "start_time": "2020-07-16T08:52:08.295034Z"
    }
   },
   "outputs": [],
   "source": [
    "ra = coma_hdul[1].data['RA']\n",
    "dec = coma_hdul[1].data['DEC']"
   ]
  },
  {
   "cell_type": "code",
   "execution_count": 7,
   "metadata": {
    "ExecuteTime": {
     "end_time": "2020-07-16T08:52:34.124467Z",
     "start_time": "2020-07-16T08:52:33.916705Z"
    }
   },
   "outputs": [],
   "source": [
    "sc = SkyCoord(ra=ra*u.degree, dec=dec*u.degree, frame='icrs')"
   ]
  },
  {
   "cell_type": "code",
   "execution_count": 26,
   "metadata": {
    "ExecuteTime": {
     "end_time": "2020-07-16T09:11:23.691482Z",
     "start_time": "2020-07-16T09:11:23.180416Z"
    }
   },
   "outputs": [],
   "source": [
    "pixels = wcs.utils.skycoord_to_pixel(sc, w)"
   ]
  },
  {
   "cell_type": "code",
   "execution_count": 27,
   "metadata": {
    "ExecuteTime": {
     "end_time": "2020-07-16T09:11:24.124260Z",
     "start_time": "2020-07-16T09:11:24.100179Z"
    }
   },
   "outputs": [
    {
     "name": "stdout",
     "output_type": "stream",
     "text": [
      "-4418.22709817509 7489.942187858098\n",
      "-3924.7147440307217 2772.6166916808897\n"
     ]
    }
   ],
   "source": [
    "print(pixels[0].min(), pixels[0].max())\n",
    "print(pixels[1].min(), pixels[1].max())"
   ]
  },
  {
   "cell_type": "code",
   "execution_count": 11,
   "metadata": {
    "ExecuteTime": {
     "end_time": "2020-07-16T08:54:17.610317Z",
     "start_time": "2020-07-16T08:54:17.600217Z"
    }
   },
   "outputs": [
    {
     "data": {
      "text/plain": [
       "(array([-3561.14459858, -3559.61588496, -3558.31116748, ...,\n",
       "        -1967.26615532, -2173.29274238, -1994.96594884]),\n",
       " array([-2044.36010754, -2046.11036453, -2044.06887598, ...,\n",
       "         1515.16102256,  1520.26686352,  1515.99178659]))"
      ]
     },
     "execution_count": 11,
     "metadata": {},
     "output_type": "execute_result"
    }
   ],
   "source": [
    "pixels"
   ]
  },
  {
   "cell_type": "code",
   "execution_count": 18,
   "metadata": {
    "ExecuteTime": {
     "end_time": "2020-07-16T09:01:27.651109Z",
     "start_time": "2020-07-16T09:01:27.503701Z"
    }
   },
   "outputs": [
    {
     "data": {
      "text/plain": [
       "(3249602, 2)"
      ]
     },
     "execution_count": 18,
     "metadata": {},
     "output_type": "execute_result"
    }
   ],
   "source": [
    "radec = np.hstack([ra.reshape(len(ra), 1), dec.reshape(len(ra), 1)])\n",
    "radec.shape"
   ]
  },
  {
   "cell_type": "code",
   "execution_count": 19,
   "metadata": {
    "ExecuteTime": {
     "end_time": "2020-07-16T09:01:36.612041Z",
     "start_time": "2020-07-16T09:01:36.128544Z"
    }
   },
   "outputs": [],
   "source": [
    "pixels = w.wcs.s2p(radec, 0)"
   ]
  },
  {
   "cell_type": "code",
   "execution_count": 21,
   "metadata": {
    "ExecuteTime": {
     "end_time": "2020-07-16T09:01:54.009325Z",
     "start_time": "2020-07-16T09:01:53.997380Z"
    }
   },
   "outputs": [
    {
     "data": {
      "text/plain": [
       "{'phi': array([56.21090298, 56.18696305, 56.19704387, ..., 99.33527458,\n",
       "        98.83261662, 99.26645539]),\n",
       " 'theta': array([85.79365693, 85.79388231, 85.79556903, ..., 87.68599666,\n",
       "        87.53024367, 87.66504723]),\n",
       " 'imgcrd': array([[ 2.50214507, -3.34351681],\n",
       "        [ 2.5009773 , -3.34485381],\n",
       "        [ 2.49998065, -3.34329434],\n",
       "        ...,\n",
       "        [ 1.28459904, -0.62443817],\n",
       "        [ 1.44198046, -0.62053787],\n",
       "        [ 1.3057586 , -0.62380355]]),\n",
       " 'pixcrd': array([[-3561.14459858, -2044.36010754],\n",
       "        [-3559.61588496, -2046.11036453],\n",
       "        [-3558.31116748, -2044.06887598],\n",
       "        ...,\n",
       "        [-1967.26615532,  1515.16102256],\n",
       "        [-2173.29274238,  1520.26686352],\n",
       "        [-1994.96594884,  1515.99178659]]),\n",
       " 'stat': array([0, 0, 0, ..., 0, 0, 0], dtype=int32)}"
      ]
     },
     "execution_count": 21,
     "metadata": {},
     "output_type": "execute_result"
    }
   ],
   "source": [
    "pixels"
   ]
  },
  {
   "cell_type": "code",
   "execution_count": 28,
   "metadata": {
    "ExecuteTime": {
     "end_time": "2020-07-16T09:12:04.209968Z",
     "start_time": "2020-07-16T09:12:04.203964Z"
    }
   },
   "outputs": [
    {
     "name": "stdout",
     "output_type": "stream",
     "text": [
      "(2048, 2048)\n"
     ]
    }
   ],
   "source": [
    "print(w.pixel_shape)"
   ]
  },
  {
   "cell_type": "code",
   "execution_count": null,
   "metadata": {},
   "outputs": [],
   "source": []
  }
 ],
 "metadata": {
  "kernelspec": {
   "display_name": "Python 3",
   "language": "python",
   "name": "python3"
  },
  "language_info": {
   "codemirror_mode": {
    "name": "ipython",
    "version": 3
   },
   "file_extension": ".py",
   "mimetype": "text/x-python",
   "name": "python",
   "nbconvert_exporter": "python",
   "pygments_lexer": "ipython3",
   "version": "3.7.6"
  }
 },
 "nbformat": 4,
 "nbformat_minor": 4
}
