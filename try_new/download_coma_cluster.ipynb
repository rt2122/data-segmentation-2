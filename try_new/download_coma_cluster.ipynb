{
 "cells": [
  {
   "cell_type": "code",
   "execution_count": 2,
   "metadata": {
    "ExecuteTime": {
     "end_time": "2020-07-14T17:19:08.665350Z",
     "start_time": "2020-07-14T17:19:07.693928Z"
    }
   },
   "outputs": [],
   "source": [
    "import pandas as pd\n",
    "import numpy as np\n",
    "import requests\n",
    "import shutil"
   ]
  },
  {
   "cell_type": "code",
   "execution_count": 3,
   "metadata": {
    "ExecuteTime": {
     "end_time": "2020-07-14T17:19:08.908491Z",
     "start_time": "2020-07-14T17:19:08.903102Z"
    }
   },
   "outputs": [],
   "source": [
    "def download_file(url, local_filename):\n",
    "    with requests.get(url, stream=True) as r:\n",
    "        with open(local_filename, 'wb') as f:\n",
    "            shutil.copyfileobj(r.raw, f)\n",
    "\n",
    "    return local_filename"
   ]
  },
  {
   "cell_type": "code",
   "execution_count": 4,
   "metadata": {
    "ExecuteTime": {
     "end_time": "2020-07-14T17:20:06.369236Z",
     "start_time": "2020-07-14T17:20:06.101699Z"
    }
   },
   "outputs": [],
   "source": [
    "n = pd.read_csv('/home/rt2122/Data/selected_sweep_north.csv', index_col='index')\n",
    "s = pd.read_csv('/home/rt2122/Data/selected_sweep_south.csv', index_col='index')"
   ]
  },
  {
   "cell_type": "code",
   "execution_count": 7,
   "metadata": {
    "ExecuteTime": {
     "end_time": "2020-07-14T17:20:40.095520Z",
     "start_time": "2020-07-14T17:20:40.053650Z"
    }
   },
   "outputs": [
    {
     "data": {
      "text/html": [
       "<div>\n",
       "<style scoped>\n",
       "    .dataframe tbody tr th:only-of-type {\n",
       "        vertical-align: middle;\n",
       "    }\n",
       "\n",
       "    .dataframe tbody tr th {\n",
       "        vertical-align: top;\n",
       "    }\n",
       "\n",
       "    .dataframe thead th {\n",
       "        text-align: right;\n",
       "    }\n",
       "</style>\n",
       "<table border=\"1\" class=\"dataframe\">\n",
       "  <thead>\n",
       "    <tr style=\"text-align: right;\">\n",
       "      <th></th>\n",
       "      <th>sum</th>\n",
       "      <th>name</th>\n",
       "      <th>selected</th>\n",
       "      <th>coma_selected</th>\n",
       "    </tr>\n",
       "    <tr>\n",
       "      <th>index</th>\n",
       "      <th></th>\n",
       "      <th></th>\n",
       "      <th></th>\n",
       "      <th></th>\n",
       "    </tr>\n",
       "  </thead>\n",
       "  <tbody>\n",
       "    <tr>\n",
       "      <th>144</th>\n",
       "      <td>164d4fb6d9e6521126fd48e93921cdcf62c7a8831c88f6...</td>\n",
       "      <td>sweep-190p025-200p030.fits</td>\n",
       "      <td>0.0</td>\n",
       "      <td>True</td>\n",
       "    </tr>\n",
       "  </tbody>\n",
       "</table>\n",
       "</div>"
      ],
      "text/plain": [
       "                                                     sum  \\\n",
       "index                                                      \n",
       "144    164d4fb6d9e6521126fd48e93921cdcf62c7a8831c88f6...   \n",
       "\n",
       "                             name  selected  coma_selected  \n",
       "index                                                       \n",
       "144    sweep-190p025-200p030.fits       0.0           True  "
      ]
     },
     "execution_count": 7,
     "metadata": {},
     "output_type": "execute_result"
    }
   ],
   "source": [
    "n[n['coma_selected'] == True]"
   ]
  },
  {
   "cell_type": "code",
   "execution_count": 8,
   "metadata": {
    "ExecuteTime": {
     "end_time": "2020-07-14T17:20:47.811644Z",
     "start_time": "2020-07-14T17:20:47.788349Z"
    }
   },
   "outputs": [
    {
     "data": {
      "text/html": [
       "<div>\n",
       "<style scoped>\n",
       "    .dataframe tbody tr th:only-of-type {\n",
       "        vertical-align: middle;\n",
       "    }\n",
       "\n",
       "    .dataframe tbody tr th {\n",
       "        vertical-align: top;\n",
       "    }\n",
       "\n",
       "    .dataframe thead th {\n",
       "        text-align: right;\n",
       "    }\n",
       "</style>\n",
       "<table border=\"1\" class=\"dataframe\">\n",
       "  <thead>\n",
       "    <tr style=\"text-align: right;\">\n",
       "      <th></th>\n",
       "      <th>sum</th>\n",
       "      <th>name</th>\n",
       "      <th>selected</th>\n",
       "      <th>coma_selected</th>\n",
       "    </tr>\n",
       "    <tr>\n",
       "      <th>index</th>\n",
       "      <th></th>\n",
       "      <th></th>\n",
       "      <th></th>\n",
       "      <th></th>\n",
       "    </tr>\n",
       "  </thead>\n",
       "  <tbody>\n",
       "    <tr>\n",
       "      <th>261</th>\n",
       "      <td>9e061419b1351cef67eecb7d00dab2df0f8db1a5b9784f...</td>\n",
       "      <td>sweep-190p025-200p030.fits</td>\n",
       "      <td>0</td>\n",
       "      <td>True</td>\n",
       "    </tr>\n",
       "  </tbody>\n",
       "</table>\n",
       "</div>"
      ],
      "text/plain": [
       "                                                     sum  \\\n",
       "index                                                      \n",
       "261    9e061419b1351cef67eecb7d00dab2df0f8db1a5b9784f...   \n",
       "\n",
       "                             name  selected  coma_selected  \n",
       "index                                                       \n",
       "261    sweep-190p025-200p030.fits         0           True  "
      ]
     },
     "execution_count": 8,
     "metadata": {},
     "output_type": "execute_result"
    }
   ],
   "source": [
    "s[s['coma_selected'] == True]"
   ]
  },
  {
   "cell_type": "code",
   "execution_count": 9,
   "metadata": {
    "ExecuteTime": {
     "end_time": "2020-07-14T17:22:59.074115Z",
     "start_time": "2020-07-14T17:22:56.992385Z"
    }
   },
   "outputs": [
    {
     "data": {
      "text/plain": [
       "'/home/rt2122/Data/coma_sweep/sweep-190p025-200p030.fits'"
      ]
     },
     "execution_count": 9,
     "metadata": {},
     "output_type": "execute_result"
    }
   ],
   "source": [
    "url = 'https://portal.nersc.gov/project/cosmo/data/legacysurvey/dr8/north/sweep/sweep-190p025-200p030.fits'\n",
    "filename = '/home/rt2122/Data/coma_sweep/sweep-190p025-200p030.fits'\n",
    "download_file(url, filename)"
   ]
  },
  {
   "cell_type": "code",
   "execution_count": 10,
   "metadata": {
    "ExecuteTime": {
     "end_time": "2020-07-14T17:31:47.316578Z",
     "start_time": "2020-07-14T17:23:58.367077Z"
    }
   },
   "outputs": [
    {
     "data": {
      "text/plain": [
       "'/home/rt2122/Data/coma_sweep/sweep-190p025-200p030.fits'"
      ]
     },
     "execution_count": 10,
     "metadata": {},
     "output_type": "execute_result"
    }
   ],
   "source": [
    "url = 'https://portal.nersc.gov/project/cosmo/data/legacysurvey/dr8/south/sweep/8.0/sweep-190p025-200p030.fits'\n",
    "filename = '/home/rt2122/Data/coma_sweep/sweep-190p025-200p030.fits'\n",
    "download_file(url, filename)"
   ]
  },
  {
   "cell_type": "code",
   "execution_count": null,
   "metadata": {},
   "outputs": [],
   "source": []
  }
 ],
 "metadata": {
  "kernelspec": {
   "display_name": "Python 3",
   "language": "python",
   "name": "python3"
  },
  "language_info": {
   "codemirror_mode": {
    "name": "ipython",
    "version": 3
   },
   "file_extension": ".py",
   "mimetype": "text/x-python",
   "name": "python",
   "nbconvert_exporter": "python",
   "pygments_lexer": "ipython3",
   "version": "3.7.6"
  }
 },
 "nbformat": 4,
 "nbformat_minor": 4
}
