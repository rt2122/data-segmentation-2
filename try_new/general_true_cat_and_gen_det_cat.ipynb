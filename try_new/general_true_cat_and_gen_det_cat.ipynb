{
 "cells": [
  {
   "cell_type": "code",
   "execution_count": 1,
   "metadata": {
    "ExecuteTime": {
     "end_time": "2021-07-06T09:52:44.754561Z",
     "start_time": "2021-07-06T09:52:44.546223Z"
    }
   },
   "outputs": [],
   "source": [
    "import numpy as np\n",
    "import pandas as pd"
   ]
  },
  {
   "cell_type": "code",
   "execution_count": 2,
   "metadata": {
    "ExecuteTime": {
     "end_time": "2021-07-06T09:52:44.860943Z",
     "start_time": "2021-07-06T09:52:44.842976Z"
    }
   },
   "outputs": [],
   "source": [
    "def merge2cats(cat1, cat2, merge_dist=400/3600, names=['1', '2'], prms={}): \n",
    "    from astropy.coordinates import SkyCoord\n",
    "    from astropy import units as u\n",
    "    \n",
    "    sc1 = SkyCoord(ra=np.array(cat1['RA']) * u.degree, dec=np.array(cat1['DEC']) * u.degree, frame='icrs')\n",
    "    sc2 = SkyCoord(ra=np.array(cat2['RA']) * u.degree, dec=np.array(cat2['DEC']) * u.degree, frame='icrs')\n",
    "    \n",
    "    idx, d2d, _ = sc1.match_to_catalog_sky(sc2)\n",
    "    matched = d2d.degree <= merge_dist\n",
    "    print(len(cat1), 'obj in ', names[0])\n",
    "    print(len(cat2), 'obj in ', names[1])\n",
    "    print(np.count_nonzero(matched), 'matched')\n",
    "    print(len(cat1) - np.count_nonzero(matched), 'unique from', names[0])\n",
    "   \n",
    "    cats = [cat1, cat2]\n",
    "    for this_cat, that_cat, this_name, that_name, this_idx in zip(cats, cats[::-1], names, names[::-1],\n",
    "                                                            [cat1.index[matched], idx[matched]]):\n",
    "        this_cat[this_name] = True\n",
    "        this_cat[that_name] = False\n",
    "        this_cat[that_name].iloc[this_idx] = True\n",
    "    \n",
    "    for coord in ['RA', 'DEC']:\n",
    "        cat1[names[1]+coord] = np.nan\n",
    "        cat2[names[1]+coord] = cat2[coord]\n",
    "        cat1[names[1]+coord].iloc[matched] = np.array(cat2[coord][idx[matched]])\n",
    "    \n",
    "    for prm in prms:\n",
    "        cat1[prm] = prms[prm]\n",
    "        cat1[prm].iloc[matched] = np.array(cat2[prm][idx[matched]])\n",
    "    \n",
    "    print(len(cat2) - len(set(idx[matched])), 'unique from', names[1])\n",
    "    cat2['matched'] = False\n",
    "    cat2['matched'].iloc[idx[matched]] = True\n",
    "    cat2 = cat2[cat2['matched'] == False]\n",
    "    cat2.index = np.arange(len(cat2))\n",
    "    print(len(cat2), 'unique from ', names[1])\n",
    "    \n",
    "    return pd.concat([cat1, cat2])"
   ]
  },
  {
   "cell_type": "code",
   "execution_count": 4,
   "metadata": {
    "ExecuteTime": {
     "end_time": "2021-07-06T09:54:01.194739Z",
     "start_time": "2021-07-06T09:54:00.176458Z"
    },
    "scrolled": false
   },
   "outputs": [
    {
     "name": "stdout",
     "output_type": "stream",
     "text": [
      "1732 obj in  SZcat(AL)\n",
      "234 obj in  SZcat(y-map)\n",
      "164 matched\n",
      "1568 unique from SZcat(AL)\n",
      "70 unique from SZcat(y-map)\n",
      "70 unique from  SZcat(y-map)\n",
      "1665 obj in  SZcat(AL)\n",
      "147 obj in  SZcat(y-map)\n",
      "96 matched\n",
      "1569 unique from SZcat(AL)\n",
      "51 unique from SZcat(y-map)\n",
      "51 unique from  SZcat(y-map)\n",
      "1613 obj in  SZcat(AL)\n",
      "112 obj in  SZcat(y-map)\n",
      "66 matched\n",
      "1547 unique from SZcat(AL)\n",
      "46 unique from SZcat(y-map)\n",
      "46 unique from  SZcat(y-map)\n",
      "1544 obj in  SZcat(AL)\n",
      "77 obj in  SZcat(y-map)\n",
      "44 matched\n",
      "1500 unique from SZcat(AL)\n",
      "33 unique from SZcat(y-map)\n",
      "33 unique from  SZcat(y-map)\n",
      "1483 obj in  SZcat(AL)\n",
      "45 obj in  SZcat(y-map)\n",
      "29 matched\n",
      "1454 unique from SZcat(AL)\n",
      "16 unique from SZcat(y-map)\n",
      "16 unique from  SZcat(y-map)\n",
      "1419 obj in  SZcat(AL)\n",
      "37 obj in  SZcat(y-map)\n",
      "22 matched\n",
      "1397 unique from SZcat(AL)\n",
      "15 unique from SZcat(y-map)\n",
      "15 unique from  SZcat(y-map)\n",
      "1367 obj in  SZcat(AL)\n",
      "28 obj in  SZcat(y-map)\n",
      "15 matched\n",
      "1352 unique from SZcat(AL)\n",
      "13 unique from SZcat(y-map)\n",
      "13 unique from  SZcat(y-map)\n",
      "1303 obj in  SZcat(AL)\n",
      "25 obj in  SZcat(y-map)\n",
      "13 matched\n",
      "1290 unique from SZcat(AL)\n",
      "12 unique from SZcat(y-map)\n",
      "12 unique from  SZcat(y-map)\n",
      "1236 obj in  SZcat(AL)\n",
      "19 obj in  SZcat(y-map)\n",
      "10 matched\n",
      "1226 unique from SZcat(AL)\n",
      "9 unique from SZcat(y-map)\n",
      "9 unique from  SZcat(y-map)\n",
      "1183 obj in  SZcat(AL)\n",
      "17 obj in  SZcat(y-map)\n",
      "10 matched\n",
      "1173 unique from SZcat(AL)\n",
      "7 unique from SZcat(y-map)\n",
      "7 unique from  SZcat(y-map)\n"
     ]
    }
   ],
   "source": [
    "for mpp_val in np.arange(0.8, 0.9, 0.01):\n",
    "    all_f = pd.read_csv('/home/rt2122/Data/detected_cats/full_pz_all_found34_thr0.1_step8_no_fn_mpp_er.csv')\n",
    "    brcat = pd.read_csv('/home/rt2122/Data/SRGz/brcat_mpp_er.csv')\n",
    "    all_f = all_f[all_f['mpp_er'] >= mpp_val]\n",
    "    all_f.index = np.arange(len(all_f))\n",
    "    brcat = brcat[brcat['mpp_er'] >= mpp_val]\n",
    "    brcat.index = np.arange(len(brcat))\n",
    "    brcat = brcat.rename(columns={'max_pred' : 's/n'})\n",
    "    gen_cat = merge2cats(all_f, brcat, names=['SZcat(AL)', 'SZcat(y-map)'], prms={'s/n' : np.nan})\n",
    "    gen_cat.to_csv('/home/rt2122/Data/gen_cats_er/er_gen_all_found_brcat_prec{:.2f}.csv'.format(mpp_val), index=False)"
   ]
  },
  {
   "cell_type": "code",
   "execution_count": null,
   "metadata": {},
   "outputs": [],
   "source": []
  }
 ],
 "metadata": {
  "kernelspec": {
   "display_name": "Python 3",
   "language": "python",
   "name": "python3"
  },
  "language_info": {
   "codemirror_mode": {
    "name": "ipython",
    "version": 3
   },
   "file_extension": ".py",
   "mimetype": "text/x-python",
   "name": "python",
   "nbconvert_exporter": "python",
   "pygments_lexer": "ipython3",
   "version": "3.8.3"
  }
 },
 "nbformat": 4,
 "nbformat_minor": 4
}
