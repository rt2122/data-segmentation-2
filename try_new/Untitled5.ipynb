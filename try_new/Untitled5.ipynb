{
 "cells": [
  {
   "cell_type": "code",
   "execution_count": 3,
   "metadata": {
    "ExecuteTime": {
     "end_time": "2021-02-28T13:15:36.306316Z",
     "start_time": "2021-02-28T13:15:36.295623Z"
    }
   },
   "outputs": [],
   "source": [
    "import numpy as np\n",
    "import healpy as hp\n",
    "from astropy.coordinates import SkyCoord\n",
    "from astropy import units as u\n",
    "from DS_Planck_Unet import val_pix, test_pix\n",
    "from DS_healpix_fragmentation import pix2radec"
   ]
  },
  {
   "cell_type": "code",
   "execution_count": 5,
   "metadata": {
    "ExecuteTime": {
     "end_time": "2021-02-28T13:16:11.372360Z",
     "start_time": "2021-02-28T13:16:11.349602Z"
    }
   },
   "outputs": [],
   "source": [
    "ra, dec = pix2radec(val_pix, 2)\n",
    "rat, dect = pix2radec(test_pix, 2)"
   ]
  },
  {
   "cell_type": "code",
   "execution_count": 8,
   "metadata": {
    "ExecuteTime": {
     "end_time": "2021-02-28T13:16:50.088079Z",
     "start_time": "2021-02-28T13:16:50.083797Z"
    }
   },
   "outputs": [],
   "source": [
    "ra = np.hstack([ra, rat])\n",
    "dec = np.hstack([dec, dect])"
   ]
  },
  {
   "cell_type": "code",
   "execution_count": 9,
   "metadata": {
    "ExecuteTime": {
     "end_time": "2021-02-28T13:17:19.146743Z",
     "start_time": "2021-02-28T13:17:19.132248Z"
    }
   },
   "outputs": [],
   "source": [
    "sc = SkyCoord(ra=ra*u.degree, dec=dec*u.degree, frame='icrs')"
   ]
  },
  {
   "cell_type": "code",
   "execution_count": 11,
   "metadata": {
    "ExecuteTime": {
     "end_time": "2021-02-28T13:17:31.425963Z",
     "start_time": "2021-02-28T13:17:31.415894Z"
    }
   },
   "outputs": [
    {
     "data": {
      "text/plain": [
       "array([247.5, 112.5, 247.5, 112.5])"
      ]
     },
     "execution_count": 11,
     "metadata": {},
     "output_type": "execute_result"
    }
   ],
   "source": [
    "sc.galactic.l.degree"
   ]
  },
  {
   "cell_type": "code",
   "execution_count": 12,
   "metadata": {
    "ExecuteTime": {
     "end_time": "2021-02-28T13:18:03.443472Z",
     "start_time": "2021-02-28T13:18:03.432033Z"
    }
   },
   "outputs": [
    {
     "name": "stdout",
     "output_type": "stream",
     "text": [
      "[9, 38, 41] [6]\n"
     ]
    }
   ],
   "source": [
    "print(val_pix, test_pix)"
   ]
  },
  {
   "cell_type": "code",
   "execution_count": 13,
   "metadata": {
    "ExecuteTime": {
     "end_time": "2021-02-28T13:18:44.573643Z",
     "start_time": "2021-02-28T13:18:44.565397Z"
    }
   },
   "outputs": [],
   "source": [
    "east_val = [38, 6]\n",
    "west_val = [9, 41]"
   ]
  },
  {
   "cell_type": "code",
   "execution_count": null,
   "metadata": {},
   "outputs": [],
   "source": []
  }
 ],
 "metadata": {
  "kernelspec": {
   "display_name": "Python 3",
   "language": "python",
   "name": "python3"
  },
  "language_info": {
   "codemirror_mode": {
    "name": "ipython",
    "version": 3
   },
   "file_extension": ".py",
   "mimetype": "text/x-python",
   "name": "python",
   "nbconvert_exporter": "python",
   "pygments_lexer": "ipython3",
   "version": "3.8.3"
  }
 },
 "nbformat": 4,
 "nbformat_minor": 4
}
