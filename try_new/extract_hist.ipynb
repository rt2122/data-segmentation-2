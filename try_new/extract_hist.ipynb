{
 "cells": [
  {
   "cell_type": "code",
   "execution_count": 2,
   "metadata": {
    "ExecuteTime": {
     "end_time": "2021-03-03T10:44:26.525215Z",
     "start_time": "2021-03-03T10:44:26.521902Z"
    }
   },
   "outputs": [],
   "source": [
    "import numpy as np\n",
    "import os\n",
    "import pickle\n",
    "from DS_data_transformation import get_prm"
   ]
  },
  {
   "cell_type": "code",
   "execution_count": 3,
   "metadata": {
    "ExecuteTime": {
     "end_time": "2021-03-03T10:44:27.196231Z",
     "start_time": "2021-03-03T10:44:27.190388Z"
    }
   },
   "outputs": [],
   "source": [
    "dirname = '/home/rt2122/Models/all_found4/'\n",
    "files = next(os.walk(dirname))[-1]"
   ]
  },
  {
   "cell_type": "code",
   "execution_count": 8,
   "metadata": {
    "ExecuteTime": {
     "end_time": "2021-03-03T10:45:43.935161Z",
     "start_time": "2021-03-03T10:45:43.926469Z"
    }
   },
   "outputs": [
    {
     "data": {
      "text/plain": [
       "'0.009411-l0.009648.hdf5'"
      ]
     },
     "execution_count": 8,
     "metadata": {},
     "output_type": "execute_result"
    }
   ],
   "source": [
    "files[0][20:]"
   ]
  },
  {
   "cell_type": "code",
   "execution_count": 20,
   "metadata": {
    "ExecuteTime": {
     "end_time": "2021-03-03T10:48:59.823666Z",
     "start_time": "2021-03-03T10:48:59.814438Z"
    }
   },
   "outputs": [
    {
     "data": {
      "text/plain": [
       "0.009648"
      ]
     },
     "execution_count": 20,
     "metadata": {},
     "output_type": "execute_result"
    }
   ],
   "source": [
    "float(get_prm('-l', files[0], w='[\\d.]')[:-1])"
   ]
  },
  {
   "cell_type": "code",
   "execution_count": 31,
   "metadata": {
    "ExecuteTime": {
     "end_time": "2021-03-03T10:56:27.121763Z",
     "start_time": "2021-03-03T10:56:27.117174Z"
    }
   },
   "outputs": [],
   "source": [
    "h_dict = {}"
   ]
  },
  {
   "cell_type": "code",
   "execution_count": 33,
   "metadata": {
    "ExecuteTime": {
     "end_time": "2021-03-03T10:56:39.978910Z",
     "start_time": "2021-03-03T10:56:39.974218Z"
    }
   },
   "outputs": [],
   "source": [
    "for s in files:\n",
    "    ep = int(get_prm('ep', s))\n",
    "    loss = float(get_prm('-l', s, w='[\\d.]')[:-1])\n",
    "    val_loss = float(get_prm('vl', s, w='[\\d.]')[:-1])\n",
    "    h_dict[ep] = (loss, val_loss)"
   ]
  },
  {
   "cell_type": "code",
   "execution_count": 37,
   "metadata": {
    "ExecuteTime": {
     "end_time": "2021-03-03T10:59:12.461338Z",
     "start_time": "2021-03-03T10:59:12.457242Z"
    }
   },
   "outputs": [],
   "source": [
    "hist = {'loss' : [], 'val_loss' : []}\n",
    "for i in range(1, 51):\n",
    "    loss, val_loss = h_dict[i]\n",
    "    hist['loss'].append(loss)\n",
    "    hist['val_loss'].append(val_loss)"
   ]
  },
  {
   "cell_type": "code",
   "execution_count": 36,
   "metadata": {
    "ExecuteTime": {
     "end_time": "2021-03-03T10:58:16.696299Z",
     "start_time": "2021-03-03T10:58:16.263386Z"
    }
   },
   "outputs": [
    {
     "name": "stdout",
     "output_type": "stream",
     "text": [
      "['loss', 'accuracy', 'iou', 'dice', 'val_loss', 'val_accuracy', 'val_iou', 'val_dice']\n"
     ]
    },
    {
     "ename": "NameError",
     "evalue": "name 'pd' is not defined",
     "output_type": "error",
     "traceback": [
      "\u001b[0;31m---------------------------------------------------------------------------\u001b[0m",
      "\u001b[0;31mNameError\u001b[0m                                 Traceback (most recent call last)",
      "\u001b[0;32m<ipython-input-36-8e9735cb1216>\u001b[0m in \u001b[0;36m<module>\u001b[0;34m\u001b[0m\n\u001b[1;32m      3\u001b[0m     \u001b[0mhist\u001b[0m \u001b[0;34m=\u001b[0m \u001b[0mpickle\u001b[0m\u001b[0;34m.\u001b[0m\u001b[0mload\u001b[0m\u001b[0;34m(\u001b[0m\u001b[0mf\u001b[0m\u001b[0;34m)\u001b[0m\u001b[0;34m\u001b[0m\u001b[0;34m\u001b[0m\u001b[0m\n\u001b[1;32m      4\u001b[0m     \u001b[0mprint\u001b[0m\u001b[0;34m(\u001b[0m\u001b[0mlist\u001b[0m\u001b[0;34m(\u001b[0m\u001b[0mhist\u001b[0m\u001b[0;34m)\u001b[0m\u001b[0;34m)\u001b[0m\u001b[0;34m\u001b[0m\u001b[0;34m\u001b[0m\u001b[0m\n\u001b[0;32m----> 5\u001b[0;31m     \u001b[0mhist\u001b[0m \u001b[0;34m=\u001b[0m \u001b[0mpd\u001b[0m\u001b[0;34m.\u001b[0m\u001b[0mDataFrame\u001b[0m\u001b[0;34m(\u001b[0m\u001b[0mhist\u001b[0m\u001b[0;34m,\u001b[0m \u001b[0mindex\u001b[0m\u001b[0;34m=\u001b[0m\u001b[0mnp\u001b[0m\u001b[0;34m.\u001b[0m\u001b[0marange\u001b[0m\u001b[0;34m(\u001b[0m\u001b[0;36m1\u001b[0m\u001b[0;34m,\u001b[0m \u001b[0mlen\u001b[0m\u001b[0;34m(\u001b[0m\u001b[0mhist\u001b[0m\u001b[0;34m[\u001b[0m\u001b[0;34m'loss'\u001b[0m\u001b[0;34m]\u001b[0m\u001b[0;34m)\u001b[0m \u001b[0;34m+\u001b[0m \u001b[0;36m1\u001b[0m\u001b[0;34m)\u001b[0m\u001b[0;34m)\u001b[0m\u001b[0;34m\u001b[0m\u001b[0;34m\u001b[0m\u001b[0m\n\u001b[0m",
      "\u001b[0;31mNameError\u001b[0m: name 'pd' is not defined"
     ]
    }
   ],
   "source": [
    "hist = None\n",
    "with open('/home/rt2122/Models/act_found2/act_found2.ep1-50.history', 'rb') as f:\n",
    "    hist = pickle.load(f)\n",
    "    print(list(hist))\n",
    "    hist = pd.DataFrame(hist, index=np.arange(1, len(hist['loss']) + 1))"
   ]
  },
  {
   "cell_type": "code",
   "execution_count": 51,
   "metadata": {
    "ExecuteTime": {
     "end_time": "2021-03-03T11:14:25.535480Z",
     "start_time": "2021-03-03T11:14:25.424033Z"
    }
   },
   "outputs": [],
   "source": [
    "import pickle\n",
    "with open('/home/rt2122/Models/all_found4/all_found4.ep1-50.history', 'wb') as f:\n",
    "    pickle.dump(hist, f)"
   ]
  },
  {
   "cell_type": "code",
   "execution_count": 39,
   "metadata": {
    "ExecuteTime": {
     "end_time": "2021-03-03T11:05:18.837767Z",
     "start_time": "2021-03-03T11:05:18.834218Z"
    }
   },
   "outputs": [],
   "source": [
    "lines = []\n",
    "with open('/home/rt2122/Models/all_found4/hist.txt', 'r') as f:\n",
    "    lines = f.read().splitlines()"
   ]
  },
  {
   "cell_type": "code",
   "execution_count": 50,
   "metadata": {
    "ExecuteTime": {
     "end_time": "2021-03-03T11:13:37.033534Z",
     "start_time": "2021-03-03T11:13:37.005515Z"
    }
   },
   "outputs": [],
   "source": [
    "hist = {'ep' : [], 'loss' : [], 'accuracy' : [], 'iou' : [], 'dice' : [], \n",
    "        'val_loss' : [], 'val_accuracy' : [], 'val_iou' : [], 'val_dice' : []}\n",
    "for i in range(0, len(lines), 2):\n",
    "    ep = int(get_prm('Epoch ', lines[i]))\n",
    "    loss = float(get_prm(' - loss: ', lines[i+1], '[\\d.]'))\n",
    "    accuracy = float(get_prm(' - accuracy: ', lines[i+1], '[\\d.]'))\n",
    "    iou = float(get_prm(' - iou: ', lines[i+1], '[\\d.]'))\n",
    "    dice = float(get_prm(' - dice: ', lines[i+1], '[\\d.]'))\n",
    "    val_loss = float(get_prm(' - val_loss: ', lines[i+1], '[\\d.]'))\n",
    "    val_accuracy = float(get_prm(' - val_accuracy: ', lines[i+1], '[\\d.]'))\n",
    "    val_iou = float(get_prm(' - val_iou: ', lines[i+1], '[\\d.]'))\n",
    "    val_dice = float(get_prm(' - val_dice: ', lines[i+1], '[\\d.]'))\n",
    "    hist['ep'].append(ep)\n",
    "    hist['loss'].append(loss)\n",
    "    hist['accuracy'].append(accuracy)\n",
    "    hist['iou'].append(iou)\n",
    "    hist['dice'].append(dice)\n",
    "    hist['val_loss'].append(val_loss)\n",
    "    hist['val_accuracy'].append(val_accuracy)\n",
    "    hist['val_iou'].append(val_iou)\n",
    "    hist['val_dice'].append(val_dice)"
   ]
  },
  {
   "cell_type": "code",
   "execution_count": null,
   "metadata": {},
   "outputs": [],
   "source": []
  }
 ],
 "metadata": {
  "kernelspec": {
   "display_name": "Python 3",
   "language": "python",
   "name": "python3"
  },
  "language_info": {
   "codemirror_mode": {
    "name": "ipython",
    "version": 3
   },
   "file_extension": ".py",
   "mimetype": "text/x-python",
   "name": "python",
   "nbconvert_exporter": "python",
   "pygments_lexer": "ipython3",
   "version": "3.8.3"
  }
 },
 "nbformat": 4,
 "nbformat_minor": 4
}
