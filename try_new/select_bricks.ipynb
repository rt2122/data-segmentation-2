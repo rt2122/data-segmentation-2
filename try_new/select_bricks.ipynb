{
 "cells": [
  {
   "cell_type": "code",
   "execution_count": 1,
   "metadata": {
    "ExecuteTime": {
     "end_time": "2020-07-07T16:15:45.623865Z",
     "start_time": "2020-07-07T16:15:45.483395Z"
    }
   },
   "outputs": [],
   "source": [
    "import astropy"
   ]
  },
  {
   "cell_type": "code",
   "execution_count": 11,
   "metadata": {},
   "outputs": [],
   "source": [
    "from astropy.io import fits"
   ]
  },
  {
   "cell_type": "code",
   "execution_count": 12,
   "metadata": {},
   "outputs": [],
   "source": [
    "fits_image_filename = \"/home/rt2122/Data/survey-bricks.fits.gz\""
   ]
  },
  {
   "cell_type": "code",
   "execution_count": 13,
   "metadata": {},
   "outputs": [],
   "source": [
    "hdul = fits.open(fits_image_filename)"
   ]
  },
  {
   "cell_type": "code",
   "execution_count": 31,
   "metadata": {},
   "outputs": [],
   "source": [
    "columns = hdul[1].columns.names"
   ]
  },
  {
   "cell_type": "code",
   "execution_count": 32,
   "metadata": {},
   "outputs": [
    {
     "data": {
      "text/plain": [
       "['BRICKNAME',\n",
       " 'BRICKID',\n",
       " 'BRICKQ',\n",
       " 'BRICKROW',\n",
       " 'BRICKCOL',\n",
       " 'RA',\n",
       " 'DEC',\n",
       " 'RA1',\n",
       " 'RA2',\n",
       " 'DEC1',\n",
       " 'DEC2']"
      ]
     },
     "execution_count": 32,
     "metadata": {},
     "output_type": "execute_result"
    }
   ],
   "source": [
    "columns"
   ]
  },
  {
   "cell_type": "code",
   "execution_count": 35,
   "metadata": {},
   "outputs": [],
   "source": [
    "data = hdul[1].data"
   ]
  },
  {
   "cell_type": "code",
   "execution_count": 34,
   "metadata": {},
   "outputs": [],
   "source": [
    "TARGET_RA1 = 154.76\n",
    "TARGET_RA2 = 167.1\n",
    "TARGET_DEC1 = 54.27\n",
    "TARGET_DEC2 = 61.25"
   ]
  },
  {
   "cell_type": "code",
   "execution_count": 1,
   "metadata": {},
   "outputs": [
    {
     "ename": "ModuleNotFoundError",
     "evalue": "No module named 'pandas'",
     "output_type": "error",
     "traceback": [
      "\u001b[0;31m---------------------------------------------------------------------------\u001b[0m",
      "\u001b[0;31mModuleNotFoundError\u001b[0m                       Traceback (most recent call last)",
      "\u001b[0;32m<ipython-input-1-7dd3504c366f>\u001b[0m in \u001b[0;36m<module>\u001b[0;34m\u001b[0m\n\u001b[0;32m----> 1\u001b[0;31m \u001b[0;32mimport\u001b[0m \u001b[0mpandas\u001b[0m \u001b[0;32mas\u001b[0m \u001b[0mpd\u001b[0m\u001b[0;34m\u001b[0m\u001b[0;34m\u001b[0m\u001b[0m\n\u001b[0m",
      "\u001b[0;31mModuleNotFoundError\u001b[0m: No module named 'pandas'"
     ]
    }
   ],
   "source": [
    "import pandas as pd"
   ]
  },
  {
   "cell_type": "code",
   "execution_count": 62,
   "metadata": {},
   "outputs": [],
   "source": [
    "selected_bricks = pd.DataFrame({'BRICKNAME' : [], \n",
    "                                'BRICKID' : [], 'BRICKROW': [], 'BRICKCOL': [], \n",
    "                                'RA' : [], 'DEC' : []})"
   ]
  },
  {
   "cell_type": "code",
   "execution_count": 63,
   "metadata": {},
   "outputs": [],
   "source": [
    "selected_bricks.index.name='index'"
   ]
  },
  {
   "cell_type": "code",
   "execution_count": 64,
   "metadata": {},
   "outputs": [
    {
     "data": {
      "text/html": [
       "<div>\n",
       "<style scoped>\n",
       "    .dataframe tbody tr th:only-of-type {\n",
       "        vertical-align: middle;\n",
       "    }\n",
       "\n",
       "    .dataframe tbody tr th {\n",
       "        vertical-align: top;\n",
       "    }\n",
       "\n",
       "    .dataframe thead th {\n",
       "        text-align: right;\n",
       "    }\n",
       "</style>\n",
       "<table border=\"1\" class=\"dataframe\">\n",
       "  <thead>\n",
       "    <tr style=\"text-align: right;\">\n",
       "      <th></th>\n",
       "      <th>BRICKNAME</th>\n",
       "      <th>BRICKID</th>\n",
       "      <th>BRICKROW</th>\n",
       "      <th>BRICKCOL</th>\n",
       "      <th>RA</th>\n",
       "      <th>DEC</th>\n",
       "    </tr>\n",
       "    <tr>\n",
       "      <th>index</th>\n",
       "      <th></th>\n",
       "      <th></th>\n",
       "      <th></th>\n",
       "      <th></th>\n",
       "      <th></th>\n",
       "      <th></th>\n",
       "    </tr>\n",
       "  </thead>\n",
       "  <tbody>\n",
       "  </tbody>\n",
       "</table>\n",
       "</div>"
      ],
      "text/plain": [
       "Empty DataFrame\n",
       "Columns: [BRICKNAME, BRICKID, BRICKROW, BRICKCOL, RA, DEC]\n",
       "Index: []"
      ]
     },
     "execution_count": 64,
     "metadata": {},
     "output_type": "execute_result"
    }
   ],
   "source": [
    "selected_bricks"
   ]
  },
  {
   "cell_type": "code",
   "execution_count": 50,
   "metadata": {},
   "outputs": [],
   "source": [
    "def line_in_field(line):\n",
    "    \n",
    "    def dot_in_field(ra, dec):\n",
    "        if ra <= TARGET_RA2 and ra >= TARGET_RA1 and\\\n",
    "            dec <= TARGET_DEC2 and dec >= TARGET_DEC1:\n",
    "            return True\n",
    "        return False\n",
    "    \n",
    "    return dot_in_field(line['RA'], line['DEC']) or \\\n",
    "        dot_in_field(line['RA1'], line['DEC1']) or \\\n",
    "        dot_in_field(line['RA1'], line['DEC2']) or \\\n",
    "        dot_in_field(line['RA2'], line['DEC1']) or \\\n",
    "        dot_in_field(line['RA2'], line['DEC2'])\n",
    "    \n",
    "    "
   ]
  },
  {
   "cell_type": "code",
   "execution_count": 65,
   "metadata": {},
   "outputs": [
    {
     "name": "stderr",
     "output_type": "stream",
     "text": [
      "/home/rt2122/anaconda3/lib/python3.7/site-packages/ipykernel_launcher.py:1: TqdmDeprecationWarning: This function will be removed in tqdm==5.0.0\n",
      "Please use `tqdm.notebook.tqdm` instead of `tqdm.tqdm_notebook`\n",
      "  \"\"\"Entry point for launching an IPython kernel.\n"
     ]
    },
    {
     "data": {
      "application/vnd.jupyter.widget-view+json": {
       "model_id": "b21ff0c7a7de407994e6be98e7aadbd3",
       "version_major": 2,
       "version_minor": 0
      },
      "text/plain": [
       "HBox(children=(FloatProgress(value=0.0, max=662174.0), HTML(value='')))"
      ]
     },
     "metadata": {},
     "output_type": "display_data"
    },
    {
     "name": "stdout",
     "output_type": "stream",
     "text": [
      "\n"
     ]
    }
   ],
   "source": [
    "for line in tqdm_notebook(data):\n",
    "    if line_in_field(line):\n",
    "        idx = selected_bricks.shape[0]\n",
    "        for col in list(selected_bricks):\n",
    "            selected_bricks.loc[idx,col] = line[col]"
   ]
  },
  {
   "cell_type": "code",
   "execution_count": 66,
   "metadata": {},
   "outputs": [
    {
     "data": {
      "text/plain": [
       "796"
      ]
     },
     "execution_count": 66,
     "metadata": {},
     "output_type": "execute_result"
    }
   ],
   "source": [
    "selected_bricks.shape[0]"
   ]
  },
  {
   "cell_type": "code",
   "execution_count": 52,
   "metadata": {},
   "outputs": [],
   "source": [
    "from tqdm import tqdm_notebook"
   ]
  },
  {
   "cell_type": "code",
   "execution_count": 60,
   "metadata": {},
   "outputs": [],
   "source": [
    "selected_bricks.loc[0,'RA'] = 10"
   ]
  },
  {
   "cell_type": "code",
   "execution_count": 67,
   "metadata": {},
   "outputs": [
    {
     "data": {
      "text/html": [
       "<div>\n",
       "<style scoped>\n",
       "    .dataframe tbody tr th:only-of-type {\n",
       "        vertical-align: middle;\n",
       "    }\n",
       "\n",
       "    .dataframe tbody tr th {\n",
       "        vertical-align: top;\n",
       "    }\n",
       "\n",
       "    .dataframe thead th {\n",
       "        text-align: right;\n",
       "    }\n",
       "</style>\n",
       "<table border=\"1\" class=\"dataframe\">\n",
       "  <thead>\n",
       "    <tr style=\"text-align: right;\">\n",
       "      <th></th>\n",
       "      <th>BRICKNAME</th>\n",
       "      <th>BRICKID</th>\n",
       "      <th>BRICKROW</th>\n",
       "      <th>BRICKCOL</th>\n",
       "      <th>RA</th>\n",
       "      <th>DEC</th>\n",
       "    </tr>\n",
       "    <tr>\n",
       "      <th>index</th>\n",
       "      <th></th>\n",
       "      <th></th>\n",
       "      <th></th>\n",
       "      <th></th>\n",
       "      <th></th>\n",
       "      <th></th>\n",
       "    </tr>\n",
       "  </thead>\n",
       "  <tbody>\n",
       "    <tr>\n",
       "      <th>0</th>\n",
       "      <td>1546p542</td>\n",
       "      <td>599380.0</td>\n",
       "      <td>577.0</td>\n",
       "      <td>362.0</td>\n",
       "      <td>154.620853</td>\n",
       "      <td>54.25</td>\n",
       "    </tr>\n",
       "    <tr>\n",
       "      <th>1</th>\n",
       "      <td>1550p542</td>\n",
       "      <td>599381.0</td>\n",
       "      <td>577.0</td>\n",
       "      <td>363.0</td>\n",
       "      <td>155.047393</td>\n",
       "      <td>54.25</td>\n",
       "    </tr>\n",
       "    <tr>\n",
       "      <th>2</th>\n",
       "      <td>1554p542</td>\n",
       "      <td>599382.0</td>\n",
       "      <td>577.0</td>\n",
       "      <td>364.0</td>\n",
       "      <td>155.473934</td>\n",
       "      <td>54.25</td>\n",
       "    </tr>\n",
       "    <tr>\n",
       "      <th>3</th>\n",
       "      <td>1559p542</td>\n",
       "      <td>599383.0</td>\n",
       "      <td>577.0</td>\n",
       "      <td>365.0</td>\n",
       "      <td>155.900474</td>\n",
       "      <td>54.25</td>\n",
       "    </tr>\n",
       "    <tr>\n",
       "      <th>4</th>\n",
       "      <td>1563p542</td>\n",
       "      <td>599384.0</td>\n",
       "      <td>577.0</td>\n",
       "      <td>366.0</td>\n",
       "      <td>156.327014</td>\n",
       "      <td>54.25</td>\n",
       "    </tr>\n",
       "  </tbody>\n",
       "</table>\n",
       "</div>"
      ],
      "text/plain": [
       "      BRICKNAME   BRICKID  BRICKROW  BRICKCOL          RA    DEC\n",
       "index                                                           \n",
       "0      1546p542  599380.0     577.0     362.0  154.620853  54.25\n",
       "1      1550p542  599381.0     577.0     363.0  155.047393  54.25\n",
       "2      1554p542  599382.0     577.0     364.0  155.473934  54.25\n",
       "3      1559p542  599383.0     577.0     365.0  155.900474  54.25\n",
       "4      1563p542  599384.0     577.0     366.0  156.327014  54.25"
      ]
     },
     "execution_count": 67,
     "metadata": {},
     "output_type": "execute_result"
    }
   ],
   "source": [
    "selected_bricks.head()"
   ]
  },
  {
   "cell_type": "code",
   "execution_count": 68,
   "metadata": {},
   "outputs": [],
   "source": [
    "selected_bricks.to_csv(\"/home/rt2122/Data/selected_bricks\")"
   ]
  },
  {
   "cell_type": "code",
   "execution_count": 72,
   "metadata": {},
   "outputs": [
    {
     "name": "stdout",
     "output_type": "stream",
     "text": [
      "BRICKNAME    1546p542\n",
      "BRICKID        599380\n",
      "BRICKROW          577\n",
      "BRICKCOL          362\n",
      "RA            154.621\n",
      "DEC             54.25\n",
      "Name: 0, dtype: object\n"
     ]
    }
   ],
   "source": [
    "for i in range(selected_bricks.shape[0]):\n",
    "    print(selected_bricks.iloc[i])\n",
    "    break"
   ]
  },
  {
   "cell_type": "code",
   "execution_count": 73,
   "metadata": {},
   "outputs": [],
   "source": [
    "import re"
   ]
  },
  {
   "cell_type": "code",
   "execution_count": 82,
   "metadata": {},
   "outputs": [
    {
     "data": {
      "text/plain": [
       "['bsb', 'fg']"
      ]
     },
     "execution_count": 82,
     "metadata": {},
     "output_type": "execute_result"
    }
   ],
   "source": [
    "line = \"asadfg\"\n",
    "line = line.replace('a', 'b')\n",
    "line.split('d')"
   ]
  },
  {
   "cell_type": "code",
   "execution_count": 95,
   "metadata": {},
   "outputs": [],
   "source": [
    "def sweep_in_field(name):\n",
    "    if name.endswith('.fits'):\n",
    "        name = name[:-5]\n",
    "    if name.startswith('sweep-'):\n",
    "        name = name[len('sweep-'):]\n",
    "    name = name.replace('p', '-')\n",
    "    name = name.replace('m', '-')\n",
    "    name = name.split('-')\n",
    "    name = [float(k) for k in name]\n",
    "    \n",
    "    sweep_dict = {'RA1' : name[0], 'DEC1' : name[1], 'RA2' : name[2], 'DEC2' : name[3], \n",
    "                 'RA' : (name[0] + name[2]) / 2, 'DEC' : (name[1] + name[3]) / 2}\n",
    "    return line_in_field(sweep_dict)"
   ]
  },
  {
   "cell_type": "code",
   "execution_count": 96,
   "metadata": {},
   "outputs": [
    {
     "data": {
      "text/plain": [
       "True"
      ]
     },
     "execution_count": 96,
     "metadata": {},
     "output_type": "execute_result"
    }
   ],
   "source": [
    "sweep_in_field('sweep-150p055-160p060.fits')"
   ]
  },
  {
   "cell_type": "code",
   "execution_count": 97,
   "metadata": {},
   "outputs": [
    {
     "name": "stderr",
     "output_type": "stream",
     "text": [
      "/home/rt2122/anaconda3/lib/python3.7/site-packages/ipykernel_launcher.py:2: ParserWarning: Falling back to the 'python' engine because the 'c' engine does not support regex separators (separators > 1 char and different from '\\s+' are interpreted as regex); you can avoid this warning by specifying engine='python'.\n",
      "  \n"
     ]
    }
   ],
   "source": [
    "names_south = pd.read_csv('/home/rt2122/Data/legacysurvey_dr8_south_sweep_8.0.sha256sum', \n",
    "                         sep='  ', names=['sum', 'name'], index_col=False)"
   ]
  },
  {
   "cell_type": "code",
   "execution_count": 105,
   "metadata": {},
   "outputs": [
    {
     "data": {
      "text/html": [
       "<div>\n",
       "<style scoped>\n",
       "    .dataframe tbody tr th:only-of-type {\n",
       "        vertical-align: middle;\n",
       "    }\n",
       "\n",
       "    .dataframe tbody tr th {\n",
       "        vertical-align: top;\n",
       "    }\n",
       "\n",
       "    .dataframe thead th {\n",
       "        text-align: right;\n",
       "    }\n",
       "</style>\n",
       "<table border=\"1\" class=\"dataframe\">\n",
       "  <thead>\n",
       "    <tr style=\"text-align: right;\">\n",
       "      <th></th>\n",
       "      <th>sum</th>\n",
       "      <th>name</th>\n",
       "      <th>selected</th>\n",
       "    </tr>\n",
       "    <tr>\n",
       "      <th>index</th>\n",
       "      <th></th>\n",
       "      <th></th>\n",
       "      <th></th>\n",
       "    </tr>\n",
       "  </thead>\n",
       "  <tbody>\n",
       "    <tr>\n",
       "      <th>0</th>\n",
       "      <td>fd0ca1647b0be98cab8b6a2a37da58169358eaaf71dec9...</td>\n",
       "      <td>sweep-000m005-010p000.fits</td>\n",
       "      <td>0</td>\n",
       "    </tr>\n",
       "    <tr>\n",
       "      <th>1</th>\n",
       "      <td>79d5db41dddcc3da001573657a4c7c6f2d51743e9a4d2c...</td>\n",
       "      <td>sweep-000m010-010m005.fits</td>\n",
       "      <td>0</td>\n",
       "    </tr>\n",
       "    <tr>\n",
       "      <th>2</th>\n",
       "      <td>db086d6ebe0a77ab657f8613698b8c25ac2f3cd9fe4e8f...</td>\n",
       "      <td>sweep-000m015-010m010.fits</td>\n",
       "      <td>0</td>\n",
       "    </tr>\n",
       "    <tr>\n",
       "      <th>3</th>\n",
       "      <td>613f861882fd4849fec715f6e5657a66a0d72a12998bd9...</td>\n",
       "      <td>sweep-000m020-010m015.fits</td>\n",
       "      <td>0</td>\n",
       "    </tr>\n",
       "    <tr>\n",
       "      <th>4</th>\n",
       "      <td>22f9da834c527729079bf721313fdb19fd2bd09e0071aa...</td>\n",
       "      <td>sweep-000m025-010m020.fits</td>\n",
       "      <td>0</td>\n",
       "    </tr>\n",
       "  </tbody>\n",
       "</table>\n",
       "</div>"
      ],
      "text/plain": [
       "                                                     sum  \\\n",
       "index                                                      \n",
       "0      fd0ca1647b0be98cab8b6a2a37da58169358eaaf71dec9...   \n",
       "1      79d5db41dddcc3da001573657a4c7c6f2d51743e9a4d2c...   \n",
       "2      db086d6ebe0a77ab657f8613698b8c25ac2f3cd9fe4e8f...   \n",
       "3      613f861882fd4849fec715f6e5657a66a0d72a12998bd9...   \n",
       "4      22f9da834c527729079bf721313fdb19fd2bd09e0071aa...   \n",
       "\n",
       "                             name  selected  \n",
       "index                                        \n",
       "0      sweep-000m005-010p000.fits         0  \n",
       "1      sweep-000m010-010m005.fits         0  \n",
       "2      sweep-000m015-010m010.fits         0  \n",
       "3      sweep-000m020-010m015.fits         0  \n",
       "4      sweep-000m025-010m020.fits         0  "
      ]
     },
     "execution_count": 105,
     "metadata": {},
     "output_type": "execute_result"
    }
   ],
   "source": [
    "names_south.index.name='index'\n",
    "names_south.head()"
   ]
  },
  {
   "cell_type": "code",
   "execution_count": 100,
   "metadata": {},
   "outputs": [
    {
     "name": "stderr",
     "output_type": "stream",
     "text": [
      "/home/rt2122/anaconda3/lib/python3.7/site-packages/ipykernel_launcher.py:2: ParserWarning: Falling back to the 'python' engine because the 'c' engine does not support regex separators (separators > 1 char and different from '\\s+' are interpreted as regex); you can avoid this warning by specifying engine='python'.\n",
      "  \n"
     ]
    }
   ],
   "source": [
    "names_north = pd.read_csv('/home/rt2122/Data/legacysurvey_dr8_north_sweep_8.0.sha256sum', \n",
    "                         sep='  ', names=['sum', 'name'], index_col=False)"
   ]
  },
  {
   "cell_type": "code",
   "execution_count": 101,
   "metadata": {},
   "outputs": [
    {
     "data": {
      "text/html": [
       "<div>\n",
       "<style scoped>\n",
       "    .dataframe tbody tr th:only-of-type {\n",
       "        vertical-align: middle;\n",
       "    }\n",
       "\n",
       "    .dataframe tbody tr th {\n",
       "        vertical-align: top;\n",
       "    }\n",
       "\n",
       "    .dataframe thead th {\n",
       "        text-align: right;\n",
       "    }\n",
       "</style>\n",
       "<table border=\"1\" class=\"dataframe\">\n",
       "  <thead>\n",
       "    <tr style=\"text-align: right;\">\n",
       "      <th></th>\n",
       "      <th>sum</th>\n",
       "      <th>name</th>\n",
       "    </tr>\n",
       "    <tr>\n",
       "      <th>index</th>\n",
       "      <th></th>\n",
       "      <th></th>\n",
       "    </tr>\n",
       "  </thead>\n",
       "  <tbody>\n",
       "    <tr>\n",
       "      <th>0</th>\n",
       "      <td>e7d6ebb79146b54603ff632a49dfa065b67f00e72d41e0...</td>\n",
       "      <td>sweep-000m005-010p000.fits</td>\n",
       "    </tr>\n",
       "    <tr>\n",
       "      <th>1</th>\n",
       "      <td>059467281d09b90cd54a5fba819a42cca5e80bdc81d2bd...</td>\n",
       "      <td>sweep-000p000-010p005.fits</td>\n",
       "    </tr>\n",
       "    <tr>\n",
       "      <th>2</th>\n",
       "      <td>529ab83d58b6c45e2fb33fb99ad3fc3a30f8610f690499...</td>\n",
       "      <td>sweep-000p040-010p045.fits</td>\n",
       "    </tr>\n",
       "    <tr>\n",
       "      <th>3</th>\n",
       "      <td>b874d1d6ea701bd3f946e02f89255fd18b51034b5dac52...</td>\n",
       "      <td>sweep-010m005-020p000.fits</td>\n",
       "    </tr>\n",
       "    <tr>\n",
       "      <th>4</th>\n",
       "      <td>b9d4eb08e54bf8d92ebc624c18a22b3062b8c8a2ab89a0...</td>\n",
       "      <td>sweep-010p000-020p005.fits</td>\n",
       "    </tr>\n",
       "  </tbody>\n",
       "</table>\n",
       "</div>"
      ],
      "text/plain": [
       "                                                     sum  \\\n",
       "index                                                      \n",
       "0      e7d6ebb79146b54603ff632a49dfa065b67f00e72d41e0...   \n",
       "1      059467281d09b90cd54a5fba819a42cca5e80bdc81d2bd...   \n",
       "2      529ab83d58b6c45e2fb33fb99ad3fc3a30f8610f690499...   \n",
       "3      b874d1d6ea701bd3f946e02f89255fd18b51034b5dac52...   \n",
       "4      b9d4eb08e54bf8d92ebc624c18a22b3062b8c8a2ab89a0...   \n",
       "\n",
       "                             name  \n",
       "index                              \n",
       "0      sweep-000m005-010p000.fits  \n",
       "1      sweep-000p000-010p005.fits  \n",
       "2      sweep-000p040-010p045.fits  \n",
       "3      sweep-010m005-020p000.fits  \n",
       "4      sweep-010p000-020p005.fits  "
      ]
     },
     "execution_count": 101,
     "metadata": {},
     "output_type": "execute_result"
    }
   ],
   "source": [
    "names_north.index.name='index'\n",
    "names_north.head()"
   ]
  },
  {
   "cell_type": "code",
   "execution_count": 107,
   "metadata": {},
   "outputs": [],
   "source": [
    "names_south['selected'] = 0"
   ]
  },
  {
   "cell_type": "code",
   "execution_count": 111,
   "metadata": {},
   "outputs": [
    {
     "name": "stderr",
     "output_type": "stream",
     "text": [
      "/home/rt2122/anaconda3/lib/python3.7/site-packages/ipykernel_launcher.py:1: TqdmDeprecationWarning: This function will be removed in tqdm==5.0.0\n",
      "Please use `tqdm.notebook.tqdm` instead of `tqdm.tqdm_notebook`\n",
      "  \"\"\"Entry point for launching an IPython kernel.\n"
     ]
    },
    {
     "data": {
      "application/vnd.jupyter.widget-view+json": {
       "model_id": "4d685bdc51a34f0789c3347cc82f2aa1",
       "version_major": 2,
       "version_minor": 0
      },
      "text/plain": [
       "HBox(children=(FloatProgress(value=0.0, max=437.0), HTML(value='')))"
      ]
     },
     "metadata": {},
     "output_type": "display_data"
    },
    {
     "name": "stdout",
     "output_type": "stream",
     "text": [
      "\n"
     ]
    }
   ],
   "source": [
    "for i in tqdm_notebook(range(names_south.shape[0])):\n",
    "    name = names_south['name'].iloc[i]\n",
    "    if sweep_in_field(name):\n",
    "        names_south.loc[i, 'selected'] = 1"
   ]
  },
  {
   "cell_type": "code",
   "execution_count": 112,
   "metadata": {},
   "outputs": [
    {
     "name": "stderr",
     "output_type": "stream",
     "text": [
      "/home/rt2122/anaconda3/lib/python3.7/site-packages/ipykernel_launcher.py:1: TqdmDeprecationWarning: This function will be removed in tqdm==5.0.0\n",
      "Please use `tqdm.notebook.tqdm` instead of `tqdm.tqdm_notebook`\n",
      "  \"\"\"Entry point for launching an IPython kernel.\n"
     ]
    },
    {
     "data": {
      "application/vnd.jupyter.widget-view+json": {
       "model_id": "cbb7547ddae049a98322e54f34d92f56",
       "version_major": 2,
       "version_minor": 0
      },
      "text/plain": [
       "HBox(children=(FloatProgress(value=0.0, max=286.0), HTML(value='')))"
      ]
     },
     "metadata": {},
     "output_type": "display_data"
    },
    {
     "name": "stdout",
     "output_type": "stream",
     "text": [
      "\n"
     ]
    }
   ],
   "source": [
    "for i in tqdm_notebook(range(names_north.shape[0])):\n",
    "    name = names_north['name'].iloc[i]\n",
    "    if sweep_in_field(name):\n",
    "        names_north.loc[i, 'selected'] = 1"
   ]
  },
  {
   "cell_type": "code",
   "execution_count": 113,
   "metadata": {},
   "outputs": [],
   "source": [
    "names_north.to_csv('~/Data/selected_sweep_north')\n",
    "names_south.to_csv('~/Data/selected_sweep_south')"
   ]
  },
  {
   "cell_type": "code",
   "execution_count": null,
   "metadata": {},
   "outputs": [],
   "source": []
  }
 ],
 "metadata": {
  "kernelspec": {
   "display_name": "Python 3",
   "language": "python",
   "name": "python3"
  },
  "language_info": {
   "codemirror_mode": {
    "name": "ipython",
    "version": 3
   },
   "file_extension": ".py",
   "mimetype": "text/x-python",
   "name": "python",
   "nbconvert_exporter": "python",
   "pygments_lexer": "ipython3",
   "version": "3.7.6"
  }
 },
 "nbformat": 4,
 "nbformat_minor": 4
}
