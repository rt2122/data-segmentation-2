{
 "cells": [
  {
   "cell_type": "code",
   "execution_count": 2,
   "metadata": {
    "ExecuteTime": {
     "end_time": "2020-12-15T13:09:33.100653Z",
     "start_time": "2020-12-15T13:09:33.092141Z"
    }
   },
   "outputs": [],
   "source": [
    "from DS_detector import gen_pics_for_detection\n",
    "from DS_Planck_Unet import load_planck_model\n",
    "import numpy as np\n",
    "from matplotlib import pyplot as plt"
   ]
  },
  {
   "cell_type": "code",
   "execution_count": 3,
   "metadata": {
    "ExecuteTime": {
     "end_time": "2020-12-15T13:11:41.768723Z",
     "start_time": "2020-12-15T13:09:33.660659Z"
    }
   },
   "outputs": [],
   "source": [
    "all_dict = gen_pics_for_detection(0, load_planck_model(\n",
    "    '/home/rt2122/Models/pz_only/pz_only.ep0014-vl0.006663-l0.004144.hdf5'), step=8)"
   ]
  },
  {
   "cell_type": "code",
   "execution_count": 16,
   "metadata": {
    "ExecuteTime": {
     "end_time": "2020-12-15T13:16:26.007292Z",
     "start_time": "2020-12-15T13:16:25.987419Z"
    }
   },
   "outputs": [],
   "source": [
    "def connect_masks(ans, pic_idx, size=64, big_shape=(1024, 1024, 1)):\n",
    "    import numpy as np\n",
    "    \n",
    "    connected_ans = np.zeros(big_shape)\n",
    "    coef = np.zeros(big_shape)\n",
    "    \n",
    "    for i in range(len(ans)):\n",
    "        x, y = pic_idx[i]\n",
    "        connected_ans[x:x+size, y:y+size, :] += ans[i]\n",
    "        coef[x:x+size,y:y+size, :] += np.ones((size, size, 1))\n",
    "    plt.imshow(coef[:,:,0])\n",
    "    print(coef.max())\n",
    "    \n",
    "    connected_ans /= coef\n",
    "    return coef "
   ]
  },
  {
   "cell_type": "code",
   "execution_count": 17,
   "metadata": {
    "ExecuteTime": {
     "end_time": "2020-12-15T13:16:26.813264Z",
     "start_time": "2020-12-15T13:16:26.299703Z"
    }
   },
   "outputs": [
    {
     "name": "stdout",
     "output_type": "stream",
     "text": [
      "81.0\n"
     ]
    },
    {
     "data": {
      "image/png": "[encoded data removed]",
      "text/plain": [
       "<Figure size 432x288 with 1 Axes>"
      ]
     },
     "metadata": {
      "needs_background": "light"
     },
     "output_type": "display_data"
    }
   ],
   "source": [
    "a = connect_masks(all_dict['ans'], all_dict['pic_idx'])"
   ]
  },
  {
   "cell_type": "code",
   "execution_count": 10,
   "metadata": {
    "ExecuteTime": {
     "end_time": "2020-12-15T13:14:41.298903Z",
     "start_time": "2020-12-15T13:14:41.288889Z"
    }
   },
   "outputs": [
    {
     "data": {
      "text/plain": [
       "(1.0, 81.0)"
      ]
     },
     "execution_count": 10,
     "metadata": {},
     "output_type": "execute_result"
    }
   ],
   "source": [
    "a.min(), a.max()"
   ]
  },
  {
   "cell_type": "code",
   "execution_count": 11,
   "metadata": {
    "ExecuteTime": {
     "end_time": "2020-12-15T13:15:02.664228Z",
     "start_time": "2020-12-15T13:15:02.657686Z"
    }
   },
   "outputs": [
    {
     "data": {
      "text/plain": [
       "array([64.])"
      ]
     },
     "execution_count": 11,
     "metadata": {},
     "output_type": "execute_result"
    }
   ],
   "source": [
    "a[200,200]"
   ]
  },
  {
   "cell_type": "code",
   "execution_count": 13,
   "metadata": {
    "ExecuteTime": {
     "end_time": "2020-12-15T13:15:37.187023Z",
     "start_time": "2020-12-15T13:15:37.018287Z"
    }
   },
   "outputs": [
    {
     "data": {
      "text/plain": [
       "<matplotlib.image.AxesImage at 0x7f4a90e97e80>"
      ]
     },
     "execution_count": 13,
     "metadata": {},
     "output_type": "execute_result"
    },
    {
     "data": {
      "image/png": "[encoded data removed]",
      "text/plain": [
       "<Figure size 432x288 with 1 Axes>"
      ]
     },
     "metadata": {
      "needs_background": "light"
     },
     "output_type": "display_data"
    }
   ],
   "source": [
    "plt.imshow((a > 64)[:,:,0])"
   ]
  },
  {
   "cell_type": "code",
   "execution_count": null,
   "metadata": {},
   "outputs": [],
   "source": []
  }
 ],
 "metadata": {
  "kernelspec": {
   "display_name": "Python 3",
   "language": "python",
   "name": "python3"
  },
  "language_info": {
   "codemirror_mode": {
    "name": "ipython",
    "version": 3
   },
   "file_extension": ".py",
   "mimetype": "text/x-python",
   "name": "python",
   "nbconvert_exporter": "python",
   "pygments_lexer": "ipython3",
   "version": "3.8.3"
  }
 },
 "nbformat": 4,
 "nbformat_minor": 4
}
