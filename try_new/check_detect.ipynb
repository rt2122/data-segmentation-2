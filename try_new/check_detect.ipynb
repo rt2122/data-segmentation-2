{
 "cells": [
  {
   "cell_type": "code",
   "execution_count": 3,
   "metadata": {
    "ExecuteTime": {
     "end_time": "2020-12-13T22:34:50.358717Z",
     "start_time": "2020-12-13T22:34:50.349762Z"
    }
   },
   "outputs": [],
   "source": [
    "from DS_detector import gen_pics_for_detection\n",
    "from DS_Planck_Unet import load_planck_model\n",
    "import numpy as np"
   ]
  },
  {
   "cell_type": "code",
   "execution_count": 4,
   "metadata": {
    "ExecuteTime": {
     "end_time": "2020-12-13T22:37:27.933976Z",
     "start_time": "2020-12-13T22:35:38.600882Z"
    }
   },
   "outputs": [],
   "source": [
    "all_dict = gen_pics_for_detection(0, load_planck_model(\n",
    "    '/home/rt2122/Models/pz_only/pz_only.ep0014-vl0.006663-l0.004144.hdf5'), step=8)"
   ]
  },
  {
   "cell_type": "code",
   "execution_count": 5,
   "metadata": {
    "ExecuteTime": {
     "end_time": "2020-12-13T22:37:27.945171Z",
     "start_time": "2020-12-13T22:37:27.935518Z"
    }
   },
   "outputs": [],
   "source": [
    "def connect_masks(ans, pic_idx, size=64, big_shape=(1024, 1024, 1)):\n",
    "    import numpy as np\n",
    "    \n",
    "    connected_ans = np.zeros(big_shape)\n",
    "    coef = np.zeros(big_shape)\n",
    "    \n",
    "    for i in range(len(ans)):\n",
    "        x, y = pic_idx[i]\n",
    "        connected_ans[x:x+size, y:y+size, :] += ans[i]\n",
    "        coef[x:x+size,y:y+size, :] += np.ones((size, size, 1))\n",
    "    print(coef.max())\n",
    "    \n",
    "    connected_ans /= coef\n",
    "    return connected_ans"
   ]
  },
  {
   "cell_type": "code",
   "execution_count": 6,
   "metadata": {
    "ExecuteTime": {
     "end_time": "2020-12-13T22:37:28.470823Z",
     "start_time": "2020-12-13T22:37:27.989929Z"
    }
   },
   "outputs": [
    {
     "name": "stdout",
     "output_type": "stream",
     "text": [
      "81.0\n"
     ]
    },
    {
     "data": {
      "text/plain": [
       "array([[[0.00000000e+00],\n",
       "        [0.00000000e+00],\n",
       "        [0.00000000e+00],\n",
       "        ...,\n",
       "        [2.31385231e-04],\n",
       "        [4.72694635e-04],\n",
       "        [2.03901529e-03]],\n",
       "\n",
       "       [[0.00000000e+00],\n",
       "        [0.00000000e+00],\n",
       "        [0.00000000e+00],\n",
       "        ...,\n",
       "        [2.58214423e-05],\n",
       "        [6.90771194e-05],\n",
       "        [4.62204218e-04]],\n",
       "\n",
       "       [[0.00000000e+00],\n",
       "        [0.00000000e+00],\n",
       "        [0.00000000e+00],\n",
       "        ...,\n",
       "        [1.36683966e-05],\n",
       "        [4.41831362e-05],\n",
       "        [3.20553780e-04]],\n",
       "\n",
       "       ...,\n",
       "\n",
       "       [[5.95036149e-03],\n",
       "        [2.06476450e-03],\n",
       "        [3.36587429e-04],\n",
       "        ...,\n",
       "        [1.34161413e-02],\n",
       "        [9.99510288e-03],\n",
       "        [1.13996491e-02]],\n",
       "\n",
       "       [[4.20388579e-03],\n",
       "        [1.62711740e-03],\n",
       "        [4.43816185e-04],\n",
       "        ...,\n",
       "        [5.01043200e-02],\n",
       "        [3.25686857e-02],\n",
       "        [3.73677909e-02]],\n",
       "\n",
       "       [[5.72797656e-03],\n",
       "        [8.95261765e-04],\n",
       "        [3.02255154e-04],\n",
       "        ...,\n",
       "        [7.02077001e-02],\n",
       "        [5.03876209e-02],\n",
       "        [7.83659518e-02]]])"
      ]
     },
     "execution_count": 6,
     "metadata": {},
     "output_type": "execute_result"
    }
   ],
   "source": [
    "connect_masks(all_dict['ans'], all_dict['pic_idx'])"
   ]
  },
  {
   "cell_type": "code",
   "execution_count": null,
   "metadata": {},
   "outputs": [],
   "source": []
  }
 ],
 "metadata": {
  "kernelspec": {
   "display_name": "Python 3",
   "language": "python",
   "name": "python3"
  },
  "language_info": {
   "codemirror_mode": {
    "name": "ipython",
    "version": 3
   },
   "file_extension": ".py",
   "mimetype": "text/x-python",
   "name": "python",
   "nbconvert_exporter": "python",
   "pygments_lexer": "ipython3",
   "version": "3.8.3"
  }
 },
 "nbformat": 4,
 "nbformat_minor": 4
}
