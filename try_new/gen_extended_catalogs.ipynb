{
 "cells": [
  {
   "cell_type": "code",
   "execution_count": 2,
   "metadata": {
    "ExecuteTime": {
     "end_time": "2020-10-10T12:33:58.886424Z",
     "start_time": "2020-10-10T12:33:58.879615Z"
    }
   },
   "outputs": [],
   "source": [
    "import pandas as pd\n",
    "import numpy as np\n",
    "from tqdm.notebook import tqdm\n",
    "from DS_Planck_Unet import load_planck_model\n",
    "from DS_detector import gen_pics_for_detection, detect_clusters"
   ]
  },
  {
   "cell_type": "code",
   "execution_count": 3,
   "metadata": {
    "ExecuteTime": {
     "end_time": "2020-10-10T12:35:15.072804Z",
     "start_time": "2020-10-10T12:35:13.335367Z"
    }
   },
   "outputs": [],
   "source": [
    "model = load_planck_model(\n",
    "    '/home/rt2122/Models/planck_z/f8d2.ep0014-vl0.006570-l0.004067.hdf5')"
   ]
  },
  {
   "cell_type": "code",
   "execution_count": 5,
   "metadata": {
    "ExecuteTime": {
     "end_time": "2020-10-10T12:40:22.227517Z",
     "start_time": "2020-10-10T12:40:22.221012Z"
    }
   },
   "outputs": [],
   "source": [
    "thr = 0.9\n",
    "ep = 14"
   ]
  },
  {
   "cell_type": "code",
   "execution_count": 8,
   "metadata": {
    "ExecuteTime": {
     "end_time": "2020-10-10T13:01:38.420572Z",
     "start_time": "2020-10-10T12:41:33.295744Z"
    }
   },
   "outputs": [
    {
     "data": {
      "application/vnd.jupyter.widget-view+json": {
       "model_id": "0d25fad3f5ae4d4698a0648853b11987",
       "version_major": 2,
       "version_minor": 0
      },
      "text/plain": [
       "HBox(children=(FloatProgress(value=0.0, max=48.0), HTML(value='')))"
      ]
     },
     "metadata": {},
     "output_type": "display_data"
    },
    {
     "name": "stderr",
     "output_type": "stream",
     "text": [
      "/home/rt2122/anaconda3/lib/python3.8/site-packages/pandas/core/indexing.py:671: SettingWithCopyWarning: \n",
      "A value is trying to be set on a copy of a slice from a DataFrame\n",
      "\n",
      "See the caveats in the documentation: https://pandas.pydata.org/pandas-docs/stable/user_guide/indexing.html#returning-a-view-versus-a-copy\n",
      "  self._setitem_with_indexer(indexer, value)\n"
     ]
    },
    {
     "name": "stdout",
     "output_type": "stream",
     "text": [
      "\n"
     ]
    }
   ],
   "source": [
    "coords = []\n",
    "for i in tqdm(range(48)):\n",
    "    all_dict = gen_pics_for_detection(i, model, step=16) \n",
    "    coords.append(\n",
    "        detect_clusters(all_dict, thr, ret_coords=True, match_before_merge=True))\n",
    "coords = pd.concat(coords, ignore_index=True)\n",
    "coords.to_csv(\n",
    "    '/home/rt2122/Data/scans_extended/ep{ep}_thr{thr}.csv'.format(ep=ep, \n",
    "                                                                thr=thr), index=False)"
   ]
  },
  {
   "cell_type": "code",
   "execution_count": 9,
   "metadata": {
    "ExecuteTime": {
     "end_time": "2020-10-10T13:01:38.424889Z",
     "start_time": "2020-10-10T13:01:38.422280Z"
    }
   },
   "outputs": [],
   "source": [
    "thr = 0.7"
   ]
  },
  {
   "cell_type": "code",
   "execution_count": 10,
   "metadata": {
    "ExecuteTime": {
     "end_time": "2020-10-10T13:30:07.124743Z",
     "start_time": "2020-10-10T13:01:38.427184Z"
    }
   },
   "outputs": [
    {
     "data": {
      "application/vnd.jupyter.widget-view+json": {
       "model_id": "478adfd2a5b6459db72c128406c06e44",
       "version_major": 2,
       "version_minor": 0
      },
      "text/plain": [
       "HBox(children=(FloatProgress(value=0.0, max=48.0), HTML(value='')))"
      ]
     },
     "metadata": {},
     "output_type": "display_data"
    },
    {
     "name": "stdout",
     "output_type": "stream",
     "text": [
      "\n"
     ]
    }
   ],
   "source": [
    "coords = []\n",
    "for i in tqdm(range(48)):\n",
    "    all_dict = gen_pics_for_detection(i, model, step=16) \n",
    "    coords.append(\n",
    "        detect_clusters(all_dict, thr, ret_coords=True, match_before_merge=True))\n",
    "coords = pd.concat(coords, ignore_index=True)\n",
    "coords.to_csv(\n",
    "    '/home/rt2122/Data/scans_extended/ep{ep}_thr{thr}.csv'.format(ep=ep, \n",
    "                                                                thr=thr), index=False)"
   ]
  },
  {
   "cell_type": "code",
   "execution_count": 11,
   "metadata": {
    "ExecuteTime": {
     "end_time": "2020-10-10T13:30:07.129012Z",
     "start_time": "2020-10-10T13:30:07.126414Z"
    }
   },
   "outputs": [],
   "source": [
    "thr = 0.4"
   ]
  },
  {
   "cell_type": "code",
   "execution_count": 12,
   "metadata": {
    "ExecuteTime": {
     "end_time": "2020-10-10T14:07:36.362481Z",
     "start_time": "2020-10-10T13:30:07.130725Z"
    }
   },
   "outputs": [
    {
     "data": {
      "application/vnd.jupyter.widget-view+json": {
       "model_id": "e5667ab2257c40dc81d900c60659b7c5",
       "version_major": 2,
       "version_minor": 0
      },
      "text/plain": [
       "HBox(children=(FloatProgress(value=0.0, max=48.0), HTML(value='')))"
      ]
     },
     "metadata": {},
     "output_type": "display_data"
    },
    {
     "name": "stdout",
     "output_type": "stream",
     "text": [
      "\n"
     ]
    }
   ],
   "source": [
    "coords = []\n",
    "for i in tqdm(range(48)):\n",
    "    all_dict = gen_pics_for_detection(i, model, step=16) \n",
    "    coords.append(\n",
    "        detect_clusters(all_dict, thr, ret_coords=True, match_before_merge=True))\n",
    "coords = pd.concat(coords, ignore_index=True)\n",
    "coords.to_csv(\n",
    "    '/home/rt2122/Data/scans_extended/ep{ep}_thr{thr}.csv'.format(ep=ep, \n",
    "                                                                thr=thr), index=False)"
   ]
  },
  {
   "cell_type": "code",
   "execution_count": 13,
   "metadata": {
    "ExecuteTime": {
     "end_time": "2020-10-10T14:53:41.160146Z",
     "start_time": "2020-10-10T14:53:40.052391Z"
    }
   },
   "outputs": [],
   "source": [
    "model = load_planck_model(\n",
    "    '/home/rt2122/Models/planck_z/f8d2.ep0040.hdf5')"
   ]
  },
  {
   "cell_type": "code",
   "execution_count": 14,
   "metadata": {
    "ExecuteTime": {
     "end_time": "2020-10-10T14:53:51.941325Z",
     "start_time": "2020-10-10T14:53:51.931032Z"
    }
   },
   "outputs": [],
   "source": [
    "thr = 0.9\n",
    "ep = 40"
   ]
  },
  {
   "cell_type": "code",
   "execution_count": 15,
   "metadata": {
    "ExecuteTime": {
     "end_time": "2020-10-10T15:20:52.960894Z",
     "start_time": "2020-10-10T14:54:07.728874Z"
    }
   },
   "outputs": [
    {
     "data": {
      "application/vnd.jupyter.widget-view+json": {
       "model_id": "c4f0f0efeda8403ca5049f95e3422d57",
       "version_major": 2,
       "version_minor": 0
      },
      "text/plain": [
       "HBox(children=(FloatProgress(value=0.0, max=48.0), HTML(value='')))"
      ]
     },
     "metadata": {},
     "output_type": "display_data"
    },
    {
     "name": "stderr",
     "output_type": "stream",
     "text": [
      "/home/rt2122/anaconda3/lib/python3.8/site-packages/pandas/core/indexing.py:671: SettingWithCopyWarning: \n",
      "A value is trying to be set on a copy of a slice from a DataFrame\n",
      "\n",
      "See the caveats in the documentation: https://pandas.pydata.org/pandas-docs/stable/user_guide/indexing.html#returning-a-view-versus-a-copy\n",
      "  self._setitem_with_indexer(indexer, value)\n"
     ]
    },
    {
     "name": "stdout",
     "output_type": "stream",
     "text": [
      "\n"
     ]
    }
   ],
   "source": [
    "coords = []\n",
    "for i in tqdm(range(48)):\n",
    "    all_dict = gen_pics_for_detection(i, model, step=16) \n",
    "    coords.append(\n",
    "        detect_clusters(all_dict, thr, ret_coords=True, match_before_merge=True))\n",
    "coords = pd.concat(coords, ignore_index=True)\n",
    "coords.to_csv(\n",
    "    '/home/rt2122/Data/scans_extended/ep{ep}_thr{thr}.csv'.format(ep=ep, \n",
    "                                                                thr=thr), index=False)"
   ]
  },
  {
   "cell_type": "code",
   "execution_count": 16,
   "metadata": {
    "ExecuteTime": {
     "end_time": "2020-10-10T15:20:52.967861Z",
     "start_time": "2020-10-10T15:20:52.962344Z"
    }
   },
   "outputs": [],
   "source": [
    "thr = 0.7"
   ]
  },
  {
   "cell_type": "code",
   "execution_count": 18,
   "metadata": {
    "ExecuteTime": {
     "end_time": "2020-10-10T16:12:27.954248Z",
     "start_time": "2020-10-10T15:36:23.347477Z"
    }
   },
   "outputs": [
    {
     "data": {
      "application/vnd.jupyter.widget-view+json": {
       "model_id": "9f0e922a3f284017b64b1f560b669d39",
       "version_major": 2,
       "version_minor": 0
      },
      "text/plain": [
       "HBox(children=(FloatProgress(value=0.0, max=48.0), HTML(value='')))"
      ]
     },
     "metadata": {},
     "output_type": "display_data"
    },
    {
     "name": "stdout",
     "output_type": "stream",
     "text": [
      "\n"
     ]
    }
   ],
   "source": [
    "coords = []\n",
    "for i in tqdm(range(48)):\n",
    "    all_dict = gen_pics_for_detection(i, model, step=16) \n",
    "    coords.append(\n",
    "        detect_clusters(all_dict, thr, ret_coords=True, match_before_merge=True))\n",
    "coords = pd.concat(coords, ignore_index=True)\n",
    "coords.to_csv(\n",
    "    '/home/rt2122/Data/scans_extended/ep{ep}_thr{thr}.csv'.format(ep=ep, \n",
    "                                                                thr=thr), index=False)"
   ]
  },
  {
   "cell_type": "code",
   "execution_count": 19,
   "metadata": {
    "ExecuteTime": {
     "end_time": "2020-10-10T16:12:27.960141Z",
     "start_time": "2020-10-10T16:12:27.956949Z"
    }
   },
   "outputs": [],
   "source": [
    "thr = 0.4"
   ]
  },
  {
   "cell_type": "code",
   "execution_count": 20,
   "metadata": {
    "ExecuteTime": {
     "end_time": "2020-10-10T16:55:00.691148Z",
     "start_time": "2020-10-10T16:12:27.962705Z"
    }
   },
   "outputs": [
    {
     "data": {
      "application/vnd.jupyter.widget-view+json": {
       "model_id": "6947ca23b35b40e6a0d97f4217ac158a",
       "version_major": 2,
       "version_minor": 0
      },
      "text/plain": [
       "HBox(children=(FloatProgress(value=0.0, max=48.0), HTML(value='')))"
      ]
     },
     "metadata": {},
     "output_type": "display_data"
    },
    {
     "name": "stdout",
     "output_type": "stream",
     "text": [
      "\n"
     ]
    }
   ],
   "source": [
    "coords = []\n",
    "for i in tqdm(range(48)):\n",
    "    all_dict = gen_pics_for_detection(i, model, step=16) \n",
    "    coords.append(\n",
    "        detect_clusters(all_dict, thr, ret_coords=True, match_before_merge=True))\n",
    "coords = pd.concat(coords, ignore_index=True)\n",
    "coords.to_csv(\n",
    "    '/home/rt2122/Data/scans_extended/ep{ep}_thr{thr}.csv'.format(ep=ep, \n",
    "                                                                thr=thr), index=False)"
   ]
  },
  {
   "cell_type": "code",
   "execution_count": 21,
   "metadata": {
    "ExecuteTime": {
     "end_time": "2020-10-10T16:55:00.703960Z",
     "start_time": "2020-10-10T16:55:00.692847Z"
    }
   },
   "outputs": [
    {
     "ename": "NameError",
     "evalue": "name 'plt' is not defined",
     "output_type": "error",
     "traceback": [
      "\u001b[0;31m---------------------------------------------------------------------------\u001b[0m",
      "\u001b[0;31mNameError\u001b[0m                                 Traceback (most recent call last)",
      "\u001b[0;32m<ipython-input-21-9ed62372c2f8>\u001b[0m in \u001b[0;36m<module>\u001b[0;34m\u001b[0m\n\u001b[0;32m----> 1\u001b[0;31m \u001b[0mfig\u001b[0m\u001b[0;34m,\u001b[0m \u001b[0max\u001b[0m \u001b[0;34m=\u001b[0m \u001b[0mplt\u001b[0m\u001b[0;34m.\u001b[0m\u001b[0msubplots\u001b[0m\u001b[0;34m(\u001b[0m\u001b[0mfigsize\u001b[0m\u001b[0;34m=\u001b[0m\u001b[0;34m(\u001b[0m\u001b[0;36m10\u001b[0m\u001b[0;34m,\u001b[0m \u001b[0;36m10\u001b[0m\u001b[0;34m)\u001b[0m\u001b[0;34m)\u001b[0m\u001b[0;34m\u001b[0m\u001b[0;34m\u001b[0m\u001b[0m\n\u001b[0m\u001b[1;32m      2\u001b[0m \u001b[0max\u001b[0m\u001b[0;34m.\u001b[0m\u001b[0mscatter\u001b[0m\u001b[0;34m(\u001b[0m\u001b[0mfp\u001b[0m\u001b[0;34m[\u001b[0m\u001b[0;34m'max_rad'\u001b[0m\u001b[0;34m]\u001b[0m\u001b[0;34m,\u001b[0m \u001b[0mfp\u001b[0m\u001b[0;34m[\u001b[0m\u001b[0;34m'max_pred'\u001b[0m\u001b[0;34m]\u001b[0m\u001b[0;34m,\u001b[0m \u001b[0mc\u001b[0m\u001b[0;34m=\u001b[0m\u001b[0;34m'r'\u001b[0m\u001b[0;34m)\u001b[0m\u001b[0;34m\u001b[0m\u001b[0;34m\u001b[0m\u001b[0m\n\u001b[1;32m      3\u001b[0m \u001b[0mplt\u001b[0m\u001b[0;34m.\u001b[0m\u001b[0mshow\u001b[0m\u001b[0;34m(\u001b[0m\u001b[0;34m)\u001b[0m\u001b[0;34m\u001b[0m\u001b[0;34m\u001b[0m\u001b[0m\n",
      "\u001b[0;31mNameError\u001b[0m: name 'plt' is not defined"
     ]
    }
   ],
   "source": [
    "fig, ax = plt.subplots(figsize=(10, 10))\n",
    "ax.scatter(fp['max_rad'], fp['max_pred'], c='r')\n",
    "plt.show()"
   ]
  },
  {
   "cell_type": "code",
   "execution_count": null,
   "metadata": {},
   "outputs": [],
   "source": []
  }
 ],
 "metadata": {
  "kernelspec": {
   "display_name": "Python 3",
   "language": "python",
   "name": "python3"
  },
  "language_info": {
   "codemirror_mode": {
    "name": "ipython",
    "version": 3
   },
   "file_extension": ".py",
   "mimetype": "text/x-python",
   "name": "python",
   "nbconvert_exporter": "python",
   "pygments_lexer": "ipython3",
   "version": "3.8.3"
  }
 },
 "nbformat": 4,
 "nbformat_minor": 4
}
