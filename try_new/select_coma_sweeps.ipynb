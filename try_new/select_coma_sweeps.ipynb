{
 "cells": [
  {
   "cell_type": "code",
   "execution_count": 1,
   "metadata": {
    "ExecuteTime": {
     "end_time": "2020-07-14T11:21:34.275076Z",
     "start_time": "2020-07-14T11:21:34.044558Z"
    }
   },
   "outputs": [],
   "source": [
    "import numpy as np\n",
    "import pandas as pd"
   ]
  },
  {
   "cell_type": "code",
   "execution_count": 2,
   "metadata": {
    "ExecuteTime": {
     "end_time": "2020-07-14T11:21:34.755384Z",
     "start_time": "2020-07-14T11:21:34.742735Z"
    }
   },
   "outputs": [],
   "source": [
    "sweep_north = pd.read_csv('/home/rt2122/Data/selected_sweep_north.csv', index_col='index')"
   ]
  },
  {
   "cell_type": "code",
   "execution_count": 3,
   "metadata": {
    "ExecuteTime": {
     "end_time": "2020-07-14T11:21:35.880545Z",
     "start_time": "2020-07-14T11:21:35.797679Z"
    }
   },
   "outputs": [
    {
     "data": {
      "text/html": [
       "<div>\n",
       "<style scoped>\n",
       "    .dataframe tbody tr th:only-of-type {\n",
       "        vertical-align: middle;\n",
       "    }\n",
       "\n",
       "    .dataframe tbody tr th {\n",
       "        vertical-align: top;\n",
       "    }\n",
       "\n",
       "    .dataframe thead th {\n",
       "        text-align: right;\n",
       "    }\n",
       "</style>\n",
       "<table border=\"1\" class=\"dataframe\">\n",
       "  <thead>\n",
       "    <tr style=\"text-align: right;\">\n",
       "      <th></th>\n",
       "      <th>sum</th>\n",
       "      <th>name</th>\n",
       "      <th>selected</th>\n",
       "    </tr>\n",
       "    <tr>\n",
       "      <th>index</th>\n",
       "      <th></th>\n",
       "      <th></th>\n",
       "      <th></th>\n",
       "    </tr>\n",
       "  </thead>\n",
       "  <tbody>\n",
       "    <tr>\n",
       "      <th>0</th>\n",
       "      <td>e7d6ebb79146b54603ff632a49dfa065b67f00e72d41e0...</td>\n",
       "      <td>sweep-000m005-010p000.fits</td>\n",
       "      <td>NaN</td>\n",
       "    </tr>\n",
       "    <tr>\n",
       "      <th>1</th>\n",
       "      <td>059467281d09b90cd54a5fba819a42cca5e80bdc81d2bd...</td>\n",
       "      <td>sweep-000p000-010p005.fits</td>\n",
       "      <td>NaN</td>\n",
       "    </tr>\n",
       "    <tr>\n",
       "      <th>2</th>\n",
       "      <td>529ab83d58b6c45e2fb33fb99ad3fc3a30f8610f690499...</td>\n",
       "      <td>sweep-000p040-010p045.fits</td>\n",
       "      <td>NaN</td>\n",
       "    </tr>\n",
       "    <tr>\n",
       "      <th>3</th>\n",
       "      <td>b874d1d6ea701bd3f946e02f89255fd18b51034b5dac52...</td>\n",
       "      <td>sweep-010m005-020p000.fits</td>\n",
       "      <td>NaN</td>\n",
       "    </tr>\n",
       "    <tr>\n",
       "      <th>4</th>\n",
       "      <td>b9d4eb08e54bf8d92ebc624c18a22b3062b8c8a2ab89a0...</td>\n",
       "      <td>sweep-010p000-020p005.fits</td>\n",
       "      <td>NaN</td>\n",
       "    </tr>\n",
       "  </tbody>\n",
       "</table>\n",
       "</div>"
      ],
      "text/plain": [
       "                                                     sum  \\\n",
       "index                                                      \n",
       "0      e7d6ebb79146b54603ff632a49dfa065b67f00e72d41e0...   \n",
       "1      059467281d09b90cd54a5fba819a42cca5e80bdc81d2bd...   \n",
       "2      529ab83d58b6c45e2fb33fb99ad3fc3a30f8610f690499...   \n",
       "3      b874d1d6ea701bd3f946e02f89255fd18b51034b5dac52...   \n",
       "4      b9d4eb08e54bf8d92ebc624c18a22b3062b8c8a2ab89a0...   \n",
       "\n",
       "                             name  selected  \n",
       "index                                        \n",
       "0      sweep-000m005-010p000.fits       NaN  \n",
       "1      sweep-000p000-010p005.fits       NaN  \n",
       "2      sweep-000p040-010p045.fits       NaN  \n",
       "3      sweep-010m005-020p000.fits       NaN  \n",
       "4      sweep-010p000-020p005.fits       NaN  "
      ]
     },
     "execution_count": 3,
     "metadata": {},
     "output_type": "execute_result"
    }
   ],
   "source": [
    "sweep_north.head()"
   ]
  },
  {
   "cell_type": "code",
   "execution_count": 4,
   "metadata": {
    "ExecuteTime": {
     "end_time": "2020-07-14T11:21:39.582372Z",
     "start_time": "2020-07-14T11:21:39.570180Z"
    }
   },
   "outputs": [
    {
     "data": {
      "text/plain": [
       "array([0., 0., 0., 0., 0., 0., 0., 0., 0., 0., 0., 0., 0., 0., 0., 0., 0.,\n",
       "       0., 0., 0., 0., 0., 0., 0., 0., 0., 0., 0., 0., 0., 0., 0., 0., 0.,\n",
       "       0., 0., 0., 0., 0., 0., 0., 0., 0., 0., 0., 0., 0., 0., 0., 0., 0.,\n",
       "       0., 0., 0., 0., 0., 0., 0., 0., 0., 0., 0., 0., 0., 0., 0., 0., 0.,\n",
       "       0., 0., 0., 0., 0., 0., 0., 0., 0., 0., 0., 0., 0., 0., 0., 0., 0.,\n",
       "       0., 0., 0., 0., 0., 0., 0., 0., 0., 0., 0., 0., 0., 0., 0., 0., 1.,\n",
       "       1., 1., 0., 0., 0., 0., 0., 0., 0., 0., 0., 1., 1., 1., 0., 0., 0.,\n",
       "       0., 0., 0., 0., 0., 0., 0., 0., 0., 0., 0., 0., 0., 0., 0., 0., 0.,\n",
       "       0., 0., 0., 0., 0., 0., 0., 0., 0., 0., 0., 0., 0., 0., 0., 0., 0.,\n",
       "       0., 0., 0., 0., 0., 0., 0., 0., 0., 0., 0., 0., 0., 0., 0., 0., 0.,\n",
       "       0., 0., 0., 0., 0., 0., 0., 0., 0., 0., 0., 0., 0., 0., 0., 0., 0.,\n",
       "       0., 0., 0., 0., 0., 0., 0., 0., 0., 0., 0., 0., 0., 0., 0., 0., 0.,\n",
       "       0., 0., 0., 0., 0., 0., 0., 0., 0., 0., 0., 0., 0., 0., 0., 0., 0.,\n",
       "       0., 0., 0., 0., 0., 0., 0., 0., 0., 0., 0., 0., 0., 0., 0., 0., 0.,\n",
       "       0., 0., 0., 0., 0., 0., 0., 0., 0., 0., 0., 0., 0., 0., 0., 0., 0.,\n",
       "       0., 0., 0., 0., 0., 0., 0., 0., 0., 0., 0., 0., 0., 0., 0., 0., 0.,\n",
       "       0., 0., 0., 0., 0., 0., 0., 0., 0., 0., 0., 0., 0., 0.])"
      ]
     },
     "execution_count": 4,
     "metadata": {},
     "output_type": "execute_result"
    }
   ],
   "source": [
    "np.nan_to_num(sweep_north['selected'], copy=False, nan=0)"
   ]
  },
  {
   "cell_type": "code",
   "execution_count": 5,
   "metadata": {
    "ExecuteTime": {
     "end_time": "2020-07-14T11:21:42.505327Z",
     "start_time": "2020-07-14T11:21:42.491095Z"
    }
   },
   "outputs": [],
   "source": [
    "sweep_north['coma_selected'] = False"
   ]
  },
  {
   "cell_type": "code",
   "execution_count": 6,
   "metadata": {
    "ExecuteTime": {
     "end_time": "2020-07-14T11:21:42.992460Z",
     "start_time": "2020-07-14T11:21:42.943482Z"
    }
   },
   "outputs": [
    {
     "data": {
      "text/html": [
       "<div>\n",
       "<style scoped>\n",
       "    .dataframe tbody tr th:only-of-type {\n",
       "        vertical-align: middle;\n",
       "    }\n",
       "\n",
       "    .dataframe tbody tr th {\n",
       "        vertical-align: top;\n",
       "    }\n",
       "\n",
       "    .dataframe thead th {\n",
       "        text-align: right;\n",
       "    }\n",
       "</style>\n",
       "<table border=\"1\" class=\"dataframe\">\n",
       "  <thead>\n",
       "    <tr style=\"text-align: right;\">\n",
       "      <th></th>\n",
       "      <th>sum</th>\n",
       "      <th>name</th>\n",
       "      <th>selected</th>\n",
       "      <th>coma_selected</th>\n",
       "    </tr>\n",
       "    <tr>\n",
       "      <th>index</th>\n",
       "      <th></th>\n",
       "      <th></th>\n",
       "      <th></th>\n",
       "      <th></th>\n",
       "    </tr>\n",
       "  </thead>\n",
       "  <tbody>\n",
       "    <tr>\n",
       "      <th>0</th>\n",
       "      <td>e7d6ebb79146b54603ff632a49dfa065b67f00e72d41e0...</td>\n",
       "      <td>sweep-000m005-010p000.fits</td>\n",
       "      <td>0.0</td>\n",
       "      <td>False</td>\n",
       "    </tr>\n",
       "    <tr>\n",
       "      <th>1</th>\n",
       "      <td>059467281d09b90cd54a5fba819a42cca5e80bdc81d2bd...</td>\n",
       "      <td>sweep-000p000-010p005.fits</td>\n",
       "      <td>0.0</td>\n",
       "      <td>False</td>\n",
       "    </tr>\n",
       "    <tr>\n",
       "      <th>2</th>\n",
       "      <td>529ab83d58b6c45e2fb33fb99ad3fc3a30f8610f690499...</td>\n",
       "      <td>sweep-000p040-010p045.fits</td>\n",
       "      <td>0.0</td>\n",
       "      <td>False</td>\n",
       "    </tr>\n",
       "    <tr>\n",
       "      <th>3</th>\n",
       "      <td>b874d1d6ea701bd3f946e02f89255fd18b51034b5dac52...</td>\n",
       "      <td>sweep-010m005-020p000.fits</td>\n",
       "      <td>0.0</td>\n",
       "      <td>False</td>\n",
       "    </tr>\n",
       "    <tr>\n",
       "      <th>4</th>\n",
       "      <td>b9d4eb08e54bf8d92ebc624c18a22b3062b8c8a2ab89a0...</td>\n",
       "      <td>sweep-010p000-020p005.fits</td>\n",
       "      <td>0.0</td>\n",
       "      <td>False</td>\n",
       "    </tr>\n",
       "  </tbody>\n",
       "</table>\n",
       "</div>"
      ],
      "text/plain": [
       "                                                     sum  \\\n",
       "index                                                      \n",
       "0      e7d6ebb79146b54603ff632a49dfa065b67f00e72d41e0...   \n",
       "1      059467281d09b90cd54a5fba819a42cca5e80bdc81d2bd...   \n",
       "2      529ab83d58b6c45e2fb33fb99ad3fc3a30f8610f690499...   \n",
       "3      b874d1d6ea701bd3f946e02f89255fd18b51034b5dac52...   \n",
       "4      b9d4eb08e54bf8d92ebc624c18a22b3062b8c8a2ab89a0...   \n",
       "\n",
       "                             name  selected  coma_selected  \n",
       "index                                                       \n",
       "0      sweep-000m005-010p000.fits       0.0          False  \n",
       "1      sweep-000p000-010p005.fits       0.0          False  \n",
       "2      sweep-000p040-010p045.fits       0.0          False  \n",
       "3      sweep-010m005-020p000.fits       0.0          False  \n",
       "4      sweep-010p000-020p005.fits       0.0          False  "
      ]
     },
     "execution_count": 6,
     "metadata": {},
     "output_type": "execute_result"
    }
   ],
   "source": [
    "sweep_north.head()"
   ]
  },
  {
   "cell_type": "code",
   "execution_count": 7,
   "metadata": {
    "ExecuteTime": {
     "end_time": "2020-07-14T11:21:54.985095Z",
     "start_time": "2020-07-14T11:21:54.975674Z"
    }
   },
   "outputs": [],
   "source": [
    "from DS_coordinates import coords_in_sweep "
   ]
  },
  {
   "cell_type": "code",
   "execution_count": 8,
   "metadata": {
    "ExecuteTime": {
     "end_time": "2020-07-14T11:38:08.300760Z",
     "start_time": "2020-07-14T11:38:08.297086Z"
    }
   },
   "outputs": [],
   "source": [
    "coords = (195, 28)"
   ]
  },
  {
   "cell_type": "code",
   "execution_count": 13,
   "metadata": {
    "ExecuteTime": {
     "end_time": "2020-07-14T11:39:06.591415Z",
     "start_time": "2020-07-14T11:39:06.503242Z"
    }
   },
   "outputs": [
    {
     "name": "stderr",
     "output_type": "stream",
     "text": [
      "/home/rt2122/anaconda3/lib/python3.7/site-packages/pandas/core/indexing.py:670: SettingWithCopyWarning: \n",
      "A value is trying to be set on a copy of a slice from a DataFrame\n",
      "\n",
      "See the caveats in the documentation: https://pandas.pydata.org/pandas-docs/stable/user_guide/indexing.html#returning-a-view-versus-a-copy\n",
      "  self._setitem_with_indexer(indexer, value)\n"
     ]
    }
   ],
   "source": [
    "for i in range(sweep_north.shape[0]):\n",
    "    sweep_north['coma_selected'].loc[i] = coords_in_sweep(sweep_north.loc[i, 'name'], \n",
    "                                                          coords)"
   ]
  },
  {
   "cell_type": "code",
   "execution_count": 12,
   "metadata": {
    "ExecuteTime": {
     "end_time": "2020-07-14T11:38:59.329905Z",
     "start_time": "2020-07-14T11:38:59.319413Z"
    }
   },
   "outputs": [
    {
     "data": {
      "text/plain": [
       "'sweep-000p040-010p045.fits'"
      ]
     },
     "execution_count": 12,
     "metadata": {},
     "output_type": "execute_result"
    }
   ],
   "source": [
    "sweep_north.loc[2, 'name']"
   ]
  },
  {
   "cell_type": "code",
   "execution_count": 14,
   "metadata": {
    "ExecuteTime": {
     "end_time": "2020-07-14T11:39:18.793092Z",
     "start_time": "2020-07-14T11:39:18.771717Z"
    }
   },
   "outputs": [
    {
     "data": {
      "text/html": [
       "<div>\n",
       "<style scoped>\n",
       "    .dataframe tbody tr th:only-of-type {\n",
       "        vertical-align: middle;\n",
       "    }\n",
       "\n",
       "    .dataframe tbody tr th {\n",
       "        vertical-align: top;\n",
       "    }\n",
       "\n",
       "    .dataframe thead th {\n",
       "        text-align: right;\n",
       "    }\n",
       "</style>\n",
       "<table border=\"1\" class=\"dataframe\">\n",
       "  <thead>\n",
       "    <tr style=\"text-align: right;\">\n",
       "      <th></th>\n",
       "      <th>sum</th>\n",
       "      <th>name</th>\n",
       "      <th>selected</th>\n",
       "      <th>coma_selected</th>\n",
       "    </tr>\n",
       "    <tr>\n",
       "      <th>index</th>\n",
       "      <th></th>\n",
       "      <th></th>\n",
       "      <th></th>\n",
       "      <th></th>\n",
       "    </tr>\n",
       "  </thead>\n",
       "  <tbody>\n",
       "    <tr>\n",
       "      <th>0</th>\n",
       "      <td>e7d6ebb79146b54603ff632a49dfa065b67f00e72d41e0...</td>\n",
       "      <td>sweep-000m005-010p000.fits</td>\n",
       "      <td>0.0</td>\n",
       "      <td>False</td>\n",
       "    </tr>\n",
       "    <tr>\n",
       "      <th>1</th>\n",
       "      <td>059467281d09b90cd54a5fba819a42cca5e80bdc81d2bd...</td>\n",
       "      <td>sweep-000p000-010p005.fits</td>\n",
       "      <td>0.0</td>\n",
       "      <td>False</td>\n",
       "    </tr>\n",
       "    <tr>\n",
       "      <th>2</th>\n",
       "      <td>529ab83d58b6c45e2fb33fb99ad3fc3a30f8610f690499...</td>\n",
       "      <td>sweep-000p040-010p045.fits</td>\n",
       "      <td>0.0</td>\n",
       "      <td>False</td>\n",
       "    </tr>\n",
       "    <tr>\n",
       "      <th>3</th>\n",
       "      <td>b874d1d6ea701bd3f946e02f89255fd18b51034b5dac52...</td>\n",
       "      <td>sweep-010m005-020p000.fits</td>\n",
       "      <td>0.0</td>\n",
       "      <td>False</td>\n",
       "    </tr>\n",
       "    <tr>\n",
       "      <th>4</th>\n",
       "      <td>b9d4eb08e54bf8d92ebc624c18a22b3062b8c8a2ab89a0...</td>\n",
       "      <td>sweep-010p000-020p005.fits</td>\n",
       "      <td>0.0</td>\n",
       "      <td>False</td>\n",
       "    </tr>\n",
       "  </tbody>\n",
       "</table>\n",
       "</div>"
      ],
      "text/plain": [
       "                                                     sum  \\\n",
       "index                                                      \n",
       "0      e7d6ebb79146b54603ff632a49dfa065b67f00e72d41e0...   \n",
       "1      059467281d09b90cd54a5fba819a42cca5e80bdc81d2bd...   \n",
       "2      529ab83d58b6c45e2fb33fb99ad3fc3a30f8610f690499...   \n",
       "3      b874d1d6ea701bd3f946e02f89255fd18b51034b5dac52...   \n",
       "4      b9d4eb08e54bf8d92ebc624c18a22b3062b8c8a2ab89a0...   \n",
       "\n",
       "                             name  selected  coma_selected  \n",
       "index                                                       \n",
       "0      sweep-000m005-010p000.fits       0.0          False  \n",
       "1      sweep-000p000-010p005.fits       0.0          False  \n",
       "2      sweep-000p040-010p045.fits       0.0          False  \n",
       "3      sweep-010m005-020p000.fits       0.0          False  \n",
       "4      sweep-010p000-020p005.fits       0.0          False  "
      ]
     },
     "execution_count": 14,
     "metadata": {},
     "output_type": "execute_result"
    }
   ],
   "source": [
    "sweep_north.head()"
   ]
  },
  {
   "cell_type": "code",
   "execution_count": 15,
   "metadata": {
    "ExecuteTime": {
     "end_time": "2020-07-14T11:39:45.610381Z",
     "start_time": "2020-07-14T11:39:45.601680Z"
    }
   },
   "outputs": [
    {
     "data": {
      "text/plain": [
       "1"
      ]
     },
     "execution_count": 15,
     "metadata": {},
     "output_type": "execute_result"
    }
   ],
   "source": [
    "np.count_nonzero(sweep_north['coma_selected'])"
   ]
  },
  {
   "cell_type": "code",
   "execution_count": 16,
   "metadata": {
    "ExecuteTime": {
     "end_time": "2020-07-14T11:40:32.474988Z",
     "start_time": "2020-07-14T11:40:32.260414Z"
    }
   },
   "outputs": [],
   "source": [
    "sweep_north.to_csv('/home/rt2122/Data/selected_sweep_north.csv')"
   ]
  },
  {
   "cell_type": "code",
   "execution_count": 17,
   "metadata": {
    "ExecuteTime": {
     "end_time": "2020-07-14T11:41:03.884368Z",
     "start_time": "2020-07-14T11:41:03.824161Z"
    }
   },
   "outputs": [
    {
     "data": {
      "text/html": [
       "<div>\n",
       "<style scoped>\n",
       "    .dataframe tbody tr th:only-of-type {\n",
       "        vertical-align: middle;\n",
       "    }\n",
       "\n",
       "    .dataframe tbody tr th {\n",
       "        vertical-align: top;\n",
       "    }\n",
       "\n",
       "    .dataframe thead th {\n",
       "        text-align: right;\n",
       "    }\n",
       "</style>\n",
       "<table border=\"1\" class=\"dataframe\">\n",
       "  <thead>\n",
       "    <tr style=\"text-align: right;\">\n",
       "      <th></th>\n",
       "      <th>sum</th>\n",
       "      <th>name</th>\n",
       "      <th>selected</th>\n",
       "    </tr>\n",
       "    <tr>\n",
       "      <th>index</th>\n",
       "      <th></th>\n",
       "      <th></th>\n",
       "      <th></th>\n",
       "    </tr>\n",
       "  </thead>\n",
       "  <tbody>\n",
       "    <tr>\n",
       "      <th>0</th>\n",
       "      <td>fd0ca1647b0be98cab8b6a2a37da58169358eaaf71dec9...</td>\n",
       "      <td>sweep-000m005-010p000.fits</td>\n",
       "      <td>0</td>\n",
       "    </tr>\n",
       "    <tr>\n",
       "      <th>1</th>\n",
       "      <td>79d5db41dddcc3da001573657a4c7c6f2d51743e9a4d2c...</td>\n",
       "      <td>sweep-000m010-010m005.fits</td>\n",
       "      <td>0</td>\n",
       "    </tr>\n",
       "    <tr>\n",
       "      <th>2</th>\n",
       "      <td>db086d6ebe0a77ab657f8613698b8c25ac2f3cd9fe4e8f...</td>\n",
       "      <td>sweep-000m015-010m010.fits</td>\n",
       "      <td>0</td>\n",
       "    </tr>\n",
       "    <tr>\n",
       "      <th>3</th>\n",
       "      <td>613f861882fd4849fec715f6e5657a66a0d72a12998bd9...</td>\n",
       "      <td>sweep-000m020-010m015.fits</td>\n",
       "      <td>0</td>\n",
       "    </tr>\n",
       "    <tr>\n",
       "      <th>4</th>\n",
       "      <td>22f9da834c527729079bf721313fdb19fd2bd09e0071aa...</td>\n",
       "      <td>sweep-000m025-010m020.fits</td>\n",
       "      <td>0</td>\n",
       "    </tr>\n",
       "  </tbody>\n",
       "</table>\n",
       "</div>"
      ],
      "text/plain": [
       "                                                     sum  \\\n",
       "index                                                      \n",
       "0      fd0ca1647b0be98cab8b6a2a37da58169358eaaf71dec9...   \n",
       "1      79d5db41dddcc3da001573657a4c7c6f2d51743e9a4d2c...   \n",
       "2      db086d6ebe0a77ab657f8613698b8c25ac2f3cd9fe4e8f...   \n",
       "3      613f861882fd4849fec715f6e5657a66a0d72a12998bd9...   \n",
       "4      22f9da834c527729079bf721313fdb19fd2bd09e0071aa...   \n",
       "\n",
       "                             name  selected  \n",
       "index                                        \n",
       "0      sweep-000m005-010p000.fits         0  \n",
       "1      sweep-000m010-010m005.fits         0  \n",
       "2      sweep-000m015-010m010.fits         0  \n",
       "3      sweep-000m020-010m015.fits         0  \n",
       "4      sweep-000m025-010m020.fits         0  "
      ]
     },
     "execution_count": 17,
     "metadata": {},
     "output_type": "execute_result"
    }
   ],
   "source": [
    "sweep_south = pd.read_csv('/home/rt2122/Data/selected_sweep_south.csv', index_col='index')\n",
    "sweep_south.head()"
   ]
  },
  {
   "cell_type": "code",
   "execution_count": 19,
   "metadata": {
    "ExecuteTime": {
     "end_time": "2020-07-14T11:41:56.108352Z",
     "start_time": "2020-07-14T11:41:56.101439Z"
    }
   },
   "outputs": [],
   "source": [
    "sweep_south['coma_selected'] = False"
   ]
  },
  {
   "cell_type": "code",
   "execution_count": 20,
   "metadata": {
    "ExecuteTime": {
     "end_time": "2020-07-14T11:41:56.485521Z",
     "start_time": "2020-07-14T11:41:56.375727Z"
    }
   },
   "outputs": [
    {
     "name": "stderr",
     "output_type": "stream",
     "text": [
      "/home/rt2122/anaconda3/lib/python3.7/site-packages/pandas/core/indexing.py:670: SettingWithCopyWarning: \n",
      "A value is trying to be set on a copy of a slice from a DataFrame\n",
      "\n",
      "See the caveats in the documentation: https://pandas.pydata.org/pandas-docs/stable/user_guide/indexing.html#returning-a-view-versus-a-copy\n",
      "  self._setitem_with_indexer(indexer, value)\n"
     ]
    }
   ],
   "source": [
    "for i in range(sweep_north.shape[0]):\n",
    "    sweep_south['coma_selected'].loc[i] = coords_in_sweep(sweep_south.loc[i, 'name'], \n",
    "                                                          coords)"
   ]
  },
  {
   "cell_type": "code",
   "execution_count": 21,
   "metadata": {
    "ExecuteTime": {
     "end_time": "2020-07-14T11:42:10.255535Z",
     "start_time": "2020-07-14T11:42:10.238048Z"
    }
   },
   "outputs": [
    {
     "data": {
      "text/html": [
       "<div>\n",
       "<style scoped>\n",
       "    .dataframe tbody tr th:only-of-type {\n",
       "        vertical-align: middle;\n",
       "    }\n",
       "\n",
       "    .dataframe tbody tr th {\n",
       "        vertical-align: top;\n",
       "    }\n",
       "\n",
       "    .dataframe thead th {\n",
       "        text-align: right;\n",
       "    }\n",
       "</style>\n",
       "<table border=\"1\" class=\"dataframe\">\n",
       "  <thead>\n",
       "    <tr style=\"text-align: right;\">\n",
       "      <th></th>\n",
       "      <th>sum</th>\n",
       "      <th>name</th>\n",
       "      <th>selected</th>\n",
       "      <th>coma_selected</th>\n",
       "    </tr>\n",
       "    <tr>\n",
       "      <th>index</th>\n",
       "      <th></th>\n",
       "      <th></th>\n",
       "      <th></th>\n",
       "      <th></th>\n",
       "    </tr>\n",
       "  </thead>\n",
       "  <tbody>\n",
       "    <tr>\n",
       "      <th>0</th>\n",
       "      <td>fd0ca1647b0be98cab8b6a2a37da58169358eaaf71dec9...</td>\n",
       "      <td>sweep-000m005-010p000.fits</td>\n",
       "      <td>0</td>\n",
       "      <td>False</td>\n",
       "    </tr>\n",
       "    <tr>\n",
       "      <th>1</th>\n",
       "      <td>79d5db41dddcc3da001573657a4c7c6f2d51743e9a4d2c...</td>\n",
       "      <td>sweep-000m010-010m005.fits</td>\n",
       "      <td>0</td>\n",
       "      <td>False</td>\n",
       "    </tr>\n",
       "    <tr>\n",
       "      <th>2</th>\n",
       "      <td>db086d6ebe0a77ab657f8613698b8c25ac2f3cd9fe4e8f...</td>\n",
       "      <td>sweep-000m015-010m010.fits</td>\n",
       "      <td>0</td>\n",
       "      <td>False</td>\n",
       "    </tr>\n",
       "    <tr>\n",
       "      <th>3</th>\n",
       "      <td>613f861882fd4849fec715f6e5657a66a0d72a12998bd9...</td>\n",
       "      <td>sweep-000m020-010m015.fits</td>\n",
       "      <td>0</td>\n",
       "      <td>False</td>\n",
       "    </tr>\n",
       "    <tr>\n",
       "      <th>4</th>\n",
       "      <td>22f9da834c527729079bf721313fdb19fd2bd09e0071aa...</td>\n",
       "      <td>sweep-000m025-010m020.fits</td>\n",
       "      <td>0</td>\n",
       "      <td>False</td>\n",
       "    </tr>\n",
       "  </tbody>\n",
       "</table>\n",
       "</div>"
      ],
      "text/plain": [
       "                                                     sum  \\\n",
       "index                                                      \n",
       "0      fd0ca1647b0be98cab8b6a2a37da58169358eaaf71dec9...   \n",
       "1      79d5db41dddcc3da001573657a4c7c6f2d51743e9a4d2c...   \n",
       "2      db086d6ebe0a77ab657f8613698b8c25ac2f3cd9fe4e8f...   \n",
       "3      613f861882fd4849fec715f6e5657a66a0d72a12998bd9...   \n",
       "4      22f9da834c527729079bf721313fdb19fd2bd09e0071aa...   \n",
       "\n",
       "                             name  selected  coma_selected  \n",
       "index                                                       \n",
       "0      sweep-000m005-010p000.fits         0          False  \n",
       "1      sweep-000m010-010m005.fits         0          False  \n",
       "2      sweep-000m015-010m010.fits         0          False  \n",
       "3      sweep-000m020-010m015.fits         0          False  \n",
       "4      sweep-000m025-010m020.fits         0          False  "
      ]
     },
     "execution_count": 21,
     "metadata": {},
     "output_type": "execute_result"
    }
   ],
   "source": [
    "sweep_south.head()"
   ]
  },
  {
   "cell_type": "code",
   "execution_count": 22,
   "metadata": {
    "ExecuteTime": {
     "end_time": "2020-07-14T11:42:36.382903Z",
     "start_time": "2020-07-14T11:42:36.375634Z"
    }
   },
   "outputs": [
    {
     "data": {
      "text/plain": [
       "1"
      ]
     },
     "execution_count": 22,
     "metadata": {},
     "output_type": "execute_result"
    }
   ],
   "source": [
    "np.count_nonzero(sweep_south['coma_selected'])"
   ]
  },
  {
   "cell_type": "code",
   "execution_count": null,
   "metadata": {},
   "outputs": [],
   "source": []
  }
 ],
 "metadata": {
  "kernelspec": {
   "display_name": "Python 3",
   "language": "python",
   "name": "python3"
  },
  "language_info": {
   "codemirror_mode": {
    "name": "ipython",
    "version": 3
   },
   "file_extension": ".py",
   "mimetype": "text/x-python",
   "name": "python",
   "nbconvert_exporter": "python",
   "pygments_lexer": "ipython3",
   "version": "3.7.6"
  }
 },
 "nbformat": 4,
 "nbformat_minor": 4
}
