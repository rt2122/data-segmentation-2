{
 "cells": [
  {
   "cell_type": "code",
   "execution_count": 13,
   "metadata": {
    "ExecuteTime": {
     "end_time": "2020-09-10T10:03:05.967478Z",
     "start_time": "2020-09-10T10:03:05.959975Z"
    }
   },
   "outputs": [],
   "source": [
    "import pandas as pd\n",
    "from DS_detector import scan_pix\n",
    "from DS_Planck_Unet import unet_planck\n",
    "import numpy as np\n",
    "from matplotlib import pyplot as plt\n",
    "from DS_healpix_fragmentation import one_pixel_fragmentation, matr2dict, draw_circles_h"
   ]
  },
  {
   "cell_type": "code",
   "execution_count": 2,
   "metadata": {
    "ExecuteTime": {
     "end_time": "2020-09-10T09:55:25.776075Z",
     "start_time": "2020-09-10T09:55:25.769446Z"
    }
   },
   "outputs": [],
   "source": [
    "thr_list = [0.1 * x for x in range(9, 0, -1)]"
   ]
  },
  {
   "cell_type": "code",
   "execution_count": 3,
   "metadata": {
    "ExecuteTime": {
     "end_time": "2020-09-10T09:55:29.473253Z",
     "start_time": "2020-09-10T09:55:26.555960Z"
    }
   },
   "outputs": [],
   "source": [
    "model = unet_planck(weights='/home/rt2122/Models/planck_z/model.ep0208-vl0.026899-l0.003223.h5')"
   ]
  },
  {
   "cell_type": "code",
   "execution_count": 4,
   "metadata": {
    "ExecuteTime": {
     "end_time": "2020-09-10T09:59:13.867732Z",
     "start_time": "2020-09-10T09:55:51.568292Z"
    }
   },
   "outputs": [
    {
     "name": "stderr",
     "output_type": "stream",
     "text": [
      "/home/rt2122/L/git/data-segmentation-2/modules/DS_detector.py:52: FutureWarning: Using a non-tuple sequence for multidimensional indexing is deprecated; use `arr[tuple(seq)]` instead of `arr[seq]`. In the future this will be interpreted as an array index, `arr[np.array(seq)]`, which will result either in an error or a different result.\n",
      "  thr_dict[thr].extend(list(matrs[i][[new_cen[:, 0], new_cen[:, 1]]]))\n",
      "/home/rt2122/anaconda3/lib/python3.8/site-packages/pandas/core/indexing.py:671: SettingWithCopyWarning: \n",
      "A value is trying to be set on a copy of a slice from a DataFrame\n",
      "\n",
      "See the caveats in the documentation: https://pandas.pydata.org/pandas-docs/stable/user_guide/indexing.html#returning-a-view-versus-a-copy\n",
      "  self._setitem_with_indexer(indexer, value)\n"
     ]
    }
   ],
   "source": [
    "res_table, clusters = scan_pix('/home/rt2122/Data/clusters/planck_z.csv', model, 6, \n",
    "                               thr_list=[0.1])"
   ]
  },
  {
   "cell_type": "code",
   "execution_count": 5,
   "metadata": {
    "ExecuteTime": {
     "end_time": "2020-09-10T09:59:59.823763Z",
     "start_time": "2020-09-10T09:59:59.808379Z"
    }
   },
   "outputs": [
    {
     "data": {
      "text/html": [
       "<div>\n",
       "<style scoped>\n",
       "    .dataframe tbody tr th:only-of-type {\n",
       "        vertical-align: middle;\n",
       "    }\n",
       "\n",
       "    .dataframe tbody tr th {\n",
       "        vertical-align: top;\n",
       "    }\n",
       "\n",
       "    .dataframe thead th {\n",
       "        text-align: right;\n",
       "    }\n",
       "</style>\n",
       "<table border=\"1\" class=\"dataframe\">\n",
       "  <thead>\n",
       "    <tr style=\"text-align: right;\">\n",
       "      <th></th>\n",
       "      <th>tp</th>\n",
       "      <th>tn</th>\n",
       "      <th>fp</th>\n",
       "      <th>fn</th>\n",
       "      <th>thr</th>\n",
       "      <th>pix2</th>\n",
       "    </tr>\n",
       "  </thead>\n",
       "  <tbody>\n",
       "    <tr>\n",
       "      <th>0</th>\n",
       "      <td>10</td>\n",
       "      <td>63</td>\n",
       "      <td>360</td>\n",
       "      <td>30</td>\n",
       "      <td>0.1</td>\n",
       "      <td>6</td>\n",
       "    </tr>\n",
       "  </tbody>\n",
       "</table>\n",
       "</div>"
      ],
      "text/plain": [
       "   tp  tn   fp  fn  thr  pix2\n",
       "0  10  63  360  30  0.1     6"
      ]
     },
     "execution_count": 5,
     "metadata": {},
     "output_type": "execute_result"
    }
   ],
   "source": [
    "res_table"
   ]
  },
  {
   "cell_type": "code",
   "execution_count": 6,
   "metadata": {
    "ExecuteTime": {
     "end_time": "2020-09-10T10:00:10.661840Z",
     "start_time": "2020-09-10T10:00:10.649645Z"
    }
   },
   "outputs": [
    {
     "data": {
      "text/html": [
       "<div>\n",
       "<style scoped>\n",
       "    .dataframe tbody tr th:only-of-type {\n",
       "        vertical-align: middle;\n",
       "    }\n",
       "\n",
       "    .dataframe tbody tr th {\n",
       "        vertical-align: top;\n",
       "    }\n",
       "\n",
       "    .dataframe thead th {\n",
       "        text-align: right;\n",
       "    }\n",
       "</style>\n",
       "<table border=\"1\" class=\"dataframe\">\n",
       "  <thead>\n",
       "    <tr style=\"text-align: right;\">\n",
       "      <th></th>\n",
       "      <th>Name</th>\n",
       "      <th>RA</th>\n",
       "      <th>DEC</th>\n",
       "      <th>z</th>\n",
       "      <th>MSZ</th>\n",
       "      <th>MCXC</th>\n",
       "      <th>RedMAPPer</th>\n",
       "    </tr>\n",
       "  </thead>\n",
       "  <tbody>\n",
       "    <tr>\n",
       "      <th>34</th>\n",
       "      <td>PSZ2 G121.13+49.64</td>\n",
       "      <td>195.886937</td>\n",
       "      <td>67.441544</td>\n",
       "      <td>0.221000</td>\n",
       "      <td>3.172016</td>\n",
       "      <td></td>\n",
       "      <td>RMJ130240.3+672841.0</td>\n",
       "    </tr>\n",
       "    <tr>\n",
       "      <th>35</th>\n",
       "      <td>PSZ2 G121.77+51.75</td>\n",
       "      <td>194.572283</td>\n",
       "      <td>65.359959</td>\n",
       "      <td>0.233215</td>\n",
       "      <td>3.982594</td>\n",
       "      <td></td>\n",
       "      <td>RMJ125827.8+652131.1</td>\n",
       "    </tr>\n",
       "    <tr>\n",
       "      <th>6</th>\n",
       "      <td>PSZ2 G097.72+38.12</td>\n",
       "      <td>248.977644</td>\n",
       "      <td>66.202314</td>\n",
       "      <td>0.170900</td>\n",
       "      <td>6.585151</td>\n",
       "      <td>J1635.8+6612</td>\n",
       "      <td></td>\n",
       "    </tr>\n",
       "    <tr>\n",
       "      <th>10</th>\n",
       "      <td>PSZ2 G099.48+55.60</td>\n",
       "      <td>217.148540</td>\n",
       "      <td>56.876584</td>\n",
       "      <td>0.105100</td>\n",
       "      <td>2.811942</td>\n",
       "      <td>J1428.4+5652</td>\n",
       "      <td>RMJ142838.4+565139.0</td>\n",
       "    </tr>\n",
       "    <tr>\n",
       "      <th>16</th>\n",
       "      <td>PSZ2 G105.76+54.73</td>\n",
       "      <td>212.589738</td>\n",
       "      <td>59.680120</td>\n",
       "      <td>0.316000</td>\n",
       "      <td>4.414105</td>\n",
       "      <td>J1410.2+5942</td>\n",
       "      <td>RMJ141016.8+594254.7</td>\n",
       "    </tr>\n",
       "    <tr>\n",
       "      <th>22</th>\n",
       "      <td>PSZ2 G109.97+52.84</td>\n",
       "      <td>209.935597</td>\n",
       "      <td>62.527950</td>\n",
       "      <td>0.325900</td>\n",
       "      <td>4.814389</td>\n",
       "      <td>J1359.8+6231</td>\n",
       "      <td>RMJ135950.6+623105.5</td>\n",
       "    </tr>\n",
       "    <tr>\n",
       "      <th>23</th>\n",
       "      <td>PSZ2 G110.98+31.73</td>\n",
       "      <td>256.100465</td>\n",
       "      <td>78.632469</td>\n",
       "      <td>0.058100</td>\n",
       "      <td>6.210739</td>\n",
       "      <td>J1703.8+7838</td>\n",
       "      <td></td>\n",
       "    </tr>\n",
       "    <tr>\n",
       "      <th>24</th>\n",
       "      <td>PSZ2 G112.48+56.99</td>\n",
       "      <td>203.993239</td>\n",
       "      <td>59.220971</td>\n",
       "      <td>0.070100</td>\n",
       "      <td>2.991135</td>\n",
       "      <td>J1336.1+5912</td>\n",
       "      <td>RMJ133608.3+591223.2</td>\n",
       "    </tr>\n",
       "    <tr>\n",
       "      <th>25</th>\n",
       "      <td>PSZ2 G113.81+44.35</td>\n",
       "      <td>213.533223</td>\n",
       "      <td>71.282293</td>\n",
       "      <td>0.225000</td>\n",
       "      <td>4.627713</td>\n",
       "      <td>J1414.2+7115</td>\n",
       "      <td></td>\n",
       "    </tr>\n",
       "    <tr>\n",
       "      <th>31</th>\n",
       "      <td>PSZ2 G118.58+28.57</td>\n",
       "      <td>261.230797</td>\n",
       "      <td>85.891243</td>\n",
       "      <td>0.178000</td>\n",
       "      <td>5.982977</td>\n",
       "      <td>J1723.7+8553</td>\n",
       "      <td></td>\n",
       "    </tr>\n",
       "  </tbody>\n",
       "</table>\n",
       "</div>"
      ],
      "text/plain": [
       "                  Name          RA        DEC         z       MSZ  \\\n",
       "34  PSZ2 G121.13+49.64  195.886937  67.441544  0.221000  3.172016   \n",
       "35  PSZ2 G121.77+51.75  194.572283  65.359959  0.233215  3.982594   \n",
       "6   PSZ2 G097.72+38.12  248.977644  66.202314  0.170900  6.585151   \n",
       "10  PSZ2 G099.48+55.60  217.148540  56.876584  0.105100  2.811942   \n",
       "16  PSZ2 G105.76+54.73  212.589738  59.680120  0.316000  4.414105   \n",
       "22  PSZ2 G109.97+52.84  209.935597  62.527950  0.325900  4.814389   \n",
       "23  PSZ2 G110.98+31.73  256.100465  78.632469  0.058100  6.210739   \n",
       "24  PSZ2 G112.48+56.99  203.993239  59.220971  0.070100  2.991135   \n",
       "25  PSZ2 G113.81+44.35  213.533223  71.282293  0.225000  4.627713   \n",
       "31  PSZ2 G118.58+28.57  261.230797  85.891243  0.178000  5.982977   \n",
       "\n",
       "            MCXC             RedMAPPer  \n",
       "34                RMJ130240.3+672841.0  \n",
       "35                RMJ125827.8+652131.1  \n",
       "6   J1635.8+6612                        \n",
       "10  J1428.4+5652  RMJ142838.4+565139.0  \n",
       "16  J1410.2+5942  RMJ141016.8+594254.7  \n",
       "22  J1359.8+6231  RMJ135950.6+623105.5  \n",
       "23  J1703.8+7838                        \n",
       "24  J1336.1+5912  RMJ133608.3+591223.2  \n",
       "25  J1414.2+7115                        \n",
       "31  J1723.7+8553                        "
      ]
     },
     "execution_count": 6,
     "metadata": {},
     "output_type": "execute_result"
    }
   ],
   "source": [
    "clusters"
   ]
  },
  {
   "cell_type": "code",
   "execution_count": 8,
   "metadata": {
    "ExecuteTime": {
     "end_time": "2020-09-10T10:00:58.261725Z",
     "start_time": "2020-09-10T10:00:53.102354Z"
    }
   },
   "outputs": [],
   "source": [
    "matr = one_pixel_fragmentation(2, 6, 10)"
   ]
  },
  {
   "cell_type": "code",
   "execution_count": 9,
   "metadata": {
    "ExecuteTime": {
     "end_time": "2020-09-10T10:01:10.551359Z",
     "start_time": "2020-09-10T10:01:10.147837Z"
    }
   },
   "outputs": [],
   "source": [
    "mdict = matr2dict(matr)"
   ]
  },
  {
   "cell_type": "code",
   "execution_count": 19,
   "metadata": {
    "ExecuteTime": {
     "end_time": "2020-09-10T10:04:44.768353Z",
     "start_time": "2020-09-10T10:04:44.738421Z"
    }
   },
   "outputs": [],
   "source": [
    "found_cl_pic = draw_circles_h(clusters['RA'], clusters['DEC'], \n",
    "                              np.ones(clusters.shape[0]),\n",
    "                    nside=2048, mdict=mdict, shape=list(matr.shape)+[1])"
   ]
  },
  {
   "cell_type": "code",
   "execution_count": 16,
   "metadata": {
    "ExecuteTime": {
     "end_time": "2020-09-10T10:03:36.496065Z",
     "start_time": "2020-09-10T10:03:36.324962Z"
    }
   },
   "outputs": [
    {
     "data": {
      "text/plain": [
       "<matplotlib.image.AxesImage at 0x7fd773485be0>"
      ]
     },
     "execution_count": 16,
     "metadata": {},
     "output_type": "execute_result"
    },
    {
     "data": {
      "image/png": "[encoded data removed]",
      "text/plain": [
       "<Figure size 288x288 with 1 Axes>"
      ]
     },
     "metadata": {
      "needs_background": "light"
     },
     "output_type": "display_data"
    }
   ],
   "source": [
    "plt.matshow(pic)"
   ]
  },
  {
   "cell_type": "code",
   "execution_count": 17,
   "metadata": {
    "ExecuteTime": {
     "end_time": "2020-09-10T10:03:56.134712Z",
     "start_time": "2020-09-10T10:03:56.124437Z"
    }
   },
   "outputs": [],
   "source": [
    "planck_z = pd.read_csv('/home/rt2122/Data/clusters/planck_z.csv')"
   ]
  },
  {
   "cell_type": "code",
   "execution_count": 20,
   "metadata": {
    "ExecuteTime": {
     "end_time": "2020-09-10T10:04:55.082784Z",
     "start_time": "2020-09-10T10:04:54.981527Z"
    }
   },
   "outputs": [],
   "source": [
    "all_cl_pic = draw_circles_h(planck_z['RA'], planck_z['DEC'], \n",
    "                              np.ones(planck_z.shape[0]),\n",
    "                    nside=2048, mdict=mdict, shape=list(matr.shape)+[1])"
   ]
  },
  {
   "cell_type": "code",
   "execution_count": 23,
   "metadata": {
    "ExecuteTime": {
     "end_time": "2020-09-10T10:06:55.813315Z",
     "start_time": "2020-09-10T10:06:55.807840Z"
    }
   },
   "outputs": [],
   "source": [
    "grids = np.zeros(found_cl_pic.shape)\n",
    "for i in range(0, grids.shape[0], 64):\n",
    "    grids[i,:,0] = 1\n",
    "    grids[i+1,:,0] = 1\n",
    "    grids[:,i,0] = 1\n",
    "    grids[:,i+1,0] = 1"
   ]
  },
  {
   "cell_type": "code",
   "execution_count": 25,
   "metadata": {
    "ExecuteTime": {
     "end_time": "2020-09-10T10:07:08.960533Z",
     "start_time": "2020-09-10T10:07:08.592470Z"
    }
   },
   "outputs": [
    {
     "data": {
      "text/plain": [
       "<matplotlib.image.AxesImage at 0x7fd7677c2250>"
      ]
     },
     "execution_count": 25,
     "metadata": {},
     "output_type": "execute_result"
    },
    {
     "data": {
      "image/png": "[encoded data removed]",
      "text/plain": [
       "<Figure size 432x288 with 1 Axes>"
      ]
     },
     "metadata": {
      "needs_background": "light"
     },
     "output_type": "display_data"
    }
   ],
   "source": [
    "plt.imshow(np.dstack([found_cl_pic, all_cl_pic-found_cl_pic, grids]))"
   ]
  },
  {
   "cell_type": "code",
   "execution_count": 26,
   "metadata": {
    "ExecuteTime": {
     "end_time": "2020-09-10T11:03:26.623651Z",
     "start_time": "2020-09-10T10:08:13.398362Z"
    }
   },
   "outputs": [
    {
     "name": "stderr",
     "output_type": "stream",
     "text": [
      "/home/rt2122/L/git/data-segmentation-2/modules/DS_detector.py:52: FutureWarning: Using a non-tuple sequence for multidimensional indexing is deprecated; use `arr[tuple(seq)]` instead of `arr[seq]`. In the future this will be interpreted as an array index, `arr[np.array(seq)]`, which will result either in an error or a different result.\n",
      "  thr_dict[thr].extend(list(matrs[i][[new_cen[:, 0], new_cen[:, 1]]]))\n",
      "/home/rt2122/anaconda3/lib/python3.8/site-packages/pandas/core/indexing.py:671: SettingWithCopyWarning: \n",
      "A value is trying to be set on a copy of a slice from a DataFrame\n",
      "\n",
      "See the caveats in the documentation: https://pandas.pydata.org/pandas-docs/stable/user_guide/indexing.html#returning-a-view-versus-a-copy\n",
      "  self._setitem_with_indexer(indexer, value)\n"
     ]
    }
   ],
   "source": [
    "res_table, clusters = scan_pix('/home/rt2122/Data/clusters/planck_z.csv', model, 6, \n",
    "                               thr_list=[0.1], step=16)"
   ]
  },
  {
   "cell_type": "code",
   "execution_count": 27,
   "metadata": {
    "ExecuteTime": {
     "end_time": "2020-09-10T11:07:36.840354Z",
     "start_time": "2020-09-10T11:07:36.817275Z"
    }
   },
   "outputs": [],
   "source": [
    "found_cl_pic = draw_circles_h(clusters['RA'], clusters['DEC'], \n",
    "                              np.ones(clusters.shape[0]),\n",
    "                    nside=2048, mdict=mdict, shape=list(matr.shape)+[1])"
   ]
  },
  {
   "cell_type": "code",
   "execution_count": 28,
   "metadata": {
    "ExecuteTime": {
     "end_time": "2020-09-10T11:07:45.769727Z",
     "start_time": "2020-09-10T11:07:45.499949Z"
    }
   },
   "outputs": [
    {
     "data": {
      "text/plain": [
       "<matplotlib.image.AxesImage at 0x7fd76774d880>"
      ]
     },
     "execution_count": 28,
     "metadata": {},
     "output_type": "execute_result"
    },
    {
     "data": {
      "image/png": "[encoded data removed]",
      "text/plain": [
       "<Figure size 432x288 with 1 Axes>"
      ]
     },
     "metadata": {
      "needs_background": "light"
     },
     "output_type": "display_data"
    }
   ],
   "source": [
    "plt.imshow(np.dstack([found_cl_pic, all_cl_pic-found_cl_pic, grids]))"
   ]
  },
  {
   "cell_type": "code",
   "execution_count": 29,
   "metadata": {
    "ExecuteTime": {
     "end_time": "2020-09-10T14:17:18.895523Z",
     "start_time": "2020-09-10T11:08:34.768412Z"
    }
   },
   "outputs": [],
   "source": [
    "res_table, clusters = scan_pix('/home/rt2122/Data/clusters/planck_z.csv', model, 6, \n",
    "                               thr_list=[0.1], step=8)"
   ]
  },
  {
   "cell_type": "code",
   "execution_count": 30,
   "metadata": {
    "ExecuteTime": {
     "end_time": "2020-09-10T14:27:25.724050Z",
     "start_time": "2020-09-10T14:27:25.685267Z"
    }
   },
   "outputs": [],
   "source": [
    "found_cl_pic = draw_circles_h(clusters['RA'], clusters['DEC'], \n",
    "                              np.ones(clusters.shape[0]),\n",
    "                    nside=2048, mdict=mdict, shape=list(matr.shape)+[1])"
   ]
  },
  {
   "cell_type": "code",
   "execution_count": 31,
   "metadata": {
    "ExecuteTime": {
     "end_time": "2020-09-10T14:27:35.243743Z",
     "start_time": "2020-09-10T14:27:34.520555Z"
    }
   },
   "outputs": [
    {
     "data": {
      "text/plain": [
       "<matplotlib.image.AxesImage at 0x7fd7734463d0>"
      ]
     },
     "execution_count": 31,
     "metadata": {},
     "output_type": "execute_result"
    },
    {
     "data": {
      "image/png": "[encoded data removed]",
      "text/plain": [
       "<Figure size 432x288 with 1 Axes>"
      ]
     },
     "metadata": {
      "needs_background": "light"
     },
     "output_type": "display_data"
    }
   ],
   "source": [
    "plt.imshow(np.dstack([found_cl_pic, all_cl_pic-found_cl_pic, grids]))"
   ]
  },
  {
   "cell_type": "code",
   "execution_count": 32,
   "metadata": {
    "ExecuteTime": {
     "end_time": "2020-09-10T14:28:28.831915Z",
     "start_time": "2020-09-10T14:28:27.336136Z"
    }
   },
   "outputs": [],
   "source": [
    "model = unet_planck(weights='/home/rt2122/Models/planck_z/model.ep300.h5')"
   ]
  },
  {
   "cell_type": "code",
   "execution_count": 33,
   "metadata": {
    "ExecuteTime": {
     "end_time": "2020-09-10T15:16:49.552256Z",
     "start_time": "2020-09-10T14:28:43.286782Z"
    }
   },
   "outputs": [
    {
     "name": "stderr",
     "output_type": "stream",
     "text": [
      "/home/rt2122/L/git/data-segmentation-2/modules/DS_detector.py:52: FutureWarning: Using a non-tuple sequence for multidimensional indexing is deprecated; use `arr[tuple(seq)]` instead of `arr[seq]`. In the future this will be interpreted as an array index, `arr[np.array(seq)]`, which will result either in an error or a different result.\n",
      "  thr_dict[thr].extend(list(matrs[i][[new_cen[:, 0], new_cen[:, 1]]]))\n",
      "/home/rt2122/anaconda3/lib/python3.8/site-packages/pandas/core/indexing.py:671: SettingWithCopyWarning: \n",
      "A value is trying to be set on a copy of a slice from a DataFrame\n",
      "\n",
      "See the caveats in the documentation: https://pandas.pydata.org/pandas-docs/stable/user_guide/indexing.html#returning-a-view-versus-a-copy\n",
      "  self._setitem_with_indexer(indexer, value)\n"
     ]
    }
   ],
   "source": [
    "res_table, clusters = scan_pix('/home/rt2122/Data/clusters/planck_z.csv', model, 6, \n",
    "                               thr_list=[0.1], step=16)"
   ]
  },
  {
   "cell_type": "code",
   "execution_count": 34,
   "metadata": {
    "ExecuteTime": {
     "end_time": "2020-09-10T15:18:44.038405Z",
     "start_time": "2020-09-10T15:18:44.002097Z"
    }
   },
   "outputs": [],
   "source": [
    "found_cl_pic = draw_circles_h(clusters['RA'], clusters['DEC'], \n",
    "                              np.ones(clusters.shape[0]),\n",
    "                    nside=2048, mdict=mdict, shape=list(matr.shape)+[1])"
   ]
  },
  {
   "cell_type": "code",
   "execution_count": 35,
   "metadata": {
    "ExecuteTime": {
     "end_time": "2020-09-10T15:18:51.194673Z",
     "start_time": "2020-09-10T15:18:50.857655Z"
    }
   },
   "outputs": [
    {
     "data": {
      "text/plain": [
       "<matplotlib.image.AxesImage at 0x7fd766352670>"
      ]
     },
     "execution_count": 35,
     "metadata": {},
     "output_type": "execute_result"
    },
    {
     "data": {
      "image/png": "[encoded data removed]",
      "text/plain": [
       "<Figure size 432x288 with 1 Axes>"
      ]
     },
     "metadata": {
      "needs_background": "light"
     },
     "output_type": "display_data"
    }
   ],
   "source": [
    "plt.imshow(np.dstack([found_cl_pic, all_cl_pic-found_cl_pic, grids]))"
   ]
  },
  {
   "cell_type": "code",
   "execution_count": null,
   "metadata": {},
   "outputs": [],
   "source": []
  }
 ],
 "metadata": {
  "kernelspec": {
   "display_name": "Python 3",
   "language": "python",
   "name": "python3"
  },
  "language_info": {
   "codemirror_mode": {
    "name": "ipython",
    "version": 3
   },
   "file_extension": ".py",
   "mimetype": "text/x-python",
   "name": "python",
   "nbconvert_exporter": "python",
   "pygments_lexer": "ipython3",
   "version": "3.8.3"
  }
 },
 "nbformat": 4,
 "nbformat_minor": 4
}
