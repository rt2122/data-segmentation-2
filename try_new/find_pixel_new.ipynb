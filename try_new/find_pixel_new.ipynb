{
 "cells": [
  {
   "cell_type": "code",
   "execution_count": 10,
   "metadata": {
    "ExecuteTime": {
     "end_time": "2020-09-04T16:47:24.211290Z",
     "start_time": "2020-09-04T16:47:24.188940Z"
    }
   },
   "outputs": [],
   "source": [
    "import pandas as pd\n",
    "import numpy as np\n",
    "import healpy as hp\n",
    "from astropy.coordinates import SkyCoord\n",
    "from astropy import units as u\n",
    "import DS_Coma_Cluster_param as cc_prm"
   ]
  },
  {
   "cell_type": "code",
   "execution_count": 57,
   "metadata": {
    "ExecuteTime": {
     "end_time": "2020-09-04T17:06:09.380860Z",
     "start_time": "2020-09-04T17:06:09.378345Z"
    }
   },
   "outputs": [],
   "source": [
    "radius=0.86\n",
    "max_nside=2048"
   ]
  },
  {
   "cell_type": "code",
   "execution_count": 4,
   "metadata": {
    "ExecuteTime": {
     "end_time": "2020-09-04T16:39:14.952518Z",
     "start_time": "2020-09-04T16:39:14.881382Z"
    }
   },
   "outputs": [],
   "source": [
    "df = pd.read_csv('/home/rt2122/Data/clusters/planck_z.csv')"
   ]
  },
  {
   "cell_type": "code",
   "execution_count": 8,
   "metadata": {
    "ExecuteTime": {
     "end_time": "2020-09-04T16:46:28.199745Z",
     "start_time": "2020-09-04T16:46:28.185113Z"
    }
   },
   "outputs": [
    {
     "data": {
      "text/plain": [
       "12"
      ]
     },
     "execution_count": 8,
     "metadata": {},
     "output_type": "execute_result"
    }
   ],
   "source": [
    "hp.nside2npix(1)"
   ]
  },
  {
   "cell_type": "code",
   "execution_count": 55,
   "metadata": {
    "ExecuteTime": {
     "end_time": "2020-09-04T17:05:59.110851Z",
     "start_time": "2020-09-04T17:05:59.100746Z"
    }
   },
   "outputs": [],
   "source": [
    "def find_best_pixel(ra, dec, radius, root_nside=1):\n",
    "    nside = root_nside\n",
    "    radius = np.radians(radius)\n",
    "    sc = SkyCoord(ra=ra*u.degree, dec=dec*u.degree, frame='icrs')\n",
    "    theta = sc.galactic.l.degree\n",
    "    phi = sc.galactic.b.degree\n",
    "    vec = hp.ang2vec(theta=theta, phi=phi, lonlat=True)\n",
    "    \n",
    "    pixels = hp.query_disc(vec=vec, nside=nside, radius = radius, inclusive=False, \n",
    "                                nest=True)\n",
    "    while len(pixels) <= 1:\n",
    "        nside *= 2\n",
    "        pixels = hp.query_disc(vec=vec, nside=nside, radius = radius, inclusive=False, \n",
    "                                    nest=True)\n",
    "    if nside > 1:\n",
    "        nside //= 2\n",
    "    return nside, hp.vec2pix(nside, *vec, nest=True)"
   ]
  },
  {
   "cell_type": "code",
   "execution_count": 59,
   "metadata": {
    "ExecuteTime": {
     "end_time": "2020-09-04T17:06:27.543119Z",
     "start_time": "2020-09-04T17:06:27.527484Z"
    }
   },
   "outputs": [
    {
     "name": "stdout",
     "output_type": "stream",
     "text": [
      "[]\n"
     ]
    },
    {
     "data": {
      "text/plain": [
       "(32, 1023)"
      ]
     },
     "execution_count": 59,
     "metadata": {},
     "output_type": "execute_result"
    }
   ],
   "source": [
    "find_best_pixel(cc_prm.ra_center, cc_prm.dec_center, radius, root_nside=1)"
   ]
  },
  {
   "cell_type": "code",
   "execution_count": 61,
   "metadata": {
    "ExecuteTime": {
     "end_time": "2020-09-04T17:07:25.800306Z",
     "start_time": "2020-09-04T17:07:25.797101Z"
    }
   },
   "outputs": [
    {
     "data": {
      "text/plain": [
       "8"
      ]
     },
     "execution_count": 61,
     "metadata": {},
     "output_type": "execute_result"
    }
   ],
   "source": [
    "cc_prm.big_ipix\n",
    "cc_prm.big_nside"
   ]
  },
  {
   "cell_type": "code",
   "execution_count": null,
   "metadata": {},
   "outputs": [],
   "source": []
  }
 ],
 "metadata": {
  "kernelspec": {
   "display_name": "Python 3",
   "language": "python",
   "name": "python3"
  },
  "language_info": {
   "codemirror_mode": {
    "name": "ipython",
    "version": 3
   },
   "file_extension": ".py",
   "mimetype": "text/x-python",
   "name": "python",
   "nbconvert_exporter": "python",
   "pygments_lexer": "ipython3",
   "version": "3.8.3"
  }
 },
 "nbformat": 4,
 "nbformat_minor": 4
}
