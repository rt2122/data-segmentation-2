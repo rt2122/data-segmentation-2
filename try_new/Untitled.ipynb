{
 "cells": [
  {
   "cell_type": "code",
   "execution_count": 1,
   "metadata": {
    "ExecuteTime": {
     "end_time": "2020-09-05T07:40:49.715018Z",
     "start_time": "2020-09-05T07:40:49.677882Z"
    }
   },
   "outputs": [
    {
     "data": {
      "text/plain": [
       "{0.2: [], 0.5: [], 0.8: []}"
      ]
     },
     "execution_count": 1,
     "metadata": {},
     "output_type": "execute_result"
    }
   ],
   "source": [
    "thr_list = [0.2, 0.5, 0.8]\n",
    "thr_dict = dict(zip(thr_list, [[] for i in range(len(thr_list))]))\n",
    "thr_dict"
   ]
  },
  {
   "cell_type": "code",
   "execution_count": 2,
   "metadata": {
    "ExecuteTime": {
     "end_time": "2020-09-05T07:42:43.966995Z",
     "start_time": "2020-09-05T07:42:43.954129Z"
    }
   },
   "outputs": [],
   "source": [
    "count_dict = dict(zip(thr_list, [0] * len(thr_list)))\n"
   ]
  },
  {
   "cell_type": "code",
   "execution_count": 4,
   "metadata": {
    "ExecuteTime": {
     "end_time": "2020-09-05T07:43:15.957597Z",
     "start_time": "2020-09-05T07:43:15.944627Z"
    }
   },
   "outputs": [
    {
     "data": {
      "text/plain": [
       "{0.2: 3, 0.5: 0, 0.8: 0}"
      ]
     },
     "execution_count": 4,
     "metadata": {},
     "output_type": "execute_result"
    }
   ],
   "source": [
    "count_dict[0.2] += 1\n",
    "count_dict"
   ]
  },
  {
   "cell_type": "code",
   "execution_count": null,
   "metadata": {},
   "outputs": [],
   "source": []
  }
 ],
 "metadata": {
  "kernelspec": {
   "display_name": "Python 3",
   "language": "python",
   "name": "python3"
  },
  "language_info": {
   "codemirror_mode": {
    "name": "ipython",
    "version": 3
   },
   "file_extension": ".py",
   "mimetype": "text/x-python",
   "name": "python",
   "nbconvert_exporter": "python",
   "pygments_lexer": "ipython3",
   "version": "3.8.3"
  }
 },
 "nbformat": 4,
 "nbformat_minor": 4
}
