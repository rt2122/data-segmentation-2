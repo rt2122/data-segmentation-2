{
 "cells": [
  {
   "cell_type": "code",
   "execution_count": 60,
   "metadata": {
    "ExecuteTime": {
     "end_time": "2020-08-19T12:47:13.427171Z",
     "start_time": "2020-08-19T12:47:13.420141Z"
    }
   },
   "outputs": [],
   "source": [
    "import numpy as np\n",
    "import pandas as pd\n",
    "from matplotlib import pyplot as plt\n",
    "from DS_data_transformation import fits2df\n",
    "from scipy.stats import norm\n",
    "import scipy as sp"
   ]
  },
  {
   "cell_type": "code",
   "execution_count": 2,
   "metadata": {
    "ExecuteTime": {
     "end_time": "2020-08-19T11:56:27.732642Z",
     "start_time": "2020-08-19T11:56:02.797221Z"
    }
   },
   "outputs": [],
   "source": [
    "i_stokes = fits2df('/home/rt2122/Data/Planck/HFI_SkyMap_353_2048_R3.01_full.fits', \n",
    "            filtered=False, one_col='I_STOKES')"
   ]
  },
  {
   "cell_type": "code",
   "execution_count": 57,
   "metadata": {
    "ExecuteTime": {
     "end_time": "2020-08-19T12:44:01.762002Z",
     "start_time": "2020-08-19T12:44:00.509266Z"
    }
   },
   "outputs": [
    {
     "data": {
      "image/png": "[encoded data removed]",
      "text/plain": [
       "<Figure size 432x288 with 1 Axes>"
      ]
     },
     "metadata": {
      "needs_background": "light"
     },
     "output_type": "display_data"
    }
   ],
   "source": [
    "n_bins = 400\n",
    "fig, axs = plt.subplots(1, 1, sharey=True, tight_layout=True)\n",
    "axs.set_xlim([None,0.008])\n",
    "axs.set_ylim([0,8e5])\n",
    "axs.hist(i_cur, bins=n_bins)\n",
    "i = 0"
   ]
  },
  {
   "cell_type": "code",
   "execution_count": 6,
   "metadata": {
    "ExecuteTime": {
     "end_time": "2020-08-19T12:20:39.094723Z",
     "start_time": "2020-08-19T12:20:39.006251Z"
    }
   },
   "outputs": [
    {
     "data": {
      "text/plain": [
       "3.7542145"
      ]
     },
     "execution_count": 6,
     "metadata": {},
     "output_type": "execute_result"
    }
   ],
   "source": [
    "i_stokes.max()"
   ]
  },
  {
   "cell_type": "code",
   "execution_count": 13,
   "metadata": {
    "ExecuteTime": {
     "end_time": "2020-08-19T12:24:55.766696Z",
     "start_time": "2020-08-19T12:24:55.621374Z"
    }
   },
   "outputs": [],
   "source": [
    "i_cur = i_stokes[i_stokes < 0.008]"
   ]
  },
  {
   "cell_type": "code",
   "execution_count": 17,
   "metadata": {
    "ExecuteTime": {
     "end_time": "2020-08-19T12:30:14.202003Z",
     "start_time": "2020-08-19T12:29:41.972700Z"
    }
   },
   "outputs": [
    {
     "data": {
      "text/plain": [
       "28132507"
      ]
     },
     "execution_count": 17,
     "metadata": {},
     "output_type": "execute_result"
    }
   ],
   "source": [
    "len(set(i_stokes))"
   ]
  },
  {
   "cell_type": "code",
   "execution_count": 18,
   "metadata": {
    "ExecuteTime": {
     "end_time": "2020-08-19T12:31:26.945533Z",
     "start_time": "2020-08-19T12:30:57.825717Z"
    }
   },
   "outputs": [
    {
     "data": {
      "text/plain": [
       "23887572"
      ]
     },
     "execution_count": 18,
     "metadata": {},
     "output_type": "execute_result"
    }
   ],
   "source": [
    "len(set(i_cur))"
   ]
  },
  {
   "cell_type": "code",
   "execution_count": 59,
   "metadata": {
    "ExecuteTime": {
     "end_time": "2020-08-19T12:45:20.872243Z",
     "start_time": "2020-08-19T12:45:20.676109Z"
    }
   },
   "outputs": [
    {
     "data": {
      "image/png": "[encoded data removed]",
      "text/plain": [
       "<Figure size 432x288 with 1 Axes>"
      ]
     },
     "metadata": {
      "needs_background": "light"
     },
     "output_type": "display_data"
    }
   ],
   "source": [
    "x_axis = np.arange(-10, 10, 0.001)\n",
    "# Mean = 0, SD = 2.\n",
    "plt.plot(x_axis, norm.pdf(x_axis,0,2))\n",
    "plt.show()"
   ]
  },
  {
   "cell_type": "code",
   "execution_count": 62,
   "metadata": {
    "ExecuteTime": {
     "end_time": "2020-08-19T12:48:06.154585Z",
     "start_time": "2020-08-19T12:48:00.234540Z"
    }
   },
   "outputs": [
    {
     "data": {
      "text/plain": [
       "0.0009978377"
      ]
     },
     "execution_count": 62,
     "metadata": {},
     "output_type": "execute_result"
    }
   ],
   "source": [
    "i_mode = sp.stats.mode(i_stokes).mode[0]\n",
    "i_mode"
   ]
  },
  {
   "cell_type": "code",
   "execution_count": 99,
   "metadata": {
    "ExecuteTime": {
     "end_time": "2020-08-19T12:58:34.280271Z",
     "start_time": "2020-08-19T12:58:34.108656Z"
    }
   },
   "outputs": [],
   "source": [
    "par = i_mode - 0.0003\n",
    "i_norm = i_stokes[i_stokes <= par]\n",
    "i_norm = np.concatenate([i_norm, - i_norm + 2 * par])"
   ]
  },
  {
   "cell_type": "code",
   "execution_count": 100,
   "metadata": {
    "ExecuteTime": {
     "end_time": "2020-08-19T12:58:34.782469Z",
     "start_time": "2020-08-19T12:58:34.423808Z"
    }
   },
   "outputs": [
    {
     "data": {
      "image/png": "[encoded data removed]",
      "text/plain": [
       "<Figure size 432x288 with 1 Axes>"
      ]
     },
     "metadata": {
      "needs_background": "light"
     },
     "output_type": "display_data"
    }
   ],
   "source": [
    "n_bins = 50\n",
    "fig, axs = plt.subplots(1, 1)\n",
    "#axs.set_xlim([None,0.008])\n",
    "#axs.set_ylim([0,8e5])\n",
    "axs.hist(i_norm, bins=n_bins)\n",
    "i = 0"
   ]
  },
  {
   "cell_type": "code",
   "execution_count": 74,
   "metadata": {
    "ExecuteTime": {
     "end_time": "2020-08-19T12:50:52.115223Z",
     "start_time": "2020-08-19T12:50:49.766925Z"
    }
   },
   "outputs": [
    {
     "data": {
      "text/plain": [
       "0.0009978377"
      ]
     },
     "execution_count": 74,
     "metadata": {},
     "output_type": "execute_result"
    }
   ],
   "source": [
    "sp.stats.mode(i_norm).mode[0]"
   ]
  },
  {
   "cell_type": "code",
   "execution_count": 82,
   "metadata": {
    "ExecuteTime": {
     "end_time": "2020-08-19T12:53:15.459380Z",
     "start_time": "2020-08-19T12:53:15.379475Z"
    }
   },
   "outputs": [
    {
     "data": {
      "text/plain": [
       "0.0038536666"
      ]
     },
     "execution_count": 82,
     "metadata": {},
     "output_type": "execute_result"
    }
   ],
   "source": [
    "i_mean = np.mean(i_stokes)\n",
    "i_mean"
   ]
  },
  {
   "cell_type": "code",
   "execution_count": 101,
   "metadata": {
    "ExecuteTime": {
     "end_time": "2020-08-19T13:00:07.509673Z",
     "start_time": "2020-08-19T13:00:07.471492Z"
    }
   },
   "outputs": [
    {
     "data": {
      "text/plain": [
       "(0.0006978377, 0.00017406125)"
      ]
     },
     "execution_count": 101,
     "metadata": {},
     "output_type": "execute_result"
    }
   ],
   "source": [
    "mean_norm = np.mean(i_norm)\n",
    "std_norm = np.std(i_norm)\n",
    "mean_norm, std_norm"
   ]
  },
  {
   "cell_type": "code",
   "execution_count": 111,
   "metadata": {
    "ExecuteTime": {
     "end_time": "2020-08-19T13:03:56.261666Z",
     "start_time": "2020-08-19T13:03:54.977318Z"
    }
   },
   "outputs": [
    {
     "data": {
      "image/png": "[encoded data removed]",
      "text/plain": [
       "<Figure size 432x288 with 1 Axes>"
      ]
     },
     "metadata": {
      "needs_background": "light"
     },
     "output_type": "display_data"
    }
   ],
   "source": [
    "n_bins = 400\n",
    "fig, axs = plt.subplots(1, 1, sharey=True, tight_layout=True)\n",
    "axs.set_xlim([None,0.008])\n",
    "axs.set_ylim([0,8e5])\n",
    "axs.hist(i_cur, bins=n_bins)\n",
    "i = 0\n",
    "\n",
    "x_axis = np.arange(0, 0.008, 0.00001)\n",
    "# Mean = 0, SD = 2.\n",
    "plt.plot(x_axis, norm.pdf(x_axis,mean_norm,std_norm) * 350)\n",
    "plt.show()"
   ]
  },
  {
   "cell_type": "code",
   "execution_count": 112,
   "metadata": {
    "ExecuteTime": {
     "end_time": "2020-08-19T13:07:39.170393Z",
     "start_time": "2020-08-19T13:07:39.057765Z"
    }
   },
   "outputs": [],
   "source": [
    "i_true_norm = (i_stokes - mean_norm) / std_norm"
   ]
  },
  {
   "cell_type": "code",
   "execution_count": 118,
   "metadata": {
    "ExecuteTime": {
     "end_time": "2020-08-19T13:09:30.854949Z",
     "start_time": "2020-08-19T13:09:29.466086Z"
    }
   },
   "outputs": [
    {
     "data": {
      "image/png": "[encoded data removed]",
      "text/plain": [
       "<Figure size 432x288 with 1 Axes>"
      ]
     },
     "metadata": {
      "needs_background": "light"
     },
     "output_type": "display_data"
    }
   ],
   "source": [
    "n_bins = 400\n",
    "fig, axs = plt.subplots(1, 1, sharey=True, tight_layout=True)\n",
    "axs.set_xlim([-8,32])\n",
    "#axs.set_ylim([0,8e5])\n",
    "axs.hist(i_true_norm[i_true_norm < 32], bins=n_bins)\n",
    "i = 0"
   ]
  },
  {
   "cell_type": "code",
   "execution_count": 115,
   "metadata": {
    "ExecuteTime": {
     "end_time": "2020-08-19T13:08:32.675814Z",
     "start_time": "2020-08-19T13:08:32.646840Z"
    }
   },
   "outputs": [
    {
     "data": {
      "text/plain": [
       "21564.344"
      ]
     },
     "execution_count": 115,
     "metadata": {},
     "output_type": "execute_result"
    }
   ],
   "source": [
    "i_true_norm.max()"
   ]
  },
  {
   "cell_type": "code",
   "execution_count": null,
   "metadata": {},
   "outputs": [],
   "source": []
  }
 ],
 "metadata": {
  "kernelspec": {
   "display_name": "Python 3",
   "language": "python",
   "name": "python3"
  },
  "language_info": {
   "codemirror_mode": {
    "name": "ipython",
    "version": 3
   },
   "file_extension": ".py",
   "mimetype": "text/x-python",
   "name": "python",
   "nbconvert_exporter": "python",
   "pygments_lexer": "ipython3",
   "version": "3.8.3"
  }
 },
 "nbformat": 4,
 "nbformat_minor": 4
}
