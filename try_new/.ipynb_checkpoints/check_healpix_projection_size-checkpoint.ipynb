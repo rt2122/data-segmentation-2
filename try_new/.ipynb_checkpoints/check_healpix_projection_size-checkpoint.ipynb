{
 "cells": [
  {
   "cell_type": "code",
   "execution_count": 18,
   "metadata": {
    "ExecuteTime": {
     "end_time": "2020-09-09T15:01:17.222214Z",
     "start_time": "2020-09-09T15:01:17.214604Z"
    }
   },
   "outputs": [],
   "source": [
    "from DS_healpix_fragmentation import *\n",
    "import numpy as np\n",
    "import healpy as hp\n",
    "from astropy.coordinates import SkyCoord\n",
    "from astropy import units as u\n",
    "from matplotlib import pyplot as plt\n",
    "from DS_Planck_Unet import draw_pic\n",
    "from DS_data_transformation import normalize\n",
    "from DS_WCS_projections import custom_wcs, dist_from_center, draw_circles_w\n",
    "import DS_Coma_Cluster_param as cc_prm"
   ]
  },
  {
   "cell_type": "code",
   "execution_count": 2,
   "metadata": {
    "ExecuteTime": {
     "end_time": "2020-09-09T15:00:27.367153Z",
     "start_time": "2020-09-09T15:00:27.337657Z"
    }
   },
   "outputs": [],
   "source": [
    "pix = 0\n",
    "o_nside = 32\n",
    "depth = 6\n",
    "matr = one_pixel_fragmentation(o_nside, pix, depth)"
   ]
  },
  {
   "cell_type": "code",
   "execution_count": 3,
   "metadata": {
    "ExecuteTime": {
     "end_time": "2020-09-09T15:00:27.405076Z",
     "start_time": "2020-09-09T15:00:27.368439Z"
    }
   },
   "outputs": [],
   "source": [
    "def dist(matr):\n",
    "    pix = np.array([matr[0,32], matr[32, 32]])\n",
    "    theta, phi = hp.pix2ang(nside=o_nside*2**depth, nest=True, lonlat=True, ipix=pix)\n",
    "    print(pix)\n",
    "    print(theta, phi)\n",
    "    sc0 = SkyCoord(l=theta[0]*u.degree, b=phi[0]*u.degree, frame='galactic')\n",
    "    sc1 = SkyCoord(l=theta[1]*u.degree, b=phi[1]*u.degree, frame='galactic')\n",
    "    return sc0.separation(sc1).degree"
   ]
  },
  {
   "cell_type": "code",
   "execution_count": 4,
   "metadata": {
    "ExecuteTime": {
     "end_time": "2020-09-09T15:00:27.827671Z",
     "start_time": "2020-09-09T15:00:27.448513Z"
    }
   },
   "outputs": [],
   "source": [
    "pich = draw_pic(matr)"
   ]
  },
  {
   "cell_type": "code",
   "execution_count": 5,
   "metadata": {
    "ExecuteTime": {
     "end_time": "2020-09-09T15:00:27.992055Z",
     "start_time": "2020-09-09T15:00:27.829292Z"
    }
   },
   "outputs": [
    {
     "name": "stderr",
     "output_type": "stream",
     "text": [
      "Clipping input data to the valid range for imshow with RGB data ([0..1] for floats or [0..255] for integers).\n"
     ]
    },
    {
     "data": {
      "text/plain": [
       "<matplotlib.image.AxesImage at 0x7f386d9c5670>"
      ]
     },
     "execution_count": 5,
     "metadata": {},
     "output_type": "execute_result"
    },
    {
     "data": {
      "image/png": "[encoded data removed]",
      "text/plain": [
       "<Figure size 288x288 with 1 Axes>"
      ]
     },
     "metadata": {
      "needs_background": "light"
     },
     "output_type": "display_data"
    }
   ],
   "source": [
    "plt.matshow(normalize(pich[:,:,:3]))"
   ]
  },
  {
   "cell_type": "code",
   "execution_count": 6,
   "metadata": {
    "ExecuteTime": {
     "end_time": "2020-09-09T15:00:28.013765Z",
     "start_time": "2020-09-09T15:00:27.994576Z"
    }
   },
   "outputs": [
    {
     "name": "stderr",
     "output_type": "stream",
     "text": [
      "WARNING: FITSFixedWarning: 'cdfix' made the change 'Success'. [astropy.wcs.wcs]\n",
      "/home/rt2122/L/git/data-segmentation-2/modules/DS_WCS_projections.py:39: RuntimeWarning: cdelt will be ignored since cd is present\n",
      "  w1.wcs.cdelt = w.wcs.cdelt[:2]\n"
     ]
    }
   ],
   "source": [
    "cc_wcs = custom_wcs(cc_prm.ra_center, cc_prm.dec_center)"
   ]
  },
  {
   "cell_type": "code",
   "execution_count": 7,
   "metadata": {
    "ExecuteTime": {
     "end_time": "2020-09-09T15:00:28.606991Z",
     "start_time": "2020-09-09T15:00:28.584884Z"
    }
   },
   "outputs": [],
   "source": [
    "cc_wcs.array_shape= [64, 64]\n",
    "cc_wcs.wcs.crpix = [32.5, 32.5]\n",
    "cc_wcs.wcs.cd = np.array([[-0.0294,  0.    ],\n",
    "       [ 0.    ,  0.0294]]) "
   ]
  },
  {
   "cell_type": "code",
   "execution_count": 8,
   "metadata": {
    "ExecuteTime": {
     "end_time": "2020-09-09T15:00:28.859690Z",
     "start_time": "2020-09-09T15:00:28.847868Z"
    }
   },
   "outputs": [],
   "source": [
    "def draw_planck(wcs, dirname = '/home/rt2122/Data/Planck/normalized/', nside=2048):\n",
    "    import os\n",
    "    from DS_healpix_fragmentation import radec2pix\n",
    "    \n",
    "    files = sorted(next(os.walk(dirname))[-1])\n",
    "    pic = np.zeros(list(wcs.array_shape) + [len(files)])\n",
    "    \n",
    "    for i_f, file in enumerate(files):\n",
    "        i_s = np.load(os.path.join(dirname, file))\n",
    "        \n",
    "        for x in range(pic.shape[0]):\n",
    "            ra, dec = wcs.all_pix2world(np.full(pic.shape[1], x), \n",
    "                                        np.arange(pic.shape[1]), 0)\n",
    "            pix = radec2pix(ra, dec, nside=nside)\n",
    "            pic[x, :, i_f] = i_s[pix]\n",
    "    return pic\n"
   ]
  },
  {
   "cell_type": "code",
   "execution_count": 9,
   "metadata": {
    "ExecuteTime": {
     "end_time": "2020-09-09T15:00:33.449520Z",
     "start_time": "2020-09-09T15:00:29.382828Z"
    }
   },
   "outputs": [],
   "source": [
    "pic = draw_planck(cc_wcs)"
   ]
  },
  {
   "cell_type": "code",
   "execution_count": 10,
   "metadata": {
    "ExecuteTime": {
     "end_time": "2020-09-09T15:00:33.608481Z",
     "start_time": "2020-09-09T15:00:33.450912Z"
    }
   },
   "outputs": [
    {
     "name": "stderr",
     "output_type": "stream",
     "text": [
      "Clipping input data to the valid range for imshow with RGB data ([0..1] for floats or [0..255] for integers).\n"
     ]
    },
    {
     "data": {
      "text/plain": [
       "<matplotlib.image.AxesImage at 0x7f386d8b32b0>"
      ]
     },
     "execution_count": 10,
     "metadata": {},
     "output_type": "execute_result"
    },
    {
     "data": {
      "image/png": "[encoded data removed]",
      "text/plain": [
       "<Figure size 432x288 with 1 Axes>"
      ]
     },
     "metadata": {
      "needs_background": "light"
     },
     "output_type": "display_data"
    }
   ],
   "source": [
    "plt.imshow(normalize(pic[:,:,:3]))"
   ]
  },
  {
   "cell_type": "code",
   "execution_count": 11,
   "metadata": {
    "ExecuteTime": {
     "end_time": "2020-09-09T15:00:33.814328Z",
     "start_time": "2020-09-09T15:00:33.611394Z"
    }
   },
   "outputs": [
    {
     "name": "stderr",
     "output_type": "stream",
     "text": [
      "/home/rt2122/L/git/data-segmentation-2/modules/DS_data_transformation.py:83: RuntimeWarning: invalid value encountered in true_divide\n",
      "  pic[:,:,i] /= np.std(pic[:,:,i])\n",
      "Clipping input data to the valid range for imshow with RGB data ([0..1] for floats or [0..255] for integers).\n"
     ]
    },
    {
     "data": {
      "text/plain": [
       "<matplotlib.image.AxesImage at 0x7f386d942880>"
      ]
     },
     "execution_count": 11,
     "metadata": {},
     "output_type": "execute_result"
    },
    {
     "data": {
      "image/png": "[encoded data removed]",
      "text/plain": [
       "<Figure size 432x288 with 1 Axes>"
      ]
     },
     "metadata": {
      "needs_background": "light"
     },
     "output_type": "display_data"
    }
   ],
   "source": [
    "plt.imshow(normalize(np.dstack([pich[:,:,:1], \n",
    "                                np.rot90(pic[:,:,:1]), np.zeros((64, 64, 1))])))"
   ]
  },
  {
   "cell_type": "code",
   "execution_count": 12,
   "metadata": {
    "ExecuteTime": {
     "end_time": "2020-09-09T15:00:33.818187Z",
     "start_time": "2020-09-09T15:00:33.815661Z"
    }
   },
   "outputs": [],
   "source": [
    "obj = np.array(cc_prm.obj).T"
   ]
  },
  {
   "cell_type": "code",
   "execution_count": 13,
   "metadata": {
    "ExecuteTime": {
     "end_time": "2020-09-09T15:00:33.892102Z",
     "start_time": "2020-09-09T15:00:33.820817Z"
    }
   },
   "outputs": [],
   "source": [
    "mdict = matr2dict(matr)"
   ]
  },
  {
   "cell_type": "code",
   "execution_count": 16,
   "metadata": {
    "ExecuteTime": {
     "end_time": "2020-09-09T15:00:40.727088Z",
     "start_time": "2020-09-09T15:00:40.688307Z"
    }
   },
   "outputs": [],
   "source": [
    "circles_h = draw_circles_h(ra, dec, np.ones(3), 2048, mdict, (64, 64, 1))"
   ]
  },
  {
   "cell_type": "code",
   "execution_count": 17,
   "metadata": {
    "ExecuteTime": {
     "end_time": "2020-09-09T15:00:42.088951Z",
     "start_time": "2020-09-09T15:00:41.873038Z"
    }
   },
   "outputs": [
    {
     "data": {
      "text/plain": [
       "<matplotlib.image.AxesImage at 0x7f386d7c4910>"
      ]
     },
     "execution_count": 17,
     "metadata": {},
     "output_type": "execute_result"
    },
    {
     "data": {
      "image/png": "[encoded data removed]",
      "text/plain": [
       "<Figure size 432x288 with 1 Axes>"
      ]
     },
     "metadata": {
      "needs_background": "light"
     },
     "output_type": "display_data"
    }
   ],
   "source": [
    "plt.imshow(circles_h[:,:,0])"
   ]
  },
  {
   "cell_type": "code",
   "execution_count": 14,
   "metadata": {
    "ExecuteTime": {
     "end_time": "2020-09-09T15:00:36.927197Z",
     "start_time": "2020-09-09T15:00:36.887807Z"
    }
   },
   "outputs": [
    {
     "data": {
      "text/plain": [
       "(3072, 1536, 768)"
      ]
     },
     "execution_count": 14,
     "metadata": {},
     "output_type": "execute_result"
    }
   ],
   "source": [
    "pix = matr[32, 32], matr[16, 32], matr[16, 16]\n",
    "pix"
   ]
  },
  {
   "cell_type": "code",
   "execution_count": 15,
   "metadata": {
    "ExecuteTime": {
     "end_time": "2020-09-09T15:00:37.381838Z",
     "start_time": "2020-09-09T15:00:37.354701Z"
    }
   },
   "outputs": [],
   "source": [
    "ra, dec = pix2radec(pix, 2048)"
   ]
  },
  {
   "cell_type": "code",
   "execution_count": 19,
   "metadata": {
    "ExecuteTime": {
     "end_time": "2020-09-09T15:02:22.835109Z",
     "start_time": "2020-09-09T15:02:22.827666Z"
    }
   },
   "outputs": [],
   "source": [
    "circles_w = draw_circles_w(ra, dec, np.ones(3), cc_wcs, (64, 64, 1))"
   ]
  },
  {
   "cell_type": "code",
   "execution_count": 20,
   "metadata": {
    "ExecuteTime": {
     "end_time": "2020-09-09T15:02:35.342762Z",
     "start_time": "2020-09-09T15:02:35.129588Z"
    }
   },
   "outputs": [
    {
     "data": {
      "text/plain": [
       "<matplotlib.image.AxesImage at 0x7f386c33d0a0>"
      ]
     },
     "execution_count": 20,
     "metadata": {},
     "output_type": "execute_result"
    },
    {
     "data": {
      "image/png": "[encoded data removed]",
      "text/plain": [
       "<Figure size 288x288 with 1 Axes>"
      ]
     },
     "metadata": {
      "needs_background": "light"
     },
     "output_type": "display_data"
    }
   ],
   "source": [
    "plt.matshow(circles_w[:,:,0])"
   ]
  },
  {
   "cell_type": "code",
   "execution_count": null,
   "metadata": {},
   "outputs": [],
   "source": [
    "#нарисовать ненайденные скопления\n",
    "#модель на (None, None, None, 6)"
   ]
  },
  {
   "cell_type": "code",
   "execution_count": null,
   "metadata": {},
   "outputs": [],
   "source": []
  }
 ],
 "metadata": {
  "kernelspec": {
   "display_name": "Python 3",
   "language": "python",
   "name": "python3"
  },
  "language_info": {
   "codemirror_mode": {
    "name": "ipython",
    "version": 3
   },
   "file_extension": ".py",
   "mimetype": "text/x-python",
   "name": "python",
   "nbconvert_exporter": "python",
   "pygments_lexer": "ipython3",
   "version": "3.8.3"
  }
 },
 "nbformat": 4,
 "nbformat_minor": 4
}
