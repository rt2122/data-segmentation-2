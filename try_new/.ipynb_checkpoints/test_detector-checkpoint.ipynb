{
 "cells": [
  {
   "cell_type": "code",
   "execution_count": 12,
   "metadata": {
    "ExecuteTime": {
     "end_time": "2020-09-01T18:55:29.536557Z",
     "start_time": "2020-09-01T18:55:29.488118Z"
    }
   },
   "outputs": [],
   "source": [
    "from DS_detector import find_centers_on_mask\n",
    "import numpy as np\n",
    "from DS_Planck_Unet import *\n",
    "from tensorflow.keras.models import load_model\n",
    "from matplotlib import pyplot as plt"
   ]
  },
  {
   "cell_type": "code",
   "execution_count": 10,
   "metadata": {
    "ExecuteTime": {
     "end_time": "2020-09-01T18:55:16.305342Z",
     "start_time": "2020-09-01T18:55:15.687867Z"
    }
   },
   "outputs": [],
   "source": [
    "model = unet_planck(input_size=(64, 64, 6), filters=16, blocks=5, output_layers=1, \n",
    "                   weights='/home/rt2122/Models/model.01-0.10.h5')\n",
    "model.compile()"
   ]
  },
  {
   "cell_type": "code",
   "execution_count": 6,
   "metadata": {
    "ExecuteTime": {
     "end_time": "2020-09-01T18:54:00.220501Z",
     "start_time": "2020-09-01T18:54:00.216195Z"
    }
   },
   "outputs": [],
   "source": [
    "test_gen = gen_data('/home/rt2122/Data/clusters/planck_z.csv', test_pix, 1, \n",
    "                    search_nside=256, min_rad=0.08)"
   ]
  },
  {
   "cell_type": "code",
   "execution_count": 11,
   "metadata": {
    "ExecuteTime": {
     "end_time": "2020-09-01T18:55:17.630376Z",
     "start_time": "2020-09-01T18:55:16.573725Z"
    }
   },
   "outputs": [],
   "source": [
    "pic, mask = next(test_gen)\n",
    "ans = model.predict(pic)"
   ]
  },
  {
   "cell_type": "code",
   "execution_count": 17,
   "metadata": {
    "ExecuteTime": {
     "end_time": "2020-09-01T18:56:27.436313Z",
     "start_time": "2020-09-01T18:56:27.298198Z"
    }
   },
   "outputs": [
    {
     "data": {
      "text/plain": [
       "<matplotlib.image.AxesImage at 0x7f1be9a13130>"
      ]
     },
     "execution_count": 17,
     "metadata": {},
     "output_type": "execute_result"
    },
    {
     "data": {
      "image/png": "[encoded data removed]",
      "text/plain": [
       "<Figure size 432x288 with 1 Axes>"
      ]
     },
     "metadata": {
      "needs_background": "light"
     },
     "output_type": "display_data"
    }
   ],
   "source": [
    "plt.imshow(ans[0,:,:,0])"
   ]
  },
  {
   "cell_type": "code",
   "execution_count": 18,
   "metadata": {
    "ExecuteTime": {
     "end_time": "2020-09-01T18:56:37.878520Z",
     "start_time": "2020-09-01T18:56:37.748996Z"
    }
   },
   "outputs": [
    {
     "data": {
      "text/plain": [
       "<matplotlib.image.AxesImage at 0x7f1be9966460>"
      ]
     },
     "execution_count": 18,
     "metadata": {},
     "output_type": "execute_result"
    },
    {
     "data": {
      "image/png": "[encoded data removed]",
      "text/plain": [
       "<Figure size 432x288 with 1 Axes>"
      ]
     },
     "metadata": {
      "needs_background": "light"
     },
     "output_type": "display_data"
    }
   ],
   "source": [
    "plt.imshow(mask[0,:,:,0])"
   ]
  },
  {
   "cell_type": "code",
   "execution_count": 19,
   "metadata": {
    "ExecuteTime": {
     "end_time": "2020-09-01T18:57:25.113246Z",
     "start_time": "2020-09-01T18:57:24.862717Z"
    }
   },
   "outputs": [
    {
     "data": {
      "text/plain": [
       "array([[40.04545455, 27.        ]])"
      ]
     },
     "execution_count": 19,
     "metadata": {},
     "output_type": "execute_result"
    }
   ],
   "source": [
    "find_centers_on_mask(ans[0, :, :])"
   ]
  },
  {
   "cell_type": "code",
   "execution_count": null,
   "metadata": {},
   "outputs": [],
   "source": []
  }
 ],
 "metadata": {
  "kernelspec": {
   "display_name": "Python 3",
   "language": "python",
   "name": "python3"
  },
  "language_info": {
   "codemirror_mode": {
    "name": "ipython",
    "version": 3
   },
   "file_extension": ".py",
   "mimetype": "text/x-python",
   "name": "python",
   "nbconvert_exporter": "python",
   "pygments_lexer": "ipython3",
   "version": "3.8.3"
  }
 },
 "nbformat": 4,
 "nbformat_minor": 4
}
