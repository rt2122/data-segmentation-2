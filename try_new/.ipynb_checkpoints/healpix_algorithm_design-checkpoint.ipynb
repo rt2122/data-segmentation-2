{
 "cells": [
  {
   "cell_type": "code",
   "execution_count": 2,
   "metadata": {
    "ExecuteTime": {
     "end_time": "2020-07-14T10:03:01.368549Z",
     "start_time": "2020-07-14T10:03:01.011193Z"
    }
   },
   "outputs": [],
   "source": [
    "import healpy as hp\n",
    "import numpy as np"
   ]
  },
  {
   "cell_type": "code",
   "execution_count": 5,
   "metadata": {
    "ExecuteTime": {
     "end_time": "2020-07-14T10:06:17.433922Z",
     "start_time": "2020-07-14T10:06:17.200220Z"
    }
   },
   "outputs": [
    {
     "data": {
      "image/png": "[encoded data removed]",
      "text/plain": [
       "<Figure size 612x388.8 with 2 Axes>"
      ]
     },
     "metadata": {
      "needs_background": "light"
     },
     "output_type": "display_data"
    }
   ],
   "source": [
    "nside = 2\n",
    "smap = np.zeros(hp.nside2npix(nside))\n",
    "idx = np.arange(4) + 3 * 4\n",
    "smap[idx] = np.arange(4) + 1\n",
    "hp.mollview(smap, nest=True)"
   ]
  },
  {
   "cell_type": "markdown",
   "metadata": {
    "ExecuteTime": {
     "end_time": "2020-07-14T10:11:44.216483Z",
     "start_time": "2020-07-14T10:11:44.207139Z"
    }
   },
   "source": [
    "  3   |  11  |j   i\n",
    "1   2 |01  10| \\ /\n",
    "  0   |  00  |  v"
   ]
  },
  {
   "cell_type": "markdown",
   "metadata": {},
   "source": [
    "Обозначения:\n",
    "\n",
    "o_... - изначальное разбиение(крупное) [original] \n",
    "\n",
    "f_... - итоговое разбиение(мелкое) [final]\n",
    "\n",
    "o_nside, f_side - nside как 2^k\n",
    "\n",
    "depth - глубина разбиения. f_nside = o_nside * (2 ^ depth)\n",
    "\n",
    "m_len - длина стороны матрицы с данными. m_len = 2 ^ depth\n",
    "\n",
    "pix_count - количество пикселей в матрице. pix_count = m_len ^ 2\n",
    "\n",
    "o_pix - номер пикселя в изначальном разбиении\n",
    "\n",
    "f_idx - индексы пикселей в итоговом разбиении\n",
    "\n",
    "f_matr - матрица индексов"
   ]
  },
  {
   "cell_type": "code",
   "execution_count": 36,
   "metadata": {
    "ExecuteTime": {
     "end_time": "2020-07-14T10:53:41.807253Z",
     "start_time": "2020-07-14T10:53:41.794978Z"
    }
   },
   "outputs": [],
   "source": [
    "def one_pixel_fragmentation(o_nside, o_pix, depth):\n",
    "    \n",
    "    def recursive_fill(matr):\n",
    "        if matr.shape[0] == 1:\n",
    "            return\n",
    "\n",
    "        mid = matr.shape[0] // 2\n",
    "        np.left_shift(matr, 1, out=matr)\n",
    "        matr[mid:, :] += 1\n",
    "\n",
    "        np.left_shift(matr, 1, out=matr)\n",
    "        matr[:, mid:] += 1\n",
    "\n",
    "        for i in [0, mid]:\n",
    "            for j in [0, mid]:\n",
    "                recursive_fill(matr[i:i+mid, j:j+mid])\n",
    "                \n",
    "    m_len = 2 ** depth\n",
    "    f_matr = np.full((m_len, m_len), o_pix)\n",
    "    \n",
    "    recursive_fill(f_matr)\n",
    "    return f_matr"
   ]
  },
  {
   "cell_type": "code",
   "execution_count": 28,
   "metadata": {
    "ExecuteTime": {
     "end_time": "2020-07-14T10:44:44.816885Z",
     "start_time": "2020-07-14T10:44:44.797390Z"
    }
   },
   "outputs": [],
   "source": [
    "def recursive_fill(matr):\n",
    "    if matr.shape[0] == 1:\n",
    "        return\n",
    "\n",
    "    mid = matr.shape[0] // 2\n",
    "    np.left_shift(matr, 1, out=matr)\n",
    "    matr[mid:, :] += 1\n",
    "\n",
    "    np.left_shift(matr, 1, out=matr)\n",
    "    matr[:, mid:] += 1\n",
    "\n",
    "    for i in [0, mid]:\n",
    "        for j in [0, mid]:\n",
    "            recursive_fill(matr[i:i+mid, j:j+mid])"
   ]
  },
  {
   "cell_type": "code",
   "execution_count": 31,
   "metadata": {
    "ExecuteTime": {
     "end_time": "2020-07-14T10:44:59.505342Z",
     "start_time": "2020-07-14T10:44:59.494820Z"
    }
   },
   "outputs": [],
   "source": [
    "arr = np.full((16, 16), 3)\n",
    "recursive_fill(arr)"
   ]
  },
  {
   "cell_type": "code",
   "execution_count": 32,
   "metadata": {
    "ExecuteTime": {
     "end_time": "2020-07-14T10:45:09.277966Z",
     "start_time": "2020-07-14T10:45:09.263338Z"
    }
   },
   "outputs": [],
   "source": [
    "nside = 2 ** 5\n",
    "hmap = np.zeros(hp.nside2npix(nside))\n",
    "k = 3\n",
    "for i in range(16):\n",
    "    for j in range(16):\n",
    "        hmap[arr[i, j]] = k\n",
    "        k += 1"
   ]
  },
  {
   "cell_type": "code",
   "execution_count": 33,
   "metadata": {
    "ExecuteTime": {
     "end_time": "2020-07-14T10:45:10.231457Z",
     "start_time": "2020-07-14T10:45:09.979007Z"
    }
   },
   "outputs": [
    {
     "data": {
      "image/png": "[encoded data removed]",
      "text/plain": [
       "<Figure size 612x388.8 with 2 Axes>"
      ]
     },
     "metadata": {
      "needs_background": "light"
     },
     "output_type": "display_data"
    }
   ],
   "source": [
    "hp.mollview(hmap, nest=True)"
   ]
  },
  {
   "cell_type": "code",
   "execution_count": 30,
   "metadata": {
    "ExecuteTime": {
     "end_time": "2020-07-14T10:44:48.954416Z",
     "start_time": "2020-07-14T10:44:48.944463Z"
    }
   },
   "outputs": [
    {
     "data": {
      "text/plain": [
       "array([[ 0,  1,  4,  5],\n",
       "       [ 2,  3,  6,  7],\n",
       "       [ 8,  9, 12, 13],\n",
       "       [10, 11, 14, 15]])"
      ]
     },
     "execution_count": 30,
     "metadata": {},
     "output_type": "execute_result"
    }
   ],
   "source": [
    "arr"
   ]
  },
  {
   "cell_type": "code",
   "execution_count": 37,
   "metadata": {
    "ExecuteTime": {
     "end_time": "2020-07-14T10:54:33.065058Z",
     "start_time": "2020-07-14T10:54:33.050530Z"
    }
   },
   "outputs": [],
   "source": [
    "o_nside = 2**1\n",
    "depth = 4\n",
    "mm = one_pixel_fragmentation(o_nside = o_nside, o_pix = 12, depth = depth)"
   ]
  },
  {
   "cell_type": "code",
   "execution_count": 38,
   "metadata": {
    "ExecuteTime": {
     "end_time": "2020-07-14T10:54:33.566007Z",
     "start_time": "2020-07-14T10:54:33.549453Z"
    }
   },
   "outputs": [],
   "source": [
    "hmap = np.zeros(hp.nside2npix(o_nside * 2 ** depth))\n",
    "for i in range(mm.shape[0]):\n",
    "    for j in range(mm.shape[0]):\n",
    "        hmap[mm[i, j]] = i + j +3"
   ]
  },
  {
   "cell_type": "code",
   "execution_count": 40,
   "metadata": {
    "ExecuteTime": {
     "end_time": "2020-07-14T10:54:51.235227Z",
     "start_time": "2020-07-14T10:54:51.001491Z"
    }
   },
   "outputs": [
    {
     "data": {
      "image/png": "[encoded data removed]",
      "text/plain": [
       "<Figure size 612x388.8 with 2 Axes>"
      ]
     },
     "metadata": {
      "needs_background": "light"
     },
     "output_type": "display_data"
    }
   ],
   "source": [
    "hp.mollview(hmap, nest=True)"
   ]
  },
  {
   "cell_type": "code",
   "execution_count": null,
   "metadata": {},
   "outputs": [],
   "source": []
  }
 ],
 "metadata": {
  "kernelspec": {
   "display_name": "Python 3",
   "language": "python",
   "name": "python3"
  },
  "language_info": {
   "codemirror_mode": {
    "name": "ipython",
    "version": 3
   },
   "file_extension": ".py",
   "mimetype": "text/x-python",
   "name": "python",
   "nbconvert_exporter": "python",
   "pygments_lexer": "ipython3",
   "version": "3.7.6"
  }
 },
 "nbformat": 4,
 "nbformat_minor": 4
}
