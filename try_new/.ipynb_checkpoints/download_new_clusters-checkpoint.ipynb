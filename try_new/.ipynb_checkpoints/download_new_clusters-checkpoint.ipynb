{
 "cells": [
  {
   "cell_type": "code",
   "execution_count": 4,
   "metadata": {
    "ExecuteTime": {
     "end_time": "2020-08-12T16:02:39.973156Z",
     "start_time": "2020-08-12T16:02:39.932211Z"
    }
   },
   "outputs": [],
   "source": [
    "import pandas as pd\n",
    "import numpy as np\n",
    "import requests\n",
    "import shutil\n",
    "import DS_clusters as clusters\n",
    "from DS_coordinates import coords_in_sweep, sweep_to_dict\n",
    "import DS_Coma_Cluster_param as cc_prm"
   ]
  },
  {
   "cell_type": "code",
   "execution_count": 2,
   "metadata": {
    "ExecuteTime": {
     "end_time": "2020-08-12T16:01:56.868237Z",
     "start_time": "2020-08-12T16:01:56.860340Z"
    }
   },
   "outputs": [],
   "source": [
    "sweep_north = pd.read_csv('/home/rt2122/Data/selected_sweep_north.csv')"
   ]
  },
  {
   "cell_type": "code",
   "execution_count": 3,
   "metadata": {
    "ExecuteTime": {
     "end_time": "2020-08-12T16:02:00.597012Z",
     "start_time": "2020-08-12T16:02:00.571750Z"
    }
   },
   "outputs": [
    {
     "data": {
      "text/html": [
       "<div>\n",
       "<style scoped>\n",
       "    .dataframe tbody tr th:only-of-type {\n",
       "        vertical-align: middle;\n",
       "    }\n",
       "\n",
       "    .dataframe tbody tr th {\n",
       "        vertical-align: top;\n",
       "    }\n",
       "\n",
       "    .dataframe thead th {\n",
       "        text-align: right;\n",
       "    }\n",
       "</style>\n",
       "<table border=\"1\" class=\"dataframe\">\n",
       "  <thead>\n",
       "    <tr style=\"text-align: right;\">\n",
       "      <th></th>\n",
       "      <th>sum</th>\n",
       "      <th>name</th>\n",
       "      <th>coma_selected</th>\n",
       "      <th>Abell2029</th>\n",
       "      <th>Abell1689</th>\n",
       "      <th>Virgo</th>\n",
       "    </tr>\n",
       "  </thead>\n",
       "  <tbody>\n",
       "    <tr>\n",
       "      <th>0</th>\n",
       "      <td>e7d6ebb79146b54603ff632a49dfa065b67f00e72d41e0...</td>\n",
       "      <td>sweep-000m005-010p000.fits</td>\n",
       "      <td>False</td>\n",
       "      <td>False</td>\n",
       "      <td>False</td>\n",
       "      <td>False</td>\n",
       "    </tr>\n",
       "    <tr>\n",
       "      <th>1</th>\n",
       "      <td>059467281d09b90cd54a5fba819a42cca5e80bdc81d2bd...</td>\n",
       "      <td>sweep-000p000-010p005.fits</td>\n",
       "      <td>False</td>\n",
       "      <td>False</td>\n",
       "      <td>False</td>\n",
       "      <td>False</td>\n",
       "    </tr>\n",
       "    <tr>\n",
       "      <th>2</th>\n",
       "      <td>529ab83d58b6c45e2fb33fb99ad3fc3a30f8610f690499...</td>\n",
       "      <td>sweep-000p040-010p045.fits</td>\n",
       "      <td>False</td>\n",
       "      <td>False</td>\n",
       "      <td>False</td>\n",
       "      <td>False</td>\n",
       "    </tr>\n",
       "    <tr>\n",
       "      <th>3</th>\n",
       "      <td>b874d1d6ea701bd3f946e02f89255fd18b51034b5dac52...</td>\n",
       "      <td>sweep-010m005-020p000.fits</td>\n",
       "      <td>False</td>\n",
       "      <td>False</td>\n",
       "      <td>False</td>\n",
       "      <td>False</td>\n",
       "    </tr>\n",
       "    <tr>\n",
       "      <th>4</th>\n",
       "      <td>b9d4eb08e54bf8d92ebc624c18a22b3062b8c8a2ab89a0...</td>\n",
       "      <td>sweep-010p000-020p005.fits</td>\n",
       "      <td>False</td>\n",
       "      <td>False</td>\n",
       "      <td>False</td>\n",
       "      <td>False</td>\n",
       "    </tr>\n",
       "  </tbody>\n",
       "</table>\n",
       "</div>"
      ],
      "text/plain": [
       "                                                 sum  \\\n",
       "0  e7d6ebb79146b54603ff632a49dfa065b67f00e72d41e0...   \n",
       "1  059467281d09b90cd54a5fba819a42cca5e80bdc81d2bd...   \n",
       "2  529ab83d58b6c45e2fb33fb99ad3fc3a30f8610f690499...   \n",
       "3  b874d1d6ea701bd3f946e02f89255fd18b51034b5dac52...   \n",
       "4  b9d4eb08e54bf8d92ebc624c18a22b3062b8c8a2ab89a0...   \n",
       "\n",
       "                         name  coma_selected  Abell2029  Abell1689  Virgo  \n",
       "0  sweep-000m005-010p000.fits          False      False      False  False  \n",
       "1  sweep-000p000-010p005.fits          False      False      False  False  \n",
       "2  sweep-000p040-010p045.fits          False      False      False  False  \n",
       "3  sweep-010m005-020p000.fits          False      False      False  False  \n",
       "4  sweep-010p000-020p005.fits          False      False      False  False  "
      ]
     },
     "execution_count": 3,
     "metadata": {},
     "output_type": "execute_result"
    }
   ],
   "source": [
    "sweep_north.head()"
   ]
  },
  {
   "cell_type": "code",
   "execution_count": 5,
   "metadata": {
    "ExecuteTime": {
     "end_time": "2020-08-12T16:03:39.402077Z",
     "start_time": "2020-08-12T16:03:39.226460Z"
    }
   },
   "outputs": [
    {
     "name": "stderr",
     "output_type": "stream",
     "text": [
      "<ipython-input-5-9e5d1df58d3b>:4: SettingWithCopyWarning: \n",
      "A value is trying to be set on a copy of a slice from a DataFrame\n",
      "\n",
      "See the caveats in the documentation: https://pandas.pydata.org/pandas-docs/stable/user_guide/indexing.html#returning-a-view-versus-a-copy\n",
      "  sweep_north[col][i] = coords_in_sweep(sweep_north['name'][i],\n"
     ]
    }
   ],
   "source": [
    "for i in range(sweep_north.shape[0]):\n",
    "    for col, cluster in zip(['Abell2029', 'Abell1689', 'Virgo'], \n",
    "                            [clusters.Abell2029, clusters.Abell1689, clusters.Virgo]):\n",
    "        sweep_north[col][i] = coords_in_sweep(sweep_north['name'][i], \n",
    "                                              [cluster.ra, cluster.dec])\n",
    "    sweep_north['coma_selected'] = coords_in_sweep(sweep_north['name'][i],\n",
    "                                    [cc_prm.ra_center, cc_prm.dec_center])"
   ]
  },
  {
   "cell_type": "code",
   "execution_count": 7,
   "metadata": {
    "ExecuteTime": {
     "end_time": "2020-08-12T16:04:06.461432Z",
     "start_time": "2020-08-12T16:04:06.451215Z"
    }
   },
   "outputs": [
    {
     "data": {
      "text/plain": [
       "0"
      ]
     },
     "execution_count": 7,
     "metadata": {},
     "output_type": "execute_result"
    }
   ],
   "source": [
    "np.count_nonzero(sweep_north['Virgo'])"
   ]
  },
  {
   "cell_type": "code",
   "execution_count": 8,
   "metadata": {
    "ExecuteTime": {
     "end_time": "2020-08-12T16:04:10.232285Z",
     "start_time": "2020-08-12T16:04:10.205852Z"
    }
   },
   "outputs": [],
   "source": [
    "sweep_north.to_csv('/home/rt2122/Data/selected_sweep_north.csv', index=False)"
   ]
  },
  {
   "cell_type": "code",
   "execution_count": 9,
   "metadata": {
    "ExecuteTime": {
     "end_time": "2020-08-12T16:04:44.259369Z",
     "start_time": "2020-08-12T16:04:44.252895Z"
    }
   },
   "outputs": [],
   "source": [
    "sweep_south = pd.read_csv('/home/rt2122/Data/selected_sweep_south.csv')"
   ]
  },
  {
   "cell_type": "code",
   "execution_count": 10,
   "metadata": {
    "ExecuteTime": {
     "end_time": "2020-08-12T16:04:44.674089Z",
     "start_time": "2020-08-12T16:04:44.642522Z"
    }
   },
   "outputs": [
    {
     "data": {
      "text/html": [
       "<div>\n",
       "<style scoped>\n",
       "    .dataframe tbody tr th:only-of-type {\n",
       "        vertical-align: middle;\n",
       "    }\n",
       "\n",
       "    .dataframe tbody tr th {\n",
       "        vertical-align: top;\n",
       "    }\n",
       "\n",
       "    .dataframe thead th {\n",
       "        text-align: right;\n",
       "    }\n",
       "</style>\n",
       "<table border=\"1\" class=\"dataframe\">\n",
       "  <thead>\n",
       "    <tr style=\"text-align: right;\">\n",
       "      <th></th>\n",
       "      <th>sum</th>\n",
       "      <th>name</th>\n",
       "      <th>selected</th>\n",
       "      <th>coma_selected</th>\n",
       "      <th>Abell2029</th>\n",
       "      <th>Abell1689</th>\n",
       "      <th>Virgo</th>\n",
       "    </tr>\n",
       "  </thead>\n",
       "  <tbody>\n",
       "    <tr>\n",
       "      <th>0</th>\n",
       "      <td>fd0ca1647b0be98cab8b6a2a37da58169358eaaf71dec9...</td>\n",
       "      <td>sweep-000m005-010p000.fits</td>\n",
       "      <td>0</td>\n",
       "      <td>False</td>\n",
       "      <td>False</td>\n",
       "      <td>False</td>\n",
       "      <td>False</td>\n",
       "    </tr>\n",
       "    <tr>\n",
       "      <th>1</th>\n",
       "      <td>79d5db41dddcc3da001573657a4c7c6f2d51743e9a4d2c...</td>\n",
       "      <td>sweep-000m010-010m005.fits</td>\n",
       "      <td>0</td>\n",
       "      <td>False</td>\n",
       "      <td>False</td>\n",
       "      <td>False</td>\n",
       "      <td>False</td>\n",
       "    </tr>\n",
       "    <tr>\n",
       "      <th>2</th>\n",
       "      <td>db086d6ebe0a77ab657f8613698b8c25ac2f3cd9fe4e8f...</td>\n",
       "      <td>sweep-000m015-010m010.fits</td>\n",
       "      <td>0</td>\n",
       "      <td>False</td>\n",
       "      <td>False</td>\n",
       "      <td>False</td>\n",
       "      <td>False</td>\n",
       "    </tr>\n",
       "    <tr>\n",
       "      <th>3</th>\n",
       "      <td>613f861882fd4849fec715f6e5657a66a0d72a12998bd9...</td>\n",
       "      <td>sweep-000m020-010m015.fits</td>\n",
       "      <td>0</td>\n",
       "      <td>False</td>\n",
       "      <td>False</td>\n",
       "      <td>False</td>\n",
       "      <td>False</td>\n",
       "    </tr>\n",
       "    <tr>\n",
       "      <th>4</th>\n",
       "      <td>22f9da834c527729079bf721313fdb19fd2bd09e0071aa...</td>\n",
       "      <td>sweep-000m025-010m020.fits</td>\n",
       "      <td>0</td>\n",
       "      <td>False</td>\n",
       "      <td>False</td>\n",
       "      <td>False</td>\n",
       "      <td>False</td>\n",
       "    </tr>\n",
       "  </tbody>\n",
       "</table>\n",
       "</div>"
      ],
      "text/plain": [
       "                                                 sum  \\\n",
       "0  fd0ca1647b0be98cab8b6a2a37da58169358eaaf71dec9...   \n",
       "1  79d5db41dddcc3da001573657a4c7c6f2d51743e9a4d2c...   \n",
       "2  db086d6ebe0a77ab657f8613698b8c25ac2f3cd9fe4e8f...   \n",
       "3  613f861882fd4849fec715f6e5657a66a0d72a12998bd9...   \n",
       "4  22f9da834c527729079bf721313fdb19fd2bd09e0071aa...   \n",
       "\n",
       "                         name  selected  coma_selected  Abell2029  Abell1689  \\\n",
       "0  sweep-000m005-010p000.fits         0          False      False      False   \n",
       "1  sweep-000m010-010m005.fits         0          False      False      False   \n",
       "2  sweep-000m015-010m010.fits         0          False      False      False   \n",
       "3  sweep-000m020-010m015.fits         0          False      False      False   \n",
       "4  sweep-000m025-010m020.fits         0          False      False      False   \n",
       "\n",
       "   Virgo  \n",
       "0  False  \n",
       "1  False  \n",
       "2  False  \n",
       "3  False  \n",
       "4  False  "
      ]
     },
     "execution_count": 10,
     "metadata": {},
     "output_type": "execute_result"
    }
   ],
   "source": [
    "sweep_south.head()"
   ]
  },
  {
   "cell_type": "code",
   "execution_count": 12,
   "metadata": {
    "ExecuteTime": {
     "end_time": "2020-08-12T16:04:52.654122Z",
     "start_time": "2020-08-12T16:04:52.442871Z"
    }
   },
   "outputs": [
    {
     "name": "stderr",
     "output_type": "stream",
     "text": [
      "<ipython-input-12-f476c571527d>:4: SettingWithCopyWarning: \n",
      "A value is trying to be set on a copy of a slice from a DataFrame\n",
      "\n",
      "See the caveats in the documentation: https://pandas.pydata.org/pandas-docs/stable/user_guide/indexing.html#returning-a-view-versus-a-copy\n",
      "  sweep_south[col][i] = coords_in_sweep(sweep_south['name'][i],\n"
     ]
    }
   ],
   "source": [
    "for i in range(sweep_south.shape[0]):\n",
    "    for col, cluster in zip(['Abell2029', 'Abell1689', 'Virgo'], \n",
    "                            [clusters.Abell2029, clusters.Abell1689, clusters.Virgo]):\n",
    "        sweep_south[col][i] = coords_in_sweep(sweep_south['name'][i], \n",
    "                                              [cluster.ra, cluster.dec])\n",
    "    sweep_south['coma_selected'] = coords_in_sweep(sweep_south['name'][i],\n",
    "                                    [cc_prm.ra_center, cc_prm.dec_center])"
   ]
  },
  {
   "cell_type": "code",
   "execution_count": 16,
   "metadata": {
    "ExecuteTime": {
     "end_time": "2020-08-12T16:05:18.177637Z",
     "start_time": "2020-08-12T16:05:18.173825Z"
    }
   },
   "outputs": [
    {
     "data": {
      "text/plain": [
       "0"
      ]
     },
     "execution_count": 16,
     "metadata": {},
     "output_type": "execute_result"
    }
   ],
   "source": [
    "np.count_nonzero(sweep_south['coma_selected'] == True)"
   ]
  },
  {
   "cell_type": "code",
   "execution_count": 6,
   "metadata": {
    "ExecuteTime": {
     "end_time": "2020-08-12T15:49:54.691668Z",
     "start_time": "2020-08-12T15:49:54.679488Z"
    }
   },
   "outputs": [
    {
     "data": {
      "text/plain": [
       "True"
      ]
     },
     "execution_count": 6,
     "metadata": {},
     "output_type": "execute_result"
    }
   ],
   "source": [
    "coords_in_sweep('sweep-000m005-010p000.fits', [5., 3.])"
   ]
  },
  {
   "cell_type": "code",
   "execution_count": 33,
   "metadata": {
    "ExecuteTime": {
     "end_time": "2020-08-12T15:59:42.076565Z",
     "start_time": "2020-08-12T15:59:42.061461Z"
    }
   },
   "outputs": [
    {
     "name": "stdout",
     "output_type": "stream",
     "text": [
      "RA1 180.0\n",
      "DEC1 10.0\n",
      "RA2 190.0\n",
      "DEC2 15.0\n",
      "RA 185.0\n",
      "DEC 12.5\n",
      "180.45 12.716666666666667\n"
     ]
    },
    {
     "data": {
      "text/plain": [
       "True"
      ]
     },
     "execution_count": 33,
     "metadata": {},
     "output_type": "execute_result"
    }
   ],
   "source": [
    "coords_in_sweep1('sweep-180p010-190p015.fits', [clusters.Virgo.ra, clusters.Virgo.dec])"
   ]
  },
  {
   "cell_type": "code",
   "execution_count": 32,
   "metadata": {
    "ExecuteTime": {
     "end_time": "2020-08-12T15:59:38.487751Z",
     "start_time": "2020-08-12T15:59:38.478763Z"
    }
   },
   "outputs": [],
   "source": [
    "def coords_in_sweep1(sweepname, coords):\n",
    "    import numpy as np\n",
    "    sweep_dict = sweep_to_dict(sweepname)\n",
    "    \n",
    "    ra = coords[0]\n",
    "    dec = coords[1]\n",
    "    \n",
    "    return ra <= sweep_dict['RA2'] and ra >= sweep_dict['RA1'] and\\\n",
    "        ((dec <= sweep_dict['DEC2'] and dec >= sweep_dict['DEC1']) or\\\n",
    "         (dec >= sweep_dict['DEC2'] and dec <= sweep_dict['DEC1']))\n"
   ]
  },
  {
   "cell_type": "code",
   "execution_count": 34,
   "metadata": {
    "ExecuteTime": {
     "end_time": "2020-08-12T16:01:42.494339Z",
     "start_time": "2020-08-12T16:01:42.482839Z"
    }
   },
   "outputs": [],
   "source": [
    "sweep_south.to_csv('/home/rt2122/Data/selected_sweep_south.csv', index=False)"
   ]
  },
  {
   "cell_type": "code",
   "execution_count": 17,
   "metadata": {
    "ExecuteTime": {
     "end_time": "2020-08-12T16:05:54.637275Z",
     "start_time": "2020-08-12T16:05:54.628011Z"
    }
   },
   "outputs": [
    {
     "data": {
      "text/html": [
       "<div>\n",
       "<style scoped>\n",
       "    .dataframe tbody tr th:only-of-type {\n",
       "        vertical-align: middle;\n",
       "    }\n",
       "\n",
       "    .dataframe tbody tr th {\n",
       "        vertical-align: top;\n",
       "    }\n",
       "\n",
       "    .dataframe thead th {\n",
       "        text-align: right;\n",
       "    }\n",
       "</style>\n",
       "<table border=\"1\" class=\"dataframe\">\n",
       "  <thead>\n",
       "    <tr style=\"text-align: right;\">\n",
       "      <th></th>\n",
       "      <th>sum</th>\n",
       "      <th>name</th>\n",
       "      <th>selected</th>\n",
       "      <th>coma_selected</th>\n",
       "      <th>Abell2029</th>\n",
       "      <th>Abell1689</th>\n",
       "      <th>Virgo</th>\n",
       "    </tr>\n",
       "  </thead>\n",
       "  <tbody>\n",
       "    <tr>\n",
       "      <th>248</th>\n",
       "      <td>a14ccdf54ba3f7d99a5742178fa5382693c9eeb169b450...</td>\n",
       "      <td>sweep-180p010-190p015.fits</td>\n",
       "      <td>0</td>\n",
       "      <td>False</td>\n",
       "      <td>False</td>\n",
       "      <td>False</td>\n",
       "      <td>True</td>\n",
       "    </tr>\n",
       "  </tbody>\n",
       "</table>\n",
       "</div>"
      ],
      "text/plain": [
       "                                                   sum  \\\n",
       "248  a14ccdf54ba3f7d99a5742178fa5382693c9eeb169b450...   \n",
       "\n",
       "                           name  selected  coma_selected  Abell2029  \\\n",
       "248  sweep-180p010-190p015.fits         0          False      False   \n",
       "\n",
       "     Abell1689  Virgo  \n",
       "248      False   True  "
      ]
     },
     "execution_count": 17,
     "metadata": {},
     "output_type": "execute_result"
    }
   ],
   "source": [
    "sweep_south[sweep_south['Virgo']]"
   ]
  },
  {
   "cell_type": "code",
   "execution_count": 18,
   "metadata": {
    "ExecuteTime": {
     "end_time": "2020-08-12T16:06:09.959845Z",
     "start_time": "2020-08-12T16:06:09.937511Z"
    }
   },
   "outputs": [
    {
     "data": {
      "text/html": [
       "<div>\n",
       "<style scoped>\n",
       "    .dataframe tbody tr th:only-of-type {\n",
       "        vertical-align: middle;\n",
       "    }\n",
       "\n",
       "    .dataframe tbody tr th {\n",
       "        vertical-align: top;\n",
       "    }\n",
       "\n",
       "    .dataframe thead th {\n",
       "        text-align: right;\n",
       "    }\n",
       "</style>\n",
       "<table border=\"1\" class=\"dataframe\">\n",
       "  <thead>\n",
       "    <tr style=\"text-align: right;\">\n",
       "      <th></th>\n",
       "      <th>sum</th>\n",
       "      <th>name</th>\n",
       "      <th>selected</th>\n",
       "      <th>coma_selected</th>\n",
       "      <th>Abell2029</th>\n",
       "      <th>Abell1689</th>\n",
       "      <th>Virgo</th>\n",
       "    </tr>\n",
       "  </thead>\n",
       "  <tbody>\n",
       "    <tr>\n",
       "      <th>284</th>\n",
       "      <td>e719ea8c3922ce5fa74437818a2f96619bb18203f3315d...</td>\n",
       "      <td>sweep-220m010-230m005.fits</td>\n",
       "      <td>0</td>\n",
       "      <td>False</td>\n",
       "      <td>True</td>\n",
       "      <td>False</td>\n",
       "      <td>False</td>\n",
       "    </tr>\n",
       "    <tr>\n",
       "      <th>287</th>\n",
       "      <td>46cfa935e1da22da4ad3a4c1167f45a999bdc000f54c56...</td>\n",
       "      <td>sweep-220p005-230p010.fits</td>\n",
       "      <td>0</td>\n",
       "      <td>False</td>\n",
       "      <td>True</td>\n",
       "      <td>False</td>\n",
       "      <td>False</td>\n",
       "    </tr>\n",
       "  </tbody>\n",
       "</table>\n",
       "</div>"
      ],
      "text/plain": [
       "                                                   sum  \\\n",
       "284  e719ea8c3922ce5fa74437818a2f96619bb18203f3315d...   \n",
       "287  46cfa935e1da22da4ad3a4c1167f45a999bdc000f54c56...   \n",
       "\n",
       "                           name  selected  coma_selected  Abell2029  \\\n",
       "284  sweep-220m010-230m005.fits         0          False       True   \n",
       "287  sweep-220p005-230p010.fits         0          False       True   \n",
       "\n",
       "     Abell1689  Virgo  \n",
       "284      False  False  \n",
       "287      False  False  "
      ]
     },
     "execution_count": 18,
     "metadata": {},
     "output_type": "execute_result"
    }
   ],
   "source": [
    "sweep_south[sweep_south['Abell2029']]"
   ]
  },
  {
   "cell_type": "code",
   "execution_count": 23,
   "metadata": {
    "ExecuteTime": {
     "end_time": "2020-08-12T17:45:24.540037Z",
     "start_time": "2020-08-12T17:45:24.522180Z"
    }
   },
   "outputs": [
    {
     "data": {
      "text/html": [
       "<div>\n",
       "<style scoped>\n",
       "    .dataframe tbody tr th:only-of-type {\n",
       "        vertical-align: middle;\n",
       "    }\n",
       "\n",
       "    .dataframe tbody tr th {\n",
       "        vertical-align: top;\n",
       "    }\n",
       "\n",
       "    .dataframe thead th {\n",
       "        text-align: right;\n",
       "    }\n",
       "</style>\n",
       "<table border=\"1\" class=\"dataframe\">\n",
       "  <thead>\n",
       "    <tr style=\"text-align: right;\">\n",
       "      <th></th>\n",
       "      <th>sum</th>\n",
       "      <th>name</th>\n",
       "      <th>selected</th>\n",
       "      <th>coma_selected</th>\n",
       "      <th>Abell2029</th>\n",
       "      <th>Abell1689</th>\n",
       "      <th>Virgo</th>\n",
       "    </tr>\n",
       "  </thead>\n",
       "  <tbody>\n",
       "  </tbody>\n",
       "</table>\n",
       "</div>"
      ],
      "text/plain": [
       "Empty DataFrame\n",
       "Columns: [sum, name, selected, coma_selected, Abell2029, Abell1689, Virgo]\n",
       "Index: []"
      ]
     },
     "execution_count": 23,
     "metadata": {},
     "output_type": "execute_result"
    }
   ],
   "source": [
    "sweep_south[sweep_south['Abell1689']]"
   ]
  },
  {
   "cell_type": "code",
   "execution_count": null,
   "metadata": {},
   "outputs": [],
   "source": []
  }
 ],
 "metadata": {
  "kernelspec": {
   "display_name": "Python 3",
   "language": "python",
   "name": "python3"
  },
  "language_info": {
   "codemirror_mode": {
    "name": "ipython",
    "version": 3
   },
   "file_extension": ".py",
   "mimetype": "text/x-python",
   "name": "python",
   "nbconvert_exporter": "python",
   "pygments_lexer": "ipython3",
   "version": "3.8.3"
  }
 },
 "nbformat": 4,
 "nbformat_minor": 4
}
