{
 "cells": [
  {
   "cell_type": "code",
   "execution_count": 13,
   "metadata": {
    "ExecuteTime": {
     "end_time": "2020-08-12T13:10:53.755060Z",
     "start_time": "2020-08-12T13:10:53.741044Z"
    }
   },
   "outputs": [],
   "source": [
    "import pandas as pd\n",
    "import numpy as np\n",
    "import requests\n",
    "import shutil\n",
    "import DS_clusters as clusters\n",
    "from DS_coordinates import coords_in_sweep"
   ]
  },
  {
   "cell_type": "code",
   "execution_count": 2,
   "metadata": {
    "ExecuteTime": {
     "end_time": "2020-08-12T13:05:21.284773Z",
     "start_time": "2020-08-12T13:05:20.963292Z"
    }
   },
   "outputs": [],
   "source": [
    "sweep_north = pd.read_csv('/home/rt2122/Data/selected_sweep_north.csv', \n",
    "                          index_col='index')"
   ]
  },
  {
   "cell_type": "code",
   "execution_count": 3,
   "metadata": {
    "ExecuteTime": {
     "end_time": "2020-08-12T13:05:36.323373Z",
     "start_time": "2020-08-12T13:05:36.246874Z"
    }
   },
   "outputs": [
    {
     "data": {
      "text/html": [
       "<div>\n",
       "<style scoped>\n",
       "    .dataframe tbody tr th:only-of-type {\n",
       "        vertical-align: middle;\n",
       "    }\n",
       "\n",
       "    .dataframe tbody tr th {\n",
       "        vertical-align: top;\n",
       "    }\n",
       "\n",
       "    .dataframe thead th {\n",
       "        text-align: right;\n",
       "    }\n",
       "</style>\n",
       "<table border=\"1\" class=\"dataframe\">\n",
       "  <thead>\n",
       "    <tr style=\"text-align: right;\">\n",
       "      <th></th>\n",
       "      <th>sum</th>\n",
       "      <th>name</th>\n",
       "      <th>selected</th>\n",
       "      <th>coma_selected</th>\n",
       "    </tr>\n",
       "    <tr>\n",
       "      <th>index</th>\n",
       "      <th></th>\n",
       "      <th></th>\n",
       "      <th></th>\n",
       "      <th></th>\n",
       "    </tr>\n",
       "  </thead>\n",
       "  <tbody>\n",
       "    <tr>\n",
       "      <th>0</th>\n",
       "      <td>e7d6ebb79146b54603ff632a49dfa065b67f00e72d41e0...</td>\n",
       "      <td>sweep-000m005-010p000.fits</td>\n",
       "      <td>0.0</td>\n",
       "      <td>False</td>\n",
       "    </tr>\n",
       "    <tr>\n",
       "      <th>1</th>\n",
       "      <td>059467281d09b90cd54a5fba819a42cca5e80bdc81d2bd...</td>\n",
       "      <td>sweep-000p000-010p005.fits</td>\n",
       "      <td>0.0</td>\n",
       "      <td>False</td>\n",
       "    </tr>\n",
       "    <tr>\n",
       "      <th>2</th>\n",
       "      <td>529ab83d58b6c45e2fb33fb99ad3fc3a30f8610f690499...</td>\n",
       "      <td>sweep-000p040-010p045.fits</td>\n",
       "      <td>0.0</td>\n",
       "      <td>False</td>\n",
       "    </tr>\n",
       "    <tr>\n",
       "      <th>3</th>\n",
       "      <td>b874d1d6ea701bd3f946e02f89255fd18b51034b5dac52...</td>\n",
       "      <td>sweep-010m005-020p000.fits</td>\n",
       "      <td>0.0</td>\n",
       "      <td>False</td>\n",
       "    </tr>\n",
       "    <tr>\n",
       "      <th>4</th>\n",
       "      <td>b9d4eb08e54bf8d92ebc624c18a22b3062b8c8a2ab89a0...</td>\n",
       "      <td>sweep-010p000-020p005.fits</td>\n",
       "      <td>0.0</td>\n",
       "      <td>False</td>\n",
       "    </tr>\n",
       "  </tbody>\n",
       "</table>\n",
       "</div>"
      ],
      "text/plain": [
       "                                                     sum  \\\n",
       "index                                                      \n",
       "0      e7d6ebb79146b54603ff632a49dfa065b67f00e72d41e0...   \n",
       "1      059467281d09b90cd54a5fba819a42cca5e80bdc81d2bd...   \n",
       "2      529ab83d58b6c45e2fb33fb99ad3fc3a30f8610f690499...   \n",
       "3      b874d1d6ea701bd3f946e02f89255fd18b51034b5dac52...   \n",
       "4      b9d4eb08e54bf8d92ebc624c18a22b3062b8c8a2ab89a0...   \n",
       "\n",
       "                             name  selected  coma_selected  \n",
       "index                                                       \n",
       "0      sweep-000m005-010p000.fits       0.0          False  \n",
       "1      sweep-000p000-010p005.fits       0.0          False  \n",
       "2      sweep-000p040-010p045.fits       0.0          False  \n",
       "3      sweep-010m005-020p000.fits       0.0          False  \n",
       "4      sweep-010p000-020p005.fits       0.0          False  "
      ]
     },
     "execution_count": 3,
     "metadata": {},
     "output_type": "execute_result"
    }
   ],
   "source": [
    "sweep_north.head()"
   ]
  },
  {
   "cell_type": "code",
   "execution_count": 8,
   "metadata": {
    "ExecuteTime": {
     "end_time": "2020-08-12T13:09:03.758063Z",
     "start_time": "2020-08-12T13:09:03.754611Z"
    }
   },
   "outputs": [],
   "source": [
    "sweep_north = sweep_north.drop(columns='selected')"
   ]
  },
  {
   "cell_type": "code",
   "execution_count": 11,
   "metadata": {
    "ExecuteTime": {
     "end_time": "2020-08-12T13:10:21.426983Z",
     "start_time": "2020-08-12T13:10:21.414666Z"
    }
   },
   "outputs": [],
   "source": [
    "sweep_north['Abell2029'] = False\n",
    "sweep_north['Abell1689'] = False\n",
    "sweep_north['Virgo'] = False"
   ]
  },
  {
   "cell_type": "code",
   "execution_count": 12,
   "metadata": {
    "ExecuteTime": {
     "end_time": "2020-08-12T13:10:21.984837Z",
     "start_time": "2020-08-12T13:10:21.951458Z"
    }
   },
   "outputs": [
    {
     "data": {
      "text/html": [
       "<div>\n",
       "<style scoped>\n",
       "    .dataframe tbody tr th:only-of-type {\n",
       "        vertical-align: middle;\n",
       "    }\n",
       "\n",
       "    .dataframe tbody tr th {\n",
       "        vertical-align: top;\n",
       "    }\n",
       "\n",
       "    .dataframe thead th {\n",
       "        text-align: right;\n",
       "    }\n",
       "</style>\n",
       "<table border=\"1\" class=\"dataframe\">\n",
       "  <thead>\n",
       "    <tr style=\"text-align: right;\">\n",
       "      <th></th>\n",
       "      <th>sum</th>\n",
       "      <th>name</th>\n",
       "      <th>coma_selected</th>\n",
       "      <th>Abell2029</th>\n",
       "      <th>Abell1689</th>\n",
       "      <th>Virgo</th>\n",
       "    </tr>\n",
       "    <tr>\n",
       "      <th>index</th>\n",
       "      <th></th>\n",
       "      <th></th>\n",
       "      <th></th>\n",
       "      <th></th>\n",
       "      <th></th>\n",
       "      <th></th>\n",
       "    </tr>\n",
       "  </thead>\n",
       "  <tbody>\n",
       "    <tr>\n",
       "      <th>0</th>\n",
       "      <td>e7d6ebb79146b54603ff632a49dfa065b67f00e72d41e0...</td>\n",
       "      <td>sweep-000m005-010p000.fits</td>\n",
       "      <td>False</td>\n",
       "      <td>False</td>\n",
       "      <td>False</td>\n",
       "      <td>False</td>\n",
       "    </tr>\n",
       "    <tr>\n",
       "      <th>1</th>\n",
       "      <td>059467281d09b90cd54a5fba819a42cca5e80bdc81d2bd...</td>\n",
       "      <td>sweep-000p000-010p005.fits</td>\n",
       "      <td>False</td>\n",
       "      <td>False</td>\n",
       "      <td>False</td>\n",
       "      <td>False</td>\n",
       "    </tr>\n",
       "    <tr>\n",
       "      <th>2</th>\n",
       "      <td>529ab83d58b6c45e2fb33fb99ad3fc3a30f8610f690499...</td>\n",
       "      <td>sweep-000p040-010p045.fits</td>\n",
       "      <td>False</td>\n",
       "      <td>False</td>\n",
       "      <td>False</td>\n",
       "      <td>False</td>\n",
       "    </tr>\n",
       "    <tr>\n",
       "      <th>3</th>\n",
       "      <td>b874d1d6ea701bd3f946e02f89255fd18b51034b5dac52...</td>\n",
       "      <td>sweep-010m005-020p000.fits</td>\n",
       "      <td>False</td>\n",
       "      <td>False</td>\n",
       "      <td>False</td>\n",
       "      <td>False</td>\n",
       "    </tr>\n",
       "    <tr>\n",
       "      <th>4</th>\n",
       "      <td>b9d4eb08e54bf8d92ebc624c18a22b3062b8c8a2ab89a0...</td>\n",
       "      <td>sweep-010p000-020p005.fits</td>\n",
       "      <td>False</td>\n",
       "      <td>False</td>\n",
       "      <td>False</td>\n",
       "      <td>False</td>\n",
       "    </tr>\n",
       "  </tbody>\n",
       "</table>\n",
       "</div>"
      ],
      "text/plain": [
       "                                                     sum  \\\n",
       "index                                                      \n",
       "0      e7d6ebb79146b54603ff632a49dfa065b67f00e72d41e0...   \n",
       "1      059467281d09b90cd54a5fba819a42cca5e80bdc81d2bd...   \n",
       "2      529ab83d58b6c45e2fb33fb99ad3fc3a30f8610f690499...   \n",
       "3      b874d1d6ea701bd3f946e02f89255fd18b51034b5dac52...   \n",
       "4      b9d4eb08e54bf8d92ebc624c18a22b3062b8c8a2ab89a0...   \n",
       "\n",
       "                             name  coma_selected  Abell2029  Abell1689  Virgo  \n",
       "index                                                                          \n",
       "0      sweep-000m005-010p000.fits          False      False      False  False  \n",
       "1      sweep-000p000-010p005.fits          False      False      False  False  \n",
       "2      sweep-000p040-010p045.fits          False      False      False  False  \n",
       "3      sweep-010m005-020p000.fits          False      False      False  False  \n",
       "4      sweep-010p000-020p005.fits          False      False      False  False  "
      ]
     },
     "execution_count": 12,
     "metadata": {},
     "output_type": "execute_result"
    }
   ],
   "source": [
    "sweep_north.head()"
   ]
  },
  {
   "cell_type": "code",
   "execution_count": 15,
   "metadata": {
    "ExecuteTime": {
     "end_time": "2020-08-12T13:17:17.702541Z",
     "start_time": "2020-08-12T13:17:17.613938Z"
    }
   },
   "outputs": [
    {
     "name": "stderr",
     "output_type": "stream",
     "text": [
      "<ipython-input-15-b30ad02489e4>:4: SettingWithCopyWarning: \n",
      "A value is trying to be set on a copy of a slice from a DataFrame\n",
      "\n",
      "See the caveats in the documentation: https://pandas.pydata.org/pandas-docs/stable/user_guide/indexing.html#returning-a-view-versus-a-copy\n",
      "  sweep_north[col][i] = coords_in_sweep(sweep_north['name'][i],\n"
     ]
    }
   ],
   "source": [
    "for i in range(sweep_north.shape[0]):\n",
    "    for col, cluster in zip(['Abell2029', 'Abell1689', 'Virgo'], \n",
    "                            [clusters.Abell2029, clusters.Abell1689, clusters.Virgo]):\n",
    "        sweep_north[col][i] = coords_in_sweep(sweep_north['name'][i], \n",
    "                                              [cluster.ra, cluster.dec])\n",
    "        "
   ]
  },
  {
   "cell_type": "code",
   "execution_count": 18,
   "metadata": {
    "ExecuteTime": {
     "end_time": "2020-08-12T13:17:52.143357Z",
     "start_time": "2020-08-12T13:17:52.131454Z"
    }
   },
   "outputs": [
    {
     "data": {
      "text/plain": [
       "0"
      ]
     },
     "execution_count": 18,
     "metadata": {},
     "output_type": "execute_result"
    }
   ],
   "source": [
    "np.count_nonzero(sweep_north['Virgo'])"
   ]
  },
  {
   "cell_type": "code",
   "execution_count": 19,
   "metadata": {
    "ExecuteTime": {
     "end_time": "2020-08-12T13:18:41.745512Z",
     "start_time": "2020-08-12T13:18:41.665748Z"
    }
   },
   "outputs": [],
   "source": [
    "sweep_north.to_csv('/home/rt2122/Data/selected_sweep_north.csv', index=False)"
   ]
  },
  {
   "cell_type": "code",
   "execution_count": 20,
   "metadata": {
    "ExecuteTime": {
     "end_time": "2020-08-12T13:19:01.501860Z",
     "start_time": "2020-08-12T13:19:01.480348Z"
    }
   },
   "outputs": [],
   "source": [
    "sweep_south = pd.read_csv('/home/rt2122/Data/selected_sweep_south.csv', \n",
    "                          index_col='index')"
   ]
  },
  {
   "cell_type": "code",
   "execution_count": 21,
   "metadata": {
    "ExecuteTime": {
     "end_time": "2020-08-12T13:19:10.043505Z",
     "start_time": "2020-08-12T13:19:10.033868Z"
    }
   },
   "outputs": [
    {
     "data": {
      "text/html": [
       "<div>\n",
       "<style scoped>\n",
       "    .dataframe tbody tr th:only-of-type {\n",
       "        vertical-align: middle;\n",
       "    }\n",
       "\n",
       "    .dataframe tbody tr th {\n",
       "        vertical-align: top;\n",
       "    }\n",
       "\n",
       "    .dataframe thead th {\n",
       "        text-align: right;\n",
       "    }\n",
       "</style>\n",
       "<table border=\"1\" class=\"dataframe\">\n",
       "  <thead>\n",
       "    <tr style=\"text-align: right;\">\n",
       "      <th></th>\n",
       "      <th>sum</th>\n",
       "      <th>name</th>\n",
       "      <th>selected</th>\n",
       "      <th>coma_selected</th>\n",
       "    </tr>\n",
       "    <tr>\n",
       "      <th>index</th>\n",
       "      <th></th>\n",
       "      <th></th>\n",
       "      <th></th>\n",
       "      <th></th>\n",
       "    </tr>\n",
       "  </thead>\n",
       "  <tbody>\n",
       "    <tr>\n",
       "      <th>0</th>\n",
       "      <td>fd0ca1647b0be98cab8b6a2a37da58169358eaaf71dec9...</td>\n",
       "      <td>sweep-000m005-010p000.fits</td>\n",
       "      <td>0</td>\n",
       "      <td>False</td>\n",
       "    </tr>\n",
       "    <tr>\n",
       "      <th>1</th>\n",
       "      <td>79d5db41dddcc3da001573657a4c7c6f2d51743e9a4d2c...</td>\n",
       "      <td>sweep-000m010-010m005.fits</td>\n",
       "      <td>0</td>\n",
       "      <td>False</td>\n",
       "    </tr>\n",
       "    <tr>\n",
       "      <th>2</th>\n",
       "      <td>db086d6ebe0a77ab657f8613698b8c25ac2f3cd9fe4e8f...</td>\n",
       "      <td>sweep-000m015-010m010.fits</td>\n",
       "      <td>0</td>\n",
       "      <td>False</td>\n",
       "    </tr>\n",
       "    <tr>\n",
       "      <th>3</th>\n",
       "      <td>613f861882fd4849fec715f6e5657a66a0d72a12998bd9...</td>\n",
       "      <td>sweep-000m020-010m015.fits</td>\n",
       "      <td>0</td>\n",
       "      <td>False</td>\n",
       "    </tr>\n",
       "    <tr>\n",
       "      <th>4</th>\n",
       "      <td>22f9da834c527729079bf721313fdb19fd2bd09e0071aa...</td>\n",
       "      <td>sweep-000m025-010m020.fits</td>\n",
       "      <td>0</td>\n",
       "      <td>False</td>\n",
       "    </tr>\n",
       "  </tbody>\n",
       "</table>\n",
       "</div>"
      ],
      "text/plain": [
       "                                                     sum  \\\n",
       "index                                                      \n",
       "0      fd0ca1647b0be98cab8b6a2a37da58169358eaaf71dec9...   \n",
       "1      79d5db41dddcc3da001573657a4c7c6f2d51743e9a4d2c...   \n",
       "2      db086d6ebe0a77ab657f8613698b8c25ac2f3cd9fe4e8f...   \n",
       "3      613f861882fd4849fec715f6e5657a66a0d72a12998bd9...   \n",
       "4      22f9da834c527729079bf721313fdb19fd2bd09e0071aa...   \n",
       "\n",
       "                             name  selected  coma_selected  \n",
       "index                                                       \n",
       "0      sweep-000m005-010p000.fits         0          False  \n",
       "1      sweep-000m010-010m005.fits         0          False  \n",
       "2      sweep-000m015-010m010.fits         0          False  \n",
       "3      sweep-000m020-010m015.fits         0          False  \n",
       "4      sweep-000m025-010m020.fits         0          False  "
      ]
     },
     "execution_count": 21,
     "metadata": {},
     "output_type": "execute_result"
    }
   ],
   "source": [
    "sweep_south.head()"
   ]
  },
  {
   "cell_type": "code",
   "execution_count": 23,
   "metadata": {
    "ExecuteTime": {
     "end_time": "2020-08-12T13:19:57.577132Z",
     "start_time": "2020-08-12T13:19:57.563581Z"
    }
   },
   "outputs": [],
   "source": [
    "sweep_south = sweep_south.drop(columns='selected')\n",
    "sweep_south['Abell2029'] = False\n",
    "sweep_south['Abell1689'] = False\n",
    "sweep_south['Virgo'] = False"
   ]
  },
  {
   "cell_type": "code",
   "execution_count": 24,
   "metadata": {
    "ExecuteTime": {
     "end_time": "2020-08-12T13:20:16.945351Z",
     "start_time": "2020-08-12T13:20:16.826942Z"
    }
   },
   "outputs": [
    {
     "name": "stderr",
     "output_type": "stream",
     "text": [
      "<ipython-input-24-2bad9cd4229c>:4: SettingWithCopyWarning: \n",
      "A value is trying to be set on a copy of a slice from a DataFrame\n",
      "\n",
      "See the caveats in the documentation: https://pandas.pydata.org/pandas-docs/stable/user_guide/indexing.html#returning-a-view-versus-a-copy\n",
      "  sweep_south[col][i] = coords_in_sweep(sweep_south['name'][i],\n"
     ]
    }
   ],
   "source": [
    "for i in range(sweep_south.shape[0]):\n",
    "    for col, cluster in zip(['Abell2029', 'Abell1689', 'Virgo'], \n",
    "                            [clusters.Abell2029, clusters.Abell1689, clusters.Virgo]):\n",
    "        sweep_south[col][i] = coords_in_sweep(sweep_south['name'][i], \n",
    "                                              [cluster.ra, cluster.dec])"
   ]
  },
  {
   "cell_type": "code",
   "execution_count": 25,
   "metadata": {
    "ExecuteTime": {
     "end_time": "2020-08-12T13:20:24.772361Z",
     "start_time": "2020-08-12T13:20:24.762372Z"
    }
   },
   "outputs": [
    {
     "data": {
      "text/plain": [
       "0"
      ]
     },
     "execution_count": 25,
     "metadata": {},
     "output_type": "execute_result"
    }
   ],
   "source": [
    "np.count_nonzero(sweep_north['Virgo'])"
   ]
  },
  {
   "cell_type": "code",
   "execution_count": null,
   "metadata": {},
   "outputs": [],
   "source": []
  }
 ],
 "metadata": {
  "kernelspec": {
   "display_name": "Python 3",
   "language": "python",
   "name": "python3"
  },
  "language_info": {
   "codemirror_mode": {
    "name": "ipython",
    "version": 3
   },
   "file_extension": ".py",
   "mimetype": "text/x-python",
   "name": "python",
   "nbconvert_exporter": "python",
   "pygments_lexer": "ipython3",
   "version": "3.8.3"
  }
 },
 "nbformat": 4,
 "nbformat_minor": 4
}
