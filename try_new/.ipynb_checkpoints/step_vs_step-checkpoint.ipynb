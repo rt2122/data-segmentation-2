{
 "cells": [
  {
   "cell_type": "code",
   "execution_count": 30,
   "metadata": {
    "ExecuteTime": {
     "end_time": "2020-10-10T18:43:49.483334Z",
     "start_time": "2020-10-10T18:43:49.400969Z"
    }
   },
   "outputs": [],
   "source": [
    "import numpy as np\n",
    "import pandas as pd\n",
    "from DS_detector import *\n",
    "from DS_Planck_Unet import *\n",
    "from matplotlib import pyplot as plt"
   ]
  },
  {
   "cell_type": "code",
   "execution_count": 2,
   "metadata": {
    "ExecuteTime": {
     "end_time": "2020-10-10T18:04:29.105989Z",
     "start_time": "2020-10-10T18:03:57.208350Z"
    }
   },
   "outputs": [],
   "source": [
    "model = load_planck_model(\n",
    "    '/home/rt2122/Models/planck_z/f8d2.ep0014-vl0.006570-l0.004067.hdf5')"
   ]
  },
  {
   "cell_type": "code",
   "execution_count": 3,
   "metadata": {
    "ExecuteTime": {
     "end_time": "2020-10-10T18:05:47.215477Z",
     "start_time": "2020-10-10T18:05:15.585838Z"
    }
   },
   "outputs": [],
   "source": []
  },
  {
   "cell_type": "code",
   "execution_count": 4,
   "metadata": {
    "ExecuteTime": {
     "end_time": "2020-10-10T18:06:02.837311Z",
     "start_time": "2020-10-10T18:06:02.821124Z"
    }
   },
   "outputs": [],
   "source": [
    "step = [64, 32, 16]"
   ]
  },
  {
   "cell_type": "code",
   "execution_count": 13,
   "metadata": {
    "ExecuteTime": {
     "end_time": "2020-10-10T18:21:21.535980Z",
     "start_time": "2020-10-10T18:20:05.567201Z"
    }
   },
   "outputs": [
    {
     "name": "stdout",
     "output_type": "stream",
     "text": [
      "64\n"
     ]
    },
    {
     "name": "stderr",
     "output_type": "stream",
     "text": [
      "/home/rt2122/anaconda3/lib/python3.8/site-packages/pandas/core/indexing.py:671: SettingWithCopyWarning: \n",
      "A value is trying to be set on a copy of a slice from a DataFrame\n",
      "\n",
      "See the caveats in the documentation: https://pandas.pydata.org/pandas-docs/stable/user_guide/indexing.html#returning-a-view-versus-a-copy\n",
      "  self._setitem_with_indexer(indexer, value)\n"
     ]
    },
    {
     "name": "stdout",
     "output_type": "stream",
     "text": [
      "   tp  fp  tn  fn      catalog\n",
      "0   9  14  58   9  planck_no_z\n",
      "1  31  14  58   9     planck_z\n",
      "2   2  14  58  48       mcxcwp\n",
      "32\n"
     ]
    },
    {
     "name": "stderr",
     "output_type": "stream",
     "text": [
      "/home/rt2122/anaconda3/lib/python3.8/site-packages/pandas/core/indexing.py:671: SettingWithCopyWarning: \n",
      "A value is trying to be set on a copy of a slice from a DataFrame\n",
      "\n",
      "See the caveats in the documentation: https://pandas.pydata.org/pandas-docs/stable/user_guide/indexing.html#returning-a-view-versus-a-copy\n",
      "  self._setitem_with_indexer(indexer, value)\n"
     ]
    },
    {
     "name": "stdout",
     "output_type": "stream",
     "text": [
      "   tp  fp   tn  fn      catalog\n",
      "0  11  24  226   7  planck_no_z\n",
      "1  35  24  226   5     planck_z\n",
      "2   4  24  226  46       mcxcwp\n",
      "16\n"
     ]
    },
    {
     "name": "stderr",
     "output_type": "stream",
     "text": [
      "/home/rt2122/anaconda3/lib/python3.8/site-packages/pandas/core/indexing.py:671: SettingWithCopyWarning: \n",
      "A value is trying to be set on a copy of a slice from a DataFrame\n",
      "\n",
      "See the caveats in the documentation: https://pandas.pydata.org/pandas-docs/stable/user_guide/indexing.html#returning-a-view-versus-a-copy\n",
      "  self._setitem_with_indexer(indexer, value)\n"
     ]
    },
    {
     "name": "stdout",
     "output_type": "stream",
     "text": [
      "   tp  fp   tn  fn      catalog\n",
      "0  14  58  893   4  planck_no_z\n",
      "1  36  58  893   4     planck_z\n",
      "2   6  58  893  44       mcxcwp\n"
     ]
    }
   ],
   "source": [
    "for s in step:\n",
    "    all_dict = gen_pics_for_detection(6, model, step=s)\n",
    "    print(s)\n",
    "    print(detect_clusters(all_dict, 0.4, ret_coords=False, fp_dist=30/60, \n",
    "                          match_before_merge=True))"
   ]
  },
  {
   "cell_type": "code",
   "execution_count": 12,
   "metadata": {
    "ExecuteTime": {
     "end_time": "2020-10-10T18:20:05.564478Z",
     "start_time": "2020-10-10T18:18:29.170960Z"
    }
   },
   "outputs": [
    {
     "name": "stdout",
     "output_type": "stream",
     "text": [
      "64\n"
     ]
    },
    {
     "name": "stderr",
     "output_type": "stream",
     "text": [
      "/home/rt2122/anaconda3/lib/python3.8/site-packages/pandas/core/indexing.py:671: SettingWithCopyWarning: \n",
      "A value is trying to be set on a copy of a slice from a DataFrame\n",
      "\n",
      "See the caveats in the documentation: https://pandas.pydata.org/pandas-docs/stable/user_guide/indexing.html#returning-a-view-versus-a-copy\n",
      "  self._setitem_with_indexer(indexer, value)\n"
     ]
    },
    {
     "name": "stdout",
     "output_type": "stream",
     "text": [
      "   tp  fp  tn  fn      catalog\n",
      "0  12  37  42   6  planck_no_z\n",
      "1  35  37  42   5     planck_z\n",
      "2   2  37  42  48       mcxcwp\n",
      "32\n"
     ]
    },
    {
     "name": "stderr",
     "output_type": "stream",
     "text": [
      "/home/rt2122/anaconda3/lib/python3.8/site-packages/pandas/core/indexing.py:671: SettingWithCopyWarning: \n",
      "A value is trying to be set on a copy of a slice from a DataFrame\n",
      "\n",
      "See the caveats in the documentation: https://pandas.pydata.org/pandas-docs/stable/user_guide/indexing.html#returning-a-view-versus-a-copy\n",
      "  self._setitem_with_indexer(indexer, value)\n"
     ]
    },
    {
     "name": "stdout",
     "output_type": "stream",
     "text": [
      "   tp  fp   tn  fn      catalog\n",
      "0  14  94  147   4  planck_no_z\n",
      "1  37  94  147   3     planck_z\n",
      "2   6  94  147  44       mcxcwp\n",
      "16\n"
     ]
    },
    {
     "name": "stderr",
     "output_type": "stream",
     "text": [
      "/home/rt2122/anaconda3/lib/python3.8/site-packages/pandas/core/indexing.py:671: SettingWithCopyWarning: \n",
      "A value is trying to be set on a copy of a slice from a DataFrame\n",
      "\n",
      "See the caveats in the documentation: https://pandas.pydata.org/pandas-docs/stable/user_guide/indexing.html#returning-a-view-versus-a-copy\n",
      "  self._setitem_with_indexer(indexer, value)\n"
     ]
    },
    {
     "name": "stdout",
     "output_type": "stream",
     "text": [
      "   tp   fp   tn  fn      catalog\n",
      "0  16  181  581   2  planck_no_z\n",
      "1  39  181  581   1     planck_z\n",
      "2   8  181  581  42       mcxcwp\n"
     ]
    }
   ],
   "source": [
    "for s in step:\n",
    "    all_dict = gen_pics_for_detection(6, model, step=s)\n",
    "    print(s)\n",
    "    print(detect_clusters(all_dict, 0.1, ret_coords=False, fp_dist=30/60, \n",
    "                          match_before_merge=True))"
   ]
  },
  {
   "cell_type": "code",
   "execution_count": 14,
   "metadata": {
    "ExecuteTime": {
     "end_time": "2020-10-10T18:25:29.512422Z",
     "start_time": "2020-10-10T18:24:24.824482Z"
    }
   },
   "outputs": [
    {
     "name": "stdout",
     "output_type": "stream",
     "text": [
      "64\n"
     ]
    },
    {
     "name": "stderr",
     "output_type": "stream",
     "text": [
      "/home/rt2122/anaconda3/lib/python3.8/site-packages/pandas/core/indexing.py:671: SettingWithCopyWarning: \n",
      "A value is trying to be set on a copy of a slice from a DataFrame\n",
      "\n",
      "See the caveats in the documentation: https://pandas.pydata.org/pandas-docs/stable/user_guide/indexing.html#returning-a-view-versus-a-copy\n",
      "  self._setitem_with_indexer(indexer, value)\n"
     ]
    },
    {
     "name": "stdout",
     "output_type": "stream",
     "text": [
      "   tp  fp  tn  fn      catalog\n",
      "0   9  14  58   9  planck_no_z\n",
      "1  29  14  58  11     planck_z\n",
      "2   2  14  58  48       mcxcwp\n",
      "32\n"
     ]
    },
    {
     "name": "stderr",
     "output_type": "stream",
     "text": [
      "/home/rt2122/anaconda3/lib/python3.8/site-packages/pandas/core/indexing.py:671: SettingWithCopyWarning: \n",
      "A value is trying to be set on a copy of a slice from a DataFrame\n",
      "\n",
      "See the caveats in the documentation: https://pandas.pydata.org/pandas-docs/stable/user_guide/indexing.html#returning-a-view-versus-a-copy\n",
      "  self._setitem_with_indexer(indexer, value)\n"
     ]
    },
    {
     "name": "stdout",
     "output_type": "stream",
     "text": [
      "   tp  fp   tn  fn      catalog\n",
      "0  11  24  226   7  planck_no_z\n",
      "1  31  24  226   9     planck_z\n",
      "2   3  24  226  47       mcxcwp\n",
      "16\n",
      "   tp  fp   tn  fn      catalog\n",
      "0  12  59  893   6  planck_no_z\n",
      "1  27  59  893  13     planck_z\n",
      "2   5  59  893  45       mcxcwp\n"
     ]
    },
    {
     "name": "stderr",
     "output_type": "stream",
     "text": [
      "/home/rt2122/anaconda3/lib/python3.8/site-packages/pandas/core/indexing.py:671: SettingWithCopyWarning: \n",
      "A value is trying to be set on a copy of a slice from a DataFrame\n",
      "\n",
      "See the caveats in the documentation: https://pandas.pydata.org/pandas-docs/stable/user_guide/indexing.html#returning-a-view-versus-a-copy\n",
      "  self._setitem_with_indexer(indexer, value)\n"
     ]
    }
   ],
   "source": [
    "for s in step:\n",
    "    all_dict = gen_pics_for_detection(6, model, step=s)\n",
    "    print(s)\n",
    "    print(detect_clusters(all_dict, 0.4, ret_coords=False, fp_dist=30/60, \n",
    "                          match_before_merge=False))"
   ]
  },
  {
   "cell_type": "code",
   "execution_count": 15,
   "metadata": {
    "ExecuteTime": {
     "end_time": "2020-10-10T18:26:46.035446Z",
     "start_time": "2020-10-10T18:25:29.514715Z"
    }
   },
   "outputs": [
    {
     "name": "stdout",
     "output_type": "stream",
     "text": [
      "64\n"
     ]
    },
    {
     "name": "stderr",
     "output_type": "stream",
     "text": [
      "/home/rt2122/anaconda3/lib/python3.8/site-packages/pandas/core/indexing.py:671: SettingWithCopyWarning: \n",
      "A value is trying to be set on a copy of a slice from a DataFrame\n",
      "\n",
      "See the caveats in the documentation: https://pandas.pydata.org/pandas-docs/stable/user_guide/indexing.html#returning-a-view-versus-a-copy\n",
      "  self._setitem_with_indexer(indexer, value)\n"
     ]
    },
    {
     "name": "stdout",
     "output_type": "stream",
     "text": [
      "   tp  fp  tn  fn      catalog\n",
      "0  12  37  42   6  planck_no_z\n",
      "1  33  37  42   7     planck_z\n",
      "2   2  37  42  48       mcxcwp\n",
      "32\n"
     ]
    },
    {
     "name": "stderr",
     "output_type": "stream",
     "text": [
      "/home/rt2122/anaconda3/lib/python3.8/site-packages/pandas/core/indexing.py:671: SettingWithCopyWarning: \n",
      "A value is trying to be set on a copy of a slice from a DataFrame\n",
      "\n",
      "See the caveats in the documentation: https://pandas.pydata.org/pandas-docs/stable/user_guide/indexing.html#returning-a-view-versus-a-copy\n",
      "  self._setitem_with_indexer(indexer, value)\n"
     ]
    },
    {
     "name": "stdout",
     "output_type": "stream",
     "text": [
      "   tp  fp   tn  fn      catalog\n",
      "0  13  94  147   5  planck_no_z\n",
      "1  31  94  147   9     planck_z\n",
      "2   3  94  147  47       mcxcwp\n",
      "16\n",
      "   tp   fp   tn  fn      catalog\n",
      "0  12  185  581   6  planck_no_z\n",
      "1  24  185  581  16     planck_z\n",
      "2   6  185  581  44       mcxcwp\n"
     ]
    },
    {
     "name": "stderr",
     "output_type": "stream",
     "text": [
      "/home/rt2122/anaconda3/lib/python3.8/site-packages/pandas/core/indexing.py:671: SettingWithCopyWarning: \n",
      "A value is trying to be set on a copy of a slice from a DataFrame\n",
      "\n",
      "See the caveats in the documentation: https://pandas.pydata.org/pandas-docs/stable/user_guide/indexing.html#returning-a-view-versus-a-copy\n",
      "  self._setitem_with_indexer(indexer, value)\n"
     ]
    }
   ],
   "source": [
    "for s in step:\n",
    "    all_dict = gen_pics_for_detection(6, model, step=s)\n",
    "    print(s)\n",
    "    print(detect_clusters(all_dict, 0.1, ret_coords=False, fp_dist=30/60, \n",
    "                          match_before_merge=False))"
   ]
  },
  {
   "cell_type": "code",
   "execution_count": 18,
   "metadata": {
    "ExecuteTime": {
     "end_time": "2020-10-10T18:37:47.269372Z",
     "start_time": "2020-10-10T18:37:47.245073Z"
    }
   },
   "outputs": [],
   "source": [
    "thr_list = [0.1 * i for i in range(9, 0, -1)]"
   ]
  },
  {
   "cell_type": "code",
   "execution_count": 19,
   "metadata": {
    "ExecuteTime": {
     "end_time": "2020-10-10T18:38:32.793693Z",
     "start_time": "2020-10-10T18:38:26.458083Z"
    }
   },
   "outputs": [],
   "source": [
    "all_dict = gen_pics_for_detection(6, model, step=64)"
   ]
  },
  {
   "cell_type": "code",
   "execution_count": 20,
   "metadata": {
    "ExecuteTime": {
     "end_time": "2020-10-10T18:39:27.513852Z",
     "start_time": "2020-10-10T18:39:18.405716Z"
    }
   },
   "outputs": [
    {
     "name": "stderr",
     "output_type": "stream",
     "text": [
      "/home/rt2122/anaconda3/lib/python3.8/site-packages/pandas/core/indexing.py:671: SettingWithCopyWarning: \n",
      "A value is trying to be set on a copy of a slice from a DataFrame\n",
      "\n",
      "See the caveats in the documentation: https://pandas.pydata.org/pandas-docs/stable/user_guide/indexing.html#returning-a-view-versus-a-copy\n",
      "  self._setitem_with_indexer(indexer, value)\n"
     ]
    }
   ],
   "source": [
    "df = []\n",
    "for thr in thr_list:\n",
    "     df.append(detect_clusters(\n",
    "         all_dict, thr, match_before_merge=False, ret_coords=False))"
   ]
  },
  {
   "cell_type": "code",
   "execution_count": 28,
   "metadata": {
    "ExecuteTime": {
     "end_time": "2020-10-10T18:42:55.100994Z",
     "start_time": "2020-10-10T18:42:55.045359Z"
    }
   },
   "outputs": [],
   "source": [
    "planck_z = pd.concat([d[d['catalog']=='planck_z'] for d in df])\n",
    "planck_z.index = thr_list\n",
    "planck_no_z = pd.concat([d[d['catalog']=='planck_no_z'] for d in df])\n",
    "planck_no_z.index = thr_list\n",
    "mcxcwp= pd.concat([d[d['catalog']=='mcxcwp'] for d in df])\n",
    "mcxcwp.index = thr_list"
   ]
  },
  {
   "cell_type": "code",
   "execution_count": 35,
   "metadata": {
    "ExecuteTime": {
     "end_time": "2020-10-10T18:45:42.801995Z",
     "start_time": "2020-10-10T18:45:42.662960Z"
    }
   },
   "outputs": [
    {
     "data": {
      "text/plain": [
       "[<matplotlib.lines.Line2D at 0x7fc4c5471af0>]"
      ]
     },
     "execution_count": 35,
     "metadata": {},
     "output_type": "execute_result"
    },
    {
     "data": {
      "image/png": "[encoded data removed]",
      "text/plain": [
       "<Figure size 432x288 with 1 Axes>"
      ]
     },
     "metadata": {
      "needs_background": "light"
     },
     "output_type": "display_data"
    }
   ],
   "source": [
    "plt.plot(planck_z.index, planck_z['tp'] / (planck_z['tp'] + planck_z['fp']))\n",
    "plt.plot(planck_z.index, planck_no_z['tp'] / (planck_no_z['tp'] + planck_no_z['fp']))\n",
    "plt.plot(planck_z.index, mcxcwp['tp'] / (mcxcwp['tp'] + mcxcwp['fp']))"
   ]
  },
  {
   "cell_type": "code",
   "execution_count": 36,
   "metadata": {
    "ExecuteTime": {
     "end_time": "2020-10-10T18:45:43.777877Z",
     "start_time": "2020-10-10T18:45:43.721145Z"
    }
   },
   "outputs": [
    {
     "data": {
      "text/html": [
       "<div>\n",
       "<style scoped>\n",
       "    .dataframe tbody tr th:only-of-type {\n",
       "        vertical-align: middle;\n",
       "    }\n",
       "\n",
       "    .dataframe tbody tr th {\n",
       "        vertical-align: top;\n",
       "    }\n",
       "\n",
       "    .dataframe thead th {\n",
       "        text-align: right;\n",
       "    }\n",
       "</style>\n",
       "<table border=\"1\" class=\"dataframe\">\n",
       "  <thead>\n",
       "    <tr style=\"text-align: right;\">\n",
       "      <th></th>\n",
       "      <th>tp</th>\n",
       "      <th>fp</th>\n",
       "      <th>tn</th>\n",
       "      <th>fn</th>\n",
       "      <th>catalog</th>\n",
       "    </tr>\n",
       "  </thead>\n",
       "  <tbody>\n",
       "    <tr>\n",
       "      <th>0.9</th>\n",
       "      <td>19</td>\n",
       "      <td>1</td>\n",
       "      <td>87</td>\n",
       "      <td>21</td>\n",
       "      <td>planck_z</td>\n",
       "    </tr>\n",
       "    <tr>\n",
       "      <th>0.8</th>\n",
       "      <td>25</td>\n",
       "      <td>4</td>\n",
       "      <td>76</td>\n",
       "      <td>15</td>\n",
       "      <td>planck_z</td>\n",
       "    </tr>\n",
       "    <tr>\n",
       "      <th>0.7</th>\n",
       "      <td>28</td>\n",
       "      <td>6</td>\n",
       "      <td>69</td>\n",
       "      <td>12</td>\n",
       "      <td>planck_z</td>\n",
       "    </tr>\n",
       "    <tr>\n",
       "      <th>0.6</th>\n",
       "      <td>29</td>\n",
       "      <td>8</td>\n",
       "      <td>66</td>\n",
       "      <td>11</td>\n",
       "      <td>planck_z</td>\n",
       "    </tr>\n",
       "    <tr>\n",
       "      <th>0.5</th>\n",
       "      <td>28</td>\n",
       "      <td>11</td>\n",
       "      <td>64</td>\n",
       "      <td>12</td>\n",
       "      <td>planck_z</td>\n",
       "    </tr>\n",
       "    <tr>\n",
       "      <th>0.4</th>\n",
       "      <td>29</td>\n",
       "      <td>14</td>\n",
       "      <td>58</td>\n",
       "      <td>11</td>\n",
       "      <td>planck_z</td>\n",
       "    </tr>\n",
       "    <tr>\n",
       "      <th>0.3</th>\n",
       "      <td>31</td>\n",
       "      <td>17</td>\n",
       "      <td>53</td>\n",
       "      <td>9</td>\n",
       "      <td>planck_z</td>\n",
       "    </tr>\n",
       "    <tr>\n",
       "      <th>0.2</th>\n",
       "      <td>31</td>\n",
       "      <td>22</td>\n",
       "      <td>51</td>\n",
       "      <td>9</td>\n",
       "      <td>planck_z</td>\n",
       "    </tr>\n",
       "    <tr>\n",
       "      <th>0.1</th>\n",
       "      <td>33</td>\n",
       "      <td>37</td>\n",
       "      <td>42</td>\n",
       "      <td>7</td>\n",
       "      <td>planck_z</td>\n",
       "    </tr>\n",
       "  </tbody>\n",
       "</table>\n",
       "</div>"
      ],
      "text/plain": [
       "     tp  fp  tn  fn   catalog\n",
       "0.9  19   1  87  21  planck_z\n",
       "0.8  25   4  76  15  planck_z\n",
       "0.7  28   6  69  12  planck_z\n",
       "0.6  29   8  66  11  planck_z\n",
       "0.5  28  11  64  12  planck_z\n",
       "0.4  29  14  58  11  planck_z\n",
       "0.3  31  17  53   9  planck_z\n",
       "0.2  31  22  51   9  planck_z\n",
       "0.1  33  37  42   7  planck_z"
      ]
     },
     "execution_count": 36,
     "metadata": {},
     "output_type": "execute_result"
    }
   ],
   "source": [
    "planck_z"
   ]
  },
  {
   "cell_type": "code",
   "execution_count": null,
   "metadata": {},
   "outputs": [],
   "source": []
  }
 ],
 "metadata": {
  "kernelspec": {
   "display_name": "Python 3",
   "language": "python",
   "name": "python3"
  },
  "language_info": {
   "codemirror_mode": {
    "name": "ipython",
    "version": 3
   },
   "file_extension": ".py",
   "mimetype": "text/x-python",
   "name": "python",
   "nbconvert_exporter": "python",
   "pygments_lexer": "ipython3",
   "version": "3.8.3"
  }
 },
 "nbformat": 4,
 "nbformat_minor": 4
}
