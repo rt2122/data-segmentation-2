{
 "cells": [
  {
   "cell_type": "code",
   "execution_count": 5,
   "metadata": {
    "ExecuteTime": {
     "end_time": "2020-08-19T15:11:51.318564Z",
     "start_time": "2020-08-19T15:11:51.312119Z"
    }
   },
   "outputs": [],
   "source": [
    "import numpy as np\n",
    "import pandas as pd\n",
    "from matplotlib import pyplot as plt\n",
    "from DS_data_transformation import fits2df\n",
    "import scipy as sp\n",
    "from scipy import stats\n",
    "import os"
   ]
  },
  {
   "cell_type": "code",
   "execution_count": 33,
   "metadata": {
    "ExecuteTime": {
     "end_time": "2020-08-19T13:32:44.307239Z",
     "start_time": "2020-08-19T13:32:43.963776Z"
    }
   },
   "outputs": [],
   "source": [
    "i_100 = fits2df('/home/rt2122/Data/Planck/HFI_SkyMap_100_2048_R3.01_full.fits', \n",
    "            filtered=False, one_col='I_STOKES')"
   ]
  },
  {
   "cell_type": "code",
   "execution_count": 13,
   "metadata": {
    "ExecuteTime": {
     "end_time": "2020-08-19T15:15:23.378038Z",
     "start_time": "2020-08-19T15:15:23.369427Z"
    }
   },
   "outputs": [],
   "source": [
    "def hist_data(data, n_bins, xlim=[None, None], ylim=[None, None], norm=None, alpha=0.7):\n",
    "    fig, axs = plt.subplots(1, 1)\n",
    "    #axs.set_xlim(xlim)\n",
    "    #axs.set_ylim(ylim)\n",
    "    if not (norm is None):\n",
    "        n = np.arange(xlim[0], xlim[1], (xlim[1] - xlim[0]) / (5 * n_bins))\n",
    "        plt.plot(n, sp.stats.norm.pdf(n, norm[0], norm[1]) * norm[2])\n",
    "    for d in data:\n",
    "        axs.hist(d, alpha=alpha, bins=n_bins)"
   ]
  },
  {
   "cell_type": "code",
   "execution_count": 4,
   "metadata": {
    "ExecuteTime": {
     "end_time": "2020-08-19T15:11:32.699356Z",
     "start_time": "2020-08-19T15:11:32.696284Z"
    }
   },
   "outputs": [],
   "source": [
    "def cut_data(data, cmin, cmax):\n",
    "    arr = np.copy(data)\n",
    "    if not (cmax is None):\n",
    "        arr = arr[arr <= cmax]\n",
    "    if not (cmin is None):\n",
    "        arr = arr[arr >= cmin]\n",
    "    return arr"
   ]
  },
  {
   "cell_type": "code",
   "execution_count": 35,
   "metadata": {
    "ExecuteTime": {
     "end_time": "2020-08-19T13:33:10.382561Z",
     "start_time": "2020-08-19T13:33:09.184050Z"
    }
   },
   "outputs": [
    {
     "data": {
      "image/png": "[encoded data removed]",
      "text/plain": [
       "<Figure size 432x288 with 1 Axes>"
      ]
     },
     "metadata": {
      "needs_background": "light"
     },
     "output_type": "display_data"
    }
   ],
   "source": [
    "cmin = -0.002\n",
    "cmax = 0.002\n",
    "i_cur = i_100[i_100 <= cmax]\n",
    "i_cur = i_cur[i_cur >= cmin]\n",
    "hist_data(i_cur, 100)"
   ]
  },
  {
   "cell_type": "code",
   "execution_count": 36,
   "metadata": {
    "ExecuteTime": {
     "end_time": "2020-08-19T13:35:05.005488Z",
     "start_time": "2020-08-19T13:34:58.854975Z"
    }
   },
   "outputs": [
    {
     "data": {
      "text/plain": [
       "0.00012523575"
      ]
     },
     "execution_count": 36,
     "metadata": {},
     "output_type": "execute_result"
    }
   ],
   "source": [
    "par = sp.stats.mode(i_100).mode[0]\n",
    "par"
   ]
  },
  {
   "cell_type": "code",
   "execution_count": 53,
   "metadata": {
    "ExecuteTime": {
     "end_time": "2020-08-19T13:38:31.294407Z",
     "start_time": "2020-08-19T13:38:31.284150Z"
    }
   },
   "outputs": [],
   "source": [
    "p = par - 0.00008"
   ]
  },
  {
   "cell_type": "code",
   "execution_count": 54,
   "metadata": {
    "ExecuteTime": {
     "end_time": "2020-08-19T13:38:32.912772Z",
     "start_time": "2020-08-19T13:38:31.722029Z"
    }
   },
   "outputs": [
    {
     "data": {
      "image/png": "[encoded data removed]",
      "text/plain": [
       "<Figure size 432x288 with 1 Axes>"
      ]
     },
     "metadata": {
      "needs_background": "light"
     },
     "output_type": "display_data"
    }
   ],
   "source": [
    "i_100_norm = i_100[i_100 <= p]\n",
    "cmin = -0.002\n",
    "cmax = 0.002\n",
    "i_100_norm = i_100_norm[i_100_norm <= cmax]\n",
    "i_100_norm = i_100_norm[i_100_norm >= cmin]\n",
    "i_100_norm = np.concatenate([i_100_norm, 2 * p - i_100_norm])\n",
    "hist_data(i_100_norm, 200)"
   ]
  },
  {
   "cell_type": "code",
   "execution_count": 57,
   "metadata": {
    "ExecuteTime": {
     "end_time": "2020-08-19T13:43:16.408656Z",
     "start_time": "2020-08-19T13:43:16.287852Z"
    }
   },
   "outputs": [],
   "source": [
    "mean_norm = np.mean(i_100_norm)\n",
    "std_norm = np.std(i_100_norm)"
   ]
  },
  {
   "cell_type": "code",
   "execution_count": 66,
   "metadata": {
    "ExecuteTime": {
     "end_time": "2020-08-19T13:46:06.556633Z",
     "start_time": "2020-08-19T13:46:05.373538Z"
    }
   },
   "outputs": [
    {
     "data": {
      "image/png": "[encoded data removed]",
      "text/plain": [
       "<Figure size 432x288 with 1 Axes>"
      ]
     },
     "metadata": {
      "needs_background": "light"
     },
     "output_type": "display_data"
    }
   ],
   "source": [
    "cmin = -0.002\n",
    "cmax = 0.002\n",
    "i_cur = i_100[i_100 <= cmax]\n",
    "i_cur = i_cur[i_cur >= cmin]\n",
    "hist_data(i_cur, 100, [-0.0005, 0.003], norm=(mean_norm, std_norm, 1200))"
   ]
  },
  {
   "cell_type": "code",
   "execution_count": 67,
   "metadata": {
    "ExecuteTime": {
     "end_time": "2020-08-19T13:46:39.344480Z",
     "start_time": "2020-08-19T13:46:39.240624Z"
    }
   },
   "outputs": [],
   "source": [
    "i_100_norm = (i_100 - mean_norm) / std_norm"
   ]
  },
  {
   "cell_type": "code",
   "execution_count": 78,
   "metadata": {
    "ExecuteTime": {
     "end_time": "2020-08-19T13:51:01.336458Z",
     "start_time": "2020-08-19T13:51:00.252806Z"
    }
   },
   "outputs": [
    {
     "data": {
      "image/png": "[encoded data removed]",
      "text/plain": [
       "<Figure size 432x288 with 1 Axes>"
      ]
     },
     "metadata": {
      "needs_background": "light"
     },
     "output_type": "display_data"
    }
   ],
   "source": [
    "hist_data(cut_data(i_100_norm, -5, 20), 100)"
   ]
  },
  {
   "cell_type": "code",
   "execution_count": 79,
   "metadata": {
    "ExecuteTime": {
     "end_time": "2020-08-19T13:51:20.204044Z",
     "start_time": "2020-08-19T13:51:20.080800Z"
    }
   },
   "outputs": [],
   "source": [
    "np.save('/home/rt2122/Data/Planck/normalized/100', i_100_norm)"
   ]
  },
  {
   "cell_type": "code",
   "execution_count": 80,
   "metadata": {
    "ExecuteTime": {
     "end_time": "2020-08-19T13:52:06.777058Z",
     "start_time": "2020-08-19T13:52:06.771675Z"
    }
   },
   "outputs": [],
   "source": [
    "del(i_100)"
   ]
  },
  {
   "cell_type": "code",
   "execution_count": 81,
   "metadata": {
    "ExecuteTime": {
     "end_time": "2020-08-19T13:52:58.759704Z",
     "start_time": "2020-08-19T13:52:34.391476Z"
    }
   },
   "outputs": [],
   "source": [
    "i = fits2df('/home/rt2122/Data/Planck/HFI_SkyMap_143_2048_R3.01_full.fits', \n",
    "            filtered=False, one_col='I_STOKES')"
   ]
  },
  {
   "cell_type": "code",
   "execution_count": 85,
   "metadata": {
    "ExecuteTime": {
     "end_time": "2020-08-19T13:53:35.205747Z",
     "start_time": "2020-08-19T13:53:34.097848Z"
    }
   },
   "outputs": [
    {
     "data": {
      "image/png": "[encoded data removed]",
      "text/plain": [
       "<Figure size 432x288 with 1 Axes>"
      ]
     },
     "metadata": {
      "needs_background": "light"
     },
     "output_type": "display_data"
    }
   ],
   "source": [
    "hist_data(cut_data(i, None, 0.002), 100)"
   ]
  },
  {
   "cell_type": "code",
   "execution_count": 88,
   "metadata": {
    "ExecuteTime": {
     "end_time": "2020-08-19T13:57:48.567594Z",
     "start_time": "2020-08-19T13:57:42.487794Z"
    }
   },
   "outputs": [],
   "source": [
    "par = sp.stats.mode(i).mode[0]"
   ]
  },
  {
   "cell_type": "code",
   "execution_count": 93,
   "metadata": {
    "ExecuteTime": {
     "end_time": "2020-08-19T13:59:01.072292Z",
     "start_time": "2020-08-19T13:59:00.152990Z"
    }
   },
   "outputs": [
    {
     "data": {
      "image/png": "[encoded data removed]",
      "text/plain": [
       "<Figure size 432x288 with 1 Axes>"
      ]
     },
     "metadata": {
      "needs_background": "light"
     },
     "output_type": "display_data"
    }
   ],
   "source": [
    "p = par - 0.00006\n",
    "i_norm = cut_data(i, None, p)\n",
    "i_norm = np.concatenate([i_norm, 2 * p - i_norm])\n",
    "hist_data(i_norm, 100)"
   ]
  },
  {
   "cell_type": "code",
   "execution_count": 94,
   "metadata": {
    "ExecuteTime": {
     "end_time": "2020-08-19T13:59:29.540750Z",
     "start_time": "2020-08-19T13:59:29.429458Z"
    }
   },
   "outputs": [],
   "source": [
    "mean_norm = np.mean(i_norm)\n",
    "std_norm = np.std(i_norm)"
   ]
  },
  {
   "cell_type": "code",
   "execution_count": 102,
   "metadata": {
    "ExecuteTime": {
     "end_time": "2020-08-19T14:03:12.438915Z",
     "start_time": "2020-08-19T14:03:11.318904Z"
    }
   },
   "outputs": [
    {
     "data": {
      "image/png": "[encoded data removed]",
      "text/plain": [
       "<Figure size 432x288 with 1 Axes>"
      ]
     },
     "metadata": {
      "needs_background": "light"
     },
     "output_type": "display_data"
    }
   ],
   "source": [
    "hist_data(cut_data(i, None, 0.002), 100, [-0.0005, 0.002], None, \n",
    "          (mean_norm, std_norm, 1100))"
   ]
  },
  {
   "cell_type": "code",
   "execution_count": 103,
   "metadata": {
    "ExecuteTime": {
     "end_time": "2020-08-19T14:03:50.682934Z",
     "start_time": "2020-08-19T14:03:50.570602Z"
    }
   },
   "outputs": [],
   "source": [
    "i_norm = (i - mean_norm) / std_norm"
   ]
  },
  {
   "cell_type": "code",
   "execution_count": 106,
   "metadata": {
    "ExecuteTime": {
     "end_time": "2020-08-19T14:04:35.443865Z",
     "start_time": "2020-08-19T14:04:34.599259Z"
    }
   },
   "outputs": [
    {
     "data": {
      "image/png": "[encoded data removed]",
      "text/plain": [
       "<Figure size 432x288 with 1 Axes>"
      ]
     },
     "metadata": {
      "needs_background": "light"
     },
     "output_type": "display_data"
    }
   ],
   "source": [
    "hist_data(cut_data(i_norm, None, 20), 100)"
   ]
  },
  {
   "cell_type": "code",
   "execution_count": 107,
   "metadata": {
    "ExecuteTime": {
     "end_time": "2020-08-19T14:05:39.506688Z",
     "start_time": "2020-08-19T14:05:39.380060Z"
    }
   },
   "outputs": [],
   "source": [
    "np.save('/home/rt2122/Data/Planck/normalized/143', i_norm)"
   ]
  },
  {
   "cell_type": "code",
   "execution_count": 4,
   "metadata": {
    "ExecuteTime": {
     "end_time": "2020-08-19T14:45:08.979758Z",
     "start_time": "2020-08-19T14:44:41.137888Z"
    }
   },
   "outputs": [],
   "source": [
    "i = fits2df('/home/rt2122/Data/Planck/HFI_SkyMap_217_2048_R3.01_full.fits', \n",
    "            filtered=False, one_col='I_STOKES')"
   ]
  },
  {
   "cell_type": "code",
   "execution_count": 7,
   "metadata": {
    "ExecuteTime": {
     "end_time": "2020-08-19T14:45:42.836784Z",
     "start_time": "2020-08-19T14:45:41.736050Z"
    }
   },
   "outputs": [
    {
     "data": {
      "image/png": "[encoded data removed]",
      "text/plain": [
       "<Figure size 432x288 with 1 Axes>"
      ]
     },
     "metadata": {
      "needs_background": "light"
     },
     "output_type": "display_data"
    }
   ],
   "source": [
    "hist_data(cut_data(i, None, 0.002), 100)"
   ]
  },
  {
   "cell_type": "code",
   "execution_count": 10,
   "metadata": {
    "ExecuteTime": {
     "end_time": "2020-08-19T14:47:11.360249Z",
     "start_time": "2020-08-19T14:47:05.395819Z"
    }
   },
   "outputs": [],
   "source": [
    "par = stats.mode(i).mode[0]"
   ]
  },
  {
   "cell_type": "code",
   "execution_count": 17,
   "metadata": {
    "ExecuteTime": {
     "end_time": "2020-08-19T14:48:31.657430Z",
     "start_time": "2020-08-19T14:48:30.862758Z"
    }
   },
   "outputs": [
    {
     "data": {
      "image/png": "[encoded data removed]",
      "text/plain": [
       "<Figure size 432x288 with 1 Axes>"
      ]
     },
     "metadata": {
      "needs_background": "light"
     },
     "output_type": "display_data"
    }
   ],
   "source": [
    "p = par - 0.00002\n",
    "i_norm = cut_data(i, None, p)\n",
    "i_norm = np.concatenate([i_norm, 2 * p - i_norm])\n",
    "hist_data(i_norm, 100)"
   ]
  },
  {
   "cell_type": "code",
   "execution_count": 18,
   "metadata": {
    "ExecuteTime": {
     "end_time": "2020-08-19T14:49:11.176878Z",
     "start_time": "2020-08-19T14:49:11.095623Z"
    }
   },
   "outputs": [],
   "source": [
    "mean_norm = np.mean(i_norm)\n",
    "std_norm = np.std(i_norm)"
   ]
  },
  {
   "cell_type": "code",
   "execution_count": 22,
   "metadata": {
    "ExecuteTime": {
     "end_time": "2020-08-19T14:49:57.955710Z",
     "start_time": "2020-08-19T14:49:56.882411Z"
    }
   },
   "outputs": [
    {
     "data": {
      "image/png": "[encoded data removed]",
      "text/plain": [
       "<Figure size 432x288 with 1 Axes>"
      ]
     },
     "metadata": {
      "needs_background": "light"
     },
     "output_type": "display_data"
    }
   ],
   "source": [
    "hist_data(cut_data(i, None, 0.002), 100, [-0.0005, 0.002], None, \n",
    "          (mean_norm, std_norm, 830))"
   ]
  },
  {
   "cell_type": "code",
   "execution_count": 23,
   "metadata": {
    "ExecuteTime": {
     "end_time": "2020-08-19T14:50:23.112814Z",
     "start_time": "2020-08-19T14:50:23.009708Z"
    }
   },
   "outputs": [],
   "source": [
    "i_norm = (i - mean_norm) / std_norm"
   ]
  },
  {
   "cell_type": "code",
   "execution_count": 24,
   "metadata": {
    "ExecuteTime": {
     "end_time": "2020-08-19T14:50:43.731051Z",
     "start_time": "2020-08-19T14:50:42.846093Z"
    }
   },
   "outputs": [
    {
     "data": {
      "image/png": "[encoded data removed]",
      "text/plain": [
       "<Figure size 432x288 with 1 Axes>"
      ]
     },
     "metadata": {
      "needs_background": "light"
     },
     "output_type": "display_data"
    }
   ],
   "source": [
    "hist_data(cut_data(i_norm, None, 20), 100)"
   ]
  },
  {
   "cell_type": "code",
   "execution_count": 25,
   "metadata": {
    "ExecuteTime": {
     "end_time": "2020-08-19T14:52:30.430392Z",
     "start_time": "2020-08-19T14:52:29.874604Z"
    }
   },
   "outputs": [],
   "source": [
    "np.save('/home/rt2122/Data/Planck/normalized/217', i_norm)"
   ]
  },
  {
   "cell_type": "code",
   "execution_count": 26,
   "metadata": {
    "ExecuteTime": {
     "end_time": "2020-08-19T14:53:23.163167Z",
     "start_time": "2020-08-19T14:52:54.921509Z"
    }
   },
   "outputs": [],
   "source": [
    "i = fits2df('/home/rt2122/Data/Planck/HFI_SkyMap_353_2048_R3.01_full.fits', \n",
    "            filtered=False, one_col='I_STOKES')"
   ]
  },
  {
   "cell_type": "code",
   "execution_count": 31,
   "metadata": {
    "ExecuteTime": {
     "end_time": "2020-08-19T14:55:58.186783Z",
     "start_time": "2020-08-19T14:55:57.107579Z"
    }
   },
   "outputs": [
    {
     "data": {
      "image/png": "[encoded data removed]",
      "text/plain": [
       "<Figure size 432x288 with 1 Axes>"
      ]
     },
     "metadata": {
      "needs_background": "light"
     },
     "output_type": "display_data"
    }
   ],
   "source": [
    "hist_data(cut_data(i, None, 0.005), 100)"
   ]
  },
  {
   "cell_type": "code",
   "execution_count": 32,
   "metadata": {
    "ExecuteTime": {
     "end_time": "2020-08-19T14:56:14.539808Z",
     "start_time": "2020-08-19T14:56:08.489396Z"
    }
   },
   "outputs": [],
   "source": [
    "par = stats.mode(i).mode[0]"
   ]
  },
  {
   "cell_type": "code",
   "execution_count": 37,
   "metadata": {
    "ExecuteTime": {
     "end_time": "2020-08-19T14:56:53.568817Z",
     "start_time": "2020-08-19T14:56:52.975631Z"
    }
   },
   "outputs": [
    {
     "data": {
      "image/png": "[encoded data removed]",
      "text/plain": [
       "<Figure size 432x288 with 1 Axes>"
      ]
     },
     "metadata": {
      "needs_background": "light"
     },
     "output_type": "display_data"
    }
   ],
   "source": [
    "p = par - 0.0003\n",
    "i_norm = cut_data(i, None, p)\n",
    "i_norm = np.concatenate([i_norm, 2 * p - i_norm])\n",
    "hist_data(i_norm, 100)"
   ]
  },
  {
   "cell_type": "code",
   "execution_count": 38,
   "metadata": {
    "ExecuteTime": {
     "end_time": "2020-08-19T14:57:13.563345Z",
     "start_time": "2020-08-19T14:57:13.510263Z"
    }
   },
   "outputs": [],
   "source": [
    "mean_norm = np.mean(i_norm)\n",
    "std_norm = np.std(i_norm)"
   ]
  },
  {
   "cell_type": "code",
   "execution_count": 45,
   "metadata": {
    "ExecuteTime": {
     "end_time": "2020-08-19T14:58:01.547365Z",
     "start_time": "2020-08-19T14:58:00.570275Z"
    }
   },
   "outputs": [
    {
     "data": {
      "image/png": "[encoded data removed]",
      "text/plain": [
       "<Figure size 432x288 with 1 Axes>"
      ]
     },
     "metadata": {
      "needs_background": "light"
     },
     "output_type": "display_data"
    }
   ],
   "source": [
    "hist_data(cut_data(i, None, 0.005), 100, [-0.0005, 0.002], None, \n",
    "          (mean_norm, std_norm, 900))"
   ]
  },
  {
   "cell_type": "code",
   "execution_count": 46,
   "metadata": {
    "ExecuteTime": {
     "end_time": "2020-08-19T14:58:29.277465Z",
     "start_time": "2020-08-19T14:58:29.176393Z"
    }
   },
   "outputs": [],
   "source": [
    "i_norm = (i - mean_norm) / std_norm"
   ]
  },
  {
   "cell_type": "code",
   "execution_count": 47,
   "metadata": {
    "ExecuteTime": {
     "end_time": "2020-08-19T14:58:42.801838Z",
     "start_time": "2020-08-19T14:58:42.062782Z"
    }
   },
   "outputs": [
    {
     "data": {
      "image/png": "[encoded data removed]",
      "text/plain": [
       "<Figure size 432x288 with 1 Axes>"
      ]
     },
     "metadata": {
      "needs_background": "light"
     },
     "output_type": "display_data"
    }
   ],
   "source": [
    "hist_data(cut_data(i_norm, None, 20), 100)"
   ]
  },
  {
   "cell_type": "code",
   "execution_count": 48,
   "metadata": {
    "ExecuteTime": {
     "end_time": "2020-08-19T14:59:19.741169Z",
     "start_time": "2020-08-19T14:59:19.610057Z"
    }
   },
   "outputs": [],
   "source": [
    "np.save('/home/rt2122/Data/Planck/normalized/353', i_norm)"
   ]
  },
  {
   "cell_type": "code",
   "execution_count": 49,
   "metadata": {
    "ExecuteTime": {
     "end_time": "2020-08-19T15:00:26.444625Z",
     "start_time": "2020-08-19T15:00:18.905232Z"
    }
   },
   "outputs": [],
   "source": [
    "i = fits2df('/home/rt2122/Data/Planck/HFI_SkyMap_545_2048_R3.01_full.fits', \n",
    "            filtered=False, one_col='I_STOKES')"
   ]
  },
  {
   "cell_type": "code",
   "execution_count": 57,
   "metadata": {
    "ExecuteTime": {
     "end_time": "2020-08-19T15:01:24.361378Z",
     "start_time": "2020-08-19T15:01:23.340975Z"
    }
   },
   "outputs": [
    {
     "data": {
      "image/png": "[encoded data removed]",
      "text/plain": [
       "<Figure size 432x288 with 1 Axes>"
      ]
     },
     "metadata": {
      "needs_background": "light"
     },
     "output_type": "display_data"
    }
   ],
   "source": [
    "hist_data(cut_data(i, None, 3), 100)"
   ]
  },
  {
   "cell_type": "code",
   "execution_count": 58,
   "metadata": {
    "ExecuteTime": {
     "end_time": "2020-08-19T15:01:53.187508Z",
     "start_time": "2020-08-19T15:01:47.305922Z"
    }
   },
   "outputs": [],
   "source": [
    "par = stats.mode(i).mode[0]"
   ]
  },
  {
   "cell_type": "code",
   "execution_count": 62,
   "metadata": {
    "ExecuteTime": {
     "end_time": "2020-08-19T15:02:24.370777Z",
     "start_time": "2020-08-19T15:02:23.909902Z"
    }
   },
   "outputs": [
    {
     "data": {
      "image/png": "[encoded data removed]",
      "text/plain": [
       "<Figure size 432x288 with 1 Axes>"
      ]
     },
     "metadata": {
      "needs_background": "light"
     },
     "output_type": "display_data"
    }
   ],
   "source": [
    "p = par - 0.003\n",
    "i_norm = cut_data(i, None, p)\n",
    "i_norm = np.concatenate([i_norm, 2 * p - i_norm])\n",
    "hist_data(i_norm, 100)"
   ]
  },
  {
   "cell_type": "code",
   "execution_count": 63,
   "metadata": {
    "ExecuteTime": {
     "end_time": "2020-08-19T15:03:27.242664Z",
     "start_time": "2020-08-19T15:03:27.217889Z"
    }
   },
   "outputs": [],
   "source": [
    "mean_norm = np.mean(i_norm)\n",
    "std_norm = np.std(i_norm)"
   ]
  },
  {
   "cell_type": "code",
   "execution_count": 68,
   "metadata": {
    "ExecuteTime": {
     "end_time": "2020-08-19T15:04:29.324304Z",
     "start_time": "2020-08-19T15:04:28.388798Z"
    }
   },
   "outputs": [
    {
     "data": {
      "image/png": "[encoded data removed]",
      "text/plain": [
       "<Figure size 432x288 with 1 Axes>"
      ]
     },
     "metadata": {
      "needs_background": "light"
     },
     "output_type": "display_data"
    }
   ],
   "source": [
    "hist_data(cut_data(i, None, 3), 100, [-0.0005, 1], None, \n",
    "          (mean_norm, std_norm, 250000))"
   ]
  },
  {
   "cell_type": "code",
   "execution_count": 70,
   "metadata": {
    "ExecuteTime": {
     "end_time": "2020-08-19T15:05:44.277827Z",
     "start_time": "2020-08-19T15:05:43.515460Z"
    }
   },
   "outputs": [
    {
     "data": {
      "image/png": "[encoded data removed]",
      "text/plain": [
       "<Figure size 432x288 with 1 Axes>"
      ]
     },
     "metadata": {
      "needs_background": "light"
     },
     "output_type": "display_data"
    }
   ],
   "source": [
    "i_norm = (i - mean_norm) / std_norm\n",
    "hist_data(cut_data(i_norm, None, 20), 100)"
   ]
  },
  {
   "cell_type": "code",
   "execution_count": 71,
   "metadata": {
    "ExecuteTime": {
     "end_time": "2020-08-19T15:06:08.095448Z",
     "start_time": "2020-08-19T15:06:07.984952Z"
    }
   },
   "outputs": [],
   "source": [
    "np.save('/home/rt2122/Data/Planck/normalized/545', i_norm)"
   ]
  },
  {
   "cell_type": "code",
   "execution_count": 72,
   "metadata": {
    "ExecuteTime": {
     "end_time": "2020-08-19T15:06:40.257852Z",
     "start_time": "2020-08-19T15:06:32.819221Z"
    }
   },
   "outputs": [],
   "source": [
    "i = fits2df('/home/rt2122/Data/Planck/HFI_SkyMap_857_2048_R3.01_full.fits', \n",
    "            filtered=False, one_col='I_STOKES')"
   ]
  },
  {
   "cell_type": "code",
   "execution_count": 76,
   "metadata": {
    "ExecuteTime": {
     "end_time": "2020-08-19T15:06:58.685756Z",
     "start_time": "2020-08-19T15:06:57.974641Z"
    }
   },
   "outputs": [
    {
     "data": {
      "image/png": "[encoded data removed]",
      "text/plain": [
       "<Figure size 432x288 with 1 Axes>"
      ]
     },
     "metadata": {
      "needs_background": "light"
     },
     "output_type": "display_data"
    }
   ],
   "source": [
    "hist_data(cut_data(i, None, 3), 100)"
   ]
  },
  {
   "cell_type": "code",
   "execution_count": 77,
   "metadata": {
    "ExecuteTime": {
     "end_time": "2020-08-19T15:07:14.671482Z",
     "start_time": "2020-08-19T15:07:08.723339Z"
    }
   },
   "outputs": [],
   "source": [
    "par = stats.mode(i).mode[0]"
   ]
  },
  {
   "cell_type": "code",
   "execution_count": 84,
   "metadata": {
    "ExecuteTime": {
     "end_time": "2020-08-19T15:07:59.289633Z",
     "start_time": "2020-08-19T15:07:58.866118Z"
    }
   },
   "outputs": [
    {
     "data": {
      "image/png": "[encoded data removed]",
      "text/plain": [
       "<Figure size 432x288 with 1 Axes>"
      ]
     },
     "metadata": {
      "needs_background": "light"
     },
     "output_type": "display_data"
    }
   ],
   "source": [
    "p = par - 0.02\n",
    "i_norm = cut_data(i, None, p)\n",
    "i_norm = np.concatenate([i_norm, 2 * p - i_norm])\n",
    "hist_data(i_norm, 100)"
   ]
  },
  {
   "cell_type": "code",
   "execution_count": 85,
   "metadata": {
    "ExecuteTime": {
     "end_time": "2020-08-19T15:08:10.626007Z",
     "start_time": "2020-08-19T15:08:10.603230Z"
    }
   },
   "outputs": [],
   "source": [
    "mean_norm = np.mean(i_norm)\n",
    "std_norm = np.std(i_norm)"
   ]
  },
  {
   "cell_type": "code",
   "execution_count": 93,
   "metadata": {
    "ExecuteTime": {
     "end_time": "2020-08-19T15:09:14.448475Z",
     "start_time": "2020-08-19T15:09:13.561360Z"
    }
   },
   "outputs": [
    {
     "data": {
      "image/png": "[encoded data removed]",
      "text/plain": [
       "<Figure size 432x288 with 1 Axes>"
      ]
     },
     "metadata": {
      "needs_background": "light"
     },
     "output_type": "display_data"
    }
   ],
   "source": [
    "hist_data(cut_data(i, None, 3), 100, [-0.0005, 1.6], None, \n",
    "          (mean_norm, std_norm, 192000))"
   ]
  },
  {
   "cell_type": "code",
   "execution_count": 94,
   "metadata": {
    "ExecuteTime": {
     "end_time": "2020-08-19T15:09:33.990251Z",
     "start_time": "2020-08-19T15:09:33.280180Z"
    }
   },
   "outputs": [
    {
     "data": {
      "image/png": "[encoded data removed]",
      "text/plain": [
       "<Figure size 432x288 with 1 Axes>"
      ]
     },
     "metadata": {
      "needs_background": "light"
     },
     "output_type": "display_data"
    }
   ],
   "source": [
    "i_norm = (i - mean_norm) / std_norm\n",
    "hist_data(cut_data(i_norm, None, 20), 100)"
   ]
  },
  {
   "cell_type": "code",
   "execution_count": 95,
   "metadata": {
    "ExecuteTime": {
     "end_time": "2020-08-19T15:09:58.940573Z",
     "start_time": "2020-08-19T15:09:58.825855Z"
    }
   },
   "outputs": [],
   "source": [
    "np.save('/home/rt2122/Data/Planck/normalized/857', i_norm)"
   ]
  },
  {
   "cell_type": "code",
   "execution_count": 7,
   "metadata": {
    "ExecuteTime": {
     "end_time": "2020-08-19T15:12:53.963933Z",
     "start_time": "2020-08-19T15:12:53.957336Z"
    }
   },
   "outputs": [
    {
     "data": {
      "text/plain": [
       "['100.npy', '143.npy', '217.npy', '353.npy', '545.npy', '857.npy']"
      ]
     },
     "execution_count": 7,
     "metadata": {},
     "output_type": "execute_result"
    }
   ],
   "source": [
    "dirname = '/home/rt2122/Data/Planck/normalized/'\n",
    "files = sorted(next(os.walk(dirname))[-1])\n",
    "files"
   ]
  },
  {
   "cell_type": "code",
   "execution_count": 8,
   "metadata": {
    "ExecuteTime": {
     "end_time": "2020-08-19T15:13:43.795287Z",
     "start_time": "2020-08-19T15:13:38.333719Z"
    }
   },
   "outputs": [],
   "source": [
    "planck = []\n",
    "for file in files:\n",
    "    a = np.load(os.path.join(dirname, file))\n",
    "    planck.append(a)"
   ]
  },
  {
   "cell_type": "code",
   "execution_count": 11,
   "metadata": {
    "ExecuteTime": {
     "end_time": "2020-08-19T15:14:50.661996Z",
     "start_time": "2020-08-19T15:14:49.575433Z"
    }
   },
   "outputs": [],
   "source": [
    "planck_cut = [cut_data(data, -5, 30) for data in planck]"
   ]
  },
  {
   "cell_type": "code",
   "execution_count": 15,
   "metadata": {
    "ExecuteTime": {
     "end_time": "2020-08-19T15:16:06.438379Z",
     "start_time": "2020-08-19T15:16:02.168675Z"
    }
   },
   "outputs": [
    {
     "data": {
      "image/png": "[encoded data removed]",
      "text/plain": [
       "<Figure size 432x288 with 1 Axes>"
      ]
     },
     "metadata": {
      "needs_background": "light"
     },
     "output_type": "display_data"
    }
   ],
   "source": [
    "hist_data(planck_cut, 200)"
   ]
  },
  {
   "cell_type": "code",
   "execution_count": null,
   "metadata": {},
   "outputs": [],
   "source": []
  }
 ],
 "metadata": {
  "kernelspec": {
   "display_name": "Python 3",
   "language": "python",
   "name": "python3"
  },
  "language_info": {
   "codemirror_mode": {
    "name": "ipython",
    "version": 3
   },
   "file_extension": ".py",
   "mimetype": "text/x-python",
   "name": "python",
   "nbconvert_exporter": "python",
   "pygments_lexer": "ipython3",
   "version": "3.8.3"
  }
 },
 "nbformat": 4,
 "nbformat_minor": 4
}
