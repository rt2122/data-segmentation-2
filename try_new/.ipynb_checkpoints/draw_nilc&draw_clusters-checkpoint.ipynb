{
 "cells": [
  {
   "cell_type": "code",
   "execution_count": 28,
   "metadata": {
    "ExecuteTime": {
     "end_time": "2020-09-14T20:06:18.061282Z",
     "start_time": "2020-09-14T20:06:18.055523Z"
    }
   },
   "outputs": [],
   "source": [
    "import numpy as np\n",
    "from astropy.io import fits\n",
    "from DS_healpix_fragmentation import one_pixel_fragmentation, draw_x_h, matr2dict, radec2pix\n",
    "from DS_Planck_Unet import draw_pic, check_gen, unet_planck, gen_data\n",
    "import healpy as hp\n",
    "from matplotlib import pyplot as plt\n",
    "from DS_detector import scan_none\n",
    "import pandas as pd\n",
    "from skimage.draw import circle"
   ]
  },
  {
   "cell_type": "code",
   "execution_count": null,
   "metadata": {
    "ExecuteTime": {
     "end_time": "2020-09-14T08:22:12.132542Z",
     "start_time": "2020-09-14T08:22:11.910676Z"
    }
   },
   "outputs": [],
   "source": [
    "nilc = None\n",
    "with fits.open('/home/rt2122/Data/Planck/y/nilc_ymaps.fits') as hdul:\n",
    "    data = hdul[1].data\n",
    "    print(repr(hdul[1].header))\n",
    "    nilc = np.array(data['FULL'])"
   ]
  },
  {
   "cell_type": "code",
   "execution_count": null,
   "metadata": {
    "ExecuteTime": {
     "end_time": "2020-09-14T08:22:14.708502Z",
     "start_time": "2020-09-14T08:22:14.699592Z"
    }
   },
   "outputs": [],
   "source": [
    "nilc.shape, hp.nside2npix(2048) "
   ]
  },
  {
   "cell_type": "code",
   "execution_count": null,
   "metadata": {
    "ExecuteTime": {
     "end_time": "2020-09-14T08:22:23.229930Z",
     "start_time": "2020-09-14T08:22:22.841347Z"
    }
   },
   "outputs": [],
   "source": [
    "np.save('/home/rt2122/Data/Planck/normalized/y/nilc', nilc)"
   ]
  },
  {
   "cell_type": "code",
   "execution_count": null,
   "metadata": {
    "ExecuteTime": {
     "end_time": "2020-09-14T08:20:12.761607Z",
     "start_time": "2020-09-14T08:20:12.751425Z"
    }
   },
   "outputs": [],
   "source": [
    "def draw_pic_new(matr, dirname='/home/rt2122/Data/Planck/normalized/', y=False):\n",
    "    import os\n",
    "    import numpy as np\n",
    "   \n",
    "    if y:\n",
    "        dirname = os.path.join(dirname, 'y')\n",
    "        \n",
    "    files = sorted(next(os.walk(dirname))[-1])\n",
    "    pic = np.zeros(list(matr.shape) + [len(files)])\n",
    "    \n",
    "    for i_f, file in enumerate(files):\n",
    "        i_s = np.load(os.path.join(dirname, file))\n",
    "        \n",
    "        for x in range(pic.shape[0]):\n",
    "            pic[x, :, i_f] = i_s[matr[x]]\n",
    "    return pic\n"
   ]
  },
  {
   "cell_type": "code",
   "execution_count": null,
   "metadata": {
    "ExecuteTime": {
     "end_time": "2020-09-14T08:20:40.580824Z",
     "start_time": "2020-09-14T08:20:34.525191Z"
    }
   },
   "outputs": [],
   "source": [
    "matr = one_pixel_fragmentation(2, 6, 10)"
   ]
  },
  {
   "cell_type": "code",
   "execution_count": null,
   "metadata": {
    "ExecuteTime": {
     "end_time": "2020-09-14T08:22:27.293720Z",
     "start_time": "2020-09-14T08:22:27.094268Z"
    }
   },
   "outputs": [],
   "source": [
    "ypic = draw_pic_new(matr, y=True)"
   ]
  },
  {
   "cell_type": "code",
   "execution_count": null,
   "metadata": {
    "ExecuteTime": {
     "end_time": "2020-09-14T08:22:18.317954Z",
     "start_time": "2020-09-14T08:22:18.141108Z"
    }
   },
   "outputs": [],
   "source": [
    "nilc = nilc.astype(np.float64)"
   ]
  },
  {
   "cell_type": "code",
   "execution_count": null,
   "metadata": {
    "ExecuteTime": {
     "end_time": "2020-09-14T08:23:12.895231Z",
     "start_time": "2020-09-14T08:23:12.538131Z"
    }
   },
   "outputs": [],
   "source": [
    "plt.imshow(ypic[:64,:64,0])"
   ]
  },
  {
   "cell_type": "code",
   "execution_count": null,
   "metadata": {
    "ExecuteTime": {
     "end_time": "2020-09-14T08:43:11.433698Z",
     "start_time": "2020-09-14T08:43:07.595275Z"
    }
   },
   "outputs": [],
   "source": [
    "model = unet_planck(\n",
    "    weights='/home/rt2122/Models/planck_z/b40.ep0011-vl0.121560-l0.125252.h5')"
   ]
  },
  {
   "cell_type": "code",
   "execution_count": null,
   "metadata": {
    "ExecuteTime": {
     "end_time": "2020-09-14T08:43:11.451511Z",
     "start_time": "2020-09-14T08:43:11.436514Z"
    }
   },
   "outputs": [],
   "source": [
    "test_gen = gen_data('/home/rt2122/Data/clusters/planck_z.csv', [6], 1, \n",
    "                    min_rad=0.08, retmatr=True) "
   ]
  },
  {
   "cell_type": "code",
   "execution_count": null,
   "metadata": {
    "ExecuteTime": {
     "end_time": "2020-09-14T17:11:14.531869Z",
     "start_time": "2020-09-14T17:11:12.087491Z"
    }
   },
   "outputs": [],
   "source": [
    "check_gen_new(test_gen, model, y=True)"
   ]
  },
  {
   "cell_type": "code",
   "execution_count": null,
   "metadata": {
    "ExecuteTime": {
     "end_time": "2020-09-14T08:45:40.862138Z",
     "start_time": "2020-09-14T08:45:40.853420Z"
    }
   },
   "outputs": [],
   "source": [
    "def check_gen_new(gen, model=None, thr=0.8, y=False):\n",
    "    from matplotlib import pyplot as plt\n",
    "    import numpy as np\n",
    "    pic, mask, matr = None, None, None\n",
    "    if y:\n",
    "        pic, mask, matr = next(gen)\n",
    "    else:\n",
    "        pic, mask = next(gen)\n",
    "    print(pic.shape, mask.shape)\n",
    "    pic = pic[0]\n",
    "    mask = mask[0]\n",
    "    fig, ax = plt.subplots(3, 3, figsize=(12, 12))\n",
    "    for i in range(3):\n",
    "        for j in range(2):\n",
    "            ax[i][j].imshow(pic[:,:,i+3*j])\n",
    "    ax[0][2].imshow(mask[:,:,0])\n",
    "    if not (model is None):\n",
    "        ans = model.predict(np.array([pic]))\n",
    "        ax[1][2].imshow(ans[0,:,:,0])\n",
    "        if y:\n",
    "            cpic = draw_pic(matr[0], y=True)\n",
    "            ax[2][2].imshow(cpic[:,:,0])\n",
    "        else:\n",
    "            ax[2][2].imshow((ans[0,:,:,0] >= thr).astype(np.float32))"
   ]
  },
  {
   "cell_type": "code",
   "execution_count": 2,
   "metadata": {
    "ExecuteTime": {
     "end_time": "2020-09-14T19:57:55.809819Z",
     "start_time": "2020-09-14T19:57:55.802992Z"
    }
   },
   "outputs": [],
   "source": [
    "def select_small_square(x, y, pic):\n",
    "    pic = np.copy(pic)\n",
    "    pic[x*64:(x+1)*64, y*64:(y+1)*64,:]+=0.5\n",
    "    return pic"
   ]
  },
  {
   "cell_type": "code",
   "execution_count": 3,
   "metadata": {
    "ExecuteTime": {
     "end_time": "2020-09-14T19:57:56.331392Z",
     "start_time": "2020-09-14T19:57:56.309024Z"
    }
   },
   "outputs": [],
   "source": [
    "def clusters_of_test_pix(x, y, model, pic, ypic, cl_pics, big_matr):\n",
    "    import numpy as np\n",
    "    from matplotlib import pyplot as plt\n",
    "    \n",
    "    \n",
    "    grids = np.zeros(list(big_matr.shape)+[1])\n",
    "    for i in range(0, grids.shape[0], 64):\n",
    "        grids[i,:,0] = 1\n",
    "        grids[i+1,:,0] = 1\n",
    "        grids[:,i,0] = 1\n",
    "        grids[:,i+1,0] = 1 \n",
    "        \n",
    "    ans = model.predict(np.array([pic[x*64:(x+1)*64,y*64:(y+1)*64]]))\n",
    "    for i in range(len(cl_pics)):\n",
    "        if cl_pics[i] is None:\n",
    "            cl_pics[i] = np.zeros(list(big_matr.shape)+[1])\n",
    "    found_cl_pic, all_cl_pic, fp_pic = cl_pics\n",
    "    \n",
    "    fig, ax = plt.subplots(1, 3, figsize=(16, 8))\n",
    "    ax[0].imshow(select_small_square(x, y, np.dstack([found_cl_pic + grids, \n",
    "                                    all_cl_pic-found_cl_pic + grids, fp_pic])))\n",
    "    ax[1].imshow(ans[0,:,:,0])\n",
    "    ax[2].imshow(ypic[x*64:(x+1)*64,y*64:(y+1)*64,0])"
   ]
  },
  {
   "cell_type": "code",
   "execution_count": 4,
   "metadata": {
    "ExecuteTime": {
     "end_time": "2020-09-14T19:57:59.292044Z",
     "start_time": "2020-09-14T19:57:57.172809Z"
    }
   },
   "outputs": [],
   "source": [
    "model = unet_planck(\n",
    "    weights='/home/rt2122/Models/planck_z/b40.ep0195-vl0.074489-l0.018017.h5')"
   ]
  },
  {
   "cell_type": "code",
   "execution_count": 5,
   "metadata": {
    "ExecuteTime": {
     "end_time": "2020-09-14T19:58:05.179073Z",
     "start_time": "2020-09-14T19:57:59.294256Z"
    }
   },
   "outputs": [],
   "source": [
    "matr = one_pixel_fragmentation(2, 6, 10)"
   ]
  },
  {
   "cell_type": "code",
   "execution_count": 6,
   "metadata": {
    "ExecuteTime": {
     "end_time": "2020-09-14T19:58:05.596703Z",
     "start_time": "2020-09-14T19:58:05.181600Z"
    }
   },
   "outputs": [],
   "source": [
    "pic = draw_pic(matr)"
   ]
  },
  {
   "cell_type": "code",
   "execution_count": 7,
   "metadata": {
    "ExecuteTime": {
     "end_time": "2020-09-14T19:58:05.753588Z",
     "start_time": "2020-09-14T19:58:05.599061Z"
    }
   },
   "outputs": [],
   "source": [
    "ypic = draw_pic(matr, y=True)"
   ]
  },
  {
   "cell_type": "code",
   "execution_count": null,
   "metadata": {
    "ExecuteTime": {
     "start_time": "2020-09-14T17:41:28.561Z"
    }
   },
   "outputs": [
    {
     "name": "stdout",
     "output_type": "stream",
     "text": [
      "WARNING:tensorflow:Model was constructed with shape (None, 64, 64, 6) for input Tensor(\"input_1:0\", shape=(None, 64, 64, 6), dtype=float32), but it was called on an input with incompatible shape (None, 1024, 1024, 6).\n"
     ]
    }
   ],
   "source": [
    "coords = scan_none(6, model, ret_coords=True, cl)"
   ]
  },
  {
   "cell_type": "code",
   "execution_count": 14,
   "metadata": {
    "ExecuteTime": {
     "end_time": "2020-09-14T20:00:38.980429Z",
     "start_time": "2020-09-14T20:00:37.604537Z"
    }
   },
   "outputs": [
    {
     "name": "stderr",
     "output_type": "stream",
     "text": [
      "Clipping input data to the valid range for imshow with RGB data ([0..1] for floats or [0..255] for integers).\n"
     ]
    },
    {
     "data": {
      "image/png": "[encoded data removed]",
      "text/plain": [
       "<Figure size 1152x576 with 3 Axes>"
      ]
     },
     "metadata": {
      "needs_background": "light"
     },
     "output_type": "display_data"
    }
   ],
   "source": [
    "clusters_of_test_pix(6, 7, model, pic, ypic, [all_clusters] * 3, matr)"
   ]
  },
  {
   "cell_type": "code",
   "execution_count": 8,
   "metadata": {
    "ExecuteTime": {
     "end_time": "2020-09-14T19:58:05.765440Z",
     "start_time": "2020-09-14T19:58:05.755571Z"
    }
   },
   "outputs": [],
   "source": [
    "df = pd.read_csv('/home/rt2122/Data/clusters/planck_z.csv')"
   ]
  },
  {
   "cell_type": "code",
   "execution_count": 12,
   "metadata": {
    "ExecuteTime": {
     "end_time": "2020-09-14T20:00:24.083444Z",
     "start_time": "2020-09-14T20:00:23.609831Z"
    }
   },
   "outputs": [],
   "source": [
    "mdict = matr2dict(matr)"
   ]
  },
  {
   "cell_type": "code",
   "execution_count": 79,
   "metadata": {
    "ExecuteTime": {
     "end_time": "2020-09-14T20:27:31.851184Z",
     "start_time": "2020-09-14T20:27:31.773121Z"
    }
   },
   "outputs": [
    {
     "ename": "UnboundLocalError",
     "evalue": "local variable 'y' referenced before assignment",
     "output_type": "error",
     "traceback": [
      "\u001b[0;31m---------------------------------------------------------------------------\u001b[0m",
      "\u001b[0;31mUnboundLocalError\u001b[0m                         Traceback (most recent call last)",
      "\u001b[0;32m<ipython-input-79-77c5df501863>\u001b[0m in \u001b[0;36m<module>\u001b[0;34m\u001b[0m\n\u001b[0;32m----> 1\u001b[0;31m all_clusters = draw_x_h_n(df['RA'], df['DEC'], np.ones(len(df)), 2048, mdict, \n\u001b[0m\u001b[1;32m      2\u001b[0m                         list(matr.shape), coef=0.02)\n",
      "\u001b[0;32m<ipython-input-78-a74d0e7429de>\u001b[0m in \u001b[0;36mdraw_x_h_n\u001b[0;34m(ra, dec, data, nside, mdict, shape, coef)\u001b[0m\n\u001b[1;32m     22\u001b[0m         \u001b[0;32mif\u001b[0m \u001b[0mpix\u001b[0m\u001b[0;34m[\u001b[0m\u001b[0mi\u001b[0m\u001b[0;34m]\u001b[0m \u001b[0;32min\u001b[0m \u001b[0mmdict\u001b[0m\u001b[0;34m:\u001b[0m\u001b[0;34m\u001b[0m\u001b[0;34m\u001b[0m\u001b[0m\n\u001b[1;32m     23\u001b[0m             \u001b[0mx\u001b[0m\u001b[0;34m,\u001b[0m \u001b[0my\u001b[0m \u001b[0;34m=\u001b[0m \u001b[0mmdict\u001b[0m\u001b[0;34m[\u001b[0m\u001b[0mpix\u001b[0m\u001b[0;34m[\u001b[0m\u001b[0mi\u001b[0m\u001b[0;34m]\u001b[0m\u001b[0;34m]\u001b[0m\u001b[0;34m\u001b[0m\u001b[0;34m\u001b[0m\u001b[0m\n\u001b[0;32m---> 24\u001b[0;31m             \u001b[0mx_pic\u001b[0m \u001b[0;34m=\u001b[0m \u001b[0mmake_x_n\u001b[0m\u001b[0;34m(\u001b[0m\u001b[0mx\u001b[0m\u001b[0;34m,\u001b[0m \u001b[0my\u001b[0m\u001b[0;34m,\u001b[0m \u001b[0mdata\u001b[0m\u001b[0;34m[\u001b[0m\u001b[0mi\u001b[0m\u001b[0;34m]\u001b[0m \u001b[0;34m*\u001b[0m \u001b[0mcoef\u001b[0m\u001b[0;34m,\u001b[0m \u001b[0mshape\u001b[0m\u001b[0;34m=\u001b[0m\u001b[0mshape\u001b[0m\u001b[0;34m)\u001b[0m\u001b[0;34m\u001b[0m\u001b[0;34m\u001b[0m\u001b[0m\n\u001b[0m\u001b[1;32m     25\u001b[0m             \u001b[0mpic\u001b[0m\u001b[0;34m[\u001b[0m\u001b[0mx_pic\u001b[0m\u001b[0;34m]\u001b[0m \u001b[0;34m=\u001b[0m \u001b[0;36m1\u001b[0m\u001b[0;34m\u001b[0m\u001b[0;34m\u001b[0m\u001b[0m\n\u001b[1;32m     26\u001b[0m \u001b[0;34m\u001b[0m\u001b[0m\n",
      "\u001b[0;32m<ipython-input-78-a74d0e7429de>\u001b[0m in \u001b[0;36mmake_x_n\u001b[0;34m(x, y, size, shape)\u001b[0m\n\u001b[1;32m      3\u001b[0m     \u001b[0msize\u001b[0m \u001b[0;34m=\u001b[0m \u001b[0mint\u001b[0m\u001b[0;34m(\u001b[0m\u001b[0msize\u001b[0m\u001b[0;34m)\u001b[0m\u001b[0;34m\u001b[0m\u001b[0;34m\u001b[0m\u001b[0m\n\u001b[1;32m      4\u001b[0m     \u001b[0mcoords\u001b[0m \u001b[0;34m=\u001b[0m \u001b[0;34m[\u001b[0m\u001b[0;34m]\u001b[0m\u001b[0;34m\u001b[0m\u001b[0;34m\u001b[0m\u001b[0m\n\u001b[0;32m----> 5\u001b[0;31m     coords.extend([(x, y) \n\u001b[0m\u001b[1;32m      6\u001b[0m                    \u001b[0;32mfor\u001b[0m \u001b[0mx\u001b[0m \u001b[0;32min\u001b[0m \u001b[0mrange\u001b[0m\u001b[0;34m(\u001b[0m\u001b[0mmax\u001b[0m\u001b[0;34m(\u001b[0m\u001b[0mx\u001b[0m\u001b[0;34m-\u001b[0m\u001b[0;36m1\u001b[0m\u001b[0;34m,\u001b[0m\u001b[0;36m0\u001b[0m\u001b[0;34m)\u001b[0m\u001b[0;34m,\u001b[0m \u001b[0mmin\u001b[0m\u001b[0;34m(\u001b[0m\u001b[0mx\u001b[0m\u001b[0;34m+\u001b[0m\u001b[0;36m2\u001b[0m\u001b[0;34m,\u001b[0m\u001b[0mshape\u001b[0m\u001b[0;34m[\u001b[0m\u001b[0;36m0\u001b[0m\u001b[0;34m]\u001b[0m\u001b[0;34m-\u001b[0m\u001b[0;36m1\u001b[0m\u001b[0;34m)\u001b[0m\u001b[0;34m)\u001b[0m\u001b[0;34m\u001b[0m\u001b[0;34m\u001b[0m\u001b[0m\n\u001b[1;32m      7\u001b[0m                    for y in range(max(y-size,0), min(y+size+1,shape[1]-1))])\n",
      "\u001b[0;32m<ipython-input-78-a74d0e7429de>\u001b[0m in \u001b[0;36m<listcomp>\u001b[0;34m(.0)\u001b[0m\n\u001b[1;32m      5\u001b[0m     coords.extend([(x, y) \n\u001b[1;32m      6\u001b[0m                    \u001b[0;32mfor\u001b[0m \u001b[0mx\u001b[0m \u001b[0;32min\u001b[0m \u001b[0mrange\u001b[0m\u001b[0;34m(\u001b[0m\u001b[0mmax\u001b[0m\u001b[0;34m(\u001b[0m\u001b[0mx\u001b[0m\u001b[0;34m-\u001b[0m\u001b[0;36m1\u001b[0m\u001b[0;34m,\u001b[0m\u001b[0;36m0\u001b[0m\u001b[0;34m)\u001b[0m\u001b[0;34m,\u001b[0m \u001b[0mmin\u001b[0m\u001b[0;34m(\u001b[0m\u001b[0mx\u001b[0m\u001b[0;34m+\u001b[0m\u001b[0;36m2\u001b[0m\u001b[0;34m,\u001b[0m\u001b[0mshape\u001b[0m\u001b[0;34m[\u001b[0m\u001b[0;36m0\u001b[0m\u001b[0;34m]\u001b[0m\u001b[0;34m-\u001b[0m\u001b[0;36m1\u001b[0m\u001b[0;34m)\u001b[0m\u001b[0;34m)\u001b[0m\u001b[0;34m\u001b[0m\u001b[0;34m\u001b[0m\u001b[0m\n\u001b[0;32m----> 7\u001b[0;31m                    for y in range(max(y-size,0), min(y+size+1,shape[1]-1))])\n\u001b[0m\u001b[1;32m      8\u001b[0m     coords.extend([(x+i, y+j) for i in range(-size, size+1) for j in range(-1, 2)\n\u001b[1;32m      9\u001b[0m         if x+i < shape[0] and x+i >= 0])\n",
      "\u001b[0;31mUnboundLocalError\u001b[0m: local variable 'y' referenced before assignment"
     ]
    }
   ],
   "source": [
    "all_clusters = draw_x_h_n(df['RA'], df['DEC'], np.ones(len(df)), 2048, mdict, \n",
    "                        list(matr.shape), coef=0.02)"
   ]
  },
  {
   "cell_type": "code",
   "execution_count": 77,
   "metadata": {
    "ExecuteTime": {
     "end_time": "2020-09-14T20:24:24.247320Z",
     "start_time": "2020-09-14T20:24:24.055066Z"
    }
   },
   "outputs": [
    {
     "data": {
      "text/plain": [
       "<matplotlib.image.AxesImage at 0x7fec28e34e50>"
      ]
     },
     "execution_count": 77,
     "metadata": {},
     "output_type": "execute_result"
    },
    {
     "data": {
      "image/png": "[encoded data removed]",
      "text/plain": [
       "<Figure size 288x288 with 1 Axes>"
      ]
     },
     "metadata": {
      "needs_background": "light"
     },
     "output_type": "display_data"
    }
   ],
   "source": [
    "plt.matshow(all_clusters[:,:])"
   ]
  },
  {
   "cell_type": "code",
   "execution_count": 78,
   "metadata": {
    "ExecuteTime": {
     "end_time": "2020-09-14T20:27:26.501236Z",
     "start_time": "2020-09-14T20:27:26.481054Z"
    }
   },
   "outputs": [],
   "source": [
    "def make_x_n(x, y, size, shape):\n",
    "    import numpy as np\n",
    "    size = int(size)\n",
    "    coords = []\n",
    "    coords.extend([(x, y) \n",
    "                   for x in range(max(x-1,0), min(x+2,shape[0]-1)) \n",
    "                   for y in range(max(y-size,0), min(y+size+1,shape[1]-1))])\n",
    "    if len(shape) > 2:\n",
    "        coords = [(x, y, 0) for x, y in coords]\n",
    "    return list(np.array(coords).T)\n",
    "\n",
    "def draw_x_h_n(ra, dec, data, nside, mdict, shape, coef=0.02):\n",
    "    import numpy as np\n",
    "    from skimage.draw import circle\n",
    "\n",
    "    coef = shape[0] * coef / max(data)\n",
    "    pic = np.zeros(shape, dtype=np.uint8)\n",
    "    pix = radec2pix(ra, dec, nside)\n",
    "    for i in range(len(pix)):\n",
    "        if pix[i] in mdict:\n",
    "            x, y = mdict[pix[i]]\n",
    "            x_pic = make_x_n(x, y, data[i] * coef, shape=shape)\n",
    "            pic[x_pic] = 1\n",
    "    \n",
    "    return pic\n"
   ]
  },
  {
   "cell_type": "code",
   "execution_count": 29,
   "metadata": {
    "ExecuteTime": {
     "end_time": "2020-09-14T20:06:37.414553Z",
     "start_time": "2020-09-14T20:06:37.409912Z"
    }
   },
   "outputs": [],
   "source": [
    "c = circle(5, 6, 10, shape=(20, 20, 1))"
   ]
  },
  {
   "cell_type": "code",
   "execution_count": 65,
   "metadata": {
    "ExecuteTime": {
     "end_time": "2020-09-14T20:17:52.752661Z",
     "start_time": "2020-09-14T20:17:52.587931Z"
    }
   },
   "outputs": [
    {
     "data": {
      "text/plain": [
       "<matplotlib.image.AxesImage at 0x7fec28f97c70>"
      ]
     },
     "execution_count": 65,
     "metadata": {},
     "output_type": "execute_result"
    },
    {
     "data": {
      "image/png": "[encoded data removed]",
      "text/plain": [
       "<Figure size 288x288 with 1 Axes>"
      ]
     },
     "metadata": {
      "needs_background": "light"
     },
     "output_type": "display_data"
    }
   ],
   "source": [
    "a = np.zeros((20,20))\n",
    "a[make_x_n(5, 5, 1, (10, 10))]=1\n",
    "plt.matshow(a)"
   ]
  },
  {
   "cell_type": "code",
   "execution_count": 67,
   "metadata": {
    "ExecuteTime": {
     "end_time": "2020-09-14T20:17:58.529152Z",
     "start_time": "2020-09-14T20:17:58.521672Z"
    }
   },
   "outputs": [
    {
     "data": {
      "text/plain": [
       "array([[5, 5, 5, 4, 5, 6],\n",
       "       [4, 5, 6, 5, 5, 5]])"
      ]
     },
     "execution_count": 67,
     "metadata": {},
     "output_type": "execute_result"
    }
   ],
   "source": [
    "make_x_n(5, 5, 1, (10, 10))"
   ]
  },
  {
   "cell_type": "code",
   "execution_count": 68,
   "metadata": {
    "ExecuteTime": {
     "end_time": "2020-09-14T20:18:32.545628Z",
     "start_time": "2020-09-14T20:18:32.531308Z"
    }
   },
   "outputs": [
    {
     "data": {
      "text/plain": [
       "(array([4, 4, 4, 5, 5, 5, 6, 6, 6]), array([4, 5, 6, 4, 5, 6, 4, 5, 6]))"
      ]
     },
     "execution_count": 68,
     "metadata": {},
     "output_type": "execute_result"
    }
   ],
   "source": [
    "circle(5, 5, 2, shape=(10,10))"
   ]
  },
  {
   "cell_type": "code",
   "execution_count": null,
   "metadata": {},
   "outputs": [],
   "source": []
  }
 ],
 "metadata": {
  "kernelspec": {
   "display_name": "Python 3",
   "language": "python",
   "name": "python3"
  },
  "language_info": {
   "codemirror_mode": {
    "name": "ipython",
    "version": 3
   },
   "file_extension": ".py",
   "mimetype": "text/x-python",
   "name": "python",
   "nbconvert_exporter": "python",
   "pygments_lexer": "ipython3",
   "version": "3.8.3"
  }
 },
 "nbformat": 4,
 "nbformat_minor": 4
}
