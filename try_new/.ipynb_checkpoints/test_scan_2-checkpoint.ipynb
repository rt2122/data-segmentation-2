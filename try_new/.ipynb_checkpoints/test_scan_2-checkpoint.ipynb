{
 "cells": [
  {
   "cell_type": "code",
   "execution_count": 32,
   "metadata": {
    "ExecuteTime": {
     "end_time": "2020-09-05T20:05:16.792747Z",
     "start_time": "2020-09-05T20:05:16.787206Z"
    }
   },
   "outputs": [],
   "source": [
    "import numpy as np\n",
    "import pandas as pd\n",
    "from DS_detector import clusters_in_pix, find_centers_on_ans\n",
    "from DS_Planck_Unet import *\n",
    "from matplotlib import pyplot as plt\n",
    "from astropy.coordinates import SkyCoord\n",
    "from astropy import units as u\n",
    "import healpy as hp"
   ]
  },
  {
   "cell_type": "code",
   "execution_count": 11,
   "metadata": {
    "ExecuteTime": {
     "end_time": "2020-09-05T09:12:39.296243Z",
     "start_time": "2020-09-05T09:12:39.266797Z"
    }
   },
   "outputs": [],
   "source": [
    "def proc_found_clusters(pics, matrs, model, nside=2, depth=10, thr_list=[0.8], \n",
    "                        true_clusters=None, \n",
    "                        true_mode=True, min_dist=5/60):\n",
    "    import numpy as np\n",
    "    import pandas as pd\n",
    "    from astropy.coordinates import SkyCoord\n",
    "    from astropy import units as u\n",
    "    import healpy as hp\n",
    "    \n",
    "    pics = np.array(pics)\n",
    "    ans = model.predict(pics)\n",
    "    ans = np.array(ans)\n",
    "    found_clusters_dict, count_blank = \\\n",
    "        find_centers_on_ans(ans, matrs, thr_list, count_blank=True)\n",
    "    \n",
    "    sc_true = None\n",
    "    if not(true_clusters is None):\n",
    "        sc_true = SkyCoord(ra=true_clusters['RA']*u.degree, \n",
    "                       dec=true_clusters['DEC']*u.degree, frame='icrs')\n",
    "    \n",
    "    df = pd.DataFrame({'p':[0 for i in range(len(thr_list))], \n",
    "                       'n':[0 for i in range(len(thr_list))], \n",
    "                       'thr': [0 for i in range(len(thr_list))], \n",
    "                       'min_dist': [0 for i in range(len(thr_list))],\n",
    "                        'all_found': [0 for i in range(len(thr_list))]})\n",
    "    for idx in range(len(thr_list)):\n",
    "        thr = thr_list[idx]\n",
    "        all_found = len(found_clusters_dict[thr])\n",
    "        if all_found > 0:\n",
    "            theta, phi = hp.pix2ang(ipix=np.array(found_clusters_dict[thr]), nest=True, \n",
    "                            nside=nside*2**depth, lonlat=True)\n",
    "\n",
    "            sc_found = SkyCoord(l=theta*u.degree,\n",
    "                               b=phi*u.degree, frame='galactic')\n",
    "        if true_mode: \n",
    "            p = 0\n",
    "            if all_found > 0:\n",
    "                _, d2d, _ = sc_found.match_to_catalog_sky(sc_true)\n",
    "                p = np.count_nonzero(d2d.degree <= min_dist)\n",
    "                df['min_dist'].iloc[idx] = d2d.degree.min()\n",
    "            n = true_clusters.shape[0] - p\n",
    "\n",
    "        else:\n",
    "            p = all_found\n",
    "            n = count_blank[thr]\n",
    "            \n",
    "        df['p'].iloc[idx] = p\n",
    "        df['n'].iloc[idx] = n\n",
    "        df['thr'].iloc[idx] = thr\n",
    "        df['all_found'].iloc[idx] = all_found\n",
    "        \n",
    "    return df"
   ]
  },
  {
   "cell_type": "code",
   "execution_count": 16,
   "metadata": {
    "ExecuteTime": {
     "end_time": "2020-09-05T09:14:35.940184Z",
     "start_time": "2020-09-05T09:14:35.908899Z"
    }
   },
   "outputs": [],
   "source": [
    "def scan_pix(clusters, model, ipix, nside=2, depth=10, thr_list=[0.8], min_dist=5/60, \n",
    "             step=64, size=64, n_false=None, search_nside=256):\n",
    "    from DS_healpix_fragmentation import one_pixel_fragmentation, pix2radec, radec2pix\n",
    "    from DS_Planck_Unet import draw_pic_with_mask, draw_pic\n",
    "    import pandas as pd\n",
    "    import numpy as np\n",
    "    import healpy as hp\n",
    "    from tensorflow.keras import backend as K\n",
    "    from tqdm.notebook import tqdm\n",
    "    \n",
    "    big_matr = one_pixel_fragmentation(nside, ipix, depth)\n",
    "    \n",
    "    true_clusters = clusters_in_pix(clusters, ipix, nside)\n",
    "    if n_false is None:\n",
    "        n_false = len(true_clusters)\n",
    "    \n",
    "    pics, matrs = [], []\n",
    "    blank_pics, blank_matrs = [], []\n",
    "    \n",
    "    for i in range(0, big_matr.shape[0] - step, step):\n",
    "        for j in range(0, big_matr.shape[1], step):\n",
    "            matr = big_matr[i:i+size,j:j+size]\n",
    "            if matr.shape[0] == size and matr.shape[1] == size:\n",
    "                pic, mask = draw_pic_with_mask(matr=matr, \n",
    "                            clusters_arr=np.array(true_clusters[['RA', 'DEC']]),\n",
    "                                center=None)\n",
    "                if np.count_nonzero(mask) > 0:\n",
    "                    pics.append(pic)\n",
    "                    matrs.append(matr)\n",
    "                else:\n",
    "                    blank_pics.append(pic)\n",
    "                    blank_matrs.append(matr)\n",
    "    \n",
    "    #----test true clusters----#\n",
    "    res_t = proc_found_clusters(pics, matrs, model, nside=nside, depth=depth,\n",
    "                                true_clusters=true_clusters, \n",
    "                                true_mode=True, min_dist=min_dist, thr_list=thr_list)\n",
    "    #----test false clusters----#\n",
    "    res_f = proc_found_clusters(blank_pics, blank_matrs, model, nside=nside,\n",
    "                                depth=depth, true_mode=False, min_dist=min_dist,\n",
    "                               thr_list=thr_list)\n",
    "    res_table = pd.DataFrame({'tp' : res_t['p'], 'tn' : res_f['n'], \n",
    "                             'fp' : res_t['all_found'] - res_t['p'] + res_f['p'],\n",
    "                             'fn' : res_t['n'], 'thr' : thr_list, \n",
    "                              'pix2': [ipix for i in range(len(thr_list))]})\n",
    "    \n",
    "    return res_table\n"
   ]
  },
  {
   "cell_type": "code",
   "execution_count": 4,
   "metadata": {
    "ExecuteTime": {
     "end_time": "2020-09-05T08:53:39.265247Z",
     "start_time": "2020-09-05T08:53:36.078211Z"
    }
   },
   "outputs": [],
   "source": [
    "model = unet_planck(weights='/home/rt2122/Models/planck_z/model.ep94-vl0.02.h5') "
   ]
  },
  {
   "cell_type": "code",
   "execution_count": 17,
   "metadata": {
    "ExecuteTime": {
     "end_time": "2020-09-05T07:37:30.721506Z",
     "start_time": "2020-09-05T07:34:15.495742Z"
    }
   },
   "outputs": [
    {
     "name": "stderr",
     "output_type": "stream",
     "text": [
      "/home/rt2122/L/git/data-segmentation-2/modules/DS_detector.py:47: FutureWarning: Using a non-tuple sequence for multidimensional indexing is deprecated; use `arr[tuple(seq)]` instead of `arr[seq]`. In the future this will be interpreted as an array index, `arr[np.array(seq)]`, which will result either in an error or a different result.\n",
      "  centers.extend(list(matrs[i][[new_cen[:, 0], new_cen[:, 1]]]))\n"
     ]
    }
   ],
   "source": [
    "res = scan_pix('/home/rt2122/Data/clusters/planck_z.csv', model, test_pix[0], thr=0.5)"
   ]
  },
  {
   "cell_type": "code",
   "execution_count": 18,
   "metadata": {
    "ExecuteTime": {
     "end_time": "2020-09-05T07:37:30.772230Z",
     "start_time": "2020-09-05T07:37:30.735697Z"
    }
   },
   "outputs": [
    {
     "data": {
      "text/html": [
       "<div>\n",
       "<style scoped>\n",
       "    .dataframe tbody tr th:only-of-type {\n",
       "        vertical-align: middle;\n",
       "    }\n",
       "\n",
       "    .dataframe tbody tr th {\n",
       "        vertical-align: top;\n",
       "    }\n",
       "\n",
       "    .dataframe thead th {\n",
       "        text-align: right;\n",
       "    }\n",
       "</style>\n",
       "<table border=\"1\" class=\"dataframe\">\n",
       "  <thead>\n",
       "    <tr style=\"text-align: right;\">\n",
       "      <th></th>\n",
       "      <th>tp</th>\n",
       "      <th>fp</th>\n",
       "      <th>tn</th>\n",
       "      <th>fn</th>\n",
       "      <th>all_found</th>\n",
       "      <th>min_dist</th>\n",
       "      <th>pix2</th>\n",
       "      <th>thr</th>\n",
       "    </tr>\n",
       "  </thead>\n",
       "  <tbody>\n",
       "    <tr>\n",
       "      <th>0</th>\n",
       "      <td>2</td>\n",
       "      <td>9</td>\n",
       "      <td>192</td>\n",
       "      <td>40</td>\n",
       "      <td>11</td>\n",
       "      <td>0.029041</td>\n",
       "      <td>7</td>\n",
       "      <td>0.5</td>\n",
       "    </tr>\n",
       "  </tbody>\n",
       "</table>\n",
       "</div>"
      ],
      "text/plain": [
       "   tp  fp   tn  fn  all_found  min_dist  pix2  thr\n",
       "0   2   9  192  40         11  0.029041     7  0.5"
      ]
     },
     "execution_count": 18,
     "metadata": {},
     "output_type": "execute_result"
    }
   ],
   "source": [
    "res"
   ]
  },
  {
   "cell_type": "code",
   "execution_count": 19,
   "metadata": {
    "ExecuteTime": {
     "end_time": "2020-09-05T07:41:39.500109Z",
     "start_time": "2020-09-05T07:38:41.215325Z"
    }
   },
   "outputs": [
    {
     "name": "stderr",
     "output_type": "stream",
     "text": [
      "/home/rt2122/L/git/data-segmentation-2/modules/DS_detector.py:47: FutureWarning: Using a non-tuple sequence for multidimensional indexing is deprecated; use `arr[tuple(seq)]` instead of `arr[seq]`. In the future this will be interpreted as an array index, `arr[np.array(seq)]`, which will result either in an error or a different result.\n",
      "  centers.extend(list(matrs[i][[new_cen[:, 0], new_cen[:, 1]]]))\n"
     ]
    }
   ],
   "source": [
    "res1 = scan_pix('/home/rt2122/Data/clusters/planck_z.csv', model, val_pix[0], thr=0.5)"
   ]
  },
  {
   "cell_type": "code",
   "execution_count": 20,
   "metadata": {
    "ExecuteTime": {
     "end_time": "2020-09-05T07:43:59.268556Z",
     "start_time": "2020-09-05T07:41:39.502204Z"
    }
   },
   "outputs": [],
   "source": [
    "res2 = scan_pix('/home/rt2122/Data/clusters/planck_z.csv', model, train_pix[0], thr=0.5)"
   ]
  },
  {
   "cell_type": "code",
   "execution_count": 21,
   "metadata": {
    "ExecuteTime": {
     "end_time": "2020-09-05T07:44:28.294723Z",
     "start_time": "2020-09-05T07:44:28.276771Z"
    }
   },
   "outputs": [
    {
     "data": {
      "text/html": [
       "<div>\n",
       "<style scoped>\n",
       "    .dataframe tbody tr th:only-of-type {\n",
       "        vertical-align: middle;\n",
       "    }\n",
       "\n",
       "    .dataframe tbody tr th {\n",
       "        vertical-align: top;\n",
       "    }\n",
       "\n",
       "    .dataframe thead th {\n",
       "        text-align: right;\n",
       "    }\n",
       "</style>\n",
       "<table border=\"1\" class=\"dataframe\">\n",
       "  <thead>\n",
       "    <tr style=\"text-align: right;\">\n",
       "      <th></th>\n",
       "      <th>tp</th>\n",
       "      <th>fp</th>\n",
       "      <th>tn</th>\n",
       "      <th>fn</th>\n",
       "      <th>all_found</th>\n",
       "      <th>min_dist</th>\n",
       "      <th>pix2</th>\n",
       "      <th>thr</th>\n",
       "    </tr>\n",
       "  </thead>\n",
       "  <tbody>\n",
       "    <tr>\n",
       "      <th>0</th>\n",
       "      <td>2</td>\n",
       "      <td>9</td>\n",
       "      <td>192</td>\n",
       "      <td>40</td>\n",
       "      <td>11</td>\n",
       "      <td>0.029041</td>\n",
       "      <td>7</td>\n",
       "      <td>0.5</td>\n",
       "    </tr>\n",
       "    <tr>\n",
       "      <th>0</th>\n",
       "      <td>2</td>\n",
       "      <td>37</td>\n",
       "      <td>179</td>\n",
       "      <td>31</td>\n",
       "      <td>43</td>\n",
       "      <td>0.007485</td>\n",
       "      <td>10</td>\n",
       "      <td>0.5</td>\n",
       "    </tr>\n",
       "    <tr>\n",
       "      <th>0</th>\n",
       "      <td>3</td>\n",
       "      <td>32</td>\n",
       "      <td>194</td>\n",
       "      <td>17</td>\n",
       "      <td>38</td>\n",
       "      <td>0.036775</td>\n",
       "      <td>0</td>\n",
       "      <td>0.5</td>\n",
       "    </tr>\n",
       "  </tbody>\n",
       "</table>\n",
       "</div>"
      ],
      "text/plain": [
       "   tp  fp   tn  fn  all_found  min_dist  pix2  thr\n",
       "0   2   9  192  40         11  0.029041     7  0.5\n",
       "0   2  37  179  31         43  0.007485    10  0.5\n",
       "0   3  32  194  17         38  0.036775     0  0.5"
      ]
     },
     "execution_count": 21,
     "metadata": {},
     "output_type": "execute_result"
    }
   ],
   "source": [
    "pd.concat([res, res1, res2])"
   ]
  },
  {
   "cell_type": "code",
   "execution_count": 22,
   "metadata": {
    "ExecuteTime": {
     "end_time": "2020-09-05T07:47:32.482339Z",
     "start_time": "2020-09-05T07:45:02.175449Z"
    }
   },
   "outputs": [
    {
     "name": "stderr",
     "output_type": "stream",
     "text": [
      "/home/rt2122/L/git/data-segmentation-2/modules/DS_detector.py:47: FutureWarning: Using a non-tuple sequence for multidimensional indexing is deprecated; use `arr[tuple(seq)]` instead of `arr[seq]`. In the future this will be interpreted as an array index, `arr[np.array(seq)]`, which will result either in an error or a different result.\n",
      "  centers.extend(list(matrs[i][[new_cen[:, 0], new_cen[:, 1]]]))\n"
     ]
    }
   ],
   "source": [
    "res3 = scan_pix('/home/rt2122/Data/clusters/planck_z.csv', model, train_pix[0], thr=0.2)"
   ]
  },
  {
   "cell_type": "code",
   "execution_count": 23,
   "metadata": {
    "ExecuteTime": {
     "end_time": "2020-09-05T07:47:32.503488Z",
     "start_time": "2020-09-05T07:47:32.483836Z"
    }
   },
   "outputs": [
    {
     "data": {
      "text/html": [
       "<div>\n",
       "<style scoped>\n",
       "    .dataframe tbody tr th:only-of-type {\n",
       "        vertical-align: middle;\n",
       "    }\n",
       "\n",
       "    .dataframe tbody tr th {\n",
       "        vertical-align: top;\n",
       "    }\n",
       "\n",
       "    .dataframe thead th {\n",
       "        text-align: right;\n",
       "    }\n",
       "</style>\n",
       "<table border=\"1\" class=\"dataframe\">\n",
       "  <thead>\n",
       "    <tr style=\"text-align: right;\">\n",
       "      <th></th>\n",
       "      <th>tp</th>\n",
       "      <th>fp</th>\n",
       "      <th>tn</th>\n",
       "      <th>fn</th>\n",
       "      <th>all_found</th>\n",
       "      <th>min_dist</th>\n",
       "      <th>pix2</th>\n",
       "      <th>thr</th>\n",
       "    </tr>\n",
       "  </thead>\n",
       "  <tbody>\n",
       "    <tr>\n",
       "      <th>0</th>\n",
       "      <td>2</td>\n",
       "      <td>9</td>\n",
       "      <td>192</td>\n",
       "      <td>40</td>\n",
       "      <td>11</td>\n",
       "      <td>0.029041</td>\n",
       "      <td>7</td>\n",
       "      <td>0.5</td>\n",
       "    </tr>\n",
       "    <tr>\n",
       "      <th>0</th>\n",
       "      <td>2</td>\n",
       "      <td>37</td>\n",
       "      <td>179</td>\n",
       "      <td>31</td>\n",
       "      <td>43</td>\n",
       "      <td>0.007485</td>\n",
       "      <td>10</td>\n",
       "      <td>0.5</td>\n",
       "    </tr>\n",
       "    <tr>\n",
       "      <th>0</th>\n",
       "      <td>3</td>\n",
       "      <td>32</td>\n",
       "      <td>194</td>\n",
       "      <td>17</td>\n",
       "      <td>38</td>\n",
       "      <td>0.036775</td>\n",
       "      <td>0</td>\n",
       "      <td>0.5</td>\n",
       "    </tr>\n",
       "    <tr>\n",
       "      <th>0</th>\n",
       "      <td>5</td>\n",
       "      <td>371</td>\n",
       "      <td>43</td>\n",
       "      <td>15</td>\n",
       "      <td>403</td>\n",
       "      <td>0.019642</td>\n",
       "      <td>0</td>\n",
       "      <td>0.2</td>\n",
       "    </tr>\n",
       "  </tbody>\n",
       "</table>\n",
       "</div>"
      ],
      "text/plain": [
       "   tp   fp   tn  fn  all_found  min_dist  pix2  thr\n",
       "0   2    9  192  40         11  0.029041     7  0.5\n",
       "0   2   37  179  31         43  0.007485    10  0.5\n",
       "0   3   32  194  17         38  0.036775     0  0.5\n",
       "0   5  371   43  15        403  0.019642     0  0.2"
      ]
     },
     "execution_count": 23,
     "metadata": {},
     "output_type": "execute_result"
    }
   ],
   "source": [
    "pd.concat([res, res1, res2, res3])"
   ]
  },
  {
   "cell_type": "code",
   "execution_count": 28,
   "metadata": {
    "ExecuteTime": {
     "end_time": "2020-09-05T08:51:08.873978Z",
     "start_time": "2020-09-05T08:47:56.021926Z"
    }
   },
   "outputs": [
    {
     "name": "stderr",
     "output_type": "stream",
     "text": [
      "/home/rt2122/L/git/data-segmentation-2/modules/DS_detector.py:52: FutureWarning: Using a non-tuple sequence for multidimensional indexing is deprecated; use `arr[tuple(seq)]` instead of `arr[seq]`. In the future this will be interpreted as an array index, `arr[np.array(seq)]`, which will result either in an error or a different result.\n",
      "  thr_dict[thr].extend(list(matrs[i][[new_cen[:, 0], new_cen[:, 1]]]))\n"
     ]
    }
   ],
   "source": [
    "res_l = scan_pix('/home/rt2122/Data/clusters/planck_z.csv', model, test_pix[0], \n",
    "               thr_list=[0.5])"
   ]
  },
  {
   "cell_type": "code",
   "execution_count": 29,
   "metadata": {
    "ExecuteTime": {
     "end_time": "2020-09-05T08:51:08.929909Z",
     "start_time": "2020-09-05T08:51:08.894453Z"
    }
   },
   "outputs": [
    {
     "data": {
      "text/html": [
       "<div>\n",
       "<style scoped>\n",
       "    .dataframe tbody tr th:only-of-type {\n",
       "        vertical-align: middle;\n",
       "    }\n",
       "\n",
       "    .dataframe tbody tr th {\n",
       "        vertical-align: top;\n",
       "    }\n",
       "\n",
       "    .dataframe thead th {\n",
       "        text-align: right;\n",
       "    }\n",
       "</style>\n",
       "<table border=\"1\" class=\"dataframe\">\n",
       "  <thead>\n",
       "    <tr style=\"text-align: right;\">\n",
       "      <th></th>\n",
       "      <th>tp</th>\n",
       "      <th>tn</th>\n",
       "      <th>fp</th>\n",
       "      <th>fn</th>\n",
       "      <th>thr</th>\n",
       "    </tr>\n",
       "  </thead>\n",
       "  <tbody>\n",
       "    <tr>\n",
       "      <th>0</th>\n",
       "      <td>1</td>\n",
       "      <td>199</td>\n",
       "      <td>0</td>\n",
       "      <td>41</td>\n",
       "      <td>0.5</td>\n",
       "    </tr>\n",
       "  </tbody>\n",
       "</table>\n",
       "</div>"
      ],
      "text/plain": [
       "   tp   tn  fp  fn  thr\n",
       "0   1  199   0  41  0.5"
      ]
     },
     "execution_count": 29,
     "metadata": {},
     "output_type": "execute_result"
    }
   ],
   "source": [
    "res_l"
   ]
  },
  {
   "cell_type": "code",
   "execution_count": 20,
   "metadata": {
    "ExecuteTime": {
     "end_time": "2020-09-05T09:21:24.761425Z",
     "start_time": "2020-09-05T09:21:24.752721Z"
    }
   },
   "outputs": [],
   "source": [
    "thr_list = [0.1 * i for i in range(10)]"
   ]
  },
  {
   "cell_type": "code",
   "execution_count": 21,
   "metadata": {
    "ExecuteTime": {
     "end_time": "2020-09-05T09:26:46.685199Z",
     "start_time": "2020-09-05T09:22:10.033839Z"
    }
   },
   "outputs": [
    {
     "name": "stderr",
     "output_type": "stream",
     "text": [
      "/home/rt2122/L/git/data-segmentation-2/modules/DS_detector.py:52: FutureWarning: Using a non-tuple sequence for multidimensional indexing is deprecated; use `arr[tuple(seq)]` instead of `arr[seq]`. In the future this will be interpreted as an array index, `arr[np.array(seq)]`, which will result either in an error or a different result.\n",
      "  thr_dict[thr].extend(list(matrs[i][[new_cen[:, 0], new_cen[:, 1]]]))\n",
      "/home/rt2122/anaconda3/lib/python3.8/site-packages/pandas/core/indexing.py:671: SettingWithCopyWarning: \n",
      "A value is trying to be set on a copy of a slice from a DataFrame\n",
      "\n",
      "See the caveats in the documentation: https://pandas.pydata.org/pandas-docs/stable/user_guide/indexing.html#returning-a-view-versus-a-copy\n",
      "  self._setitem_with_indexer(indexer, value)\n"
     ]
    }
   ],
   "source": [
    "res_l = scan_pix('/home/rt2122/Data/clusters/planck_z.csv', model, test_pix[0], \n",
    "               thr_list=thr_list)"
   ]
  },
  {
   "cell_type": "code",
   "execution_count": 22,
   "metadata": {
    "ExecuteTime": {
     "end_time": "2020-09-05T09:26:46.718787Z",
     "start_time": "2020-09-05T09:26:46.688505Z"
    }
   },
   "outputs": [
    {
     "data": {
      "text/html": [
       "<div>\n",
       "<style scoped>\n",
       "    .dataframe tbody tr th:only-of-type {\n",
       "        vertical-align: middle;\n",
       "    }\n",
       "\n",
       "    .dataframe tbody tr th {\n",
       "        vertical-align: top;\n",
       "    }\n",
       "\n",
       "    .dataframe thead th {\n",
       "        text-align: right;\n",
       "    }\n",
       "</style>\n",
       "<table border=\"1\" class=\"dataframe\">\n",
       "  <thead>\n",
       "    <tr style=\"text-align: right;\">\n",
       "      <th></th>\n",
       "      <th>tp</th>\n",
       "      <th>tn</th>\n",
       "      <th>fp</th>\n",
       "      <th>fn</th>\n",
       "      <th>thr</th>\n",
       "      <th>pix2</th>\n",
       "    </tr>\n",
       "  </thead>\n",
       "  <tbody>\n",
       "    <tr>\n",
       "      <th>0</th>\n",
       "      <td>0</td>\n",
       "      <td>0</td>\n",
       "      <td>240</td>\n",
       "      <td>42</td>\n",
       "      <td>0.0</td>\n",
       "      <td>7</td>\n",
       "    </tr>\n",
       "    <tr>\n",
       "      <th>1</th>\n",
       "      <td>11</td>\n",
       "      <td>61</td>\n",
       "      <td>332</td>\n",
       "      <td>31</td>\n",
       "      <td>0.1</td>\n",
       "      <td>7</td>\n",
       "    </tr>\n",
       "    <tr>\n",
       "      <th>2</th>\n",
       "      <td>8</td>\n",
       "      <td>133</td>\n",
       "      <td>117</td>\n",
       "      <td>34</td>\n",
       "      <td>0.2</td>\n",
       "      <td>7</td>\n",
       "    </tr>\n",
       "    <tr>\n",
       "      <th>3</th>\n",
       "      <td>5</td>\n",
       "      <td>167</td>\n",
       "      <td>49</td>\n",
       "      <td>37</td>\n",
       "      <td>0.3</td>\n",
       "      <td>7</td>\n",
       "    </tr>\n",
       "    <tr>\n",
       "      <th>4</th>\n",
       "      <td>5</td>\n",
       "      <td>184</td>\n",
       "      <td>19</td>\n",
       "      <td>37</td>\n",
       "      <td>0.4</td>\n",
       "      <td>7</td>\n",
       "    </tr>\n",
       "    <tr>\n",
       "      <th>5</th>\n",
       "      <td>2</td>\n",
       "      <td>192</td>\n",
       "      <td>9</td>\n",
       "      <td>40</td>\n",
       "      <td>0.5</td>\n",
       "      <td>7</td>\n",
       "    </tr>\n",
       "    <tr>\n",
       "      <th>6</th>\n",
       "      <td>2</td>\n",
       "      <td>194</td>\n",
       "      <td>7</td>\n",
       "      <td>40</td>\n",
       "      <td>0.6</td>\n",
       "      <td>7</td>\n",
       "    </tr>\n",
       "    <tr>\n",
       "      <th>7</th>\n",
       "      <td>2</td>\n",
       "      <td>198</td>\n",
       "      <td>1</td>\n",
       "      <td>40</td>\n",
       "      <td>0.7</td>\n",
       "      <td>7</td>\n",
       "    </tr>\n",
       "    <tr>\n",
       "      <th>8</th>\n",
       "      <td>1</td>\n",
       "      <td>199</td>\n",
       "      <td>0</td>\n",
       "      <td>41</td>\n",
       "      <td>0.8</td>\n",
       "      <td>7</td>\n",
       "    </tr>\n",
       "    <tr>\n",
       "      <th>9</th>\n",
       "      <td>0</td>\n",
       "      <td>199</td>\n",
       "      <td>0</td>\n",
       "      <td>42</td>\n",
       "      <td>0.9</td>\n",
       "      <td>7</td>\n",
       "    </tr>\n",
       "  </tbody>\n",
       "</table>\n",
       "</div>"
      ],
      "text/plain": [
       "   tp   tn   fp  fn  thr  pix2\n",
       "0   0    0  240  42  0.0     7\n",
       "1  11   61  332  31  0.1     7\n",
       "2   8  133  117  34  0.2     7\n",
       "3   5  167   49  37  0.3     7\n",
       "4   5  184   19  37  0.4     7\n",
       "5   2  192    9  40  0.5     7\n",
       "6   2  194    7  40  0.6     7\n",
       "7   2  198    1  40  0.7     7\n",
       "8   1  199    0  41  0.8     7\n",
       "9   0  199    0  42  0.9     7"
      ]
     },
     "execution_count": 22,
     "metadata": {},
     "output_type": "execute_result"
    }
   ],
   "source": [
    "res_l"
   ]
  },
  {
   "cell_type": "code",
   "execution_count": 25,
   "metadata": {
    "ExecuteTime": {
     "end_time": "2020-09-05T09:28:57.930320Z",
     "start_time": "2020-09-05T09:28:57.597029Z"
    }
   },
   "outputs": [
    {
     "data": {
      "image/png": "[encoded data removed]",
      "text/plain": [
       "<Figure size 432x288 with 1 Axes>"
      ]
     },
     "metadata": {
      "needs_background": "light"
     },
     "output_type": "display_data"
    }
   ],
   "source": [
    "ax = plt.subplot()\n",
    "ax.plot(thr_list, res_l['tp'], 'r', label='tp')\n",
    "ax.plot(thr_list, res_l['tn'], 'g', label='tn')\n",
    "ax.plot(thr_list, res_l['fp'], 'b', label='fp')\n",
    "ax.plot(thr_list, res_l['fn'], 'y', label='fn')\n",
    "ax.legend()\n",
    "plt.show()"
   ]
  },
  {
   "cell_type": "code",
   "execution_count": 28,
   "metadata": {
    "ExecuteTime": {
     "end_time": "2020-09-05T09:32:12.819858Z",
     "start_time": "2020-09-05T09:32:12.646800Z"
    }
   },
   "outputs": [
    {
     "data": {
      "image/png": "[encoded data removed]",
      "text/plain": [
       "<Figure size 432x288 with 1 Axes>"
      ]
     },
     "metadata": {
      "needs_background": "light"
     },
     "output_type": "display_data"
    }
   ],
   "source": [
    "ax = plt.subplot()\n",
    "ax.plot(thr_list, res_l['tp'] / (res_l['tp'] + res_l['fn']), 'r', label='tp')\n",
    "#ax.plot(thr_list, res_l['tn'], 'g', label='tn')\n",
    "#ax.plot(thr_list, res_l['fp'], 'b', label='fp')\n",
    "#ax.plot(thr_list, res_l['fn'], 'y', label='fn')\n",
    "ax.legend()\n",
    "plt.show()"
   ]
  },
  {
   "cell_type": "code",
   "execution_count": null,
   "metadata": {},
   "outputs": [],
   "source": [
    "#список plank_z из 7\n",
    "#нарисовать график из статьи\n",
    "#добавить повороты\n",
    "#придумать как добавить в нейронку координаты\n",
    "#как выглядят эллипсы на разных координатах\n",
    "#сделать танг проекции тоже\n",
    "#написать план семестра к среде к декабрю сделать работу по трем направлениям"
   ]
  },
  {
   "cell_type": "code",
   "execution_count": null,
   "metadata": {},
   "outputs": [],
   "source": [
    "#15armin"
   ]
  },
  {
   "cell_type": "code",
   "execution_count": 29,
   "metadata": {
    "ExecuteTime": {
     "end_time": "2020-09-05T20:01:24.410370Z",
     "start_time": "2020-09-05T20:01:24.346430Z"
    }
   },
   "outputs": [
    {
     "data": {
      "text/html": [
       "<div>\n",
       "<style scoped>\n",
       "    .dataframe tbody tr th:only-of-type {\n",
       "        vertical-align: middle;\n",
       "    }\n",
       "\n",
       "    .dataframe tbody tr th {\n",
       "        vertical-align: top;\n",
       "    }\n",
       "\n",
       "    .dataframe thead th {\n",
       "        text-align: right;\n",
       "    }\n",
       "</style>\n",
       "<table border=\"1\" class=\"dataframe\">\n",
       "  <thead>\n",
       "    <tr style=\"text-align: right;\">\n",
       "      <th></th>\n",
       "      <th>Name</th>\n",
       "      <th>RA</th>\n",
       "      <th>DEC</th>\n",
       "      <th>z</th>\n",
       "      <th>MSZ</th>\n",
       "      <th>MCXC</th>\n",
       "      <th>RedMAPPer</th>\n",
       "    </tr>\n",
       "  </thead>\n",
       "  <tbody>\n",
       "    <tr>\n",
       "      <th>0</th>\n",
       "      <td>PSZ2 G092.71+73.46</td>\n",
       "      <td>203.801392</td>\n",
       "      <td>41.000397</td>\n",
       "      <td>0.227900</td>\n",
       "      <td>8.126019</td>\n",
       "      <td>J1335.3+4059</td>\n",
       "      <td>RMJ133520.1+410004.1</td>\n",
       "    </tr>\n",
       "    <tr>\n",
       "      <th>1</th>\n",
       "      <td>PSZ2 G095.22+67.41</td>\n",
       "      <td>207.852580</td>\n",
       "      <td>46.355742</td>\n",
       "      <td>0.062500</td>\n",
       "      <td>1.501908</td>\n",
       "      <td>J1351.7+4622</td>\n",
       "      <td>RMJ135141.9+462200.2</td>\n",
       "    </tr>\n",
       "    <tr>\n",
       "      <th>2</th>\n",
       "      <td>PSZ2 G105.55+77.21</td>\n",
       "      <td>197.754409</td>\n",
       "      <td>39.246289</td>\n",
       "      <td>0.072000</td>\n",
       "      <td>2.196282</td>\n",
       "      <td>J1311.1+3913</td>\n",
       "      <td>RMJ131124.0+391642.2</td>\n",
       "    </tr>\n",
       "    <tr>\n",
       "      <th>3</th>\n",
       "      <td>PSZ2 G106.61+66.71</td>\n",
       "      <td>202.635540</td>\n",
       "      <td>49.152938</td>\n",
       "      <td>0.331400</td>\n",
       "      <td>4.674128</td>\n",
       "      <td></td>\n",
       "      <td>RMJ133029.5+490847.9</td>\n",
       "    </tr>\n",
       "    <tr>\n",
       "      <th>4</th>\n",
       "      <td>PSZ2 G107.10+65.32</td>\n",
       "      <td>203.177675</td>\n",
       "      <td>50.518293</td>\n",
       "      <td>0.279900</td>\n",
       "      <td>8.217337</td>\n",
       "      <td>J1332.7+5032</td>\n",
       "      <td>RMJ133238.4+503336.0</td>\n",
       "    </tr>\n",
       "    <tr>\n",
       "      <th>5</th>\n",
       "      <td>PSZ2 G111.75+70.37</td>\n",
       "      <td>198.264162</td>\n",
       "      <td>46.281164</td>\n",
       "      <td>0.183000</td>\n",
       "      <td>4.342518</td>\n",
       "      <td>J1313.1+4616</td>\n",
       "      <td>RMJ131258.0+461530.3</td>\n",
       "    </tr>\n",
       "    <tr>\n",
       "      <th>6</th>\n",
       "      <td>PSZ2 G114.14+58.96</td>\n",
       "      <td>201.306494</td>\n",
       "      <td>57.583420</td>\n",
       "      <td>0.115583</td>\n",
       "      <td>2.171770</td>\n",
       "      <td></td>\n",
       "      <td>RMJ132511.2+573601.6</td>\n",
       "    </tr>\n",
       "    <tr>\n",
       "      <th>7</th>\n",
       "      <td>PSZ2 G114.31+64.89</td>\n",
       "      <td>198.765833</td>\n",
       "      <td>51.832863</td>\n",
       "      <td>0.283600</td>\n",
       "      <td>6.761312</td>\n",
       "      <td>J1315.1+5149</td>\n",
       "      <td>RMJ131505.2+514902.8</td>\n",
       "    </tr>\n",
       "    <tr>\n",
       "      <th>8</th>\n",
       "      <td>PSZ2 G114.83+57.25</td>\n",
       "      <td>201.445709</td>\n",
       "      <td>59.330467</td>\n",
       "      <td>0.169517</td>\n",
       "      <td>3.273393</td>\n",
       "      <td>J1325.8+5919</td>\n",
       "      <td>RMJ132549.7+591949.0</td>\n",
       "    </tr>\n",
       "    <tr>\n",
       "      <th>9</th>\n",
       "      <td>PSZ2 G114.99+70.36</td>\n",
       "      <td>196.728586</td>\n",
       "      <td>46.525749</td>\n",
       "      <td>0.225900</td>\n",
       "      <td>5.702224</td>\n",
       "      <td>J1306.9+4633</td>\n",
       "      <td>RMJ130645.7+463330.8</td>\n",
       "    </tr>\n",
       "    <tr>\n",
       "      <th>10</th>\n",
       "      <td>PSZ2 G118.34+68.79</td>\n",
       "      <td>195.348393</td>\n",
       "      <td>48.241857</td>\n",
       "      <td>0.254879</td>\n",
       "      <td>3.774225</td>\n",
       "      <td></td>\n",
       "      <td>RMJ130122.0+481545.0</td>\n",
       "    </tr>\n",
       "    <tr>\n",
       "      <th>11</th>\n",
       "      <td>PSZ2 G119.92+59.12</td>\n",
       "      <td>195.764227</td>\n",
       "      <td>57.933426</td>\n",
       "      <td>0.196100</td>\n",
       "      <td>3.437462</td>\n",
       "      <td>J1303.0+5756</td>\n",
       "      <td>RMJ130255.3+575525.4</td>\n",
       "    </tr>\n",
       "    <tr>\n",
       "      <th>12</th>\n",
       "      <td>PSZ2 G121.03+57.02</td>\n",
       "      <td>194.926617</td>\n",
       "      <td>60.074106</td>\n",
       "      <td>0.344000</td>\n",
       "      <td>5.691854</td>\n",
       "      <td></td>\n",
       "      <td>RMJ125941.5+600305.5</td>\n",
       "    </tr>\n",
       "    <tr>\n",
       "      <th>13</th>\n",
       "      <td>PSZ2 G122.30+54.52</td>\n",
       "      <td>193.646342</td>\n",
       "      <td>62.596320</td>\n",
       "      <td>0.318225</td>\n",
       "      <td>4.528066</td>\n",
       "      <td></td>\n",
       "      <td>RMJ125443.6+623347.1</td>\n",
       "    </tr>\n",
       "    <tr>\n",
       "      <th>14</th>\n",
       "      <td>PSZ2 G123.66+67.25</td>\n",
       "      <td>192.422306</td>\n",
       "      <td>49.871762</td>\n",
       "      <td>0.283797</td>\n",
       "      <td>4.382718</td>\n",
       "      <td></td>\n",
       "      <td>RMJ124930.9+494902.3</td>\n",
       "    </tr>\n",
       "    <tr>\n",
       "      <th>15</th>\n",
       "      <td>PSZ2 G125.71+53.86</td>\n",
       "      <td>189.225083</td>\n",
       "      <td>63.184299</td>\n",
       "      <td>0.301900</td>\n",
       "      <td>6.551286</td>\n",
       "      <td>J1236.9+6311</td>\n",
       "      <td>RMJ123658.6+631114.1</td>\n",
       "    </tr>\n",
       "    <tr>\n",
       "      <th>16</th>\n",
       "      <td>PSZ2 G133.59+50.68</td>\n",
       "      <td>176.703976</td>\n",
       "      <td>65.089090</td>\n",
       "      <td>0.529308</td>\n",
       "      <td>5.158692</td>\n",
       "      <td></td>\n",
       "      <td>RMJ114649.1+650506.8</td>\n",
       "    </tr>\n",
       "    <tr>\n",
       "      <th>17</th>\n",
       "      <td>PSZ2 G133.60+69.04</td>\n",
       "      <td>187.223527</td>\n",
       "      <td>47.612347</td>\n",
       "      <td>0.254000</td>\n",
       "      <td>5.877626</td>\n",
       "      <td>J1229.0+4737</td>\n",
       "      <td>RMJ122902.5+473720.6</td>\n",
       "    </tr>\n",
       "    <tr>\n",
       "      <th>18</th>\n",
       "      <td>PSZ2 G134.59+53.38</td>\n",
       "      <td>177.796884</td>\n",
       "      <td>62.357755</td>\n",
       "      <td>0.345200</td>\n",
       "      <td>4.454914</td>\n",
       "      <td></td>\n",
       "      <td>RMJ115049.1+621948.4</td>\n",
       "    </tr>\n",
       "    <tr>\n",
       "      <th>19</th>\n",
       "      <td>PSZ2 G134.70+48.91</td>\n",
       "      <td>173.308549</td>\n",
       "      <td>66.386939</td>\n",
       "      <td>0.116000</td>\n",
       "      <td>3.404457</td>\n",
       "      <td>J1133.2+6622</td>\n",
       "      <td>RMJ113314.7+662246.3</td>\n",
       "    </tr>\n",
       "    <tr>\n",
       "      <th>20</th>\n",
       "      <td>PSZ2 G135.06+54.39</td>\n",
       "      <td>178.090318</td>\n",
       "      <td>61.319064</td>\n",
       "      <td>0.316900</td>\n",
       "      <td>5.405140</td>\n",
       "      <td></td>\n",
       "      <td></td>\n",
       "    </tr>\n",
       "    <tr>\n",
       "      <th>21</th>\n",
       "      <td>PSZ2 G135.17+65.43</td>\n",
       "      <td>184.820480</td>\n",
       "      <td>50.921678</td>\n",
       "      <td>0.543612</td>\n",
       "      <td>6.005507</td>\n",
       "      <td></td>\n",
       "      <td>RMJ121912.2+505435.3</td>\n",
       "    </tr>\n",
       "    <tr>\n",
       "      <th>22</th>\n",
       "      <td>PSZ2 G135.19+57.88</td>\n",
       "      <td>180.538694</td>\n",
       "      <td>58.059284</td>\n",
       "      <td>0.103100</td>\n",
       "      <td>2.214468</td>\n",
       "      <td>J1201.9+5802</td>\n",
       "      <td>RMJ120203.8+580208.2</td>\n",
       "    </tr>\n",
       "    <tr>\n",
       "      <th>23</th>\n",
       "      <td>PSZ2 G136.92+59.46</td>\n",
       "      <td>180.085172</td>\n",
       "      <td>56.252360</td>\n",
       "      <td>0.065000</td>\n",
       "      <td>1.808754</td>\n",
       "      <td>J1200.3+5613</td>\n",
       "      <td>RMJ120013.9+561502.4</td>\n",
       "    </tr>\n",
       "    <tr>\n",
       "      <th>24</th>\n",
       "      <td>PSZ2 G139.18+56.37</td>\n",
       "      <td>175.592840</td>\n",
       "      <td>58.522664</td>\n",
       "      <td>0.322000</td>\n",
       "      <td>6.867679</td>\n",
       "      <td>J1142.5+5832</td>\n",
       "      <td>RMJ114224.8+583205.6</td>\n",
       "    </tr>\n",
       "    <tr>\n",
       "      <th>25</th>\n",
       "      <td>PSZ2 G143.26+65.24</td>\n",
       "      <td>179.842653</td>\n",
       "      <td>49.774169</td>\n",
       "      <td>0.363353</td>\n",
       "      <td>7.649124</td>\n",
       "      <td>J1159.2+4947</td>\n",
       "      <td>RMJ115914.9+494748.4</td>\n",
       "    </tr>\n",
       "    <tr>\n",
       "      <th>26</th>\n",
       "      <td>PSZ2 G143.44+53.66</td>\n",
       "      <td>168.748870</td>\n",
       "      <td>59.451251</td>\n",
       "      <td>0.366351</td>\n",
       "      <td>5.308710</td>\n",
       "      <td></td>\n",
       "      <td>RMJ111456.8+592649.3</td>\n",
       "    </tr>\n",
       "    <tr>\n",
       "      <th>27</th>\n",
       "      <td>PSZ2 G144.33+62.85</td>\n",
       "      <td>177.306154</td>\n",
       "      <td>51.608566</td>\n",
       "      <td>0.132000</td>\n",
       "      <td>2.657646</td>\n",
       "      <td>J1149.0+5135</td>\n",
       "      <td>RMJ114852.3+513308.0</td>\n",
       "    </tr>\n",
       "    <tr>\n",
       "      <th>28</th>\n",
       "      <td>PSZ2 G145.65+59.30</td>\n",
       "      <td>173.151403</td>\n",
       "      <td>54.210209</td>\n",
       "      <td>0.347477</td>\n",
       "      <td>4.731703</td>\n",
       "      <td></td>\n",
       "      <td>RMJ113241.9+541310.4</td>\n",
       "    </tr>\n",
       "    <tr>\n",
       "      <th>29</th>\n",
       "      <td>PSZ2 G147.88+53.24</td>\n",
       "      <td>164.392373</td>\n",
       "      <td>58.018728</td>\n",
       "      <td>0.600000</td>\n",
       "      <td>6.468580</td>\n",
       "      <td></td>\n",
       "      <td>RMJ105731.0+575945.8</td>\n",
       "    </tr>\n",
       "    <tr>\n",
       "      <th>30</th>\n",
       "      <td>PSZ2 G148.36+75.23</td>\n",
       "      <td>184.618527</td>\n",
       "      <td>40.221117</td>\n",
       "      <td>0.303800</td>\n",
       "      <td>4.752996</td>\n",
       "      <td>J1218.4+4013</td>\n",
       "      <td>RMJ121826.4+401328.8</td>\n",
       "    </tr>\n",
       "    <tr>\n",
       "      <th>31</th>\n",
       "      <td>PSZ2 G149.22+54.18</td>\n",
       "      <td>164.603933</td>\n",
       "      <td>56.792620</td>\n",
       "      <td>0.136900</td>\n",
       "      <td>5.865067</td>\n",
       "      <td>J1058.4+5647</td>\n",
       "      <td>RMJ105823.7+564742.0</td>\n",
       "    </tr>\n",
       "    <tr>\n",
       "      <th>32</th>\n",
       "      <td>PSZ2 G150.56+58.32</td>\n",
       "      <td>168.795240</td>\n",
       "      <td>53.327539</td>\n",
       "      <td>0.470000</td>\n",
       "      <td>7.552688</td>\n",
       "      <td></td>\n",
       "      <td>RMJ111514.8+531954.6</td>\n",
       "    </tr>\n",
       "    <tr>\n",
       "      <th>33</th>\n",
       "      <td>PSZ2 G152.33+81.28</td>\n",
       "      <td>187.669869</td>\n",
       "      <td>34.628968</td>\n",
       "      <td>0.333100</td>\n",
       "      <td>5.358087</td>\n",
       "      <td>J1230.7+3439</td>\n",
       "      <td>RMJ123030.5+343801.4</td>\n",
       "    </tr>\n",
       "    <tr>\n",
       "      <th>34</th>\n",
       "      <td>PSZ2 G155.80+70.40</td>\n",
       "      <td>178.483302</td>\n",
       "      <td>42.859962</td>\n",
       "      <td>0.333145</td>\n",
       "      <td>4.419779</td>\n",
       "      <td></td>\n",
       "      <td>RMJ115353.2+425213.2</td>\n",
       "    </tr>\n",
       "    <tr>\n",
       "      <th>35</th>\n",
       "      <td>PSZ2 G156.26+59.64</td>\n",
       "      <td>167.102360</td>\n",
       "      <td>50.281112</td>\n",
       "      <td>0.587747</td>\n",
       "      <td>6.767759</td>\n",
       "      <td></td>\n",
       "      <td>RMJ110830.0+501602.9</td>\n",
       "    </tr>\n",
       "    <tr>\n",
       "      <th>36</th>\n",
       "      <td>PSZ2 G157.63+78.02</td>\n",
       "      <td>184.387154</td>\n",
       "      <td>36.716732</td>\n",
       "      <td>0.377025</td>\n",
       "      <td>5.557393</td>\n",
       "      <td></td>\n",
       "      <td>RMJ121731.2+364111.3</td>\n",
       "    </tr>\n",
       "    <tr>\n",
       "      <th>37</th>\n",
       "      <td>PSZ2 G160.83+81.66</td>\n",
       "      <td>186.725013</td>\n",
       "      <td>33.570327</td>\n",
       "      <td>0.888000</td>\n",
       "      <td>5.700541</td>\n",
       "      <td>J1226.9+3332</td>\n",
       "      <td></td>\n",
       "    </tr>\n",
       "    <tr>\n",
       "      <th>38</th>\n",
       "      <td>PSZ2 G165.46+66.15</td>\n",
       "      <td>170.918568</td>\n",
       "      <td>43.013504</td>\n",
       "      <td>0.195700</td>\n",
       "      <td>3.699136</td>\n",
       "      <td></td>\n",
       "      <td>RMJ112337.7+430328.0</td>\n",
       "    </tr>\n",
       "    <tr>\n",
       "      <th>39</th>\n",
       "      <td>PSZ2 G168.33+69.73</td>\n",
       "      <td>174.050544</td>\n",
       "      <td>40.103212</td>\n",
       "      <td>0.288000</td>\n",
       "      <td>4.792877</td>\n",
       "      <td></td>\n",
       "      <td>RMJ113613.0+400235.8</td>\n",
       "    </tr>\n",
       "    <tr>\n",
       "      <th>40</th>\n",
       "      <td>PSZ2 G170.26+73.90</td>\n",
       "      <td>178.016731</td>\n",
       "      <td>37.253657</td>\n",
       "      <td>0.164800</td>\n",
       "      <td>3.123689</td>\n",
       "      <td></td>\n",
       "      <td></td>\n",
       "    </tr>\n",
       "    <tr>\n",
       "      <th>41</th>\n",
       "      <td>PSZ2 G172.74+65.30</td>\n",
       "      <td>167.902884</td>\n",
       "      <td>40.857353</td>\n",
       "      <td>0.079400</td>\n",
       "      <td>2.453959</td>\n",
       "      <td>J1111.6+4050</td>\n",
       "      <td>RMJ111143.6+404914.7</td>\n",
       "    </tr>\n",
       "  </tbody>\n",
       "</table>\n",
       "</div>"
      ],
      "text/plain": [
       "                  Name          RA        DEC         z       MSZ  \\\n",
       "0   PSZ2 G092.71+73.46  203.801392  41.000397  0.227900  8.126019   \n",
       "1   PSZ2 G095.22+67.41  207.852580  46.355742  0.062500  1.501908   \n",
       "2   PSZ2 G105.55+77.21  197.754409  39.246289  0.072000  2.196282   \n",
       "3   PSZ2 G106.61+66.71  202.635540  49.152938  0.331400  4.674128   \n",
       "4   PSZ2 G107.10+65.32  203.177675  50.518293  0.279900  8.217337   \n",
       "5   PSZ2 G111.75+70.37  198.264162  46.281164  0.183000  4.342518   \n",
       "6   PSZ2 G114.14+58.96  201.306494  57.583420  0.115583  2.171770   \n",
       "7   PSZ2 G114.31+64.89  198.765833  51.832863  0.283600  6.761312   \n",
       "8   PSZ2 G114.83+57.25  201.445709  59.330467  0.169517  3.273393   \n",
       "9   PSZ2 G114.99+70.36  196.728586  46.525749  0.225900  5.702224   \n",
       "10  PSZ2 G118.34+68.79  195.348393  48.241857  0.254879  3.774225   \n",
       "11  PSZ2 G119.92+59.12  195.764227  57.933426  0.196100  3.437462   \n",
       "12  PSZ2 G121.03+57.02  194.926617  60.074106  0.344000  5.691854   \n",
       "13  PSZ2 G122.30+54.52  193.646342  62.596320  0.318225  4.528066   \n",
       "14  PSZ2 G123.66+67.25  192.422306  49.871762  0.283797  4.382718   \n",
       "15  PSZ2 G125.71+53.86  189.225083  63.184299  0.301900  6.551286   \n",
       "16  PSZ2 G133.59+50.68  176.703976  65.089090  0.529308  5.158692   \n",
       "17  PSZ2 G133.60+69.04  187.223527  47.612347  0.254000  5.877626   \n",
       "18  PSZ2 G134.59+53.38  177.796884  62.357755  0.345200  4.454914   \n",
       "19  PSZ2 G134.70+48.91  173.308549  66.386939  0.116000  3.404457   \n",
       "20  PSZ2 G135.06+54.39  178.090318  61.319064  0.316900  5.405140   \n",
       "21  PSZ2 G135.17+65.43  184.820480  50.921678  0.543612  6.005507   \n",
       "22  PSZ2 G135.19+57.88  180.538694  58.059284  0.103100  2.214468   \n",
       "23  PSZ2 G136.92+59.46  180.085172  56.252360  0.065000  1.808754   \n",
       "24  PSZ2 G139.18+56.37  175.592840  58.522664  0.322000  6.867679   \n",
       "25  PSZ2 G143.26+65.24  179.842653  49.774169  0.363353  7.649124   \n",
       "26  PSZ2 G143.44+53.66  168.748870  59.451251  0.366351  5.308710   \n",
       "27  PSZ2 G144.33+62.85  177.306154  51.608566  0.132000  2.657646   \n",
       "28  PSZ2 G145.65+59.30  173.151403  54.210209  0.347477  4.731703   \n",
       "29  PSZ2 G147.88+53.24  164.392373  58.018728  0.600000  6.468580   \n",
       "30  PSZ2 G148.36+75.23  184.618527  40.221117  0.303800  4.752996   \n",
       "31  PSZ2 G149.22+54.18  164.603933  56.792620  0.136900  5.865067   \n",
       "32  PSZ2 G150.56+58.32  168.795240  53.327539  0.470000  7.552688   \n",
       "33  PSZ2 G152.33+81.28  187.669869  34.628968  0.333100  5.358087   \n",
       "34  PSZ2 G155.80+70.40  178.483302  42.859962  0.333145  4.419779   \n",
       "35  PSZ2 G156.26+59.64  167.102360  50.281112  0.587747  6.767759   \n",
       "36  PSZ2 G157.63+78.02  184.387154  36.716732  0.377025  5.557393   \n",
       "37  PSZ2 G160.83+81.66  186.725013  33.570327  0.888000  5.700541   \n",
       "38  PSZ2 G165.46+66.15  170.918568  43.013504  0.195700  3.699136   \n",
       "39  PSZ2 G168.33+69.73  174.050544  40.103212  0.288000  4.792877   \n",
       "40  PSZ2 G170.26+73.90  178.016731  37.253657  0.164800  3.123689   \n",
       "41  PSZ2 G172.74+65.30  167.902884  40.857353  0.079400  2.453959   \n",
       "\n",
       "            MCXC             RedMAPPer  \n",
       "0   J1335.3+4059  RMJ133520.1+410004.1  \n",
       "1   J1351.7+4622  RMJ135141.9+462200.2  \n",
       "2   J1311.1+3913  RMJ131124.0+391642.2  \n",
       "3                 RMJ133029.5+490847.9  \n",
       "4   J1332.7+5032  RMJ133238.4+503336.0  \n",
       "5   J1313.1+4616  RMJ131258.0+461530.3  \n",
       "6                 RMJ132511.2+573601.6  \n",
       "7   J1315.1+5149  RMJ131505.2+514902.8  \n",
       "8   J1325.8+5919  RMJ132549.7+591949.0  \n",
       "9   J1306.9+4633  RMJ130645.7+463330.8  \n",
       "10                RMJ130122.0+481545.0  \n",
       "11  J1303.0+5756  RMJ130255.3+575525.4  \n",
       "12                RMJ125941.5+600305.5  \n",
       "13                RMJ125443.6+623347.1  \n",
       "14                RMJ124930.9+494902.3  \n",
       "15  J1236.9+6311  RMJ123658.6+631114.1  \n",
       "16                RMJ114649.1+650506.8  \n",
       "17  J1229.0+4737  RMJ122902.5+473720.6  \n",
       "18                RMJ115049.1+621948.4  \n",
       "19  J1133.2+6622  RMJ113314.7+662246.3  \n",
       "20                                      \n",
       "21                RMJ121912.2+505435.3  \n",
       "22  J1201.9+5802  RMJ120203.8+580208.2  \n",
       "23  J1200.3+5613  RMJ120013.9+561502.4  \n",
       "24  J1142.5+5832  RMJ114224.8+583205.6  \n",
       "25  J1159.2+4947  RMJ115914.9+494748.4  \n",
       "26                RMJ111456.8+592649.3  \n",
       "27  J1149.0+5135  RMJ114852.3+513308.0  \n",
       "28                RMJ113241.9+541310.4  \n",
       "29                RMJ105731.0+575945.8  \n",
       "30  J1218.4+4013  RMJ121826.4+401328.8  \n",
       "31  J1058.4+5647  RMJ105823.7+564742.0  \n",
       "32                RMJ111514.8+531954.6  \n",
       "33  J1230.7+3439  RMJ123030.5+343801.4  \n",
       "34                RMJ115353.2+425213.2  \n",
       "35                RMJ110830.0+501602.9  \n",
       "36                RMJ121731.2+364111.3  \n",
       "37  J1226.9+3332                        \n",
       "38                RMJ112337.7+430328.0  \n",
       "39                RMJ113613.0+400235.8  \n",
       "40                                      \n",
       "41  J1111.6+4050  RMJ111143.6+404914.7  "
      ]
     },
     "execution_count": 29,
     "metadata": {},
     "output_type": "execute_result"
    }
   ],
   "source": [
    "clusters_in_pix('/home/rt2122/Data/clusters/planck_z.csv', 7, 2)"
   ]
  },
  {
   "cell_type": "code",
   "execution_count": 30,
   "metadata": {
    "ExecuteTime": {
     "end_time": "2020-09-05T20:03:37.431069Z",
     "start_time": "2020-09-05T20:03:37.420072Z"
    }
   },
   "outputs": [],
   "source": [
    "df = pd.read_csv('/home/rt2122/Data/clusters/planck_z.csv')"
   ]
  },
  {
   "cell_type": "code",
   "execution_count": 34,
   "metadata": {
    "ExecuteTime": {
     "end_time": "2020-09-05T20:06:05.131266Z",
     "start_time": "2020-09-05T20:06:05.059341Z"
    }
   },
   "outputs": [
    {
     "data": {
      "text/plain": [
       "40"
      ]
     },
     "execution_count": 34,
     "metadata": {},
     "output_type": "execute_result"
    }
   ],
   "source": [
    "sc = SkyCoord(ra=df['RA']*u.degree, dec=df['DEC']*u.degree, frame='icrs')\n",
    "theta = sc.galactic.l.degree\n",
    "phi = sc.galactic.b.degree\n",
    "pix = hp.ang2pix(nside=2, theta=theta, phi=phi, lonlat=True, nest=True)\n",
    "np.count_nonzero(pix==6)"
   ]
  },
  {
   "cell_type": "code",
   "execution_count": 35,
   "metadata": {
    "ExecuteTime": {
     "end_time": "2020-09-05T20:07:15.329403Z",
     "start_time": "2020-09-05T20:07:15.323089Z"
    }
   },
   "outputs": [
    {
     "data": {
      "text/plain": [
       "(112.49999999999999, 41.81031489577859)"
      ]
     },
     "execution_count": 35,
     "metadata": {},
     "output_type": "execute_result"
    }
   ],
   "source": [
    "pix = 6\n",
    "theta, phi = hp.pix2ang(nside=2, ipix=pix, lonlat=True, nest=True)\n",
    "theta, phi"
   ]
  },
  {
   "cell_type": "code",
   "execution_count": null,
   "metadata": {},
   "outputs": [],
   "source": []
  }
 ],
 "metadata": {
  "kernelspec": {
   "display_name": "Python 3",
   "language": "python",
   "name": "python3"
  },
  "language_info": {
   "codemirror_mode": {
    "name": "ipython",
    "version": 3
   },
   "file_extension": ".py",
   "mimetype": "text/x-python",
   "name": "python",
   "nbconvert_exporter": "python",
   "pygments_lexer": "ipython3",
   "version": "3.8.3"
  }
 },
 "nbformat": 4,
 "nbformat_minor": 4
}
