{
 "cells": [
  {
   "cell_type": "code",
   "execution_count": 24,
   "metadata": {
    "ExecuteTime": {
     "end_time": "2021-07-01T14:12:01.665172Z",
     "start_time": "2021-07-01T14:12:01.652697Z"
    }
   },
   "outputs": [],
   "source": [
    "import pandas as pd\n",
    "import numpy as np\n",
    "from DS_healpix_fragmentation import radec2pix\n",
    "from DS_Planck_Unet import east_val, west_val, train_pix, train_pix_act\n",
    "from DS_models_stat import cut_cat\n",
    "from DS_data_transformation import dif_cats\n",
    "\n",
    "from astropy.coordinates import SkyCoord\n",
    "from astropy import units as u"
   ]
  },
  {
   "cell_type": "code",
   "execution_count": 27,
   "metadata": {
    "ExecuteTime": {
     "end_time": "2021-07-01T14:13:54.737923Z",
     "start_time": "2021-07-01T14:13:54.705284Z"
    }
   },
   "outputs": [],
   "source": [
    "#df = pd.read_csv('/home/rt2122/Data/gen_cats/gen_all_found_brcat_prec0.00.csv')\n",
    "#df = df[df['mpp'] >= 0.88]\n",
    "#df = pd.read_csv('/home/rt2122/Data/detected_cats/full_pz_all_found34_thr0.1_step8_no_fn.csv')\n",
    "#df = df[df['max_pred'] >= 0.65]\n",
    "#df = pd.read_csv('/home/rt2122/Data/original_catalogs/csv/PSZ2.csv')\n",
    "pz = pd.read_csv('/home/rt2122/Data/clusters/planck_z.csv')\n",
    "act = pd.read_csv('/home/rt2122/Data/original_catalogs/csv/ACT.csv')\n",
    "mcxc = pd.read_csv('/home/rt2122/Data/original_catalogs/csv/MCXC.csv')\n",
    "df = dif_cats(mcxc, pz)\n",
    "df = dif_cats(df, act)"
   ]
  },
  {
   "cell_type": "code",
   "execution_count": 28,
   "metadata": {
    "ExecuteTime": {
     "end_time": "2021-07-01T14:13:55.330495Z",
     "start_time": "2021-07-01T14:13:55.171994Z"
    }
   },
   "outputs": [
    {
     "name": "stdout",
     "output_type": "stream",
     "text": [
      "1097\n",
      "val 60\n",
      "9 23\n",
      "41 37\n",
      "\n",
      "test 82\n",
      "38 33\n",
      "6 49\n",
      "\n",
      "ru erosita 591\n",
      "extragalactic 1019\n"
     ]
    }
   ],
   "source": [
    "print(len(df))\n",
    "print('val', len(cut_cat(df, big_pix=[9, 41])))\n",
    "print('9', len(cut_cat(df, big_pix=[9])))\n",
    "print('41', len(cut_cat(df, big_pix=[41])))\n",
    "print()\n",
    "print('test', len(cut_cat(df, big_pix=[38, 6])))\n",
    "print('38', len(cut_cat(df, big_pix=[38])))\n",
    "print('6', len(cut_cat(df, big_pix=[6])))\n",
    "print()\n",
    "print('ru erosita', len(cut_cat(df, dict_cut={'l' : [0, 180], 'b' : [20, np.inf]})))\n",
    "print('extragalactic', len(cut_cat(df, dict_cut={'b' : [20, np.inf]})))"
   ]
  },
  {
   "cell_type": "code",
   "execution_count": null,
   "metadata": {},
   "outputs": [],
   "source": []
  }
 ],
 "metadata": {
  "kernelspec": {
   "display_name": "Python 3",
   "language": "python",
   "name": "python3"
  },
  "language_info": {
   "codemirror_mode": {
    "name": "ipython",
    "version": 3
   },
   "file_extension": ".py",
   "mimetype": "text/x-python",
   "name": "python",
   "nbconvert_exporter": "python",
   "pygments_lexer": "ipython3",
   "version": "3.8.3"
  }
 },
 "nbformat": 4,
 "nbformat_minor": 4
}
