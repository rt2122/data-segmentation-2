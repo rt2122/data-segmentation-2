{
 "cells": [
  {
   "cell_type": "code",
   "execution_count": 8,
   "metadata": {
    "ExecuteTime": {
     "end_time": "2021-06-01T11:33:46.449227Z",
     "start_time": "2021-06-01T11:33:46.439165Z"
    }
   },
   "outputs": [],
   "source": [
    "import pandas as pd\n",
    "import numpy as np\n",
    "from DS_healpix_fragmentation import radec2pix\n",
    "from DS_Planck_Unet import east_val, west_val"
   ]
  },
  {
   "cell_type": "code",
   "execution_count": 50,
   "metadata": {
    "ExecuteTime": {
     "end_time": "2021-06-01T12:07:19.199772Z",
     "start_time": "2021-06-01T12:07:18.924352Z"
    }
   },
   "outputs": [],
   "source": [
    "df = pd.read_csv('/home/rt2122/Data/detected_cats/full_pz_all_found34_thr0.1_step8_no_fn.csv')\n",
    "pz = pd.read_csv('/home/rt2122/Data/clusters/planck_z.csv')\n",
    "df['pix2'] = radec2pix(df['RA'], df['DEC'], 2) \n",
    "df = df[np.in1d(df['pix2'], [41])]\n",
    "pz['pix2'] = radec2pix(pz['RA'], pz['DEC'], 2) \n",
    "pz = pz[np.in1d(pz['pix2'], [41])]"
   ]
  },
  {
   "cell_type": "code",
   "execution_count": 38,
   "metadata": {
    "ExecuteTime": {
     "end_time": "2021-06-01T11:59:22.847274Z",
     "start_time": "2021-06-01T11:59:22.830882Z"
    }
   },
   "outputs": [],
   "source": [
    "df_cut = df[df['max_pred'] >= 0.7]"
   ]
  },
  {
   "cell_type": "code",
   "execution_count": 39,
   "metadata": {
    "ExecuteTime": {
     "end_time": "2021-06-01T11:59:23.231102Z",
     "start_time": "2021-06-01T11:59:23.207885Z"
    }
   },
   "outputs": [
    {
     "data": {
      "text/plain": [
       "60"
      ]
     },
     "execution_count": 39,
     "metadata": {},
     "output_type": "execute_result"
    }
   ],
   "source": [
    "len(df_cut)"
   ]
  },
  {
   "cell_type": "code",
   "execution_count": 40,
   "metadata": {
    "ExecuteTime": {
     "end_time": "2021-06-01T11:59:23.779628Z",
     "start_time": "2021-06-01T11:59:23.754914Z"
    }
   },
   "outputs": [
    {
     "data": {
      "text/plain": [
       "0.7547169811320755"
      ]
     },
     "execution_count": 40,
     "metadata": {},
     "output_type": "execute_result"
    }
   ],
   "source": [
    "np.count_nonzero(df_cut['catalog'] == 'planck_z') / len(pz)"
   ]
  },
  {
   "cell_type": "code",
   "execution_count": 41,
   "metadata": {
    "ExecuteTime": {
     "end_time": "2021-06-01T11:59:24.211526Z",
     "start_time": "2021-06-01T11:59:24.189536Z"
    }
   },
   "outputs": [
    {
     "data": {
      "text/plain": [
       "0.8"
      ]
     },
     "execution_count": 41,
     "metadata": {},
     "output_type": "execute_result"
    }
   ],
   "source": [
    "np.count_nonzero(df_cut['status'] == 'tp') / len(df_cut)"
   ]
  },
  {
   "cell_type": "code",
   "execution_count": 42,
   "metadata": {
    "ExecuteTime": {
     "end_time": "2021-06-01T11:59:24.604814Z",
     "start_time": "2021-06-01T11:59:24.586818Z"
    }
   },
   "outputs": [
    {
     "data": {
      "text/plain": [
       "0.6666666666666666"
      ]
     },
     "execution_count": 42,
     "metadata": {},
     "output_type": "execute_result"
    }
   ],
   "source": [
    "np.count_nonzero(df_cut['catalog'] == 'planck_z') / len(df_cut)"
   ]
  },
  {
   "cell_type": "code",
   "execution_count": 43,
   "metadata": {
    "ExecuteTime": {
     "end_time": "2021-06-01T11:59:25.008388Z",
     "start_time": "2021-06-01T11:59:24.984270Z"
    }
   },
   "outputs": [
    {
     "data": {
      "text/plain": [
       "0.8333333333333334"
      ]
     },
     "execution_count": 43,
     "metadata": {},
     "output_type": "execute_result"
    }
   ],
   "source": [
    "np.count_nonzero(df_cut['catalog'] == 'planck_z') / np.count_nonzero(df_cut['status'] == 'tp')"
   ]
  },
  {
   "cell_type": "code",
   "execution_count": 44,
   "metadata": {
    "ExecuteTime": {
     "end_time": "2021-06-01T11:59:25.522182Z",
     "start_time": "2021-06-01T11:59:25.488310Z"
    }
   },
   "outputs": [
    {
     "data": {
      "text/plain": [
       "(0.020833333333333332, 0.125)"
      ]
     },
     "execution_count": 44,
     "metadata": {},
     "output_type": "execute_result"
    }
   ],
   "source": [
    "np.count_nonzero(df_cut['catalog'] == 'mcxcwp') / np.count_nonzero(df_cut['status'] == 'tp'), np.count_nonzero(df_cut['catalog'] == 'actwp') / np.count_nonzero(df_cut['status'] == 'tp')"
   ]
  },
  {
   "cell_type": "code",
   "execution_count": 36,
   "metadata": {
    "ExecuteTime": {
     "end_time": "2021-06-01T11:57:34.907238Z",
     "start_time": "2021-06-01T11:57:34.893868Z"
    }
   },
   "outputs": [
    {
     "data": {
      "text/plain": [
       "{'actwp', 'mcxcwp', nan, 'planck_no_z', 'planck_z'}"
      ]
     },
     "execution_count": 36,
     "metadata": {},
     "output_type": "execute_result"
    }
   ],
   "source": [
    "set(df['catalog'])"
   ]
  },
  {
   "cell_type": "code",
   "execution_count": 45,
   "metadata": {
    "ExecuteTime": {
     "end_time": "2021-06-01T12:05:31.660857Z",
     "start_time": "2021-06-01T12:05:31.621841Z"
    }
   },
   "outputs": [],
   "source": [
    "all_found = pd.read_csv('/home/rt2122/Data/clusters/acts/all_found.csv')"
   ]
  },
  {
   "cell_type": "code",
   "execution_count": 51,
   "metadata": {
    "ExecuteTime": {
     "end_time": "2021-06-01T12:07:22.465928Z",
     "start_time": "2021-06-01T12:07:22.452123Z"
    }
   },
   "outputs": [
    {
     "data": {
      "text/plain": [
       "0.46692274861288946"
      ]
     },
     "execution_count": 51,
     "metadata": {},
     "output_type": "execute_result"
    }
   ],
   "source": [
    "len(pz)/ (len(all_found) + len(pz))"
   ]
  },
  {
   "cell_type": "code",
   "execution_count": 49,
   "metadata": {
    "ExecuteTime": {
     "end_time": "2021-06-01T12:07:01.221540Z",
     "start_time": "2021-06-01T12:07:01.207347Z"
    }
   },
   "outputs": [
    {
     "data": {
      "text/plain": [
       "1249"
      ]
     },
     "execution_count": 49,
     "metadata": {},
     "output_type": "execute_result"
    }
   ],
   "source": [
    "len(all_found)"
   ]
  },
  {
   "cell_type": "code",
   "execution_count": null,
   "metadata": {},
   "outputs": [],
   "source": []
  }
 ],
 "metadata": {
  "kernelspec": {
   "display_name": "Python 3",
   "language": "python",
   "name": "python3"
  },
  "language_info": {
   "codemirror_mode": {
    "name": "ipython",
    "version": 3
   },
   "file_extension": ".py",
   "mimetype": "text/x-python",
   "name": "python",
   "nbconvert_exporter": "python",
   "pygments_lexer": "ipython3",
   "version": "3.8.3"
  }
 },
 "nbformat": 4,
 "nbformat_minor": 4
}
