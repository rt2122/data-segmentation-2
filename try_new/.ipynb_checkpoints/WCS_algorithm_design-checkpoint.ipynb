{
 "cells": [
  {
   "cell_type": "code",
   "execution_count": 1,
   "metadata": {},
   "outputs": [],
   "source": [
    "from astropy.io import fits\n",
    "from astropy.wcs import WCS\n",
    "from astropy.coordinates import SkyCoord\n",
    "from astropy import units as u\n",
    "import numpy as np\n",
    "from tqdm.notebook import tqdm\n",
    "from matplotlib import pyplot as plt\n",
    "from skimage.filters import gaussian\n",
    "from skimage.draw import circle"
   ]
  },
  {
   "cell_type": "code",
   "execution_count": 22,
   "metadata": {},
   "outputs": [],
   "source": [
    "def find_nearest_tile(ra, dec):\n",
    "    sc = SkyCoord(ra=ra*u.degree, dec=dec*u.degree, frame='icrs')\n",
    "    line = None\n",
    "    \n",
    "    with fits.open('/home/rt2122/Data/fulldepth_neo4_index.fits') as hdul:\n",
    "        sc1 = SkyCoord(ra=hdul[1].data['RA']*u.degree, \n",
    "                       dec=hdul[1].data['DEC']*u.degree)\n",
    "        idx = np.argmin(sc.separation(sc1).degree)\n",
    "        line = hdul[1].data[idx]\n",
    "    \n",
    "    w = WCS(naxis=2)\n",
    "    w.wcs.cd = line['CD']\n",
    "    w.wcs.cdelt = line['CDELT']\n",
    "    w.wcs.crpix = line['CRPIX']\n",
    "    w.wcs.crval = line['CRVAL']\n",
    "    w.wcs.ctype = ['RA---TAN', 'DEC--TAN']\n",
    "    w.wcs.lonpole = line['LONGPOLE']\n",
    "    w.wcs.latpole = line['LATPOLE']\n",
    "    w.wcs.set_pv([(0, 0, 0)])\n",
    "    w.array_shape = (2048, 2048)\n",
    "    return w"
   ]
  },
  {
   "cell_type": "code",
   "execution_count": 5,
   "metadata": {},
   "outputs": [
    {
     "data": {
      "text/plain": [
       "19926"
      ]
     },
     "execution_count": 5,
     "metadata": {},
     "output_type": "execute_result"
    }
   ],
   "source": [
    "find_nearest_tile(ra=194.9493, dec=28.0122)[0]"
   ]
  },
  {
   "cell_type": "code",
   "execution_count": 21,
   "metadata": {},
   "outputs": [],
   "source": [
    "def custom_wcs(ra, dec):\n",
    "    cutout_url = 'https://www.legacysurvey.org/viewer/cutout.fits?ra={:.4f}&dec={:.4f}&layer=sdss2&pixscale=4.00'\n",
    "    w = None\n",
    "    with fits.open(cutout_url.format(ra, dec)) as hdul:\n",
    "         w = WCS(hdul[0].header)\n",
    "    return w"
   ]
  },
  {
   "cell_type": "code",
   "execution_count": 6,
   "metadata": {},
   "outputs": [],
   "source": [
    "hdul = fits.open('https://www.legacysurvey.org/viewer/cutout.fits?ra=194.9438&dec=28.0037&layer=sdss2&pixscale=4.00')"
   ]
  },
  {
   "cell_type": "code",
   "execution_count": 11,
   "metadata": {},
   "outputs": [
    {
     "data": {
      "text/plain": [
       "<matplotlib.image.AxesImage at 0x7f78f52cab20>"
      ]
     },
     "execution_count": 11,
     "metadata": {},
     "output_type": "execute_result"
    },
    {
     "data": {
      "image/png": "[encoded data removed]",
      "text/plain": [
       "<Figure size 432x288 with 1 Axes>"
      ]
     },
     "metadata": {
      "needs_background": "light"
     },
     "output_type": "display_data"
    }
   ],
   "source": [
    "plt.imshow(hdul[0].data[2])"
   ]
  },
  {
   "cell_type": "code",
   "execution_count": 20,
   "metadata": {},
   "outputs": [
    {
     "data": {
      "text/plain": [
       "'https://www.legacysurvey.org/viewer/cutout.fits?ra=1.0000&dec=2.0000&layer=sdss2&pixscale=4.00'"
      ]
     },
     "execution_count": 20,
     "metadata": {},
     "output_type": "execute_result"
    }
   ],
   "source": [
    "'https://www.legacysurvey.org/viewer/cutout.fits?ra={:.4f}&dec={:.4f}&layer=sdss2&pixscale=4.00'.format(1., 2.)"
   ]
  },
  {
   "cell_type": "code",
   "execution_count": 23,
   "metadata": {},
   "outputs": [],
   "source": [
    "def ra_dec2pixels(ra_center, dec_center, ra, dec, custom=True):\n",
    "    if not custom:\n",
    "        w = find_nearest_tile(ra_center, dec_center)\n",
    "        return np.array(w.all_world2pix(ra, dec, 0))\n",
    "    w = custom_wcs(ra_center, dec_center)\n",
    "    return np.array(wnew.all_world2pix(ra, dec, np.zeros((ra.shape)), 0)) * 2048 / 256"
   ]
  },
  {
   "cell_type": "code",
   "execution_count": 24,
   "metadata": {},
   "outputs": [],
   "source": [
    "def draw_data(arr, channels_data, pixels, func=max):\n",
    "    for i in range(pixels.shape[0]):\n",
    "        pixel = pixels[i]\n",
    "        if pixel[0] >= 0 and pixel[1] >= 0 and \\\n",
    "            pixel[0] < arr.shape[0] and pixel[1] < arr.shape[1]:\n",
    "            for j, ch in enumerate(channels_data):\n",
    "                arr[pixel[0], pixel[1], j] = func(arr[pixel[0], pixel[1], j], ch[i])"
   ]
  },
  {
   "cell_type": "code",
   "execution_count": 25,
   "metadata": {},
   "outputs": [],
   "source": [
    "def show_pic(pic, projection=None, label = 'label', figsize=(10, 10), vmin=0, vmax=1):\n",
    "    fig= plt.figure(figsize=figsize)\n",
    "    ax= fig.add_axes([0.1,0.1,0.8,0.8], projection=projection)\n",
    "    plt.xlabel(label)\n",
    "\n",
    "    im = ax.imshow(pic, cmap=plt.get_cmap('viridis'), \n",
    "                   interpolation='nearest', vmin=vmin, vmax=vmax)"
   ]
  },
  {
   "cell_type": "code",
   "execution_count": null,
   "metadata": {},
   "outputs": [],
   "source": []
  }
 ],
 "metadata": {
  "kernelspec": {
   "display_name": "Python 3",
   "language": "python",
   "name": "python3"
  },
  "language_info": {
   "codemirror_mode": {
    "name": "ipython",
    "version": 3
   },
   "file_extension": ".py",
   "mimetype": "text/x-python",
   "name": "python",
   "nbconvert_exporter": "python",
   "pygments_lexer": "ipython3",
   "version": "3.8.3"
  }
 },
 "nbformat": 4,
 "nbformat_minor": 4
}
