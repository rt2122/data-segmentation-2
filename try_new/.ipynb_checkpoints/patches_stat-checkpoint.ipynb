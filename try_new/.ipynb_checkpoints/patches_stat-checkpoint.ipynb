{
 "cells": [
  {
   "cell_type": "code",
   "execution_count": 1,
   "metadata": {
    "ExecuteTime": {
     "end_time": "2021-03-18T09:25:49.269980Z",
     "start_time": "2021-03-18T09:25:35.800902Z"
    }
   },
   "outputs": [],
   "source": [
    "import numpy as np\n",
    "import pandas as pd\n",
    "from tqdm.notebook import tqdm\n",
    "import seaborn as sns\n",
    "from matplotlib import pyplot as plt\n",
    "from matplotlib import cm\n",
    "from matplotlib.ticker import LinearLocator"
   ]
  },
  {
   "cell_type": "code",
   "execution_count": 2,
   "metadata": {
    "ExecuteTime": {
     "end_time": "2021-03-18T09:25:49.276102Z",
     "start_time": "2021-03-18T09:25:49.272002Z"
    }
   },
   "outputs": [],
   "source": [
    "patches = {'pz_only' : '/home/rt2122/Data/Planck/coords/pz_only_patches.csv', \n",
    "          'act_erosita' : '/home/rt2122/Data/Planck/coords/act_erosita_patches.csv',\n",
    "          'pz_act_jan' : '/home/rt2122/Data/Planck/coords/pz_act_jan_patches.csv',\n",
    "          'pz_act_found' : '/home/rt2122/Data/Planck/coords/pz_act_found_patches.csv',\n",
    "          'pz_all_found' : '/home/rt2122/Data/Planck/coords/pz_all_found_patches.csv'}"
   ]
  },
  {
   "cell_type": "code",
   "execution_count": 3,
   "metadata": {
    "ExecuteTime": {
     "end_time": "2021-03-18T09:25:50.385383Z",
     "start_time": "2021-03-18T09:25:49.279914Z"
    }
   },
   "outputs": [
    {
     "data": {
      "text/html": [
       "<div>\n",
       "<style scoped>\n",
       "    .dataframe tbody tr th:only-of-type {\n",
       "        vertical-align: middle;\n",
       "    }\n",
       "\n",
       "    .dataframe tbody tr th {\n",
       "        vertical-align: top;\n",
       "    }\n",
       "\n",
       "    .dataframe thead th {\n",
       "        text-align: right;\n",
       "    }\n",
       "</style>\n",
       "<table border=\"1\" class=\"dataframe\">\n",
       "  <thead>\n",
       "    <tr style=\"text-align: right;\">\n",
       "      <th></th>\n",
       "      <th>x</th>\n",
       "      <th>y</th>\n",
       "      <th>pix</th>\n",
       "    </tr>\n",
       "  </thead>\n",
       "  <tbody>\n",
       "    <tr>\n",
       "      <th>0</th>\n",
       "      <td>720</td>\n",
       "      <td>438</td>\n",
       "      <td>0</td>\n",
       "    </tr>\n",
       "    <tr>\n",
       "      <th>1</th>\n",
       "      <td>780</td>\n",
       "      <td>489</td>\n",
       "      <td>0</td>\n",
       "    </tr>\n",
       "    <tr>\n",
       "      <th>2</th>\n",
       "      <td>491</td>\n",
       "      <td>386</td>\n",
       "      <td>0</td>\n",
       "    </tr>\n",
       "    <tr>\n",
       "      <th>3</th>\n",
       "      <td>59</td>\n",
       "      <td>729</td>\n",
       "      <td>0</td>\n",
       "    </tr>\n",
       "    <tr>\n",
       "      <th>4</th>\n",
       "      <td>647</td>\n",
       "      <td>899</td>\n",
       "      <td>0</td>\n",
       "    </tr>\n",
       "    <tr>\n",
       "      <th>...</th>\n",
       "      <td>...</td>\n",
       "      <td>...</td>\n",
       "      <td>...</td>\n",
       "    </tr>\n",
       "    <tr>\n",
       "      <th>3665328</th>\n",
       "      <td>570</td>\n",
       "      <td>494</td>\n",
       "      <td>47</td>\n",
       "    </tr>\n",
       "    <tr>\n",
       "      <th>3665329</th>\n",
       "      <td>262</td>\n",
       "      <td>149</td>\n",
       "      <td>47</td>\n",
       "    </tr>\n",
       "    <tr>\n",
       "      <th>3665330</th>\n",
       "      <td>368</td>\n",
       "      <td>545</td>\n",
       "      <td>47</td>\n",
       "    </tr>\n",
       "    <tr>\n",
       "      <th>3665331</th>\n",
       "      <td>74</td>\n",
       "      <td>98</td>\n",
       "      <td>47</td>\n",
       "    </tr>\n",
       "    <tr>\n",
       "      <th>3665332</th>\n",
       "      <td>473</td>\n",
       "      <td>561</td>\n",
       "      <td>47</td>\n",
       "    </tr>\n",
       "  </tbody>\n",
       "</table>\n",
       "<p>3665333 rows × 3 columns</p>\n",
       "</div>"
      ],
      "text/plain": [
       "           x    y  pix\n",
       "0        720  438    0\n",
       "1        780  489    0\n",
       "2        491  386    0\n",
       "3         59  729    0\n",
       "4        647  899    0\n",
       "...      ...  ...  ...\n",
       "3665328  570  494   47\n",
       "3665329  262  149   47\n",
       "3665330  368  545   47\n",
       "3665331   74   98   47\n",
       "3665332  473  561   47\n",
       "\n",
       "[3665333 rows x 3 columns]"
      ]
     },
     "execution_count": 3,
     "metadata": {},
     "output_type": "execute_result"
    }
   ],
   "source": [
    "pd.read_csv(patches['pz_only'])"
   ]
  },
  {
   "cell_type": "code",
   "execution_count": 4,
   "metadata": {
    "ExecuteTime": {
     "end_time": "2021-03-18T09:25:50.394670Z",
     "start_time": "2021-03-18T09:25:50.388208Z"
    }
   },
   "outputs": [],
   "source": [
    "def patches_df_get_ra_dec(df):\n",
    "    from DS_healpix_fragmentation import one_pixel_fragmentation, pix2radec\n",
    "    df['pix11'] = 0\n",
    "    for i in tqdm(range(48)):\n",
    "        matr = one_pixel_fragmentation(2, i, 10)\n",
    "        x = df[df['pix'] == i]['x']\n",
    "        y = df[df['pix'] == i]['y']\n",
    "        df['pix11'].loc[df['pix'] == i] = matr[x, y]\n",
    "    df['RA'], df['DEC'] = pix2radec(df['pix11'], 2**11)\n",
    "    return df"
   ]
  },
  {
   "cell_type": "code",
   "execution_count": 5,
   "metadata": {
    "ExecuteTime": {
     "end_time": "2021-03-18T09:25:50.498922Z",
     "start_time": "2021-03-18T09:25:50.396202Z"
    }
   },
   "outputs": [],
   "source": [
    "def stat_patches_file(file_name, true_cats_dir='/home/rt2122/Data/original_catalogs/csv/'):\n",
    "    import os\n",
    "    import numpy as np\n",
    "    import pandas as pd\n",
    "    from DS_healpix_fragmentation import pix2radec\n",
    "    from astropy.coordinates import SkyCoord\n",
    "    from astropy import units as u\n",
    "    \n",
    "    df = pd.read_csv(file_name)\n",
    "    df['x'] += 32\n",
    "    df['y'] += 32\n",
    "    df = patches_df_get_ra_dec(df)\n",
    "    line = {}\n",
    "    line['number of patches'] = len(df)\n",
    "    \n",
    "    df_sc = SkyCoord(ra=np.array(df['RA'])*u.degree, dec=np.array(df['DEC'])*u.degree, frame='icrs')\n",
    "    \n",
    "    true_cats_files = next(os.walk(true_cats_dir))[-1]\n",
    "    true_cats_files = [os.path.join(true_cats_dir, file) for file in true_cats_files]\n",
    "    \n",
    "    true_cats = {os.path.splitext(os.path.basename(file))[0] : pd.read_csv(file) for file in true_cats_files}\n",
    "    \n",
    "    for tr_name in true_cats:\n",
    "        tr = true_cats[tr_name]\n",
    "        tr_sc = SkyCoord(ra=np.array(tr['RA'])*u.degree, dec=np.array(tr['DEC'])*u.degree, frame='icrs')\n",
    "        \n",
    "        _, d2d, _ = df_sc.match_to_catalog_sky(tr_sc)\n",
    "        line[tr_name + ' count'] = np.count_nonzero(d2d.degree < 1.83)\n",
    "    return line"
   ]
  },
  {
   "cell_type": "code",
   "execution_count": 6,
   "metadata": {
    "ExecuteTime": {
     "end_time": "2021-03-16T14:20:41.718505Z",
     "start_time": "2021-03-16T14:20:41.710365Z"
    }
   },
   "outputs": [
    {
     "data": {
      "text/plain": [
       "(array([[1, 2, 3],\n",
       "        [4, 5, 6],\n",
       "        [1, 5, 6]]),\n",
       " array([4, 1, 3]))"
      ]
     },
     "execution_count": 6,
     "metadata": {},
     "output_type": "execute_result"
    }
   ],
   "source": [
    "a = np.array([[1, 2, 3], [4, 5, 6], [1, 5, 6]])\n",
    "x = [1, 2, 0]\n",
    "y = [0, 0, 2]\n",
    "a, a[x, y]"
   ]
  },
  {
   "cell_type": "code",
   "execution_count": 8,
   "metadata": {
    "ExecuteTime": {
     "end_time": "2021-03-16T14:22:35.102679Z",
     "start_time": "2021-03-16T14:22:34.704854Z"
    }
   },
   "outputs": [],
   "source": [
    "df = pd.read_csv(patches['pz_only'])"
   ]
  },
  {
   "cell_type": "code",
   "execution_count": 16,
   "metadata": {
    "ExecuteTime": {
     "end_time": "2021-03-16T14:28:38.641493Z",
     "start_time": "2021-03-16T14:28:34.695133Z"
    }
   },
   "outputs": [
    {
     "data": {
      "application/vnd.jupyter.widget-view+json": {
       "model_id": "5cb26ea8b55a46f58b4a68369613c6f4",
       "version_major": 2,
       "version_minor": 0
      },
      "text/plain": [
       "HBox(children=(FloatProgress(value=0.0, max=48.0), HTML(value='')))"
      ]
     },
     "metadata": {},
     "output_type": "display_data"
    },
    {
     "name": "stdout",
     "output_type": "stream",
     "text": [
      "\n"
     ]
    },
    {
     "data": {
      "text/html": [
       "<div>\n",
       "<style scoped>\n",
       "    .dataframe tbody tr th:only-of-type {\n",
       "        vertical-align: middle;\n",
       "    }\n",
       "\n",
       "    .dataframe tbody tr th {\n",
       "        vertical-align: top;\n",
       "    }\n",
       "\n",
       "    .dataframe thead th {\n",
       "        text-align: right;\n",
       "    }\n",
       "</style>\n",
       "<table border=\"1\" class=\"dataframe\">\n",
       "  <thead>\n",
       "    <tr style=\"text-align: right;\">\n",
       "      <th></th>\n",
       "      <th>x</th>\n",
       "      <th>y</th>\n",
       "      <th>pix</th>\n",
       "      <th>pix11</th>\n",
       "    </tr>\n",
       "  </thead>\n",
       "  <tbody>\n",
       "    <tr>\n",
       "      <th>0</th>\n",
       "      <td>720</td>\n",
       "      <td>438</td>\n",
       "      <td>0</td>\n",
       "      <td>648980</td>\n",
       "    </tr>\n",
       "    <tr>\n",
       "      <th>1</th>\n",
       "      <td>780</td>\n",
       "      <td>489</td>\n",
       "      <td>0</td>\n",
       "      <td>742625</td>\n",
       "    </tr>\n",
       "    <tr>\n",
       "      <th>2</th>\n",
       "      <td>491</td>\n",
       "      <td>386</td>\n",
       "      <td>0</td>\n",
       "      <td>256142</td>\n",
       "    </tr>\n",
       "    <tr>\n",
       "      <th>3</th>\n",
       "      <td>59</td>\n",
       "      <td>729</td>\n",
       "      <td>0</td>\n",
       "      <td>285643</td>\n",
       "    </tr>\n",
       "    <tr>\n",
       "      <th>4</th>\n",
       "      <td>647</td>\n",
       "      <td>899</td>\n",
       "      <td>0</td>\n",
       "      <td>901167</td>\n",
       "    </tr>\n",
       "    <tr>\n",
       "      <th>...</th>\n",
       "      <td>...</td>\n",
       "      <td>...</td>\n",
       "      <td>...</td>\n",
       "      <td>...</td>\n",
       "    </tr>\n",
       "    <tr>\n",
       "      <th>3665328</th>\n",
       "      <td>570</td>\n",
       "      <td>494</td>\n",
       "      <td>47</td>\n",
       "      <td>0</td>\n",
       "    </tr>\n",
       "    <tr>\n",
       "      <th>3665329</th>\n",
       "      <td>262</td>\n",
       "      <td>149</td>\n",
       "      <td>47</td>\n",
       "      <td>0</td>\n",
       "    </tr>\n",
       "    <tr>\n",
       "      <th>3665330</th>\n",
       "      <td>368</td>\n",
       "      <td>545</td>\n",
       "      <td>47</td>\n",
       "      <td>0</td>\n",
       "    </tr>\n",
       "    <tr>\n",
       "      <th>3665331</th>\n",
       "      <td>74</td>\n",
       "      <td>98</td>\n",
       "      <td>47</td>\n",
       "      <td>0</td>\n",
       "    </tr>\n",
       "    <tr>\n",
       "      <th>3665332</th>\n",
       "      <td>473</td>\n",
       "      <td>561</td>\n",
       "      <td>47</td>\n",
       "      <td>0</td>\n",
       "    </tr>\n",
       "  </tbody>\n",
       "</table>\n",
       "<p>3665333 rows × 4 columns</p>\n",
       "</div>"
      ],
      "text/plain": [
       "           x    y  pix   pix11\n",
       "0        720  438    0  648980\n",
       "1        780  489    0  742625\n",
       "2        491  386    0  256142\n",
       "3         59  729    0  285643\n",
       "4        647  899    0  901167\n",
       "...      ...  ...  ...     ...\n",
       "3665328  570  494   47       0\n",
       "3665329  262  149   47       0\n",
       "3665330  368  545   47       0\n",
       "3665331   74   98   47       0\n",
       "3665332  473  561   47       0\n",
       "\n",
       "[3665333 rows x 4 columns]"
      ]
     },
     "execution_count": 16,
     "metadata": {},
     "output_type": "execute_result"
    }
   ],
   "source": [
    "patches_df_get_ra_dec(df)"
   ]
  },
  {
   "cell_type": "code",
   "execution_count": 6,
   "metadata": {
    "ExecuteTime": {
     "end_time": "2021-03-18T09:42:59.348107Z",
     "start_time": "2021-03-18T09:25:52.637168Z"
    }
   },
   "outputs": [
    {
     "data": {
      "application/vnd.jupyter.widget-view+json": {
       "model_id": "9e9bd8bfb3b64f22a474b6ff633a2529",
       "version_major": 2,
       "version_minor": 0
      },
      "text/plain": [
       "HBox(children=(FloatProgress(value=0.0, max=48.0), HTML(value='')))"
      ]
     },
     "metadata": {},
     "output_type": "display_data"
    },
    {
     "name": "stdout",
     "output_type": "stream",
     "text": [
      "\n"
     ]
    },
    {
     "data": {
      "application/vnd.jupyter.widget-view+json": {
       "model_id": "73652eb4096e4ef3a39de95a73e79803",
       "version_major": 2,
       "version_minor": 0
      },
      "text/plain": [
       "HBox(children=(FloatProgress(value=0.0, max=48.0), HTML(value='')))"
      ]
     },
     "metadata": {},
     "output_type": "display_data"
    },
    {
     "name": "stdout",
     "output_type": "stream",
     "text": [
      "\n"
     ]
    },
    {
     "data": {
      "application/vnd.jupyter.widget-view+json": {
       "model_id": "e4d38b23b8de48a0ad688285dbc3adb7",
       "version_major": 2,
       "version_minor": 0
      },
      "text/plain": [
       "HBox(children=(FloatProgress(value=0.0, max=48.0), HTML(value='')))"
      ]
     },
     "metadata": {},
     "output_type": "display_data"
    },
    {
     "name": "stdout",
     "output_type": "stream",
     "text": [
      "\n"
     ]
    },
    {
     "data": {
      "application/vnd.jupyter.widget-view+json": {
       "model_id": "7a0bba8096da47f0a37dff84ae25323b",
       "version_major": 2,
       "version_minor": 0
      },
      "text/plain": [
       "HBox(children=(FloatProgress(value=0.0, max=48.0), HTML(value='')))"
      ]
     },
     "metadata": {},
     "output_type": "display_data"
    },
    {
     "name": "stdout",
     "output_type": "stream",
     "text": [
      "\n"
     ]
    },
    {
     "data": {
      "application/vnd.jupyter.widget-view+json": {
       "model_id": "2c2ac5dce084440f89ebe588c15ad158",
       "version_major": 2,
       "version_minor": 0
      },
      "text/plain": [
       "HBox(children=(FloatProgress(value=0.0, max=48.0), HTML(value='')))"
      ]
     },
     "metadata": {},
     "output_type": "display_data"
    },
    {
     "name": "stdout",
     "output_type": "stream",
     "text": [
      "\n"
     ]
    },
    {
     "data": {
      "text/html": [
       "<div>\n",
       "<style scoped>\n",
       "    .dataframe tbody tr th:only-of-type {\n",
       "        vertical-align: middle;\n",
       "    }\n",
       "\n",
       "    .dataframe tbody tr th {\n",
       "        vertical-align: top;\n",
       "    }\n",
       "\n",
       "    .dataframe thead th {\n",
       "        text-align: right;\n",
       "    }\n",
       "</style>\n",
       "<table border=\"1\" class=\"dataframe\">\n",
       "  <thead>\n",
       "    <tr style=\"text-align: right;\">\n",
       "      <th></th>\n",
       "      <th>number of patches</th>\n",
       "      <th>PSZ2 count</th>\n",
       "      <th>MCXC count</th>\n",
       "      <th>RM count</th>\n",
       "      <th>ACT count</th>\n",
       "      <th>Abell count</th>\n",
       "    </tr>\n",
       "  </thead>\n",
       "  <tbody>\n",
       "    <tr>\n",
       "      <th>pz_only</th>\n",
       "      <td>3665333</td>\n",
       "      <td>3665290</td>\n",
       "      <td>2463887</td>\n",
       "      <td>1581862</td>\n",
       "      <td>1625157</td>\n",
       "      <td>2608799</td>\n",
       "    </tr>\n",
       "    <tr>\n",
       "      <th>act_erosita</th>\n",
       "      <td>6948027</td>\n",
       "      <td>2726346</td>\n",
       "      <td>2832677</td>\n",
       "      <td>3613607</td>\n",
       "      <td>6948014</td>\n",
       "      <td>5118436</td>\n",
       "    </tr>\n",
       "    <tr>\n",
       "      <th>pz_act_jan</th>\n",
       "      <td>2440053</td>\n",
       "      <td>1385149</td>\n",
       "      <td>1187728</td>\n",
       "      <td>1176940</td>\n",
       "      <td>1929939</td>\n",
       "      <td>1751454</td>\n",
       "    </tr>\n",
       "    <tr>\n",
       "      <th>pz_act_found</th>\n",
       "      <td>1323071</td>\n",
       "      <td>1030801</td>\n",
       "      <td>764449</td>\n",
       "      <td>603087</td>\n",
       "      <td>813073</td>\n",
       "      <td>952408</td>\n",
       "    </tr>\n",
       "    <tr>\n",
       "      <th>pz_all_found</th>\n",
       "      <td>1865878</td>\n",
       "      <td>1440335</td>\n",
       "      <td>1023350</td>\n",
       "      <td>738879</td>\n",
       "      <td>962807</td>\n",
       "      <td>1239383</td>\n",
       "    </tr>\n",
       "  </tbody>\n",
       "</table>\n",
       "</div>"
      ],
      "text/plain": [
       "              number of patches  PSZ2 count  MCXC count  RM count  ACT count  \\\n",
       "pz_only                 3665333     3665290     2463887   1581862    1625157   \n",
       "act_erosita             6948027     2726346     2832677   3613607    6948014   \n",
       "pz_act_jan              2440053     1385149     1187728   1176940    1929939   \n",
       "pz_act_found            1323071     1030801      764449    603087     813073   \n",
       "pz_all_found            1865878     1440335     1023350    738879     962807   \n",
       "\n",
       "              Abell count  \n",
       "pz_only           2608799  \n",
       "act_erosita       5118436  \n",
       "pz_act_jan        1751454  \n",
       "pz_act_found       952408  \n",
       "pz_all_found      1239383  "
      ]
     },
     "execution_count": 6,
     "metadata": {},
     "output_type": "execute_result"
    }
   ],
   "source": [
    "df = []\n",
    "for name in patches:\n",
    "    df.append(pd.DataFrame(stat_patches_file(patches[name]), index=[name]))\n",
    "df = pd.concat(df)\n",
    "df"
   ]
  },
  {
   "cell_type": "code",
   "execution_count": 7,
   "metadata": {
    "ExecuteTime": {
     "end_time": "2021-03-18T09:43:30.357223Z",
     "start_time": "2021-03-18T09:43:30.340040Z"
    }
   },
   "outputs": [],
   "source": [
    "df.to_csv('/home/rt2122/Data/patches_stat.csv')"
   ]
  },
  {
   "cell_type": "code",
   "execution_count": 8,
   "metadata": {
    "ExecuteTime": {
     "end_time": "2021-03-18T09:43:33.586889Z",
     "start_time": "2021-03-18T09:43:33.574127Z"
    }
   },
   "outputs": [],
   "source": [
    "for name in ['PSZ2', 'MCXC', 'RM', 'ACT', 'Abell']:\n",
    "    df[name + ' coef'] = df[name + ' count'] / df['number of patches']"
   ]
  },
  {
   "cell_type": "code",
   "execution_count": 9,
   "metadata": {
    "ExecuteTime": {
     "end_time": "2021-03-18T09:43:34.175790Z",
     "start_time": "2021-03-18T09:43:34.153296Z"
    }
   },
   "outputs": [],
   "source": [
    "df_coef = df[['number of patches', 'PSZ2 coef',\n",
    " 'MCXC coef',\n",
    " 'RM coef',\n",
    " 'ACT coef',\n",
    " 'Abell coef']]"
   ]
  },
  {
   "cell_type": "code",
   "execution_count": 10,
   "metadata": {
    "ExecuteTime": {
     "end_time": "2021-03-18T09:43:36.661885Z",
     "start_time": "2021-03-18T09:43:34.651466Z"
    }
   },
   "outputs": [
    {
     "data": {
      "text/html": [
       "<style  type=\"text/css\" >\n",
       "    #T_69675b5e_87ce_11eb_bfa5_29dfbfbe8456row0_col0 {\n",
       "            background-color:  #86ca86;\n",
       "            color:  #000000;\n",
       "        }    #T_69675b5e_87ce_11eb_bfa5_29dfbfbe8456row0_col1 {\n",
       "            background-color:  #008000;\n",
       "            color:  #f1f1f1;\n",
       "        }    #T_69675b5e_87ce_11eb_bfa5_29dfbfbe8456row0_col2 {\n",
       "            background-color:  #008000;\n",
       "            color:  #f1f1f1;\n",
       "        }    #T_69675b5e_87ce_11eb_bfa5_29dfbfbe8456row0_col3 {\n",
       "            background-color:  #a4dba4;\n",
       "            color:  #000000;\n",
       "        }    #T_69675b5e_87ce_11eb_bfa5_29dfbfbe8456row0_col4 {\n",
       "            background-color:  #e5ffe5;\n",
       "            color:  #000000;\n",
       "        }    #T_69675b5e_87ce_11eb_bfa5_29dfbfbe8456row0_col5 {\n",
       "            background-color:  #4fac4f;\n",
       "            color:  #000000;\n",
       "        }    #T_69675b5e_87ce_11eb_bfa5_29dfbfbe8456row1_col0 {\n",
       "            background-color:  #008000;\n",
       "            color:  #f1f1f1;\n",
       "        }    #T_69675b5e_87ce_11eb_bfa5_29dfbfbe8456row1_col1 {\n",
       "            background-color:  #e5ffe5;\n",
       "            color:  #000000;\n",
       "        }    #T_69675b5e_87ce_11eb_bfa5_29dfbfbe8456row1_col2 {\n",
       "            background-color:  #e5ffe5;\n",
       "            color:  #000000;\n",
       "        }    #T_69675b5e_87ce_11eb_bfa5_29dfbfbe8456row1_col3 {\n",
       "            background-color:  #008000;\n",
       "            color:  #f1f1f1;\n",
       "        }    #T_69675b5e_87ce_11eb_bfa5_29dfbfbe8456row1_col4 {\n",
       "            background-color:  #008000;\n",
       "            color:  #f1f1f1;\n",
       "        }    #T_69675b5e_87ce_11eb_bfa5_29dfbfbe8456row1_col5 {\n",
       "            background-color:  #008000;\n",
       "            color:  #f1f1f1;\n",
       "        }    #T_69675b5e_87ce_11eb_bfa5_29dfbfbe8456row2_col0 {\n",
       "            background-color:  #b8e6b8;\n",
       "            color:  #000000;\n",
       "        }    #T_69675b5e_87ce_11eb_bfa5_29dfbfbe8456row2_col1 {\n",
       "            background-color:  #a4dba4;\n",
       "            color:  #000000;\n",
       "        }    #T_69675b5e_87ce_11eb_bfa5_29dfbfbe8456row2_col2 {\n",
       "            background-color:  #a1d9a1;\n",
       "            color:  #000000;\n",
       "        }    #T_69675b5e_87ce_11eb_bfa5_29dfbfbe8456row2_col3 {\n",
       "            background-color:  #45a645;\n",
       "            color:  #000000;\n",
       "        }    #T_69675b5e_87ce_11eb_bfa5_29dfbfbe8456row2_col4 {\n",
       "            background-color:  #56b056;\n",
       "            color:  #000000;\n",
       "        }    #T_69675b5e_87ce_11eb_bfa5_29dfbfbe8456row2_col5 {\n",
       "            background-color:  #3ba13b;\n",
       "            color:  #000000;\n",
       "        }    #T_69675b5e_87ce_11eb_bfa5_29dfbfbe8456row3_col0 {\n",
       "            background-color:  #e5ffe5;\n",
       "            color:  #000000;\n",
       "        }    #T_69675b5e_87ce_11eb_bfa5_29dfbfbe8456row3_col1 {\n",
       "            background-color:  #54ae54;\n",
       "            color:  #000000;\n",
       "        }    #T_69675b5e_87ce_11eb_bfa5_29dfbfbe8456row3_col2 {\n",
       "            background-color:  #52ad52;\n",
       "            color:  #000000;\n",
       "        }    #T_69675b5e_87ce_11eb_bfa5_29dfbfbe8456row3_col3 {\n",
       "            background-color:  #77c277;\n",
       "            color:  #000000;\n",
       "        }    #T_69675b5e_87ce_11eb_bfa5_29dfbfbe8456row3_col4 {\n",
       "            background-color:  #9fd89f;\n",
       "            color:  #000000;\n",
       "        }    #T_69675b5e_87ce_11eb_bfa5_29dfbfbe8456row3_col5 {\n",
       "            background-color:  #359d35;\n",
       "            color:  #000000;\n",
       "        }    #T_69675b5e_87ce_11eb_bfa5_29dfbfbe8456row4_col0 {\n",
       "            background-color:  #d0f3d0;\n",
       "            color:  #000000;\n",
       "        }    #T_69675b5e_87ce_11eb_bfa5_29dfbfbe8456row4_col1 {\n",
       "            background-color:  #56b056;\n",
       "            color:  #000000;\n",
       "        }    #T_69675b5e_87ce_11eb_bfa5_29dfbfbe8456row4_col2 {\n",
       "            background-color:  #6bbb6b;\n",
       "            color:  #000000;\n",
       "        }    #T_69675b5e_87ce_11eb_bfa5_29dfbfbe8456row4_col3 {\n",
       "            background-color:  #e5ffe5;\n",
       "            color:  #000000;\n",
       "        }    #T_69675b5e_87ce_11eb_bfa5_29dfbfbe8456row4_col4 {\n",
       "            background-color:  #c8efc8;\n",
       "            color:  #000000;\n",
       "        }    #T_69675b5e_87ce_11eb_bfa5_29dfbfbe8456row4_col5 {\n",
       "            background-color:  #e5ffe5;\n",
       "            color:  #000000;\n",
       "        }</style><table id=\"T_69675b5e_87ce_11eb_bfa5_29dfbfbe8456\" ><thead>    <tr>        <th class=\"blank level0\" ></th>        <th class=\"col_heading level0 col0\" >number of patches</th>        <th class=\"col_heading level0 col1\" >PSZ2 coef</th>        <th class=\"col_heading level0 col2\" >MCXC coef</th>        <th class=\"col_heading level0 col3\" >RM coef</th>        <th class=\"col_heading level0 col4\" >ACT coef</th>        <th class=\"col_heading level0 col5\" >Abell coef</th>    </tr></thead><tbody>\n",
       "                <tr>\n",
       "                        <th id=\"T_69675b5e_87ce_11eb_bfa5_29dfbfbe8456level0_row0\" class=\"row_heading level0 row0\" >pz_only</th>\n",
       "                        <td id=\"T_69675b5e_87ce_11eb_bfa5_29dfbfbe8456row0_col0\" class=\"data row0 col0\" >3665333</td>\n",
       "                        <td id=\"T_69675b5e_87ce_11eb_bfa5_29dfbfbe8456row0_col1\" class=\"data row0 col1\" >0.999988</td>\n",
       "                        <td id=\"T_69675b5e_87ce_11eb_bfa5_29dfbfbe8456row0_col2\" class=\"data row0 col2\" >0.672214</td>\n",
       "                        <td id=\"T_69675b5e_87ce_11eb_bfa5_29dfbfbe8456row0_col3\" class=\"data row0 col3\" >0.431574</td>\n",
       "                        <td id=\"T_69675b5e_87ce_11eb_bfa5_29dfbfbe8456row0_col4\" class=\"data row0 col4\" >0.443386</td>\n",
       "                        <td id=\"T_69675b5e_87ce_11eb_bfa5_29dfbfbe8456row0_col5\" class=\"data row0 col5\" >0.711750</td>\n",
       "            </tr>\n",
       "            <tr>\n",
       "                        <th id=\"T_69675b5e_87ce_11eb_bfa5_29dfbfbe8456level0_row1\" class=\"row_heading level0 row1\" >act_erosita</th>\n",
       "                        <td id=\"T_69675b5e_87ce_11eb_bfa5_29dfbfbe8456row1_col0\" class=\"data row1 col0\" >6948027</td>\n",
       "                        <td id=\"T_69675b5e_87ce_11eb_bfa5_29dfbfbe8456row1_col1\" class=\"data row1 col1\" >0.392391</td>\n",
       "                        <td id=\"T_69675b5e_87ce_11eb_bfa5_29dfbfbe8456row1_col2\" class=\"data row1 col2\" >0.407695</td>\n",
       "                        <td id=\"T_69675b5e_87ce_11eb_bfa5_29dfbfbe8456row1_col3\" class=\"data row1 col3\" >0.520091</td>\n",
       "                        <td id=\"T_69675b5e_87ce_11eb_bfa5_29dfbfbe8456row1_col4\" class=\"data row1 col4\" >0.999998</td>\n",
       "                        <td id=\"T_69675b5e_87ce_11eb_bfa5_29dfbfbe8456row1_col5\" class=\"data row1 col5\" >0.736675</td>\n",
       "            </tr>\n",
       "            <tr>\n",
       "                        <th id=\"T_69675b5e_87ce_11eb_bfa5_29dfbfbe8456level0_row2\" class=\"row_heading level0 row2\" >pz_act_jan</th>\n",
       "                        <td id=\"T_69675b5e_87ce_11eb_bfa5_29dfbfbe8456row2_col0\" class=\"data row2 col0\" >2440053</td>\n",
       "                        <td id=\"T_69675b5e_87ce_11eb_bfa5_29dfbfbe8456row2_col1\" class=\"data row2 col1\" >0.567672</td>\n",
       "                        <td id=\"T_69675b5e_87ce_11eb_bfa5_29dfbfbe8456row2_col2\" class=\"data row2 col2\" >0.486763</td>\n",
       "                        <td id=\"T_69675b5e_87ce_11eb_bfa5_29dfbfbe8456row2_col3\" class=\"data row2 col3\" >0.482342</td>\n",
       "                        <td id=\"T_69675b5e_87ce_11eb_bfa5_29dfbfbe8456row2_col4\" class=\"data row2 col4\" >0.790941</td>\n",
       "                        <td id=\"T_69675b5e_87ce_11eb_bfa5_29dfbfbe8456row2_col5\" class=\"data row2 col5\" >0.717793</td>\n",
       "            </tr>\n",
       "            <tr>\n",
       "                        <th id=\"T_69675b5e_87ce_11eb_bfa5_29dfbfbe8456level0_row3\" class=\"row_heading level0 row3\" >pz_act_found</th>\n",
       "                        <td id=\"T_69675b5e_87ce_11eb_bfa5_29dfbfbe8456row3_col0\" class=\"data row3 col0\" >1323071</td>\n",
       "                        <td id=\"T_69675b5e_87ce_11eb_bfa5_29dfbfbe8456row3_col1\" class=\"data row3 col1\" >0.779097</td>\n",
       "                        <td id=\"T_69675b5e_87ce_11eb_bfa5_29dfbfbe8456row3_col2\" class=\"data row3 col2\" >0.577784</td>\n",
       "                        <td id=\"T_69675b5e_87ce_11eb_bfa5_29dfbfbe8456row3_col3\" class=\"data row3 col3\" >0.455824</td>\n",
       "                        <td id=\"T_69675b5e_87ce_11eb_bfa5_29dfbfbe8456row3_col4\" class=\"data row3 col4\" >0.614535</td>\n",
       "                        <td id=\"T_69675b5e_87ce_11eb_bfa5_29dfbfbe8456row3_col5\" class=\"data row3 col5\" >0.719846</td>\n",
       "            </tr>\n",
       "            <tr>\n",
       "                        <th id=\"T_69675b5e_87ce_11eb_bfa5_29dfbfbe8456level0_row4\" class=\"row_heading level0 row4\" >pz_all_found</th>\n",
       "                        <td id=\"T_69675b5e_87ce_11eb_bfa5_29dfbfbe8456row4_col0\" class=\"data row4 col0\" >1865878</td>\n",
       "                        <td id=\"T_69675b5e_87ce_11eb_bfa5_29dfbfbe8456row4_col1\" class=\"data row4 col1\" >0.771934</td>\n",
       "                        <td id=\"T_69675b5e_87ce_11eb_bfa5_29dfbfbe8456row4_col2\" class=\"data row4 col2\" >0.548455</td>\n",
       "                        <td id=\"T_69675b5e_87ce_11eb_bfa5_29dfbfbe8456row4_col3\" class=\"data row4 col3\" >0.395995</td>\n",
       "                        <td id=\"T_69675b5e_87ce_11eb_bfa5_29dfbfbe8456row4_col4\" class=\"data row4 col4\" >0.516007</td>\n",
       "                        <td id=\"T_69675b5e_87ce_11eb_bfa5_29dfbfbe8456row4_col5\" class=\"data row4 col5\" >0.664236</td>\n",
       "            </tr>\n",
       "    </tbody></table>"
      ],
      "text/plain": [
       "<pandas.io.formats.style.Styler at 0x7f07f5cb4940>"
      ]
     },
     "execution_count": 10,
     "metadata": {},
     "output_type": "execute_result"
    }
   ],
   "source": [
    "cm = sns.light_palette(\"green\", as_cmap=True)\n",
    "\n",
    "s = df_coef.style.background_gradient(cmap=cm)\n",
    "s"
   ]
  },
  {
   "cell_type": "code",
   "execution_count": null,
   "metadata": {},
   "outputs": [],
   "source": []
  }
 ],
 "metadata": {
  "kernelspec": {
   "display_name": "Python 3",
   "language": "python",
   "name": "python3"
  },
  "language_info": {
   "codemirror_mode": {
    "name": "ipython",
    "version": 3
   },
   "file_extension": ".py",
   "mimetype": "text/x-python",
   "name": "python",
   "nbconvert_exporter": "python",
   "pygments_lexer": "ipython3",
   "version": "3.8.3"
  }
 },
 "nbformat": 4,
 "nbformat_minor": 4
}
