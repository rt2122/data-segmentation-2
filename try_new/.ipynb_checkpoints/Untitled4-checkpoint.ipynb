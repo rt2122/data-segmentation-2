{
 "cells": [
  {
   "cell_type": "code",
   "execution_count": 2,
   "metadata": {
    "ExecuteTime": {
     "end_time": "2021-02-18T05:46:41.670221Z",
     "start_time": "2021-02-18T05:46:41.665476Z"
    }
   },
   "outputs": [],
   "source": [
    "import numpy as np\n",
    "import pandas as pd\n",
    "from DS_detector import rematch_cat"
   ]
  },
  {
   "cell_type": "code",
   "execution_count": 5,
   "metadata": {
    "ExecuteTime": {
     "end_time": "2021-02-11T14:09:11.121058Z",
     "start_time": "2021-02-11T14:09:11.114030Z"
    }
   },
   "outputs": [],
   "source": [
    "a = pd.Series([1, 1, 2, 4, 5, 6, 7, 8, 10, 11, 14, 15])"
   ]
  },
  {
   "cell_type": "code",
   "execution_count": 6,
   "metadata": {
    "ExecuteTime": {
     "end_time": "2021-02-11T14:09:11.582046Z",
     "start_time": "2021-02-11T14:09:11.556698Z"
    }
   },
   "outputs": [
    {
     "name": "stdout",
     "output_type": "stream",
     "text": [
      "1.0\n",
      "1.1\n",
      "2.4000000000000004\n",
      "4.300000000000001\n",
      "5.4\n",
      "6.5\n",
      "7.600000000000001\n",
      "9.399999999999999\n",
      "10.8\n",
      "13.700000000000001\n",
      "15.0\n"
     ]
    }
   ],
   "source": [
    "for i in np.arange(0, 1.1, 0.1):\n",
    "    print(a.quantile(i))"
   ]
  },
  {
   "cell_type": "code",
   "execution_count": 3,
   "metadata": {
    "ExecuteTime": {
     "end_time": "2021-02-18T05:47:21.493080Z",
     "start_time": "2021-02-18T05:47:20.219552Z"
    }
   },
   "outputs": [
    {
     "name": "stderr",
     "output_type": "stream",
     "text": [
      "/home/rt2122/anaconda3/lib/python3.8/site-packages/pandas/core/indexing.py:671: SettingWithCopyWarning: \n",
      "A value is trying to be set on a copy of a slice from a DataFrame\n",
      "\n",
      "See the caveats in the documentation: https://pandas.pydata.org/pandas-docs/stable/user_guide/indexing.html#returning-a-view-versus-a-copy\n",
      "  self._setitem_with_indexer(indexer, value)\n"
     ]
    }
   ],
   "source": [
    "rematch_cat('/home/rt2122/Data/detected_cats/full_pz_all_found34_thr0.1_step8.csv').to_csv(\n",
    "    '/home/rt2122/Data/detected_cats/full_pz_all_found34_thr0.1_step8.csv', index=False)"
   ]
  },
  {
   "cell_type": "code",
   "execution_count": null,
   "metadata": {},
   "outputs": [],
   "source": []
  }
 ],
 "metadata": {
  "kernelspec": {
   "display_name": "Python 3",
   "language": "python",
   "name": "python3"
  },
  "language_info": {
   "codemirror_mode": {
    "name": "ipython",
    "version": 3
   },
   "file_extension": ".py",
   "mimetype": "text/x-python",
   "name": "python",
   "nbconvert_exporter": "python",
   "pygments_lexer": "ipython3",
   "version": "3.8.3"
  }
 },
 "nbformat": 4,
 "nbformat_minor": 4
}
