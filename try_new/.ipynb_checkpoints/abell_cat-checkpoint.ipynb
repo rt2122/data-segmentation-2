{
 "cells": [
  {
   "cell_type": "code",
   "execution_count": 1,
   "metadata": {
    "ExecuteTime": {
     "end_time": "2021-03-27T11:03:40.537007Z",
     "start_time": "2021-03-27T11:03:40.093797Z"
    }
   },
   "outputs": [],
   "source": [
    "import numpy as np \n",
    "import pandas as pd\n",
    "from astropy.io import fits\n",
    "from astropy.table import Table"
   ]
  },
  {
   "cell_type": "code",
   "execution_count": 2,
   "metadata": {
    "ExecuteTime": {
     "end_time": "2021-03-27T11:03:26.618866Z",
     "start_time": "2021-03-27T11:03:26.614458Z"
    }
   },
   "outputs": [],
   "source": [
    "files = ['/home/rt2122/Downloads/VII_110A_table3.dat.gz.fits', '/home/rt2122/Downloads/VII_110A_table4.dat.gz.fits',\n",
    "        '/home/rt2122/Downloads/VII_110A_table5.dat.gz.fits']"
   ]
  },
  {
   "cell_type": "code",
   "execution_count": 4,
   "metadata": {
    "ExecuteTime": {
     "end_time": "2021-03-03T18:12:33.113643Z",
     "start_time": "2021-03-03T18:12:32.878937Z"
    }
   },
   "outputs": [
    {
     "name": "stderr",
     "output_type": "stream",
     "text": [
      "WARNING: VerifyWarning: It is strongly recommended that column names contain only upper and lower-case ASCII letters, digits, or underscores for maximum compatibility with other software (got '---'). [astropy.io.fits.column]\n"
     ]
    },
    {
     "ename": "ValueError",
     "evalue": "Duplicate field names: ['---']",
     "output_type": "error",
     "traceback": [
      "\u001b[0;31m---------------------------------------------------------------------------\u001b[0m",
      "\u001b[0;31mValueError\u001b[0m                                Traceback (most recent call last)",
      "\u001b[0;32m<ipython-input-4-9230798dfd1d>\u001b[0m in \u001b[0;36m<module>\u001b[0;34m\u001b[0m\n\u001b[1;32m      8\u001b[0m             \u001b[0;32mif\u001b[0m \u001b[0mcols\u001b[0m\u001b[0;34m[\u001b[0m\u001b[0mi\u001b[0m\u001b[0;34m]\u001b[0m \u001b[0;34m==\u001b[0m \u001b[0;34m'---'\u001b[0m\u001b[0;34m:\u001b[0m\u001b[0;34m\u001b[0m\u001b[0;34m\u001b[0m\u001b[0m\n\u001b[1;32m      9\u001b[0m                 \u001b[0mcols\u001b[0m\u001b[0;34m[\u001b[0m\u001b[0mi\u001b[0m\u001b[0;34m]\u001b[0m \u001b[0;34m=\u001b[0m \u001b[0mstr\u001b[0m\u001b[0;34m(\u001b[0m\u001b[0mi\u001b[0m\u001b[0;34m)\u001b[0m\u001b[0;34m\u001b[0m\u001b[0;34m\u001b[0m\u001b[0m\n\u001b[0;32m---> 10\u001b[0;31m         \u001b[0mabell_cat\u001b[0m\u001b[0;34m.\u001b[0m\u001b[0mappend\u001b[0m\u001b[0;34m(\u001b[0m\u001b[0mpd\u001b[0m\u001b[0;34m.\u001b[0m\u001b[0mDataFrame\u001b[0m\u001b[0;34m(\u001b[0m\u001b[0mhdul\u001b[0m\u001b[0;34m[\u001b[0m\u001b[0;36m1\u001b[0m\u001b[0;34m]\u001b[0m\u001b[0;34m.\u001b[0m\u001b[0mdata\u001b[0m\u001b[0;34m,\u001b[0m \u001b[0mcolumns\u001b[0m\u001b[0;34m=\u001b[0m\u001b[0mcols\u001b[0m\u001b[0;34m)\u001b[0m\u001b[0;34m)\u001b[0m\u001b[0;34m\u001b[0m\u001b[0;34m\u001b[0m\u001b[0m\n\u001b[0m\u001b[1;32m     11\u001b[0m         \u001b[0;31m#col_names = hdul[1].columns.names\u001b[0m\u001b[0;34m\u001b[0m\u001b[0;34m\u001b[0m\u001b[0;34m\u001b[0m\u001b[0m\n\u001b[1;32m     12\u001b[0m         \u001b[0;31m#cols = []\u001b[0m\u001b[0;34m\u001b[0m\u001b[0;34m\u001b[0m\u001b[0;34m\u001b[0m\u001b[0m\n",
      "\u001b[0;32m~/anaconda3/lib/python3.8/site-packages/astropy/utils/decorators.py\u001b[0m in \u001b[0;36m__get__\u001b[0;34m(self, obj, owner)\u001b[0m\n\u001b[1;32m    756\u001b[0m                 \u001b[0;32mreturn\u001b[0m \u001b[0mval\u001b[0m\u001b[0;34m\u001b[0m\u001b[0;34m\u001b[0m\u001b[0m\n\u001b[1;32m    757\u001b[0m             \u001b[0;32melse\u001b[0m\u001b[0;34m:\u001b[0m\u001b[0;34m\u001b[0m\u001b[0;34m\u001b[0m\u001b[0m\n\u001b[0;32m--> 758\u001b[0;31m                 \u001b[0mval\u001b[0m \u001b[0;34m=\u001b[0m \u001b[0mself\u001b[0m\u001b[0;34m.\u001b[0m\u001b[0mfget\u001b[0m\u001b[0;34m(\u001b[0m\u001b[0mobj\u001b[0m\u001b[0;34m)\u001b[0m\u001b[0;34m\u001b[0m\u001b[0;34m\u001b[0m\u001b[0m\n\u001b[0m\u001b[1;32m    759\u001b[0m                 \u001b[0mobj\u001b[0m\u001b[0;34m.\u001b[0m\u001b[0m__dict__\u001b[0m\u001b[0;34m[\u001b[0m\u001b[0mself\u001b[0m\u001b[0;34m.\u001b[0m\u001b[0m_key\u001b[0m\u001b[0;34m]\u001b[0m \u001b[0;34m=\u001b[0m \u001b[0mval\u001b[0m\u001b[0;34m\u001b[0m\u001b[0;34m\u001b[0m\u001b[0m\n\u001b[1;32m    760\u001b[0m                 \u001b[0;32mreturn\u001b[0m \u001b[0mval\u001b[0m\u001b[0;34m\u001b[0m\u001b[0;34m\u001b[0m\u001b[0m\n",
      "\u001b[0;32m~/anaconda3/lib/python3.8/site-packages/astropy/io/fits/hdu/table.py\u001b[0m in \u001b[0;36mdata\u001b[0;34m(self)\u001b[0m\n\u001b[1;32m    397\u001b[0m     \u001b[0;34m@\u001b[0m\u001b[0mlazyproperty\u001b[0m\u001b[0;34m\u001b[0m\u001b[0;34m\u001b[0m\u001b[0m\n\u001b[1;32m    398\u001b[0m     \u001b[0;32mdef\u001b[0m \u001b[0mdata\u001b[0m\u001b[0;34m(\u001b[0m\u001b[0mself\u001b[0m\u001b[0;34m)\u001b[0m\u001b[0;34m:\u001b[0m\u001b[0;34m\u001b[0m\u001b[0;34m\u001b[0m\u001b[0m\n\u001b[0;32m--> 399\u001b[0;31m         \u001b[0mdata\u001b[0m \u001b[0;34m=\u001b[0m \u001b[0mself\u001b[0m\u001b[0;34m.\u001b[0m\u001b[0m_get_tbdata\u001b[0m\u001b[0;34m(\u001b[0m\u001b[0;34m)\u001b[0m\u001b[0;34m\u001b[0m\u001b[0;34m\u001b[0m\u001b[0m\n\u001b[0m\u001b[1;32m    400\u001b[0m         \u001b[0mdata\u001b[0m\u001b[0;34m.\u001b[0m\u001b[0m_coldefs\u001b[0m \u001b[0;34m=\u001b[0m \u001b[0mself\u001b[0m\u001b[0;34m.\u001b[0m\u001b[0mcolumns\u001b[0m\u001b[0;34m\u001b[0m\u001b[0;34m\u001b[0m\u001b[0m\n\u001b[1;32m    401\u001b[0m         \u001b[0mdata\u001b[0m\u001b[0;34m.\u001b[0m\u001b[0m_character_as_bytes\u001b[0m \u001b[0;34m=\u001b[0m \u001b[0mself\u001b[0m\u001b[0;34m.\u001b[0m\u001b[0m_character_as_bytes\u001b[0m\u001b[0;34m\u001b[0m\u001b[0;34m\u001b[0m\u001b[0m\n",
      "\u001b[0;32m~/anaconda3/lib/python3.8/site-packages/astropy/io/fits/hdu/table.py\u001b[0m in \u001b[0;36m_get_tbdata\u001b[0;34m(self)\u001b[0m\n\u001b[1;32m    755\u001b[0m \u001b[0;34m\u001b[0m\u001b[0m\n\u001b[1;32m    756\u001b[0m         \u001b[0;32mif\u001b[0m \u001b[0mdup\u001b[0m\u001b[0;34m:\u001b[0m\u001b[0;34m\u001b[0m\u001b[0;34m\u001b[0m\u001b[0m\n\u001b[0;32m--> 757\u001b[0;31m             \u001b[0;32mraise\u001b[0m \u001b[0mValueError\u001b[0m\u001b[0;34m(\u001b[0m\u001b[0;34mf\"Duplicate field names: {dup}\"\u001b[0m\u001b[0;34m)\u001b[0m\u001b[0;34m\u001b[0m\u001b[0;34m\u001b[0m\u001b[0m\n\u001b[0m\u001b[1;32m    758\u001b[0m \u001b[0;34m\u001b[0m\u001b[0m\n\u001b[1;32m    759\u001b[0m         \u001b[0;31m# TODO: Determine if this extra logic is necessary--I feel like the\u001b[0m\u001b[0;34m\u001b[0m\u001b[0;34m\u001b[0m\u001b[0;34m\u001b[0m\u001b[0m\n",
      "\u001b[0;31mValueError\u001b[0m: Duplicate field names: ['---']"
     ]
    }
   ],
   "source": [
    "abell_cat = []\n",
    "for file in files:\n",
    "    with fits.open(file) as hdul:\n",
    "        cols = [hdul[1].columns]\n",
    "        for i in range(len(cols)):\n",
    "            if cols[i] == '---':\n",
    "                cols[i] = str(i)\n",
    "        abell_cat.append(pd.DataFrame(hdul[1].data, columns=cols))\n",
    "        #col_names = hdul[1].columns.names\n",
    "        #cols = []\n",
    "        #for i in range(len(col_names)):\n",
    "            #print(col_names[i])\n",
    "            #if col_names[i] == '---':\n",
    "            #    continue\n",
    "            #c1 = fits.Column(name=col_names[i], array=hdul[1].data[col_names[i]], \n",
    "            #                 format=hdul[1].columns[col_names[i]].format)\n",
    "            #cols.append(c1)\n",
    "        #tbl = Table(hdul[1].data, names=cols)\n",
    "        #names = [name for name in tbl.colnames if len(tbl[name].shape) <= 1]\n",
    "        #df = tbl[names].to_pandas()\n",
    "        #df = pd\n",
    "        #abell_cat.append(df)\n"
   ]
  },
  {
   "cell_type": "code",
   "execution_count": 8,
   "metadata": {
    "ExecuteTime": {
     "end_time": "2021-03-11T10:12:57.543430Z",
     "start_time": "2021-03-11T10:12:57.448865Z"
    }
   },
   "outputs": [
    {
     "ename": "ValueError",
     "evalue": "Duplicate field names: ['---']",
     "output_type": "error",
     "traceback": [
      "\u001b[0;31m---------------------------------------------------------------------------\u001b[0m",
      "\u001b[0;31mValueError\u001b[0m                                Traceback (most recent call last)",
      "\u001b[0;32m<ipython-input-8-5fcb16124fb2>\u001b[0m in \u001b[0;36m<module>\u001b[0;34m\u001b[0m\n\u001b[1;32m      5\u001b[0m         \u001b[0;32mif\u001b[0m \u001b[0mcol\u001b[0m \u001b[0;34m==\u001b[0m \u001b[0;34m'---'\u001b[0m\u001b[0;34m:\u001b[0m\u001b[0;34m\u001b[0m\u001b[0;34m\u001b[0m\u001b[0m\n\u001b[1;32m      6\u001b[0m             \u001b[0;32mcontinue\u001b[0m\u001b[0;34m\u001b[0m\u001b[0;34m\u001b[0m\u001b[0m\n\u001b[0;32m----> 7\u001b[0;31m         \u001b[0mdf\u001b[0m\u001b[0;34m[\u001b[0m\u001b[0mcol\u001b[0m\u001b[0;34m]\u001b[0m \u001b[0;34m=\u001b[0m \u001b[0mnp\u001b[0m\u001b[0;34m.\u001b[0m\u001b[0marray\u001b[0m\u001b[0;34m(\u001b[0m\u001b[0mhdul\u001b[0m\u001b[0;34m[\u001b[0m\u001b[0;36m1\u001b[0m\u001b[0;34m]\u001b[0m\u001b[0;34m.\u001b[0m\u001b[0mdata\u001b[0m\u001b[0;34m[\u001b[0m\u001b[0mcol\u001b[0m\u001b[0;34m]\u001b[0m\u001b[0;34m)\u001b[0m\u001b[0;34m\u001b[0m\u001b[0;34m\u001b[0m\u001b[0m\n\u001b[0m",
      "\u001b[0;32m~/anaconda3/lib/python3.8/site-packages/astropy/utils/decorators.py\u001b[0m in \u001b[0;36m__get__\u001b[0;34m(self, obj, owner)\u001b[0m\n\u001b[1;32m    756\u001b[0m                 \u001b[0;32mreturn\u001b[0m \u001b[0mval\u001b[0m\u001b[0;34m\u001b[0m\u001b[0;34m\u001b[0m\u001b[0m\n\u001b[1;32m    757\u001b[0m             \u001b[0;32melse\u001b[0m\u001b[0;34m:\u001b[0m\u001b[0;34m\u001b[0m\u001b[0;34m\u001b[0m\u001b[0m\n\u001b[0;32m--> 758\u001b[0;31m                 \u001b[0mval\u001b[0m \u001b[0;34m=\u001b[0m \u001b[0mself\u001b[0m\u001b[0;34m.\u001b[0m\u001b[0mfget\u001b[0m\u001b[0;34m(\u001b[0m\u001b[0mobj\u001b[0m\u001b[0;34m)\u001b[0m\u001b[0;34m\u001b[0m\u001b[0;34m\u001b[0m\u001b[0m\n\u001b[0m\u001b[1;32m    759\u001b[0m                 \u001b[0mobj\u001b[0m\u001b[0;34m.\u001b[0m\u001b[0m__dict__\u001b[0m\u001b[0;34m[\u001b[0m\u001b[0mself\u001b[0m\u001b[0;34m.\u001b[0m\u001b[0m_key\u001b[0m\u001b[0;34m]\u001b[0m \u001b[0;34m=\u001b[0m \u001b[0mval\u001b[0m\u001b[0;34m\u001b[0m\u001b[0;34m\u001b[0m\u001b[0m\n\u001b[1;32m    760\u001b[0m                 \u001b[0;32mreturn\u001b[0m \u001b[0mval\u001b[0m\u001b[0;34m\u001b[0m\u001b[0;34m\u001b[0m\u001b[0m\n",
      "\u001b[0;32m~/anaconda3/lib/python3.8/site-packages/astropy/io/fits/hdu/table.py\u001b[0m in \u001b[0;36mdata\u001b[0;34m(self)\u001b[0m\n\u001b[1;32m    397\u001b[0m     \u001b[0;34m@\u001b[0m\u001b[0mlazyproperty\u001b[0m\u001b[0;34m\u001b[0m\u001b[0;34m\u001b[0m\u001b[0m\n\u001b[1;32m    398\u001b[0m     \u001b[0;32mdef\u001b[0m \u001b[0mdata\u001b[0m\u001b[0;34m(\u001b[0m\u001b[0mself\u001b[0m\u001b[0;34m)\u001b[0m\u001b[0;34m:\u001b[0m\u001b[0;34m\u001b[0m\u001b[0;34m\u001b[0m\u001b[0m\n\u001b[0;32m--> 399\u001b[0;31m         \u001b[0mdata\u001b[0m \u001b[0;34m=\u001b[0m \u001b[0mself\u001b[0m\u001b[0;34m.\u001b[0m\u001b[0m_get_tbdata\u001b[0m\u001b[0;34m(\u001b[0m\u001b[0;34m)\u001b[0m\u001b[0;34m\u001b[0m\u001b[0;34m\u001b[0m\u001b[0m\n\u001b[0m\u001b[1;32m    400\u001b[0m         \u001b[0mdata\u001b[0m\u001b[0;34m.\u001b[0m\u001b[0m_coldefs\u001b[0m \u001b[0;34m=\u001b[0m \u001b[0mself\u001b[0m\u001b[0;34m.\u001b[0m\u001b[0mcolumns\u001b[0m\u001b[0;34m\u001b[0m\u001b[0;34m\u001b[0m\u001b[0m\n\u001b[1;32m    401\u001b[0m         \u001b[0mdata\u001b[0m\u001b[0;34m.\u001b[0m\u001b[0m_character_as_bytes\u001b[0m \u001b[0;34m=\u001b[0m \u001b[0mself\u001b[0m\u001b[0;34m.\u001b[0m\u001b[0m_character_as_bytes\u001b[0m\u001b[0;34m\u001b[0m\u001b[0;34m\u001b[0m\u001b[0m\n",
      "\u001b[0;32m~/anaconda3/lib/python3.8/site-packages/astropy/io/fits/hdu/table.py\u001b[0m in \u001b[0;36m_get_tbdata\u001b[0;34m(self)\u001b[0m\n\u001b[1;32m    755\u001b[0m \u001b[0;34m\u001b[0m\u001b[0m\n\u001b[1;32m    756\u001b[0m         \u001b[0;32mif\u001b[0m \u001b[0mdup\u001b[0m\u001b[0;34m:\u001b[0m\u001b[0;34m\u001b[0m\u001b[0;34m\u001b[0m\u001b[0m\n\u001b[0;32m--> 757\u001b[0;31m             \u001b[0;32mraise\u001b[0m \u001b[0mValueError\u001b[0m\u001b[0;34m(\u001b[0m\u001b[0;34mf\"Duplicate field names: {dup}\"\u001b[0m\u001b[0;34m)\u001b[0m\u001b[0;34m\u001b[0m\u001b[0;34m\u001b[0m\u001b[0m\n\u001b[0m\u001b[1;32m    758\u001b[0m \u001b[0;34m\u001b[0m\u001b[0m\n\u001b[1;32m    759\u001b[0m         \u001b[0;31m# TODO: Determine if this extra logic is necessary--I feel like the\u001b[0m\u001b[0;34m\u001b[0m\u001b[0;34m\u001b[0m\u001b[0;34m\u001b[0m\u001b[0m\n",
      "\u001b[0;31mValueError\u001b[0m: Duplicate field names: ['---']"
     ]
    }
   ],
   "source": [
    "df = {}\n",
    "with fits.open(files[1]) as hdul:\n",
    "    cols = [col.name for col in hdul[1].columns]\n",
    "    for col in cols:\n",
    "        if col == '---':\n",
    "            continue\n",
    "        df[col] = np.array(hdul[1].data[col])"
   ]
  },
  {
   "cell_type": "code",
   "execution_count": 2,
   "metadata": {
    "ExecuteTime": {
     "end_time": "2021-03-27T11:03:49.839095Z",
     "start_time": "2021-03-27T11:03:49.616009Z"
    }
   },
   "outputs": [],
   "source": [
    "abell = []\n",
    "with fits.open('/home/rt2122/Data/original_catalogs/abell.fit') as hdul:\n",
    "    for i in range(1, 3):\n",
    "        data = hdul[i].data\n",
    "        table = Table(data)\n",
    "        abell.append(table.to_pandas())"
   ]
  },
  {
   "cell_type": "code",
   "execution_count": 3,
   "metadata": {
    "ExecuteTime": {
     "end_time": "2021-03-27T11:03:50.611487Z",
     "start_time": "2021-03-27T11:03:50.581724Z"
    }
   },
   "outputs": [],
   "source": [
    "abell = pd.concat(abell, ignore_index=True)"
   ]
  },
  {
   "cell_type": "code",
   "execution_count": 4,
   "metadata": {
    "ExecuteTime": {
     "end_time": "2021-03-27T11:03:51.360551Z",
     "start_time": "2021-03-27T11:03:51.337324Z"
    }
   },
   "outputs": [
    {
     "data": {
      "text/plain": [
       "(4076, 14)"
      ]
     },
     "execution_count": 4,
     "metadata": {},
     "output_type": "execute_result"
    }
   ],
   "source": [
    "abell.shape"
   ]
  },
  {
   "cell_type": "code",
   "execution_count": 5,
   "metadata": {
    "ExecuteTime": {
     "end_time": "2021-03-27T11:03:51.977843Z",
     "start_time": "2021-03-27T11:03:51.946839Z"
    }
   },
   "outputs": [
    {
     "data": {
      "text/html": [
       "<div>\n",
       "<style scoped>\n",
       "    .dataframe tbody tr th:only-of-type {\n",
       "        vertical-align: middle;\n",
       "    }\n",
       "\n",
       "    .dataframe tbody tr th {\n",
       "        vertical-align: top;\n",
       "    }\n",
       "\n",
       "    .dataframe thead th {\n",
       "        text-align: right;\n",
       "    }\n",
       "</style>\n",
       "<table border=\"1\" class=\"dataframe\">\n",
       "  <thead>\n",
       "    <tr style=\"text-align: right;\">\n",
       "      <th></th>\n",
       "      <th>_RAJ2000</th>\n",
       "      <th>_DEJ2000</th>\n",
       "      <th>recno</th>\n",
       "      <th>ACO</th>\n",
       "      <th>RAB1950</th>\n",
       "      <th>DEB1950</th>\n",
       "      <th>BMtype</th>\n",
       "      <th>Count</th>\n",
       "      <th>z</th>\n",
       "      <th>Rich</th>\n",
       "      <th>Dclass</th>\n",
       "      <th>m10</th>\n",
       "      <th>_RA_icrs</th>\n",
       "      <th>_DE_icrs</th>\n",
       "    </tr>\n",
       "  </thead>\n",
       "  <tbody>\n",
       "    <tr>\n",
       "      <th>0</th>\n",
       "      <td>1.8929</td>\n",
       "      <td>16.5116</td>\n",
       "      <td>1.0</td>\n",
       "      <td>1</td>\n",
       "      <td>00 05.0</td>\n",
       "      <td>+16 14</td>\n",
       "      <td>III</td>\n",
       "      <td>51</td>\n",
       "      <td>0.1249</td>\n",
       "      <td>1</td>\n",
       "      <td>5</td>\n",
       "      <td>17.1</td>\n",
       "      <td>00 07 34.3</td>\n",
       "      <td>+16 30 42\\r</td>\n",
       "    </tr>\n",
       "    <tr>\n",
       "      <th>1</th>\n",
       "      <td>2.1125</td>\n",
       "      <td>-19.6384</td>\n",
       "      <td>2.0</td>\n",
       "      <td>2</td>\n",
       "      <td>00 05.9</td>\n",
       "      <td>-19 55</td>\n",
       "      <td>II</td>\n",
       "      <td>72</td>\n",
       "      <td>0.0000</td>\n",
       "      <td>1</td>\n",
       "      <td>6</td>\n",
       "      <td>17.3</td>\n",
       "      <td>00 08 27.0</td>\n",
       "      <td>-19 38 18\\r</td>\n",
       "    </tr>\n",
       "    <tr>\n",
       "      <th>2</th>\n",
       "      <td>2.3163</td>\n",
       "      <td>4.0282</td>\n",
       "      <td>3.0</td>\n",
       "      <td>3</td>\n",
       "      <td>00 06.7</td>\n",
       "      <td>+03 45</td>\n",
       "      <td>II:</td>\n",
       "      <td>65</td>\n",
       "      <td>0.0000</td>\n",
       "      <td>1</td>\n",
       "      <td>5</td>\n",
       "      <td>17.0</td>\n",
       "      <td>00 09 15.9</td>\n",
       "      <td>+04 01 42\\r</td>\n",
       "    </tr>\n",
       "    <tr>\n",
       "      <th>3</th>\n",
       "      <td>2.3418</td>\n",
       "      <td>6.7782</td>\n",
       "      <td>4.0</td>\n",
       "      <td>4</td>\n",
       "      <td>00 06.8</td>\n",
       "      <td>+06 30</td>\n",
       "      <td>III</td>\n",
       "      <td>55</td>\n",
       "      <td>0.0000</td>\n",
       "      <td>1</td>\n",
       "      <td>6</td>\n",
       "      <td>17.8</td>\n",
       "      <td>00 09 22.0</td>\n",
       "      <td>+06 46 42\\r</td>\n",
       "    </tr>\n",
       "    <tr>\n",
       "      <th>4</th>\n",
       "      <td>2.5728</td>\n",
       "      <td>33.0948</td>\n",
       "      <td>5.0</td>\n",
       "      <td>5</td>\n",
       "      <td>00 07.7</td>\n",
       "      <td>+32 49</td>\n",
       "      <td></td>\n",
       "      <td>66</td>\n",
       "      <td>0.0000</td>\n",
       "      <td>1</td>\n",
       "      <td>5</td>\n",
       "      <td>17.1</td>\n",
       "      <td>00 10 17.5</td>\n",
       "      <td>+33 05 41\\r</td>\n",
       "    </tr>\n",
       "    <tr>\n",
       "      <th>...</th>\n",
       "      <td>...</td>\n",
       "      <td>...</td>\n",
       "      <td>...</td>\n",
       "      <td>...</td>\n",
       "      <td>...</td>\n",
       "      <td>...</td>\n",
       "      <td>...</td>\n",
       "      <td>...</td>\n",
       "      <td>...</td>\n",
       "      <td>...</td>\n",
       "      <td>...</td>\n",
       "      <td>...</td>\n",
       "      <td>...</td>\n",
       "      <td>...</td>\n",
       "    </tr>\n",
       "    <tr>\n",
       "      <th>4071</th>\n",
       "      <td>0.1660</td>\n",
       "      <td>-21.1049</td>\n",
       "      <td>NaN</td>\n",
       "      <td>4072</td>\n",
       "      <td>23 58.1</td>\n",
       "      <td>-21 23</td>\n",
       "      <td>II-III</td>\n",
       "      <td>45</td>\n",
       "      <td>0.0000</td>\n",
       "      <td>0</td>\n",
       "      <td>6</td>\n",
       "      <td>18.6</td>\n",
       "      <td>00 00 39.8</td>\n",
       "      <td>-21 06 18\\r</td>\n",
       "    </tr>\n",
       "    <tr>\n",
       "      <th>4072</th>\n",
       "      <td>0.1665</td>\n",
       "      <td>-46.5549</td>\n",
       "      <td>NaN</td>\n",
       "      <td>4073</td>\n",
       "      <td>23 58.1</td>\n",
       "      <td>-46 50</td>\n",
       "      <td>II:</td>\n",
       "      <td>45</td>\n",
       "      <td>0.0000</td>\n",
       "      <td>0</td>\n",
       "      <td>6</td>\n",
       "      <td>19.1</td>\n",
       "      <td>00 00 40.0</td>\n",
       "      <td>-46 33 17\\r</td>\n",
       "    </tr>\n",
       "    <tr>\n",
       "      <th>4073</th>\n",
       "      <td>0.1912</td>\n",
       "      <td>-36.4049</td>\n",
       "      <td>NaN</td>\n",
       "      <td>4074</td>\n",
       "      <td>23 58.2</td>\n",
       "      <td>-36 41</td>\n",
       "      <td>III</td>\n",
       "      <td>60</td>\n",
       "      <td>0.0000</td>\n",
       "      <td>1</td>\n",
       "      <td>5</td>\n",
       "      <td>17.1</td>\n",
       "      <td>00 00 45.9</td>\n",
       "      <td>-36 24 18\\r</td>\n",
       "    </tr>\n",
       "    <tr>\n",
       "      <th>4074</th>\n",
       "      <td>0.2660</td>\n",
       "      <td>-46.7382</td>\n",
       "      <td>NaN</td>\n",
       "      <td>4075</td>\n",
       "      <td>23 58.5</td>\n",
       "      <td>-47 01</td>\n",
       "      <td>III</td>\n",
       "      <td>40</td>\n",
       "      <td>0.0000</td>\n",
       "      <td>0</td>\n",
       "      <td>6</td>\n",
       "      <td>19.0</td>\n",
       "      <td>00 01 03.8</td>\n",
       "      <td>-46 44 17\\r</td>\n",
       "    </tr>\n",
       "    <tr>\n",
       "      <th>4075</th>\n",
       "      <td>0.4400</td>\n",
       "      <td>-48.2382</td>\n",
       "      <td>NaN</td>\n",
       "      <td>4076</td>\n",
       "      <td>23 59.2</td>\n",
       "      <td>-48 31</td>\n",
       "      <td>II-III</td>\n",
       "      <td>64</td>\n",
       "      <td>0.0000</td>\n",
       "      <td>1</td>\n",
       "      <td>6</td>\n",
       "      <td>18.7</td>\n",
       "      <td>00 01 45.6</td>\n",
       "      <td>-48 14 17\\r</td>\n",
       "    </tr>\n",
       "  </tbody>\n",
       "</table>\n",
       "<p>4076 rows × 14 columns</p>\n",
       "</div>"
      ],
      "text/plain": [
       "      _RAJ2000  _DEJ2000  recno   ACO  RAB1950 DEB1950   BMtype  Count  \\\n",
       "0       1.8929   16.5116    1.0     1  00 05.0  +16 14  III         51   \n",
       "1       2.1125  -19.6384    2.0     2  00 05.9  -19 55  II          72   \n",
       "2       2.3163    4.0282    3.0     3  00 06.7  +03 45  II:         65   \n",
       "3       2.3418    6.7782    4.0     4  00 06.8  +06 30  III         55   \n",
       "4       2.5728   33.0948    5.0     5  00 07.7  +32 49              66   \n",
       "...        ...       ...    ...   ...      ...     ...      ...    ...   \n",
       "4071    0.1660  -21.1049    NaN  4072  23 58.1  -21 23  II-III      45   \n",
       "4072    0.1665  -46.5549    NaN  4073  23 58.1  -46 50  II:         45   \n",
       "4073    0.1912  -36.4049    NaN  4074  23 58.2  -36 41  III         60   \n",
       "4074    0.2660  -46.7382    NaN  4075  23 58.5  -47 01  III         40   \n",
       "4075    0.4400  -48.2382    NaN  4076  23 59.2  -48 31  II-III      64   \n",
       "\n",
       "           z  Rich  Dclass   m10    _RA_icrs     _DE_icrs  \n",
       "0     0.1249     1       5  17.1  00 07 34.3  +16 30 42\\r  \n",
       "1     0.0000     1       6  17.3  00 08 27.0  -19 38 18\\r  \n",
       "2     0.0000     1       5  17.0  00 09 15.9  +04 01 42\\r  \n",
       "3     0.0000     1       6  17.8  00 09 22.0  +06 46 42\\r  \n",
       "4     0.0000     1       5  17.1  00 10 17.5  +33 05 41\\r  \n",
       "...      ...   ...     ...   ...         ...          ...  \n",
       "4071  0.0000     0       6  18.6  00 00 39.8  -21 06 18\\r  \n",
       "4072  0.0000     0       6  19.1  00 00 40.0  -46 33 17\\r  \n",
       "4073  0.0000     1       5  17.1  00 00 45.9  -36 24 18\\r  \n",
       "4074  0.0000     0       6  19.0  00 01 03.8  -46 44 17\\r  \n",
       "4075  0.0000     1       6  18.7  00 01 45.6  -48 14 17\\r  \n",
       "\n",
       "[4076 rows x 14 columns]"
      ]
     },
     "execution_count": 5,
     "metadata": {},
     "output_type": "execute_result"
    }
   ],
   "source": [
    "abell"
   ]
  },
  {
   "cell_type": "code",
   "execution_count": 6,
   "metadata": {
    "ExecuteTime": {
     "end_time": "2021-03-27T11:04:06.989027Z",
     "start_time": "2021-03-27T11:04:06.974972Z"
    }
   },
   "outputs": [],
   "source": [
    "abell.rename(columns={'_RAJ2000' : 'RA', '_DEJ2000' : 'DEC'}, inplace=True)\n",
    "abell = abell[['RA', 'DEC', 'z', 'Rich']]"
   ]
  },
  {
   "cell_type": "code",
   "execution_count": 7,
   "metadata": {
    "ExecuteTime": {
     "end_time": "2021-03-27T11:04:07.791337Z",
     "start_time": "2021-03-27T11:04:07.729465Z"
    }
   },
   "outputs": [
    {
     "data": {
      "text/html": [
       "<div>\n",
       "<style scoped>\n",
       "    .dataframe tbody tr th:only-of-type {\n",
       "        vertical-align: middle;\n",
       "    }\n",
       "\n",
       "    .dataframe tbody tr th {\n",
       "        vertical-align: top;\n",
       "    }\n",
       "\n",
       "    .dataframe thead th {\n",
       "        text-align: right;\n",
       "    }\n",
       "</style>\n",
       "<table border=\"1\" class=\"dataframe\">\n",
       "  <thead>\n",
       "    <tr style=\"text-align: right;\">\n",
       "      <th></th>\n",
       "      <th>RA</th>\n",
       "      <th>DEC</th>\n",
       "      <th>z</th>\n",
       "      <th>Rich</th>\n",
       "    </tr>\n",
       "  </thead>\n",
       "  <tbody>\n",
       "    <tr>\n",
       "      <th>0</th>\n",
       "      <td>1.8929</td>\n",
       "      <td>16.5116</td>\n",
       "      <td>0.1249</td>\n",
       "      <td>1</td>\n",
       "    </tr>\n",
       "    <tr>\n",
       "      <th>1</th>\n",
       "      <td>2.1125</td>\n",
       "      <td>-19.6384</td>\n",
       "      <td>0.0000</td>\n",
       "      <td>1</td>\n",
       "    </tr>\n",
       "    <tr>\n",
       "      <th>2</th>\n",
       "      <td>2.3163</td>\n",
       "      <td>4.0282</td>\n",
       "      <td>0.0000</td>\n",
       "      <td>1</td>\n",
       "    </tr>\n",
       "    <tr>\n",
       "      <th>3</th>\n",
       "      <td>2.3418</td>\n",
       "      <td>6.7782</td>\n",
       "      <td>0.0000</td>\n",
       "      <td>1</td>\n",
       "    </tr>\n",
       "    <tr>\n",
       "      <th>4</th>\n",
       "      <td>2.5728</td>\n",
       "      <td>33.0948</td>\n",
       "      <td>0.0000</td>\n",
       "      <td>1</td>\n",
       "    </tr>\n",
       "    <tr>\n",
       "      <th>...</th>\n",
       "      <td>...</td>\n",
       "      <td>...</td>\n",
       "      <td>...</td>\n",
       "      <td>...</td>\n",
       "    </tr>\n",
       "    <tr>\n",
       "      <th>4071</th>\n",
       "      <td>0.1660</td>\n",
       "      <td>-21.1049</td>\n",
       "      <td>0.0000</td>\n",
       "      <td>0</td>\n",
       "    </tr>\n",
       "    <tr>\n",
       "      <th>4072</th>\n",
       "      <td>0.1665</td>\n",
       "      <td>-46.5549</td>\n",
       "      <td>0.0000</td>\n",
       "      <td>0</td>\n",
       "    </tr>\n",
       "    <tr>\n",
       "      <th>4073</th>\n",
       "      <td>0.1912</td>\n",
       "      <td>-36.4049</td>\n",
       "      <td>0.0000</td>\n",
       "      <td>1</td>\n",
       "    </tr>\n",
       "    <tr>\n",
       "      <th>4074</th>\n",
       "      <td>0.2660</td>\n",
       "      <td>-46.7382</td>\n",
       "      <td>0.0000</td>\n",
       "      <td>0</td>\n",
       "    </tr>\n",
       "    <tr>\n",
       "      <th>4075</th>\n",
       "      <td>0.4400</td>\n",
       "      <td>-48.2382</td>\n",
       "      <td>0.0000</td>\n",
       "      <td>1</td>\n",
       "    </tr>\n",
       "  </tbody>\n",
       "</table>\n",
       "<p>4076 rows × 4 columns</p>\n",
       "</div>"
      ],
      "text/plain": [
       "          RA      DEC       z  Rich\n",
       "0     1.8929  16.5116  0.1249     1\n",
       "1     2.1125 -19.6384  0.0000     1\n",
       "2     2.3163   4.0282  0.0000     1\n",
       "3     2.3418   6.7782  0.0000     1\n",
       "4     2.5728  33.0948  0.0000     1\n",
       "...      ...      ...     ...   ...\n",
       "4071  0.1660 -21.1049  0.0000     0\n",
       "4072  0.1665 -46.5549  0.0000     0\n",
       "4073  0.1912 -36.4049  0.0000     1\n",
       "4074  0.2660 -46.7382  0.0000     0\n",
       "4075  0.4400 -48.2382  0.0000     1\n",
       "\n",
       "[4076 rows x 4 columns]"
      ]
     },
     "execution_count": 7,
     "metadata": {},
     "output_type": "execute_result"
    }
   ],
   "source": [
    "abell"
   ]
  },
  {
   "cell_type": "code",
   "execution_count": 9,
   "metadata": {
    "ExecuteTime": {
     "end_time": "2021-03-27T11:04:53.366998Z",
     "start_time": "2021-03-27T11:04:53.346463Z"
    }
   },
   "outputs": [],
   "source": [
    "abell.to_csv('/home/rt2122/Data/original_catalogs/csv/Abell.csv', index=False)"
   ]
  },
  {
   "cell_type": "code",
   "execution_count": 8,
   "metadata": {
    "ExecuteTime": {
     "end_time": "2021-03-27T11:04:46.158537Z",
     "start_time": "2021-03-27T11:04:46.150361Z"
    }
   },
   "outputs": [
    {
     "data": {
      "text/plain": [
       "{0, 1, 2, 3, 4, 5}"
      ]
     },
     "execution_count": 8,
     "metadata": {},
     "output_type": "execute_result"
    }
   ],
   "source": [
    "set(abell['Rich'])"
   ]
  },
  {
   "cell_type": "code",
   "execution_count": null,
   "metadata": {},
   "outputs": [],
   "source": []
  }
 ],
 "metadata": {
  "kernelspec": {
   "display_name": "Python 3",
   "language": "python",
   "name": "python3"
  },
  "language_info": {
   "codemirror_mode": {
    "name": "ipython",
    "version": 3
   },
   "file_extension": ".py",
   "mimetype": "text/x-python",
   "name": "python",
   "nbconvert_exporter": "python",
   "pygments_lexer": "ipython3",
   "version": "3.8.3"
  }
 },
 "nbformat": 4,
 "nbformat_minor": 4
}
