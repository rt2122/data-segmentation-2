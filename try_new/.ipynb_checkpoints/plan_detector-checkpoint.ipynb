{
 "cells": [
  {
   "cell_type": "code",
   "execution_count": 27,
   "metadata": {
    "ExecuteTime": {
     "end_time": "2020-09-01T08:57:41.119883Z",
     "start_time": "2020-09-01T08:57:41.108629Z"
    }
   },
   "outputs": [],
   "source": [
    "import numpy as np\n",
    "from skimage.draw import circle\n",
    "from skimage.measure import moments_central, moments\n",
    "from skimage.segmentation import flood_fill, flood\n",
    "from matplotlib import pyplot as plt"
   ]
  },
  {
   "cell_type": "code",
   "execution_count": 11,
   "metadata": {
    "ExecuteTime": {
     "end_time": "2020-09-01T08:32:58.835513Z",
     "start_time": "2020-09-01T08:32:58.805445Z"
    }
   },
   "outputs": [],
   "source": [
    "pic = np.zeros((1024, 1024))\n",
    "pic[circle(612, 312, 250, shape=pic.shape)]=1"
   ]
  },
  {
   "cell_type": "code",
   "execution_count": 12,
   "metadata": {
    "ExecuteTime": {
     "end_time": "2020-09-01T08:32:59.433538Z",
     "start_time": "2020-09-01T08:32:59.168769Z"
    }
   },
   "outputs": [
    {
     "data": {
      "text/plain": [
       "<matplotlib.image.AxesImage at 0x7f88ee12c7c0>"
      ]
     },
     "execution_count": 12,
     "metadata": {},
     "output_type": "execute_result"
    },
    {
     "data": {
      "image/png": "[encoded data removed]",
      "text/plain": [
       "<Figure size 288x288 with 1 Axes>"
      ]
     },
     "metadata": {
      "needs_background": "light"
     },
     "output_type": "display_data"
    }
   ],
   "source": [
    "plt.matshow(pic)"
   ]
  },
  {
   "cell_type": "code",
   "execution_count": 15,
   "metadata": {
    "ExecuteTime": {
     "end_time": "2020-09-01T08:34:37.689503Z",
     "start_time": "2020-09-01T08:34:37.653288Z"
    }
   },
   "outputs": [
    {
     "data": {
      "text/plain": [
       "(612.0, 312.0)"
      ]
     },
     "execution_count": 15,
     "metadata": {},
     "output_type": "execute_result"
    }
   ],
   "source": [
    "M = moments(pic)\n",
    "centroid = (M[1, 0] / M[0, 0], M[0, 1] / M[0, 0])\n",
    "centroid"
   ]
  },
  {
   "cell_type": "code",
   "execution_count": 16,
   "metadata": {
    "ExecuteTime": {
     "end_time": "2020-09-01T08:36:08.023720Z",
     "start_time": "2020-09-01T08:36:07.652863Z"
    }
   },
   "outputs": [
    {
     "data": {
      "text/plain": [
       "<matplotlib.image.AxesImage at 0x7f88ee561670>"
      ]
     },
     "execution_count": 16,
     "metadata": {},
     "output_type": "execute_result"
    },
    {
     "data": {
      "image/png": "[encoded data removed]",
      "text/plain": [
       "<Figure size 288x288 with 1 Axes>"
      ]
     },
     "metadata": {
      "needs_background": "light"
     },
     "output_type": "display_data"
    }
   ],
   "source": [
    "pic = np.zeros((1024, 1024))\n",
    "pic[circle(612, 312, 150, shape=pic.shape)]=1\n",
    "pic[circle(412, 312, 150, shape=pic.shape)]=1\n",
    "pic[circle(412, 512, 100, shape=pic.shape)]=1\n",
    "plt.matshow(pic)"
   ]
  },
  {
   "cell_type": "code",
   "execution_count": 17,
   "metadata": {
    "ExecuteTime": {
     "end_time": "2020-09-01T08:36:51.292933Z",
     "start_time": "2020-09-01T08:36:51.260666Z"
    }
   },
   "outputs": [],
   "source": [
    "M = moments(pic)\n",
    "centroid = (M[1, 0] / M[0, 0], M[0, 1] / M[0, 0])\n",
    "centroid\n",
    "pic[circle(*centroid, 10, shape=pic.shape)] = 2"
   ]
  },
  {
   "cell_type": "code",
   "execution_count": 18,
   "metadata": {
    "ExecuteTime": {
     "end_time": "2020-09-01T08:36:57.954942Z",
     "start_time": "2020-09-01T08:36:57.617350Z"
    }
   },
   "outputs": [
    {
     "data": {
      "text/plain": [
       "<matplotlib.image.AxesImage at 0x7f88ee1faa00>"
      ]
     },
     "execution_count": 18,
     "metadata": {},
     "output_type": "execute_result"
    },
    {
     "data": {
      "image/png": "[encoded data removed]",
      "text/plain": [
       "<Figure size 288x288 with 1 Axes>"
      ]
     },
     "metadata": {
      "needs_background": "light"
     },
     "output_type": "display_data"
    }
   ],
   "source": [
    "plt.matshow(pic)"
   ]
  },
  {
   "cell_type": "code",
   "execution_count": 19,
   "metadata": {
    "ExecuteTime": {
     "end_time": "2020-09-01T08:37:49.514420Z",
     "start_time": "2020-09-01T08:37:49.195522Z"
    }
   },
   "outputs": [
    {
     "data": {
      "text/plain": [
       "<matplotlib.image.AxesImage at 0x7f88ee63f640>"
      ]
     },
     "execution_count": 19,
     "metadata": {},
     "output_type": "execute_result"
    },
    {
     "data": {
      "image/png": "[encoded data removed]",
      "text/plain": [
       "<Figure size 288x288 with 1 Axes>"
      ]
     },
     "metadata": {
      "needs_background": "light"
     },
     "output_type": "display_data"
    }
   ],
   "source": [
    "pic = np.zeros((1024, 1024))\n",
    "pic[circle(612, 312, 150, shape=pic.shape)]=1\n",
    "pic[circle(412, 312, 150, shape=pic.shape)]=1\n",
    "pic[circle(412, 512, 100, shape=pic.shape)]=1\n",
    "pic[circle(812, 812, 100, shape=pic.shape)]=1\n",
    "plt.matshow(pic)"
   ]
  },
  {
   "cell_type": "code",
   "execution_count": 20,
   "metadata": {
    "ExecuteTime": {
     "end_time": "2020-09-01T08:38:04.120150Z",
     "start_time": "2020-09-01T08:38:03.780221Z"
    }
   },
   "outputs": [
    {
     "data": {
      "text/plain": [
       "<matplotlib.image.AxesImage at 0x7f88ee36dc70>"
      ]
     },
     "execution_count": 20,
     "metadata": {},
     "output_type": "execute_result"
    },
    {
     "data": {
      "image/png": "[encoded data removed]",
      "text/plain": [
       "<Figure size 288x288 with 1 Axes>"
      ]
     },
     "metadata": {
      "needs_background": "light"
     },
     "output_type": "display_data"
    }
   ],
   "source": [
    "\n",
    "M = moments(pic)\n",
    "centroid = (M[1, 0] / M[0, 0], M[0, 1] / M[0, 0])\n",
    "centroid\n",
    "pic[circle(*centroid, 10, shape=pic.shape)] = 2\n",
    "plt.matshow(pic)"
   ]
  },
  {
   "cell_type": "code",
   "execution_count": 21,
   "metadata": {
    "ExecuteTime": {
     "end_time": "2020-09-01T08:51:43.299051Z",
     "start_time": "2020-09-01T08:51:43.244448Z"
    }
   },
   "outputs": [],
   "source": [
    "pic = np.zeros((1024, 1024))\n",
    "pic[circle(612, 312, 150, shape=pic.shape)]=1\n",
    "pic[circle(412, 312, 150, shape=pic.shape)]=1\n",
    "pic[circle(412, 512, 100, shape=pic.shape)]=1\n",
    "pic[circle(812, 812, 100, shape=pic.shape)]=1"
   ]
  },
  {
   "cell_type": "code",
   "execution_count": 23,
   "metadata": {
    "ExecuteTime": {
     "end_time": "2020-09-01T08:53:52.064601Z",
     "start_time": "2020-09-01T08:53:52.031670Z"
    }
   },
   "outputs": [
    {
     "data": {
      "text/plain": [
       "(2, 183674)"
      ]
     },
     "execution_count": 23,
     "metadata": {},
     "output_type": "execute_result"
    }
   ],
   "source": [
    "mask_coords = np.array(np.where(pic == 1))\n",
    "mask_coords.shape"
   ]
  },
  {
   "cell_type": "code",
   "execution_count": 24,
   "metadata": {
    "ExecuteTime": {
     "end_time": "2020-09-01T08:54:54.202450Z",
     "start_time": "2020-09-01T08:54:53.890749Z"
    }
   },
   "outputs": [
    {
     "data": {
      "text/plain": [
       "<matplotlib.image.AxesImage at 0x7f88f192d580>"
      ]
     },
     "execution_count": 24,
     "metadata": {},
     "output_type": "execute_result"
    },
    {
     "data": {
      "image/png": "[encoded data removed]",
      "text/plain": [
       "<Figure size 288x288 with 1 Axes>"
      ]
     },
     "metadata": {
      "needs_background": "light"
     },
     "output_type": "display_data"
    }
   ],
   "source": [
    "fig1 = mask_coords[:, 0]\n",
    "pic_copy = np.copy(pic)\n",
    "pic_copy[circle(*fig1, 10, shape=pic.shape)] += 1\n",
    "plt.matshow(pic_copy)"
   ]
  },
  {
   "cell_type": "code",
   "execution_count": 34,
   "metadata": {
    "ExecuteTime": {
     "end_time": "2020-09-01T09:00:49.314292Z",
     "start_time": "2020-09-01T09:00:48.990685Z"
    }
   },
   "outputs": [
    {
     "data": {
      "text/plain": [
       "<matplotlib.image.AxesImage at 0x7f88eece8250>"
      ]
     },
     "execution_count": 34,
     "metadata": {},
     "output_type": "execute_result"
    },
    {
     "data": {
      "image/png": "[encoded data removed]",
      "text/plain": [
       "<Figure size 288x288 with 1 Axes>"
      ]
     },
     "metadata": {
      "needs_background": "light"
     },
     "output_type": "display_data"
    }
   ],
   "source": [
    "pic_copy = np.copy(pic)\n",
    "pic_copy = flood(pic_copy, tuple(fig1), tolerance=0.5) \n",
    "plt.matshow(pic_copy)"
   ]
  },
  {
   "cell_type": "code",
   "execution_count": 36,
   "metadata": {
    "ExecuteTime": {
     "end_time": "2020-09-01T09:01:47.911321Z",
     "start_time": "2020-09-01T09:01:47.567415Z"
    }
   },
   "outputs": [
    {
     "data": {
      "text/plain": [
       "<matplotlib.image.AxesImage at 0x7f88ec2b9bb0>"
      ]
     },
     "execution_count": 36,
     "metadata": {},
     "output_type": "execute_result"
    },
    {
     "data": {
      "image/png": "[encoded data removed]",
      "text/plain": [
       "<Figure size 288x288 with 1 Axes>"
      ]
     },
     "metadata": {
      "needs_background": "light"
     },
     "output_type": "display_data"
    }
   ],
   "source": [
    "pic = flood_fill(pic, tuple(fig1), 0)\n",
    "plt.matshow(pic)"
   ]
  },
  {
   "cell_type": "code",
   "execution_count": 39,
   "metadata": {
    "ExecuteTime": {
     "end_time": "2020-09-01T12:24:10.901565Z",
     "start_time": "2020-09-01T12:24:10.893707Z"
    }
   },
   "outputs": [],
   "source": [
    "def find_centroid(pic):\n",
    "    from skimage.measure import moments\n",
    "    import numpy as np\n",
    "    \n",
    "    if len(pic.shape) > 2:\n",
    "        pic = np.copy(pic).reshape(list(pic.shape)[:-1])\n",
    "    M = moments(pic)\n",
    "    centroid = (M[1, 0] / M[0, 0], M[0, 1] / M[0, 0])\n",
    "    \n",
    "    return centroid"
   ]
  },
  {
   "cell_type": "code",
   "execution_count": 48,
   "metadata": {
    "ExecuteTime": {
     "end_time": "2020-09-01T12:28:27.655024Z",
     "start_time": "2020-09-01T12:28:27.485865Z"
    }
   },
   "outputs": [
    {
     "data": {
      "text/plain": [
       "<matplotlib.image.AxesImage at 0x7f88ec09e7c0>"
      ]
     },
     "execution_count": 48,
     "metadata": {},
     "output_type": "execute_result"
    },
    {
     "data": {
      "image/png": "[encoded data removed]",
      "text/plain": [
       "<Figure size 432x288 with 1 Axes>"
      ]
     },
     "metadata": {
      "needs_background": "light"
     },
     "output_type": "display_data"
    }
   ],
   "source": [
    "pic = np.zeros((1024, 1024))\n",
    "pic[circle(200, 200, 60, shape=pic.shape)] = 1\n",
    "pic[circle(250, 100, 70, shape=pic.shape)] = 1\n",
    "pic[circle(100, 200, 80, shape=pic.shape)] = 1\n",
    "plt.imshow(pic)"
   ]
  },
  {
   "cell_type": "code",
   "execution_count": 49,
   "metadata": {
    "ExecuteTime": {
     "end_time": "2020-09-01T12:29:01.681202Z",
     "start_time": "2020-09-01T12:29:01.558649Z"
    }
   },
   "outputs": [
    {
     "data": {
      "text/plain": [
       "<matplotlib.image.AxesImage at 0x7f88ec059ca0>"
      ]
     },
     "execution_count": 49,
     "metadata": {},
     "output_type": "execute_result"
    },
    {
     "data": {
      "image/png": "[encoded data removed]",
      "text/plain": [
       "<Figure size 288x288 with 1 Axes>"
      ]
     },
     "metadata": {
      "needs_background": "light"
     },
     "output_type": "display_data"
    }
   ],
   "source": [
    "centroid = find_centroid(pic)\n",
    "pic[circle(*centroid, 10, shape=pic.shape)] += 1\n",
    "plt.matshow(pic)"
   ]
  },
  {
   "cell_type": "code",
   "execution_count": 54,
   "metadata": {
    "ExecuteTime": {
     "end_time": "2020-09-01T12:35:22.525744Z",
     "start_time": "2020-09-01T12:35:22.521433Z"
    }
   },
   "outputs": [],
   "source": [
    "def divide_figures(pic):\n",
    "    import numpy as np\n",
    "    from skimage.segmentation import flood, flood_fill\n",
    "    \n",
    "    coords = np.array(np.where(pic == 1))\n",
    "    ans = []\n",
    "    while coords.shape[1] != 0:\n",
    "        seed_point = tuple(coords[:, 0])\n",
    "        ans.append(flood(pic, seed_point))\n",
    "        pic = flood_fill(pic, seed_point, 0)\n",
    "        \n",
    "        coords = np.array(np.where(pic == 1))\n",
    "    \n",
    "    return ans"
   ]
  },
  {
   "cell_type": "code",
   "execution_count": 53,
   "metadata": {
    "ExecuteTime": {
     "end_time": "2020-09-01T12:32:01.334511Z",
     "start_time": "2020-09-01T12:32:01.330006Z"
    }
   },
   "outputs": [
    {
     "data": {
      "text/plain": [
       "(2, 0)"
      ]
     },
     "execution_count": 53,
     "metadata": {},
     "output_type": "execute_result"
    }
   ],
   "source": [
    "a = np.zeros((10, 10))\n",
    "np.array(np.where(a == 1)).shape"
   ]
  },
  {
   "cell_type": "code",
   "execution_count": 63,
   "metadata": {
    "ExecuteTime": {
     "end_time": "2020-09-01T12:42:17.448385Z",
     "start_time": "2020-09-01T12:42:17.294035Z"
    }
   },
   "outputs": [
    {
     "data": {
      "text/plain": [
       "<matplotlib.image.AxesImage at 0x7f88e586cb20>"
      ]
     },
     "execution_count": 63,
     "metadata": {},
     "output_type": "execute_result"
    },
    {
     "data": {
      "image/png": "[encoded data removed]",
      "text/plain": [
       "<Figure size 288x288 with 1 Axes>"
      ]
     },
     "metadata": {
      "needs_background": "light"
     },
     "output_type": "display_data"
    }
   ],
   "source": [
    "pic = np.zeros((1024, 1024))\n",
    "pic[circle(100, 130, 50, shape=pic.shape)] = 1\n",
    "pic[circle(120, 100, 50, shape=pic.shape)] = 1\n",
    "\n",
    "pic[circle(500, 520, 60, shape=pic.shape)] = 1\n",
    "pic[circle(540, 510, 50, shape=pic.shape)] = 1\n",
    "\n",
    "pic[circle(900, 110, 50, shape=pic.shape)] = 1\n",
    "pic[circle(950, 100, 60, shape=pic.shape)] = 1\n",
    "\n",
    "plt.matshow(pic)"
   ]
  },
  {
   "cell_type": "code",
   "execution_count": 61,
   "metadata": {
    "ExecuteTime": {
     "end_time": "2020-09-01T12:38:26.203782Z",
     "start_time": "2020-09-01T12:38:25.973809Z"
    }
   },
   "outputs": [
    {
     "data": {
      "text/plain": [
       "<matplotlib.image.AxesImage at 0x7f88eecbcaf0>"
      ]
     },
     "execution_count": 61,
     "metadata": {},
     "output_type": "execute_result"
    },
    {
     "data": {
      "image/png": "[encoded data removed]",
      "text/plain": [
       "<Figure size 432x288 with 1 Axes>"
      ]
     },
     "metadata": {
      "needs_background": "light"
     },
     "output_type": "display_data"
    }
   ],
   "source": [
    "divided = divide_figures(pic)\n",
    "plt.imshow(np.dstack(divided).astype(np.float32))"
   ]
  },
  {
   "cell_type": "code",
   "execution_count": 62,
   "metadata": {
    "ExecuteTime": {
     "end_time": "2020-09-01T12:42:04.171779Z",
     "start_time": "2020-09-01T12:42:04.164978Z"
    }
   },
   "outputs": [],
   "source": [
    "def find_centers_on_mask(mask, thr=0.8):\n",
    "    import numpy as np\n",
    "    \n",
    "    mask = np.copy(mask) >= thr\n",
    "    figures = divide_figures(mask)\n",
    "    centers = []\n",
    "    for figure in figures:\n",
    "        centers.append(find_centroid(figure))\n",
    "        \n",
    "    return np.array(centers)"
   ]
  },
  {
   "cell_type": "code",
   "execution_count": null,
   "metadata": {},
   "outputs": [],
   "source": []
  }
 ],
 "metadata": {
  "kernelspec": {
   "display_name": "Python 3",
   "language": "python",
   "name": "python3"
  },
  "language_info": {
   "codemirror_mode": {
    "name": "ipython",
    "version": 3
   },
   "file_extension": ".py",
   "mimetype": "text/x-python",
   "name": "python",
   "nbconvert_exporter": "python",
   "pygments_lexer": "ipython3",
   "version": "3.8.3"
  }
 },
 "nbformat": 4,
 "nbformat_minor": 4
}
