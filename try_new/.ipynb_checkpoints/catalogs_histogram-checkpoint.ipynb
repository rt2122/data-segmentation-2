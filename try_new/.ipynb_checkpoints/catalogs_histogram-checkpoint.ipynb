{
 "cells": [
  {
   "cell_type": "code",
   "execution_count": 1,
   "metadata": {
    "ExecuteTime": {
     "end_time": "2020-11-27T16:52:20.018740Z",
     "start_time": "2020-11-27T16:52:10.607647Z"
    }
   },
   "outputs": [],
   "source": [
    "import numpy as np\n",
    "import pandas as pd\n",
    "from astropy.io import fits\n",
    "from matplotlib import pyplot as plt"
   ]
  },
  {
   "cell_type": "code",
   "execution_count": 2,
   "metadata": {
    "ExecuteTime": {
     "end_time": "2020-11-27T16:52:22.757079Z",
     "start_time": "2020-11-27T16:52:20.021690Z"
    }
   },
   "outputs": [],
   "source": [
    "z = {}\n",
    "m = {}\n",
    "with fits.open('/home/rt2122/Data/original_catalogs/psz2.fits') as hdul:\n",
    "    data = hdul[1].data\n",
    "    z['PSZ2'] = np.array(data['REDSHIFT'])\n",
    "    m['PSZ2'] = np.array(data['MSZ'])"
   ]
  },
  {
   "cell_type": "code",
   "execution_count": 3,
   "metadata": {
    "ExecuteTime": {
     "end_time": "2020-11-27T16:52:22.888467Z",
     "start_time": "2020-11-27T16:52:22.769155Z"
    }
   },
   "outputs": [],
   "source": [
    "with fits.open('/home/rt2122/Data/original_catalogs/mcxc.fits') as hdul:\n",
    "    data = hdul[1].data\n",
    "    z['MCXC'] = np.array(data['z'])\n",
    "    m['MCXC'] = np.array(data['M500'])"
   ]
  },
  {
   "cell_type": "code",
   "execution_count": 13,
   "metadata": {
    "ExecuteTime": {
     "end_time": "2020-11-27T16:52:56.841821Z",
     "start_time": "2020-11-27T16:52:56.661663Z"
    }
   },
   "outputs": [],
   "source": [
    "with fits.open('/home/rt2122/Data/original_catalogs/redmapper.fits.gz') as hdul:\n",
    "    data = hdul[1].data\n",
    "    data = data[data['LAMBDA'] > 50]\n",
    "    z['redMaPPer'] = np.array(data['Z_SPEC'])\n",
    "    m['redMaPPer'] = m500(np.array(data['LAMBDA']), z['redMaPPer'])"
   ]
  },
  {
   "cell_type": "code",
   "execution_count": 8,
   "metadata": {
    "ExecuteTime": {
     "end_time": "2020-11-27T16:52:34.465160Z",
     "start_time": "2020-11-27T16:52:34.456669Z"
    }
   },
   "outputs": [],
   "source": [
    "def e(z, omega_m = 0.3, omega_l = 0.7, omega_k = 1):\n",
    "    return np.sqrt(omega_m * (1 + z) ** 3 + omega_l + omega_k * (1 + z) ** 2)"
   ]
  },
  {
   "cell_type": "code",
   "execution_count": 9,
   "metadata": {
    "ExecuteTime": {
     "end_time": "2020-11-27T16:52:34.625751Z",
     "start_time": "2020-11-27T16:52:34.623357Z"
    }
   },
   "outputs": [],
   "source": [
    "def my_log(x, base):\n",
    "    return np.log(x) / np.log(base)"
   ]
  },
  {
   "cell_type": "code",
   "execution_count": 12,
   "metadata": {
    "ExecuteTime": {
     "end_time": "2020-11-27T16:52:53.433514Z",
     "start_time": "2020-11-27T16:52:53.423346Z"
    }
   },
   "outputs": [],
   "source": [
    "def m500(lmd, z, A=66.1, B=1.14, C=0.73, m_sun=1.988 * (10 ** 30)):\n",
    "    from scipy.constants import h\n",
    "    divider = m_sun * 10 ** 14\n",
    "    divider = 10 ** 33 * 5\n",
    "    divider=1\n",
    "    return my_log(lmd  / (A * (e(z) / e(0.6)) ** C), B)\\\n",
    "        * 3 / (h * divider)"
   ]
  },
  {
   "cell_type": "code",
   "execution_count": 14,
   "metadata": {
    "ExecuteTime": {
     "end_time": "2020-11-27T16:52:59.242247Z",
     "start_time": "2020-11-27T16:52:59.227313Z"
    }
   },
   "outputs": [],
   "source": [
    "def overlaid_histogram(data1, data2, data3, n_bins = 0, \n",
    "                       data1_name=\"\", data1_color=\"#539caf\", \n",
    "                       data2_name=\"\", data2_color=\"#7663b0\", \n",
    "                       data3_name = \"\", data3_color=\"#ffff00\", \n",
    "                       x_label=\"\", y_label=\"\", title=\"\"):\n",
    "    # Set the bounds for the bins so that the two distributions are fairly compared\n",
    "    max_nbins = 10\n",
    "    data_range = [min(min(data1), min(data2), min(data3)), \n",
    "                  max(max(data1), max(data2), max(data3))]\n",
    "    binwidth = (data_range[1] - data_range[0]) / max_nbins\n",
    "\n",
    "\n",
    "    bins = n_bins\n",
    "\n",
    "    # Create the plot\n",
    "    _, ax = plt.subplots()\n",
    "    ax.hist(data1, bins = bins, color = data1_color, alpha = 0.75, label = data1_name)\n",
    "    ax.hist(data2, bins = bins, color = data2_color, alpha = 0.75, label = data2_name)\n",
    "    ax.hist(data3, bins = bins, color = data3_color, alpha = 0.75, label = data3_name)\n",
    "    ax.set_ylabel(y_label)\n",
    "    ax.set_xlabel(x_label)\n",
    "    ax.set_title(title)\n",
    "    ax.legend(loc = 'best')"
   ]
  },
  {
   "cell_type": "code",
   "execution_count": 15,
   "metadata": {
    "ExecuteTime": {
     "end_time": "2020-11-27T16:52:59.476735Z",
     "start_time": "2020-11-27T16:52:59.472412Z"
    }
   },
   "outputs": [],
   "source": [
    "cats = [cat for cat in z]"
   ]
  },
  {
   "cell_type": "code",
   "execution_count": 16,
   "metadata": {
    "ExecuteTime": {
     "end_time": "2020-11-27T16:52:59.752819Z",
     "start_time": "2020-11-27T16:52:59.739051Z"
    }
   },
   "outputs": [],
   "source": [
    "for cat in z:\n",
    "    z[cat] = z[cat][z[cat] != -1]"
   ]
  },
  {
   "cell_type": "code",
   "execution_count": 17,
   "metadata": {
    "ExecuteTime": {
     "end_time": "2020-11-27T16:53:01.459378Z",
     "start_time": "2020-11-27T16:53:00.614985Z"
    }
   },
   "outputs": [
    {
     "data": {
      "image/png": "[encoded data removed]",
      "text/plain": [
       "<Figure size 432x288 with 1 Axes>"
      ]
     },
     "metadata": {
      "needs_background": "light"
     },
     "output_type": "display_data"
    }
   ],
   "source": [
    "overlaid_histogram(*[z[cat] for cat in z], n_bins=50, \n",
    "                   data1_name=cats[0], data2_name=cats[1], data3_name=cats[2], \n",
    "                  x_label='z')"
   ]
  },
  {
   "cell_type": "code",
   "execution_count": 18,
   "metadata": {
    "ExecuteTime": {
     "end_time": "2020-11-27T16:53:01.466152Z",
     "start_time": "2020-11-27T16:53:01.462154Z"
    }
   },
   "outputs": [],
   "source": [
    "for cat in m:\n",
    "    m[cat] = m[cat][m[cat] > 0]"
   ]
  },
  {
   "cell_type": "code",
   "execution_count": 19,
   "metadata": {
    "ExecuteTime": {
     "end_time": "2020-11-27T16:53:02.704319Z",
     "start_time": "2020-11-27T16:53:02.277343Z"
    }
   },
   "outputs": [
    {
     "data": {
      "image/png": "[encoded data removed]",
      "text/plain": [
       "<Figure size 432x288 with 1 Axes>"
      ]
     },
     "metadata": {
      "needs_background": "light"
     },
     "output_type": "display_data"
    }
   ],
   "source": [
    "overlaid_histogram(*[m[cat] for cat in z], n_bins=60, \n",
    "                   data1_name=cats[0], data2_name=cats[1], data3_name=cats[2], \n",
    "                  x_label='M500')"
   ]
  },
  {
   "cell_type": "code",
   "execution_count": 88,
   "metadata": {
    "ExecuteTime": {
     "end_time": "2020-11-25T10:33:32.792804Z",
     "start_time": "2020-11-25T10:33:32.781533Z"
    }
   },
   "outputs": [
    {
     "name": "stdout",
     "output_type": "stream",
     "text": [
      "PSZ2 0.7850758 16.116468\n",
      "MCXC 0.0096 22.1\n",
      "redMaPPer 6.816564e+30 6.918015e+34\n"
     ]
    }
   ],
   "source": [
    "for cat in m:\n",
    "    print(cat, m[cat].min(), m[cat].max())"
   ]
  },
  {
   "cell_type": "code",
   "execution_count": null,
   "metadata": {},
   "outputs": [],
   "source": []
  }
 ],
 "metadata": {
  "kernelspec": {
   "display_name": "Python 3",
   "language": "python",
   "name": "python3"
  },
  "language_info": {
   "codemirror_mode": {
    "name": "ipython",
    "version": 3
   },
   "file_extension": ".py",
   "mimetype": "text/x-python",
   "name": "python",
   "nbconvert_exporter": "python",
   "pygments_lexer": "ipython3",
   "version": "3.8.3"
  }
 },
 "nbformat": 4,
 "nbformat_minor": 4
}
