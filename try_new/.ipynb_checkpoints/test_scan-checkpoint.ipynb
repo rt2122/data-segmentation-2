{
 "cells": [
  {
   "cell_type": "code",
   "execution_count": 1,
   "metadata": {
    "ExecuteTime": {
     "end_time": "2020-09-04T19:08:50.364203Z",
     "start_time": "2020-09-04T19:08:50.122261Z"
    }
   },
   "outputs": [],
   "source": [
    "from DS_Planck_Unet import *\n",
    "import numpy as np\n",
    "import pandas as pd"
   ]
  },
  {
   "cell_type": "code",
   "execution_count": 2,
   "metadata": {
    "ExecuteTime": {
     "end_time": "2020-09-04T19:08:50.619117Z",
     "start_time": "2020-09-04T19:08:50.598264Z"
    }
   },
   "outputs": [],
   "source": [
    "def false_clusters(n, nside, clusters_dir, bigpixels, max_rad=1):\n",
    "    import os\n",
    "    import pandas as pd\n",
    "    import numpy as np\n",
    "    import healpy as hp\n",
    "    from astropy.coordinates import SkyCoord\n",
    "    from astropy import units as u\n",
    "    \n",
    "    files = next(os.walk(clusters_dir))[-1]\n",
    "    clusters = []\n",
    "    for file in files:\n",
    "        clusters.append(pd.read_csv(os.path.join(clusters_dir, file)))\n",
    "    clusters = pd.concat(clusters)\n",
    "    \n",
    "    no_clusters = set(np.arange(hp.nside2npix(nside)))\n",
    "    sc = SkyCoord(ra=clusters['RA']*u.degree, dec=clusters['DEC']*u.degree, frame='icrs')\n",
    "    vecs = hp.ang2vec(theta=sc.galactic.l.degree, phi=sc.galactic.b.degree, lonlat=True)\n",
    "    for vec in vecs:\n",
    "        no_clusters = no_clusters.difference(set(hp.query_disc(vec=vec, nside=nside, \n",
    "                            nest=True, radius=np.radians(max_rad), inclusive=False)))\n",
    "        \n",
    "    no_clusters = np.array(list(no_clusters))\n",
    "    ang = hp.pix2ang(nside=nside, ipix=no_clusters, nest=True, lonlat=True)\n",
    "    bp = hp.ang2pix(nside=2, theta=ang[0], phi=ang[1], lonlat=True, nest=True)\n",
    "    no_clusters = no_clusters[np.in1d(bp, bigpixels)]\n",
    "    pics, matrs = gen_batch(np.array(no_clusters), n, nside, \n",
    "                            pd.DataFrame({'RA' : [], 'DEC': []}))\n",
    "    return pics, matrs"
   ]
  },
  {
   "cell_type": "code",
   "execution_count": 3,
   "metadata": {
    "ExecuteTime": {
     "end_time": "2020-09-04T19:08:51.005848Z",
     "start_time": "2020-09-04T19:08:50.996126Z"
    }
   },
   "outputs": [],
   "source": [
    "def clusters_in_pix(clusters, pix, nside):\n",
    "    import pandas as pd\n",
    "    import healpy as hp\n",
    "    import numpy as np\n",
    "    from DS_healpix_fragmentation import radec2pix\n",
    "    \n",
    "    df = pd.read_csv(clusters)\n",
    "    cl_pix = radec2pix(df['RA'], df['DEC'], nside)\n",
    "    df = df[cl_pix == pix]\n",
    "    df.index = np.arange(df.shape[0])\n",
    "    \n",
    "    return df"
   ]
  },
  {
   "cell_type": "code",
   "execution_count": 4,
   "metadata": {
    "ExecuteTime": {
     "end_time": "2020-09-04T19:08:51.546086Z",
     "start_time": "2020-09-04T19:08:51.520593Z"
    }
   },
   "outputs": [],
   "source": [
    "def scan_pix(clusters, model, ipix, nside=2, depth=10, thr=0.8, min_dist=5/60, \n",
    "             step=64, size=64, n_false=None, search_nside=256):\n",
    "    from DS_healpix_fragmentation import one_pixel_fragmentation, pix2radec, radec2pix\n",
    "    from DS_Planck_Unet import draw_pic_with_mask\n",
    "    from DS_detector import find_centers_on_ans\n",
    "    from astropy.coordinates import SkyCoord\n",
    "    from astropy import units as u\n",
    "    import pandas as pd\n",
    "    import numpy as np\n",
    "    import healpy as hp\n",
    "    from tensorflow.keras import backend as K\n",
    "    from tqdm.notebook import tqdm\n",
    "    \n",
    "    big_matr = one_pixel_fragmentation(nside, ipix, depth)\n",
    "    \n",
    "    true_clusters = clusters_in_pix(clusters, ipix, nside)\n",
    "    if n_false is None:\n",
    "        n_false = len(true_clusters)\n",
    "    \n",
    "    pics, matrs = [], []\n",
    "    \n",
    "    for i in range(0, big_matr.shape[0] - step, step):\n",
    "        for j in range(0, big_matr.shape[1], step):\n",
    "            matr = big_matr[i:i+size,j:j+size]\n",
    "            if matr.shape[0] == size and matr.shape[1] == size:\n",
    "                pic = draw_pic(matr)\n",
    "                pics.append(pic)\n",
    "                matrs.append(matr)\n",
    "    pics = np.array(pics)\n",
    "    ans = model.predict(pics)\n",
    "    ans = np.array(ans)\n",
    "    found_clusters = find_centers_on_ans(ans, matrs, thr)\n",
    "    all_found = len(found_clusters)\n",
    "    theta, phi = hp.pix2ang(ipix=found_clusters, nest=True, nside=nside*2**depth,\n",
    "                           lonlat=True)    \n",
    "    sc_true = SkyCoord(ra=true_clusters['RA']*u.degree, \n",
    "                       dec=true_clusters['DEC']*u.degree, frame='icrs')\n",
    "    sc_found = SkyCoord(l=theta*u.degree,\n",
    "                       b=phi*u.degree, frame='galactic')\n",
    "    \n",
    "    idx, d2d, _ = sc_found.match_to_catalog_sky(sc_true)\n",
    "    tp = np.count_nonzero(d2d.degree <= min_dist)\n",
    "    fn = true_clusters.shape[0] - tp\n",
    "    #----test false clusters----#\n",
    "    pics, matrs = false_clusters(n_false, search_nside, '/home/rt2122/Data/clusters/',\n",
    "                                [ipix])\n",
    "    pics = np.array(pics)\n",
    "    ans = model.predict(pics)\n",
    "    ans = np.array(ans)\n",
    "    found_clusters, tn = find_centers_on_ans(ans, matrs, thr, count_blanck=True)\n",
    "    fp = len(found_clusters)\n",
    "    \n",
    "    \n",
    "    \n",
    "    res_table = pd.DataFrame({'tp': tp, 'fp': fp, 'tn': tn, 'fn': fn, \n",
    "                              'all_found' : all_found,\n",
    "                             'min_dist' : d2d.degree.min(), 'pix2' : ipix}, index=[0])\n",
    "    return res_table\n"
   ]
  },
  {
   "cell_type": "code",
   "execution_count": 5,
   "metadata": {
    "ExecuteTime": {
     "end_time": "2020-09-04T19:08:55.792775Z",
     "start_time": "2020-09-04T19:08:52.699010Z"
    }
   },
   "outputs": [],
   "source": [
    "model = unet_planck(weights='/home/rt2122/Models/model.01-0.10.h5')"
   ]
  },
  {
   "cell_type": "code",
   "execution_count": 6,
   "metadata": {
    "ExecuteTime": {
     "end_time": "2020-09-04T19:12:18.466410Z",
     "start_time": "2020-09-04T19:08:55.795471Z"
    }
   },
   "outputs": [
    {
     "name": "stderr",
     "output_type": "stream",
     "text": [
      "/home/rt2122/L/git/data-segmentation-2/modules/DS_detector.py:47: FutureWarning: Using a non-tuple sequence for multidimensional indexing is deprecated; use `arr[tuple(seq)]` instead of `arr[seq]`. In the future this will be interpreted as an array index, `arr[np.array(seq)]`, which will result either in an error or a different result.\n",
      "  centers.extend(list(matrs[i][[new_cen[:, 0], new_cen[:, 1]]]))\n"
     ]
    }
   ],
   "source": [
    "res = scan_pix('/home/rt2122/Data/clusters/planck_z.csv', model, train_pix[0], thr=0.7)"
   ]
  },
  {
   "cell_type": "code",
   "execution_count": 7,
   "metadata": {
    "ExecuteTime": {
     "end_time": "2020-09-04T19:15:51.831786Z",
     "start_time": "2020-09-04T19:12:18.476693Z"
    }
   },
   "outputs": [],
   "source": [
    "res1 = scan_pix('/home/rt2122/Data/clusters/planck_z.csv', model, test_pix[0], thr=0.7)"
   ]
  },
  {
   "cell_type": "code",
   "execution_count": 8,
   "metadata": {
    "ExecuteTime": {
     "end_time": "2020-09-04T19:15:51.887372Z",
     "start_time": "2020-09-04T19:15:51.842151Z"
    }
   },
   "outputs": [
    {
     "data": {
      "text/html": [
       "<div>\n",
       "<style scoped>\n",
       "    .dataframe tbody tr th:only-of-type {\n",
       "        vertical-align: middle;\n",
       "    }\n",
       "\n",
       "    .dataframe tbody tr th {\n",
       "        vertical-align: top;\n",
       "    }\n",
       "\n",
       "    .dataframe thead th {\n",
       "        text-align: right;\n",
       "    }\n",
       "</style>\n",
       "<table border=\"1\" class=\"dataframe\">\n",
       "  <thead>\n",
       "    <tr style=\"text-align: right;\">\n",
       "      <th></th>\n",
       "      <th>tp</th>\n",
       "      <th>fp</th>\n",
       "      <th>tn</th>\n",
       "      <th>fn</th>\n",
       "      <th>all_found</th>\n",
       "      <th>min_dist</th>\n",
       "      <th>pix2</th>\n",
       "    </tr>\n",
       "  </thead>\n",
       "  <tbody>\n",
       "    <tr>\n",
       "      <th>0</th>\n",
       "      <td>5</td>\n",
       "      <td>11</td>\n",
       "      <td>13</td>\n",
       "      <td>15</td>\n",
       "      <td>169</td>\n",
       "      <td>0.008416</td>\n",
       "      <td>0</td>\n",
       "    </tr>\n",
       "    <tr>\n",
       "      <th>0</th>\n",
       "      <td>17</td>\n",
       "      <td>49</td>\n",
       "      <td>19</td>\n",
       "      <td>25</td>\n",
       "      <td>280</td>\n",
       "      <td>0.007522</td>\n",
       "      <td>7</td>\n",
       "    </tr>\n",
       "  </tbody>\n",
       "</table>\n",
       "</div>"
      ],
      "text/plain": [
       "   tp  fp  tn  fn  all_found  min_dist  pix2\n",
       "0   5  11  13  15        169  0.008416     0\n",
       "0  17  49  19  25        280  0.007522     7"
      ]
     },
     "execution_count": 8,
     "metadata": {},
     "output_type": "execute_result"
    }
   ],
   "source": [
    "pd.concat([res, res1])"
   ]
  },
  {
   "cell_type": "code",
   "execution_count": null,
   "metadata": {},
   "outputs": [],
   "source": []
  }
 ],
 "metadata": {
  "kernelspec": {
   "display_name": "Python 3",
   "language": "python",
   "name": "python3"
  },
  "language_info": {
   "codemirror_mode": {
    "name": "ipython",
    "version": 3
   },
   "file_extension": ".py",
   "mimetype": "text/x-python",
   "name": "python",
   "nbconvert_exporter": "python",
   "pygments_lexer": "ipython3",
   "version": "3.8.3"
  }
 },
 "nbformat": 4,
 "nbformat_minor": 4
}
