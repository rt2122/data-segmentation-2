{
 "cells": [
  {
   "cell_type": "code",
   "execution_count": 29,
   "metadata": {
    "ExecuteTime": {
     "end_time": "2021-03-16T15:23:49.311551Z",
     "start_time": "2021-03-16T15:23:47.185427Z"
    }
   },
   "outputs": [],
   "source": [
    "import numpy as np\n",
    "import pandas as pd\n",
    "from tqdm.notebook import tqdm\n",
    "import seaborn as sns\n",
    "from matplotlib import pyplot as plt\n",
    "from matplotlib import cm\n",
    "from matplotlib.ticker import LinearLocator"
   ]
  },
  {
   "cell_type": "code",
   "execution_count": 2,
   "metadata": {
    "ExecuteTime": {
     "end_time": "2021-03-16T14:08:34.536225Z",
     "start_time": "2021-03-16T14:08:34.531591Z"
    }
   },
   "outputs": [],
   "source": [
    "patches = {'pz_only' : '/home/rt2122/Data/Planck/coords/pz_only_patches.csv', \n",
    "          'act_erosita' : '/home/rt2122/Data/Planck/coords/act_erosita_patches.csv',\n",
    "          'pz_act_jan' : '/home/rt2122/Data/Planck/coords/pz_act_jan_patches.csv',\n",
    "          'pz_act_found' : '/home/rt2122/Data/Planck/coords/pz_act_found_patches.csv',\n",
    "          'pz_all_found' : '/home/rt2122/Data/Planck/coords/pz_all_found_patches.csv'}"
   ]
  },
  {
   "cell_type": "code",
   "execution_count": 4,
   "metadata": {
    "ExecuteTime": {
     "end_time": "2021-03-16T14:15:43.385582Z",
     "start_time": "2021-03-16T14:15:42.921056Z"
    }
   },
   "outputs": [
    {
     "data": {
      "text/html": [
       "<div>\n",
       "<style scoped>\n",
       "    .dataframe tbody tr th:only-of-type {\n",
       "        vertical-align: middle;\n",
       "    }\n",
       "\n",
       "    .dataframe tbody tr th {\n",
       "        vertical-align: top;\n",
       "    }\n",
       "\n",
       "    .dataframe thead th {\n",
       "        text-align: right;\n",
       "    }\n",
       "</style>\n",
       "<table border=\"1\" class=\"dataframe\">\n",
       "  <thead>\n",
       "    <tr style=\"text-align: right;\">\n",
       "      <th></th>\n",
       "      <th>x</th>\n",
       "      <th>y</th>\n",
       "      <th>pix</th>\n",
       "    </tr>\n",
       "  </thead>\n",
       "  <tbody>\n",
       "    <tr>\n",
       "      <th>0</th>\n",
       "      <td>720</td>\n",
       "      <td>438</td>\n",
       "      <td>0</td>\n",
       "    </tr>\n",
       "    <tr>\n",
       "      <th>1</th>\n",
       "      <td>780</td>\n",
       "      <td>489</td>\n",
       "      <td>0</td>\n",
       "    </tr>\n",
       "    <tr>\n",
       "      <th>2</th>\n",
       "      <td>491</td>\n",
       "      <td>386</td>\n",
       "      <td>0</td>\n",
       "    </tr>\n",
       "    <tr>\n",
       "      <th>3</th>\n",
       "      <td>59</td>\n",
       "      <td>729</td>\n",
       "      <td>0</td>\n",
       "    </tr>\n",
       "    <tr>\n",
       "      <th>4</th>\n",
       "      <td>647</td>\n",
       "      <td>899</td>\n",
       "      <td>0</td>\n",
       "    </tr>\n",
       "    <tr>\n",
       "      <th>...</th>\n",
       "      <td>...</td>\n",
       "      <td>...</td>\n",
       "      <td>...</td>\n",
       "    </tr>\n",
       "    <tr>\n",
       "      <th>3665328</th>\n",
       "      <td>570</td>\n",
       "      <td>494</td>\n",
       "      <td>47</td>\n",
       "    </tr>\n",
       "    <tr>\n",
       "      <th>3665329</th>\n",
       "      <td>262</td>\n",
       "      <td>149</td>\n",
       "      <td>47</td>\n",
       "    </tr>\n",
       "    <tr>\n",
       "      <th>3665330</th>\n",
       "      <td>368</td>\n",
       "      <td>545</td>\n",
       "      <td>47</td>\n",
       "    </tr>\n",
       "    <tr>\n",
       "      <th>3665331</th>\n",
       "      <td>74</td>\n",
       "      <td>98</td>\n",
       "      <td>47</td>\n",
       "    </tr>\n",
       "    <tr>\n",
       "      <th>3665332</th>\n",
       "      <td>473</td>\n",
       "      <td>561</td>\n",
       "      <td>47</td>\n",
       "    </tr>\n",
       "  </tbody>\n",
       "</table>\n",
       "<p>3665333 rows × 3 columns</p>\n",
       "</div>"
      ],
      "text/plain": [
       "           x    y  pix\n",
       "0        720  438    0\n",
       "1        780  489    0\n",
       "2        491  386    0\n",
       "3         59  729    0\n",
       "4        647  899    0\n",
       "...      ...  ...  ...\n",
       "3665328  570  494   47\n",
       "3665329  262  149   47\n",
       "3665330  368  545   47\n",
       "3665331   74   98   47\n",
       "3665332  473  561   47\n",
       "\n",
       "[3665333 rows x 3 columns]"
      ]
     },
     "execution_count": 4,
     "metadata": {},
     "output_type": "execute_result"
    }
   ],
   "source": [
    "pd.read_csv(patches['pz_only'])"
   ]
  },
  {
   "cell_type": "code",
   "execution_count": 18,
   "metadata": {
    "ExecuteTime": {
     "end_time": "2021-03-16T14:29:59.757989Z",
     "start_time": "2021-03-16T14:29:59.753382Z"
    }
   },
   "outputs": [],
   "source": [
    "def patches_df_get_ra_dec(df):\n",
    "    from DS_healpix_fragmentation import one_pixel_fragmentation, pix2radec\n",
    "    df['pix11'] = 0\n",
    "    for i in tqdm(range(48)):\n",
    "        matr = one_pixel_fragmentation(2, i, 10)\n",
    "        x = df[df['pix'] == i]['x']\n",
    "        y = df[df['pix'] == i]['y']\n",
    "        df['pix11'].loc[df['pix'] == i] = matr[x, y]\n",
    "    df['RA'], df['DEC'] = pix2radec(df['pix11'], 2**11)\n",
    "    return df"
   ]
  },
  {
   "cell_type": "code",
   "execution_count": 23,
   "metadata": {
    "ExecuteTime": {
     "end_time": "2021-03-16T14:44:12.007119Z",
     "start_time": "2021-03-16T14:44:12.000469Z"
    }
   },
   "outputs": [],
   "source": [
    "def stat_patches_file(file_name, true_cats_dir='/home/rt2122/Data/original_catalogs/csv/'):\n",
    "    import os\n",
    "    import numpy as np\n",
    "    import pandas as pd\n",
    "    from DS_healpix_fragmentation import pix2radec\n",
    "    from astropy.coordinates import SkyCoord\n",
    "    from astropy import units as u\n",
    "    \n",
    "    df = pd.read_csv(file_name)\n",
    "    df['x'] += 32\n",
    "    df['y'] += 32\n",
    "    df = patches_df_get_ra_dec(df)\n",
    "    line = {}\n",
    "    line['number of patches'] = len(df)\n",
    "    \n",
    "    df_sc = SkyCoord(ra=np.array(df['RA'])*u.degree, dec=np.array(df['DEC'])*u.degree, frame='icrs')\n",
    "    \n",
    "    true_cats_files = next(os.walk(true_cats_dir))[-1]\n",
    "    true_cats_files = [os.path.join(true_cats_dir, file) for file in true_cats_files]\n",
    "    \n",
    "    true_cats = {os.path.splitext(os.path.basename(file))[0] : pd.read_csv(file) for file in true_cats_files}\n",
    "    \n",
    "    for tr_name in true_cats:\n",
    "        tr = true_cats[tr_name]\n",
    "        tr_sc = SkyCoord(ra=np.array(tr['RA'])*u.degree, dec=np.array(tr['DEC'])*u.degree, frame='icrs')\n",
    "        \n",
    "        _, d2d, _ = df_sc.match_to_catalog_sky(tr_sc)\n",
    "        line[tr_name + ' count'] = np.count_nonzero(d2d.degree < 1.83)\n",
    "    return line"
   ]
  },
  {
   "cell_type": "code",
   "execution_count": 6,
   "metadata": {
    "ExecuteTime": {
     "end_time": "2021-03-16T14:20:41.718505Z",
     "start_time": "2021-03-16T14:20:41.710365Z"
    }
   },
   "outputs": [
    {
     "data": {
      "text/plain": [
       "(array([[1, 2, 3],\n",
       "        [4, 5, 6],\n",
       "        [1, 5, 6]]),\n",
       " array([4, 1, 3]))"
      ]
     },
     "execution_count": 6,
     "metadata": {},
     "output_type": "execute_result"
    }
   ],
   "source": [
    "a = np.array([[1, 2, 3], [4, 5, 6], [1, 5, 6]])\n",
    "x = [1, 2, 0]\n",
    "y = [0, 0, 2]\n",
    "a, a[x, y]"
   ]
  },
  {
   "cell_type": "code",
   "execution_count": 8,
   "metadata": {
    "ExecuteTime": {
     "end_time": "2021-03-16T14:22:35.102679Z",
     "start_time": "2021-03-16T14:22:34.704854Z"
    }
   },
   "outputs": [],
   "source": [
    "df = pd.read_csv(patches['pz_only'])"
   ]
  },
  {
   "cell_type": "code",
   "execution_count": 16,
   "metadata": {
    "ExecuteTime": {
     "end_time": "2021-03-16T14:28:38.641493Z",
     "start_time": "2021-03-16T14:28:34.695133Z"
    }
   },
   "outputs": [
    {
     "data": {
      "application/vnd.jupyter.widget-view+json": {
       "model_id": "5cb26ea8b55a46f58b4a68369613c6f4",
       "version_major": 2,
       "version_minor": 0
      },
      "text/plain": [
       "HBox(children=(FloatProgress(value=0.0, max=48.0), HTML(value='')))"
      ]
     },
     "metadata": {},
     "output_type": "display_data"
    },
    {
     "name": "stdout",
     "output_type": "stream",
     "text": [
      "\n"
     ]
    },
    {
     "data": {
      "text/html": [
       "<div>\n",
       "<style scoped>\n",
       "    .dataframe tbody tr th:only-of-type {\n",
       "        vertical-align: middle;\n",
       "    }\n",
       "\n",
       "    .dataframe tbody tr th {\n",
       "        vertical-align: top;\n",
       "    }\n",
       "\n",
       "    .dataframe thead th {\n",
       "        text-align: right;\n",
       "    }\n",
       "</style>\n",
       "<table border=\"1\" class=\"dataframe\">\n",
       "  <thead>\n",
       "    <tr style=\"text-align: right;\">\n",
       "      <th></th>\n",
       "      <th>x</th>\n",
       "      <th>y</th>\n",
       "      <th>pix</th>\n",
       "      <th>pix11</th>\n",
       "    </tr>\n",
       "  </thead>\n",
       "  <tbody>\n",
       "    <tr>\n",
       "      <th>0</th>\n",
       "      <td>720</td>\n",
       "      <td>438</td>\n",
       "      <td>0</td>\n",
       "      <td>648980</td>\n",
       "    </tr>\n",
       "    <tr>\n",
       "      <th>1</th>\n",
       "      <td>780</td>\n",
       "      <td>489</td>\n",
       "      <td>0</td>\n",
       "      <td>742625</td>\n",
       "    </tr>\n",
       "    <tr>\n",
       "      <th>2</th>\n",
       "      <td>491</td>\n",
       "      <td>386</td>\n",
       "      <td>0</td>\n",
       "      <td>256142</td>\n",
       "    </tr>\n",
       "    <tr>\n",
       "      <th>3</th>\n",
       "      <td>59</td>\n",
       "      <td>729</td>\n",
       "      <td>0</td>\n",
       "      <td>285643</td>\n",
       "    </tr>\n",
       "    <tr>\n",
       "      <th>4</th>\n",
       "      <td>647</td>\n",
       "      <td>899</td>\n",
       "      <td>0</td>\n",
       "      <td>901167</td>\n",
       "    </tr>\n",
       "    <tr>\n",
       "      <th>...</th>\n",
       "      <td>...</td>\n",
       "      <td>...</td>\n",
       "      <td>...</td>\n",
       "      <td>...</td>\n",
       "    </tr>\n",
       "    <tr>\n",
       "      <th>3665328</th>\n",
       "      <td>570</td>\n",
       "      <td>494</td>\n",
       "      <td>47</td>\n",
       "      <td>0</td>\n",
       "    </tr>\n",
       "    <tr>\n",
       "      <th>3665329</th>\n",
       "      <td>262</td>\n",
       "      <td>149</td>\n",
       "      <td>47</td>\n",
       "      <td>0</td>\n",
       "    </tr>\n",
       "    <tr>\n",
       "      <th>3665330</th>\n",
       "      <td>368</td>\n",
       "      <td>545</td>\n",
       "      <td>47</td>\n",
       "      <td>0</td>\n",
       "    </tr>\n",
       "    <tr>\n",
       "      <th>3665331</th>\n",
       "      <td>74</td>\n",
       "      <td>98</td>\n",
       "      <td>47</td>\n",
       "      <td>0</td>\n",
       "    </tr>\n",
       "    <tr>\n",
       "      <th>3665332</th>\n",
       "      <td>473</td>\n",
       "      <td>561</td>\n",
       "      <td>47</td>\n",
       "      <td>0</td>\n",
       "    </tr>\n",
       "  </tbody>\n",
       "</table>\n",
       "<p>3665333 rows × 4 columns</p>\n",
       "</div>"
      ],
      "text/plain": [
       "           x    y  pix   pix11\n",
       "0        720  438    0  648980\n",
       "1        780  489    0  742625\n",
       "2        491  386    0  256142\n",
       "3         59  729    0  285643\n",
       "4        647  899    0  901167\n",
       "...      ...  ...  ...     ...\n",
       "3665328  570  494   47       0\n",
       "3665329  262  149   47       0\n",
       "3665330  368  545   47       0\n",
       "3665331   74   98   47       0\n",
       "3665332  473  561   47       0\n",
       "\n",
       "[3665333 rows x 4 columns]"
      ]
     },
     "execution_count": 16,
     "metadata": {},
     "output_type": "execute_result"
    }
   ],
   "source": [
    "patches_df_get_ra_dec(df)"
   ]
  },
  {
   "cell_type": "code",
   "execution_count": 24,
   "metadata": {
    "ExecuteTime": {
     "end_time": "2021-03-16T15:01:10.369270Z",
     "start_time": "2021-03-16T14:44:17.954663Z"
    }
   },
   "outputs": [
    {
     "data": {
      "application/vnd.jupyter.widget-view+json": {
       "model_id": "c301954d67e5462b844298558808c44d",
       "version_major": 2,
       "version_minor": 0
      },
      "text/plain": [
       "HBox(children=(FloatProgress(value=0.0, max=48.0), HTML(value='')))"
      ]
     },
     "metadata": {},
     "output_type": "display_data"
    },
    {
     "name": "stdout",
     "output_type": "stream",
     "text": [
      "\n"
     ]
    },
    {
     "data": {
      "application/vnd.jupyter.widget-view+json": {
       "model_id": "1ae2817cc8bd48e5a50daac7a8300f57",
       "version_major": 2,
       "version_minor": 0
      },
      "text/plain": [
       "HBox(children=(FloatProgress(value=0.0, max=48.0), HTML(value='')))"
      ]
     },
     "metadata": {},
     "output_type": "display_data"
    },
    {
     "name": "stdout",
     "output_type": "stream",
     "text": [
      "\n"
     ]
    },
    {
     "data": {
      "application/vnd.jupyter.widget-view+json": {
       "model_id": "6a625e0e6f724f9b935c20be23802782",
       "version_major": 2,
       "version_minor": 0
      },
      "text/plain": [
       "HBox(children=(FloatProgress(value=0.0, max=48.0), HTML(value='')))"
      ]
     },
     "metadata": {},
     "output_type": "display_data"
    },
    {
     "name": "stdout",
     "output_type": "stream",
     "text": [
      "\n"
     ]
    },
    {
     "data": {
      "application/vnd.jupyter.widget-view+json": {
       "model_id": "e880a6987dd244eca76ee925cf0eaa00",
       "version_major": 2,
       "version_minor": 0
      },
      "text/plain": [
       "HBox(children=(FloatProgress(value=0.0, max=48.0), HTML(value='')))"
      ]
     },
     "metadata": {},
     "output_type": "display_data"
    },
    {
     "name": "stdout",
     "output_type": "stream",
     "text": [
      "\n"
     ]
    },
    {
     "data": {
      "application/vnd.jupyter.widget-view+json": {
       "model_id": "3fe1b07a832a4bbfb6279a1ea2e31f5b",
       "version_major": 2,
       "version_minor": 0
      },
      "text/plain": [
       "HBox(children=(FloatProgress(value=0.0, max=48.0), HTML(value='')))"
      ]
     },
     "metadata": {},
     "output_type": "display_data"
    },
    {
     "name": "stdout",
     "output_type": "stream",
     "text": [
      "\n"
     ]
    },
    {
     "data": {
      "text/html": [
       "<div>\n",
       "<style scoped>\n",
       "    .dataframe tbody tr th:only-of-type {\n",
       "        vertical-align: middle;\n",
       "    }\n",
       "\n",
       "    .dataframe tbody tr th {\n",
       "        vertical-align: top;\n",
       "    }\n",
       "\n",
       "    .dataframe thead th {\n",
       "        text-align: right;\n",
       "    }\n",
       "</style>\n",
       "<table border=\"1\" class=\"dataframe\">\n",
       "  <thead>\n",
       "    <tr style=\"text-align: right;\">\n",
       "      <th></th>\n",
       "      <th>number of patches</th>\n",
       "      <th>PSZ2 count</th>\n",
       "      <th>MCXC count</th>\n",
       "      <th>RM count</th>\n",
       "      <th>ACT count</th>\n",
       "      <th>Abell count</th>\n",
       "    </tr>\n",
       "  </thead>\n",
       "  <tbody>\n",
       "    <tr>\n",
       "      <th>pz_only</th>\n",
       "      <td>3665333</td>\n",
       "      <td>3665290</td>\n",
       "      <td>2463887</td>\n",
       "      <td>1581862</td>\n",
       "      <td>1625157</td>\n",
       "      <td>2608799</td>\n",
       "    </tr>\n",
       "    <tr>\n",
       "      <th>act_erosita</th>\n",
       "      <td>6948027</td>\n",
       "      <td>2726346</td>\n",
       "      <td>2832677</td>\n",
       "      <td>3613607</td>\n",
       "      <td>6948014</td>\n",
       "      <td>5118436</td>\n",
       "    </tr>\n",
       "    <tr>\n",
       "      <th>pz_act_jan</th>\n",
       "      <td>2440053</td>\n",
       "      <td>1385149</td>\n",
       "      <td>1187728</td>\n",
       "      <td>1176940</td>\n",
       "      <td>1929939</td>\n",
       "      <td>1751454</td>\n",
       "    </tr>\n",
       "    <tr>\n",
       "      <th>pz_act_found</th>\n",
       "      <td>1323071</td>\n",
       "      <td>1030801</td>\n",
       "      <td>764449</td>\n",
       "      <td>603087</td>\n",
       "      <td>813073</td>\n",
       "      <td>952408</td>\n",
       "    </tr>\n",
       "    <tr>\n",
       "      <th>pz_all_found</th>\n",
       "      <td>1865878</td>\n",
       "      <td>1440335</td>\n",
       "      <td>1023350</td>\n",
       "      <td>738879</td>\n",
       "      <td>962807</td>\n",
       "      <td>1239383</td>\n",
       "    </tr>\n",
       "  </tbody>\n",
       "</table>\n",
       "</div>"
      ],
      "text/plain": [
       "              number of patches  PSZ2 count  MCXC count  RM count  ACT count  \\\n",
       "pz_only                 3665333     3665290     2463887   1581862    1625157   \n",
       "act_erosita             6948027     2726346     2832677   3613607    6948014   \n",
       "pz_act_jan              2440053     1385149     1187728   1176940    1929939   \n",
       "pz_act_found            1323071     1030801      764449    603087     813073   \n",
       "pz_all_found            1865878     1440335     1023350    738879     962807   \n",
       "\n",
       "              Abell count  \n",
       "pz_only           2608799  \n",
       "act_erosita       5118436  \n",
       "pz_act_jan        1751454  \n",
       "pz_act_found       952408  \n",
       "pz_all_found      1239383  "
      ]
     },
     "execution_count": 24,
     "metadata": {},
     "output_type": "execute_result"
    }
   ],
   "source": [
    "df = []\n",
    "for name in patches:\n",
    "    df.append(pd.DataFrame(stat_patches_file(patches[name]), index=[name]))\n",
    "df = pd.concat(df)\n",
    "df"
   ]
  },
  {
   "cell_type": "code",
   "execution_count": 25,
   "metadata": {
    "ExecuteTime": {
     "end_time": "2021-03-16T15:22:26.827935Z",
     "start_time": "2021-03-16T15:22:26.818200Z"
    }
   },
   "outputs": [],
   "source": [
    "for name in ['PSZ2', 'MCXC', 'RM', 'ACT', 'Abell']:\n",
    "    df[name + ' coef'] = df[name + ' count'] / df['number of patches']"
   ]
  },
  {
   "cell_type": "code",
   "execution_count": 30,
   "metadata": {
    "ExecuteTime": {
     "end_time": "2021-03-16T15:24:08.883253Z",
     "start_time": "2021-03-16T15:24:08.871980Z"
    }
   },
   "outputs": [],
   "source": [
    "df_coef = df[['PSZ2 coef',\n",
    " 'MCXC coef',\n",
    " 'RM coef',\n",
    " 'ACT coef',\n",
    " 'Abell coef']]"
   ]
  },
  {
   "cell_type": "code",
   "execution_count": 32,
   "metadata": {
    "ExecuteTime": {
     "end_time": "2021-03-16T15:24:20.486073Z",
     "start_time": "2021-03-16T15:24:20.443935Z"
    }
   },
   "outputs": [
    {
     "data": {
      "text/html": [
       "<style  type=\"text/css\" >\n",
       "    #T_ae0f8be6_866b_11eb_8a0c_05c6b2c043acrow0_col0 {\n",
       "            background-color:  #008000;\n",
       "            color:  #f1f1f1;\n",
       "        }    #T_ae0f8be6_866b_11eb_8a0c_05c6b2c043acrow0_col1 {\n",
       "            background-color:  #008000;\n",
       "            color:  #f1f1f1;\n",
       "        }    #T_ae0f8be6_866b_11eb_8a0c_05c6b2c043acrow0_col2 {\n",
       "            background-color:  #a4dba4;\n",
       "            color:  #000000;\n",
       "        }    #T_ae0f8be6_866b_11eb_8a0c_05c6b2c043acrow0_col3 {\n",
       "            background-color:  #e5ffe5;\n",
       "            color:  #000000;\n",
       "        }    #T_ae0f8be6_866b_11eb_8a0c_05c6b2c043acrow0_col4 {\n",
       "            background-color:  #4fac4f;\n",
       "            color:  #000000;\n",
       "        }    #T_ae0f8be6_866b_11eb_8a0c_05c6b2c043acrow1_col0 {\n",
       "            background-color:  #e5ffe5;\n",
       "            color:  #000000;\n",
       "        }    #T_ae0f8be6_866b_11eb_8a0c_05c6b2c043acrow1_col1 {\n",
       "            background-color:  #e5ffe5;\n",
       "            color:  #000000;\n",
       "        }    #T_ae0f8be6_866b_11eb_8a0c_05c6b2c043acrow1_col2 {\n",
       "            background-color:  #008000;\n",
       "            color:  #f1f1f1;\n",
       "        }    #T_ae0f8be6_866b_11eb_8a0c_05c6b2c043acrow1_col3 {\n",
       "            background-color:  #008000;\n",
       "            color:  #f1f1f1;\n",
       "        }    #T_ae0f8be6_866b_11eb_8a0c_05c6b2c043acrow1_col4 {\n",
       "            background-color:  #008000;\n",
       "            color:  #f1f1f1;\n",
       "        }    #T_ae0f8be6_866b_11eb_8a0c_05c6b2c043acrow2_col0 {\n",
       "            background-color:  #a4dba4;\n",
       "            color:  #000000;\n",
       "        }    #T_ae0f8be6_866b_11eb_8a0c_05c6b2c043acrow2_col1 {\n",
       "            background-color:  #a1d9a1;\n",
       "            color:  #000000;\n",
       "        }    #T_ae0f8be6_866b_11eb_8a0c_05c6b2c043acrow2_col2 {\n",
       "            background-color:  #45a645;\n",
       "            color:  #000000;\n",
       "        }    #T_ae0f8be6_866b_11eb_8a0c_05c6b2c043acrow2_col3 {\n",
       "            background-color:  #56b056;\n",
       "            color:  #000000;\n",
       "        }    #T_ae0f8be6_866b_11eb_8a0c_05c6b2c043acrow2_col4 {\n",
       "            background-color:  #3ba13b;\n",
       "            color:  #000000;\n",
       "        }    #T_ae0f8be6_866b_11eb_8a0c_05c6b2c043acrow3_col0 {\n",
       "            background-color:  #54ae54;\n",
       "            color:  #000000;\n",
       "        }    #T_ae0f8be6_866b_11eb_8a0c_05c6b2c043acrow3_col1 {\n",
       "            background-color:  #52ad52;\n",
       "            color:  #000000;\n",
       "        }    #T_ae0f8be6_866b_11eb_8a0c_05c6b2c043acrow3_col2 {\n",
       "            background-color:  #77c277;\n",
       "            color:  #000000;\n",
       "        }    #T_ae0f8be6_866b_11eb_8a0c_05c6b2c043acrow3_col3 {\n",
       "            background-color:  #9fd89f;\n",
       "            color:  #000000;\n",
       "        }    #T_ae0f8be6_866b_11eb_8a0c_05c6b2c043acrow3_col4 {\n",
       "            background-color:  #359d35;\n",
       "            color:  #000000;\n",
       "        }    #T_ae0f8be6_866b_11eb_8a0c_05c6b2c043acrow4_col0 {\n",
       "            background-color:  #56b056;\n",
       "            color:  #000000;\n",
       "        }    #T_ae0f8be6_866b_11eb_8a0c_05c6b2c043acrow4_col1 {\n",
       "            background-color:  #6bbb6b;\n",
       "            color:  #000000;\n",
       "        }    #T_ae0f8be6_866b_11eb_8a0c_05c6b2c043acrow4_col2 {\n",
       "            background-color:  #e5ffe5;\n",
       "            color:  #000000;\n",
       "        }    #T_ae0f8be6_866b_11eb_8a0c_05c6b2c043acrow4_col3 {\n",
       "            background-color:  #c8efc8;\n",
       "            color:  #000000;\n",
       "        }    #T_ae0f8be6_866b_11eb_8a0c_05c6b2c043acrow4_col4 {\n",
       "            background-color:  #e5ffe5;\n",
       "            color:  #000000;\n",
       "        }</style><table id=\"T_ae0f8be6_866b_11eb_8a0c_05c6b2c043ac\" ><thead>    <tr>        <th class=\"blank level0\" ></th>        <th class=\"col_heading level0 col0\" >PSZ2 coef</th>        <th class=\"col_heading level0 col1\" >MCXC coef</th>        <th class=\"col_heading level0 col2\" >RM coef</th>        <th class=\"col_heading level0 col3\" >ACT coef</th>        <th class=\"col_heading level0 col4\" >Abell coef</th>    </tr></thead><tbody>\n",
       "                <tr>\n",
       "                        <th id=\"T_ae0f8be6_866b_11eb_8a0c_05c6b2c043aclevel0_row0\" class=\"row_heading level0 row0\" >pz_only</th>\n",
       "                        <td id=\"T_ae0f8be6_866b_11eb_8a0c_05c6b2c043acrow0_col0\" class=\"data row0 col0\" >0.999988</td>\n",
       "                        <td id=\"T_ae0f8be6_866b_11eb_8a0c_05c6b2c043acrow0_col1\" class=\"data row0 col1\" >0.672214</td>\n",
       "                        <td id=\"T_ae0f8be6_866b_11eb_8a0c_05c6b2c043acrow0_col2\" class=\"data row0 col2\" >0.431574</td>\n",
       "                        <td id=\"T_ae0f8be6_866b_11eb_8a0c_05c6b2c043acrow0_col3\" class=\"data row0 col3\" >0.443386</td>\n",
       "                        <td id=\"T_ae0f8be6_866b_11eb_8a0c_05c6b2c043acrow0_col4\" class=\"data row0 col4\" >0.711750</td>\n",
       "            </tr>\n",
       "            <tr>\n",
       "                        <th id=\"T_ae0f8be6_866b_11eb_8a0c_05c6b2c043aclevel0_row1\" class=\"row_heading level0 row1\" >act_erosita</th>\n",
       "                        <td id=\"T_ae0f8be6_866b_11eb_8a0c_05c6b2c043acrow1_col0\" class=\"data row1 col0\" >0.392391</td>\n",
       "                        <td id=\"T_ae0f8be6_866b_11eb_8a0c_05c6b2c043acrow1_col1\" class=\"data row1 col1\" >0.407695</td>\n",
       "                        <td id=\"T_ae0f8be6_866b_11eb_8a0c_05c6b2c043acrow1_col2\" class=\"data row1 col2\" >0.520091</td>\n",
       "                        <td id=\"T_ae0f8be6_866b_11eb_8a0c_05c6b2c043acrow1_col3\" class=\"data row1 col3\" >0.999998</td>\n",
       "                        <td id=\"T_ae0f8be6_866b_11eb_8a0c_05c6b2c043acrow1_col4\" class=\"data row1 col4\" >0.736675</td>\n",
       "            </tr>\n",
       "            <tr>\n",
       "                        <th id=\"T_ae0f8be6_866b_11eb_8a0c_05c6b2c043aclevel0_row2\" class=\"row_heading level0 row2\" >pz_act_jan</th>\n",
       "                        <td id=\"T_ae0f8be6_866b_11eb_8a0c_05c6b2c043acrow2_col0\" class=\"data row2 col0\" >0.567672</td>\n",
       "                        <td id=\"T_ae0f8be6_866b_11eb_8a0c_05c6b2c043acrow2_col1\" class=\"data row2 col1\" >0.486763</td>\n",
       "                        <td id=\"T_ae0f8be6_866b_11eb_8a0c_05c6b2c043acrow2_col2\" class=\"data row2 col2\" >0.482342</td>\n",
       "                        <td id=\"T_ae0f8be6_866b_11eb_8a0c_05c6b2c043acrow2_col3\" class=\"data row2 col3\" >0.790941</td>\n",
       "                        <td id=\"T_ae0f8be6_866b_11eb_8a0c_05c6b2c043acrow2_col4\" class=\"data row2 col4\" >0.717793</td>\n",
       "            </tr>\n",
       "            <tr>\n",
       "                        <th id=\"T_ae0f8be6_866b_11eb_8a0c_05c6b2c043aclevel0_row3\" class=\"row_heading level0 row3\" >pz_act_found</th>\n",
       "                        <td id=\"T_ae0f8be6_866b_11eb_8a0c_05c6b2c043acrow3_col0\" class=\"data row3 col0\" >0.779097</td>\n",
       "                        <td id=\"T_ae0f8be6_866b_11eb_8a0c_05c6b2c043acrow3_col1\" class=\"data row3 col1\" >0.577784</td>\n",
       "                        <td id=\"T_ae0f8be6_866b_11eb_8a0c_05c6b2c043acrow3_col2\" class=\"data row3 col2\" >0.455824</td>\n",
       "                        <td id=\"T_ae0f8be6_866b_11eb_8a0c_05c6b2c043acrow3_col3\" class=\"data row3 col3\" >0.614535</td>\n",
       "                        <td id=\"T_ae0f8be6_866b_11eb_8a0c_05c6b2c043acrow3_col4\" class=\"data row3 col4\" >0.719846</td>\n",
       "            </tr>\n",
       "            <tr>\n",
       "                        <th id=\"T_ae0f8be6_866b_11eb_8a0c_05c6b2c043aclevel0_row4\" class=\"row_heading level0 row4\" >pz_all_found</th>\n",
       "                        <td id=\"T_ae0f8be6_866b_11eb_8a0c_05c6b2c043acrow4_col0\" class=\"data row4 col0\" >0.771934</td>\n",
       "                        <td id=\"T_ae0f8be6_866b_11eb_8a0c_05c6b2c043acrow4_col1\" class=\"data row4 col1\" >0.548455</td>\n",
       "                        <td id=\"T_ae0f8be6_866b_11eb_8a0c_05c6b2c043acrow4_col2\" class=\"data row4 col2\" >0.395995</td>\n",
       "                        <td id=\"T_ae0f8be6_866b_11eb_8a0c_05c6b2c043acrow4_col3\" class=\"data row4 col3\" >0.516007</td>\n",
       "                        <td id=\"T_ae0f8be6_866b_11eb_8a0c_05c6b2c043acrow4_col4\" class=\"data row4 col4\" >0.664236</td>\n",
       "            </tr>\n",
       "    </tbody></table>"
      ],
      "text/plain": [
       "<pandas.io.formats.style.Styler at 0x7f67fd934880>"
      ]
     },
     "execution_count": 32,
     "metadata": {},
     "output_type": "execute_result"
    }
   ],
   "source": [
    "cm = sns.light_palette(\"green\", as_cmap=True)\n",
    "\n",
    "s = df_coef.style.background_gradient(cmap=cm)\n",
    "s"
   ]
  },
  {
   "cell_type": "code",
   "execution_count": null,
   "metadata": {},
   "outputs": [],
   "source": []
  }
 ],
 "metadata": {
  "kernelspec": {
   "display_name": "Python 3",
   "language": "python",
   "name": "python3"
  },
  "language_info": {
   "codemirror_mode": {
    "name": "ipython",
    "version": 3
   },
   "file_extension": ".py",
   "mimetype": "text/x-python",
   "name": "python",
   "nbconvert_exporter": "python",
   "pygments_lexer": "ipython3",
   "version": "3.8.3"
  }
 },
 "nbformat": 4,
 "nbformat_minor": 4
}
