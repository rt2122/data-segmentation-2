{
 "cells": [
  {
   "cell_type": "code",
   "execution_count": 87,
   "metadata": {
    "ExecuteTime": {
     "end_time": "2020-07-29T19:49:14.096259Z",
     "start_time": "2020-07-29T19:49:13.652713Z"
    }
   },
   "outputs": [],
   "source": [
    "import healpy as hp\n",
    "from DS_healpix_fragmentation import one_pixel_fragmentation\n",
    "from astropy.coordinates import SkyCoord\n",
    "from astropy import units as u\n",
    "import numpy as np\n",
    "from matplotlib import pyplot as plt\n",
    "from skimage.draw import circle"
   ]
  },
  {
   "cell_type": "code",
   "execution_count": 49,
   "metadata": {
    "ExecuteTime": {
     "end_time": "2020-07-29T19:32:14.952929Z",
     "start_time": "2020-07-29T19:32:14.936053Z"
    }
   },
   "outputs": [],
   "source": [
    "def find_biggest_pixel(ra, dec, radius):\n",
    "    \n",
    "    sc = SkyCoord(ra=ra*u.degree, dec=dec*u.degree, frame='icrs')\n",
    "    nside = 1\n",
    "    vec = hp.ang2vec(theta=sc.galactic.l.degree, phi=sc.galactic.b.degree,\n",
    "                    lonlat=True)\n",
    "    \n",
    "    while len(set(hp.query_disc(nside, vec, np.radians(radius), inclusive=True, \n",
    "                                nest=True))) > 1:\n",
    "        nside *= 2\n",
    "        \n",
    "    while len(set(hp.query_disc(nside, vec, np.radians(radius), inclusive=True, \n",
    "                                nest=True))) == 1:\n",
    "        nside *= 2\n",
    "    if nside > 1:\n",
    "        nside = int(nside / 2)\n",
    "    return nside, hp.query_disc(nside, vec, np.radians(radius), inclusive=True, nest=True)[0]"
   ]
  },
  {
   "cell_type": "code",
   "execution_count": 50,
   "metadata": {
    "ExecuteTime": {
     "end_time": "2020-07-29T19:32:15.420966Z",
     "start_time": "2020-07-29T19:32:15.399289Z"
    }
   },
   "outputs": [
    {
     "data": {
      "text/plain": [
       "(16, 255)"
      ]
     },
     "execution_count": 50,
     "metadata": {},
     "output_type": "execute_result"
    }
   ],
   "source": [
    "find_biggest_pixel(194.9551, 28.0021, 0.2)"
   ]
  },
  {
   "cell_type": "code",
   "execution_count": 90,
   "metadata": {
    "ExecuteTime": {
     "end_time": "2020-07-29T19:49:48.366695Z",
     "start_time": "2020-07-29T19:49:44.480462Z"
    }
   },
   "outputs": [],
   "source": [
    "matr = one_pixel_fragmentation(16, 255, depth=10)"
   ]
  },
  {
   "cell_type": "code",
   "execution_count": 74,
   "metadata": {
    "ExecuteTime": {
     "end_time": "2020-07-29T19:48:05.331294Z",
     "start_time": "2020-07-29T19:48:05.320668Z"
    }
   },
   "outputs": [],
   "source": [
    "def matr2dict(matr):\n",
    "    d = {}\n",
    "    for i in range(matr.shape[0]):\n",
    "        for j in range(matr.shape[1]):\n",
    "            d[matr[i, j]] = (i, j)\n",
    "    return d"
   ]
  },
  {
   "cell_type": "code",
   "execution_count": 91,
   "metadata": {
    "ExecuteTime": {
     "end_time": "2020-07-29T19:49:48.691712Z",
     "start_time": "2020-07-29T19:49:48.368051Z"
    }
   },
   "outputs": [],
   "source": [
    "mdict = matr2dict(matr)"
   ]
  },
  {
   "cell_type": "code",
   "execution_count": 76,
   "metadata": {
    "ExecuteTime": {
     "end_time": "2020-07-29T19:48:09.276645Z",
     "start_time": "2020-07-29T19:48:09.269628Z"
    }
   },
   "outputs": [],
   "source": [
    "c0 = (195.0648, 28.1200)\n",
    "c1 = (194.8107, 28.1169)\n",
    "c2 = (195.0868, 27.9064)\n",
    "c3 = (194.8107, 27.8930)"
   ]
  },
  {
   "cell_type": "code",
   "execution_count": 92,
   "metadata": {
    "ExecuteTime": {
     "end_time": "2020-07-29T19:49:50.747067Z",
     "start_time": "2020-07-29T19:49:50.742910Z"
    }
   },
   "outputs": [],
   "source": [
    "f_nside = 2 ** 14"
   ]
  },
  {
   "cell_type": "code",
   "execution_count": 78,
   "metadata": {
    "ExecuteTime": {
     "end_time": "2020-07-29T19:48:14.960522Z",
     "start_time": "2020-07-29T19:48:14.948286Z"
    }
   },
   "outputs": [],
   "source": [
    "def radec2pix(ra, dec, nside):\n",
    "    sc = SkyCoord(ra=ra*u.degree, dec=dec*u.degree, frame='icrs')\n",
    "    return hp.ang2pix(nside, sc.galactic.l.degree, sc.galactic.b.degree, \n",
    "                      nest=True, lonlat=True)"
   ]
  },
  {
   "cell_type": "code",
   "execution_count": 93,
   "metadata": {
    "ExecuteTime": {
     "end_time": "2020-07-29T19:49:53.390757Z",
     "start_time": "2020-07-29T19:49:53.347331Z"
    }
   },
   "outputs": [],
   "source": [
    "corners = (radec2pix(*c0, f_nside), radec2pix(*c1, f_nside), \n",
    "           radec2pix(*c2, f_nside), radec2pix(*c3, f_nside))"
   ]
  },
  {
   "cell_type": "code",
   "execution_count": 94,
   "metadata": {
    "ExecuteTime": {
     "end_time": "2020-07-29T19:49:53.667397Z",
     "start_time": "2020-07-29T19:49:53.660938Z"
    }
   },
   "outputs": [],
   "source": [
    "corners_xy = [mdict[idx] for idx in corners]"
   ]
  },
  {
   "cell_type": "code",
   "execution_count": 95,
   "metadata": {
    "ExecuteTime": {
     "end_time": "2020-07-29T19:49:54.038812Z",
     "start_time": "2020-07-29T19:49:54.030906Z"
    }
   },
   "outputs": [
    {
     "data": {
      "text/plain": [
       "[(509, 771), (534, 815), (570, 734), (602, 782)]"
      ]
     },
     "execution_count": 95,
     "metadata": {},
     "output_type": "execute_result"
    }
   ],
   "source": [
    "corners_xy"
   ]
  },
  {
   "cell_type": "code",
   "execution_count": 96,
   "metadata": {
    "ExecuteTime": {
     "end_time": "2020-07-29T19:49:55.141442Z",
     "start_time": "2020-07-29T19:49:55.133462Z"
    }
   },
   "outputs": [
    {
     "data": {
      "text/plain": [
       "(1024, 1024)"
      ]
     },
     "execution_count": 96,
     "metadata": {},
     "output_type": "execute_result"
    }
   ],
   "source": [
    "matr.shape"
   ]
  },
  {
   "cell_type": "code",
   "execution_count": 83,
   "metadata": {
    "ExecuteTime": {
     "end_time": "2020-07-29T19:48:22.815969Z",
     "start_time": "2020-07-29T19:48:22.645745Z"
    }
   },
   "outputs": [
    {
     "data": {
      "text/plain": [
       "<matplotlib.image.AxesImage at 0x7fc4b359cf70>"
      ]
     },
     "execution_count": 83,
     "metadata": {},
     "output_type": "execute_result"
    },
    {
     "data": {
      "image/png": "[encoded data removed]",
      "text/plain": [
       "<Figure size 432x288 with 1 Axes>"
      ]
     },
     "metadata": {
      "needs_background": "light"
     },
     "output_type": "display_data"
    }
   ],
   "source": [
    "plt.imshow(matr)"
   ]
  },
  {
   "cell_type": "code",
   "execution_count": 97,
   "metadata": {
    "ExecuteTime": {
     "end_time": "2020-07-29T19:49:58.345613Z",
     "start_time": "2020-07-29T19:49:58.340283Z"
    }
   },
   "outputs": [],
   "source": [
    "pic_corners = np.zeros(matr.shape)"
   ]
  },
  {
   "cell_type": "code",
   "execution_count": 100,
   "metadata": {
    "ExecuteTime": {
     "end_time": "2020-07-29T19:50:12.898505Z",
     "start_time": "2020-07-29T19:50:12.890743Z"
    }
   },
   "outputs": [],
   "source": [
    "for x, y in corners_xy:\n",
    "    pic_corners[circle(x, y, 17, shape=pic_corners.shape)] = 1"
   ]
  },
  {
   "cell_type": "code",
   "execution_count": 101,
   "metadata": {
    "ExecuteTime": {
     "end_time": "2020-07-29T19:50:13.459822Z",
     "start_time": "2020-07-29T19:50:13.288203Z"
    }
   },
   "outputs": [
    {
     "data": {
      "text/plain": [
       "<matplotlib.image.AxesImage at 0x7fc4b30823a0>"
      ]
     },
     "execution_count": 101,
     "metadata": {},
     "output_type": "execute_result"
    },
    {
     "data": {
      "image/png": "[encoded data removed]",
      "text/plain": [
       "<Figure size 432x288 with 1 Axes>"
      ]
     },
     "metadata": {
      "needs_background": "light"
     },
     "output_type": "display_data"
    }
   ],
   "source": [
    "plt.imshow(pic_corners)"
   ]
  },
  {
   "cell_type": "code",
   "execution_count": 102,
   "metadata": {
    "ExecuteTime": {
     "end_time": "2020-07-29T19:50:40.805529Z",
     "start_time": "2020-07-29T19:50:40.803005Z"
    }
   },
   "outputs": [],
   "source": [
    "corners_xy = np.array(corners_xy)"
   ]
  },
  {
   "cell_type": "code",
   "execution_count": 103,
   "metadata": {
    "ExecuteTime": {
     "end_time": "2020-07-29T19:50:46.233832Z",
     "start_time": "2020-07-29T19:50:46.229006Z"
    }
   },
   "outputs": [
    {
     "data": {
      "text/plain": [
       "(4, 2)"
      ]
     },
     "execution_count": 103,
     "metadata": {},
     "output_type": "execute_result"
    }
   ],
   "source": [
    "corners_xy.shape"
   ]
  },
  {
   "cell_type": "code",
   "execution_count": 104,
   "metadata": {
    "ExecuteTime": {
     "end_time": "2020-07-29T19:51:23.340872Z",
     "start_time": "2020-07-29T19:51:23.328003Z"
    }
   },
   "outputs": [
    {
     "name": "stdout",
     "output_type": "stream",
     "text": [
      "509 602\n",
      "734 815\n"
     ]
    }
   ],
   "source": [
    "print(corners_xy[:, 0].min(), corners_xy[:, 0].max())\n",
    "print(corners_xy[:, 1].min(), corners_xy[:, 1].max())"
   ]
  },
  {
   "cell_type": "code",
   "execution_count": 105,
   "metadata": {
    "ExecuteTime": {
     "end_time": "2020-07-29T19:51:59.341131Z",
     "start_time": "2020-07-29T19:51:59.335480Z"
    }
   },
   "outputs": [],
   "source": [
    "map_size=128"
   ]
  },
  {
   "cell_type": "code",
   "execution_count": null,
   "metadata": {},
   "outputs": [],
   "source": []
  }
 ],
 "metadata": {
  "kernelspec": {
   "display_name": "Python 3",
   "language": "python",
   "name": "python3"
  },
  "language_info": {
   "codemirror_mode": {
    "name": "ipython",
    "version": 3
   },
   "file_extension": ".py",
   "mimetype": "text/x-python",
   "name": "python",
   "nbconvert_exporter": "python",
   "pygments_lexer": "ipython3",
   "version": "3.8.3"
  }
 },
 "nbformat": 4,
 "nbformat_minor": 4
}
