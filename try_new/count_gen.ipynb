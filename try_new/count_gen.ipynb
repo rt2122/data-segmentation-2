{
 "cells": [
  {
   "cell_type": "code",
   "execution_count": 2,
   "metadata": {
    "ExecuteTime": {
     "end_time": "2021-07-06T16:38:51.745649Z",
     "start_time": "2021-07-06T16:38:51.067766Z"
    }
   },
   "outputs": [],
   "source": [
    "import pandas as pd\n",
    "import numpy as np\n",
    "from DS_healpix_fragmentation import radec2pix\n",
    "from DS_Planck_Unet import east_val, west_val, train_pix, train_pix_act\n",
    "from DS_models_stat import cut_cat\n",
    "from DS_data_transformation import dif_cats\n",
    "\n",
    "from astropy.coordinates import SkyCoord\n",
    "from astropy import units as u"
   ]
  },
  {
   "cell_type": "code",
   "execution_count": 11,
   "metadata": {
    "ExecuteTime": {
     "end_time": "2021-07-06T16:43:20.684561Z",
     "start_time": "2021-07-06T16:43:20.652961Z"
    }
   },
   "outputs": [],
   "source": [
    "#pz = pd.read_csv('/home/rt2122/Data/clusters/planck_z.csv')\n",
    "#act = pd.read_csv('/home/rt2122/Data/original_catalogs/csv/ACT.csv')\n",
    "#mcxc = pd.read_csv('/home/rt2122/Data/original_catalogs/csv/MCXC.csv')\n",
    "#df = dif_cats(mcxc, pz)\n",
    "#df = dif_cats(df, act)\n",
    "#df = pd.read_csv('/home/rt2122/Data/gen_cats_er/er_gen_all_found_brcat_prec0.00.csv')\n",
    "df = pd.read_csv('/home/rt2122/Data/gen_cats_er/er_gen_all_found_brcat_prec0.81.csv')"
   ]
  },
  {
   "cell_type": "code",
   "execution_count": 10,
   "metadata": {
    "ExecuteTime": {
     "end_time": "2021-07-06T16:43:16.166195Z",
     "start_time": "2021-07-06T16:43:15.634881Z"
    }
   },
   "outputs": [
    {
     "name": "stdout",
     "output_type": "stream",
     "text": [
      "30917\n",
      "val 1556\n",
      "9 792\n",
      "41 764\n",
      "\n",
      "test 1519\n",
      "38 753\n",
      "6 766\n",
      "\n",
      "ru erosita 12058\n",
      "extragalactic 24501\n"
     ]
    }
   ],
   "source": [
    "print(len(df))\n",
    "print('val', len(cut_cat(df, big_pix=[9, 41])))\n",
    "print('9', len(cut_cat(df, big_pix=[9])))\n",
    "print('41', len(cut_cat(df, big_pix=[41])))\n",
    "print()\n",
    "print('test', len(cut_cat(df, big_pix=[38, 6])))\n",
    "print('38', len(cut_cat(df, big_pix=[38])))\n",
    "print('6', len(cut_cat(df, big_pix=[6])))\n",
    "print()\n",
    "print('ru erosita', len(cut_cat(df, dict_cut={'l' : [0, 180], 'b' : [20, np.inf]})))\n",
    "print('extragalactic', len(cut_cat(df, dict_cut={'b' : [20, np.inf]})))"
   ]
  },
  {
   "cell_type": "code",
   "execution_count": 13,
   "metadata": {
    "ExecuteTime": {
     "end_time": "2021-07-06T16:45:23.379819Z",
     "start_time": "2021-07-06T16:45:23.201089Z"
    }
   },
   "outputs": [
    {
     "name": "stdout",
     "output_type": "stream",
     "text": [
      "1716\n",
      "val 89\n",
      "9 40\n",
      "41 49\n",
      "\n",
      "test 97\n",
      "38 60\n",
      "6 37\n",
      "\n",
      "ru erosita 697\n",
      "extragalactic 1403\n"
     ]
    }
   ],
   "source": [
    "print(len(df))\n",
    "print('val', len(cut_cat(df, big_pix=[9, 41])))\n",
    "print('9', len(cut_cat(df, big_pix=[9])))\n",
    "print('41', len(cut_cat(df, big_pix=[41])))\n",
    "print()\n",
    "print('test', len(cut_cat(df, big_pix=[38, 6])))\n",
    "print('38', len(cut_cat(df, big_pix=[38])))\n",
    "print('6', len(cut_cat(df, big_pix=[6])))\n",
    "print()\n",
    "print('ru erosita', len(cut_cat(df, dict_cut={'l' : [0, 180], 'b' : [20, np.inf]})))\n",
    "print('extragalactic', len(cut_cat(df, dict_cut={'b' : [20, np.inf]})))"
   ]
  },
  {
   "cell_type": "code",
   "execution_count": null,
   "metadata": {},
   "outputs": [],
   "source": []
  }
 ],
 "metadata": {
  "kernelspec": {
   "display_name": "Python 3",
   "language": "python",
   "name": "python3"
  },
  "language_info": {
   "codemirror_mode": {
    "name": "ipython",
    "version": 3
   },
   "file_extension": ".py",
   "mimetype": "text/x-python",
   "name": "python",
   "nbconvert_exporter": "python",
   "pygments_lexer": "ipython3",
   "version": "3.8.3"
  }
 },
 "nbformat": 4,
 "nbformat_minor": 4
}
