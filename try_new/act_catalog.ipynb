{
 "cells": [
  {
   "cell_type": "code",
   "execution_count": 2,
   "metadata": {
    "ExecuteTime": {
     "end_time": "2020-10-01T09:04:47.788082Z",
     "start_time": "2020-10-01T09:04:47.235240Z"
    }
   },
   "outputs": [],
   "source": [
    "import pandas as pd\n",
    "import numpy as np\n",
    "from astropy.io import fits\n",
    "from astropy.table import Table\n",
    "from astropy.coordinates import SkyCoord\n",
    "from astropy import units as u\n",
    "from DS_healpix_fragmentation import radec2pix\n",
    "from DS_Planck_Unet import *"
   ]
  },
  {
   "cell_type": "code",
   "execution_count": 5,
   "metadata": {
    "ExecuteTime": {
     "end_time": "2020-09-30T20:33:44.707051Z",
     "start_time": "2020-09-30T20:33:44.543749Z"
    }
   },
   "outputs": [],
   "source": [
    "df = None\n",
    "with fits.open('/home/rt2122/Data/DR5_cluster-catalog_v1.0b3.fits') as hdul:\n",
    "    tbl = Table(hdul[1].data)\n",
    "    names = [name for name in tbl.colnames if len(tbl[name].shape) <= 1]\n",
    "    df = tbl[names].to_pandas()\n"
   ]
  },
  {
   "cell_type": "code",
   "execution_count": 7,
   "metadata": {
    "ExecuteTime": {
     "end_time": "2020-09-30T20:33:52.539100Z",
     "start_time": "2020-09-30T20:33:52.515856Z"
    }
   },
   "outputs": [
    {
     "data": {
      "text/html": [
       "<div>\n",
       "<style scoped>\n",
       "    .dataframe tbody tr th:only-of-type {\n",
       "        vertical-align: middle;\n",
       "    }\n",
       "\n",
       "    .dataframe tbody tr th {\n",
       "        vertical-align: top;\n",
       "    }\n",
       "\n",
       "    .dataframe thead th {\n",
       "        text-align: right;\n",
       "    }\n",
       "</style>\n",
       "<table border=\"1\" class=\"dataframe\">\n",
       "  <thead>\n",
       "    <tr style=\"text-align: right;\">\n",
       "      <th></th>\n",
       "      <th>name</th>\n",
       "      <th>RADeg</th>\n",
       "      <th>decDeg</th>\n",
       "      <th>SNR</th>\n",
       "      <th>y_c</th>\n",
       "      <th>err_y_c</th>\n",
       "      <th>fixed_SNR</th>\n",
       "      <th>fixed_y_c</th>\n",
       "      <th>fixed_err_y_c</th>\n",
       "      <th>template</th>\n",
       "      <th>...</th>\n",
       "      <th>RMDESY3_LAMBDA_CHISQ_E</th>\n",
       "      <th>CAMIRA</th>\n",
       "      <th>CAMIRA_N_mem</th>\n",
       "      <th>opt_RADeg</th>\n",
       "      <th>opt_decDeg</th>\n",
       "      <th>opt_positionSource</th>\n",
       "      <th>notes</th>\n",
       "      <th>knownLens</th>\n",
       "      <th>knownLensRefCode</th>\n",
       "      <th>warnings</th>\n",
       "    </tr>\n",
       "  </thead>\n",
       "  <tbody>\n",
       "    <tr>\n",
       "      <th>0</th>\n",
       "      <td>ACT-CL J0000.0-3837</td>\n",
       "      <td>0.020896</td>\n",
       "      <td>-38.626729</td>\n",
       "      <td>4.801052</td>\n",
       "      <td>0.326241</td>\n",
       "      <td>0.067952</td>\n",
       "      <td>4.638507</td>\n",
       "      <td>0.461301</td>\n",
       "      <td>0.099450</td>\n",
       "      <td>Arnaud_M4e14_z0p2</td>\n",
       "      <td>...</td>\n",
       "      <td>2.881614</td>\n",
       "      <td>False</td>\n",
       "      <td>-99.0</td>\n",
       "      <td>0.023776</td>\n",
       "      <td>-38.626737</td>\n",
       "      <td>RMDESY3</td>\n",
       "      <td></td>\n",
       "      <td></td>\n",
       "      <td></td>\n",
       "      <td></td>\n",
       "    </tr>\n",
       "    <tr>\n",
       "      <th>1</th>\n",
       "      <td>ACT-CL J0000.2-4357</td>\n",
       "      <td>0.061318</td>\n",
       "      <td>-43.955645</td>\n",
       "      <td>7.676262</td>\n",
       "      <td>0.593745</td>\n",
       "      <td>0.077348</td>\n",
       "      <td>7.581173</td>\n",
       "      <td>0.725846</td>\n",
       "      <td>0.095743</td>\n",
       "      <td>Arnaud_M1e14_z0p2</td>\n",
       "      <td>...</td>\n",
       "      <td>4.824760</td>\n",
       "      <td>False</td>\n",
       "      <td>-99.0</td>\n",
       "      <td>0.071517</td>\n",
       "      <td>-43.957593</td>\n",
       "      <td>Vis-BCG</td>\n",
       "      <td></td>\n",
       "      <td></td>\n",
       "      <td></td>\n",
       "      <td></td>\n",
       "    </tr>\n",
       "    <tr>\n",
       "      <th>2</th>\n",
       "      <td>ACT-CL J0000.3-2805</td>\n",
       "      <td>0.089905</td>\n",
       "      <td>-28.091255</td>\n",
       "      <td>5.655515</td>\n",
       "      <td>0.675573</td>\n",
       "      <td>0.119454</td>\n",
       "      <td>4.649276</td>\n",
       "      <td>0.885057</td>\n",
       "      <td>0.190364</td>\n",
       "      <td>Arnaud_M8e14_z0p2</td>\n",
       "      <td>...</td>\n",
       "      <td>-99.000000</td>\n",
       "      <td>False</td>\n",
       "      <td>-99.0</td>\n",
       "      <td>0.096956</td>\n",
       "      <td>-28.103488</td>\n",
       "      <td>Vis-BCG</td>\n",
       "      <td></td>\n",
       "      <td></td>\n",
       "      <td></td>\n",
       "      <td></td>\n",
       "    </tr>\n",
       "    <tr>\n",
       "      <th>3</th>\n",
       "      <td>ACT-CL J0000.4-0102</td>\n",
       "      <td>0.113536</td>\n",
       "      <td>-1.044805</td>\n",
       "      <td>4.968499</td>\n",
       "      <td>0.293465</td>\n",
       "      <td>0.059065</td>\n",
       "      <td>4.426424</td>\n",
       "      <td>0.370215</td>\n",
       "      <td>0.083637</td>\n",
       "      <td>Arnaud_M8e14_z0p2</td>\n",
       "      <td>...</td>\n",
       "      <td>3.726360</td>\n",
       "      <td>False</td>\n",
       "      <td>-99.0</td>\n",
       "      <td>0.116001</td>\n",
       "      <td>-1.043040</td>\n",
       "      <td>Vis-BCG</td>\n",
       "      <td></td>\n",
       "      <td></td>\n",
       "      <td></td>\n",
       "      <td></td>\n",
       "    </tr>\n",
       "    <tr>\n",
       "      <th>4</th>\n",
       "      <td>ACT-CL J0000.4-0552</td>\n",
       "      <td>0.113978</td>\n",
       "      <td>-5.880626</td>\n",
       "      <td>4.583042</td>\n",
       "      <td>1.067623</td>\n",
       "      <td>0.232951</td>\n",
       "      <td>4.309756</td>\n",
       "      <td>0.466331</td>\n",
       "      <td>0.108203</td>\n",
       "      <td>Arnaud_M1e14_z1p2</td>\n",
       "      <td>...</td>\n",
       "      <td>-99.000000</td>\n",
       "      <td>False</td>\n",
       "      <td>-99.0</td>\n",
       "      <td>0.110460</td>\n",
       "      <td>-5.884459</td>\n",
       "      <td>Vis-BCG</td>\n",
       "      <td></td>\n",
       "      <td></td>\n",
       "      <td></td>\n",
       "      <td></td>\n",
       "    </tr>\n",
       "  </tbody>\n",
       "</table>\n",
       "<p>5 rows × 51 columns</p>\n",
       "</div>"
      ],
      "text/plain": [
       "                  name     RADeg     decDeg       SNR       y_c   err_y_c  \\\n",
       "0  ACT-CL J0000.0-3837  0.020896 -38.626729  4.801052  0.326241  0.067952   \n",
       "1  ACT-CL J0000.2-4357  0.061318 -43.955645  7.676262  0.593745  0.077348   \n",
       "2  ACT-CL J0000.3-2805  0.089905 -28.091255  5.655515  0.675573  0.119454   \n",
       "3  ACT-CL J0000.4-0102  0.113536  -1.044805  4.968499  0.293465  0.059065   \n",
       "4  ACT-CL J0000.4-0552  0.113978  -5.880626  4.583042  1.067623  0.232951   \n",
       "\n",
       "   fixed_SNR  fixed_y_c  fixed_err_y_c           template  ...  \\\n",
       "0   4.638507   0.461301       0.099450  Arnaud_M4e14_z0p2  ...   \n",
       "1   7.581173   0.725846       0.095743  Arnaud_M1e14_z0p2  ...   \n",
       "2   4.649276   0.885057       0.190364  Arnaud_M8e14_z0p2  ...   \n",
       "3   4.426424   0.370215       0.083637  Arnaud_M8e14_z0p2  ...   \n",
       "4   4.309756   0.466331       0.108203  Arnaud_M1e14_z1p2  ...   \n",
       "\n",
       "  RMDESY3_LAMBDA_CHISQ_E  CAMIRA  CAMIRA_N_mem opt_RADeg opt_decDeg  \\\n",
       "0               2.881614   False         -99.0  0.023776 -38.626737   \n",
       "1               4.824760   False         -99.0  0.071517 -43.957593   \n",
       "2             -99.000000   False         -99.0  0.096956 -28.103488   \n",
       "3               3.726360   False         -99.0  0.116001  -1.043040   \n",
       "4             -99.000000   False         -99.0  0.110460  -5.884459   \n",
       "\n",
       "   opt_positionSource  notes  knownLens  knownLensRefCode  warnings  \n",
       "0             RMDESY3                                                \n",
       "1             Vis-BCG                                                \n",
       "2             Vis-BCG                                                \n",
       "3             Vis-BCG                                                \n",
       "4             Vis-BCG                                                \n",
       "\n",
       "[5 rows x 51 columns]"
      ]
     },
     "execution_count": 7,
     "metadata": {},
     "output_type": "execute_result"
    }
   ],
   "source": [
    "df.head()"
   ]
  },
  {
   "cell_type": "code",
   "execution_count": 8,
   "metadata": {
    "ExecuteTime": {
     "end_time": "2020-09-30T20:34:06.131814Z",
     "start_time": "2020-09-30T20:34:06.117789Z"
    }
   },
   "outputs": [
    {
     "data": {
      "text/plain": [
       "(4195, 51)"
      ]
     },
     "execution_count": 8,
     "metadata": {},
     "output_type": "execute_result"
    }
   ],
   "source": [
    "df.shape"
   ]
  },
  {
   "cell_type": "code",
   "execution_count": 9,
   "metadata": {
    "ExecuteTime": {
     "end_time": "2020-09-30T20:35:15.378623Z",
     "start_time": "2020-09-30T20:35:15.361398Z"
    }
   },
   "outputs": [],
   "source": [
    "planck_z = pd.read_csv('/home/rt2122/Data/clusters/planck_z.csv')"
   ]
  },
  {
   "cell_type": "code",
   "execution_count": 12,
   "metadata": {
    "ExecuteTime": {
     "end_time": "2020-09-30T20:38:07.529791Z",
     "start_time": "2020-09-30T20:38:07.379505Z"
    }
   },
   "outputs": [],
   "source": [
    "act_sc = SkyCoord(ra=df['RADeg']*u.degree, dec=df['decDeg']*u.degree, frame='icrs')\n",
    "p_sc = SkyCoord(ra=planck_z['RA']*u.degree, dec=planck_z['DEC']*u.degree, frame='icrs')"
   ]
  },
  {
   "cell_type": "code",
   "execution_count": 13,
   "metadata": {
    "ExecuteTime": {
     "end_time": "2020-09-30T20:39:29.963921Z",
     "start_time": "2020-09-30T20:39:29.791178Z"
    }
   },
   "outputs": [],
   "source": [
    "idx, sep2d, _ = act_sc.match_to_catalog_sky(p_sc)"
   ]
  },
  {
   "cell_type": "code",
   "execution_count": 16,
   "metadata": {
    "ExecuteTime": {
     "end_time": "2020-09-30T20:40:04.493085Z",
     "start_time": "2020-09-30T20:40:04.485819Z"
    }
   },
   "outputs": [
    {
     "data": {
      "text/plain": [
       "346"
      ]
     },
     "execution_count": 16,
     "metadata": {},
     "output_type": "execute_result"
    }
   ],
   "source": [
    "np.count_nonzero(sep2d.degree < 5 / 60)"
   ]
  },
  {
   "cell_type": "code",
   "execution_count": 17,
   "metadata": {
    "ExecuteTime": {
     "end_time": "2020-09-30T20:41:29.118655Z",
     "start_time": "2020-09-30T20:41:29.110953Z"
    }
   },
   "outputs": [],
   "source": [
    "df = df[sep2d.degree < 5 / 60]\n",
    "df.index = np.arange(df.shape[0])"
   ]
  },
  {
   "cell_type": "code",
   "execution_count": 18,
   "metadata": {
    "ExecuteTime": {
     "end_time": "2020-09-30T20:42:00.880436Z",
     "start_time": "2020-09-30T20:42:00.868498Z"
    }
   },
   "outputs": [
    {
     "data": {
      "text/plain": [
       "(346, 51)"
      ]
     },
     "execution_count": 18,
     "metadata": {},
     "output_type": "execute_result"
    }
   ],
   "source": [
    "df.shape"
   ]
  },
  {
   "cell_type": "code",
   "execution_count": 19,
   "metadata": {
    "ExecuteTime": {
     "end_time": "2020-09-30T20:42:12.872002Z",
     "start_time": "2020-09-30T20:42:12.851013Z"
    }
   },
   "outputs": [],
   "source": [
    "planck_no_z = pd.read_csv('/home/rt2122/Data/clusters/planck_no_z.csv')"
   ]
  },
  {
   "cell_type": "code",
   "execution_count": 21,
   "metadata": {
    "ExecuteTime": {
     "end_time": "2020-09-30T20:42:55.126652Z",
     "start_time": "2020-09-30T20:42:55.089568Z"
    }
   },
   "outputs": [],
   "source": [
    "pnz_sc = SkyCoord(\n",
    "    ra=planck_no_z['RA']*u.degree, dec=planck_no_z['DEC']*u.degree, frame='icrs')\n",
    "act_sc = SkyCoord(ra=df['RADeg']*u.degree, dec=df['decDeg']*u.degree, frame='icrs')"
   ]
  },
  {
   "cell_type": "code",
   "execution_count": 22,
   "metadata": {
    "ExecuteTime": {
     "end_time": "2020-09-30T20:43:00.963977Z",
     "start_time": "2020-09-30T20:43:00.949663Z"
    }
   },
   "outputs": [],
   "source": [
    "idx, sep2d, _ = act_sc.match_to_catalog_sky(pnz_sc)"
   ]
  },
  {
   "cell_type": "code",
   "execution_count": 24,
   "metadata": {
    "ExecuteTime": {
     "end_time": "2020-09-30T20:43:47.523881Z",
     "start_time": "2020-09-30T20:43:47.514445Z"
    }
   },
   "outputs": [
    {
     "data": {
      "text/plain": [
       "0"
      ]
     },
     "execution_count": 24,
     "metadata": {},
     "output_type": "execute_result"
    }
   ],
   "source": [
    "np.count_nonzero(sep2d.degree < 15 / 60)"
   ]
  },
  {
   "cell_type": "code",
   "execution_count": 25,
   "metadata": {
    "ExecuteTime": {
     "end_time": "2020-09-30T20:44:39.307588Z",
     "start_time": "2020-09-30T20:44:39.243518Z"
    }
   },
   "outputs": [],
   "source": [
    "mcxcwp = pd.read_csv('/home/rt2122/Data/clusters/mcxcwp.csv')\n",
    "m_sc = SkyCoord(\n",
    "    ra=mcxcwp['RA']*u.degree, dec=mcxcwp['DEC']*u.degree, frame='icrs')\n",
    "act_sc = SkyCoord(ra=df['RADeg']*u.degree, dec=df['decDeg']*u.degree, frame='icrs')"
   ]
  },
  {
   "cell_type": "code",
   "execution_count": 26,
   "metadata": {
    "ExecuteTime": {
     "end_time": "2020-09-30T20:44:49.632953Z",
     "start_time": "2020-09-30T20:44:49.617214Z"
    }
   },
   "outputs": [],
   "source": [
    "idx, sep2d, _ = act_sc.match_to_catalog_sky(m_sc)"
   ]
  },
  {
   "cell_type": "code",
   "execution_count": 29,
   "metadata": {
    "ExecuteTime": {
     "end_time": "2020-09-30T20:45:15.376158Z",
     "start_time": "2020-09-30T20:45:15.363343Z"
    }
   },
   "outputs": [
    {
     "data": {
      "text/plain": [
       "0"
      ]
     },
     "execution_count": 29,
     "metadata": {},
     "output_type": "execute_result"
    }
   ],
   "source": [
    "np.count_nonzero(sep2d.degree < 5 / 60)"
   ]
  },
  {
   "cell_type": "code",
   "execution_count": 30,
   "metadata": {
    "ExecuteTime": {
     "end_time": "2020-09-30T20:46:31.692429Z",
     "start_time": "2020-09-30T20:46:31.684845Z"
    }
   },
   "outputs": [],
   "source": [
    "df = df.rename({'RADeg' : 'RA', 'decDeg' : 'DEC'}, axis='columns')"
   ]
  },
  {
   "cell_type": "code",
   "execution_count": 31,
   "metadata": {
    "ExecuteTime": {
     "end_time": "2020-09-30T20:46:34.614320Z",
     "start_time": "2020-09-30T20:46:34.580980Z"
    }
   },
   "outputs": [
    {
     "data": {
      "text/html": [
       "<div>\n",
       "<style scoped>\n",
       "    .dataframe tbody tr th:only-of-type {\n",
       "        vertical-align: middle;\n",
       "    }\n",
       "\n",
       "    .dataframe tbody tr th {\n",
       "        vertical-align: top;\n",
       "    }\n",
       "\n",
       "    .dataframe thead th {\n",
       "        text-align: right;\n",
       "    }\n",
       "</style>\n",
       "<table border=\"1\" class=\"dataframe\">\n",
       "  <thead>\n",
       "    <tr style=\"text-align: right;\">\n",
       "      <th></th>\n",
       "      <th>name</th>\n",
       "      <th>RA</th>\n",
       "      <th>DEC</th>\n",
       "      <th>SNR</th>\n",
       "      <th>y_c</th>\n",
       "      <th>err_y_c</th>\n",
       "      <th>fixed_SNR</th>\n",
       "      <th>fixed_y_c</th>\n",
       "      <th>fixed_err_y_c</th>\n",
       "      <th>template</th>\n",
       "      <th>...</th>\n",
       "      <th>RMDESY3_LAMBDA_CHISQ_E</th>\n",
       "      <th>CAMIRA</th>\n",
       "      <th>CAMIRA_N_mem</th>\n",
       "      <th>opt_RADeg</th>\n",
       "      <th>opt_decDeg</th>\n",
       "      <th>opt_positionSource</th>\n",
       "      <th>notes</th>\n",
       "      <th>knownLens</th>\n",
       "      <th>knownLensRefCode</th>\n",
       "      <th>warnings</th>\n",
       "    </tr>\n",
       "  </thead>\n",
       "  <tbody>\n",
       "    <tr>\n",
       "      <th>0</th>\n",
       "      <td>ACT-CL J0001.9+1203</td>\n",
       "      <td>0.482636</td>\n",
       "      <td>12.061679</td>\n",
       "      <td>7.293848</td>\n",
       "      <td>0.723885</td>\n",
       "      <td>0.099246</td>\n",
       "      <td>6.446910</td>\n",
       "      <td>1.014815</td>\n",
       "      <td>0.157411</td>\n",
       "      <td>Arnaud_M8e14_z0p2</td>\n",
       "      <td>...</td>\n",
       "      <td>-99.000000</td>\n",
       "      <td>False</td>\n",
       "      <td>-99.000</td>\n",
       "      <td>0.493217</td>\n",
       "      <td>12.066475</td>\n",
       "      <td>Vis-BCG</td>\n",
       "      <td></td>\n",
       "      <td></td>\n",
       "      <td></td>\n",
       "      <td></td>\n",
       "    </tr>\n",
       "    <tr>\n",
       "      <th>1</th>\n",
       "      <td>ACT-CL J0003.2-0605</td>\n",
       "      <td>0.802677</td>\n",
       "      <td>-6.089536</td>\n",
       "      <td>20.129664</td>\n",
       "      <td>1.669388</td>\n",
       "      <td>0.082932</td>\n",
       "      <td>19.568297</td>\n",
       "      <td>2.148085</td>\n",
       "      <td>0.109774</td>\n",
       "      <td>Arnaud_M2e14_z0p2</td>\n",
       "      <td>...</td>\n",
       "      <td>-99.000000</td>\n",
       "      <td>False</td>\n",
       "      <td>-99.000</td>\n",
       "      <td>0.798265</td>\n",
       "      <td>-6.091704</td>\n",
       "      <td>Vis-BCG</td>\n",
       "      <td></td>\n",
       "      <td></td>\n",
       "      <td></td>\n",
       "      <td></td>\n",
       "    </tr>\n",
       "    <tr>\n",
       "      <th>2</th>\n",
       "      <td>ACT-CL J0003.8+0203</td>\n",
       "      <td>0.954186</td>\n",
       "      <td>2.062602</td>\n",
       "      <td>5.478078</td>\n",
       "      <td>0.396478</td>\n",
       "      <td>0.072375</td>\n",
       "      <td>5.420873</td>\n",
       "      <td>0.494142</td>\n",
       "      <td>0.091155</td>\n",
       "      <td>Arnaud_M8e14_z0p4</td>\n",
       "      <td>...</td>\n",
       "      <td>3.419855</td>\n",
       "      <td>True</td>\n",
       "      <td>31.927</td>\n",
       "      <td>0.956512</td>\n",
       "      <td>2.067147</td>\n",
       "      <td>Vis-BCG</td>\n",
       "      <td></td>\n",
       "      <td></td>\n",
       "      <td></td>\n",
       "      <td></td>\n",
       "    </tr>\n",
       "    <tr>\n",
       "      <th>3</th>\n",
       "      <td>ACT-CL J0005.9-3443</td>\n",
       "      <td>1.495625</td>\n",
       "      <td>-34.724928</td>\n",
       "      <td>5.392566</td>\n",
       "      <td>0.367563</td>\n",
       "      <td>0.068161</td>\n",
       "      <td>5.195207</td>\n",
       "      <td>0.518366</td>\n",
       "      <td>0.099778</td>\n",
       "      <td>Arnaud_M8e14_z0p2</td>\n",
       "      <td>...</td>\n",
       "      <td>4.453872</td>\n",
       "      <td>False</td>\n",
       "      <td>-99.000</td>\n",
       "      <td>1.498445</td>\n",
       "      <td>-34.721933</td>\n",
       "      <td>Vis-BCG</td>\n",
       "      <td></td>\n",
       "      <td></td>\n",
       "      <td></td>\n",
       "      <td></td>\n",
       "    </tr>\n",
       "    <tr>\n",
       "      <th>4</th>\n",
       "      <td>ACT-CL J0006.3+1051</td>\n",
       "      <td>1.584596</td>\n",
       "      <td>10.857148</td>\n",
       "      <td>7.058319</td>\n",
       "      <td>0.730762</td>\n",
       "      <td>0.103532</td>\n",
       "      <td>6.595807</td>\n",
       "      <td>1.100267</td>\n",
       "      <td>0.166813</td>\n",
       "      <td>Arnaud_M8e14_z0p2</td>\n",
       "      <td>...</td>\n",
       "      <td>-99.000000</td>\n",
       "      <td>False</td>\n",
       "      <td>-99.000</td>\n",
       "      <td>1.584371</td>\n",
       "      <td>10.864830</td>\n",
       "      <td>Vis-BCG</td>\n",
       "      <td></td>\n",
       "      <td></td>\n",
       "      <td></td>\n",
       "      <td>Redshift &gt; 0.6 prior applied in photo-z estimate</td>\n",
       "    </tr>\n",
       "  </tbody>\n",
       "</table>\n",
       "<p>5 rows × 51 columns</p>\n",
       "</div>"
      ],
      "text/plain": [
       "                  name        RA        DEC        SNR       y_c   err_y_c  \\\n",
       "0  ACT-CL J0001.9+1203  0.482636  12.061679   7.293848  0.723885  0.099246   \n",
       "1  ACT-CL J0003.2-0605  0.802677  -6.089536  20.129664  1.669388  0.082932   \n",
       "2  ACT-CL J0003.8+0203  0.954186   2.062602   5.478078  0.396478  0.072375   \n",
       "3  ACT-CL J0005.9-3443  1.495625 -34.724928   5.392566  0.367563  0.068161   \n",
       "4  ACT-CL J0006.3+1051  1.584596  10.857148   7.058319  0.730762  0.103532   \n",
       "\n",
       "   fixed_SNR  fixed_y_c  fixed_err_y_c           template  ...  \\\n",
       "0   6.446910   1.014815       0.157411  Arnaud_M8e14_z0p2  ...   \n",
       "1  19.568297   2.148085       0.109774  Arnaud_M2e14_z0p2  ...   \n",
       "2   5.420873   0.494142       0.091155  Arnaud_M8e14_z0p4  ...   \n",
       "3   5.195207   0.518366       0.099778  Arnaud_M8e14_z0p2  ...   \n",
       "4   6.595807   1.100267       0.166813  Arnaud_M8e14_z0p2  ...   \n",
       "\n",
       "  RMDESY3_LAMBDA_CHISQ_E  CAMIRA  CAMIRA_N_mem opt_RADeg opt_decDeg  \\\n",
       "0             -99.000000   False       -99.000  0.493217  12.066475   \n",
       "1             -99.000000   False       -99.000  0.798265  -6.091704   \n",
       "2               3.419855    True        31.927  0.956512   2.067147   \n",
       "3               4.453872   False       -99.000  1.498445 -34.721933   \n",
       "4             -99.000000   False       -99.000  1.584371  10.864830   \n",
       "\n",
       "   opt_positionSource  notes  knownLens  knownLensRefCode  \\\n",
       "0             Vis-BCG                                       \n",
       "1             Vis-BCG                                       \n",
       "2             Vis-BCG                                       \n",
       "3             Vis-BCG                                       \n",
       "4             Vis-BCG                                       \n",
       "\n",
       "                                           warnings  \n",
       "0                                                    \n",
       "1                                                    \n",
       "2                                                    \n",
       "3                                                    \n",
       "4  Redshift > 0.6 prior applied in photo-z estimate  \n",
       "\n",
       "[5 rows x 51 columns]"
      ]
     },
     "execution_count": 31,
     "metadata": {},
     "output_type": "execute_result"
    }
   ],
   "source": [
    "df.head()"
   ]
  },
  {
   "cell_type": "code",
   "execution_count": 32,
   "metadata": {
    "ExecuteTime": {
     "end_time": "2020-09-30T20:47:33.461906Z",
     "start_time": "2020-09-30T20:47:33.406954Z"
    }
   },
   "outputs": [],
   "source": [
    "df.to_csv('/home/rt2122/Data/clusters/act.csv', index=False)"
   ]
  },
  {
   "cell_type": "code",
   "execution_count": 3,
   "metadata": {
    "ExecuteTime": {
     "end_time": "2020-10-01T09:04:53.713191Z",
     "start_time": "2020-10-01T09:04:53.651500Z"
    }
   },
   "outputs": [],
   "source": [
    "act = pd.read_csv('/home/rt2122/Data/clusters/act.csv')"
   ]
  },
  {
   "cell_type": "code",
   "execution_count": 4,
   "metadata": {
    "ExecuteTime": {
     "end_time": "2020-10-01T09:04:53.923783Z",
     "start_time": "2020-10-01T09:04:53.920500Z"
    }
   },
   "outputs": [],
   "source": [
    "act['pix2'] = np.zeros(len(act), dtype=int)"
   ]
  },
  {
   "cell_type": "code",
   "execution_count": 5,
   "metadata": {
    "ExecuteTime": {
     "end_time": "2020-10-01T09:04:54.659949Z",
     "start_time": "2020-10-01T09:04:54.134702Z"
    }
   },
   "outputs": [],
   "source": [
    "act['pix2'] = radec2pix(act['RA'], act['DEC'], nside=2)"
   ]
  },
  {
   "cell_type": "code",
   "execution_count": 6,
   "metadata": {
    "ExecuteTime": {
     "end_time": "2020-10-01T09:04:54.665142Z",
     "start_time": "2020-10-01T09:04:54.661437Z"
    }
   },
   "outputs": [
    {
     "name": "stdout",
     "output_type": "stream",
     "text": [
      "6 0\n"
     ]
    }
   ],
   "source": [
    "for i in test_pix:\n",
    "    print(i, np.count_nonzero(act['pix2'] == i))"
   ]
  },
  {
   "cell_type": "code",
   "execution_count": 7,
   "metadata": {
    "ExecuteTime": {
     "end_time": "2020-10-01T09:04:54.810049Z",
     "start_time": "2020-10-01T09:04:54.717792Z"
    }
   },
   "outputs": [
    {
     "name": "stdout",
     "output_type": "stream",
     "text": [
      "9 130\n",
      "38 112\n",
      "41 287\n"
     ]
    }
   ],
   "source": [
    "for i in val_pix:\n",
    "    print(i, np.count_nonzero(act['pix2'] == i))"
   ]
  },
  {
   "cell_type": "code",
   "execution_count": 8,
   "metadata": {
    "ExecuteTime": {
     "end_time": "2020-10-01T09:04:54.970013Z",
     "start_time": "2020-10-01T09:04:54.944891Z"
    }
   },
   "outputs": [
    {
     "name": "stdout",
     "output_type": "stream",
     "text": [
      "0 11\n",
      "2 338\n",
      "3 45\n",
      "8 114\n",
      "10 65\n",
      "11 217\n",
      "13 87\n",
      "14 16\n",
      "15 330\n",
      "16 11\n",
      "19 1\n",
      "20 7\n",
      "24 14\n",
      "28 46\n",
      "32 118\n",
      "33 198\n",
      "34 43\n",
      "35 46\n",
      "36 282\n",
      "37 183\n",
      "40 303\n",
      "42 135\n",
      "43 54\n",
      "44 325\n",
      "45 143\n",
      "46 59\n"
     ]
    }
   ],
   "source": [
    "for i in train_pix:\n",
    "    if np.count_nonzero(act['pix2'] == i):\n",
    "        print(i, np.count_nonzero(act['pix2'] == i))"
   ]
  },
  {
   "cell_type": "code",
   "execution_count": 9,
   "metadata": {
    "ExecuteTime": {
     "end_time": "2020-10-01T09:06:41.586302Z",
     "start_time": "2020-10-01T09:06:41.571773Z"
    }
   },
   "outputs": [],
   "source": [
    "planck_z = pd.read_csv('/home/rt2122/Data/clusters/planck_z.csv')\n",
    "planck_no_z = pd.read_csv('/home/rt2122/Data/clusters/planck_no_z.csv')\n",
    "mcxcwp = pd.read_csv('/home/rt2122/Data/clusters/mcxcwp.csv')"
   ]
  },
  {
   "cell_type": "code",
   "execution_count": 11,
   "metadata": {
    "ExecuteTime": {
     "end_time": "2020-10-01T09:08:34.891863Z",
     "start_time": "2020-10-01T09:08:34.693229Z"
    }
   },
   "outputs": [],
   "source": [
    "planck_z['pix2'] = radec2pix(planck_z['RA'], planck_z['DEC'], nside=2)\n",
    "planck_no_z['pix2'] = radec2pix(planck_no_z['RA'], planck_no_z['DEC'], nside=2)\n",
    "mcxcwp['pix2'] = radec2pix(mcxcwp['RA'], mcxcwp['DEC'], nside=2)"
   ]
  },
  {
   "cell_type": "code",
   "execution_count": 15,
   "metadata": {
    "ExecuteTime": {
     "end_time": "2020-10-01T09:09:48.578742Z",
     "start_time": "2020-10-01T09:09:48.566540Z"
    }
   },
   "outputs": [],
   "source": [
    "cl_count = pd.DataFrame({'planck_z' : [0] * 48, 'planck_no_z' : [0]*48, 'mcxcwp' : [0]*48, \n",
    "                        'act' : [0]*48})"
   ]
  },
  {
   "cell_type": "code",
   "execution_count": 16,
   "metadata": {
    "ExecuteTime": {
     "end_time": "2020-10-01T09:09:49.325030Z",
     "start_time": "2020-10-01T09:09:49.301356Z"
    }
   },
   "outputs": [],
   "source": [
    "for i in range(48):\n",
    "    cl_count['planck_z'].iloc[i] = np.count_nonzero(planck_z['pix2'] == i)"
   ]
  },
  {
   "cell_type": "code",
   "execution_count": 18,
   "metadata": {
    "ExecuteTime": {
     "end_time": "2020-10-01T09:10:37.635198Z",
     "start_time": "2020-10-01T09:10:37.585557Z"
    }
   },
   "outputs": [],
   "source": [
    "\n",
    "for i in range(48):\n",
    "    cl_count['planck_no_z'].iloc[i] = np.count_nonzero(planck_no_z['pix2'] == i)\n",
    "for i in range(48):\n",
    "    cl_count['mcxcwp'].iloc[i] = np.count_nonzero(mcxcwp['pix2'] == i)\n",
    "for i in range(48):\n",
    "    cl_count['act'].iloc[i] = np.count_nonzero(act['pix2'] == i)"
   ]
  },
  {
   "cell_type": "code",
   "execution_count": 20,
   "metadata": {
    "ExecuteTime": {
     "end_time": "2020-10-01T09:10:52.171046Z",
     "start_time": "2020-10-01T09:10:52.156628Z"
    }
   },
   "outputs": [
    {
     "data": {
      "text/html": [
       "<div>\n",
       "<style scoped>\n",
       "    .dataframe tbody tr th:only-of-type {\n",
       "        vertical-align: middle;\n",
       "    }\n",
       "\n",
       "    .dataframe tbody tr th {\n",
       "        vertical-align: top;\n",
       "    }\n",
       "\n",
       "    .dataframe thead th {\n",
       "        text-align: right;\n",
       "    }\n",
       "</style>\n",
       "<table border=\"1\" class=\"dataframe\">\n",
       "  <thead>\n",
       "    <tr style=\"text-align: right;\">\n",
       "      <th></th>\n",
       "      <th>planck_z</th>\n",
       "      <th>planck_no_z</th>\n",
       "      <th>mcxcwp</th>\n",
       "      <th>act</th>\n",
       "    </tr>\n",
       "  </thead>\n",
       "  <tbody>\n",
       "    <tr>\n",
       "      <th>9</th>\n",
       "      <td>29</td>\n",
       "      <td>13</td>\n",
       "      <td>24</td>\n",
       "      <td>130</td>\n",
       "    </tr>\n",
       "    <tr>\n",
       "      <th>38</th>\n",
       "      <td>50</td>\n",
       "      <td>10</td>\n",
       "      <td>38</td>\n",
       "      <td>112</td>\n",
       "    </tr>\n",
       "    <tr>\n",
       "      <th>41</th>\n",
       "      <td>53</td>\n",
       "      <td>5</td>\n",
       "      <td>41</td>\n",
       "      <td>287</td>\n",
       "    </tr>\n",
       "  </tbody>\n",
       "</table>\n",
       "</div>"
      ],
      "text/plain": [
       "    planck_z  planck_no_z  mcxcwp  act\n",
       "9         29           13      24  130\n",
       "38        50           10      38  112\n",
       "41        53            5      41  287"
      ]
     },
     "execution_count": 20,
     "metadata": {},
     "output_type": "execute_result"
    }
   ],
   "source": [
    "cl_count.iloc[val_pix]"
   ]
  },
  {
   "cell_type": "code",
   "execution_count": 21,
   "metadata": {
    "ExecuteTime": {
     "end_time": "2020-10-01T09:11:00.462739Z",
     "start_time": "2020-10-01T09:11:00.450657Z"
    }
   },
   "outputs": [
    {
     "data": {
      "text/html": [
       "<div>\n",
       "<style scoped>\n",
       "    .dataframe tbody tr th:only-of-type {\n",
       "        vertical-align: middle;\n",
       "    }\n",
       "\n",
       "    .dataframe tbody tr th {\n",
       "        vertical-align: top;\n",
       "    }\n",
       "\n",
       "    .dataframe thead th {\n",
       "        text-align: right;\n",
       "    }\n",
       "</style>\n",
       "<table border=\"1\" class=\"dataframe\">\n",
       "  <thead>\n",
       "    <tr style=\"text-align: right;\">\n",
       "      <th></th>\n",
       "      <th>planck_z</th>\n",
       "      <th>planck_no_z</th>\n",
       "      <th>mcxcwp</th>\n",
       "      <th>act</th>\n",
       "    </tr>\n",
       "  </thead>\n",
       "  <tbody>\n",
       "    <tr>\n",
       "      <th>6</th>\n",
       "      <td>40</td>\n",
       "      <td>18</td>\n",
       "      <td>50</td>\n",
       "      <td>0</td>\n",
       "    </tr>\n",
       "  </tbody>\n",
       "</table>\n",
       "</div>"
      ],
      "text/plain": [
       "   planck_z  planck_no_z  mcxcwp  act\n",
       "6        40           18      50    0"
      ]
     },
     "execution_count": 21,
     "metadata": {},
     "output_type": "execute_result"
    }
   ],
   "source": [
    "cl_count.iloc[test_pix]"
   ]
  },
  {
   "cell_type": "code",
   "execution_count": 22,
   "metadata": {
    "ExecuteTime": {
     "end_time": "2020-10-01T09:11:06.570903Z",
     "start_time": "2020-10-01T09:11:06.551656Z"
    }
   },
   "outputs": [
    {
     "data": {
      "text/html": [
       "<div>\n",
       "<style scoped>\n",
       "    .dataframe tbody tr th:only-of-type {\n",
       "        vertical-align: middle;\n",
       "    }\n",
       "\n",
       "    .dataframe tbody tr th {\n",
       "        vertical-align: top;\n",
       "    }\n",
       "\n",
       "    .dataframe thead th {\n",
       "        text-align: right;\n",
       "    }\n",
       "</style>\n",
       "<table border=\"1\" class=\"dataframe\">\n",
       "  <thead>\n",
       "    <tr style=\"text-align: right;\">\n",
       "      <th></th>\n",
       "      <th>planck_z</th>\n",
       "      <th>planck_no_z</th>\n",
       "      <th>mcxcwp</th>\n",
       "      <th>act</th>\n",
       "    </tr>\n",
       "  </thead>\n",
       "  <tbody>\n",
       "    <tr>\n",
       "      <th>0</th>\n",
       "      <td>20</td>\n",
       "      <td>20</td>\n",
       "      <td>9</td>\n",
       "      <td>11</td>\n",
       "    </tr>\n",
       "    <tr>\n",
       "      <th>1</th>\n",
       "      <td>37</td>\n",
       "      <td>8</td>\n",
       "      <td>43</td>\n",
       "      <td>0</td>\n",
       "    </tr>\n",
       "    <tr>\n",
       "      <th>2</th>\n",
       "      <td>24</td>\n",
       "      <td>1</td>\n",
       "      <td>34</td>\n",
       "      <td>338</td>\n",
       "    </tr>\n",
       "    <tr>\n",
       "      <th>3</th>\n",
       "      <td>40</td>\n",
       "      <td>4</td>\n",
       "      <td>60</td>\n",
       "      <td>45</td>\n",
       "    </tr>\n",
       "    <tr>\n",
       "      <th>4</th>\n",
       "      <td>11</td>\n",
       "      <td>18</td>\n",
       "      <td>13</td>\n",
       "      <td>0</td>\n",
       "    </tr>\n",
       "    <tr>\n",
       "      <th>5</th>\n",
       "      <td>36</td>\n",
       "      <td>9</td>\n",
       "      <td>61</td>\n",
       "      <td>0</td>\n",
       "    </tr>\n",
       "    <tr>\n",
       "      <th>7</th>\n",
       "      <td>42</td>\n",
       "      <td>10</td>\n",
       "      <td>56</td>\n",
       "      <td>0</td>\n",
       "    </tr>\n",
       "    <tr>\n",
       "      <th>8</th>\n",
       "      <td>26</td>\n",
       "      <td>8</td>\n",
       "      <td>11</td>\n",
       "      <td>114</td>\n",
       "    </tr>\n",
       "    <tr>\n",
       "      <th>10</th>\n",
       "      <td>33</td>\n",
       "      <td>3</td>\n",
       "      <td>46</td>\n",
       "      <td>65</td>\n",
       "    </tr>\n",
       "    <tr>\n",
       "      <th>11</th>\n",
       "      <td>32</td>\n",
       "      <td>6</td>\n",
       "      <td>60</td>\n",
       "      <td>217</td>\n",
       "    </tr>\n",
       "    <tr>\n",
       "      <th>12</th>\n",
       "      <td>17</td>\n",
       "      <td>13</td>\n",
       "      <td>30</td>\n",
       "      <td>0</td>\n",
       "    </tr>\n",
       "    <tr>\n",
       "      <th>13</th>\n",
       "      <td>11</td>\n",
       "      <td>17</td>\n",
       "      <td>23</td>\n",
       "      <td>87</td>\n",
       "    </tr>\n",
       "    <tr>\n",
       "      <th>14</th>\n",
       "      <td>29</td>\n",
       "      <td>11</td>\n",
       "      <td>28</td>\n",
       "      <td>16</td>\n",
       "    </tr>\n",
       "    <tr>\n",
       "      <th>15</th>\n",
       "      <td>32</td>\n",
       "      <td>9</td>\n",
       "      <td>39</td>\n",
       "      <td>330</td>\n",
       "    </tr>\n",
       "    <tr>\n",
       "      <th>16</th>\n",
       "      <td>8</td>\n",
       "      <td>10</td>\n",
       "      <td>11</td>\n",
       "      <td>11</td>\n",
       "    </tr>\n",
       "    <tr>\n",
       "      <th>17</th>\n",
       "      <td>2</td>\n",
       "      <td>6</td>\n",
       "      <td>8</td>\n",
       "      <td>0</td>\n",
       "    </tr>\n",
       "    <tr>\n",
       "      <th>18</th>\n",
       "      <td>4</td>\n",
       "      <td>3</td>\n",
       "      <td>5</td>\n",
       "      <td>0</td>\n",
       "    </tr>\n",
       "    <tr>\n",
       "      <th>19</th>\n",
       "      <td>4</td>\n",
       "      <td>4</td>\n",
       "      <td>5</td>\n",
       "      <td>1</td>\n",
       "    </tr>\n",
       "    <tr>\n",
       "      <th>20</th>\n",
       "      <td>19</td>\n",
       "      <td>19</td>\n",
       "      <td>8</td>\n",
       "      <td>7</td>\n",
       "    </tr>\n",
       "    <tr>\n",
       "      <th>21</th>\n",
       "      <td>3</td>\n",
       "      <td>7</td>\n",
       "      <td>3</td>\n",
       "      <td>0</td>\n",
       "    </tr>\n",
       "    <tr>\n",
       "      <th>22</th>\n",
       "      <td>5</td>\n",
       "      <td>6</td>\n",
       "      <td>6</td>\n",
       "      <td>0</td>\n",
       "    </tr>\n",
       "    <tr>\n",
       "      <th>23</th>\n",
       "      <td>38</td>\n",
       "      <td>18</td>\n",
       "      <td>74</td>\n",
       "      <td>0</td>\n",
       "    </tr>\n",
       "    <tr>\n",
       "      <th>24</th>\n",
       "      <td>8</td>\n",
       "      <td>15</td>\n",
       "      <td>13</td>\n",
       "      <td>14</td>\n",
       "    </tr>\n",
       "    <tr>\n",
       "      <th>25</th>\n",
       "      <td>9</td>\n",
       "      <td>3</td>\n",
       "      <td>2</td>\n",
       "      <td>0</td>\n",
       "    </tr>\n",
       "    <tr>\n",
       "      <th>26</th>\n",
       "      <td>2</td>\n",
       "      <td>3</td>\n",
       "      <td>3</td>\n",
       "      <td>0</td>\n",
       "    </tr>\n",
       "    <tr>\n",
       "      <th>27</th>\n",
       "      <td>19</td>\n",
       "      <td>6</td>\n",
       "      <td>23</td>\n",
       "      <td>0</td>\n",
       "    </tr>\n",
       "    <tr>\n",
       "      <th>28</th>\n",
       "      <td>34</td>\n",
       "      <td>19</td>\n",
       "      <td>14</td>\n",
       "      <td>46</td>\n",
       "    </tr>\n",
       "    <tr>\n",
       "      <th>29</th>\n",
       "      <td>4</td>\n",
       "      <td>14</td>\n",
       "      <td>5</td>\n",
       "      <td>0</td>\n",
       "    </tr>\n",
       "    <tr>\n",
       "      <th>30</th>\n",
       "      <td>8</td>\n",
       "      <td>9</td>\n",
       "      <td>4</td>\n",
       "      <td>0</td>\n",
       "    </tr>\n",
       "    <tr>\n",
       "      <th>31</th>\n",
       "      <td>12</td>\n",
       "      <td>23</td>\n",
       "      <td>11</td>\n",
       "      <td>0</td>\n",
       "    </tr>\n",
       "    <tr>\n",
       "      <th>32</th>\n",
       "      <td>37</td>\n",
       "      <td>20</td>\n",
       "      <td>33</td>\n",
       "      <td>118</td>\n",
       "    </tr>\n",
       "    <tr>\n",
       "      <th>33</th>\n",
       "      <td>37</td>\n",
       "      <td>9</td>\n",
       "      <td>25</td>\n",
       "      <td>198</td>\n",
       "    </tr>\n",
       "    <tr>\n",
       "      <th>34</th>\n",
       "      <td>25</td>\n",
       "      <td>17</td>\n",
       "      <td>28</td>\n",
       "      <td>43</td>\n",
       "    </tr>\n",
       "    <tr>\n",
       "      <th>35</th>\n",
       "      <td>13</td>\n",
       "      <td>18</td>\n",
       "      <td>10</td>\n",
       "      <td>46</td>\n",
       "    </tr>\n",
       "    <tr>\n",
       "      <th>36</th>\n",
       "      <td>32</td>\n",
       "      <td>8</td>\n",
       "      <td>41</td>\n",
       "      <td>282</td>\n",
       "    </tr>\n",
       "    <tr>\n",
       "      <th>37</th>\n",
       "      <td>17</td>\n",
       "      <td>15</td>\n",
       "      <td>29</td>\n",
       "      <td>183</td>\n",
       "    </tr>\n",
       "    <tr>\n",
       "      <th>39</th>\n",
       "      <td>17</td>\n",
       "      <td>13</td>\n",
       "      <td>17</td>\n",
       "      <td>0</td>\n",
       "    </tr>\n",
       "    <tr>\n",
       "      <th>40</th>\n",
       "      <td>26</td>\n",
       "      <td>17</td>\n",
       "      <td>36</td>\n",
       "      <td>303</td>\n",
       "    </tr>\n",
       "    <tr>\n",
       "      <th>42</th>\n",
       "      <td>14</td>\n",
       "      <td>17</td>\n",
       "      <td>31</td>\n",
       "      <td>135</td>\n",
       "    </tr>\n",
       "    <tr>\n",
       "      <th>43</th>\n",
       "      <td>21</td>\n",
       "      <td>11</td>\n",
       "      <td>14</td>\n",
       "      <td>54</td>\n",
       "    </tr>\n",
       "    <tr>\n",
       "      <th>44</th>\n",
       "      <td>32</td>\n",
       "      <td>10</td>\n",
       "      <td>28</td>\n",
       "      <td>325</td>\n",
       "    </tr>\n",
       "    <tr>\n",
       "      <th>45</th>\n",
       "      <td>32</td>\n",
       "      <td>9</td>\n",
       "      <td>23</td>\n",
       "      <td>143</td>\n",
       "    </tr>\n",
       "    <tr>\n",
       "      <th>46</th>\n",
       "      <td>34</td>\n",
       "      <td>28</td>\n",
       "      <td>7</td>\n",
       "      <td>59</td>\n",
       "    </tr>\n",
       "    <tr>\n",
       "      <th>47</th>\n",
       "      <td>16</td>\n",
       "      <td>19</td>\n",
       "      <td>10</td>\n",
       "      <td>0</td>\n",
       "    </tr>\n",
       "  </tbody>\n",
       "</table>\n",
       "</div>"
      ],
      "text/plain": [
       "    planck_z  planck_no_z  mcxcwp  act\n",
       "0         20           20       9   11\n",
       "1         37            8      43    0\n",
       "2         24            1      34  338\n",
       "3         40            4      60   45\n",
       "4         11           18      13    0\n",
       "5         36            9      61    0\n",
       "7         42           10      56    0\n",
       "8         26            8      11  114\n",
       "10        33            3      46   65\n",
       "11        32            6      60  217\n",
       "12        17           13      30    0\n",
       "13        11           17      23   87\n",
       "14        29           11      28   16\n",
       "15        32            9      39  330\n",
       "16         8           10      11   11\n",
       "17         2            6       8    0\n",
       "18         4            3       5    0\n",
       "19         4            4       5    1\n",
       "20        19           19       8    7\n",
       "21         3            7       3    0\n",
       "22         5            6       6    0\n",
       "23        38           18      74    0\n",
       "24         8           15      13   14\n",
       "25         9            3       2    0\n",
       "26         2            3       3    0\n",
       "27        19            6      23    0\n",
       "28        34           19      14   46\n",
       "29         4           14       5    0\n",
       "30         8            9       4    0\n",
       "31        12           23      11    0\n",
       "32        37           20      33  118\n",
       "33        37            9      25  198\n",
       "34        25           17      28   43\n",
       "35        13           18      10   46\n",
       "36        32            8      41  282\n",
       "37        17           15      29  183\n",
       "39        17           13      17    0\n",
       "40        26           17      36  303\n",
       "42        14           17      31  135\n",
       "43        21           11      14   54\n",
       "44        32           10      28  325\n",
       "45        32            9      23  143\n",
       "46        34           28       7   59\n",
       "47        16           19      10    0"
      ]
     },
     "execution_count": 22,
     "metadata": {},
     "output_type": "execute_result"
    }
   ],
   "source": [
    "cl_count.iloc[train_pix]"
   ]
  },
  {
   "cell_type": "code",
   "execution_count": null,
   "metadata": {},
   "outputs": [],
   "source": []
  }
 ],
 "metadata": {
  "kernelspec": {
   "display_name": "Python 3",
   "language": "python",
   "name": "python3"
  },
  "language_info": {
   "codemirror_mode": {
    "name": "ipython",
    "version": 3
   },
   "file_extension": ".py",
   "mimetype": "text/x-python",
   "name": "python",
   "nbconvert_exporter": "python",
   "pygments_lexer": "ipython3",
   "version": "3.8.3"
  }
 },
 "nbformat": 4,
 "nbformat_minor": 4
}
