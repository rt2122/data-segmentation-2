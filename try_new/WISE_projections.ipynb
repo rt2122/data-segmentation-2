{
 "cells": [
  {
   "cell_type": "code",
   "execution_count": 34,
   "metadata": {
    "ExecuteTime": {
     "end_time": "2020-07-15T08:24:23.717846Z",
     "start_time": "2020-07-15T08:24:20.617286Z"
    }
   },
   "outputs": [],
   "source": [
    "from astropy.io import fits\n",
    "import numpy as np\n",
    "from astropy.coordinates import SkyCoord\n",
    "from astropy import units as u\n",
    "from tqdm.notebook import tqdm\n",
    "import pandas as pd"
   ]
  },
  {
   "cell_type": "code",
   "execution_count": 12,
   "metadata": {
    "ExecuteTime": {
     "end_time": "2020-07-15T08:02:47.333656Z",
     "start_time": "2020-07-15T08:02:47.326354Z"
    }
   },
   "outputs": [],
   "source": [
    "coma_cluster = SkyCoord(ra=195*u.degree, dec=28*u.degree, frame='icrs')"
   ]
  },
  {
   "cell_type": "code",
   "execution_count": 27,
   "metadata": {
    "ExecuteTime": {
     "end_time": "2020-07-15T08:19:37.099992Z",
     "start_time": "2020-07-15T08:19:37.089011Z"
    }
   },
   "outputs": [],
   "source": [
    "idx = []"
   ]
  },
  {
   "cell_type": "code",
   "execution_count": 28,
   "metadata": {
    "ExecuteTime": {
     "end_time": "2020-07-15T08:20:39.935642Z",
     "start_time": "2020-07-15T08:19:37.321811Z"
    }
   },
   "outputs": [
    {
     "data": {
      "application/vnd.jupyter.widget-view+json": {
       "model_id": "a9f5c04eef7c4f31a2f0652efd881b3a",
       "version_major": 2,
       "version_minor": 0
      },
      "text/plain": [
       "HBox(children=(FloatProgress(value=0.0, max=36480.0), HTML(value='')))"
      ]
     },
     "metadata": {},
     "output_type": "display_data"
    },
    {
     "name": "stdout",
     "output_type": "stream",
     "text": [
      "\n"
     ]
    }
   ],
   "source": [
    "with fits.open('/home/rt2122/Data/fulldepth_neo4_index.fits') as hdul:\n",
    "    data = hdul[1].data\n",
    "    for i in tqdm(range(data.shape[0])):\n",
    "        line = data[i]\n",
    "        sc = SkyCoord(ra=line['RA']*u.degree, dec=line['DEC']*u.degree, frame='icrs')\n",
    "        if coma_cluster.separation(sc).degree < 2:\n",
    "            idx.append((i, line))"
   ]
  },
  {
   "cell_type": "code",
   "execution_count": 29,
   "metadata": {
    "ExecuteTime": {
     "end_time": "2020-07-15T08:20:39.941711Z",
     "start_time": "2020-07-15T08:20:39.937335Z"
    }
   },
   "outputs": [
    {
     "name": "stdout",
     "output_type": "stream",
     "text": [
      "19754\n",
      "19755\n",
      "19814\n",
      "19815\n",
      "19926\n",
      "19927\n",
      "19998\n",
      "19999\n"
     ]
    }
   ],
   "source": [
    "for line in idx:\n",
    "    print(line[0])"
   ]
  },
  {
   "cell_type": "code",
   "execution_count": 31,
   "metadata": {
    "ExecuteTime": {
     "end_time": "2020-07-15T08:23:56.398354Z",
     "start_time": "2020-07-15T08:23:56.393150Z"
    }
   },
   "outputs": [],
   "source": [
    "columns = []"
   ]
  },
  {
   "cell_type": "code",
   "execution_count": 32,
   "metadata": {
    "ExecuteTime": {
     "end_time": "2020-07-15T08:23:57.126663Z",
     "start_time": "2020-07-15T08:23:57.051564Z"
    }
   },
   "outputs": [
    {
     "name": "stdout",
     "output_type": "stream",
     "text": [
      "ColDefs(\n",
      "    name = 'COADD_ID'; format = '8A'\n",
      "    name = 'RA'; format = 'D'\n",
      "    name = 'DEC'; format = 'D'\n",
      "    name = 'BAND'; format = 'I'\n",
      "    name = 'LGAL'; format = 'D'\n",
      "    name = 'BGAL'; format = 'D'\n",
      "    name = 'LAMBDA'; format = 'D'\n",
      "    name = 'BETA'; format = 'D'\n",
      "    name = 'MJDMIN'; format = 'D'\n",
      "    name = 'MJDMAX'; format = 'D'\n",
      "    name = 'MJDMEAN'; format = 'D'\n",
      "    name = 'DT'; format = 'D'\n",
      "    name = 'COVMIN'; format = 'J'\n",
      "    name = 'COVMAX'; format = 'J'\n",
      "    name = 'COVMED'; format = 'E'\n",
      "    name = 'N_EXP'; format = 'E'\n",
      "    name = 'N_CALIB'; format = 'J'\n",
      "    name = 'NAXIS'; format = '2J'\n",
      "    name = 'CD'; format = '4D'; dim = '( 2, 2)'\n",
      "    name = 'CDELT'; format = '2D'\n",
      "    name = 'CRPIX'; format = '2D'\n",
      "    name = 'CRVAL'; format = '2D'\n",
      "    name = 'CTYPE'; format = '16A'; dim = '(8, 2)'\n",
      "    name = 'LONGPOLE'; format = 'D'\n",
      "    name = 'LATPOLE'; format = 'D'\n",
      "    name = 'PV2'; format = '2D'\n",
      ")\n"
     ]
    }
   ],
   "source": [
    "with fits.open('/home/rt2122/Data/fulldepth_neo4_index.fits') as hdul:\n",
    "    print(hdul[1].columns)\n",
    "    columns = hdul[1].columns.names"
   ]
  },
  {
   "cell_type": "code",
   "execution_count": 30,
   "metadata": {
    "ExecuteTime": {
     "end_time": "2020-07-15T08:22:36.511796Z",
     "start_time": "2020-07-15T08:22:36.495737Z"
    }
   },
   "outputs": [
    {
     "name": "stdout",
     "output_type": "stream",
     "text": [
      "193.714674 28.774444\n",
      "193.714674 28.774444\n",
      "194.366938 27.26\n",
      "194.366938 27.26\n",
      "195.428964 28.774444\n",
      "195.428964 28.774444\n",
      "196.057085 27.26\n",
      "196.057085 27.26\n"
     ]
    }
   ],
   "source": [
    "for line in idx:\n",
    "    print(line[1]['RA'], line[1]['DEC'])"
   ]
  },
  {
   "cell_type": "code",
   "execution_count": 37,
   "metadata": {
    "ExecuteTime": {
     "end_time": "2020-07-15T08:26:05.344711Z",
     "start_time": "2020-07-15T08:26:05.334036Z"
    }
   },
   "outputs": [
    {
     "data": {
      "text/plain": [
       "['COADD_ID',\n",
       " 'RA',\n",
       " 'DEC',\n",
       " 'BAND',\n",
       " 'LGAL',\n",
       " 'BGAL',\n",
       " 'LAMBDA',\n",
       " 'BETA',\n",
       " 'MJDMIN',\n",
       " 'MJDMAX',\n",
       " 'MJDMEAN',\n",
       " 'DT',\n",
       " 'COVMIN',\n",
       " 'COVMAX',\n",
       " 'COVMED',\n",
       " 'N_EXP',\n",
       " 'N_CALIB',\n",
       " 'NAXIS',\n",
       " 'CD',\n",
       " 'CDELT',\n",
       " 'CRPIX',\n",
       " 'CRVAL',\n",
       " 'CTYPE',\n",
       " 'LONGPOLE',\n",
       " 'LATPOLE',\n",
       " 'PV2']"
      ]
     },
     "execution_count": 37,
     "metadata": {},
     "output_type": "execute_result"
    }
   ],
   "source": [
    "columns = columns[:-1]\n",
    "columns"
   ]
  },
  {
   "cell_type": "code",
   "execution_count": 48,
   "metadata": {
    "ExecuteTime": {
     "end_time": "2020-07-15T08:30:36.211037Z",
     "start_time": "2020-07-15T08:30:36.183409Z"
    }
   },
   "outputs": [
    {
     "data": {
      "text/html": [
       "<div>\n",
       "<style scoped>\n",
       "    .dataframe tbody tr th:only-of-type {\n",
       "        vertical-align: middle;\n",
       "    }\n",
       "\n",
       "    .dataframe tbody tr th {\n",
       "        vertical-align: top;\n",
       "    }\n",
       "\n",
       "    .dataframe thead th {\n",
       "        text-align: right;\n",
       "    }\n",
       "</style>\n",
       "<table border=\"1\" class=\"dataframe\">\n",
       "  <thead>\n",
       "    <tr style=\"text-align: right;\">\n",
       "      <th></th>\n",
       "      <th>COADD_ID</th>\n",
       "      <th>RA</th>\n",
       "      <th>DEC</th>\n",
       "      <th>BAND</th>\n",
       "      <th>LGAL</th>\n",
       "      <th>BGAL</th>\n",
       "      <th>LAMBDA</th>\n",
       "      <th>BETA</th>\n",
       "      <th>MJDMIN</th>\n",
       "      <th>MJDMAX</th>\n",
       "      <th>...</th>\n",
       "      <th>N_CALIB</th>\n",
       "      <th>NAXIS</th>\n",
       "      <th>CD</th>\n",
       "      <th>CDELT</th>\n",
       "      <th>CRPIX</th>\n",
       "      <th>CRVAL</th>\n",
       "      <th>CTYPE</th>\n",
       "      <th>LONGPOLE</th>\n",
       "      <th>LATPOLE</th>\n",
       "      <th>PV2</th>\n",
       "    </tr>\n",
       "    <tr>\n",
       "      <th>index</th>\n",
       "      <th></th>\n",
       "      <th></th>\n",
       "      <th></th>\n",
       "      <th></th>\n",
       "      <th></th>\n",
       "      <th></th>\n",
       "      <th></th>\n",
       "      <th></th>\n",
       "      <th></th>\n",
       "      <th></th>\n",
       "      <th></th>\n",
       "      <th></th>\n",
       "      <th></th>\n",
       "      <th></th>\n",
       "      <th></th>\n",
       "      <th></th>\n",
       "      <th></th>\n",
       "      <th></th>\n",
       "      <th></th>\n",
       "      <th></th>\n",
       "      <th></th>\n",
       "    </tr>\n",
       "  </thead>\n",
       "  <tbody>\n",
       "  </tbody>\n",
       "</table>\n",
       "<p>0 rows × 26 columns</p>\n",
       "</div>"
      ],
      "text/plain": [
       "Empty DataFrame\n",
       "Columns: [COADD_ID, RA, DEC, BAND, LGAL, BGAL, LAMBDA, BETA, MJDMIN, MJDMAX, MJDMEAN, DT, COVMIN, COVMAX, COVMED, N_EXP, N_CALIB, NAXIS, CD, CDELT, CRPIX, CRVAL, CTYPE, LONGPOLE, LATPOLE, PV2]\n",
       "Index: []\n",
       "\n",
       "[0 rows x 26 columns]"
      ]
     },
     "execution_count": 48,
     "metadata": {},
     "output_type": "execute_result"
    }
   ],
   "source": [
    "coma_wise_idx = pd.DataFrame(columns=columns)\n",
    "coma_wise_idx.index.name = 'index'\n",
    "coma_wise_idx"
   ]
  },
  {
   "cell_type": "code",
   "execution_count": 49,
   "metadata": {
    "ExecuteTime": {
     "end_time": "2020-07-15T08:30:40.521462Z",
     "start_time": "2020-07-15T08:30:40.398879Z"
    }
   },
   "outputs": [],
   "source": [
    "for line in idx:\n",
    "    i = line[0]\n",
    "    for col in columns:\n",
    "        coma_wise_idx.loc[i,col] = line[1][col]"
   ]
  },
  {
   "cell_type": "code",
   "execution_count": 47,
   "metadata": {
    "ExecuteTime": {
     "end_time": "2020-07-15T08:30:29.382908Z",
     "start_time": "2020-07-15T08:30:29.343318Z"
    }
   },
   "outputs": [],
   "source": [
    "coma_wise_idx.loc[0,'RA'] = 3"
   ]
  },
  {
   "cell_type": "code",
   "execution_count": 50,
   "metadata": {
    "ExecuteTime": {
     "end_time": "2020-07-15T08:30:48.108546Z",
     "start_time": "2020-07-15T08:30:48.052278Z"
    }
   },
   "outputs": [
    {
     "data": {
      "text/html": [
       "<div>\n",
       "<style scoped>\n",
       "    .dataframe tbody tr th:only-of-type {\n",
       "        vertical-align: middle;\n",
       "    }\n",
       "\n",
       "    .dataframe tbody tr th {\n",
       "        vertical-align: top;\n",
       "    }\n",
       "\n",
       "    .dataframe thead th {\n",
       "        text-align: right;\n",
       "    }\n",
       "</style>\n",
       "<table border=\"1\" class=\"dataframe\">\n",
       "  <thead>\n",
       "    <tr style=\"text-align: right;\">\n",
       "      <th></th>\n",
       "      <th>COADD_ID</th>\n",
       "      <th>RA</th>\n",
       "      <th>DEC</th>\n",
       "      <th>BAND</th>\n",
       "      <th>LGAL</th>\n",
       "      <th>BGAL</th>\n",
       "      <th>LAMBDA</th>\n",
       "      <th>BETA</th>\n",
       "      <th>MJDMIN</th>\n",
       "      <th>MJDMAX</th>\n",
       "      <th>...</th>\n",
       "      <th>N_CALIB</th>\n",
       "      <th>NAXIS</th>\n",
       "      <th>CD</th>\n",
       "      <th>CDELT</th>\n",
       "      <th>CRPIX</th>\n",
       "      <th>CRVAL</th>\n",
       "      <th>CTYPE</th>\n",
       "      <th>LONGPOLE</th>\n",
       "      <th>LATPOLE</th>\n",
       "      <th>PV2</th>\n",
       "    </tr>\n",
       "    <tr>\n",
       "      <th>index</th>\n",
       "      <th></th>\n",
       "      <th></th>\n",
       "      <th></th>\n",
       "      <th></th>\n",
       "      <th></th>\n",
       "      <th></th>\n",
       "      <th></th>\n",
       "      <th></th>\n",
       "      <th></th>\n",
       "      <th></th>\n",
       "      <th></th>\n",
       "      <th></th>\n",
       "      <th></th>\n",
       "      <th></th>\n",
       "      <th></th>\n",
       "      <th></th>\n",
       "      <th></th>\n",
       "      <th></th>\n",
       "      <th></th>\n",
       "      <th></th>\n",
       "      <th></th>\n",
       "    </tr>\n",
       "  </thead>\n",
       "  <tbody>\n",
       "    <tr>\n",
       "      <th>19754</th>\n",
       "      <td>1937p287</td>\n",
       "      <td>193.715</td>\n",
       "      <td>28.7744</td>\n",
       "      <td>1</td>\n",
       "      <td>98.481</td>\n",
       "      <td>88.1888</td>\n",
       "      <td>179.945</td>\n",
       "      <td>31.6214</td>\n",
       "      <td>55360.7</td>\n",
       "      <td>57909.5</td>\n",
       "      <td>...</td>\n",
       "      <td>4510</td>\n",
       "      <td>[2048, 2048]</td>\n",
       "      <td>[[-0.000763888888889, 0.0], [0.0, 0.0007638888...</td>\n",
       "      <td>[1.0, 1.0]</td>\n",
       "      <td>[1024.4984699220227, 1024.5114509904738]</td>\n",
       "      <td>[193.714674, 28.774444]</td>\n",
       "      <td>[RA---TAN, DEC--TAN]</td>\n",
       "      <td>180</td>\n",
       "      <td>0</td>\n",
       "      <td>[0.0, 0.0]</td>\n",
       "    </tr>\n",
       "    <tr>\n",
       "      <th>19755</th>\n",
       "      <td>1937p287</td>\n",
       "      <td>193.715</td>\n",
       "      <td>28.7744</td>\n",
       "      <td>2</td>\n",
       "      <td>98.481</td>\n",
       "      <td>88.1888</td>\n",
       "      <td>179.945</td>\n",
       "      <td>31.6214</td>\n",
       "      <td>55360.7</td>\n",
       "      <td>57909.5</td>\n",
       "      <td>...</td>\n",
       "      <td>3472</td>\n",
       "      <td>[2048, 2048]</td>\n",
       "      <td>[[-0.000763888888889, 0.0], [0.0, 0.0007638888...</td>\n",
       "      <td>[1.0, 1.0]</td>\n",
       "      <td>[1024.494200388197, 1024.5187538344337]</td>\n",
       "      <td>[193.714674, 28.774444]</td>\n",
       "      <td>[RA---TAN, DEC--TAN]</td>\n",
       "      <td>180</td>\n",
       "      <td>0</td>\n",
       "      <td>[0.0, 0.0]</td>\n",
       "    </tr>\n",
       "    <tr>\n",
       "      <th>19814</th>\n",
       "      <td>1943p272</td>\n",
       "      <td>194.367</td>\n",
       "      <td>27.26</td>\n",
       "      <td>1</td>\n",
       "      <td>38.8879</td>\n",
       "      <td>88.6527</td>\n",
       "      <td>181.342</td>\n",
       "      <td>30.5289</td>\n",
       "      <td>55362</td>\n",
       "      <td>57911.2</td>\n",
       "      <td>...</td>\n",
       "      <td>4529</td>\n",
       "      <td>[2048, 2048]</td>\n",
       "      <td>[[-0.000763888888889, 0.0], [0.0, 0.0007638888...</td>\n",
       "      <td>[1.0, 1.0]</td>\n",
       "      <td>[1024.4990878875312, 1024.4976328991654]</td>\n",
       "      <td>[194.366938, 27.26]</td>\n",
       "      <td>[RA---TAN, DEC--TAN]</td>\n",
       "      <td>180</td>\n",
       "      <td>0</td>\n",
       "      <td>[0.0, 0.0]</td>\n",
       "    </tr>\n",
       "    <tr>\n",
       "      <th>19815</th>\n",
       "      <td>1943p272</td>\n",
       "      <td>194.367</td>\n",
       "      <td>27.26</td>\n",
       "      <td>2</td>\n",
       "      <td>38.8879</td>\n",
       "      <td>88.6527</td>\n",
       "      <td>181.342</td>\n",
       "      <td>30.5289</td>\n",
       "      <td>55362</td>\n",
       "      <td>57911.2</td>\n",
       "      <td>...</td>\n",
       "      <td>3435</td>\n",
       "      <td>[2048, 2048]</td>\n",
       "      <td>[[-0.000763888888889, 0.0], [0.0, 0.0007638888...</td>\n",
       "      <td>[1.0, 1.0]</td>\n",
       "      <td>[1024.494003084248, 1024.5005146977037]</td>\n",
       "      <td>[194.366938, 27.26]</td>\n",
       "      <td>[RA---TAN, DEC--TAN]</td>\n",
       "      <td>180</td>\n",
       "      <td>0</td>\n",
       "      <td>[0.0, 0.0]</td>\n",
       "    </tr>\n",
       "    <tr>\n",
       "      <th>19926</th>\n",
       "      <td>1954p287</td>\n",
       "      <td>195.429</td>\n",
       "      <td>28.7744</td>\n",
       "      <td>1</td>\n",
       "      <td>69.4813</td>\n",
       "      <td>87.1963</td>\n",
       "      <td>181.524</td>\n",
       "      <td>32.3033</td>\n",
       "      <td>55362.1</td>\n",
       "      <td>57911.4</td>\n",
       "      <td>...</td>\n",
       "      <td>4350</td>\n",
       "      <td>[2048, 2048]</td>\n",
       "      <td>[[-0.000763888888889, 0.0], [0.0, 0.0007638888...</td>\n",
       "      <td>[1.0, 1.0]</td>\n",
       "      <td>[1024.481676992093, 1024.5164394469102]</td>\n",
       "      <td>[195.428964, 28.774444]</td>\n",
       "      <td>[RA---TAN, DEC--TAN]</td>\n",
       "      <td>180</td>\n",
       "      <td>0</td>\n",
       "      <td>[0.0, 0.0]</td>\n",
       "    </tr>\n",
       "    <tr>\n",
       "      <th>19927</th>\n",
       "      <td>1954p287</td>\n",
       "      <td>195.429</td>\n",
       "      <td>28.7744</td>\n",
       "      <td>2</td>\n",
       "      <td>69.4813</td>\n",
       "      <td>87.1963</td>\n",
       "      <td>181.524</td>\n",
       "      <td>32.3033</td>\n",
       "      <td>55362.1</td>\n",
       "      <td>57911.4</td>\n",
       "      <td>...</td>\n",
       "      <td>3338</td>\n",
       "      <td>[2048, 2048]</td>\n",
       "      <td>[[-0.000763888888889, 0.0], [0.0, 0.0007638888...</td>\n",
       "      <td>[1.0, 1.0]</td>\n",
       "      <td>[1024.4790655200675, 1024.5123083256606]</td>\n",
       "      <td>[195.428964, 28.774444]</td>\n",
       "      <td>[RA---TAN, DEC--TAN]</td>\n",
       "      <td>180</td>\n",
       "      <td>0</td>\n",
       "      <td>[0.0, 0.0]</td>\n",
       "    </tr>\n",
       "    <tr>\n",
       "      <th>19998</th>\n",
       "      <td>1960p272</td>\n",
       "      <td>196.057</td>\n",
       "      <td>27.26</td>\n",
       "      <td>1</td>\n",
       "      <td>36.3143</td>\n",
       "      <td>87.1529</td>\n",
       "      <td>182.908</td>\n",
       "      <td>31.2007</td>\n",
       "      <td>55363.4</td>\n",
       "      <td>57912.7</td>\n",
       "      <td>...</td>\n",
       "      <td>4315</td>\n",
       "      <td>[2048, 2048]</td>\n",
       "      <td>[[-0.000763888888889, 0.0], [0.0, 0.0007638888...</td>\n",
       "      <td>[1.0, 1.0]</td>\n",
       "      <td>[1024.5032679272103, 1024.5142391766099]</td>\n",
       "      <td>[196.057085, 27.26]</td>\n",
       "      <td>[RA---TAN, DEC--TAN]</td>\n",
       "      <td>180</td>\n",
       "      <td>0</td>\n",
       "      <td>[0.0, 0.0]</td>\n",
       "    </tr>\n",
       "    <tr>\n",
       "      <th>19999</th>\n",
       "      <td>1960p272</td>\n",
       "      <td>196.057</td>\n",
       "      <td>27.26</td>\n",
       "      <td>2</td>\n",
       "      <td>36.3143</td>\n",
       "      <td>87.1529</td>\n",
       "      <td>182.908</td>\n",
       "      <td>31.2007</td>\n",
       "      <td>55363.4</td>\n",
       "      <td>57912.7</td>\n",
       "      <td>...</td>\n",
       "      <td>3263</td>\n",
       "      <td>[2048, 2048]</td>\n",
       "      <td>[[-0.000763888888889, 0.0], [0.0, 0.0007638888...</td>\n",
       "      <td>[1.0, 1.0]</td>\n",
       "      <td>[1024.4978515682337, 1024.5193203277026]</td>\n",
       "      <td>[196.057085, 27.26]</td>\n",
       "      <td>[RA---TAN, DEC--TAN]</td>\n",
       "      <td>180</td>\n",
       "      <td>0</td>\n",
       "      <td>[0.0, 0.0]</td>\n",
       "    </tr>\n",
       "  </tbody>\n",
       "</table>\n",
       "<p>8 rows × 26 columns</p>\n",
       "</div>"
      ],
      "text/plain": [
       "       COADD_ID       RA      DEC BAND     LGAL     BGAL   LAMBDA     BETA  \\\n",
       "index                                                                        \n",
       "19754  1937p287  193.715  28.7744    1   98.481  88.1888  179.945  31.6214   \n",
       "19755  1937p287  193.715  28.7744    2   98.481  88.1888  179.945  31.6214   \n",
       "19814  1943p272  194.367    27.26    1  38.8879  88.6527  181.342  30.5289   \n",
       "19815  1943p272  194.367    27.26    2  38.8879  88.6527  181.342  30.5289   \n",
       "19926  1954p287  195.429  28.7744    1  69.4813  87.1963  181.524  32.3033   \n",
       "19927  1954p287  195.429  28.7744    2  69.4813  87.1963  181.524  32.3033   \n",
       "19998  1960p272  196.057    27.26    1  36.3143  87.1529  182.908  31.2007   \n",
       "19999  1960p272  196.057    27.26    2  36.3143  87.1529  182.908  31.2007   \n",
       "\n",
       "        MJDMIN   MJDMAX  ... N_CALIB         NAXIS  \\\n",
       "index                    ...                         \n",
       "19754  55360.7  57909.5  ...    4510  [2048, 2048]   \n",
       "19755  55360.7  57909.5  ...    3472  [2048, 2048]   \n",
       "19814    55362  57911.2  ...    4529  [2048, 2048]   \n",
       "19815    55362  57911.2  ...    3435  [2048, 2048]   \n",
       "19926  55362.1  57911.4  ...    4350  [2048, 2048]   \n",
       "19927  55362.1  57911.4  ...    3338  [2048, 2048]   \n",
       "19998  55363.4  57912.7  ...    4315  [2048, 2048]   \n",
       "19999  55363.4  57912.7  ...    3263  [2048, 2048]   \n",
       "\n",
       "                                                      CD       CDELT  \\\n",
       "index                                                                  \n",
       "19754  [[-0.000763888888889, 0.0], [0.0, 0.0007638888...  [1.0, 1.0]   \n",
       "19755  [[-0.000763888888889, 0.0], [0.0, 0.0007638888...  [1.0, 1.0]   \n",
       "19814  [[-0.000763888888889, 0.0], [0.0, 0.0007638888...  [1.0, 1.0]   \n",
       "19815  [[-0.000763888888889, 0.0], [0.0, 0.0007638888...  [1.0, 1.0]   \n",
       "19926  [[-0.000763888888889, 0.0], [0.0, 0.0007638888...  [1.0, 1.0]   \n",
       "19927  [[-0.000763888888889, 0.0], [0.0, 0.0007638888...  [1.0, 1.0]   \n",
       "19998  [[-0.000763888888889, 0.0], [0.0, 0.0007638888...  [1.0, 1.0]   \n",
       "19999  [[-0.000763888888889, 0.0], [0.0, 0.0007638888...  [1.0, 1.0]   \n",
       "\n",
       "                                          CRPIX                    CRVAL  \\\n",
       "index                                                                      \n",
       "19754  [1024.4984699220227, 1024.5114509904738]  [193.714674, 28.774444]   \n",
       "19755   [1024.494200388197, 1024.5187538344337]  [193.714674, 28.774444]   \n",
       "19814  [1024.4990878875312, 1024.4976328991654]      [194.366938, 27.26]   \n",
       "19815   [1024.494003084248, 1024.5005146977037]      [194.366938, 27.26]   \n",
       "19926   [1024.481676992093, 1024.5164394469102]  [195.428964, 28.774444]   \n",
       "19927  [1024.4790655200675, 1024.5123083256606]  [195.428964, 28.774444]   \n",
       "19998  [1024.5032679272103, 1024.5142391766099]      [196.057085, 27.26]   \n",
       "19999  [1024.4978515682337, 1024.5193203277026]      [196.057085, 27.26]   \n",
       "\n",
       "                      CTYPE LONGPOLE LATPOLE         PV2  \n",
       "index                                                     \n",
       "19754  [RA---TAN, DEC--TAN]      180       0  [0.0, 0.0]  \n",
       "19755  [RA---TAN, DEC--TAN]      180       0  [0.0, 0.0]  \n",
       "19814  [RA---TAN, DEC--TAN]      180       0  [0.0, 0.0]  \n",
       "19815  [RA---TAN, DEC--TAN]      180       0  [0.0, 0.0]  \n",
       "19926  [RA---TAN, DEC--TAN]      180       0  [0.0, 0.0]  \n",
       "19927  [RA---TAN, DEC--TAN]      180       0  [0.0, 0.0]  \n",
       "19998  [RA---TAN, DEC--TAN]      180       0  [0.0, 0.0]  \n",
       "19999  [RA---TAN, DEC--TAN]      180       0  [0.0, 0.0]  \n",
       "\n",
       "[8 rows x 26 columns]"
      ]
     },
     "execution_count": 50,
     "metadata": {},
     "output_type": "execute_result"
    }
   ],
   "source": [
    "coma_wise_idx"
   ]
  },
  {
   "cell_type": "code",
   "execution_count": 51,
   "metadata": {
    "ExecuteTime": {
     "end_time": "2020-07-15T08:31:16.223369Z",
     "start_time": "2020-07-15T08:31:16.196811Z"
    }
   },
   "outputs": [],
   "source": [
    "coma_wise_idx.to_csv('/home/rt2122/Data/coma_wise_idx.csv')"
   ]
  },
  {
   "cell_type": "code",
   "execution_count": null,
   "metadata": {},
   "outputs": [],
   "source": []
  }
 ],
 "metadata": {
  "kernelspec": {
   "display_name": "Python 3",
   "language": "python",
   "name": "python3"
  },
  "language_info": {
   "codemirror_mode": {
    "name": "ipython",
    "version": 3
   },
   "file_extension": ".py",
   "mimetype": "text/x-python",
   "name": "python",
   "nbconvert_exporter": "python",
   "pygments_lexer": "ipython3",
   "version": "3.8.3"
  }
 },
 "nbformat": 4,
 "nbformat_minor": 4
}
