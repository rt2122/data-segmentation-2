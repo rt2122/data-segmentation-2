{
 "cells": [
  {
   "cell_type": "code",
   "execution_count": 1,
   "metadata": {
    "ExecuteTime": {
     "end_time": "2020-09-23T07:33:35.739609Z",
     "start_time": "2020-09-23T07:33:35.523733Z"
    }
   },
   "outputs": [],
   "source": [
    "import numpy as np\n",
    "from DS_Planck_Unet import *"
   ]
  },
  {
   "cell_type": "code",
   "execution_count": 2,
   "metadata": {
    "ExecuteTime": {
     "end_time": "2020-09-23T07:33:39.573031Z",
     "start_time": "2020-09-23T07:33:39.551201Z"
    }
   },
   "outputs": [],
   "source": [
    "def gen_patches_centers(clusters, big_pixels, batch_size, search_nside=256, \n",
    "                        min_rad=2.0, mask_rad_ak=5/60, output_nside=2048):\n",
    "    import healpy as hp\n",
    "    import numpy as np\n",
    "    from DS_healpix_fragmentation import pix2radec, draw_proper_circle_s, matr2dict\n",
    "    \n",
    "    small_pixels, df = pixels_with_clusters(clusters, big_pixels, search_nside, min_rad)\n",
    "    centers = []\n",
    "   \n",
    "    ra, dec = pix2radec(nside=search_nside, ipix=small_pixels)\n",
    "    all_coords = list(zip(ra, dec))\n",
    "    del(ra)\n",
    "    del(dec)\n",
    "    del(small_pixels)\n",
    "    \n",
    "    while len(centers) < batch_size:\n",
    "        idx = np.random.randint(len(all_coords))\n",
    "        ra, dec = all_coords[idx]\n",
    "        del(all_coords[idx])\n",
    "       \n",
    "        matr = gen_matr(ra, dec)\n",
    "        mdict = matr2dict(matr)\n",
    "        if matr.shape[0] != 64 or matr.shape[1] != 64:\n",
    "            continue\n",
    "        \n",
    "        mask = draw_proper_circle_s(df['RA'], df['DEC'], mask_rad_ak, output_nside, \n",
    "                mdict, shape=matr.shape)\n",
    "        if np.count_nonzero(mask) > 0:\n",
    "            centers.append((ra, dec)) \n",
    "    return centers"
   ]
  },
  {
   "cell_type": "code",
   "execution_count": null,
   "metadata": {
    "ExecuteTime": {
     "end_time": "2020-09-23T08:17:45.078656Z",
     "start_time": "2020-09-23T07:34:06.123Z"
    }
   },
   "outputs": [],
   "source": [
    "train_cen_coords = gen_patches_centers('/home/rt2122/Data/clusters/planck_z.csv', \n",
    "                                       train_pix, 90000)"
   ]
  },
  {
   "cell_type": "code",
   "execution_count": 4,
   "metadata": {
    "ExecuteTime": {
     "end_time": "2020-09-23T10:27:06.301052Z",
     "start_time": "2020-09-23T09:00:41.744632Z"
    }
   },
   "outputs": [
    {
     "ename": "ValueError",
     "evalue": "low >= high",
     "output_type": "error",
     "traceback": [
      "\u001b[0;31m---------------------------------------------------------------------------\u001b[0m",
      "\u001b[0;31mValueError\u001b[0m                                Traceback (most recent call last)",
      "\u001b[0;32m<ipython-input-4-d8eecc218199>\u001b[0m in \u001b[0;36m<module>\u001b[0;34m\u001b[0m\n\u001b[0;32m----> 1\u001b[0;31m val_cen_coords = gen_patches_centers('/home/rt2122/Data/clusters/planck_z.csv',\n\u001b[0m\u001b[1;32m      2\u001b[0m                                     val_pix, 10000, search_nside=128)\n",
      "\u001b[0;32m<ipython-input-2-2561afe27c81>\u001b[0m in \u001b[0;36mgen_patches_centers\u001b[0;34m(clusters, big_pixels, batch_size, search_nside, min_rad, mask_rad_ak, output_nside)\u001b[0m\n\u001b[1;32m     15\u001b[0m \u001b[0;34m\u001b[0m\u001b[0m\n\u001b[1;32m     16\u001b[0m     \u001b[0;32mwhile\u001b[0m \u001b[0mlen\u001b[0m\u001b[0;34m(\u001b[0m\u001b[0mcenters\u001b[0m\u001b[0;34m)\u001b[0m \u001b[0;34m<\u001b[0m \u001b[0mbatch_size\u001b[0m\u001b[0;34m:\u001b[0m\u001b[0;34m\u001b[0m\u001b[0;34m\u001b[0m\u001b[0m\n\u001b[0;32m---> 17\u001b[0;31m         \u001b[0midx\u001b[0m \u001b[0;34m=\u001b[0m \u001b[0mnp\u001b[0m\u001b[0;34m.\u001b[0m\u001b[0mrandom\u001b[0m\u001b[0;34m.\u001b[0m\u001b[0mrandint\u001b[0m\u001b[0;34m(\u001b[0m\u001b[0mlen\u001b[0m\u001b[0;34m(\u001b[0m\u001b[0mall_coords\u001b[0m\u001b[0;34m)\u001b[0m\u001b[0;34m)\u001b[0m\u001b[0;34m\u001b[0m\u001b[0;34m\u001b[0m\u001b[0m\n\u001b[0m\u001b[1;32m     18\u001b[0m         \u001b[0mra\u001b[0m\u001b[0;34m,\u001b[0m \u001b[0mdec\u001b[0m \u001b[0;34m=\u001b[0m \u001b[0mall_coords\u001b[0m\u001b[0;34m[\u001b[0m\u001b[0midx\u001b[0m\u001b[0;34m]\u001b[0m\u001b[0;34m\u001b[0m\u001b[0;34m\u001b[0m\u001b[0m\n\u001b[1;32m     19\u001b[0m         \u001b[0;32mdel\u001b[0m\u001b[0;34m(\u001b[0m\u001b[0mall_coords\u001b[0m\u001b[0;34m[\u001b[0m\u001b[0midx\u001b[0m\u001b[0;34m]\u001b[0m\u001b[0;34m)\u001b[0m\u001b[0;34m\u001b[0m\u001b[0;34m\u001b[0m\u001b[0m\n",
      "\u001b[0;32mmtrand.pyx\u001b[0m in \u001b[0;36mnumpy.random.mtrand.RandomState.randint\u001b[0;34m()\u001b[0m\n",
      "\u001b[0;32m_bounded_integers.pyx\u001b[0m in \u001b[0;36mnumpy.random._bounded_integers._rand_int64\u001b[0;34m()\u001b[0m\n",
      "\u001b[0;31mValueError\u001b[0m: low >= high"
     ]
    }
   ],
   "source": [
    "val_cen_coords = gen_patches_centers('/home/rt2122/Data/clusters/planck_z.csv',\n",
    "                                    val_pix, 10000, search_nside=128)"
   ]
  },
  {
   "cell_type": "code",
   "execution_count": null,
   "metadata": {},
   "outputs": [],
   "source": []
  }
 ],
 "metadata": {
  "kernelspec": {
   "display_name": "Python 3",
   "language": "python",
   "name": "python3"
  },
  "language_info": {
   "codemirror_mode": {
    "name": "ipython",
    "version": 3
   },
   "file_extension": ".py",
   "mimetype": "text/x-python",
   "name": "python",
   "nbconvert_exporter": "python",
   "pygments_lexer": "ipython3",
   "version": "3.8.3"
  }
 },
 "nbformat": 4,
 "nbformat_minor": 4
}
