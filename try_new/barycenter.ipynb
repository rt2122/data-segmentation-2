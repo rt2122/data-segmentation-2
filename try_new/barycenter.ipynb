{
 "cells": [
  {
   "cell_type": "code",
   "execution_count": 8,
   "metadata": {
    "ExecuteTime": {
     "end_time": "2020-09-30T09:12:13.286784Z",
     "start_time": "2020-09-30T09:12:11.773642Z"
    }
   },
   "outputs": [],
   "source": [
    "import numpy as np\n",
    "from DS_detector import *\n",
    "from DS_Planck_Unet import load_planck_model\n",
    "from tensorflow import convert_to_tensor\n",
    "from matplotlib import pyplot as plt"
   ]
  },
  {
   "cell_type": "code",
   "execution_count": 20,
   "metadata": {
    "ExecuteTime": {
     "end_time": "2020-09-30T09:15:02.669790Z",
     "start_time": "2020-09-30T09:15:01.520348Z"
    }
   },
   "outputs": [],
   "source": [
    "model = load_planck_model(\n",
    "    '/home/rt2122/Models/planck_z/f8d2.ep0040.hdf5')"
   ]
  },
  {
   "cell_type": "code",
   "execution_count": 3,
   "metadata": {
    "ExecuteTime": {
     "end_time": "2020-09-30T09:10:53.020891Z",
     "start_time": "2020-09-30T09:10:52.962393Z"
    }
   },
   "outputs": [],
   "source": [
    "X = np.load('/home/rt2122/Data/Planck/val/x/0.npy')"
   ]
  },
  {
   "cell_type": "code",
   "execution_count": 4,
   "metadata": {
    "ExecuteTime": {
     "end_time": "2020-09-30T09:11:08.506683Z",
     "start_time": "2020-09-30T09:11:08.480682Z"
    }
   },
   "outputs": [
    {
     "data": {
      "text/plain": [
       "(64, 64, 6)"
      ]
     },
     "execution_count": 4,
     "metadata": {},
     "output_type": "execute_result"
    }
   ],
   "source": [
    "X.shape"
   ]
  },
  {
   "cell_type": "code",
   "execution_count": 21,
   "metadata": {
    "ExecuteTime": {
     "end_time": "2020-09-30T09:15:04.566028Z",
     "start_time": "2020-09-30T09:15:04.244413Z"
    }
   },
   "outputs": [],
   "source": [
    "ans = model.predict(convert_to_tensor(np.array([X])))"
   ]
  },
  {
   "cell_type": "code",
   "execution_count": 28,
   "metadata": {
    "ExecuteTime": {
     "end_time": "2020-09-30T09:16:53.014269Z",
     "start_time": "2020-09-30T09:16:52.871203Z"
    }
   },
   "outputs": [
    {
     "data": {
      "text/plain": [
       "<matplotlib.image.AxesImage at 0x7f976c1ada00>"
      ]
     },
     "execution_count": 28,
     "metadata": {},
     "output_type": "execute_result"
    },
    {
     "data": {
      "image/png": "[encoded data removed]",
      "text/plain": [
       "<Figure size 432x288 with 1 Axes>"
      ]
     },
     "metadata": {
      "needs_background": "light"
     },
     "output_type": "display_data"
    }
   ],
   "source": [
    "plt.imshow(ans[0,:,:,0] > 0.1)"
   ]
  },
  {
   "cell_type": "code",
   "execution_count": 30,
   "metadata": {
    "ExecuteTime": {
     "end_time": "2020-09-30T09:17:18.082993Z",
     "start_time": "2020-09-30T09:17:18.075775Z"
    }
   },
   "outputs": [],
   "source": [
    "divided = divide_figures(np.array([ans[0] > 0.1]))"
   ]
  },
  {
   "cell_type": "code",
   "execution_count": 31,
   "metadata": {
    "ExecuteTime": {
     "end_time": "2020-09-30T09:17:19.202545Z",
     "start_time": "2020-09-30T09:17:19.199288Z"
    }
   },
   "outputs": [
    {
     "data": {
      "text/plain": [
       "3"
      ]
     },
     "execution_count": 31,
     "metadata": {},
     "output_type": "execute_result"
    }
   ],
   "source": [
    "len(divided)"
   ]
  },
  {
   "cell_type": "code",
   "execution_count": 18,
   "metadata": {
    "ExecuteTime": {
     "end_time": "2020-09-30T09:14:27.355949Z",
     "start_time": "2020-09-30T09:14:27.220806Z"
    }
   },
   "outputs": [
    {
     "data": {
      "text/plain": [
       "<matplotlib.image.AxesImage at 0x7f9763cd7bb0>"
      ]
     },
     "execution_count": 18,
     "metadata": {},
     "output_type": "execute_result"
    },
    {
     "data": {
      "image/png": "[encoded data removed]",
      "text/plain": [
       "<Figure size 432x288 with 1 Axes>"
      ]
     },
     "metadata": {
      "needs_background": "light"
     },
     "output_type": "display_data"
    }
   ],
   "source": [
    "plt.imshow(divided[3][:,:,0])"
   ]
  },
  {
   "cell_type": "code",
   "execution_count": 77,
   "metadata": {
    "ExecuteTime": {
     "end_time": "2020-09-30T09:47:29.878905Z",
     "start_time": "2020-09-30T09:47:29.852646Z"
    }
   },
   "outputs": [],
   "source": [
    "def find_centers_on_mask_new(mask, thr, binary=True):\n",
    "    import numpy as np\n",
    "\n",
    "    mask_binary = np.copy(mask)\n",
    "    mask_binary = np.array(mask_binary >= thr, dtype=np.float32)\n",
    "    \n",
    "    figures = divide_figures(mask_binary)\n",
    "    centers = []\n",
    "    for figure in figures:\n",
    "        if not binary:\n",
    "            f = np.zeros_like(mask)\n",
    "            f[np.where(figure)] = mask[np.where(figure)]\n",
    "            centers.append(find_centroid(f))\n",
    "        else:\n",
    "            centers.append(find_centroid(figure))\n",
    "    return centers\n"
   ]
  },
  {
   "cell_type": "code",
   "execution_count": 33,
   "metadata": {
    "ExecuteTime": {
     "end_time": "2020-09-30T09:18:40.007539Z",
     "start_time": "2020-09-30T09:18:40.003002Z"
    }
   },
   "outputs": [],
   "source": [
    "def divide_figures_new(pic):\n",
    "    import numpy as np\n",
    "    from skimage.segmentation import flood, flood_fill\n",
    "    \n",
    "    coords = np.array(np.where(pic != 0))\n",
    "    ans = []\n",
    "    while coords.shape[1] != 0:\n",
    "        seed_point = tuple(coords[:, 0])\n",
    "        ans.append(flood(pic, seed_point))\n",
    "        pic = flood_fill(pic, seed_point, 0)\n",
    "        \n",
    "        coords = np.array(np.where(pic != 0))\n",
    "    \n",
    "    return ans\n"
   ]
  },
  {
   "cell_type": "code",
   "execution_count": 34,
   "metadata": {
    "ExecuteTime": {
     "end_time": "2020-09-30T09:18:52.625443Z",
     "start_time": "2020-09-30T09:18:52.614380Z"
    }
   },
   "outputs": [],
   "source": [
    "def find_centroid_new(pic):\n",
    "    from skimage.measure import moments\n",
    "    import numpy as np\n",
    "    \n",
    "    if len(pic.shape) > 2:\n",
    "        pic = np.copy(pic).reshape(list(pic.shape)[:-1])\n",
    "    M = moments(pic)\n",
    "    centroid = (M[1, 0] / M[0, 0], M[0, 1] / M[0, 0])\n",
    "    \n",
    "    return centroid\n"
   ]
  },
  {
   "cell_type": "code",
   "execution_count": 61,
   "metadata": {
    "ExecuteTime": {
     "end_time": "2020-09-30T09:36:09.669482Z",
     "start_time": "2020-09-30T09:36:09.654887Z"
    }
   },
   "outputs": [
    {
     "name": "stdout",
     "output_type": "stream",
     "text": [
      "(64, 64, 1)\n",
      "(64, 64, 1)\n",
      "(64, 64, 1)\n"
     ]
    },
    {
     "data": {
      "text/plain": [
       "[(1.826086956521739, 56.0),\n",
       " (35.65384615384615, 39.76923076923077),\n",
       " (53.111111111111114, 44.333333333333336)]"
      ]
     },
     "execution_count": 61,
     "metadata": {},
     "output_type": "execute_result"
    }
   ],
   "source": [
    "find_centers_on_mask_new(ans[0], 0.1)"
   ]
  },
  {
   "cell_type": "code",
   "execution_count": 78,
   "metadata": {
    "ExecuteTime": {
     "end_time": "2020-09-30T09:47:34.729408Z",
     "start_time": "2020-09-30T09:47:34.707885Z"
    }
   },
   "outputs": [
    {
     "data": {
      "text/plain": [
       "[(1.666573274693552, 56.17585661337601),\n",
       " (35.73256912039973, 39.86707183141201),\n",
       " (53.04897220873127, 44.29685411089254)]"
      ]
     },
     "execution_count": 78,
     "metadata": {},
     "output_type": "execute_result"
    }
   ],
   "source": [
    "find_centers_on_mask_new(ans[0], 0.1, binary=False)"
   ]
  },
  {
   "cell_type": "code",
   "execution_count": 74,
   "metadata": {
    "ExecuteTime": {
     "end_time": "2020-09-30T09:40:21.869656Z",
     "start_time": "2020-09-30T09:40:21.715608Z"
    }
   },
   "outputs": [
    {
     "data": {
      "text/plain": [
       "<matplotlib.image.AxesImage at 0x7f975b7ea610>"
      ]
     },
     "execution_count": 74,
     "metadata": {},
     "output_type": "execute_result"
    },
    {
     "data": {
      "image/png": "[encoded data removed]",
      "text/plain": [
       "<Figure size 432x288 with 1 Axes>"
      ]
     },
     "metadata": {
      "needs_background": "light"
     },
     "output_type": "display_data"
    }
   ],
   "source": [
    "mask1 = np.zeros((64, 64, 1))\n",
    "mask1[40:50,3:20] += 0.3\n",
    "mask1[42:52,6:7] += 0.2\n",
    "plt.imshow(mask1[:,:,0])"
   ]
  },
  {
   "cell_type": "code",
   "execution_count": 45,
   "metadata": {
    "ExecuteTime": {
     "end_time": "2020-09-30T09:25:03.180950Z",
     "start_time": "2020-09-30T09:25:03.167812Z"
    }
   },
   "outputs": [
    {
     "data": {
      "text/plain": [
       "[(44.56976744186046, 10.94186046511628)]"
      ]
     },
     "execution_count": 45,
     "metadata": {},
     "output_type": "execute_result"
    }
   ],
   "source": [
    "find_centers_on_mask(mask1, 0.1)"
   ]
  },
  {
   "cell_type": "code",
   "execution_count": 50,
   "metadata": {
    "ExecuteTime": {
     "end_time": "2020-09-30T09:26:26.025524Z",
     "start_time": "2020-09-30T09:26:26.011582Z"
    }
   },
   "outputs": [
    {
     "data": {
      "text/plain": [
       "[(44.56976744186046, 10.94186046511628)]"
      ]
     },
     "execution_count": 50,
     "metadata": {},
     "output_type": "execute_result"
    }
   ],
   "source": [
    "find_centers_on_mask_new(mask1, 0.1, binary=False)"
   ]
  },
  {
   "cell_type": "code",
   "execution_count": 53,
   "metadata": {
    "ExecuteTime": {
     "end_time": "2020-09-30T09:32:50.287199Z",
     "start_time": "2020-09-30T09:32:50.280562Z"
    }
   },
   "outputs": [
    {
     "data": {
      "text/plain": [
       "((44.575471698113205, 10.81132075471698),\n",
       " (44.56976744186046, 10.94186046511628))"
      ]
     },
     "execution_count": 53,
     "metadata": {},
     "output_type": "execute_result"
    }
   ],
   "source": [
    "find_centroid(mask1), find_centroid(np.array(mask1 > 0.1))"
   ]
  },
  {
   "cell_type": "code",
   "execution_count": null,
   "metadata": {},
   "outputs": [],
   "source": []
  }
 ],
 "metadata": {
  "kernelspec": {
   "display_name": "Python 3",
   "language": "python",
   "name": "python3"
  },
  "language_info": {
   "codemirror_mode": {
    "name": "ipython",
    "version": 3
   },
   "file_extension": ".py",
   "mimetype": "text/x-python",
   "name": "python",
   "nbconvert_exporter": "python",
   "pygments_lexer": "ipython3",
   "version": "3.8.3"
  }
 },
 "nbformat": 4,
 "nbformat_minor": 4
}
