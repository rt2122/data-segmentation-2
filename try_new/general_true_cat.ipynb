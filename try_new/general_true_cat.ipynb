{
 "cells": [
  {
   "cell_type": "code",
   "execution_count": 1,
   "metadata": {
    "ExecuteTime": {
     "end_time": "2021-06-12T11:39:43.461867Z",
     "start_time": "2021-06-12T11:39:43.264643Z"
    }
   },
   "outputs": [
    {
     "name": "stderr",
     "output_type": "stream",
     "text": [
      "<frozen importlib._bootstrap>:219: RuntimeWarning: numpy.ufunc size changed, may indicate binary incompatibility. Expected 192 from C header, got 216 from PyObject\n"
     ]
    }
   ],
   "source": [
    "import numpy as np\n",
    "import pandas as pd"
   ]
  },
  {
   "cell_type": "code",
   "execution_count": 15,
   "metadata": {
    "ExecuteTime": {
     "end_time": "2021-06-12T12:21:32.308440Z",
     "start_time": "2021-06-12T12:21:32.296471Z"
    }
   },
   "outputs": [],
   "source": [
    "def merge2cats(cat1, cat2, merge_dist=400/3600, name='', prms={}): \n",
    "    from astropy.coordinates import SkyCoord\n",
    "    from astropy import units as u\n",
    "    \n",
    "    sc1 = SkyCoord(ra=np.array(cat1['RA']) * u.degree, dec=np.array(cat1['DEC']) * u.degree, frame='icrs')\n",
    "    sc2 = SkyCoord(ra=np.array(cat2['RA']) * u.degree, dec=np.array(cat2['DEC']) * u.degree, frame='icrs')\n",
    "    \n",
    "    idx, d2d, _ = sc1.match_to_catalog_sky(sc2)\n",
    "    matched = d2d.degree <= merge_dist\n",
    "    print(len(cat1), 'obj in 1')\n",
    "    print(len(cat2), 'obj in 2')\n",
    "    print(np.count_nonzero(matched), 'matched')\n",
    "    print(len(cat1) - np.count_nonzero(matched), 'unique from 1')\n",
    "    \n",
    "    for coord in ['RA', 'DEC']:\n",
    "        cat1[name+coord] = np.nan\n",
    "        cat2[name+coord] = np.nan\n",
    "        cat1[name+coord].iloc[matched] = np.array(cat2[coord][idx[matched]])\n",
    "    \n",
    "    for prm in prms:\n",
    "        cat1[prm] = prms[prm]\n",
    "        cat1[prm].iloc[matched] = np.array(cat2[prm][idx[matched]])\n",
    "    \n",
    "    print(len(cat2) - np.count_nonzero(matched), 'unique from 2')\n",
    "    cat2 = cat2.loc[idx[d2d.degree > merge_dist]]\n",
    "    print(len(cat2), 'unique from 2')\n",
    "    \n",
    "    return pd.concat([cat1, cat2])"
   ]
  },
  {
   "cell_type": "code",
   "execution_count": 16,
   "metadata": {
    "ExecuteTime": {
     "end_time": "2021-06-12T12:21:32.772226Z",
     "start_time": "2021-06-12T12:21:32.743871Z"
    }
   },
   "outputs": [
    {
     "name": "stdout",
     "output_type": "stream",
     "text": [
      "1094 obj in 1\n",
      "1743 obj in 2\n",
      "545 matched\n",
      "549 unique from 1\n",
      "1198 unique from 2\n",
      "549 unique from 2\n"
     ]
    },
    {
     "name": "stderr",
     "output_type": "stream",
     "text": [
      "/home/rt2122/anaconda3/lib/python3.8/site-packages/pandas/core/indexing.py:671: SettingWithCopyWarning: \n",
      "A value is trying to be set on a copy of a slice from a DataFrame\n",
      "\n",
      "See the caveats in the documentation: https://pandas.pydata.org/pandas-docs/stable/user_guide/indexing.html#returning-a-view-versus-a-copy\n",
      "  self._setitem_with_indexer(indexer, value)\n"
     ]
    }
   ],
   "source": [
    "c = merge2cats(pd.read_csv('/home/rt2122/Data/clusters/planck_z.csv'), pd.read_csv('/home/rt2122/Data/original_catalogs/csv/MCXC.csv'))"
   ]
  },
  {
   "cell_type": "code",
   "execution_count": 17,
   "metadata": {
    "ExecuteTime": {
     "end_time": "2021-06-12T12:21:33.297493Z",
     "start_time": "2021-06-12T12:21:33.280859Z"
    }
   },
   "outputs": [
    {
     "data": {
      "text/html": [
       "<div>\n",
       "<style scoped>\n",
       "    .dataframe tbody tr th:only-of-type {\n",
       "        vertical-align: middle;\n",
       "    }\n",
       "\n",
       "    .dataframe tbody tr th {\n",
       "        vertical-align: top;\n",
       "    }\n",
       "\n",
       "    .dataframe thead th {\n",
       "        text-align: right;\n",
       "    }\n",
       "</style>\n",
       "<table border=\"1\" class=\"dataframe\">\n",
       "  <thead>\n",
       "    <tr style=\"text-align: right;\">\n",
       "      <th></th>\n",
       "      <th>Name</th>\n",
       "      <th>RA</th>\n",
       "      <th>DEC</th>\n",
       "      <th>z</th>\n",
       "      <th>M500</th>\n",
       "      <th>MCXC</th>\n",
       "      <th>RedMAPPer</th>\n",
       "    </tr>\n",
       "  </thead>\n",
       "  <tbody>\n",
       "    <tr>\n",
       "      <th>0</th>\n",
       "      <td>PSZ2 G000.04+45.13</td>\n",
       "      <td>NaN</td>\n",
       "      <td>NaN</td>\n",
       "      <td>0.1198</td>\n",
       "      <td>3.962411</td>\n",
       "      <td>J1516.5-0056</td>\n",
       "      <td>RMJ151653.9-010506.3</td>\n",
       "    </tr>\n",
       "    <tr>\n",
       "      <th>1</th>\n",
       "      <td>PSZ2 G000.13+78.04</td>\n",
       "      <td>NaN</td>\n",
       "      <td>NaN</td>\n",
       "      <td>0.1710</td>\n",
       "      <td>5.122391</td>\n",
       "      <td>J1334.1+2013</td>\n",
       "      <td>RMJ133408.7+201453.0</td>\n",
       "    </tr>\n",
       "    <tr>\n",
       "      <th>2</th>\n",
       "      <td>PSZ2 G000.40-41.86</td>\n",
       "      <td>NaN</td>\n",
       "      <td>NaN</td>\n",
       "      <td>0.1651</td>\n",
       "      <td>5.297053</td>\n",
       "      <td>J2104.3-4120</td>\n",
       "      <td></td>\n",
       "    </tr>\n",
       "    <tr>\n",
       "      <th>3</th>\n",
       "      <td>PSZ2 G000.77-35.69</td>\n",
       "      <td>NaN</td>\n",
       "      <td>NaN</td>\n",
       "      <td>0.3416</td>\n",
       "      <td>6.333562</td>\n",
       "      <td>J2031.8-4037</td>\n",
       "      <td></td>\n",
       "    </tr>\n",
       "    <tr>\n",
       "      <th>4</th>\n",
       "      <td>PSZ2 G002.08-68.28</td>\n",
       "      <td>NaN</td>\n",
       "      <td>NaN</td>\n",
       "      <td>0.1400</td>\n",
       "      <td>2.835297</td>\n",
       "      <td></td>\n",
       "      <td></td>\n",
       "    </tr>\n",
       "    <tr>\n",
       "      <th>...</th>\n",
       "      <td>...</td>\n",
       "      <td>...</td>\n",
       "      <td>...</td>\n",
       "      <td>...</td>\n",
       "      <td>...</td>\n",
       "      <td>...</td>\n",
       "      <td>...</td>\n",
       "    </tr>\n",
       "    <tr>\n",
       "      <th>1617</th>\n",
       "      <td>NaN</td>\n",
       "      <td>NaN</td>\n",
       "      <td>NaN</td>\n",
       "      <td>0.1130</td>\n",
       "      <td>1.252100</td>\n",
       "      <td>NaN</td>\n",
       "      <td>NaN</td>\n",
       "    </tr>\n",
       "    <tr>\n",
       "      <th>1451</th>\n",
       "      <td>NaN</td>\n",
       "      <td>NaN</td>\n",
       "      <td>NaN</td>\n",
       "      <td>0.0774</td>\n",
       "      <td>1.858500</td>\n",
       "      <td>NaN</td>\n",
       "      <td>NaN</td>\n",
       "    </tr>\n",
       "    <tr>\n",
       "      <th>1122</th>\n",
       "      <td>NaN</td>\n",
       "      <td>NaN</td>\n",
       "      <td>NaN</td>\n",
       "      <td>0.0263</td>\n",
       "      <td>0.735200</td>\n",
       "      <td>NaN</td>\n",
       "      <td>NaN</td>\n",
       "    </tr>\n",
       "    <tr>\n",
       "      <th>1060</th>\n",
       "      <td>NaN</td>\n",
       "      <td>NaN</td>\n",
       "      <td>NaN</td>\n",
       "      <td>0.1251</td>\n",
       "      <td>2.206400</td>\n",
       "      <td>NaN</td>\n",
       "      <td>NaN</td>\n",
       "    </tr>\n",
       "    <tr>\n",
       "      <th>1554</th>\n",
       "      <td>NaN</td>\n",
       "      <td>NaN</td>\n",
       "      <td>NaN</td>\n",
       "      <td>0.1850</td>\n",
       "      <td>1.418700</td>\n",
       "      <td>NaN</td>\n",
       "      <td>NaN</td>\n",
       "    </tr>\n",
       "  </tbody>\n",
       "</table>\n",
       "<p>1643 rows × 7 columns</p>\n",
       "</div>"
      ],
      "text/plain": [
       "                    Name  RA  DEC       z      M500          MCXC  \\\n",
       "0     PSZ2 G000.04+45.13 NaN  NaN  0.1198  3.962411  J1516.5-0056   \n",
       "1     PSZ2 G000.13+78.04 NaN  NaN  0.1710  5.122391  J1334.1+2013   \n",
       "2     PSZ2 G000.40-41.86 NaN  NaN  0.1651  5.297053  J2104.3-4120   \n",
       "3     PSZ2 G000.77-35.69 NaN  NaN  0.3416  6.333562  J2031.8-4037   \n",
       "4     PSZ2 G002.08-68.28 NaN  NaN  0.1400  2.835297                 \n",
       "...                  ...  ..  ...     ...       ...           ...   \n",
       "1617                 NaN NaN  NaN  0.1130  1.252100           NaN   \n",
       "1451                 NaN NaN  NaN  0.0774  1.858500           NaN   \n",
       "1122                 NaN NaN  NaN  0.0263  0.735200           NaN   \n",
       "1060                 NaN NaN  NaN  0.1251  2.206400           NaN   \n",
       "1554                 NaN NaN  NaN  0.1850  1.418700           NaN   \n",
       "\n",
       "                 RedMAPPer  \n",
       "0     RMJ151653.9-010506.3  \n",
       "1     RMJ133408.7+201453.0  \n",
       "2                           \n",
       "3                           \n",
       "4                           \n",
       "...                    ...  \n",
       "1617                   NaN  \n",
       "1451                   NaN  \n",
       "1122                   NaN  \n",
       "1060                   NaN  \n",
       "1554                   NaN  \n",
       "\n",
       "[1643 rows x 7 columns]"
      ]
     },
     "execution_count": 17,
     "metadata": {},
     "output_type": "execute_result"
    }
   ],
   "source": [
    "c"
   ]
  },
  {
   "cell_type": "code",
   "execution_count": null,
   "metadata": {},
   "outputs": [],
   "source": []
  }
 ],
 "metadata": {
  "kernelspec": {
   "display_name": "Python 3",
   "language": "python",
   "name": "python3"
  },
  "language_info": {
   "codemirror_mode": {
    "name": "ipython",
    "version": 3
   },
   "file_extension": ".py",
   "mimetype": "text/x-python",
   "name": "python",
   "nbconvert_exporter": "python",
   "pygments_lexer": "ipython3",
   "version": "3.8.3"
  }
 },
 "nbformat": 4,
 "nbformat_minor": 4
}
