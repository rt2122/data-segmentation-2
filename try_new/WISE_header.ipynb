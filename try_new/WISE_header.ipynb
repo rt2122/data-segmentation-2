{
 "cells": [
  {
   "cell_type": "code",
   "execution_count": 39,
   "metadata": {
    "ExecuteTime": {
     "end_time": "2020-07-15T12:17:18.070105Z",
     "start_time": "2020-07-15T12:17:18.063442Z"
    }
   },
   "outputs": [],
   "source": [
    "from astropy.io import fits\n",
    "import pandas as pd\n",
    "from astropy import wcs\n",
    "import numpy as np\n",
    "from matplotlib import pyplot as plt\n",
    "from astropy.utils.data import get_pkg_data_filename"
   ]
  },
  {
   "cell_type": "code",
   "execution_count": 2,
   "metadata": {
    "ExecuteTime": {
     "end_time": "2020-07-15T09:27:30.749128Z",
     "start_time": "2020-07-15T09:27:30.737650Z"
    }
   },
   "outputs": [],
   "source": [
    "header = fits.Header()"
   ]
  },
  {
   "cell_type": "code",
   "execution_count": 7,
   "metadata": {
    "ExecuteTime": {
     "end_time": "2020-07-15T09:29:47.388768Z",
     "start_time": "2020-07-15T09:29:47.377551Z"
    }
   },
   "outputs": [],
   "source": [
    "with open('/home/rt2122/Data/atlasheader.txt', 'r') as txt:\n",
    "    header = fits.Header().fromtextfile(txt)"
   ]
  },
  {
   "cell_type": "code",
   "execution_count": 12,
   "metadata": {
    "ExecuteTime": {
     "end_time": "2020-07-15T09:31:14.395943Z",
     "start_time": "2020-07-15T09:31:14.276160Z"
    }
   },
   "outputs": [
    {
     "data": {
      "text/html": [
       "<div>\n",
       "<style scoped>\n",
       "    .dataframe tbody tr th:only-of-type {\n",
       "        vertical-align: middle;\n",
       "    }\n",
       "\n",
       "    .dataframe tbody tr th {\n",
       "        vertical-align: top;\n",
       "    }\n",
       "\n",
       "    .dataframe thead th {\n",
       "        text-align: right;\n",
       "    }\n",
       "</style>\n",
       "<table border=\"1\" class=\"dataframe\">\n",
       "  <thead>\n",
       "    <tr style=\"text-align: right;\">\n",
       "      <th></th>\n",
       "      <th>COADD_ID</th>\n",
       "      <th>RA</th>\n",
       "      <th>DEC</th>\n",
       "      <th>BAND</th>\n",
       "      <th>LGAL</th>\n",
       "      <th>BGAL</th>\n",
       "      <th>LAMBDA</th>\n",
       "      <th>BETA</th>\n",
       "      <th>MJDMIN</th>\n",
       "      <th>MJDMAX</th>\n",
       "      <th>...</th>\n",
       "      <th>N_CALIB</th>\n",
       "      <th>NAXIS</th>\n",
       "      <th>CD</th>\n",
       "      <th>CDELT</th>\n",
       "      <th>CRPIX</th>\n",
       "      <th>CRVAL</th>\n",
       "      <th>CTYPE</th>\n",
       "      <th>LONGPOLE</th>\n",
       "      <th>LATPOLE</th>\n",
       "      <th>PV2</th>\n",
       "    </tr>\n",
       "    <tr>\n",
       "      <th>index</th>\n",
       "      <th></th>\n",
       "      <th></th>\n",
       "      <th></th>\n",
       "      <th></th>\n",
       "      <th></th>\n",
       "      <th></th>\n",
       "      <th></th>\n",
       "      <th></th>\n",
       "      <th></th>\n",
       "      <th></th>\n",
       "      <th></th>\n",
       "      <th></th>\n",
       "      <th></th>\n",
       "      <th></th>\n",
       "      <th></th>\n",
       "      <th></th>\n",
       "      <th></th>\n",
       "      <th></th>\n",
       "      <th></th>\n",
       "      <th></th>\n",
       "      <th></th>\n",
       "    </tr>\n",
       "  </thead>\n",
       "  <tbody>\n",
       "    <tr>\n",
       "      <th>19754</th>\n",
       "      <td>1937p287</td>\n",
       "      <td>193.714674</td>\n",
       "      <td>28.774444</td>\n",
       "      <td>1</td>\n",
       "      <td>98.481008</td>\n",
       "      <td>88.188769</td>\n",
       "      <td>179.945398</td>\n",
       "      <td>31.621434</td>\n",
       "      <td>55360.653106</td>\n",
       "      <td>57909.518881</td>\n",
       "      <td>...</td>\n",
       "      <td>4510</td>\n",
       "      <td>[2048 2048]</td>\n",
       "      <td>[[-0.00076389  0.        ]\\n [ 0.          0.0...</td>\n",
       "      <td>[1. 1.]</td>\n",
       "      <td>[1024.49846992 1024.51145099]</td>\n",
       "      <td>[193.714674  28.774444]</td>\n",
       "      <td>['RA---TAN' 'DEC--TAN']</td>\n",
       "      <td>180.0</td>\n",
       "      <td>0.0</td>\n",
       "      <td>[0. 0.]</td>\n",
       "    </tr>\n",
       "    <tr>\n",
       "      <th>19755</th>\n",
       "      <td>1937p287</td>\n",
       "      <td>193.714674</td>\n",
       "      <td>28.774444</td>\n",
       "      <td>2</td>\n",
       "      <td>98.481008</td>\n",
       "      <td>88.188769</td>\n",
       "      <td>179.945398</td>\n",
       "      <td>31.621434</td>\n",
       "      <td>55360.653106</td>\n",
       "      <td>57909.518881</td>\n",
       "      <td>...</td>\n",
       "      <td>3472</td>\n",
       "      <td>[2048 2048]</td>\n",
       "      <td>[[-0.00076389  0.        ]\\n [ 0.          0.0...</td>\n",
       "      <td>[1. 1.]</td>\n",
       "      <td>[1024.49420039 1024.51875383]</td>\n",
       "      <td>[193.714674  28.774444]</td>\n",
       "      <td>['RA---TAN' 'DEC--TAN']</td>\n",
       "      <td>180.0</td>\n",
       "      <td>0.0</td>\n",
       "      <td>[0. 0.]</td>\n",
       "    </tr>\n",
       "    <tr>\n",
       "      <th>19814</th>\n",
       "      <td>1943p272</td>\n",
       "      <td>194.366938</td>\n",
       "      <td>27.260000</td>\n",
       "      <td>1</td>\n",
       "      <td>38.887949</td>\n",
       "      <td>88.652723</td>\n",
       "      <td>181.342305</td>\n",
       "      <td>30.528859</td>\n",
       "      <td>55361.975890</td>\n",
       "      <td>57911.220752</td>\n",
       "      <td>...</td>\n",
       "      <td>4529</td>\n",
       "      <td>[2048 2048]</td>\n",
       "      <td>[[-0.00076389  0.        ]\\n [ 0.          0.0...</td>\n",
       "      <td>[1. 1.]</td>\n",
       "      <td>[1024.49908789 1024.4976329 ]</td>\n",
       "      <td>[194.366938  27.26    ]</td>\n",
       "      <td>['RA---TAN' 'DEC--TAN']</td>\n",
       "      <td>180.0</td>\n",
       "      <td>0.0</td>\n",
       "      <td>[0. 0.]</td>\n",
       "    </tr>\n",
       "    <tr>\n",
       "      <th>19815</th>\n",
       "      <td>1943p272</td>\n",
       "      <td>194.366938</td>\n",
       "      <td>27.260000</td>\n",
       "      <td>2</td>\n",
       "      <td>38.887949</td>\n",
       "      <td>88.652723</td>\n",
       "      <td>181.342305</td>\n",
       "      <td>30.528859</td>\n",
       "      <td>55361.975890</td>\n",
       "      <td>57911.220752</td>\n",
       "      <td>...</td>\n",
       "      <td>3435</td>\n",
       "      <td>[2048 2048]</td>\n",
       "      <td>[[-0.00076389  0.        ]\\n [ 0.          0.0...</td>\n",
       "      <td>[1. 1.]</td>\n",
       "      <td>[1024.49400308 1024.5005147 ]</td>\n",
       "      <td>[194.366938  27.26    ]</td>\n",
       "      <td>['RA---TAN' 'DEC--TAN']</td>\n",
       "      <td>180.0</td>\n",
       "      <td>0.0</td>\n",
       "      <td>[0. 0.]</td>\n",
       "    </tr>\n",
       "    <tr>\n",
       "      <th>19926</th>\n",
       "      <td>1954p287</td>\n",
       "      <td>195.428964</td>\n",
       "      <td>28.774444</td>\n",
       "      <td>1</td>\n",
       "      <td>69.481284</td>\n",
       "      <td>87.196280</td>\n",
       "      <td>181.523701</td>\n",
       "      <td>32.303262</td>\n",
       "      <td>55362.108576</td>\n",
       "      <td>57911.352038</td>\n",
       "      <td>...</td>\n",
       "      <td>4350</td>\n",
       "      <td>[2048 2048]</td>\n",
       "      <td>[[-0.00076389  0.        ]\\n [ 0.          0.0...</td>\n",
       "      <td>[1. 1.]</td>\n",
       "      <td>[1024.48167699 1024.51643945]</td>\n",
       "      <td>[195.428964  28.774444]</td>\n",
       "      <td>['RA---TAN' 'DEC--TAN']</td>\n",
       "      <td>180.0</td>\n",
       "      <td>0.0</td>\n",
       "      <td>[0. 0.]</td>\n",
       "    </tr>\n",
       "  </tbody>\n",
       "</table>\n",
       "<p>5 rows × 26 columns</p>\n",
       "</div>"
      ],
      "text/plain": [
       "       COADD_ID          RA        DEC  BAND       LGAL       BGAL  \\\n",
       "index                                                                \n",
       "19754  1937p287  193.714674  28.774444     1  98.481008  88.188769   \n",
       "19755  1937p287  193.714674  28.774444     2  98.481008  88.188769   \n",
       "19814  1943p272  194.366938  27.260000     1  38.887949  88.652723   \n",
       "19815  1943p272  194.366938  27.260000     2  38.887949  88.652723   \n",
       "19926  1954p287  195.428964  28.774444     1  69.481284  87.196280   \n",
       "\n",
       "           LAMBDA       BETA        MJDMIN        MJDMAX  ...  N_CALIB  \\\n",
       "index                                                     ...            \n",
       "19754  179.945398  31.621434  55360.653106  57909.518881  ...     4510   \n",
       "19755  179.945398  31.621434  55360.653106  57909.518881  ...     3472   \n",
       "19814  181.342305  30.528859  55361.975890  57911.220752  ...     4529   \n",
       "19815  181.342305  30.528859  55361.975890  57911.220752  ...     3435   \n",
       "19926  181.523701  32.303262  55362.108576  57911.352038  ...     4350   \n",
       "\n",
       "             NAXIS                                                 CD  \\\n",
       "index                                                                   \n",
       "19754  [2048 2048]  [[-0.00076389  0.        ]\\n [ 0.          0.0...   \n",
       "19755  [2048 2048]  [[-0.00076389  0.        ]\\n [ 0.          0.0...   \n",
       "19814  [2048 2048]  [[-0.00076389  0.        ]\\n [ 0.          0.0...   \n",
       "19815  [2048 2048]  [[-0.00076389  0.        ]\\n [ 0.          0.0...   \n",
       "19926  [2048 2048]  [[-0.00076389  0.        ]\\n [ 0.          0.0...   \n",
       "\n",
       "         CDELT                          CRPIX                    CRVAL  \\\n",
       "index                                                                    \n",
       "19754  [1. 1.]  [1024.49846992 1024.51145099]  [193.714674  28.774444]   \n",
       "19755  [1. 1.]  [1024.49420039 1024.51875383]  [193.714674  28.774444]   \n",
       "19814  [1. 1.]  [1024.49908789 1024.4976329 ]  [194.366938  27.26    ]   \n",
       "19815  [1. 1.]  [1024.49400308 1024.5005147 ]  [194.366938  27.26    ]   \n",
       "19926  [1. 1.]  [1024.48167699 1024.51643945]  [195.428964  28.774444]   \n",
       "\n",
       "                         CTYPE LONGPOLE LATPOLE      PV2  \n",
       "index                                                     \n",
       "19754  ['RA---TAN' 'DEC--TAN']    180.0     0.0  [0. 0.]  \n",
       "19755  ['RA---TAN' 'DEC--TAN']    180.0     0.0  [0. 0.]  \n",
       "19814  ['RA---TAN' 'DEC--TAN']    180.0     0.0  [0. 0.]  \n",
       "19815  ['RA---TAN' 'DEC--TAN']    180.0     0.0  [0. 0.]  \n",
       "19926  ['RA---TAN' 'DEC--TAN']    180.0     0.0  [0. 0.]  \n",
       "\n",
       "[5 rows x 26 columns]"
      ]
     },
     "execution_count": 12,
     "metadata": {},
     "output_type": "execute_result"
    }
   ],
   "source": [
    "coma_wise_ind = pd.read_csv('/home/rt2122/Data/coma_wise_idx.csv', index_col='index')\n",
    "coma_wise_ind.head()"
   ]
  },
  {
   "cell_type": "code",
   "execution_count": 17,
   "metadata": {
    "ExecuteTime": {
     "end_time": "2020-07-15T09:34:54.782280Z",
     "start_time": "2020-07-15T09:34:54.776923Z"
    }
   },
   "outputs": [
    {
     "data": {
      "text/plain": [
       "{'BAND',\n",
       " 'BETA',\n",
       " 'BGAL',\n",
       " 'CD',\n",
       " 'CDELT',\n",
       " 'COADD_ID',\n",
       " 'COVMAX',\n",
       " 'COVMED',\n",
       " 'COVMIN',\n",
       " 'CRPIX',\n",
       " 'CRVAL',\n",
       " 'CTYPE',\n",
       " 'DEC',\n",
       " 'DT',\n",
       " 'LAMBDA',\n",
       " 'LATPOLE',\n",
       " 'LGAL',\n",
       " 'LONGPOLE',\n",
       " 'MJDMAX',\n",
       " 'MJDMEAN',\n",
       " 'MJDMIN',\n",
       " 'NAXIS',\n",
       " 'N_CALIB',\n",
       " 'N_EXP',\n",
       " 'PV2',\n",
       " 'RA'}"
      ]
     },
     "execution_count": 17,
     "metadata": {},
     "output_type": "execute_result"
    }
   ],
   "source": [
    "header_set = set(header)\n",
    "table_set = set(coma_wise_ind)\n",
    "table_set"
   ]
  },
  {
   "cell_type": "code",
   "execution_count": 18,
   "metadata": {
    "ExecuteTime": {
     "end_time": "2020-07-15T09:35:09.307917Z",
     "start_time": "2020-07-15T09:35:09.301662Z"
    }
   },
   "outputs": [
    {
     "data": {
      "text/plain": [
       "{'BAND', 'NAXIS'}"
      ]
     },
     "execution_count": 18,
     "metadata": {},
     "output_type": "execute_result"
    }
   ],
   "source": [
    "header_set.intersection(table_set)"
   ]
  },
  {
   "cell_type": "code",
   "execution_count": 23,
   "metadata": {
    "ExecuteTime": {
     "end_time": "2020-07-15T09:44:50.271848Z",
     "start_time": "2020-07-15T09:44:50.267167Z"
    }
   },
   "outputs": [],
   "source": [
    "fni = None"
   ]
  },
  {
   "cell_type": "code",
   "execution_count": 24,
   "metadata": {
    "ExecuteTime": {
     "end_time": "2020-07-15T09:44:59.751525Z",
     "start_time": "2020-07-15T09:44:59.742583Z"
    }
   },
   "outputs": [],
   "source": [
    "with fits.open('/home/rt2122/Data/fulldepth_neo4_index.fits') as hdul:\n",
    "    fni = hdul"
   ]
  },
  {
   "cell_type": "code",
   "execution_count": 30,
   "metadata": {
    "ExecuteTime": {
     "end_time": "2020-07-15T10:30:29.911652Z",
     "start_time": "2020-07-15T10:30:29.895598Z"
    }
   },
   "outputs": [
    {
     "ename": "IndexError",
     "evalue": "HDU not found, possibly because the index is out of range, or because the file was closed before all HDUs were read",
     "output_type": "error",
     "traceback": [
      "\u001b[0;31m---------------------------------------------------------------------------\u001b[0m",
      "\u001b[0;31mIndexError\u001b[0m                                Traceback (most recent call last)",
      "\u001b[0;32m~/anaconda3/lib/python3.7/site-packages/astropy/io/fits/hdu/hdulist.py\u001b[0m in \u001b[0;36m__getitem__\u001b[0;34m(self, key)\u001b[0m\n\u001b[1;32m    306\u001b[0m             return self._try_while_unread_hdus(super().__getitem__,\n\u001b[0;32m--> 307\u001b[0;31m                                                self._positive_index_of(key))\n\u001b[0m\u001b[1;32m    308\u001b[0m         \u001b[0;32mexcept\u001b[0m \u001b[0mIndexError\u001b[0m \u001b[0;32mas\u001b[0m \u001b[0me\u001b[0m\u001b[0;34m:\u001b[0m\u001b[0;34m\u001b[0m\u001b[0;34m\u001b[0m\u001b[0m\n",
      "\u001b[0;32m~/anaconda3/lib/python3.7/site-packages/astropy/io/fits/hdu/hdulist.py\u001b[0m in \u001b[0;36m_try_while_unread_hdus\u001b[0;34m(self, func, *args, **kwargs)\u001b[0m\n\u001b[1;32m   1102\u001b[0m             \u001b[0;32mtry\u001b[0m\u001b[0;34m:\u001b[0m\u001b[0;34m\u001b[0m\u001b[0;34m\u001b[0m\u001b[0m\n\u001b[0;32m-> 1103\u001b[0;31m                 \u001b[0;32mreturn\u001b[0m \u001b[0mfunc\u001b[0m\u001b[0;34m(\u001b[0m\u001b[0;34m*\u001b[0m\u001b[0margs\u001b[0m\u001b[0;34m,\u001b[0m \u001b[0;34m**\u001b[0m\u001b[0mkwargs\u001b[0m\u001b[0;34m)\u001b[0m\u001b[0;34m\u001b[0m\u001b[0;34m\u001b[0m\u001b[0m\n\u001b[0m\u001b[1;32m   1104\u001b[0m             \u001b[0;32mexcept\u001b[0m \u001b[0mException\u001b[0m\u001b[0;34m:\u001b[0m\u001b[0;34m\u001b[0m\u001b[0;34m\u001b[0m\u001b[0m\n",
      "\u001b[0;31mIndexError\u001b[0m: list index out of range",
      "\nDuring handling of the above exception, another exception occurred:\n",
      "\u001b[0;31mIndexError\u001b[0m                                Traceback (most recent call last)",
      "\u001b[0;32m<ipython-input-30-a789337347a7>\u001b[0m in \u001b[0;36m<module>\u001b[0;34m\u001b[0m\n\u001b[0;32m----> 1\u001b[0;31m \u001b[0mfni\u001b[0m\u001b[0;34m[\u001b[0m\u001b[0;36m1\u001b[0m\u001b[0;34m]\u001b[0m\u001b[0;34m.\u001b[0m\u001b[0mcolumns\u001b[0m\u001b[0;34m\u001b[0m\u001b[0;34m\u001b[0m\u001b[0m\n\u001b[0m",
      "\u001b[0;32m~/anaconda3/lib/python3.7/site-packages/astropy/io/fits/hdu/hdulist.py\u001b[0m in \u001b[0;36m__getitem__\u001b[0;34m(self, key)\u001b[0m\n\u001b[1;32m    311\u001b[0m                 \u001b[0;32mraise\u001b[0m \u001b[0me\u001b[0m\u001b[0;34m\u001b[0m\u001b[0;34m\u001b[0m\u001b[0m\n\u001b[1;32m    312\u001b[0m             \u001b[0;32melse\u001b[0m\u001b[0;34m:\u001b[0m\u001b[0;34m\u001b[0m\u001b[0;34m\u001b[0m\u001b[0m\n\u001b[0;32m--> 313\u001b[0;31m                 raise IndexError('HDU not found, possibly because the index '\n\u001b[0m\u001b[1;32m    314\u001b[0m                                  \u001b[0;34m'is out of range, or because the file was '\u001b[0m\u001b[0;34m\u001b[0m\u001b[0;34m\u001b[0m\u001b[0m\n\u001b[1;32m    315\u001b[0m                                  'closed before all HDUs were read')\n",
      "\u001b[0;31mIndexError\u001b[0m: HDU not found, possibly because the index is out of range, or because the file was closed before all HDUs were read"
     ]
    }
   ],
   "source": [
    "fni[1].columns"
   ]
  },
  {
   "cell_type": "code",
   "execution_count": 34,
   "metadata": {
    "ExecuteTime": {
     "end_time": "2020-07-15T10:33:49.426934Z",
     "start_time": "2020-07-15T10:33:49.416606Z"
    }
   },
   "outputs": [
    {
     "data": {
      "text/plain": [
       "COADD_ID                                             1954p287\n",
       "RA                                                    195.429\n",
       "DEC                                                   28.7744\n",
       "BAND                                                        2\n",
       "LGAL                                                  69.4813\n",
       "BGAL                                                  87.1963\n",
       "LAMBDA                                                181.524\n",
       "BETA                                                  32.3033\n",
       "MJDMIN                                                55362.1\n",
       "MJDMAX                                                57911.4\n",
       "MJDMEAN                                               56867.1\n",
       "DT                                                    2549.24\n",
       "COVMIN                                                    120\n",
       "COVMAX                                                    176\n",
       "COVMED                                                    153\n",
       "N_EXP                                                    1589\n",
       "N_CALIB                                                  3338\n",
       "NAXIS                                             [2048 2048]\n",
       "CD          [[-0.00076389  0.        ]\\n [ 0.          0.0...\n",
       "CDELT                                                 [1. 1.]\n",
       "CRPIX                           [1024.47906552 1024.51230833]\n",
       "CRVAL                                 [195.428964  28.774444]\n",
       "CTYPE                                 ['RA---TAN' 'DEC--TAN']\n",
       "LONGPOLE                                                  180\n",
       "LATPOLE                                                     0\n",
       "PV2                                                   [0. 0.]\n",
       "Name: 19927, dtype: object"
      ]
     },
     "execution_count": 34,
     "metadata": {},
     "output_type": "execute_result"
    }
   ],
   "source": [
    "coma_wise_ind.iloc[-3]"
   ]
  },
  {
   "cell_type": "code",
   "execution_count": 37,
   "metadata": {
    "ExecuteTime": {
     "end_time": "2020-07-15T10:35:38.911368Z",
     "start_time": "2020-07-15T10:35:38.780264Z"
    }
   },
   "outputs": [
    {
     "ename": "ValueError",
     "evalue": "FITS header values must contain standard printable ASCII characters; '[[-0.00076389  0.        ]\\n [ 0.          0.00076389]]' contains characters not representable in ASCII or non-printable characters.",
     "output_type": "error",
     "traceback": [
      "\u001b[0;31m---------------------------------------------------------------------------\u001b[0m",
      "\u001b[0;31mValueError\u001b[0m                                Traceback (most recent call last)",
      "\u001b[0;32m<ipython-input-37-1372f545bd34>\u001b[0m in \u001b[0;36m<module>\u001b[0;34m\u001b[0m\n\u001b[0;32m----> 1\u001b[0;31m \u001b[0mheader\u001b[0m \u001b[0;34m=\u001b[0m \u001b[0mwcs\u001b[0m\u001b[0;34m.\u001b[0m\u001b[0mWCS\u001b[0m\u001b[0;34m(\u001b[0m\u001b[0mcoma_wise_ind\u001b[0m\u001b[0;34m.\u001b[0m\u001b[0miloc\u001b[0m\u001b[0;34m[\u001b[0m\u001b[0;34m-\u001b[0m\u001b[0;36m3\u001b[0m\u001b[0;34m]\u001b[0m\u001b[0;34m)\u001b[0m\u001b[0;34m\u001b[0m\u001b[0;34m\u001b[0m\u001b[0m\n\u001b[0m",
      "\u001b[0;32m~/anaconda3/lib/python3.7/site-packages/astropy/wcs/wcs.py\u001b[0m in \u001b[0;36m__init__\u001b[0;34m(self, header, fobj, key, minerr, relax, naxis, keysel, colsel, fix, translate_units, _do_set)\u001b[0m\n\u001b[1;32m    398\u001b[0m                     \u001b[0mheader\u001b[0m \u001b[0;34m=\u001b[0m \u001b[0mfits\u001b[0m\u001b[0;34m.\u001b[0m\u001b[0mHeader\u001b[0m\u001b[0;34m(\u001b[0m\u001b[0;34m)\u001b[0m\u001b[0;34m\u001b[0m\u001b[0;34m\u001b[0m\u001b[0m\n\u001b[1;32m    399\u001b[0m                     \u001b[0;32mfor\u001b[0m \u001b[0mdict_key\u001b[0m \u001b[0;32min\u001b[0m \u001b[0morig_header\u001b[0m\u001b[0;34m.\u001b[0m\u001b[0mkeys\u001b[0m\u001b[0;34m(\u001b[0m\u001b[0;34m)\u001b[0m\u001b[0;34m:\u001b[0m\u001b[0;34m\u001b[0m\u001b[0;34m\u001b[0m\u001b[0m\n\u001b[0;32m--> 400\u001b[0;31m                         \u001b[0mheader\u001b[0m\u001b[0;34m[\u001b[0m\u001b[0mdict_key\u001b[0m\u001b[0;34m]\u001b[0m \u001b[0;34m=\u001b[0m \u001b[0morig_header\u001b[0m\u001b[0;34m[\u001b[0m\u001b[0mdict_key\u001b[0m\u001b[0;34m]\u001b[0m\u001b[0;34m\u001b[0m\u001b[0;34m\u001b[0m\u001b[0m\n\u001b[0m\u001b[1;32m    401\u001b[0m                 \u001b[0;32mexcept\u001b[0m \u001b[0mTypeError\u001b[0m\u001b[0;34m:\u001b[0m\u001b[0;34m\u001b[0m\u001b[0;34m\u001b[0m\u001b[0m\n\u001b[1;32m    402\u001b[0m                     raise TypeError(\n",
      "\u001b[0;32m~/anaconda3/lib/python3.7/site-packages/astropy/io/fits/header.py\u001b[0m in \u001b[0;36m__setitem__\u001b[0;34m(self, key, value)\u001b[0m\n\u001b[1;32m    196\u001b[0m             \u001b[0;31m# If we get an IndexError that should be raised; we don't allow\u001b[0m\u001b[0;34m\u001b[0m\u001b[0;34m\u001b[0m\u001b[0;34m\u001b[0m\u001b[0m\n\u001b[1;32m    197\u001b[0m             \u001b[0;31m# assignment to non-existing indices\u001b[0m\u001b[0;34m\u001b[0m\u001b[0;34m\u001b[0m\u001b[0;34m\u001b[0m\u001b[0m\n\u001b[0;32m--> 198\u001b[0;31m             \u001b[0mself\u001b[0m\u001b[0;34m.\u001b[0m\u001b[0m_update\u001b[0m\u001b[0;34m(\u001b[0m\u001b[0;34m(\u001b[0m\u001b[0mkey\u001b[0m\u001b[0;34m,\u001b[0m \u001b[0mvalue\u001b[0m\u001b[0;34m,\u001b[0m \u001b[0mcomment\u001b[0m\u001b[0;34m)\u001b[0m\u001b[0;34m)\u001b[0m\u001b[0;34m\u001b[0m\u001b[0;34m\u001b[0m\u001b[0m\n\u001b[0m\u001b[1;32m    199\u001b[0m \u001b[0;34m\u001b[0m\u001b[0m\n\u001b[1;32m    200\u001b[0m     \u001b[0;32mdef\u001b[0m \u001b[0m__delitem__\u001b[0m\u001b[0;34m(\u001b[0m\u001b[0mself\u001b[0m\u001b[0;34m,\u001b[0m \u001b[0mkey\u001b[0m\u001b[0;34m)\u001b[0m\u001b[0;34m:\u001b[0m\u001b[0;34m\u001b[0m\u001b[0;34m\u001b[0m\u001b[0m\n",
      "\u001b[0;32m~/anaconda3/lib/python3.7/site-packages/astropy/io/fits/header.py\u001b[0m in \u001b[0;36m_update\u001b[0;34m(self, card)\u001b[0m\n\u001b[1;32m   1661\u001b[0m         \u001b[0;32melse\u001b[0m\u001b[0;34m:\u001b[0m\u001b[0;34m\u001b[0m\u001b[0;34m\u001b[0m\u001b[0m\n\u001b[1;32m   1662\u001b[0m             \u001b[0;31m# A new keyword! self.append() will handle updating _modified\u001b[0m\u001b[0;34m\u001b[0m\u001b[0;34m\u001b[0m\u001b[0;34m\u001b[0m\u001b[0m\n\u001b[0;32m-> 1663\u001b[0;31m             \u001b[0mself\u001b[0m\u001b[0;34m.\u001b[0m\u001b[0mappend\u001b[0m\u001b[0;34m(\u001b[0m\u001b[0mcard\u001b[0m\u001b[0;34m)\u001b[0m\u001b[0;34m\u001b[0m\u001b[0;34m\u001b[0m\u001b[0m\n\u001b[0m\u001b[1;32m   1664\u001b[0m \u001b[0;34m\u001b[0m\u001b[0m\n\u001b[1;32m   1665\u001b[0m     \u001b[0;32mdef\u001b[0m \u001b[0m_cardindex\u001b[0m\u001b[0;34m(\u001b[0m\u001b[0mself\u001b[0m\u001b[0;34m,\u001b[0m \u001b[0mkey\u001b[0m\u001b[0;34m)\u001b[0m\u001b[0;34m:\u001b[0m\u001b[0;34m\u001b[0m\u001b[0;34m\u001b[0m\u001b[0m\n",
      "\u001b[0;32m~/anaconda3/lib/python3.7/site-packages/astropy/io/fits/header.py\u001b[0m in \u001b[0;36mappend\u001b[0;34m(self, card, useblanks, bottom, end)\u001b[0m\n\u001b[1;32m   1193\u001b[0m             \u001b[0mcard\u001b[0m \u001b[0;34m=\u001b[0m \u001b[0mCard\u001b[0m\u001b[0;34m(\u001b[0m\u001b[0mcard\u001b[0m\u001b[0;34m)\u001b[0m\u001b[0;34m\u001b[0m\u001b[0;34m\u001b[0m\u001b[0m\n\u001b[1;32m   1194\u001b[0m         \u001b[0;32melif\u001b[0m \u001b[0misinstance\u001b[0m\u001b[0;34m(\u001b[0m\u001b[0mcard\u001b[0m\u001b[0;34m,\u001b[0m \u001b[0mtuple\u001b[0m\u001b[0;34m)\u001b[0m\u001b[0;34m:\u001b[0m\u001b[0;34m\u001b[0m\u001b[0;34m\u001b[0m\u001b[0m\n\u001b[0;32m-> 1195\u001b[0;31m             \u001b[0mcard\u001b[0m \u001b[0;34m=\u001b[0m \u001b[0mCard\u001b[0m\u001b[0;34m(\u001b[0m\u001b[0;34m*\u001b[0m\u001b[0mcard\u001b[0m\u001b[0;34m)\u001b[0m\u001b[0;34m\u001b[0m\u001b[0;34m\u001b[0m\u001b[0m\n\u001b[0m\u001b[1;32m   1196\u001b[0m         \u001b[0;32melif\u001b[0m \u001b[0mcard\u001b[0m \u001b[0;32mis\u001b[0m \u001b[0;32mNone\u001b[0m\u001b[0;34m:\u001b[0m\u001b[0;34m\u001b[0m\u001b[0;34m\u001b[0m\u001b[0m\n\u001b[1;32m   1197\u001b[0m             \u001b[0mcard\u001b[0m \u001b[0;34m=\u001b[0m \u001b[0mCard\u001b[0m\u001b[0;34m(\u001b[0m\u001b[0;34m)\u001b[0m\u001b[0;34m\u001b[0m\u001b[0;34m\u001b[0m\u001b[0m\n",
      "\u001b[0;32m~/anaconda3/lib/python3.7/site-packages/astropy/io/fits/card.py\u001b[0m in \u001b[0;36m__init__\u001b[0;34m(self, keyword, value, comment, **kwargs)\u001b[0m\n\u001b[1;32m    191\u001b[0m                 \u001b[0mself\u001b[0m\u001b[0;34m.\u001b[0m\u001b[0mkeyword\u001b[0m \u001b[0;34m=\u001b[0m \u001b[0mkeyword\u001b[0m\u001b[0;34m\u001b[0m\u001b[0;34m\u001b[0m\u001b[0m\n\u001b[1;32m    192\u001b[0m             \u001b[0;32mif\u001b[0m \u001b[0mvalue\u001b[0m \u001b[0;32mis\u001b[0m \u001b[0;32mnot\u001b[0m \u001b[0;32mNone\u001b[0m\u001b[0;34m:\u001b[0m\u001b[0;34m\u001b[0m\u001b[0;34m\u001b[0m\u001b[0m\n\u001b[0;32m--> 193\u001b[0;31m                 \u001b[0mself\u001b[0m\u001b[0;34m.\u001b[0m\u001b[0mvalue\u001b[0m \u001b[0;34m=\u001b[0m \u001b[0mvalue\u001b[0m\u001b[0;34m\u001b[0m\u001b[0;34m\u001b[0m\u001b[0m\n\u001b[0m\u001b[1;32m    194\u001b[0m \u001b[0;34m\u001b[0m\u001b[0m\n\u001b[1;32m    195\u001b[0m         \u001b[0;32mif\u001b[0m \u001b[0mcomment\u001b[0m \u001b[0;32mis\u001b[0m \u001b[0;32mnot\u001b[0m \u001b[0;32mNone\u001b[0m\u001b[0;34m:\u001b[0m\u001b[0;34m\u001b[0m\u001b[0;34m\u001b[0m\u001b[0m\n",
      "\u001b[0;32m~/anaconda3/lib/python3.7/site-packages/astropy/io/fits/card.py\u001b[0m in \u001b[0;36mvalue\u001b[0;34m(self, value)\u001b[0m\n\u001b[1;32m    331\u001b[0m                     \u001b[0;34m'FITS header values must contain standard printable ASCII '\u001b[0m\u001b[0;34m\u001b[0m\u001b[0;34m\u001b[0m\u001b[0m\n\u001b[1;32m    332\u001b[0m                     \u001b[0;34m'characters; {!r} contains characters not representable in '\u001b[0m\u001b[0;34m\u001b[0m\u001b[0;34m\u001b[0m\u001b[0m\n\u001b[0;32m--> 333\u001b[0;31m                     'ASCII or non-printable characters.'.format(value))\n\u001b[0m\u001b[1;32m    334\u001b[0m         \u001b[0;32melif\u001b[0m \u001b[0misinstance\u001b[0m\u001b[0;34m(\u001b[0m\u001b[0mvalue\u001b[0m\u001b[0;34m,\u001b[0m \u001b[0mbytes\u001b[0m\u001b[0;34m)\u001b[0m\u001b[0;34m:\u001b[0m\u001b[0;34m\u001b[0m\u001b[0;34m\u001b[0m\u001b[0m\n\u001b[1;32m    335\u001b[0m             \u001b[0;31m# Allow str, but only if they can be decoded to ASCII text; note\u001b[0m\u001b[0;34m\u001b[0m\u001b[0;34m\u001b[0m\u001b[0;34m\u001b[0m\u001b[0m\n",
      "\u001b[0;31mValueError\u001b[0m: FITS header values must contain standard printable ASCII characters; '[[-0.00076389  0.        ]\\n [ 0.          0.00076389]]' contains characters not representable in ASCII or non-printable characters."
     ]
    }
   ],
   "source": [
    "header = wcs.WCS(coma_wise_ind.iloc[-3])"
   ]
  },
  {
   "cell_type": "code",
   "execution_count": 68,
   "metadata": {
    "ExecuteTime": {
     "end_time": "2020-07-15T10:46:24.285188Z",
     "start_time": "2020-07-15T10:46:24.272944Z"
    }
   },
   "outputs": [],
   "source": [
    "def str_to_matr(s):\n",
    "    s = s.split('\\n')\n",
    "    for i in range(len(s)):\n",
    "        s[i] = s[i].replace('[', '')\n",
    "        s[i] = s[i].replace(']', '')\n",
    "        s[i] = s[i].split(' ')\n",
    "        s[i] = [w for w in s[i] if len(w) > 0]\n",
    "    return np.array(s, dtype=np.float32)"
   ]
  },
  {
   "cell_type": "code",
   "execution_count": 69,
   "metadata": {
    "ExecuteTime": {
     "end_time": "2020-07-15T10:47:26.979288Z",
     "start_time": "2020-07-15T10:47:26.966241Z"
    }
   },
   "outputs": [
    {
     "name": "stderr",
     "output_type": "stream",
     "text": [
      "/home/rt2122/anaconda3/lib/python3.7/site-packages/pandas/core/indexing.py:670: SettingWithCopyWarning: \n",
      "A value is trying to be set on a copy of a slice from a DataFrame\n",
      "\n",
      "See the caveats in the documentation: https://pandas.pydata.org/pandas-docs/stable/user_guide/indexing.html#returning-a-view-versus-a-copy\n",
      "  self._setitem_with_indexer(indexer, value)\n"
     ]
    }
   ],
   "source": [
    "for i in range(coma_wise_ind.shape[0]):\n",
    "    coma_wise_ind['CD'].iloc[i] = str_to_matr(coma_wise_ind['CD'].iloc[i])"
   ]
  },
  {
   "cell_type": "code",
   "execution_count": 70,
   "metadata": {
    "ExecuteTime": {
     "end_time": "2020-07-15T10:48:08.540927Z",
     "start_time": "2020-07-15T10:48:08.492967Z"
    }
   },
   "outputs": [
    {
     "data": {
      "text/html": [
       "<div>\n",
       "<style scoped>\n",
       "    .dataframe tbody tr th:only-of-type {\n",
       "        vertical-align: middle;\n",
       "    }\n",
       "\n",
       "    .dataframe tbody tr th {\n",
       "        vertical-align: top;\n",
       "    }\n",
       "\n",
       "    .dataframe thead th {\n",
       "        text-align: right;\n",
       "    }\n",
       "</style>\n",
       "<table border=\"1\" class=\"dataframe\">\n",
       "  <thead>\n",
       "    <tr style=\"text-align: right;\">\n",
       "      <th></th>\n",
       "      <th>COADD_ID</th>\n",
       "      <th>RA</th>\n",
       "      <th>DEC</th>\n",
       "      <th>BAND</th>\n",
       "      <th>LGAL</th>\n",
       "      <th>BGAL</th>\n",
       "      <th>LAMBDA</th>\n",
       "      <th>BETA</th>\n",
       "      <th>MJDMIN</th>\n",
       "      <th>MJDMAX</th>\n",
       "      <th>...</th>\n",
       "      <th>N_CALIB</th>\n",
       "      <th>NAXIS</th>\n",
       "      <th>CD</th>\n",
       "      <th>CDELT</th>\n",
       "      <th>CRPIX</th>\n",
       "      <th>CRVAL</th>\n",
       "      <th>CTYPE</th>\n",
       "      <th>LONGPOLE</th>\n",
       "      <th>LATPOLE</th>\n",
       "      <th>PV2</th>\n",
       "    </tr>\n",
       "    <tr>\n",
       "      <th>index</th>\n",
       "      <th></th>\n",
       "      <th></th>\n",
       "      <th></th>\n",
       "      <th></th>\n",
       "      <th></th>\n",
       "      <th></th>\n",
       "      <th></th>\n",
       "      <th></th>\n",
       "      <th></th>\n",
       "      <th></th>\n",
       "      <th></th>\n",
       "      <th></th>\n",
       "      <th></th>\n",
       "      <th></th>\n",
       "      <th></th>\n",
       "      <th></th>\n",
       "      <th></th>\n",
       "      <th></th>\n",
       "      <th></th>\n",
       "      <th></th>\n",
       "      <th></th>\n",
       "    </tr>\n",
       "  </thead>\n",
       "  <tbody>\n",
       "    <tr>\n",
       "      <th>19754</th>\n",
       "      <td>1937p287</td>\n",
       "      <td>193.714674</td>\n",
       "      <td>28.774444</td>\n",
       "      <td>1</td>\n",
       "      <td>98.481008</td>\n",
       "      <td>88.188769</td>\n",
       "      <td>179.945398</td>\n",
       "      <td>31.621434</td>\n",
       "      <td>55360.653106</td>\n",
       "      <td>57909.518881</td>\n",
       "      <td>...</td>\n",
       "      <td>4510</td>\n",
       "      <td>[2048 2048]</td>\n",
       "      <td>[[-0.00076389, 0.0], [0.0, 0.00076389]]</td>\n",
       "      <td>[1. 1.]</td>\n",
       "      <td>[1024.49846992 1024.51145099]</td>\n",
       "      <td>[193.714674  28.774444]</td>\n",
       "      <td>['RA---TAN' 'DEC--TAN']</td>\n",
       "      <td>180.0</td>\n",
       "      <td>0.0</td>\n",
       "      <td>[0. 0.]</td>\n",
       "    </tr>\n",
       "    <tr>\n",
       "      <th>19755</th>\n",
       "      <td>1937p287</td>\n",
       "      <td>193.714674</td>\n",
       "      <td>28.774444</td>\n",
       "      <td>2</td>\n",
       "      <td>98.481008</td>\n",
       "      <td>88.188769</td>\n",
       "      <td>179.945398</td>\n",
       "      <td>31.621434</td>\n",
       "      <td>55360.653106</td>\n",
       "      <td>57909.518881</td>\n",
       "      <td>...</td>\n",
       "      <td>3472</td>\n",
       "      <td>[2048 2048]</td>\n",
       "      <td>[[-0.00076389, 0.0], [0.0, 0.00076389]]</td>\n",
       "      <td>[1. 1.]</td>\n",
       "      <td>[1024.49420039 1024.51875383]</td>\n",
       "      <td>[193.714674  28.774444]</td>\n",
       "      <td>['RA---TAN' 'DEC--TAN']</td>\n",
       "      <td>180.0</td>\n",
       "      <td>0.0</td>\n",
       "      <td>[0. 0.]</td>\n",
       "    </tr>\n",
       "    <tr>\n",
       "      <th>19814</th>\n",
       "      <td>1943p272</td>\n",
       "      <td>194.366938</td>\n",
       "      <td>27.260000</td>\n",
       "      <td>1</td>\n",
       "      <td>38.887949</td>\n",
       "      <td>88.652723</td>\n",
       "      <td>181.342305</td>\n",
       "      <td>30.528859</td>\n",
       "      <td>55361.975890</td>\n",
       "      <td>57911.220752</td>\n",
       "      <td>...</td>\n",
       "      <td>4529</td>\n",
       "      <td>[2048 2048]</td>\n",
       "      <td>[[-0.00076389, 0.0], [0.0, 0.00076389]]</td>\n",
       "      <td>[1. 1.]</td>\n",
       "      <td>[1024.49908789 1024.4976329 ]</td>\n",
       "      <td>[194.366938  27.26    ]</td>\n",
       "      <td>['RA---TAN' 'DEC--TAN']</td>\n",
       "      <td>180.0</td>\n",
       "      <td>0.0</td>\n",
       "      <td>[0. 0.]</td>\n",
       "    </tr>\n",
       "    <tr>\n",
       "      <th>19815</th>\n",
       "      <td>1943p272</td>\n",
       "      <td>194.366938</td>\n",
       "      <td>27.260000</td>\n",
       "      <td>2</td>\n",
       "      <td>38.887949</td>\n",
       "      <td>88.652723</td>\n",
       "      <td>181.342305</td>\n",
       "      <td>30.528859</td>\n",
       "      <td>55361.975890</td>\n",
       "      <td>57911.220752</td>\n",
       "      <td>...</td>\n",
       "      <td>3435</td>\n",
       "      <td>[2048 2048]</td>\n",
       "      <td>[[-0.00076389, 0.0], [0.0, 0.00076389]]</td>\n",
       "      <td>[1. 1.]</td>\n",
       "      <td>[1024.49400308 1024.5005147 ]</td>\n",
       "      <td>[194.366938  27.26    ]</td>\n",
       "      <td>['RA---TAN' 'DEC--TAN']</td>\n",
       "      <td>180.0</td>\n",
       "      <td>0.0</td>\n",
       "      <td>[0. 0.]</td>\n",
       "    </tr>\n",
       "    <tr>\n",
       "      <th>19926</th>\n",
       "      <td>1954p287</td>\n",
       "      <td>195.428964</td>\n",
       "      <td>28.774444</td>\n",
       "      <td>1</td>\n",
       "      <td>69.481284</td>\n",
       "      <td>87.196280</td>\n",
       "      <td>181.523701</td>\n",
       "      <td>32.303262</td>\n",
       "      <td>55362.108576</td>\n",
       "      <td>57911.352038</td>\n",
       "      <td>...</td>\n",
       "      <td>4350</td>\n",
       "      <td>[2048 2048]</td>\n",
       "      <td>[[-0.00076389, 0.0], [0.0, 0.00076389]]</td>\n",
       "      <td>[1. 1.]</td>\n",
       "      <td>[1024.48167699 1024.51643945]</td>\n",
       "      <td>[195.428964  28.774444]</td>\n",
       "      <td>['RA---TAN' 'DEC--TAN']</td>\n",
       "      <td>180.0</td>\n",
       "      <td>0.0</td>\n",
       "      <td>[0. 0.]</td>\n",
       "    </tr>\n",
       "  </tbody>\n",
       "</table>\n",
       "<p>5 rows × 26 columns</p>\n",
       "</div>"
      ],
      "text/plain": [
       "       COADD_ID          RA        DEC  BAND       LGAL       BGAL  \\\n",
       "index                                                                \n",
       "19754  1937p287  193.714674  28.774444     1  98.481008  88.188769   \n",
       "19755  1937p287  193.714674  28.774444     2  98.481008  88.188769   \n",
       "19814  1943p272  194.366938  27.260000     1  38.887949  88.652723   \n",
       "19815  1943p272  194.366938  27.260000     2  38.887949  88.652723   \n",
       "19926  1954p287  195.428964  28.774444     1  69.481284  87.196280   \n",
       "\n",
       "           LAMBDA       BETA        MJDMIN        MJDMAX  ...  N_CALIB  \\\n",
       "index                                                     ...            \n",
       "19754  179.945398  31.621434  55360.653106  57909.518881  ...     4510   \n",
       "19755  179.945398  31.621434  55360.653106  57909.518881  ...     3472   \n",
       "19814  181.342305  30.528859  55361.975890  57911.220752  ...     4529   \n",
       "19815  181.342305  30.528859  55361.975890  57911.220752  ...     3435   \n",
       "19926  181.523701  32.303262  55362.108576  57911.352038  ...     4350   \n",
       "\n",
       "             NAXIS                                       CD    CDELT  \\\n",
       "index                                                                  \n",
       "19754  [2048 2048]  [[-0.00076389, 0.0], [0.0, 0.00076389]]  [1. 1.]   \n",
       "19755  [2048 2048]  [[-0.00076389, 0.0], [0.0, 0.00076389]]  [1. 1.]   \n",
       "19814  [2048 2048]  [[-0.00076389, 0.0], [0.0, 0.00076389]]  [1. 1.]   \n",
       "19815  [2048 2048]  [[-0.00076389, 0.0], [0.0, 0.00076389]]  [1. 1.]   \n",
       "19926  [2048 2048]  [[-0.00076389, 0.0], [0.0, 0.00076389]]  [1. 1.]   \n",
       "\n",
       "                               CRPIX                    CRVAL  \\\n",
       "index                                                           \n",
       "19754  [1024.49846992 1024.51145099]  [193.714674  28.774444]   \n",
       "19755  [1024.49420039 1024.51875383]  [193.714674  28.774444]   \n",
       "19814  [1024.49908789 1024.4976329 ]  [194.366938  27.26    ]   \n",
       "19815  [1024.49400308 1024.5005147 ]  [194.366938  27.26    ]   \n",
       "19926  [1024.48167699 1024.51643945]  [195.428964  28.774444]   \n",
       "\n",
       "                         CTYPE LONGPOLE LATPOLE      PV2  \n",
       "index                                                     \n",
       "19754  ['RA---TAN' 'DEC--TAN']    180.0     0.0  [0. 0.]  \n",
       "19755  ['RA---TAN' 'DEC--TAN']    180.0     0.0  [0. 0.]  \n",
       "19814  ['RA---TAN' 'DEC--TAN']    180.0     0.0  [0. 0.]  \n",
       "19815  ['RA---TAN' 'DEC--TAN']    180.0     0.0  [0. 0.]  \n",
       "19926  ['RA---TAN' 'DEC--TAN']    180.0     0.0  [0. 0.]  \n",
       "\n",
       "[5 rows x 26 columns]"
      ]
     },
     "execution_count": 70,
     "metadata": {},
     "output_type": "execute_result"
    }
   ],
   "source": [
    "coma_wise_ind.head()"
   ]
  },
  {
   "cell_type": "code",
   "execution_count": 71,
   "metadata": {
    "ExecuteTime": {
     "end_time": "2020-07-15T10:48:28.834864Z",
     "start_time": "2020-07-15T10:48:28.811891Z"
    }
   },
   "outputs": [
    {
     "ename": "ValueError",
     "evalue": "Illegal value: array([[-0.00076389,  0.        ],\n       [ 0.        ,  0.00076389]], dtype=float32).",
     "output_type": "error",
     "traceback": [
      "\u001b[0;31m---------------------------------------------------------------------------\u001b[0m",
      "\u001b[0;31mValueError\u001b[0m                                Traceback (most recent call last)",
      "\u001b[0;32m<ipython-input-71-1372f545bd34>\u001b[0m in \u001b[0;36m<module>\u001b[0;34m\u001b[0m\n\u001b[0;32m----> 1\u001b[0;31m \u001b[0mheader\u001b[0m \u001b[0;34m=\u001b[0m \u001b[0mwcs\u001b[0m\u001b[0;34m.\u001b[0m\u001b[0mWCS\u001b[0m\u001b[0;34m(\u001b[0m\u001b[0mcoma_wise_ind\u001b[0m\u001b[0;34m.\u001b[0m\u001b[0miloc\u001b[0m\u001b[0;34m[\u001b[0m\u001b[0;34m-\u001b[0m\u001b[0;36m3\u001b[0m\u001b[0;34m]\u001b[0m\u001b[0;34m)\u001b[0m\u001b[0;34m\u001b[0m\u001b[0;34m\u001b[0m\u001b[0m\n\u001b[0m",
      "\u001b[0;32m~/anaconda3/lib/python3.7/site-packages/astropy/wcs/wcs.py\u001b[0m in \u001b[0;36m__init__\u001b[0;34m(self, header, fobj, key, minerr, relax, naxis, keysel, colsel, fix, translate_units, _do_set)\u001b[0m\n\u001b[1;32m    398\u001b[0m                     \u001b[0mheader\u001b[0m \u001b[0;34m=\u001b[0m \u001b[0mfits\u001b[0m\u001b[0;34m.\u001b[0m\u001b[0mHeader\u001b[0m\u001b[0;34m(\u001b[0m\u001b[0;34m)\u001b[0m\u001b[0;34m\u001b[0m\u001b[0;34m\u001b[0m\u001b[0m\n\u001b[1;32m    399\u001b[0m                     \u001b[0;32mfor\u001b[0m \u001b[0mdict_key\u001b[0m \u001b[0;32min\u001b[0m \u001b[0morig_header\u001b[0m\u001b[0;34m.\u001b[0m\u001b[0mkeys\u001b[0m\u001b[0;34m(\u001b[0m\u001b[0;34m)\u001b[0m\u001b[0;34m:\u001b[0m\u001b[0;34m\u001b[0m\u001b[0;34m\u001b[0m\u001b[0m\n\u001b[0;32m--> 400\u001b[0;31m                         \u001b[0mheader\u001b[0m\u001b[0;34m[\u001b[0m\u001b[0mdict_key\u001b[0m\u001b[0;34m]\u001b[0m \u001b[0;34m=\u001b[0m \u001b[0morig_header\u001b[0m\u001b[0;34m[\u001b[0m\u001b[0mdict_key\u001b[0m\u001b[0;34m]\u001b[0m\u001b[0;34m\u001b[0m\u001b[0;34m\u001b[0m\u001b[0m\n\u001b[0m\u001b[1;32m    401\u001b[0m                 \u001b[0;32mexcept\u001b[0m \u001b[0mTypeError\u001b[0m\u001b[0;34m:\u001b[0m\u001b[0;34m\u001b[0m\u001b[0;34m\u001b[0m\u001b[0m\n\u001b[1;32m    402\u001b[0m                     raise TypeError(\n",
      "\u001b[0;32m~/anaconda3/lib/python3.7/site-packages/astropy/io/fits/header.py\u001b[0m in \u001b[0;36m__setitem__\u001b[0;34m(self, key, value)\u001b[0m\n\u001b[1;32m    196\u001b[0m             \u001b[0;31m# If we get an IndexError that should be raised; we don't allow\u001b[0m\u001b[0;34m\u001b[0m\u001b[0;34m\u001b[0m\u001b[0;34m\u001b[0m\u001b[0m\n\u001b[1;32m    197\u001b[0m             \u001b[0;31m# assignment to non-existing indices\u001b[0m\u001b[0;34m\u001b[0m\u001b[0;34m\u001b[0m\u001b[0;34m\u001b[0m\u001b[0m\n\u001b[0;32m--> 198\u001b[0;31m             \u001b[0mself\u001b[0m\u001b[0;34m.\u001b[0m\u001b[0m_update\u001b[0m\u001b[0;34m(\u001b[0m\u001b[0;34m(\u001b[0m\u001b[0mkey\u001b[0m\u001b[0;34m,\u001b[0m \u001b[0mvalue\u001b[0m\u001b[0;34m,\u001b[0m \u001b[0mcomment\u001b[0m\u001b[0;34m)\u001b[0m\u001b[0;34m)\u001b[0m\u001b[0;34m\u001b[0m\u001b[0;34m\u001b[0m\u001b[0m\n\u001b[0m\u001b[1;32m    199\u001b[0m \u001b[0;34m\u001b[0m\u001b[0m\n\u001b[1;32m    200\u001b[0m     \u001b[0;32mdef\u001b[0m \u001b[0m__delitem__\u001b[0m\u001b[0;34m(\u001b[0m\u001b[0mself\u001b[0m\u001b[0;34m,\u001b[0m \u001b[0mkey\u001b[0m\u001b[0;34m)\u001b[0m\u001b[0;34m:\u001b[0m\u001b[0;34m\u001b[0m\u001b[0;34m\u001b[0m\u001b[0m\n",
      "\u001b[0;32m~/anaconda3/lib/python3.7/site-packages/astropy/io/fits/header.py\u001b[0m in \u001b[0;36m_update\u001b[0;34m(self, card)\u001b[0m\n\u001b[1;32m   1661\u001b[0m         \u001b[0;32melse\u001b[0m\u001b[0;34m:\u001b[0m\u001b[0;34m\u001b[0m\u001b[0;34m\u001b[0m\u001b[0m\n\u001b[1;32m   1662\u001b[0m             \u001b[0;31m# A new keyword! self.append() will handle updating _modified\u001b[0m\u001b[0;34m\u001b[0m\u001b[0;34m\u001b[0m\u001b[0;34m\u001b[0m\u001b[0m\n\u001b[0;32m-> 1663\u001b[0;31m             \u001b[0mself\u001b[0m\u001b[0;34m.\u001b[0m\u001b[0mappend\u001b[0m\u001b[0;34m(\u001b[0m\u001b[0mcard\u001b[0m\u001b[0;34m)\u001b[0m\u001b[0;34m\u001b[0m\u001b[0;34m\u001b[0m\u001b[0m\n\u001b[0m\u001b[1;32m   1664\u001b[0m \u001b[0;34m\u001b[0m\u001b[0m\n\u001b[1;32m   1665\u001b[0m     \u001b[0;32mdef\u001b[0m \u001b[0m_cardindex\u001b[0m\u001b[0;34m(\u001b[0m\u001b[0mself\u001b[0m\u001b[0;34m,\u001b[0m \u001b[0mkey\u001b[0m\u001b[0;34m)\u001b[0m\u001b[0;34m:\u001b[0m\u001b[0;34m\u001b[0m\u001b[0;34m\u001b[0m\u001b[0m\n",
      "\u001b[0;32m~/anaconda3/lib/python3.7/site-packages/astropy/io/fits/header.py\u001b[0m in \u001b[0;36mappend\u001b[0;34m(self, card, useblanks, bottom, end)\u001b[0m\n\u001b[1;32m   1193\u001b[0m             \u001b[0mcard\u001b[0m \u001b[0;34m=\u001b[0m \u001b[0mCard\u001b[0m\u001b[0;34m(\u001b[0m\u001b[0mcard\u001b[0m\u001b[0;34m)\u001b[0m\u001b[0;34m\u001b[0m\u001b[0;34m\u001b[0m\u001b[0m\n\u001b[1;32m   1194\u001b[0m         \u001b[0;32melif\u001b[0m \u001b[0misinstance\u001b[0m\u001b[0;34m(\u001b[0m\u001b[0mcard\u001b[0m\u001b[0;34m,\u001b[0m \u001b[0mtuple\u001b[0m\u001b[0;34m)\u001b[0m\u001b[0;34m:\u001b[0m\u001b[0;34m\u001b[0m\u001b[0;34m\u001b[0m\u001b[0m\n\u001b[0;32m-> 1195\u001b[0;31m             \u001b[0mcard\u001b[0m \u001b[0;34m=\u001b[0m \u001b[0mCard\u001b[0m\u001b[0;34m(\u001b[0m\u001b[0;34m*\u001b[0m\u001b[0mcard\u001b[0m\u001b[0;34m)\u001b[0m\u001b[0;34m\u001b[0m\u001b[0;34m\u001b[0m\u001b[0m\n\u001b[0m\u001b[1;32m   1196\u001b[0m         \u001b[0;32melif\u001b[0m \u001b[0mcard\u001b[0m \u001b[0;32mis\u001b[0m \u001b[0;32mNone\u001b[0m\u001b[0;34m:\u001b[0m\u001b[0;34m\u001b[0m\u001b[0;34m\u001b[0m\u001b[0m\n\u001b[1;32m   1197\u001b[0m             \u001b[0mcard\u001b[0m \u001b[0;34m=\u001b[0m \u001b[0mCard\u001b[0m\u001b[0;34m(\u001b[0m\u001b[0;34m)\u001b[0m\u001b[0;34m\u001b[0m\u001b[0;34m\u001b[0m\u001b[0m\n",
      "\u001b[0;32m~/anaconda3/lib/python3.7/site-packages/astropy/io/fits/card.py\u001b[0m in \u001b[0;36m__init__\u001b[0;34m(self, keyword, value, comment, **kwargs)\u001b[0m\n\u001b[1;32m    191\u001b[0m                 \u001b[0mself\u001b[0m\u001b[0;34m.\u001b[0m\u001b[0mkeyword\u001b[0m \u001b[0;34m=\u001b[0m \u001b[0mkeyword\u001b[0m\u001b[0;34m\u001b[0m\u001b[0;34m\u001b[0m\u001b[0m\n\u001b[1;32m    192\u001b[0m             \u001b[0;32mif\u001b[0m \u001b[0mvalue\u001b[0m \u001b[0;32mis\u001b[0m \u001b[0;32mnot\u001b[0m \u001b[0;32mNone\u001b[0m\u001b[0;34m:\u001b[0m\u001b[0;34m\u001b[0m\u001b[0;34m\u001b[0m\u001b[0m\n\u001b[0;32m--> 193\u001b[0;31m                 \u001b[0mself\u001b[0m\u001b[0;34m.\u001b[0m\u001b[0mvalue\u001b[0m \u001b[0;34m=\u001b[0m \u001b[0mvalue\u001b[0m\u001b[0;34m\u001b[0m\u001b[0;34m\u001b[0m\u001b[0m\n\u001b[0m\u001b[1;32m    194\u001b[0m \u001b[0;34m\u001b[0m\u001b[0m\n\u001b[1;32m    195\u001b[0m         \u001b[0;32mif\u001b[0m \u001b[0mcomment\u001b[0m \u001b[0;32mis\u001b[0m \u001b[0;32mnot\u001b[0m \u001b[0;32mNone\u001b[0m\u001b[0;34m:\u001b[0m\u001b[0;34m\u001b[0m\u001b[0;34m\u001b[0m\u001b[0m\n",
      "\u001b[0;32m~/anaconda3/lib/python3.7/site-packages/astropy/io/fits/card.py\u001b[0m in \u001b[0;36mvalue\u001b[0;34m(self, value)\u001b[0m\n\u001b[1;32m    319\u001b[0m                            \u001b[0mnp\u001b[0m\u001b[0;34m.\u001b[0m\u001b[0mfloating\u001b[0m\u001b[0;34m,\u001b[0m \u001b[0mnp\u001b[0m\u001b[0;34m.\u001b[0m\u001b[0minteger\u001b[0m\u001b[0;34m,\u001b[0m \u001b[0mnp\u001b[0m\u001b[0;34m.\u001b[0m\u001b[0mcomplexfloating\u001b[0m\u001b[0;34m,\u001b[0m\u001b[0;34m\u001b[0m\u001b[0;34m\u001b[0m\u001b[0m\n\u001b[1;32m    320\u001b[0m                            np.bool_)):\n\u001b[0;32m--> 321\u001b[0;31m             \u001b[0;32mraise\u001b[0m \u001b[0mValueError\u001b[0m\u001b[0;34m(\u001b[0m\u001b[0;34mf'Illegal value: {value!r}.'\u001b[0m\u001b[0;34m)\u001b[0m\u001b[0;34m\u001b[0m\u001b[0;34m\u001b[0m\u001b[0m\n\u001b[0m\u001b[1;32m    322\u001b[0m \u001b[0;34m\u001b[0m\u001b[0m\n\u001b[1;32m    323\u001b[0m         \u001b[0;32mif\u001b[0m \u001b[0misinstance\u001b[0m\u001b[0;34m(\u001b[0m\u001b[0mvalue\u001b[0m\u001b[0;34m,\u001b[0m \u001b[0mfloat\u001b[0m\u001b[0;34m)\u001b[0m \u001b[0;32mand\u001b[0m \u001b[0;34m(\u001b[0m\u001b[0mnp\u001b[0m\u001b[0;34m.\u001b[0m\u001b[0misnan\u001b[0m\u001b[0;34m(\u001b[0m\u001b[0mvalue\u001b[0m\u001b[0;34m)\u001b[0m \u001b[0;32mor\u001b[0m \u001b[0mnp\u001b[0m\u001b[0;34m.\u001b[0m\u001b[0misinf\u001b[0m\u001b[0;34m(\u001b[0m\u001b[0mvalue\u001b[0m\u001b[0;34m)\u001b[0m\u001b[0;34m)\u001b[0m\u001b[0;34m:\u001b[0m\u001b[0;34m\u001b[0m\u001b[0;34m\u001b[0m\u001b[0m\n",
      "\u001b[0;31mValueError\u001b[0m: Illegal value: array([[-0.00076389,  0.        ],\n       [ 0.        ,  0.00076389]], dtype=float32)."
     ]
    }
   ],
   "source": [
    "header = wcs.WCS(coma_wise_ind.iloc[-3])"
   ]
  },
  {
   "cell_type": "code",
   "execution_count": 73,
   "metadata": {
    "ExecuteTime": {
     "end_time": "2020-07-15T10:50:09.657704Z",
     "start_time": "2020-07-15T10:50:09.647490Z"
    }
   },
   "outputs": [
    {
     "name": "stderr",
     "output_type": "stream",
     "text": [
      "/home/rt2122/anaconda3/lib/python3.7/site-packages/pandas/core/indexing.py:670: SettingWithCopyWarning: \n",
      "A value is trying to be set on a copy of a slice from a DataFrame\n",
      "\n",
      "See the caveats in the documentation: https://pandas.pydata.org/pandas-docs/stable/user_guide/indexing.html#returning-a-view-versus-a-copy\n",
      "  self._setitem_with_indexer(indexer, value)\n"
     ]
    }
   ],
   "source": [
    "for i in range(coma_wise_ind.shape[0]):\n",
    "    arr = coma_wise_ind['CD'].iloc[i]\n",
    "    coma_wise_ind['CD'].iloc[i] = [list(arr[0]), list(arr[1])]"
   ]
  },
  {
   "cell_type": "code",
   "execution_count": 74,
   "metadata": {
    "ExecuteTime": {
     "end_time": "2020-07-15T10:50:17.802415Z",
     "start_time": "2020-07-15T10:50:17.747671Z"
    }
   },
   "outputs": [
    {
     "data": {
      "text/html": [
       "<div>\n",
       "<style scoped>\n",
       "    .dataframe tbody tr th:only-of-type {\n",
       "        vertical-align: middle;\n",
       "    }\n",
       "\n",
       "    .dataframe tbody tr th {\n",
       "        vertical-align: top;\n",
       "    }\n",
       "\n",
       "    .dataframe thead th {\n",
       "        text-align: right;\n",
       "    }\n",
       "</style>\n",
       "<table border=\"1\" class=\"dataframe\">\n",
       "  <thead>\n",
       "    <tr style=\"text-align: right;\">\n",
       "      <th></th>\n",
       "      <th>COADD_ID</th>\n",
       "      <th>RA</th>\n",
       "      <th>DEC</th>\n",
       "      <th>BAND</th>\n",
       "      <th>LGAL</th>\n",
       "      <th>BGAL</th>\n",
       "      <th>LAMBDA</th>\n",
       "      <th>BETA</th>\n",
       "      <th>MJDMIN</th>\n",
       "      <th>MJDMAX</th>\n",
       "      <th>...</th>\n",
       "      <th>N_CALIB</th>\n",
       "      <th>NAXIS</th>\n",
       "      <th>CD</th>\n",
       "      <th>CDELT</th>\n",
       "      <th>CRPIX</th>\n",
       "      <th>CRVAL</th>\n",
       "      <th>CTYPE</th>\n",
       "      <th>LONGPOLE</th>\n",
       "      <th>LATPOLE</th>\n",
       "      <th>PV2</th>\n",
       "    </tr>\n",
       "    <tr>\n",
       "      <th>index</th>\n",
       "      <th></th>\n",
       "      <th></th>\n",
       "      <th></th>\n",
       "      <th></th>\n",
       "      <th></th>\n",
       "      <th></th>\n",
       "      <th></th>\n",
       "      <th></th>\n",
       "      <th></th>\n",
       "      <th></th>\n",
       "      <th></th>\n",
       "      <th></th>\n",
       "      <th></th>\n",
       "      <th></th>\n",
       "      <th></th>\n",
       "      <th></th>\n",
       "      <th></th>\n",
       "      <th></th>\n",
       "      <th></th>\n",
       "      <th></th>\n",
       "      <th></th>\n",
       "    </tr>\n",
       "  </thead>\n",
       "  <tbody>\n",
       "    <tr>\n",
       "      <th>19754</th>\n",
       "      <td>1937p287</td>\n",
       "      <td>193.714674</td>\n",
       "      <td>28.774444</td>\n",
       "      <td>1</td>\n",
       "      <td>98.481008</td>\n",
       "      <td>88.188769</td>\n",
       "      <td>179.945398</td>\n",
       "      <td>31.621434</td>\n",
       "      <td>55360.653106</td>\n",
       "      <td>57909.518881</td>\n",
       "      <td>...</td>\n",
       "      <td>4510</td>\n",
       "      <td>[2048 2048]</td>\n",
       "      <td>[[-0.00076389, 0.0], [0.0, 0.00076389]]</td>\n",
       "      <td>[1. 1.]</td>\n",
       "      <td>[1024.49846992 1024.51145099]</td>\n",
       "      <td>[193.714674  28.774444]</td>\n",
       "      <td>['RA---TAN' 'DEC--TAN']</td>\n",
       "      <td>180.0</td>\n",
       "      <td>0.0</td>\n",
       "      <td>[0. 0.]</td>\n",
       "    </tr>\n",
       "    <tr>\n",
       "      <th>19755</th>\n",
       "      <td>1937p287</td>\n",
       "      <td>193.714674</td>\n",
       "      <td>28.774444</td>\n",
       "      <td>2</td>\n",
       "      <td>98.481008</td>\n",
       "      <td>88.188769</td>\n",
       "      <td>179.945398</td>\n",
       "      <td>31.621434</td>\n",
       "      <td>55360.653106</td>\n",
       "      <td>57909.518881</td>\n",
       "      <td>...</td>\n",
       "      <td>3472</td>\n",
       "      <td>[2048 2048]</td>\n",
       "      <td>[[-0.00076389, 0.0], [0.0, 0.00076389]]</td>\n",
       "      <td>[1. 1.]</td>\n",
       "      <td>[1024.49420039 1024.51875383]</td>\n",
       "      <td>[193.714674  28.774444]</td>\n",
       "      <td>['RA---TAN' 'DEC--TAN']</td>\n",
       "      <td>180.0</td>\n",
       "      <td>0.0</td>\n",
       "      <td>[0. 0.]</td>\n",
       "    </tr>\n",
       "    <tr>\n",
       "      <th>19814</th>\n",
       "      <td>1943p272</td>\n",
       "      <td>194.366938</td>\n",
       "      <td>27.260000</td>\n",
       "      <td>1</td>\n",
       "      <td>38.887949</td>\n",
       "      <td>88.652723</td>\n",
       "      <td>181.342305</td>\n",
       "      <td>30.528859</td>\n",
       "      <td>55361.975890</td>\n",
       "      <td>57911.220752</td>\n",
       "      <td>...</td>\n",
       "      <td>4529</td>\n",
       "      <td>[2048 2048]</td>\n",
       "      <td>[[-0.00076389, 0.0], [0.0, 0.00076389]]</td>\n",
       "      <td>[1. 1.]</td>\n",
       "      <td>[1024.49908789 1024.4976329 ]</td>\n",
       "      <td>[194.366938  27.26    ]</td>\n",
       "      <td>['RA---TAN' 'DEC--TAN']</td>\n",
       "      <td>180.0</td>\n",
       "      <td>0.0</td>\n",
       "      <td>[0. 0.]</td>\n",
       "    </tr>\n",
       "    <tr>\n",
       "      <th>19815</th>\n",
       "      <td>1943p272</td>\n",
       "      <td>194.366938</td>\n",
       "      <td>27.260000</td>\n",
       "      <td>2</td>\n",
       "      <td>38.887949</td>\n",
       "      <td>88.652723</td>\n",
       "      <td>181.342305</td>\n",
       "      <td>30.528859</td>\n",
       "      <td>55361.975890</td>\n",
       "      <td>57911.220752</td>\n",
       "      <td>...</td>\n",
       "      <td>3435</td>\n",
       "      <td>[2048 2048]</td>\n",
       "      <td>[[-0.00076389, 0.0], [0.0, 0.00076389]]</td>\n",
       "      <td>[1. 1.]</td>\n",
       "      <td>[1024.49400308 1024.5005147 ]</td>\n",
       "      <td>[194.366938  27.26    ]</td>\n",
       "      <td>['RA---TAN' 'DEC--TAN']</td>\n",
       "      <td>180.0</td>\n",
       "      <td>0.0</td>\n",
       "      <td>[0. 0.]</td>\n",
       "    </tr>\n",
       "    <tr>\n",
       "      <th>19926</th>\n",
       "      <td>1954p287</td>\n",
       "      <td>195.428964</td>\n",
       "      <td>28.774444</td>\n",
       "      <td>1</td>\n",
       "      <td>69.481284</td>\n",
       "      <td>87.196280</td>\n",
       "      <td>181.523701</td>\n",
       "      <td>32.303262</td>\n",
       "      <td>55362.108576</td>\n",
       "      <td>57911.352038</td>\n",
       "      <td>...</td>\n",
       "      <td>4350</td>\n",
       "      <td>[2048 2048]</td>\n",
       "      <td>[[-0.00076389, 0.0], [0.0, 0.00076389]]</td>\n",
       "      <td>[1. 1.]</td>\n",
       "      <td>[1024.48167699 1024.51643945]</td>\n",
       "      <td>[195.428964  28.774444]</td>\n",
       "      <td>['RA---TAN' 'DEC--TAN']</td>\n",
       "      <td>180.0</td>\n",
       "      <td>0.0</td>\n",
       "      <td>[0. 0.]</td>\n",
       "    </tr>\n",
       "  </tbody>\n",
       "</table>\n",
       "<p>5 rows × 26 columns</p>\n",
       "</div>"
      ],
      "text/plain": [
       "       COADD_ID          RA        DEC  BAND       LGAL       BGAL  \\\n",
       "index                                                                \n",
       "19754  1937p287  193.714674  28.774444     1  98.481008  88.188769   \n",
       "19755  1937p287  193.714674  28.774444     2  98.481008  88.188769   \n",
       "19814  1943p272  194.366938  27.260000     1  38.887949  88.652723   \n",
       "19815  1943p272  194.366938  27.260000     2  38.887949  88.652723   \n",
       "19926  1954p287  195.428964  28.774444     1  69.481284  87.196280   \n",
       "\n",
       "           LAMBDA       BETA        MJDMIN        MJDMAX  ...  N_CALIB  \\\n",
       "index                                                     ...            \n",
       "19754  179.945398  31.621434  55360.653106  57909.518881  ...     4510   \n",
       "19755  179.945398  31.621434  55360.653106  57909.518881  ...     3472   \n",
       "19814  181.342305  30.528859  55361.975890  57911.220752  ...     4529   \n",
       "19815  181.342305  30.528859  55361.975890  57911.220752  ...     3435   \n",
       "19926  181.523701  32.303262  55362.108576  57911.352038  ...     4350   \n",
       "\n",
       "             NAXIS                                       CD    CDELT  \\\n",
       "index                                                                  \n",
       "19754  [2048 2048]  [[-0.00076389, 0.0], [0.0, 0.00076389]]  [1. 1.]   \n",
       "19755  [2048 2048]  [[-0.00076389, 0.0], [0.0, 0.00076389]]  [1. 1.]   \n",
       "19814  [2048 2048]  [[-0.00076389, 0.0], [0.0, 0.00076389]]  [1. 1.]   \n",
       "19815  [2048 2048]  [[-0.00076389, 0.0], [0.0, 0.00076389]]  [1. 1.]   \n",
       "19926  [2048 2048]  [[-0.00076389, 0.0], [0.0, 0.00076389]]  [1. 1.]   \n",
       "\n",
       "                               CRPIX                    CRVAL  \\\n",
       "index                                                           \n",
       "19754  [1024.49846992 1024.51145099]  [193.714674  28.774444]   \n",
       "19755  [1024.49420039 1024.51875383]  [193.714674  28.774444]   \n",
       "19814  [1024.49908789 1024.4976329 ]  [194.366938  27.26    ]   \n",
       "19815  [1024.49400308 1024.5005147 ]  [194.366938  27.26    ]   \n",
       "19926  [1024.48167699 1024.51643945]  [195.428964  28.774444]   \n",
       "\n",
       "                         CTYPE LONGPOLE LATPOLE      PV2  \n",
       "index                                                     \n",
       "19754  ['RA---TAN' 'DEC--TAN']    180.0     0.0  [0. 0.]  \n",
       "19755  ['RA---TAN' 'DEC--TAN']    180.0     0.0  [0. 0.]  \n",
       "19814  ['RA---TAN' 'DEC--TAN']    180.0     0.0  [0. 0.]  \n",
       "19815  ['RA---TAN' 'DEC--TAN']    180.0     0.0  [0. 0.]  \n",
       "19926  ['RA---TAN' 'DEC--TAN']    180.0     0.0  [0. 0.]  \n",
       "\n",
       "[5 rows x 26 columns]"
      ]
     },
     "execution_count": 74,
     "metadata": {},
     "output_type": "execute_result"
    }
   ],
   "source": [
    "coma_wise_ind.head()"
   ]
  },
  {
   "cell_type": "code",
   "execution_count": 75,
   "metadata": {
    "ExecuteTime": {
     "end_time": "2020-07-15T10:50:29.628791Z",
     "start_time": "2020-07-15T10:50:29.603417Z"
    }
   },
   "outputs": [
    {
     "ename": "ValueError",
     "evalue": "Illegal value: [[-0.00076389, 0.0], [0.0, 0.00076389]].",
     "output_type": "error",
     "traceback": [
      "\u001b[0;31m---------------------------------------------------------------------------\u001b[0m",
      "\u001b[0;31mValueError\u001b[0m                                Traceback (most recent call last)",
      "\u001b[0;32m<ipython-input-75-1372f545bd34>\u001b[0m in \u001b[0;36m<module>\u001b[0;34m\u001b[0m\n\u001b[0;32m----> 1\u001b[0;31m \u001b[0mheader\u001b[0m \u001b[0;34m=\u001b[0m \u001b[0mwcs\u001b[0m\u001b[0;34m.\u001b[0m\u001b[0mWCS\u001b[0m\u001b[0;34m(\u001b[0m\u001b[0mcoma_wise_ind\u001b[0m\u001b[0;34m.\u001b[0m\u001b[0miloc\u001b[0m\u001b[0;34m[\u001b[0m\u001b[0;34m-\u001b[0m\u001b[0;36m3\u001b[0m\u001b[0;34m]\u001b[0m\u001b[0;34m)\u001b[0m\u001b[0;34m\u001b[0m\u001b[0;34m\u001b[0m\u001b[0m\n\u001b[0m",
      "\u001b[0;32m~/anaconda3/lib/python3.7/site-packages/astropy/wcs/wcs.py\u001b[0m in \u001b[0;36m__init__\u001b[0;34m(self, header, fobj, key, minerr, relax, naxis, keysel, colsel, fix, translate_units, _do_set)\u001b[0m\n\u001b[1;32m    398\u001b[0m                     \u001b[0mheader\u001b[0m \u001b[0;34m=\u001b[0m \u001b[0mfits\u001b[0m\u001b[0;34m.\u001b[0m\u001b[0mHeader\u001b[0m\u001b[0;34m(\u001b[0m\u001b[0;34m)\u001b[0m\u001b[0;34m\u001b[0m\u001b[0;34m\u001b[0m\u001b[0m\n\u001b[1;32m    399\u001b[0m                     \u001b[0;32mfor\u001b[0m \u001b[0mdict_key\u001b[0m \u001b[0;32min\u001b[0m \u001b[0morig_header\u001b[0m\u001b[0;34m.\u001b[0m\u001b[0mkeys\u001b[0m\u001b[0;34m(\u001b[0m\u001b[0;34m)\u001b[0m\u001b[0;34m:\u001b[0m\u001b[0;34m\u001b[0m\u001b[0;34m\u001b[0m\u001b[0m\n\u001b[0;32m--> 400\u001b[0;31m                         \u001b[0mheader\u001b[0m\u001b[0;34m[\u001b[0m\u001b[0mdict_key\u001b[0m\u001b[0;34m]\u001b[0m \u001b[0;34m=\u001b[0m \u001b[0morig_header\u001b[0m\u001b[0;34m[\u001b[0m\u001b[0mdict_key\u001b[0m\u001b[0;34m]\u001b[0m\u001b[0;34m\u001b[0m\u001b[0;34m\u001b[0m\u001b[0m\n\u001b[0m\u001b[1;32m    401\u001b[0m                 \u001b[0;32mexcept\u001b[0m \u001b[0mTypeError\u001b[0m\u001b[0;34m:\u001b[0m\u001b[0;34m\u001b[0m\u001b[0;34m\u001b[0m\u001b[0m\n\u001b[1;32m    402\u001b[0m                     raise TypeError(\n",
      "\u001b[0;32m~/anaconda3/lib/python3.7/site-packages/astropy/io/fits/header.py\u001b[0m in \u001b[0;36m__setitem__\u001b[0;34m(self, key, value)\u001b[0m\n\u001b[1;32m    196\u001b[0m             \u001b[0;31m# If we get an IndexError that should be raised; we don't allow\u001b[0m\u001b[0;34m\u001b[0m\u001b[0;34m\u001b[0m\u001b[0;34m\u001b[0m\u001b[0m\n\u001b[1;32m    197\u001b[0m             \u001b[0;31m# assignment to non-existing indices\u001b[0m\u001b[0;34m\u001b[0m\u001b[0;34m\u001b[0m\u001b[0;34m\u001b[0m\u001b[0m\n\u001b[0;32m--> 198\u001b[0;31m             \u001b[0mself\u001b[0m\u001b[0;34m.\u001b[0m\u001b[0m_update\u001b[0m\u001b[0;34m(\u001b[0m\u001b[0;34m(\u001b[0m\u001b[0mkey\u001b[0m\u001b[0;34m,\u001b[0m \u001b[0mvalue\u001b[0m\u001b[0;34m,\u001b[0m \u001b[0mcomment\u001b[0m\u001b[0;34m)\u001b[0m\u001b[0;34m)\u001b[0m\u001b[0;34m\u001b[0m\u001b[0;34m\u001b[0m\u001b[0m\n\u001b[0m\u001b[1;32m    199\u001b[0m \u001b[0;34m\u001b[0m\u001b[0m\n\u001b[1;32m    200\u001b[0m     \u001b[0;32mdef\u001b[0m \u001b[0m__delitem__\u001b[0m\u001b[0;34m(\u001b[0m\u001b[0mself\u001b[0m\u001b[0;34m,\u001b[0m \u001b[0mkey\u001b[0m\u001b[0;34m)\u001b[0m\u001b[0;34m:\u001b[0m\u001b[0;34m\u001b[0m\u001b[0;34m\u001b[0m\u001b[0m\n",
      "\u001b[0;32m~/anaconda3/lib/python3.7/site-packages/astropy/io/fits/header.py\u001b[0m in \u001b[0;36m_update\u001b[0;34m(self, card)\u001b[0m\n\u001b[1;32m   1661\u001b[0m         \u001b[0;32melse\u001b[0m\u001b[0;34m:\u001b[0m\u001b[0;34m\u001b[0m\u001b[0;34m\u001b[0m\u001b[0m\n\u001b[1;32m   1662\u001b[0m             \u001b[0;31m# A new keyword! self.append() will handle updating _modified\u001b[0m\u001b[0;34m\u001b[0m\u001b[0;34m\u001b[0m\u001b[0;34m\u001b[0m\u001b[0m\n\u001b[0;32m-> 1663\u001b[0;31m             \u001b[0mself\u001b[0m\u001b[0;34m.\u001b[0m\u001b[0mappend\u001b[0m\u001b[0;34m(\u001b[0m\u001b[0mcard\u001b[0m\u001b[0;34m)\u001b[0m\u001b[0;34m\u001b[0m\u001b[0;34m\u001b[0m\u001b[0m\n\u001b[0m\u001b[1;32m   1664\u001b[0m \u001b[0;34m\u001b[0m\u001b[0m\n\u001b[1;32m   1665\u001b[0m     \u001b[0;32mdef\u001b[0m \u001b[0m_cardindex\u001b[0m\u001b[0;34m(\u001b[0m\u001b[0mself\u001b[0m\u001b[0;34m,\u001b[0m \u001b[0mkey\u001b[0m\u001b[0;34m)\u001b[0m\u001b[0;34m:\u001b[0m\u001b[0;34m\u001b[0m\u001b[0;34m\u001b[0m\u001b[0m\n",
      "\u001b[0;32m~/anaconda3/lib/python3.7/site-packages/astropy/io/fits/header.py\u001b[0m in \u001b[0;36mappend\u001b[0;34m(self, card, useblanks, bottom, end)\u001b[0m\n\u001b[1;32m   1193\u001b[0m             \u001b[0mcard\u001b[0m \u001b[0;34m=\u001b[0m \u001b[0mCard\u001b[0m\u001b[0;34m(\u001b[0m\u001b[0mcard\u001b[0m\u001b[0;34m)\u001b[0m\u001b[0;34m\u001b[0m\u001b[0;34m\u001b[0m\u001b[0m\n\u001b[1;32m   1194\u001b[0m         \u001b[0;32melif\u001b[0m \u001b[0misinstance\u001b[0m\u001b[0;34m(\u001b[0m\u001b[0mcard\u001b[0m\u001b[0;34m,\u001b[0m \u001b[0mtuple\u001b[0m\u001b[0;34m)\u001b[0m\u001b[0;34m:\u001b[0m\u001b[0;34m\u001b[0m\u001b[0;34m\u001b[0m\u001b[0m\n\u001b[0;32m-> 1195\u001b[0;31m             \u001b[0mcard\u001b[0m \u001b[0;34m=\u001b[0m \u001b[0mCard\u001b[0m\u001b[0;34m(\u001b[0m\u001b[0;34m*\u001b[0m\u001b[0mcard\u001b[0m\u001b[0;34m)\u001b[0m\u001b[0;34m\u001b[0m\u001b[0;34m\u001b[0m\u001b[0m\n\u001b[0m\u001b[1;32m   1196\u001b[0m         \u001b[0;32melif\u001b[0m \u001b[0mcard\u001b[0m \u001b[0;32mis\u001b[0m \u001b[0;32mNone\u001b[0m\u001b[0;34m:\u001b[0m\u001b[0;34m\u001b[0m\u001b[0;34m\u001b[0m\u001b[0m\n\u001b[1;32m   1197\u001b[0m             \u001b[0mcard\u001b[0m \u001b[0;34m=\u001b[0m \u001b[0mCard\u001b[0m\u001b[0;34m(\u001b[0m\u001b[0;34m)\u001b[0m\u001b[0;34m\u001b[0m\u001b[0;34m\u001b[0m\u001b[0m\n",
      "\u001b[0;32m~/anaconda3/lib/python3.7/site-packages/astropy/io/fits/card.py\u001b[0m in \u001b[0;36m__init__\u001b[0;34m(self, keyword, value, comment, **kwargs)\u001b[0m\n\u001b[1;32m    191\u001b[0m                 \u001b[0mself\u001b[0m\u001b[0;34m.\u001b[0m\u001b[0mkeyword\u001b[0m \u001b[0;34m=\u001b[0m \u001b[0mkeyword\u001b[0m\u001b[0;34m\u001b[0m\u001b[0;34m\u001b[0m\u001b[0m\n\u001b[1;32m    192\u001b[0m             \u001b[0;32mif\u001b[0m \u001b[0mvalue\u001b[0m \u001b[0;32mis\u001b[0m \u001b[0;32mnot\u001b[0m \u001b[0;32mNone\u001b[0m\u001b[0;34m:\u001b[0m\u001b[0;34m\u001b[0m\u001b[0;34m\u001b[0m\u001b[0m\n\u001b[0;32m--> 193\u001b[0;31m                 \u001b[0mself\u001b[0m\u001b[0;34m.\u001b[0m\u001b[0mvalue\u001b[0m \u001b[0;34m=\u001b[0m \u001b[0mvalue\u001b[0m\u001b[0;34m\u001b[0m\u001b[0;34m\u001b[0m\u001b[0m\n\u001b[0m\u001b[1;32m    194\u001b[0m \u001b[0;34m\u001b[0m\u001b[0m\n\u001b[1;32m    195\u001b[0m         \u001b[0;32mif\u001b[0m \u001b[0mcomment\u001b[0m \u001b[0;32mis\u001b[0m \u001b[0;32mnot\u001b[0m \u001b[0;32mNone\u001b[0m\u001b[0;34m:\u001b[0m\u001b[0;34m\u001b[0m\u001b[0;34m\u001b[0m\u001b[0m\n",
      "\u001b[0;32m~/anaconda3/lib/python3.7/site-packages/astropy/io/fits/card.py\u001b[0m in \u001b[0;36mvalue\u001b[0;34m(self, value)\u001b[0m\n\u001b[1;32m    319\u001b[0m                            \u001b[0mnp\u001b[0m\u001b[0;34m.\u001b[0m\u001b[0mfloating\u001b[0m\u001b[0;34m,\u001b[0m \u001b[0mnp\u001b[0m\u001b[0;34m.\u001b[0m\u001b[0minteger\u001b[0m\u001b[0;34m,\u001b[0m \u001b[0mnp\u001b[0m\u001b[0;34m.\u001b[0m\u001b[0mcomplexfloating\u001b[0m\u001b[0;34m,\u001b[0m\u001b[0;34m\u001b[0m\u001b[0;34m\u001b[0m\u001b[0m\n\u001b[1;32m    320\u001b[0m                            np.bool_)):\n\u001b[0;32m--> 321\u001b[0;31m             \u001b[0;32mraise\u001b[0m \u001b[0mValueError\u001b[0m\u001b[0;34m(\u001b[0m\u001b[0;34mf'Illegal value: {value!r}.'\u001b[0m\u001b[0;34m)\u001b[0m\u001b[0;34m\u001b[0m\u001b[0;34m\u001b[0m\u001b[0m\n\u001b[0m\u001b[1;32m    322\u001b[0m \u001b[0;34m\u001b[0m\u001b[0m\n\u001b[1;32m    323\u001b[0m         \u001b[0;32mif\u001b[0m \u001b[0misinstance\u001b[0m\u001b[0;34m(\u001b[0m\u001b[0mvalue\u001b[0m\u001b[0;34m,\u001b[0m \u001b[0mfloat\u001b[0m\u001b[0;34m)\u001b[0m \u001b[0;32mand\u001b[0m \u001b[0;34m(\u001b[0m\u001b[0mnp\u001b[0m\u001b[0;34m.\u001b[0m\u001b[0misnan\u001b[0m\u001b[0;34m(\u001b[0m\u001b[0mvalue\u001b[0m\u001b[0;34m)\u001b[0m \u001b[0;32mor\u001b[0m \u001b[0mnp\u001b[0m\u001b[0;34m.\u001b[0m\u001b[0misinf\u001b[0m\u001b[0;34m(\u001b[0m\u001b[0mvalue\u001b[0m\u001b[0;34m)\u001b[0m\u001b[0;34m)\u001b[0m\u001b[0;34m:\u001b[0m\u001b[0;34m\u001b[0m\u001b[0;34m\u001b[0m\u001b[0m\n",
      "\u001b[0;31mValueError\u001b[0m: Illegal value: [[-0.00076389, 0.0], [0.0, 0.00076389]]."
     ]
    }
   ],
   "source": [
    "header = wcs.WCS(coma_wise_ind.iloc[-3])"
   ]
  },
  {
   "cell_type": "code",
   "execution_count": 2,
   "metadata": {
    "ExecuteTime": {
     "end_time": "2020-07-15T11:47:38.551295Z",
     "start_time": "2020-07-15T11:47:38.541934Z"
    }
   },
   "outputs": [],
   "source": [
    "hdul = fits.open('/home/rt2122/Data/fulldepth_neo4_index.fits')"
   ]
  },
  {
   "cell_type": "code",
   "execution_count": 7,
   "metadata": {
    "ExecuteTime": {
     "end_time": "2020-07-15T11:52:33.409275Z",
     "start_time": "2020-07-15T11:52:33.404116Z"
    }
   },
   "outputs": [],
   "source": [
    "header = fits.Header()"
   ]
  },
  {
   "cell_type": "code",
   "execution_count": 13,
   "metadata": {
    "ExecuteTime": {
     "end_time": "2020-07-15T11:59:48.543116Z",
     "start_time": "2020-07-15T11:59:48.527177Z"
    }
   },
   "outputs": [
    {
     "name": "stdout",
     "output_type": "stream",
     "text": [
      "NAXIS\n",
      "CD\n",
      "CDELT\n",
      "CRPIX\n",
      "CRVAL\n",
      "CTYPE\n",
      "PV2\n"
     ]
    }
   ],
   "source": [
    "for col in hdul[1].columns.names:\n",
    "    try:\n",
    "        header.append((col, hdul[1].data[19926][col]))\n",
    "    except BaseException:\n",
    "        print(col)"
   ]
  },
  {
   "cell_type": "code",
   "execution_count": 11,
   "metadata": {
    "ExecuteTime": {
     "end_time": "2020-07-15T11:55:05.927752Z",
     "start_time": "2020-07-15T11:55:05.918957Z"
    }
   },
   "outputs": [
    {
     "data": {
      "text/plain": [
       "['COADD_ID',\n",
       " 'RA',\n",
       " 'DEC',\n",
       " 'BAND',\n",
       " 'LGAL',\n",
       " 'BGAL',\n",
       " 'LAMBDA',\n",
       " 'BETA',\n",
       " 'MJDMIN',\n",
       " 'MJDMAX',\n",
       " 'MJDMEAN',\n",
       " 'DT',\n",
       " 'COVMIN',\n",
       " 'COVMAX',\n",
       " 'COVMED',\n",
       " 'N_EXP',\n",
       " 'N_CALIB',\n",
       " 'NAXIS',\n",
       " 'CD',\n",
       " 'CDELT',\n",
       " 'CRPIX',\n",
       " 'CRVAL',\n",
       " 'CTYPE',\n",
       " 'LONGPOLE',\n",
       " 'LATPOLE',\n",
       " 'PV2']"
      ]
     },
     "execution_count": 11,
     "metadata": {},
     "output_type": "execute_result"
    }
   ],
   "source": [
    "hdul[1].columns.names"
   ]
  },
  {
   "cell_type": "code",
   "execution_count": 12,
   "metadata": {
    "ExecuteTime": {
     "end_time": "2020-07-15T11:55:20.223755Z",
     "start_time": "2020-07-15T11:55:20.215261Z"
    }
   },
   "outputs": [
    {
     "data": {
      "text/plain": [
       "('1954p287', 195.428964, 28.774444, 1, 69.48128366255652, 87.19628005860534, 181.52370111489248, 32.30326166612798, 55362.1085755, 57911.35203755, 56873.7871054679, 2549.243462049999, 119, 180, 153.0, 1594.0, 4350, array([2048, 2048], dtype=int32), array([[-0.00076389,  0.        ],\n",
       "       [ 0.        ,  0.00076389]]), array([1., 1.]), array([1024.48167699, 1024.51643945]), array([195.428964,  28.774444]), chararray(['RA---TAN', 'DEC--TAN'], dtype='<U8'), 180.0, 0.0, array([0., 0.]))"
      ]
     },
     "execution_count": 12,
     "metadata": {},
     "output_type": "execute_result"
    }
   ],
   "source": [
    "hdul[1].data[19926]"
   ]
  },
  {
   "cell_type": "code",
   "execution_count": 14,
   "metadata": {
    "ExecuteTime": {
     "end_time": "2020-07-15T12:00:01.229719Z",
     "start_time": "2020-07-15T12:00:01.220453Z"
    }
   },
   "outputs": [
    {
     "data": {
      "text/plain": [
       "COADD_ID= '1954p287'                                                            \n",
       "RA      =           195.428964                                                  \n",
       "DEC     =            28.774444                                                  \n",
       "BAND    =                    1                                                  \n",
       "LGAL    =    69.48128366255652                                                  \n",
       "BGAL    =    87.19628005860534                                                  \n",
       "LAMBDA  =    181.5237011148925                                                  \n",
       "BETA    =    32.30326166612798                                                  \n",
       "MJDMIN  =        55362.1085755                                                  \n",
       "MJDMAX  =       57911.35203755                                                  \n",
       "MJDMEAN =     56873.7871054679                                                  \n",
       "DT      =    2549.243462049999                                                  \n",
       "COVMIN  =                  119                                                  \n",
       "COVMAX  =                  180                                                  \n",
       "COVMED  =                153.0                                                  \n",
       "N_EXP   =               1594.0                                                  \n",
       "N_CALIB =                 4350                                                  \n",
       "COADD_ID= '1954p287'                                                            \n",
       "RA      =           195.428964                                                  \n",
       "DEC     =            28.774444                                                  \n",
       "BAND    =                    1                                                  \n",
       "LGAL    =    69.48128366255652                                                  \n",
       "BGAL    =    87.19628005860534                                                  \n",
       "LAMBDA  =    181.5237011148925                                                  \n",
       "BETA    =    32.30326166612798                                                  \n",
       "MJDMIN  =        55362.1085755                                                  \n",
       "MJDMAX  =       57911.35203755                                                  \n",
       "MJDMEAN =     56873.7871054679                                                  \n",
       "DT      =    2549.243462049999                                                  \n",
       "COVMIN  =                  119                                                  \n",
       "COVMAX  =                  180                                                  \n",
       "COVMED  =                153.0                                                  \n",
       "N_EXP   =               1594.0                                                  \n",
       "N_CALIB =                 4350                                                  \n",
       "LONGPOLE=                180.0                                                  \n",
       "LATPOLE =                  0.0                                                  "
      ]
     },
     "execution_count": 14,
     "metadata": {},
     "output_type": "execute_result"
    }
   ],
   "source": [
    "header"
   ]
  },
  {
   "cell_type": "code",
   "execution_count": 15,
   "metadata": {
    "ExecuteTime": {
     "end_time": "2020-07-15T12:00:21.457212Z",
     "start_time": "2020-07-15T12:00:21.420265Z"
    }
   },
   "outputs": [],
   "source": [
    "wcs_a = wcs.WCS(header)"
   ]
  },
  {
   "cell_type": "code",
   "execution_count": 50,
   "metadata": {
    "ExecuteTime": {
     "end_time": "2020-07-15T12:20:25.091274Z",
     "start_time": "2020-07-15T12:20:24.999661Z"
    }
   },
   "outputs": [],
   "source": [
    "coma_hdul = fits.open('/home/rt2122/Data/coma_sweep/south/sweep-190p025-200p030.fits')"
   ]
  },
  {
   "cell_type": "code",
   "execution_count": 51,
   "metadata": {
    "ExecuteTime": {
     "end_time": "2020-07-15T12:20:41.025565Z",
     "start_time": "2020-07-15T12:20:26.305700Z"
    }
   },
   "outputs": [],
   "source": [
    "ra = coma_hdul[1].data['RA']\n",
    "dec = coma_hdul[1].data['DEC']"
   ]
  },
  {
   "cell_type": "code",
   "execution_count": 54,
   "metadata": {
    "ExecuteTime": {
     "end_time": "2020-07-15T12:20:45.217955Z",
     "start_time": "2020-07-15T12:20:45.133413Z"
    }
   },
   "outputs": [],
   "source": [
    "pixels = wcs_a.wcs_world2pix(radec.T, 0)"
   ]
  },
  {
   "cell_type": "code",
   "execution_count": 53,
   "metadata": {
    "ExecuteTime": {
     "end_time": "2020-07-15T12:20:41.599409Z",
     "start_time": "2020-07-15T12:20:41.035262Z"
    }
   },
   "outputs": [
    {
     "data": {
      "text/plain": [
       "(2, 3249602)"
      ]
     },
     "execution_count": 53,
     "metadata": {},
     "output_type": "execute_result"
    }
   ],
   "source": [
    "radec = np.vstack([ra, dec])\n",
    "radec.shape"
   ]
  },
  {
   "cell_type": "code",
   "execution_count": 55,
   "metadata": {
    "ExecuteTime": {
     "end_time": "2020-07-15T12:20:48.505291Z",
     "start_time": "2020-07-15T12:20:48.498167Z"
    }
   },
   "outputs": [
    {
     "data": {
      "text/plain": [
       "array([[198.33064903,  25.37927546],\n",
       "       [198.32930332,  25.37797909],\n",
       "       [198.32825323,  25.37956227],\n",
       "       [198.36017717,  25.37555146],\n",
       "       [198.3585097 ,  25.37561611]])"
      ]
     },
     "execution_count": 55,
     "metadata": {},
     "output_type": "execute_result"
    }
   ],
   "source": [
    "pixels[:5]"
   ]
  },
  {
   "cell_type": "code",
   "execution_count": 56,
   "metadata": {
    "ExecuteTime": {
     "end_time": "2020-07-15T12:20:51.517874Z",
     "start_time": "2020-07-15T12:20:51.490601Z"
    }
   },
   "outputs": [
    {
     "name": "stdout",
     "output_type": "stream",
     "text": [
      "189.0000042015425 198.99999923456252\n",
      "24.00000143366886 28.99999854726195\n"
     ]
    }
   ],
   "source": [
    "print(pixels[:, 0].min(), pixels[:, 0].max())\n",
    "print(pixels[:, 1].min(), pixels[:, 1].max())"
   ]
  },
  {
   "cell_type": "code",
   "execution_count": 37,
   "metadata": {
    "ExecuteTime": {
     "end_time": "2020-07-15T12:16:13.983973Z",
     "start_time": "2020-07-15T12:16:13.573052Z"
    },
    "collapsed": true
   },
   "outputs": [
    {
     "ename": "TypeError",
     "evalue": "Image data of dtype (numpy.record, [('RELEASE', '<i2'), ('BRICKID', '<i4'), ('BRICKNAME', 'S8'), ('OBJID', '<i4'), ('TYPE', 'S4'), ('RA', '<f8'), ('DEC', '<f8'), ('RA_IVAR', '<f4'), ('DEC_IVAR', '<f4'), ('DCHISQ', '<f4', (5,)), ('EBV', '<f4'), ('FLUX_G', '<f4'), ('FLUX_R', '<f4'), ('FLUX_Z', '<f4'), ('FLUX_W1', '<f4'), ('FLUX_W2', '<f4'), ('FLUX_W3', '<f4'), ('FLUX_W4', '<f4'), ('FLUX_IVAR_G', '<f4'), ('FLUX_IVAR_R', '<f4'), ('FLUX_IVAR_Z', '<f4'), ('FLUX_IVAR_W1', '<f4'), ('FLUX_IVAR_W2', '<f4'), ('FLUX_IVAR_W3', '<f4'), ('FLUX_IVAR_W4', '<f4'), ('MW_TRANSMISSION_G', '<f4'), ('MW_TRANSMISSION_R', '<f4'), ('MW_TRANSMISSION_Z', '<f4'), ('MW_TRANSMISSION_W1', '<f4'), ('MW_TRANSMISSION_W2', '<f4'), ('MW_TRANSMISSION_W3', '<f4'), ('MW_TRANSMISSION_W4', '<f4'), ('NOBS_G', '<i2'), ('NOBS_R', '<i2'), ('NOBS_Z', '<i2'), ('NOBS_W1', '<i2'), ('NOBS_W2', '<i2'), ('NOBS_W3', '<i2'), ('NOBS_W4', '<i2'), ('RCHISQ_G', '<f4'), ('RCHISQ_R', '<f4'), ('RCHISQ_Z', '<f4'), ('RCHISQ_W1', '<f4'), ('RCHISQ_W2', '<f4'), ('RCHISQ_W3', '<f4'), ('RCHISQ_W4', '<f4'), ('FRACFLUX_G', '<f4'), ('FRACFLUX_R', '<f4'), ('FRACFLUX_Z', '<f4'), ('FRACFLUX_W1', '<f4'), ('FRACFLUX_W2', '<f4'), ('FRACFLUX_W3', '<f4'), ('FRACFLUX_W4', '<f4'), ('FRACMASKED_G', '<f4'), ('FRACMASKED_R', '<f4'), ('FRACMASKED_Z', '<f4'), ('FRACIN_G', '<f4'), ('FRACIN_R', '<f4'), ('FRACIN_Z', '<f4'), ('ANYMASK_G', '<i2'), ('ANYMASK_R', '<i2'), ('ANYMASK_Z', '<i2'), ('ALLMASK_G', '<i2'), ('ALLMASK_R', '<i2'), ('ALLMASK_Z', '<i2'), ('WISEMASK_W1', 'u1'), ('WISEMASK_W2', 'u1'), ('PSFSIZE_G', '<f4'), ('PSFSIZE_R', '<f4'), ('PSFSIZE_Z', '<f4'), ('PSFDEPTH_G', '<f4'), ('PSFDEPTH_R', '<f4'), ('PSFDEPTH_Z', '<f4'), ('GALDEPTH_G', '<f4'), ('GALDEPTH_R', '<f4'), ('GALDEPTH_Z', '<f4'), ('PSFDEPTH_W1', '<f4'), ('PSFDEPTH_W2', '<f4'), ('WISE_COADD_ID', 'S8'), ('FRACDEV', '<f4'), ('FRACDEV_IVAR', '<f4'), ('SHAPEDEV_R', '<f4'), ('SHAPEDEV_R_IVAR', '<f4'), ('SHAPEDEV_E1', '<f4'), ('SHAPEDEV_E1_IVAR', '<f4'), ('SHAPEDEV_E2', '<f4'), ('SHAPEDEV_E2_IVAR', '<f4'), ('SHAPEEXP_R', '<f4'), ('SHAPEEXP_R_IVAR', '<f4'), ('SHAPEEXP_E1', '<f4'), ('SHAPEEXP_E1_IVAR', '<f4'), ('SHAPEEXP_E2', '<f4'), ('SHAPEEXP_E2_IVAR', '<f4'), ('FIBERFLUX_G', '<f4'), ('FIBERFLUX_R', '<f4'), ('FIBERFLUX_Z', '<f4'), ('FIBERTOTFLUX_G', '<f4'), ('FIBERTOTFLUX_R', '<f4'), ('FIBERTOTFLUX_Z', '<f4'), ('REF_CAT', 'S2'), ('REF_ID', '<i8'), ('REF_EPOCH', '<f4'), ('GAIA_PHOT_G_MEAN_MAG', '<f4'), ('GAIA_PHOT_G_MEAN_FLUX_OVER_ERROR', '<f4'), ('GAIA_PHOT_BP_MEAN_MAG', '<f4'), ('GAIA_PHOT_BP_MEAN_FLUX_OVER_ERROR', '<f4'), ('GAIA_PHOT_RP_MEAN_MAG', '<f4'), ('GAIA_PHOT_RP_MEAN_FLUX_OVER_ERROR', '<f4'), ('GAIA_ASTROMETRIC_EXCESS_NOISE', '<f4'), ('GAIA_DUPLICATED_SOURCE', 'i1'), ('GAIA_PHOT_BP_RP_EXCESS_FACTOR', '<f4'), ('GAIA_ASTROMETRIC_SIGMA5D_MAX', '<f4'), ('GAIA_ASTROMETRIC_PARAMS_SOLVED', 'u1'), ('PARALLAX', '<f4'), ('PARALLAX_IVAR', '<f4'), ('PMRA', '<f4'), ('PMRA_IVAR', '<f4'), ('PMDEC', '<f4'), ('PMDEC_IVAR', '<f4'), ('MASKBITS', '<i2')]) cannot be converted to float",
     "output_type": "error",
     "traceback": [
      "\u001b[0;31m---------------------------------------------------------------------------\u001b[0m",
      "\u001b[0;31mTypeError\u001b[0m                                 Traceback (most recent call last)",
      "\u001b[0;32m<ipython-input-37-1813621e790a>\u001b[0m in \u001b[0;36m<module>\u001b[0;34m\u001b[0m\n\u001b[1;32m      1\u001b[0m \u001b[0mfig\u001b[0m \u001b[0;34m=\u001b[0m \u001b[0mplt\u001b[0m\u001b[0;34m.\u001b[0m\u001b[0mfigure\u001b[0m\u001b[0;34m(\u001b[0m\u001b[0;34m)\u001b[0m\u001b[0;34m\u001b[0m\u001b[0;34m\u001b[0m\u001b[0m\n\u001b[1;32m      2\u001b[0m \u001b[0mfig\u001b[0m\u001b[0;34m.\u001b[0m\u001b[0madd_subplot\u001b[0m\u001b[0;34m(\u001b[0m\u001b[0;36m111\u001b[0m\u001b[0;34m,\u001b[0m \u001b[0mprojection\u001b[0m\u001b[0;34m=\u001b[0m\u001b[0mwcs_a\u001b[0m\u001b[0;34m)\u001b[0m\u001b[0;34m\u001b[0m\u001b[0;34m\u001b[0m\u001b[0m\n\u001b[0;32m----> 3\u001b[0;31m \u001b[0mplt\u001b[0m\u001b[0;34m.\u001b[0m\u001b[0mimshow\u001b[0m\u001b[0;34m(\u001b[0m\u001b[0mcoma_hdul\u001b[0m\u001b[0;34m[\u001b[0m\u001b[0;36m1\u001b[0m\u001b[0;34m]\u001b[0m\u001b[0;34m.\u001b[0m\u001b[0mdata\u001b[0m\u001b[0;34m,\u001b[0m \u001b[0morigin\u001b[0m\u001b[0;34m=\u001b[0m\u001b[0;34m'lower'\u001b[0m\u001b[0;34m,\u001b[0m \u001b[0mcmap\u001b[0m\u001b[0;34m=\u001b[0m\u001b[0mplt\u001b[0m\u001b[0;34m.\u001b[0m\u001b[0mcm\u001b[0m\u001b[0;34m.\u001b[0m\u001b[0mviridis\u001b[0m\u001b[0;34m)\u001b[0m\u001b[0;34m\u001b[0m\u001b[0;34m\u001b[0m\u001b[0m\n\u001b[0m\u001b[1;32m      4\u001b[0m \u001b[0mplt\u001b[0m\u001b[0;34m.\u001b[0m\u001b[0mxlabel\u001b[0m\u001b[0;34m(\u001b[0m\u001b[0;34m'RA'\u001b[0m\u001b[0;34m)\u001b[0m\u001b[0;34m\u001b[0m\u001b[0;34m\u001b[0m\u001b[0m\n\u001b[1;32m      5\u001b[0m \u001b[0mplt\u001b[0m\u001b[0;34m.\u001b[0m\u001b[0mylabel\u001b[0m\u001b[0;34m(\u001b[0m\u001b[0;34m'Dec'\u001b[0m\u001b[0;34m)\u001b[0m\u001b[0;34m\u001b[0m\u001b[0;34m\u001b[0m\u001b[0m\n",
      "\u001b[0;32m~/anaconda3/lib/python3.7/site-packages/matplotlib/pyplot.py\u001b[0m in \u001b[0;36mimshow\u001b[0;34m(X, cmap, norm, aspect, interpolation, alpha, vmin, vmax, origin, extent, shape, filternorm, filterrad, imlim, resample, url, data, **kwargs)\u001b[0m\n\u001b[1;32m   2682\u001b[0m         \u001b[0mfilternorm\u001b[0m\u001b[0;34m=\u001b[0m\u001b[0mfilternorm\u001b[0m\u001b[0;34m,\u001b[0m \u001b[0mfilterrad\u001b[0m\u001b[0;34m=\u001b[0m\u001b[0mfilterrad\u001b[0m\u001b[0;34m,\u001b[0m \u001b[0mimlim\u001b[0m\u001b[0;34m=\u001b[0m\u001b[0mimlim\u001b[0m\u001b[0;34m,\u001b[0m\u001b[0;34m\u001b[0m\u001b[0;34m\u001b[0m\u001b[0m\n\u001b[1;32m   2683\u001b[0m         resample=resample, url=url, **({\"data\": data} if data is not\n\u001b[0;32m-> 2684\u001b[0;31m         None else {}), **kwargs)\n\u001b[0m\u001b[1;32m   2685\u001b[0m     \u001b[0msci\u001b[0m\u001b[0;34m(\u001b[0m\u001b[0m__ret\u001b[0m\u001b[0;34m)\u001b[0m\u001b[0;34m\u001b[0m\u001b[0;34m\u001b[0m\u001b[0m\n\u001b[1;32m   2686\u001b[0m     \u001b[0;32mreturn\u001b[0m \u001b[0m__ret\u001b[0m\u001b[0;34m\u001b[0m\u001b[0;34m\u001b[0m\u001b[0m\n",
      "\u001b[0;32m~/anaconda3/lib/python3.7/site-packages/astropy/visualization/wcsaxes/core.py\u001b[0m in \u001b[0;36mimshow\u001b[0;34m(self, X, *args, **kwargs)\u001b[0m\n\u001b[1;32m    209\u001b[0m                 \u001b[0mX\u001b[0m \u001b[0;34m=\u001b[0m \u001b[0mX\u001b[0m\u001b[0;34m.\u001b[0m\u001b[0mtranspose\u001b[0m\u001b[0;34m(\u001b[0m\u001b[0mFLIP_TOP_BOTTOM\u001b[0m\u001b[0;34m)\u001b[0m\u001b[0;34m\u001b[0m\u001b[0;34m\u001b[0m\u001b[0m\n\u001b[1;32m    210\u001b[0m \u001b[0;34m\u001b[0m\u001b[0m\n\u001b[0;32m--> 211\u001b[0;31m         \u001b[0;32mreturn\u001b[0m \u001b[0msuper\u001b[0m\u001b[0;34m(\u001b[0m\u001b[0;34m)\u001b[0m\u001b[0;34m.\u001b[0m\u001b[0mimshow\u001b[0m\u001b[0;34m(\u001b[0m\u001b[0mX\u001b[0m\u001b[0;34m,\u001b[0m \u001b[0;34m*\u001b[0m\u001b[0margs\u001b[0m\u001b[0;34m,\u001b[0m \u001b[0morigin\u001b[0m\u001b[0;34m=\u001b[0m\u001b[0morigin\u001b[0m\u001b[0;34m,\u001b[0m \u001b[0;34m**\u001b[0m\u001b[0mkwargs\u001b[0m\u001b[0;34m)\u001b[0m\u001b[0;34m\u001b[0m\u001b[0;34m\u001b[0m\u001b[0m\n\u001b[0m\u001b[1;32m    212\u001b[0m \u001b[0;34m\u001b[0m\u001b[0m\n\u001b[1;32m    213\u001b[0m     \u001b[0;32mdef\u001b[0m \u001b[0mcontour\u001b[0m\u001b[0;34m(\u001b[0m\u001b[0mself\u001b[0m\u001b[0;34m,\u001b[0m \u001b[0;34m*\u001b[0m\u001b[0margs\u001b[0m\u001b[0;34m,\u001b[0m \u001b[0;34m**\u001b[0m\u001b[0mkwargs\u001b[0m\u001b[0;34m)\u001b[0m\u001b[0;34m:\u001b[0m\u001b[0;34m\u001b[0m\u001b[0;34m\u001b[0m\u001b[0m\n",
      "\u001b[0;32m~/anaconda3/lib/python3.7/site-packages/matplotlib/__init__.py\u001b[0m in \u001b[0;36minner\u001b[0;34m(ax, data, *args, **kwargs)\u001b[0m\n\u001b[1;32m   1597\u001b[0m     \u001b[0;32mdef\u001b[0m \u001b[0minner\u001b[0m\u001b[0;34m(\u001b[0m\u001b[0max\u001b[0m\u001b[0;34m,\u001b[0m \u001b[0;34m*\u001b[0m\u001b[0margs\u001b[0m\u001b[0;34m,\u001b[0m \u001b[0mdata\u001b[0m\u001b[0;34m=\u001b[0m\u001b[0;32mNone\u001b[0m\u001b[0;34m,\u001b[0m \u001b[0;34m**\u001b[0m\u001b[0mkwargs\u001b[0m\u001b[0;34m)\u001b[0m\u001b[0;34m:\u001b[0m\u001b[0;34m\u001b[0m\u001b[0;34m\u001b[0m\u001b[0m\n\u001b[1;32m   1598\u001b[0m         \u001b[0;32mif\u001b[0m \u001b[0mdata\u001b[0m \u001b[0;32mis\u001b[0m \u001b[0;32mNone\u001b[0m\u001b[0;34m:\u001b[0m\u001b[0;34m\u001b[0m\u001b[0;34m\u001b[0m\u001b[0m\n\u001b[0;32m-> 1599\u001b[0;31m             \u001b[0;32mreturn\u001b[0m \u001b[0mfunc\u001b[0m\u001b[0;34m(\u001b[0m\u001b[0max\u001b[0m\u001b[0;34m,\u001b[0m \u001b[0;34m*\u001b[0m\u001b[0mmap\u001b[0m\u001b[0;34m(\u001b[0m\u001b[0msanitize_sequence\u001b[0m\u001b[0;34m,\u001b[0m \u001b[0margs\u001b[0m\u001b[0;34m)\u001b[0m\u001b[0;34m,\u001b[0m \u001b[0;34m**\u001b[0m\u001b[0mkwargs\u001b[0m\u001b[0;34m)\u001b[0m\u001b[0;34m\u001b[0m\u001b[0;34m\u001b[0m\u001b[0m\n\u001b[0m\u001b[1;32m   1600\u001b[0m \u001b[0;34m\u001b[0m\u001b[0m\n\u001b[1;32m   1601\u001b[0m         \u001b[0mbound\u001b[0m \u001b[0;34m=\u001b[0m \u001b[0mnew_sig\u001b[0m\u001b[0;34m.\u001b[0m\u001b[0mbind\u001b[0m\u001b[0;34m(\u001b[0m\u001b[0max\u001b[0m\u001b[0;34m,\u001b[0m \u001b[0;34m*\u001b[0m\u001b[0margs\u001b[0m\u001b[0;34m,\u001b[0m \u001b[0;34m**\u001b[0m\u001b[0mkwargs\u001b[0m\u001b[0;34m)\u001b[0m\u001b[0;34m\u001b[0m\u001b[0;34m\u001b[0m\u001b[0m\n",
      "\u001b[0;32m~/anaconda3/lib/python3.7/site-packages/matplotlib/cbook/deprecation.py\u001b[0m in \u001b[0;36mwrapper\u001b[0;34m(*args, **kwargs)\u001b[0m\n\u001b[1;32m    367\u001b[0m                 \u001b[0;34mf\"%(removal)s.  If any parameter follows {name!r}, they \"\u001b[0m\u001b[0;34m\u001b[0m\u001b[0;34m\u001b[0m\u001b[0m\n\u001b[1;32m    368\u001b[0m                 f\"should be pass as keyword, not positionally.\")\n\u001b[0;32m--> 369\u001b[0;31m         \u001b[0;32mreturn\u001b[0m \u001b[0mfunc\u001b[0m\u001b[0;34m(\u001b[0m\u001b[0;34m*\u001b[0m\u001b[0margs\u001b[0m\u001b[0;34m,\u001b[0m \u001b[0;34m**\u001b[0m\u001b[0mkwargs\u001b[0m\u001b[0;34m)\u001b[0m\u001b[0;34m\u001b[0m\u001b[0;34m\u001b[0m\u001b[0m\n\u001b[0m\u001b[1;32m    370\u001b[0m \u001b[0;34m\u001b[0m\u001b[0m\n\u001b[1;32m    371\u001b[0m     \u001b[0;32mreturn\u001b[0m \u001b[0mwrapper\u001b[0m\u001b[0;34m\u001b[0m\u001b[0;34m\u001b[0m\u001b[0m\n",
      "\u001b[0;32m~/anaconda3/lib/python3.7/site-packages/matplotlib/cbook/deprecation.py\u001b[0m in \u001b[0;36mwrapper\u001b[0;34m(*args, **kwargs)\u001b[0m\n\u001b[1;32m    367\u001b[0m                 \u001b[0;34mf\"%(removal)s.  If any parameter follows {name!r}, they \"\u001b[0m\u001b[0;34m\u001b[0m\u001b[0;34m\u001b[0m\u001b[0m\n\u001b[1;32m    368\u001b[0m                 f\"should be pass as keyword, not positionally.\")\n\u001b[0;32m--> 369\u001b[0;31m         \u001b[0;32mreturn\u001b[0m \u001b[0mfunc\u001b[0m\u001b[0;34m(\u001b[0m\u001b[0;34m*\u001b[0m\u001b[0margs\u001b[0m\u001b[0;34m,\u001b[0m \u001b[0;34m**\u001b[0m\u001b[0mkwargs\u001b[0m\u001b[0;34m)\u001b[0m\u001b[0;34m\u001b[0m\u001b[0;34m\u001b[0m\u001b[0m\n\u001b[0m\u001b[1;32m    370\u001b[0m \u001b[0;34m\u001b[0m\u001b[0m\n\u001b[1;32m    371\u001b[0m     \u001b[0;32mreturn\u001b[0m \u001b[0mwrapper\u001b[0m\u001b[0;34m\u001b[0m\u001b[0;34m\u001b[0m\u001b[0m\n",
      "\u001b[0;32m~/anaconda3/lib/python3.7/site-packages/matplotlib/axes/_axes.py\u001b[0m in \u001b[0;36mimshow\u001b[0;34m(self, X, cmap, norm, aspect, interpolation, alpha, vmin, vmax, origin, extent, shape, filternorm, filterrad, imlim, resample, url, **kwargs)\u001b[0m\n\u001b[1;32m   5677\u001b[0m                               resample=resample, **kwargs)\n\u001b[1;32m   5678\u001b[0m \u001b[0;34m\u001b[0m\u001b[0m\n\u001b[0;32m-> 5679\u001b[0;31m         \u001b[0mim\u001b[0m\u001b[0;34m.\u001b[0m\u001b[0mset_data\u001b[0m\u001b[0;34m(\u001b[0m\u001b[0mX\u001b[0m\u001b[0;34m)\u001b[0m\u001b[0;34m\u001b[0m\u001b[0;34m\u001b[0m\u001b[0m\n\u001b[0m\u001b[1;32m   5680\u001b[0m         \u001b[0mim\u001b[0m\u001b[0;34m.\u001b[0m\u001b[0mset_alpha\u001b[0m\u001b[0;34m(\u001b[0m\u001b[0malpha\u001b[0m\u001b[0;34m)\u001b[0m\u001b[0;34m\u001b[0m\u001b[0;34m\u001b[0m\u001b[0m\n\u001b[1;32m   5681\u001b[0m         \u001b[0;32mif\u001b[0m \u001b[0mim\u001b[0m\u001b[0;34m.\u001b[0m\u001b[0mget_clip_path\u001b[0m\u001b[0;34m(\u001b[0m\u001b[0;34m)\u001b[0m \u001b[0;32mis\u001b[0m \u001b[0;32mNone\u001b[0m\u001b[0;34m:\u001b[0m\u001b[0;34m\u001b[0m\u001b[0;34m\u001b[0m\u001b[0m\n",
      "\u001b[0;32m~/anaconda3/lib/python3.7/site-packages/matplotlib/image.py\u001b[0m in \u001b[0;36mset_data\u001b[0;34m(self, A)\u001b[0m\n\u001b[1;32m    683\u001b[0m                 not np.can_cast(self._A.dtype, float, \"same_kind\")):\n\u001b[1;32m    684\u001b[0m             raise TypeError(\"Image data of dtype {} cannot be converted to \"\n\u001b[0;32m--> 685\u001b[0;31m                             \"float\".format(self._A.dtype))\n\u001b[0m\u001b[1;32m    686\u001b[0m \u001b[0;34m\u001b[0m\u001b[0m\n\u001b[1;32m    687\u001b[0m         if not (self._A.ndim == 2\n",
      "\u001b[0;31mTypeError\u001b[0m: Image data of dtype (numpy.record, [('RELEASE', '<i2'), ('BRICKID', '<i4'), ('BRICKNAME', 'S8'), ('OBJID', '<i4'), ('TYPE', 'S4'), ('RA', '<f8'), ('DEC', '<f8'), ('RA_IVAR', '<f4'), ('DEC_IVAR', '<f4'), ('DCHISQ', '<f4', (5,)), ('EBV', '<f4'), ('FLUX_G', '<f4'), ('FLUX_R', '<f4'), ('FLUX_Z', '<f4'), ('FLUX_W1', '<f4'), ('FLUX_W2', '<f4'), ('FLUX_W3', '<f4'), ('FLUX_W4', '<f4'), ('FLUX_IVAR_G', '<f4'), ('FLUX_IVAR_R', '<f4'), ('FLUX_IVAR_Z', '<f4'), ('FLUX_IVAR_W1', '<f4'), ('FLUX_IVAR_W2', '<f4'), ('FLUX_IVAR_W3', '<f4'), ('FLUX_IVAR_W4', '<f4'), ('MW_TRANSMISSION_G', '<f4'), ('MW_TRANSMISSION_R', '<f4'), ('MW_TRANSMISSION_Z', '<f4'), ('MW_TRANSMISSION_W1', '<f4'), ('MW_TRANSMISSION_W2', '<f4'), ('MW_TRANSMISSION_W3', '<f4'), ('MW_TRANSMISSION_W4', '<f4'), ('NOBS_G', '<i2'), ('NOBS_R', '<i2'), ('NOBS_Z', '<i2'), ('NOBS_W1', '<i2'), ('NOBS_W2', '<i2'), ('NOBS_W3', '<i2'), ('NOBS_W4', '<i2'), ('RCHISQ_G', '<f4'), ('RCHISQ_R', '<f4'), ('RCHISQ_Z', '<f4'), ('RCHISQ_W1', '<f4'), ('RCHISQ_W2', '<f4'), ('RCHISQ_W3', '<f4'), ('RCHISQ_W4', '<f4'), ('FRACFLUX_G', '<f4'), ('FRACFLUX_R', '<f4'), ('FRACFLUX_Z', '<f4'), ('FRACFLUX_W1', '<f4'), ('FRACFLUX_W2', '<f4'), ('FRACFLUX_W3', '<f4'), ('FRACFLUX_W4', '<f4'), ('FRACMASKED_G', '<f4'), ('FRACMASKED_R', '<f4'), ('FRACMASKED_Z', '<f4'), ('FRACIN_G', '<f4'), ('FRACIN_R', '<f4'), ('FRACIN_Z', '<f4'), ('ANYMASK_G', '<i2'), ('ANYMASK_R', '<i2'), ('ANYMASK_Z', '<i2'), ('ALLMASK_G', '<i2'), ('ALLMASK_R', '<i2'), ('ALLMASK_Z', '<i2'), ('WISEMASK_W1', 'u1'), ('WISEMASK_W2', 'u1'), ('PSFSIZE_G', '<f4'), ('PSFSIZE_R', '<f4'), ('PSFSIZE_Z', '<f4'), ('PSFDEPTH_G', '<f4'), ('PSFDEPTH_R', '<f4'), ('PSFDEPTH_Z', '<f4'), ('GALDEPTH_G', '<f4'), ('GALDEPTH_R', '<f4'), ('GALDEPTH_Z', '<f4'), ('PSFDEPTH_W1', '<f4'), ('PSFDEPTH_W2', '<f4'), ('WISE_COADD_ID', 'S8'), ('FRACDEV', '<f4'), ('FRACDEV_IVAR', '<f4'), ('SHAPEDEV_R', '<f4'), ('SHAPEDEV_R_IVAR', '<f4'), ('SHAPEDEV_E1', '<f4'), ('SHAPEDEV_E1_IVAR', '<f4'), ('SHAPEDEV_E2', '<f4'), ('SHAPEDEV_E2_IVAR', '<f4'), ('SHAPEEXP_R', '<f4'), ('SHAPEEXP_R_IVAR', '<f4'), ('SHAPEEXP_E1', '<f4'), ('SHAPEEXP_E1_IVAR', '<f4'), ('SHAPEEXP_E2', '<f4'), ('SHAPEEXP_E2_IVAR', '<f4'), ('FIBERFLUX_G', '<f4'), ('FIBERFLUX_R', '<f4'), ('FIBERFLUX_Z', '<f4'), ('FIBERTOTFLUX_G', '<f4'), ('FIBERTOTFLUX_R', '<f4'), ('FIBERTOTFLUX_Z', '<f4'), ('REF_CAT', 'S2'), ('REF_ID', '<i8'), ('REF_EPOCH', '<f4'), ('GAIA_PHOT_G_MEAN_MAG', '<f4'), ('GAIA_PHOT_G_MEAN_FLUX_OVER_ERROR', '<f4'), ('GAIA_PHOT_BP_MEAN_MAG', '<f4'), ('GAIA_PHOT_BP_MEAN_FLUX_OVER_ERROR', '<f4'), ('GAIA_PHOT_RP_MEAN_MAG', '<f4'), ('GAIA_PHOT_RP_MEAN_FLUX_OVER_ERROR', '<f4'), ('GAIA_ASTROMETRIC_EXCESS_NOISE', '<f4'), ('GAIA_DUPLICATED_SOURCE', 'i1'), ('GAIA_PHOT_BP_RP_EXCESS_FACTOR', '<f4'), ('GAIA_ASTROMETRIC_SIGMA5D_MAX', '<f4'), ('GAIA_ASTROMETRIC_PARAMS_SOLVED', 'u1'), ('PARALLAX', '<f4'), ('PARALLAX_IVAR', '<f4'), ('PMRA', '<f4'), ('PMRA_IVAR', '<f4'), ('PMDEC', '<f4'), ('PMDEC_IVAR', '<f4'), ('MASKBITS', '<i2')]) cannot be converted to float"
     ]
    },
    {
     "data": {
      "image/png": "[encoded data removed]",
      "text/plain": [
       "<Figure size 432x288 with 1 Axes>"
      ]
     },
     "metadata": {
      "needs_background": "light"
     },
     "output_type": "display_data"
    }
   ],
   "source": [
    "fig = plt.figure()\n",
    "fig.add_subplot(111, projection=wcs_a)\n",
    "plt.imshow(coma_hdul[1].data, origin='lower', cmap=plt.cm.viridis)\n",
    "plt.xlabel('RA')\n",
    "plt.ylabel('Dec')"
   ]
  },
  {
   "cell_type": "code",
   "execution_count": 40,
   "metadata": {
    "ExecuteTime": {
     "end_time": "2020-07-15T12:17:24.372137Z",
     "start_time": "2020-07-15T12:17:21.812007Z"
    }
   },
   "outputs": [],
   "source": [
    "filename = get_pkg_data_filename('tutorials/FITS-images/HorseHead.fits')"
   ]
  },
  {
   "cell_type": "code",
   "execution_count": 42,
   "metadata": {
    "ExecuteTime": {
     "end_time": "2020-07-15T12:17:39.111509Z",
     "start_time": "2020-07-15T12:17:39.042211Z"
    }
   },
   "outputs": [],
   "source": [
    "filename = get_pkg_data_filename('tutorials/FITS-images/HorseHead.fits')\n",
    "\n",
    "hdu = fits.open(filename)[0]\n",
    "wcs = wcs.WCS(hdu.header)"
   ]
  },
  {
   "cell_type": "code",
   "execution_count": 45,
   "metadata": {
    "ExecuteTime": {
     "end_time": "2020-07-15T12:18:25.850864Z",
     "start_time": "2020-07-15T12:18:25.841903Z"
    }
   },
   "outputs": [
    {
     "data": {
      "text/plain": [
       "(893, 891)"
      ]
     },
     "execution_count": 45,
     "metadata": {},
     "output_type": "execute_result"
    }
   ],
   "source": [
    "hdu.data.shape"
   ]
  },
  {
   "cell_type": "code",
   "execution_count": 46,
   "metadata": {
    "ExecuteTime": {
     "end_time": "2020-07-15T12:18:36.404553Z",
     "start_time": "2020-07-15T12:18:36.174786Z"
    }
   },
   "outputs": [
    {
     "data": {
      "text/plain": [
       "<matplotlib.image.AxesImage at 0x7f5c3e6bf250>"
      ]
     },
     "execution_count": 46,
     "metadata": {},
     "output_type": "execute_result"
    },
    {
     "data": {
      "image/png": "[encoded data removed]",
      "text/plain": [
       "<Figure size 432x288 with 1 Axes>"
      ]
     },
     "metadata": {
      "needs_background": "light"
     },
     "output_type": "display_data"
    }
   ],
   "source": [
    "plt.imshow(hdu.data)"
   ]
  },
  {
   "cell_type": "code",
   "execution_count": null,
   "metadata": {},
   "outputs": [],
   "source": []
  }
 ],
 "metadata": {
  "kernelspec": {
   "display_name": "Python 3",
   "language": "python",
   "name": "python3"
  },
  "language_info": {
   "codemirror_mode": {
    "name": "ipython",
    "version": 3
   },
   "file_extension": ".py",
   "mimetype": "text/x-python",
   "name": "python",
   "nbconvert_exporter": "python",
   "pygments_lexer": "ipython3",
   "version": "3.7.6"
  }
 },
 "nbformat": 4,
 "nbformat_minor": 4
}
