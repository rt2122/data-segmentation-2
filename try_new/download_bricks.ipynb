{
 "cells": [
  {
   "cell_type": "code",
   "execution_count": 1,
   "metadata": {},
   "outputs": [],
   "source": [
    "import pandas as pd"
   ]
  },
  {
   "cell_type": "code",
   "execution_count": 4,
   "metadata": {},
   "outputs": [],
   "source": [
    "selected_sweeps_n = pd.read_csv('/home/rt2122/Data/selected_sweep_north', index_col='index')"
   ]
  },
  {
   "cell_type": "code",
   "execution_count": 5,
   "metadata": {},
   "outputs": [
    {
     "data": {
      "text/html": [
       "<div>\n",
       "<style scoped>\n",
       "    .dataframe tbody tr th:only-of-type {\n",
       "        vertical-align: middle;\n",
       "    }\n",
       "\n",
       "    .dataframe tbody tr th {\n",
       "        vertical-align: top;\n",
       "    }\n",
       "\n",
       "    .dataframe thead th {\n",
       "        text-align: right;\n",
       "    }\n",
       "</style>\n",
       "<table border=\"1\" class=\"dataframe\">\n",
       "  <thead>\n",
       "    <tr style=\"text-align: right;\">\n",
       "      <th></th>\n",
       "      <th>sum</th>\n",
       "      <th>name</th>\n",
       "      <th>selected</th>\n",
       "    </tr>\n",
       "    <tr>\n",
       "      <th>index</th>\n",
       "      <th></th>\n",
       "      <th></th>\n",
       "      <th></th>\n",
       "    </tr>\n",
       "  </thead>\n",
       "  <tbody>\n",
       "    <tr>\n",
       "      <th>0</th>\n",
       "      <td>e7d6ebb79146b54603ff632a49dfa065b67f00e72d41e0...</td>\n",
       "      <td>sweep-000m005-010p000.fits</td>\n",
       "      <td>NaN</td>\n",
       "    </tr>\n",
       "    <tr>\n",
       "      <th>1</th>\n",
       "      <td>059467281d09b90cd54a5fba819a42cca5e80bdc81d2bd...</td>\n",
       "      <td>sweep-000p000-010p005.fits</td>\n",
       "      <td>NaN</td>\n",
       "    </tr>\n",
       "    <tr>\n",
       "      <th>2</th>\n",
       "      <td>529ab83d58b6c45e2fb33fb99ad3fc3a30f8610f690499...</td>\n",
       "      <td>sweep-000p040-010p045.fits</td>\n",
       "      <td>NaN</td>\n",
       "    </tr>\n",
       "    <tr>\n",
       "      <th>3</th>\n",
       "      <td>b874d1d6ea701bd3f946e02f89255fd18b51034b5dac52...</td>\n",
       "      <td>sweep-010m005-020p000.fits</td>\n",
       "      <td>NaN</td>\n",
       "    </tr>\n",
       "    <tr>\n",
       "      <th>4</th>\n",
       "      <td>b9d4eb08e54bf8d92ebc624c18a22b3062b8c8a2ab89a0...</td>\n",
       "      <td>sweep-010p000-020p005.fits</td>\n",
       "      <td>NaN</td>\n",
       "    </tr>\n",
       "  </tbody>\n",
       "</table>\n",
       "</div>"
      ],
      "text/plain": [
       "                                                     sum  \\\n",
       "index                                                      \n",
       "0      e7d6ebb79146b54603ff632a49dfa065b67f00e72d41e0...   \n",
       "1      059467281d09b90cd54a5fba819a42cca5e80bdc81d2bd...   \n",
       "2      529ab83d58b6c45e2fb33fb99ad3fc3a30f8610f690499...   \n",
       "3      b874d1d6ea701bd3f946e02f89255fd18b51034b5dac52...   \n",
       "4      b9d4eb08e54bf8d92ebc624c18a22b3062b8c8a2ab89a0...   \n",
       "\n",
       "                             name  selected  \n",
       "index                                        \n",
       "0      sweep-000m005-010p000.fits       NaN  \n",
       "1      sweep-000p000-010p005.fits       NaN  \n",
       "2      sweep-000p040-010p045.fits       NaN  \n",
       "3      sweep-010m005-020p000.fits       NaN  \n",
       "4      sweep-010p000-020p005.fits       NaN  "
      ]
     },
     "execution_count": 5,
     "metadata": {},
     "output_type": "execute_result"
    }
   ],
   "source": [
    "selected_sweeps_n.head()"
   ]
  },
  {
   "cell_type": "code",
   "execution_count": 6,
   "metadata": {},
   "outputs": [],
   "source": [
    "import numpy as np"
   ]
  },
  {
   "cell_type": "code",
   "execution_count": 13,
   "metadata": {},
   "outputs": [
    {
     "data": {
      "text/plain": [
       "6"
      ]
     },
     "execution_count": 13,
     "metadata": {},
     "output_type": "execute_result"
    }
   ],
   "source": [
    "np.count_nonzero(selected_sweeps_n['selected'] == 1)"
   ]
  },
  {
   "cell_type": "code",
   "execution_count": 14,
   "metadata": {},
   "outputs": [
    {
     "data": {
      "text/html": [
       "<div>\n",
       "<style scoped>\n",
       "    .dataframe tbody tr th:only-of-type {\n",
       "        vertical-align: middle;\n",
       "    }\n",
       "\n",
       "    .dataframe tbody tr th {\n",
       "        vertical-align: top;\n",
       "    }\n",
       "\n",
       "    .dataframe thead th {\n",
       "        text-align: right;\n",
       "    }\n",
       "</style>\n",
       "<table border=\"1\" class=\"dataframe\">\n",
       "  <thead>\n",
       "    <tr style=\"text-align: right;\">\n",
       "      <th></th>\n",
       "      <th>sum</th>\n",
       "      <th>name</th>\n",
       "      <th>selected</th>\n",
       "    </tr>\n",
       "    <tr>\n",
       "      <th>index</th>\n",
       "      <th></th>\n",
       "      <th></th>\n",
       "      <th></th>\n",
       "    </tr>\n",
       "  </thead>\n",
       "  <tbody>\n",
       "    <tr>\n",
       "      <th>101</th>\n",
       "      <td>bdebd3372875374aa7985fd66a0ebb3117f7299e2bc8a1...</td>\n",
       "      <td>sweep-150p050-160p055.fits</td>\n",
       "      <td>1.0</td>\n",
       "    </tr>\n",
       "    <tr>\n",
       "      <th>102</th>\n",
       "      <td>75796599f43a7ae5717dda129215ef9b0fdeb74007eaca...</td>\n",
       "      <td>sweep-150p055-160p060.fits</td>\n",
       "      <td>1.0</td>\n",
       "    </tr>\n",
       "    <tr>\n",
       "      <th>103</th>\n",
       "      <td>27f06e7c12d8b1c058f6f16eda280b2c9dbc1b32269caf...</td>\n",
       "      <td>sweep-150p060-160p065.fits</td>\n",
       "      <td>1.0</td>\n",
       "    </tr>\n",
       "    <tr>\n",
       "      <th>113</th>\n",
       "      <td>8853ee51d15ac49283414a8a3cd4678737573fc55ec338...</td>\n",
       "      <td>sweep-160p050-170p055.fits</td>\n",
       "      <td>1.0</td>\n",
       "    </tr>\n",
       "    <tr>\n",
       "      <th>114</th>\n",
       "      <td>69e6f4e443f5a2435a3d0123c876c70eecbcf059595211...</td>\n",
       "      <td>sweep-160p055-170p060.fits</td>\n",
       "      <td>1.0</td>\n",
       "    </tr>\n",
       "    <tr>\n",
       "      <th>115</th>\n",
       "      <td>97a00e1052be59ecae4d71bb3e1622a4e85ac7ee92456a...</td>\n",
       "      <td>sweep-160p060-170p065.fits</td>\n",
       "      <td>1.0</td>\n",
       "    </tr>\n",
       "  </tbody>\n",
       "</table>\n",
       "</div>"
      ],
      "text/plain": [
       "                                                     sum  \\\n",
       "index                                                      \n",
       "101    bdebd3372875374aa7985fd66a0ebb3117f7299e2bc8a1...   \n",
       "102    75796599f43a7ae5717dda129215ef9b0fdeb74007eaca...   \n",
       "103    27f06e7c12d8b1c058f6f16eda280b2c9dbc1b32269caf...   \n",
       "113    8853ee51d15ac49283414a8a3cd4678737573fc55ec338...   \n",
       "114    69e6f4e443f5a2435a3d0123c876c70eecbcf059595211...   \n",
       "115    97a00e1052be59ecae4d71bb3e1622a4e85ac7ee92456a...   \n",
       "\n",
       "                             name  selected  \n",
       "index                                        \n",
       "101    sweep-150p050-160p055.fits       1.0  \n",
       "102    sweep-150p055-160p060.fits       1.0  \n",
       "103    sweep-150p060-160p065.fits       1.0  \n",
       "113    sweep-160p050-170p055.fits       1.0  \n",
       "114    sweep-160p055-170p060.fits       1.0  \n",
       "115    sweep-160p060-170p065.fits       1.0  "
      ]
     },
     "execution_count": 14,
     "metadata": {},
     "output_type": "execute_result"
    }
   ],
   "source": [
    "selected_sweeps_n[selected_sweeps_n['selected'] == 1]"
   ]
  },
  {
   "cell_type": "code",
   "execution_count": 12,
   "metadata": {},
   "outputs": [
    {
     "data": {
      "text/plain": [
       "(286, 3)"
      ]
     },
     "execution_count": 12,
     "metadata": {},
     "output_type": "execute_result"
    }
   ],
   "source": [
    "selected_sweeps_n.shape"
   ]
  },
  {
   "cell_type": "code",
   "execution_count": 15,
   "metadata": {},
   "outputs": [],
   "source": [
    "north_dir = 'https://portal.nersc.gov/project/cosmo/data/legacysurvey/dr8/north/sweep/8.0/'"
   ]
  },
  {
   "cell_type": "code",
   "execution_count": 17,
   "metadata": {},
   "outputs": [],
   "source": [
    "import requests\n",
    "from os.path import join"
   ]
  },
  {
   "cell_type": "code",
   "execution_count": 18,
   "metadata": {},
   "outputs": [
    {
     "data": {
      "text/plain": [
       "'https://portal.nersc.gov/project/cosmo/data/legacysurvey/dr8/north/sweep/8.0/sweep-150p050-160p055.fits'"
      ]
     },
     "execution_count": 18,
     "metadata": {},
     "output_type": "execute_result"
    }
   ],
   "source": [
    "url = join(north_dir, 'sweep-150p050-160p055.fits')\n",
    "url"
   ]
  },
  {
   "cell_type": "code",
   "execution_count": 22,
   "metadata": {},
   "outputs": [
    {
     "ename": "AttributeError",
     "evalue": "module 'requests' has no attribute 'settings'",
     "output_type": "error",
     "traceback": [
      "\u001b[0;31m---------------------------------------------------------------------------\u001b[0m",
      "\u001b[0;31mAttributeError\u001b[0m                            Traceback (most recent call last)",
      "\u001b[0;32m<ipython-input-22-17cf191a8ea8>\u001b[0m in \u001b[0;36m<module>\u001b[0;34m\u001b[0m\n\u001b[1;32m      1\u001b[0m \u001b[0;32mimport\u001b[0m \u001b[0msys\u001b[0m\u001b[0;34m\u001b[0m\u001b[0;34m\u001b[0m\u001b[0m\n\u001b[0;32m----> 2\u001b[0;31m \u001b[0mrequests\u001b[0m\u001b[0;34m.\u001b[0m\u001b[0msettings\u001b[0m\u001b[0;34m.\u001b[0m\u001b[0mverbose\u001b[0m \u001b[0;34m=\u001b[0m \u001b[0msys\u001b[0m\u001b[0;34m.\u001b[0m\u001b[0mstderr\u001b[0m\u001b[0;34m\u001b[0m\u001b[0;34m\u001b[0m\u001b[0m\n\u001b[0m",
      "\u001b[0;31mAttributeError\u001b[0m: module 'requests' has no attribute 'settings'"
     ]
    }
   ],
   "source": [
    "import sys\n",
    "requests.settings.verbose = sys.stderr"
   ]
  },
  {
   "cell_type": "code",
   "execution_count": 27,
   "metadata": {},
   "outputs": [],
   "source": [
    "import requests\n",
    "import shutil\n",
    "\n",
    "def download_file(url, local_filename):\n",
    "    with requests.get(url, stream=True) as r:\n",
    "        with open(local_filename, 'wb') as f:\n",
    "            shutil.copyfileobj(r.raw, f)\n",
    "\n",
    "    return local_filename"
   ]
  },
  {
   "cell_type": "code",
   "execution_count": 29,
   "metadata": {},
   "outputs": [
    {
     "data": {
      "text/plain": [
       "'/home/rt2122/Data/a'"
      ]
     },
     "execution_count": 29,
     "metadata": {},
     "output_type": "execute_result"
    }
   ],
   "source": [
    "download_file(url, '/home/rt2122/Data/a')"
   ]
  },
  {
   "cell_type": "code",
   "execution_count": 30,
   "metadata": {},
   "outputs": [],
   "source": [
    "data_dir = '/home/rt2122/Data/north/'"
   ]
  },
  {
   "cell_type": "code",
   "execution_count": 35,
   "metadata": {},
   "outputs": [],
   "source": [
    "from tqdm import tqdm_notebook"
   ]
  },
  {
   "cell_type": "code",
   "execution_count": 36,
   "metadata": {},
   "outputs": [
    {
     "name": "stderr",
     "output_type": "stream",
     "text": [
      "/home/rt2122/anaconda3/lib/python3.7/site-packages/ipykernel_launcher.py:1: TqdmDeprecationWarning: This function will be removed in tqdm==5.0.0\n",
      "Please use `tqdm.notebook.tqdm` instead of `tqdm.tqdm_notebook`\n",
      "  \"\"\"Entry point for launching an IPython kernel.\n"
     ]
    },
    {
     "data": {
      "application/vnd.jupyter.widget-view+json": {
       "model_id": "e0a452fdf2384d97b6617baef3c15039",
       "version_major": 2,
       "version_minor": 0
      },
      "text/plain": [
       "HBox(children=(FloatProgress(value=0.0, max=6.0), HTML(value='')))"
      ]
     },
     "metadata": {},
     "output_type": "display_data"
    },
    {
     "name": "stdout",
     "output_type": "stream",
     "text": [
      "\n"
     ]
    }
   ],
   "source": [
    "for name in tqdm_notebook(selected_sweeps_n[selected_sweeps_n['selected'] == 1]['name']):\n",
    "    url = join(north_dir, name)\n",
    "    filename = join(data_dir, name)\n",
    "    download_file(url, filename)"
   ]
  },
  {
   "cell_type": "code",
   "execution_count": 38,
   "metadata": {},
   "outputs": [
    {
     "name": "stdout",
     "output_type": "stream",
     "text": [
      "6\n"
     ]
    }
   ],
   "source": [
    "selected_sweeps_s = pd.read_csv('/home/rt2122/Data/selected_sweep_south', index_col='index')\n",
    "print(np.count_nonzero(selected_sweeps_n['selected'] == 1))\n",
    "south_dir = 'https://portal.nersc.gov/project/cosmo/data/legacysurvey/dr8/south/sweep/8.0/'\n",
    "data_dir = '/home/rt2122/Data/south/'"
   ]
  },
  {
   "cell_type": "code",
   "execution_count": 42,
   "metadata": {},
   "outputs": [
    {
     "data": {
      "application/vnd.jupyter.widget-view+json": {
       "model_id": "f808a0145a5b4350b1056e8d84ff7e7b",
       "version_major": 2,
       "version_minor": 0
      },
      "text/plain": [
       "HBox(children=(FloatProgress(value=0.0, max=6.0), HTML(value='')))"
      ]
     },
     "metadata": {},
     "output_type": "display_data"
    },
    {
     "name": "stdout",
     "output_type": "stream",
     "text": [
      "\n"
     ]
    }
   ],
   "source": [
    "for name in tqdm(selected_sweeps_n[selected_sweeps_n['selected'] == 1]['name']):\n",
    "    url = join(north_dir, name)\n",
    "    filename = join(data_dir, name)\n",
    "    download_file(url, filename)"
   ]
  },
  {
   "cell_type": "code",
   "execution_count": 41,
   "metadata": {},
   "outputs": [],
   "source": [
    "from tqdm.notebook import tqdm"
   ]
  },
  {
   "cell_type": "code",
   "execution_count": null,
   "metadata": {},
   "outputs": [],
   "source": []
  }
 ],
 "metadata": {
  "kernelspec": {
   "display_name": "Python 3",
   "language": "python",
   "name": "python3"
  },
  "language_info": {
   "codemirror_mode": {
    "name": "ipython",
    "version": 3
   },
   "file_extension": ".py",
   "mimetype": "text/x-python",
   "name": "python",
   "nbconvert_exporter": "python",
   "pygments_lexer": "ipython3",
   "version": "3.7.6"
  }
 },
 "nbformat": 4,
 "nbformat_minor": 4
}
