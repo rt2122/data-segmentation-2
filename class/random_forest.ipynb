{
 "cells": [
  {
   "cell_type": "code",
   "execution_count": 12,
   "metadata": {
    "ExecuteTime": {
     "end_time": "2020-11-26T11:59:28.011080Z",
     "start_time": "2020-11-26T11:59:27.998609Z"
    }
   },
   "outputs": [],
   "source": [
    "import numpy as np\n",
    "import tensorflow as tf\n",
    "import pandas as pd\n",
    "from matplotlib import pyplot as plt\n",
    "from DS_class import *\n",
    "from DS_Planck_Unet import train_pix_act, val_pix\n",
    "from sklearn.ensemble import RandomForestClassifier\n",
    "from sklearn.metrics import precision_recall_curve, plot_precision_recall_curve"
   ]
  },
  {
   "cell_type": "code",
   "execution_count": 13,
   "metadata": {
    "ExecuteTime": {
     "end_time": "2020-11-26T11:59:49.326605Z",
     "start_time": "2020-11-26T11:59:49.318903Z"
    }
   },
   "outputs": [],
   "source": [
    "#train = gen_data_for_class(2/15, 9000, ['planck_z', 'act'], train_pix_act)\n",
    "#val = gen_data_for_class(2/15, 400, ['planck_z', 'act'], val_pix)\n",
    "train = [np.load('/home/rt2122/Data/class_data/train_x.npy'), \n",
    "         np.load('/home/rt2122/Data/class_data/train_y.npy')]\n",
    "val = [np.load('/home/rt2122/Data/class_data/val_x.npy'), \n",
    "         np.load('/home/rt2122/Data/class_data/val_y.npy')]"
   ]
  },
  {
   "cell_type": "code",
   "execution_count": 14,
   "metadata": {
    "ExecuteTime": {
     "end_time": "2020-11-26T12:00:45.611503Z",
     "start_time": "2020-11-26T11:59:53.987676Z"
    }
   },
   "outputs": [
    {
     "data": {
      "text/plain": [
       "RandomForestClassifier(max_depth=256, n_estimators=256, random_state=0)"
      ]
     },
     "execution_count": 14,
     "metadata": {},
     "output_type": "execute_result"
    }
   ],
   "source": [
    "clf = RandomForestClassifier(max_depth=256, random_state=0, n_estimators=256)\n",
    "clf.fit(*train)"
   ]
  },
  {
   "cell_type": "code",
   "execution_count": 15,
   "metadata": {
    "ExecuteTime": {
     "end_time": "2020-11-26T12:00:45.671790Z",
     "start_time": "2020-11-26T12:00:45.613167Z"
    }
   },
   "outputs": [
    {
     "data": {
      "text/plain": [
       "0.8675"
      ]
     },
     "execution_count": 15,
     "metadata": {},
     "output_type": "execute_result"
    }
   ],
   "source": [
    "clf.score(*val)"
   ]
  },
  {
   "cell_type": "code",
   "execution_count": 5,
   "metadata": {
    "ExecuteTime": {
     "end_time": "2020-11-26T08:26:36.936097Z",
     "start_time": "2020-11-26T08:26:36.833258Z"
    }
   },
   "outputs": [],
   "source": [
    "np.save('/home/rt2122/Data/class_data/train_x', train[0])\n",
    "np.save('/home/rt2122/Data/class_data/train_y', train[1])\n",
    "np.save('/home/rt2122/Data/class_data/val_x', val[0])\n",
    "np.save('/home/rt2122/Data/class_data/val_y', val[1])"
   ]
  },
  {
   "cell_type": "code",
   "execution_count": 16,
   "metadata": {
    "ExecuteTime": {
     "end_time": "2020-11-26T12:06:03.191316Z",
     "start_time": "2020-11-26T12:00:45.673256Z"
    }
   },
   "outputs": [],
   "source": [
    "train_pz = gen_data_for_class(2/15, 1000, ['planck_z'], train_pix_act)\n",
    "val_pz = gen_data_for_class(2/15, 400, ['planck_z'], val_pix)"
   ]
  },
  {
   "cell_type": "code",
   "execution_count": 17,
   "metadata": {
    "ExecuteTime": {
     "end_time": "2020-11-26T12:06:05.956981Z",
     "start_time": "2020-11-26T12:06:03.192657Z"
    }
   },
   "outputs": [
    {
     "data": {
      "text/plain": [
       "0.8675"
      ]
     },
     "execution_count": 17,
     "metadata": {},
     "output_type": "execute_result"
    }
   ],
   "source": [
    "clf_pz = RandomForestClassifier(max_depth=256, random_state=0, n_estimators=256)\n",
    "clf_pz.fit(*train_pz)\n",
    "clf_pz.score(*val_pz)"
   ]
  },
  {
   "cell_type": "code",
   "execution_count": 8,
   "metadata": {
    "ExecuteTime": {
     "end_time": "2020-11-26T08:32:23.853246Z",
     "start_time": "2020-11-26T08:32:23.815058Z"
    }
   },
   "outputs": [
    {
     "data": {
      "text/plain": [
       "0.8675"
      ]
     },
     "execution_count": 8,
     "metadata": {},
     "output_type": "execute_result"
    }
   ],
   "source": [
    "clf_pz.score(*val)"
   ]
  },
  {
   "cell_type": "code",
   "execution_count": 9,
   "metadata": {
    "ExecuteTime": {
     "end_time": "2020-11-25T12:30:20.833789Z",
     "start_time": "2020-11-25T12:30:20.757574Z"
    }
   },
   "outputs": [
    {
     "data": {
      "text/plain": [
       "(array([0.91015625, 0.08984375]), False)"
      ]
     },
     "execution_count": 9,
     "metadata": {},
     "output_type": "execute_result"
    }
   ],
   "source": [
    "ans = clf_pz.predict_proba(val_pz[0])"
   ]
  },
  {
   "cell_type": "code",
   "execution_count": 16,
   "metadata": {
    "ExecuteTime": {
     "end_time": "2020-11-26T08:48:13.658644Z",
     "start_time": "2020-11-26T08:48:13.648726Z"
    }
   },
   "outputs": [],
   "source": [
    "df = pd.read_csv('/home/rt2122/Data/detected_cats/c_act_ep11_val_st8_thr.1.csv')"
   ]
  },
  {
   "cell_type": "code",
   "execution_count": 17,
   "metadata": {
    "ExecuteTime": {
     "end_time": "2020-11-26T08:48:13.781003Z",
     "start_time": "2020-11-26T08:48:13.661072Z"
    }
   },
   "outputs": [],
   "source": [
    "def detected_cat2class(cat_df, clf, label='class', radius=7.5/60, class_len=50):\n",
    "    import numpy as np\n",
    "    import pandas as pd\n",
    "    from DS_healpix_fragmentation import radec2pix\n",
    "    \n",
    "    X = np.stack([radec2line_class([cat_df['RA'].iloc[i], cat_df['DEC'].iloc[i]], \n",
    "                                radius=radius, class_len=class_len).flatten()\n",
    "               for i in range(len(cat_df))])\n",
    "    ans = clf.predict_proba(X)\n",
    "    df[label] = ans[:, 1]\n",
    "    return df"
   ]
  },
  {
   "cell_type": "code",
   "execution_count": 18,
   "metadata": {
    "ExecuteTime": {
     "end_time": "2020-11-26T08:55:40.686810Z",
     "start_time": "2020-11-26T08:48:13.786146Z"
    }
   },
   "outputs": [],
   "source": [
    "df = detected_cat2class(df, clf_pz, 'clf_pz')"
   ]
  },
  {
   "cell_type": "code",
   "execution_count": 19,
   "metadata": {
    "ExecuteTime": {
     "end_time": "2020-11-26T08:55:40.696496Z",
     "start_time": "2020-11-26T08:55:40.688176Z"
    }
   },
   "outputs": [],
   "source": [
    "stats = {}\n",
    "stats['tp'] = df[df['status'] == 'tp']['clf_pz']\n",
    "stats['fp'] = df[df['status'] == 'fp']['clf_pz']"
   ]
  },
  {
   "cell_type": "code",
   "execution_count": 13,
   "metadata": {
    "ExecuteTime": {
     "end_time": "2020-11-26T08:40:29.785625Z",
     "start_time": "2020-11-26T08:40:29.356017Z"
    }
   },
   "outputs": [
    {
     "data": {
      "text/plain": [
       "<matplotlib.legend.Legend at 0x7f8b03029130>"
      ]
     },
     "execution_count": 13,
     "metadata": {},
     "output_type": "execute_result"
    },
    {
     "data": {
      "image/png": "[encoded data removed]",
      "text/plain": [
       "<Figure size 360x216 with 1 Axes>"
      ]
     },
     "metadata": {
      "needs_background": "light"
     },
     "output_type": "display_data"
    }
   ],
   "source": [
    "_, ax = plt.subplots(1, 1, figsize=(5, 3))\n",
    "ax.hist(stats['tp'], bins=20, range=(0, 1), alpha=0.5, label='tp')\n",
    "ax.hist(stats['fp'], bins=20, range=(0, 1), alpha=0.5, label='fp')\n",
    "ax.legend()"
   ]
  },
  {
   "cell_type": "code",
   "execution_count": 14,
   "metadata": {
    "ExecuteTime": {
     "end_time": "2020-11-26T08:40:29.790792Z",
     "start_time": "2020-11-26T08:40:29.787058Z"
    }
   },
   "outputs": [
    {
     "data": {
      "text/plain": [
       "(237, 1226)"
      ]
     },
     "execution_count": 14,
     "metadata": {},
     "output_type": "execute_result"
    }
   ],
   "source": [
    "len(stats['tp']), len(stats['fp'])"
   ]
  },
  {
   "cell_type": "code",
   "execution_count": 24,
   "metadata": {
    "ExecuteTime": {
     "end_time": "2020-11-25T13:15:42.042349Z",
     "start_time": "2020-11-25T13:15:42.034154Z"
    }
   },
   "outputs": [
    {
     "data": {
      "text/plain": [
       "0.56640625"
      ]
     },
     "execution_count": 24,
     "metadata": {},
     "output_type": "execute_result"
    }
   ],
   "source": [
    "stats['tp'].max()\n",
    "stats['fp'].max()"
   ]
  },
  {
   "cell_type": "code",
   "execution_count": 15,
   "metadata": {
    "ExecuteTime": {
     "end_time": "2020-11-26T08:48:13.646514Z",
     "start_time": "2020-11-26T08:40:29.792338Z"
    }
   },
   "outputs": [
    {
     "data": {
      "text/plain": [
       "<matplotlib.legend.Legend at 0x7f8b03029af0>"
      ]
     },
     "execution_count": 15,
     "metadata": {},
     "output_type": "execute_result"
    },
    {
     "data": {
      "image/png": "[encoded data removed]",
      "text/plain": [
       "<Figure size 360x216 with 1 Axes>"
      ]
     },
     "metadata": {
      "needs_background": "light"
     },
     "output_type": "display_data"
    }
   ],
   "source": [
    "df = detected_cat2class(df, clf, 'clf')\n",
    "stats = {}\n",
    "stats['tp'] = df[df['status'] == 'tp']['clf']\n",
    "stats['fp'] = df[df['status'] == 'fp']['clf']\n",
    "_, ax = plt.subplots(1, 1, figsize=(5, 3))\n",
    "ax.hist(stats['tp'], bins=20, range=(0, 1), alpha=0.5, label='tp')\n",
    "ax.hist(stats['fp'], bins=20, range=(0, 1), alpha=0.5, label='fp')\n",
    "ax.legend()"
   ]
  },
  {
   "cell_type": "code",
   "execution_count": 20,
   "metadata": {
    "ExecuteTime": {
     "end_time": "2020-11-26T08:56:26.078558Z",
     "start_time": "2020-11-26T08:56:26.028918Z"
    }
   },
   "outputs": [],
   "source": [
    "df = df.rename({'clf' : 'rf', 'clf_pz' : 'rf_pz'}, axis='columns')\n",
    "df.to_csv('/home/rt2122/Data/detected_cats/c_act_ep11_val_st8_thr.1_ranged.csv')"
   ]
  },
  {
   "cell_type": "code",
   "execution_count": 2,
   "metadata": {
    "ExecuteTime": {
     "end_time": "2020-11-26T11:44:25.960823Z",
     "start_time": "2020-11-26T11:44:25.948072Z"
    }
   },
   "outputs": [],
   "source": [
    "df = pd.read_csv('/home/rt2122/Data/detected_cats/c_act_ep11_val_st8_thr.1_ranged.csv')"
   ]
  },
  {
   "cell_type": "code",
   "execution_count": 8,
   "metadata": {
    "ExecuteTime": {
     "end_time": "2020-11-26T11:48:20.610295Z",
     "start_time": "2020-11-26T11:48:20.126383Z"
    }
   },
   "outputs": [
    {
     "data": {
      "image/png": "[encoded data removed]",
      "text/plain": [
       "<Figure size 792x216 with 3 Axes>"
      ]
     },
     "metadata": {
      "needs_background": "light"
     },
     "output_type": "display_data"
    }
   ],
   "source": [
    "_, ax = plt.subplots(1, 3, figsize=(11, 3))\n",
    "for i, cl in enumerate(['rf_pz', 'mlp', 'svm']):\n",
    "    tp = df[df['status'] == 'tp'][cl]\n",
    "    fp = df[df['status'] == 'fp'][cl]\n",
    "    \n",
    "    ax[i].hist(fp, bins=20, range=(0, 1), alpha=0.5, label='fp')\n",
    "    ax[i].hist(tp, bins=20, range=(0, 1), alpha=0.5, label='tp')\n",
    "    ax[i].legend()"
   ]
  },
  {
   "cell_type": "code",
   "execution_count": 9,
   "metadata": {
    "ExecuteTime": {
     "end_time": "2020-11-26T11:49:46.604358Z",
     "start_time": "2020-11-26T11:49:46.407562Z"
    }
   },
   "outputs": [
    {
     "data": {
      "text/plain": [
       "<matplotlib.legend.Legend at 0x7fd533a0af40>"
      ]
     },
     "execution_count": 9,
     "metadata": {},
     "output_type": "execute_result"
    },
    {
     "data": {
      "image/png": "[encoded data removed]",
      "text/plain": [
       "<Figure size 288x216 with 1 Axes>"
      ]
     },
     "metadata": {
      "needs_background": "light"
     },
     "output_type": "display_data"
    }
   ],
   "source": [
    "_, ax = plt.subplots(1, 1, figsize=(4, 3))\n",
    "\n",
    "tp = df[df['status'] == 'tp']['rf_pz']\n",
    "fp = df[df['status'] == 'fp']['rf_pz']\n",
    "\n",
    "ax.hist(fp, bins=20, range=(0, 1), alpha=0.5, label='fp')\n",
    "ax.hist(tp, bins=20, range=(0, 1), alpha=0.5, label='tp')\n",
    "ax.legend()"
   ]
  },
  {
   "cell_type": "code",
   "execution_count": 18,
   "metadata": {
    "ExecuteTime": {
     "end_time": "2020-11-26T12:06:36.374519Z",
     "start_time": "2020-11-26T12:06:36.199012Z"
    }
   },
   "outputs": [
    {
     "data": {
      "text/plain": [
       "<sklearn.metrics._plot.precision_recall_curve.PrecisionRecallDisplay at 0x7fd52feba220>"
      ]
     },
     "execution_count": 18,
     "metadata": {},
     "output_type": "execute_result"
    },
    {
     "data": {
      "image/png": "[encoded data removed]",
      "text/plain": [
       "<Figure size 432x288 with 1 Axes>"
      ]
     },
     "metadata": {
      "needs_background": "light"
     },
     "output_type": "display_data"
    }
   ],
   "source": [
    "plot_precision_recall_curve(clf, *val)"
   ]
  },
  {
   "cell_type": "code",
   "execution_count": 20,
   "metadata": {
    "ExecuteTime": {
     "end_time": "2020-11-26T12:07:05.514501Z",
     "start_time": "2020-11-26T12:07:05.362788Z"
    }
   },
   "outputs": [
    {
     "data": {
      "text/plain": [
       "<sklearn.metrics._plot.precision_recall_curve.PrecisionRecallDisplay at 0x7fd52fe3d3a0>"
      ]
     },
     "execution_count": 20,
     "metadata": {},
     "output_type": "execute_result"
    },
    {
     "data": {
      "image/png": "[encoded data removed]",
      "text/plain": [
       "<Figure size 432x288 with 1 Axes>"
      ]
     },
     "metadata": {
      "needs_background": "light"
     },
     "output_type": "display_data"
    }
   ],
   "source": [
    "plot_precision_recall_curve(clf_pz, *val)"
   ]
  },
  {
   "cell_type": "code",
   "execution_count": null,
   "metadata": {},
   "outputs": [],
   "source": []
  }
 ],
 "metadata": {
  "kernelspec": {
   "display_name": "Python 3",
   "language": "python",
   "name": "python3"
  },
  "language_info": {
   "codemirror_mode": {
    "name": "ipython",
    "version": 3
   },
   "file_extension": ".py",
   "mimetype": "text/x-python",
   "name": "python",
   "nbconvert_exporter": "python",
   "pygments_lexer": "ipython3",
   "version": "3.8.3"
  }
 },
 "nbformat": 4,
 "nbformat_minor": 4
}
