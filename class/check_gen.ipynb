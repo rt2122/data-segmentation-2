{
 "cells": [
  {
   "cell_type": "code",
   "execution_count": 27,
   "metadata": {
    "ExecuteTime": {
     "end_time": "2020-11-19T09:09:44.593835Z",
     "start_time": "2020-11-19T09:09:44.587234Z"
    }
   },
   "outputs": [],
   "source": [
    "import numpy as np\n",
    "import pandas as pd\n",
    "from matplotlib import pyplot as plt\n",
    "from DS_class import *\n",
    "from DS_Planck_Unet import train_pix_act, val_pix\n",
    "from sklearn import svm"
   ]
  },
  {
   "cell_type": "code",
   "execution_count": 2,
   "metadata": {
    "ExecuteTime": {
     "end_time": "2020-11-19T09:04:59.030101Z",
     "start_time": "2020-11-19T09:04:50.944719Z"
    }
   },
   "outputs": [],
   "source": [
    "X, y = gen_data_for_class(0.5, 14, ['planck_z', 'act'], train_pix_act)"
   ]
  },
  {
   "cell_type": "code",
   "execution_count": 3,
   "metadata": {
    "ExecuteTime": {
     "end_time": "2020-11-19T09:05:13.983074Z",
     "start_time": "2020-11-19T09:05:13.967964Z"
    }
   },
   "outputs": [
    {
     "data": {
      "text/plain": [
       "((14, 50, 6), (14,))"
      ]
     },
     "execution_count": 3,
     "metadata": {},
     "output_type": "execute_result"
    }
   ],
   "source": [
    "X.shape, y.shape"
   ]
  },
  {
   "cell_type": "code",
   "execution_count": 20,
   "metadata": {
    "ExecuteTime": {
     "end_time": "2020-11-19T09:06:46.032249Z",
     "start_time": "2020-11-19T09:06:45.913160Z"
    }
   },
   "outputs": [
    {
     "data": {
      "text/plain": [
       "<matplotlib.image.AxesImage at 0x7ff2c1ac7310>"
      ]
     },
     "execution_count": 20,
     "metadata": {},
     "output_type": "execute_result"
    },
    {
     "data": {
      "image/png": "[encoded data removed]",
      "text/plain": [
       "<Figure size 432x288 with 1 Axes>"
      ]
     },
     "metadata": {
      "needs_background": "light"
     },
     "output_type": "display_data"
    }
   ],
   "source": [
    "plt.imshow(X[13].T)"
   ]
  },
  {
   "cell_type": "code",
   "execution_count": 25,
   "metadata": {
    "ExecuteTime": {
     "end_time": "2020-11-19T09:09:26.981818Z",
     "start_time": "2020-11-19T09:09:26.978384Z"
    }
   },
   "outputs": [],
   "source": [
    "X = [v.flatten() for v in X]"
   ]
  },
  {
   "cell_type": "code",
   "execution_count": 26,
   "metadata": {
    "ExecuteTime": {
     "end_time": "2020-11-19T09:09:27.614069Z",
     "start_time": "2020-11-19T09:09:27.577590Z"
    }
   },
   "outputs": [
    {
     "data": {
      "text/plain": [
       "SVC()"
      ]
     },
     "execution_count": 26,
     "metadata": {},
     "output_type": "execute_result"
    }
   ],
   "source": [
    "clf = svm.SVC()\n",
    "clf.fit(X, y)"
   ]
  },
  {
   "cell_type": "code",
   "execution_count": 39,
   "metadata": {
    "ExecuteTime": {
     "end_time": "2020-11-19T09:23:19.930521Z",
     "start_time": "2020-11-19T09:23:12.685202Z"
    }
   },
   "outputs": [],
   "source": [
    "X_val, y_val = gen_data_for_class(0.5, 14, ['planck_z', 'act'], val_pix)"
   ]
  },
  {
   "cell_type": "code",
   "execution_count": 40,
   "metadata": {
    "ExecuteTime": {
     "end_time": "2020-11-19T09:23:22.261404Z",
     "start_time": "2020-11-19T09:23:22.258640Z"
    }
   },
   "outputs": [],
   "source": [
    "X_val = [v.flatten() for v in X_val]"
   ]
  },
  {
   "cell_type": "code",
   "execution_count": 41,
   "metadata": {
    "ExecuteTime": {
     "end_time": "2020-11-19T09:23:23.664963Z",
     "start_time": "2020-11-19T09:23:23.660394Z"
    }
   },
   "outputs": [],
   "source": [
    "ans = clf.predict(X_val)"
   ]
  },
  {
   "cell_type": "code",
   "execution_count": 42,
   "metadata": {
    "ExecuteTime": {
     "end_time": "2020-11-19T09:23:24.136799Z",
     "start_time": "2020-11-19T09:23:24.126864Z"
    }
   },
   "outputs": [
    {
     "data": {
      "text/plain": [
       "0.42857142857142855"
      ]
     },
     "execution_count": 42,
     "metadata": {},
     "output_type": "execute_result"
    }
   ],
   "source": [
    "np.count_nonzero(np.logical_not(np.logical_xor(ans, y))) / 14"
   ]
  },
  {
   "cell_type": "code",
   "execution_count": 37,
   "metadata": {
    "ExecuteTime": {
     "end_time": "2020-11-19T09:19:35.142992Z",
     "start_time": "2020-11-19T09:19:33.614994Z"
    }
   },
   "outputs": [
    {
     "data": {
      "text/plain": [
       "['Unnamed: 0', 'pix', 'pix2', 'RA', 'DEC']"
      ]
     },
     "execution_count": 37,
     "metadata": {},
     "output_type": "execute_result"
    }
   ],
   "source": [
    "df = pd.read_csv('/home/rt2122/Data/class/fp_coords/fp_pz_pnz_act.csv')\n",
    "list(df)"
   ]
  },
  {
   "cell_type": "code",
   "execution_count": 38,
   "metadata": {
    "ExecuteTime": {
     "end_time": "2020-11-19T09:20:40.008840Z",
     "start_time": "2020-11-19T09:20:39.646181Z"
    }
   },
   "outputs": [
    {
     "data": {
      "text/plain": [
       "set()"
      ]
     },
     "execution_count": 38,
     "metadata": {},
     "output_type": "execute_result"
    }
   ],
   "source": [
    "set(df['pix2']).intersection(val_pix)"
   ]
  },
  {
   "cell_type": "code",
   "execution_count": null,
   "metadata": {},
   "outputs": [],
   "source": []
  }
 ],
 "metadata": {
  "kernelspec": {
   "display_name": "Python 3",
   "language": "python",
   "name": "python3"
  },
  "language_info": {
   "codemirror_mode": {
    "name": "ipython",
    "version": 3
   },
   "file_extension": ".py",
   "mimetype": "text/x-python",
   "name": "python",
   "nbconvert_exporter": "python",
   "pygments_lexer": "ipython3",
   "version": "3.8.3"
  }
 },
 "nbformat": 4,
 "nbformat_minor": 4
}
