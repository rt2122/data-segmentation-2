{
 "cells": [
  {
   "cell_type": "code",
   "execution_count": 1,
   "metadata": {
    "ExecuteTime": {
     "end_time": "2020-11-26T10:24:10.039070Z",
     "start_time": "2020-11-26T10:24:08.631111Z"
    }
   },
   "outputs": [],
   "source": [
    "import numpy as np\n",
    "import pandas as pd\n",
    "import tensorflow as tf\n",
    "from DS_class import *\n",
    "from DS_Planck_Unet import train_pix_act, val_pix"
   ]
  },
  {
   "cell_type": "code",
   "execution_count": 2,
   "metadata": {
    "ExecuteTime": {
     "end_time": "2020-11-26T10:24:10.092026Z",
     "start_time": "2020-11-26T10:24:10.040509Z"
    }
   },
   "outputs": [],
   "source": [
    "units = [50*6, 40*6, 40]\n",
    "model = tf.keras.Sequential(\n",
    "    [\n",
    "        tf.keras.layers.Dense(units[0], activation=\"relu\", name=\"layer1\"),\n",
    "        tf.keras.layers.Dropout(0.3),\n",
    "        tf.keras.layers.Dense(units[1], activation=\"relu\", name=\"layer2\"),\n",
    "        tf.keras.layers.Dropout(0.3),\n",
    "        tf.keras.layers.Dense(units[2], activation=\"relu\", name=\"layer3\"),\n",
    "        tf.keras.layers.Dropout(0.3),\n",
    "        tf.keras.layers.Dense(1, activation=\"sigmoid\", name=\"layer4\") \n",
    "    ]\n",
    ")\n",
    "model.compile(optimizer=tf.keras.optimizers.Adam(learning_rate=0.01), \n",
    "              loss=\"binary_crossentropy\", metrics=['accuracy'])"
   ]
  },
  {
   "cell_type": "code",
   "execution_count": 3,
   "metadata": {
    "ExecuteTime": {
     "end_time": "2020-11-26T10:24:10.185026Z",
     "start_time": "2020-11-26T10:24:10.093318Z"
    }
   },
   "outputs": [],
   "source": [
    "#train = gen_data_for_class(0.5, 4000, ['planck_z', 'act'], train_pix_act)\n",
    "#val = gen_data_for_class(2/15, 400, ['planck_z', 'act'], val_pix)\n",
    "train = [np.load('/home/rt2122/Data/class_data/train_x.npy'), \n",
    "         np.load('/home/rt2122/Data/class_data/train_y.npy')]\n",
    "val = [np.load('/home/rt2122/Data/class_data/val_x.npy'), \n",
    "         np.load('/home/rt2122/Data/class_data/val_y.npy')]"
   ]
  },
  {
   "cell_type": "code",
   "execution_count": 4,
   "metadata": {
    "ExecuteTime": {
     "end_time": "2020-11-26T10:24:15.126173Z",
     "start_time": "2020-11-26T10:24:10.943931Z"
    }
   },
   "outputs": [
    {
     "data": {
      "text/plain": [
       "<tensorflow.python.keras.callbacks.History at 0x7ff1ec68b760>"
      ]
     },
     "execution_count": 4,
     "metadata": {},
     "output_type": "execute_result"
    }
   ],
   "source": [
    "model.fit(train[0], train[1], epochs=20, batch_size=100, shuffle=True, verbose=0)"
   ]
  },
  {
   "cell_type": "code",
   "execution_count": 66,
   "metadata": {
    "ExecuteTime": {
     "end_time": "2020-11-23T09:58:19.903713Z",
     "start_time": "2020-11-23T09:58:19.851832Z"
    }
   },
   "outputs": [],
   "source": [
    "ans = model.predict(val[0])"
   ]
  },
  {
   "cell_type": "code",
   "execution_count": 67,
   "metadata": {
    "ExecuteTime": {
     "end_time": "2020-11-23T09:58:20.305581Z",
     "start_time": "2020-11-23T09:58:20.088287Z"
    }
   },
   "outputs": [
    {
     "name": "stdout",
     "output_type": "stream",
     "text": [
      "125/125 [==============================] - 0s 1ms/step - loss: 0.6932 - accuracy: 0.5000\n"
     ]
    }
   ],
   "source": [
    "accuracy = model.evaluate(train[0], train[1])"
   ]
  },
  {
   "cell_type": "code",
   "execution_count": 68,
   "metadata": {
    "ExecuteTime": {
     "end_time": "2020-11-23T09:58:20.380879Z",
     "start_time": "2020-11-23T09:58:20.307931Z"
    }
   },
   "outputs": [
    {
     "name": "stdout",
     "output_type": "stream",
     "text": [
      "13/13 [==============================] - 0s 2ms/step - loss: 0.6983 - accuracy: 0.1325\n"
     ]
    }
   ],
   "source": [
    "accuracy = model.evaluate(*val)"
   ]
  },
  {
   "cell_type": "code",
   "execution_count": 5,
   "metadata": {
    "ExecuteTime": {
     "end_time": "2020-11-26T10:24:16.348560Z",
     "start_time": "2020-11-26T10:24:16.306705Z"
    }
   },
   "outputs": [],
   "source": [
    "df = pd.read_csv('/home/rt2122/Data/detected_cats/c_act_ep11_val_st8_thr.1_ranged.csv')"
   ]
  },
  {
   "cell_type": "code",
   "execution_count": 6,
   "metadata": {
    "ExecuteTime": {
     "end_time": "2020-11-26T10:32:09.335587Z",
     "start_time": "2020-11-26T10:24:17.305645Z"
    }
   },
   "outputs": [],
   "source": [
    "df = detected_cat2class(df, model, label='mlp', nn_mode=True)"
   ]
  },
  {
   "cell_type": "code",
   "execution_count": 11,
   "metadata": {
    "ExecuteTime": {
     "end_time": "2020-11-26T10:33:32.884673Z",
     "start_time": "2020-11-26T10:33:32.842411Z"
    }
   },
   "outputs": [],
   "source": [
    "df.to_csv('/home/rt2122/Data/detected_cats/c_act_ep11_val_st8_thr.1_ranged.csv', index=False)"
   ]
  },
  {
   "cell_type": "code",
   "execution_count": 10,
   "metadata": {
    "ExecuteTime": {
     "end_time": "2020-11-26T10:33:30.722809Z",
     "start_time": "2020-11-26T10:33:30.708153Z"
    }
   },
   "outputs": [
    {
     "data": {
      "text/plain": [
       "['RA',\n",
       " 'DEC',\n",
       " 'area',\n",
       " 'min_rad',\n",
       " 'max_rad',\n",
       " 'mean_rad',\n",
       " 'min_pred',\n",
       " 'max_pred',\n",
       " 'tRA',\n",
       " 'tDEC',\n",
       " 'status',\n",
       " 'catalog',\n",
       " 'rf_pz',\n",
       " 'mlp']"
      ]
     },
     "execution_count": 10,
     "metadata": {},
     "output_type": "execute_result"
    }
   ],
   "source": [
    "df = df.drop(['Unnamed: 0'], axis='columns')\n",
    "list(df)"
   ]
  },
  {
   "cell_type": "code",
   "execution_count": null,
   "metadata": {},
   "outputs": [],
   "source": []
  }
 ],
 "metadata": {
  "kernelspec": {
   "display_name": "Python 3",
   "language": "python",
   "name": "python3"
  },
  "language_info": {
   "codemirror_mode": {
    "name": "ipython",
    "version": 3
   },
   "file_extension": ".py",
   "mimetype": "text/x-python",
   "name": "python",
   "nbconvert_exporter": "python",
   "pygments_lexer": "ipython3",
   "version": "3.8.3"
  }
 },
 "nbformat": 4,
 "nbformat_minor": 4
}
