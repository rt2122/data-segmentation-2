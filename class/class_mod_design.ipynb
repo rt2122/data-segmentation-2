{
 "cells": [
  {
   "cell_type": "code",
   "execution_count": 41,
   "metadata": {
    "ExecuteTime": {
     "end_time": "2020-11-17T18:39:23.061555Z",
     "start_time": "2020-11-17T18:39:22.469249Z"
    }
   },
   "outputs": [],
   "source": [
    "import numpy as np\n",
    "import pandas as pd\n",
    "import healpy as hp\n",
    "from tqdm.notebook import tqdm\n",
    "from astropy.coordinates import SkyCoord\n",
    "from astropy import units as u\n",
    "from matplotlib import pyplot as plt\n",
    "from DS_healpix_fragmentation import find_biggest_pixel, one_pixel_fragmentation, \\\n",
    "    matr2dict"
   ]
  },
  {
   "cell_type": "code",
   "execution_count": 46,
   "metadata": {
    "ExecuteTime": {
     "end_time": "2020-11-17T18:51:02.946019Z",
     "start_time": "2020-11-17T18:51:02.935466Z"
    }
   },
   "outputs": [],
   "source": [
    "def radec2pixvec_dist(cen, pixv, nside):\n",
    "    import healpy as hp\n",
    "    from astropy.coordinates import SkyCoord\n",
    "    from astropy import units as u\n",
    "    \n",
    "    sc_cen = SkyCoord(ra=cen[0]*u.degree, dec=cen[1]*u.degree, frame='icrs')\n",
    "    l, b = hp.pix2ang(nside=nside, ipix=pixv, nest=True, lonlat=True)\n",
    "    sc_vec = SkyCoord(l=l*u.degree, b=b*u.degree, frame='galactic')\n",
    "    return sc_cen.separation(sc_vec).degree"
   ]
  },
  {
   "cell_type": "code",
   "execution_count": 28,
   "metadata": {
    "ExecuteTime": {
     "end_time": "2020-11-17T18:31:35.136146Z",
     "start_time": "2020-11-17T18:31:34.868321Z"
    }
   },
   "outputs": [],
   "source": [
    "pz = pd.read_csv('/home/rt2122/Data/clusters/act.csv')\n",
    "pz['len'] = 0"
   ]
  },
  {
   "cell_type": "code",
   "execution_count": 29,
   "metadata": {
    "ExecuteTime": {
     "end_time": "2020-11-17T18:32:02.675041Z",
     "start_time": "2020-11-17T18:31:35.233105Z"
    }
   },
   "outputs": [
    {
     "data": {
      "application/vnd.jupyter.widget-view+json": {
       "model_id": "34657237a53c4e2db74f470d85189ad3",
       "version_major": 2,
       "version_minor": 0
      },
      "text/plain": [
       "HBox(children=(FloatProgress(value=0.0, max=3720.0), HTML(value='')))"
      ]
     },
     "metadata": {},
     "output_type": "display_data"
    },
    {
     "name": "stdout",
     "output_type": "stream",
     "text": [
      "\n"
     ]
    }
   ],
   "source": [
    "for i in tqdm(range(len(pz))):\n",
    "    sc = SkyCoord(ra=pz['RA'].iloc[i]*u.degree, dec=pz['DEC'].iloc[i]*u.degree, \n",
    "              frame='icrs')\n",
    "    ipix = hp.query_disc(nside=2048, vec=hp.ang2vec(\n",
    "        theta=sc.galactic.l.degree, phi=sc.galactic.b.degree, lonlat=True), \n",
    "                     radius=np.radians(7.5/60), nest=True)\n",
    "    pz['len'].iloc[i] = len(ipix)"
   ]
  },
  {
   "cell_type": "code",
   "execution_count": 30,
   "metadata": {
    "ExecuteTime": {
     "end_time": "2020-11-17T18:32:02.692477Z",
     "start_time": "2020-11-17T18:32:02.679187Z"
    }
   },
   "outputs": [
    {
     "data": {
      "text/plain": [
       "(56, 59.90403225806452, 64)"
      ]
     },
     "execution_count": 30,
     "metadata": {},
     "output_type": "execute_result"
    }
   ],
   "source": [
    "pz['len'].min(), pz['len'].mean(), pz['len'].max()"
   ]
  },
  {
   "cell_type": "code",
   "execution_count": 32,
   "metadata": {
    "ExecuteTime": {
     "end_time": "2020-11-17T18:35:32.279874Z",
     "start_time": "2020-11-17T18:35:32.264339Z"
    }
   },
   "outputs": [
    {
     "data": {
      "text/plain": [
       "(16, 2834)"
      ]
     },
     "execution_count": 32,
     "metadata": {},
     "output_type": "execute_result"
    }
   ],
   "source": [
    "find_biggest_pixel(pz['RA'].iloc[0], pz['DEC'].iloc[0], radius=7.5/60)"
   ]
  },
  {
   "cell_type": "code",
   "execution_count": 34,
   "metadata": {
    "ExecuteTime": {
     "end_time": "2020-11-17T18:36:19.573244Z",
     "start_time": "2020-11-17T18:36:19.495982Z"
    }
   },
   "outputs": [
    {
     "data": {
      "text/plain": [
       "(128, 128)"
      ]
     },
     "execution_count": 34,
     "metadata": {},
     "output_type": "execute_result"
    }
   ],
   "source": [
    "matr = one_pixel_fragmentation(16, 2834, int(np.log2(2048 // 16)))\n",
    "matr.shape"
   ]
  },
  {
   "cell_type": "code",
   "execution_count": 39,
   "metadata": {
    "ExecuteTime": {
     "end_time": "2020-11-17T18:38:43.643941Z",
     "start_time": "2020-11-17T18:38:43.626370Z"
    }
   },
   "outputs": [],
   "source": [
    "mdict = matr2dict(matr)"
   ]
  },
  {
   "cell_type": "code",
   "execution_count": 38,
   "metadata": {
    "ExecuteTime": {
     "end_time": "2020-11-17T18:37:56.321671Z",
     "start_time": "2020-11-17T18:37:56.300040Z"
    }
   },
   "outputs": [],
   "source": [
    "i=0\n",
    "sc = SkyCoord(ra=pz['RA'].iloc[i]*u.degree, dec=pz['DEC'].iloc[i]*u.degree, \n",
    "          frame='icrs')\n",
    "ipix = hp.query_disc(nside=2048, vec=hp.ang2vec(\n",
    "    theta=sc.galactic.l.degree, phi=sc.galactic.b.degree, lonlat=True), \n",
    "                 radius=np.radians(7.5/60), nest=True)\n",
    "dist = pix2pixvec_dist(pz[['RA', 'DEC']].iloc[i], ipix, nside=2048)"
   ]
  },
  {
   "cell_type": "code",
   "execution_count": 43,
   "metadata": {
    "ExecuteTime": {
     "end_time": "2020-11-17T18:39:41.434210Z",
     "start_time": "2020-11-17T18:39:41.428062Z"
    }
   },
   "outputs": [],
   "source": [
    "mask = np.zeros_like(matr, dtype=np.float32)\n",
    "for i in range(len(ipix)):\n",
    "    pix = ipix[i]\n",
    "    mask[mdict[pix]] = dist[i]"
   ]
  },
  {
   "cell_type": "code",
   "execution_count": 44,
   "metadata": {
    "ExecuteTime": {
     "end_time": "2020-11-17T18:39:42.152717Z",
     "start_time": "2020-11-17T18:39:42.004842Z"
    }
   },
   "outputs": [
    {
     "data": {
      "text/plain": [
       "<matplotlib.image.AxesImage at 0x7ffb2f6b2670>"
      ]
     },
     "execution_count": 44,
     "metadata": {},
     "output_type": "execute_result"
    },
    {
     "data": {
      "image/png": "[encoded data removed]",
      "text/plain": [
       "<Figure size 432x288 with 1 Axes>"
      ]
     },
     "metadata": {
      "needs_background": "light"
     },
     "output_type": "display_data"
    }
   ],
   "source": [
    "plt.imshow(mask)"
   ]
  },
  {
   "cell_type": "code",
   "execution_count": 45,
   "metadata": {
    "ExecuteTime": {
     "end_time": "2020-11-17T18:47:51.601801Z",
     "start_time": "2020-11-17T18:47:51.595080Z"
    }
   },
   "outputs": [],
   "source": [
    "def radec2vec(ra, dec):\n",
    "    import numpy as np\n",
    "    from astropy.coordinates import SkyCoord\n",
    "    from astropy import units as u\n",
    "    \n",
    "    sc = SkyCoord(ra=np.array(ra)*u.degree, dec=np.array(dec)*u.degree, frame='icrs')\n",
    "    return hp.ang2vec(theta=sc.galactic.l.degree, \n",
    "                      phi=sc.galactic.b.degree, lonlat=True)"
   ]
  },
  {
   "cell_type": "code",
   "execution_count": 58,
   "metadata": {
    "ExecuteTime": {
     "end_time": "2020-11-17T19:01:40.246320Z",
     "start_time": "2020-11-17T19:01:40.232863Z"
    }
   },
   "outputs": [
    {
     "name": "stdout",
     "output_type": "stream",
     "text": [
      "[[ 1  2  3]\n",
      " [ 9 10  2]]\n",
      "[array([1, 9]), array([ 2, 10]), array([3, 2])]\n",
      "[array([3, 2]), array([1, 9]), array([ 2, 10])]\n",
      "[3 1 2]\n"
     ]
    }
   ],
   "source": [
    "a = np.array([1, 2, 3])\n",
    "b = np.array([9, 10, 2])\n",
    "c = np.stack([a, b])\n",
    "print(c)\n",
    "c = list(c.T)\n",
    "print(c)\n",
    "c = sorted(c, key=lambda x:x[1])\n",
    "print(c)\n",
    "c = np.array(c)\n",
    "print(c[:, 0])"
   ]
  },
  {
   "cell_type": "code",
   "execution_count": 61,
   "metadata": {
    "ExecuteTime": {
     "end_time": "2020-11-17T19:07:33.365652Z",
     "start_time": "2020-11-17T19:07:33.356465Z"
    }
   },
   "outputs": [
    {
     "data": {
      "text/plain": [
       "array([[1, 4],\n",
       "       [2, 4],\n",
       "       [3, 4],\n",
       "       [4, 4]])"
      ]
     },
     "execution_count": 61,
     "metadata": {},
     "output_type": "execute_result"
    }
   ],
   "source": [
    "a = [1, 2, 3, 4]\n",
    "b = [4, 4, 4, 4]\n",
    "np.stack([a, b], axis=1)"
   ]
  },
  {
   "cell_type": "code",
   "execution_count": 62,
   "metadata": {
    "ExecuteTime": {
     "end_time": "2020-11-17T19:07:42.289223Z",
     "start_time": "2020-11-17T19:07:42.279728Z"
    }
   },
   "outputs": [],
   "source": [
    "def get_planck_by_pix(ipix, planck_nside=2048, \n",
    "                      dirname='/home/rt2122/Data/Planck/normalized/'):\n",
    "    import numpy as np\n",
    "    import os\n",
    "    \n",
    "    files = sorted(next(os.walk(dirname))[-1])\n",
    "    res = []\n",
    "    for i_f, file in enumerate(files):\n",
    "        i_s = np.load(os.path.join(dirname, file))\n",
    "        res.append(i_s[ipix])\n",
    "    return np.stack(res, axis=1)"
   ]
  },
  {
   "cell_type": "code",
   "execution_count": 63,
   "metadata": {
    "ExecuteTime": {
     "end_time": "2020-11-17T19:07:55.535543Z",
     "start_time": "2020-11-17T19:07:55.524304Z"
    }
   },
   "outputs": [],
   "source": [
    "def radec2line_class(coords, radius=7.5/60, class_len=50, planck_nside=2048):\n",
    "    import numpy as np\n",
    "    import healpy as hp\n",
    "   #from DS_healpix_fragmentation import radec2vec \n",
    "    \n",
    "    vec = radec2vec(*coords)\n",
    "    closest_pix = hp.query_disc(nside=planck_nside, vec=vec, radius=np.radians(radius))\n",
    "    dists = radec2pixvec_dist(coords, closest_pix, nside=planck_nside)\n",
    "    #sort pix by dist\n",
    "    arr = list(np.stack([closest_pix, dists]).T)\n",
    "    arr = sorted(arr, key=lambda x:x[1])\n",
    "    \n",
    "    closest_pix = np.array(arr)[:,0]\n",
    "    return get_planck_by_pix(closest_pix)"
   ]
  },
  {
   "cell_type": "code",
   "execution_count": 64,
   "metadata": {
    "ExecuteTime": {
     "end_time": "2020-11-17T19:23:37.909949Z",
     "start_time": "2020-11-17T19:23:37.894637Z"
    }
   },
   "outputs": [],
   "source": [
    "def gen_data_for_class(tp_coef, n, cats, pix2, dirname='/home/rt2122/Data/clusters/',\n",
    "                      fp_file='/home/rt2122/Data/class/fp_coords/fp_pz_pnz_act.csv',\n",
    "                      radius=7.5/60, class_len=50):\n",
    "    import os\n",
    "    import numpy as np\n",
    "    import pandas as pd\n",
    "    from DS_healpix_fragmentation import radec2pix\n",
    "    \n",
    "    df_cat = pd.concat([pd.read_csv(os.path.join(dirname, cat + '.csv')) \n",
    "                        for cat in cats], ignore_index=True)\n",
    "    df_cat['pix2'] = radec2pix(df_cat['RA'], df_cat['DEC'], 2)\n",
    "    df_cat = df_cat[np.in1d(df_cat['pix2'], pix2)]\n",
    "    df_cat.index = np.arange(len(df_cat))\n",
    "    \n",
    "    n_tp = int(tp_coef * n)\n",
    "    n_fp = n - n_tp\n",
    "    \n",
    "    tp_df = df_cat.sample(n=n_tp)[['RA', 'DEC']]\n",
    "    fp_df = pd.read_csv(fp_file).sample(n=n_fp)[['RA', 'DEC']]\n",
    "    tp_df['y'] = True\n",
    "    fp_df['y'] = False\n",
    "    df = pd.concat([tp_df, fp_df], ignore_index=True)\n",
    "    \n",
    "    X = np.stack([radec2line_class(df['RA'].iloc[i], df['DEC'].iloc[i], \n",
    "                                radius=radius, class_len=class_len)\n",
    "               for i in range(len(df))])\n",
    "    \n",
    "    \n",
    "    y = np.array(df['y'])\n",
    "    return X, y"
   ]
  },
  {
   "cell_type": "code",
   "execution_count": null,
   "metadata": {},
   "outputs": [],
   "source": []
  }
 ],
 "metadata": {
  "kernelspec": {
   "display_name": "Python 3",
   "language": "python",
   "name": "python3"
  },
  "language_info": {
   "codemirror_mode": {
    "name": "ipython",
    "version": 3
   },
   "file_extension": ".py",
   "mimetype": "text/x-python",
   "name": "python",
   "nbconvert_exporter": "python",
   "pygments_lexer": "ipython3",
   "version": "3.8.3"
  }
 },
 "nbformat": 4,
 "nbformat_minor": 4
}
