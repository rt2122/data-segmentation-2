{
 "cells": [
  {
   "cell_type": "code",
   "execution_count": 1,
   "metadata": {
    "ExecuteTime": {
     "end_time": "2020-11-25T08:36:39.659793Z",
     "start_time": "2020-11-25T08:35:57.685498Z"
    }
   },
   "outputs": [],
   "source": [
    "import numpy as np\n",
    "import tensorflow as tf\n",
    "from DS_class import *\n",
    "from DS_Planck_Unet import train_pix_act, val_pix\n",
    "from sklearn.ensemble import RandomForestClassifier"
   ]
  },
  {
   "cell_type": "code",
   "execution_count": 2,
   "metadata": {
    "ExecuteTime": {
     "end_time": "2020-11-25T09:40:07.459760Z",
     "start_time": "2020-11-25T08:36:39.669642Z"
    }
   },
   "outputs": [],
   "source": [
    "train = gen_data_for_class(2/15, 15000, ['planck_z', 'act'], train_pix_act)\n",
    "val = gen_data_for_class(2/15, 400, ['planck_z', 'act'], val_pix)"
   ]
  },
  {
   "cell_type": "code",
   "execution_count": 3,
   "metadata": {
    "ExecuteTime": {
     "end_time": "2020-11-25T09:41:41.030823Z",
     "start_time": "2020-11-25T09:40:07.461468Z"
    }
   },
   "outputs": [
    {
     "data": {
      "text/plain": [
       "RandomForestClassifier(max_depth=256, n_estimators=256, random_state=0)"
      ]
     },
     "execution_count": 3,
     "metadata": {},
     "output_type": "execute_result"
    }
   ],
   "source": [
    "clf = RandomForestClassifier(max_depth=256, random_state=0, n_estimators=256)\n",
    "clf.fit(*train)"
   ]
  },
  {
   "cell_type": "code",
   "execution_count": 4,
   "metadata": {
    "ExecuteTime": {
     "end_time": "2020-11-25T09:41:41.085499Z",
     "start_time": "2020-11-25T09:41:41.032757Z"
    }
   },
   "outputs": [
    {
     "data": {
      "text/plain": [
       "0.865"
      ]
     },
     "execution_count": 4,
     "metadata": {},
     "output_type": "execute_result"
    }
   ],
   "source": [
    "clf.score(*val)"
   ]
  },
  {
   "cell_type": "code",
   "execution_count": 5,
   "metadata": {
    "ExecuteTime": {
     "end_time": "2020-11-25T09:47:14.655101Z",
     "start_time": "2020-11-25T09:41:41.087045Z"
    }
   },
   "outputs": [],
   "source": [
    "train_pz = gen_data_for_class(2/15, 1000, ['planck_z'], train_pix_act)\n",
    "val_pz = gen_data_for_class(2/15, 400, ['planck_z'], val_pix)"
   ]
  },
  {
   "cell_type": "code",
   "execution_count": 6,
   "metadata": {
    "ExecuteTime": {
     "end_time": "2020-11-25T09:47:17.772348Z",
     "start_time": "2020-11-25T09:47:14.656379Z"
    }
   },
   "outputs": [
    {
     "data": {
      "text/plain": [
       "0.8675"
      ]
     },
     "execution_count": 6,
     "metadata": {},
     "output_type": "execute_result"
    }
   ],
   "source": [
    "clf_pz = RandomForestClassifier(max_depth=256, random_state=0, n_estimators=256)\n",
    "clf_pz.fit(*train_pz)\n",
    "clf_pz.score(*val_pz)"
   ]
  },
  {
   "cell_type": "code",
   "execution_count": 7,
   "metadata": {
    "ExecuteTime": {
     "end_time": "2020-11-25T09:47:17.808543Z",
     "start_time": "2020-11-25T09:47:17.773644Z"
    }
   },
   "outputs": [
    {
     "data": {
      "text/plain": [
       "0.865"
      ]
     },
     "execution_count": 7,
     "metadata": {},
     "output_type": "execute_result"
    }
   ],
   "source": [
    "clf_pz.score(*val)"
   ]
  },
  {
   "cell_type": "code",
   "execution_count": null,
   "metadata": {},
   "outputs": [],
   "source": []
  }
 ],
 "metadata": {
  "kernelspec": {
   "display_name": "Python 3",
   "language": "python",
   "name": "python3"
  },
  "language_info": {
   "codemirror_mode": {
    "name": "ipython",
    "version": 3
   },
   "file_extension": ".py",
   "mimetype": "text/x-python",
   "name": "python",
   "nbconvert_exporter": "python",
   "pygments_lexer": "ipython3",
   "version": "3.8.3"
  }
 },
 "nbformat": 4,
 "nbformat_minor": 4
}
