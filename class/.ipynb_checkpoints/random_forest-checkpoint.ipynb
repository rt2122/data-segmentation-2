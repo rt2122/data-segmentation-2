{
 "cells": [
  {
   "cell_type": "code",
   "execution_count": 17,
   "metadata": {
    "ExecuteTime": {
     "end_time": "2020-11-25T13:13:03.553063Z",
     "start_time": "2020-11-25T13:13:03.515455Z"
    }
   },
   "outputs": [],
   "source": [
    "import numpy as np\n",
    "import tensorflow as tf\n",
    "import pandas as pd\n",
    "from matplotlib import pyplot as plt\n",
    "from DS_class import *\n",
    "from DS_Planck_Unet import train_pix_act, val_pix\n",
    "from sklearn.ensemble import RandomForestClassifier"
   ]
  },
  {
   "cell_type": "code",
   "execution_count": 2,
   "metadata": {
    "ExecuteTime": {
     "end_time": "2020-11-25T09:40:07.459760Z",
     "start_time": "2020-11-25T08:36:39.669642Z"
    }
   },
   "outputs": [],
   "source": [
    "train = gen_data_for_class(2/15, 15000, ['planck_z', 'act'], train_pix_act)\n",
    "val = gen_data_for_class(2/15, 400, ['planck_z', 'act'], val_pix)"
   ]
  },
  {
   "cell_type": "code",
   "execution_count": 3,
   "metadata": {
    "ExecuteTime": {
     "end_time": "2020-11-25T09:41:41.030823Z",
     "start_time": "2020-11-25T09:40:07.461468Z"
    }
   },
   "outputs": [
    {
     "data": {
      "text/plain": [
       "RandomForestClassifier(max_depth=256, n_estimators=256, random_state=0)"
      ]
     },
     "execution_count": 3,
     "metadata": {},
     "output_type": "execute_result"
    }
   ],
   "source": [
    "clf = RandomForestClassifier(max_depth=256, random_state=0, n_estimators=256)\n",
    "clf.fit(*train)"
   ]
  },
  {
   "cell_type": "code",
   "execution_count": 4,
   "metadata": {
    "ExecuteTime": {
     "end_time": "2020-11-25T09:41:41.085499Z",
     "start_time": "2020-11-25T09:41:41.032757Z"
    }
   },
   "outputs": [
    {
     "data": {
      "text/plain": [
       "0.865"
      ]
     },
     "execution_count": 4,
     "metadata": {},
     "output_type": "execute_result"
    }
   ],
   "source": [
    "clf.score(*val)"
   ]
  },
  {
   "cell_type": "code",
   "execution_count": 5,
   "metadata": {
    "ExecuteTime": {
     "end_time": "2020-11-25T09:47:14.655101Z",
     "start_time": "2020-11-25T09:41:41.087045Z"
    }
   },
   "outputs": [],
   "source": [
    "train_pz = gen_data_for_class(2/15, 1000, ['planck_z'], train_pix_act)\n",
    "val_pz = gen_data_for_class(2/15, 400, ['planck_z'], val_pix)"
   ]
  },
  {
   "cell_type": "code",
   "execution_count": 6,
   "metadata": {
    "ExecuteTime": {
     "end_time": "2020-11-25T09:47:17.772348Z",
     "start_time": "2020-11-25T09:47:14.656379Z"
    }
   },
   "outputs": [
    {
     "data": {
      "text/plain": [
       "0.8675"
      ]
     },
     "execution_count": 6,
     "metadata": {},
     "output_type": "execute_result"
    }
   ],
   "source": [
    "clf_pz = RandomForestClassifier(max_depth=256, random_state=0, n_estimators=256)\n",
    "clf_pz.fit(*train_pz)\n",
    "clf_pz.score(*val_pz)"
   ]
  },
  {
   "cell_type": "code",
   "execution_count": 7,
   "metadata": {
    "ExecuteTime": {
     "end_time": "2020-11-25T09:47:17.808543Z",
     "start_time": "2020-11-25T09:47:17.773644Z"
    }
   },
   "outputs": [
    {
     "data": {
      "text/plain": [
       "0.865"
      ]
     },
     "execution_count": 7,
     "metadata": {},
     "output_type": "execute_result"
    }
   ],
   "source": [
    "clf_pz.score(*val)"
   ]
  },
  {
   "cell_type": "code",
   "execution_count": 9,
   "metadata": {
    "ExecuteTime": {
     "end_time": "2020-11-25T12:30:20.833789Z",
     "start_time": "2020-11-25T12:30:20.757574Z"
    }
   },
   "outputs": [
    {
     "data": {
      "text/plain": [
       "(array([0.91015625, 0.08984375]), False)"
      ]
     },
     "execution_count": 9,
     "metadata": {},
     "output_type": "execute_result"
    }
   ],
   "source": [
    "ans = clf_pz.predict_proba(val_pz[0])"
   ]
  },
  {
   "cell_type": "code",
   "execution_count": 12,
   "metadata": {
    "ExecuteTime": {
     "end_time": "2020-11-25T12:32:13.198113Z",
     "start_time": "2020-11-25T12:32:13.171410Z"
    }
   },
   "outputs": [],
   "source": [
    "df = pd.read_csv('/home/rt2122/Data/detected_cats/c_act_ep11_val_st8_thr.1.csv')"
   ]
  },
  {
   "cell_type": "code",
   "execution_count": 13,
   "metadata": {
    "ExecuteTime": {
     "end_time": "2020-11-25T12:39:45.968319Z",
     "start_time": "2020-11-25T12:39:45.958693Z"
    }
   },
   "outputs": [],
   "source": [
    "def detected_cat2class(cat_df, clf, label='class', radius=7.5/60, class_len=50):\n",
    "    import numpy as np\n",
    "    import pandas as pd\n",
    "    from DS_healpix_fragmentation import radec2pix\n",
    "    \n",
    "    X = np.stack([radec2line_class([cat_df['RA'].iloc[i], cat_df['DEC'].iloc[i]], \n",
    "                                radius=radius, class_len=class_len).flatten()\n",
    "               for i in range(len(cat_df))])\n",
    "    ans = clf.predict_proba(X)\n",
    "    df[label] = ans[:, 1]\n",
    "    return df"
   ]
  },
  {
   "cell_type": "code",
   "execution_count": 14,
   "metadata": {
    "ExecuteTime": {
     "end_time": "2020-11-25T12:47:40.266695Z",
     "start_time": "2020-11-25T12:40:07.702247Z"
    }
   },
   "outputs": [],
   "source": [
    "df = detected_cat2class(df, clf_pz, 'clf_pz')"
   ]
  },
  {
   "cell_type": "code",
   "execution_count": 15,
   "metadata": {
    "ExecuteTime": {
     "end_time": "2020-11-25T13:12:24.966437Z",
     "start_time": "2020-11-25T13:12:24.960124Z"
    }
   },
   "outputs": [],
   "source": [
    "stats = {}\n",
    "stats['tp'] = df[df['status'] == 'tp']['clf_pz']\n",
    "stats['fp'] = df[df['status'] == 'fp']['clf_pz']"
   ]
  },
  {
   "cell_type": "code",
   "execution_count": 35,
   "metadata": {
    "ExecuteTime": {
     "end_time": "2020-11-25T13:21:28.462947Z",
     "start_time": "2020-11-25T13:21:28.265026Z"
    }
   },
   "outputs": [
    {
     "data": {
      "text/plain": [
       "<matplotlib.legend.Legend at 0x7f832271f5e0>"
      ]
     },
     "execution_count": 35,
     "metadata": {},
     "output_type": "execute_result"
    },
    {
     "data": {
      "image/png": "[encoded data removed]",
      "text/plain": [
       "<Figure size 360x216 with 1 Axes>"
      ]
     },
     "metadata": {
      "needs_background": "light"
     },
     "output_type": "display_data"
    }
   ],
   "source": [
    "_, ax = plt.subplots(1, 1, figsize=(5, 3))\n",
    "ax.hist(stats['tp'], bins=20, range=(0, 1), alpha=0.5, label='tp')\n",
    "ax.hist(stats['fp'], bins=20, range=(0, 1), alpha=0.5, label='fp')\n",
    "ax.legend()"
   ]
  },
  {
   "cell_type": "code",
   "execution_count": 21,
   "metadata": {
    "ExecuteTime": {
     "end_time": "2020-11-25T13:14:53.075701Z",
     "start_time": "2020-11-25T13:14:53.063745Z"
    }
   },
   "outputs": [
    {
     "data": {
      "text/plain": [
       "(237, 1226)"
      ]
     },
     "execution_count": 21,
     "metadata": {},
     "output_type": "execute_result"
    }
   ],
   "source": [
    "len(stats['tp']), len(stats['fp'])"
   ]
  },
  {
   "cell_type": "code",
   "execution_count": 24,
   "metadata": {
    "ExecuteTime": {
     "end_time": "2020-11-25T13:15:42.042349Z",
     "start_time": "2020-11-25T13:15:42.034154Z"
    }
   },
   "outputs": [
    {
     "data": {
      "text/plain": [
       "0.56640625"
      ]
     },
     "execution_count": 24,
     "metadata": {},
     "output_type": "execute_result"
    }
   ],
   "source": [
    "stats['tp'].max()\n",
    "stats['fp'].max()"
   ]
  },
  {
   "cell_type": "code",
   "execution_count": 36,
   "metadata": {
    "ExecuteTime": {
     "end_time": "2020-11-25T13:30:50.991007Z",
     "start_time": "2020-11-25T13:23:18.007388Z"
    }
   },
   "outputs": [
    {
     "data": {
      "text/plain": [
       "<matplotlib.legend.Legend at 0x7f8323503ca0>"
      ]
     },
     "execution_count": 36,
     "metadata": {},
     "output_type": "execute_result"
    },
    {
     "data": {
      "image/png": "[encoded data removed]",
      "text/plain": [
       "<Figure size 360x216 with 1 Axes>"
      ]
     },
     "metadata": {
      "needs_background": "light"
     },
     "output_type": "display_data"
    }
   ],
   "source": [
    "df = detected_cat2class(df, clf, 'clf')\n",
    "stats = {}\n",
    "stats['tp'] = df[df['status'] == 'tp']['clf']\n",
    "stats['fp'] = df[df['status'] == 'fp']['clf']\n",
    "_, ax = plt.subplots(1, 1, figsize=(5, 3))\n",
    "ax.hist(stats['tp'], bins=20, range=(0, 1), alpha=0.5, label='tp')\n",
    "ax.hist(stats['fp'], bins=20, range=(0, 1), alpha=0.5, label='fp')\n",
    "ax.legend()"
   ]
  },
  {
   "cell_type": "code",
   "execution_count": null,
   "metadata": {},
   "outputs": [],
   "source": []
  }
 ],
 "metadata": {
  "kernelspec": {
   "display_name": "Python 3",
   "language": "python",
   "name": "python3"
  },
  "language_info": {
   "codemirror_mode": {
    "name": "ipython",
    "version": 3
   },
   "file_extension": ".py",
   "mimetype": "text/x-python",
   "name": "python",
   "nbconvert_exporter": "python",
   "pygments_lexer": "ipython3",
   "version": "3.8.3"
  }
 },
 "nbformat": 4,
 "nbformat_minor": 4
}
