{
 "cells": [
  {
   "cell_type": "code",
   "execution_count": 22,
   "metadata": {
    "ExecuteTime": {
     "end_time": "2020-11-19T09:18:14.339069Z",
     "start_time": "2020-11-19T09:18:14.335833Z"
    }
   },
   "outputs": [],
   "source": [
    "import numpy as np\n",
    "import pandas as pd\n",
    "import healpy as hp\n",
    "from matplotlib import pyplot as plt\n",
    "from tqdm.notebook import tqdm\n",
    "from astropy.coordinates import SkyCoord\n",
    "from astropy import units as u\n",
    "from DS_Planck_Unet import train_pix_act, val_pix\n",
    "from DS_healpix_fragmentation import radec2pix, pix2pix, pix2radec, \\\n",
    "    one_pixel_fragmentation"
   ]
  },
  {
   "cell_type": "code",
   "execution_count": 2,
   "metadata": {
    "ExecuteTime": {
     "end_time": "2020-11-19T09:12:59.008383Z",
     "start_time": "2020-11-19T09:12:58.890385Z"
    }
   },
   "outputs": [],
   "source": [
    "pz = pd.read_csv('/home/rt2122/Data/clusters/planck_z.csv')\n",
    "pnz = pd.read_csv('/home/rt2122/Data/clusters/planck_no_z.csv')\n",
    "act = pd.read_csv('/home/rt2122/Data/clusters/act.csv')\n",
    "true_df = pd.concat([pz, pnz, act], ignore_index=True)"
   ]
  },
  {
   "cell_type": "code",
   "execution_count": 6,
   "metadata": {
    "ExecuteTime": {
     "end_time": "2020-11-19T09:14:17.733994Z",
     "start_time": "2020-11-19T09:14:17.701649Z"
    }
   },
   "outputs": [
    {
     "data": {
      "text/plain": [
       "[2, 8, 9, 11, 15, 32, 33, 36, 37, 38, 40, 41, 42, 44, 45]"
      ]
     },
     "execution_count": 6,
     "metadata": {},
     "output_type": "execute_result"
    }
   ],
   "source": [
    "act['pix2'] = radec2pix(act['RA'], act['DEC'], 2)\n",
    "act_pix = [i for i in range(48) if np.count_nonzero(act['pix2'] == i) > 100]\n",
    "act_pix"
   ]
  },
  {
   "cell_type": "code",
   "execution_count": 23,
   "metadata": {
    "ExecuteTime": {
     "end_time": "2020-11-19T09:18:32.708237Z",
     "start_time": "2020-11-19T09:18:32.698973Z"
    }
   },
   "outputs": [
    {
     "data": {
      "text/plain": [
       "{9, 38, 41}"
      ]
     },
     "execution_count": 23,
     "metadata": {},
     "output_type": "execute_result"
    }
   ],
   "source": [
    "set(act_pix).intersection(val_pix)"
   ]
  },
  {
   "cell_type": "code",
   "execution_count": 7,
   "metadata": {
    "ExecuteTime": {
     "end_time": "2020-11-19T09:14:18.650012Z",
     "start_time": "2020-11-19T09:14:18.640868Z"
    }
   },
   "outputs": [
    {
     "data": {
      "text/plain": [
       "(5373, 54)"
      ]
     },
     "execution_count": 7,
     "metadata": {},
     "output_type": "execute_result"
    }
   ],
   "source": [
    "true_df.shape"
   ]
  },
  {
   "cell_type": "code",
   "execution_count": 8,
   "metadata": {
    "ExecuteTime": {
     "end_time": "2020-11-19T09:14:20.875950Z",
     "start_time": "2020-11-19T09:14:20.870102Z"
    }
   },
   "outputs": [
    {
     "data": {
      "text/plain": [
       "[2, 8, 10, 11, 13, 15, 32, 33, 36, 37, 40, 42, 43, 44, 45, 46]"
      ]
     },
     "execution_count": 8,
     "metadata": {},
     "output_type": "execute_result"
    }
   ],
   "source": [
    "train_pix_act"
   ]
  },
  {
   "cell_type": "code",
   "execution_count": 9,
   "metadata": {
    "ExecuteTime": {
     "end_time": "2020-11-19T09:14:22.613476Z",
     "start_time": "2020-11-19T09:14:22.605900Z"
    }
   },
   "outputs": [],
   "source": [
    "def get_small_pix(big_pix):\n",
    "    from DS_healpix_fragmentation import one_pixel_fragmentation\n",
    "    \n",
    "    matr = one_pixel_fragmentation(2, big_pix, 10)\n",
    "    return matr.flatten()"
   ]
  },
  {
   "cell_type": "code",
   "execution_count": 10,
   "metadata": {
    "ExecuteTime": {
     "end_time": "2020-11-19T09:14:27.949818Z",
     "start_time": "2020-11-19T09:14:27.923059Z"
    }
   },
   "outputs": [],
   "source": [
    "true_df['pix2'] = radec2pix(true_df['RA'], true_df['DEC'], 2)"
   ]
  },
  {
   "cell_type": "code",
   "execution_count": 11,
   "metadata": {
    "ExecuteTime": {
     "end_time": "2020-11-19T09:14:33.877343Z",
     "start_time": "2020-11-19T09:14:33.419188Z"
    }
   },
   "outputs": [],
   "source": [
    "sc = SkyCoord(ra=true_df['RA']*u.degree, dec=true_df['DEC']*u.degree, frame='icrs')\n",
    "true_df['l'] = sc.galactic.l.degree\n",
    "true_df['b'] = sc.galactic.b.degree"
   ]
  },
  {
   "cell_type": "code",
   "execution_count": 24,
   "metadata": {
    "ExecuteTime": {
     "end_time": "2020-11-19T09:22:25.783002Z",
     "start_time": "2020-11-19T09:21:25.068918Z"
    }
   },
   "outputs": [
    {
     "data": {
      "application/vnd.jupyter.widget-view+json": {
       "model_id": "43eb67cdf71e449ca04dc15c1ad9ecaf",
       "version_major": 2,
       "version_minor": 0
      },
      "text/plain": [
       "HBox(children=(FloatProgress(value=0.0, max=15.0), HTML(value='')))"
      ]
     },
     "metadata": {},
     "output_type": "display_data"
    },
    {
     "name": "stdout",
     "output_type": "stream",
     "text": [
      "\n"
     ]
    }
   ],
   "source": [
    "pix_dict = {}\n",
    "for pix in tqdm(act_pix):\n",
    "    true_cur = true_df[true_df['pix2'] == pix]\n",
    "    vecs = hp.ang2vec(true_cur['l'], true_cur['b'], lonlat=True)\n",
    "    train_space = set(get_small_pix(pix))\n",
    "    for vec in vecs:\n",
    "        cur_pix = hp.query_disc(2048, vec, radius=np.radians(15/60))\n",
    "        train_space -= set(cur_pix)\n",
    "    pix_dict[pix] = train_space"
   ]
  },
  {
   "cell_type": "code",
   "execution_count": 25,
   "metadata": {
    "ExecuteTime": {
     "end_time": "2020-11-19T09:22:26.102579Z",
     "start_time": "2020-11-19T09:22:25.784848Z"
    }
   },
   "outputs": [],
   "source": [
    "all_pix = []\n",
    "for pix in pix_dict:\n",
    "    all_pix.extend(list(pix_dict[pix]))"
   ]
  },
  {
   "cell_type": "code",
   "execution_count": 26,
   "metadata": {
    "ExecuteTime": {
     "end_time": "2020-11-19T09:22:26.109747Z",
     "start_time": "2020-11-19T09:22:26.104415Z"
    }
   },
   "outputs": [
    {
     "data": {
      "text/plain": [
       "15691485"
      ]
     },
     "execution_count": 26,
     "metadata": {},
     "output_type": "execute_result"
    }
   ],
   "source": [
    "len(all_pix)"
   ]
  },
  {
   "cell_type": "code",
   "execution_count": 27,
   "metadata": {
    "ExecuteTime": {
     "end_time": "2020-11-19T09:22:32.866893Z",
     "start_time": "2020-11-19T09:22:26.111765Z"
    }
   },
   "outputs": [],
   "source": [
    "df = pd.DataFrame({'pix' : np.array(all_pix), 'pix2' : [-1] * len(all_pix)})\n",
    "df['pix2'] = pix2pix(np.array(list(all_pix)), 2048, 2)"
   ]
  },
  {
   "cell_type": "code",
   "execution_count": 33,
   "metadata": {
    "ExecuteTime": {
     "end_time": "2020-11-19T09:23:12.263618Z",
     "start_time": "2020-11-19T09:22:56.040257Z"
    }
   },
   "outputs": [],
   "source": [
    "df.to_csv('/home/rt2122/Data/class/fp_coords/fp_pz_pnz_act.csv', index=False)"
   ]
  },
  {
   "cell_type": "code",
   "execution_count": 28,
   "metadata": {
    "ExecuteTime": {
     "end_time": "2020-11-19T09:22:32.871815Z",
     "start_time": "2020-11-19T09:22:32.867983Z"
    }
   },
   "outputs": [
    {
     "data": {
      "text/plain": [
       "15691485"
      ]
     },
     "execution_count": 28,
     "metadata": {},
     "output_type": "execute_result"
    }
   ],
   "source": [
    "len(df)"
   ]
  },
  {
   "cell_type": "code",
   "execution_count": 30,
   "metadata": {
    "ExecuteTime": {
     "end_time": "2020-11-19T09:22:36.623712Z",
     "start_time": "2020-11-19T09:22:35.941314Z"
    }
   },
   "outputs": [
    {
     "data": {
      "text/plain": [
       "3922872"
      ]
     },
     "execution_count": 30,
     "metadata": {},
     "output_type": "execute_result"
    }
   ],
   "source": [
    "df = df.iloc[range(0, len(df), 2)]\n",
    "len(df)"
   ]
  },
  {
   "cell_type": "code",
   "execution_count": 31,
   "metadata": {
    "ExecuteTime": {
     "end_time": "2020-11-19T09:22:47.099065Z",
     "start_time": "2020-11-19T09:22:47.082373Z"
    }
   },
   "outputs": [],
   "source": [
    "list(df)\n",
    "df.index = np.arange(len(df))"
   ]
  },
  {
   "cell_type": "code",
   "execution_count": 32,
   "metadata": {
    "ExecuteTime": {
     "end_time": "2020-11-19T09:22:50.978839Z",
     "start_time": "2020-11-19T09:22:47.906321Z"
    }
   },
   "outputs": [
    {
     "name": "stdout",
     "output_type": "stream",
     "text": [
      "<class 'numpy.ndarray'>\n"
     ]
    }
   ],
   "source": [
    "print(type(np.array(df['pix'])))\n",
    "ra, dec = pix2radec(list(df['pix']), nside=2048)\n",
    "df['RA'] = ra\n",
    "df['DEC'] = dec"
   ]
  },
  {
   "cell_type": "code",
   "execution_count": 60,
   "metadata": {
    "ExecuteTime": {
     "end_time": "2020-11-16T16:08:50.312938Z",
     "start_time": "2020-11-16T16:08:50.308764Z"
    }
   },
   "outputs": [],
   "source": [
    "def draw_pic_class(ra, dec, radius=7.5/60, p_nside=2048):\n",
    "    from DS_healpix_fragmentation import find_biggest_pixel, one_pixel_fragmentation,\\\n",
    "        draw_proper_circle, matr2dict\n",
    "    \n",
    "    o_nside, o_pix = find_biggest_pixel(ra, dec, radius)\n",
    "    matr = one_pixel_fragmentation(o_nside, o_pix, int(np.log2(p_nside // o_nside)))\n",
    "    return len(draw_proper_circle(ra, dec, radius, p_nside, mdict=matr2dict(matr), \n",
    "            shape=matr.shape, coords_mode=True))"
   ]
  },
  {
   "cell_type": "code",
   "execution_count": 108,
   "metadata": {
    "ExecuteTime": {
     "end_time": "2020-11-16T16:46:42.795786Z",
     "start_time": "2020-11-16T16:45:03.110445Z"
    }
   },
   "outputs": [
    {
     "data": {
      "application/vnd.jupyter.widget-view+json": {
       "model_id": "15fe690d7c514fedb22d2c4bd8f40dd4",
       "version_major": 2,
       "version_minor": 0
      },
      "text/plain": [
       "HBox(children=(FloatProgress(value=0.0, max=1094.0), HTML(value='')))"
      ]
     },
     "metadata": {},
     "output_type": "display_data"
    },
    {
     "name": "stdout",
     "output_type": "stream",
     "text": [
      "\n"
     ]
    },
    {
     "data": {
      "text/plain": [
       "17"
      ]
     },
     "execution_count": 108,
     "metadata": {},
     "output_type": "execute_result"
    }
   ],
   "source": [
    "min_len = 100\n",
    "for i in tqdm(range(len(pz))):\n",
    "    min_len = min(min_len, draw_pic_class(pz['RA'].iloc[i], pz['DEC'].iloc[i]))\n",
    "min_len"
   ]
  },
  {
   "cell_type": "code",
   "execution_count": 109,
   "metadata": {
    "ExecuteTime": {
     "end_time": "2020-11-16T16:47:32.886377Z",
     "start_time": "2020-11-16T16:46:42.797610Z"
    }
   },
   "outputs": [
    {
     "data": {
      "application/vnd.jupyter.widget-view+json": {
       "model_id": "d541c9a588284a9e872d86eef0761ce1",
       "version_major": 2,
       "version_minor": 0
      },
      "text/plain": [
       "HBox(children=(FloatProgress(value=0.0, max=559.0), HTML(value='')))"
      ]
     },
     "metadata": {},
     "output_type": "display_data"
    },
    {
     "name": "stdout",
     "output_type": "stream",
     "text": [
      "\n"
     ]
    },
    {
     "data": {
      "text/plain": [
       "40"
      ]
     },
     "execution_count": 109,
     "metadata": {},
     "output_type": "execute_result"
    }
   ],
   "source": [
    "min_len = 100\n",
    "for i in tqdm(range(len(pnz))):\n",
    "    min_len = min(min_len, draw_pic_class(pnz['RA'].iloc[i], pnz['DEC'].iloc[i]))\n",
    "min_len"
   ]
  },
  {
   "cell_type": "code",
   "execution_count": 110,
   "metadata": {
    "ExecuteTime": {
     "end_time": "2020-11-16T16:48:44.384165Z",
     "start_time": "2020-11-16T16:47:32.887678Z"
    }
   },
   "outputs": [
    {
     "data": {
      "application/vnd.jupyter.widget-view+json": {
       "model_id": "4b11d6046fce42af938d9db63fbe9348",
       "version_major": 2,
       "version_minor": 0
      },
      "text/plain": [
       "HBox(children=(FloatProgress(value=0.0, max=3720.0), HTML(value='')))"
      ]
     },
     "metadata": {},
     "output_type": "display_data"
    },
    {
     "name": "stdout",
     "output_type": "stream",
     "text": [
      "\n"
     ]
    },
    {
     "ename": "KeyboardInterrupt",
     "evalue": "",
     "output_type": "error",
     "traceback": [
      "\u001b[0;31m---------------------------------------------------------------------------\u001b[0m",
      "\u001b[0;31mKeyboardInterrupt\u001b[0m                         Traceback (most recent call last)",
      "\u001b[0;32m<ipython-input-110-9e971ff2c1f5>\u001b[0m in \u001b[0;36m<module>\u001b[0;34m\u001b[0m\n\u001b[1;32m      1\u001b[0m \u001b[0mmin_len\u001b[0m \u001b[0;34m=\u001b[0m \u001b[0;36m100\u001b[0m\u001b[0;34m\u001b[0m\u001b[0;34m\u001b[0m\u001b[0m\n\u001b[1;32m      2\u001b[0m \u001b[0;32mfor\u001b[0m \u001b[0mi\u001b[0m \u001b[0;32min\u001b[0m \u001b[0mtqdm\u001b[0m\u001b[0;34m(\u001b[0m\u001b[0mrange\u001b[0m\u001b[0;34m(\u001b[0m\u001b[0mlen\u001b[0m\u001b[0;34m(\u001b[0m\u001b[0mact\u001b[0m\u001b[0;34m)\u001b[0m\u001b[0;34m)\u001b[0m\u001b[0;34m)\u001b[0m\u001b[0;34m:\u001b[0m\u001b[0;34m\u001b[0m\u001b[0;34m\u001b[0m\u001b[0m\n\u001b[0;32m----> 3\u001b[0;31m     \u001b[0mmin_len\u001b[0m \u001b[0;34m=\u001b[0m \u001b[0mmin\u001b[0m\u001b[0;34m(\u001b[0m\u001b[0mmin_len\u001b[0m\u001b[0;34m,\u001b[0m \u001b[0mdraw_pic_class\u001b[0m\u001b[0;34m(\u001b[0m\u001b[0mact\u001b[0m\u001b[0;34m[\u001b[0m\u001b[0;34m'RA'\u001b[0m\u001b[0;34m]\u001b[0m\u001b[0;34m.\u001b[0m\u001b[0miloc\u001b[0m\u001b[0;34m[\u001b[0m\u001b[0mi\u001b[0m\u001b[0;34m]\u001b[0m\u001b[0;34m,\u001b[0m \u001b[0mact\u001b[0m\u001b[0;34m[\u001b[0m\u001b[0;34m'DEC'\u001b[0m\u001b[0;34m]\u001b[0m\u001b[0;34m.\u001b[0m\u001b[0miloc\u001b[0m\u001b[0;34m[\u001b[0m\u001b[0mi\u001b[0m\u001b[0;34m]\u001b[0m\u001b[0;34m)\u001b[0m\u001b[0;34m)\u001b[0m\u001b[0;34m\u001b[0m\u001b[0;34m\u001b[0m\u001b[0m\n\u001b[0m\u001b[1;32m      4\u001b[0m \u001b[0mmin_len\u001b[0m\u001b[0;34m\u001b[0m\u001b[0;34m\u001b[0m\u001b[0m\n",
      "\u001b[0;32m<ipython-input-60-a931c1c643ce>\u001b[0m in \u001b[0;36mdraw_pic_class\u001b[0;34m(ra, dec, radius, p_nside)\u001b[0m\n\u001b[1;32m      5\u001b[0m     \u001b[0mo_nside\u001b[0m\u001b[0;34m,\u001b[0m \u001b[0mo_pix\u001b[0m \u001b[0;34m=\u001b[0m \u001b[0mfind_biggest_pixel\u001b[0m\u001b[0;34m(\u001b[0m\u001b[0mra\u001b[0m\u001b[0;34m,\u001b[0m \u001b[0mdec\u001b[0m\u001b[0;34m,\u001b[0m \u001b[0mradius\u001b[0m\u001b[0;34m)\u001b[0m\u001b[0;34m\u001b[0m\u001b[0;34m\u001b[0m\u001b[0m\n\u001b[1;32m      6\u001b[0m     \u001b[0mmatr\u001b[0m \u001b[0;34m=\u001b[0m \u001b[0mone_pixel_fragmentation\u001b[0m\u001b[0;34m(\u001b[0m\u001b[0mo_nside\u001b[0m\u001b[0;34m,\u001b[0m \u001b[0mo_pix\u001b[0m\u001b[0;34m,\u001b[0m \u001b[0mint\u001b[0m\u001b[0;34m(\u001b[0m\u001b[0mnp\u001b[0m\u001b[0;34m.\u001b[0m\u001b[0mlog2\u001b[0m\u001b[0;34m(\u001b[0m\u001b[0mp_nside\u001b[0m \u001b[0;34m//\u001b[0m \u001b[0mo_nside\u001b[0m\u001b[0;34m)\u001b[0m\u001b[0;34m)\u001b[0m\u001b[0;34m)\u001b[0m\u001b[0;34m\u001b[0m\u001b[0;34m\u001b[0m\u001b[0m\n\u001b[0;32m----> 7\u001b[0;31m     return len(draw_proper_circle(ra, dec, radius, p_nside, mdict=matr2dict(matr), \n\u001b[0m\u001b[1;32m      8\u001b[0m             shape=matr.shape, coords_mode=True))\n",
      "\u001b[0;32m~/L/git/data-segmentation-2/modules/DS_healpix_fragmentation.py\u001b[0m in \u001b[0;36mmatr2dict\u001b[0;34m(matr)\u001b[0m\n\u001b[1;32m     54\u001b[0m     \u001b[0;32mfor\u001b[0m \u001b[0mi\u001b[0m \u001b[0;32min\u001b[0m \u001b[0mrange\u001b[0m\u001b[0;34m(\u001b[0m\u001b[0mmatr\u001b[0m\u001b[0;34m.\u001b[0m\u001b[0mshape\u001b[0m\u001b[0;34m[\u001b[0m\u001b[0;36m0\u001b[0m\u001b[0;34m]\u001b[0m\u001b[0;34m)\u001b[0m\u001b[0;34m:\u001b[0m\u001b[0;34m\u001b[0m\u001b[0;34m\u001b[0m\u001b[0m\n\u001b[1;32m     55\u001b[0m         \u001b[0;32mfor\u001b[0m \u001b[0mj\u001b[0m \u001b[0;32min\u001b[0m \u001b[0mrange\u001b[0m\u001b[0;34m(\u001b[0m\u001b[0mmatr\u001b[0m\u001b[0;34m.\u001b[0m\u001b[0mshape\u001b[0m\u001b[0;34m[\u001b[0m\u001b[0;36m1\u001b[0m\u001b[0;34m]\u001b[0m\u001b[0;34m)\u001b[0m\u001b[0;34m:\u001b[0m\u001b[0;34m\u001b[0m\u001b[0;34m\u001b[0m\u001b[0m\n\u001b[0;32m---> 56\u001b[0;31m             \u001b[0md\u001b[0m\u001b[0;34m[\u001b[0m\u001b[0mmatr\u001b[0m\u001b[0;34m[\u001b[0m\u001b[0mi\u001b[0m\u001b[0;34m,\u001b[0m \u001b[0mj\u001b[0m\u001b[0;34m]\u001b[0m\u001b[0;34m]\u001b[0m \u001b[0;34m=\u001b[0m \u001b[0;34m(\u001b[0m\u001b[0mi\u001b[0m\u001b[0;34m,\u001b[0m \u001b[0mj\u001b[0m\u001b[0;34m)\u001b[0m\u001b[0;34m\u001b[0m\u001b[0;34m\u001b[0m\u001b[0m\n\u001b[0m\u001b[1;32m     57\u001b[0m     \u001b[0;32mreturn\u001b[0m \u001b[0md\u001b[0m\u001b[0;34m\u001b[0m\u001b[0;34m\u001b[0m\u001b[0m\n\u001b[1;32m     58\u001b[0m \u001b[0;34m\u001b[0m\u001b[0m\n",
      "\u001b[0;31mKeyboardInterrupt\u001b[0m: "
     ]
    }
   ],
   "source": [
    "min_len = 100\n",
    "for i in tqdm(range(len(act))):\n",
    "    min_len = min(min_len, draw_pic_class(act['RA'].iloc[i], act['DEC'].iloc[i]))\n",
    "min_len"
   ]
  },
  {
   "cell_type": "code",
   "execution_count": 70,
   "metadata": {
    "ExecuteTime": {
     "end_time": "2020-11-16T16:19:14.962455Z",
     "start_time": "2020-11-16T16:19:14.955759Z"
    }
   },
   "outputs": [
    {
     "name": "stdout",
     "output_type": "stream",
     "text": [
      "None\n"
     ]
    }
   ],
   "source": [
    "print([12,4, 2].extend([2, 3]))"
   ]
  },
  {
   "cell_type": "code",
   "execution_count": 100,
   "metadata": {
    "ExecuteTime": {
     "end_time": "2020-11-16T16:37:52.824424Z",
     "start_time": "2020-11-16T16:36:15.331395Z"
    }
   },
   "outputs": [
    {
     "data": {
      "application/vnd.jupyter.widget-view+json": {
       "model_id": "c62b4b7971154a039bb8c919c9dd3c68",
       "version_major": 2,
       "version_minor": 0
      },
      "text/plain": [
       "HBox(children=(FloatProgress(value=0.0, max=16.0), HTML(value='')))"
      ]
     },
     "metadata": {},
     "output_type": "display_data"
    },
    {
     "name": "stdout",
     "output_type": "stream",
     "text": [
      "\n",
      "-1024\n"
     ]
    }
   ],
   "source": [
    "#cut borders of pix2\n",
    "pred_len = len(all_pix)\n",
    "for pix2 in tqdm(act_pix):\n",
    "    matr = one_pixel_fragmentation(2, pix2, 10)\n",
    "    idx = list(range(32))\n",
    "    idx.extend(list(range(1024-32, 1024)))\n",
    "    all_pix = list(set(all_pix) - set(matr[idx, idx].flatten()))\n",
    "print(len(all_pix) - pred_len)"
   ]
  },
  {
   "cell_type": "code",
   "execution_count": 76,
   "metadata": {
    "ExecuteTime": {
     "end_time": "2020-11-16T16:24:08.454494Z",
     "start_time": "2020-11-16T16:24:08.445103Z"
    }
   },
   "outputs": [
    {
     "data": {
      "text/plain": [
       "16750512"
      ]
     },
     "execution_count": 76,
     "metadata": {},
     "output_type": "execute_result"
    }
   ],
   "source": [
    "len(all_pix)"
   ]
  },
  {
   "cell_type": "code",
   "execution_count": null,
   "metadata": {},
   "outputs": [],
   "source": []
  }
 ],
 "metadata": {
  "kernelspec": {
   "display_name": "Python 3",
   "language": "python",
   "name": "python3"
  },
  "language_info": {
   "codemirror_mode": {
    "name": "ipython",
    "version": 3
   },
   "file_extension": ".py",
   "mimetype": "text/x-python",
   "name": "python",
   "nbconvert_exporter": "python",
   "pygments_lexer": "ipython3",
   "version": "3.8.3"
  }
 },
 "nbformat": 4,
 "nbformat_minor": 4
}
