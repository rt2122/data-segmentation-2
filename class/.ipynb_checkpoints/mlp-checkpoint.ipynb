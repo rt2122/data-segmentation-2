{
 "cells": [
  {
   "cell_type": "code",
   "execution_count": 2,
   "metadata": {
    "ExecuteTime": {
     "end_time": "2020-11-23T08:43:34.367981Z",
     "start_time": "2020-11-23T08:42:59.604032Z"
    }
   },
   "outputs": [],
   "source": [
    "import numpy as np\n",
    "import tensorflow as tf\n",
    "from DS_class import *\n",
    "from DS_Planck_Unet import train_pix_act, val_pix"
   ]
  },
  {
   "cell_type": "code",
   "execution_count": 55,
   "metadata": {
    "ExecuteTime": {
     "end_time": "2020-11-23T09:57:09.164783Z",
     "start_time": "2020-11-23T09:57:09.138535Z"
    }
   },
   "outputs": [],
   "source": [
    "units = [50*6, 40*6, 40]\n",
    "model = tf.keras.Sequential(\n",
    "    [\n",
    "        tf.keras.layers.Dense(units[0], activation=\"relu\", name=\"layer1\"),\n",
    "        tf.keras.layers.Dropout(0.3),\n",
    "        tf.keras.layers.Dense(units[1], activation=\"relu\", name=\"layer2\"),\n",
    "        tf.keras.layers.Dropout(0.3),\n",
    "        tf.keras.layers.Dense(units[2], activation=\"relu\", name=\"layer3\"),\n",
    "        tf.keras.layers.Dropout(0.3),\n",
    "        tf.keras.layers.Dense(1, activation=\"sigmoid\", name=\"layer4\") \n",
    "    ]\n",
    ")\n",
    "model.compile(optimizer=tf.keras.optimizers.Adam(learning_rate=0.01), \n",
    "              loss=\"binary_crossentropy\", metrics=['accuracy'])"
   ]
  },
  {
   "cell_type": "code",
   "execution_count": 5,
   "metadata": {
    "ExecuteTime": {
     "end_time": "2020-11-23T09:11:01.021970Z",
     "start_time": "2020-11-23T08:48:31.160451Z"
    }
   },
   "outputs": [],
   "source": [
    "train = gen_data_for_class(0.5, 4000, ['planck_z', 'act'], train_pix_act)\n",
    "val = gen_data_for_class(2/15, 400, ['planck_z', 'act'], val_pix)"
   ]
  },
  {
   "cell_type": "code",
   "execution_count": 65,
   "metadata": {
    "ExecuteTime": {
     "end_time": "2020-11-23T09:58:17.143498Z",
     "start_time": "2020-11-23T09:58:15.563285Z"
    }
   },
   "outputs": [
    {
     "data": {
      "text/plain": [
       "<tensorflow.python.keras.callbacks.History at 0x7fe7a4349190>"
      ]
     },
     "execution_count": 65,
     "metadata": {},
     "output_type": "execute_result"
    }
   ],
   "source": [
    "model.fit(train[0], train[1], epochs=20, batch_size=100, shuffle=True, verbose=0)"
   ]
  },
  {
   "cell_type": "code",
   "execution_count": 66,
   "metadata": {
    "ExecuteTime": {
     "end_time": "2020-11-23T09:58:19.903713Z",
     "start_time": "2020-11-23T09:58:19.851832Z"
    }
   },
   "outputs": [],
   "source": [
    "ans = model.predict(val[0])"
   ]
  },
  {
   "cell_type": "code",
   "execution_count": 67,
   "metadata": {
    "ExecuteTime": {
     "end_time": "2020-11-23T09:58:20.305581Z",
     "start_time": "2020-11-23T09:58:20.088287Z"
    }
   },
   "outputs": [
    {
     "name": "stdout",
     "output_type": "stream",
     "text": [
      "125/125 [==============================] - 0s 1ms/step - loss: 0.6932 - accuracy: 0.5000\n"
     ]
    }
   ],
   "source": [
    "accuracy = model.evaluate(train[0], train[1])"
   ]
  },
  {
   "cell_type": "code",
   "execution_count": 68,
   "metadata": {
    "ExecuteTime": {
     "end_time": "2020-11-23T09:58:20.380879Z",
     "start_time": "2020-11-23T09:58:20.307931Z"
    }
   },
   "outputs": [
    {
     "name": "stdout",
     "output_type": "stream",
     "text": [
      "13/13 [==============================] - 0s 2ms/step - loss: 0.6983 - accuracy: 0.1325\n"
     ]
    }
   ],
   "source": [
    "accuracy = model.evaluate(*val)"
   ]
  },
  {
   "cell_type": "code",
   "execution_count": null,
   "metadata": {},
   "outputs": [],
   "source": []
  }
 ],
 "metadata": {
  "kernelspec": {
   "display_name": "Python 3",
   "language": "python",
   "name": "python3"
  },
  "language_info": {
   "codemirror_mode": {
    "name": "ipython",
    "version": 3
   },
   "file_extension": ".py",
   "mimetype": "text/x-python",
   "name": "python",
   "nbconvert_exporter": "python",
   "pygments_lexer": "ipython3",
   "version": "3.8.3"
  }
 },
 "nbformat": 4,
 "nbformat_minor": 4
}
