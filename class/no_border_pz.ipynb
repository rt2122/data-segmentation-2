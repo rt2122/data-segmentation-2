{
 "cells": [
  {
   "cell_type": "code",
   "execution_count": 16,
   "metadata": {
    "ExecuteTime": {
     "end_time": "2020-11-17T13:18:38.085991Z",
     "start_time": "2020-11-17T13:18:37.410765Z"
    }
   },
   "outputs": [],
   "source": [
    "import numpy as np\n",
    "import pandas as pd\n",
    "import healpy as hp\n",
    "from matplotlib import pyplot as plt\n",
    "from tqdm.notebook import tqdm\n",
    "from DS_healpix_fragmentation import one_pixel_fragmentation, matr2dict, radec2pix,\\\n",
    "    draw_proper_circle, pix2radec"
   ]
  },
  {
   "cell_type": "code",
   "execution_count": 33,
   "metadata": {
    "ExecuteTime": {
     "end_time": "2020-11-17T14:28:19.361813Z",
     "start_time": "2020-11-17T14:28:19.343376Z"
    }
   },
   "outputs": [],
   "source": [
    "pz = pd.read_csv('/home/rt2122/Data/clusters/planck_z.csv')"
   ]
  },
  {
   "cell_type": "code",
   "execution_count": 3,
   "metadata": {
    "ExecuteTime": {
     "end_time": "2020-11-17T13:14:14.205442Z",
     "start_time": "2020-11-17T13:10:44.201706Z"
    }
   },
   "outputs": [],
   "source": [
    "matrs = {}\n",
    "for i in range(48):\n",
    "    matrs[i] = one_pixel_fragmentation(2, i, 10)"
   ]
  },
  {
   "cell_type": "code",
   "execution_count": 4,
   "metadata": {
    "ExecuteTime": {
     "end_time": "2020-11-17T13:14:29.776901Z",
     "start_time": "2020-11-17T13:14:14.206844Z"
    }
   },
   "outputs": [],
   "source": [
    "dicts = {}\n",
    "for i in range(48):\n",
    "    dicts[i] = matr2dict(matrs[i])"
   ]
  },
  {
   "cell_type": "code",
   "execution_count": 34,
   "metadata": {
    "ExecuteTime": {
     "end_time": "2020-11-17T14:28:24.197528Z",
     "start_time": "2020-11-17T14:28:24.190591Z"
    }
   },
   "outputs": [],
   "source": [
    "pz['border'] = False"
   ]
  },
  {
   "cell_type": "code",
   "execution_count": 35,
   "metadata": {
    "ExecuteTime": {
     "end_time": "2020-11-17T14:28:24.546837Z",
     "start_time": "2020-11-17T14:28:24.498689Z"
    }
   },
   "outputs": [],
   "source": [
    "pz['pix2'] = radec2pix(pz['RA'], pz['DEC'], 2) "
   ]
  },
  {
   "cell_type": "code",
   "execution_count": 36,
   "metadata": {
    "ExecuteTime": {
     "end_time": "2020-11-17T14:28:33.977820Z",
     "start_time": "2020-11-17T14:28:26.085883Z"
    }
   },
   "outputs": [
    {
     "data": {
      "application/vnd.jupyter.widget-view+json": {
       "model_id": "f966812f63e84656b526c929fd398af3",
       "version_major": 2,
       "version_minor": 0
      },
      "text/plain": [
       "HBox(children=(FloatProgress(value=0.0, max=1094.0), HTML(value='')))"
      ]
     },
     "metadata": {},
     "output_type": "display_data"
    },
    {
     "name": "stdout",
     "output_type": "stream",
     "text": [
      "\n"
     ]
    }
   ],
   "source": [
    "border = 64\n",
    "for i in tqdm(range(len(pz))):\n",
    "    pix = radec2pix(pz['RA'].iloc[i], pz['DEC'].iloc[i], 2048)\n",
    "    pix2 = pz['pix2'].iloc[i]\n",
    "    coords = dicts[pix2][pix]\n",
    "    for x in coords:\n",
    "        if x < border or x > 1024 - border:\n",
    "            pz['border'].iloc[i] = True"
   ]
  },
  {
   "cell_type": "code",
   "execution_count": 37,
   "metadata": {
    "ExecuteTime": {
     "end_time": "2020-11-17T14:28:33.986305Z",
     "start_time": "2020-11-17T14:28:33.983113Z"
    }
   },
   "outputs": [
    {
     "data": {
      "text/plain": [
       "260"
      ]
     },
     "execution_count": 37,
     "metadata": {},
     "output_type": "execute_result"
    }
   ],
   "source": [
    "np.count_nonzero(pz['border'])"
   ]
  },
  {
   "cell_type": "code",
   "execution_count": 38,
   "metadata": {
    "ExecuteTime": {
     "end_time": "2020-11-17T14:28:44.491771Z",
     "start_time": "2020-11-17T14:28:44.485037Z"
    }
   },
   "outputs": [
    {
     "data": {
      "text/plain": [
       "834"
      ]
     },
     "execution_count": 38,
     "metadata": {},
     "output_type": "execute_result"
    }
   ],
   "source": [
    "pz = pz[pz['border'] == False]\n",
    "pz.index = np.arange(len(pz))\n",
    "len(pz)"
   ]
  },
  {
   "cell_type": "code",
   "execution_count": 69,
   "metadata": {
    "ExecuteTime": {
     "end_time": "2020-11-17T17:50:04.279298Z",
     "start_time": "2020-11-17T17:50:04.271152Z"
    }
   },
   "outputs": [],
   "source": [
    "def size_pic_class(ra, dec, radius=7.5/60, p_nside=2048):\n",
    "    from DS_healpix_fragmentation import find_biggest_pixel, one_pixel_fragmentation,\\\n",
    "        draw_proper_circle, matr2dict\n",
    "    \n",
    "    o_nside, o_pix = find_biggest_pixel(ra, dec, radius)\n",
    "    matr = one_pixel_fragmentation(o_nside, o_pix, int(np.log2(p_nside // o_nside)))\n",
    "    return np.count_nonzero(draw_proper_circle(ra, dec, radius, p_nside, mdict=matr2dict(matr), \n",
    "            shape=matr.shape, coords_mode=False))"
   ]
  },
  {
   "cell_type": "code",
   "execution_count": 70,
   "metadata": {
    "ExecuteTime": {
     "end_time": "2020-11-17T17:50:08.693029Z",
     "start_time": "2020-11-17T17:50:08.686398Z"
    }
   },
   "outputs": [],
   "source": [
    "pz['len'] = 0"
   ]
  },
  {
   "cell_type": "code",
   "execution_count": 80,
   "metadata": {
    "ExecuteTime": {
     "end_time": "2020-11-17T17:54:36.267278Z",
     "start_time": "2020-11-17T17:54:27.861747Z"
    }
   },
   "outputs": [
    {
     "data": {
      "application/vnd.jupyter.widget-view+json": {
       "model_id": "52dff19befc1439b9eb5fbfc302a0a25",
       "version_major": 2,
       "version_minor": 0
      },
      "text/plain": [
       "HBox(children=(FloatProgress(value=0.0, max=834.0), HTML(value='')))"
      ]
     },
     "metadata": {},
     "output_type": "display_data"
    },
    {
     "name": "stderr",
     "output_type": "stream",
     "text": [
      "/home/rt2122/anaconda3/lib/python3.8/site-packages/pandas/core/indexing.py:671: SettingWithCopyWarning: \n",
      "A value is trying to be set on a copy of a slice from a DataFrame\n",
      "\n",
      "See the caveats in the documentation: https://pandas.pydata.org/pandas-docs/stable/user_guide/indexing.html#returning-a-view-versus-a-copy\n",
      "  self._setitem_with_indexer(indexer, value)\n"
     ]
    },
    {
     "name": "stdout",
     "output_type": "stream",
     "text": [
      "\n"
     ]
    }
   ],
   "source": [
    "for i in tqdm(range(len(pz))):\n",
    "    pz['len'].iloc[i]=np.count_nonzero(draw_proper_circle(pz['RA'].iloc[i], \n",
    "                pz['DEC'].iloc[i], shape=(1024, 1024), \n",
    "                  radius=7.5/60, mdict=dicts[pz['pix2'].iloc[i]], nside=2048, \n",
    "                                                          coords_mode=False))"
   ]
  },
  {
   "cell_type": "code",
   "execution_count": 22,
   "metadata": {
    "ExecuteTime": {
     "end_time": "2020-11-17T14:08:33.822485Z",
     "start_time": "2020-11-17T13:23:12.073457Z"
    }
   },
   "outputs": [
    {
     "data": {
      "application/vnd.jupyter.widget-view+json": {
       "model_id": "73f84d4ae4524ba88c850bf0b4d2a319",
       "version_major": 2,
       "version_minor": 0
      },
      "text/plain": [
       "HBox(children=(FloatProgress(value=0.0, max=48.0), HTML(value='')))"
      ]
     },
     "metadata": {},
     "output_type": "display_data"
    },
    {
     "name": "stdout",
     "output_type": "stream",
     "text": [
      "\n"
     ]
    }
   ],
   "source": [
    "masks = {}\n",
    "size = 1024\n",
    "for i in tqdm(range(48)):\n",
    "    mask = np.zeros((size, size), dtype=np.bool)\n",
    "    for idx in range(size):\n",
    "        for b_idx in [0, size-1]:\n",
    "            for pair in [(idx, b_idx), (b_idx, idx)]:\n",
    "                pix = matrs[i][pair]\n",
    "                ra, dec = pix2radec(pix, nside=2048) \n",
    "                mask = np.logical_or(mask, draw_proper_circle(ra, dec, shape=mask.shape,\n",
    "                    radius=7.5/60, mdict=dicts[i], nside=2048, coords_mode=False))\n",
    "    masks[i] = mask"
   ]
  },
  {
   "cell_type": "code",
   "execution_count": 25,
   "metadata": {
    "ExecuteTime": {
     "end_time": "2020-11-17T14:23:04.626116Z",
     "start_time": "2020-11-17T14:23:04.557013Z"
    }
   },
   "outputs": [
    {
     "data": {
      "text/plain": [
       "(1024, 1024)"
      ]
     },
     "execution_count": 25,
     "metadata": {},
     "output_type": "execute_result"
    }
   ],
   "source": [
    "all_mask = np.sum([masks[i] for i in range(48)], axis=0)\n",
    "all_mask.shape"
   ]
  },
  {
   "cell_type": "code",
   "execution_count": 27,
   "metadata": {
    "ExecuteTime": {
     "end_time": "2020-11-17T14:23:23.783589Z",
     "start_time": "2020-11-17T14:23:23.631672Z"
    }
   },
   "outputs": [
    {
     "data": {
      "text/plain": [
       "<matplotlib.image.AxesImage at 0x7fdf26c49370>"
      ]
     },
     "execution_count": 27,
     "metadata": {},
     "output_type": "execute_result"
    },
    {
     "data": {
      "image/png": "[encoded data removed]",
      "text/plain": [
       "<Figure size 432x288 with 1 Axes>"
      ]
     },
     "metadata": {
      "needs_background": "light"
     },
     "output_type": "display_data"
    }
   ],
   "source": [
    "plt.imshow(all_mask[:10, :10])"
   ]
  },
  {
   "cell_type": "code",
   "execution_count": 79,
   "metadata": {
    "ExecuteTime": {
     "end_time": "2020-11-17T17:54:14.756604Z",
     "start_time": "2020-11-17T17:54:14.752079Z"
    }
   },
   "outputs": [
    {
     "data": {
      "text/plain": [
       "Name           PSZ2 G135.06+54.39\n",
       "RA                         178.09\n",
       "DEC                       61.3191\n",
       "z                          0.3169\n",
       "M500                      5.40514\n",
       "MCXC                             \n",
       "RedMAPPer                        \n",
       "border                      False\n",
       "pix2                            7\n",
       "len                            82\n",
       "Name: 331, dtype: object"
      ]
     },
     "execution_count": 79,
     "metadata": {},
     "output_type": "execute_result"
    }
   ],
   "source": [
    "idx =331 \n",
    "pz.iloc[idx]"
   ]
  },
  {
   "cell_type": "code",
   "execution_count": 75,
   "metadata": {
    "ExecuteTime": {
     "end_time": "2020-11-17T17:52:11.287358Z",
     "start_time": "2020-11-17T17:52:11.260408Z"
    }
   },
   "outputs": [
    {
     "data": {
      "text/plain": [
       "82"
      ]
     },
     "execution_count": 75,
     "metadata": {},
     "output_type": "execute_result"
    }
   ],
   "source": [
    "np.count_nonzero(draw_proper_circle(pz['RA'].iloc[idx], pz['DEC'].iloc[idx], shape=(1024, 1024), \n",
    "                  radius=7.5/60, mdict=dicts[pz['pix2'].iloc[idx]], nside=2048, coords_mode=False))"
   ]
  },
  {
   "cell_type": "code",
   "execution_count": 46,
   "metadata": {
    "ExecuteTime": {
     "end_time": "2020-11-17T17:15:17.257009Z",
     "start_time": "2020-11-17T17:15:17.248416Z"
    }
   },
   "outputs": [
    {
     "data": {
      "text/plain": [
       "79.64868105515588"
      ]
     },
     "execution_count": 46,
     "metadata": {},
     "output_type": "execute_result"
    }
   ],
   "source": [
    "pz['len'].mean()"
   ]
  },
  {
   "cell_type": "code",
   "execution_count": 81,
   "metadata": {
    "ExecuteTime": {
     "end_time": "2020-11-17T17:54:38.955079Z",
     "start_time": "2020-11-17T17:54:38.943395Z"
    }
   },
   "outputs": [
    {
     "data": {
      "text/plain": [
       "(76, 82.17745803357315, 87)"
      ]
     },
     "execution_count": 81,
     "metadata": {},
     "output_type": "execute_result"
    }
   ],
   "source": [
    "pz['len'].min(), pz['len'].mean(), pz['len'].max()"
   ]
  },
  {
   "cell_type": "code",
   "execution_count": 82,
   "metadata": {
    "ExecuteTime": {
     "end_time": "2020-11-17T17:54:40.362498Z",
     "start_time": "2020-11-17T17:54:40.346740Z"
    }
   },
   "outputs": [
    {
     "data": {
      "text/html": [
       "<div>\n",
       "<style scoped>\n",
       "    .dataframe tbody tr th:only-of-type {\n",
       "        vertical-align: middle;\n",
       "    }\n",
       "\n",
       "    .dataframe tbody tr th {\n",
       "        vertical-align: top;\n",
       "    }\n",
       "\n",
       "    .dataframe thead th {\n",
       "        text-align: right;\n",
       "    }\n",
       "</style>\n",
       "<table border=\"1\" class=\"dataframe\">\n",
       "  <thead>\n",
       "    <tr style=\"text-align: right;\">\n",
       "      <th></th>\n",
       "      <th>Name</th>\n",
       "      <th>RA</th>\n",
       "      <th>DEC</th>\n",
       "      <th>z</th>\n",
       "      <th>M500</th>\n",
       "      <th>MCXC</th>\n",
       "      <th>RedMAPPer</th>\n",
       "      <th>border</th>\n",
       "      <th>pix2</th>\n",
       "      <th>len</th>\n",
       "    </tr>\n",
       "  </thead>\n",
       "  <tbody>\n",
       "  </tbody>\n",
       "</table>\n",
       "</div>"
      ],
      "text/plain": [
       "Empty DataFrame\n",
       "Columns: [Name, RA, DEC, z, M500, MCXC, RedMAPPer, border, pix2, len]\n",
       "Index: []"
      ]
     },
     "execution_count": 82,
     "metadata": {},
     "output_type": "execute_result"
    }
   ],
   "source": [
    "pz[pz['len'] < 40]"
   ]
  },
  {
   "cell_type": "code",
   "execution_count": null,
   "metadata": {},
   "outputs": [],
   "source": []
  }
 ],
 "metadata": {
  "kernelspec": {
   "display_name": "Python 3",
   "language": "python",
   "name": "python3"
  },
  "language_info": {
   "codemirror_mode": {
    "name": "ipython",
    "version": 3
   },
   "file_extension": ".py",
   "mimetype": "text/x-python",
   "name": "python",
   "nbconvert_exporter": "python",
   "pygments_lexer": "ipython3",
   "version": "3.8.3"
  }
 },
 "nbformat": 4,
 "nbformat_minor": 4
}
