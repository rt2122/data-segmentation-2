{
 "cells": [
  {
   "cell_type": "code",
   "execution_count": 1,
   "metadata": {
    "ExecuteTime": {
     "end_time": "2020-12-11T14:48:53.390812Z",
     "start_time": "2020-12-11T14:48:40.457724Z"
    }
   },
   "outputs": [],
   "source": [
    "import numpy as np\n",
    "import pandas as pd\n",
    "from matplotlib import pyplot as plt\n",
    "from DS_Planck_Unet import load_planck_model, draw_pic_with_mask\n",
    "from DS_healpix_fragmentation import *\n",
    "from DS_data_transformation import pic2fits\n",
    "import os\n",
    "from astropy.coordinates import SkyCoord\n",
    "from astropy import units as u"
   ]
  },
  {
   "cell_type": "code",
   "execution_count": 2,
   "metadata": {
    "ExecuteTime": {
     "end_time": "2020-12-11T14:49:27.288351Z",
     "start_time": "2020-12-11T14:48:53.409869Z"
    }
   },
   "outputs": [],
   "source": [
    "pz_model = load_planck_model(\n",
    "    '/home/rt2122/Models/planck_z/f8d2.ep0014-vl0.006570-l0.004067.hdf5')\n",
    "act_model = load_planck_model(\n",
    "    '/home/rt2122/Models/act_cut/act_cut.ep0010-vl0.034219-l0.032022.hdf5')"
   ]
  },
  {
   "cell_type": "code",
   "execution_count": 3,
   "metadata": {
    "ExecuteTime": {
     "end_time": "2020-12-11T14:49:27.303181Z",
     "start_time": "2020-12-11T14:49:27.292812Z"
    }
   },
   "outputs": [
    {
     "data": {
      "text/plain": [
       "{'pz0': [280.308927, 30.912179]}"
      ]
     },
     "execution_count": 3,
     "metadata": {},
     "output_type": "execute_result"
    }
   ],
   "source": [
    "coords = {\n",
    "    #'Coma' : [194.9356, 28.0256], \n",
    "    #'Leo' : [11*15+44/4, 19+45/60], \n",
    "    #'A399' : [2*15+57/4, 13+2/60], \n",
    "    #'Shapley' : [13*15+25/4, -30],\n",
    "    'pz0' : [280.308927, 30.912179],\n",
    "    #'pz1' : [276.363142,30.419430], \n",
    "    #'pz2' : [273.534617,18.279171],\n",
    "    #'pz3' : [265.087735,31.618461]\n",
    "}\n",
    "coords"
   ]
  },
  {
   "cell_type": "code",
   "execution_count": 4,
   "metadata": {
    "ExecuteTime": {
     "end_time": "2020-12-11T14:49:31.279917Z",
     "start_time": "2020-12-11T14:49:27.306507Z"
    }
   },
   "outputs": [
    {
     "name": "stdout",
     "output_type": "stream",
     "text": [
      "4\n"
     ]
    }
   ],
   "source": [
    "matrs = {}\n",
    "size=16\n",
    "for key in coords:\n",
    "    big_nside, big_pix = find_biggest_pixel(*coords[key], 500/60)\n",
    "    print(big_nside)\n",
    "    matr = one_pixel_fragmentation(big_nside, big_pix, \n",
    "                                   int(np.log2(2**11 / big_nside)))\n",
    "    mdict = matr2dict(matr)\n",
    "    x, y = mdict[radec2pix(*coords[key], 2**11)]\n",
    "    matr = matr[max(0, x-size):min(x+size, matr.shape[0]-1), \n",
    "                max(y-size, 0):min(y+size, matr.shape[1] - 1)]\n",
    "    matrs[key] = matr"
   ]
  },
  {
   "cell_type": "code",
   "execution_count": 5,
   "metadata": {
    "ExecuteTime": {
     "end_time": "2020-12-11T14:49:31.288947Z",
     "start_time": "2020-12-11T14:49:31.281073Z"
    }
   },
   "outputs": [],
   "source": [
    "def gen_scan_by_matr(matr, model, step=8, size=64):\n",
    "    import numpy as np\n",
    "    from DS_Planck_Unet import draw_pic\n",
    "    from DS_data_transformation import normalize\n",
    "    \n",
    "    mask = np.zeros(list(matr.shape) + [1], dtype=np.float64)\n",
    "    divider = np.zeros(list(matr.shape) + [1], dtype=np.float64)\n",
    "    pic = normalize(draw_pic(matr))\n",
    "    ypic = normalize(draw_pic(matr, y=True))\n",
    "    \n",
    "    st = []\n",
    "    for k in range(2):\n",
    "        x_st = [i for i in range(0, matr.shape[k], step) \n",
    "                if i + size <= matr.shape[k]] + [matr.shape[k] - size]\n",
    "        last = matr.shape[k] - size\n",
    "        if x_st[-1] != last:\n",
    "            x_st.append(last)\n",
    "        st.append(x_st)\n",
    "    \n",
    "    for x in st[0]:\n",
    "        for y in st[1]:\n",
    "            ans = model.predict(np.array([pic[x:x+64, y:y+64]]))[0]\n",
    "            mask[x:x+64, y:y+64] += ans \n",
    "            divider[x:x+64, y:y+64] += 1\n",
    "    return mask\n",
    "    #return np.dstack([pic, ypic, normalize(mask / divider)])"
   ]
  },
  {
   "cell_type": "code",
   "execution_count": 6,
   "metadata": {
    "ExecuteTime": {
     "end_time": "2020-12-11T14:49:54.009855Z",
     "start_time": "2020-12-11T14:49:31.290637Z"
    }
   },
   "outputs": [
    {
     "name": "stdout",
     "output_type": "stream",
     "text": [
      "(32, 32)\n",
      "WARNING:tensorflow:Model was constructed with shape (None, 64, 64, 6) for input Tensor(\"input_1:0\", shape=(None, 64, 64, 6), dtype=float32), but it was called on an input with incompatible shape (None, 32, 32, 6).\n"
     ]
    }
   ],
   "source": [
    "pics = {}\n",
    "for key in matrs:\n",
    "    print(matrs[key].shape)\n",
    "    pic = gen_scan_by_matr(matrs[key], pz_model)\n",
    "    pics[key] = pic"
   ]
  },
  {
   "cell_type": "code",
   "execution_count": 7,
   "metadata": {
    "ExecuteTime": {
     "end_time": "2020-12-11T14:49:54.920369Z",
     "start_time": "2020-12-11T14:49:54.016326Z"
    }
   },
   "outputs": [
    {
     "name": "stdout",
     "output_type": "stream",
     "text": [
      "WARNING:tensorflow:Model was constructed with shape (None, 64, 64, 6) for input Tensor(\"input_1_1:0\", shape=(None, 64, 64, 6), dtype=float32), but it was called on an input with incompatible shape (None, 32, 32, 6).\n"
     ]
    }
   ],
   "source": [
    "preds = {'pz14' : gen_scan_by_matr(matrs['pz0'], pz_model), \n",
    "        'pz_act10' : gen_scan_by_matr(matrs['pz0'], act_model)}"
   ]
  },
  {
   "cell_type": "code",
   "execution_count": 8,
   "metadata": {
    "ExecuteTime": {
     "end_time": "2020-12-11T14:49:55.141083Z",
     "start_time": "2020-12-11T14:49:54.921960Z"
    }
   },
   "outputs": [
    {
     "ename": "NameError",
     "evalue": "name 'cooords' is not defined",
     "output_type": "error",
     "traceback": [
      "\u001b[0;31m---------------------------------------------------------------------------\u001b[0m",
      "\u001b[0;31mNameError\u001b[0m                                 Traceback (most recent call last)",
      "\u001b[0;32m<ipython-input-8-4ee65dad05ad>\u001b[0m in \u001b[0;36m<module>\u001b[0;34m\u001b[0m\n\u001b[0;32m----> 1\u001b[0;31m \u001b[0m_\u001b[0m\u001b[0;34m,\u001b[0m \u001b[0max\u001b[0m \u001b[0;34m=\u001b[0m \u001b[0mplt\u001b[0m\u001b[0;34m.\u001b[0m\u001b[0msubplots\u001b[0m\u001b[0;34m(\u001b[0m\u001b[0mlen\u001b[0m\u001b[0;34m(\u001b[0m\u001b[0mcooords\u001b[0m\u001b[0;34m)\u001b[0m\u001b[0;34m,\u001b[0m \u001b[0;36m5\u001b[0m\u001b[0;34m,\u001b[0m \u001b[0mfigsize\u001b[0m\u001b[0;34m=\u001b[0m\u001b[0;34m(\u001b[0m\u001b[0;36m16\u001b[0m\u001b[0;34m,\u001b[0m \u001b[0;36m14\u001b[0m\u001b[0;34m)\u001b[0m\u001b[0;34m)\u001b[0m\u001b[0;34m\u001b[0m\u001b[0;34m\u001b[0m\u001b[0m\n\u001b[0m\u001b[1;32m      2\u001b[0m \u001b[0;32mfor\u001b[0m \u001b[0mi\u001b[0m\u001b[0;34m,\u001b[0m \u001b[0mkey\u001b[0m \u001b[0;32min\u001b[0m \u001b[0menumerate\u001b[0m\u001b[0;34m(\u001b[0m\u001b[0mcoords\u001b[0m\u001b[0;34m)\u001b[0m\u001b[0;34m:\u001b[0m\u001b[0;34m\u001b[0m\u001b[0;34m\u001b[0m\u001b[0m\n\u001b[1;32m      3\u001b[0m     \u001b[0max\u001b[0m\u001b[0;34m[\u001b[0m\u001b[0mi\u001b[0m\u001b[0;34m]\u001b[0m\u001b[0;34m[\u001b[0m\u001b[0;36m0\u001b[0m\u001b[0;34m]\u001b[0m\u001b[0;34m.\u001b[0m\u001b[0mset_ylabel\u001b[0m\u001b[0;34m(\u001b[0m\u001b[0mkey\u001b[0m\u001b[0;34m)\u001b[0m\u001b[0;34m\u001b[0m\u001b[0;34m\u001b[0m\u001b[0m\n\u001b[1;32m      4\u001b[0m     \u001b[0max\u001b[0m\u001b[0;34m[\u001b[0m\u001b[0mi\u001b[0m\u001b[0;34m]\u001b[0m\u001b[0;34m[\u001b[0m\u001b[0;36m0\u001b[0m\u001b[0;34m]\u001b[0m\u001b[0;34m.\u001b[0m\u001b[0mimshow\u001b[0m\u001b[0;34m(\u001b[0m\u001b[0mpics\u001b[0m\u001b[0;34m[\u001b[0m\u001b[0mkey\u001b[0m\u001b[0;34m]\u001b[0m\u001b[0;34m[\u001b[0m\u001b[0;34m:\u001b[0m\u001b[0;34m,\u001b[0m\u001b[0;34m:\u001b[0m\u001b[0;34m,\u001b[0m\u001b[0;36m0\u001b[0m\u001b[0;34m]\u001b[0m\u001b[0;34m)\u001b[0m\u001b[0;34m\u001b[0m\u001b[0;34m\u001b[0m\u001b[0m\n\u001b[1;32m      5\u001b[0m     \u001b[0max\u001b[0m\u001b[0;34m[\u001b[0m\u001b[0mi\u001b[0m\u001b[0;34m]\u001b[0m\u001b[0;34m[\u001b[0m\u001b[0;36m1\u001b[0m\u001b[0;34m]\u001b[0m\u001b[0;34m.\u001b[0m\u001b[0mimshow\u001b[0m\u001b[0;34m(\u001b[0m\u001b[0mpics\u001b[0m\u001b[0;34m[\u001b[0m\u001b[0mkey\u001b[0m\u001b[0;34m]\u001b[0m\u001b[0;34m[\u001b[0m\u001b[0;34m:\u001b[0m\u001b[0;34m,\u001b[0m\u001b[0;34m:\u001b[0m\u001b[0;34m,\u001b[0m\u001b[0;36m1\u001b[0m\u001b[0;34m]\u001b[0m\u001b[0;34m)\u001b[0m\u001b[0;34m\u001b[0m\u001b[0;34m\u001b[0m\u001b[0m\n",
      "\u001b[0;31mNameError\u001b[0m: name 'cooords' is not defined"
     ]
    }
   ],
   "source": [
    "_, ax = plt.subplots(len(coords), 5, figsize=(16, 14))\n",
    "for i, key in enumerate(coords):\n",
    "    ax[i][0].set_ylabel(key)\n",
    "    ax[i][0].imshow(pics[key][:,:,0]) \n",
    "    ax[i][1].imshow(pics[key][:,:,1]) \n",
    "    ax[i][2].imshow(pics[key][:,:,2]) \n",
    "    ax[i][3].imshow(pics[key][:,:,7]) #mask\n",
    "    ax[i][4].imshow(pics[key][:,:,6]) #ypic\n",
    "    if key == 'Leo':\n",
    "        ax[i][0].set_xlabel('100')\n",
    "        ax[i][1].set_xlabel('143')\n",
    "        ax[i][2].set_xlabel('217')\n",
    "        ax[i][3].set_xlabel('mask')\n",
    "        ax[i][4].set_xlabel('y')"
   ]
  },
  {
   "cell_type": "code",
   "execution_count": null,
   "metadata": {
    "ExecuteTime": {
     "end_time": "2020-12-11T14:49:55.143043Z",
     "start_time": "2020-12-11T14:49:20.002Z"
    }
   },
   "outputs": [],
   "source": [
    "for key in pics:\n",
    "    pic2fits(pics[key], None, os.path.join('/home/rt2122/Data/cur/4pics', key + '.fits'))"
   ]
  },
  {
   "cell_type": "code",
   "execution_count": 21,
   "metadata": {
    "ExecuteTime": {
     "end_time": "2020-12-02T22:41:45.584932Z",
     "start_time": "2020-12-02T22:41:45.217807Z"
    }
   },
   "outputs": [],
   "source": [
    "df_pz_act = pd.read_csv(\n",
    "    '/home/rt2122/Data/scans_old/scans_extended/connected/full_act_cut_ep14_thr0.1_step8.csv')\n",
    "df_pz = pd.read_csv('/home/rt2122/Data/scans_old/scans_extended/connected/ep14_thr0.1_step8_nofn.csv')"
   ]
  },
  {
   "cell_type": "code",
   "execution_count": 29,
   "metadata": {
    "ExecuteTime": {
     "end_time": "2020-12-02T22:50:13.637404Z",
     "start_time": "2020-12-02T22:50:13.594198Z"
    }
   },
   "outputs": [
    {
     "name": "stdout",
     "output_type": "stream",
     "text": [
      "Совпадения с каталогами на расстояниях [2.5, 5.0, 10.0] минут\n",
      "Coma\n",
      "pz     [0, 0, 0]\n",
      "pz_act [0, 0, 1]\n",
      "Leo\n",
      "pz     [0, 0, 1]\n",
      "pz_act [0, 1, 1]\n",
      "A399\n",
      "pz     [0, 0, 1]\n",
      "pz_act [0, 0, 0]\n",
      "Shapley\n",
      "pz     [0, 0, 0]\n",
      "pz_act [0, 0, 0]\n"
     ]
    }
   ],
   "source": [
    "pz_sc = SkyCoord(ra=np.array(df_pz['RA'])*u.degree, \n",
    "                 dec=np.array(df_pz['DEC'])*u.degree, frame='icrs')\n",
    "pz_act_sc = SkyCoord(ra=np.array(df_pz_act['RA'])*u.degree, \n",
    "                 dec=np.array(df_pz_act['DEC'])*u.degree, frame='icrs')\n",
    "thr_list = (2.5/60, 5/60, 10/60)\n",
    "print('Совпадения с каталогами на расстояниях', [60 * k for k in thr_list], 'минут')\n",
    "for key in coords:\n",
    "    sc = SkyCoord(ra=coords[key][0]*u.degree, dec=coords[key][1]*u.degree, frame='icrs')\n",
    "    print(key)\n",
    "    dist = sc.separation(pz_sc).degree\n",
    "    print('pz    ', [np.count_nonzero(dist < thr) for thr in thr_list])\n",
    "    dist = sc.separation(pz_act_sc).degree\n",
    "    print('pz_act', [np.count_nonzero(dist < thr) for thr in thr_list])"
   ]
  },
  {
   "cell_type": "code",
   "execution_count": 18,
   "metadata": {
    "ExecuteTime": {
     "end_time": "2020-12-10T08:48:51.838293Z",
     "start_time": "2020-12-10T08:48:51.782878Z"
    }
   },
   "outputs": [
    {
     "data": {
      "text/html": [
       "<div>\n",
       "<style scoped>\n",
       "    .dataframe tbody tr th:only-of-type {\n",
       "        vertical-align: middle;\n",
       "    }\n",
       "\n",
       "    .dataframe tbody tr th {\n",
       "        vertical-align: top;\n",
       "    }\n",
       "\n",
       "    .dataframe thead th {\n",
       "        text-align: right;\n",
       "    }\n",
       "</style>\n",
       "<table border=\"1\" class=\"dataframe\">\n",
       "  <thead>\n",
       "    <tr style=\"text-align: right;\">\n",
       "      <th></th>\n",
       "      <th>RA</th>\n",
       "      <th>DEC</th>\n",
       "      <th>area</th>\n",
       "      <th>min_rad</th>\n",
       "      <th>max_rad</th>\n",
       "      <th>mean_rad</th>\n",
       "      <th>min_pred</th>\n",
       "      <th>max_pred</th>\n",
       "      <th>tRA</th>\n",
       "      <th>tDEC</th>\n",
       "      <th>status</th>\n",
       "      <th>catalog</th>\n",
       "    </tr>\n",
       "  </thead>\n",
       "  <tbody>\n",
       "    <tr>\n",
       "      <th>285</th>\n",
       "      <td>280.308927</td>\n",
       "      <td>30.912179</td>\n",
       "      <td>28.0</td>\n",
       "      <td>1.869859</td>\n",
       "      <td>4.165188</td>\n",
       "      <td>3.082730</td>\n",
       "      <td>0.104544</td>\n",
       "      <td>0.988940</td>\n",
       "      <td>280.278406</td>\n",
       "      <td>30.932247</td>\n",
       "      <td>tp</td>\n",
       "      <td>planck_z</td>\n",
       "    </tr>\n",
       "    <tr>\n",
       "      <th>288</th>\n",
       "      <td>276.363142</td>\n",
       "      <td>30.419430</td>\n",
       "      <td>32.0</td>\n",
       "      <td>2.174412</td>\n",
       "      <td>4.240044</td>\n",
       "      <td>3.223798</td>\n",
       "      <td>0.116746</td>\n",
       "      <td>0.985809</td>\n",
       "      <td>276.336046</td>\n",
       "      <td>30.431996</td>\n",
       "      <td>tp</td>\n",
       "      <td>planck_z</td>\n",
       "    </tr>\n",
       "    <tr>\n",
       "      <th>293</th>\n",
       "      <td>273.534617</td>\n",
       "      <td>18.279171</td>\n",
       "      <td>33.0</td>\n",
       "      <td>1.847136</td>\n",
       "      <td>4.535301</td>\n",
       "      <td>3.284288</td>\n",
       "      <td>0.103289</td>\n",
       "      <td>0.862286</td>\n",
       "      <td>273.534871</td>\n",
       "      <td>18.292842</td>\n",
       "      <td>tp</td>\n",
       "      <td>planck_z</td>\n",
       "    </tr>\n",
       "    <tr>\n",
       "      <th>294</th>\n",
       "      <td>266.093042</td>\n",
       "      <td>32.971296</td>\n",
       "      <td>29.0</td>\n",
       "      <td>1.834123</td>\n",
       "      <td>4.286812</td>\n",
       "      <td>3.129741</td>\n",
       "      <td>0.106390</td>\n",
       "      <td>0.968407</td>\n",
       "      <td>266.067814</td>\n",
       "      <td>32.998643</td>\n",
       "      <td>tp</td>\n",
       "      <td>planck_z</td>\n",
       "    </tr>\n",
       "    <tr>\n",
       "      <th>296</th>\n",
       "      <td>265.087735</td>\n",
       "      <td>31.618461</td>\n",
       "      <td>27.0</td>\n",
       "      <td>1.980896</td>\n",
       "      <td>4.128206</td>\n",
       "      <td>3.036364</td>\n",
       "      <td>0.116430</td>\n",
       "      <td>0.939885</td>\n",
       "      <td>265.074766</td>\n",
       "      <td>31.603019</td>\n",
       "      <td>tp</td>\n",
       "      <td>planck_z</td>\n",
       "    </tr>\n",
       "    <tr>\n",
       "      <th>297</th>\n",
       "      <td>271.094315</td>\n",
       "      <td>16.000669</td>\n",
       "      <td>27.0</td>\n",
       "      <td>1.694091</td>\n",
       "      <td>3.784657</td>\n",
       "      <td>2.966662</td>\n",
       "      <td>0.101983</td>\n",
       "      <td>0.906578</td>\n",
       "      <td>271.069853</td>\n",
       "      <td>15.997300</td>\n",
       "      <td>tp</td>\n",
       "      <td>planck_z</td>\n",
       "    </tr>\n",
       "    <tr>\n",
       "      <th>298</th>\n",
       "      <td>265.918602</td>\n",
       "      <td>24.754208</td>\n",
       "      <td>51.0</td>\n",
       "      <td>1.334933</td>\n",
       "      <td>7.773043</td>\n",
       "      <td>4.416236</td>\n",
       "      <td>0.104229</td>\n",
       "      <td>0.980526</td>\n",
       "      <td>265.915475</td>\n",
       "      <td>24.740320</td>\n",
       "      <td>tp</td>\n",
       "      <td>planck_z</td>\n",
       "    </tr>\n",
       "    <tr>\n",
       "      <th>300</th>\n",
       "      <td>271.145530</td>\n",
       "      <td>10.049520</td>\n",
       "      <td>29.0</td>\n",
       "      <td>1.724568</td>\n",
       "      <td>4.106464</td>\n",
       "      <td>3.082174</td>\n",
       "      <td>0.135913</td>\n",
       "      <td>0.978635</td>\n",
       "      <td>271.129365</td>\n",
       "      <td>10.055297</td>\n",
       "      <td>tp</td>\n",
       "      <td>planck_z</td>\n",
       "    </tr>\n",
       "    <tr>\n",
       "      <th>302</th>\n",
       "      <td>263.573392</td>\n",
       "      <td>24.525294</td>\n",
       "      <td>25.0</td>\n",
       "      <td>1.516995</td>\n",
       "      <td>3.876460</td>\n",
       "      <td>2.884356</td>\n",
       "      <td>0.107331</td>\n",
       "      <td>0.967077</td>\n",
       "      <td>263.564868</td>\n",
       "      <td>24.544347</td>\n",
       "      <td>tp</td>\n",
       "      <td>planck_z</td>\n",
       "    </tr>\n",
       "    <tr>\n",
       "      <th>303</th>\n",
       "      <td>266.826559</td>\n",
       "      <td>17.170869</td>\n",
       "      <td>27.0</td>\n",
       "      <td>2.008170</td>\n",
       "      <td>4.383324</td>\n",
       "      <td>3.042311</td>\n",
       "      <td>0.107398</td>\n",
       "      <td>0.848759</td>\n",
       "      <td>266.804962</td>\n",
       "      <td>17.130922</td>\n",
       "      <td>tp</td>\n",
       "      <td>planck_z</td>\n",
       "    </tr>\n",
       "  </tbody>\n",
       "</table>\n",
       "</div>"
      ],
      "text/plain": [
       "             RA        DEC  area   min_rad   max_rad  mean_rad  min_pred  \\\n",
       "285  280.308927  30.912179  28.0  1.869859  4.165188  3.082730  0.104544   \n",
       "288  276.363142  30.419430  32.0  2.174412  4.240044  3.223798  0.116746   \n",
       "293  273.534617  18.279171  33.0  1.847136  4.535301  3.284288  0.103289   \n",
       "294  266.093042  32.971296  29.0  1.834123  4.286812  3.129741  0.106390   \n",
       "296  265.087735  31.618461  27.0  1.980896  4.128206  3.036364  0.116430   \n",
       "297  271.094315  16.000669  27.0  1.694091  3.784657  2.966662  0.101983   \n",
       "298  265.918602  24.754208  51.0  1.334933  7.773043  4.416236  0.104229   \n",
       "300  271.145530  10.049520  29.0  1.724568  4.106464  3.082174  0.135913   \n",
       "302  263.573392  24.525294  25.0  1.516995  3.876460  2.884356  0.107331   \n",
       "303  266.826559  17.170869  27.0  2.008170  4.383324  3.042311  0.107398   \n",
       "\n",
       "     max_pred         tRA       tDEC status   catalog  \n",
       "285  0.988940  280.278406  30.932247     tp  planck_z  \n",
       "288  0.985809  276.336046  30.431996     tp  planck_z  \n",
       "293  0.862286  273.534871  18.292842     tp  planck_z  \n",
       "294  0.968407  266.067814  32.998643     tp  planck_z  \n",
       "296  0.939885  265.074766  31.603019     tp  planck_z  \n",
       "297  0.906578  271.069853  15.997300     tp  planck_z  \n",
       "298  0.980526  265.915475  24.740320     tp  planck_z  \n",
       "300  0.978635  271.129365  10.055297     tp  planck_z  \n",
       "302  0.967077  263.564868  24.544347     tp  planck_z  \n",
       "303  0.848759  266.804962  17.130922     tp  planck_z  "
      ]
     },
     "execution_count": 18,
     "metadata": {},
     "output_type": "execute_result"
    }
   ],
   "source": [
    "df = pd.read_csv('/home/rt2122/Data/detected_cats/full_pz14_thr0.1_step8.csv')\n",
    "df = df[df['status'] == 'tp']\n",
    "df[df['catalog'] == 'planck_z'].head(10)"
   ]
  },
  {
   "cell_type": "code",
   "execution_count": 9,
   "metadata": {
    "ExecuteTime": {
     "end_time": "2020-12-11T14:50:13.238035Z",
     "start_time": "2020-12-11T14:50:12.964833Z"
    }
   },
   "outputs": [],
   "source": [
    "pic, mask = draw_pic_with_mask(None, np.array([coords['pz0']]), matr=matrs['pz0'])"
   ]
  },
  {
   "cell_type": "code",
   "execution_count": 10,
   "metadata": {
    "ExecuteTime": {
     "end_time": "2020-12-11T14:50:13.621038Z",
     "start_time": "2020-12-11T14:50:13.615954Z"
    }
   },
   "outputs": [
    {
     "data": {
      "text/plain": [
       "((32, 32, 6), (32, 32, 1))"
      ]
     },
     "execution_count": 10,
     "metadata": {},
     "output_type": "execute_result"
    }
   ],
   "source": [
    "pic.shape, mask.shape"
   ]
  },
  {
   "cell_type": "code",
   "execution_count": 11,
   "metadata": {
    "ExecuteTime": {
     "end_time": "2020-12-11T14:50:14.065105Z",
     "start_time": "2020-12-11T14:50:14.060575Z"
    }
   },
   "outputs": [],
   "source": [
    "ch = [100,143,217,353,545,857]"
   ]
  },
  {
   "cell_type": "code",
   "execution_count": 12,
   "metadata": {
    "ExecuteTime": {
     "end_time": "2020-12-11T14:50:15.749289Z",
     "start_time": "2020-12-11T14:50:14.767677Z"
    }
   },
   "outputs": [
    {
     "data": {
      "image/png": "[encoded data removed]",
      "text/plain": [
       "<Figure size 864x864 with 9 Axes>"
      ]
     },
     "metadata": {
      "needs_background": "light"
     },
     "output_type": "display_data"
    }
   ],
   "source": [
    "_, ax = plt.subplots(3, 3, figsize=(12, 12))\n",
    "for i in range(2):\n",
    "    for j in range(3):\n",
    "        ax[i][j].imshow(pic[:,:,3*i+j])\n",
    "        ax[i][j].set_xlabel(ch[2*i+j])\n",
    "ax[2][0].imshow(mask[:,:,0])\n",
    "ax[2][0].set_xlabel('mask')\n",
    "ax[2][1].imshow(preds['pz14'][:,:,0])\n",
    "ax[2][1].set_xlabel('pz14')\n",
    "ax[2][2].imshow(preds['pz_act10'][:,:,0])\n",
    "ax[2][2].set_xlabel('pz_act10')\n",
    "plt.show()"
   ]
  },
  {
   "cell_type": "code",
   "execution_count": null,
   "metadata": {},
   "outputs": [],
   "source": []
  }
 ],
 "metadata": {
  "kernelspec": {
   "display_name": "Python 3",
   "language": "python",
   "name": "python3"
  },
  "language_info": {
   "codemirror_mode": {
    "name": "ipython",
    "version": 3
   },
   "file_extension": ".py",
   "mimetype": "text/x-python",
   "name": "python",
   "nbconvert_exporter": "python",
   "pygments_lexer": "ipython3",
   "version": "3.8.3"
  }
 },
 "nbformat": 4,
 "nbformat_minor": 4
}
