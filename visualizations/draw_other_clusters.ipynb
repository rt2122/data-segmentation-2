{
 "cells": [
  {
   "cell_type": "code",
   "execution_count": 1,
   "metadata": {
    "ExecuteTime": {
     "end_time": "2020-12-12T18:41:38.828185Z",
     "start_time": "2020-12-12T18:41:26.051484Z"
    }
   },
   "outputs": [],
   "source": [
    "import numpy as np\n",
    "import pandas as pd\n",
    "from matplotlib import pyplot as plt\n",
    "from DS_Planck_Unet import load_planck_model, draw_pic_with_mask\n",
    "from DS_healpix_fragmentation import *\n",
    "from DS_data_transformation import pic2fits\n",
    "import os\n",
    "from astropy.coordinates import SkyCoord\n",
    "from astropy import units as u"
   ]
  },
  {
   "cell_type": "code",
   "execution_count": 2,
   "metadata": {
    "ExecuteTime": {
     "end_time": "2020-12-12T18:42:12.842339Z",
     "start_time": "2020-12-12T18:41:38.830033Z"
    }
   },
   "outputs": [],
   "source": [
    "pz_model = load_planck_model(\n",
    "    '/home/rt2122/Models/planck_z/f8d2.ep0014-vl0.006570-l0.004067.hdf5')\n",
    "act_model = load_planck_model(\n",
    "    '/home/rt2122/Models/act_cut/act_cut.ep0010-vl0.034219-l0.032022.hdf5')"
   ]
  },
  {
   "cell_type": "code",
   "execution_count": 3,
   "metadata": {
    "ExecuteTime": {
     "end_time": "2020-12-12T18:42:54.412360Z",
     "start_time": "2020-12-12T18:42:54.162496Z"
    }
   },
   "outputs": [
    {
     "data": {
      "text/html": [
       "<div>\n",
       "<style scoped>\n",
       "    .dataframe tbody tr th:only-of-type {\n",
       "        vertical-align: middle;\n",
       "    }\n",
       "\n",
       "    .dataframe tbody tr th {\n",
       "        vertical-align: top;\n",
       "    }\n",
       "\n",
       "    .dataframe thead th {\n",
       "        text-align: right;\n",
       "    }\n",
       "</style>\n",
       "<table border=\"1\" class=\"dataframe\">\n",
       "  <thead>\n",
       "    <tr style=\"text-align: right;\">\n",
       "      <th></th>\n",
       "      <th>RA</th>\n",
       "      <th>DEC</th>\n",
       "      <th>area</th>\n",
       "      <th>min_rad</th>\n",
       "      <th>max_rad</th>\n",
       "      <th>mean_rad</th>\n",
       "      <th>min_pred</th>\n",
       "      <th>max_pred</th>\n",
       "      <th>tRA</th>\n",
       "      <th>tDEC</th>\n",
       "      <th>status</th>\n",
       "      <th>catalog</th>\n",
       "    </tr>\n",
       "  </thead>\n",
       "  <tbody>\n",
       "    <tr>\n",
       "      <th>0</th>\n",
       "      <td>280.308927</td>\n",
       "      <td>30.912179</td>\n",
       "      <td>28.0</td>\n",
       "      <td>1.869859</td>\n",
       "      <td>4.165188</td>\n",
       "      <td>3.082730</td>\n",
       "      <td>0.104544</td>\n",
       "      <td>0.988940</td>\n",
       "      <td>280.278406</td>\n",
       "      <td>30.932247</td>\n",
       "      <td>tp</td>\n",
       "      <td>planck_z</td>\n",
       "    </tr>\n",
       "    <tr>\n",
       "      <th>1</th>\n",
       "      <td>276.363142</td>\n",
       "      <td>30.419430</td>\n",
       "      <td>32.0</td>\n",
       "      <td>2.174412</td>\n",
       "      <td>4.240044</td>\n",
       "      <td>3.223798</td>\n",
       "      <td>0.116746</td>\n",
       "      <td>0.985809</td>\n",
       "      <td>276.336046</td>\n",
       "      <td>30.431996</td>\n",
       "      <td>tp</td>\n",
       "      <td>planck_z</td>\n",
       "    </tr>\n",
       "    <tr>\n",
       "      <th>2</th>\n",
       "      <td>273.534617</td>\n",
       "      <td>18.279171</td>\n",
       "      <td>33.0</td>\n",
       "      <td>1.847136</td>\n",
       "      <td>4.535301</td>\n",
       "      <td>3.284288</td>\n",
       "      <td>0.103289</td>\n",
       "      <td>0.862286</td>\n",
       "      <td>273.534871</td>\n",
       "      <td>18.292842</td>\n",
       "      <td>tp</td>\n",
       "      <td>planck_z</td>\n",
       "    </tr>\n",
       "    <tr>\n",
       "      <th>3</th>\n",
       "      <td>266.093042</td>\n",
       "      <td>32.971296</td>\n",
       "      <td>29.0</td>\n",
       "      <td>1.834123</td>\n",
       "      <td>4.286812</td>\n",
       "      <td>3.129741</td>\n",
       "      <td>0.106390</td>\n",
       "      <td>0.968407</td>\n",
       "      <td>266.067814</td>\n",
       "      <td>32.998643</td>\n",
       "      <td>tp</td>\n",
       "      <td>planck_z</td>\n",
       "    </tr>\n",
       "    <tr>\n",
       "      <th>4</th>\n",
       "      <td>265.087735</td>\n",
       "      <td>31.618461</td>\n",
       "      <td>27.0</td>\n",
       "      <td>1.980896</td>\n",
       "      <td>4.128206</td>\n",
       "      <td>3.036364</td>\n",
       "      <td>0.116430</td>\n",
       "      <td>0.939885</td>\n",
       "      <td>265.074766</td>\n",
       "      <td>31.603019</td>\n",
       "      <td>tp</td>\n",
       "      <td>planck_z</td>\n",
       "    </tr>\n",
       "  </tbody>\n",
       "</table>\n",
       "</div>"
      ],
      "text/plain": [
       "           RA        DEC  area   min_rad   max_rad  mean_rad  min_pred  \\\n",
       "0  280.308927  30.912179  28.0  1.869859  4.165188  3.082730  0.104544   \n",
       "1  276.363142  30.419430  32.0  2.174412  4.240044  3.223798  0.116746   \n",
       "2  273.534617  18.279171  33.0  1.847136  4.535301  3.284288  0.103289   \n",
       "3  266.093042  32.971296  29.0  1.834123  4.286812  3.129741  0.106390   \n",
       "4  265.087735  31.618461  27.0  1.980896  4.128206  3.036364  0.116430   \n",
       "\n",
       "   max_pred         tRA       tDEC status   catalog  \n",
       "0  0.988940  280.278406  30.932247     tp  planck_z  \n",
       "1  0.985809  276.336046  30.431996     tp  planck_z  \n",
       "2  0.862286  273.534871  18.292842     tp  planck_z  \n",
       "3  0.968407  266.067814  32.998643     tp  planck_z  \n",
       "4  0.939885  265.074766  31.603019     tp  planck_z  "
      ]
     },
     "execution_count": 3,
     "metadata": {},
     "output_type": "execute_result"
    }
   ],
   "source": [
    "df = pd.read_csv('/home/rt2122/Data/detected_cats/full_pz14_thr0.1_step8.csv')\n",
    "df = df[df['status'] == 'tp']\n",
    "df.index = np.arange(len(df))\n",
    "df = df[df['catalog'] == 'planck_z']\n",
    "df.index = np.arange(len(df))\n",
    "df.head()"
   ]
  },
  {
   "cell_type": "code",
   "execution_count": 6,
   "metadata": {
    "ExecuteTime": {
     "end_time": "2020-12-12T18:44:36.363933Z",
     "start_time": "2020-12-12T18:44:36.340319Z"
    },
    "scrolled": false
   },
   "outputs": [],
   "source": [
    "coords = {\n",
    "    'pz{num}'.format(num=i) : [ra, dec] for i, ra, dec in zip(np.arange(len(df)), df['RA'], df['DEC'])\n",
    "}"
   ]
  },
  {
   "cell_type": "code",
   "execution_count": 8,
   "metadata": {
    "ExecuteTime": {
     "end_time": "2020-12-12T19:19:20.365529Z",
     "start_time": "2020-12-12T18:45:03.437147Z"
    }
   },
   "outputs": [],
   "source": [
    "matrs = {}\n",
    "size=16\n",
    "for key in coords:\n",
    "    big_nside, big_pix = find_biggest_pixel(*coords[key], 500/60)\n",
    "    matr = one_pixel_fragmentation(big_nside, big_pix, \n",
    "                                   int(np.log2(2**11 / big_nside)))\n",
    "    mdict = matr2dict(matr)\n",
    "    x, y = mdict[radec2pix(*coords[key], 2**11)]\n",
    "    matr = matr[max(0, x-size):min(x+size, matr.shape[0]-1), \n",
    "                max(y-size, 0):min(y+size, matr.shape[1] - 1)]\n",
    "    matrs[key] = matr"
   ]
  },
  {
   "cell_type": "code",
   "execution_count": 27,
   "metadata": {
    "ExecuteTime": {
     "end_time": "2020-12-12T20:53:09.411653Z",
     "start_time": "2020-12-12T20:53:09.404796Z"
    }
   },
   "outputs": [],
   "source": [
    "def gen_scan_by_matr(matr, model, step=8, size=64, n_channels=6):\n",
    "    import numpy as np\n",
    "    from DS_Planck_Unet import draw_pic\n",
    "    from DS_data_transformation import normalize\n",
    "    \n",
    "    divider = np.zeros(list(matr.shape) + [1], dtype=np.float64)\n",
    "    pic = normalize(draw_pic(matr))\n",
    "    pic, mask = draw_pic_with_mask(None, np.stack([planck_z['RA'], planck_z['DEC']]).T, matr=matr)\n",
    "    ypic = normalize(draw_pic(matr, y=True))\n",
    "    return np.dstack([pic, ypic])"
   ]
  },
  {
   "cell_type": "code",
   "execution_count": 29,
   "metadata": {
    "ExecuteTime": {
     "end_time": "2020-12-12T22:07:51.448305Z",
     "start_time": "2020-12-12T20:53:36.104434Z"
    }
   },
   "outputs": [
    {
     "ename": "KeyboardInterrupt",
     "evalue": "",
     "output_type": "error",
     "traceback": [
      "\u001b[0;31m---------------------------------------------------------------------------\u001b[0m",
      "\u001b[0;31mKeyboardInterrupt\u001b[0m                         Traceback (most recent call last)",
      "\u001b[0;32m<ipython-input-29-8552b02cfe83>\u001b[0m in \u001b[0;36m<module>\u001b[0;34m\u001b[0m\n\u001b[1;32m      2\u001b[0m \u001b[0mplanck_z\u001b[0m \u001b[0;34m=\u001b[0m \u001b[0mpd\u001b[0m\u001b[0;34m.\u001b[0m\u001b[0mread_csv\u001b[0m\u001b[0;34m(\u001b[0m\u001b[0;34m'/home/rt2122/Data/clusters/planck_z.csv'\u001b[0m\u001b[0;34m)\u001b[0m\u001b[0;34m\u001b[0m\u001b[0;34m\u001b[0m\u001b[0m\n\u001b[1;32m      3\u001b[0m \u001b[0;32mfor\u001b[0m \u001b[0mkey\u001b[0m \u001b[0;32min\u001b[0m \u001b[0mmatrs\u001b[0m\u001b[0;34m:\u001b[0m\u001b[0;34m\u001b[0m\u001b[0;34m\u001b[0m\u001b[0m\n\u001b[0;32m----> 4\u001b[0;31m     \u001b[0mpic\u001b[0m \u001b[0;34m=\u001b[0m \u001b[0mgen_scan_by_matr\u001b[0m\u001b[0;34m(\u001b[0m\u001b[0mmatrs\u001b[0m\u001b[0;34m[\u001b[0m\u001b[0mkey\u001b[0m\u001b[0;34m]\u001b[0m\u001b[0;34m,\u001b[0m \u001b[0mpz_model\u001b[0m\u001b[0;34m)\u001b[0m\u001b[0;34m\u001b[0m\u001b[0;34m\u001b[0m\u001b[0m\n\u001b[0m\u001b[1;32m      5\u001b[0m     \u001b[0mpics\u001b[0m\u001b[0;34m[\u001b[0m\u001b[0mkey\u001b[0m\u001b[0;34m]\u001b[0m \u001b[0;34m=\u001b[0m \u001b[0mpic\u001b[0m\u001b[0;34m\u001b[0m\u001b[0;34m\u001b[0m\u001b[0m\n",
      "\u001b[0;32m<ipython-input-27-f8d8b2d08c22>\u001b[0m in \u001b[0;36mgen_scan_by_matr\u001b[0;34m(matr, model, step, size, n_channels)\u001b[0m\n\u001b[1;32m      6\u001b[0m     \u001b[0mdivider\u001b[0m \u001b[0;34m=\u001b[0m \u001b[0mnp\u001b[0m\u001b[0;34m.\u001b[0m\u001b[0mzeros\u001b[0m\u001b[0;34m(\u001b[0m\u001b[0mlist\u001b[0m\u001b[0;34m(\u001b[0m\u001b[0mmatr\u001b[0m\u001b[0;34m.\u001b[0m\u001b[0mshape\u001b[0m\u001b[0;34m)\u001b[0m \u001b[0;34m+\u001b[0m \u001b[0;34m[\u001b[0m\u001b[0;36m1\u001b[0m\u001b[0;34m]\u001b[0m\u001b[0;34m,\u001b[0m \u001b[0mdtype\u001b[0m\u001b[0;34m=\u001b[0m\u001b[0mnp\u001b[0m\u001b[0;34m.\u001b[0m\u001b[0mfloat64\u001b[0m\u001b[0;34m)\u001b[0m\u001b[0;34m\u001b[0m\u001b[0;34m\u001b[0m\u001b[0m\n\u001b[1;32m      7\u001b[0m     \u001b[0mpic\u001b[0m \u001b[0;34m=\u001b[0m \u001b[0mnormalize\u001b[0m\u001b[0;34m(\u001b[0m\u001b[0mdraw_pic\u001b[0m\u001b[0;34m(\u001b[0m\u001b[0mmatr\u001b[0m\u001b[0;34m)\u001b[0m\u001b[0;34m)\u001b[0m\u001b[0;34m\u001b[0m\u001b[0;34m\u001b[0m\u001b[0m\n\u001b[0;32m----> 8\u001b[0;31m     \u001b[0mpic\u001b[0m\u001b[0;34m,\u001b[0m \u001b[0mmask\u001b[0m \u001b[0;34m=\u001b[0m \u001b[0mdraw_pic_with_mask\u001b[0m\u001b[0;34m(\u001b[0m\u001b[0;32mNone\u001b[0m\u001b[0;34m,\u001b[0m \u001b[0mnp\u001b[0m\u001b[0;34m.\u001b[0m\u001b[0mstack\u001b[0m\u001b[0;34m(\u001b[0m\u001b[0;34m[\u001b[0m\u001b[0mplanck_z\u001b[0m\u001b[0;34m[\u001b[0m\u001b[0;34m'RA'\u001b[0m\u001b[0;34m]\u001b[0m\u001b[0;34m,\u001b[0m \u001b[0mplanck_z\u001b[0m\u001b[0;34m[\u001b[0m\u001b[0;34m'DEC'\u001b[0m\u001b[0;34m]\u001b[0m\u001b[0;34m]\u001b[0m\u001b[0;34m)\u001b[0m\u001b[0;34m.\u001b[0m\u001b[0mT\u001b[0m\u001b[0;34m,\u001b[0m \u001b[0mmatr\u001b[0m\u001b[0;34m=\u001b[0m\u001b[0mmatr\u001b[0m\u001b[0;34m)\u001b[0m\u001b[0;34m\u001b[0m\u001b[0;34m\u001b[0m\u001b[0m\n\u001b[0m\u001b[1;32m      9\u001b[0m     \u001b[0mypic\u001b[0m \u001b[0;34m=\u001b[0m \u001b[0mnormalize\u001b[0m\u001b[0;34m(\u001b[0m\u001b[0mdraw_pic\u001b[0m\u001b[0;34m(\u001b[0m\u001b[0mmatr\u001b[0m\u001b[0;34m,\u001b[0m \u001b[0my\u001b[0m\u001b[0;34m=\u001b[0m\u001b[0;32mTrue\u001b[0m\u001b[0;34m)\u001b[0m\u001b[0;34m)\u001b[0m\u001b[0;34m\u001b[0m\u001b[0;34m\u001b[0m\u001b[0m\n\u001b[1;32m     10\u001b[0m     \u001b[0;32mreturn\u001b[0m \u001b[0mnp\u001b[0m\u001b[0;34m.\u001b[0m\u001b[0mdstack\u001b[0m\u001b[0;34m(\u001b[0m\u001b[0;34m[\u001b[0m\u001b[0mpic\u001b[0m\u001b[0;34m,\u001b[0m \u001b[0mypic\u001b[0m\u001b[0;34m]\u001b[0m\u001b[0;34m)\u001b[0m\u001b[0;34m\u001b[0m\u001b[0;34m\u001b[0m\u001b[0m\n",
      "\u001b[0;32m~/L/git/data-segmentation-2/modules/DS_Planck_Unet.py\u001b[0m in \u001b[0;36mdraw_pic_with_mask\u001b[0;34m(center, clusters_arr, radius, size, fin_nside, dirname, mask_radius, retmatr, matr, centers_in_patch)\u001b[0m\n\u001b[1;32m     64\u001b[0m     \u001b[0;32mfor\u001b[0m \u001b[0mra\u001b[0m\u001b[0;34m,\u001b[0m \u001b[0mdec\u001b[0m \u001b[0;32min\u001b[0m \u001b[0mclusters_arr\u001b[0m\u001b[0;34m:\u001b[0m\u001b[0;34m\u001b[0m\u001b[0;34m\u001b[0m\u001b[0m\n\u001b[1;32m     65\u001b[0m         mask = np.logical_or(mask, \n\u001b[0;32m---> 66\u001b[0;31m             draw_proper_circle(ra, dec, mask_radius, fin_nside, mdict, \n\u001b[0m\u001b[1;32m     67\u001b[0m                               mask.shape, coords_mode=False, centers_in_patch=centers_in_patch))\n\u001b[1;32m     68\u001b[0m     \u001b[0;32mif\u001b[0m \u001b[0;32mnot\u001b[0m \u001b[0mretmatr\u001b[0m\u001b[0;34m:\u001b[0m\u001b[0;34m\u001b[0m\u001b[0;34m\u001b[0m\u001b[0m\n",
      "\u001b[0;32m~/L/git/data-segmentation-2/modules/DS_healpix_fragmentation.py\u001b[0m in \u001b[0;36mdraw_proper_circle\u001b[0;34m(ra, dec, radius, nside, mdict, shape, coords_mode, centers_in_patch)\u001b[0m\n\u001b[1;32m    161\u001b[0m \u001b[0;34m\u001b[0m\u001b[0m\n\u001b[1;32m    162\u001b[0m     \u001b[0msc\u001b[0m \u001b[0;34m=\u001b[0m \u001b[0mSkyCoord\u001b[0m\u001b[0;34m(\u001b[0m\u001b[0mra\u001b[0m\u001b[0;34m=\u001b[0m\u001b[0mra\u001b[0m\u001b[0;34m*\u001b[0m\u001b[0mu\u001b[0m\u001b[0;34m.\u001b[0m\u001b[0mdegree\u001b[0m\u001b[0;34m,\u001b[0m \u001b[0mdec\u001b[0m\u001b[0;34m=\u001b[0m\u001b[0mdec\u001b[0m\u001b[0;34m*\u001b[0m\u001b[0mu\u001b[0m\u001b[0;34m.\u001b[0m\u001b[0mdegree\u001b[0m\u001b[0;34m,\u001b[0m \u001b[0mframe\u001b[0m\u001b[0;34m=\u001b[0m\u001b[0;34m'icrs'\u001b[0m\u001b[0;34m)\u001b[0m\u001b[0;34m\u001b[0m\u001b[0;34m\u001b[0m\u001b[0m\n\u001b[0;32m--> 163\u001b[0;31m     \u001b[0mvec\u001b[0m \u001b[0;34m=\u001b[0m \u001b[0mhp\u001b[0m\u001b[0;34m.\u001b[0m\u001b[0mang2vec\u001b[0m\u001b[0;34m(\u001b[0m\u001b[0mtheta\u001b[0m\u001b[0;34m=\u001b[0m\u001b[0msc\u001b[0m\u001b[0;34m.\u001b[0m\u001b[0mgalactic\u001b[0m\u001b[0;34m.\u001b[0m\u001b[0ml\u001b[0m\u001b[0;34m.\u001b[0m\u001b[0mdegree\u001b[0m\u001b[0;34m,\u001b[0m \u001b[0mphi\u001b[0m\u001b[0;34m=\u001b[0m\u001b[0msc\u001b[0m\u001b[0;34m.\u001b[0m\u001b[0mgalactic\u001b[0m\u001b[0;34m.\u001b[0m\u001b[0mb\u001b[0m\u001b[0;34m.\u001b[0m\u001b[0mdegree\u001b[0m\u001b[0;34m,\u001b[0m \u001b[0mlonlat\u001b[0m\u001b[0;34m=\u001b[0m\u001b[0;32mTrue\u001b[0m\u001b[0;34m)\u001b[0m\u001b[0;34m\u001b[0m\u001b[0;34m\u001b[0m\u001b[0m\n\u001b[0m\u001b[1;32m    164\u001b[0m     \u001b[0mpix\u001b[0m \u001b[0;34m=\u001b[0m \u001b[0mhp\u001b[0m\u001b[0;34m.\u001b[0m\u001b[0mquery_disc\u001b[0m\u001b[0;34m(\u001b[0m\u001b[0mnside\u001b[0m\u001b[0;34m,\u001b[0m \u001b[0mvec\u001b[0m\u001b[0;34m,\u001b[0m \u001b[0mnp\u001b[0m\u001b[0;34m.\u001b[0m\u001b[0mradians\u001b[0m\u001b[0;34m(\u001b[0m\u001b[0mradius\u001b[0m\u001b[0;34m)\u001b[0m\u001b[0;34m,\u001b[0m \u001b[0mnest\u001b[0m\u001b[0;34m=\u001b[0m\u001b[0;32mTrue\u001b[0m\u001b[0;34m,\u001b[0m \u001b[0minclusive\u001b[0m\u001b[0;34m=\u001b[0m\u001b[0;32mTrue\u001b[0m\u001b[0;34m)\u001b[0m\u001b[0;34m\u001b[0m\u001b[0;34m\u001b[0m\u001b[0m\n\u001b[1;32m    165\u001b[0m     \u001b[0mcoords\u001b[0m \u001b[0;34m=\u001b[0m \u001b[0;34m[\u001b[0m\u001b[0mmdict\u001b[0m\u001b[0;34m[\u001b[0m\u001b[0mp\u001b[0m\u001b[0;34m]\u001b[0m \u001b[0;32mfor\u001b[0m \u001b[0mp\u001b[0m \u001b[0;32min\u001b[0m \u001b[0mpix\u001b[0m \u001b[0;32mif\u001b[0m \u001b[0mp\u001b[0m \u001b[0;32min\u001b[0m \u001b[0mmdict\u001b[0m\u001b[0;34m]\u001b[0m\u001b[0;34m\u001b[0m\u001b[0;34m\u001b[0m\u001b[0m\n",
      "\u001b[0;32m~/anaconda3/lib/python3.8/site-packages/astropy/coordinates/sky_coordinate.py\u001b[0m in \u001b[0;36m__getattr__\u001b[0;34m(self, attr)\u001b[0m\n\u001b[1;32m    601\u001b[0m             \u001b[0mframe_cls\u001b[0m \u001b[0;34m=\u001b[0m \u001b[0mframe_transform_graph\u001b[0m\u001b[0;34m.\u001b[0m\u001b[0mlookup_name\u001b[0m\u001b[0;34m(\u001b[0m\u001b[0mattr\u001b[0m\u001b[0;34m)\u001b[0m\u001b[0;34m\u001b[0m\u001b[0;34m\u001b[0m\u001b[0m\n\u001b[1;32m    602\u001b[0m             \u001b[0;32mif\u001b[0m \u001b[0mframe_cls\u001b[0m \u001b[0;32mis\u001b[0m \u001b[0;32mnot\u001b[0m \u001b[0;32mNone\u001b[0m \u001b[0;32mand\u001b[0m \u001b[0mself\u001b[0m\u001b[0;34m.\u001b[0m\u001b[0mframe\u001b[0m\u001b[0;34m.\u001b[0m\u001b[0mis_transformable_to\u001b[0m\u001b[0;34m(\u001b[0m\u001b[0mframe_cls\u001b[0m\u001b[0;34m)\u001b[0m\u001b[0;34m:\u001b[0m\u001b[0;34m\u001b[0m\u001b[0;34m\u001b[0m\u001b[0m\n\u001b[0;32m--> 603\u001b[0;31m                 \u001b[0;32mreturn\u001b[0m \u001b[0mself\u001b[0m\u001b[0;34m.\u001b[0m\u001b[0mtransform_to\u001b[0m\u001b[0;34m(\u001b[0m\u001b[0mattr\u001b[0m\u001b[0;34m)\u001b[0m\u001b[0;34m\u001b[0m\u001b[0;34m\u001b[0m\u001b[0m\n\u001b[0m\u001b[1;32m    604\u001b[0m \u001b[0;34m\u001b[0m\u001b[0m\n\u001b[1;32m    605\u001b[0m         \u001b[0;31m# Fail\u001b[0m\u001b[0;34m\u001b[0m\u001b[0;34m\u001b[0m\u001b[0;34m\u001b[0m\u001b[0m\n",
      "\u001b[0;32m~/anaconda3/lib/python3.8/site-packages/astropy/coordinates/sky_coordinate.py\u001b[0m in \u001b[0;36mtransform_to\u001b[0;34m(self, frame, merge_attributes)\u001b[0m\n\u001b[1;32m    441\u001b[0m         \u001b[0;31m# Do the transformation, returning a coordinate frame of the desired\u001b[0m\u001b[0;34m\u001b[0m\u001b[0;34m\u001b[0m\u001b[0;34m\u001b[0m\u001b[0m\n\u001b[1;32m    442\u001b[0m         \u001b[0;31m# final type (not generic).\u001b[0m\u001b[0;34m\u001b[0m\u001b[0;34m\u001b[0m\u001b[0;34m\u001b[0m\u001b[0m\n\u001b[0;32m--> 443\u001b[0;31m         \u001b[0mnew_coord\u001b[0m \u001b[0;34m=\u001b[0m \u001b[0mtrans\u001b[0m\u001b[0;34m(\u001b[0m\u001b[0mself\u001b[0m\u001b[0;34m.\u001b[0m\u001b[0mframe\u001b[0m\u001b[0;34m,\u001b[0m \u001b[0mgeneric_frame\u001b[0m\u001b[0;34m)\u001b[0m\u001b[0;34m\u001b[0m\u001b[0;34m\u001b[0m\u001b[0m\n\u001b[0m\u001b[1;32m    444\u001b[0m \u001b[0;34m\u001b[0m\u001b[0m\n\u001b[1;32m    445\u001b[0m         \u001b[0;31m# Finally make the new SkyCoord object from the `new_coord` and\u001b[0m\u001b[0;34m\u001b[0m\u001b[0;34m\u001b[0m\u001b[0;34m\u001b[0m\u001b[0m\n",
      "\u001b[0;32m~/anaconda3/lib/python3.8/site-packages/astropy/coordinates/transformations.py\u001b[0m in \u001b[0;36m__call__\u001b[0;34m(self, fromcoord, toframe)\u001b[0m\n\u001b[1;32m   1390\u001b[0m \u001b[0;34m\u001b[0m\u001b[0m\n\u001b[1;32m   1391\u001b[0m             \u001b[0mcurr_toframe\u001b[0m \u001b[0;34m=\u001b[0m \u001b[0mt\u001b[0m\u001b[0;34m.\u001b[0m\u001b[0mtosys\u001b[0m\u001b[0;34m(\u001b[0m\u001b[0;34m**\u001b[0m\u001b[0mfrattrs\u001b[0m\u001b[0;34m)\u001b[0m\u001b[0;34m\u001b[0m\u001b[0;34m\u001b[0m\u001b[0m\n\u001b[0;32m-> 1392\u001b[0;31m             \u001b[0mcurr_coord\u001b[0m \u001b[0;34m=\u001b[0m \u001b[0mt\u001b[0m\u001b[0;34m(\u001b[0m\u001b[0mcurr_coord\u001b[0m\u001b[0;34m,\u001b[0m \u001b[0mcurr_toframe\u001b[0m\u001b[0;34m)\u001b[0m\u001b[0;34m\u001b[0m\u001b[0;34m\u001b[0m\u001b[0m\n\u001b[0m\u001b[1;32m   1393\u001b[0m \u001b[0;34m\u001b[0m\u001b[0m\n\u001b[1;32m   1394\u001b[0m         \u001b[0;31m# this is safe even in the case where self.transforms is empty, because\u001b[0m\u001b[0;34m\u001b[0m\u001b[0;34m\u001b[0m\u001b[0;34m\u001b[0m\u001b[0m\n",
      "\u001b[0;32m~/anaconda3/lib/python3.8/site-packages/astropy/coordinates/transformations.py\u001b[0m in \u001b[0;36m__call__\u001b[0;34m(self, fromcoord, toframe)\u001b[0m\n\u001b[1;32m   1308\u001b[0m \u001b[0;34m\u001b[0m\u001b[0m\n\u001b[1;32m   1309\u001b[0m     \u001b[0;32mdef\u001b[0m \u001b[0m__call__\u001b[0m\u001b[0;34m(\u001b[0m\u001b[0mself\u001b[0m\u001b[0;34m,\u001b[0m \u001b[0mfromcoord\u001b[0m\u001b[0;34m,\u001b[0m \u001b[0mtoframe\u001b[0m\u001b[0;34m)\u001b[0m\u001b[0;34m:\u001b[0m\u001b[0;34m\u001b[0m\u001b[0;34m\u001b[0m\u001b[0m\n\u001b[0;32m-> 1310\u001b[0;31m         \u001b[0mM\u001b[0m \u001b[0;34m=\u001b[0m \u001b[0mself\u001b[0m\u001b[0;34m.\u001b[0m\u001b[0mmatrix_func\u001b[0m\u001b[0;34m(\u001b[0m\u001b[0mfromcoord\u001b[0m\u001b[0;34m,\u001b[0m \u001b[0mtoframe\u001b[0m\u001b[0;34m)\u001b[0m\u001b[0;34m\u001b[0m\u001b[0;34m\u001b[0m\u001b[0m\n\u001b[0m\u001b[1;32m   1311\u001b[0m         \u001b[0mnewrep\u001b[0m \u001b[0;34m=\u001b[0m \u001b[0mself\u001b[0m\u001b[0;34m.\u001b[0m\u001b[0m_apply_transform\u001b[0m\u001b[0;34m(\u001b[0m\u001b[0mfromcoord\u001b[0m\u001b[0;34m,\u001b[0m \u001b[0mM\u001b[0m\u001b[0;34m,\u001b[0m \u001b[0;32mNone\u001b[0m\u001b[0;34m)\u001b[0m\u001b[0;34m\u001b[0m\u001b[0;34m\u001b[0m\u001b[0m\n\u001b[1;32m   1312\u001b[0m         \u001b[0;32mreturn\u001b[0m \u001b[0mtoframe\u001b[0m\u001b[0;34m.\u001b[0m\u001b[0mrealize_frame\u001b[0m\u001b[0;34m(\u001b[0m\u001b[0mnewrep\u001b[0m\u001b[0;34m)\u001b[0m\u001b[0;34m\u001b[0m\u001b[0;34m\u001b[0m\u001b[0m\n",
      "\u001b[0;32m~/anaconda3/lib/python3.8/site-packages/astropy/coordinates/builtin_frames/galactic_transforms.py\u001b[0m in \u001b[0;36mfk5_to_gal\u001b[0;34m(fk5coord, galframe)\u001b[0m\n\u001b[1;32m     19\u001b[0m \u001b[0;32mdef\u001b[0m \u001b[0mfk5_to_gal\u001b[0m\u001b[0;34m(\u001b[0m\u001b[0mfk5coord\u001b[0m\u001b[0;34m,\u001b[0m \u001b[0mgalframe\u001b[0m\u001b[0;34m)\u001b[0m\u001b[0;34m:\u001b[0m\u001b[0;34m\u001b[0m\u001b[0;34m\u001b[0m\u001b[0m\n\u001b[1;32m     20\u001b[0m     \u001b[0;31m# need precess to J2000 first\u001b[0m\u001b[0;34m\u001b[0m\u001b[0;34m\u001b[0m\u001b[0;34m\u001b[0m\u001b[0m\n\u001b[0;32m---> 21\u001b[0;31m     \u001b[0mpmat\u001b[0m \u001b[0;34m=\u001b[0m \u001b[0mfk5coord\u001b[0m\u001b[0;34m.\u001b[0m\u001b[0m_precession_matrix\u001b[0m\u001b[0;34m(\u001b[0m\u001b[0mfk5coord\u001b[0m\u001b[0;34m.\u001b[0m\u001b[0mequinox\u001b[0m\u001b[0;34m,\u001b[0m \u001b[0mEQUINOX_J2000\u001b[0m\u001b[0;34m)\u001b[0m\u001b[0;34m\u001b[0m\u001b[0;34m\u001b[0m\u001b[0m\n\u001b[0m\u001b[1;32m     22\u001b[0m     \u001b[0mmat1\u001b[0m \u001b[0;34m=\u001b[0m \u001b[0mrotation_matrix\u001b[0m\u001b[0;34m(\u001b[0m\u001b[0;36m180\u001b[0m \u001b[0;34m-\u001b[0m \u001b[0mGalactic\u001b[0m\u001b[0;34m.\u001b[0m\u001b[0m_lon0_J2000\u001b[0m\u001b[0;34m.\u001b[0m\u001b[0mdegree\u001b[0m\u001b[0;34m,\u001b[0m \u001b[0;34m'z'\u001b[0m\u001b[0;34m)\u001b[0m\u001b[0;34m\u001b[0m\u001b[0;34m\u001b[0m\u001b[0m\n\u001b[1;32m     23\u001b[0m     \u001b[0mmat2\u001b[0m \u001b[0;34m=\u001b[0m \u001b[0mrotation_matrix\u001b[0m\u001b[0;34m(\u001b[0m\u001b[0;36m90\u001b[0m \u001b[0;34m-\u001b[0m \u001b[0mGalactic\u001b[0m\u001b[0;34m.\u001b[0m\u001b[0m_ngp_J2000\u001b[0m\u001b[0;34m.\u001b[0m\u001b[0mdec\u001b[0m\u001b[0;34m.\u001b[0m\u001b[0mdegree\u001b[0m\u001b[0;34m,\u001b[0m \u001b[0;34m'y'\u001b[0m\u001b[0;34m)\u001b[0m\u001b[0;34m\u001b[0m\u001b[0;34m\u001b[0m\u001b[0m\n",
      "\u001b[0;32m~/anaconda3/lib/python3.8/site-packages/astropy/coordinates/builtin_frames/fk5.py\u001b[0m in \u001b[0;36m_precession_matrix\u001b[0;34m(oldequinox, newequinox)\u001b[0m\n\u001b[1;32m     53\u001b[0m             \u001b[0mThe\u001b[0m \u001b[0mprecession\u001b[0m \u001b[0mmatrix\u001b[0m \u001b[0mto\u001b[0m \u001b[0mtransform\u001b[0m \u001b[0mto\u001b[0m \u001b[0mthe\u001b[0m \u001b[0mnew\u001b[0m \u001b[0mequinox\u001b[0m\u001b[0;34m\u001b[0m\u001b[0;34m\u001b[0m\u001b[0m\n\u001b[1;32m     54\u001b[0m         \"\"\"\n\u001b[0;32m---> 55\u001b[0;31m         \u001b[0;32mreturn\u001b[0m \u001b[0mearth\u001b[0m\u001b[0;34m.\u001b[0m\u001b[0mprecession_matrix_Capitaine\u001b[0m\u001b[0;34m(\u001b[0m\u001b[0moldequinox\u001b[0m\u001b[0;34m,\u001b[0m \u001b[0mnewequinox\u001b[0m\u001b[0;34m)\u001b[0m\u001b[0;34m\u001b[0m\u001b[0;34m\u001b[0m\u001b[0m\n\u001b[0m\u001b[1;32m     56\u001b[0m \u001b[0;34m\u001b[0m\u001b[0m\n\u001b[1;32m     57\u001b[0m \u001b[0;34m\u001b[0m\u001b[0m\n",
      "\u001b[0;32m~/anaconda3/lib/python3.8/site-packages/astropy/coordinates/earth_orientation.py\u001b[0m in \u001b[0;36mprecession_matrix_Capitaine\u001b[0;34m(fromepoch, toepoch)\u001b[0m\n\u001b[1;32m    144\u001b[0m     \"\"\"\n\u001b[1;32m    145\u001b[0m     mat_fromto2000 = matrix_transpose(\n\u001b[0;32m--> 146\u001b[0;31m         _precess_from_J2000_Capitaine(fromepoch.jyear))\n\u001b[0m\u001b[1;32m    147\u001b[0m     \u001b[0mmat_2000toto\u001b[0m \u001b[0;34m=\u001b[0m \u001b[0m_precess_from_J2000_Capitaine\u001b[0m\u001b[0;34m(\u001b[0m\u001b[0mtoepoch\u001b[0m\u001b[0;34m.\u001b[0m\u001b[0mjyear\u001b[0m\u001b[0;34m)\u001b[0m\u001b[0;34m\u001b[0m\u001b[0;34m\u001b[0m\u001b[0m\n\u001b[1;32m    148\u001b[0m \u001b[0;34m\u001b[0m\u001b[0m\n",
      "\u001b[0;32m~/anaconda3/lib/python3.8/site-packages/astropy/coordinates/earth_orientation.py\u001b[0m in \u001b[0;36m_precess_from_J2000_Capitaine\u001b[0;34m(epoch)\u001b[0m\n\u001b[1;32m    167\u001b[0m     \u001b[0mpz\u001b[0m \u001b[0;34m=\u001b[0m \u001b[0;34m(\u001b[0m\u001b[0;34m-\u001b[0m\u001b[0;36m0.0000002904\u001b[0m\u001b[0;34m,\u001b[0m \u001b[0;34m-\u001b[0m\u001b[0;36m0.000028596\u001b[0m\u001b[0;34m,\u001b[0m \u001b[0;36m0.01826837\u001b[0m\u001b[0;34m,\u001b[0m \u001b[0;36m1.0927348\u001b[0m\u001b[0;34m,\u001b[0m \u001b[0;36m2306.077181\u001b[0m\u001b[0;34m,\u001b[0m \u001b[0;34m-\u001b[0m\u001b[0;36m2.650545\u001b[0m\u001b[0;34m)\u001b[0m\u001b[0;34m\u001b[0m\u001b[0;34m\u001b[0m\u001b[0m\n\u001b[1;32m    168\u001b[0m     \u001b[0mptheta\u001b[0m \u001b[0;34m=\u001b[0m \u001b[0;34m(\u001b[0m\u001b[0;34m-\u001b[0m\u001b[0;36m0.0000001274\u001b[0m\u001b[0;34m,\u001b[0m \u001b[0;34m-\u001b[0m\u001b[0;36m0.000007089\u001b[0m\u001b[0;34m,\u001b[0m \u001b[0;34m-\u001b[0m\u001b[0;36m0.04182264\u001b[0m\u001b[0;34m,\u001b[0m \u001b[0;34m-\u001b[0m\u001b[0;36m0.4294934\u001b[0m\u001b[0;34m,\u001b[0m \u001b[0;36m2004.191903\u001b[0m\u001b[0;34m,\u001b[0m \u001b[0;36m0\u001b[0m\u001b[0;34m)\u001b[0m\u001b[0;34m\u001b[0m\u001b[0;34m\u001b[0m\u001b[0m\n\u001b[0;32m--> 169\u001b[0;31m     \u001b[0mzeta\u001b[0m \u001b[0;34m=\u001b[0m \u001b[0mnp\u001b[0m\u001b[0;34m.\u001b[0m\u001b[0mpolyval\u001b[0m\u001b[0;34m(\u001b[0m\u001b[0mpzeta\u001b[0m\u001b[0;34m,\u001b[0m \u001b[0mT\u001b[0m\u001b[0;34m)\u001b[0m \u001b[0;34m/\u001b[0m \u001b[0;36m3600.0\u001b[0m\u001b[0;34m\u001b[0m\u001b[0;34m\u001b[0m\u001b[0m\n\u001b[0m\u001b[1;32m    170\u001b[0m     \u001b[0mz\u001b[0m \u001b[0;34m=\u001b[0m \u001b[0mnp\u001b[0m\u001b[0;34m.\u001b[0m\u001b[0mpolyval\u001b[0m\u001b[0;34m(\u001b[0m\u001b[0mpz\u001b[0m\u001b[0;34m,\u001b[0m \u001b[0mT\u001b[0m\u001b[0;34m)\u001b[0m \u001b[0;34m/\u001b[0m \u001b[0;36m3600.0\u001b[0m\u001b[0;34m\u001b[0m\u001b[0;34m\u001b[0m\u001b[0m\n\u001b[1;32m    171\u001b[0m     \u001b[0mtheta\u001b[0m \u001b[0;34m=\u001b[0m \u001b[0mnp\u001b[0m\u001b[0;34m.\u001b[0m\u001b[0mpolyval\u001b[0m\u001b[0;34m(\u001b[0m\u001b[0mptheta\u001b[0m\u001b[0;34m,\u001b[0m \u001b[0mT\u001b[0m\u001b[0;34m)\u001b[0m \u001b[0;34m/\u001b[0m \u001b[0;36m3600.0\u001b[0m\u001b[0;34m\u001b[0m\u001b[0;34m\u001b[0m\u001b[0m\n",
      "\u001b[0;32m<__array_function__ internals>\u001b[0m in \u001b[0;36mpolyval\u001b[0;34m(*args, **kwargs)\u001b[0m\n",
      "\u001b[0;32m~/anaconda3/lib/python3.8/site-packages/numpy/lib/polynomial.py\u001b[0m in \u001b[0;36mpolyval\u001b[0;34m(p, x)\u001b[0m\n\u001b[1;32m    732\u001b[0m     \u001b[0;32melse\u001b[0m\u001b[0;34m:\u001b[0m\u001b[0;34m\u001b[0m\u001b[0;34m\u001b[0m\u001b[0m\n\u001b[1;32m    733\u001b[0m         \u001b[0mx\u001b[0m \u001b[0;34m=\u001b[0m \u001b[0mNX\u001b[0m\u001b[0;34m.\u001b[0m\u001b[0masanyarray\u001b[0m\u001b[0;34m(\u001b[0m\u001b[0mx\u001b[0m\u001b[0;34m)\u001b[0m\u001b[0;34m\u001b[0m\u001b[0;34m\u001b[0m\u001b[0m\n\u001b[0;32m--> 734\u001b[0;31m         \u001b[0my\u001b[0m \u001b[0;34m=\u001b[0m \u001b[0mNX\u001b[0m\u001b[0;34m.\u001b[0m\u001b[0mzeros_like\u001b[0m\u001b[0;34m(\u001b[0m\u001b[0mx\u001b[0m\u001b[0;34m)\u001b[0m\u001b[0;34m\u001b[0m\u001b[0;34m\u001b[0m\u001b[0m\n\u001b[0m\u001b[1;32m    735\u001b[0m     \u001b[0;32mfor\u001b[0m \u001b[0mi\u001b[0m \u001b[0;32min\u001b[0m \u001b[0mrange\u001b[0m\u001b[0;34m(\u001b[0m\u001b[0mlen\u001b[0m\u001b[0;34m(\u001b[0m\u001b[0mp\u001b[0m\u001b[0;34m)\u001b[0m\u001b[0;34m)\u001b[0m\u001b[0;34m:\u001b[0m\u001b[0;34m\u001b[0m\u001b[0;34m\u001b[0m\u001b[0m\n\u001b[1;32m    736\u001b[0m         \u001b[0my\u001b[0m \u001b[0;34m=\u001b[0m \u001b[0my\u001b[0m \u001b[0;34m*\u001b[0m \u001b[0mx\u001b[0m \u001b[0;34m+\u001b[0m \u001b[0mp\u001b[0m\u001b[0;34m[\u001b[0m\u001b[0mi\u001b[0m\u001b[0;34m]\u001b[0m\u001b[0;34m\u001b[0m\u001b[0;34m\u001b[0m\u001b[0m\n",
      "\u001b[0;32m<__array_function__ internals>\u001b[0m in \u001b[0;36mzeros_like\u001b[0;34m(*args, **kwargs)\u001b[0m\n",
      "\u001b[0;32m~/anaconda3/lib/python3.8/site-packages/numpy/core/numeric.py\u001b[0m in \u001b[0;36mzeros_like\u001b[0;34m(a, dtype, order, subok, shape)\u001b[0m\n\u001b[1;32m    150\u001b[0m \u001b[0;34m\u001b[0m\u001b[0m\n\u001b[1;32m    151\u001b[0m     \"\"\"\n\u001b[0;32m--> 152\u001b[0;31m     \u001b[0mres\u001b[0m \u001b[0;34m=\u001b[0m \u001b[0mempty_like\u001b[0m\u001b[0;34m(\u001b[0m\u001b[0ma\u001b[0m\u001b[0;34m,\u001b[0m \u001b[0mdtype\u001b[0m\u001b[0;34m=\u001b[0m\u001b[0mdtype\u001b[0m\u001b[0;34m,\u001b[0m \u001b[0morder\u001b[0m\u001b[0;34m=\u001b[0m\u001b[0morder\u001b[0m\u001b[0;34m,\u001b[0m \u001b[0msubok\u001b[0m\u001b[0;34m=\u001b[0m\u001b[0msubok\u001b[0m\u001b[0;34m,\u001b[0m \u001b[0mshape\u001b[0m\u001b[0;34m=\u001b[0m\u001b[0mshape\u001b[0m\u001b[0;34m)\u001b[0m\u001b[0;34m\u001b[0m\u001b[0;34m\u001b[0m\u001b[0m\n\u001b[0m\u001b[1;32m    153\u001b[0m     \u001b[0;31m# needed instead of a 0 to get same result as zeros for for string dtypes\u001b[0m\u001b[0;34m\u001b[0m\u001b[0;34m\u001b[0m\u001b[0;34m\u001b[0m\u001b[0m\n\u001b[1;32m    154\u001b[0m     \u001b[0mz\u001b[0m \u001b[0;34m=\u001b[0m \u001b[0mzeros\u001b[0m\u001b[0;34m(\u001b[0m\u001b[0;36m1\u001b[0m\u001b[0;34m,\u001b[0m \u001b[0mdtype\u001b[0m\u001b[0;34m=\u001b[0m\u001b[0mres\u001b[0m\u001b[0;34m.\u001b[0m\u001b[0mdtype\u001b[0m\u001b[0;34m)\u001b[0m\u001b[0;34m\u001b[0m\u001b[0;34m\u001b[0m\u001b[0m\n",
      "\u001b[0;31mKeyboardInterrupt\u001b[0m: "
     ]
    }
   ],
   "source": [
    "pics = {}\n",
    "planck_z = pd.read_csv('/home/rt2122/Data/clusters/planck_z.csv')\n",
    "for key in matrs:\n",
    "    pic = gen_scan_by_matr(matrs[key], pz_model)\n",
    "    pics[key] = pic"
   ]
  },
  {
   "cell_type": "code",
   "execution_count": 8,
   "metadata": {
    "ExecuteTime": {
     "end_time": "2020-12-11T14:49:55.141083Z",
     "start_time": "2020-12-11T14:49:54.921960Z"
    }
   },
   "outputs": [
    {
     "ename": "NameError",
     "evalue": "name 'cooords' is not defined",
     "output_type": "error",
     "traceback": [
      "\u001b[0;31m---------------------------------------------------------------------------\u001b[0m",
      "\u001b[0;31mNameError\u001b[0m                                 Traceback (most recent call last)",
      "\u001b[0;32m<ipython-input-8-4ee65dad05ad>\u001b[0m in \u001b[0;36m<module>\u001b[0;34m\u001b[0m\n\u001b[0;32m----> 1\u001b[0;31m \u001b[0m_\u001b[0m\u001b[0;34m,\u001b[0m \u001b[0max\u001b[0m \u001b[0;34m=\u001b[0m \u001b[0mplt\u001b[0m\u001b[0;34m.\u001b[0m\u001b[0msubplots\u001b[0m\u001b[0;34m(\u001b[0m\u001b[0mlen\u001b[0m\u001b[0;34m(\u001b[0m\u001b[0mcooords\u001b[0m\u001b[0;34m)\u001b[0m\u001b[0;34m,\u001b[0m \u001b[0;36m5\u001b[0m\u001b[0;34m,\u001b[0m \u001b[0mfigsize\u001b[0m\u001b[0;34m=\u001b[0m\u001b[0;34m(\u001b[0m\u001b[0;36m16\u001b[0m\u001b[0;34m,\u001b[0m \u001b[0;36m14\u001b[0m\u001b[0;34m)\u001b[0m\u001b[0;34m)\u001b[0m\u001b[0;34m\u001b[0m\u001b[0;34m\u001b[0m\u001b[0m\n\u001b[0m\u001b[1;32m      2\u001b[0m \u001b[0;32mfor\u001b[0m \u001b[0mi\u001b[0m\u001b[0;34m,\u001b[0m \u001b[0mkey\u001b[0m \u001b[0;32min\u001b[0m \u001b[0menumerate\u001b[0m\u001b[0;34m(\u001b[0m\u001b[0mcoords\u001b[0m\u001b[0;34m)\u001b[0m\u001b[0;34m:\u001b[0m\u001b[0;34m\u001b[0m\u001b[0;34m\u001b[0m\u001b[0m\n\u001b[1;32m      3\u001b[0m     \u001b[0max\u001b[0m\u001b[0;34m[\u001b[0m\u001b[0mi\u001b[0m\u001b[0;34m]\u001b[0m\u001b[0;34m[\u001b[0m\u001b[0;36m0\u001b[0m\u001b[0;34m]\u001b[0m\u001b[0;34m.\u001b[0m\u001b[0mset_ylabel\u001b[0m\u001b[0;34m(\u001b[0m\u001b[0mkey\u001b[0m\u001b[0;34m)\u001b[0m\u001b[0;34m\u001b[0m\u001b[0;34m\u001b[0m\u001b[0m\n\u001b[1;32m      4\u001b[0m     \u001b[0max\u001b[0m\u001b[0;34m[\u001b[0m\u001b[0mi\u001b[0m\u001b[0;34m]\u001b[0m\u001b[0;34m[\u001b[0m\u001b[0;36m0\u001b[0m\u001b[0;34m]\u001b[0m\u001b[0;34m.\u001b[0m\u001b[0mimshow\u001b[0m\u001b[0;34m(\u001b[0m\u001b[0mpics\u001b[0m\u001b[0;34m[\u001b[0m\u001b[0mkey\u001b[0m\u001b[0;34m]\u001b[0m\u001b[0;34m[\u001b[0m\u001b[0;34m:\u001b[0m\u001b[0;34m,\u001b[0m\u001b[0;34m:\u001b[0m\u001b[0;34m,\u001b[0m\u001b[0;36m0\u001b[0m\u001b[0;34m]\u001b[0m\u001b[0;34m)\u001b[0m\u001b[0;34m\u001b[0m\u001b[0;34m\u001b[0m\u001b[0m\n\u001b[1;32m      5\u001b[0m     \u001b[0max\u001b[0m\u001b[0;34m[\u001b[0m\u001b[0mi\u001b[0m\u001b[0;34m]\u001b[0m\u001b[0;34m[\u001b[0m\u001b[0;36m1\u001b[0m\u001b[0;34m]\u001b[0m\u001b[0;34m.\u001b[0m\u001b[0mimshow\u001b[0m\u001b[0;34m(\u001b[0m\u001b[0mpics\u001b[0m\u001b[0;34m[\u001b[0m\u001b[0mkey\u001b[0m\u001b[0;34m]\u001b[0m\u001b[0;34m[\u001b[0m\u001b[0;34m:\u001b[0m\u001b[0;34m,\u001b[0m\u001b[0;34m:\u001b[0m\u001b[0;34m,\u001b[0m\u001b[0;36m1\u001b[0m\u001b[0;34m]\u001b[0m\u001b[0;34m)\u001b[0m\u001b[0;34m\u001b[0m\u001b[0;34m\u001b[0m\u001b[0m\n",
      "\u001b[0;31mNameError\u001b[0m: name 'cooords' is not defined"
     ]
    }
   ],
   "source": [
    "_, ax = plt.subplots(len(coords), 5, figsize=(16, 14))\n",
    "for i, key in enumerate(coords):\n",
    "    ax[i][0].set_ylabel(key)\n",
    "    ax[i][0].imshow(pics[key][:,:,0]) \n",
    "    ax[i][1].imshow(pics[key][:,:,1]) \n",
    "    ax[i][2].imshow(pics[key][:,:,2]) \n",
    "    ax[i][3].imshow(pics[key][:,:,7]) #mask\n",
    "    ax[i][4].imshow(pics[key][:,:,6]) #ypic\n",
    "    if key == 'Leo':\n",
    "        ax[i][0].set_xlabel('100')\n",
    "        ax[i][1].set_xlabel('143')\n",
    "        ax[i][2].set_xlabel('217')\n",
    "        ax[i][3].set_xlabel('mask')\n",
    "        ax[i][4].set_xlabel('y')"
   ]
  },
  {
   "cell_type": "code",
   "execution_count": null,
   "metadata": {
    "ExecuteTime": {
     "end_time": "2020-12-11T14:49:55.143043Z",
     "start_time": "2020-12-11T14:49:20.002Z"
    }
   },
   "outputs": [],
   "source": [
    "for key in pics:\n",
    "    pic2fits(pics[key], None, os.path.join('/home/rt2122/Data/cur/4pics', key + '.fits'))"
   ]
  },
  {
   "cell_type": "code",
   "execution_count": 21,
   "metadata": {
    "ExecuteTime": {
     "end_time": "2020-12-02T22:41:45.584932Z",
     "start_time": "2020-12-02T22:41:45.217807Z"
    }
   },
   "outputs": [],
   "source": [
    "df_pz_act = pd.read_csv(\n",
    "    '/home/rt2122/Data/scans_old/scans_extended/connected/full_act_cut_ep14_thr0.1_step8.csv')\n",
    "df_pz = pd.read_csv('/home/rt2122/Data/scans_old/scans_extended/connected/ep14_thr0.1_step8_nofn.csv')"
   ]
  },
  {
   "cell_type": "code",
   "execution_count": 29,
   "metadata": {
    "ExecuteTime": {
     "end_time": "2020-12-02T22:50:13.637404Z",
     "start_time": "2020-12-02T22:50:13.594198Z"
    }
   },
   "outputs": [
    {
     "name": "stdout",
     "output_type": "stream",
     "text": [
      "Совпадения с каталогами на расстояниях [2.5, 5.0, 10.0] минут\n",
      "Coma\n",
      "pz     [0, 0, 0]\n",
      "pz_act [0, 0, 1]\n",
      "Leo\n",
      "pz     [0, 0, 1]\n",
      "pz_act [0, 1, 1]\n",
      "A399\n",
      "pz     [0, 0, 1]\n",
      "pz_act [0, 0, 0]\n",
      "Shapley\n",
      "pz     [0, 0, 0]\n",
      "pz_act [0, 0, 0]\n"
     ]
    }
   ],
   "source": [
    "pz_sc = SkyCoord(ra=np.array(df_pz['RA'])*u.degree, \n",
    "                 dec=np.array(df_pz['DEC'])*u.degree, frame='icrs')\n",
    "pz_act_sc = SkyCoord(ra=np.array(df_pz_act['RA'])*u.degree, \n",
    "                 dec=np.array(df_pz_act['DEC'])*u.degree, frame='icrs')\n",
    "thr_list = (2.5/60, 5/60, 10/60)\n",
    "print('Совпадения с каталогами на расстояниях', [60 * k for k in thr_list], 'минут')\n",
    "for key in coords:\n",
    "    sc = SkyCoord(ra=coords[key][0]*u.degree, dec=coords[key][1]*u.degree, frame='icrs')\n",
    "    print(key)\n",
    "    dist = sc.separation(pz_sc).degree\n",
    "    print('pz    ', [np.count_nonzero(dist < thr) for thr in thr_list])\n",
    "    dist = sc.separation(pz_act_sc).degree\n",
    "    print('pz_act', [np.count_nonzero(dist < thr) for thr in thr_list])"
   ]
  },
  {
   "cell_type": "code",
   "execution_count": 16,
   "metadata": {
    "ExecuteTime": {
     "end_time": "2020-12-12T14:35:53.790543Z",
     "start_time": "2020-12-12T14:35:53.711226Z"
    }
   },
   "outputs": [],
   "source": [
    "planck_z = pd.read_csv('/home/rt2122/Data/clusters/planck_z.csv')"
   ]
  },
  {
   "cell_type": "code",
   "execution_count": 18,
   "metadata": {
    "ExecuteTime": {
     "end_time": "2020-12-12T14:36:33.315313Z",
     "start_time": "2020-12-12T14:36:25.145660Z"
    }
   },
   "outputs": [],
   "source": [
    "pic, mask = draw_pic_with_mask(None, np.stack([planck_z['RA'], planck_z['DEC']]).T, matr=matrs['pz0'])"
   ]
  },
  {
   "cell_type": "code",
   "execution_count": 9,
   "metadata": {
    "ExecuteTime": {
     "end_time": "2020-12-12T08:23:23.811892Z",
     "start_time": "2020-12-12T08:23:23.808157Z"
    }
   },
   "outputs": [
    {
     "data": {
      "text/plain": [
       "((32, 32, 6), (32, 32, 1))"
      ]
     },
     "execution_count": 9,
     "metadata": {},
     "output_type": "execute_result"
    }
   ],
   "source": [
    "pic.shape, mask.shape"
   ]
  },
  {
   "cell_type": "code",
   "execution_count": 10,
   "metadata": {
    "ExecuteTime": {
     "end_time": "2020-12-12T08:23:23.882918Z",
     "start_time": "2020-12-12T08:23:23.813506Z"
    }
   },
   "outputs": [],
   "source": [
    "ch = [100,143,217,353,545,857]"
   ]
  },
  {
   "cell_type": "code",
   "execution_count": 21,
   "metadata": {
    "ExecuteTime": {
     "end_time": "2020-12-12T14:40:03.919823Z",
     "start_time": "2020-12-12T14:40:02.684444Z"
    }
   },
   "outputs": [
    {
     "data": {
      "image/png": "[encoded data removed]",
      "text/plain": [
       "<Figure size 864x864 with 9 Axes>"
      ]
     },
     "metadata": {
      "needs_background": "light"
     },
     "output_type": "display_data"
    }
   ],
   "source": [
    "s=90\n",
    "_, ax = plt.subplots(3, 3, figsize=(12, 12), sharex=True, sharey=True)\n",
    "plt.subplots_adjust(wspace=0.01, hspace=0.05)\n",
    "for i in range(2):\n",
    "    for j in range(3):\n",
    "        ax[i][j].imshow(pic[:,:,3*i+j])\n",
    "        ax[i][j].scatter([16], [16], marker='x', c='r', s=s)\n",
    "        #ax[i][j].set_xlabel(ch[2*i+j])\n",
    "ax[2][0].imshow(mask[:,:,0])\n",
    "ax[2][0].set_xlabel('mask')\n",
    "ax[2][0].scatter([16], [16], marker='x', c='r', s=s)\n",
    "ax[2][1].imshow(preds['pz14'][:,:,0])\n",
    "ax[2][1].set_xlabel('pz14')\n",
    "ax[2][1].scatter([16], [16], marker='x', c='r', s=s)\n",
    "ax[2][2].imshow(preds['pz_act10'][:,:,0])\n",
    "ax[2][2].set_xlabel('pz_act10')\n",
    "ax[2][2].scatter([16], [16], marker='x', c='r', s=s)\n",
    "plt.show()"
   ]
  },
  {
   "cell_type": "code",
   "execution_count": 15,
   "metadata": {
    "ExecuteTime": {
     "end_time": "2020-12-12T08:27:24.172391Z",
     "start_time": "2020-12-12T08:27:24.149239Z"
    }
   },
   "outputs": [
    {
     "data": {
      "text/plain": [
       "(16, 16)"
      ]
     },
     "execution_count": 15,
     "metadata": {},
     "output_type": "execute_result"
    }
   ],
   "source": [
    "matr2dict(matrs['pz0'])[radec2pix(*coords['pz0'], 2**11)]"
   ]
  },
  {
   "cell_type": "code",
   "execution_count": null,
   "metadata": {},
   "outputs": [],
   "source": []
  }
 ],
 "metadata": {
  "kernelspec": {
   "display_name": "Python 3",
   "language": "python",
   "name": "python3"
  },
  "language_info": {
   "codemirror_mode": {
    "name": "ipython",
    "version": 3
   },
   "file_extension": ".py",
   "mimetype": "text/x-python",
   "name": "python",
   "nbconvert_exporter": "python",
   "pygments_lexer": "ipython3",
   "version": "3.8.3"
  }
 },
 "nbformat": 4,
 "nbformat_minor": 4
}
