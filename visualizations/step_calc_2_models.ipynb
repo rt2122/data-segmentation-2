{
 "cells": [
  {
   "cell_type": "code",
   "execution_count": 1,
   "metadata": {
    "ExecuteTime": {
     "end_time": "2020-11-30T20:06:39.959193Z",
     "start_time": "2020-11-30T20:06:39.380753Z"
    }
   },
   "outputs": [],
   "source": [
    "import numpy as np\n",
    "import pandas as pd\n",
    "from matplotlib import pyplot as plt\n",
    "from DS_Planck_Unet import *\n",
    "from DS_detector import *\n",
    "from tqdm.notebook import tqdm"
   ]
  },
  {
   "cell_type": "code",
   "execution_count": 2,
   "metadata": {
    "ExecuteTime": {
     "end_time": "2020-11-30T20:06:39.964242Z",
     "start_time": "2020-11-30T20:06:39.961041Z"
    }
   },
   "outputs": [],
   "source": [
    "model_files = {'pz' : \n",
    "               '/home/rt2122/Models/planck_z/f8d2.ep0015-vl0.006127-l0.003979.hdf5',\n",
    "               'pz_act' :\n",
    "               '/home/rt2122/Models/act_ros/act_ros.ep0014-vl0.035122-l0.028428.hdf5'}"
   ]
  },
  {
   "cell_type": "code",
   "execution_count": 5,
   "metadata": {
    "ExecuteTime": {
     "end_time": "2020-11-30T21:19:03.386076Z",
     "start_time": "2020-11-30T20:07:13.936840Z"
    }
   },
   "outputs": [
    {
     "data": {
      "application/vnd.jupyter.widget-view+json": {
       "model_id": "6277e3db572444fdb5c6ab7fe779d07f",
       "version_major": 2,
       "version_minor": 0
      },
      "text/plain": [
       "HBox(children=(FloatProgress(value=0.0, max=8.0), HTML(value='')))"
      ]
     },
     "metadata": {},
     "output_type": "display_data"
    },
    {
     "name": "stderr",
     "output_type": "stream",
     "text": [
      "/home/rt2122/anaconda3/lib/python3.8/site-packages/pandas/core/indexing.py:671: SettingWithCopyWarning: \n",
      "A value is trying to be set on a copy of a slice from a DataFrame\n",
      "\n",
      "See the caveats in the documentation: https://pandas.pydata.org/pandas-docs/stable/user_guide/indexing.html#returning-a-view-versus-a-copy\n",
      "  self._setitem_with_indexer(indexer, value)\n"
     ]
    },
    {
     "name": "stdout",
     "output_type": "stream",
     "text": [
      "\n"
     ]
    },
    {
     "data": {
      "application/vnd.jupyter.widget-view+json": {
       "model_id": "e260b9582595439d95e50b8147092bb0",
       "version_major": 2,
       "version_minor": 0
      },
      "text/plain": [
       "HBox(children=(FloatProgress(value=0.0, max=8.0), HTML(value='')))"
      ]
     },
     "metadata": {},
     "output_type": "display_data"
    },
    {
     "name": "stdout",
     "output_type": "stream",
     "text": [
      "\n"
     ]
    }
   ],
   "source": [
    "model_dict = {}\n",
    "for name in model_files:\n",
    "    model = load_planck_model(model_files[name])\n",
    "    step_dict = {}\n",
    "    for step in tqdm(range(64, 0, -8)):\n",
    "        step_dict[step] = []\n",
    "        for i in val_pix:\n",
    "            all_dict = gen_pics_for_detection(i, model, step=step)\n",
    "            step_dict[step].append(\n",
    "                detect_clusters_connected(all_dict, thr=0.1, ipix=i))\n",
    "        step_dict[step] = pd.concat(step_dict[step], ignore_index=True)\n",
    "    model_dict[name] = step_dict"
   ]
  },
  {
   "cell_type": "code",
   "execution_count": 6,
   "metadata": {
    "ExecuteTime": {
     "end_time": "2020-11-30T21:22:03.640409Z",
     "start_time": "2020-11-30T21:22:03.227834Z"
    }
   },
   "outputs": [],
   "source": [
    "for name in model_dict:\n",
    "    for step in range(64, 0, -8):\n",
    "        model_dict[name][step].to_csv(\n",
    "            '/home/rt2122/Data/cur/st{step}_mod-{model}.csv'.format(step=step, \n",
    "                                                                    model=name),\n",
    "                            index=False)"
   ]
  },
  {
   "cell_type": "code",
   "execution_count": null,
   "metadata": {},
   "outputs": [],
   "source": []
  }
 ],
 "metadata": {
  "kernelspec": {
   "display_name": "Python 3",
   "language": "python",
   "name": "python3"
  },
  "language_info": {
   "codemirror_mode": {
    "name": "ipython",
    "version": 3
   },
   "file_extension": ".py",
   "mimetype": "text/x-python",
   "name": "python",
   "nbconvert_exporter": "python",
   "pygments_lexer": "ipython3",
   "version": "3.8.3"
  }
 },
 "nbformat": 4,
 "nbformat_minor": 4
}
