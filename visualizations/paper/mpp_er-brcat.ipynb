{
 "cells": [
  {
   "cell_type": "code",
   "execution_count": 1,
   "metadata": {
    "ExecuteTime": {
     "end_time": "2021-07-05T23:11:22.647248Z",
     "start_time": "2021-07-05T23:11:21.821282Z"
    }
   },
   "outputs": [],
   "source": [
    "import numpy as np\n",
    "import pandas as pd\n",
    "from DS_models_stat import do_all_stats, cut_cat\n",
    "from astropy.coordinates import SkyCoord\n",
    "from astropy import units as u\n",
    "from tqdm.notebook import tqdm\n",
    "from matplotlib import pyplot as plt"
   ]
  },
  {
   "cell_type": "code",
   "execution_count": 4,
   "metadata": {
    "ExecuteTime": {
     "end_time": "2021-07-05T23:12:38.808428Z",
     "start_time": "2021-07-05T23:12:38.752079Z"
    }
   },
   "outputs": [],
   "source": [
    "df = pd.read_csv('/home/rt2122/Data/SRGz/brcat.csv')\n",
    "df = cut_cat(df, dict_cut={'l' : [0, 180], 'b' : [20, np.inf]})\n",
    "#df41 = cut_cat(df41, big_pix=[41]) "
   ]
  },
  {
   "cell_type": "code",
   "execution_count": 3,
   "metadata": {
    "ExecuteTime": {
     "end_time": "2021-07-05T23:11:35.227380Z",
     "start_time": "2021-07-05T23:11:35.138719Z"
    }
   },
   "outputs": [
    {
     "data": {
      "text/plain": [
       "array([ 5.000039  ,  5.05335105,  5.1069375 ,  5.1630591 ,  5.223298  ,\n",
       "        5.29437   ,  5.3639328 ,  5.43414885,  5.5157134 ,  5.60974235,\n",
       "        5.711204  ,  5.8320221 ,  5.9664762 ,  6.12062285,  6.2958075 ,\n",
       "        6.52273275,  6.826352  ,  7.2506403 ,  8.0152959 , 10.0664315 ,\n",
       "       84.39291   ])"
      ]
     },
     "execution_count": 3,
     "metadata": {},
     "output_type": "execute_result"
    }
   ],
   "source": [
    "mp_q = np.array(df['max_pred'].quantile(np.arange(0.0, 1.05, 0.05)))\n",
    "mp_q"
   ]
  },
  {
   "cell_type": "code",
   "execution_count": 6,
   "metadata": {
    "ExecuteTime": {
     "end_time": "2021-07-05T23:13:11.622220Z",
     "start_time": "2021-07-05T23:13:11.578748Z"
    }
   },
   "outputs": [],
   "source": [
    "true_cats = {#'PSZ2(z)' : '/home/rt2122/Data/clusters/planck_z.csv',\n",
    "             #'PSZ2' : '/home/rt2122/Data/original_catalogs/csv/PSZ2.csv',\n",
    "            #'MCXC' : '/home/rt2122/Data/original_catalogs/csv/MCXC.csv',\n",
    "            #'ACT' : '/home/rt2122/Data/original_catalogs/csv/ACT.csv',\n",
    "            #'Abell' : '/home/rt2122/Data/original_catalogs/csv/Abell.csv',\n",
    "            'eROSITA' : '/home/rt2122/Data/SRGz/clusters/clusters1_b20_edit.csv'}\n",
    "true_cats = {key : pd.read_csv(true_cats[key]) for key in true_cats}\n",
    "\n",
    "#big_pix = [41]\n",
    "#true_cats = {key : cut_cat(true_cats[key], big_pix = big_pix) for key in true_cats}\n",
    "true_cats_sc = {key : SkyCoord(ra=np.array(true_cats[key]['RA']) * u.degree, \n",
    "                               dec=np.array(true_cats[key]['DEC']) * u.degree, frame='icrs') for key in true_cats}"
   ]
  },
  {
   "cell_type": "code",
   "execution_count": 7,
   "metadata": {
    "ExecuteTime": {
     "end_time": "2021-07-05T23:13:14.337160Z",
     "start_time": "2021-07-05T23:13:13.811800Z"
    }
   },
   "outputs": [
    {
     "data": {
      "application/vnd.jupyter.widget-view+json": {
       "model_id": "fd6735ef5566468fbbb93867dafb27cc",
       "version_major": 2,
       "version_minor": 0
      },
      "text/plain": [
       "HBox(children=(FloatProgress(value=1.0, bar_style='info', max=1.0), HTML(value='')))"
      ]
     },
     "metadata": {},
     "output_type": "display_data"
    },
    {
     "name": "stderr",
     "output_type": "stream",
     "text": [
      "/home/rt2122/L/git/data-segmentation-2/modules/DS_models_stat.py:169: SettingWithCopyWarning: \n",
      "A value is trying to be set on a copy of a slice from a DataFrame.\n",
      "Try using .loc[row_indexer,col_indexer] = value instead\n",
      "\n",
      "See the caveats in the documentation: https://pandas.pydata.org/pandas-docs/stable/user_guide/indexing.html#returning-a-view-versus-a-copy\n",
      "  det_cat['found'] = False\n",
      "/home/rt2122/anaconda3/lib/python3.8/site-packages/pandas/core/indexing.py:966: SettingWithCopyWarning: \n",
      "A value is trying to be set on a copy of a slice from a DataFrame.\n",
      "Try using .loc[row_indexer,col_indexer] = value instead\n",
      "\n",
      "See the caveats in the documentation: https://pandas.pydata.org/pandas-docs/stable/user_guide/indexing.html#returning-a-view-versus-a-copy\n",
      "  self.obj[item] = s\n"
     ]
    },
    {
     "name": "stdout",
     "output_type": "stream",
     "text": [
      "\n"
     ]
    }
   ],
   "source": [
    "prec = []\n",
    "for st, en in tqdm(zip(mp_q[:-1], mp_q[1:])):\n",
    "    cur_df = df[df['max_pred'] >= st]\n",
    "    cur_df.index = np.arange(len(cur_df))\n",
    "    \n",
    "    stats = do_all_stats(cur_df, true_cats, true_cats_sc=true_cats_sc, match_dist=400/3600)\n",
    "    prec.append(stats['precision'])"
   ]
  },
  {
   "cell_type": "code",
   "execution_count": 8,
   "metadata": {
    "ExecuteTime": {
     "end_time": "2021-07-05T23:13:19.496573Z",
     "start_time": "2021-07-05T23:13:19.352499Z"
    }
   },
   "outputs": [
    {
     "data": {
      "text/plain": [
       "[<matplotlib.lines.Line2D at 0x7f901af84d60>]"
      ]
     },
     "execution_count": 8,
     "metadata": {},
     "output_type": "execute_result"
    },
    {
     "data": {
      "image/png": "[encoded data removed]",
      "text/plain": [
       "<Figure size 432x288 with 1 Axes>"
      ]
     },
     "metadata": {
      "needs_background": "light"
     },
     "output_type": "display_data"
    }
   ],
   "source": [
    "plt.plot((mp_q[:-1] + mp_q[1:])/2, prec)"
   ]
  },
  {
   "cell_type": "code",
   "execution_count": 9,
   "metadata": {
    "ExecuteTime": {
     "end_time": "2021-07-05T23:13:26.410357Z",
     "start_time": "2021-07-05T23:13:26.405354Z"
    }
   },
   "outputs": [
    {
     "data": {
      "text/plain": [
       "array([ 4.        ,  5.05335105,  5.1069375 ,  5.1630591 ,  5.223298  ,\n",
       "        5.29437   ,  5.3639328 ,  5.43414885,  5.5157134 ,  5.60974235,\n",
       "        5.711204  ,  5.8320221 ,  5.9664762 ,  6.12062285,  6.2958075 ,\n",
       "        6.52273275,  6.826352  ,  7.2506403 ,  8.0152959 , 10.0664315 ,\n",
       "       88.        ])"
      ]
     },
     "execution_count": 9,
     "metadata": {},
     "output_type": "execute_result"
    }
   ],
   "source": [
    "mp_q[0] = 4\n",
    "mp_q[-1] = 88\n",
    "mp_q"
   ]
  },
  {
   "cell_type": "code",
   "execution_count": 10,
   "metadata": {
    "ExecuteTime": {
     "end_time": "2021-07-05T23:13:29.241974Z",
     "start_time": "2021-07-05T23:13:29.235787Z"
    }
   },
   "outputs": [],
   "source": [
    "prec.append(1.0)"
   ]
  },
  {
   "cell_type": "code",
   "execution_count": 11,
   "metadata": {
    "ExecuteTime": {
     "end_time": "2021-07-05T23:13:30.492041Z",
     "start_time": "2021-07-05T23:13:30.479173Z"
    }
   },
   "outputs": [],
   "source": [
    "def find_prec(st, en, prec1, prec2, cur_mp):\n",
    "    \n",
    "    def find_kb(coords1, coords2):\n",
    "        #y1 = kx1 + b\n",
    "        #y2 = kx2 + b\n",
    "        #y1- y2 = k(x1 - x2)\n",
    "        #k = (y1-y2)/(x1-x2)\n",
    "        #b=y1-kx1\n",
    "        k = coords1[1] - coords2[1]\n",
    "        k /= coords1[0] - coords2[0]\n",
    "        b = coords1[1] - k * coords1[0]\n",
    "        return k, b\n",
    "    \n",
    "    k, b = find_kb([st, prec1], [en, prec2])\n",
    "    if st <= cur_mp and cur_mp <= en:\n",
    "        return k * cur_mp + b\n",
    "    else:\n",
    "        return -1"
   ]
  },
  {
   "cell_type": "code",
   "execution_count": 12,
   "metadata": {
    "ExecuteTime": {
     "end_time": "2021-07-05T23:13:46.996234Z",
     "start_time": "2021-07-05T23:13:46.962336Z"
    }
   },
   "outputs": [
    {
     "data": {
      "text/html": [
       "<div>\n",
       "<style scoped>\n",
       "    .dataframe tbody tr th:only-of-type {\n",
       "        vertical-align: middle;\n",
       "    }\n",
       "\n",
       "    .dataframe tbody tr th {\n",
       "        vertical-align: top;\n",
       "    }\n",
       "\n",
       "    .dataframe thead th {\n",
       "        text-align: right;\n",
       "    }\n",
       "</style>\n",
       "<table border=\"1\" class=\"dataframe\">\n",
       "  <thead>\n",
       "    <tr style=\"text-align: right;\">\n",
       "      <th></th>\n",
       "      <th>RA</th>\n",
       "      <th>DEC</th>\n",
       "      <th>max_pred</th>\n",
       "      <th>galmask</th>\n",
       "      <th>psmask</th>\n",
       "      <th>CO_mask</th>\n",
       "      <th>mpp_er</th>\n",
       "    </tr>\n",
       "  </thead>\n",
       "  <tbody>\n",
       "    <tr>\n",
       "      <th>0</th>\n",
       "      <td>65.909328</td>\n",
       "      <td>15.799634</td>\n",
       "      <td>5.000039</td>\n",
       "      <td>0</td>\n",
       "      <td>1</td>\n",
       "      <td>0</td>\n",
       "      <td>0</td>\n",
       "    </tr>\n",
       "    <tr>\n",
       "      <th>1</th>\n",
       "      <td>146.452715</td>\n",
       "      <td>-10.044695</td>\n",
       "      <td>5.000144</td>\n",
       "      <td>1</td>\n",
       "      <td>0</td>\n",
       "      <td>1</td>\n",
       "      <td>0</td>\n",
       "    </tr>\n",
       "    <tr>\n",
       "      <th>2</th>\n",
       "      <td>99.635969</td>\n",
       "      <td>-51.502430</td>\n",
       "      <td>5.000328</td>\n",
       "      <td>1</td>\n",
       "      <td>1</td>\n",
       "      <td>1</td>\n",
       "      <td>0</td>\n",
       "    </tr>\n",
       "    <tr>\n",
       "      <th>3</th>\n",
       "      <td>271.903476</td>\n",
       "      <td>60.487588</td>\n",
       "      <td>5.000338</td>\n",
       "      <td>1</td>\n",
       "      <td>1</td>\n",
       "      <td>1</td>\n",
       "      <td>0</td>\n",
       "    </tr>\n",
       "  </tbody>\n",
       "</table>\n",
       "</div>"
      ],
      "text/plain": [
       "           RA        DEC  max_pred  galmask  psmask  CO_mask  mpp_er\n",
       "0   65.909328  15.799634  5.000039        0       1        0       0\n",
       "1  146.452715 -10.044695  5.000144        1       0        1       0\n",
       "2   99.635969 -51.502430  5.000328        1       1        1       0\n",
       "3  271.903476  60.487588  5.000338        1       1        1       0"
      ]
     },
     "execution_count": 12,
     "metadata": {},
     "output_type": "execute_result"
    }
   ],
   "source": [
    "df = pd.read_csv('/home/rt2122/Data/SRGz/brcat.csv')\n",
    "df = df.sort_values(by='max_pred', axis='index', ascending=True)\n",
    "df['mpp_er'] = 0\n",
    "df.index = np.arange(len(df))\n",
    "df.head(4)"
   ]
  },
  {
   "cell_type": "code",
   "execution_count": 13,
   "metadata": {
    "ExecuteTime": {
     "end_time": "2021-07-05T23:14:12.230703Z",
     "start_time": "2021-07-05T23:14:06.038538Z"
    }
   },
   "outputs": [
    {
     "data": {
      "application/vnd.jupyter.widget-view+json": {
       "model_id": "493b17ead1194bfba4fb6359345d835a",
       "version_major": 2,
       "version_minor": 0
      },
      "text/plain": [
       "HBox(children=(FloatProgress(value=0.0, max=13772.0), HTML(value='')))"
      ]
     },
     "metadata": {},
     "output_type": "display_data"
    },
    {
     "name": "stdout",
     "output_type": "stream",
     "text": [
      "\n"
     ]
    }
   ],
   "source": [
    "i = 0\n",
    "st = mp_q[i]\n",
    "en = mp_q[i + 1]\n",
    "prec1 = prec[i]\n",
    "prec2 = prec[i + 1]\n",
    "for j in tqdm(range(len(df))):\n",
    "    line = df.iloc[j]\n",
    "    mp = line['max_pred']\n",
    "    if mp > en:\n",
    "        i += 1\n",
    "        st = mp_q[i]\n",
    "        if i + 1 >= len(mp_q):\n",
    "            en = 1\n",
    "        else:\n",
    "            en = mp_q[i + 1]\n",
    "        prec1 = prec[i]\n",
    "        prec2 = prec[i + 1]\n",
    "    prec_val = find_prec(st, en, prec1, prec2, mp)\n",
    "    if prec_val < 0 or not (prec1 <=prec_val and prec_val <= prec2):\n",
    "        break\n",
    "    df.loc[j, 'mpp_er'] = prec_val"
   ]
  },
  {
   "cell_type": "code",
   "execution_count": 14,
   "metadata": {
    "ExecuteTime": {
     "end_time": "2021-07-05T23:14:13.759479Z",
     "start_time": "2021-07-05T23:14:13.080576Z"
    }
   },
   "outputs": [
    {
     "data": {
      "text/plain": [
       "[<matplotlib.lines.Line2D at 0x7f901af16880>]"
      ]
     },
     "execution_count": 14,
     "metadata": {},
     "output_type": "execute_result"
    },
    {
     "data": {
      "image/png": "[encoded data removed]",
      "text/plain": [
       "<Figure size 576x576 with 1 Axes>"
      ]
     },
     "metadata": {
      "needs_background": "light"
     },
     "output_type": "display_data"
    }
   ],
   "source": [
    "_, ax = plt.subplots(1, 1, figsize=(8, 8))\n",
    "ax.set_xscale('log')\n",
    "ax.plot(df['max_pred'], df['mpp_er'])"
   ]
  },
  {
   "cell_type": "code",
   "execution_count": 15,
   "metadata": {
    "ExecuteTime": {
     "end_time": "2021-07-05T23:14:18.575828Z",
     "start_time": "2021-07-05T23:14:18.515417Z"
    }
   },
   "outputs": [
    {
     "data": {
      "text/html": [
       "<div>\n",
       "<style scoped>\n",
       "    .dataframe tbody tr th:only-of-type {\n",
       "        vertical-align: middle;\n",
       "    }\n",
       "\n",
       "    .dataframe tbody tr th {\n",
       "        vertical-align: top;\n",
       "    }\n",
       "\n",
       "    .dataframe thead th {\n",
       "        text-align: right;\n",
       "    }\n",
       "</style>\n",
       "<table border=\"1\" class=\"dataframe\">\n",
       "  <thead>\n",
       "    <tr style=\"text-align: right;\">\n",
       "      <th></th>\n",
       "      <th>RA</th>\n",
       "      <th>DEC</th>\n",
       "      <th>max_pred</th>\n",
       "      <th>galmask</th>\n",
       "      <th>psmask</th>\n",
       "      <th>CO_mask</th>\n",
       "      <th>mpp_er</th>\n",
       "    </tr>\n",
       "  </thead>\n",
       "  <tbody>\n",
       "    <tr>\n",
       "      <th>0</th>\n",
       "      <td>65.909328</td>\n",
       "      <td>15.799634</td>\n",
       "      <td>5.000039</td>\n",
       "      <td>0</td>\n",
       "      <td>1</td>\n",
       "      <td>0</td>\n",
       "      <td>0.270857</td>\n",
       "    </tr>\n",
       "    <tr>\n",
       "      <th>1</th>\n",
       "      <td>146.452715</td>\n",
       "      <td>-10.044695</td>\n",
       "      <td>5.000144</td>\n",
       "      <td>1</td>\n",
       "      <td>0</td>\n",
       "      <td>1</td>\n",
       "      <td>0.270857</td>\n",
       "    </tr>\n",
       "    <tr>\n",
       "      <th>2</th>\n",
       "      <td>99.635969</td>\n",
       "      <td>-51.502430</td>\n",
       "      <td>5.000328</td>\n",
       "      <td>1</td>\n",
       "      <td>1</td>\n",
       "      <td>1</td>\n",
       "      <td>0.270859</td>\n",
       "    </tr>\n",
       "    <tr>\n",
       "      <th>3</th>\n",
       "      <td>271.903476</td>\n",
       "      <td>60.487588</td>\n",
       "      <td>5.000338</td>\n",
       "      <td>1</td>\n",
       "      <td>1</td>\n",
       "      <td>1</td>\n",
       "      <td>0.270859</td>\n",
       "    </tr>\n",
       "    <tr>\n",
       "      <th>4</th>\n",
       "      <td>175.415688</td>\n",
       "      <td>39.959376</td>\n",
       "      <td>5.000418</td>\n",
       "      <td>1</td>\n",
       "      <td>1</td>\n",
       "      <td>1</td>\n",
       "      <td>0.270859</td>\n",
       "    </tr>\n",
       "    <tr>\n",
       "      <th>...</th>\n",
       "      <td>...</td>\n",
       "      <td>...</td>\n",
       "      <td>...</td>\n",
       "      <td>...</td>\n",
       "      <td>...</td>\n",
       "      <td>...</td>\n",
       "      <td>...</td>\n",
       "    </tr>\n",
       "    <tr>\n",
       "      <th>13767</th>\n",
       "      <td>84.837042</td>\n",
       "      <td>-70.110884</td>\n",
       "      <td>65.094880</td>\n",
       "      <td>0</td>\n",
       "      <td>0</td>\n",
       "      <td>0</td>\n",
       "      <td>0.937020</td>\n",
       "    </tr>\n",
       "    <tr>\n",
       "      <th>13768</th>\n",
       "      <td>79.776578</td>\n",
       "      <td>-5.889819</td>\n",
       "      <td>66.187060</td>\n",
       "      <td>0</td>\n",
       "      <td>0</td>\n",
       "      <td>0</td>\n",
       "      <td>0.940023</td>\n",
       "    </tr>\n",
       "    <tr>\n",
       "      <th>13769</th>\n",
       "      <td>83.552657</td>\n",
       "      <td>-6.557328</td>\n",
       "      <td>66.651710</td>\n",
       "      <td>0</td>\n",
       "      <td>0</td>\n",
       "      <td>0</td>\n",
       "      <td>0.941301</td>\n",
       "    </tr>\n",
       "    <tr>\n",
       "      <th>13770</th>\n",
       "      <td>82.754616</td>\n",
       "      <td>-5.248693</td>\n",
       "      <td>70.113630</td>\n",
       "      <td>0</td>\n",
       "      <td>0</td>\n",
       "      <td>0</td>\n",
       "      <td>0.950820</td>\n",
       "    </tr>\n",
       "    <tr>\n",
       "      <th>13771</th>\n",
       "      <td>83.201830</td>\n",
       "      <td>-5.554631</td>\n",
       "      <td>84.392910</td>\n",
       "      <td>0</td>\n",
       "      <td>0</td>\n",
       "      <td>0</td>\n",
       "      <td>0.990082</td>\n",
       "    </tr>\n",
       "  </tbody>\n",
       "</table>\n",
       "<p>13772 rows × 7 columns</p>\n",
       "</div>"
      ],
      "text/plain": [
       "               RA        DEC   max_pred  galmask  psmask  CO_mask    mpp_er\n",
       "0       65.909328  15.799634   5.000039        0       1        0  0.270857\n",
       "1      146.452715 -10.044695   5.000144        1       0        1  0.270857\n",
       "2       99.635969 -51.502430   5.000328        1       1        1  0.270859\n",
       "3      271.903476  60.487588   5.000338        1       1        1  0.270859\n",
       "4      175.415688  39.959376   5.000418        1       1        1  0.270859\n",
       "...           ...        ...        ...      ...     ...      ...       ...\n",
       "13767   84.837042 -70.110884  65.094880        0       0        0  0.937020\n",
       "13768   79.776578  -5.889819  66.187060        0       0        0  0.940023\n",
       "13769   83.552657  -6.557328  66.651710        0       0        0  0.941301\n",
       "13770   82.754616  -5.248693  70.113630        0       0        0  0.950820\n",
       "13771   83.201830  -5.554631  84.392910        0       0        0  0.990082\n",
       "\n",
       "[13772 rows x 7 columns]"
      ]
     },
     "execution_count": 15,
     "metadata": {},
     "output_type": "execute_result"
    }
   ],
   "source": [
    "df"
   ]
  },
  {
   "cell_type": "code",
   "execution_count": 16,
   "metadata": {
    "ExecuteTime": {
     "end_time": "2021-07-05T23:14:26.356369Z",
     "start_time": "2021-07-05T23:14:26.224597Z"
    }
   },
   "outputs": [],
   "source": [
    "df.to_csv('/home/rt2122/Data/SRGz/brcat_mpp_er.csv', index=False)"
   ]
  },
  {
   "cell_type": "code",
   "execution_count": null,
   "metadata": {},
   "outputs": [],
   "source": []
  }
 ],
 "metadata": {
  "kernelspec": {
   "display_name": "Python 3",
   "language": "python",
   "name": "python3"
  },
  "language_info": {
   "codemirror_mode": {
    "name": "ipython",
    "version": 3
   },
   "file_extension": ".py",
   "mimetype": "text/x-python",
   "name": "python",
   "nbconvert_exporter": "python",
   "pygments_lexer": "ipython3",
   "version": "3.8.3"
  }
 },
 "nbformat": 4,
 "nbformat_minor": 4
}
