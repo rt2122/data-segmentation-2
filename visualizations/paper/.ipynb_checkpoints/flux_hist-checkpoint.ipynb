{
 "cells": [
  {
   "cell_type": "code",
   "execution_count": 1,
   "metadata": {
    "ExecuteTime": {
     "end_time": "2021-06-21T08:38:38.641843Z",
     "start_time": "2021-06-21T08:38:38.267437Z"
    }
   },
   "outputs": [],
   "source": [
    "import pandas as pd\n",
    "import numpy as np\n",
    "from matplotlib import pyplot as plt\n",
    "from DS_models_stat import cut_cat, make_histogram"
   ]
  },
  {
   "cell_type": "code",
   "execution_count": 4,
   "metadata": {
    "ExecuteTime": {
     "end_time": "2021-06-21T08:38:53.776583Z",
     "start_time": "2021-06-21T08:38:53.661874Z"
    }
   },
   "outputs": [],
   "source": [
    "true_cat_dict = {\n",
    "    '6' : cut_cat(pd.read_csv('/home/rt2122/Data/SRGz/clusters/clusters1_east_val_edit.csv'), big_pix=[6]),\n",
    "    '38' : cut_cat(pd.read_csv('/home/rt2122/Data/SRGz/clusters/clusters1_east_val_edit.csv'), big_pix=[38]),\n",
    "    #'east_val' : pd.read_csv('/home/rt2122/Data/SRGz/clusters/clusters1_east_val_edit.csv'),\n",
    "    'east' : pd.read_csv('/home/rt2122/Data/SRGz/clusters/clusters1_b20_edit.csv')\n",
    "    }\n",
    "\n",
    "for name in true_cat_dict:\n",
    "    df = true_cat_dict[name]\n",
    "    df.rename(columns={'flux_05-20' : 'flux'}, inplace=True)\n",
    "    df['log'] = np.log(df['flux'])\n",
    "    df['log10'] = np.log10(df['flux'])\n",
    "    df['exp'] = np.exp(df['flux'])\n"
   ]
  },
  {
   "cell_type": "code",
   "execution_count": 7,
   "metadata": {
    "ExecuteTime": {
     "end_time": "2021-06-21T08:39:08.089584Z",
     "start_time": "2021-06-21T08:39:08.068418Z"
    }
   },
   "outputs": [],
   "source": [
    "counts = {}\n",
    "bins = {}\n",
    "n_bins = 20\n",
    "for prm in ['flux', 'log', 'exp', 'log10']:\n",
    "    counts[prm] = {}\n",
    "    \n",
    "    df = true_cat_dict['east']\n",
    "    minv = df[prm].min()\n",
    "    maxv = df[prm].max()\n",
    "    dif = (maxv-minv)/n_bins\n",
    "    b = np.arange(minv, maxv+dif, dif)\n",
    "    bins[prm] = b\n",
    "    for name in true_cat_dict:\n",
    "        df = true_cat_dict[name]\n",
    "        c, _ = np.histogram(df[prm], b)\n",
    "        counts[prm][name] = c"
   ]
  },
  {
   "cell_type": "code",
   "execution_count": 9,
   "metadata": {
    "ExecuteTime": {
     "end_time": "2021-06-21T08:39:32.988782Z",
     "start_time": "2021-06-21T08:39:32.617801Z"
    }
   },
   "outputs": [
    {
     "data": {
      "text/plain": [
       "Text(0.5, 69.0, 'flux')"
      ]
     },
     "execution_count": 9,
     "metadata": {},
     "output_type": "execute_result"
    },
    {
     "data": {
      "image/png": "[encoded data removed]",
      "text/plain": [
       "<Figure size 720x720 with 1 Axes>"
      ]
     },
     "metadata": {
      "needs_background": "light"
     },
     "output_type": "display_data"
    }
   ],
   "source": [
    "fig, ax = plt.subplots(1, 1, figsize=(10, 10))\n",
    "fig.tight_layout()\n",
    "prm='log10'\n",
    "make_histogram(ax, list(counts[prm].values()), bins[prm], label_list=list(counts[prm].keys()), title=prm, log=True)\n",
    "ax.set_yticks([10 ** i for i in range(3)])\n",
    "ax.grid(axis='y', which='major', linestyle=':', alpha=1)\n",
    "ax.grid(axis='y', which='minor', linestyle=':', alpha=0.5)\n",
    "ax.set_xlabel('flux')"
   ]
  },
  {
   "cell_type": "code",
   "execution_count": 12,
   "metadata": {
    "ExecuteTime": {
     "end_time": "2021-06-16T12:45:24.239745Z",
     "start_time": "2021-06-16T12:45:24.228764Z"
    }
   },
   "outputs": [
    {
     "data": {
      "text/plain": [
       "(['a', 'b'], [1, 2])"
      ]
     },
     "execution_count": 12,
     "metadata": {},
     "output_type": "execute_result"
    }
   ],
   "source": [
    "d = {'a' : 1, 'b' : 2}\n",
    "list(d.keys()), list(d.values())"
   ]
  },
  {
   "cell_type": "code",
   "execution_count": null,
   "metadata": {},
   "outputs": [],
   "source": []
  }
 ],
 "metadata": {
  "kernelspec": {
   "display_name": "Python 3",
   "language": "python",
   "name": "python3"
  },
  "language_info": {
   "codemirror_mode": {
    "name": "ipython",
    "version": 3
   },
   "file_extension": ".py",
   "mimetype": "text/x-python",
   "name": "python",
   "nbconvert_exporter": "python",
   "pygments_lexer": "ipython3",
   "version": "3.8.3"
  }
 },
 "nbformat": 4,
 "nbformat_minor": 4
}
