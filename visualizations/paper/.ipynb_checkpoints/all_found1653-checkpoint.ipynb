{
 "cells": [
  {
   "cell_type": "code",
   "execution_count": 13,
   "metadata": {
    "ExecuteTime": {
     "end_time": "2021-06-11T17:28:54.203622Z",
     "start_time": "2021-06-11T17:28:54.199026Z"
    }
   },
   "outputs": [],
   "source": [
    "import pandas as pd\n",
    "import numpy as np\n",
    "from DS_models_stat import stat_cat \n",
    "from DS_Planck_Unet import east_val, west_val"
   ]
  },
  {
   "cell_type": "code",
   "execution_count": 2,
   "metadata": {
    "ExecuteTime": {
     "end_time": "2021-06-11T17:21:00.298975Z",
     "start_time": "2021-06-11T17:21:00.226783Z"
    }
   },
   "outputs": [],
   "source": [
    "df = pd.read_csv('/home/rt2122/Data/detected_cats/full_pz_all_found34_thr0.1_step8_no_fn.csv')\n",
    "psz2 = pd.read_csv('/home/rt2122/Data/original_catalogs/csv/PSZ2.csv')"
   ]
  },
  {
   "cell_type": "code",
   "execution_count": 3,
   "metadata": {
    "ExecuteTime": {
     "end_time": "2021-06-11T17:21:03.513852Z",
     "start_time": "2021-06-11T17:21:03.497001Z"
    }
   },
   "outputs": [
    {
     "data": {
      "text/plain": [
       "1653"
      ]
     },
     "execution_count": 3,
     "metadata": {},
     "output_type": "execute_result"
    }
   ],
   "source": [
    "len(psz2)"
   ]
  },
  {
   "cell_type": "code",
   "execution_count": 9,
   "metadata": {
    "ExecuteTime": {
     "end_time": "2021-06-11T17:25:37.672489Z",
     "start_time": "2021-06-11T17:25:37.635606Z"
    }
   },
   "outputs": [
    {
     "data": {
      "text/html": [
       "<div>\n",
       "<style scoped>\n",
       "    .dataframe tbody tr th:only-of-type {\n",
       "        vertical-align: middle;\n",
       "    }\n",
       "\n",
       "    .dataframe tbody tr th {\n",
       "        vertical-align: top;\n",
       "    }\n",
       "\n",
       "    .dataframe thead th {\n",
       "        text-align: right;\n",
       "    }\n",
       "</style>\n",
       "<table border=\"1\" class=\"dataframe\">\n",
       "  <thead>\n",
       "    <tr style=\"text-align: right;\">\n",
       "      <th></th>\n",
       "      <th>RA</th>\n",
       "      <th>DEC</th>\n",
       "      <th>area</th>\n",
       "      <th>min_rad</th>\n",
       "      <th>max_rad</th>\n",
       "      <th>mean_rad</th>\n",
       "      <th>min_pred</th>\n",
       "      <th>max_pred</th>\n",
       "      <th>tRA</th>\n",
       "      <th>tDEC</th>\n",
       "      <th>status</th>\n",
       "      <th>catalog</th>\n",
       "      <th>M500</th>\n",
       "      <th>z</th>\n",
       "      <th>pix2</th>\n",
       "    </tr>\n",
       "  </thead>\n",
       "  <tbody>\n",
       "    <tr>\n",
       "      <th>0</th>\n",
       "      <td>85.277300</td>\n",
       "      <td>-1.613652</td>\n",
       "      <td>36.0</td>\n",
       "      <td>2.201086</td>\n",
       "      <td>5.766286</td>\n",
       "      <td>3.571320</td>\n",
       "      <td>0.112442</td>\n",
       "      <td>1.000000</td>\n",
       "      <td>NaN</td>\n",
       "      <td>NaN</td>\n",
       "      <td>fp</td>\n",
       "      <td>NaN</td>\n",
       "      <td>NaN</td>\n",
       "      <td>NaN</td>\n",
       "      <td>train_pix</td>\n",
       "    </tr>\n",
       "    <tr>\n",
       "      <th>1</th>\n",
       "      <td>34.917374</td>\n",
       "      <td>1.632254</td>\n",
       "      <td>19.0</td>\n",
       "      <td>1.595903</td>\n",
       "      <td>3.510434</td>\n",
       "      <td>2.575054</td>\n",
       "      <td>0.109375</td>\n",
       "      <td>1.000000</td>\n",
       "      <td>NaN</td>\n",
       "      <td>NaN</td>\n",
       "      <td>fp</td>\n",
       "      <td>NaN</td>\n",
       "      <td>NaN</td>\n",
       "      <td>NaN</td>\n",
       "      <td>train_pix</td>\n",
       "    </tr>\n",
       "    <tr>\n",
       "      <th>2</th>\n",
       "      <td>85.663133</td>\n",
       "      <td>-1.720311</td>\n",
       "      <td>64.0</td>\n",
       "      <td>0.774985</td>\n",
       "      <td>7.825358</td>\n",
       "      <td>5.091448</td>\n",
       "      <td>0.100268</td>\n",
       "      <td>0.999978</td>\n",
       "      <td>NaN</td>\n",
       "      <td>NaN</td>\n",
       "      <td>fp</td>\n",
       "      <td>NaN</td>\n",
       "      <td>NaN</td>\n",
       "      <td>NaN</td>\n",
       "      <td>train_pix</td>\n",
       "    </tr>\n",
       "    <tr>\n",
       "      <th>3</th>\n",
       "      <td>90.796013</td>\n",
       "      <td>42.214613</td>\n",
       "      <td>33.0</td>\n",
       "      <td>1.811333</td>\n",
       "      <td>5.601533</td>\n",
       "      <td>3.515987</td>\n",
       "      <td>0.103833</td>\n",
       "      <td>0.999954</td>\n",
       "      <td>90.839443</td>\n",
       "      <td>42.232290</td>\n",
       "      <td>tp</td>\n",
       "      <td>planck_z</td>\n",
       "      <td>10.759314</td>\n",
       "      <td>0.2280</td>\n",
       "      <td>train_pix</td>\n",
       "    </tr>\n",
       "    <tr>\n",
       "      <th>4</th>\n",
       "      <td>243.983913</td>\n",
       "      <td>-6.150970</td>\n",
       "      <td>40.0</td>\n",
       "      <td>1.935608</td>\n",
       "      <td>5.988273</td>\n",
       "      <td>3.705241</td>\n",
       "      <td>0.106300</td>\n",
       "      <td>0.999788</td>\n",
       "      <td>243.954880</td>\n",
       "      <td>-6.152363</td>\n",
       "      <td>tp</td>\n",
       "      <td>planck_z</td>\n",
       "      <td>16.116468</td>\n",
       "      <td>0.2030</td>\n",
       "      <td>train_pix</td>\n",
       "    </tr>\n",
       "    <tr>\n",
       "      <th>...</th>\n",
       "      <td>...</td>\n",
       "      <td>...</td>\n",
       "      <td>...</td>\n",
       "      <td>...</td>\n",
       "      <td>...</td>\n",
       "      <td>...</td>\n",
       "      <td>...</td>\n",
       "      <td>...</td>\n",
       "      <td>...</td>\n",
       "      <td>...</td>\n",
       "      <td>...</td>\n",
       "      <td>...</td>\n",
       "      <td>...</td>\n",
       "      <td>...</td>\n",
       "      <td>...</td>\n",
       "    </tr>\n",
       "    <tr>\n",
       "      <th>1648</th>\n",
       "      <td>226.966026</td>\n",
       "      <td>-12.590373</td>\n",
       "      <td>29.0</td>\n",
       "      <td>1.916132</td>\n",
       "      <td>5.254337</td>\n",
       "      <td>3.139062</td>\n",
       "      <td>0.115701</td>\n",
       "      <td>0.779265</td>\n",
       "      <td>NaN</td>\n",
       "      <td>NaN</td>\n",
       "      <td>fp</td>\n",
       "      <td>NaN</td>\n",
       "      <td>NaN</td>\n",
       "      <td>NaN</td>\n",
       "      <td>train_pix</td>\n",
       "    </tr>\n",
       "    <tr>\n",
       "      <th>1649</th>\n",
       "      <td>248.793114</td>\n",
       "      <td>67.644786</td>\n",
       "      <td>27.0</td>\n",
       "      <td>1.354832</td>\n",
       "      <td>4.150384</td>\n",
       "      <td>3.013284</td>\n",
       "      <td>0.102615</td>\n",
       "      <td>0.779126</td>\n",
       "      <td>248.671370</td>\n",
       "      <td>67.642280</td>\n",
       "      <td>tp</td>\n",
       "      <td>planck_z</td>\n",
       "      <td>2.506282</td>\n",
       "      <td>0.1668</td>\n",
       "      <td>test_pix</td>\n",
       "    </tr>\n",
       "    <tr>\n",
       "      <th>1650</th>\n",
       "      <td>200.233267</td>\n",
       "      <td>35.889148</td>\n",
       "      <td>41.0</td>\n",
       "      <td>2.184360</td>\n",
       "      <td>7.868246</td>\n",
       "      <td>4.219617</td>\n",
       "      <td>0.101674</td>\n",
       "      <td>0.779084</td>\n",
       "      <td>NaN</td>\n",
       "      <td>NaN</td>\n",
       "      <td>fp</td>\n",
       "      <td>NaN</td>\n",
       "      <td>NaN</td>\n",
       "      <td>NaN</td>\n",
       "      <td>train_pix</td>\n",
       "    </tr>\n",
       "    <tr>\n",
       "      <th>1651</th>\n",
       "      <td>270.635983</td>\n",
       "      <td>-52.634447</td>\n",
       "      <td>38.0</td>\n",
       "      <td>2.449257</td>\n",
       "      <td>5.288451</td>\n",
       "      <td>3.520107</td>\n",
       "      <td>0.100677</td>\n",
       "      <td>0.779049</td>\n",
       "      <td>270.622000</td>\n",
       "      <td>-52.609000</td>\n",
       "      <td>tp</td>\n",
       "      <td>mcxcwp</td>\n",
       "      <td>2.926400</td>\n",
       "      <td>0.1250</td>\n",
       "      <td>train_pix</td>\n",
       "    </tr>\n",
       "    <tr>\n",
       "      <th>1652</th>\n",
       "      <td>221.220607</td>\n",
       "      <td>12.785552</td>\n",
       "      <td>28.0</td>\n",
       "      <td>1.658033</td>\n",
       "      <td>4.232979</td>\n",
       "      <td>3.101611</td>\n",
       "      <td>0.100447</td>\n",
       "      <td>0.778944</td>\n",
       "      <td>NaN</td>\n",
       "      <td>NaN</td>\n",
       "      <td>fp</td>\n",
       "      <td>NaN</td>\n",
       "      <td>NaN</td>\n",
       "      <td>NaN</td>\n",
       "      <td>train_pix</td>\n",
       "    </tr>\n",
       "  </tbody>\n",
       "</table>\n",
       "<p>1653 rows × 15 columns</p>\n",
       "</div>"
      ],
      "text/plain": [
       "              RA        DEC  area   min_rad   max_rad  mean_rad  min_pred  \\\n",
       "0      85.277300  -1.613652  36.0  2.201086  5.766286  3.571320  0.112442   \n",
       "1      34.917374   1.632254  19.0  1.595903  3.510434  2.575054  0.109375   \n",
       "2      85.663133  -1.720311  64.0  0.774985  7.825358  5.091448  0.100268   \n",
       "3      90.796013  42.214613  33.0  1.811333  5.601533  3.515987  0.103833   \n",
       "4     243.983913  -6.150970  40.0  1.935608  5.988273  3.705241  0.106300   \n",
       "...          ...        ...   ...       ...       ...       ...       ...   \n",
       "1648  226.966026 -12.590373  29.0  1.916132  5.254337  3.139062  0.115701   \n",
       "1649  248.793114  67.644786  27.0  1.354832  4.150384  3.013284  0.102615   \n",
       "1650  200.233267  35.889148  41.0  2.184360  7.868246  4.219617  0.101674   \n",
       "1651  270.635983 -52.634447  38.0  2.449257  5.288451  3.520107  0.100677   \n",
       "1652  221.220607  12.785552  28.0  1.658033  4.232979  3.101611  0.100447   \n",
       "\n",
       "      max_pred         tRA       tDEC status   catalog       M500       z  \\\n",
       "0     1.000000         NaN        NaN     fp       NaN        NaN     NaN   \n",
       "1     1.000000         NaN        NaN     fp       NaN        NaN     NaN   \n",
       "2     0.999978         NaN        NaN     fp       NaN        NaN     NaN   \n",
       "3     0.999954   90.839443  42.232290     tp  planck_z  10.759314  0.2280   \n",
       "4     0.999788  243.954880  -6.152363     tp  planck_z  16.116468  0.2030   \n",
       "...        ...         ...        ...    ...       ...        ...     ...   \n",
       "1648  0.779265         NaN        NaN     fp       NaN        NaN     NaN   \n",
       "1649  0.779126  248.671370  67.642280     tp  planck_z   2.506282  0.1668   \n",
       "1650  0.779084         NaN        NaN     fp       NaN        NaN     NaN   \n",
       "1651  0.779049  270.622000 -52.609000     tp    mcxcwp   2.926400  0.1250   \n",
       "1652  0.778944         NaN        NaN     fp       NaN        NaN     NaN   \n",
       "\n",
       "           pix2  \n",
       "0     train_pix  \n",
       "1     train_pix  \n",
       "2     train_pix  \n",
       "3     train_pix  \n",
       "4     train_pix  \n",
       "...         ...  \n",
       "1648  train_pix  \n",
       "1649   test_pix  \n",
       "1650  train_pix  \n",
       "1651  train_pix  \n",
       "1652  train_pix  \n",
       "\n",
       "[1653 rows x 15 columns]"
      ]
     },
     "execution_count": 9,
     "metadata": {},
     "output_type": "execute_result"
    }
   ],
   "source": [
    "df = df.sort_values(by=['max_pred'], ascending=False, axis='index')\n",
    "df.index = np.arange(len(df))\n",
    "df = df[:1653]\n",
    "df"
   ]
  },
  {
   "cell_type": "code",
   "execution_count": 10,
   "metadata": {
    "ExecuteTime": {
     "end_time": "2021-06-11T17:26:23.757160Z",
     "start_time": "2021-06-11T17:26:23.720549Z"
    }
   },
   "outputs": [],
   "source": [
    "df.to_csv('/home/rt2122/Data/detected_cats/short_pz_all_found34_thr0.1_step8_no_fn.csv', index=False)"
   ]
  },
  {
   "cell_type": "code",
   "execution_count": 14,
   "metadata": {
    "ExecuteTime": {
     "end_time": "2021-06-11T17:29:57.453450Z",
     "start_time": "2021-06-11T17:29:56.390305Z"
    }
   },
   "outputs": [],
   "source": [
    "stats = stat_cat({'short_szcat' : '/home/rt2122/Data/detected_cats/short_pz_all_found34_thr0.1_step8_no_fn.csv'},\n",
    "                big_pix=west_val + east_val, match_dist=400/3600)\n",
    "stats41 = stat_cat({'short_szcat' : '/home/rt2122/Data/detected_cats/short_pz_all_found34_thr0.1_step8_no_fn.csv'},\n",
    "                big_pix=[41], match_dist=400/3600)"
   ]
  },
  {
   "cell_type": "code",
   "execution_count": 15,
   "metadata": {
    "ExecuteTime": {
     "end_time": "2021-06-11T17:29:59.095235Z",
     "start_time": "2021-06-11T17:29:59.069422Z"
    }
   },
   "outputs": [
    {
     "data": {
      "text/html": [
       "<div>\n",
       "<style scoped>\n",
       "    .dataframe tbody tr th:only-of-type {\n",
       "        vertical-align: middle;\n",
       "    }\n",
       "\n",
       "    .dataframe tbody tr th {\n",
       "        vertical-align: top;\n",
       "    }\n",
       "\n",
       "    .dataframe thead th {\n",
       "        text-align: right;\n",
       "    }\n",
       "</style>\n",
       "<table border=\"1\" class=\"dataframe\">\n",
       "  <thead>\n",
       "    <tr style=\"text-align: right;\">\n",
       "      <th></th>\n",
       "      <th>PSZ2</th>\n",
       "      <th>MCXC</th>\n",
       "      <th>ACT</th>\n",
       "      <th>Abell</th>\n",
       "      <th>eROSITA</th>\n",
       "      <th>PSZ2(z)</th>\n",
       "      <th>found</th>\n",
       "      <th>precision</th>\n",
       "      <th>all</th>\n",
       "    </tr>\n",
       "  </thead>\n",
       "  <tbody>\n",
       "    <tr>\n",
       "      <th>short_szcat</th>\n",
       "      <td>0.642202</td>\n",
       "      <td>0.309322</td>\n",
       "      <td>0.083056</td>\n",
       "      <td>0.132509</td>\n",
       "      <td>0.028262</td>\n",
       "      <td>0.732558</td>\n",
       "      <td>160</td>\n",
       "      <td>0.869565</td>\n",
       "      <td>184</td>\n",
       "    </tr>\n",
       "  </tbody>\n",
       "</table>\n",
       "</div>"
      ],
      "text/plain": [
       "                 PSZ2      MCXC       ACT     Abell   eROSITA   PSZ2(z)  \\\n",
       "short_szcat  0.642202  0.309322  0.083056  0.132509  0.028262  0.732558   \n",
       "\n",
       "             found  precision  all  \n",
       "short_szcat    160   0.869565  184  "
      ]
     },
     "execution_count": 15,
     "metadata": {},
     "output_type": "execute_result"
    }
   ],
   "source": [
    "stats"
   ]
  },
  {
   "cell_type": "code",
   "execution_count": 16,
   "metadata": {
    "ExecuteTime": {
     "end_time": "2021-06-11T17:30:07.805936Z",
     "start_time": "2021-06-11T17:30:07.787059Z"
    }
   },
   "outputs": [
    {
     "data": {
      "text/html": [
       "<div>\n",
       "<style scoped>\n",
       "    .dataframe tbody tr th:only-of-type {\n",
       "        vertical-align: middle;\n",
       "    }\n",
       "\n",
       "    .dataframe tbody tr th {\n",
       "        vertical-align: top;\n",
       "    }\n",
       "\n",
       "    .dataframe thead th {\n",
       "        text-align: right;\n",
       "    }\n",
       "</style>\n",
       "<table border=\"1\" class=\"dataframe\">\n",
       "  <thead>\n",
       "    <tr style=\"text-align: right;\">\n",
       "      <th></th>\n",
       "      <th>PSZ2</th>\n",
       "      <th>MCXC</th>\n",
       "      <th>ACT</th>\n",
       "      <th>Abell</th>\n",
       "      <th>PSZ2(z)</th>\n",
       "      <th>found</th>\n",
       "      <th>precision</th>\n",
       "      <th>all</th>\n",
       "    </tr>\n",
       "  </thead>\n",
       "  <tbody>\n",
       "    <tr>\n",
       "      <th>short_szcat</th>\n",
       "      <td>0.655172</td>\n",
       "      <td>0.352941</td>\n",
       "      <td>0.088415</td>\n",
       "      <td>0.100559</td>\n",
       "      <td>0.716981</td>\n",
       "      <td>44</td>\n",
       "      <td>0.897959</td>\n",
       "      <td>49</td>\n",
       "    </tr>\n",
       "  </tbody>\n",
       "</table>\n",
       "</div>"
      ],
      "text/plain": [
       "                 PSZ2      MCXC       ACT     Abell   PSZ2(z)  found  \\\n",
       "short_szcat  0.655172  0.352941  0.088415  0.100559  0.716981     44   \n",
       "\n",
       "             precision  all  \n",
       "short_szcat   0.897959   49  "
      ]
     },
     "execution_count": 16,
     "metadata": {},
     "output_type": "execute_result"
    }
   ],
   "source": [
    "stats41"
   ]
  },
  {
   "cell_type": "code",
   "execution_count": null,
   "metadata": {},
   "outputs": [],
   "source": []
  }
 ],
 "metadata": {
  "kernelspec": {
   "display_name": "Python 3",
   "language": "python",
   "name": "python3"
  },
  "language_info": {
   "codemirror_mode": {
    "name": "ipython",
    "version": 3
   },
   "file_extension": ".py",
   "mimetype": "text/x-python",
   "name": "python",
   "nbconvert_exporter": "python",
   "pygments_lexer": "ipython3",
   "version": "3.8.3"
  }
 },
 "nbformat": 4,
 "nbformat_minor": 4
}
