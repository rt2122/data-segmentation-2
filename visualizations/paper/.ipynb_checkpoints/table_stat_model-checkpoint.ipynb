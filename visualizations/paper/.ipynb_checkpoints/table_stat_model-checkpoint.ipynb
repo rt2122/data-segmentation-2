{
 "cells": [
  {
   "cell_type": "code",
   "execution_count": 32,
   "metadata": {
    "ExecuteTime": {
     "end_time": "2021-07-06T09:45:41.032026Z",
     "start_time": "2021-07-06T09:45:41.028554Z"
    }
   },
   "outputs": [],
   "source": [
    "import pandas as pd\n",
    "import numpy as np\n",
    "from DS_Planck_Unet import val_pix, east_val, west_val\n",
    "from DS_models_stat import stat_orig_cats, stat_split_cats, do_all_stats, stat_cat, change_df\n",
    "import seaborn as sns\n",
    "from matplotlib import cm\n",
    "from matplotlib.ticker import LinearLocator"
   ]
  },
  {
   "cell_type": "code",
   "execution_count": 259,
   "metadata": {
    "ExecuteTime": {
     "end_time": "2021-07-06T12:11:04.161008Z",
     "start_time": "2021-07-06T12:11:04.152024Z"
    }
   },
   "outputs": [],
   "source": [
    "#mpp_val_str = '0.81'\n",
    "mpp_val_str = '0.00'\n",
    "files3 = { \n",
    "        'SZcat(AL)' : '/home/rt2122/Data/detected_cats/full_pz_all_found34_thr0.1_step8.csv',\n",
    "        'SZcat(base)' : '/home/rt2122/Data/detected_cats/full_pz_rot28_thr0.1_step8.csv',\n",
    "        'SZcat(y-map)' : '/home/rt2122/Data/SRGz/nilc_src_0.3deg_mar12_matched.csv',\n",
    "        #'SZcat(gen)' : '/home/rt2122/Data/gen_cats/gen_all_found_brcat_prec0.00.csv',\n",
    "        'SZcat(gen_er)' : '/home/rt2122/Data/gen_cats_er/er_gen_all_found_brcat_prec{}.csv'.format(mpp_val_str)\n",
    "        }\n",
    "format_fun = lambda x: '{:.3f}'.format(x) if not (float(x).is_integer() or type(x) == type('')) else x\n",
    "#vals = {'SZcat(AL)' : 0.775, 'SZcat(base)' : 0.905, 'SZcat(y-map)' : 10.5}\n",
    "vals = {'SZcat(AL)' : 0.0, 'SZcat(base)' : 0.0, 'SZcat(y-map)' : -np.inf}"
   ]
  },
  {
   "cell_type": "code",
   "execution_count": 260,
   "metadata": {
    "ExecuteTime": {
     "end_time": "2021-07-06T12:11:10.350287Z",
     "start_time": "2021-07-06T12:11:10.343072Z"
    }
   },
   "outputs": [],
   "source": [
    "prm = 'N_cl - N_PSZ2(z)'\n",
    "df = []\n",
    "#big_pix = list(range(48))\n",
    "big_pix = [41]\n",
    "#l_val = [0, 180]\n",
    "#b_val = [20, np.inf]\n",
    "l_val = [-np.inf, np.inf]\n",
    "b_val = [-np.inf, np.inf]\n",
    "prm_list = ['PSZ2(z)', 'MCXC', 'ACT', 'all_true', 'precision', 'all', prm, 'prm']\n",
    "#prm_list = ['PSZ2(z)', 'MCXC', 'ACT', 'eROSITA', 'precision_eROSITA', 'all', prm, 'prm']\n",
    "prm_list1 = ['PSZ2(z)', 'MCXC', 'ACT', 'all_true', 'precision', 'all', prm]\n",
    "#prm_list1 = ['PSZ2(z)', 'MCXC', 'ACT', 'eROSITA', 'precision_eROSITA', 'all', prm]"
   ]
  },
  {
   "cell_type": "code",
   "execution_count": 261,
   "metadata": {
    "ExecuteTime": {
     "end_time": "2021-07-06T12:11:11.243883Z",
     "start_time": "2021-07-06T12:11:10.708438Z"
    }
   },
   "outputs": [],
   "source": [
    "name='SZcat(y-map)'\n",
    "sn = [vals[name], np.inf]\n",
    "#sn = [-np.inf, np.inf]\n",
    "recall = change_df(stat_cat({name : files3[name]}, big_pix=big_pix, dict_cut={'s/n' : sn, \n",
    "                                                                             'l' : l_val, 'b' : b_val}, \n",
    "                  match_dist=400/3600, spec_precision=['PSZ2(z)', 'eROSITA']), format_s=format_fun)\n",
    "\n",
    "recall[prm] = recall['found'] - recall['found_PSZ2(z)']\n",
    "recall['prm'] = 's/n >= {}'.format(vals[name])\n",
    "df.append(recall[prm_list])"
   ]
  },
  {
   "cell_type": "code",
   "execution_count": 262,
   "metadata": {
    "ExecuteTime": {
     "end_time": "2021-07-06T12:11:11.847837Z",
     "start_time": "2021-07-06T12:11:11.245725Z"
    }
   },
   "outputs": [],
   "source": [
    "name='SZcat(base)'\n",
    "mp = [vals[name], np.inf]\n",
    "#mp = [0, 1]\n",
    "recall = change_df(stat_cat({name : files3[name]}, big_pix=big_pix, dict_cut={'max_pred' : mp, \n",
    "                                                                             'l' : l_val, 'b' : b_val}, \n",
    "                  match_dist=400/3600, spec_precision=['PSZ2(z)', 'eROSITA']), format_s=format_fun)\n",
    "recall[prm] = recall['found'] - recall['found_PSZ2(z)']\n",
    "recall['prm'] = 'p_max >= {}'.format(vals[name])\n",
    "df.append(recall[prm_list])"
   ]
  },
  {
   "cell_type": "code",
   "execution_count": 263,
   "metadata": {
    "ExecuteTime": {
     "end_time": "2021-07-06T12:11:12.257703Z",
     "start_time": "2021-07-06T12:11:11.849798Z"
    }
   },
   "outputs": [],
   "source": [
    "name='SZcat(AL)'\n",
    "mp = [vals[name], np.inf]\n",
    "#mp = [0, 1]\n",
    "recall = change_df(stat_cat({name : files3[name]}, big_pix=big_pix, dict_cut={'max_pred' : mp, \n",
    "                                                                             'l' : l_val, 'b' : b_val}, \n",
    "                  match_dist=400/3600, spec_precision=['PSZ2(z)', 'eROSITA']), format_s=format_fun)\n",
    "recall[prm] = recall['found'] - recall['found_PSZ2(z)']\n",
    "recall['prm'] = 'p_max >= {:.2f}'.format(vals[name])\n",
    "df.append(recall[prm_list])"
   ]
  },
  {
   "cell_type": "code",
   "execution_count": 264,
   "metadata": {
    "ExecuteTime": {
     "end_time": "2021-07-06T12:11:12.784665Z",
     "start_time": "2021-07-06T12:11:12.259284Z"
    }
   },
   "outputs": [],
   "source": [
    "name='SZcat(gen_er)'\n",
    "recall = change_df(stat_cat({name : files3[name]}, big_pix=big_pix, dict_cut={ \n",
    "                                                                             'l' : l_val, 'b' : b_val}, \n",
    "                  match_dist=400/3600, spec_precision=['PSZ2(z)', 'eROSITA']), format_s=format_fun)\n",
    "recall[prm] = recall['found'] - recall['found_PSZ2(z)']\n",
    "recall['prm'] = 'mpp_er >= {}'.format(mpp_val_str)\n",
    "df.append(recall[prm_list])"
   ]
  },
  {
   "cell_type": "code",
   "execution_count": 265,
   "metadata": {
    "ExecuteTime": {
     "end_time": "2021-07-06T12:11:12.802734Z",
     "start_time": "2021-07-06T12:11:12.786027Z"
    }
   },
   "outputs": [
    {
     "data": {
      "text/html": [
       "<div>\n",
       "<style scoped>\n",
       "    .dataframe tbody tr th:only-of-type {\n",
       "        vertical-align: middle;\n",
       "    }\n",
       "\n",
       "    .dataframe tbody tr th {\n",
       "        vertical-align: top;\n",
       "    }\n",
       "\n",
       "    .dataframe thead th {\n",
       "        text-align: right;\n",
       "    }\n",
       "</style>\n",
       "<table border=\"1\" class=\"dataframe\">\n",
       "  <thead>\n",
       "    <tr style=\"text-align: right;\">\n",
       "      <th></th>\n",
       "      <th>PSZ2(z)</th>\n",
       "      <th>MCXC</th>\n",
       "      <th>ACT</th>\n",
       "      <th>eROSITA</th>\n",
       "      <th>precision_eROSITA</th>\n",
       "      <th>all</th>\n",
       "      <th>N_cl - N_PSZ2(z)</th>\n",
       "      <th>prm</th>\n",
       "    </tr>\n",
       "  </thead>\n",
       "  <tbody>\n",
       "    <tr>\n",
       "      <th>SZcat(y-map)</th>\n",
       "      <td>0.965</td>\n",
       "      <td>0.427</td>\n",
       "      <td>0.220</td>\n",
       "      <td>0.101</td>\n",
       "      <td>0.266</td>\n",
       "      <td>6862</td>\n",
       "      <td>1469</td>\n",
       "      <td>s/n &gt;= -inf</td>\n",
       "    </tr>\n",
       "    <tr>\n",
       "      <th>SZcat(base)</th>\n",
       "      <td>0.988</td>\n",
       "      <td>0.433</td>\n",
       "      <td>0.264</td>\n",
       "      <td>0.104</td>\n",
       "      <td>0.249</td>\n",
       "      <td>7618</td>\n",
       "      <td>1567</td>\n",
       "      <td>p_max &gt;= 0.0</td>\n",
       "    </tr>\n",
       "    <tr>\n",
       "      <th>SZcat(AL)</th>\n",
       "      <td>0.988</td>\n",
       "      <td>0.421</td>\n",
       "      <td>0.274</td>\n",
       "      <td>0.112</td>\n",
       "      <td>0.248</td>\n",
       "      <td>8259</td>\n",
       "      <td>1713</td>\n",
       "      <td>p_max &gt;= 0.00</td>\n",
       "    </tr>\n",
       "    <tr>\n",
       "      <th>SZcat(gen_er)</th>\n",
       "      <td>0.994</td>\n",
       "      <td>0.472</td>\n",
       "      <td>0.302</td>\n",
       "      <td>0.142</td>\n",
       "      <td>0.217</td>\n",
       "      <td>12058</td>\n",
       "      <td>2316</td>\n",
       "      <td>mpp_er &gt;= 0.00</td>\n",
       "    </tr>\n",
       "  </tbody>\n",
       "</table>\n",
       "</div>"
      ],
      "text/plain": [
       "              PSZ2(z)   MCXC    ACT eROSITA precision_eROSITA    all  \\\n",
       "SZcat(y-map)    0.965  0.427  0.220   0.101             0.266   6862   \n",
       "SZcat(base)     0.988  0.433  0.264   0.104             0.249   7618   \n",
       "SZcat(AL)       0.988  0.421  0.274   0.112             0.248   8259   \n",
       "SZcat(gen_er)   0.994  0.472  0.302   0.142             0.217  12058   \n",
       "\n",
       "               N_cl - N_PSZ2(z)             prm  \n",
       "SZcat(y-map)               1469     s/n >= -inf  \n",
       "SZcat(base)                1567    p_max >= 0.0  \n",
       "SZcat(AL)                  1713   p_max >= 0.00  \n",
       "SZcat(gen_er)              2316  mpp_er >= 0.00  "
      ]
     },
     "execution_count": 265,
     "metadata": {},
     "output_type": "execute_result"
    }
   ],
   "source": [
    "df = pd.concat(df)\n",
    "df"
   ]
  },
  {
   "cell_type": "code",
   "execution_count": 266,
   "metadata": {
    "ExecuteTime": {
     "end_time": "2021-07-06T12:11:12.887152Z",
     "start_time": "2021-07-06T12:11:12.804614Z"
    }
   },
   "outputs": [
    {
     "name": "stdout",
     "output_type": "stream",
     "text": [
      "\\begin{tabular}{llllllrr}\n",
      "\\toprule\n",
      "{} & PSZ2(z) &   MCXC &    ACT & eROSITA & precision\\_eROSITA &    all &  N\\_cl - N\\_PSZ2(z) \\\\\n",
      "\\midrule\n",
      "SZcat(y-map)  &   0.965 &  0.427 &  0.220 &   0.101 &             0.266 &   6862 &              1469 \\\\\n",
      "SZcat(base)   &   0.988 &  0.433 &  0.264 &   0.104 &             0.249 &   7618 &              1567 \\\\\n",
      "SZcat(AL)     &   0.988 &  0.421 &  0.274 &   0.112 &             0.248 &   8259 &              1713 \\\\\n",
      "SZcat(gen\\_er) &   0.994 &  0.472 &  0.302 &   0.142 &             0.217 &  12058 &              2316 \\\\\n",
      "\\bottomrule\n",
      "\\end{tabular}\n",
      "\n"
     ]
    }
   ],
   "source": [
    "print(df[prm_list1].to_latex())"
   ]
  },
  {
   "cell_type": "code",
   "execution_count": null,
   "metadata": {},
   "outputs": [],
   "source": []
  },
  {
   "cell_type": "code",
   "execution_count": null,
   "metadata": {},
   "outputs": [],
   "source": []
  }
 ],
 "metadata": {
  "kernelspec": {
   "display_name": "Python 3",
   "language": "python",
   "name": "python3"
  },
  "language_info": {
   "codemirror_mode": {
    "name": "ipython",
    "version": 3
   },
   "file_extension": ".py",
   "mimetype": "text/x-python",
   "name": "python",
   "nbconvert_exporter": "python",
   "pygments_lexer": "ipython3",
   "version": "3.8.3"
  }
 },
 "nbformat": 4,
 "nbformat_minor": 4
}
