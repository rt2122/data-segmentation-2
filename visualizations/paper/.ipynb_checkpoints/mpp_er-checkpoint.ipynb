{
 "cells": [
  {
   "cell_type": "code",
   "execution_count": 1,
   "metadata": {
    "ExecuteTime": {
     "end_time": "2021-07-05T23:05:42.589693Z",
     "start_time": "2021-07-05T23:05:30.417831Z"
    }
   },
   "outputs": [],
   "source": [
    "import numpy as np\n",
    "import pandas as pd\n",
    "from DS_models_stat import do_all_stats, cut_cat\n",
    "from astropy.coordinates import SkyCoord\n",
    "from astropy import units as u\n",
    "from tqdm.notebook import tqdm\n",
    "from matplotlib import pyplot as plt"
   ]
  },
  {
   "cell_type": "code",
   "execution_count": 2,
   "metadata": {
    "ExecuteTime": {
     "end_time": "2021-07-05T23:06:42.795293Z",
     "start_time": "2021-07-05T23:06:42.399763Z"
    }
   },
   "outputs": [],
   "source": [
    "#df41 = pd.read_csv('/home/rt2122/Data/detected_cats/full_pz_all_found34_thr0.1_step8_no_fn.csv')\n",
    "#df41 = pd.read_csv('/home/rt2122/Data/detected_cats/full_pz_rot28_thr0.1_step8_no_fn.csv')\n",
    "#df41 = cut_cat(df41, big_pix=[41]) \n",
    "df = pd.read_csv('/home/rt2122/Data/detected_cats/full_pz_all_found34_thr0.1_step8_no_fn.csv')\n",
    "df = cut_cat(df, dict_cut={'l' : [0, 180], 'b' : [20, np.inf]})"
   ]
  },
  {
   "cell_type": "code",
   "execution_count": 3,
   "metadata": {
    "ExecuteTime": {
     "end_time": "2021-07-05T23:06:48.587760Z",
     "start_time": "2021-07-05T23:06:48.545398Z"
    }
   },
   "outputs": [
    {
     "data": {
      "text/plain": [
       "array([0.10000378, 0.10890712, 0.1182483 , 0.12854866, 0.14006515,\n",
       "       0.15551981, 0.17133223, 0.18744986, 0.20758767, 0.22992003,\n",
       "       0.25404191, 0.28104063, 0.31400775, 0.34916357, 0.39881441,\n",
       "       0.45065277, 0.51897164, 0.61016452, 0.72655616, 0.87849908,\n",
       "       1.        ])"
      ]
     },
     "execution_count": 3,
     "metadata": {},
     "output_type": "execute_result"
    }
   ],
   "source": [
    "mp_q = np.array(df['max_pred'].quantile(np.arange(0.0, 1.05, 0.05)))\n",
    "mp_q"
   ]
  },
  {
   "cell_type": "code",
   "execution_count": 4,
   "metadata": {
    "ExecuteTime": {
     "end_time": "2021-07-05T23:07:53.939043Z",
     "start_time": "2021-07-05T23:07:53.685979Z"
    }
   },
   "outputs": [],
   "source": [
    "true_cats = {#'PSZ2(z)' : '/home/rt2122/Data/clusters/planck_z.csv',\n",
    "             #'PSZ2' : '/home/rt2122/Data/original_catalogs/csv/PSZ2.csv',\n",
    "            #'MCXC' : '/home/rt2122/Data/original_catalogs/csv/MCXC.csv',\n",
    "            #'ACT' : '/home/rt2122/Data/original_catalogs/csv/ACT.csv',\n",
    "            #'Abell' : '/home/rt2122/Data/original_catalogs/csv/Abell.csv',\n",
    "            'eROSITA' : '/home/rt2122/Data/SRGz/clusters/clusters1_b20_edit.csv'}\n",
    "true_cats = {key : pd.read_csv(true_cats[key]) for key in true_cats}\n",
    "\n",
    "#big_pix = [41]\n",
    "#true_cats = {key : cut_cat(true_cats[key], big_pix = big_pix) for key in true_cats}\n",
    "true_cats_sc = {key : SkyCoord(ra=np.array(true_cats[key]['RA']) * u.degree, \n",
    "                               dec=np.array(true_cats[key]['DEC']) * u.degree, frame='icrs') for key in true_cats}"
   ]
  },
  {
   "cell_type": "code",
   "execution_count": 5,
   "metadata": {
    "ExecuteTime": {
     "end_time": "2021-07-05T23:08:33.802778Z",
     "start_time": "2021-07-05T23:08:31.517852Z"
    }
   },
   "outputs": [
    {
     "data": {
      "application/vnd.jupyter.widget-view+json": {
       "model_id": "dffcde04aa144d72b7b264149d33dd8f",
       "version_major": 2,
       "version_minor": 0
      },
      "text/plain": [
       "HBox(children=(FloatProgress(value=1.0, bar_style='info', max=1.0), HTML(value='')))"
      ]
     },
     "metadata": {},
     "output_type": "display_data"
    },
    {
     "name": "stdout",
     "output_type": "stream",
     "text": [
      "\n"
     ]
    }
   ],
   "source": [
    "prec = []\n",
    "for st, en in tqdm(zip(mp_q[:-1], mp_q[1:])):\n",
    "    cur_df = df[df['max_pred'] >= st]\n",
    "    cur_df.index = np.arange(len(cur_df))\n",
    "    \n",
    "    stats = do_all_stats(cur_df, true_cats, true_cats_sc=true_cats_sc, match_dist=400/3600)\n",
    "    prec.append(stats['precision'])"
   ]
  },
  {
   "cell_type": "code",
   "execution_count": 7,
   "metadata": {
    "ExecuteTime": {
     "end_time": "2021-07-05T23:08:39.387862Z",
     "start_time": "2021-07-05T23:08:39.099505Z"
    }
   },
   "outputs": [
    {
     "data": {
      "text/plain": [
       "[<matplotlib.lines.Line2D at 0x7fb5786921c0>]"
      ]
     },
     "execution_count": 7,
     "metadata": {},
     "output_type": "execute_result"
    },
    {
     "data": {
      "image/png": "[encoded data removed]",
      "text/plain": [
       "<Figure size 432x288 with 1 Axes>"
      ]
     },
     "metadata": {
      "needs_background": "light"
     },
     "output_type": "display_data"
    }
   ],
   "source": [
    "plt.plot((mp_q[:-1] + mp_q[1:])/2, prec)"
   ]
  },
  {
   "cell_type": "code",
   "execution_count": 8,
   "metadata": {
    "ExecuteTime": {
     "end_time": "2021-07-05T23:08:54.933673Z",
     "start_time": "2021-07-05T23:08:54.913680Z"
    }
   },
   "outputs": [
    {
     "name": "stdout",
     "output_type": "stream",
     "text": [
      "0.10000378219410776 0.24809298946603706\n",
      "0.10890712453983725 0.25325006372673975\n",
      "0.11824830270239284 0.2575003363379524\n",
      "0.12854865989647807 0.2655270655270655\n",
      "0.1400651528344042 0.2750113515967913\n",
      "0.15551981120370328 0.28495318049725543\n",
      "0.1713322275131941 0.29423975090814736\n",
      "0.18744985535740852 0.30923994038748137\n",
      "0.20758766699582337 0.32250252270433905\n",
      "0.22992002842947837 0.3377366798767063\n",
      "0.2540419101715088 0.35423728813559324\n",
      "0.28104062611237174 0.37530266343825663\n",
      "0.31400775080546733 0.3983050847457627\n",
      "0.34916356724686914 0.425804219993082\n",
      "0.39881440848112104 0.4580306698950767\n",
      "0.4506527683697641 0.5031476997578692\n",
      "0.5189716436900202 0.572639225181598\n",
      "0.6101645247545096 0.6368038740920097\n",
      "0.7265561637468636 0.7554479418886199\n",
      "0.8784990804269905 0.9225181598062954\n"
     ]
    }
   ],
   "source": [
    "for st, en, prec_val in zip(mp_q[:-1], mp_q[1:], prec):\n",
    "    print(st, prec_val)"
   ]
  },
  {
   "cell_type": "code",
   "execution_count": 9,
   "metadata": {
    "ExecuteTime": {
     "end_time": "2021-07-05T23:09:01.234678Z",
     "start_time": "2021-07-05T23:09:01.207871Z"
    }
   },
   "outputs": [
    {
     "data": {
      "text/plain": [
       "array([0.        , 0.10890712, 0.1182483 , 0.12854866, 0.14006515,\n",
       "       0.15551981, 0.17133223, 0.18744986, 0.20758767, 0.22992003,\n",
       "       0.25404191, 0.28104063, 0.31400775, 0.34916357, 0.39881441,\n",
       "       0.45065277, 0.51897164, 0.61016452, 0.72655616, 0.87849908,\n",
       "       1.        ])"
      ]
     },
     "execution_count": 9,
     "metadata": {},
     "output_type": "execute_result"
    }
   ],
   "source": [
    "mp_q[0] = 0\n",
    "mp_q[-1] = 1\n",
    "mp_q"
   ]
  },
  {
   "cell_type": "code",
   "execution_count": 10,
   "metadata": {
    "ExecuteTime": {
     "end_time": "2021-07-05T23:09:09.870493Z",
     "start_time": "2021-07-05T23:09:09.853482Z"
    }
   },
   "outputs": [],
   "source": [
    "prec.append(1.0)"
   ]
  },
  {
   "cell_type": "code",
   "execution_count": 11,
   "metadata": {
    "ExecuteTime": {
     "end_time": "2021-07-05T23:09:13.063578Z",
     "start_time": "2021-07-05T23:09:13.036855Z"
    }
   },
   "outputs": [],
   "source": [
    "def find_prec(st, en, prec1, prec2, cur_mp):\n",
    "    \n",
    "    def find_kb(coords1, coords2):\n",
    "        #y1 = kx1 + b\n",
    "        #y2 = kx2 + b\n",
    "        #y1- y2 = k(x1 - x2)\n",
    "        #k = (y1-y2)/(x1-x2)\n",
    "        #b=y1-kx1\n",
    "        k = coords1[1] - coords2[1]\n",
    "        k /= coords1[0] - coords2[0]\n",
    "        b = coords1[1] - k * coords1[0]\n",
    "        return k, b\n",
    "    \n",
    "    k, b = find_kb([st, prec1], [en, prec2])\n",
    "    if st <= cur_mp and cur_mp <= en:\n",
    "        return k * cur_mp + b\n",
    "    else:\n",
    "        return -1"
   ]
  },
  {
   "cell_type": "code",
   "execution_count": 12,
   "metadata": {
    "ExecuteTime": {
     "end_time": "2021-07-05T23:09:39.036710Z",
     "start_time": "2021-07-05T23:09:38.873513Z"
    }
   },
   "outputs": [
    {
     "data": {
      "text/html": [
       "<div>\n",
       "<style scoped>\n",
       "    .dataframe tbody tr th:only-of-type {\n",
       "        vertical-align: middle;\n",
       "    }\n",
       "\n",
       "    .dataframe tbody tr th {\n",
       "        vertical-align: top;\n",
       "    }\n",
       "\n",
       "    .dataframe thead th {\n",
       "        text-align: right;\n",
       "    }\n",
       "</style>\n",
       "<table border=\"1\" class=\"dataframe\">\n",
       "  <thead>\n",
       "    <tr style=\"text-align: right;\">\n",
       "      <th></th>\n",
       "      <th>RA</th>\n",
       "      <th>DEC</th>\n",
       "      <th>area</th>\n",
       "      <th>min_rad</th>\n",
       "      <th>max_rad</th>\n",
       "      <th>mean_rad</th>\n",
       "      <th>min_pred</th>\n",
       "      <th>max_pred</th>\n",
       "      <th>tRA</th>\n",
       "      <th>tDEC</th>\n",
       "      <th>status</th>\n",
       "      <th>catalog</th>\n",
       "      <th>M500</th>\n",
       "      <th>z</th>\n",
       "      <th>pix2</th>\n",
       "      <th>mpp_er</th>\n",
       "    </tr>\n",
       "  </thead>\n",
       "  <tbody>\n",
       "    <tr>\n",
       "      <th>0</th>\n",
       "      <td>80.739063</td>\n",
       "      <td>-1.298711</td>\n",
       "      <td>1.0</td>\n",
       "      <td>0.000000e+00</td>\n",
       "      <td>1.414214</td>\n",
       "      <td>0.853553</td>\n",
       "      <td>0.100002</td>\n",
       "      <td>0.100002</td>\n",
       "      <td>NaN</td>\n",
       "      <td>NaN</td>\n",
       "      <td>fp</td>\n",
       "      <td>NaN</td>\n",
       "      <td>NaN</td>\n",
       "      <td>NaN</td>\n",
       "      <td>train_pix</td>\n",
       "      <td>0</td>\n",
       "    </tr>\n",
       "    <tr>\n",
       "      <th>1</th>\n",
       "      <td>149.798243</td>\n",
       "      <td>54.081141</td>\n",
       "      <td>1.0</td>\n",
       "      <td>0.000000e+00</td>\n",
       "      <td>1.414214</td>\n",
       "      <td>0.853553</td>\n",
       "      <td>0.100004</td>\n",
       "      <td>0.100004</td>\n",
       "      <td>NaN</td>\n",
       "      <td>NaN</td>\n",
       "      <td>fp</td>\n",
       "      <td>NaN</td>\n",
       "      <td>NaN</td>\n",
       "      <td>NaN</td>\n",
       "      <td>train_pix</td>\n",
       "      <td>0</td>\n",
       "    </tr>\n",
       "    <tr>\n",
       "      <th>2</th>\n",
       "      <td>64.810863</td>\n",
       "      <td>-26.402030</td>\n",
       "      <td>1.0</td>\n",
       "      <td>1.136868e-13</td>\n",
       "      <td>1.414214</td>\n",
       "      <td>0.853553</td>\n",
       "      <td>0.100010</td>\n",
       "      <td>0.100010</td>\n",
       "      <td>NaN</td>\n",
       "      <td>NaN</td>\n",
       "      <td>fp</td>\n",
       "      <td>NaN</td>\n",
       "      <td>NaN</td>\n",
       "      <td>NaN</td>\n",
       "      <td>train_pix</td>\n",
       "      <td>0</td>\n",
       "    </tr>\n",
       "    <tr>\n",
       "      <th>3</th>\n",
       "      <td>13.129393</td>\n",
       "      <td>39.918397</td>\n",
       "      <td>1.0</td>\n",
       "      <td>0.000000e+00</td>\n",
       "      <td>1.414214</td>\n",
       "      <td>0.853553</td>\n",
       "      <td>0.100023</td>\n",
       "      <td>0.100023</td>\n",
       "      <td>NaN</td>\n",
       "      <td>NaN</td>\n",
       "      <td>fp</td>\n",
       "      <td>NaN</td>\n",
       "      <td>NaN</td>\n",
       "      <td>NaN</td>\n",
       "      <td>train_pix</td>\n",
       "      <td>0</td>\n",
       "    </tr>\n",
       "  </tbody>\n",
       "</table>\n",
       "</div>"
      ],
      "text/plain": [
       "           RA        DEC  area       min_rad   max_rad  mean_rad  min_pred  \\\n",
       "0   80.739063  -1.298711   1.0  0.000000e+00  1.414214  0.853553  0.100002   \n",
       "1  149.798243  54.081141   1.0  0.000000e+00  1.414214  0.853553  0.100004   \n",
       "2   64.810863 -26.402030   1.0  1.136868e-13  1.414214  0.853553  0.100010   \n",
       "3   13.129393  39.918397   1.0  0.000000e+00  1.414214  0.853553  0.100023   \n",
       "\n",
       "   max_pred  tRA  tDEC status catalog  M500   z       pix2  mpp_er  \n",
       "0  0.100002  NaN   NaN     fp     NaN   NaN NaN  train_pix       0  \n",
       "1  0.100004  NaN   NaN     fp     NaN   NaN NaN  train_pix       0  \n",
       "2  0.100010  NaN   NaN     fp     NaN   NaN NaN  train_pix       0  \n",
       "3  0.100023  NaN   NaN     fp     NaN   NaN NaN  train_pix       0  "
      ]
     },
     "execution_count": 12,
     "metadata": {},
     "output_type": "execute_result"
    }
   ],
   "source": [
    "df = pd.read_csv('/home/rt2122/Data/detected_cats/full_pz_all_found34_thr0.1_step8_no_fn.csv')\n",
    "#df = pd.read_csv('/home/rt2122/Data/detected_cats/full_pz_rot28_thr0.1_step8_no_fn.csv')\n",
    "df = df.sort_values(by='max_pred', axis='index', ascending=True)\n",
    "df['mpp_er'] = 0\n",
    "df.index = np.arange(len(df))\n",
    "df.head(4)"
   ]
  },
  {
   "cell_type": "code",
   "execution_count": 13,
   "metadata": {
    "ExecuteTime": {
     "end_time": "2021-07-05T23:10:23.709831Z",
     "start_time": "2021-07-05T23:10:12.728582Z"
    }
   },
   "outputs": [
    {
     "data": {
      "application/vnd.jupyter.widget-view+json": {
       "model_id": "bf0decacfc2d47e59e7cc6239b0c6455",
       "version_major": 2,
       "version_minor": 0
      },
      "text/plain": [
       "HBox(children=(FloatProgress(value=0.0, max=23352.0), HTML(value='')))"
      ]
     },
     "metadata": {},
     "output_type": "display_data"
    },
    {
     "name": "stdout",
     "output_type": "stream",
     "text": [
      "\n"
     ]
    }
   ],
   "source": [
    "i = 0\n",
    "st = mp_q[i]\n",
    "en = mp_q[i + 1]\n",
    "prec1 = prec[i]\n",
    "prec2 = prec[i + 1]\n",
    "for j in tqdm(range(len(df))):\n",
    "    line = df.iloc[j]\n",
    "    mp = line['max_pred']\n",
    "    if mp > en:\n",
    "        i += 1\n",
    "        st = mp_q[i]\n",
    "        if i + 1 >= len(mp_q):\n",
    "            en = 1\n",
    "        else:\n",
    "            en = mp_q[i + 1]\n",
    "        prec1 = prec[i]\n",
    "        prec2 = prec[i + 1]\n",
    "    prec_val = find_prec(st, en, prec1, prec2, mp)\n",
    "    if prec_val < 0 or not (prec1 <=prec_val and prec_val <= prec2):\n",
    "        break\n",
    "    df.loc[j, 'mpp_er'] = prec_val"
   ]
  },
  {
   "cell_type": "code",
   "execution_count": 14,
   "metadata": {
    "ExecuteTime": {
     "end_time": "2021-07-05T23:10:23.862296Z",
     "start_time": "2021-07-05T23:10:23.711813Z"
    }
   },
   "outputs": [
    {
     "data": {
      "text/plain": [
       "[<matplotlib.lines.Line2D at 0x7fb57861ad30>]"
      ]
     },
     "execution_count": 14,
     "metadata": {},
     "output_type": "execute_result"
    },
    {
     "data": {
      "image/png": "[encoded data removed]",
      "text/plain": [
       "<Figure size 576x576 with 1 Axes>"
      ]
     },
     "metadata": {
      "needs_background": "light"
     },
     "output_type": "display_data"
    }
   ],
   "source": [
    "_, ax = plt.subplots(1, 1, figsize=(8, 8))\n",
    "ax.plot(df['max_pred'], df['mpp_er'])"
   ]
  },
  {
   "cell_type": "code",
   "execution_count": 15,
   "metadata": {
    "ExecuteTime": {
     "end_time": "2021-07-05T23:10:26.862736Z",
     "start_time": "2021-07-05T23:10:26.805016Z"
    }
   },
   "outputs": [
    {
     "data": {
      "text/html": [
       "<div>\n",
       "<style scoped>\n",
       "    .dataframe tbody tr th:only-of-type {\n",
       "        vertical-align: middle;\n",
       "    }\n",
       "\n",
       "    .dataframe tbody tr th {\n",
       "        vertical-align: top;\n",
       "    }\n",
       "\n",
       "    .dataframe thead th {\n",
       "        text-align: right;\n",
       "    }\n",
       "</style>\n",
       "<table border=\"1\" class=\"dataframe\">\n",
       "  <thead>\n",
       "    <tr style=\"text-align: right;\">\n",
       "      <th></th>\n",
       "      <th>RA</th>\n",
       "      <th>DEC</th>\n",
       "      <th>area</th>\n",
       "      <th>min_rad</th>\n",
       "      <th>max_rad</th>\n",
       "      <th>mean_rad</th>\n",
       "      <th>min_pred</th>\n",
       "      <th>max_pred</th>\n",
       "      <th>tRA</th>\n",
       "      <th>tDEC</th>\n",
       "      <th>status</th>\n",
       "      <th>catalog</th>\n",
       "      <th>M500</th>\n",
       "      <th>z</th>\n",
       "      <th>pix2</th>\n",
       "      <th>mpp_er</th>\n",
       "    </tr>\n",
       "  </thead>\n",
       "  <tbody>\n",
       "    <tr>\n",
       "      <th>0</th>\n",
       "      <td>80.739063</td>\n",
       "      <td>-1.298711</td>\n",
       "      <td>1.0</td>\n",
       "      <td>0.000000e+00</td>\n",
       "      <td>1.414214</td>\n",
       "      <td>0.853553</td>\n",
       "      <td>0.100002</td>\n",
       "      <td>0.100002</td>\n",
       "      <td>NaN</td>\n",
       "      <td>NaN</td>\n",
       "      <td>fp</td>\n",
       "      <td>NaN</td>\n",
       "      <td>NaN</td>\n",
       "      <td>NaN</td>\n",
       "      <td>train_pix</td>\n",
       "      <td>0.252828</td>\n",
       "    </tr>\n",
       "    <tr>\n",
       "      <th>1</th>\n",
       "      <td>149.798243</td>\n",
       "      <td>54.081141</td>\n",
       "      <td>1.0</td>\n",
       "      <td>0.000000e+00</td>\n",
       "      <td>1.414214</td>\n",
       "      <td>0.853553</td>\n",
       "      <td>0.100004</td>\n",
       "      <td>0.100004</td>\n",
       "      <td>NaN</td>\n",
       "      <td>NaN</td>\n",
       "      <td>fp</td>\n",
       "      <td>NaN</td>\n",
       "      <td>NaN</td>\n",
       "      <td>NaN</td>\n",
       "      <td>train_pix</td>\n",
       "      <td>0.252828</td>\n",
       "    </tr>\n",
       "    <tr>\n",
       "      <th>2</th>\n",
       "      <td>64.810863</td>\n",
       "      <td>-26.402030</td>\n",
       "      <td>1.0</td>\n",
       "      <td>1.136868e-13</td>\n",
       "      <td>1.414214</td>\n",
       "      <td>0.853553</td>\n",
       "      <td>0.100010</td>\n",
       "      <td>0.100010</td>\n",
       "      <td>NaN</td>\n",
       "      <td>NaN</td>\n",
       "      <td>fp</td>\n",
       "      <td>NaN</td>\n",
       "      <td>NaN</td>\n",
       "      <td>NaN</td>\n",
       "      <td>train_pix</td>\n",
       "      <td>0.252829</td>\n",
       "    </tr>\n",
       "    <tr>\n",
       "      <th>3</th>\n",
       "      <td>13.129393</td>\n",
       "      <td>39.918397</td>\n",
       "      <td>1.0</td>\n",
       "      <td>0.000000e+00</td>\n",
       "      <td>1.414214</td>\n",
       "      <td>0.853553</td>\n",
       "      <td>0.100023</td>\n",
       "      <td>0.100023</td>\n",
       "      <td>NaN</td>\n",
       "      <td>NaN</td>\n",
       "      <td>fp</td>\n",
       "      <td>NaN</td>\n",
       "      <td>NaN</td>\n",
       "      <td>NaN</td>\n",
       "      <td>train_pix</td>\n",
       "      <td>0.252829</td>\n",
       "    </tr>\n",
       "    <tr>\n",
       "      <th>4</th>\n",
       "      <td>55.778215</td>\n",
       "      <td>77.164844</td>\n",
       "      <td>1.0</td>\n",
       "      <td>0.000000e+00</td>\n",
       "      <td>1.414214</td>\n",
       "      <td>0.853553</td>\n",
       "      <td>0.100039</td>\n",
       "      <td>0.100039</td>\n",
       "      <td>NaN</td>\n",
       "      <td>NaN</td>\n",
       "      <td>fp</td>\n",
       "      <td>NaN</td>\n",
       "      <td>NaN</td>\n",
       "      <td>NaN</td>\n",
       "      <td>train_pix</td>\n",
       "      <td>0.252830</td>\n",
       "    </tr>\n",
       "    <tr>\n",
       "      <th>...</th>\n",
       "      <td>...</td>\n",
       "      <td>...</td>\n",
       "      <td>...</td>\n",
       "      <td>...</td>\n",
       "      <td>...</td>\n",
       "      <td>...</td>\n",
       "      <td>...</td>\n",
       "      <td>...</td>\n",
       "      <td>...</td>\n",
       "      <td>...</td>\n",
       "      <td>...</td>\n",
       "      <td>...</td>\n",
       "      <td>...</td>\n",
       "      <td>...</td>\n",
       "      <td>...</td>\n",
       "      <td>...</td>\n",
       "    </tr>\n",
       "    <tr>\n",
       "      <th>23347</th>\n",
       "      <td>243.983913</td>\n",
       "      <td>-6.150970</td>\n",
       "      <td>40.0</td>\n",
       "      <td>1.935608e+00</td>\n",
       "      <td>5.988273</td>\n",
       "      <td>3.705241</td>\n",
       "      <td>0.106300</td>\n",
       "      <td>0.999788</td>\n",
       "      <td>243.954880</td>\n",
       "      <td>-6.152363</td>\n",
       "      <td>tp</td>\n",
       "      <td>planck_z</td>\n",
       "      <td>16.116468</td>\n",
       "      <td>0.203</td>\n",
       "      <td>train_pix</td>\n",
       "      <td>0.999865</td>\n",
       "    </tr>\n",
       "    <tr>\n",
       "      <th>23348</th>\n",
       "      <td>90.796013</td>\n",
       "      <td>42.214613</td>\n",
       "      <td>33.0</td>\n",
       "      <td>1.811333e+00</td>\n",
       "      <td>5.601533</td>\n",
       "      <td>3.515987</td>\n",
       "      <td>0.103833</td>\n",
       "      <td>0.999954</td>\n",
       "      <td>90.839443</td>\n",
       "      <td>42.232290</td>\n",
       "      <td>tp</td>\n",
       "      <td>planck_z</td>\n",
       "      <td>10.759314</td>\n",
       "      <td>0.228</td>\n",
       "      <td>train_pix</td>\n",
       "      <td>0.999971</td>\n",
       "    </tr>\n",
       "    <tr>\n",
       "      <th>23349</th>\n",
       "      <td>85.663133</td>\n",
       "      <td>-1.720311</td>\n",
       "      <td>64.0</td>\n",
       "      <td>7.749851e-01</td>\n",
       "      <td>7.825358</td>\n",
       "      <td>5.091448</td>\n",
       "      <td>0.100268</td>\n",
       "      <td>0.999978</td>\n",
       "      <td>NaN</td>\n",
       "      <td>NaN</td>\n",
       "      <td>fp</td>\n",
       "      <td>NaN</td>\n",
       "      <td>NaN</td>\n",
       "      <td>NaN</td>\n",
       "      <td>train_pix</td>\n",
       "      <td>0.999986</td>\n",
       "    </tr>\n",
       "    <tr>\n",
       "      <th>23350</th>\n",
       "      <td>85.277300</td>\n",
       "      <td>-1.613652</td>\n",
       "      <td>36.0</td>\n",
       "      <td>2.201086e+00</td>\n",
       "      <td>5.766286</td>\n",
       "      <td>3.571320</td>\n",
       "      <td>0.112442</td>\n",
       "      <td>1.000000</td>\n",
       "      <td>NaN</td>\n",
       "      <td>NaN</td>\n",
       "      <td>fp</td>\n",
       "      <td>NaN</td>\n",
       "      <td>NaN</td>\n",
       "      <td>NaN</td>\n",
       "      <td>train_pix</td>\n",
       "      <td>1.000000</td>\n",
       "    </tr>\n",
       "    <tr>\n",
       "      <th>23351</th>\n",
       "      <td>34.917374</td>\n",
       "      <td>1.632254</td>\n",
       "      <td>19.0</td>\n",
       "      <td>1.595903e+00</td>\n",
       "      <td>3.510434</td>\n",
       "      <td>2.575054</td>\n",
       "      <td>0.109375</td>\n",
       "      <td>1.000000</td>\n",
       "      <td>NaN</td>\n",
       "      <td>NaN</td>\n",
       "      <td>fp</td>\n",
       "      <td>NaN</td>\n",
       "      <td>NaN</td>\n",
       "      <td>NaN</td>\n",
       "      <td>train_pix</td>\n",
       "      <td>1.000000</td>\n",
       "    </tr>\n",
       "  </tbody>\n",
       "</table>\n",
       "<p>23352 rows × 16 columns</p>\n",
       "</div>"
      ],
      "text/plain": [
       "               RA        DEC  area       min_rad   max_rad  mean_rad  \\\n",
       "0       80.739063  -1.298711   1.0  0.000000e+00  1.414214  0.853553   \n",
       "1      149.798243  54.081141   1.0  0.000000e+00  1.414214  0.853553   \n",
       "2       64.810863 -26.402030   1.0  1.136868e-13  1.414214  0.853553   \n",
       "3       13.129393  39.918397   1.0  0.000000e+00  1.414214  0.853553   \n",
       "4       55.778215  77.164844   1.0  0.000000e+00  1.414214  0.853553   \n",
       "...           ...        ...   ...           ...       ...       ...   \n",
       "23347  243.983913  -6.150970  40.0  1.935608e+00  5.988273  3.705241   \n",
       "23348   90.796013  42.214613  33.0  1.811333e+00  5.601533  3.515987   \n",
       "23349   85.663133  -1.720311  64.0  7.749851e-01  7.825358  5.091448   \n",
       "23350   85.277300  -1.613652  36.0  2.201086e+00  5.766286  3.571320   \n",
       "23351   34.917374   1.632254  19.0  1.595903e+00  3.510434  2.575054   \n",
       "\n",
       "       min_pred  max_pred         tRA       tDEC status   catalog       M500  \\\n",
       "0      0.100002  0.100002         NaN        NaN     fp       NaN        NaN   \n",
       "1      0.100004  0.100004         NaN        NaN     fp       NaN        NaN   \n",
       "2      0.100010  0.100010         NaN        NaN     fp       NaN        NaN   \n",
       "3      0.100023  0.100023         NaN        NaN     fp       NaN        NaN   \n",
       "4      0.100039  0.100039         NaN        NaN     fp       NaN        NaN   \n",
       "...         ...       ...         ...        ...    ...       ...        ...   \n",
       "23347  0.106300  0.999788  243.954880  -6.152363     tp  planck_z  16.116468   \n",
       "23348  0.103833  0.999954   90.839443  42.232290     tp  planck_z  10.759314   \n",
       "23349  0.100268  0.999978         NaN        NaN     fp       NaN        NaN   \n",
       "23350  0.112442  1.000000         NaN        NaN     fp       NaN        NaN   \n",
       "23351  0.109375  1.000000         NaN        NaN     fp       NaN        NaN   \n",
       "\n",
       "           z       pix2    mpp_er  \n",
       "0        NaN  train_pix  0.252828  \n",
       "1        NaN  train_pix  0.252828  \n",
       "2        NaN  train_pix  0.252829  \n",
       "3        NaN  train_pix  0.252829  \n",
       "4        NaN  train_pix  0.252830  \n",
       "...      ...        ...       ...  \n",
       "23347  0.203  train_pix  0.999865  \n",
       "23348  0.228  train_pix  0.999971  \n",
       "23349    NaN  train_pix  0.999986  \n",
       "23350    NaN  train_pix  1.000000  \n",
       "23351    NaN  train_pix  1.000000  \n",
       "\n",
       "[23352 rows x 16 columns]"
      ]
     },
     "execution_count": 15,
     "metadata": {},
     "output_type": "execute_result"
    }
   ],
   "source": [
    "df"
   ]
  },
  {
   "cell_type": "code",
   "execution_count": 16,
   "metadata": {
    "ExecuteTime": {
     "end_time": "2021-07-05T23:10:50.716883Z",
     "start_time": "2021-07-05T23:10:50.300323Z"
    }
   },
   "outputs": [],
   "source": [
    "df.to_csv('/home/rt2122/Data/detected_cats/full_pz_all_found34_thr0.1_step8_no_fn_mpp_er.csv', index=False)\n",
    "#df.to_csv('/home/rt2122/Data/detected_cats/full_pz_rot28_thr0.1_step8_no_fn_mpp.csv', index=False)"
   ]
  },
  {
   "cell_type": "code",
   "execution_count": null,
   "metadata": {},
   "outputs": [],
   "source": []
  }
 ],
 "metadata": {
  "kernelspec": {
   "display_name": "Python 3",
   "language": "python",
   "name": "python3"
  },
  "language_info": {
   "codemirror_mode": {
    "name": "ipython",
    "version": 3
   },
   "file_extension": ".py",
   "mimetype": "text/x-python",
   "name": "python",
   "nbconvert_exporter": "python",
   "pygments_lexer": "ipython3",
   "version": "3.8.3"
  }
 },
 "nbformat": 4,
 "nbformat_minor": 4
}
