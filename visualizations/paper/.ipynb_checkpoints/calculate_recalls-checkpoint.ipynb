{
 "cells": [
  {
   "cell_type": "code",
   "execution_count": 21,
   "metadata": {
    "ExecuteTime": {
     "end_time": "2021-07-06T12:22:40.747397Z",
     "start_time": "2021-07-06T12:22:40.717398Z"
    }
   },
   "outputs": [],
   "source": [
    "import numpy as np\n",
    "import pandas as pd\n",
    "import os\n",
    "import healpy as hp\n",
    "from DS_data_transformation import get_prm\n",
    "%config InlineBackend.figure_format = 'retina'\n",
    "from DS_Planck_Unet import west_val, east_val, east\n",
    "from matplotlib import pyplot as plt\n",
    "from DS_Planck_Unet import load_planck_model, draw_pic_with_mask, draw_pic, val_pix\n",
    "import os\n",
    "from tqdm.notebook import tqdm\n",
    "from DS_models_stat import stat_orig_cats, do_all_stats, stat_cat, cut_cat\n",
    "from DS_detector import rematch_cat\n",
    "from DS_healpix_fragmentation import cut_cat_by_pix"
   ]
  },
  {
   "cell_type": "code",
   "execution_count": 31,
   "metadata": {
    "ExecuteTime": {
     "end_time": "2021-07-06T19:38:21.010993Z",
     "start_time": "2021-07-06T19:38:20.995687Z"
    }
   },
   "outputs": [],
   "source": [
    "max_pred_unite = np.array([0.1 , 0.15, 0.2 , 0.25, 0.3 , 0.35, 0.4 , 0.45, 0.5 , 0.55, 0.6 ,\n",
    "       0.65, 0.7 , 0.75, 0.775, 0.8 , 0.85, 0.9 , 0.905, 0.95])\n",
    "max_pred_br = np.array([0,  5.05335105,  5.1069375 ,  5.1630591 ,  5.223298  ,  5.29437   ,\n",
    "        5.3639328 ,  5.43414885,  5.5157134 ,  5.60974235,  5.711204  ,\n",
    "        5.8320221 ,  5.9664762 ,  6.12062285,  6.2958075 ,  6.52273275,\n",
    "        6.826352  ,  7.2506403 ,  8.0152959 , 10.0664315 , 10.5       ,\n",
    "       12.        ])"
   ]
  },
  {
   "cell_type": "code",
   "execution_count": 23,
   "metadata": {
    "ExecuteTime": {
     "end_time": "2021-07-06T12:22:41.189236Z",
     "start_time": "2021-07-06T12:22:41.181861Z"
    }
   },
   "outputs": [],
   "source": [
    "def cut_max_pred(cat, max_pred):\n",
    "    df = cat.copy()\n",
    "    df = df[df['max_pred'] >= max_pred]\n",
    "    df.index = np.arange(len(df))\n",
    "    return df"
   ]
  },
  {
   "cell_type": "code",
   "execution_count": 24,
   "metadata": {
    "ExecuteTime": {
     "end_time": "2021-07-06T12:22:41.433375Z",
     "start_time": "2021-07-06T12:22:41.421108Z"
    }
   },
   "outputs": [],
   "source": [
    "pixels = {'41' : [41], '38' : [38], '6' : [6], 'e' : east_val, 'w' : west_val}"
   ]
  },
  {
   "cell_type": "code",
   "execution_count": 25,
   "metadata": {
    "ExecuteTime": {
     "end_time": "2021-07-06T12:22:41.697172Z",
     "start_time": "2021-07-06T12:22:41.687321Z"
    }
   },
   "outputs": [
    {
     "data": {
      "text/plain": [
       "0.2"
      ]
     },
     "execution_count": 25,
     "metadata": {},
     "output_type": "execute_result"
    }
   ],
   "source": [
    "s = '/home/rt2122/Data/gen_cats/gen_all_found_brcat_prec0.2.csv'\n",
    "def get_prec(s):\n",
    "    return float(s[s.find('prec')+4:-4])\n",
    "get_prec(s)"
   ]
  },
  {
   "cell_type": "code",
   "execution_count": 26,
   "metadata": {
    "ExecuteTime": {
     "end_time": "2021-07-06T12:22:42.117794Z",
     "start_time": "2021-07-06T12:22:42.105659Z"
    }
   },
   "outputs": [],
   "source": [
    "def get_cat_d(det_name, det_file, get_mpp_min=False, index_name='mpp'):\n",
    "    cat_d = {}\n",
    "    if det_name == 'SZcat(gen)':\n",
    "        dirname = det_file \n",
    "        files = next(os.walk(dirname))[-1]\n",
    "        cat_d = {get_prec(file) : pd.read_csv(os.path.join(dirname, file)) for file in files}\n",
    "    else:\n",
    "        det_cat = pd.read_csv(det_file)\n",
    "        max_pred_vals = max_pred_unite\n",
    "        if det_name in ['SZcat(y-map)', 'SZcat(y-map)_unique', 'inter_sn']:\n",
    "            max_pred_vals = max_pred_br\n",
    "        cat_d = {max_pred_prm : cut_max_pred(det_cat, max_pred_prm) for max_pred_prm in max_pred_vals}\n",
    "        if get_mpp_min:\n",
    "            new_cat_d = {}\n",
    "            for val in cat_d:\n",
    "                df = cat_d[val]\n",
    "                new_cat_d[df[index_name].min()] = df\n",
    "            cat_d = new_cat_d\n",
    "    return cat_d"
   ]
  },
  {
   "cell_type": "code",
   "execution_count": 27,
   "metadata": {
    "ExecuteTime": {
     "end_time": "2021-07-06T12:22:43.132617Z",
     "start_time": "2021-07-06T12:22:43.114809Z"
    }
   },
   "outputs": [],
   "source": [
    "def get_recalls_file(det_name, det_file, big_pix, pixname, spec_precision=['PSZ2(z)', 'eROSITA'], index_name='max_pred',\n",
    "                    dict_cut={}, get_mpp_min=False):\n",
    "    cat_d = get_cat_d(det_name, det_file, get_mpp_min=get_mpp_min, index_name=index_name)\n",
    "    recall_df = stat_cat(cat_d, big_pix=big_pix, read_det_files=False, match_dist=400/3600, \n",
    "                                     spec_precision=spec_precision, dict_cut=dict_cut)\n",
    "    recall_df = recall_df.sort_index()\n",
    "    recall_df.index.name = index_name\n",
    "    filename = './check/{}_recall_{}_pix{}.csv'.format(det_name, index_name.replace('/', ''), pixname)\n",
    "    recall_df.to_csv(filename)"
   ]
  },
  {
   "cell_type": "code",
   "execution_count": 28,
   "metadata": {
    "ExecuteTime": {
     "end_time": "2021-07-06T12:22:44.706270Z",
     "start_time": "2021-07-06T12:22:44.699504Z"
    }
   },
   "outputs": [],
   "source": [
    "cats_dict_max = {\n",
    "            'SZcat(base)' : '/home/rt2122/Data/detected_cats/full_pz_rot28_thr0.1_step8_no_fn.csv',\n",
    "            'SZcat(AL)' : '/home/rt2122/Data/detected_cats/full_pz_all_found34_thr0.1_step8_no_fn.csv',\n",
    "            #'SZcat(AL)_unique' : '/home/rt2122/Data/inter_cats/all_found_unique.csv',\n",
    "            #'inter' : '/home/rt2122/Data/inter_cats/inter.csv',\n",
    "}\n",
    "cats_dict_sn = {\n",
    "            'SZcat(y-map)' : '/home/rt2122/Data/SRGz/brcat.csv',\n",
    "            #'inter_sn' : '/home/rt2122/Data/inter_cats/inter_sn.csv',\n",
    "            #'SZcat(y-map)_unique': '/home/rt2122/Data/inter_cats/brcat_unique.csv'\n",
    "}\n",
    "cats_dict_mpp = {\n",
    "            'SZcat(base)' : '/home/rt2122/Data/detected_cats/full_pz_rot28_thr0.1_step8_no_fn_mpp.csv',\n",
    "            'SZcat(AL)' : '/home/rt2122/Data/detected_cats/full_pz_all_found34_thr0.1_step8_no_fn_mpp.csv',\n",
    "            'SZcat(y-map)' : '/home/rt2122/Data/SRGz/brcat_mpp.csv',\n",
    "    \n",
    "            'SZcat(gen)' : '/home/rt2122/Data/gen_cats/',\n",
    "    \n",
    "            #'SZcat(AL)_unique' : '/home/rt2122/Data/inter_cats/all_found_unique_mpp.csv',\n",
    "            #'inter' : '/home/rt2122/Data/inter_cats/inter_mpp.csv',\n",
    "            #'SZcat(y-map)_unique': '/home/rt2122/Data/inter_cats/brcat_unique_mpp.csv'\n",
    "}\n",
    "cats_dict_mpp_er = {\n",
    "            'SZcat(AL)' : '/home/rt2122/Data/detected_cats/full_pz_all_found34_thr0.1_step8_no_fn_mpp_er.csv',\n",
    "            'SZcat(y-map)' : '/home/rt2122/Data/SRGz/brcat_mpp_er.csv',\n",
    "            'SZcat(gen)' : '/home/rt2122/Data/gen_cats_er/',\n",
    "    \n",
    "}"
   ]
  },
  {
   "cell_type": "code",
   "execution_count": 32,
   "metadata": {
    "ExecuteTime": {
     "end_time": "2021-07-06T19:38:43.108633Z",
     "start_time": "2021-07-06T19:38:30.258688Z"
    }
   },
   "outputs": [
    {
     "data": {
      "application/vnd.jupyter.widget-view+json": {
       "model_id": "a12242469ac444a5a5ffa3d7f514195b",
       "version_major": 2,
       "version_minor": 0
      },
      "text/plain": [
       "HBox(children=(FloatProgress(value=0.0, max=1.0), HTML(value='')))"
      ]
     },
     "metadata": {},
     "output_type": "display_data"
    },
    {
     "name": "stdout",
     "output_type": "stream",
     "text": [
      "SZcat(y-map)\n",
      "\n"
     ]
    }
   ],
   "source": [
    "dict_by_index = zip([cats_dict_max, cats_dict_sn, cats_dict_mpp, cats_dict_mpp_er], ['max_pred', 's/n', 'mpp', 'mpp_er'])\n",
    "for dict_cur, index_name in dict_by_index:\n",
    "    if index_name != 's/n':\n",
    "        continue\n",
    "    for name in tqdm(dict_cur):\n",
    "        print(name)\n",
    "        get_mpp_min = False\n",
    "        if name != 'SZcat(gen)' and (index_name == 'mpp' or index_name == 'mpp_er'):\n",
    "            get_mpp_min = True\n",
    "        get_recalls_file(name, dict_cur[name], list(range(48)), pixname='eb20',\n",
    "                                   dict_cut={'b' : [20, np.inf], 'l' : [0, 180]}, index_name=index_name, get_mpp_min=get_mpp_min)\n",
    "        for pixname in pixels:\n",
    "            get_recalls_file(name, dict_cur[name], big_pix=pixels[pixname], pixname=pixname, dict_cut={}, index_name=index_name,\n",
    "                            get_mpp_min=get_mpp_min)"
   ]
  },
  {
   "cell_type": "code",
   "execution_count": null,
   "metadata": {},
   "outputs": [],
   "source": []
  }
 ],
 "metadata": {
  "kernelspec": {
   "display_name": "Python 3",
   "language": "python",
   "name": "python3"
  },
  "language_info": {
   "codemirror_mode": {
    "name": "ipython",
    "version": 3
   },
   "file_extension": ".py",
   "mimetype": "text/x-python",
   "name": "python",
   "nbconvert_exporter": "python",
   "pygments_lexer": "ipython3",
   "version": "3.8.3"
  }
 },
 "nbformat": 4,
 "nbformat_minor": 4
}
