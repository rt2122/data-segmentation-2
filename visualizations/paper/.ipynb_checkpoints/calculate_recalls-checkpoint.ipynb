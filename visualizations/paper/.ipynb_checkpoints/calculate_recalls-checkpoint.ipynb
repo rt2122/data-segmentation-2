{
 "cells": [
  {
   "cell_type": "code",
   "execution_count": 1,
   "metadata": {
    "ExecuteTime": {
     "end_time": "2021-07-05T14:42:48.368309Z",
     "start_time": "2021-07-05T14:42:31.789363Z"
    }
   },
   "outputs": [],
   "source": [
    "import numpy as np\n",
    "import pandas as pd\n",
    "import os\n",
    "import healpy as hp\n",
    "from DS_data_transformation import get_prm\n",
    "%config InlineBackend.figure_format = 'retina'\n",
    "from DS_Planck_Unet import west_val, east_val, east\n",
    "from matplotlib import pyplot as plt\n",
    "from DS_Planck_Unet import load_planck_model, draw_pic_with_mask, draw_pic, val_pix\n",
    "import os\n",
    "from tqdm.notebook import tqdm\n",
    "from DS_models_stat import stat_orig_cats, do_all_stats, stat_cat, cut_cat\n",
    "from DS_detector import rematch_cat\n",
    "from DS_healpix_fragmentation import cut_cat_by_pix"
   ]
  },
  {
   "cell_type": "code",
   "execution_count": 2,
   "metadata": {
    "ExecuteTime": {
     "end_time": "2021-07-05T14:42:48.578342Z",
     "start_time": "2021-07-05T14:42:48.379952Z"
    }
   },
   "outputs": [],
   "source": [
    "max_pred_unite = np.arange(0.1, 1, 0.05)\n",
    "max_pred_br = np.array(pd.read_csv('./check/old/brcat_recall_max_pred_pix41.csv')['s/n'])"
   ]
  },
  {
   "cell_type": "code",
   "execution_count": 3,
   "metadata": {
    "ExecuteTime": {
     "end_time": "2021-07-02T10:21:33.289912Z",
     "start_time": "2021-07-02T10:21:33.121187Z"
    }
   },
   "outputs": [
    {
     "data": {
      "text/plain": [
       "array([ 5.05335105,  5.1069375 ,  5.1630591 ,  5.223298  ,  5.29437   ,\n",
       "        5.3639328 ,  5.43414885,  5.5157134 ,  5.60974235,  5.711204  ,\n",
       "        5.8320221 ,  5.9664762 ,  6.12062285,  6.2958075 ,  6.52273275,\n",
       "        6.826352  ,  7.2506403 ,  8.0152959 , 10.0664315 ])"
      ]
     },
     "execution_count": 3,
     "metadata": {},
     "output_type": "execute_result"
    }
   ],
   "source": [
    "max_pred_br"
   ]
  },
  {
   "cell_type": "code",
   "execution_count": 5,
   "metadata": {
    "ExecuteTime": {
     "end_time": "2021-07-05T14:42:53.877888Z",
     "start_time": "2021-07-05T14:42:53.872614Z"
    }
   },
   "outputs": [],
   "source": [
    "def cut_max_pred(cat, max_pred):\n",
    "    df = cat.copy()\n",
    "    df = df[df['max_pred'] >= max_pred]\n",
    "    df.index = np.arange(len(df))\n",
    "    return df"
   ]
  },
  {
   "cell_type": "code",
   "execution_count": 6,
   "metadata": {
    "ExecuteTime": {
     "end_time": "2021-07-05T14:42:54.611434Z",
     "start_time": "2021-07-05T14:42:54.588701Z"
    }
   },
   "outputs": [],
   "source": [
    "pixels = {'41' : [41], '38' : [38], '6' : [6], 'e' : east_val, 'w' : west_val}"
   ]
  },
  {
   "cell_type": "code",
   "execution_count": 7,
   "metadata": {
    "ExecuteTime": {
     "end_time": "2021-07-05T14:42:58.696100Z",
     "start_time": "2021-07-05T14:42:58.687322Z"
    }
   },
   "outputs": [
    {
     "data": {
      "text/plain": [
       "0.2"
      ]
     },
     "execution_count": 7,
     "metadata": {},
     "output_type": "execute_result"
    }
   ],
   "source": [
    "s = '/home/rt2122/Data/gen_cats/gen_all_found_brcat_prec0.2.csv'\n",
    "def get_prec(s):\n",
    "    return float(s[s.find('prec')+4:-4])\n",
    "get_prec(s)"
   ]
  },
  {
   "cell_type": "code",
   "execution_count": 8,
   "metadata": {
    "ExecuteTime": {
     "end_time": "2021-07-05T14:42:59.873718Z",
     "start_time": "2021-07-05T14:42:59.837058Z"
    }
   },
   "outputs": [],
   "source": [
    "def get_cat_d(det_name, det_file, get_mpp_min=False):\n",
    "    cat_d = {}\n",
    "    if det_name == 'SZcat(gen)':\n",
    "        dirname = det_file \n",
    "        files = next(os.walk(dirname))[-1]\n",
    "        cat_d = {get_prec(file) : pd.read_csv(os.path.join(dirname, file)) for file in files}\n",
    "    else:\n",
    "        det_cat = pd.read_csv(det_file)\n",
    "        max_pred_vals = max_pred_unite\n",
    "        if det_name in ['SZcat(y-map)', 'SZcat(y-map)_unique', 'inter_sn']:\n",
    "            max_pred_vals = max_pred_br\n",
    "        cat_d = {max_pred_prm : cut_max_pred(det_cat, max_pred_prm) for max_pred_prm in max_pred_vals}\n",
    "        if get_mpp_min:\n",
    "            new_cat_d = {}\n",
    "            for val in cat_d:\n",
    "                df = cat_d[val]\n",
    "                new_cat_d[df['mpp'].min()] = df\n",
    "            cat_d = new_cat_d\n",
    "    return cat_d"
   ]
  },
  {
   "cell_type": "code",
   "execution_count": 9,
   "metadata": {
    "ExecuteTime": {
     "end_time": "2021-07-05T14:43:04.403348Z",
     "start_time": "2021-07-05T14:43:04.385982Z"
    }
   },
   "outputs": [],
   "source": [
    "def get_recalls_file(det_name, det_file, big_pix, pixname, spec_precision=['PSZ2(z)', 'eROSITA'], index_name='max_pred',\n",
    "                    dict_cut={}, get_mpp_min=False):\n",
    "    cat_d = get_cat_d(det_name, det_file, get_mpp_min=get_mpp_min)\n",
    "    recall_df = stat_cat(cat_d, big_pix=big_pix, read_det_files=False, match_dist=400/3600, \n",
    "                                     spec_precision=spec_precision, dict_cut=dict_cut)\n",
    "    recall_df = recall_df.sort_index()\n",
    "    recall_df.index.name = index_name\n",
    "    filename = './check/{}_recall_{}_pix{}.csv'.format(det_name, index_name.replace('/', ''), pixname)\n",
    "    recall_df.to_csv(filename)"
   ]
  },
  {
   "cell_type": "code",
   "execution_count": 10,
   "metadata": {
    "ExecuteTime": {
     "end_time": "2021-07-05T14:43:05.089288Z",
     "start_time": "2021-07-05T14:43:05.061472Z"
    }
   },
   "outputs": [],
   "source": [
    "cats_dict_max = {\n",
    "            'SZcat(base)' : '/home/rt2122/Data/detected_cats/full_pz_rot28_thr0.1_step8_no_fn.csv',\n",
    "            'SZcat(AL)' : '/home/rt2122/Data/detected_cats/full_pz_all_found34_thr0.1_step8_no_fn.csv',\n",
    "            'SZcat(AL)_unique' : '/home/rt2122/Data/inter_cats/all_found_unique.csv',\n",
    "            'inter' : '/home/rt2122/Data/inter_cats/inter.csv',\n",
    "}\n",
    "cats_dict_sn = {\n",
    "            'SZcat(y-map)' : '/home/rt2122/Data/SRGz/brcat.csv',\n",
    "            'inter_sn' : '/home/rt2122/Data/inter_cats/inter_sn.csv',\n",
    "            'SZcat(y-map)_unique': '/home/rt2122/Data/inter_cats/brcat_unique.csv'\n",
    "}\n",
    "cats_dict_mpp = {\n",
    "            'SZcat(base)' : '/home/rt2122/Data/detected_cats/full_pz_rot28_thr0.1_step8_no_fn_mpp.csv',\n",
    "            'SZcat(AL)' : '/home/rt2122/Data/detected_cats/full_pz_all_found34_thr0.1_step8_no_fn_mpp.csv',\n",
    "            'SZcat(y-map)' : '/home/rt2122/Data/SRGz/brcat_mpp.csv',\n",
    "    \n",
    "            'SZcat(gen)' : '/home/rt2122/Data/gen_cats/',\n",
    "    \n",
    "            'SZcat(AL)_unique' : '/home/rt2122/Data/inter_cats/all_found_unique_mpp.csv',\n",
    "            'inter' : '/home/rt2122/Data/inter_cats/inter_mpp.csv',\n",
    "            'SZcat(y-map)_unique': '/home/rt2122/Data/inter_cats/brcat_unique_mpp.csv'\n",
    "}"
   ]
  },
  {
   "cell_type": "code",
   "execution_count": 11,
   "metadata": {
    "ExecuteTime": {
     "end_time": "2021-07-05T14:44:00.341168Z",
     "start_time": "2021-07-05T14:43:06.161570Z"
    }
   },
   "outputs": [
    {
     "data": {
      "application/vnd.jupyter.widget-view+json": {
       "model_id": "fe88effd6a2b41fc8ea90504adebbbd9",
       "version_major": 2,
       "version_minor": 0
      },
      "text/plain": [
       "HBox(children=(FloatProgress(value=0.0, max=7.0), HTML(value='')))"
      ]
     },
     "metadata": {},
     "output_type": "display_data"
    },
    {
     "name": "stdout",
     "output_type": "stream",
     "text": [
      "SZcat(base)\n",
      "SZcat(AL)\n",
      "SZcat(y-map)\n"
     ]
    },
    {
     "name": "stderr",
     "output_type": "stream",
     "text": [
      "/home/rt2122/L/git/data-segmentation-2/modules/DS_models_stat.py:169: SettingWithCopyWarning: \n",
      "A value is trying to be set on a copy of a slice from a DataFrame.\n",
      "Try using .loc[row_indexer,col_indexer] = value instead\n",
      "\n",
      "See the caveats in the documentation: https://pandas.pydata.org/pandas-docs/stable/user_guide/indexing.html#returning-a-view-versus-a-copy\n",
      "  det_cat['found'] = False\n",
      "/home/rt2122/L/git/data-segmentation-2/modules/DS_models_stat.py:171: SettingWithCopyWarning: \n",
      "A value is trying to be set on a copy of a slice from a DataFrame.\n",
      "Try using .loc[row_indexer,col_indexer] = value instead\n",
      "\n",
      "See the caveats in the documentation: https://pandas.pydata.org/pandas-docs/stable/user_guide/indexing.html#returning-a-view-versus-a-copy\n",
      "  det_cat['found_' + cat] = False\n",
      "/home/rt2122/anaconda3/lib/python3.8/site-packages/pandas/core/indexing.py:966: SettingWithCopyWarning: \n",
      "A value is trying to be set on a copy of a slice from a DataFrame.\n",
      "Try using .loc[row_indexer,col_indexer] = value instead\n",
      "\n",
      "See the caveats in the documentation: https://pandas.pydata.org/pandas-docs/stable/user_guide/indexing.html#returning-a-view-versus-a-copy\n",
      "  self.obj[item] = s\n"
     ]
    },
    {
     "name": "stdout",
     "output_type": "stream",
     "text": [
      "SZcat(gen)\n",
      "SZcat(AL)_unique\n",
      "inter\n",
      "SZcat(y-map)_unique\n",
      "\n"
     ]
    }
   ],
   "source": [
    "dict_by_index = zip([cats_dict_max, cats_dict_sn, cats_dict_mpp], ['max_pred', 's/n', 'mpp'])\n",
    "for dict_cur, index_name in dict_by_index:\n",
    "    if index_name != 'mpp':\n",
    "        continue\n",
    "    for name in tqdm(dict_cur):\n",
    "        print(name)\n",
    "        get_mpp_min = False\n",
    "        if name != 'SZcat(gen)' and index_name == 'mpp':\n",
    "            get_mpp_min = True\n",
    "        get_recalls_file(name, dict_cur[name], list(range(48)), pixname='eb20',\n",
    "                                   dict_cut={'b' : [20, np.inf], 'l' : [0, 180]}, index_name=index_name, get_mpp_min=get_mpp_min)\n",
    "        for pixname in pixels:\n",
    "            get_recalls_file(name, dict_cur[name], big_pix=pixels[pixname], pixname=pixname, dict_cut={}, index_name=index_name,\n",
    "                            get_mpp_min=get_mpp_min)"
   ]
  },
  {
   "cell_type": "code",
   "execution_count": 14,
   "metadata": {
    "ExecuteTime": {
     "end_time": "2021-07-02T10:40:34.345802Z",
     "start_time": "2021-07-02T10:40:34.339650Z"
    }
   },
   "outputs": [],
   "source": [
    "df = pd.read_csv('./check/SZcat(AL)_recall_max_pred_pix41.csv')"
   ]
  },
  {
   "cell_type": "code",
   "execution_count": 15,
   "metadata": {
    "ExecuteTime": {
     "end_time": "2021-07-02T10:40:34.490656Z",
     "start_time": "2021-07-02T10:40:34.347238Z"
    }
   },
   "outputs": [
    {
     "data": {
      "text/html": [
       "<div>\n",
       "<style scoped>\n",
       "    .dataframe tbody tr th:only-of-type {\n",
       "        vertical-align: middle;\n",
       "    }\n",
       "\n",
       "    .dataframe tbody tr th {\n",
       "        vertical-align: top;\n",
       "    }\n",
       "\n",
       "    .dataframe thead th {\n",
       "        text-align: right;\n",
       "    }\n",
       "</style>\n",
       "<table border=\"1\" class=\"dataframe\">\n",
       "  <thead>\n",
       "    <tr style=\"text-align: right;\">\n",
       "      <th></th>\n",
       "      <th>max_pred</th>\n",
       "      <th>PSZ2</th>\n",
       "      <th>MCXC</th>\n",
       "      <th>ACT</th>\n",
       "      <th>PSZ2(z)</th>\n",
       "      <th>precision_PSZ2(z)</th>\n",
       "      <th>found_PSZ2(z)</th>\n",
       "      <th>all_true</th>\n",
       "      <th>found</th>\n",
       "      <th>precision</th>\n",
       "      <th>all</th>\n",
       "    </tr>\n",
       "  </thead>\n",
       "  <tbody>\n",
       "    <tr>\n",
       "      <th>0</th>\n",
       "      <td>0.10</td>\n",
       "      <td>0.913793</td>\n",
       "      <td>0.514706</td>\n",
       "      <td>0.292683</td>\n",
       "      <td>0.943396</td>\n",
       "      <td>0.116279</td>\n",
       "      <td>50</td>\n",
       "      <td>0.321149</td>\n",
       "      <td>120</td>\n",
       "      <td>0.279070</td>\n",
       "      <td>430</td>\n",
       "    </tr>\n",
       "    <tr>\n",
       "      <th>1</th>\n",
       "      <td>0.15</td>\n",
       "      <td>0.913793</td>\n",
       "      <td>0.514706</td>\n",
       "      <td>0.256098</td>\n",
       "      <td>0.943396</td>\n",
       "      <td>0.153374</td>\n",
       "      <td>50</td>\n",
       "      <td>0.289817</td>\n",
       "      <td>108</td>\n",
       "      <td>0.331288</td>\n",
       "      <td>326</td>\n",
       "    </tr>\n",
       "    <tr>\n",
       "      <th>2</th>\n",
       "      <td>0.20</td>\n",
       "      <td>0.913793</td>\n",
       "      <td>0.514706</td>\n",
       "      <td>0.253049</td>\n",
       "      <td>0.943396</td>\n",
       "      <td>0.179211</td>\n",
       "      <td>50</td>\n",
       "      <td>0.287206</td>\n",
       "      <td>107</td>\n",
       "      <td>0.383513</td>\n",
       "      <td>279</td>\n",
       "    </tr>\n",
       "    <tr>\n",
       "      <th>3</th>\n",
       "      <td>0.25</td>\n",
       "      <td>0.913793</td>\n",
       "      <td>0.500000</td>\n",
       "      <td>0.234756</td>\n",
       "      <td>0.943396</td>\n",
       "      <td>0.208333</td>\n",
       "      <td>50</td>\n",
       "      <td>0.271540</td>\n",
       "      <td>101</td>\n",
       "      <td>0.420833</td>\n",
       "      <td>240</td>\n",
       "    </tr>\n",
       "    <tr>\n",
       "      <th>4</th>\n",
       "      <td>0.30</td>\n",
       "      <td>0.896552</td>\n",
       "      <td>0.500000</td>\n",
       "      <td>0.219512</td>\n",
       "      <td>0.924528</td>\n",
       "      <td>0.236715</td>\n",
       "      <td>49</td>\n",
       "      <td>0.258486</td>\n",
       "      <td>96</td>\n",
       "      <td>0.463768</td>\n",
       "      <td>207</td>\n",
       "    </tr>\n",
       "    <tr>\n",
       "      <th>5</th>\n",
       "      <td>0.35</td>\n",
       "      <td>0.879310</td>\n",
       "      <td>0.485294</td>\n",
       "      <td>0.198171</td>\n",
       "      <td>0.905660</td>\n",
       "      <td>0.263736</td>\n",
       "      <td>48</td>\n",
       "      <td>0.234987</td>\n",
       "      <td>87</td>\n",
       "      <td>0.478022</td>\n",
       "      <td>182</td>\n",
       "    </tr>\n",
       "    <tr>\n",
       "      <th>6</th>\n",
       "      <td>0.40</td>\n",
       "      <td>0.879310</td>\n",
       "      <td>0.470588</td>\n",
       "      <td>0.189024</td>\n",
       "      <td>0.905660</td>\n",
       "      <td>0.300000</td>\n",
       "      <td>48</td>\n",
       "      <td>0.224543</td>\n",
       "      <td>83</td>\n",
       "      <td>0.518750</td>\n",
       "      <td>160</td>\n",
       "    </tr>\n",
       "    <tr>\n",
       "      <th>7</th>\n",
       "      <td>0.45</td>\n",
       "      <td>0.862069</td>\n",
       "      <td>0.426471</td>\n",
       "      <td>0.173780</td>\n",
       "      <td>0.886792</td>\n",
       "      <td>0.340580</td>\n",
       "      <td>47</td>\n",
       "      <td>0.203655</td>\n",
       "      <td>76</td>\n",
       "      <td>0.550725</td>\n",
       "      <td>138</td>\n",
       "    </tr>\n",
       "    <tr>\n",
       "      <th>8</th>\n",
       "      <td>0.50</td>\n",
       "      <td>0.810345</td>\n",
       "      <td>0.397059</td>\n",
       "      <td>0.161585</td>\n",
       "      <td>0.849057</td>\n",
       "      <td>0.401786</td>\n",
       "      <td>45</td>\n",
       "      <td>0.185379</td>\n",
       "      <td>68</td>\n",
       "      <td>0.607143</td>\n",
       "      <td>112</td>\n",
       "    </tr>\n",
       "    <tr>\n",
       "      <th>9</th>\n",
       "      <td>0.55</td>\n",
       "      <td>0.793103</td>\n",
       "      <td>0.397059</td>\n",
       "      <td>0.146341</td>\n",
       "      <td>0.830189</td>\n",
       "      <td>0.473118</td>\n",
       "      <td>44</td>\n",
       "      <td>0.172324</td>\n",
       "      <td>63</td>\n",
       "      <td>0.677419</td>\n",
       "      <td>93</td>\n",
       "    </tr>\n",
       "    <tr>\n",
       "      <th>10</th>\n",
       "      <td>0.60</td>\n",
       "      <td>0.775862</td>\n",
       "      <td>0.382353</td>\n",
       "      <td>0.125000</td>\n",
       "      <td>0.811321</td>\n",
       "      <td>0.551282</td>\n",
       "      <td>43</td>\n",
       "      <td>0.151436</td>\n",
       "      <td>57</td>\n",
       "      <td>0.730769</td>\n",
       "      <td>78</td>\n",
       "    </tr>\n",
       "    <tr>\n",
       "      <th>11</th>\n",
       "      <td>0.65</td>\n",
       "      <td>0.775862</td>\n",
       "      <td>0.382353</td>\n",
       "      <td>0.115854</td>\n",
       "      <td>0.811321</td>\n",
       "      <td>0.614286</td>\n",
       "      <td>43</td>\n",
       "      <td>0.143603</td>\n",
       "      <td>55</td>\n",
       "      <td>0.785714</td>\n",
       "      <td>70</td>\n",
       "    </tr>\n",
       "    <tr>\n",
       "      <th>12</th>\n",
       "      <td>0.70</td>\n",
       "      <td>0.724138</td>\n",
       "      <td>0.367647</td>\n",
       "      <td>0.106707</td>\n",
       "      <td>0.773585</td>\n",
       "      <td>0.683333</td>\n",
       "      <td>41</td>\n",
       "      <td>0.133159</td>\n",
       "      <td>51</td>\n",
       "      <td>0.850000</td>\n",
       "      <td>60</td>\n",
       "    </tr>\n",
       "    <tr>\n",
       "      <th>13</th>\n",
       "      <td>0.75</td>\n",
       "      <td>0.689655</td>\n",
       "      <td>0.352941</td>\n",
       "      <td>0.094512</td>\n",
       "      <td>0.735849</td>\n",
       "      <td>0.750000</td>\n",
       "      <td>39</td>\n",
       "      <td>0.120104</td>\n",
       "      <td>46</td>\n",
       "      <td>0.884615</td>\n",
       "      <td>52</td>\n",
       "    </tr>\n",
       "    <tr>\n",
       "      <th>14</th>\n",
       "      <td>0.80</td>\n",
       "      <td>0.637931</td>\n",
       "      <td>0.338235</td>\n",
       "      <td>0.082317</td>\n",
       "      <td>0.698113</td>\n",
       "      <td>0.822222</td>\n",
       "      <td>37</td>\n",
       "      <td>0.107050</td>\n",
       "      <td>40</td>\n",
       "      <td>0.888889</td>\n",
       "      <td>45</td>\n",
       "    </tr>\n",
       "    <tr>\n",
       "      <th>15</th>\n",
       "      <td>0.85</td>\n",
       "      <td>0.568966</td>\n",
       "      <td>0.323529</td>\n",
       "      <td>0.073171</td>\n",
       "      <td>0.622642</td>\n",
       "      <td>0.891892</td>\n",
       "      <td>33</td>\n",
       "      <td>0.093995</td>\n",
       "      <td>35</td>\n",
       "      <td>0.945946</td>\n",
       "      <td>37</td>\n",
       "    </tr>\n",
       "    <tr>\n",
       "      <th>16</th>\n",
       "      <td>0.90</td>\n",
       "      <td>0.431034</td>\n",
       "      <td>0.264706</td>\n",
       "      <td>0.057927</td>\n",
       "      <td>0.471698</td>\n",
       "      <td>0.961538</td>\n",
       "      <td>25</td>\n",
       "      <td>0.070496</td>\n",
       "      <td>26</td>\n",
       "      <td>1.000000</td>\n",
       "      <td>26</td>\n",
       "    </tr>\n",
       "    <tr>\n",
       "      <th>17</th>\n",
       "      <td>0.95</td>\n",
       "      <td>0.293103</td>\n",
       "      <td>0.176471</td>\n",
       "      <td>0.048780</td>\n",
       "      <td>0.320755</td>\n",
       "      <td>1.000000</td>\n",
       "      <td>17</td>\n",
       "      <td>0.044386</td>\n",
       "      <td>17</td>\n",
       "      <td>1.000000</td>\n",
       "      <td>17</td>\n",
       "    </tr>\n",
       "  </tbody>\n",
       "</table>\n",
       "</div>"
      ],
      "text/plain": [
       "    max_pred      PSZ2      MCXC       ACT   PSZ2(z)  precision_PSZ2(z)  \\\n",
       "0       0.10  0.913793  0.514706  0.292683  0.943396           0.116279   \n",
       "1       0.15  0.913793  0.514706  0.256098  0.943396           0.153374   \n",
       "2       0.20  0.913793  0.514706  0.253049  0.943396           0.179211   \n",
       "3       0.25  0.913793  0.500000  0.234756  0.943396           0.208333   \n",
       "4       0.30  0.896552  0.500000  0.219512  0.924528           0.236715   \n",
       "5       0.35  0.879310  0.485294  0.198171  0.905660           0.263736   \n",
       "6       0.40  0.879310  0.470588  0.189024  0.905660           0.300000   \n",
       "7       0.45  0.862069  0.426471  0.173780  0.886792           0.340580   \n",
       "8       0.50  0.810345  0.397059  0.161585  0.849057           0.401786   \n",
       "9       0.55  0.793103  0.397059  0.146341  0.830189           0.473118   \n",
       "10      0.60  0.775862  0.382353  0.125000  0.811321           0.551282   \n",
       "11      0.65  0.775862  0.382353  0.115854  0.811321           0.614286   \n",
       "12      0.70  0.724138  0.367647  0.106707  0.773585           0.683333   \n",
       "13      0.75  0.689655  0.352941  0.094512  0.735849           0.750000   \n",
       "14      0.80  0.637931  0.338235  0.082317  0.698113           0.822222   \n",
       "15      0.85  0.568966  0.323529  0.073171  0.622642           0.891892   \n",
       "16      0.90  0.431034  0.264706  0.057927  0.471698           0.961538   \n",
       "17      0.95  0.293103  0.176471  0.048780  0.320755           1.000000   \n",
       "\n",
       "    found_PSZ2(z)  all_true  found  precision  all  \n",
       "0              50  0.321149    120   0.279070  430  \n",
       "1              50  0.289817    108   0.331288  326  \n",
       "2              50  0.287206    107   0.383513  279  \n",
       "3              50  0.271540    101   0.420833  240  \n",
       "4              49  0.258486     96   0.463768  207  \n",
       "5              48  0.234987     87   0.478022  182  \n",
       "6              48  0.224543     83   0.518750  160  \n",
       "7              47  0.203655     76   0.550725  138  \n",
       "8              45  0.185379     68   0.607143  112  \n",
       "9              44  0.172324     63   0.677419   93  \n",
       "10             43  0.151436     57   0.730769   78  \n",
       "11             43  0.143603     55   0.785714   70  \n",
       "12             41  0.133159     51   0.850000   60  \n",
       "13             39  0.120104     46   0.884615   52  \n",
       "14             37  0.107050     40   0.888889   45  \n",
       "15             33  0.093995     35   0.945946   37  \n",
       "16             25  0.070496     26   1.000000   26  \n",
       "17             17  0.044386     17   1.000000   17  "
      ]
     },
     "execution_count": 15,
     "metadata": {},
     "output_type": "execute_result"
    }
   ],
   "source": [
    "df"
   ]
  },
  {
   "cell_type": "code",
   "execution_count": null,
   "metadata": {},
   "outputs": [],
   "source": []
  }
 ],
 "metadata": {
  "kernelspec": {
   "display_name": "Python 3",
   "language": "python",
   "name": "python3"
  },
  "language_info": {
   "codemirror_mode": {
    "name": "ipython",
    "version": 3
   },
   "file_extension": ".py",
   "mimetype": "text/x-python",
   "name": "python",
   "nbconvert_exporter": "python",
   "pygments_lexer": "ipython3",
   "version": "3.8.3"
  }
 },
 "nbformat": 4,
 "nbformat_minor": 4
}
