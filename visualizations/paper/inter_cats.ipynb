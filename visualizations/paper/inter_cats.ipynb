{
 "cells": [
  {
   "cell_type": "code",
   "execution_count": 1,
   "metadata": {
    "ExecuteTime": {
     "end_time": "2021-06-17T10:50:08.610924Z",
     "start_time": "2021-06-17T10:50:08.406805Z"
    }
   },
   "outputs": [
    {
     "name": "stderr",
     "output_type": "stream",
     "text": [
      "<frozen importlib._bootstrap>:219: RuntimeWarning: numpy.ufunc size changed, may indicate binary incompatibility. Expected 192 from C header, got 216 from PyObject\n"
     ]
    }
   ],
   "source": [
    "import pandas as pd\n",
    "import numpy as np\n",
    "from astropy.coordinates import SkyCoord\n",
    "from astropy import units as u"
   ]
  },
  {
   "cell_type": "code",
   "execution_count": 2,
   "metadata": {
    "ExecuteTime": {
     "end_time": "2021-06-17T10:50:52.318360Z",
     "start_time": "2021-06-17T10:50:51.955338Z"
    }
   },
   "outputs": [],
   "source": [
    "all_found = pd.read_csv('/home/rt2122/Data/detected_cats/full_pz_all_found34_thr0.1_step8_no_fn_mpp.csv')\n",
    "brcat = pd.read_csv('/home/rt2122/Data/SRGz/brcat_mpp.csv')"
   ]
  },
  {
   "cell_type": "code",
   "execution_count": 3,
   "metadata": {
    "ExecuteTime": {
     "end_time": "2021-06-17T10:51:38.350734Z",
     "start_time": "2021-06-17T10:51:38.329255Z"
    }
   },
   "outputs": [],
   "source": [
    "all_found_sc = SkyCoord(ra=np.array(all_found['RA'])*u.degree, dec=np.array(all_found['DEC'])*u.degree, frame='icrs')\n",
    "brcat_sc = SkyCoord(ra=np.array(brcat['RA'])*u.degree, dec=np.array(brcat['DEC'])*u.degree, frame='icrs')"
   ]
  },
  {
   "cell_type": "code",
   "execution_count": 5,
   "metadata": {
    "ExecuteTime": {
     "end_time": "2021-06-17T10:56:49.207735Z",
     "start_time": "2021-06-17T10:56:49.076435Z"
    }
   },
   "outputs": [
    {
     "name": "stdout",
     "output_type": "stream",
     "text": [
      "23352 23352\n"
     ]
    },
    {
     "name": "stderr",
     "output_type": "stream",
     "text": [
      "<ipython-input-5-f1da50c6e8f5>:8: SettingWithCopyWarning: \n",
      "A value is trying to be set on a copy of a slice from a DataFrame.\n",
      "Try using .loc[row_indexer,col_indexer] = value instead\n",
      "\n",
      "See the caveats in the documentation: https://pandas.pydata.org/pandas-docs/stable/user_guide/indexing.html#returning-a-view-versus-a-copy\n",
      "  inter['br_mpp'] = np.array(brcat['mpp'][idx[matched]])\n",
      "<ipython-input-5-f1da50c6e8f5>:9: SettingWithCopyWarning: \n",
      "A value is trying to be set on a copy of a slice from a DataFrame.\n",
      "Try using .loc[row_indexer,col_indexer] = value instead\n",
      "\n",
      "See the caveats in the documentation: https://pandas.pydata.org/pandas-docs/stable/user_guide/indexing.html#returning-a-view-versus-a-copy\n",
      "  inter['s/n'] = np.array(brcat['max_pred'][idx[matched]])\n",
      "<ipython-input-5-f1da50c6e8f5>:10: SettingWithCopyWarning: \n",
      "A value is trying to be set on a copy of a slice from a DataFrame.\n",
      "Try using .loc[row_indexer,col_indexer] = value instead\n",
      "\n",
      "See the caveats in the documentation: https://pandas.pydata.org/pandas-docs/stable/user_guide/indexing.html#returning-a-view-versus-a-copy\n",
      "  inter['brRA'] = np.array(brcat['RA'][idx[matched]])\n",
      "<ipython-input-5-f1da50c6e8f5>:11: SettingWithCopyWarning: \n",
      "A value is trying to be set on a copy of a slice from a DataFrame.\n",
      "Try using .loc[row_indexer,col_indexer] = value instead\n",
      "\n",
      "See the caveats in the documentation: https://pandas.pydata.org/pandas-docs/stable/user_guide/indexing.html#returning-a-view-versus-a-copy\n",
      "  inter['brDEC'] = np.array(brcat['DEC'][idx[matched]])\n"
     ]
    }
   ],
   "source": [
    "match_dist = 400/3600\n",
    "idx, d2d, _ = all_found_sc.match_to_catalog_sky(brcat_sc)\n",
    "matched = d2d.degree <= match_dist\n",
    "unmatched = d2d.degree > match_dist\n",
    "inter = all_found[matched]\n",
    "all_found_unique = all_found[unmatched]\n",
    "print(len(all_found), len(inter) + len(all_found_unique))\n",
    "inter['br_mpp'] = np.array(brcat['mpp'][idx[matched]])\n",
    "inter['s/n'] = np.array(brcat['max_pred'][idx[matched]])\n",
    "inter['brRA'] = np.array(brcat['RA'][idx[matched]])\n",
    "inter['brDEC'] = np.array(brcat['DEC'][idx[matched]])"
   ]
  },
  {
   "cell_type": "code",
   "execution_count": 7,
   "metadata": {
    "ExecuteTime": {
     "end_time": "2021-06-17T10:57:30.514777Z",
     "start_time": "2021-06-17T10:57:30.497159Z"
    }
   },
   "outputs": [
    {
     "data": {
      "text/html": [
       "<div>\n",
       "<style scoped>\n",
       "    .dataframe tbody tr th:only-of-type {\n",
       "        vertical-align: middle;\n",
       "    }\n",
       "\n",
       "    .dataframe tbody tr th {\n",
       "        vertical-align: top;\n",
       "    }\n",
       "\n",
       "    .dataframe thead th {\n",
       "        text-align: right;\n",
       "    }\n",
       "</style>\n",
       "<table border=\"1\" class=\"dataframe\">\n",
       "  <thead>\n",
       "    <tr style=\"text-align: right;\">\n",
       "      <th></th>\n",
       "      <th>RA</th>\n",
       "      <th>DEC</th>\n",
       "      <th>brRA</th>\n",
       "      <th>brDEC</th>\n",
       "    </tr>\n",
       "  </thead>\n",
       "  <tbody>\n",
       "    <tr>\n",
       "      <th>0</th>\n",
       "      <td>80.739063</td>\n",
       "      <td>-1.298711</td>\n",
       "      <td>80.739070</td>\n",
       "      <td>-1.298717</td>\n",
       "    </tr>\n",
       "    <tr>\n",
       "      <th>56</th>\n",
       "      <td>328.661982</td>\n",
       "      <td>2.352407</td>\n",
       "      <td>328.661989</td>\n",
       "      <td>2.352412</td>\n",
       "    </tr>\n",
       "    <tr>\n",
       "      <th>62</th>\n",
       "      <td>196.005609</td>\n",
       "      <td>-1.214049</td>\n",
       "      <td>195.983799</td>\n",
       "      <td>-1.192596</td>\n",
       "    </tr>\n",
       "    <tr>\n",
       "      <th>70</th>\n",
       "      <td>115.879791</td>\n",
       "      <td>30.712686</td>\n",
       "      <td>115.879797</td>\n",
       "      <td>30.712679</td>\n",
       "    </tr>\n",
       "    <tr>\n",
       "      <th>77</th>\n",
       "      <td>233.933453</td>\n",
       "      <td>31.871152</td>\n",
       "      <td>233.933456</td>\n",
       "      <td>31.871156</td>\n",
       "    </tr>\n",
       "  </tbody>\n",
       "</table>\n",
       "</div>"
      ],
      "text/plain": [
       "            RA        DEC        brRA      brDEC\n",
       "0    80.739063  -1.298711   80.739070  -1.298717\n",
       "56  328.661982   2.352407  328.661989   2.352412\n",
       "62  196.005609  -1.214049  195.983799  -1.192596\n",
       "70  115.879791  30.712686  115.879797  30.712679\n",
       "77  233.933453  31.871152  233.933456  31.871156"
      ]
     },
     "execution_count": 7,
     "metadata": {},
     "output_type": "execute_result"
    }
   ],
   "source": [
    "inter[['RA', 'DEC', 'brRA', 'brDEC']].head(5)"
   ]
  },
  {
   "cell_type": "code",
   "execution_count": 8,
   "metadata": {
    "ExecuteTime": {
     "end_time": "2021-06-17T10:58:16.104878Z",
     "start_time": "2021-06-17T10:58:15.566107Z"
    }
   },
   "outputs": [
    {
     "data": {
      "text/plain": [
       "(0.0, 0.7525526324925733, 0.20271626171872992)"
      ]
     },
     "execution_count": 8,
     "metadata": {},
     "output_type": "execute_result"
    }
   ],
   "source": [
    "dif = np.abs(inter['mpp'] - inter['br_mpp'])\n",
    "dif.min(), dif.max(), dif.mean()"
   ]
  },
  {
   "cell_type": "code",
   "execution_count": 9,
   "metadata": {
    "ExecuteTime": {
     "end_time": "2021-06-17T11:00:19.724659Z",
     "start_time": "2021-06-17T11:00:19.624903Z"
    }
   },
   "outputs": [
    {
     "name": "stdout",
     "output_type": "stream",
     "text": [
      "13772 13473\n"
     ]
    }
   ],
   "source": [
    "match_dist = 400/3600\n",
    "idx, d2d, _ = brcat_sc.match_to_catalog_sky(all_found_sc)\n",
    "matched = d2d.degree <= match_dist\n",
    "unmatched = d2d.degree > match_dist\n",
    "brcat_unique = brcat[unmatched]\n",
    "print(len(brcat), len(inter) + len(brcat_unique))"
   ]
  },
  {
   "cell_type": "code",
   "execution_count": 10,
   "metadata": {
    "ExecuteTime": {
     "end_time": "2021-06-17T11:02:41.254378Z",
     "start_time": "2021-06-17T11:02:40.822339Z"
    }
   },
   "outputs": [],
   "source": [
    "all_found_unique.to_csv('/home/rt2122/Data/inter_cats/all_found_unique_mpp.csv', index=False)\n",
    "brcat_unique.to_csv('/home/rt2122/Data/inter_cats/brcat_unique_mpp.csv', index=False)\n",
    "inter.to_csv('/home/rt2122/Data/inter_cats/inter_mpp.csv', index=False)"
   ]
  },
  {
   "cell_type": "code",
   "execution_count": null,
   "metadata": {},
   "outputs": [],
   "source": []
  }
 ],
 "metadata": {
  "kernelspec": {
   "display_name": "Python 3",
   "language": "python",
   "name": "python3"
  },
  "language_info": {
   "codemirror_mode": {
    "name": "ipython",
    "version": 3
   },
   "file_extension": ".py",
   "mimetype": "text/x-python",
   "name": "python",
   "nbconvert_exporter": "python",
   "pygments_lexer": "ipython3",
   "version": "3.8.3"
  }
 },
 "nbformat": 4,
 "nbformat_minor": 4
}
