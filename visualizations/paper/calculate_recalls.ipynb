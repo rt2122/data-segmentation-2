{
 "cells": [
  {
   "cell_type": "code",
   "execution_count": 1,
   "metadata": {
    "ExecuteTime": {
     "end_time": "2021-06-17T14:35:19.268959Z",
     "start_time": "2021-06-17T14:35:18.169383Z"
    }
   },
   "outputs": [],
   "source": [
    "import numpy as np\n",
    "import pandas as pd\n",
    "import os\n",
    "import healpy as hp\n",
    "from DS_data_transformation import get_prm\n",
    "%config InlineBackend.figure_format = 'retina'\n",
    "from DS_Planck_Unet import west_val, east_val\n",
    "from matplotlib import pyplot as plt\n",
    "from DS_Planck_Unet import load_planck_model, draw_pic_with_mask, draw_pic, val_pix\n",
    "from DS_healpix_fragmentation import *\n",
    "from DS_data_transformation import pic2fits, normalize\n",
    "from DS_detector import *\n",
    "import os\n",
    "from astropy.coordinates import SkyCoord\n",
    "from astropy import units as u\n",
    "from tqdm.notebook import tqdm\n",
    "from DS_data_transformation import normalize\n",
    "import seaborn as sns\n",
    "from DS_models_stat import stat_orig_cats, do_all_stats, stat_orig_cats_simple\n",
    "from DS_detector import rematch_cat\n",
    "from matplotlib.ticker import LinearLocator\n",
    "from DS_healpix_fragmentation import cut_cat_by_pix"
   ]
  },
  {
   "cell_type": "code",
   "execution_count": 2,
   "metadata": {
    "ExecuteTime": {
     "end_time": "2021-06-17T14:35:19.278200Z",
     "start_time": "2021-06-17T14:35:19.270383Z"
    }
   },
   "outputs": [],
   "source": [
    "max_pred_unite = np.arange(0.1, 1, 0.05)\n",
    "max_pred_br = np.array(pd.read_csv('./check/brcat_recall_max_pred_pix41.csv')['max_pred'])"
   ]
  },
  {
   "cell_type": "code",
   "execution_count": 3,
   "metadata": {
    "ExecuteTime": {
     "end_time": "2021-06-17T14:35:19.416706Z",
     "start_time": "2021-06-17T14:35:19.280007Z"
    }
   },
   "outputs": [],
   "source": [
    "def cut_max_pred(cat, max_pred):\n",
    "    df = cat.copy()\n",
    "    df = df[df['max_pred'] >= max_pred]\n",
    "    df.index = np.arange(len(df))\n",
    "    return df"
   ]
  },
  {
   "cell_type": "code",
   "execution_count": 4,
   "metadata": {
    "ExecuteTime": {
     "end_time": "2021-06-17T14:35:19.569872Z",
     "start_time": "2021-06-17T14:35:19.564689Z"
    }
   },
   "outputs": [],
   "source": [
    "pixels = {'41' : [41], '38' : [38], '6' : [6], 'e' : east_val, 'w' : west_val}"
   ]
  },
  {
   "cell_type": "code",
   "execution_count": 5,
   "metadata": {
    "ExecuteTime": {
     "end_time": "2021-06-17T14:35:20.121880Z",
     "start_time": "2021-06-17T14:35:20.097332Z"
    }
   },
   "outputs": [
    {
     "data": {
      "text/plain": [
       "0.2"
      ]
     },
     "execution_count": 5,
     "metadata": {},
     "output_type": "execute_result"
    }
   ],
   "source": [
    "s = '/home/rt2122/Data/gen_cats/gen_all_found_brcat_prec0.2.csv'\n",
    "def get_prec(s):\n",
    "    return float(s[s.find('prec')+4:-4])\n",
    "get_prec(s)"
   ]
  },
  {
   "cell_type": "code",
   "execution_count": 13,
   "metadata": {
    "ExecuteTime": {
     "end_time": "2021-06-17T15:36:25.638326Z",
     "start_time": "2021-06-17T15:35:53.277312Z"
    }
   },
   "outputs": [
    {
     "data": {
      "application/vnd.jupyter.widget-view+json": {
       "model_id": "6555c1d176b4432e908d3bec9e43eb64",
       "version_major": 2,
       "version_minor": 0
      },
      "text/plain": [
       "HBox(children=(FloatProgress(value=0.0, max=5.0), HTML(value='')))"
      ]
     },
     "metadata": {},
     "output_type": "display_data"
    },
    {
     "name": "stdout",
     "output_type": "stream",
     "text": [
      "\n"
     ]
    }
   ],
   "source": [
    "cats_dict = {'SZcat(base)' : '/home/rt2122/Data/detected_cats/full_pz_rot28_thr0.1_step8_no_fn.csv',\n",
    "            'SZcat(AL)' : '/home/rt2122/Data/detected_cats/full_pz_all_found34_thr0.1_step8_no_fn.csv',\n",
    "            'brcat' : '/home/rt2122/Data/SRGz/brcat.csv',\n",
    "            'gen' : '/home/rt2122/Data/gen_cats/',\n",
    "            'SZcat(AL)_unique' : '/home/rt2122/Data/inter_cats/all_found_unique.csv',\n",
    "            'inter' : '/home/rt2122/Data/inter_cats/inter.csv',\n",
    "            'inter_sn' : '/home/rt2122/Data/inter_cats/inter_sn.csv',\n",
    "            'brcat_unique': '/home/rt2122/Data/inter_cats/brcat_unique.csv'}\n",
    "for pixname in tqdm(pixels):\n",
    "    big_pix = pixels[pixname] \n",
    "    for det_name in cats_dict:\n",
    "        det_cat = None\n",
    "        cat_d = {}\n",
    "        if det_name == 'gen':\n",
    "            dirname = cats_dict[det_name]\n",
    "            files = next(os.walk(dirname))[-1]\n",
    "            cat_d = {get_prec(file) : pd.read_csv(os.path.join(dirname, file)) for file in files}\n",
    "        else:\n",
    "            det_cat = pd.read_csv(cats_dict[det_name])\n",
    "            max_pred_vals = max_pred_unite\n",
    "            if det_name in ['brcat', 'brcat_unique', 'inter_sn']:\n",
    "                max_pred_vals = max_pred_br\n",
    "            cat_d = {max_pred_prm : cut_max_pred(det_cat, max_pred_prm) for max_pred_prm in max_pred_vals}\n",
    "\n",
    "        recall_df = stat_orig_cats_simple(cat_d, big_pix=big_pix, read_det_files=False, match_dist=400/3600, \n",
    "                                         spec_precision=['PSZ2(z)', 'eROSITA'])\n",
    "        recall_df = recall_df.sort_index()\n",
    "        recall_df.index.name='max_pred'\n",
    "        if det_name in ['brcat', 'inter_sn', 'brcat_unique']:\n",
    "            recall_df.index.name='s/n'\n",
    "        if det_name in ['gen']:\n",
    "            recall_df.index.name='mpp'\n",
    "        recall_df.to_csv('./check/{}_recall_max_pred_pix{}.csv'.format(det_name, pixname))"
   ]
  },
  {
   "cell_type": "code",
   "execution_count": 15,
   "metadata": {
    "ExecuteTime": {
     "end_time": "2021-06-17T15:37:55.969354Z",
     "start_time": "2021-06-17T15:37:25.274497Z"
    }
   },
   "outputs": [
    {
     "data": {
      "application/vnd.jupyter.widget-view+json": {
       "model_id": "153b8d1dab014f8f982922fd68492da0",
       "version_major": 2,
       "version_minor": 0
      },
      "text/plain": [
       "HBox(children=(FloatProgress(value=0.0, max=5.0), HTML(value='')))"
      ]
     },
     "metadata": {},
     "output_type": "display_data"
    },
    {
     "name": "stdout",
     "output_type": "stream",
     "text": [
      "\n"
     ]
    }
   ],
   "source": [
    "cats_dict = {'SZcat(base)' : '/home/rt2122/Data/detected_cats/full_pz_rot28_thr0.1_step8_no_fn_mpp.csv',\n",
    "            'SZcat(AL)' : '/home/rt2122/Data/detected_cats/full_pz_all_found34_thr0.1_step8_no_fn_mpp.csv',\n",
    "            'brcat' : '/home/rt2122/Data/SRGz/brcat_mpp.csv',\n",
    "            'gen' : '/home/rt2122/Data/gen_cats/',\n",
    "            'SZcat(AL)_unique' : '/home/rt2122/Data/inter_cats/all_found_unique_mpp.csv',\n",
    "            'inter' : '/home/rt2122/Data/inter_cats/inter_mpp.csv',\n",
    "            'brcat_unique': '/home/rt2122/Data/inter_cats/brcat_unique_mpp.csv'}\n",
    "for pixname in tqdm(pixels):\n",
    "    big_pix = pixels[pixname] \n",
    "    for det_name in cats_dict:\n",
    "        det_cat = None\n",
    "        cat_d = {}\n",
    "        new_cat_d = {}\n",
    "        if det_name == 'gen':\n",
    "            dirname = cats_dict[det_name]\n",
    "            files = next(os.walk(dirname))[-1]\n",
    "            cat_d = {get_prec(file) : pd.read_csv(os.path.join(dirname, file)) for file in files}\n",
    "            new_cat_d = cat_d\n",
    "        else:\n",
    "            det_cat = pd.read_csv(cats_dict[det_name])\n",
    "            max_pred_vals = max_pred_unite\n",
    "            if det_name in ['brcat', 'brcat_unique', 'inter_sn']:\n",
    "                max_pred_vals = max_pred_br\n",
    "            cat_d = {max_pred_prm : cut_max_pred(det_cat, max_pred_prm) for max_pred_prm in max_pred_vals}\n",
    "            new_cat_d = {}\n",
    "            for val in cat_d:\n",
    "                df = cat_d[val]\n",
    "                new_cat_d[df['mpp'].min()] = df\n",
    "\n",
    "        recall_df = stat_orig_cats_simple(new_cat_d, big_pix=big_pix, read_det_files=False, match_dist=400/3600, \n",
    "                                         spec_precision=['PSZ2(z)', 'eROSITA'])\n",
    "        recall_df = recall_df.sort_index()\n",
    "        recall_df.index.name='mpp'\n",
    "        recall_df.to_csv('./check/mpp/{}_recall_max_pred_pix{}.csv'.format(det_name, pixname))"
   ]
  },
  {
   "cell_type": "code",
   "execution_count": 10,
   "metadata": {
    "ExecuteTime": {
     "end_time": "2021-06-17T14:37:56.133726Z",
     "start_time": "2021-06-17T14:37:56.130276Z"
    }
   },
   "outputs": [
    {
     "data": {
      "text/plain": [
       "['SZcat(base)',\n",
       " 'SZcat(AL)',\n",
       " 'brcat',\n",
       " 'gen',\n",
       " 'SZcat(AL)_unique',\n",
       " 'inter',\n",
       " 'brcat_unique']"
      ]
     },
     "execution_count": 10,
     "metadata": {},
     "output_type": "execute_result"
    }
   ],
   "source": [
    "list(cats_dict.keys())"
   ]
  },
  {
   "cell_type": "code",
   "execution_count": null,
   "metadata": {},
   "outputs": [],
   "source": []
  }
 ],
 "metadata": {
  "kernelspec": {
   "display_name": "Python 3",
   "language": "python",
   "name": "python3"
  },
  "language_info": {
   "codemirror_mode": {
    "name": "ipython",
    "version": 3
   },
   "file_extension": ".py",
   "mimetype": "text/x-python",
   "name": "python",
   "nbconvert_exporter": "python",
   "pygments_lexer": "ipython3",
   "version": "3.8.3"
  }
 },
 "nbformat": 4,
 "nbformat_minor": 4
}
