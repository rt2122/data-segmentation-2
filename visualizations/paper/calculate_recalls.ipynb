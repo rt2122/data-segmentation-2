{
 "cells": [
  {
   "cell_type": "code",
   "execution_count": 1,
   "metadata": {
    "ExecuteTime": {
     "end_time": "2021-06-21T17:04:40.677295Z",
     "start_time": "2021-06-21T17:04:25.075843Z"
    }
   },
   "outputs": [],
   "source": [
    "import numpy as np\n",
    "import pandas as pd\n",
    "import os\n",
    "import healpy as hp\n",
    "from DS_data_transformation import get_prm\n",
    "%config InlineBackend.figure_format = 'retina'\n",
    "from DS_Planck_Unet import west_val, east_val, east\n",
    "from matplotlib import pyplot as plt\n",
    "from DS_Planck_Unet import load_planck_model, draw_pic_with_mask, draw_pic, val_pix\n",
    "import os\n",
    "from tqdm.notebook import tqdm\n",
    "from DS_models_stat import stat_orig_cats, do_all_stats, stat_cat, cut_cat\n",
    "from DS_detector import rematch_cat\n",
    "from DS_healpix_fragmentation import cut_cat_by_pix"
   ]
  },
  {
   "cell_type": "code",
   "execution_count": 2,
   "metadata": {
    "ExecuteTime": {
     "end_time": "2021-06-21T17:04:40.890882Z",
     "start_time": "2021-06-21T17:04:40.680013Z"
    }
   },
   "outputs": [],
   "source": [
    "max_pred_unite = np.arange(0.1, 1, 0.05)\n",
    "max_pred_br = np.array(pd.read_csv('./check/old/brcat_recall_max_pred_pix41.csv')['s/n'])"
   ]
  },
  {
   "cell_type": "code",
   "execution_count": 3,
   "metadata": {
    "ExecuteTime": {
     "end_time": "2021-06-21T17:04:41.069869Z",
     "start_time": "2021-06-21T17:04:40.907439Z"
    }
   },
   "outputs": [],
   "source": [
    "def cut_max_pred(cat, max_pred):\n",
    "    df = cat.copy()\n",
    "    df = df[df['max_pred'] >= max_pred]\n",
    "    df.index = np.arange(len(df))\n",
    "    return df"
   ]
  },
  {
   "cell_type": "code",
   "execution_count": 4,
   "metadata": {
    "ExecuteTime": {
     "end_time": "2021-06-21T17:04:41.198060Z",
     "start_time": "2021-06-21T17:04:41.079299Z"
    }
   },
   "outputs": [],
   "source": [
    "pixels = {'41' : [41], '38' : [38], '6' : [6], 'e' : east_val, 'w' : west_val}"
   ]
  },
  {
   "cell_type": "code",
   "execution_count": 5,
   "metadata": {
    "ExecuteTime": {
     "end_time": "2021-06-21T17:04:41.309749Z",
     "start_time": "2021-06-21T17:04:41.201324Z"
    }
   },
   "outputs": [
    {
     "data": {
      "text/plain": [
       "0.2"
      ]
     },
     "execution_count": 5,
     "metadata": {},
     "output_type": "execute_result"
    }
   ],
   "source": [
    "s = '/home/rt2122/Data/gen_cats/gen_all_found_brcat_prec0.2.csv'\n",
    "def get_prec(s):\n",
    "    return float(s[s.find('prec')+4:-4])\n",
    "get_prec(s)"
   ]
  },
  {
   "cell_type": "code",
   "execution_count": 20,
   "metadata": {
    "ExecuteTime": {
     "end_time": "2021-06-21T17:17:07.303981Z",
     "start_time": "2021-06-21T17:17:07.294222Z"
    }
   },
   "outputs": [],
   "source": [
    "def get_cat_d(det_name, det_file, get_mpp_min=False):\n",
    "    cat_d = {}\n",
    "    if det_name == 'gen':\n",
    "        dirname = det_file \n",
    "        files = next(os.walk(dirname))[-1]\n",
    "        cat_d = {get_prec(file) : pd.read_csv(os.path.join(dirname, file)) for file in files}\n",
    "    else:\n",
    "        det_cat = pd.read_csv(det_file)\n",
    "        max_pred_vals = max_pred_unite\n",
    "        if det_name in ['SZcat(y-map)', 'SZcat(y-map)_unique', 'inter_sn']:\n",
    "            max_pred_vals = max_pred_br\n",
    "        cat_d = {max_pred_prm : cut_max_pred(det_cat, max_pred_prm) for max_pred_prm in max_pred_vals}\n",
    "        if get_mpp_min:\n",
    "            new_cat_d = {}\n",
    "            for val in cat_d:\n",
    "                df = cat_d[val]\n",
    "                new_cat_d[df['mpp'].min()] = df\n",
    "            cat_d = new_cat_d\n",
    "    return cat_d"
   ]
  },
  {
   "cell_type": "code",
   "execution_count": 21,
   "metadata": {
    "ExecuteTime": {
     "end_time": "2021-06-21T17:17:07.740167Z",
     "start_time": "2021-06-21T17:17:07.727675Z"
    }
   },
   "outputs": [],
   "source": [
    "def get_recalls_file(det_name, det_file, big_pix, pixname, spec_precision=['PSZ2(z)', 'eROSITA'], index_name='max_pred',\n",
    "                    dict_cut={}):\n",
    "    cat_d = get_cat_d(det_name, det_file)\n",
    "    recall_df = stat_cat(cat_d, big_pix=big_pix, read_det_files=False, match_dist=400/3600, \n",
    "                                     spec_precision=spec_precision, dict_cut=dict_cut)\n",
    "    recall_df = recall_df.sort_index()\n",
    "    recall_df.index.name = index_name\n",
    "    filename = './check/{}_recall_{}_pix{}.csv'.format(det_name, index_name.replace('/', ''), pixname)\n",
    "    recall_df.to_csv(filename)"
   ]
  },
  {
   "cell_type": "code",
   "execution_count": 19,
   "metadata": {
    "ExecuteTime": {
     "end_time": "2021-06-21T17:16:46.757102Z",
     "start_time": "2021-06-21T17:16:46.748725Z"
    }
   },
   "outputs": [],
   "source": [
    "cats_dict_max = {\n",
    "            'SZcat(base)' : '/home/rt2122/Data/detected_cats/full_pz_rot28_thr0.1_step8_no_fn.csv',\n",
    "            'SZcat(AL)' : '/home/rt2122/Data/detected_cats/full_pz_all_found34_thr0.1_step8_no_fn.csv',\n",
    "            'SZcat(AL)_unique' : '/home/rt2122/Data/inter_cats/all_found_unique.csv',\n",
    "            'inter' : '/home/rt2122/Data/inter_cats/inter.csv',\n",
    "}\n",
    "cats_dict_sn = {\n",
    "            'SZcat(y-map)' : '/home/rt2122/Data/SRGz/brcat.csv',\n",
    "            'inter_sn' : '/home/rt2122/Data/inter_cats/inter_sn.csv',\n",
    "            'SZcat(y-map)_unique': '/home/rt2122/Data/inter_cats/brcat_unique.csv'\n",
    "}\n",
    "cats_dict_mpp = {\n",
    "            'SZcat(base)' : '/home/rt2122/Data/detected_cats/full_pz_rot28_thr0.1_step8_no_fn_mpp.csv',\n",
    "            'SZcat(AL)' : '/home/rt2122/Data/detected_cats/full_pz_all_found34_thr0.1_step8_no_fn_mpp.csv',\n",
    "            'SZcat(y-map)' : '/home/rt2122/Data/SRGz/brcat_mpp.csv',\n",
    "    \n",
    "            'gen' : '/home/rt2122/Data/gen_cats/',\n",
    "    \n",
    "            'SZcat(AL)_unique' : '/home/rt2122/Data/inter_cats/all_found_unique_mpp.csv',\n",
    "            'inter' : '/home/rt2122/Data/inter_cats/inter_mpp.csv',\n",
    "            'SZcat(y-map)_unique': '/home/rt2122/Data/inter_cats/brcat_unique_mpp.csv'\n",
    "}"
   ]
  },
  {
   "cell_type": "code",
   "execution_count": 22,
   "metadata": {
    "ExecuteTime": {
     "end_time": "2021-06-21T17:22:43.542917Z",
     "start_time": "2021-06-21T17:21:05.398028Z"
    }
   },
   "outputs": [
    {
     "data": {
      "application/vnd.jupyter.widget-view+json": {
       "model_id": "1ae150c01d884e25ab32919349344840",
       "version_major": 2,
       "version_minor": 0
      },
      "text/plain": [
       "HBox(children=(FloatProgress(value=0.0, max=4.0), HTML(value='')))"
      ]
     },
     "metadata": {},
     "output_type": "display_data"
    },
    {
     "name": "stdout",
     "output_type": "stream",
     "text": [
      "\n"
     ]
    },
    {
     "data": {
      "application/vnd.jupyter.widget-view+json": {
       "model_id": "96b34c71e91943a6811cd5d8e7d00385",
       "version_major": 2,
       "version_minor": 0
      },
      "text/plain": [
       "HBox(children=(FloatProgress(value=0.0, max=3.0), HTML(value='')))"
      ]
     },
     "metadata": {},
     "output_type": "display_data"
    },
    {
     "name": "stderr",
     "output_type": "stream",
     "text": [
      "/home/rt2122/L/git/data-segmentation-2/modules/DS_models_stat.py:169: SettingWithCopyWarning: \n",
      "A value is trying to be set on a copy of a slice from a DataFrame.\n",
      "Try using .loc[row_indexer,col_indexer] = value instead\n",
      "\n",
      "See the caveats in the documentation: https://pandas.pydata.org/pandas-docs/stable/user_guide/indexing.html#returning-a-view-versus-a-copy\n",
      "  det_cat['found'] = False\n",
      "/home/rt2122/L/git/data-segmentation-2/modules/DS_models_stat.py:171: SettingWithCopyWarning: \n",
      "A value is trying to be set on a copy of a slice from a DataFrame.\n",
      "Try using .loc[row_indexer,col_indexer] = value instead\n",
      "\n",
      "See the caveats in the documentation: https://pandas.pydata.org/pandas-docs/stable/user_guide/indexing.html#returning-a-view-versus-a-copy\n",
      "  det_cat['found_' + cat] = False\n",
      "/home/rt2122/anaconda3/lib/python3.8/site-packages/pandas/core/indexing.py:966: SettingWithCopyWarning: \n",
      "A value is trying to be set on a copy of a slice from a DataFrame.\n",
      "Try using .loc[row_indexer,col_indexer] = value instead\n",
      "\n",
      "See the caveats in the documentation: https://pandas.pydata.org/pandas-docs/stable/user_guide/indexing.html#returning-a-view-versus-a-copy\n",
      "  self.obj[item] = s\n"
     ]
    },
    {
     "name": "stdout",
     "output_type": "stream",
     "text": [
      "\n"
     ]
    },
    {
     "data": {
      "application/vnd.jupyter.widget-view+json": {
       "model_id": "53b17dfd5869417eb9666e85340c597b",
       "version_major": 2,
       "version_minor": 0
      },
      "text/plain": [
       "HBox(children=(FloatProgress(value=0.0, max=7.0), HTML(value='')))"
      ]
     },
     "metadata": {},
     "output_type": "display_data"
    },
    {
     "name": "stdout",
     "output_type": "stream",
     "text": [
      "\n"
     ]
    }
   ],
   "source": [
    "name = 'SZcat(AL)'\n",
    "dict_by_index = zip([cats_dict_max, cats_dict_sn, cats_dict_mpp], ['max_pred', 's/n', 'mpp'])\n",
    "for dict_cur, index_name in dict_by_index:\n",
    "    for name in tqdm(dict_cur):\n",
    "        get_recalls_file(name, dict_cur[name], list(range(48)), pixname='eb20',\n",
    "                                   dict_cut={'b' : [20, np.inf], 'l' : [0, 180]})\n",
    "        for pixname in pixels:\n",
    "            get_recalls_file(name, dict_cur[name], big_pix=pixels[pixname], pixname=pixname, dict_cut={})"
   ]
  },
  {
   "cell_type": "code",
   "execution_count": 24,
   "metadata": {
    "ExecuteTime": {
     "end_time": "2021-06-21T09:11:51.519012Z",
     "start_time": "2021-06-21T09:11:05.748250Z"
    }
   },
   "outputs": [
    {
     "data": {
      "application/vnd.jupyter.widget-view+json": {
       "model_id": "5ef5f316fb5c47a08de67e2f89e1fd09",
       "version_major": 2,
       "version_minor": 0
      },
      "text/plain": [
       "HBox(children=(FloatProgress(value=0.0, max=5.0), HTML(value='')))"
      ]
     },
     "metadata": {},
     "output_type": "display_data"
    },
    {
     "name": "stdout",
     "output_type": "stream",
     "text": [
      "SZcat(base) [0.1  0.15 0.2  0.25 0.3  0.35 0.4  0.45 0.5  0.55 0.6  0.65 0.7  0.75\n",
      " 0.8  0.85 0.9  0.95]\n",
      "./check/SZcat(base)_recall_max_pred_pix41.csv\n",
      "SZcat(AL) [0.1  0.15 0.2  0.25 0.3  0.35 0.4  0.45 0.5  0.55 0.6  0.65 0.7  0.75\n",
      " 0.8  0.85 0.9  0.95]\n",
      "./check/SZcat(AL)_recall_max_pred_pix41.csv\n",
      "SZcat(y-map) [ 5.05335105  5.1069375   5.1630591   5.223298    5.29437     5.3639328\n",
      "  5.43414885  5.5157134   5.60974235  5.711204    5.8320221   5.9664762\n",
      "  6.12062285  6.2958075   6.52273275  6.826352    7.2506403   8.0152959\n",
      " 10.0664315 ]\n"
     ]
    },
    {
     "name": "stderr",
     "output_type": "stream",
     "text": [
      "/home/rt2122/L/git/data-segmentation-2/modules/DS_models_stat.py:169: SettingWithCopyWarning: \n",
      "A value is trying to be set on a copy of a slice from a DataFrame.\n",
      "Try using .loc[row_indexer,col_indexer] = value instead\n",
      "\n",
      "See the caveats in the documentation: https://pandas.pydata.org/pandas-docs/stable/user_guide/indexing.html#returning-a-view-versus-a-copy\n",
      "  det_cat['found'] = False\n",
      "/home/rt2122/L/git/data-segmentation-2/modules/DS_models_stat.py:171: SettingWithCopyWarning: \n",
      "A value is trying to be set on a copy of a slice from a DataFrame.\n",
      "Try using .loc[row_indexer,col_indexer] = value instead\n",
      "\n",
      "See the caveats in the documentation: https://pandas.pydata.org/pandas-docs/stable/user_guide/indexing.html#returning-a-view-versus-a-copy\n",
      "  det_cat['found_' + cat] = False\n",
      "/home/rt2122/anaconda3/lib/python3.8/site-packages/pandas/core/indexing.py:966: SettingWithCopyWarning: \n",
      "A value is trying to be set on a copy of a slice from a DataFrame.\n",
      "Try using .loc[row_indexer,col_indexer] = value instead\n",
      "\n",
      "See the caveats in the documentation: https://pandas.pydata.org/pandas-docs/stable/user_guide/indexing.html#returning-a-view-versus-a-copy\n",
      "  self.obj[item] = s\n"
     ]
    },
    {
     "name": "stdout",
     "output_type": "stream",
     "text": [
      "./check/SZcat(y-map)_recall_sn_pix41.csv\n",
      "./check/gen_recall_mpp_pix41.csv\n",
      "SZcat(AL)_unique [0.1  0.15 0.2  0.25 0.3  0.35 0.4  0.45 0.5  0.55 0.6  0.65 0.7  0.75\n",
      " 0.8  0.85 0.9  0.95]\n",
      "./check/SZcat(AL)_unique_recall_max_pred_pix41.csv\n",
      "inter [0.1  0.15 0.2  0.25 0.3  0.35 0.4  0.45 0.5  0.55 0.6  0.65 0.7  0.75\n",
      " 0.8  0.85 0.9  0.95]\n",
      "./check/inter_recall_max_pred_pix41.csv\n",
      "inter_sn [ 5.05335105  5.1069375   5.1630591   5.223298    5.29437     5.3639328\n",
      "  5.43414885  5.5157134   5.60974235  5.711204    5.8320221   5.9664762\n",
      "  6.12062285  6.2958075   6.52273275  6.826352    7.2506403   8.0152959\n",
      " 10.0664315 ]\n",
      "./check/inter_sn_recall_sn_pix41.csv\n",
      "SZcat(y-map)_unique [ 5.05335105  5.1069375   5.1630591   5.223298    5.29437     5.3639328\n",
      "  5.43414885  5.5157134   5.60974235  5.711204    5.8320221   5.9664762\n",
      "  6.12062285  6.2958075   6.52273275  6.826352    7.2506403   8.0152959\n",
      " 10.0664315 ]\n",
      "./check/SZcat(y-map)_unique_recall_sn_pix41.csv\n",
      "SZcat(base) [0.1  0.15 0.2  0.25 0.3  0.35 0.4  0.45 0.5  0.55 0.6  0.65 0.7  0.75\n",
      " 0.8  0.85 0.9  0.95]\n",
      "./check/SZcat(base)_recall_max_pred_pix38.csv\n",
      "SZcat(AL) [0.1  0.15 0.2  0.25 0.3  0.35 0.4  0.45 0.5  0.55 0.6  0.65 0.7  0.75\n",
      " 0.8  0.85 0.9  0.95]\n",
      "./check/SZcat(AL)_recall_max_pred_pix38.csv\n",
      "SZcat(y-map) [ 5.05335105  5.1069375   5.1630591   5.223298    5.29437     5.3639328\n",
      "  5.43414885  5.5157134   5.60974235  5.711204    5.8320221   5.9664762\n",
      "  6.12062285  6.2958075   6.52273275  6.826352    7.2506403   8.0152959\n",
      " 10.0664315 ]\n",
      "./check/SZcat(y-map)_recall_sn_pix38.csv\n",
      "./check/gen_recall_mpp_pix38.csv\n",
      "SZcat(AL)_unique [0.1  0.15 0.2  0.25 0.3  0.35 0.4  0.45 0.5  0.55 0.6  0.65 0.7  0.75\n",
      " 0.8  0.85 0.9  0.95]\n",
      "./check/SZcat(AL)_unique_recall_max_pred_pix38.csv\n",
      "inter [0.1  0.15 0.2  0.25 0.3  0.35 0.4  0.45 0.5  0.55 0.6  0.65 0.7  0.75\n",
      " 0.8  0.85 0.9  0.95]\n",
      "./check/inter_recall_max_pred_pix38.csv\n",
      "inter_sn [ 5.05335105  5.1069375   5.1630591   5.223298    5.29437     5.3639328\n",
      "  5.43414885  5.5157134   5.60974235  5.711204    5.8320221   5.9664762\n",
      "  6.12062285  6.2958075   6.52273275  6.826352    7.2506403   8.0152959\n",
      " 10.0664315 ]\n",
      "./check/inter_sn_recall_sn_pix38.csv\n",
      "SZcat(y-map)_unique [ 5.05335105  5.1069375   5.1630591   5.223298    5.29437     5.3639328\n",
      "  5.43414885  5.5157134   5.60974235  5.711204    5.8320221   5.9664762\n",
      "  6.12062285  6.2958075   6.52273275  6.826352    7.2506403   8.0152959\n",
      " 10.0664315 ]\n",
      "./check/SZcat(y-map)_unique_recall_sn_pix38.csv\n",
      "SZcat(base) [0.1  0.15 0.2  0.25 0.3  0.35 0.4  0.45 0.5  0.55 0.6  0.65 0.7  0.75\n",
      " 0.8  0.85 0.9  0.95]\n",
      "./check/SZcat(base)_recall_max_pred_pix6.csv\n",
      "SZcat(AL) [0.1  0.15 0.2  0.25 0.3  0.35 0.4  0.45 0.5  0.55 0.6  0.65 0.7  0.75\n",
      " 0.8  0.85 0.9  0.95]\n",
      "./check/SZcat(AL)_recall_max_pred_pix6.csv\n",
      "SZcat(y-map) [ 5.05335105  5.1069375   5.1630591   5.223298    5.29437     5.3639328\n",
      "  5.43414885  5.5157134   5.60974235  5.711204    5.8320221   5.9664762\n",
      "  6.12062285  6.2958075   6.52273275  6.826352    7.2506403   8.0152959\n",
      " 10.0664315 ]\n",
      "./check/SZcat(y-map)_recall_sn_pix6.csv\n",
      "./check/gen_recall_mpp_pix6.csv\n",
      "SZcat(AL)_unique [0.1  0.15 0.2  0.25 0.3  0.35 0.4  0.45 0.5  0.55 0.6  0.65 0.7  0.75\n",
      " 0.8  0.85 0.9  0.95]\n",
      "./check/SZcat(AL)_unique_recall_max_pred_pix6.csv\n",
      "inter [0.1  0.15 0.2  0.25 0.3  0.35 0.4  0.45 0.5  0.55 0.6  0.65 0.7  0.75\n",
      " 0.8  0.85 0.9  0.95]\n",
      "./check/inter_recall_max_pred_pix6.csv\n",
      "inter_sn [ 5.05335105  5.1069375   5.1630591   5.223298    5.29437     5.3639328\n",
      "  5.43414885  5.5157134   5.60974235  5.711204    5.8320221   5.9664762\n",
      "  6.12062285  6.2958075   6.52273275  6.826352    7.2506403   8.0152959\n",
      " 10.0664315 ]\n",
      "./check/inter_sn_recall_sn_pix6.csv\n",
      "SZcat(y-map)_unique [ 5.05335105  5.1069375   5.1630591   5.223298    5.29437     5.3639328\n",
      "  5.43414885  5.5157134   5.60974235  5.711204    5.8320221   5.9664762\n",
      "  6.12062285  6.2958075   6.52273275  6.826352    7.2506403   8.0152959\n",
      " 10.0664315 ]\n",
      "./check/SZcat(y-map)_unique_recall_sn_pix6.csv\n",
      "SZcat(base) [0.1  0.15 0.2  0.25 0.3  0.35 0.4  0.45 0.5  0.55 0.6  0.65 0.7  0.75\n",
      " 0.8  0.85 0.9  0.95]\n",
      "./check/SZcat(base)_recall_max_pred_pixe.csv\n",
      "SZcat(AL) [0.1  0.15 0.2  0.25 0.3  0.35 0.4  0.45 0.5  0.55 0.6  0.65 0.7  0.75\n",
      " 0.8  0.85 0.9  0.95]\n",
      "./check/SZcat(AL)_recall_max_pred_pixe.csv\n",
      "SZcat(y-map) [ 5.05335105  5.1069375   5.1630591   5.223298    5.29437     5.3639328\n",
      "  5.43414885  5.5157134   5.60974235  5.711204    5.8320221   5.9664762\n",
      "  6.12062285  6.2958075   6.52273275  6.826352    7.2506403   8.0152959\n",
      " 10.0664315 ]\n",
      "./check/SZcat(y-map)_recall_sn_pixe.csv\n",
      "./check/gen_recall_mpp_pixe.csv\n",
      "SZcat(AL)_unique [0.1  0.15 0.2  0.25 0.3  0.35 0.4  0.45 0.5  0.55 0.6  0.65 0.7  0.75\n",
      " 0.8  0.85 0.9  0.95]\n",
      "./check/SZcat(AL)_unique_recall_max_pred_pixe.csv\n",
      "inter [0.1  0.15 0.2  0.25 0.3  0.35 0.4  0.45 0.5  0.55 0.6  0.65 0.7  0.75\n",
      " 0.8  0.85 0.9  0.95]\n",
      "./check/inter_recall_max_pred_pixe.csv\n",
      "inter_sn [ 5.05335105  5.1069375   5.1630591   5.223298    5.29437     5.3639328\n",
      "  5.43414885  5.5157134   5.60974235  5.711204    5.8320221   5.9664762\n",
      "  6.12062285  6.2958075   6.52273275  6.826352    7.2506403   8.0152959\n",
      " 10.0664315 ]\n",
      "./check/inter_sn_recall_sn_pixe.csv\n",
      "SZcat(y-map)_unique [ 5.05335105  5.1069375   5.1630591   5.223298    5.29437     5.3639328\n",
      "  5.43414885  5.5157134   5.60974235  5.711204    5.8320221   5.9664762\n",
      "  6.12062285  6.2958075   6.52273275  6.826352    7.2506403   8.0152959\n",
      " 10.0664315 ]\n",
      "./check/SZcat(y-map)_unique_recall_sn_pixe.csv\n",
      "SZcat(base) [0.1  0.15 0.2  0.25 0.3  0.35 0.4  0.45 0.5  0.55 0.6  0.65 0.7  0.75\n",
      " 0.8  0.85 0.9  0.95]\n",
      "./check/SZcat(base)_recall_max_pred_pixw.csv\n",
      "SZcat(AL) [0.1  0.15 0.2  0.25 0.3  0.35 0.4  0.45 0.5  0.55 0.6  0.65 0.7  0.75\n",
      " 0.8  0.85 0.9  0.95]\n",
      "./check/SZcat(AL)_recall_max_pred_pixw.csv\n",
      "SZcat(y-map) [ 5.05335105  5.1069375   5.1630591   5.223298    5.29437     5.3639328\n",
      "  5.43414885  5.5157134   5.60974235  5.711204    5.8320221   5.9664762\n",
      "  6.12062285  6.2958075   6.52273275  6.826352    7.2506403   8.0152959\n",
      " 10.0664315 ]\n",
      "./check/SZcat(y-map)_recall_sn_pixw.csv\n",
      "./check/gen_recall_mpp_pixw.csv\n",
      "SZcat(AL)_unique [0.1  0.15 0.2  0.25 0.3  0.35 0.4  0.45 0.5  0.55 0.6  0.65 0.7  0.75\n",
      " 0.8  0.85 0.9  0.95]\n",
      "./check/SZcat(AL)_unique_recall_max_pred_pixw.csv\n",
      "inter [0.1  0.15 0.2  0.25 0.3  0.35 0.4  0.45 0.5  0.55 0.6  0.65 0.7  0.75\n",
      " 0.8  0.85 0.9  0.95]\n",
      "./check/inter_recall_max_pred_pixw.csv\n",
      "inter_sn [ 5.05335105  5.1069375   5.1630591   5.223298    5.29437     5.3639328\n",
      "  5.43414885  5.5157134   5.60974235  5.711204    5.8320221   5.9664762\n",
      "  6.12062285  6.2958075   6.52273275  6.826352    7.2506403   8.0152959\n",
      " 10.0664315 ]\n",
      "./check/inter_sn_recall_sn_pixw.csv\n",
      "SZcat(y-map)_unique [ 5.05335105  5.1069375   5.1630591   5.223298    5.29437     5.3639328\n",
      "  5.43414885  5.5157134   5.60974235  5.711204    5.8320221   5.9664762\n",
      "  6.12062285  6.2958075   6.52273275  6.826352    7.2506403   8.0152959\n",
      " 10.0664315 ]\n",
      "./check/SZcat(y-map)_unique_recall_sn_pixw.csv\n",
      "\n"
     ]
    }
   ],
   "source": [
    "cats_dict = {'SZcat(base)' : '/home/rt2122/Data/detected_cats/full_pz_rot28_thr0.1_step8_no_fn.csv',\n",
    "            'SZcat(AL)' : '/home/rt2122/Data/detected_cats/full_pz_all_found34_thr0.1_step8_no_fn.csv',\n",
    "            'SZcat(y-map)' : '/home/rt2122/Data/SRGz/brcat.csv',\n",
    "            'gen' : '/home/rt2122/Data/gen_cats/',\n",
    "            'SZcat(AL)_unique' : '/home/rt2122/Data/inter_cats/all_found_unique.csv',\n",
    "            'inter' : '/home/rt2122/Data/inter_cats/inter.csv',\n",
    "            'inter_sn' : '/home/rt2122/Data/inter_cats/inter_sn.csv',\n",
    "            'SZcat(y-map)_unique': '/home/rt2122/Data/inter_cats/brcat_unique.csv'}\n",
    "for pixname in tqdm(pixels):\n",
    "    big_pix = pixels[pixname] \n",
    "    for det_name in cats_dict:\n",
    "        det_cat = None\n",
    "        cat_d = get_cat_d(det_name, cats_dict[det_name])\n",
    "\n",
    "        recall_df = stat_cat(cat_d, big_pix=big_pix, read_det_files=False, match_dist=400/3600, \n",
    "                                         spec_precision=['PSZ2(z)', 'eROSITA'])\n",
    "        recall_df = recall_df.sort_index()\n",
    "        recall_df.index.name='max_pred'\n",
    "        if det_name in ['SZcat(y-map)', 'inter_sn', 'SZcat(y-map)_unique']:\n",
    "            recall_df.index.name='s/n'\n",
    "        if det_name in ['gen']:\n",
    "            recall_df.index.name='mpp'\n",
    "        filename = './check/{}_recall_{}_pix{}.csv'.format(det_name, str(recall_df.index.name).replace('/', ''), pixname)\n",
    "        recall_df.to_csv(filename)\n",
    "        print(filename)"
   ]
  },
  {
   "cell_type": "code",
   "execution_count": 31,
   "metadata": {
    "ExecuteTime": {
     "end_time": "2021-06-21T09:17:35.757815Z",
     "start_time": "2021-06-21T09:17:11.373730Z"
    }
   },
   "outputs": [
    {
     "data": {
      "application/vnd.jupyter.widget-view+json": {
       "model_id": "c34f988ba6aa4a1ba034ec065faca36c",
       "version_major": 2,
       "version_minor": 0
      },
      "text/plain": [
       "HBox(children=(FloatProgress(value=0.0, max=8.0), HTML(value='')))"
      ]
     },
     "metadata": {},
     "output_type": "display_data"
    },
    {
     "name": "stdout",
     "output_type": "stream",
     "text": [
      "SZcat(base) [0.1  0.15 0.2  0.25 0.3  0.35 0.4  0.45 0.5  0.55 0.6  0.65 0.7  0.75\n",
      " 0.8  0.85 0.9  0.95]\n",
      "./check/SZcat(base)_recall_max_pred_pixeb20.csv\n",
      "Float64Index([                0.1, 0.15000000000000002, 0.20000000000000004,\n",
      "              0.25000000000000006, 0.30000000000000004,  0.3500000000000001,\n",
      "              0.40000000000000013, 0.45000000000000007,  0.5000000000000001,\n",
      "               0.5500000000000002,  0.6000000000000002,  0.6500000000000001,\n",
      "               0.7000000000000002,  0.7500000000000002,  0.8000000000000002,\n",
      "               0.8500000000000002,  0.9000000000000002,  0.9500000000000003],\n",
      "             dtype='float64', name='max_pred')\n",
      "SZcat(AL) [0.1  0.15 0.2  0.25 0.3  0.35 0.4  0.45 0.5  0.55 0.6  0.65 0.7  0.75\n",
      " 0.8  0.85 0.9  0.95]\n",
      "./check/SZcat(AL)_recall_max_pred_pixeb20.csv\n",
      "Float64Index([                0.1, 0.15000000000000002, 0.20000000000000004,\n",
      "              0.25000000000000006, 0.30000000000000004,  0.3500000000000001,\n",
      "              0.40000000000000013, 0.45000000000000007,  0.5000000000000001,\n",
      "               0.5500000000000002,  0.6000000000000002,  0.6500000000000001,\n",
      "               0.7000000000000002,  0.7500000000000002,  0.8000000000000002,\n",
      "               0.8500000000000002,  0.9000000000000002,  0.9500000000000003],\n",
      "             dtype='float64', name='max_pred')\n",
      "SZcat(y-map) [ 5.05335105  5.1069375   5.1630591   5.223298    5.29437     5.3639328\n",
      "  5.43414885  5.5157134   5.60974235  5.711204    5.8320221   5.9664762\n",
      "  6.12062285  6.2958075   6.52273275  6.826352    7.2506403   8.0152959\n",
      " 10.0664315 ]\n",
      "./check/SZcat(y-map)_recall_sn_pixeb20.csv\n",
      "Float64Index([        5.05335105,  5.106937500000001,  5.163059099999999,\n",
      "              5.2232980000000016,            5.29437,          5.3639328,\n",
      "                      5.43414885,  5.515713400000001,  5.609742350000001,\n",
      "                        5.711204,  5.832022100000001,  5.966476200000002,\n",
      "                      6.12062285,          6.2958075,         6.52273275,\n",
      "               6.826352000000003, 7.2506403000000015,  8.015295900000002,\n",
      "              10.066431499999998],\n",
      "             dtype='float64', name='s/n')\n",
      "./check/gen_recall_mpp_pixeb20.csv\n",
      "Float64Index([0.1, 0.2, 0.3, 0.4, 0.5, 0.6, 0.7, 0.8, 0.9, 0.95, 1.0], dtype='float64', name='mpp')\n",
      "SZcat(AL)_unique [0.1  0.15 0.2  0.25 0.3  0.35 0.4  0.45 0.5  0.55 0.6  0.65 0.7  0.75\n",
      " 0.8  0.85 0.9  0.95]\n",
      "./check/SZcat(AL)_unique_recall_max_pred_pixeb20.csv\n",
      "Float64Index([                0.1, 0.15000000000000002, 0.20000000000000004,\n",
      "              0.25000000000000006, 0.30000000000000004,  0.3500000000000001,\n",
      "              0.40000000000000013, 0.45000000000000007,  0.5000000000000001,\n",
      "               0.5500000000000002,  0.6000000000000002,  0.6500000000000001,\n",
      "               0.7000000000000002,  0.7500000000000002,  0.8000000000000002,\n",
      "               0.8500000000000002,  0.9000000000000002,  0.9500000000000003],\n",
      "             dtype='float64', name='max_pred')\n",
      "inter [0.1  0.15 0.2  0.25 0.3  0.35 0.4  0.45 0.5  0.55 0.6  0.65 0.7  0.75\n",
      " 0.8  0.85 0.9  0.95]\n",
      "./check/inter_recall_max_pred_pixeb20.csv\n",
      "Float64Index([                0.1, 0.15000000000000002, 0.20000000000000004,\n",
      "              0.25000000000000006, 0.30000000000000004,  0.3500000000000001,\n",
      "              0.40000000000000013, 0.45000000000000007,  0.5000000000000001,\n",
      "               0.5500000000000002,  0.6000000000000002,  0.6500000000000001,\n",
      "               0.7000000000000002,  0.7500000000000002,  0.8000000000000002,\n",
      "               0.8500000000000002,  0.9000000000000002,  0.9500000000000003],\n",
      "             dtype='float64', name='max_pred')\n",
      "inter_sn [ 5.05335105  5.1069375   5.1630591   5.223298    5.29437     5.3639328\n",
      "  5.43414885  5.5157134   5.60974235  5.711204    5.8320221   5.9664762\n",
      "  6.12062285  6.2958075   6.52273275  6.826352    7.2506403   8.0152959\n",
      " 10.0664315 ]\n",
      "./check/inter_sn_recall_sn_pixeb20.csv\n",
      "Float64Index([        5.05335105,  5.106937500000001,  5.163059099999999,\n",
      "              5.2232980000000016,            5.29437,          5.3639328,\n",
      "                      5.43414885,  5.515713400000001,  5.609742350000001,\n",
      "                        5.711204,  5.832022100000001,  5.966476200000002,\n",
      "                      6.12062285,          6.2958075,         6.52273275,\n",
      "               6.826352000000003, 7.2506403000000015,  8.015295900000002,\n",
      "              10.066431499999998],\n",
      "             dtype='float64', name='s/n')\n",
      "SZcat(y-map)_unique [ 5.05335105  5.1069375   5.1630591   5.223298    5.29437     5.3639328\n",
      "  5.43414885  5.5157134   5.60974235  5.711204    5.8320221   5.9664762\n",
      "  6.12062285  6.2958075   6.52273275  6.826352    7.2506403   8.0152959\n",
      " 10.0664315 ]\n",
      "./check/SZcat(y-map)_unique_recall_sn_pixeb20.csv\n",
      "Float64Index([        5.05335105,  5.106937500000001,  5.163059099999999,\n",
      "              5.2232980000000016,            5.29437,          5.3639328,\n",
      "                      5.43414885,  5.515713400000001,  5.609742350000001,\n",
      "                        5.711204,  5.832022100000001,  5.966476200000002,\n",
      "                      6.12062285,          6.2958075,         6.52273275,\n",
      "               6.826352000000003, 7.2506403000000015,  8.015295900000002,\n",
      "              10.066431499999998],\n",
      "             dtype='float64', name='s/n')\n",
      "\n"
     ]
    },
    {
     "data": {
      "application/vnd.jupyter.widget-view+json": {
       "model_id": "637ecf6054b34ac692e2448f78567dc9",
       "version_major": 2,
       "version_minor": 0
      },
      "text/plain": [
       "HBox(children=(FloatProgress(value=0.0, max=7.0), HTML(value='')))"
      ]
     },
     "metadata": {},
     "output_type": "display_data"
    },
    {
     "name": "stdout",
     "output_type": "stream",
     "text": [
      "SZcat(base) [0.1  0.15 0.2  0.25 0.3  0.35 0.4  0.45 0.5  0.55 0.6  0.65 0.7  0.75\n",
      " 0.8  0.85 0.9  0.95]\n",
      "./check/SZcat(base)_recall_max_pred_pixeb20.csv\n",
      "SZcat(AL) [0.1  0.15 0.2  0.25 0.3  0.35 0.4  0.45 0.5  0.55 0.6  0.65 0.7  0.75\n",
      " 0.8  0.85 0.9  0.95]\n",
      "./check/SZcat(AL)_recall_max_pred_pixeb20.csv\n",
      "SZcat(y-map) [ 5.05335105  5.1069375   5.1630591   5.223298    5.29437     5.3639328\n",
      "  5.43414885  5.5157134   5.60974235  5.711204    5.8320221   5.9664762\n",
      "  6.12062285  6.2958075   6.52273275  6.826352    7.2506403   8.0152959\n",
      " 10.0664315 ]\n",
      "./check/SZcat(y-map)_recall_sn_pixeb20.csv\n",
      "./check/gen_recall_mpp_pixeb20.csv\n",
      "SZcat(AL)_unique [0.1  0.15 0.2  0.25 0.3  0.35 0.4  0.45 0.5  0.55 0.6  0.65 0.7  0.75\n",
      " 0.8  0.85 0.9  0.95]\n",
      "./check/SZcat(AL)_unique_recall_max_pred_pixeb20.csv\n",
      "inter [0.1  0.15 0.2  0.25 0.3  0.35 0.4  0.45 0.5  0.55 0.6  0.65 0.7  0.75\n",
      " 0.8  0.85 0.9  0.95]\n",
      "./check/inter_recall_max_pred_pixeb20.csv\n",
      "SZcat(y-map)_unique [ 5.05335105  5.1069375   5.1630591   5.223298    5.29437     5.3639328\n",
      "  5.43414885  5.5157134   5.60974235  5.711204    5.8320221   5.9664762\n",
      "  6.12062285  6.2958075   6.52273275  6.826352    7.2506403   8.0152959\n",
      " 10.0664315 ]\n",
      "./check/SZcat(y-map)_unique_recall_sn_pixeb20.csv\n",
      "\n"
     ]
    }
   ],
   "source": [
    "big_pix = list(range(48))\n",
    "pixname='eb20'\n",
    "cats_dict = {'SZcat(base)' : '/home/rt2122/Data/detected_cats/full_pz_rot28_thr0.1_step8_no_fn.csv',\n",
    "            'SZcat(AL)' : '/home/rt2122/Data/detected_cats/full_pz_all_found34_thr0.1_step8_no_fn.csv',\n",
    "            'SZcat(y-map)' : '/home/rt2122/Data/SRGz/brcat.csv',\n",
    "            'gen' : '/home/rt2122/Data/gen_cats/',\n",
    "            'SZcat(AL)_unique' : '/home/rt2122/Data/inter_cats/all_found_unique.csv',\n",
    "            'inter' : '/home/rt2122/Data/inter_cats/inter.csv',\n",
    "            'inter_sn' : '/home/rt2122/Data/inter_cats/inter_sn.csv',\n",
    "            'SZcat(y-map)_unique': '/home/rt2122/Data/inter_cats/brcat_unique.csv'}\n",
    "for det_name in tqdm(cats_dict):\n",
    "    cat_d = get_cat_d(det_name, cats_dict[det_name])\n",
    "    for val in cat_d:\n",
    "        df = cat_d[val]\n",
    "        #df = cut_cat(df, dict_cut={'b' : [20, np.inf]})\n",
    "        cat_d[val] = df\n",
    "\n",
    "    recall_df = stat_cat(cat_d, big_pix=big_pix, read_det_files=False, match_dist=400/3600, \n",
    "                                     spec_precision=['PSZ2(z)', 'eROSITA'], dict_cut={'b' : [20, np.inf], 'l' : [0, 180]})\n",
    "    recall_df = recall_df.sort_index()\n",
    "    recall_df.index.name='max_pred'\n",
    "    if det_name in ['SZcat(y-map)', 'inter_sn', 'SZcat(y-map)_unique']:\n",
    "        recall_df.index.name='s/n'\n",
    "    if det_name in ['gen']:\n",
    "        recall_df.index.name='mpp'\n",
    "    filename='./check/{}_recall_{}_pix{}.csv'.format(det_name, recall_df.index.name.replace('/', ''), pixname)\n",
    "    recall_df.to_csv(filename)\n",
    "    print(filename)\n",
    "    print(recall_df.index)\n",
    "\n",
    "cats_dict = {'SZcat(base)' : '/home/rt2122/Data/detected_cats/full_pz_rot28_thr0.1_step8_no_fn_mpp.csv',\n",
    "            'SZcat(AL)' : '/home/rt2122/Data/detected_cats/full_pz_all_found34_thr0.1_step8_no_fn_mpp.csv',\n",
    "            'SZcat(y-map)' : '/home/rt2122/Data/SRGz/brcat_mpp.csv',\n",
    "            'gen' : '/home/rt2122/Data/gen_cats/',\n",
    "            'SZcat(AL)_unique' : '/home/rt2122/Data/inter_cats/all_found_unique_mpp.csv',\n",
    "            'inter' : '/home/rt2122/Data/inter_cats/inter_mpp.csv',\n",
    "            'SZcat(y-map)_unique': '/home/rt2122/Data/inter_cats/brcat_unique_mpp.csv'}\n",
    "for det_name in tqdm(cats_dict):\n",
    "    cat_d = get_cat_d(det_name, cats_dict[det_name], get_mpp_min=True)\n",
    "    for val in cat_d:\n",
    "        df = cat_d[val]\n",
    "        df = cut_cat(df, dict_cut={'b' : [20, np.inf]})\n",
    "        cat_d[val] = df\n",
    "\n",
    "    recall_df = stat_cat(cat_d, big_pix=big_pix, read_det_files=False, match_dist=400/3600, \n",
    "                                     spec_precision=['PSZ2(z)', 'eROSITA'])\n",
    "    recall_df = recall_df.sort_index()\n",
    "    recall_df.index.name='max_pred'\n",
    "    if det_name in ['SZcat(y-map)', 'inter_sn', 'SZcat(y-map)_unique']:\n",
    "        recall_df.index.name='s/n'\n",
    "    if det_name in ['gen']:\n",
    "        recall_df.index.name='mpp'\n",
    "    filename = './check/{}_recall_{}_pix{}.csv'.format(det_name, recall_df.index.name.replace('/', ''), pixname)\n",
    "    recall_df.to_csv(filename)\n",
    "    print(filename)"
   ]
  },
  {
   "cell_type": "code",
   "execution_count": 19,
   "metadata": {
    "ExecuteTime": {
     "end_time": "2021-06-21T08:34:55.510979Z",
     "start_time": "2021-06-21T08:34:18.684265Z"
    }
   },
   "outputs": [
    {
     "data": {
      "application/vnd.jupyter.widget-view+json": {
       "model_id": "186488605a5b442e83fb97a592a3fcb1",
       "version_major": 2,
       "version_minor": 0
      },
      "text/plain": [
       "HBox(children=(FloatProgress(value=0.0, max=5.0), HTML(value='')))"
      ]
     },
     "metadata": {},
     "output_type": "display_data"
    },
    {
     "name": "stdout",
     "output_type": "stream",
     "text": [
      "\n"
     ]
    }
   ],
   "source": [
    "cats_dict = {'SZcat(base)' : '/home/rt2122/Data/detected_cats/full_pz_rot28_thr0.1_step8_no_fn_mpp.csv',\n",
    "            'SZcat(AL)' : '/home/rt2122/Data/detected_cats/full_pz_all_found34_thr0.1_step8_no_fn_mpp.csv',\n",
    "            'SZcat(y-map)' : '/home/rt2122/Data/SRGz/brcat_mpp.csv',\n",
    "            'gen' : '/home/rt2122/Data/gen_cats/',\n",
    "            'SZcat(AL)_unique' : '/home/rt2122/Data/inter_cats/all_found_unique_mpp.csv',\n",
    "            'inter' : '/home/rt2122/Data/inter_cats/inter_mpp.csv',\n",
    "            'SZcat(y-map)_unique': '/home/rt2122/Data/inter_cats/brcat_unique_mpp.csv'}\n",
    "for pixname in tqdm(pixels):\n",
    "    big_pix = pixels[pixname] \n",
    "    for det_name in cats_dict:\n",
    "        cat_d = get_cat_d(det_name, cats_dict[det_name], get_mpp_min=det_name!='gen')\n",
    "\n",
    "        recall_df = stat_cat(cat_d, big_pix=big_pix, read_det_files=False, match_dist=400/3600, \n",
    "                                         spec_precision=['PSZ2(z)', 'eROSITA'])\n",
    "        recall_df = recall_df.sort_index()\n",
    "        recall_df.index.name='mpp'\n",
    "        recall_df.to_csv('./check/{}_recall_mpp_pix{}.csv'.format(det_name, pixname))"
   ]
  },
  {
   "cell_type": "code",
   "execution_count": 10,
   "metadata": {
    "ExecuteTime": {
     "end_time": "2021-06-17T14:37:56.133726Z",
     "start_time": "2021-06-17T14:37:56.130276Z"
    }
   },
   "outputs": [
    {
     "data": {
      "text/plain": [
       "['SZcat(base)',\n",
       " 'SZcat(AL)',\n",
       " 'brcat',\n",
       " 'gen',\n",
       " 'SZcat(AL)_unique',\n",
       " 'inter',\n",
       " 'brcat_unique']"
      ]
     },
     "execution_count": 10,
     "metadata": {},
     "output_type": "execute_result"
    }
   ],
   "source": [
    "list(cats_dict.keys())"
   ]
  },
  {
   "cell_type": "code",
   "execution_count": 35,
   "metadata": {
    "ExecuteTime": {
     "end_time": "2021-06-21T09:19:23.798277Z",
     "start_time": "2021-06-21T09:19:23.788546Z"
    }
   },
   "outputs": [],
   "source": [
    "df = pd.read_csv('./check/SZcat(base)_recall_max_pred_pixeb20.csv')"
   ]
  },
  {
   "cell_type": "code",
   "execution_count": 36,
   "metadata": {
    "ExecuteTime": {
     "end_time": "2021-06-21T09:19:25.107754Z",
     "start_time": "2021-06-21T09:19:25.084066Z"
    }
   },
   "outputs": [
    {
     "data": {
      "text/html": [
       "<div>\n",
       "<style scoped>\n",
       "    .dataframe tbody tr th:only-of-type {\n",
       "        vertical-align: middle;\n",
       "    }\n",
       "\n",
       "    .dataframe tbody tr th {\n",
       "        vertical-align: top;\n",
       "    }\n",
       "\n",
       "    .dataframe thead th {\n",
       "        text-align: right;\n",
       "    }\n",
       "</style>\n",
       "<table border=\"1\" class=\"dataframe\">\n",
       "  <thead>\n",
       "    <tr style=\"text-align: right;\">\n",
       "      <th></th>\n",
       "      <th>max_pred</th>\n",
       "      <th>PSZ2</th>\n",
       "      <th>MCXC</th>\n",
       "      <th>ACT</th>\n",
       "      <th>eROSITA</th>\n",
       "      <th>precision_eROSITA</th>\n",
       "      <th>found_eROSITA</th>\n",
       "      <th>PSZ2(z)</th>\n",
       "      <th>precision_PSZ2(z)</th>\n",
       "      <th>found_PSZ2(z)</th>\n",
       "      <th>all_true</th>\n",
       "      <th>found</th>\n",
       "      <th>precision</th>\n",
       "      <th>all</th>\n",
       "    </tr>\n",
       "  </thead>\n",
       "  <tbody>\n",
       "    <tr>\n",
       "      <th>0</th>\n",
       "      <td>0.329840</td>\n",
       "      <td>0.765275</td>\n",
       "      <td>0.420539</td>\n",
       "      <td>0.241955</td>\n",
       "      <td>0.103844</td>\n",
       "      <td>0.119512</td>\n",
       "      <td>1900</td>\n",
       "      <td>0.867459</td>\n",
       "      <td>0.059567</td>\n",
       "      <td>947</td>\n",
       "      <td>0.236054</td>\n",
       "      <td>3323</td>\n",
       "      <td>0.209020</td>\n",
       "      <td>15898</td>\n",
       "    </tr>\n",
       "    <tr>\n",
       "      <th>1</th>\n",
       "      <td>0.364932</td>\n",
       "      <td>0.756201</td>\n",
       "      <td>0.406770</td>\n",
       "      <td>0.222646</td>\n",
       "      <td>0.092114</td>\n",
       "      <td>0.135676</td>\n",
       "      <td>1676</td>\n",
       "      <td>0.864717</td>\n",
       "      <td>0.076419</td>\n",
       "      <td>944</td>\n",
       "      <td>0.219470</td>\n",
       "      <td>2986</td>\n",
       "      <td>0.241723</td>\n",
       "      <td>12353</td>\n",
       "    </tr>\n",
       "    <tr>\n",
       "      <th>2</th>\n",
       "      <td>0.394682</td>\n",
       "      <td>0.750756</td>\n",
       "      <td>0.398164</td>\n",
       "      <td>0.210012</td>\n",
       "      <td>0.084672</td>\n",
       "      <td>0.148658</td>\n",
       "      <td>1534</td>\n",
       "      <td>0.862888</td>\n",
       "      <td>0.091288</td>\n",
       "      <td>942</td>\n",
       "      <td>0.208271</td>\n",
       "      <td>2774</td>\n",
       "      <td>0.268824</td>\n",
       "      <td>10319</td>\n",
       "    </tr>\n",
       "    <tr>\n",
       "      <th>3</th>\n",
       "      <td>0.428655</td>\n",
       "      <td>0.744707</td>\n",
       "      <td>0.388411</td>\n",
       "      <td>0.199046</td>\n",
       "      <td>0.078561</td>\n",
       "      <td>0.157555</td>\n",
       "      <td>1415</td>\n",
       "      <td>0.861060</td>\n",
       "      <td>0.104665</td>\n",
       "      <td>940</td>\n",
       "      <td>0.199332</td>\n",
       "      <td>2595</td>\n",
       "      <td>0.288943</td>\n",
       "      <td>8981</td>\n",
       "    </tr>\n",
       "    <tr>\n",
       "      <th>4</th>\n",
       "      <td>0.454022</td>\n",
       "      <td>0.741077</td>\n",
       "      <td>0.375215</td>\n",
       "      <td>0.188081</td>\n",
       "      <td>0.073879</td>\n",
       "      <td>0.167361</td>\n",
       "      <td>1326</td>\n",
       "      <td>0.859232</td>\n",
       "      <td>0.118389</td>\n",
       "      <td>938</td>\n",
       "      <td>0.190610</td>\n",
       "      <td>2460</td>\n",
       "      <td>0.310488</td>\n",
       "      <td>7923</td>\n",
       "    </tr>\n",
       "    <tr>\n",
       "      <th>5</th>\n",
       "      <td>0.482090</td>\n",
       "      <td>0.735027</td>\n",
       "      <td>0.367183</td>\n",
       "      <td>0.181883</td>\n",
       "      <td>0.069887</td>\n",
       "      <td>0.179293</td>\n",
       "      <td>1252</td>\n",
       "      <td>0.857404</td>\n",
       "      <td>0.134040</td>\n",
       "      <td>936</td>\n",
       "      <td>0.184687</td>\n",
       "      <td>2339</td>\n",
       "      <td>0.334956</td>\n",
       "      <td>6983</td>\n",
       "    </tr>\n",
       "    <tr>\n",
       "      <th>6</th>\n",
       "      <td>0.525088</td>\n",
       "      <td>0.727768</td>\n",
       "      <td>0.359725</td>\n",
       "      <td>0.173302</td>\n",
       "      <td>0.066042</td>\n",
       "      <td>0.190147</td>\n",
       "      <td>1181</td>\n",
       "      <td>0.853748</td>\n",
       "      <td>0.150056</td>\n",
       "      <td>932</td>\n",
       "      <td>0.177256</td>\n",
       "      <td>2217</td>\n",
       "      <td>0.356947</td>\n",
       "      <td>6211</td>\n",
       "    </tr>\n",
       "    <tr>\n",
       "      <th>7</th>\n",
       "      <td>0.543346</td>\n",
       "      <td>0.719903</td>\n",
       "      <td>0.355709</td>\n",
       "      <td>0.164482</td>\n",
       "      <td>0.063282</td>\n",
       "      <td>0.204381</td>\n",
       "      <td>1129</td>\n",
       "      <td>0.849177</td>\n",
       "      <td>0.167813</td>\n",
       "      <td>927</td>\n",
       "      <td>0.170902</td>\n",
       "      <td>2120</td>\n",
       "      <td>0.383780</td>\n",
       "      <td>5524</td>\n",
       "    </tr>\n",
       "    <tr>\n",
       "      <th>8</th>\n",
       "      <td>0.568293</td>\n",
       "      <td>0.712644</td>\n",
       "      <td>0.352266</td>\n",
       "      <td>0.157092</td>\n",
       "      <td>0.059980</td>\n",
       "      <td>0.216922</td>\n",
       "      <td>1064</td>\n",
       "      <td>0.845521</td>\n",
       "      <td>0.188175</td>\n",
       "      <td>923</td>\n",
       "      <td>0.164549</td>\n",
       "      <td>2014</td>\n",
       "      <td>0.410601</td>\n",
       "      <td>4905</td>\n",
       "    </tr>\n",
       "    <tr>\n",
       "      <th>9</th>\n",
       "      <td>0.595463</td>\n",
       "      <td>0.699335</td>\n",
       "      <td>0.345955</td>\n",
       "      <td>0.149702</td>\n",
       "      <td>0.057171</td>\n",
       "      <td>0.231403</td>\n",
       "      <td>1011</td>\n",
       "      <td>0.839122</td>\n",
       "      <td>0.209659</td>\n",
       "      <td>916</td>\n",
       "      <td>0.158949</td>\n",
       "      <td>1919</td>\n",
       "      <td>0.439231</td>\n",
       "      <td>4369</td>\n",
       "    </tr>\n",
       "    <tr>\n",
       "      <th>10</th>\n",
       "      <td>0.622423</td>\n",
       "      <td>0.687840</td>\n",
       "      <td>0.336776</td>\n",
       "      <td>0.141836</td>\n",
       "      <td>0.054559</td>\n",
       "      <td>0.245839</td>\n",
       "      <td>960</td>\n",
       "      <td>0.832724</td>\n",
       "      <td>0.232778</td>\n",
       "      <td>909</td>\n",
       "      <td>0.152380</td>\n",
       "      <td>1823</td>\n",
       "      <td>0.466837</td>\n",
       "      <td>3905</td>\n",
       "    </tr>\n",
       "    <tr>\n",
       "      <th>11</th>\n",
       "      <td>0.673382</td>\n",
       "      <td>0.675136</td>\n",
       "      <td>0.328170</td>\n",
       "      <td>0.133254</td>\n",
       "      <td>0.050862</td>\n",
       "      <td>0.258401</td>\n",
       "      <td>892</td>\n",
       "      <td>0.824497</td>\n",
       "      <td>0.260718</td>\n",
       "      <td>900</td>\n",
       "      <td>0.144842</td>\n",
       "      <td>1709</td>\n",
       "      <td>0.495075</td>\n",
       "      <td>3452</td>\n",
       "    </tr>\n",
       "    <tr>\n",
       "      <th>12</th>\n",
       "      <td>0.712726</td>\n",
       "      <td>0.661222</td>\n",
       "      <td>0.321859</td>\n",
       "      <td>0.127294</td>\n",
       "      <td>0.047560</td>\n",
       "      <td>0.276596</td>\n",
       "      <td>832</td>\n",
       "      <td>0.815356</td>\n",
       "      <td>0.295878</td>\n",
       "      <td>890</td>\n",
       "      <td>0.138703</td>\n",
       "      <td>1603</td>\n",
       "      <td>0.532912</td>\n",
       "      <td>3008</td>\n",
       "    </tr>\n",
       "    <tr>\n",
       "      <th>13</th>\n",
       "      <td>0.734838</td>\n",
       "      <td>0.642468</td>\n",
       "      <td>0.309237</td>\n",
       "      <td>0.121097</td>\n",
       "      <td>0.043420</td>\n",
       "      <td>0.294507</td>\n",
       "      <td>756</td>\n",
       "      <td>0.804388</td>\n",
       "      <td>0.342034</td>\n",
       "      <td>878</td>\n",
       "      <td>0.131919</td>\n",
       "      <td>1475</td>\n",
       "      <td>0.574601</td>\n",
       "      <td>2567</td>\n",
       "    </tr>\n",
       "    <tr>\n",
       "      <th>14</th>\n",
       "      <td>0.758605</td>\n",
       "      <td>0.617060</td>\n",
       "      <td>0.297762</td>\n",
       "      <td>0.113230</td>\n",
       "      <td>0.039823</td>\n",
       "      <td>0.320111</td>\n",
       "      <td>694</td>\n",
       "      <td>0.777879</td>\n",
       "      <td>0.391605</td>\n",
       "      <td>849</td>\n",
       "      <td>0.123950</td>\n",
       "      <td>1367</td>\n",
       "      <td>0.630535</td>\n",
       "      <td>2168</td>\n",
       "    </tr>\n",
       "    <tr>\n",
       "      <th>15</th>\n",
       "      <td>0.791816</td>\n",
       "      <td>0.576528</td>\n",
       "      <td>0.282846</td>\n",
       "      <td>0.102026</td>\n",
       "      <td>0.035239</td>\n",
       "      <td>0.352064</td>\n",
       "      <td>614</td>\n",
       "      <td>0.739488</td>\n",
       "      <td>0.462729</td>\n",
       "      <td>807</td>\n",
       "      <td>0.112535</td>\n",
       "      <td>1216</td>\n",
       "      <td>0.697248</td>\n",
       "      <td>1744</td>\n",
       "    </tr>\n",
       "    <tr>\n",
       "      <th>16</th>\n",
       "      <td>0.844113</td>\n",
       "      <td>0.503932</td>\n",
       "      <td>0.253012</td>\n",
       "      <td>0.084148</td>\n",
       "      <td>0.027994</td>\n",
       "      <td>0.384615</td>\n",
       "      <td>485</td>\n",
       "      <td>0.659049</td>\n",
       "      <td>0.570182</td>\n",
       "      <td>719</td>\n",
       "      <td>0.094012</td>\n",
       "      <td>982</td>\n",
       "      <td>0.778747</td>\n",
       "      <td>1261</td>\n",
       "    </tr>\n",
       "    <tr>\n",
       "      <th>17</th>\n",
       "      <td>0.939193</td>\n",
       "      <td>0.394434</td>\n",
       "      <td>0.205967</td>\n",
       "      <td>0.064124</td>\n",
       "      <td>0.020700</td>\n",
       "      <td>0.439147</td>\n",
       "      <td>350</td>\n",
       "      <td>0.530165</td>\n",
       "      <td>0.727729</td>\n",
       "      <td>580</td>\n",
       "      <td>0.070644</td>\n",
       "      <td>711</td>\n",
       "      <td>0.892095</td>\n",
       "      <td>797</td>\n",
       "    </tr>\n",
       "  </tbody>\n",
       "</table>\n",
       "</div>"
      ],
      "text/plain": [
       "    max_pred      PSZ2      MCXC       ACT   eROSITA  precision_eROSITA  \\\n",
       "0   0.329840  0.765275  0.420539  0.241955  0.103844           0.119512   \n",
       "1   0.364932  0.756201  0.406770  0.222646  0.092114           0.135676   \n",
       "2   0.394682  0.750756  0.398164  0.210012  0.084672           0.148658   \n",
       "3   0.428655  0.744707  0.388411  0.199046  0.078561           0.157555   \n",
       "4   0.454022  0.741077  0.375215  0.188081  0.073879           0.167361   \n",
       "5   0.482090  0.735027  0.367183  0.181883  0.069887           0.179293   \n",
       "6   0.525088  0.727768  0.359725  0.173302  0.066042           0.190147   \n",
       "7   0.543346  0.719903  0.355709  0.164482  0.063282           0.204381   \n",
       "8   0.568293  0.712644  0.352266  0.157092  0.059980           0.216922   \n",
       "9   0.595463  0.699335  0.345955  0.149702  0.057171           0.231403   \n",
       "10  0.622423  0.687840  0.336776  0.141836  0.054559           0.245839   \n",
       "11  0.673382  0.675136  0.328170  0.133254  0.050862           0.258401   \n",
       "12  0.712726  0.661222  0.321859  0.127294  0.047560           0.276596   \n",
       "13  0.734838  0.642468  0.309237  0.121097  0.043420           0.294507   \n",
       "14  0.758605  0.617060  0.297762  0.113230  0.039823           0.320111   \n",
       "15  0.791816  0.576528  0.282846  0.102026  0.035239           0.352064   \n",
       "16  0.844113  0.503932  0.253012  0.084148  0.027994           0.384615   \n",
       "17  0.939193  0.394434  0.205967  0.064124  0.020700           0.439147   \n",
       "\n",
       "    found_eROSITA   PSZ2(z)  precision_PSZ2(z)  found_PSZ2(z)  all_true  \\\n",
       "0            1900  0.867459           0.059567            947  0.236054   \n",
       "1            1676  0.864717           0.076419            944  0.219470   \n",
       "2            1534  0.862888           0.091288            942  0.208271   \n",
       "3            1415  0.861060           0.104665            940  0.199332   \n",
       "4            1326  0.859232           0.118389            938  0.190610   \n",
       "5            1252  0.857404           0.134040            936  0.184687   \n",
       "6            1181  0.853748           0.150056            932  0.177256   \n",
       "7            1129  0.849177           0.167813            927  0.170902   \n",
       "8            1064  0.845521           0.188175            923  0.164549   \n",
       "9            1011  0.839122           0.209659            916  0.158949   \n",
       "10            960  0.832724           0.232778            909  0.152380   \n",
       "11            892  0.824497           0.260718            900  0.144842   \n",
       "12            832  0.815356           0.295878            890  0.138703   \n",
       "13            756  0.804388           0.342034            878  0.131919   \n",
       "14            694  0.777879           0.391605            849  0.123950   \n",
       "15            614  0.739488           0.462729            807  0.112535   \n",
       "16            485  0.659049           0.570182            719  0.094012   \n",
       "17            350  0.530165           0.727729            580  0.070644   \n",
       "\n",
       "    found  precision    all  \n",
       "0    3323   0.209020  15898  \n",
       "1    2986   0.241723  12353  \n",
       "2    2774   0.268824  10319  \n",
       "3    2595   0.288943   8981  \n",
       "4    2460   0.310488   7923  \n",
       "5    2339   0.334956   6983  \n",
       "6    2217   0.356947   6211  \n",
       "7    2120   0.383780   5524  \n",
       "8    2014   0.410601   4905  \n",
       "9    1919   0.439231   4369  \n",
       "10   1823   0.466837   3905  \n",
       "11   1709   0.495075   3452  \n",
       "12   1603   0.532912   3008  \n",
       "13   1475   0.574601   2567  \n",
       "14   1367   0.630535   2168  \n",
       "15   1216   0.697248   1744  \n",
       "16    982   0.778747   1261  \n",
       "17    711   0.892095    797  "
      ]
     },
     "execution_count": 36,
     "metadata": {},
     "output_type": "execute_result"
    }
   ],
   "source": [
    "df"
   ]
  },
  {
   "cell_type": "code",
   "execution_count": null,
   "metadata": {},
   "outputs": [],
   "source": []
  }
 ],
 "metadata": {
  "kernelspec": {
   "display_name": "Python 3",
   "language": "python",
   "name": "python3"
  },
  "language_info": {
   "codemirror_mode": {
    "name": "ipython",
    "version": 3
   },
   "file_extension": ".py",
   "mimetype": "text/x-python",
   "name": "python",
   "nbconvert_exporter": "python",
   "pygments_lexer": "ipython3",
   "version": "3.8.3"
  }
 },
 "nbformat": 4,
 "nbformat_minor": 4
}
