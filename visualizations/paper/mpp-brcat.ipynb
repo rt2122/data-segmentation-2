{
 "cells": [
  {
   "cell_type": "code",
   "execution_count": 1,
   "metadata": {
    "ExecuteTime": {
     "end_time": "2021-06-14T17:54:51.492504Z",
     "start_time": "2021-06-14T17:54:50.673203Z"
    }
   },
   "outputs": [],
   "source": [
    "import numpy as np\n",
    "import pandas as pd\n",
    "from DS_models_stat import do_all_stats, cut_cat\n",
    "from astropy.coordinates import SkyCoord\n",
    "from astropy import units as u\n",
    "from tqdm.notebook import tqdm\n",
    "from matplotlib import pyplot as plt"
   ]
  },
  {
   "cell_type": "code",
   "execution_count": 2,
   "metadata": {
    "ExecuteTime": {
     "end_time": "2021-06-14T17:55:04.720351Z",
     "start_time": "2021-06-14T17:55:04.442595Z"
    }
   },
   "outputs": [],
   "source": [
    "df41 = pd.read_csv('/home/rt2122/Data/SRGz/brcat.csv')\n",
    "df41 = cut_cat(df41, big_pix=[41]) "
   ]
  },
  {
   "cell_type": "code",
   "execution_count": 3,
   "metadata": {
    "ExecuteTime": {
     "end_time": "2021-06-14T17:55:05.273946Z",
     "start_time": "2021-06-14T17:55:05.264940Z"
    }
   },
   "outputs": [
    {
     "data": {
      "text/plain": [
       "array([ 5.001107  ,  5.0574152 ,  5.1187033 ,  5.1852174 ,  5.263441  ,\n",
       "        5.3243025 ,  5.3988073 ,  5.47482965,  5.576395  ,  5.6695565 ,\n",
       "        5.7931575 ,  5.9338782 ,  6.0500642 ,  6.23831895,  6.4377301 ,\n",
       "        6.71012225,  7.0996798 ,  7.53313595,  8.1812544 , 10.131869  ,\n",
       "       59.07298   ])"
      ]
     },
     "execution_count": 3,
     "metadata": {},
     "output_type": "execute_result"
    }
   ],
   "source": [
    "mp_q = np.array(df41['max_pred'].quantile(np.arange(0.0, 1.05, 0.05)))\n",
    "mp_q"
   ]
  },
  {
   "cell_type": "code",
   "execution_count": 4,
   "metadata": {
    "ExecuteTime": {
     "end_time": "2021-06-14T17:55:12.589993Z",
     "start_time": "2021-06-14T17:55:12.432763Z"
    }
   },
   "outputs": [],
   "source": [
    "true_cats = {'PSZ2(z)' : '/home/rt2122/Data/clusters/planck_z.csv',\n",
    "             'PSZ2' : '/home/rt2122/Data/original_catalogs/csv/PSZ2.csv',\n",
    "            'MCXC' : '/home/rt2122/Data/original_catalogs/csv/MCXC.csv',\n",
    "            'ACT' : '/home/rt2122/Data/original_catalogs/csv/ACT.csv',\n",
    "            'Abell' : '/home/rt2122/Data/original_catalogs/csv/Abell.csv',\n",
    "            'eROSITA' : '/home/rt2122/Data/SRGz/clusters/clusters1_east_val_edit.csv'}\n",
    "true_cats = {key : pd.read_csv(true_cats[key]) for key in true_cats}\n",
    "\n",
    "big_pix = [41]\n",
    "true_cats = {key : cut_cat(true_cats[key], big_pix = big_pix) for key in true_cats}\n",
    "true_cats_sc = {key : SkyCoord(ra=np.array(true_cats[key]['RA']) * u.degree, \n",
    "                               dec=np.array(true_cats[key]['DEC']) * u.degree, frame='icrs') for key in true_cats}"
   ]
  },
  {
   "cell_type": "code",
   "execution_count": 5,
   "metadata": {
    "ExecuteTime": {
     "end_time": "2021-06-14T17:55:15.367624Z",
     "start_time": "2021-06-14T17:55:14.995028Z"
    }
   },
   "outputs": [
    {
     "data": {
      "application/vnd.jupyter.widget-view+json": {
       "model_id": "9e8f7f8c62904457afa0e787eddf4553",
       "version_major": 2,
       "version_minor": 0
      },
      "text/plain": [
       "HBox(children=(FloatProgress(value=1.0, bar_style='info', max=1.0), HTML(value='')))"
      ]
     },
     "metadata": {},
     "output_type": "display_data"
    },
    {
     "name": "stderr",
     "output_type": "stream",
     "text": [
      "/home/rt2122/L/git/data-segmentation-2/modules/DS_models_stat.py:155: SettingWithCopyWarning: \n",
      "A value is trying to be set on a copy of a slice from a DataFrame.\n",
      "Try using .loc[row_indexer,col_indexer] = value instead\n",
      "\n",
      "See the caveats in the documentation: https://pandas.pydata.org/pandas-docs/stable/user_guide/indexing.html#returning-a-view-versus-a-copy\n",
      "  det_cat['found'] = False\n",
      "/home/rt2122/anaconda3/lib/python3.8/site-packages/pandas/core/indexing.py:966: SettingWithCopyWarning: \n",
      "A value is trying to be set on a copy of a slice from a DataFrame.\n",
      "Try using .loc[row_indexer,col_indexer] = value instead\n",
      "\n",
      "See the caveats in the documentation: https://pandas.pydata.org/pandas-docs/stable/user_guide/indexing.html#returning-a-view-versus-a-copy\n",
      "  self.obj[item] = s\n"
     ]
    },
    {
     "name": "stdout",
     "output_type": "stream",
     "text": [
      "\n"
     ]
    }
   ],
   "source": [
    "prec41 = []\n",
    "for st, en in tqdm(zip(mp_q[:-1], mp_q[1:])):\n",
    "    cur_df = df41[df41['max_pred'] >= st]\n",
    "    cur_df.index = np.arange(len(cur_df))\n",
    "    \n",
    "    stats = do_all_stats(cur_df, true_cats, true_cats_sc=true_cats_sc, match_dist=400/3600)\n",
    "    prec41.append(stats['precision'])"
   ]
  },
  {
   "cell_type": "code",
   "execution_count": 6,
   "metadata": {
    "ExecuteTime": {
     "end_time": "2021-06-14T17:55:16.955395Z",
     "start_time": "2021-06-14T17:55:16.773362Z"
    }
   },
   "outputs": [
    {
     "data": {
      "text/plain": [
       "[<matplotlib.lines.Line2D at 0x7f0ae73ecee0>]"
      ]
     },
     "execution_count": 6,
     "metadata": {},
     "output_type": "execute_result"
    },
    {
     "data": {
      "image/png": "[encoded data removed]",
      "text/plain": [
       "<Figure size 432x288 with 1 Axes>"
      ]
     },
     "metadata": {
      "needs_background": "light"
     },
     "output_type": "display_data"
    }
   ],
   "source": [
    "plt.plot((mp_q[:-1] + mp_q[1:])/2, prec41)"
   ]
  },
  {
   "cell_type": "code",
   "execution_count": 7,
   "metadata": {
    "ExecuteTime": {
     "end_time": "2021-06-14T17:56:03.159872Z",
     "start_time": "2021-06-14T17:56:03.131610Z"
    }
   },
   "outputs": [
    {
     "data": {
      "text/plain": [
       "array([ 4.        ,  5.0574152 ,  5.1187033 ,  5.1852174 ,  5.263441  ,\n",
       "        5.3243025 ,  5.3988073 ,  5.47482965,  5.576395  ,  5.6695565 ,\n",
       "        5.7931575 ,  5.9338782 ,  6.0500642 ,  6.23831895,  6.4377301 ,\n",
       "        6.71012225,  7.0996798 ,  7.53313595,  8.1812544 , 10.131869  ,\n",
       "       88.        ])"
      ]
     },
     "execution_count": 7,
     "metadata": {},
     "output_type": "execute_result"
    }
   ],
   "source": [
    "mp_q[0] = 4\n",
    "mp_q[-1] = 88\n",
    "mp_q"
   ]
  },
  {
   "cell_type": "code",
   "execution_count": 8,
   "metadata": {
    "ExecuteTime": {
     "end_time": "2021-06-14T17:56:05.277311Z",
     "start_time": "2021-06-14T17:56:05.269117Z"
    }
   },
   "outputs": [],
   "source": [
    "prec41.append(1.0)"
   ]
  },
  {
   "cell_type": "code",
   "execution_count": 9,
   "metadata": {
    "ExecuteTime": {
     "end_time": "2021-06-14T17:56:07.835002Z",
     "start_time": "2021-06-14T17:56:07.824582Z"
    }
   },
   "outputs": [],
   "source": [
    "def find_prec(st, en, prec1, prec2, cur_mp):\n",
    "    \n",
    "    def find_kb(coords1, coords2):\n",
    "        #y1 = kx1 + b\n",
    "        #y2 = kx2 + b\n",
    "        #y1- y2 = k(x1 - x2)\n",
    "        #k = (y1-y2)/(x1-x2)\n",
    "        #b=y1-kx1\n",
    "        k = coords1[1] - coords2[1]\n",
    "        k /= coords1[0] - coords2[0]\n",
    "        b = coords1[1] - k * coords1[0]\n",
    "        return k, b\n",
    "    \n",
    "    k, b = find_kb([st, prec1], [en, prec2])\n",
    "    if st <= cur_mp and cur_mp <= en:\n",
    "        return k * cur_mp + b\n",
    "    else:\n",
    "        return -1"
   ]
  },
  {
   "cell_type": "code",
   "execution_count": 10,
   "metadata": {
    "ExecuteTime": {
     "end_time": "2021-06-14T17:56:22.945387Z",
     "start_time": "2021-06-14T17:56:22.857872Z"
    }
   },
   "outputs": [
    {
     "data": {
      "text/html": [
       "<div>\n",
       "<style scoped>\n",
       "    .dataframe tbody tr th:only-of-type {\n",
       "        vertical-align: middle;\n",
       "    }\n",
       "\n",
       "    .dataframe tbody tr th {\n",
       "        vertical-align: top;\n",
       "    }\n",
       "\n",
       "    .dataframe thead th {\n",
       "        text-align: right;\n",
       "    }\n",
       "</style>\n",
       "<table border=\"1\" class=\"dataframe\">\n",
       "  <thead>\n",
       "    <tr style=\"text-align: right;\">\n",
       "      <th></th>\n",
       "      <th>RA</th>\n",
       "      <th>DEC</th>\n",
       "      <th>max_pred</th>\n",
       "      <th>galmask</th>\n",
       "      <th>psmask</th>\n",
       "      <th>CO_mask</th>\n",
       "      <th>mpp</th>\n",
       "    </tr>\n",
       "  </thead>\n",
       "  <tbody>\n",
       "    <tr>\n",
       "      <th>0</th>\n",
       "      <td>65.909328</td>\n",
       "      <td>15.799634</td>\n",
       "      <td>5.000039</td>\n",
       "      <td>0</td>\n",
       "      <td>1</td>\n",
       "      <td>0</td>\n",
       "      <td>0</td>\n",
       "    </tr>\n",
       "    <tr>\n",
       "      <th>1</th>\n",
       "      <td>146.452715</td>\n",
       "      <td>-10.044695</td>\n",
       "      <td>5.000144</td>\n",
       "      <td>1</td>\n",
       "      <td>0</td>\n",
       "      <td>1</td>\n",
       "      <td>0</td>\n",
       "    </tr>\n",
       "    <tr>\n",
       "      <th>2</th>\n",
       "      <td>99.635969</td>\n",
       "      <td>-51.502430</td>\n",
       "      <td>5.000328</td>\n",
       "      <td>1</td>\n",
       "      <td>1</td>\n",
       "      <td>1</td>\n",
       "      <td>0</td>\n",
       "    </tr>\n",
       "    <tr>\n",
       "      <th>3</th>\n",
       "      <td>271.903476</td>\n",
       "      <td>60.487588</td>\n",
       "      <td>5.000338</td>\n",
       "      <td>1</td>\n",
       "      <td>1</td>\n",
       "      <td>1</td>\n",
       "      <td>0</td>\n",
       "    </tr>\n",
       "  </tbody>\n",
       "</table>\n",
       "</div>"
      ],
      "text/plain": [
       "           RA        DEC  max_pred  galmask  psmask  CO_mask  mpp\n",
       "0   65.909328  15.799634  5.000039        0       1        0    0\n",
       "1  146.452715 -10.044695  5.000144        1       0        1    0\n",
       "2   99.635969 -51.502430  5.000328        1       1        1    0\n",
       "3  271.903476  60.487588  5.000338        1       1        1    0"
      ]
     },
     "execution_count": 10,
     "metadata": {},
     "output_type": "execute_result"
    }
   ],
   "source": [
    "df = pd.read_csv('/home/rt2122/Data/SRGz/brcat.csv')\n",
    "df = df.sort_values(by='max_pred', axis='index', ascending=True)\n",
    "df['mpp'] = 0\n",
    "df.index = np.arange(len(df))\n",
    "df.head(4)"
   ]
  },
  {
   "cell_type": "code",
   "execution_count": 11,
   "metadata": {
    "ExecuteTime": {
     "end_time": "2021-06-14T17:56:33.063143Z",
     "start_time": "2021-06-14T17:56:26.535105Z"
    }
   },
   "outputs": [
    {
     "data": {
      "application/vnd.jupyter.widget-view+json": {
       "model_id": "1d63776a02c04517a927b13649e97076",
       "version_major": 2,
       "version_minor": 0
      },
      "text/plain": [
       "HBox(children=(FloatProgress(value=0.0, max=13772.0), HTML(value='')))"
      ]
     },
     "metadata": {},
     "output_type": "display_data"
    },
    {
     "name": "stdout",
     "output_type": "stream",
     "text": [
      "\n"
     ]
    }
   ],
   "source": [
    "i = 0\n",
    "st = mp_q[i]\n",
    "en = mp_q[i + 1]\n",
    "prec1 = prec41[i]\n",
    "prec2 = prec41[i + 1]\n",
    "for j in tqdm(range(len(df))):\n",
    "    line = df.iloc[j]\n",
    "    mp = line['max_pred']\n",
    "    if mp > en:\n",
    "        i += 1\n",
    "        st = mp_q[i]\n",
    "        if i + 1 >= len(mp_q):\n",
    "            en = 1\n",
    "        else:\n",
    "            en = mp_q[i + 1]\n",
    "        prec1 = prec41[i]\n",
    "        prec2 = prec41[i + 1]\n",
    "    prec_val = find_prec(st, en, prec1, prec2, mp)\n",
    "    if prec_val < 0 or not (prec1 <=prec_val and prec_val <= prec2):\n",
    "        break\n",
    "    df.loc[j, 'mpp'] = prec_val"
   ]
  },
  {
   "cell_type": "code",
   "execution_count": 14,
   "metadata": {
    "ExecuteTime": {
     "end_time": "2021-06-14T17:57:16.307586Z",
     "start_time": "2021-06-14T17:57:15.668031Z"
    }
   },
   "outputs": [
    {
     "data": {
      "text/plain": [
       "[<matplotlib.lines.Line2D at 0x7f0ae73add00>]"
      ]
     },
     "execution_count": 14,
     "metadata": {},
     "output_type": "execute_result"
    },
    {
     "data": {
      "image/png": "[encoded data removed]",
      "text/plain": [
       "<Figure size 576x576 with 1 Axes>"
      ]
     },
     "metadata": {
      "needs_background": "light"
     },
     "output_type": "display_data"
    }
   ],
   "source": [
    "_, ax = plt.subplots(1, 1, figsize=(8, 8))\n",
    "ax.set_xscale('log')\n",
    "ax.plot(df['max_pred'], df['mpp'])"
   ]
  },
  {
   "cell_type": "code",
   "execution_count": 13,
   "metadata": {
    "ExecuteTime": {
     "end_time": "2021-06-14T17:56:33.241379Z",
     "start_time": "2021-06-14T17:56:33.221160Z"
    }
   },
   "outputs": [
    {
     "data": {
      "text/html": [
       "<div>\n",
       "<style scoped>\n",
       "    .dataframe tbody tr th:only-of-type {\n",
       "        vertical-align: middle;\n",
       "    }\n",
       "\n",
       "    .dataframe tbody tr th {\n",
       "        vertical-align: top;\n",
       "    }\n",
       "\n",
       "    .dataframe thead th {\n",
       "        text-align: right;\n",
       "    }\n",
       "</style>\n",
       "<table border=\"1\" class=\"dataframe\">\n",
       "  <thead>\n",
       "    <tr style=\"text-align: right;\">\n",
       "      <th></th>\n",
       "      <th>RA</th>\n",
       "      <th>DEC</th>\n",
       "      <th>max_pred</th>\n",
       "      <th>galmask</th>\n",
       "      <th>psmask</th>\n",
       "      <th>CO_mask</th>\n",
       "      <th>mpp</th>\n",
       "    </tr>\n",
       "  </thead>\n",
       "  <tbody>\n",
       "    <tr>\n",
       "      <th>0</th>\n",
       "      <td>65.909328</td>\n",
       "      <td>15.799634</td>\n",
       "      <td>5.000039</td>\n",
       "      <td>0</td>\n",
       "      <td>1</td>\n",
       "      <td>0</td>\n",
       "      <td>0.247193</td>\n",
       "    </tr>\n",
       "    <tr>\n",
       "      <th>1</th>\n",
       "      <td>146.452715</td>\n",
       "      <td>-10.044695</td>\n",
       "      <td>5.000144</td>\n",
       "      <td>1</td>\n",
       "      <td>0</td>\n",
       "      <td>1</td>\n",
       "      <td>0.247194</td>\n",
       "    </tr>\n",
       "    <tr>\n",
       "      <th>2</th>\n",
       "      <td>99.635969</td>\n",
       "      <td>-51.502430</td>\n",
       "      <td>5.000328</td>\n",
       "      <td>1</td>\n",
       "      <td>1</td>\n",
       "      <td>1</td>\n",
       "      <td>0.247195</td>\n",
       "    </tr>\n",
       "    <tr>\n",
       "      <th>3</th>\n",
       "      <td>271.903476</td>\n",
       "      <td>60.487588</td>\n",
       "      <td>5.000338</td>\n",
       "      <td>1</td>\n",
       "      <td>1</td>\n",
       "      <td>1</td>\n",
       "      <td>0.247195</td>\n",
       "    </tr>\n",
       "    <tr>\n",
       "      <th>4</th>\n",
       "      <td>175.415688</td>\n",
       "      <td>39.959376</td>\n",
       "      <td>5.000418</td>\n",
       "      <td>1</td>\n",
       "      <td>1</td>\n",
       "      <td>1</td>\n",
       "      <td>0.247196</td>\n",
       "    </tr>\n",
       "    <tr>\n",
       "      <th>...</th>\n",
       "      <td>...</td>\n",
       "      <td>...</td>\n",
       "      <td>...</td>\n",
       "      <td>...</td>\n",
       "      <td>...</td>\n",
       "      <td>...</td>\n",
       "      <td>...</td>\n",
       "    </tr>\n",
       "    <tr>\n",
       "      <th>13767</th>\n",
       "      <td>84.837042</td>\n",
       "      <td>-70.110884</td>\n",
       "      <td>65.094880</td>\n",
       "      <td>0</td>\n",
       "      <td>0</td>\n",
       "      <td>0</td>\n",
       "      <td>1.000000</td>\n",
       "    </tr>\n",
       "    <tr>\n",
       "      <th>13768</th>\n",
       "      <td>79.776578</td>\n",
       "      <td>-5.889819</td>\n",
       "      <td>66.187060</td>\n",
       "      <td>0</td>\n",
       "      <td>0</td>\n",
       "      <td>0</td>\n",
       "      <td>1.000000</td>\n",
       "    </tr>\n",
       "    <tr>\n",
       "      <th>13769</th>\n",
       "      <td>83.552657</td>\n",
       "      <td>-6.557328</td>\n",
       "      <td>66.651710</td>\n",
       "      <td>0</td>\n",
       "      <td>0</td>\n",
       "      <td>0</td>\n",
       "      <td>1.000000</td>\n",
       "    </tr>\n",
       "    <tr>\n",
       "      <th>13770</th>\n",
       "      <td>82.754616</td>\n",
       "      <td>-5.248693</td>\n",
       "      <td>70.113630</td>\n",
       "      <td>0</td>\n",
       "      <td>0</td>\n",
       "      <td>0</td>\n",
       "      <td>1.000000</td>\n",
       "    </tr>\n",
       "    <tr>\n",
       "      <th>13771</th>\n",
       "      <td>83.201830</td>\n",
       "      <td>-5.554631</td>\n",
       "      <td>84.392910</td>\n",
       "      <td>0</td>\n",
       "      <td>0</td>\n",
       "      <td>0</td>\n",
       "      <td>1.000000</td>\n",
       "    </tr>\n",
       "  </tbody>\n",
       "</table>\n",
       "<p>13772 rows × 7 columns</p>\n",
       "</div>"
      ],
      "text/plain": [
       "               RA        DEC   max_pred  galmask  psmask  CO_mask       mpp\n",
       "0       65.909328  15.799634   5.000039        0       1        0  0.247193\n",
       "1      146.452715 -10.044695   5.000144        1       0        1  0.247194\n",
       "2       99.635969 -51.502430   5.000328        1       1        1  0.247195\n",
       "3      271.903476  60.487588   5.000338        1       1        1  0.247195\n",
       "4      175.415688  39.959376   5.000418        1       1        1  0.247196\n",
       "...           ...        ...        ...      ...     ...      ...       ...\n",
       "13767   84.837042 -70.110884  65.094880        0       0        0  1.000000\n",
       "13768   79.776578  -5.889819  66.187060        0       0        0  1.000000\n",
       "13769   83.552657  -6.557328  66.651710        0       0        0  1.000000\n",
       "13770   82.754616  -5.248693  70.113630        0       0        0  1.000000\n",
       "13771   83.201830  -5.554631  84.392910        0       0        0  1.000000\n",
       "\n",
       "[13772 rows x 7 columns]"
      ]
     },
     "execution_count": 13,
     "metadata": {},
     "output_type": "execute_result"
    }
   ],
   "source": [
    "df"
   ]
  },
  {
   "cell_type": "code",
   "execution_count": 15,
   "metadata": {
    "ExecuteTime": {
     "end_time": "2021-06-14T17:57:22.690030Z",
     "start_time": "2021-06-14T17:57:22.589236Z"
    }
   },
   "outputs": [],
   "source": [
    "df.to_csv('/home/rt2122/Data/SRGz/brcat_mpp.csv', index=False)"
   ]
  },
  {
   "cell_type": "code",
   "execution_count": null,
   "metadata": {},
   "outputs": [],
   "source": []
  }
 ],
 "metadata": {
  "kernelspec": {
   "display_name": "Python 3",
   "language": "python",
   "name": "python3"
  },
  "language_info": {
   "codemirror_mode": {
    "name": "ipython",
    "version": 3
   },
   "file_extension": ".py",
   "mimetype": "text/x-python",
   "name": "python",
   "nbconvert_exporter": "python",
   "pygments_lexer": "ipython3",
   "version": "3.8.3"
  }
 },
 "nbformat": 4,
 "nbformat_minor": 4
}
