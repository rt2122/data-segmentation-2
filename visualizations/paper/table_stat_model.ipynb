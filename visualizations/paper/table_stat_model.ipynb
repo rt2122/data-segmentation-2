{
 "cells": [
  {
   "cell_type": "code",
   "execution_count": 1,
   "metadata": {
    "ExecuteTime": {
     "end_time": "2021-07-09T23:07:52.477668Z",
     "start_time": "2021-07-09T23:07:51.846798Z"
    }
   },
   "outputs": [],
   "source": [
    "import pandas as pd\n",
    "import numpy as np\n",
    "from DS_Planck_Unet import val_pix, east_val, west_val\n",
    "from DS_models_stat import stat_orig_cats, stat_split_cats, do_all_stats, stat_cat, change_df\n",
    "import seaborn as sns\n",
    "from matplotlib import cm\n",
    "from matplotlib.ticker import LinearLocator\n",
    "from DS_data_transformation import inter_cats"
   ]
  },
  {
   "cell_type": "code",
   "execution_count": 8,
   "metadata": {
    "ExecuteTime": {
     "end_time": "2021-07-09T23:09:16.202075Z",
     "start_time": "2021-07-09T23:09:16.189045Z"
    }
   },
   "outputs": [],
   "source": [
    "format_fun = lambda x: '{:.3f}'.format(x) if not (float(x).is_integer() or type(x) == type('')) else x\n",
    "prm = 'N_cl - N_PSZ2'\n",
    "files3 = { \n",
    "        'SZcat(AL)' : '/home/rt2122/Data/detected_cats/full_pz_all_found34_thr0.1_step8.csv',\n",
    "        'SZcat(base)' : '/home/rt2122/Data/detected_cats/full_pz_rot28_thr0.1_step8.csv',\n",
    "        'SZcat(y-map)' : '/home/rt2122/Data/SRGz/nilc_src_0.3deg_mar12_matched.csv',\n",
    "        'PSZ2' : '/home/rt2122/Data/original_catalogs/csv/PSZ2.csv'\n",
    "        }\n",
    "names = ['SZcat(y-map)', 'SZcat(base)', 'SZcat(AL)', 'SZcat(gen)', 'PSZ2']\n",
    "\n",
    "vals_default = {'SZcat(AL)' : 0.0, 'SZcat(base)' : 0.0, 'SZcat(y-map)' : -np.inf, 'SZcat(gen)' : '0.00', 'PSZ2' : ''}\n",
    "vals_rel = {'SZcat(AL)' : 0.775, 'SZcat(base)' : 0.905, 'SZcat(y-map)' : 10.5, 'SZcat(gen)' : '0.81', 'PSZ2' : ''}\n",
    "prm_lines = ['s/n >= {:.2f}', 'p_max >= {:.2f}', 'p_max >= {:.2f}', 'mpp_er >= {}', 'psz2.{}']"
   ]
  },
  {
   "cell_type": "code",
   "execution_count": 27,
   "metadata": {
    "ExecuteTime": {
     "end_time": "2021-07-09T23:15:04.097711Z",
     "start_time": "2021-07-09T23:15:04.086191Z"
    }
   },
   "outputs": [],
   "source": [
    "def calc_line(name, dict_cut, big_pix, prm_line, e_mode=False):\n",
    "    recall = change_df(stat_cat({name : files3[name]}, big_pix=big_pix, dict_cut=dict_cut, \n",
    "                  match_dist=400/3600, spec_precision=['eROSITA', 'PSZ2_inter_all_true', 'PSZ2_inter_eROSITA', 'PSZ2', 'all_true']), \n",
    "                       format_s=format_fun)\n",
    "    \n",
    "    recall[prm] = recall['found_all_true'] - recall['found_PSZ2_inter_all_true']\n",
    "    if e_mode:\n",
    "        recall[prm] = recall['found_eROSITA'] - recall['found_PSZ2_inter_eROSITA']\n",
    "        \n",
    "    recall['prm'] = prm_line \n",
    "    return recall"
   ]
  },
  {
   "cell_type": "code",
   "execution_count": 28,
   "metadata": {
    "ExecuteTime": {
     "end_time": "2021-07-09T23:15:06.713382Z",
     "start_time": "2021-07-09T23:15:04.800993Z"
    }
   },
   "outputs": [],
   "source": [
    "#таблица 3 первая половина\n",
    "vals = vals_default\n",
    "files3['SZcat(gen)'] = '/home/rt2122/Data/gen_cats_er/er_gen_all_found_brcat_prec{}.csv'.format(vals['SZcat(gen)'])\n",
    "\n",
    "df = []\n",
    "big_pix = [41]\n",
    "l_val = [-np.inf, np.inf]\n",
    "b_val = [-np.inf, np.inf]\n",
    "prm_list = ['PSZ2(z)', 'MCXC', 'ACT', 'all_true', 'precision', prm, 'all', 'prm']\n",
    "prm_list1 = ['PSZ2(z)', 'MCXC', 'ACT', 'all_true', 'precision', prm, 'all', 'found_PSZ2']\n",
    "\n",
    "dict_cut_list = [{'s/n' : [vals[names[0]], np.inf], 'l' : l_val, 'b' : b_val},\n",
    "                 {'max_pred' : [vals[names[1]], np.inf], 'l' : l_val, 'b' : b_val},\n",
    "                 {'max_pred' : [vals[names[2]], np.inf], 'l' : l_val, 'b' : b_val},\n",
    "                 {'l' : l_val, 'b' : b_val},\n",
    "                {'l' : l_val, 'b' : b_val}]\n",
    "\n",
    "for name, dict_cut, prm_line in zip(names, dict_cut_list, prm_lines):\n",
    "    df.append(calc_line(name=name, dict_cut=dict_cut, big_pix=big_pix, prm_line=prm_line.format(vals[name])))\n",
    "df = pd.concat(df)"
   ]
  },
  {
   "cell_type": "code",
   "execution_count": 29,
   "metadata": {
    "ExecuteTime": {
     "end_time": "2021-07-09T23:15:06.730038Z",
     "start_time": "2021-07-09T23:15:06.714624Z"
    }
   },
   "outputs": [
    {
     "data": {
      "text/html": [
       "<div>\n",
       "<style scoped>\n",
       "    .dataframe tbody tr th:only-of-type {\n",
       "        vertical-align: middle;\n",
       "    }\n",
       "\n",
       "    .dataframe tbody tr th {\n",
       "        vertical-align: top;\n",
       "    }\n",
       "\n",
       "    .dataframe thead th {\n",
       "        text-align: right;\n",
       "    }\n",
       "</style>\n",
       "<table border=\"1\" class=\"dataframe\">\n",
       "  <thead>\n",
       "    <tr style=\"text-align: right;\">\n",
       "      <th></th>\n",
       "      <th>PSZ2(z)</th>\n",
       "      <th>MCXC</th>\n",
       "      <th>ACT</th>\n",
       "      <th>all_true</th>\n",
       "      <th>precision</th>\n",
       "      <th>N_cl - N_PSZ2</th>\n",
       "      <th>all</th>\n",
       "      <th>found_PSZ2</th>\n",
       "    </tr>\n",
       "  </thead>\n",
       "  <tbody>\n",
       "    <tr>\n",
       "      <th>SZcat(y-map)</th>\n",
       "      <td>0.962</td>\n",
       "      <td>0.500</td>\n",
       "      <td>0.284</td>\n",
       "      <td>0.305</td>\n",
       "      <td>0.219</td>\n",
       "      <td>61</td>\n",
       "      <td>530</td>\n",
       "      <td>55</td>\n",
       "    </tr>\n",
       "    <tr>\n",
       "      <th>SZcat(base)</th>\n",
       "      <td>0.943</td>\n",
       "      <td>0.500</td>\n",
       "      <td>0.268</td>\n",
       "      <td>0.295</td>\n",
       "      <td>0.302</td>\n",
       "      <td>57</td>\n",
       "      <td>364</td>\n",
       "      <td>53</td>\n",
       "    </tr>\n",
       "    <tr>\n",
       "      <th>SZcat(AL)</th>\n",
       "      <td>0.943</td>\n",
       "      <td>0.515</td>\n",
       "      <td>0.293</td>\n",
       "      <td>0.321</td>\n",
       "      <td>0.279</td>\n",
       "      <td>67</td>\n",
       "      <td>430</td>\n",
       "      <td>53</td>\n",
       "    </tr>\n",
       "    <tr>\n",
       "      <th>SZcat(gen)</th>\n",
       "      <td>0.943</td>\n",
       "      <td>0.529</td>\n",
       "      <td>0.345</td>\n",
       "      <td>0.363</td>\n",
       "      <td>0.181</td>\n",
       "      <td>84</td>\n",
       "      <td>764</td>\n",
       "      <td>54</td>\n",
       "    </tr>\n",
       "    <tr>\n",
       "      <th>PSZ2</th>\n",
       "      <td>1</td>\n",
       "      <td>0.382</td>\n",
       "      <td>0.113</td>\n",
       "      <td>0.144</td>\n",
       "      <td>1</td>\n",
       "      <td>0</td>\n",
       "      <td>58</td>\n",
       "      <td>58</td>\n",
       "    </tr>\n",
       "  </tbody>\n",
       "</table>\n",
       "</div>"
      ],
      "text/plain": [
       "             PSZ2(z)   MCXC    ACT all_true precision  N_cl - N_PSZ2  all  \\\n",
       "SZcat(y-map)   0.962  0.500  0.284    0.305     0.219             61  530   \n",
       "SZcat(base)    0.943  0.500  0.268    0.295     0.302             57  364   \n",
       "SZcat(AL)      0.943  0.515  0.293    0.321     0.279             67  430   \n",
       "SZcat(gen)     0.943  0.529  0.345    0.363     0.181             84  764   \n",
       "PSZ2               1  0.382  0.113    0.144         1              0   58   \n",
       "\n",
       "              found_PSZ2  \n",
       "SZcat(y-map)          55  \n",
       "SZcat(base)           53  \n",
       "SZcat(AL)             53  \n",
       "SZcat(gen)            54  \n",
       "PSZ2                  58  "
      ]
     },
     "execution_count": 29,
     "metadata": {},
     "output_type": "execute_result"
    }
   ],
   "source": [
    "df[prm_list1]"
   ]
  },
  {
   "cell_type": "code",
   "execution_count": 30,
   "metadata": {
    "ExecuteTime": {
     "end_time": "2021-07-09T23:15:15.226538Z",
     "start_time": "2021-07-09T23:15:15.206423Z"
    }
   },
   "outputs": [
    {
     "name": "stdout",
     "output_type": "stream",
     "text": [
      "\\begin{tabular}{llllllrrr}\n",
      "\\toprule\n",
      "{} & PSZ2(z) &   MCXC &    ACT & all\\_true & precision &  N\\_cl - N\\_PSZ2 &  all &  found\\_PSZ2 \\\\\n",
      "\\midrule\n",
      "SZcat(y-map) &   0.962 &  0.500 &  0.284 &    0.305 &     0.219 &             61 &  530 &          55 \\\\\n",
      "SZcat(base)  &   0.943 &  0.500 &  0.268 &    0.295 &     0.302 &             57 &  364 &          53 \\\\\n",
      "SZcat(AL)    &   0.943 &  0.515 &  0.293 &    0.321 &     0.279 &             67 &  430 &          53 \\\\\n",
      "SZcat(gen)   &   0.943 &  0.529 &  0.345 &    0.363 &     0.181 &             84 &  764 &          54 \\\\\n",
      "PSZ2         &       1 &  0.382 &  0.113 &    0.144 &         1 &              0 &   58 &          58 \\\\\n",
      "\\bottomrule\n",
      "\\end{tabular}\n",
      "\n"
     ]
    }
   ],
   "source": [
    "print(df[prm_list1].to_latex())"
   ]
  },
  {
   "cell_type": "code",
   "execution_count": 31,
   "metadata": {
    "ExecuteTime": {
     "end_time": "2021-07-09T23:15:17.354209Z",
     "start_time": "2021-07-09T23:15:15.517747Z"
    }
   },
   "outputs": [],
   "source": [
    "#таблица 3 вторая половина\n",
    "vals = vals_rel\n",
    "files3['SZcat(gen)'] = '/home/rt2122/Data/gen_cats_er/er_gen_all_found_brcat_prec{}.csv'.format(vals['SZcat(gen)'])\n",
    "\n",
    "df = []\n",
    "\n",
    "dict_cut_list = [{'s/n' : [vals[names[0]], np.inf], 'l' : l_val, 'b' : b_val},\n",
    "                 {'max_pred' : [vals[names[1]], np.inf], 'l' : l_val, 'b' : b_val},\n",
    "                 {'max_pred' : [vals[names[2]], np.inf], 'l' : l_val, 'b' : b_val},\n",
    "                 {'l' : l_val, 'b' : b_val},\n",
    "                 {'l' : l_val, 'b' : b_val},\n",
    "                ]\n",
    "\n",
    "for name, dict_cut, prm_line in zip(names, dict_cut_list, prm_lines):\n",
    "    df.append(calc_line(name=name, dict_cut=dict_cut, big_pix=big_pix, prm_line=prm_line.format(vals[name])))\n",
    "df = pd.concat(df)"
   ]
  },
  {
   "cell_type": "code",
   "execution_count": 32,
   "metadata": {
    "ExecuteTime": {
     "end_time": "2021-07-09T23:15:17.369394Z",
     "start_time": "2021-07-09T23:15:17.356256Z"
    },
    "scrolled": true
   },
   "outputs": [
    {
     "name": "stdout",
     "output_type": "stream",
     "text": [
      "\\begin{tabular}{llllllrrr}\n",
      "\\toprule\n",
      "{} & PSZ2(z) &   MCXC &    ACT & all\\_true & precision &  N\\_cl - N\\_PSZ2 &  all &  found\\_PSZ2 \\\\\n",
      "\\midrule\n",
      "SZcat(y-map) &   0.491 &  0.221 &  0.073 &    0.068 &         1 &              0 &   26 &          26 \\\\\n",
      "SZcat(base)  &   0.585 &  0.324 &  0.070 &    0.091 &     0.829 &              3 &   41 &          31 \\\\\n",
      "SZcat(AL)    &   0.717 &  0.353 &  0.088 &    0.115 &     0.878 &              5 &   49 &          38 \\\\\n",
      "SZcat(gen)   &   0.717 &  0.353 &  0.088 &    0.115 &     0.878 &              5 &   49 &          38 \\\\\n",
      "PSZ2         &       1 &  0.382 &  0.113 &    0.144 &         1 &              0 &   58 &          58 \\\\\n",
      "\\bottomrule\n",
      "\\end{tabular}\n",
      "\n"
     ]
    }
   ],
   "source": [
    "print(df[prm_list1].to_latex())"
   ]
  },
  {
   "cell_type": "code",
   "execution_count": 43,
   "metadata": {
    "ExecuteTime": {
     "end_time": "2021-07-09T23:17:43.921079Z",
     "start_time": "2021-07-09T23:17:41.773547Z"
    }
   },
   "outputs": [],
   "source": [
    "#таблица 4 первая половина\n",
    "vals = vals_default\n",
    "files3['SZcat(gen)'] = '/home/rt2122/Data/gen_cats_er/er_gen_all_found_brcat_prec{}.csv'.format(vals['SZcat(gen)'])\n",
    "\n",
    "df = []\n",
    "big_pix = list(range(48))\n",
    "l_val = [0, 180]\n",
    "b_val = [20, np.inf]\n",
    "prm_list = ['PSZ2(z)', 'MCXC', 'ACT', 'eROSITA', 'precision_eROSITA', prm, 'all', 'prm']\n",
    "prm_list1 = ['PSZ2(z)', 'MCXC', 'ACT', 'eROSITA', 'precision_eROSITA', prm, 'all', 'found_PSZ2']\n",
    "\n",
    "dict_cut_list = [{'s/n' : [vals[names[0]], np.inf], 'l' : l_val, 'b' : b_val},\n",
    "                 {'max_pred' : [vals[names[1]], np.inf], 'l' : l_val, 'b' : b_val},\n",
    "                 {'max_pred' : [vals[names[2]], np.inf], 'l' : l_val, 'b' : b_val},\n",
    "                 {'l' : l_val, 'b' : b_val},\n",
    "                 {'l' : l_val, 'b' : b_val},\n",
    "                ]\n",
    "\n",
    "for name, dict_cut, prm_line in zip(names, dict_cut_list, prm_lines):\n",
    "    df.append(calc_line(name=name, dict_cut=dict_cut, big_pix=big_pix, prm_line=prm_line.format(vals[name]), e_mode=True))\n",
    "df = pd.concat(df)"
   ]
  },
  {
   "cell_type": "code",
   "execution_count": 44,
   "metadata": {
    "ExecuteTime": {
     "end_time": "2021-07-09T23:17:43.932064Z",
     "start_time": "2021-07-09T23:17:43.922425Z"
    }
   },
   "outputs": [
    {
     "name": "stdout",
     "output_type": "stream",
     "text": [
      "\\begin{tabular}{llllllrrr}\n",
      "\\toprule\n",
      "{} & PSZ2(z) &   MCXC &    ACT & eROSITA & precision\\_eROSITA &  N\\_cl - N\\_PSZ2 &    all &  found\\_PSZ2 \\\\\n",
      "\\midrule\n",
      "SZcat(y-map) &   0.965 &  0.427 &  0.220 &   0.101 &             0.266 &           1278 &   6862 &         645 \\\\\n",
      "SZcat(base)  &   0.988 &  0.433 &  0.264 &   0.104 &             0.249 &           1352 &   7618 &         661 \\\\\n",
      "SZcat(AL)    &   0.988 &  0.421 &  0.274 &   0.112 &             0.248 &           1500 &   8259 &         663 \\\\\n",
      "SZcat(gen)   &   0.994 &  0.472 &  0.302 &   0.142 &             0.217 &           2059 &  12058 &         677 \\\\\n",
      "PSZ2         &       1 &  0.301 &  0.102 &   0.033 &             0.812 &              0 &    692 &         692 \\\\\n",
      "\\bottomrule\n",
      "\\end{tabular}\n",
      "\n"
     ]
    }
   ],
   "source": [
    "print(df[prm_list1].to_latex())"
   ]
  },
  {
   "cell_type": "code",
   "execution_count": 45,
   "metadata": {
    "ExecuteTime": {
     "end_time": "2021-07-09T23:17:46.145282Z",
     "start_time": "2021-07-09T23:17:43.934685Z"
    }
   },
   "outputs": [],
   "source": [
    "#таблица 4 вторая половина\n",
    "vals = vals_rel\n",
    "files3['SZcat(gen)'] = '/home/rt2122/Data/gen_cats_er/er_gen_all_found_brcat_prec{}.csv'.format(vals['SZcat(gen)'])\n",
    "\n",
    "df = []\n",
    "\n",
    "dict_cut_list = [{'s/n' : [vals[names[0]], np.inf], 'l' : l_val, 'b' : b_val},\n",
    "                 {'max_pred' : [vals[names[1]], np.inf], 'l' : l_val, 'b' : b_val},\n",
    "                 {'max_pred' : [vals[names[2]], np.inf], 'l' : l_val, 'b' : b_val},\n",
    "                 {'l' : l_val, 'b' : b_val},\n",
    "                 {'l' : l_val, 'b' : b_val},\n",
    "                ]\n",
    "\n",
    "for name, dict_cut, prm_line in zip(names, dict_cut_list, prm_lines):\n",
    "    df.append(calc_line(name=name, dict_cut=dict_cut, big_pix=big_pix, prm_line=prm_line.format(vals[name]), e_mode=True))\n",
    "df = pd.concat(df)"
   ]
  },
  {
   "cell_type": "code",
   "execution_count": 46,
   "metadata": {
    "ExecuteTime": {
     "end_time": "2021-07-09T23:17:46.156019Z",
     "start_time": "2021-07-09T23:17:46.146630Z"
    }
   },
   "outputs": [
    {
     "name": "stdout",
     "output_type": "stream",
     "text": [
      "\\begin{tabular}{llllllrrr}\n",
      "\\toprule\n",
      "{} & PSZ2(z) &   MCXC &    ACT & eROSITA & precision\\_eROSITA &  N\\_cl - N\\_PSZ2 &  all &  found\\_PSZ2 \\\\\n",
      "\\midrule\n",
      "SZcat(y-map) &   0.391 &  0.160 &  0.044 &   0.014 &             0.801 &             23 &  282 &         209 \\\\\n",
      "SZcat(base)  &   0.732 &  0.250 &  0.094 &   0.027 &             0.800 &             78 &  589 &         415 \\\\\n",
      "SZcat(AL)    &   0.818 &  0.292 &  0.109 &   0.033 &             0.801 &            114 &  698 &         482 \\\\\n",
      "SZcat(gen)   &   0.818 &  0.292 &  0.109 &   0.032 &             0.801 &            112 &  697 &         482 \\\\\n",
      "PSZ2         &       1 &  0.301 &  0.102 &   0.033 &             0.812 &              0 &  692 &         692 \\\\\n",
      "\\bottomrule\n",
      "\\end{tabular}\n",
      "\n"
     ]
    }
   ],
   "source": [
    "print(df[prm_list1].to_latex())"
   ]
  },
  {
   "cell_type": "code",
   "execution_count": 37,
   "metadata": {
    "ExecuteTime": {
     "end_time": "2021-07-09T23:15:21.956746Z",
     "start_time": "2021-07-09T23:15:21.766655Z"
    }
   },
   "outputs": [
    {
     "data": {
      "text/html": [
       "<div>\n",
       "<style scoped>\n",
       "    .dataframe tbody tr th:only-of-type {\n",
       "        vertical-align: middle;\n",
       "    }\n",
       "\n",
       "    .dataframe tbody tr th {\n",
       "        vertical-align: top;\n",
       "    }\n",
       "\n",
       "    .dataframe thead th {\n",
       "        text-align: right;\n",
       "    }\n",
       "</style>\n",
       "<table border=\"1\" class=\"dataframe\">\n",
       "  <thead>\n",
       "    <tr style=\"text-align: right;\">\n",
       "      <th></th>\n",
       "      <th>PSZ2(z)</th>\n",
       "      <th>MCXC</th>\n",
       "      <th>ACT</th>\n",
       "      <th>eROSITA</th>\n",
       "      <th>precision_eROSITA</th>\n",
       "      <th>N_cl - N_PSZ2</th>\n",
       "      <th>all</th>\n",
       "      <th>found_PSZ2</th>\n",
       "    </tr>\n",
       "  </thead>\n",
       "  <tbody>\n",
       "    <tr>\n",
       "      <th>SZcat(y-map)</th>\n",
       "      <td>0.391</td>\n",
       "      <td>0.160</td>\n",
       "      <td>0.044</td>\n",
       "      <td>0.014</td>\n",
       "      <td>0.801</td>\n",
       "      <td>22</td>\n",
       "      <td>282</td>\n",
       "      <td>209</td>\n",
       "    </tr>\n",
       "    <tr>\n",
       "      <th>SZcat(base)</th>\n",
       "      <td>0.732</td>\n",
       "      <td>0.250</td>\n",
       "      <td>0.094</td>\n",
       "      <td>0.027</td>\n",
       "      <td>0.800</td>\n",
       "      <td>75</td>\n",
       "      <td>589</td>\n",
       "      <td>415</td>\n",
       "    </tr>\n",
       "    <tr>\n",
       "      <th>SZcat(AL)</th>\n",
       "      <td>0.818</td>\n",
       "      <td>0.292</td>\n",
       "      <td>0.109</td>\n",
       "      <td>0.033</td>\n",
       "      <td>0.801</td>\n",
       "      <td>107</td>\n",
       "      <td>698</td>\n",
       "      <td>482</td>\n",
       "    </tr>\n",
       "    <tr>\n",
       "      <th>SZcat(gen)</th>\n",
       "      <td>0.818</td>\n",
       "      <td>0.292</td>\n",
       "      <td>0.109</td>\n",
       "      <td>0.032</td>\n",
       "      <td>0.801</td>\n",
       "      <td>106</td>\n",
       "      <td>697</td>\n",
       "      <td>482</td>\n",
       "    </tr>\n",
       "    <tr>\n",
       "      <th>PSZ2</th>\n",
       "      <td>1</td>\n",
       "      <td>0.301</td>\n",
       "      <td>0.102</td>\n",
       "      <td>0.033</td>\n",
       "      <td>0.812</td>\n",
       "      <td>-1</td>\n",
       "      <td>692</td>\n",
       "      <td>692</td>\n",
       "    </tr>\n",
       "  </tbody>\n",
       "</table>\n",
       "</div>"
      ],
      "text/plain": [
       "             PSZ2(z)   MCXC    ACT eROSITA precision_eROSITA  N_cl - N_PSZ2  \\\n",
       "SZcat(y-map)   0.391  0.160  0.044   0.014             0.801             22   \n",
       "SZcat(base)    0.732  0.250  0.094   0.027             0.800             75   \n",
       "SZcat(AL)      0.818  0.292  0.109   0.033             0.801            107   \n",
       "SZcat(gen)     0.818  0.292  0.109   0.032             0.801            106   \n",
       "PSZ2               1  0.301  0.102   0.033             0.812             -1   \n",
       "\n",
       "              all  found_PSZ2  \n",
       "SZcat(y-map)  282         209  \n",
       "SZcat(base)   589         415  \n",
       "SZcat(AL)     698         482  \n",
       "SZcat(gen)    697         482  \n",
       "PSZ2          692         692  "
      ]
     },
     "execution_count": 37,
     "metadata": {},
     "output_type": "execute_result"
    }
   ],
   "source": [
    "df[prm_list1]"
   ]
  },
  {
   "cell_type": "code",
   "execution_count": 40,
   "metadata": {
    "ExecuteTime": {
     "end_time": "2021-07-09T23:17:30.263053Z",
     "start_time": "2021-07-09T23:17:30.186900Z"
    }
   },
   "outputs": [],
   "source": [
    "PSZ2 = pd.read_csv('/home/rt2122/Data/original_catalogs/csv/PSZ2.csv')\n",
    "eROSITA = pd.read_csv('/home/rt2122/Data/SRGz/clusters/clusters1_b20_edit.csv')\n",
    "all_true = pd.read_csv('/home/rt2122/Data/original_catalogs/csv/other/PSZ2(z)_MCXC_ACT_united.csv')"
   ]
  },
  {
   "cell_type": "code",
   "execution_count": 41,
   "metadata": {
    "ExecuteTime": {
     "end_time": "2021-07-09T23:17:30.918623Z",
     "start_time": "2021-07-09T23:17:30.869740Z"
    }
   },
   "outputs": [],
   "source": [
    "PSZ2_inter_all_true = inter_cats(PSZ2.copy(), all_true.copy())\n",
    "PSZ2_inter_eROSITA = inter_cats(eROSITA.copy(), PSZ2.copy())"
   ]
  },
  {
   "cell_type": "code",
   "execution_count": 42,
   "metadata": {
    "ExecuteTime": {
     "end_time": "2021-07-09T23:17:32.321924Z",
     "start_time": "2021-07-09T23:17:32.236215Z"
    }
   },
   "outputs": [],
   "source": [
    "PSZ2_inter_all_true.to_csv('/home/rt2122/Data/original_catalogs/csv/other/psz2_inter_all_true.csv', index=False)\n",
    "PSZ2_inter_eROSITA.to_csv('/home/rt2122/Data/original_catalogs/csv/other/psz2_inter_eROSITA.csv', index=False)"
   ]
  },
  {
   "cell_type": "code",
   "execution_count": null,
   "metadata": {},
   "outputs": [],
   "source": []
  }
 ],
 "metadata": {
  "kernelspec": {
   "display_name": "Python 3",
   "language": "python",
   "name": "python3"
  },
  "language_info": {
   "codemirror_mode": {
    "name": "ipython",
    "version": 3
   },
   "file_extension": ".py",
   "mimetype": "text/x-python",
   "name": "python",
   "nbconvert_exporter": "python",
   "pygments_lexer": "ipython3",
   "version": "3.8.3"
  }
 },
 "nbformat": 4,
 "nbformat_minor": 4
}
