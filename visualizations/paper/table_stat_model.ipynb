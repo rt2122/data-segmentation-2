{
 "cells": [
  {
   "cell_type": "code",
   "execution_count": 22,
   "metadata": {
    "ExecuteTime": {
     "end_time": "2021-07-03T11:45:47.844502Z",
     "start_time": "2021-07-03T11:45:47.824876Z"
    }
   },
   "outputs": [],
   "source": [
    "import pandas as pd\n",
    "import numpy as np\n",
    "from DS_Planck_Unet import val_pix, east_val, west_val\n",
    "from DS_models_stat import stat_orig_cats, stat_split_cats, do_all_stats, stat_cat, change_df\n",
    "import seaborn as sns\n",
    "from matplotlib import cm\n",
    "from matplotlib.ticker import LinearLocator"
   ]
  },
  {
   "cell_type": "code",
   "execution_count": 54,
   "metadata": {
    "ExecuteTime": {
     "end_time": "2021-07-03T14:07:14.851452Z",
     "start_time": "2021-07-03T14:07:14.816795Z"
    }
   },
   "outputs": [],
   "source": [
    "files3 = { \n",
    "        'SZcat(AL)' : '/home/rt2122/Data/detected_cats/full_pz_all_found34_thr0.1_step8.csv',\n",
    "        'SZcat(base)' : '/home/rt2122/Data/detected_cats/full_pz_rot28_thr0.1_step8.csv',\n",
    "        'SZcat(y-map)' : '/home/rt2122/Data/SRGz/nilc_src_0.3deg_mar12_matched.csv',\n",
    "        'SZcat(gen)' : '/home/rt2122/Data/gen_cats/gen_all_found_brcat_prec0.00.csv',\n",
    "        'SZcat(gen)86' : '/home/rt2122/Data/gen_cats/gen_all_found_brcat_prec0.86.csv',\n",
    "        'SZcat(gen)8699' : '/home/rt2122/Data/gen_cats/gen_all_found_brcat_prec0.869.csv',\n",
    "        'SZcat(gen)87' : '/home/rt2122/Data/gen_cats/gen_all_found_brcat_prec0.87.csv',\n",
    "        }\n",
    "format_fun = lambda x: '{:.3f}'.format(x) if not (float(x).is_integer() or type(x) == type('')) else x"
   ]
  },
  {
   "cell_type": "code",
   "execution_count": 24,
   "metadata": {
    "ExecuteTime": {
     "end_time": "2021-07-03T11:46:18.574931Z",
     "start_time": "2021-07-03T11:46:17.886819Z"
    }
   },
   "outputs": [
    {
     "name": "stderr",
     "output_type": "stream",
     "text": [
      "/home/rt2122/L/git/data-segmentation-2/modules/DS_models_stat.py:169: SettingWithCopyWarning: \n",
      "A value is trying to be set on a copy of a slice from a DataFrame.\n",
      "Try using .loc[row_indexer,col_indexer] = value instead\n",
      "\n",
      "See the caveats in the documentation: https://pandas.pydata.org/pandas-docs/stable/user_guide/indexing.html#returning-a-view-versus-a-copy\n",
      "  det_cat['found'] = False\n",
      "/home/rt2122/anaconda3/lib/python3.8/site-packages/pandas/core/indexing.py:966: SettingWithCopyWarning: \n",
      "A value is trying to be set on a copy of a slice from a DataFrame.\n",
      "Try using .loc[row_indexer,col_indexer] = value instead\n",
      "\n",
      "See the caveats in the documentation: https://pandas.pydata.org/pandas-docs/stable/user_guide/indexing.html#returning-a-view-versus-a-copy\n",
      "  self.obj[item] = s\n"
     ]
    }
   ],
   "source": [
    "recall = change_df(stat_cat(files3, \n",
    "                            big_pix=[41], dict_cut={}, match_dist=400/3600), format_s=format_fun)"
   ]
  },
  {
   "cell_type": "code",
   "execution_count": 25,
   "metadata": {
    "ExecuteTime": {
     "end_time": "2021-07-03T11:46:19.884812Z",
     "start_time": "2021-07-03T11:46:19.869573Z"
    }
   },
   "outputs": [
    {
     "data": {
      "text/html": [
       "<div>\n",
       "<style scoped>\n",
       "    .dataframe tbody tr th:only-of-type {\n",
       "        vertical-align: middle;\n",
       "    }\n",
       "\n",
       "    .dataframe tbody tr th {\n",
       "        vertical-align: top;\n",
       "    }\n",
       "\n",
       "    .dataframe thead th {\n",
       "        text-align: right;\n",
       "    }\n",
       "</style>\n",
       "<table border=\"1\" class=\"dataframe\">\n",
       "  <thead>\n",
       "    <tr style=\"text-align: right;\">\n",
       "      <th></th>\n",
       "      <th>PSZ2</th>\n",
       "      <th>MCXC</th>\n",
       "      <th>ACT</th>\n",
       "      <th>PSZ2(z)</th>\n",
       "      <th>all_true</th>\n",
       "      <th>found</th>\n",
       "      <th>precision</th>\n",
       "      <th>all</th>\n",
       "    </tr>\n",
       "  </thead>\n",
       "  <tbody>\n",
       "    <tr>\n",
       "      <th>SZcat(AL)</th>\n",
       "      <td>0.914</td>\n",
       "      <td>0.515</td>\n",
       "      <td>0.293</td>\n",
       "      <td>0.943</td>\n",
       "      <td>0.321</td>\n",
       "      <td>120</td>\n",
       "      <td>0.279</td>\n",
       "      <td>430</td>\n",
       "    </tr>\n",
       "    <tr>\n",
       "      <th>SZcat(base)</th>\n",
       "      <td>0.914</td>\n",
       "      <td>0.500</td>\n",
       "      <td>0.268</td>\n",
       "      <td>0.943</td>\n",
       "      <td>0.295</td>\n",
       "      <td>110</td>\n",
       "      <td>0.302</td>\n",
       "      <td>364</td>\n",
       "    </tr>\n",
       "    <tr>\n",
       "      <th>SZcat(y-map)</th>\n",
       "      <td>0.948</td>\n",
       "      <td>0.500</td>\n",
       "      <td>0.284</td>\n",
       "      <td>0.962</td>\n",
       "      <td>0.305</td>\n",
       "      <td>116</td>\n",
       "      <td>0.219</td>\n",
       "      <td>530</td>\n",
       "    </tr>\n",
       "    <tr>\n",
       "      <th>SZcat(gen)</th>\n",
       "      <td>0.931</td>\n",
       "      <td>0.529</td>\n",
       "      <td>0.345</td>\n",
       "      <td>0.943</td>\n",
       "      <td>0.363</td>\n",
       "      <td>138</td>\n",
       "      <td>0.181</td>\n",
       "      <td>764</td>\n",
       "    </tr>\n",
       "  </tbody>\n",
       "</table>\n",
       "</div>"
      ],
      "text/plain": [
       "               PSZ2   MCXC    ACT PSZ2(z) all_true  found precision  all\n",
       "SZcat(AL)     0.914  0.515  0.293   0.943    0.321    120     0.279  430\n",
       "SZcat(base)   0.914  0.500  0.268   0.943    0.295    110     0.302  364\n",
       "SZcat(y-map)  0.948  0.500  0.284   0.962    0.305    116     0.219  530\n",
       "SZcat(gen)    0.931  0.529  0.345   0.943    0.363    138     0.181  764"
      ]
     },
     "execution_count": 25,
     "metadata": {},
     "output_type": "execute_result"
    }
   ],
   "source": [
    "recall"
   ]
  },
  {
   "cell_type": "code",
   "execution_count": 27,
   "metadata": {
    "ExecuteTime": {
     "end_time": "2021-07-03T11:46:46.957642Z",
     "start_time": "2021-07-03T11:46:46.941166Z"
    }
   },
   "outputs": [
    {
     "name": "stdout",
     "output_type": "stream",
     "text": [
      "\\begin{tabular}{llllllr}\n",
      "\\toprule\n",
      "{} & PSZ2(z) &   MCXC &    ACT & all\\_true & precision &  all \\\\\n",
      "\\midrule\n",
      "SZcat(AL)    &   0.943 &  0.515 &  0.293 &    0.321 &     0.279 &  430 \\\\\n",
      "SZcat(base)  &   0.943 &  0.500 &  0.268 &    0.295 &     0.302 &  364 \\\\\n",
      "SZcat(y-map) &   0.962 &  0.500 &  0.284 &    0.305 &     0.219 &  530 \\\\\n",
      "SZcat(gen)   &   0.943 &  0.529 &  0.345 &    0.363 &     0.181 &  764 \\\\\n",
      "\\bottomrule\n",
      "\\end{tabular}\n",
      "\n"
     ]
    }
   ],
   "source": [
    "print(recall[['PSZ2(z)', 'MCXC', 'ACT', 'all_true', 'precision', 'all']].to_latex())"
   ]
  },
  {
   "cell_type": "code",
   "execution_count": 114,
   "metadata": {
    "ExecuteTime": {
     "end_time": "2021-07-03T14:27:10.962960Z",
     "start_time": "2021-07-03T14:27:10.956128Z"
    }
   },
   "outputs": [],
   "source": [
    "prm = 'N_cl - N_PSZ2(z)'\n",
    "df = []\n",
    "#big_pix = list(range(48))\n",
    "big_pix = [41]\n",
    "#l_val = [0, 180]\n",
    "#b_val = [20, np.inf]\n",
    "l_val = [-np.inf, np.inf]\n",
    "b_val = [-np.inf, np.inf]"
   ]
  },
  {
   "cell_type": "code",
   "execution_count": 115,
   "metadata": {
    "ExecuteTime": {
     "end_time": "2021-07-03T14:27:12.611979Z",
     "start_time": "2021-07-03T14:27:12.242272Z"
    }
   },
   "outputs": [],
   "source": [
    "name='SZcat(AL)'\n",
    "#mp = [0.66, np.inf]\n",
    "mp = [0, 1]\n",
    "recall = change_df(stat_cat({name : files3[name]}, big_pix=big_pix, dict_cut={'max_pred' : mp, \n",
    "                                                                             'l' : l_val, 'b' : b_val}, \n",
    "                  match_dist=400/3600, spec_precision=['PSZ2(z)']), format_s=format_fun)\n",
    "recall[prm] = recall['found'] - recall['found_PSZ2(z)']\n",
    "df.append(recall[['PSZ2(z)', 'MCXC', 'ACT', 'all_true', 'precision', 'all', prm]])"
   ]
  },
  {
   "cell_type": "code",
   "execution_count": 116,
   "metadata": {
    "ExecuteTime": {
     "end_time": "2021-07-03T14:27:13.101775Z",
     "start_time": "2021-07-03T14:27:12.613369Z"
    }
   },
   "outputs": [],
   "source": [
    "name='SZcat(gen)'\n",
    "recall = change_df(stat_cat({name : files3[name]}, big_pix=big_pix, dict_cut={ \n",
    "                                                                             'l' : l_val, 'b' : b_val}, \n",
    "                  match_dist=400/3600, spec_precision=['PSZ2(z)']), format_s=format_fun)\n",
    "recall[prm] = recall['found'] - recall['found_PSZ2(z)']\n",
    "df.append(recall[['PSZ2(z)', 'MCXC', 'ACT', 'all_true', 'precision', 'all', prm]])"
   ]
  },
  {
   "cell_type": "code",
   "execution_count": 117,
   "metadata": {
    "ExecuteTime": {
     "end_time": "2021-07-03T14:27:13.485531Z",
     "start_time": "2021-07-03T14:27:13.103260Z"
    }
   },
   "outputs": [],
   "source": [
    "name='SZcat(y-map)'\n",
    "#sn = [8, np.inf]\n",
    "sn = [-np.inf, np.inf]\n",
    "recall = change_df(stat_cat({name : files3[name]}, big_pix=big_pix, dict_cut={'s/n' : sn, \n",
    "                                                                             'l' : l_val, 'b' : b_val}, \n",
    "                  match_dist=400/3600, spec_precision=['PSZ2(z)']), format_s=format_fun)\n",
    "recall[prm] = recall['found'] - recall['found_PSZ2(z)']\n",
    "df.append(recall[['PSZ2(z)', 'MCXC', 'ACT', 'all_true', 'precision', 'all', prm]])"
   ]
  },
  {
   "cell_type": "code",
   "execution_count": 118,
   "metadata": {
    "ExecuteTime": {
     "end_time": "2021-07-03T14:27:13.934485Z",
     "start_time": "2021-07-03T14:27:13.486761Z"
    }
   },
   "outputs": [],
   "source": [
    "name='SZcat(base)'\n",
    "#mp = [0.865, np.inf]\n",
    "mp = [0, 1]\n",
    "recall = change_df(stat_cat({name : files3[name]}, big_pix=big_pix, dict_cut={'max_pred' : mp, \n",
    "                                                                             'l' : l_val, 'b' : b_val}, \n",
    "                  match_dist=400/3600, spec_precision=['PSZ2(z)']), format_s=format_fun)\n",
    "recall[prm] = recall['found'] - recall['found_PSZ2(z)']\n",
    "df.append(recall[['PSZ2(z)', 'MCXC', 'ACT', 'all_true', 'precision', 'all', prm]])"
   ]
  },
  {
   "cell_type": "code",
   "execution_count": 119,
   "metadata": {
    "ExecuteTime": {
     "end_time": "2021-07-03T14:27:13.950607Z",
     "start_time": "2021-07-03T14:27:13.935762Z"
    }
   },
   "outputs": [
    {
     "data": {
      "text/html": [
       "<div>\n",
       "<style scoped>\n",
       "    .dataframe tbody tr th:only-of-type {\n",
       "        vertical-align: middle;\n",
       "    }\n",
       "\n",
       "    .dataframe tbody tr th {\n",
       "        vertical-align: top;\n",
       "    }\n",
       "\n",
       "    .dataframe thead th {\n",
       "        text-align: right;\n",
       "    }\n",
       "</style>\n",
       "<table border=\"1\" class=\"dataframe\">\n",
       "  <thead>\n",
       "    <tr style=\"text-align: right;\">\n",
       "      <th></th>\n",
       "      <th>PSZ2(z)</th>\n",
       "      <th>MCXC</th>\n",
       "      <th>ACT</th>\n",
       "      <th>all_true</th>\n",
       "      <th>precision</th>\n",
       "      <th>all</th>\n",
       "      <th>N_cl - N_PSZ2(z)</th>\n",
       "    </tr>\n",
       "  </thead>\n",
       "  <tbody>\n",
       "    <tr>\n",
       "      <th>SZcat(AL)</th>\n",
       "      <td>0.943</td>\n",
       "      <td>0.515</td>\n",
       "      <td>0.293</td>\n",
       "      <td>0.321</td>\n",
       "      <td>0.279</td>\n",
       "      <td>430</td>\n",
       "      <td>70</td>\n",
       "    </tr>\n",
       "    <tr>\n",
       "      <th>SZcat(gen)</th>\n",
       "      <td>0.943</td>\n",
       "      <td>0.529</td>\n",
       "      <td>0.345</td>\n",
       "      <td>0.363</td>\n",
       "      <td>0.181</td>\n",
       "      <td>764</td>\n",
       "      <td>88</td>\n",
       "    </tr>\n",
       "    <tr>\n",
       "      <th>SZcat(y-map)</th>\n",
       "      <td>0.962</td>\n",
       "      <td>0.500</td>\n",
       "      <td>0.284</td>\n",
       "      <td>0.305</td>\n",
       "      <td>0.219</td>\n",
       "      <td>530</td>\n",
       "      <td>65</td>\n",
       "    </tr>\n",
       "    <tr>\n",
       "      <th>SZcat(base)</th>\n",
       "      <td>0.943</td>\n",
       "      <td>0.500</td>\n",
       "      <td>0.268</td>\n",
       "      <td>0.295</td>\n",
       "      <td>0.302</td>\n",
       "      <td>364</td>\n",
       "      <td>60</td>\n",
       "    </tr>\n",
       "  </tbody>\n",
       "</table>\n",
       "</div>"
      ],
      "text/plain": [
       "             PSZ2(z)   MCXC    ACT all_true precision  all  N_cl - N_PSZ2(z)\n",
       "SZcat(AL)      0.943  0.515  0.293    0.321     0.279  430                70\n",
       "SZcat(gen)     0.943  0.529  0.345    0.363     0.181  764                88\n",
       "SZcat(y-map)   0.962  0.500  0.284    0.305     0.219  530                65\n",
       "SZcat(base)    0.943  0.500  0.268    0.295     0.302  364                60"
      ]
     },
     "execution_count": 119,
     "metadata": {},
     "output_type": "execute_result"
    }
   ],
   "source": [
    "df = pd.concat(df)\n",
    "df"
   ]
  },
  {
   "cell_type": "code",
   "execution_count": 120,
   "metadata": {
    "ExecuteTime": {
     "end_time": "2021-07-03T14:27:14.495400Z",
     "start_time": "2021-07-03T14:27:14.462118Z"
    }
   },
   "outputs": [
    {
     "name": "stdout",
     "output_type": "stream",
     "text": [
      "\\begin{tabular}{llllllrr}\n",
      "\\toprule\n",
      "{} & PSZ2(z) &   MCXC &    ACT & all\\_true & precision &  all &  N\\_cl - N\\_PSZ2(z) \\\\\n",
      "\\midrule\n",
      "SZcat(AL)    &   0.943 &  0.515 &  0.293 &    0.321 &     0.279 &  430 &                70 \\\\\n",
      "SZcat(gen)   &   0.943 &  0.529 &  0.345 &    0.363 &     0.181 &  764 &                88 \\\\\n",
      "SZcat(y-map) &   0.962 &  0.500 &  0.284 &    0.305 &     0.219 &  530 &                65 \\\\\n",
      "SZcat(base)  &   0.943 &  0.500 &  0.268 &    0.295 &     0.302 &  364 &                60 \\\\\n",
      "\\bottomrule\n",
      "\\end{tabular}\n",
      "\n"
     ]
    }
   ],
   "source": [
    "print(df.to_latex())"
   ]
  },
  {
   "cell_type": "code",
   "execution_count": null,
   "metadata": {},
   "outputs": [],
   "source": []
  }
 ],
 "metadata": {
  "kernelspec": {
   "display_name": "Python 3",
   "language": "python",
   "name": "python3"
  },
  "language_info": {
   "codemirror_mode": {
    "name": "ipython",
    "version": 3
   },
   "file_extension": ".py",
   "mimetype": "text/x-python",
   "name": "python",
   "nbconvert_exporter": "python",
   "pygments_lexer": "ipython3",
   "version": "3.8.3"
  }
 },
 "nbformat": 4,
 "nbformat_minor": 4
}
