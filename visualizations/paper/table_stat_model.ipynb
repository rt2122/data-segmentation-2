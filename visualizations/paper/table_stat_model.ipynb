{
 "cells": [
  {
   "cell_type": "code",
   "execution_count": 1,
   "metadata": {
    "ExecuteTime": {
     "end_time": "2021-06-19T13:52:28.796103Z",
     "start_time": "2021-06-19T13:52:28.163360Z"
    }
   },
   "outputs": [],
   "source": [
    "import pandas as pd\n",
    "import numpy as np\n",
    "from DS_Planck_Unet import val_pix, east_val, west_val\n",
    "from DS_models_stat import stat_orig_cats, stat_split_cats, do_all_stats, stat_cat, change_df\n",
    "import seaborn as sns\n",
    "from matplotlib import cm\n",
    "from matplotlib.ticker import LinearLocator"
   ]
  },
  {
   "cell_type": "code",
   "execution_count": 8,
   "metadata": {
    "ExecuteTime": {
     "end_time": "2021-06-19T13:56:11.109723Z",
     "start_time": "2021-06-19T13:56:11.103137Z"
    }
   },
   "outputs": [],
   "source": [
    "files3 = { \n",
    "        'SZcat(AL)' : '/home/rt2122/Data/detected_cats/full_pz_all_found34_thr0.1_step8.csv',\n",
    "        'SZcat(base)' : '/home/rt2122/Data/detected_cats/full_pz_rot28_thr0.1_step8.csv',\n",
    "        'SZcat(y-map)' : '/home/rt2122/Data/SRGz/nilc_src_0.3deg_mar12_matched.csv',\n",
    "        'gen' : '/home/rt2122/Data/gen_cats/gen_all_found_brcat_prec0.4.csv'\n",
    "        }\n",
    "format_fun = lambda x: '{:.3f}'.format(x) if not (float(x).is_integer() or type(x) == type('')) else x"
   ]
  },
  {
   "cell_type": "code",
   "execution_count": 9,
   "metadata": {
    "ExecuteTime": {
     "end_time": "2021-06-19T13:56:44.084812Z",
     "start_time": "2021-06-19T13:56:43.493649Z"
    }
   },
   "outputs": [
    {
     "name": "stderr",
     "output_type": "stream",
     "text": [
      "/home/rt2122/L/git/data-segmentation-2/modules/DS_models_stat.py:166: SettingWithCopyWarning: \n",
      "A value is trying to be set on a copy of a slice from a DataFrame.\n",
      "Try using .loc[row_indexer,col_indexer] = value instead\n",
      "\n",
      "See the caveats in the documentation: https://pandas.pydata.org/pandas-docs/stable/user_guide/indexing.html#returning-a-view-versus-a-copy\n",
      "  det_cat['found'] = False\n",
      "/home/rt2122/anaconda3/lib/python3.8/site-packages/pandas/core/indexing.py:966: SettingWithCopyWarning: \n",
      "A value is trying to be set on a copy of a slice from a DataFrame.\n",
      "Try using .loc[row_indexer,col_indexer] = value instead\n",
      "\n",
      "See the caveats in the documentation: https://pandas.pydata.org/pandas-docs/stable/user_guide/indexing.html#returning-a-view-versus-a-copy\n",
      "  self.obj[item] = s\n"
     ]
    }
   ],
   "source": [
    "recall = change_df(stat_cat(files3, big_pix=list(range(48)), dict_cut={'b' : [20, np.inf]}, match_dist=400/3600), format_s=format_fun)"
   ]
  },
  {
   "cell_type": "code",
   "execution_count": 10,
   "metadata": {
    "ExecuteTime": {
     "end_time": "2021-06-19T13:56:44.098015Z",
     "start_time": "2021-06-19T13:56:44.086124Z"
    }
   },
   "outputs": [
    {
     "data": {
      "text/html": [
       "<div>\n",
       "<style scoped>\n",
       "    .dataframe tbody tr th:only-of-type {\n",
       "        vertical-align: middle;\n",
       "    }\n",
       "\n",
       "    .dataframe tbody tr th {\n",
       "        vertical-align: top;\n",
       "    }\n",
       "\n",
       "    .dataframe thead th {\n",
       "        text-align: right;\n",
       "    }\n",
       "</style>\n",
       "<table border=\"1\" class=\"dataframe\">\n",
       "  <thead>\n",
       "    <tr style=\"text-align: right;\">\n",
       "      <th></th>\n",
       "      <th>PSZ2</th>\n",
       "      <th>MCXC</th>\n",
       "      <th>ACT</th>\n",
       "      <th>eROSITA</th>\n",
       "      <th>PSZ2(z)</th>\n",
       "      <th>found</th>\n",
       "      <th>precision</th>\n",
       "      <th>all</th>\n",
       "    </tr>\n",
       "  </thead>\n",
       "  <tbody>\n",
       "    <tr>\n",
       "      <th>SZcat(AL)</th>\n",
       "      <td>0.947</td>\n",
       "      <td>0.462</td>\n",
       "      <td>0.263</td>\n",
       "      <td>0.095</td>\n",
       "      <td>0.990</td>\n",
       "      <td>2340</td>\n",
       "      <td>0.138</td>\n",
       "      <td>16936</td>\n",
       "    </tr>\n",
       "    <tr>\n",
       "      <th>SZcat(base)</th>\n",
       "      <td>0.942</td>\n",
       "      <td>0.455</td>\n",
       "      <td>0.242</td>\n",
       "      <td>0.083</td>\n",
       "      <td>0.983</td>\n",
       "      <td>2208</td>\n",
       "      <td>0.139</td>\n",
       "      <td>15898</td>\n",
       "    </tr>\n",
       "    <tr>\n",
       "      <th>SZcat(y-map)</th>\n",
       "      <td>0.920</td>\n",
       "      <td>0.428</td>\n",
       "      <td>0.205</td>\n",
       "      <td>0.117</td>\n",
       "      <td>0.966</td>\n",
       "      <td>2096</td>\n",
       "      <td>0.153</td>\n",
       "      <td>13689</td>\n",
       "    </tr>\n",
       "    <tr>\n",
       "      <th>gen</th>\n",
       "      <td>0.956</td>\n",
       "      <td>0.460</td>\n",
       "      <td>0.247</td>\n",
       "      <td>0.104</td>\n",
       "      <td>0.995</td>\n",
       "      <td>2309</td>\n",
       "      <td>0.169</td>\n",
       "      <td>13663</td>\n",
       "    </tr>\n",
       "  </tbody>\n",
       "</table>\n",
       "</div>"
      ],
      "text/plain": [
       "               PSZ2   MCXC    ACT eROSITA PSZ2(z)  found precision    all\n",
       "SZcat(AL)     0.947  0.462  0.263   0.095   0.990   2340     0.138  16936\n",
       "SZcat(base)   0.942  0.455  0.242   0.083   0.983   2208     0.139  15898\n",
       "SZcat(y-map)  0.920  0.428  0.205   0.117   0.966   2096     0.153  13689\n",
       "gen           0.956  0.460  0.247   0.104   0.995   2309     0.169  13663"
      ]
     },
     "execution_count": 10,
     "metadata": {},
     "output_type": "execute_result"
    }
   ],
   "source": [
    "recall"
   ]
  },
  {
   "cell_type": "code",
   "execution_count": 11,
   "metadata": {
    "ExecuteTime": {
     "end_time": "2021-06-19T13:56:47.409597Z",
     "start_time": "2021-06-19T13:56:47.391393Z"
    }
   },
   "outputs": [
    {
     "name": "stdout",
     "output_type": "stream",
     "text": [
      "\\begin{tabular}{lllllr}\n",
      "\\toprule\n",
      "{} & PSZ2(z) &   MCXC &    ACT & eROSITA &    all \\\\\n",
      "\\midrule\n",
      "SZcat(AL)    &   0.990 &  0.462 &  0.263 &   0.095 &  16936 \\\\\n",
      "SZcat(base)  &   0.983 &  0.455 &  0.242 &   0.083 &  15898 \\\\\n",
      "SZcat(y-map) &   0.966 &  0.428 &  0.205 &   0.117 &  13689 \\\\\n",
      "gen          &   0.995 &  0.460 &  0.247 &   0.104 &  13663 \\\\\n",
      "\\bottomrule\n",
      "\\end{tabular}\n",
      "\n"
     ]
    }
   ],
   "source": [
    "print(recall[['PSZ2(z)', 'MCXC', 'ACT', 'eROSITA', 'all']].to_latex())"
   ]
  },
  {
   "cell_type": "code",
   "execution_count": 12,
   "metadata": {
    "ExecuteTime": {
     "end_time": "2021-06-19T13:57:06.901701Z",
     "start_time": "2021-06-19T13:57:06.676684Z"
    }
   },
   "outputs": [
    {
     "name": "stdout",
     "output_type": "stream",
     "text": [
      "\\begin{tabular}{lllllr}\n",
      "\\toprule\n",
      "{} & PSZ2(z) &   MCXC &    ACT & eROSITA &    all \\\\\n",
      "\\midrule\n",
      "SZcat(y-map) &   0.966 &  0.428 &  0.205 &   0.117 &  13689 \\\\\n",
      "\\bottomrule\n",
      "\\end{tabular}\n",
      "\n"
     ]
    },
    {
     "name": "stderr",
     "output_type": "stream",
     "text": [
      "/home/rt2122/L/git/data-segmentation-2/modules/DS_models_stat.py:166: SettingWithCopyWarning: \n",
      "A value is trying to be set on a copy of a slice from a DataFrame.\n",
      "Try using .loc[row_indexer,col_indexer] = value instead\n",
      "\n",
      "See the caveats in the documentation: https://pandas.pydata.org/pandas-docs/stable/user_guide/indexing.html#returning-a-view-versus-a-copy\n",
      "  det_cat['found'] = False\n",
      "/home/rt2122/anaconda3/lib/python3.8/site-packages/pandas/core/indexing.py:966: SettingWithCopyWarning: \n",
      "A value is trying to be set on a copy of a slice from a DataFrame.\n",
      "Try using .loc[row_indexer,col_indexer] = value instead\n",
      "\n",
      "See the caveats in the documentation: https://pandas.pydata.org/pandas-docs/stable/user_guide/indexing.html#returning-a-view-versus-a-copy\n",
      "  self.obj[item] = s\n"
     ]
    }
   ],
   "source": [
    "name='SZcat(y-map)'\n",
    "recall = change_df(stat_cat({name : files3[name]}, big_pix=list(range(48)), dict_cut={'b' : [20, np.inf], 'max_pred' : [5.38, np.inf]}, \n",
    "                  match_dist=400/3600), format_s=format_fun)\n",
    "print(recall[['PSZ2(z)', 'MCXC', 'ACT', 'eROSITA', 'all']].to_latex())"
   ]
  },
  {
   "cell_type": "code",
   "execution_count": 13,
   "metadata": {
    "ExecuteTime": {
     "end_time": "2021-06-08T14:36:49.303342Z",
     "start_time": "2021-06-08T14:36:48.614167Z"
    }
   },
   "outputs": [
    {
     "name": "stderr",
     "output_type": "stream",
     "text": [
      "/home/rt2122/L/git/data-segmentation-2/modules/DS_models_stat.py:154: SettingWithCopyWarning: \n",
      "A value is trying to be set on a copy of a slice from a DataFrame.\n",
      "Try using .loc[row_indexer,col_indexer] = value instead\n",
      "\n",
      "See the caveats in the documentation: https://pandas.pydata.org/pandas-docs/stable/user_guide/indexing.html#returning-a-view-versus-a-copy\n",
      "  det_cat['found'] = False\n",
      "/home/rt2122/anaconda3/lib/python3.8/site-packages/pandas/core/indexing.py:966: SettingWithCopyWarning: \n",
      "A value is trying to be set on a copy of a slice from a DataFrame.\n",
      "Try using .loc[row_indexer,col_indexer] = value instead\n",
      "\n",
      "See the caveats in the documentation: https://pandas.pydata.org/pandas-docs/stable/user_guide/indexing.html#returning-a-view-versus-a-copy\n",
      "  self.obj[item] = s\n"
     ]
    },
    {
     "name": "stdout",
     "output_type": "stream",
     "text": [
      "\\begin{tabular}{lrrrrr}\n",
      "\\toprule\n",
      "{} &   PSZ2(z) &      MCXC &       ACT &     Abell &    all \\\\\n",
      "\\midrule\n",
      "pz\\_rot\\_28      &  0.985375 &  0.470453 &  0.241955 &  0.230373 &  23331 \\\\\n",
      "pz\\_all\\_found34 &  0.989945 &  0.473322 &  0.262694 &  0.248037 &  23352 \\\\\n",
      "br\\_cat         &  0.851005 &  0.395869 &  0.205006 &  0.203140 &  13689 \\\\\n",
      "\\bottomrule\n",
      "\\end{tabular}\n",
      "\n"
     ]
    }
   ],
   "source": [
    "recall = stat_cat(files3, big_pix=list(range(48)), match_dist=400/3600)\n",
    "print(recall[['PSZ2(z)', 'MCXC', 'ACT', 'Abell', 'all']].to_latex())"
   ]
  },
  {
   "cell_type": "code",
   "execution_count": 10,
   "metadata": {
    "ExecuteTime": {
     "end_time": "2021-06-08T14:35:14.097184Z",
     "start_time": "2021-06-08T14:35:14.072837Z"
    }
   },
   "outputs": [
    {
     "data": {
      "text/html": [
       "<div>\n",
       "<style scoped>\n",
       "    .dataframe tbody tr th:only-of-type {\n",
       "        vertical-align: middle;\n",
       "    }\n",
       "\n",
       "    .dataframe tbody tr th {\n",
       "        vertical-align: top;\n",
       "    }\n",
       "\n",
       "    .dataframe thead th {\n",
       "        text-align: right;\n",
       "    }\n",
       "</style>\n",
       "<table border=\"1\" class=\"dataframe\">\n",
       "  <thead>\n",
       "    <tr style=\"text-align: right;\">\n",
       "      <th></th>\n",
       "      <th>PSZ2</th>\n",
       "      <th>MCXC</th>\n",
       "      <th>ACT</th>\n",
       "      <th>Abell</th>\n",
       "      <th>PSZ2(z)</th>\n",
       "      <th>found</th>\n",
       "      <th>precision</th>\n",
       "      <th>all</th>\n",
       "    </tr>\n",
       "  </thead>\n",
       "  <tbody>\n",
       "    <tr>\n",
       "      <th>pz_rot_28</th>\n",
       "      <td>0.916515</td>\n",
       "      <td>0.425129</td>\n",
       "      <td>0.218832</td>\n",
       "      <td>0.196026</td>\n",
       "      <td>0.977148</td>\n",
       "      <td>2520</td>\n",
       "      <td>0.108011</td>\n",
       "      <td>23331</td>\n",
       "    </tr>\n",
       "    <tr>\n",
       "      <th>pz_all_found34</th>\n",
       "      <td>0.922565</td>\n",
       "      <td>0.438325</td>\n",
       "      <td>0.235757</td>\n",
       "      <td>0.208538</td>\n",
       "      <td>0.978062</td>\n",
       "      <td>2639</td>\n",
       "      <td>0.113010</td>\n",
       "      <td>23352</td>\n",
       "    </tr>\n",
       "    <tr>\n",
       "      <th>br_cat</th>\n",
       "      <td>0.741077</td>\n",
       "      <td>0.377510</td>\n",
       "      <td>0.189750</td>\n",
       "      <td>0.177870</td>\n",
       "      <td>0.847349</td>\n",
       "      <td>2020</td>\n",
       "      <td>0.147564</td>\n",
       "      <td>13689</td>\n",
       "    </tr>\n",
       "  </tbody>\n",
       "</table>\n",
       "</div>"
      ],
      "text/plain": [
       "                    PSZ2      MCXC       ACT     Abell   PSZ2(z)  found  \\\n",
       "pz_rot_28       0.916515  0.425129  0.218832  0.196026  0.977148   2520   \n",
       "pz_all_found34  0.922565  0.438325  0.235757  0.208538  0.978062   2639   \n",
       "br_cat          0.741077  0.377510  0.189750  0.177870  0.847349   2020   \n",
       "\n",
       "                precision    all  \n",
       "pz_rot_28        0.108011  23331  \n",
       "pz_all_found34   0.113010  23352  \n",
       "br_cat           0.147564  13689  "
      ]
     },
     "execution_count": 10,
     "metadata": {},
     "output_type": "execute_result"
    }
   ],
   "source": [
    "recall"
   ]
  },
  {
   "cell_type": "code",
   "execution_count": 26,
   "metadata": {
    "ExecuteTime": {
     "end_time": "2021-06-19T12:29:18.816115Z",
     "start_time": "2021-06-19T12:29:16.697606Z"
    }
   },
   "outputs": [
    {
     "name": "stderr",
     "output_type": "stream",
     "text": [
      "/home/rt2122/L/git/data-segmentation-2/modules/DS_models_stat.py:166: SettingWithCopyWarning: \n",
      "A value is trying to be set on a copy of a slice from a DataFrame.\n",
      "Try using .loc[row_indexer,col_indexer] = value instead\n",
      "\n",
      "See the caveats in the documentation: https://pandas.pydata.org/pandas-docs/stable/user_guide/indexing.html#returning-a-view-versus-a-copy\n",
      "  det_cat['found'] = False\n",
      "/home/rt2122/anaconda3/lib/python3.8/site-packages/pandas/core/indexing.py:966: SettingWithCopyWarning: \n",
      "A value is trying to be set on a copy of a slice from a DataFrame.\n",
      "Try using .loc[row_indexer,col_indexer] = value instead\n",
      "\n",
      "See the caveats in the documentation: https://pandas.pydata.org/pandas-docs/stable/user_guide/indexing.html#returning-a-view-versus-a-copy\n",
      "  self.obj[item] = s\n"
     ]
    },
    {
     "data": {
      "text/html": [
       "<div>\n",
       "<style scoped>\n",
       "    .dataframe tbody tr th:only-of-type {\n",
       "        vertical-align: middle;\n",
       "    }\n",
       "\n",
       "    .dataframe tbody tr th {\n",
       "        vertical-align: top;\n",
       "    }\n",
       "\n",
       "    .dataframe thead th {\n",
       "        text-align: right;\n",
       "    }\n",
       "</style>\n",
       "<table border=\"1\" class=\"dataframe\">\n",
       "  <thead>\n",
       "    <tr style=\"text-align: right;\">\n",
       "      <th></th>\n",
       "      <th>PSZ2(z)</th>\n",
       "      <th>MCXC</th>\n",
       "      <th>ACT</th>\n",
       "      <th>eROSITA</th>\n",
       "      <th>all</th>\n",
       "    </tr>\n",
       "  </thead>\n",
       "  <tbody>\n",
       "    <tr>\n",
       "      <th>SZcat(AL) $p \\geq 0.65$</th>\n",
       "      <td>0.889</td>\n",
       "      <td>0.327</td>\n",
       "      <td>0.119</td>\n",
       "      <td>0.034</td>\n",
       "      <td>2198</td>\n",
       "    </tr>\n",
       "    <tr>\n",
       "      <th>SZcat(base) $p \\geq 0.85$</th>\n",
       "      <td>0.831</td>\n",
       "      <td>0.292</td>\n",
       "      <td>0.098</td>\n",
       "      <td>0.027</td>\n",
       "      <td>1744</td>\n",
       "    </tr>\n",
       "    <tr>\n",
       "      <th>SZcat(y-map) $s/n \\geq 8$</th>\n",
       "      <td>0.660</td>\n",
       "      <td>0.249</td>\n",
       "      <td>0.069</td>\n",
       "      <td>0.028</td>\n",
       "      <td>1358</td>\n",
       "    </tr>\n",
       "    <tr>\n",
       "      <th>gen $mpp \\geq 0.4$</th>\n",
       "      <td>0.984</td>\n",
       "      <td>0.429</td>\n",
       "      <td>0.228</td>\n",
       "      <td>0.089</td>\n",
       "      <td>13663</td>\n",
       "    </tr>\n",
       "  </tbody>\n",
       "</table>\n",
       "</div>"
      ],
      "text/plain": [
       "                          PSZ2(z)   MCXC    ACT eROSITA    all\n",
       "SZcat(AL) $p \\geq 0.65$     0.889  0.327  0.119   0.034   2198\n",
       "SZcat(base) $p \\geq 0.85$   0.831  0.292  0.098   0.027   1744\n",
       "SZcat(y-map) $s/n \\geq 8$   0.660  0.249  0.069   0.028   1358\n",
       "gen $mpp \\geq 0.4$          0.984  0.429  0.228   0.089  13663"
      ]
     },
     "execution_count": 26,
     "metadata": {},
     "output_type": "execute_result"
    }
   ],
   "source": [
    "\n",
    "recall = stat_cat(files3, dict_cut={'b' : [20, np.inf]})\n",
    "recall = change_df(recall, format_s=format_fun)\n",
    "recall65 = stat_cat(files3, dict_cut={'max_pred' : [0.65, 2], 'b' : [20, np.inf]})\n",
    "recall65 = change_df(recall65, format_s=format_fun)\n",
    "recall65.index += ' 0.65'\n",
    "recall85 = stat_cat(files3, dict_cut={'max_pred' : [0.85, 2], 'b' : [20, np.inf]})\n",
    "recall85 = change_df(recall85, format_s=format_fun) \n",
    "recall85.index += ' 0.85'\n",
    "recall8 = stat_cat(files3, dict_cut={'s/n' : [8, np.inf], 'b' : [20, np.inf]})\n",
    "recall8 = change_df(recall8, format_s=format_fun) \n",
    "recall8.index += ' 8'\n",
    "res = pd.concat([pd.DataFrame(dict(recall65.loc['SZcat(AL) 0.65']), index=['SZcat(AL) $p \\geq 0.65$']), \n",
    "                 pd.DataFrame(dict(recall85.loc['SZcat(base) 0.85']), index=['SZcat(base) $p \\geq 0.85$']), \n",
    "                 pd.DataFrame(dict(recall8.loc['SZcat(y-map) 8']), index=['SZcat(y-map) $s/n \\geq 8$']),\n",
    "                pd.DataFrame(dict(recall.loc['gen']), index=['gen $mpp \\geq 0.4$'])])\n",
    "res = res[['PSZ2(z)', 'MCXC', 'ACT', 'eROSITA', 'all']]\n",
    "res"
   ]
  },
  {
   "cell_type": "code",
   "execution_count": 25,
   "metadata": {
    "ExecuteTime": {
     "end_time": "2021-06-19T12:27:29.841385Z",
     "start_time": "2021-06-19T12:27:29.834233Z"
    }
   },
   "outputs": [
    {
     "name": "stdout",
     "output_type": "stream",
     "text": [
      "\\begin{tabular}{lllllr}\n",
      "\\toprule\n",
      "{} & PSZ2(z) &   MCXC &    ACT & eROSITA &    all \\\\\n",
      "\\midrule\n",
      "SZcat(AL) \\$max\\_pred \\textbackslash geq 0.65\\$   &   0.889 &  0.327 &  0.119 &   0.034 &   2198 \\\\\n",
      "SZcat(base) \\$max\\_pred \\textbackslash geq 0.85\\$ &   0.831 &  0.292 &  0.098 &   0.027 &   1744 \\\\\n",
      "SZcat(y-map) \\$s/n \\textbackslash geq 8\\$        &   0.660 &  0.249 &  0.069 &   0.028 &   1358 \\\\\n",
      "gen \\$mpp \\textbackslash geq 0.4\\$               &   0.984 &  0.429 &  0.228 &   0.089 &  13663 \\\\\n",
      "\\bottomrule\n",
      "\\end{tabular}\n",
      "\n"
     ]
    }
   ],
   "source": [
    "print(res.to_latex())"
   ]
  },
  {
   "cell_type": "code",
   "execution_count": 18,
   "metadata": {
    "ExecuteTime": {
     "end_time": "2021-06-11T17:12:22.671919Z",
     "start_time": "2021-06-11T17:12:22.136280Z"
    }
   },
   "outputs": [
    {
     "name": "stderr",
     "output_type": "stream",
     "text": [
      "/home/rt2122/L/git/data-segmentation-2/modules/DS_models_stat.py:155: SettingWithCopyWarning: \n",
      "A value is trying to be set on a copy of a slice from a DataFrame.\n",
      "Try using .loc[row_indexer,col_indexer] = value instead\n",
      "\n",
      "See the caveats in the documentation: https://pandas.pydata.org/pandas-docs/stable/user_guide/indexing.html#returning-a-view-versus-a-copy\n",
      "  det_cat['found'] = False\n",
      "/home/rt2122/anaconda3/lib/python3.8/site-packages/pandas/core/indexing.py:966: SettingWithCopyWarning: \n",
      "A value is trying to be set on a copy of a slice from a DataFrame.\n",
      "Try using .loc[row_indexer,col_indexer] = value instead\n",
      "\n",
      "See the caveats in the documentation: https://pandas.pydata.org/pandas-docs/stable/user_guide/indexing.html#returning-a-view-versus-a-copy\n",
      "  self.obj[item] = s\n"
     ]
    },
    {
     "data": {
      "text/html": [
       "<div>\n",
       "<style scoped>\n",
       "    .dataframe tbody tr th:only-of-type {\n",
       "        vertical-align: middle;\n",
       "    }\n",
       "\n",
       "    .dataframe tbody tr th {\n",
       "        vertical-align: top;\n",
       "    }\n",
       "\n",
       "    .dataframe thead th {\n",
       "        text-align: right;\n",
       "    }\n",
       "</style>\n",
       "<table border=\"1\" class=\"dataframe\">\n",
       "  <thead>\n",
       "    <tr style=\"text-align: right;\">\n",
       "      <th></th>\n",
       "      <th>planck_z</th>\n",
       "      <th>planck_no_z</th>\n",
       "      <th>mcxcwp</th>\n",
       "      <th>all</th>\n",
       "      <th>fp</th>\n",
       "    </tr>\n",
       "  </thead>\n",
       "  <tbody>\n",
       "    <tr>\n",
       "      <th>Bonjean</th>\n",
       "      <td>0.985</td>\n",
       "      <td>0.764</td>\n",
       "      <td>0.208</td>\n",
       "      <td>20204</td>\n",
       "      <td>18415</td>\n",
       "    </tr>\n",
       "    <tr>\n",
       "      <th>SZcat(AL)</th>\n",
       "      <td>0.978</td>\n",
       "      <td>0.814</td>\n",
       "      <td>0.210</td>\n",
       "      <td>23352</td>\n",
       "      <td>20885</td>\n",
       "    </tr>\n",
       "    <tr>\n",
       "      <th>SZcat(base)</th>\n",
       "      <td>0.977</td>\n",
       "      <td>0.798</td>\n",
       "      <td>0.194</td>\n",
       "      <td>23331</td>\n",
       "      <td>20981</td>\n",
       "    </tr>\n",
       "    <tr>\n",
       "      <th>br_cat</th>\n",
       "      <td>0.847</td>\n",
       "      <td>0.533</td>\n",
       "      <td>0.163</td>\n",
       "      <td>13689</td>\n",
       "      <td>11705</td>\n",
       "    </tr>\n",
       "  </tbody>\n",
       "</table>\n",
       "</div>"
      ],
      "text/plain": [
       "            planck_z planck_no_z mcxcwp    all     fp\n",
       "Bonjean        0.985       0.764  0.208  20204  18415\n",
       "SZcat(AL)      0.978       0.814  0.210  23352  20885\n",
       "SZcat(base)    0.977       0.798  0.194  23331  20981\n",
       "br_cat         0.847       0.533  0.163  13689  11705"
      ]
     },
     "execution_count": 18,
     "metadata": {},
     "output_type": "execute_result"
    }
   ],
   "source": [
    "recall = stat_cat(files3, big_pix=list(range(48)), match_dist=5/60, orig=False)\n",
    "recall['fp'] = recall['all'] - recall['found']\n",
    "recall = recall[['planck_z', 'planck_no_z', 'mcxcwp', 'all', 'fp']]\n",
    "recall = pd.concat([recall, pd.DataFrame({'planck_z' : 0.985, 'planck_no_z' : 0.764, 'mcxcwp' :0.208, 'all' : 20204, 'fp' : 18415}, \n",
    "                                         index=['bonjean'])])\n",
    "format_fun = lambda x: '{:.3f}'.format(x) if not (float(x).is_integer() or type(x) == type('')) else x\n",
    "recall = change_df(recall, format_s=format_fun)\n",
    "\n",
    "recall = pd.concat([pd.DataFrame(dict(recall.loc['bonjean']), index=['Bonjean']),\n",
    "    pd.DataFrame(dict(recall.loc['pz_all_found34']), index=['SZcat(AL)']), \n",
    "                 pd.DataFrame(dict(recall.loc['pz_rot_28']), index=['SZcat(base)']), \n",
    "                 pd.DataFrame(dict(recall.loc['br_cat']), index=['br_cat']),\n",
    "                ])\n",
    "recall"
   ]
  },
  {
   "cell_type": "code",
   "execution_count": 19,
   "metadata": {
    "ExecuteTime": {
     "end_time": "2021-06-11T17:12:31.528503Z",
     "start_time": "2021-06-11T17:12:31.518146Z"
    }
   },
   "outputs": [
    {
     "name": "stdout",
     "output_type": "stream",
     "text": [
      "\\begin{tabular}{llllrr}\n",
      "\\toprule\n",
      "{} & planck\\_z & planck\\_no\\_z & mcxcwp &    all &     fp \\\\\n",
      "\\midrule\n",
      "Bonjean     &    0.985 &       0.764 &  0.208 &  20204 &  18415 \\\\\n",
      "SZcat(AL)   &    0.978 &       0.814 &  0.210 &  23352 &  20885 \\\\\n",
      "SZcat(base) &    0.977 &       0.798 &  0.194 &  23331 &  20981 \\\\\n",
      "br\\_cat      &    0.847 &       0.533 &  0.163 &  13689 &  11705 \\\\\n",
      "\\bottomrule\n",
      "\\end{tabular}\n",
      "\n"
     ]
    }
   ],
   "source": [
    "print(recall.to_latex())"
   ]
  },
  {
   "cell_type": "code",
   "execution_count": null,
   "metadata": {},
   "outputs": [],
   "source": []
  }
 ],
 "metadata": {
  "kernelspec": {
   "display_name": "Python 3",
   "language": "python",
   "name": "python3"
  },
  "language_info": {
   "codemirror_mode": {
    "name": "ipython",
    "version": 3
   },
   "file_extension": ".py",
   "mimetype": "text/x-python",
   "name": "python",
   "nbconvert_exporter": "python",
   "pygments_lexer": "ipython3",
   "version": "3.8.3"
  }
 },
 "nbformat": 4,
 "nbformat_minor": 4
}
