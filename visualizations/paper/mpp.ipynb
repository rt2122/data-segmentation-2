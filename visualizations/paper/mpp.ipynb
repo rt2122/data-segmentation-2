{
 "cells": [
  {
   "cell_type": "code",
   "execution_count": 1,
   "metadata": {
    "ExecuteTime": {
     "end_time": "2021-06-14T17:45:10.029551Z",
     "start_time": "2021-06-14T17:45:09.155936Z"
    }
   },
   "outputs": [],
   "source": [
    "import numpy as np\n",
    "import pandas as pd\n",
    "from DS_models_stat import do_all_stats, cut_cat\n",
    "from astropy.coordinates import SkyCoord\n",
    "from astropy import units as u\n",
    "from tqdm.notebook import tqdm\n",
    "from matplotlib import pyplot as plt"
   ]
  },
  {
   "cell_type": "code",
   "execution_count": 3,
   "metadata": {
    "ExecuteTime": {
     "end_time": "2021-06-14T17:45:15.911568Z",
     "start_time": "2021-06-14T17:45:15.722300Z"
    }
   },
   "outputs": [],
   "source": [
    "df41 = pd.read_csv('/home/rt2122/Data/detected_cats/full_pz_all_found34_thr0.1_step8_no_fn.csv')\n",
    "df41 = cut_cat(df41, big_pix=[41]) "
   ]
  },
  {
   "cell_type": "code",
   "execution_count": 4,
   "metadata": {
    "ExecuteTime": {
     "end_time": "2021-06-14T17:45:22.698064Z",
     "start_time": "2021-06-14T17:45:22.681839Z"
    }
   },
   "outputs": [
    {
     "data": {
      "text/plain": [
       "array([0.10006607, 0.10687294, 0.11513809, 0.12719476, 0.14001881,\n",
       "       0.15356721, 0.17915156, 0.19849761, 0.23160224, 0.25646485,\n",
       "       0.29049371, 0.32531032, 0.36921692, 0.41942606, 0.46379264,\n",
       "       0.51171823, 0.57634621, 0.66530015, 0.80435855, 0.92314317,\n",
       "       0.99567632])"
      ]
     },
     "execution_count": 4,
     "metadata": {},
     "output_type": "execute_result"
    }
   ],
   "source": [
    "mp_q = np.array(df41['max_pred'].quantile(np.arange(0.0, 1.05, 0.05)))\n",
    "mp_q"
   ]
  },
  {
   "cell_type": "code",
   "execution_count": 5,
   "metadata": {
    "ExecuteTime": {
     "end_time": "2021-06-14T17:45:28.254243Z",
     "start_time": "2021-06-14T17:45:28.087817Z"
    }
   },
   "outputs": [],
   "source": [
    "true_cats = {'PSZ2(z)' : '/home/rt2122/Data/clusters/planck_z.csv',\n",
    "             'PSZ2' : '/home/rt2122/Data/original_catalogs/csv/PSZ2.csv',\n",
    "            'MCXC' : '/home/rt2122/Data/original_catalogs/csv/MCXC.csv',\n",
    "            'ACT' : '/home/rt2122/Data/original_catalogs/csv/ACT.csv',\n",
    "            'Abell' : '/home/rt2122/Data/original_catalogs/csv/Abell.csv',\n",
    "            'eROSITA' : '/home/rt2122/Data/SRGz/clusters/clusters1_east_val_edit.csv'}\n",
    "true_cats = {key : pd.read_csv(true_cats[key]) for key in true_cats}\n",
    "\n",
    "big_pix = [41]\n",
    "true_cats = {key : cut_cat(true_cats[key], big_pix = big_pix) for key in true_cats}\n",
    "true_cats_sc = {key : SkyCoord(ra=np.array(true_cats[key]['RA']) * u.degree, \n",
    "                               dec=np.array(true_cats[key]['DEC']) * u.degree, frame='icrs') for key in true_cats}"
   ]
  },
  {
   "cell_type": "code",
   "execution_count": 8,
   "metadata": {
    "ExecuteTime": {
     "end_time": "2021-06-14T17:45:49.506705Z",
     "start_time": "2021-06-14T17:45:49.142196Z"
    }
   },
   "outputs": [
    {
     "data": {
      "application/vnd.jupyter.widget-view+json": {
       "model_id": "4ae335243fbe4f68b91c056604f48b34",
       "version_major": 2,
       "version_minor": 0
      },
      "text/plain": [
       "HBox(children=(FloatProgress(value=1.0, bar_style='info', max=1.0), HTML(value='')))"
      ]
     },
     "metadata": {},
     "output_type": "display_data"
    },
    {
     "name": "stdout",
     "output_type": "stream",
     "text": [
      "\n"
     ]
    }
   ],
   "source": [
    "prec41 = []\n",
    "for st, en in tqdm(zip(mp_q[:-1], mp_q[1:])):\n",
    "    cur_df = df41[df41['max_pred'] >= st]\n",
    "    cur_df.index = np.arange(len(cur_df))\n",
    "    \n",
    "    stats = do_all_stats(cur_df, true_cats, true_cats_sc=true_cats_sc, match_dist=400/3600)\n",
    "    prec41.append(stats['precision'])"
   ]
  },
  {
   "cell_type": "code",
   "execution_count": 9,
   "metadata": {
    "ExecuteTime": {
     "end_time": "2021-06-14T17:46:37.196743Z",
     "start_time": "2021-06-14T17:46:37.004950Z"
    }
   },
   "outputs": [
    {
     "data": {
      "text/plain": [
       "[<matplotlib.lines.Line2D at 0x7f0f53219370>]"
      ]
     },
     "execution_count": 9,
     "metadata": {},
     "output_type": "execute_result"
    },
    {
     "data": {
      "image/png": "[encoded data removed]",
      "text/plain": [
       "<Figure size 432x288 with 1 Axes>"
      ]
     },
     "metadata": {
      "needs_background": "light"
     },
     "output_type": "display_data"
    }
   ],
   "source": [
    "plt.plot((mp_q[:-1] + mp_q[1:])/2, prec41)"
   ]
  },
  {
   "cell_type": "code",
   "execution_count": 13,
   "metadata": {
    "ExecuteTime": {
     "end_time": "2021-06-14T17:48:18.209883Z",
     "start_time": "2021-06-14T17:48:18.194311Z"
    }
   },
   "outputs": [
    {
     "name": "stdout",
     "output_type": "stream",
     "text": [
      "0.0 0.3023255813953488\n",
      "0.10687294080853463 0.3137254901960784\n",
      "0.11513808779418469 0.3281653746770026\n",
      "0.1271947599714622 0.33972602739726027\n",
      "0.1400188062340021 0.34593023255813954\n",
      "0.15356721141974308 0.36024844720496896\n",
      "0.17915156111121178 0.38205980066445183\n",
      "0.19849760562647129 0.40860215053763443\n",
      "0.23160223662853247 0.43023255813953487\n",
      "0.25646484657190743 0.4491525423728814\n",
      "0.2904937139246613 0.4790697674418605\n",
      "0.32531032159458845 0.5103092783505154\n",
      "0.3692169232293964 0.5348837209302325\n",
      "0.419426055578515 0.5761589403973509\n",
      "0.46379263871349374 0.6201550387596899\n",
      "0.5117182297166437 0.6759259259259259\n",
      "0.576346210576594 0.7325581395348837\n",
      "0.6653001545462759 0.8461538461538461\n",
      "0.8043585488572718 0.9302325581395349\n",
      "0.9231431741034608 1.0\n"
     ]
    }
   ],
   "source": [
    "for st, en, prec_val in zip(mp_q[:-1], mp_q[1:], prec41):\n",
    "    print(st, prec_val)"
   ]
  },
  {
   "cell_type": "code",
   "execution_count": 12,
   "metadata": {
    "ExecuteTime": {
     "end_time": "2021-06-14T17:47:48.711555Z",
     "start_time": "2021-06-14T17:47:48.702744Z"
    }
   },
   "outputs": [
    {
     "data": {
      "text/plain": [
       "array([0.        , 0.10687294, 0.11513809, 0.12719476, 0.14001881,\n",
       "       0.15356721, 0.17915156, 0.19849761, 0.23160224, 0.25646485,\n",
       "       0.29049371, 0.32531032, 0.36921692, 0.41942606, 0.46379264,\n",
       "       0.51171823, 0.57634621, 0.66530015, 0.80435855, 0.92314317,\n",
       "       1.        ])"
      ]
     },
     "execution_count": 12,
     "metadata": {},
     "output_type": "execute_result"
    }
   ],
   "source": [
    "mp_q[0] = 0\n",
    "mp_q[-1] = 1\n",
    "mp_q"
   ]
  },
  {
   "cell_type": "code",
   "execution_count": 15,
   "metadata": {
    "ExecuteTime": {
     "end_time": "2021-06-14T17:48:52.404851Z",
     "start_time": "2021-06-14T17:48:52.400928Z"
    }
   },
   "outputs": [],
   "source": [
    "prec41[-1] = 1.0"
   ]
  },
  {
   "cell_type": "code",
   "execution_count": 16,
   "metadata": {
    "ExecuteTime": {
     "end_time": "2021-06-14T17:48:55.319714Z",
     "start_time": "2021-06-14T17:48:55.304925Z"
    }
   },
   "outputs": [],
   "source": [
    "def find_prec(st, en, prec1, prec2, cur_mp):\n",
    "    \n",
    "    def find_kb(coords1, coords2):\n",
    "        #y1 = kx1 + b\n",
    "        #y2 = kx2 + b\n",
    "        #y1- y2 = k(x1 - x2)\n",
    "        #k = (y1-y2)/(x1-x2)\n",
    "        #b=y1-kx1\n",
    "        k = coords1[1] - coords2[1]\n",
    "        k /= coords1[0] - coords2[0]\n",
    "        b = coords1[1] - k * coords1[0]\n",
    "        return k, b\n",
    "    \n",
    "    k, b = find_kb([st, prec1], [en, prec2])\n",
    "    if st <= cur_mp and cur_mp <= en:\n",
    "        return k * cur_mp + b\n",
    "    else:\n",
    "        return -1"
   ]
  },
  {
   "cell_type": "code",
   "execution_count": 25,
   "metadata": {
    "ExecuteTime": {
     "end_time": "2021-06-14T17:53:33.231036Z",
     "start_time": "2021-06-14T17:53:33.163763Z"
    }
   },
   "outputs": [
    {
     "data": {
      "text/html": [
       "<div>\n",
       "<style scoped>\n",
       "    .dataframe tbody tr th:only-of-type {\n",
       "        vertical-align: middle;\n",
       "    }\n",
       "\n",
       "    .dataframe tbody tr th {\n",
       "        vertical-align: top;\n",
       "    }\n",
       "\n",
       "    .dataframe thead th {\n",
       "        text-align: right;\n",
       "    }\n",
       "</style>\n",
       "<table border=\"1\" class=\"dataframe\">\n",
       "  <thead>\n",
       "    <tr style=\"text-align: right;\">\n",
       "      <th></th>\n",
       "      <th>RA</th>\n",
       "      <th>DEC</th>\n",
       "      <th>area</th>\n",
       "      <th>min_rad</th>\n",
       "      <th>max_rad</th>\n",
       "      <th>mean_rad</th>\n",
       "      <th>min_pred</th>\n",
       "      <th>max_pred</th>\n",
       "      <th>tRA</th>\n",
       "      <th>tDEC</th>\n",
       "      <th>status</th>\n",
       "      <th>catalog</th>\n",
       "      <th>M500</th>\n",
       "      <th>z</th>\n",
       "      <th>pix2</th>\n",
       "      <th>mpp</th>\n",
       "    </tr>\n",
       "  </thead>\n",
       "  <tbody>\n",
       "    <tr>\n",
       "      <th>0</th>\n",
       "      <td>80.739063</td>\n",
       "      <td>-1.298711</td>\n",
       "      <td>1.0</td>\n",
       "      <td>0.000000e+00</td>\n",
       "      <td>1.414214</td>\n",
       "      <td>0.853553</td>\n",
       "      <td>0.100002</td>\n",
       "      <td>0.100002</td>\n",
       "      <td>NaN</td>\n",
       "      <td>NaN</td>\n",
       "      <td>fp</td>\n",
       "      <td>NaN</td>\n",
       "      <td>NaN</td>\n",
       "      <td>NaN</td>\n",
       "      <td>train_pix</td>\n",
       "      <td>0</td>\n",
       "    </tr>\n",
       "    <tr>\n",
       "      <th>1</th>\n",
       "      <td>149.798243</td>\n",
       "      <td>54.081141</td>\n",
       "      <td>1.0</td>\n",
       "      <td>0.000000e+00</td>\n",
       "      <td>1.414214</td>\n",
       "      <td>0.853553</td>\n",
       "      <td>0.100004</td>\n",
       "      <td>0.100004</td>\n",
       "      <td>NaN</td>\n",
       "      <td>NaN</td>\n",
       "      <td>fp</td>\n",
       "      <td>NaN</td>\n",
       "      <td>NaN</td>\n",
       "      <td>NaN</td>\n",
       "      <td>train_pix</td>\n",
       "      <td>0</td>\n",
       "    </tr>\n",
       "    <tr>\n",
       "      <th>2</th>\n",
       "      <td>64.810863</td>\n",
       "      <td>-26.402030</td>\n",
       "      <td>1.0</td>\n",
       "      <td>1.136868e-13</td>\n",
       "      <td>1.414214</td>\n",
       "      <td>0.853553</td>\n",
       "      <td>0.100010</td>\n",
       "      <td>0.100010</td>\n",
       "      <td>NaN</td>\n",
       "      <td>NaN</td>\n",
       "      <td>fp</td>\n",
       "      <td>NaN</td>\n",
       "      <td>NaN</td>\n",
       "      <td>NaN</td>\n",
       "      <td>train_pix</td>\n",
       "      <td>0</td>\n",
       "    </tr>\n",
       "    <tr>\n",
       "      <th>3</th>\n",
       "      <td>13.129393</td>\n",
       "      <td>39.918397</td>\n",
       "      <td>1.0</td>\n",
       "      <td>0.000000e+00</td>\n",
       "      <td>1.414214</td>\n",
       "      <td>0.853553</td>\n",
       "      <td>0.100023</td>\n",
       "      <td>0.100023</td>\n",
       "      <td>NaN</td>\n",
       "      <td>NaN</td>\n",
       "      <td>fp</td>\n",
       "      <td>NaN</td>\n",
       "      <td>NaN</td>\n",
       "      <td>NaN</td>\n",
       "      <td>train_pix</td>\n",
       "      <td>0</td>\n",
       "    </tr>\n",
       "  </tbody>\n",
       "</table>\n",
       "</div>"
      ],
      "text/plain": [
       "           RA        DEC  area       min_rad   max_rad  mean_rad  min_pred  \\\n",
       "0   80.739063  -1.298711   1.0  0.000000e+00  1.414214  0.853553  0.100002   \n",
       "1  149.798243  54.081141   1.0  0.000000e+00  1.414214  0.853553  0.100004   \n",
       "2   64.810863 -26.402030   1.0  1.136868e-13  1.414214  0.853553  0.100010   \n",
       "3   13.129393  39.918397   1.0  0.000000e+00  1.414214  0.853553  0.100023   \n",
       "\n",
       "   max_pred  tRA  tDEC status catalog  M500   z       pix2  mpp  \n",
       "0  0.100002  NaN   NaN     fp     NaN   NaN NaN  train_pix    0  \n",
       "1  0.100004  NaN   NaN     fp     NaN   NaN NaN  train_pix    0  \n",
       "2  0.100010  NaN   NaN     fp     NaN   NaN NaN  train_pix    0  \n",
       "3  0.100023  NaN   NaN     fp     NaN   NaN NaN  train_pix    0  "
      ]
     },
     "execution_count": 25,
     "metadata": {},
     "output_type": "execute_result"
    }
   ],
   "source": [
    "df = pd.read_csv('/home/rt2122/Data/detected_cats/full_pz_all_found34_thr0.1_step8_no_fn.csv')\n",
    "df = df.sort_values(by='max_pred', axis='index', ascending=True)\n",
    "df['mpp'] = 0\n",
    "df.index = np.arange(len(df))\n",
    "df.head(4)"
   ]
  },
  {
   "cell_type": "code",
   "execution_count": 26,
   "metadata": {
    "ExecuteTime": {
     "end_time": "2021-06-14T17:53:46.996308Z",
     "start_time": "2021-06-14T17:53:35.491677Z"
    }
   },
   "outputs": [
    {
     "data": {
      "application/vnd.jupyter.widget-view+json": {
       "model_id": "da44a4fec6eb4d2eb769a7dd674e14e2",
       "version_major": 2,
       "version_minor": 0
      },
      "text/plain": [
       "HBox(children=(FloatProgress(value=0.0, max=23352.0), HTML(value='')))"
      ]
     },
     "metadata": {},
     "output_type": "display_data"
    },
    {
     "name": "stdout",
     "output_type": "stream",
     "text": [
      "\n"
     ]
    }
   ],
   "source": [
    "i = 0\n",
    "st = mp_q[i]\n",
    "en = mp_q[i + 1]\n",
    "prec1 = prec41[i]\n",
    "prec2 = prec41[i + 1]\n",
    "for j in tqdm(range(len(df))):\n",
    "    line = df.iloc[j]\n",
    "    mp = line['max_pred']\n",
    "    if mp > en:\n",
    "        i += 1\n",
    "        st = mp_q[i]\n",
    "        if i + 1 >= len(mp_q):\n",
    "            en = 1\n",
    "        else:\n",
    "            en = mp_q[i + 1]\n",
    "        prec1 = prec41[i]\n",
    "        prec2 = prec41[i + 1]\n",
    "    prec_val = find_prec(st, en, prec1, prec2, mp)\n",
    "    if prec_val < 0 or not (prec1 <=prec_val and prec_val <= prec2):\n",
    "        break\n",
    "    df.loc[j, 'mpp'] = prec_val"
   ]
  },
  {
   "cell_type": "code",
   "execution_count": 27,
   "metadata": {
    "ExecuteTime": {
     "end_time": "2021-06-14T17:53:47.158003Z",
     "start_time": "2021-06-14T17:53:46.997864Z"
    }
   },
   "outputs": [
    {
     "data": {
      "text/plain": [
       "[<matplotlib.lines.Line2D at 0x7f0f4c68b280>]"
      ]
     },
     "execution_count": 27,
     "metadata": {},
     "output_type": "execute_result"
    },
    {
     "data": {
      "image/png": "[encoded data removed]",
      "text/plain": [
       "<Figure size 576x576 with 1 Axes>"
      ]
     },
     "metadata": {
      "needs_background": "light"
     },
     "output_type": "display_data"
    }
   ],
   "source": [
    "_, ax = plt.subplots(1, 1, figsize=(8, 8))\n",
    "ax.plot(df['max_pred'], df['mpp'])"
   ]
  },
  {
   "cell_type": "code",
   "execution_count": 24,
   "metadata": {
    "ExecuteTime": {
     "end_time": "2021-06-14T17:52:33.804478Z",
     "start_time": "2021-06-14T17:52:33.751027Z"
    }
   },
   "outputs": [
    {
     "data": {
      "text/html": [
       "<div>\n",
       "<style scoped>\n",
       "    .dataframe tbody tr th:only-of-type {\n",
       "        vertical-align: middle;\n",
       "    }\n",
       "\n",
       "    .dataframe tbody tr th {\n",
       "        vertical-align: top;\n",
       "    }\n",
       "\n",
       "    .dataframe thead th {\n",
       "        text-align: right;\n",
       "    }\n",
       "</style>\n",
       "<table border=\"1\" class=\"dataframe\">\n",
       "  <thead>\n",
       "    <tr style=\"text-align: right;\">\n",
       "      <th></th>\n",
       "      <th>RA</th>\n",
       "      <th>DEC</th>\n",
       "      <th>area</th>\n",
       "      <th>min_rad</th>\n",
       "      <th>max_rad</th>\n",
       "      <th>mean_rad</th>\n",
       "      <th>min_pred</th>\n",
       "      <th>max_pred</th>\n",
       "      <th>tRA</th>\n",
       "      <th>tDEC</th>\n",
       "      <th>status</th>\n",
       "      <th>catalog</th>\n",
       "      <th>M500</th>\n",
       "      <th>z</th>\n",
       "      <th>pix2</th>\n",
       "      <th>mpp</th>\n",
       "    </tr>\n",
       "  </thead>\n",
       "  <tbody>\n",
       "    <tr>\n",
       "      <th>18161</th>\n",
       "      <td>80.739063</td>\n",
       "      <td>-1.298711</td>\n",
       "      <td>1.0</td>\n",
       "      <td>0.000000e+00</td>\n",
       "      <td>1.414214</td>\n",
       "      <td>0.853553</td>\n",
       "      <td>0.100002</td>\n",
       "      <td>0.100002</td>\n",
       "      <td>NaN</td>\n",
       "      <td>NaN</td>\n",
       "      <td>fp</td>\n",
       "      <td>NaN</td>\n",
       "      <td>NaN</td>\n",
       "      <td>NaN</td>\n",
       "      <td>train_pix</td>\n",
       "      <td>0.616647</td>\n",
       "    </tr>\n",
       "    <tr>\n",
       "      <th>3011</th>\n",
       "      <td>149.798243</td>\n",
       "      <td>54.081141</td>\n",
       "      <td>1.0</td>\n",
       "      <td>0.000000e+00</td>\n",
       "      <td>1.414214</td>\n",
       "      <td>0.853553</td>\n",
       "      <td>0.100004</td>\n",
       "      <td>0.100004</td>\n",
       "      <td>NaN</td>\n",
       "      <td>NaN</td>\n",
       "      <td>fp</td>\n",
       "      <td>NaN</td>\n",
       "      <td>NaN</td>\n",
       "      <td>NaN</td>\n",
       "      <td>train_pix</td>\n",
       "      <td>0.334426</td>\n",
       "    </tr>\n",
       "    <tr>\n",
       "      <th>17305</th>\n",
       "      <td>64.810863</td>\n",
       "      <td>-26.402030</td>\n",
       "      <td>1.0</td>\n",
       "      <td>1.136868e-13</td>\n",
       "      <td>1.414214</td>\n",
       "      <td>0.853553</td>\n",
       "      <td>0.100010</td>\n",
       "      <td>0.100010</td>\n",
       "      <td>NaN</td>\n",
       "      <td>NaN</td>\n",
       "      <td>fp</td>\n",
       "      <td>NaN</td>\n",
       "      <td>NaN</td>\n",
       "      <td>NaN</td>\n",
       "      <td>train_pix</td>\n",
       "      <td>0.574092</td>\n",
       "    </tr>\n",
       "    <tr>\n",
       "      <th>16756</th>\n",
       "      <td>13.129393</td>\n",
       "      <td>39.918397</td>\n",
       "      <td>1.0</td>\n",
       "      <td>0.000000e+00</td>\n",
       "      <td>1.414214</td>\n",
       "      <td>0.853553</td>\n",
       "      <td>0.100023</td>\n",
       "      <td>0.100023</td>\n",
       "      <td>NaN</td>\n",
       "      <td>NaN</td>\n",
       "      <td>fp</td>\n",
       "      <td>NaN</td>\n",
       "      <td>NaN</td>\n",
       "      <td>NaN</td>\n",
       "      <td>train_pix</td>\n",
       "      <td>0.552543</td>\n",
       "    </tr>\n",
       "    <tr>\n",
       "      <th>2403</th>\n",
       "      <td>55.778215</td>\n",
       "      <td>77.164844</td>\n",
       "      <td>1.0</td>\n",
       "      <td>0.000000e+00</td>\n",
       "      <td>1.414214</td>\n",
       "      <td>0.853553</td>\n",
       "      <td>0.100039</td>\n",
       "      <td>0.100039</td>\n",
       "      <td>NaN</td>\n",
       "      <td>NaN</td>\n",
       "      <td>fp</td>\n",
       "      <td>NaN</td>\n",
       "      <td>NaN</td>\n",
       "      <td>NaN</td>\n",
       "      <td>train_pix</td>\n",
       "      <td>0.329636</td>\n",
       "    </tr>\n",
       "    <tr>\n",
       "      <th>...</th>\n",
       "      <td>...</td>\n",
       "      <td>...</td>\n",
       "      <td>...</td>\n",
       "      <td>...</td>\n",
       "      <td>...</td>\n",
       "      <td>...</td>\n",
       "      <td>...</td>\n",
       "      <td>...</td>\n",
       "      <td>...</td>\n",
       "      <td>...</td>\n",
       "      <td>...</td>\n",
       "      <td>...</td>\n",
       "      <td>...</td>\n",
       "      <td>...</td>\n",
       "      <td>...</td>\n",
       "      <td>...</td>\n",
       "    </tr>\n",
       "    <tr>\n",
       "      <th>21883</th>\n",
       "      <td>243.983913</td>\n",
       "      <td>-6.150970</td>\n",
       "      <td>40.0</td>\n",
       "      <td>1.935608e+00</td>\n",
       "      <td>5.988273</td>\n",
       "      <td>3.705241</td>\n",
       "      <td>0.106300</td>\n",
       "      <td>0.999788</td>\n",
       "      <td>243.954880</td>\n",
       "      <td>-6.152363</td>\n",
       "      <td>tp</td>\n",
       "      <td>planck_z</td>\n",
       "      <td>16.116468</td>\n",
       "      <td>0.203</td>\n",
       "      <td>train_pix</td>\n",
       "      <td>0.931355</td>\n",
       "    </tr>\n",
       "    <tr>\n",
       "      <th>22067</th>\n",
       "      <td>90.796013</td>\n",
       "      <td>42.214613</td>\n",
       "      <td>33.0</td>\n",
       "      <td>1.811333e+00</td>\n",
       "      <td>5.601533</td>\n",
       "      <td>3.515987</td>\n",
       "      <td>0.103833</td>\n",
       "      <td>0.999954</td>\n",
       "      <td>90.839443</td>\n",
       "      <td>42.232290</td>\n",
       "      <td>tp</td>\n",
       "      <td>planck_z</td>\n",
       "      <td>10.759314</td>\n",
       "      <td>0.228</td>\n",
       "      <td>train_pix</td>\n",
       "      <td>0.947345</td>\n",
       "    </tr>\n",
       "    <tr>\n",
       "      <th>18174</th>\n",
       "      <td>85.663133</td>\n",
       "      <td>-1.720311</td>\n",
       "      <td>64.0</td>\n",
       "      <td>7.749851e-01</td>\n",
       "      <td>7.825358</td>\n",
       "      <td>5.091448</td>\n",
       "      <td>0.100268</td>\n",
       "      <td>0.999978</td>\n",
       "      <td>NaN</td>\n",
       "      <td>NaN</td>\n",
       "      <td>fp</td>\n",
       "      <td>NaN</td>\n",
       "      <td>NaN</td>\n",
       "      <td>NaN</td>\n",
       "      <td>train_pix</td>\n",
       "      <td>0.617263</td>\n",
       "    </tr>\n",
       "    <tr>\n",
       "      <th>18173</th>\n",
       "      <td>85.277300</td>\n",
       "      <td>-1.613652</td>\n",
       "      <td>36.0</td>\n",
       "      <td>2.201086e+00</td>\n",
       "      <td>5.766286</td>\n",
       "      <td>3.571320</td>\n",
       "      <td>0.112442</td>\n",
       "      <td>1.000000</td>\n",
       "      <td>NaN</td>\n",
       "      <td>NaN</td>\n",
       "      <td>fp</td>\n",
       "      <td>NaN</td>\n",
       "      <td>NaN</td>\n",
       "      <td>NaN</td>\n",
       "      <td>train_pix</td>\n",
       "      <td>0.617161</td>\n",
       "    </tr>\n",
       "    <tr>\n",
       "      <th>15971</th>\n",
       "      <td>34.917374</td>\n",
       "      <td>1.632254</td>\n",
       "      <td>19.0</td>\n",
       "      <td>1.595903e+00</td>\n",
       "      <td>3.510434</td>\n",
       "      <td>2.575054</td>\n",
       "      <td>0.109375</td>\n",
       "      <td>1.000000</td>\n",
       "      <td>NaN</td>\n",
       "      <td>NaN</td>\n",
       "      <td>fp</td>\n",
       "      <td>NaN</td>\n",
       "      <td>NaN</td>\n",
       "      <td>NaN</td>\n",
       "      <td>train_pix</td>\n",
       "      <td>0.528551</td>\n",
       "    </tr>\n",
       "  </tbody>\n",
       "</table>\n",
       "<p>23352 rows × 16 columns</p>\n",
       "</div>"
      ],
      "text/plain": [
       "               RA        DEC  area       min_rad   max_rad  mean_rad  \\\n",
       "18161   80.739063  -1.298711   1.0  0.000000e+00  1.414214  0.853553   \n",
       "3011   149.798243  54.081141   1.0  0.000000e+00  1.414214  0.853553   \n",
       "17305   64.810863 -26.402030   1.0  1.136868e-13  1.414214  0.853553   \n",
       "16756   13.129393  39.918397   1.0  0.000000e+00  1.414214  0.853553   \n",
       "2403    55.778215  77.164844   1.0  0.000000e+00  1.414214  0.853553   \n",
       "...           ...        ...   ...           ...       ...       ...   \n",
       "21883  243.983913  -6.150970  40.0  1.935608e+00  5.988273  3.705241   \n",
       "22067   90.796013  42.214613  33.0  1.811333e+00  5.601533  3.515987   \n",
       "18174   85.663133  -1.720311  64.0  7.749851e-01  7.825358  5.091448   \n",
       "18173   85.277300  -1.613652  36.0  2.201086e+00  5.766286  3.571320   \n",
       "15971   34.917374   1.632254  19.0  1.595903e+00  3.510434  2.575054   \n",
       "\n",
       "       min_pred  max_pred         tRA       tDEC status   catalog       M500  \\\n",
       "18161  0.100002  0.100002         NaN        NaN     fp       NaN        NaN   \n",
       "3011   0.100004  0.100004         NaN        NaN     fp       NaN        NaN   \n",
       "17305  0.100010  0.100010         NaN        NaN     fp       NaN        NaN   \n",
       "16756  0.100023  0.100023         NaN        NaN     fp       NaN        NaN   \n",
       "2403   0.100039  0.100039         NaN        NaN     fp       NaN        NaN   \n",
       "...         ...       ...         ...        ...    ...       ...        ...   \n",
       "21883  0.106300  0.999788  243.954880  -6.152363     tp  planck_z  16.116468   \n",
       "22067  0.103833  0.999954   90.839443  42.232290     tp  planck_z  10.759314   \n",
       "18174  0.100268  0.999978         NaN        NaN     fp       NaN        NaN   \n",
       "18173  0.112442  1.000000         NaN        NaN     fp       NaN        NaN   \n",
       "15971  0.109375  1.000000         NaN        NaN     fp       NaN        NaN   \n",
       "\n",
       "           z       pix2       mpp  \n",
       "18161    NaN  train_pix  0.616647  \n",
       "3011     NaN  train_pix  0.334426  \n",
       "17305    NaN  train_pix  0.574092  \n",
       "16756    NaN  train_pix  0.552543  \n",
       "2403     NaN  train_pix  0.329636  \n",
       "...      ...        ...       ...  \n",
       "21883  0.203  train_pix  0.931355  \n",
       "22067  0.228  train_pix  0.947345  \n",
       "18174    NaN  train_pix  0.617263  \n",
       "18173    NaN  train_pix  0.617161  \n",
       "15971    NaN  train_pix  0.528551  \n",
       "\n",
       "[23352 rows x 16 columns]"
      ]
     },
     "execution_count": 24,
     "metadata": {},
     "output_type": "execute_result"
    }
   ],
   "source": [
    "df"
   ]
  },
  {
   "cell_type": "code",
   "execution_count": 28,
   "metadata": {
    "ExecuteTime": {
     "end_time": "2021-06-14T17:54:16.963705Z",
     "start_time": "2021-06-14T17:54:16.564467Z"
    }
   },
   "outputs": [],
   "source": [
    "df.to_csv('/home/rt2122/Data/detected_cats/full_pz_all_found34_thr0.1_step8_no_fn_mpp.csv', index=False)"
   ]
  },
  {
   "cell_type": "code",
   "execution_count": null,
   "metadata": {},
   "outputs": [],
   "source": []
  }
 ],
 "metadata": {
  "kernelspec": {
   "display_name": "Python 3",
   "language": "python",
   "name": "python3"
  },
  "language_info": {
   "codemirror_mode": {
    "name": "ipython",
    "version": 3
   },
   "file_extension": ".py",
   "mimetype": "text/x-python",
   "name": "python",
   "nbconvert_exporter": "python",
   "pygments_lexer": "ipython3",
   "version": "3.8.3"
  }
 },
 "nbformat": 4,
 "nbformat_minor": 4
}
