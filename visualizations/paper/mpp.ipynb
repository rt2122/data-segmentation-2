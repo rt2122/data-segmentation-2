{
 "cells": [
  {
   "cell_type": "code",
   "execution_count": 2,
   "metadata": {
    "ExecuteTime": {
     "end_time": "2021-06-17T10:30:56.007988Z",
     "start_time": "2021-06-17T10:30:42.915363Z"
    }
   },
   "outputs": [],
   "source": [
    "import numpy as np\n",
    "import pandas as pd\n",
    "from DS_models_stat import do_all_stats, cut_cat\n",
    "from astropy.coordinates import SkyCoord\n",
    "from astropy import units as u\n",
    "from tqdm.notebook import tqdm\n",
    "from matplotlib import pyplot as plt"
   ]
  },
  {
   "cell_type": "code",
   "execution_count": 3,
   "metadata": {
    "ExecuteTime": {
     "end_time": "2021-06-17T10:31:00.180827Z",
     "start_time": "2021-06-17T10:30:56.012405Z"
    }
   },
   "outputs": [],
   "source": [
    "#df41 = pd.read_csv('/home/rt2122/Data/detected_cats/full_pz_all_found34_thr0.1_step8_no_fn.csv')\n",
    "df41 = pd.read_csv('/home/rt2122/Data/detected_cats/full_pz_rot28_thr0.1_step8_no_fn.csv')\n",
    "df41 = cut_cat(df41, big_pix=[41]) "
   ]
  },
  {
   "cell_type": "code",
   "execution_count": 4,
   "metadata": {
    "ExecuteTime": {
     "end_time": "2021-06-17T10:31:00.302968Z",
     "start_time": "2021-06-17T10:31:00.182597Z"
    }
   },
   "outputs": [
    {
     "data": {
      "text/plain": [
       "array([0.1002816 , 0.11052042, 0.12080721, 0.13806235, 0.15828426,\n",
       "       0.17664718, 0.20331143, 0.23413718, 0.26054414, 0.30283457,\n",
       "       0.35258651, 0.39810381, 0.46261602, 0.53243184, 0.60265699,\n",
       "       0.67866516, 0.79222592, 0.86234755, 0.91789799, 0.97631503,\n",
       "       0.99771411])"
      ]
     },
     "execution_count": 4,
     "metadata": {},
     "output_type": "execute_result"
    }
   ],
   "source": [
    "mp_q = np.array(df41['max_pred'].quantile(np.arange(0.0, 1.05, 0.05)))\n",
    "mp_q"
   ]
  },
  {
   "cell_type": "code",
   "execution_count": 5,
   "metadata": {
    "ExecuteTime": {
     "end_time": "2021-06-17T10:31:19.199290Z",
     "start_time": "2021-06-17T10:31:18.637443Z"
    }
   },
   "outputs": [],
   "source": [
    "true_cats = {'PSZ2(z)' : '/home/rt2122/Data/clusters/planck_z.csv',\n",
    "             'PSZ2' : '/home/rt2122/Data/original_catalogs/csv/PSZ2.csv',\n",
    "            'MCXC' : '/home/rt2122/Data/original_catalogs/csv/MCXC.csv',\n",
    "            'ACT' : '/home/rt2122/Data/original_catalogs/csv/ACT.csv',\n",
    "            'Abell' : '/home/rt2122/Data/original_catalogs/csv/Abell.csv',\n",
    "            'eROSITA' : '/home/rt2122/Data/SRGz/clusters/clusters1_east_val_edit.csv'}\n",
    "true_cats = {key : pd.read_csv(true_cats[key]) for key in true_cats}\n",
    "\n",
    "big_pix = [41]\n",
    "true_cats = {key : cut_cat(true_cats[key], big_pix = big_pix) for key in true_cats}\n",
    "true_cats_sc = {key : SkyCoord(ra=np.array(true_cats[key]['RA']) * u.degree, \n",
    "                               dec=np.array(true_cats[key]['DEC']) * u.degree, frame='icrs') for key in true_cats}"
   ]
  },
  {
   "cell_type": "code",
   "execution_count": 6,
   "metadata": {
    "ExecuteTime": {
     "end_time": "2021-06-17T10:31:25.997884Z",
     "start_time": "2021-06-17T10:31:25.646987Z"
    }
   },
   "outputs": [
    {
     "data": {
      "application/vnd.jupyter.widget-view+json": {
       "model_id": "77f3a747c52d4870a29525f0fb4f95a5",
       "version_major": 2,
       "version_minor": 0
      },
      "text/plain": [
       "HBox(children=(FloatProgress(value=1.0, bar_style='info', max=1.0), HTML(value='')))"
      ]
     },
     "metadata": {},
     "output_type": "display_data"
    },
    {
     "name": "stdout",
     "output_type": "stream",
     "text": [
      "\n"
     ]
    }
   ],
   "source": [
    "prec41 = []\n",
    "for st, en in tqdm(zip(mp_q[:-1], mp_q[1:])):\n",
    "    cur_df = df41[df41['max_pred'] >= st]\n",
    "    cur_df.index = np.arange(len(cur_df))\n",
    "    \n",
    "    stats = do_all_stats(cur_df, true_cats, true_cats_sc=true_cats_sc, match_dist=400/3600)\n",
    "    prec41.append(stats['precision'])"
   ]
  },
  {
   "cell_type": "code",
   "execution_count": 7,
   "metadata": {
    "ExecuteTime": {
     "end_time": "2021-06-17T10:31:28.914055Z",
     "start_time": "2021-06-17T10:31:28.626858Z"
    }
   },
   "outputs": [
    {
     "data": {
      "text/plain": [
       "[<matplotlib.lines.Line2D at 0x7f47504018b0>]"
      ]
     },
     "execution_count": 7,
     "metadata": {},
     "output_type": "execute_result"
    },
    {
     "data": {
      "image/png": "[encoded data removed]",
      "text/plain": [
       "<Figure size 432x288 with 1 Axes>"
      ]
     },
     "metadata": {
      "needs_background": "light"
     },
     "output_type": "display_data"
    }
   ],
   "source": [
    "plt.plot((mp_q[:-1] + mp_q[1:])/2, prec41)"
   ]
  },
  {
   "cell_type": "code",
   "execution_count": 8,
   "metadata": {
    "ExecuteTime": {
     "end_time": "2021-06-17T10:31:34.565294Z",
     "start_time": "2021-06-17T10:31:34.548569Z"
    }
   },
   "outputs": [
    {
     "name": "stdout",
     "output_type": "stream",
     "text": [
      "0.10028160156475173 0.3241758241758242\n",
      "0.11052042427472769 0.33043478260869563\n",
      "0.12080720694407318 0.3486238532110092\n",
      "0.1380623487988487 0.3559870550161812\n",
      "0.15828426368534565 0.3711340206185567\n",
      "0.17664718453306705 0.38461538461538464\n",
      "0.20331142580447098 0.396078431372549\n",
      "0.23413717965595432 0.4110169491525424\n",
      "0.26054414063692105 0.44036697247706424\n",
      "0.30283457088749854 0.455\n",
      "0.35258650965988636 0.4835164835164835\n",
      "0.3981038121739402 0.524390243902439\n",
      "0.46261602081358455 0.547945205479452\n",
      "0.532431840121613 0.5859375\n",
      "0.6026569897308945 0.6238532110091743\n",
      "0.678665159852244 0.7032967032967034\n",
      "0.792225924320519 0.7534246575342466\n",
      "0.8623475469881668 0.8\n",
      "0.9178979861550033 0.8648648648648649\n",
      "0.9763150305021552 1.0\n"
     ]
    }
   ],
   "source": [
    "for st, en, prec_val in zip(mp_q[:-1], mp_q[1:], prec41):\n",
    "    print(st, prec_val)"
   ]
  },
  {
   "cell_type": "code",
   "execution_count": 9,
   "metadata": {
    "ExecuteTime": {
     "end_time": "2021-06-17T10:31:35.128967Z",
     "start_time": "2021-06-17T10:31:35.117307Z"
    }
   },
   "outputs": [
    {
     "data": {
      "text/plain": [
       "array([0.        , 0.11052042, 0.12080721, 0.13806235, 0.15828426,\n",
       "       0.17664718, 0.20331143, 0.23413718, 0.26054414, 0.30283457,\n",
       "       0.35258651, 0.39810381, 0.46261602, 0.53243184, 0.60265699,\n",
       "       0.67866516, 0.79222592, 0.86234755, 0.91789799, 0.97631503,\n",
       "       1.        ])"
      ]
     },
     "execution_count": 9,
     "metadata": {},
     "output_type": "execute_result"
    }
   ],
   "source": [
    "mp_q[0] = 0\n",
    "mp_q[-1] = 1\n",
    "mp_q"
   ]
  },
  {
   "cell_type": "code",
   "execution_count": 10,
   "metadata": {
    "ExecuteTime": {
     "end_time": "2021-06-17T10:32:05.358886Z",
     "start_time": "2021-06-17T10:32:05.347035Z"
    }
   },
   "outputs": [],
   "source": [
    "prec41.append(1.0)"
   ]
  },
  {
   "cell_type": "code",
   "execution_count": 11,
   "metadata": {
    "ExecuteTime": {
     "end_time": "2021-06-17T10:32:08.033990Z",
     "start_time": "2021-06-17T10:32:08.006911Z"
    }
   },
   "outputs": [],
   "source": [
    "def find_prec(st, en, prec1, prec2, cur_mp):\n",
    "    \n",
    "    def find_kb(coords1, coords2):\n",
    "        #y1 = kx1 + b\n",
    "        #y2 = kx2 + b\n",
    "        #y1- y2 = k(x1 - x2)\n",
    "        #k = (y1-y2)/(x1-x2)\n",
    "        #b=y1-kx1\n",
    "        k = coords1[1] - coords2[1]\n",
    "        k /= coords1[0] - coords2[0]\n",
    "        b = coords1[1] - k * coords1[0]\n",
    "        return k, b\n",
    "    \n",
    "    k, b = find_kb([st, prec1], [en, prec2])\n",
    "    if st <= cur_mp and cur_mp <= en:\n",
    "        return k * cur_mp + b\n",
    "    else:\n",
    "        return -1"
   ]
  },
  {
   "cell_type": "code",
   "execution_count": 12,
   "metadata": {
    "ExecuteTime": {
     "end_time": "2021-06-17T10:32:26.866383Z",
     "start_time": "2021-06-17T10:32:26.712896Z"
    }
   },
   "outputs": [
    {
     "data": {
      "text/html": [
       "<div>\n",
       "<style scoped>\n",
       "    .dataframe tbody tr th:only-of-type {\n",
       "        vertical-align: middle;\n",
       "    }\n",
       "\n",
       "    .dataframe tbody tr th {\n",
       "        vertical-align: top;\n",
       "    }\n",
       "\n",
       "    .dataframe thead th {\n",
       "        text-align: right;\n",
       "    }\n",
       "</style>\n",
       "<table border=\"1\" class=\"dataframe\">\n",
       "  <thead>\n",
       "    <tr style=\"text-align: right;\">\n",
       "      <th></th>\n",
       "      <th>RA</th>\n",
       "      <th>DEC</th>\n",
       "      <th>area</th>\n",
       "      <th>min_rad</th>\n",
       "      <th>max_rad</th>\n",
       "      <th>mean_rad</th>\n",
       "      <th>min_pred</th>\n",
       "      <th>max_pred</th>\n",
       "      <th>tRA</th>\n",
       "      <th>tDEC</th>\n",
       "      <th>status</th>\n",
       "      <th>catalog</th>\n",
       "      <th>M500</th>\n",
       "      <th>z</th>\n",
       "      <th>pix2</th>\n",
       "      <th>mpp</th>\n",
       "    </tr>\n",
       "  </thead>\n",
       "  <tbody>\n",
       "    <tr>\n",
       "      <th>0</th>\n",
       "      <td>188.363958</td>\n",
       "      <td>4.748388</td>\n",
       "      <td>1.0</td>\n",
       "      <td>0.0</td>\n",
       "      <td>1.414214</td>\n",
       "      <td>0.853553</td>\n",
       "      <td>0.100011</td>\n",
       "      <td>0.100011</td>\n",
       "      <td>NaN</td>\n",
       "      <td>NaN</td>\n",
       "      <td>fp</td>\n",
       "      <td>NaN</td>\n",
       "      <td>NaN</td>\n",
       "      <td>NaN</td>\n",
       "      <td>train_pix</td>\n",
       "      <td>0</td>\n",
       "    </tr>\n",
       "    <tr>\n",
       "      <th>1</th>\n",
       "      <td>218.550729</td>\n",
       "      <td>7.653272</td>\n",
       "      <td>1.0</td>\n",
       "      <td>0.0</td>\n",
       "      <td>1.414214</td>\n",
       "      <td>0.853553</td>\n",
       "      <td>0.100012</td>\n",
       "      <td>0.100012</td>\n",
       "      <td>NaN</td>\n",
       "      <td>NaN</td>\n",
       "      <td>fp</td>\n",
       "      <td>NaN</td>\n",
       "      <td>NaN</td>\n",
       "      <td>NaN</td>\n",
       "      <td>train_pix</td>\n",
       "      <td>0</td>\n",
       "    </tr>\n",
       "    <tr>\n",
       "      <th>2</th>\n",
       "      <td>199.894434</td>\n",
       "      <td>-54.752342</td>\n",
       "      <td>1.0</td>\n",
       "      <td>0.0</td>\n",
       "      <td>1.414214</td>\n",
       "      <td>0.853553</td>\n",
       "      <td>0.100012</td>\n",
       "      <td>0.100012</td>\n",
       "      <td>NaN</td>\n",
       "      <td>NaN</td>\n",
       "      <td>fp</td>\n",
       "      <td>NaN</td>\n",
       "      <td>NaN</td>\n",
       "      <td>NaN</td>\n",
       "      <td>train_pix</td>\n",
       "      <td>0</td>\n",
       "    </tr>\n",
       "    <tr>\n",
       "      <th>3</th>\n",
       "      <td>12.433216</td>\n",
       "      <td>69.732549</td>\n",
       "      <td>1.0</td>\n",
       "      <td>0.0</td>\n",
       "      <td>1.414214</td>\n",
       "      <td>0.853553</td>\n",
       "      <td>0.100022</td>\n",
       "      <td>0.100022</td>\n",
       "      <td>NaN</td>\n",
       "      <td>NaN</td>\n",
       "      <td>fp</td>\n",
       "      <td>NaN</td>\n",
       "      <td>NaN</td>\n",
       "      <td>NaN</td>\n",
       "      <td>train_pix</td>\n",
       "      <td>0</td>\n",
       "    </tr>\n",
       "  </tbody>\n",
       "</table>\n",
       "</div>"
      ],
      "text/plain": [
       "           RA        DEC  area  min_rad   max_rad  mean_rad  min_pred  \\\n",
       "0  188.363958   4.748388   1.0      0.0  1.414214  0.853553  0.100011   \n",
       "1  218.550729   7.653272   1.0      0.0  1.414214  0.853553  0.100012   \n",
       "2  199.894434 -54.752342   1.0      0.0  1.414214  0.853553  0.100012   \n",
       "3   12.433216  69.732549   1.0      0.0  1.414214  0.853553  0.100022   \n",
       "\n",
       "   max_pred  tRA  tDEC status catalog  M500   z       pix2  mpp  \n",
       "0  0.100011  NaN   NaN     fp     NaN   NaN NaN  train_pix    0  \n",
       "1  0.100012  NaN   NaN     fp     NaN   NaN NaN  train_pix    0  \n",
       "2  0.100012  NaN   NaN     fp     NaN   NaN NaN  train_pix    0  \n",
       "3  0.100022  NaN   NaN     fp     NaN   NaN NaN  train_pix    0  "
      ]
     },
     "execution_count": 12,
     "metadata": {},
     "output_type": "execute_result"
    }
   ],
   "source": [
    "#df = pd.read_csv('/home/rt2122/Data/detected_cats/full_pz_all_found34_thr0.1_step8_no_fn.csv')\n",
    "df = pd.read_csv('/home/rt2122/Data/detected_cats/full_pz_rot28_thr0.1_step8_no_fn.csv')\n",
    "df = df.sort_values(by='max_pred', axis='index', ascending=True)\n",
    "df['mpp'] = 0\n",
    "df.index = np.arange(len(df))\n",
    "df.head(4)"
   ]
  },
  {
   "cell_type": "code",
   "execution_count": 13,
   "metadata": {
    "ExecuteTime": {
     "end_time": "2021-06-17T10:32:55.384876Z",
     "start_time": "2021-06-17T10:32:44.127787Z"
    }
   },
   "outputs": [
    {
     "data": {
      "application/vnd.jupyter.widget-view+json": {
       "model_id": "ec7e998e1ee04351ae1671f21b944cb0",
       "version_major": 2,
       "version_minor": 0
      },
      "text/plain": [
       "HBox(children=(FloatProgress(value=0.0, max=23331.0), HTML(value='')))"
      ]
     },
     "metadata": {},
     "output_type": "display_data"
    },
    {
     "name": "stdout",
     "output_type": "stream",
     "text": [
      "\n"
     ]
    }
   ],
   "source": [
    "i = 0\n",
    "st = mp_q[i]\n",
    "en = mp_q[i + 1]\n",
    "prec1 = prec41[i]\n",
    "prec2 = prec41[i + 1]\n",
    "for j in tqdm(range(len(df))):\n",
    "    line = df.iloc[j]\n",
    "    mp = line['max_pred']\n",
    "    if mp > en:\n",
    "        i += 1\n",
    "        st = mp_q[i]\n",
    "        if i + 1 >= len(mp_q):\n",
    "            en = 1\n",
    "        else:\n",
    "            en = mp_q[i + 1]\n",
    "        prec1 = prec41[i]\n",
    "        prec2 = prec41[i + 1]\n",
    "    prec_val = find_prec(st, en, prec1, prec2, mp)\n",
    "    if prec_val < 0 or not (prec1 <=prec_val and prec_val <= prec2):\n",
    "        break\n",
    "    df.loc[j, 'mpp'] = prec_val"
   ]
  },
  {
   "cell_type": "code",
   "execution_count": 14,
   "metadata": {
    "ExecuteTime": {
     "end_time": "2021-06-17T10:32:55.524009Z",
     "start_time": "2021-06-17T10:32:55.386666Z"
    }
   },
   "outputs": [
    {
     "data": {
      "text/plain": [
       "[<matplotlib.lines.Line2D at 0x7f475035e070>]"
      ]
     },
     "execution_count": 14,
     "metadata": {},
     "output_type": "execute_result"
    },
    {
     "data": {
      "image/png": "[encoded data removed]",
      "text/plain": [
       "<Figure size 576x576 with 1 Axes>"
      ]
     },
     "metadata": {
      "needs_background": "light"
     },
     "output_type": "display_data"
    }
   ],
   "source": [
    "_, ax = plt.subplots(1, 1, figsize=(8, 8))\n",
    "ax.plot(df['max_pred'], df['mpp'])"
   ]
  },
  {
   "cell_type": "code",
   "execution_count": 15,
   "metadata": {
    "ExecuteTime": {
     "end_time": "2021-06-17T10:32:55.779418Z",
     "start_time": "2021-06-17T10:32:55.527028Z"
    }
   },
   "outputs": [
    {
     "data": {
      "text/html": [
       "<div>\n",
       "<style scoped>\n",
       "    .dataframe tbody tr th:only-of-type {\n",
       "        vertical-align: middle;\n",
       "    }\n",
       "\n",
       "    .dataframe tbody tr th {\n",
       "        vertical-align: top;\n",
       "    }\n",
       "\n",
       "    .dataframe thead th {\n",
       "        text-align: right;\n",
       "    }\n",
       "</style>\n",
       "<table border=\"1\" class=\"dataframe\">\n",
       "  <thead>\n",
       "    <tr style=\"text-align: right;\">\n",
       "      <th></th>\n",
       "      <th>RA</th>\n",
       "      <th>DEC</th>\n",
       "      <th>area</th>\n",
       "      <th>min_rad</th>\n",
       "      <th>max_rad</th>\n",
       "      <th>mean_rad</th>\n",
       "      <th>min_pred</th>\n",
       "      <th>max_pred</th>\n",
       "      <th>tRA</th>\n",
       "      <th>tDEC</th>\n",
       "      <th>status</th>\n",
       "      <th>catalog</th>\n",
       "      <th>M500</th>\n",
       "      <th>z</th>\n",
       "      <th>pix2</th>\n",
       "      <th>mpp</th>\n",
       "    </tr>\n",
       "  </thead>\n",
       "  <tbody>\n",
       "    <tr>\n",
       "      <th>0</th>\n",
       "      <td>188.363958</td>\n",
       "      <td>4.748388</td>\n",
       "      <td>1.0</td>\n",
       "      <td>0.000000</td>\n",
       "      <td>1.414214</td>\n",
       "      <td>0.853553</td>\n",
       "      <td>0.100011</td>\n",
       "      <td>0.100011</td>\n",
       "      <td>NaN</td>\n",
       "      <td>NaN</td>\n",
       "      <td>fp</td>\n",
       "      <td>NaN</td>\n",
       "      <td>NaN</td>\n",
       "      <td>NaN</td>\n",
       "      <td>train_pix</td>\n",
       "      <td>0.329840</td>\n",
       "    </tr>\n",
       "    <tr>\n",
       "      <th>1</th>\n",
       "      <td>218.550729</td>\n",
       "      <td>7.653272</td>\n",
       "      <td>1.0</td>\n",
       "      <td>0.000000</td>\n",
       "      <td>1.414214</td>\n",
       "      <td>0.853553</td>\n",
       "      <td>0.100012</td>\n",
       "      <td>0.100012</td>\n",
       "      <td>NaN</td>\n",
       "      <td>NaN</td>\n",
       "      <td>fp</td>\n",
       "      <td>NaN</td>\n",
       "      <td>NaN</td>\n",
       "      <td>NaN</td>\n",
       "      <td>train_pix</td>\n",
       "      <td>0.329840</td>\n",
       "    </tr>\n",
       "    <tr>\n",
       "      <th>2</th>\n",
       "      <td>199.894434</td>\n",
       "      <td>-54.752342</td>\n",
       "      <td>1.0</td>\n",
       "      <td>0.000000</td>\n",
       "      <td>1.414214</td>\n",
       "      <td>0.853553</td>\n",
       "      <td>0.100012</td>\n",
       "      <td>0.100012</td>\n",
       "      <td>NaN</td>\n",
       "      <td>NaN</td>\n",
       "      <td>fp</td>\n",
       "      <td>NaN</td>\n",
       "      <td>NaN</td>\n",
       "      <td>NaN</td>\n",
       "      <td>train_pix</td>\n",
       "      <td>0.329840</td>\n",
       "    </tr>\n",
       "    <tr>\n",
       "      <th>3</th>\n",
       "      <td>12.433216</td>\n",
       "      <td>69.732549</td>\n",
       "      <td>1.0</td>\n",
       "      <td>0.000000</td>\n",
       "      <td>1.414214</td>\n",
       "      <td>0.853553</td>\n",
       "      <td>0.100022</td>\n",
       "      <td>0.100022</td>\n",
       "      <td>NaN</td>\n",
       "      <td>NaN</td>\n",
       "      <td>fp</td>\n",
       "      <td>NaN</td>\n",
       "      <td>NaN</td>\n",
       "      <td>NaN</td>\n",
       "      <td>train_pix</td>\n",
       "      <td>0.329840</td>\n",
       "    </tr>\n",
       "    <tr>\n",
       "      <th>4</th>\n",
       "      <td>73.340993</td>\n",
       "      <td>66.039037</td>\n",
       "      <td>1.0</td>\n",
       "      <td>0.000000</td>\n",
       "      <td>1.414214</td>\n",
       "      <td>0.853553</td>\n",
       "      <td>0.100031</td>\n",
       "      <td>0.100031</td>\n",
       "      <td>NaN</td>\n",
       "      <td>NaN</td>\n",
       "      <td>fp</td>\n",
       "      <td>NaN</td>\n",
       "      <td>NaN</td>\n",
       "      <td>NaN</td>\n",
       "      <td>train_pix</td>\n",
       "      <td>0.329841</td>\n",
       "    </tr>\n",
       "    <tr>\n",
       "      <th>...</th>\n",
       "      <td>...</td>\n",
       "      <td>...</td>\n",
       "      <td>...</td>\n",
       "      <td>...</td>\n",
       "      <td>...</td>\n",
       "      <td>...</td>\n",
       "      <td>...</td>\n",
       "      <td>...</td>\n",
       "      <td>...</td>\n",
       "      <td>...</td>\n",
       "      <td>...</td>\n",
       "      <td>...</td>\n",
       "      <td>...</td>\n",
       "      <td>...</td>\n",
       "      <td>...</td>\n",
       "      <td>...</td>\n",
       "    </tr>\n",
       "    <tr>\n",
       "      <th>23326</th>\n",
       "      <td>90.796013</td>\n",
       "      <td>42.214613</td>\n",
       "      <td>33.0</td>\n",
       "      <td>1.948054</td>\n",
       "      <td>5.490656</td>\n",
       "      <td>3.486346</td>\n",
       "      <td>0.109227</td>\n",
       "      <td>0.999985</td>\n",
       "      <td>90.839443</td>\n",
       "      <td>42.23229</td>\n",
       "      <td>tp</td>\n",
       "      <td>planck_z</td>\n",
       "      <td>10.759314</td>\n",
       "      <td>0.228</td>\n",
       "      <td>train_pix</td>\n",
       "      <td>1.000000</td>\n",
       "    </tr>\n",
       "    <tr>\n",
       "      <th>23327</th>\n",
       "      <td>227.997438</td>\n",
       "      <td>-59.713060</td>\n",
       "      <td>35.0</td>\n",
       "      <td>1.170771</td>\n",
       "      <td>6.421239</td>\n",
       "      <td>3.672577</td>\n",
       "      <td>0.115916</td>\n",
       "      <td>0.999992</td>\n",
       "      <td>NaN</td>\n",
       "      <td>NaN</td>\n",
       "      <td>fp</td>\n",
       "      <td>NaN</td>\n",
       "      <td>NaN</td>\n",
       "      <td>NaN</td>\n",
       "      <td>train_pix</td>\n",
       "      <td>1.000000</td>\n",
       "    </tr>\n",
       "    <tr>\n",
       "      <th>23328</th>\n",
       "      <td>258.142204</td>\n",
       "      <td>-23.362897</td>\n",
       "      <td>42.0</td>\n",
       "      <td>1.923147</td>\n",
       "      <td>5.684268</td>\n",
       "      <td>3.842497</td>\n",
       "      <td>0.100231</td>\n",
       "      <td>0.999998</td>\n",
       "      <td>258.103000</td>\n",
       "      <td>-23.35000</td>\n",
       "      <td>tp</td>\n",
       "      <td>mcxcwp</td>\n",
       "      <td>5.312300</td>\n",
       "      <td>0.028</td>\n",
       "      <td>train_pix</td>\n",
       "      <td>1.000000</td>\n",
       "    </tr>\n",
       "    <tr>\n",
       "      <th>23329</th>\n",
       "      <td>135.663695</td>\n",
       "      <td>-48.088486</td>\n",
       "      <td>32.0</td>\n",
       "      <td>1.850095</td>\n",
       "      <td>6.689222</td>\n",
       "      <td>3.387751</td>\n",
       "      <td>0.126578</td>\n",
       "      <td>1.000000</td>\n",
       "      <td>NaN</td>\n",
       "      <td>NaN</td>\n",
       "      <td>fp</td>\n",
       "      <td>NaN</td>\n",
       "      <td>NaN</td>\n",
       "      <td>NaN</td>\n",
       "      <td>train_pix</td>\n",
       "      <td>1.000000</td>\n",
       "    </tr>\n",
       "    <tr>\n",
       "      <th>23330</th>\n",
       "      <td>34.889343</td>\n",
       "      <td>1.651775</td>\n",
       "      <td>16.0</td>\n",
       "      <td>1.394469</td>\n",
       "      <td>3.104432</td>\n",
       "      <td>2.356424</td>\n",
       "      <td>0.718750</td>\n",
       "      <td>1.000000</td>\n",
       "      <td>NaN</td>\n",
       "      <td>NaN</td>\n",
       "      <td>fp</td>\n",
       "      <td>NaN</td>\n",
       "      <td>NaN</td>\n",
       "      <td>NaN</td>\n",
       "      <td>train_pix</td>\n",
       "      <td>1.000000</td>\n",
       "    </tr>\n",
       "  </tbody>\n",
       "</table>\n",
       "<p>23331 rows × 16 columns</p>\n",
       "</div>"
      ],
      "text/plain": [
       "               RA        DEC  area   min_rad   max_rad  mean_rad  min_pred  \\\n",
       "0      188.363958   4.748388   1.0  0.000000  1.414214  0.853553  0.100011   \n",
       "1      218.550729   7.653272   1.0  0.000000  1.414214  0.853553  0.100012   \n",
       "2      199.894434 -54.752342   1.0  0.000000  1.414214  0.853553  0.100012   \n",
       "3       12.433216  69.732549   1.0  0.000000  1.414214  0.853553  0.100022   \n",
       "4       73.340993  66.039037   1.0  0.000000  1.414214  0.853553  0.100031   \n",
       "...           ...        ...   ...       ...       ...       ...       ...   \n",
       "23326   90.796013  42.214613  33.0  1.948054  5.490656  3.486346  0.109227   \n",
       "23327  227.997438 -59.713060  35.0  1.170771  6.421239  3.672577  0.115916   \n",
       "23328  258.142204 -23.362897  42.0  1.923147  5.684268  3.842497  0.100231   \n",
       "23329  135.663695 -48.088486  32.0  1.850095  6.689222  3.387751  0.126578   \n",
       "23330   34.889343   1.651775  16.0  1.394469  3.104432  2.356424  0.718750   \n",
       "\n",
       "       max_pred         tRA      tDEC status   catalog       M500      z  \\\n",
       "0      0.100011         NaN       NaN     fp       NaN        NaN    NaN   \n",
       "1      0.100012         NaN       NaN     fp       NaN        NaN    NaN   \n",
       "2      0.100012         NaN       NaN     fp       NaN        NaN    NaN   \n",
       "3      0.100022         NaN       NaN     fp       NaN        NaN    NaN   \n",
       "4      0.100031         NaN       NaN     fp       NaN        NaN    NaN   \n",
       "...         ...         ...       ...    ...       ...        ...    ...   \n",
       "23326  0.999985   90.839443  42.23229     tp  planck_z  10.759314  0.228   \n",
       "23327  0.999992         NaN       NaN     fp       NaN        NaN    NaN   \n",
       "23328  0.999998  258.103000 -23.35000     tp    mcxcwp   5.312300  0.028   \n",
       "23329  1.000000         NaN       NaN     fp       NaN        NaN    NaN   \n",
       "23330  1.000000         NaN       NaN     fp       NaN        NaN    NaN   \n",
       "\n",
       "            pix2       mpp  \n",
       "0      train_pix  0.329840  \n",
       "1      train_pix  0.329840  \n",
       "2      train_pix  0.329840  \n",
       "3      train_pix  0.329840  \n",
       "4      train_pix  0.329841  \n",
       "...          ...       ...  \n",
       "23326  train_pix  1.000000  \n",
       "23327  train_pix  1.000000  \n",
       "23328  train_pix  1.000000  \n",
       "23329  train_pix  1.000000  \n",
       "23330  train_pix  1.000000  \n",
       "\n",
       "[23331 rows x 16 columns]"
      ]
     },
     "execution_count": 15,
     "metadata": {},
     "output_type": "execute_result"
    }
   ],
   "source": [
    "df"
   ]
  },
  {
   "cell_type": "code",
   "execution_count": 16,
   "metadata": {
    "ExecuteTime": {
     "end_time": "2021-06-17T10:33:40.645047Z",
     "start_time": "2021-06-17T10:33:40.259562Z"
    }
   },
   "outputs": [],
   "source": [
    "#df.to_csv('/home/rt2122/Data/detected_cats/full_pz_all_found34_thr0.1_step8_no_fn_mpp.csv', index=False)\n",
    "df.to_csv('/home/rt2122/Data/detected_cats/full_pz_rot28_thr0.1_step8_no_fn_mpp.csv', index=False)"
   ]
  },
  {
   "cell_type": "code",
   "execution_count": null,
   "metadata": {},
   "outputs": [],
   "source": []
  }
 ],
 "metadata": {
  "kernelspec": {
   "display_name": "Python 3",
   "language": "python",
   "name": "python3"
  },
  "language_info": {
   "codemirror_mode": {
    "name": "ipython",
    "version": 3
   },
   "file_extension": ".py",
   "mimetype": "text/x-python",
   "name": "python",
   "nbconvert_exporter": "python",
   "pygments_lexer": "ipython3",
   "version": "3.8.3"
  }
 },
 "nbformat": 4,
 "nbformat_minor": 4
}
