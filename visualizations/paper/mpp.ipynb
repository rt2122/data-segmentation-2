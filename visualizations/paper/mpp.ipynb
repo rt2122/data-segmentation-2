{
 "cells": [
  {
   "cell_type": "code",
   "execution_count": 5,
   "metadata": {
    "ExecuteTime": {
     "end_time": "2021-06-12T11:39:10.736334Z",
     "start_time": "2021-06-12T11:39:10.039573Z"
    }
   },
   "outputs": [],
   "source": [
    "import numpy as np\n",
    "import pandas as pd\n",
    "from DS_models_stat import do_all_stats, cut_cat \n",
    "from astropy.coordinates import SkyCoord\n",
    "from astropy import units as u\n",
    "from tqdm.notebook import tqdm\n",
    "from matplotlib import pyplot as plt"
   ]
  },
  {
   "cell_type": "code",
   "execution_count": 33,
   "metadata": {
    "ExecuteTime": {
     "end_time": "2021-06-12T12:18:10.698381Z",
     "start_time": "2021-06-12T12:18:10.603057Z"
    }
   },
   "outputs": [],
   "source": [
    "#df = pd.read_csv('/home/rt2122/Data/detected_cats/full_pz_all_found34_thr0.1_step8_no_fn.csv')\n",
    "df = pd.read_csv('/home/rt2122/Data/SRGz/brcat.csv')\n",
    "df['mpp'] = 0"
   ]
  },
  {
   "cell_type": "code",
   "execution_count": 34,
   "metadata": {
    "ExecuteTime": {
     "end_time": "2021-06-12T12:18:12.293324Z",
     "start_time": "2021-06-12T12:18:12.014676Z"
    }
   },
   "outputs": [],
   "source": [
    "true_cats = {'PSZ2(z)' : '/home/rt2122/Data/clusters/planck_z.csv',\n",
    "             'PSZ2' : '/home/rt2122/Data/original_catalogs/csv/PSZ2.csv',\n",
    "            'MCXC' : '/home/rt2122/Data/original_catalogs/csv/MCXC.csv',\n",
    "            'ACT' : '/home/rt2122/Data/original_catalogs/csv/ACT.csv',\n",
    "            'Abell' : '/home/rt2122/Data/original_catalogs/csv/Abell.csv',\n",
    "            'eROSITA' : '/home/rt2122/Data/SRGz/clusters/clusters1_east_val_edit.csv'}\n",
    "true_cats = {key : pd.read_csv(true_cats[key]) for key in true_cats}\n",
    "\n",
    "big_pix = [41]\n",
    "true_cats = {key : cut_cat(true_cats[key], big_pix = big_pix) for key in true_cats}\n",
    "true_cats_sc = {key : SkyCoord(ra=np.array(true_cats[key]['RA']) * u.degree, \n",
    "                               dec=np.array(true_cats[key]['DEC']) * u.degree, frame='icrs') for key in true_cats}"
   ]
  },
  {
   "cell_type": "code",
   "execution_count": 36,
   "metadata": {
    "ExecuteTime": {
     "end_time": "2021-06-12T12:22:46.564736Z",
     "start_time": "2021-06-12T12:18:49.386829Z"
    }
   },
   "outputs": [
    {
     "data": {
      "application/vnd.jupyter.widget-view+json": {
       "model_id": "309e17ac152746b8934aabe20940a3e8",
       "version_major": 2,
       "version_minor": 0
      },
      "text/plain": [
       "HBox(children=(FloatProgress(value=0.0, max=13772.0), HTML(value='')))"
      ]
     },
     "metadata": {},
     "output_type": "display_data"
    },
    {
     "name": "stderr",
     "output_type": "stream",
     "text": [
      "/home/rt2122/anaconda3/lib/python3.8/site-packages/pandas/core/indexing.py:966: SettingWithCopyWarning: \n",
      "A value is trying to be set on a copy of a slice from a DataFrame.\n",
      "Try using .loc[row_indexer,col_indexer] = value instead\n",
      "\n",
      "See the caveats in the documentation: https://pandas.pydata.org/pandas-docs/stable/user_guide/indexing.html#returning-a-view-versus-a-copy\n",
      "  self.obj[item] = s\n"
     ]
    },
    {
     "name": "stdout",
     "output_type": "stream",
     "text": [
      "\n"
     ]
    }
   ],
   "source": [
    "for i in tqdm(range(len(df))):\n",
    "    line = df.iloc[i]\n",
    "    mp = line['max_pred']\n",
    "    cur_df = df[df['max_pred'] >= mp]\n",
    "    cur_df.index = np.arange(len(cur_df))\n",
    "    if len(cur_df) == 0:\n",
    "        df.loc[i, 'mpp'] = 0\n",
    "    else:\n",
    "        stats = do_all_stats(cur_df, true_cats, true_cats_sc=true_cats_sc, match_dist=400/3600)\n",
    "        df.loc[i, 'mpp'] = stats['precision']\n"
   ]
  },
  {
   "cell_type": "code",
   "execution_count": 37,
   "metadata": {
    "ExecuteTime": {
     "end_time": "2021-06-12T12:23:05.641676Z",
     "start_time": "2021-06-12T12:23:05.636469Z"
    }
   },
   "outputs": [],
   "source": [
    "df = df.sort_values(by=['max_pred'], axis='index')\n",
    "df.index = np.arange(len(df))"
   ]
  },
  {
   "cell_type": "code",
   "execution_count": 38,
   "metadata": {
    "ExecuteTime": {
     "end_time": "2021-06-12T12:23:06.337895Z",
     "start_time": "2021-06-12T12:23:06.192045Z"
    }
   },
   "outputs": [
    {
     "data": {
      "text/plain": [
       "[<matplotlib.lines.Line2D at 0x7fa04740e760>]"
      ]
     },
     "execution_count": 38,
     "metadata": {},
     "output_type": "execute_result"
    },
    {
     "data": {
      "image/png": "[encoded data removed]",
      "text/plain": [
       "<Figure size 576x576 with 1 Axes>"
      ]
     },
     "metadata": {
      "needs_background": "light"
     },
     "output_type": "display_data"
    }
   ],
   "source": [
    "_, ax = plt.subplots(1, 1, figsize=(8, 8))\n",
    "cur_df = df[df['max_pred'] >= 0.0]\n",
    "ax.plot(cur_df['max_pred'][::], cur_df['mpp'])"
   ]
  },
  {
   "cell_type": "code",
   "execution_count": 39,
   "metadata": {
    "ExecuteTime": {
     "end_time": "2021-06-12T12:23:32.653112Z",
     "start_time": "2021-06-12T12:23:30.841647Z"
    }
   },
   "outputs": [
    {
     "data": {
      "application/vnd.jupyter.widget-view+json": {
       "model_id": "3af1a8b2ef964896ba94604a2c6f26ae",
       "version_major": 2,
       "version_minor": 0
      },
      "text/plain": [
       "HBox(children=(FloatProgress(value=0.0, max=13772.0), HTML(value='')))"
      ]
     },
     "metadata": {},
     "output_type": "display_data"
    },
    {
     "name": "stdout",
     "output_type": "stream",
     "text": [
      "\n"
     ]
    }
   ],
   "source": [
    "for i in tqdm(range(len(df))):\n",
    "    if i > 0 and df.loc[i, 'mpp'] < df.loc[i - 1, 'mpp']:\n",
    "        df.loc[i, 'mpp'] = df.loc[i - 1, 'mpp']"
   ]
  },
  {
   "cell_type": "code",
   "execution_count": 40,
   "metadata": {
    "ExecuteTime": {
     "end_time": "2021-06-12T12:23:32.800835Z",
     "start_time": "2021-06-12T12:23:32.654621Z"
    }
   },
   "outputs": [
    {
     "data": {
      "text/plain": [
       "[<matplotlib.lines.Line2D at 0x7fa04502cd90>]"
      ]
     },
     "execution_count": 40,
     "metadata": {},
     "output_type": "execute_result"
    },
    {
     "data": {
      "image/png": "[encoded data removed]",
      "text/plain": [
       "<Figure size 576x576 with 1 Axes>"
      ]
     },
     "metadata": {
      "needs_background": "light"
     },
     "output_type": "display_data"
    }
   ],
   "source": [
    "_, ax = plt.subplots(1, 1, figsize=(8, 8))\n",
    "cur_df = df[df['max_pred'] >= 0.0]\n",
    "ax.plot(cur_df['max_pred'][::], cur_df['mpp'])"
   ]
  },
  {
   "cell_type": "code",
   "execution_count": 41,
   "metadata": {
    "ExecuteTime": {
     "end_time": "2021-06-12T12:23:50.470329Z",
     "start_time": "2021-06-12T12:23:50.340642Z"
    }
   },
   "outputs": [],
   "source": [
    "#df.to_csv('/home/rt2122/Data/detected_cats/full_pz_all_found34_thr0.1_step8_no_fn_mpp.csv', index=False)\n",
    "df.to_csv('/home/rt2122/Data/SRGz/brcat_mpp.csv')"
   ]
  },
  {
   "cell_type": "code",
   "execution_count": null,
   "metadata": {},
   "outputs": [],
   "source": []
  }
 ],
 "metadata": {
  "kernelspec": {
   "display_name": "Python 3",
   "language": "python",
   "name": "python3"
  },
  "language_info": {
   "codemirror_mode": {
    "name": "ipython",
    "version": 3
   },
   "file_extension": ".py",
   "mimetype": "text/x-python",
   "name": "python",
   "nbconvert_exporter": "python",
   "pygments_lexer": "ipython3",
   "version": "3.8.3"
  }
 },
 "nbformat": 4,
 "nbformat_minor": 4
}
