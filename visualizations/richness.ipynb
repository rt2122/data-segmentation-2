{
 "cells": [
  {
   "cell_type": "code",
   "execution_count": 1,
   "metadata": {
    "ExecuteTime": {
     "end_time": "2021-03-29T10:45:39.216633Z",
     "start_time": "2021-03-29T10:45:38.670093Z"
    }
   },
   "outputs": [],
   "source": [
    "import pandas as pd\n",
    "import numpy as np\n",
    "from astropy.io import fits\n",
    "from astropy.table import Table\n",
    "from DS_detector import rematch_cat"
   ]
  },
  {
   "cell_type": "code",
   "execution_count": 2,
   "metadata": {
    "ExecuteTime": {
     "end_time": "2021-03-29T10:45:40.180449Z",
     "start_time": "2021-03-29T10:45:39.737911Z"
    }
   },
   "outputs": [
    {
     "name": "stdout",
     "output_type": "stream",
     "text": [
      "ColDefs(\n",
      "    name = 'ID'; format = 'J'\n",
      "    name = 'NAME'; format = '20A'\n",
      "    name = 'RA'; format = 'D'\n",
      "    name = 'DEC'; format = 'D'\n",
      "    name = 'Z_LAMBDA'; format = 'E'\n",
      "    name = 'Z_LAMBDA_ERR'; format = 'E'\n",
      "    name = 'LAMBDA'; format = 'E'\n",
      "    name = 'LAMBDA_ERR'; format = 'E'\n",
      "    name = 'S'; format = 'E'\n",
      "    name = 'Z_SPEC'; format = 'E'\n",
      "    name = 'OBJID'; format = 'K'\n",
      "    name = 'IMAG'; format = 'E'\n",
      "    name = 'IMAG_ERR'; format = 'E'\n",
      "    name = 'MODEL_MAG_U'; format = 'E'\n",
      "    name = 'MODEL_MAGERR_U'; format = 'E'\n",
      "    name = 'MODEL_MAG_G'; format = 'E'\n",
      "    name = 'MODEL_MAGERR_G'; format = 'E'\n",
      "    name = 'MODEL_MAG_R'; format = 'E'\n",
      "    name = 'MODEL_MAGERR_R'; format = 'E'\n",
      "    name = 'MODEL_MAG_I'; format = 'E'\n",
      "    name = 'MODEL_MAGERR_I'; format = 'E'\n",
      "    name = 'MODEL_MAG_Z'; format = 'E'\n",
      "    name = 'MODEL_MAGERR_Z'; format = 'E'\n",
      "    name = 'ILUM'; format = 'E'\n",
      "    name = 'P_CEN'; format = '5E'\n",
      "    name = 'RA_CEN'; format = '5E'\n",
      "    name = 'DEC_CEN'; format = '5E'\n",
      "    name = 'ID_CEN'; format = '5K'\n",
      "    name = 'PZBINS'; format = '21E'\n",
      "    name = 'PZ'; format = '21E'\n",
      ")\n"
     ]
    }
   ],
   "source": [
    "rm = None\n",
    "with fits.open('/home/rt2122/Data/original_catalogs/redmapper.fits.gz') as hdul:\n",
    "    print(repr(hdul[1].columns))\n",
    "    rm = Table(hdul[1].data)['RA', 'DEC', 'LAMBDA', 'Z_SPEC'].to_pandas()"
   ]
  },
  {
   "cell_type": "code",
   "execution_count": 3,
   "metadata": {
    "ExecuteTime": {
     "end_time": "2021-03-29T10:46:12.484093Z",
     "start_time": "2021-03-29T10:46:12.410537Z"
    }
   },
   "outputs": [
    {
     "data": {
      "text/html": [
       "<div>\n",
       "<style scoped>\n",
       "    .dataframe tbody tr th:only-of-type {\n",
       "        vertical-align: middle;\n",
       "    }\n",
       "\n",
       "    .dataframe tbody tr th {\n",
       "        vertical-align: top;\n",
       "    }\n",
       "\n",
       "    .dataframe thead th {\n",
       "        text-align: right;\n",
       "    }\n",
       "</style>\n",
       "<table border=\"1\" class=\"dataframe\">\n",
       "  <thead>\n",
       "    <tr style=\"text-align: right;\">\n",
       "      <th></th>\n",
       "      <th>RA</th>\n",
       "      <th>DEC</th>\n",
       "      <th>LAMBDA</th>\n",
       "      <th>z</th>\n",
       "    </tr>\n",
       "  </thead>\n",
       "  <tbody>\n",
       "    <tr>\n",
       "      <th>0</th>\n",
       "      <td>239.583329</td>\n",
       "      <td>27.233413</td>\n",
       "      <td>169.837845</td>\n",
       "      <td>0.090807</td>\n",
       "    </tr>\n",
       "    <tr>\n",
       "      <th>1</th>\n",
       "      <td>250.082548</td>\n",
       "      <td>46.711531</td>\n",
       "      <td>199.539276</td>\n",
       "      <td>-1.000000</td>\n",
       "    </tr>\n",
       "    <tr>\n",
       "      <th>2</th>\n",
       "      <td>197.872957</td>\n",
       "      <td>-1.341116</td>\n",
       "      <td>164.712173</td>\n",
       "      <td>-1.000000</td>\n",
       "    </tr>\n",
       "    <tr>\n",
       "      <th>3</th>\n",
       "      <td>137.300745</td>\n",
       "      <td>10.973595</td>\n",
       "      <td>174.704178</td>\n",
       "      <td>-1.000000</td>\n",
       "    </tr>\n",
       "    <tr>\n",
       "      <th>4</th>\n",
       "      <td>203.833723</td>\n",
       "      <td>41.001146</td>\n",
       "      <td>189.181152</td>\n",
       "      <td>0.228309</td>\n",
       "    </tr>\n",
       "    <tr>\n",
       "      <th>...</th>\n",
       "      <td>...</td>\n",
       "      <td>...</td>\n",
       "      <td>...</td>\n",
       "      <td>...</td>\n",
       "    </tr>\n",
       "    <tr>\n",
       "      <th>26106</th>\n",
       "      <td>19.879442</td>\n",
       "      <td>10.922196</td>\n",
       "      <td>41.970650</td>\n",
       "      <td>0.568342</td>\n",
       "    </tr>\n",
       "    <tr>\n",
       "      <th>26107</th>\n",
       "      <td>16.921837</td>\n",
       "      <td>28.490415</td>\n",
       "      <td>27.875051</td>\n",
       "      <td>-1.000000</td>\n",
       "    </tr>\n",
       "    <tr>\n",
       "      <th>26108</th>\n",
       "      <td>180.830799</td>\n",
       "      <td>52.370432</td>\n",
       "      <td>24.579977</td>\n",
       "      <td>-1.000000</td>\n",
       "    </tr>\n",
       "    <tr>\n",
       "      <th>26109</th>\n",
       "      <td>153.824226</td>\n",
       "      <td>43.635358</td>\n",
       "      <td>33.305824</td>\n",
       "      <td>-1.000000</td>\n",
       "    </tr>\n",
       "    <tr>\n",
       "      <th>26110</th>\n",
       "      <td>135.963371</td>\n",
       "      <td>15.201732</td>\n",
       "      <td>34.236374</td>\n",
       "      <td>-1.000000</td>\n",
       "    </tr>\n",
       "  </tbody>\n",
       "</table>\n",
       "<p>26111 rows × 4 columns</p>\n",
       "</div>"
      ],
      "text/plain": [
       "               RA        DEC      LAMBDA         z\n",
       "0      239.583329  27.233413  169.837845  0.090807\n",
       "1      250.082548  46.711531  199.539276 -1.000000\n",
       "2      197.872957  -1.341116  164.712173 -1.000000\n",
       "3      137.300745  10.973595  174.704178 -1.000000\n",
       "4      203.833723  41.001146  189.181152  0.228309\n",
       "...           ...        ...         ...       ...\n",
       "26106   19.879442  10.922196   41.970650  0.568342\n",
       "26107   16.921837  28.490415   27.875051 -1.000000\n",
       "26108  180.830799  52.370432   24.579977 -1.000000\n",
       "26109  153.824226  43.635358   33.305824 -1.000000\n",
       "26110  135.963371  15.201732   34.236374 -1.000000\n",
       "\n",
       "[26111 rows x 4 columns]"
      ]
     },
     "execution_count": 3,
     "metadata": {},
     "output_type": "execute_result"
    }
   ],
   "source": [
    "rm.rename(columns={'Z_SPEC' : 'z'}, inplace=True)\n",
    "rm"
   ]
  },
  {
   "cell_type": "code",
   "execution_count": 5,
   "metadata": {
    "ExecuteTime": {
     "end_time": "2021-03-29T10:52:32.093791Z",
     "start_time": "2021-03-29T10:52:31.723607Z"
    }
   },
   "outputs": [],
   "source": [
    "rm.to_csv('/home/rt2122/Data/original_catalogs/csv/RM.csv', index=False)\n",
    "rm.to_csv('/home/rt2122/Data/original_catalogs/csv/opt/RM.csv', index=False)"
   ]
  },
  {
   "cell_type": "code",
   "execution_count": 12,
   "metadata": {
    "ExecuteTime": {
     "end_time": "2021-03-27T11:13:02.240954Z",
     "start_time": "2021-03-27T11:13:01.948145Z"
    }
   },
   "outputs": [
    {
     "name": "stderr",
     "output_type": "stream",
     "text": [
      "/home/rt2122/anaconda3/lib/python3.8/site-packages/pandas/core/indexing.py:671: SettingWithCopyWarning: \n",
      "A value is trying to be set on a copy of a slice from a DataFrame\n",
      "\n",
      "See the caveats in the documentation: https://pandas.pydata.org/pandas-docs/stable/user_guide/indexing.html#returning-a-view-versus-a-copy\n",
      "  self._setitem_with_indexer(indexer, value)\n"
     ]
    }
   ],
   "source": [
    "df = rematch_cat('/home/rt2122/Data/detected_cats/full_pz_all_found34_thr0.1_step8_no_fn.csv', \n",
    "                 '/home/rt2122/Data/original_catalogs/csv/')"
   ]
  },
  {
   "cell_type": "code",
   "execution_count": null,
   "metadata": {},
   "outputs": [],
   "source": []
  }
 ],
 "metadata": {
  "kernelspec": {
   "display_name": "Python 3",
   "language": "python",
   "name": "python3"
  },
  "language_info": {
   "codemirror_mode": {
    "name": "ipython",
    "version": 3
   },
   "file_extension": ".py",
   "mimetype": "text/x-python",
   "name": "python",
   "nbconvert_exporter": "python",
   "pygments_lexer": "ipython3",
   "version": "3.8.3"
  }
 },
 "nbformat": 4,
 "nbformat_minor": 4
}
