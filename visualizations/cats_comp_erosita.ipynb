{
 "cells": [
  {
   "cell_type": "code",
   "execution_count": 2,
   "metadata": {
    "ExecuteTime": {
     "end_time": "2020-12-09T14:06:50.865158Z",
     "start_time": "2020-12-09T14:06:39.824841Z"
    }
   },
   "outputs": [],
   "source": [
    "import numpy as np\n",
    "import pandas as pd\n",
    "from matplotlib import pyplot as plt\n",
    "from astropy.io import fits\n",
    "from astropy.table import Table\n",
    "from astropy.coordinates import SkyCoord\n",
    "from astropy import units as u"
   ]
  },
  {
   "cell_type": "code",
   "execution_count": 9,
   "metadata": {
    "ExecuteTime": {
     "end_time": "2020-12-09T14:07:16.207869Z",
     "start_time": "2020-12-09T14:07:15.970300Z"
    }
   },
   "outputs": [],
   "source": [
    "det_cats = {\n",
    "    'pz14' : pd.read_csv('./ep14_thr0.1.csv'),\n",
    "    'pz20' : pd.read_csv('./full_pz20_thr0.1_step8.csv'),\n",
    "    'pz25' : pd.read_csv('./full_pz25_thr0.1_step8.csv'),\n",
    "    'pz40' : pd.read_csv('./ep40_thr0.1.csv'),\n",
    "    'pz_act10' : pd.read_csv('./full_act_cut_ep10_thr0.1_step8.csv'),\n",
    "    'pz_act14' : pd.read_csv('./full_act_cut_ep14_thr0.1_step8.csv'),\n",
    "    'pz_act20' : pd.read_csv('./full_pz_act20_thr0.1_step8.csv'),\n",
    "    'pz_act25' : pd.read_csv('./full_pz_act25_thr0.1_step8.csv')\n",
    "}"
   ]
  },
  {
   "cell_type": "code",
   "execution_count": 5,
   "metadata": {
    "ExecuteTime": {
     "end_time": "2020-12-09T14:06:54.619912Z",
     "start_time": "2020-12-09T14:06:53.786576Z"
    }
   },
   "outputs": [],
   "source": [
    "erosita = pd.read_csv('./erosita.csv')"
   ]
  },
  {
   "cell_type": "code",
   "execution_count": 8,
   "metadata": {
    "ExecuteTime": {
     "end_time": "2020-12-09T14:07:01.509783Z",
     "start_time": "2020-12-09T14:07:01.500749Z"
    }
   },
   "outputs": [],
   "source": [
    "match_dist = 5 / 60"
   ]
  },
  {
   "cell_type": "code",
   "execution_count": null,
   "metadata": {},
   "outputs": [],
   "source": [
    "def calc_error(det_cat, true_cat, shift=15/60, match_dist=5/60, n_try=10, seed=0):\n",
    "    import numpy as np\n",
    "    from astropy.coordinates import SkyCoord\n",
    "    from astropy import units as u\n",
    "    \n",
    "    error = []\n",
    "    np.random.seed(seed)\n",
    "    for i in range(n_try):\n",
    "        det_sc = SkyCoord(ra=np.array(det_cat['RA']) * u.degree, \n",
    "                          dec=np.array(det_cat['DEC']) * u.degree, frame='icrs')\n",
    "        angles = np.random.randint(0, 360, len(det_cat))\n",
    "        det_sc = det_sc.directional_offset_by(angles*u.degree, shift)\n",
    "\n",
    "        true_sc = SkyCoord(ra=np.array(true_cat['RA']) * u.degree, \n",
    "                           dec=np.array(true_cat['DEC']) * u.degree, frame='icrs')\n",
    "        _, d2d, _ = det_sc.match_to_catalog_sky(true_sc)\n",
    "        c_error = np.count_nonzero(d2d.degree < match_dist)\n",
    "        error.append(c_error)\n",
    "    return np.array(error).mean()"
   ]
  },
  {
   "cell_type": "code",
   "execution_count": 31,
   "metadata": {
    "ExecuteTime": {
     "end_time": "2020-12-09T14:25:44.234531Z",
     "start_time": "2020-12-09T14:25:32.668065Z"
    }
   },
   "outputs": [],
   "source": [
    "comp_df = []\n",
    "recall_df = []\n",
    "for det_name in det_cats:\n",
    "    line = {}\n",
    "    line_r = {}\n",
    "    \n",
    "    sc = SkyCoord(ra=np.array(det_cats[det_name]['RA'])*u.degree, \n",
    "                  dec=np.array(det_cats[det_name]['DEC'])*u.degree, frame='icrs')\n",
    "    \n",
    "    tr_sc = SkyCoord(ra=np.array(erosita['RA'])*u.degree, \n",
    "                  dec=np.array(erosita['DEC'])*u.degree, frame='icrs')\n",
    "    idx, d2d, _ = sc.match_to_catalog_sky(tr_sc)\n",
    "    matched = d2d.degree <= match_dist\n",
    "    line['erosita'] = np.count_nonzero(det_cats[det_name].iloc[matched]['status'] != 'fn')\n",
    "    line['erosita'+'_err'] = calc_error(det_cats[det_name], erosita)\n",
    "    line_r['erosita'] = line['erosita'] / len(erosita)\n",
    "    \n",
    "    line['fp'] = np.count_nonzero(det_cats[det_name]['status'] == 'fp')\n",
    "    line_r['fp'] = line['fp']\n",
    "    comp_df.append(pd.DataFrame(line, index=[det_name]))\n",
    "    recall_df.append(pd.DataFrame(line_r, index=[det_name]))\n",
    "\n",
    "line = {}\n",
    "line['erosita'] = len(erosita)\n",
    "line['erosita'+'_err'] = 0\n",
    "line['fp'] = 0\n",
    "comp_df.append(pd.DataFrame(line, index=['all']))\n",
    "comp_df = pd.concat(comp_df)\n",
    "recall_df = pd.concat(recall_df)"
   ]
  },
  {
   "cell_type": "code",
   "execution_count": 32,
   "metadata": {
    "ExecuteTime": {
     "end_time": "2020-12-09T14:25:44.249270Z",
     "start_time": "2020-12-09T14:25:44.236000Z"
    }
   },
   "outputs": [
    {
     "data": {
      "text/html": [
       "<div>\n",
       "<style scoped>\n",
       "    .dataframe tbody tr th:only-of-type {\n",
       "        vertical-align: middle;\n",
       "    }\n",
       "\n",
       "    .dataframe tbody tr th {\n",
       "        vertical-align: top;\n",
       "    }\n",
       "\n",
       "    .dataframe thead th {\n",
       "        text-align: right;\n",
       "    }\n",
       "</style>\n",
       "<table border=\"1\" class=\"dataframe\">\n",
       "  <thead>\n",
       "    <tr style=\"text-align: right;\">\n",
       "      <th></th>\n",
       "      <th>psz2</th>\n",
       "      <th>psz2_err</th>\n",
       "      <th>mcxc</th>\n",
       "      <th>mcxc_err</th>\n",
       "      <th>rm</th>\n",
       "      <th>rm_err</th>\n",
       "      <th>act</th>\n",
       "      <th>act_err</th>\n",
       "      <th>fp</th>\n",
       "    </tr>\n",
       "  </thead>\n",
       "  <tbody>\n",
       "    <tr>\n",
       "      <th>pz14</th>\n",
       "      <td>1491</td>\n",
       "      <td>22.4</td>\n",
       "      <td>725</td>\n",
       "      <td>23.1</td>\n",
       "      <td>1242</td>\n",
       "      <td>399.4</td>\n",
       "      <td>849</td>\n",
       "      <td>70.5</td>\n",
       "      <td>15828</td>\n",
       "    </tr>\n",
       "    <tr>\n",
       "      <th>pz20</th>\n",
       "      <td>1528</td>\n",
       "      <td>23.6</td>\n",
       "      <td>740</td>\n",
       "      <td>25.5</td>\n",
       "      <td>1306</td>\n",
       "      <td>406.6</td>\n",
       "      <td>875</td>\n",
       "      <td>72.2</td>\n",
       "      <td>23104</td>\n",
       "    </tr>\n",
       "    <tr>\n",
       "      <th>pz25</th>\n",
       "      <td>1525</td>\n",
       "      <td>25.5</td>\n",
       "      <td>747</td>\n",
       "      <td>27.3</td>\n",
       "      <td>1374</td>\n",
       "      <td>448.2</td>\n",
       "      <td>888</td>\n",
       "      <td>75.2</td>\n",
       "      <td>20611</td>\n",
       "    </tr>\n",
       "    <tr>\n",
       "      <th>pz40</th>\n",
       "      <td>1506</td>\n",
       "      <td>22.5</td>\n",
       "      <td>739</td>\n",
       "      <td>23.5</td>\n",
       "      <td>1279</td>\n",
       "      <td>427.8</td>\n",
       "      <td>871</td>\n",
       "      <td>72.4</td>\n",
       "      <td>17306</td>\n",
       "    </tr>\n",
       "    <tr>\n",
       "      <th>pz_act10</th>\n",
       "      <td>1361</td>\n",
       "      <td>17.3</td>\n",
       "      <td>659</td>\n",
       "      <td>18.8</td>\n",
       "      <td>1029</td>\n",
       "      <td>283.9</td>\n",
       "      <td>926</td>\n",
       "      <td>46.6</td>\n",
       "      <td>16316</td>\n",
       "    </tr>\n",
       "    <tr>\n",
       "      <th>pz_act14</th>\n",
       "      <td>1363</td>\n",
       "      <td>18.0</td>\n",
       "      <td>670</td>\n",
       "      <td>19.0</td>\n",
       "      <td>1211</td>\n",
       "      <td>334.2</td>\n",
       "      <td>1282</td>\n",
       "      <td>57.2</td>\n",
       "      <td>16484</td>\n",
       "    </tr>\n",
       "    <tr>\n",
       "      <th>pz_act20</th>\n",
       "      <td>1217</td>\n",
       "      <td>15.4</td>\n",
       "      <td>599</td>\n",
       "      <td>15.9</td>\n",
       "      <td>1182</td>\n",
       "      <td>261.2</td>\n",
       "      <td>1866</td>\n",
       "      <td>47.8</td>\n",
       "      <td>9398</td>\n",
       "    </tr>\n",
       "    <tr>\n",
       "      <th>pz_act25</th>\n",
       "      <td>1260</td>\n",
       "      <td>19.6</td>\n",
       "      <td>610</td>\n",
       "      <td>17.4</td>\n",
       "      <td>1271</td>\n",
       "      <td>287.8</td>\n",
       "      <td>2152</td>\n",
       "      <td>58.0</td>\n",
       "      <td>15275</td>\n",
       "    </tr>\n",
       "    <tr>\n",
       "      <th>all</th>\n",
       "      <td>1653</td>\n",
       "      <td>0.0</td>\n",
       "      <td>1743</td>\n",
       "      <td>0.0</td>\n",
       "      <td>26111</td>\n",
       "      <td>0.0</td>\n",
       "      <td>4195</td>\n",
       "      <td>0.0</td>\n",
       "      <td>0</td>\n",
       "    </tr>\n",
       "  </tbody>\n",
       "</table>\n",
       "</div>"
      ],
      "text/plain": [
       "          psz2  psz2_err  mcxc  mcxc_err     rm  rm_err   act  act_err     fp\n",
       "pz14      1491      22.4   725      23.1   1242   399.4   849     70.5  15828\n",
       "pz20      1528      23.6   740      25.5   1306   406.6   875     72.2  23104\n",
       "pz25      1525      25.5   747      27.3   1374   448.2   888     75.2  20611\n",
       "pz40      1506      22.5   739      23.5   1279   427.8   871     72.4  17306\n",
       "pz_act10  1361      17.3   659      18.8   1029   283.9   926     46.6  16316\n",
       "pz_act14  1363      18.0   670      19.0   1211   334.2  1282     57.2  16484\n",
       "pz_act20  1217      15.4   599      15.9   1182   261.2  1866     47.8   9398\n",
       "pz_act25  1260      19.6   610      17.4   1271   287.8  2152     58.0  15275\n",
       "all       1653       0.0  1743       0.0  26111     0.0  4195      0.0      0"
      ]
     },
     "execution_count": 32,
     "metadata": {},
     "output_type": "execute_result"
    }
   ],
   "source": [
    "comp_df"
   ]
  },
  {
   "cell_type": "code",
   "execution_count": 18,
   "metadata": {
    "ExecuteTime": {
     "end_time": "2020-12-09T14:09:39.199148Z",
     "start_time": "2020-12-09T14:09:39.182009Z"
    }
   },
   "outputs": [
    {
     "data": {
      "text/html": [
       "<div>\n",
       "<style scoped>\n",
       "    .dataframe tbody tr th:only-of-type {\n",
       "        vertical-align: middle;\n",
       "    }\n",
       "\n",
       "    .dataframe tbody tr th {\n",
       "        vertical-align: top;\n",
       "    }\n",
       "\n",
       "    .dataframe thead th {\n",
       "        text-align: right;\n",
       "    }\n",
       "</style>\n",
       "<table border=\"1\" class=\"dataframe\">\n",
       "  <thead>\n",
       "    <tr style=\"text-align: right;\">\n",
       "      <th></th>\n",
       "      <th>psz2</th>\n",
       "      <th>mcxc</th>\n",
       "      <th>rm</th>\n",
       "      <th>act</th>\n",
       "      <th>fp</th>\n",
       "    </tr>\n",
       "  </thead>\n",
       "  <tbody>\n",
       "    <tr>\n",
       "      <th>pz14</th>\n",
       "      <td>0.901996</td>\n",
       "      <td>0.415950</td>\n",
       "      <td>0.047566</td>\n",
       "      <td>0.202384</td>\n",
       "      <td>15828</td>\n",
       "    </tr>\n",
       "    <tr>\n",
       "      <th>pz20</th>\n",
       "      <td>0.924380</td>\n",
       "      <td>0.424555</td>\n",
       "      <td>0.050017</td>\n",
       "      <td>0.208582</td>\n",
       "      <td>23104</td>\n",
       "    </tr>\n",
       "    <tr>\n",
       "      <th>pz25</th>\n",
       "      <td>0.922565</td>\n",
       "      <td>0.428571</td>\n",
       "      <td>0.052622</td>\n",
       "      <td>0.211681</td>\n",
       "      <td>20611</td>\n",
       "    </tr>\n",
       "    <tr>\n",
       "      <th>pz40</th>\n",
       "      <td>0.911071</td>\n",
       "      <td>0.423982</td>\n",
       "      <td>0.048983</td>\n",
       "      <td>0.207628</td>\n",
       "      <td>17306</td>\n",
       "    </tr>\n",
       "    <tr>\n",
       "      <th>pz_act10</th>\n",
       "      <td>0.823351</td>\n",
       "      <td>0.378084</td>\n",
       "      <td>0.039409</td>\n",
       "      <td>0.220739</td>\n",
       "      <td>16316</td>\n",
       "    </tr>\n",
       "    <tr>\n",
       "      <th>pz_act14</th>\n",
       "      <td>0.824561</td>\n",
       "      <td>0.384395</td>\n",
       "      <td>0.046379</td>\n",
       "      <td>0.305602</td>\n",
       "      <td>16484</td>\n",
       "    </tr>\n",
       "    <tr>\n",
       "      <th>pz_act20</th>\n",
       "      <td>0.736237</td>\n",
       "      <td>0.343660</td>\n",
       "      <td>0.045268</td>\n",
       "      <td>0.444815</td>\n",
       "      <td>9398</td>\n",
       "    </tr>\n",
       "    <tr>\n",
       "      <th>pz_act25</th>\n",
       "      <td>0.762250</td>\n",
       "      <td>0.349971</td>\n",
       "      <td>0.048677</td>\n",
       "      <td>0.512992</td>\n",
       "      <td>15275</td>\n",
       "    </tr>\n",
       "  </tbody>\n",
       "</table>\n",
       "</div>"
      ],
      "text/plain": [
       "              psz2      mcxc        rm       act     fp\n",
       "pz14      0.901996  0.415950  0.047566  0.202384  15828\n",
       "pz20      0.924380  0.424555  0.050017  0.208582  23104\n",
       "pz25      0.922565  0.428571  0.052622  0.211681  20611\n",
       "pz40      0.911071  0.423982  0.048983  0.207628  17306\n",
       "pz_act10  0.823351  0.378084  0.039409  0.220739  16316\n",
       "pz_act14  0.824561  0.384395  0.046379  0.305602  16484\n",
       "pz_act20  0.736237  0.343660  0.045268  0.444815   9398\n",
       "pz_act25  0.762250  0.349971  0.048677  0.512992  15275"
      ]
     },
     "execution_count": 18,
     "metadata": {},
     "output_type": "execute_result"
    }
   ],
   "source": [
    "recall_df"
   ]
  },
  {
   "cell_type": "code",
   "execution_count": 28,
   "metadata": {
    "ExecuteTime": {
     "end_time": "2020-12-09T14:25:03.412931Z",
     "start_time": "2020-12-09T14:25:03.400513Z"
    }
   },
   "outputs": [],
   "source": []
  },
  {
   "cell_type": "code",
   "execution_count": null,
   "metadata": {},
   "outputs": [],
   "source": []
  }
 ],
 "metadata": {
  "kernelspec": {
   "display_name": "Python 3",
   "language": "python",
   "name": "python3"
  },
  "language_info": {
   "codemirror_mode": {
    "name": "ipython",
    "version": 3
   },
   "file_extension": ".py",
   "mimetype": "text/x-python",
   "name": "python",
   "nbconvert_exporter": "python",
   "pygments_lexer": "ipython3",
   "version": "3.8.3"
  }
 },
 "nbformat": 4,
 "nbformat_minor": 4
}
