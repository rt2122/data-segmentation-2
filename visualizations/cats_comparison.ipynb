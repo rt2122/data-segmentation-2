{
 "cells": [
  {
   "cell_type": "code",
   "execution_count": 1,
   "metadata": {
    "ExecuteTime": {
     "end_time": "2020-12-09T17:41:26.672220Z",
     "start_time": "2020-12-09T17:41:25.810645Z"
    }
   },
   "outputs": [
    {
     "name": "stderr",
     "output_type": "stream",
     "text": [
      "<frozen importlib._bootstrap>:219: RuntimeWarning: numpy.ufunc size changed, may indicate binary incompatibility. Expected 192 from C header, got 216 from PyObject\n"
     ]
    }
   ],
   "source": [
    "import numpy as np\n",
    "import pandas as pd\n",
    "from matplotlib import pyplot as plt\n",
    "from astropy.io import fits\n",
    "from astropy.table import Table\n",
    "from astropy.coordinates import SkyCoord\n",
    "from astropy import units as u"
   ]
  },
  {
   "cell_type": "code",
   "execution_count": 2,
   "metadata": {
    "ExecuteTime": {
     "end_time": "2020-12-09T17:42:25.488726Z",
     "start_time": "2020-12-09T17:42:25.229227Z"
    }
   },
   "outputs": [],
   "source": [
    "det_cats = {\n",
    "    'pz14' : pd.read_csv('/home/rt2122/Data/detected_cats/full_pz14_thr0.1_step8.csv'),\n",
    "    'pz20' : pd.read_csv('/home/rt2122/Data/detected_cats/full_pz20_thr0.1_step8.csv'),\n",
    "    'pz25' : pd.read_csv('/home/rt2122/Data/detected_cats/full_pz25_thr0.1_step8.csv'),\n",
    "    'pz40' : pd.read_csv('/home/rt2122/Data/detected_cats/full_pz40_thr0.1_step8.csv'),\n",
    "    'pz_act10' : pd.read_csv(\n",
    "    '/home/rt2122/Data/detected_cats/full_pz_act10_thr0.1_step8.csv'),\n",
    "    'pz_act14' : pd.read_csv(\n",
    "    '/home/rt2122/Data/detected_cats/full_pz_act14_thr0.1_step8.csv'),\n",
    "    'pz_act20' : pd.read_csv('/home/rt2122/Data/detected_cats/full_pz_act20_thr0.1_step8.csv'),\n",
    "    'pz_act25' : pd.read_csv('/home/rt2122/Data/detected_cats/full_pz_act25_thr0.1_step8.csv')\n",
    "}"
   ]
  },
  {
   "cell_type": "code",
   "execution_count": 3,
   "metadata": {
    "ExecuteTime": {
     "end_time": "2020-12-09T17:42:27.621351Z",
     "start_time": "2020-12-09T17:42:27.219537Z"
    }
   },
   "outputs": [],
   "source": [
    "psz2 = None\n",
    "with fits.open('/home/rt2122/Data/original_catalogs/psz2.fits') as hdul:\n",
    "    data = hdul[1].data\n",
    "    psz2 = Table(data).to_pandas()\n",
    "mcxc = None\n",
    "with fits.open('/home/rt2122/Data/original_catalogs/mcxc.fits') as hdul:\n",
    "    data = hdul[1].data\n",
    "    mcxc = Table(data).to_pandas()\n",
    "rm = None\n",
    "with fits.open('/home/rt2122/Data/original_catalogs/redmapper.fits.gz') as hdul:\n",
    "    data = Table(hdul[1].data)\n",
    "    names = [name for name in data.colnames if len(data[name].shape) <= 1]\n",
    "    rm = data[names].to_pandas()\n",
    "act = None\n",
    "with fits.open('/home/rt2122/Data/original_catalogs/act.fits') as hdul:\n",
    "    data = hdul[1].data\n",
    "    act = Table(data).to_pandas()"
   ]
  },
  {
   "cell_type": "code",
   "execution_count": 4,
   "metadata": {
    "ExecuteTime": {
     "end_time": "2020-12-09T17:42:31.034429Z",
     "start_time": "2020-12-09T17:42:31.028889Z"
    }
   },
   "outputs": [],
   "source": [
    "true_cats = {'psz2' : psz2, 'mcxc' : mcxc, 'rm' : rm, 'act' : act}"
   ]
  },
  {
   "cell_type": "code",
   "execution_count": 5,
   "metadata": {
    "ExecuteTime": {
     "end_time": "2020-12-09T17:42:31.362839Z",
     "start_time": "2020-12-09T17:42:31.347195Z"
    }
   },
   "outputs": [],
   "source": [
    "true_cats['mcxc'].rename({'RAdeg' : 'RA', 'DEdeg' : 'DEC'}, axis='columns', inplace=True)\n",
    "true_cats['act'].rename({'RADeg' : 'RA', 'decDeg' : 'DEC'}, axis='columns', inplace=True)"
   ]
  },
  {
   "cell_type": "code",
   "execution_count": 6,
   "metadata": {
    "ExecuteTime": {
     "end_time": "2020-12-09T17:42:32.234480Z",
     "start_time": "2020-12-09T17:42:32.227811Z"
    }
   },
   "outputs": [],
   "source": [
    "match_dist = 5 / 60"
   ]
  },
  {
   "cell_type": "code",
   "execution_count": 11,
   "metadata": {
    "ExecuteTime": {
     "end_time": "2020-12-09T17:57:56.216476Z",
     "start_time": "2020-12-09T17:57:56.204579Z"
    }
   },
   "outputs": [],
   "source": [
    "true_cats['planck_z'] = pd.read_csv('/home/rt2122/Data/clusters/planck_z.csv')"
   ]
  },
  {
   "cell_type": "code",
   "execution_count": 15,
   "metadata": {
    "ExecuteTime": {
     "end_time": "2020-12-09T17:59:18.154652Z",
     "start_time": "2020-12-09T17:59:17.959952Z"
    }
   },
   "outputs": [],
   "source": [
    "true_cats['planck_no_z'] = pd.read_csv('/home/rt2122/Data/clusters/planck_no_z.csv')\n",
    "true_cats['mcxcwp'] = pd.read_csv('/home/rt2122/Data/clusters/mcxcwp.csv')\n",
    "true_cats['actwp'] = pd.read_csv('/home/rt2122/Data/clusters/act.csv')"
   ]
  },
  {
   "cell_type": "code",
   "execution_count": 16,
   "metadata": {
    "ExecuteTime": {
     "end_time": "2020-12-09T18:00:01.358526Z",
     "start_time": "2020-12-09T17:59:18.672592Z"
    }
   },
   "outputs": [],
   "source": [
    "comp_df = []\n",
    "recall_df = []\n",
    "for det_name in det_cats:\n",
    "    line = {}\n",
    "    line_r = {}\n",
    "    \n",
    "    sc = SkyCoord(ra=np.array(det_cats[det_name]['RA'])*u.degree, \n",
    "                  dec=np.array(det_cats[det_name]['DEC'])*u.degree, frame='icrs')\n",
    "    \n",
    "    for tr_name in true_cats: \n",
    "        tr_sc = SkyCoord(ra=np.array(true_cats[tr_name]['RA'])*u.degree, \n",
    "                      dec=np.array(true_cats[tr_name]['DEC'])*u.degree, frame='icrs')\n",
    "        idx, d2d, _ = sc.match_to_catalog_sky(tr_sc)\n",
    "        matched = d2d.degree <= match_dist\n",
    "        line[tr_name] = np.count_nonzero(det_cats[det_name].iloc[matched]['status'] != 'fn')\n",
    "        line[tr_name+'_err'], line[tr_name+'_std'] = calc_error(det_cats[det_name], true_cats[tr_name])\n",
    "        \n",
    "        line_r[tr_name] = line[tr_name] / len(true_cats[tr_name])\n",
    "    line['fp'] = np.count_nonzero(det_cats[det_name]['status'] == 'fp')\n",
    "    line_r['fp'] = line['fp']\n",
    "    comp_df.append(pd.DataFrame(line, index=[det_name]))\n",
    "    recall_df.append(pd.DataFrame(line_r, index=[det_name]))\n",
    "\n",
    "line = {}\n",
    "for tr_name in true_cats:\n",
    "    line[tr_name] = len(true_cats[tr_name])\n",
    "    line[tr_name+'_err'] = 0\n",
    "line['fp'] = 0\n",
    "comp_df.append(pd.DataFrame(line, index=['all']))\n",
    "comp_df = pd.concat(comp_df)\n",
    "recall_df = pd.concat(recall_df)"
   ]
  },
  {
   "cell_type": "code",
   "execution_count": 19,
   "metadata": {
    "ExecuteTime": {
     "end_time": "2020-12-09T18:02:33.714678Z",
     "start_time": "2020-12-09T18:02:33.694929Z"
    }
   },
   "outputs": [
    {
     "data": {
      "text/html": [
       "<div>\n",
       "<style scoped>\n",
       "    .dataframe tbody tr th:only-of-type {\n",
       "        vertical-align: middle;\n",
       "    }\n",
       "\n",
       "    .dataframe tbody tr th {\n",
       "        vertical-align: top;\n",
       "    }\n",
       "\n",
       "    .dataframe thead th {\n",
       "        text-align: right;\n",
       "    }\n",
       "</style>\n",
       "<table border=\"1\" class=\"dataframe\">\n",
       "  <thead>\n",
       "    <tr style=\"text-align: right;\">\n",
       "      <th></th>\n",
       "      <th>psz2</th>\n",
       "      <th>psz2_err</th>\n",
       "      <th>psz2_std</th>\n",
       "      <th>mcxc</th>\n",
       "      <th>mcxc_err</th>\n",
       "      <th>mcxc_std</th>\n",
       "      <th>rm</th>\n",
       "      <th>rm_err</th>\n",
       "      <th>act</th>\n",
       "      <th>act_err</th>\n",
       "      <th>act_std</th>\n",
       "    </tr>\n",
       "  </thead>\n",
       "  <tbody>\n",
       "    <tr>\n",
       "      <th>pz14</th>\n",
       "      <td>1491</td>\n",
       "      <td>21.70</td>\n",
       "      <td>1.167769</td>\n",
       "      <td>725</td>\n",
       "      <td>24.15</td>\n",
       "      <td>0.795630</td>\n",
       "      <td>1242</td>\n",
       "      <td>401.30</td>\n",
       "      <td>849</td>\n",
       "      <td>67.55</td>\n",
       "      <td>1.746387</td>\n",
       "    </tr>\n",
       "    <tr>\n",
       "      <th>pz20</th>\n",
       "      <td>1528</td>\n",
       "      <td>24.50</td>\n",
       "      <td>1.050063</td>\n",
       "      <td>740</td>\n",
       "      <td>26.20</td>\n",
       "      <td>0.961359</td>\n",
       "      <td>1306</td>\n",
       "      <td>413.55</td>\n",
       "      <td>875</td>\n",
       "      <td>74.20</td>\n",
       "      <td>2.262509</td>\n",
       "    </tr>\n",
       "    <tr>\n",
       "      <th>pz25</th>\n",
       "      <td>1525</td>\n",
       "      <td>25.35</td>\n",
       "      <td>0.963205</td>\n",
       "      <td>747</td>\n",
       "      <td>27.70</td>\n",
       "      <td>0.852550</td>\n",
       "      <td>1374</td>\n",
       "      <td>447.55</td>\n",
       "      <td>888</td>\n",
       "      <td>77.45</td>\n",
       "      <td>2.343496</td>\n",
       "    </tr>\n",
       "    <tr>\n",
       "      <th>pz40</th>\n",
       "      <td>1506</td>\n",
       "      <td>21.65</td>\n",
       "      <td>1.117504</td>\n",
       "      <td>739</td>\n",
       "      <td>24.70</td>\n",
       "      <td>0.909309</td>\n",
       "      <td>1279</td>\n",
       "      <td>422.90</td>\n",
       "      <td>871</td>\n",
       "      <td>73.25</td>\n",
       "      <td>1.385783</td>\n",
       "    </tr>\n",
       "    <tr>\n",
       "      <th>pz_act10</th>\n",
       "      <td>1361</td>\n",
       "      <td>17.00</td>\n",
       "      <td>0.867543</td>\n",
       "      <td>659</td>\n",
       "      <td>18.60</td>\n",
       "      <td>0.966273</td>\n",
       "      <td>1029</td>\n",
       "      <td>292.70</td>\n",
       "      <td>926</td>\n",
       "      <td>47.75</td>\n",
       "      <td>1.725772</td>\n",
       "    </tr>\n",
       "    <tr>\n",
       "      <th>pz_act14</th>\n",
       "      <td>1363</td>\n",
       "      <td>18.00</td>\n",
       "      <td>1.063757</td>\n",
       "      <td>670</td>\n",
       "      <td>21.20</td>\n",
       "      <td>1.087247</td>\n",
       "      <td>1211</td>\n",
       "      <td>335.30</td>\n",
       "      <td>1282</td>\n",
       "      <td>56.45</td>\n",
       "      <td>1.302780</td>\n",
       "    </tr>\n",
       "    <tr>\n",
       "      <th>pz_act20</th>\n",
       "      <td>1217</td>\n",
       "      <td>14.95</td>\n",
       "      <td>0.856784</td>\n",
       "      <td>599</td>\n",
       "      <td>15.45</td>\n",
       "      <td>0.662829</td>\n",
       "      <td>1182</td>\n",
       "      <td>270.60</td>\n",
       "      <td>1866</td>\n",
       "      <td>51.90</td>\n",
       "      <td>2.062063</td>\n",
       "    </tr>\n",
       "    <tr>\n",
       "      <th>pz_act25</th>\n",
       "      <td>1260</td>\n",
       "      <td>18.65</td>\n",
       "      <td>1.024117</td>\n",
       "      <td>610</td>\n",
       "      <td>17.00</td>\n",
       "      <td>1.112134</td>\n",
       "      <td>1271</td>\n",
       "      <td>291.80</td>\n",
       "      <td>2152</td>\n",
       "      <td>55.55</td>\n",
       "      <td>1.563523</td>\n",
       "    </tr>\n",
       "    <tr>\n",
       "      <th>all</th>\n",
       "      <td>1653</td>\n",
       "      <td>0.00</td>\n",
       "      <td>NaN</td>\n",
       "      <td>1743</td>\n",
       "      <td>0.00</td>\n",
       "      <td>NaN</td>\n",
       "      <td>26111</td>\n",
       "      <td>0.00</td>\n",
       "      <td>4195</td>\n",
       "      <td>0.00</td>\n",
       "      <td>NaN</td>\n",
       "    </tr>\n",
       "  </tbody>\n",
       "</table>\n",
       "</div>"
      ],
      "text/plain": [
       "          psz2  psz2_err  psz2_std  mcxc  mcxc_err  mcxc_std     rm  rm_err  \\\n",
       "pz14      1491     21.70  1.167769   725     24.15  0.795630   1242  401.30   \n",
       "pz20      1528     24.50  1.050063   740     26.20  0.961359   1306  413.55   \n",
       "pz25      1525     25.35  0.963205   747     27.70  0.852550   1374  447.55   \n",
       "pz40      1506     21.65  1.117504   739     24.70  0.909309   1279  422.90   \n",
       "pz_act10  1361     17.00  0.867543   659     18.60  0.966273   1029  292.70   \n",
       "pz_act14  1363     18.00  1.063757   670     21.20  1.087247   1211  335.30   \n",
       "pz_act20  1217     14.95  0.856784   599     15.45  0.662829   1182  270.60   \n",
       "pz_act25  1260     18.65  1.024117   610     17.00  1.112134   1271  291.80   \n",
       "all       1653      0.00       NaN  1743      0.00       NaN  26111    0.00   \n",
       "\n",
       "           act  act_err   act_std  \n",
       "pz14       849    67.55  1.746387  \n",
       "pz20       875    74.20  2.262509  \n",
       "pz25       888    77.45  2.343496  \n",
       "pz40       871    73.25  1.385783  \n",
       "pz_act10   926    47.75  1.725772  \n",
       "pz_act14  1282    56.45  1.302780  \n",
       "pz_act20  1866    51.90  2.062063  \n",
       "pz_act25  2152    55.55  1.563523  \n",
       "all       4195     0.00       NaN  "
      ]
     },
     "execution_count": 19,
     "metadata": {},
     "output_type": "execute_result"
    }
   ],
   "source": [
    "comp_df[['psz2', 'psz2_err', 'psz2_std', 'mcxc', 'mcxc_err', 'mcxc_std', 'rm', 'rm_err', 'act', 'act_err', 'act_std']]"
   ]
  },
  {
   "cell_type": "code",
   "execution_count": null,
   "metadata": {},
   "outputs": [],
   "source": []
  },
  {
   "cell_type": "code",
   "execution_count": 18,
   "metadata": {
    "ExecuteTime": {
     "end_time": "2020-12-09T18:00:01.476132Z",
     "start_time": "2020-12-09T18:00:01.400680Z"
    }
   },
   "outputs": [
    {
     "data": {
      "text/html": [
       "<div>\n",
       "<style scoped>\n",
       "    .dataframe tbody tr th:only-of-type {\n",
       "        vertical-align: middle;\n",
       "    }\n",
       "\n",
       "    .dataframe tbody tr th {\n",
       "        vertical-align: top;\n",
       "    }\n",
       "\n",
       "    .dataframe thead th {\n",
       "        text-align: right;\n",
       "    }\n",
       "</style>\n",
       "<table border=\"1\" class=\"dataframe\">\n",
       "  <thead>\n",
       "    <tr style=\"text-align: right;\">\n",
       "      <th></th>\n",
       "      <th>psz2</th>\n",
       "      <th>mcxc</th>\n",
       "      <th>rm</th>\n",
       "      <th>act</th>\n",
       "      <th>planck_z</th>\n",
       "      <th>planck_no_z</th>\n",
       "      <th>mcxcwp</th>\n",
       "      <th>actwp</th>\n",
       "      <th>fp</th>\n",
       "    </tr>\n",
       "  </thead>\n",
       "  <tbody>\n",
       "    <tr>\n",
       "      <th>pz14</th>\n",
       "      <td>0.901996</td>\n",
       "      <td>0.415950</td>\n",
       "      <td>0.047566</td>\n",
       "      <td>0.202384</td>\n",
       "      <td>0.971664</td>\n",
       "      <td>0.765653</td>\n",
       "      <td>0.178541</td>\n",
       "      <td>0.122043</td>\n",
       "      <td>15828</td>\n",
       "    </tr>\n",
       "    <tr>\n",
       "      <th>pz20</th>\n",
       "      <td>0.924380</td>\n",
       "      <td>0.424555</td>\n",
       "      <td>0.050017</td>\n",
       "      <td>0.208582</td>\n",
       "      <td>0.990859</td>\n",
       "      <td>0.794275</td>\n",
       "      <td>0.185247</td>\n",
       "      <td>0.128226</td>\n",
       "      <td>23104</td>\n",
       "    </tr>\n",
       "    <tr>\n",
       "      <th>pz25</th>\n",
       "      <td>0.922565</td>\n",
       "      <td>0.428571</td>\n",
       "      <td>0.052622</td>\n",
       "      <td>0.211681</td>\n",
       "      <td>0.990859</td>\n",
       "      <td>0.788909</td>\n",
       "      <td>0.189438</td>\n",
       "      <td>0.131989</td>\n",
       "      <td>20611</td>\n",
       "    </tr>\n",
       "    <tr>\n",
       "      <th>pz40</th>\n",
       "      <td>0.911071</td>\n",
       "      <td>0.423982</td>\n",
       "      <td>0.048983</td>\n",
       "      <td>0.207628</td>\n",
       "      <td>0.978976</td>\n",
       "      <td>0.778175</td>\n",
       "      <td>0.187762</td>\n",
       "      <td>0.128226</td>\n",
       "      <td>17306</td>\n",
       "    </tr>\n",
       "    <tr>\n",
       "      <th>pz_act10</th>\n",
       "      <td>0.823351</td>\n",
       "      <td>0.378084</td>\n",
       "      <td>0.039409</td>\n",
       "      <td>0.220739</td>\n",
       "      <td>0.911335</td>\n",
       "      <td>0.651163</td>\n",
       "      <td>0.135792</td>\n",
       "      <td>0.152151</td>\n",
       "      <td>16316</td>\n",
       "    </tr>\n",
       "    <tr>\n",
       "      <th>pz_act14</th>\n",
       "      <td>0.824561</td>\n",
       "      <td>0.384395</td>\n",
       "      <td>0.046379</td>\n",
       "      <td>0.305602</td>\n",
       "      <td>0.916819</td>\n",
       "      <td>0.644007</td>\n",
       "      <td>0.144174</td>\n",
       "      <td>0.245699</td>\n",
       "      <td>16484</td>\n",
       "    </tr>\n",
       "    <tr>\n",
       "      <th>pz_act20</th>\n",
       "      <td>0.736237</td>\n",
       "      <td>0.343660</td>\n",
       "      <td>0.045268</td>\n",
       "      <td>0.444815</td>\n",
       "      <td>0.865631</td>\n",
       "      <td>0.483005</td>\n",
       "      <td>0.098910</td>\n",
       "      <td>0.409140</td>\n",
       "      <td>9398</td>\n",
       "    </tr>\n",
       "    <tr>\n",
       "      <th>pz_act25</th>\n",
       "      <td>0.762250</td>\n",
       "      <td>0.349971</td>\n",
       "      <td>0.048677</td>\n",
       "      <td>0.512992</td>\n",
       "      <td>0.876600</td>\n",
       "      <td>0.538462</td>\n",
       "      <td>0.107293</td>\n",
       "      <td>0.483871</td>\n",
       "      <td>15275</td>\n",
       "    </tr>\n",
       "  </tbody>\n",
       "</table>\n",
       "</div>"
      ],
      "text/plain": [
       "              psz2      mcxc        rm       act  planck_z  planck_no_z  \\\n",
       "pz14      0.901996  0.415950  0.047566  0.202384  0.971664     0.765653   \n",
       "pz20      0.924380  0.424555  0.050017  0.208582  0.990859     0.794275   \n",
       "pz25      0.922565  0.428571  0.052622  0.211681  0.990859     0.788909   \n",
       "pz40      0.911071  0.423982  0.048983  0.207628  0.978976     0.778175   \n",
       "pz_act10  0.823351  0.378084  0.039409  0.220739  0.911335     0.651163   \n",
       "pz_act14  0.824561  0.384395  0.046379  0.305602  0.916819     0.644007   \n",
       "pz_act20  0.736237  0.343660  0.045268  0.444815  0.865631     0.483005   \n",
       "pz_act25  0.762250  0.349971  0.048677  0.512992  0.876600     0.538462   \n",
       "\n",
       "            mcxcwp     actwp     fp  \n",
       "pz14      0.178541  0.122043  15828  \n",
       "pz20      0.185247  0.128226  23104  \n",
       "pz25      0.189438  0.131989  20611  \n",
       "pz40      0.187762  0.128226  17306  \n",
       "pz_act10  0.135792  0.152151  16316  \n",
       "pz_act14  0.144174  0.245699  16484  \n",
       "pz_act20  0.098910  0.409140   9398  \n",
       "pz_act25  0.107293  0.483871  15275  "
      ]
     },
     "execution_count": 18,
     "metadata": {},
     "output_type": "execute_result"
    }
   ],
   "source": [
    "recall_df"
   ]
  },
  {
   "cell_type": "code",
   "execution_count": 7,
   "metadata": {
    "ExecuteTime": {
     "end_time": "2020-12-09T17:42:36.030897Z",
     "start_time": "2020-12-09T17:42:36.006582Z"
    }
   },
   "outputs": [],
   "source": [
    "def calc_error(det_cat, true_cat, shift=15/60, match_dist=5/60, n_try=20, seed=0):\n",
    "    import numpy as np\n",
    "    from astropy.coordinates import SkyCoord\n",
    "    from astropy import units as u\n",
    "    \n",
    "    error = []\n",
    "    np.random.seed(seed)\n",
    "    for i in range(n_try):\n",
    "        det_sc = SkyCoord(ra=np.array(det_cat['RA']) * u.degree, \n",
    "                          dec=np.array(det_cat['DEC']) * u.degree, frame='icrs')\n",
    "        angles = np.random.randint(0, 360, len(det_cat))\n",
    "        det_sc = det_sc.directional_offset_by(angles*u.degree, shift)\n",
    "\n",
    "        true_sc = SkyCoord(ra=np.array(true_cat['RA']) * u.degree, \n",
    "                           dec=np.array(true_cat['DEC']) * u.degree, frame='icrs')\n",
    "        _, d2d, _ = det_sc.match_to_catalog_sky(true_sc)\n",
    "        c_error = np.count_nonzero(d2d.degree < match_dist)\n",
    "        error.append(c_error)\n",
    "    error = np.array(error)\n",
    "    return error.mean(), error.std() / np.sqrt(n_try - 1)"
   ]
  },
  {
   "cell_type": "code",
   "execution_count": null,
   "metadata": {},
   "outputs": [],
   "source": []
  }
 ],
 "metadata": {
  "kernelspec": {
   "display_name": "Python 3",
   "language": "python",
   "name": "python3"
  },
  "language_info": {
   "codemirror_mode": {
    "name": "ipython",
    "version": 3
   },
   "file_extension": ".py",
   "mimetype": "text/x-python",
   "name": "python",
   "nbconvert_exporter": "python",
   "pygments_lexer": "ipython3",
   "version": "3.8.3"
  }
 },
 "nbformat": 4,
 "nbformat_minor": 4
}
