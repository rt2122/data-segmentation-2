{
 "cells": [
  {
   "cell_type": "code",
   "execution_count": 38,
   "metadata": {
    "ExecuteTime": {
     "end_time": "2021-02-22T18:30:35.560849Z",
     "start_time": "2021-02-22T18:30:33.167650Z"
    }
   },
   "outputs": [],
   "source": [
    "import numpy as np\n",
    "import pandas as pd\n",
    "import seaborn as sns"
   ]
  },
  {
   "cell_type": "code",
   "execution_count": 2,
   "metadata": {
    "ExecuteTime": {
     "end_time": "2021-02-22T17:52:31.362512Z",
     "start_time": "2021-02-22T17:52:31.065377Z"
    }
   },
   "outputs": [],
   "source": [
    "df = pd.read_csv('/home/rt2122/Data/detected_cats/full_pz_rot28_thr0.1_step8.csv')"
   ]
  },
  {
   "cell_type": "code",
   "execution_count": 11,
   "metadata": {
    "ExecuteTime": {
     "end_time": "2021-02-22T17:59:09.873120Z",
     "start_time": "2021-02-22T17:59:09.851292Z"
    }
   },
   "outputs": [],
   "source": [
    "df = df[df['status'] != 'fp']\n",
    "df = df[df['catalog'] != 'planck_no_z']\n",
    "df.index = np.arange(len(df))"
   ]
  },
  {
   "cell_type": "code",
   "execution_count": 21,
   "metadata": {
    "ExecuteTime": {
     "end_time": "2021-02-22T18:18:09.302881Z",
     "start_time": "2021-02-22T18:18:09.282705Z"
    }
   },
   "outputs": [
    {
     "data": {
      "text/plain": [
       "[0, 0.146, 0.2769047021865845, 0.40646685, 0.545, 0.7208155989646913, 2]"
      ]
     },
     "execution_count": 21,
     "metadata": {},
     "output_type": "execute_result"
    }
   ],
   "source": [
    "q_z = [df['z'].quantile(i/6) for i in range(0, 7)]\n",
    "q_z[0] = 0\n",
    "q_z[-1] = 2\n",
    "q_z"
   ]
  },
  {
   "cell_type": "code",
   "execution_count": 32,
   "metadata": {
    "ExecuteTime": {
     "end_time": "2021-02-22T18:23:21.506814Z",
     "start_time": "2021-02-22T18:23:21.445338Z"
    }
   },
   "outputs": [],
   "source": [
    "q_m500 = {}\n",
    "for i in range(len(q_z) - 1):\n",
    "    st = q_z[i]\n",
    "    en = q_z[i + 1]\n",
    "    matched = np.logical_and(st <= df['z'], df['z'] < en)\n",
    "    cur_df = df[matched]\n",
    "    q_m500[en] = [cur_df['M500'].quantile(i / 5) for i in range(6)]\n",
    "    q_m500[en][-1] = 20\n"
   ]
  },
  {
   "cell_type": "code",
   "execution_count": 33,
   "metadata": {
    "ExecuteTime": {
     "end_time": "2021-02-22T18:23:21.928520Z",
     "start_time": "2021-02-22T18:23:21.920548Z"
    }
   },
   "outputs": [],
   "source": [
    "q_m500 = pd.DataFrame(q_m500)"
   ]
  },
  {
   "cell_type": "code",
   "execution_count": 46,
   "metadata": {
    "ExecuteTime": {
     "end_time": "2021-02-22T18:32:58.449129Z",
     "start_time": "2021-02-22T18:32:58.367874Z"
    }
   },
   "outputs": [],
   "source": [
    "recalls = []\n",
    "for j in range(len(q_m500) - 1):\n",
    "    line = {}\n",
    "    for i in range(len(q_z) - 1):\n",
    "        z_st = q_z[i]\n",
    "        z_en = q_z[i + 1]\n",
    "        m_st = q_m500[z_en][j]\n",
    "        m_en = q_m500[z_en][j + 1]\n",
    "        \n",
    "        matched1 = np.logical_and(z_st <= df['z'], df['z'] < z_en)\n",
    "        matched2 = np.logical_and(m_st <= df['M500'], df['M500'] < m_en)\n",
    "        cur_df = df[np.logical_and(matched1, matched2)]\n",
    "        recall = np.count_nonzero(cur_df['status'] == 'tp') / len(cur_df)\n",
    "        line['({:.2f},{:.2f})'.format(z_st, z_en)] = recall\n",
    "    recalls.append(pd.DataFrame(line, index=[j]))\n",
    "recalls = pd.concat(recalls)"
   ]
  },
  {
   "cell_type": "code",
   "execution_count": 47,
   "metadata": {
    "ExecuteTime": {
     "end_time": "2021-02-22T18:32:58.963208Z",
     "start_time": "2021-02-22T18:32:58.949317Z"
    }
   },
   "outputs": [
    {
     "data": {
      "text/html": [
       "<div>\n",
       "<style scoped>\n",
       "    .dataframe tbody tr th:only-of-type {\n",
       "        vertical-align: middle;\n",
       "    }\n",
       "\n",
       "    .dataframe tbody tr th {\n",
       "        vertical-align: top;\n",
       "    }\n",
       "\n",
       "    .dataframe thead th {\n",
       "        text-align: right;\n",
       "    }\n",
       "</style>\n",
       "<table border=\"1\" class=\"dataframe\">\n",
       "  <thead>\n",
       "    <tr style=\"text-align: right;\">\n",
       "      <th></th>\n",
       "      <th>(0.00,0.15)</th>\n",
       "      <th>(0.15,0.28)</th>\n",
       "      <th>(0.28,0.41)</th>\n",
       "      <th>(0.41,0.55)</th>\n",
       "      <th>(0.55,0.72)</th>\n",
       "      <th>(0.72,2.00)</th>\n",
       "    </tr>\n",
       "  </thead>\n",
       "  <tbody>\n",
       "    <tr>\n",
       "      <th>0</th>\n",
       "      <td>0.024390</td>\n",
       "      <td>0.092683</td>\n",
       "      <td>0.092683</td>\n",
       "      <td>0.068627</td>\n",
       "      <td>0.034146</td>\n",
       "      <td>0.034146</td>\n",
       "    </tr>\n",
       "    <tr>\n",
       "      <th>1</th>\n",
       "      <td>0.171569</td>\n",
       "      <td>0.191176</td>\n",
       "      <td>0.098039</td>\n",
       "      <td>0.078431</td>\n",
       "      <td>0.053659</td>\n",
       "      <td>0.034314</td>\n",
       "    </tr>\n",
       "    <tr>\n",
       "      <th>2</th>\n",
       "      <td>0.485294</td>\n",
       "      <td>0.326829</td>\n",
       "      <td>0.200000</td>\n",
       "      <td>0.132353</td>\n",
       "      <td>0.049020</td>\n",
       "      <td>0.039216</td>\n",
       "    </tr>\n",
       "    <tr>\n",
       "      <th>3</th>\n",
       "      <td>0.691176</td>\n",
       "      <td>0.803922</td>\n",
       "      <td>0.558824</td>\n",
       "      <td>0.245098</td>\n",
       "      <td>0.087805</td>\n",
       "      <td>0.087805</td>\n",
       "    </tr>\n",
       "    <tr>\n",
       "      <th>4</th>\n",
       "      <td>0.843902</td>\n",
       "      <td>0.921951</td>\n",
       "      <td>0.965854</td>\n",
       "      <td>0.731707</td>\n",
       "      <td>0.478049</td>\n",
       "      <td>0.243902</td>\n",
       "    </tr>\n",
       "  </tbody>\n",
       "</table>\n",
       "</div>"
      ],
      "text/plain": [
       "   (0.00,0.15)  (0.15,0.28)  (0.28,0.41)  (0.41,0.55)  (0.55,0.72)  \\\n",
       "0     0.024390     0.092683     0.092683     0.068627     0.034146   \n",
       "1     0.171569     0.191176     0.098039     0.078431     0.053659   \n",
       "2     0.485294     0.326829     0.200000     0.132353     0.049020   \n",
       "3     0.691176     0.803922     0.558824     0.245098     0.087805   \n",
       "4     0.843902     0.921951     0.965854     0.731707     0.478049   \n",
       "\n",
       "   (0.72,2.00)  \n",
       "0     0.034146  \n",
       "1     0.034314  \n",
       "2     0.039216  \n",
       "3     0.087805  \n",
       "4     0.243902  "
      ]
     },
     "execution_count": 47,
     "metadata": {},
     "output_type": "execute_result"
    }
   ],
   "source": [
    "recalls"
   ]
  },
  {
   "cell_type": "code",
   "execution_count": 48,
   "metadata": {
    "ExecuteTime": {
     "end_time": "2021-02-22T18:33:05.645768Z",
     "start_time": "2021-02-22T18:33:05.607140Z"
    }
   },
   "outputs": [
    {
     "data": {
      "text/html": [
       "<style  type=\"text/css\" >\n",
       "    #T_674b1ee0_753c_11eb_964f_675018f3427drow0_col0 {\n",
       "            background-color:  #e5ffe5;\n",
       "            color:  #000000;\n",
       "        }    #T_674b1ee0_753c_11eb_964f_675018f3427drow0_col1 {\n",
       "            background-color:  #e5ffe5;\n",
       "            color:  #000000;\n",
       "        }    #T_674b1ee0_753c_11eb_964f_675018f3427drow0_col2 {\n",
       "            background-color:  #e5ffe5;\n",
       "            color:  #000000;\n",
       "        }    #T_674b1ee0_753c_11eb_964f_675018f3427drow0_col3 {\n",
       "            background-color:  #e5ffe5;\n",
       "            color:  #000000;\n",
       "        }    #T_674b1ee0_753c_11eb_964f_675018f3427drow0_col4 {\n",
       "            background-color:  #e5ffe5;\n",
       "            color:  #000000;\n",
       "        }    #T_674b1ee0_753c_11eb_964f_675018f3427drow0_col5 {\n",
       "            background-color:  #e5ffe5;\n",
       "            color:  #000000;\n",
       "        }    #T_674b1ee0_753c_11eb_964f_675018f3427drow1_col0 {\n",
       "            background-color:  #bde9bd;\n",
       "            color:  #000000;\n",
       "        }    #T_674b1ee0_753c_11eb_964f_675018f3427drow1_col1 {\n",
       "            background-color:  #caf0ca;\n",
       "            color:  #000000;\n",
       "        }    #T_674b1ee0_753c_11eb_964f_675018f3427drow1_col2 {\n",
       "            background-color:  #e5ffe5;\n",
       "            color:  #000000;\n",
       "        }    #T_674b1ee0_753c_11eb_964f_675018f3427drow1_col3 {\n",
       "            background-color:  #e3fee3;\n",
       "            color:  #000000;\n",
       "        }    #T_674b1ee0_753c_11eb_964f_675018f3427drow1_col4 {\n",
       "            background-color:  #dcfadc;\n",
       "            color:  #000000;\n",
       "        }    #T_674b1ee0_753c_11eb_964f_675018f3427drow1_col5 {\n",
       "            background-color:  #e5ffe5;\n",
       "            color:  #000000;\n",
       "        }    #T_674b1ee0_753c_11eb_964f_675018f3427drow2_col0 {\n",
       "            background-color:  #65b865;\n",
       "            color:  #000000;\n",
       "        }    #T_674b1ee0_753c_11eb_964f_675018f3427drow2_col1 {\n",
       "            background-color:  #a5dba5;\n",
       "            color:  #000000;\n",
       "        }    #T_674b1ee0_753c_11eb_964f_675018f3427drow2_col2 {\n",
       "            background-color:  #caf0ca;\n",
       "            color:  #000000;\n",
       "        }    #T_674b1ee0_753c_11eb_964f_675018f3427drow2_col3 {\n",
       "            background-color:  #d0f3d0;\n",
       "            color:  #000000;\n",
       "        }    #T_674b1ee0_753c_11eb_964f_675018f3427drow2_col4 {\n",
       "            background-color:  #defbde;\n",
       "            color:  #000000;\n",
       "        }    #T_674b1ee0_753c_11eb_964f_675018f3427drow2_col5 {\n",
       "            background-color:  #e0fce0;\n",
       "            color:  #000000;\n",
       "        }    #T_674b1ee0_753c_11eb_964f_675018f3427drow3_col0 {\n",
       "            background-color:  #2a972a;\n",
       "            color:  #000000;\n",
       "        }    #T_674b1ee0_753c_11eb_964f_675018f3427drow3_col1 {\n",
       "            background-color:  #209220;\n",
       "            color:  #000000;\n",
       "        }    #T_674b1ee0_753c_11eb_964f_675018f3427drow3_col2 {\n",
       "            background-color:  #6bbb6b;\n",
       "            color:  #000000;\n",
       "        }    #T_674b1ee0_753c_11eb_964f_675018f3427drow3_col3 {\n",
       "            background-color:  #a8dda8;\n",
       "            color:  #000000;\n",
       "        }    #T_674b1ee0_753c_11eb_964f_675018f3427drow3_col4 {\n",
       "            background-color:  #caf0ca;\n",
       "            color:  #000000;\n",
       "        }    #T_674b1ee0_753c_11eb_964f_675018f3427drow3_col5 {\n",
       "            background-color:  #abdfab;\n",
       "            color:  #000000;\n",
       "        }    #T_674b1ee0_753c_11eb_964f_675018f3427drow4_col0 {\n",
       "            background-color:  #008000;\n",
       "            color:  #f1f1f1;\n",
       "        }    #T_674b1ee0_753c_11eb_964f_675018f3427drow4_col1 {\n",
       "            background-color:  #008000;\n",
       "            color:  #f1f1f1;\n",
       "        }    #T_674b1ee0_753c_11eb_964f_675018f3427drow4_col2 {\n",
       "            background-color:  #008000;\n",
       "            color:  #f1f1f1;\n",
       "        }    #T_674b1ee0_753c_11eb_964f_675018f3427drow4_col3 {\n",
       "            background-color:  #008000;\n",
       "            color:  #f1f1f1;\n",
       "        }    #T_674b1ee0_753c_11eb_964f_675018f3427drow4_col4 {\n",
       "            background-color:  #008000;\n",
       "            color:  #f1f1f1;\n",
       "        }    #T_674b1ee0_753c_11eb_964f_675018f3427drow4_col5 {\n",
       "            background-color:  #008000;\n",
       "            color:  #f1f1f1;\n",
       "        }</style><table id=\"T_674b1ee0_753c_11eb_964f_675018f3427d\" ><thead>    <tr>        <th class=\"blank level0\" ></th>        <th class=\"col_heading level0 col0\" >(0.00,0.15)</th>        <th class=\"col_heading level0 col1\" >(0.15,0.28)</th>        <th class=\"col_heading level0 col2\" >(0.28,0.41)</th>        <th class=\"col_heading level0 col3\" >(0.41,0.55)</th>        <th class=\"col_heading level0 col4\" >(0.55,0.72)</th>        <th class=\"col_heading level0 col5\" >(0.72,2.00)</th>    </tr></thead><tbody>\n",
       "                <tr>\n",
       "                        <th id=\"T_674b1ee0_753c_11eb_964f_675018f3427dlevel0_row0\" class=\"row_heading level0 row0\" >0</th>\n",
       "                        <td id=\"T_674b1ee0_753c_11eb_964f_675018f3427drow0_col0\" class=\"data row0 col0\" >0.024390</td>\n",
       "                        <td id=\"T_674b1ee0_753c_11eb_964f_675018f3427drow0_col1\" class=\"data row0 col1\" >0.092683</td>\n",
       "                        <td id=\"T_674b1ee0_753c_11eb_964f_675018f3427drow0_col2\" class=\"data row0 col2\" >0.092683</td>\n",
       "                        <td id=\"T_674b1ee0_753c_11eb_964f_675018f3427drow0_col3\" class=\"data row0 col3\" >0.068627</td>\n",
       "                        <td id=\"T_674b1ee0_753c_11eb_964f_675018f3427drow0_col4\" class=\"data row0 col4\" >0.034146</td>\n",
       "                        <td id=\"T_674b1ee0_753c_11eb_964f_675018f3427drow0_col5\" class=\"data row0 col5\" >0.034146</td>\n",
       "            </tr>\n",
       "            <tr>\n",
       "                        <th id=\"T_674b1ee0_753c_11eb_964f_675018f3427dlevel0_row1\" class=\"row_heading level0 row1\" >1</th>\n",
       "                        <td id=\"T_674b1ee0_753c_11eb_964f_675018f3427drow1_col0\" class=\"data row1 col0\" >0.171569</td>\n",
       "                        <td id=\"T_674b1ee0_753c_11eb_964f_675018f3427drow1_col1\" class=\"data row1 col1\" >0.191176</td>\n",
       "                        <td id=\"T_674b1ee0_753c_11eb_964f_675018f3427drow1_col2\" class=\"data row1 col2\" >0.098039</td>\n",
       "                        <td id=\"T_674b1ee0_753c_11eb_964f_675018f3427drow1_col3\" class=\"data row1 col3\" >0.078431</td>\n",
       "                        <td id=\"T_674b1ee0_753c_11eb_964f_675018f3427drow1_col4\" class=\"data row1 col4\" >0.053659</td>\n",
       "                        <td id=\"T_674b1ee0_753c_11eb_964f_675018f3427drow1_col5\" class=\"data row1 col5\" >0.034314</td>\n",
       "            </tr>\n",
       "            <tr>\n",
       "                        <th id=\"T_674b1ee0_753c_11eb_964f_675018f3427dlevel0_row2\" class=\"row_heading level0 row2\" >2</th>\n",
       "                        <td id=\"T_674b1ee0_753c_11eb_964f_675018f3427drow2_col0\" class=\"data row2 col0\" >0.485294</td>\n",
       "                        <td id=\"T_674b1ee0_753c_11eb_964f_675018f3427drow2_col1\" class=\"data row2 col1\" >0.326829</td>\n",
       "                        <td id=\"T_674b1ee0_753c_11eb_964f_675018f3427drow2_col2\" class=\"data row2 col2\" >0.200000</td>\n",
       "                        <td id=\"T_674b1ee0_753c_11eb_964f_675018f3427drow2_col3\" class=\"data row2 col3\" >0.132353</td>\n",
       "                        <td id=\"T_674b1ee0_753c_11eb_964f_675018f3427drow2_col4\" class=\"data row2 col4\" >0.049020</td>\n",
       "                        <td id=\"T_674b1ee0_753c_11eb_964f_675018f3427drow2_col5\" class=\"data row2 col5\" >0.039216</td>\n",
       "            </tr>\n",
       "            <tr>\n",
       "                        <th id=\"T_674b1ee0_753c_11eb_964f_675018f3427dlevel0_row3\" class=\"row_heading level0 row3\" >3</th>\n",
       "                        <td id=\"T_674b1ee0_753c_11eb_964f_675018f3427drow3_col0\" class=\"data row3 col0\" >0.691176</td>\n",
       "                        <td id=\"T_674b1ee0_753c_11eb_964f_675018f3427drow3_col1\" class=\"data row3 col1\" >0.803922</td>\n",
       "                        <td id=\"T_674b1ee0_753c_11eb_964f_675018f3427drow3_col2\" class=\"data row3 col2\" >0.558824</td>\n",
       "                        <td id=\"T_674b1ee0_753c_11eb_964f_675018f3427drow3_col3\" class=\"data row3 col3\" >0.245098</td>\n",
       "                        <td id=\"T_674b1ee0_753c_11eb_964f_675018f3427drow3_col4\" class=\"data row3 col4\" >0.087805</td>\n",
       "                        <td id=\"T_674b1ee0_753c_11eb_964f_675018f3427drow3_col5\" class=\"data row3 col5\" >0.087805</td>\n",
       "            </tr>\n",
       "            <tr>\n",
       "                        <th id=\"T_674b1ee0_753c_11eb_964f_675018f3427dlevel0_row4\" class=\"row_heading level0 row4\" >4</th>\n",
       "                        <td id=\"T_674b1ee0_753c_11eb_964f_675018f3427drow4_col0\" class=\"data row4 col0\" >0.843902</td>\n",
       "                        <td id=\"T_674b1ee0_753c_11eb_964f_675018f3427drow4_col1\" class=\"data row4 col1\" >0.921951</td>\n",
       "                        <td id=\"T_674b1ee0_753c_11eb_964f_675018f3427drow4_col2\" class=\"data row4 col2\" >0.965854</td>\n",
       "                        <td id=\"T_674b1ee0_753c_11eb_964f_675018f3427drow4_col3\" class=\"data row4 col3\" >0.731707</td>\n",
       "                        <td id=\"T_674b1ee0_753c_11eb_964f_675018f3427drow4_col4\" class=\"data row4 col4\" >0.478049</td>\n",
       "                        <td id=\"T_674b1ee0_753c_11eb_964f_675018f3427drow4_col5\" class=\"data row4 col5\" >0.243902</td>\n",
       "            </tr>\n",
       "    </tbody></table>"
      ],
      "text/plain": [
       "<pandas.io.formats.style.Styler at 0x7ff0c36e6400>"
      ]
     },
     "execution_count": 48,
     "metadata": {},
     "output_type": "execute_result"
    }
   ],
   "source": [
    "cm = sns.light_palette(\"green\", as_cmap=True)\n",
    "\n",
    "s = recalls.style.background_gradient(cmap=cm)\n",
    "s"
   ]
  },
  {
   "cell_type": "code",
   "execution_count": 45,
   "metadata": {
    "ExecuteTime": {
     "end_time": "2021-02-22T18:32:50.623302Z",
     "start_time": "2021-02-22T18:32:50.616746Z"
    }
   },
   "outputs": [
    {
     "data": {
      "text/plain": [
       "'(0.10,0.20)'"
      ]
     },
     "execution_count": 45,
     "metadata": {},
     "output_type": "execute_result"
    }
   ],
   "source": [
    "z_st = 0.1\n",
    "z_en=0.2\n",
    "'({:.2f},{:.2f})'.format(z_st, z_en)"
   ]
  },
  {
   "cell_type": "code",
   "execution_count": null,
   "metadata": {},
   "outputs": [],
   "source": []
  }
 ],
 "metadata": {
  "kernelspec": {
   "display_name": "Python 3",
   "language": "python",
   "name": "python3"
  },
  "language_info": {
   "codemirror_mode": {
    "name": "ipython",
    "version": 3
   },
   "file_extension": ".py",
   "mimetype": "text/x-python",
   "name": "python",
   "nbconvert_exporter": "python",
   "pygments_lexer": "ipython3",
   "version": "3.7.0"
  }
 },
 "nbformat": 4,
 "nbformat_minor": 4
}
