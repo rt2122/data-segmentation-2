{
 "cells": [
  {
   "cell_type": "markdown",
   "metadata": {},
   "source": [
    "Пояснение по gen_table: параметр dict_cut выбирает, как обрезать каталоги.\n",
    "\n",
    "Например при dict_cut = {'z' : [0.1, 0.3]} в каталогах останутся только объекты с 0.1 =< z < 0.3. \n",
    "\n",
    "Для b используется модуль: dict_cut = {'b' : [20, np.inf]} оставит в каталогах объекты для которых |b| >= 20 "
   ]
  },
  {
   "cell_type": "code",
   "execution_count": 12,
   "metadata": {
    "ExecuteTime": {
     "end_time": "2020-12-13T15:46:01.842881Z",
     "start_time": "2020-12-13T15:46:01.838960Z"
    }
   },
   "outputs": [],
   "source": [
    "import numpy as np\n",
    "import pandas as pd\n",
    "import os\n",
    "from matplotlib import pyplot as plt\n",
    "from astropy.io import fits\n",
    "from astropy.table import Table\n",
    "from astropy.coordinates import SkyCoord\n",
    "from astropy import units as u\n",
    "from DS_healpix_fragmentation import radec2pix\n",
    "from DS_Planck_Unet import val_pix"
   ]
  },
  {
   "cell_type": "code",
   "execution_count": 13,
   "metadata": {
    "ExecuteTime": {
     "end_time": "2020-12-13T15:46:02.187595Z",
     "start_time": "2020-12-13T15:46:02.180103Z"
    }
   },
   "outputs": [],
   "source": [
    "def get_name(file):\n",
    "    if 'pz_act' in file:\n",
    "        return file[5:13]\n",
    "    return file[5:9]"
   ]
  },
  {
   "cell_type": "code",
   "execution_count": 14,
   "metadata": {
    "ExecuteTime": {
     "end_time": "2020-12-13T15:46:02.696822Z",
     "start_time": "2020-12-13T15:46:02.679006Z"
    }
   },
   "outputs": [],
   "source": [
    "def calc_error(det_cat, true_cat, shift=15/60, match_dist=5/60, n_try=200, seed=0):\n",
    "    import numpy as np\n",
    "    from astropy.coordinates import SkyCoord\n",
    "    from astropy import units as u\n",
    "    \n",
    "    error = []\n",
    "    np.random.seed(seed)\n",
    "    for i in range(n_try):\n",
    "        det_sc = SkyCoord(ra=np.array(det_cat['RA']) * u.degree, \n",
    "                          dec=np.array(det_cat['DEC']) * u.degree, frame='icrs')\n",
    "        angles = np.random.randint(0, 360, len(det_cat))\n",
    "        det_sc = det_sc.directional_offset_by(angles*u.degree, shift)\n",
    "\n",
    "        true_sc = SkyCoord(ra=np.array(true_cat['RA']) * u.degree, \n",
    "                           dec=np.array(true_cat['DEC']) * u.degree, frame='icrs')\n",
    "        _, d2d, _ = det_sc.match_to_catalog_sky(true_sc)\n",
    "        c_error = np.count_nonzero(d2d.degree < match_dist)\n",
    "        error.append(c_error)\n",
    "    error = np.array(error)\n",
    "    return error.mean(), error.std() / np.sqrt(n_try - 1)"
   ]
  },
  {
   "cell_type": "code",
   "execution_count": 15,
   "metadata": {
    "ExecuteTime": {
     "end_time": "2020-12-13T15:46:03.497133Z",
     "start_time": "2020-12-13T15:46:03.445636Z"
    }
   },
   "outputs": [],
   "source": [
    "def cut_cat(df, dict_cut = {'z' : [-np.inf, np.inf], 'M500' : [-np.inf, np.inf], 'b' :[-np.inf, np.inf]}, \n",
    "           big_pix=None):\n",
    " \n",
    "    sc = SkyCoord(ra=np.array(df['RA'])*u.degree, \n",
    "                  dec=np.array(df['DEC'])*u.degree, frame='icrs')\n",
    "    df['b'] = sc.galactic.b.degree\n",
    "    for prm in dict_cut:\n",
    "        if prm == 'b':\n",
    "            df = df[np.abs(df[prm]) >= dict_cut[prm][0]]\n",
    "            df = df[np.abs(df[prm]) < dict_cut[prm][1]]\n",
    "        else:\n",
    "            df = df[df[prm] >= dict_cut[prm][0]]\n",
    "            df = df[df[prm] < dict_cut[prm][1]]\n",
    "        df.index = np.arange(len(df))\n",
    "    \n",
    "    if not (big_pix is None):\n",
    "        pix2 = radec2pix(df['RA'], df['DEC'], 2)\n",
    "        df = df[np.in1d(pix2, big_pix)]\n",
    "        df.index = np.arange(len(df))\n",
    "    \n",
    "    return df"
   ]
  },
  {
   "cell_type": "code",
   "execution_count": 16,
   "metadata": {
    "ExecuteTime": {
     "end_time": "2020-12-13T15:46:04.467193Z",
     "start_time": "2020-12-13T15:46:04.445443Z"
    }
   },
   "outputs": [],
   "source": [
    "def gen_tables(det_cats_files, true_cats_files, dict_cut = {'z' : [-np.inf, np.inf], 'M500' : [-np.inf, np.inf], \n",
    "                        'b' :[-np.inf, np.inf]}, big_pix = None, match_dist=5/60, shift_err=15/60, \n",
    "                        n_err=20):\n",
    "    \n",
    "    true_cats = {os.path.splitext(os.path.basename(file))[0] : pd.read_csv(file) for file in true_cats_files}\n",
    "    det_cats = {get_name(os.path.splitext(os.path.basename(file))[0]) : \n",
    "                pd.read_csv(file) for file in det_cats_files}\n",
    "    \n",
    "    comp_df = []\n",
    "    recall_df = []\n",
    "    \n",
    "    for name in det_cats:\n",
    "        df = det_cats[name]\n",
    "        df = df[df['status'] != 'fn']\n",
    "        df.index = np.arange(len(df))\n",
    "        if 'b' in dict_cut:\n",
    "            det_cats[name] = cut_cat(df, {'b' : dict_cut['b']}, big_pix)\n",
    "        else:\n",
    "            det_cats[name] = cut_cat(df, {}, big_pix)\n",
    "    for name in true_cats:\n",
    "        true_cats[name] = cut_cat(true_cats[name], dict_cut, big_pix)\n",
    "    \n",
    "    for det_name in det_cats:\n",
    "        det = det_cats[det_name]\n",
    "        line = {}\n",
    "        line_r = {}\n",
    "\n",
    "        det_sc = SkyCoord(ra=np.array(det['RA'])*u.degree, \n",
    "                      dec=np.array(det['DEC'])*u.degree, frame='icrs') \n",
    "\n",
    "        for tr_name in true_cats: \n",
    "            tr = true_cats[tr_name]\n",
    "            tr_sc = SkyCoord(ra=np.array(tr['RA'])*u.degree, \n",
    "                          dec=np.array(tr['DEC'])*u.degree, frame='icrs')\n",
    "            \n",
    "            idx, d2d, _ = tr_sc.match_to_catalog_sky(det_sc)\n",
    "            matched = d2d.degree <= match_dist\n",
    "            \n",
    "            line[tr_name] = np.count_nonzero(matched)\n",
    "            line[tr_name+'_err'], line[tr_name+'_std'] = calc_error(det, tr, shift=shift_err, n_try=n_err)\n",
    "\n",
    "            line_r[tr_name] = line[tr_name] / len(tr)\n",
    "            \n",
    "        line['all'] = len(det)\n",
    "        line['fp'] = np.count_nonzero(det['status'] == 'fp')\n",
    "        line_r['fp'] = line['fp']\n",
    "        line_r['all'] = line['all']\n",
    "        comp_df.append(pd.DataFrame(line, index=[det_name]))\n",
    "        recall_df.append(pd.DataFrame(line_r, index=[det_name]))\n",
    "        line = {}\n",
    "    \n",
    "    for tr_name in true_cats: \n",
    "        line[tr_name] = len(true_cats[tr_name])\n",
    "        line[tr_name+'_err'] = 0\n",
    "    line['fp'] = 0\n",
    "    line['all'] = 0\n",
    "    comp_df.append(pd.DataFrame(line, index=['all']))\n",
    "    \n",
    "    comp_df = pd.concat(comp_df)\n",
    "    recall_df = pd.concat(recall_df)\n",
    "    \n",
    "    return comp_df, recall_df"
   ]
  },
  {
   "cell_type": "code",
   "execution_count": 17,
   "metadata": {
    "ExecuteTime": {
     "end_time": "2020-12-13T15:46:05.346529Z",
     "start_time": "2020-12-13T15:46:05.335749Z"
    }
   },
   "outputs": [],
   "source": [
    "true_cats_files = ['/home/rt2122/Data/clusters/mcxcwp.csv', '/home/rt2122/Data/clusters/actwp.csv']\n",
    "det_dir = '/home/rt2122/Data/detected_cats/'\n",
    "det_cats_files = [os.path.join(det_dir, name) for name in sorted(next(os.walk(det_dir))[-1]) if 'full' in name]"
   ]
  },
  {
   "cell_type": "code",
   "execution_count": 18,
   "metadata": {
    "ExecuteTime": {
     "end_time": "2020-12-13T15:46:15.852509Z",
     "start_time": "2020-12-13T15:46:06.000128Z"
    }
   },
   "outputs": [
    {
     "name": "stderr",
     "output_type": "stream",
     "text": [
      "<ipython-input-15-f59b3d139181>:6: SettingWithCopyWarning: \n",
      "A value is trying to be set on a copy of a slice from a DataFrame.\n",
      "Try using .loc[row_indexer,col_indexer] = value instead\n",
      "\n",
      "See the caveats in the documentation: https://pandas.pydata.org/pandas-docs/stable/user_guide/indexing.html#returning-a-view-versus-a-copy\n",
      "  df['b'] = sc.galactic.b.degree\n"
     ]
    }
   ],
   "source": [
    "comp, recall = gen_tables(det_cats_files, true_cats_files)"
   ]
  },
  {
   "cell_type": "code",
   "execution_count": 19,
   "metadata": {
    "ExecuteTime": {
     "end_time": "2020-12-13T15:46:15.869041Z",
     "start_time": "2020-12-13T15:46:15.854038Z"
    }
   },
   "outputs": [
    {
     "data": {
      "text/html": [
       "<div>\n",
       "<style scoped>\n",
       "    .dataframe tbody tr th:only-of-type {\n",
       "        vertical-align: middle;\n",
       "    }\n",
       "\n",
       "    .dataframe tbody tr th {\n",
       "        vertical-align: top;\n",
       "    }\n",
       "\n",
       "    .dataframe thead th {\n",
       "        text-align: right;\n",
       "    }\n",
       "</style>\n",
       "<table border=\"1\" class=\"dataframe\">\n",
       "  <thead>\n",
       "    <tr style=\"text-align: right;\">\n",
       "      <th></th>\n",
       "      <th>mcxcwp</th>\n",
       "      <th>mcxcwp_err</th>\n",
       "      <th>mcxcwp_std</th>\n",
       "      <th>actwp</th>\n",
       "      <th>actwp_err</th>\n",
       "      <th>actwp_std</th>\n",
       "      <th>all</th>\n",
       "      <th>fp</th>\n",
       "    </tr>\n",
       "  </thead>\n",
       "  <tbody>\n",
       "    <tr>\n",
       "      <th>pz14</th>\n",
       "      <td>214</td>\n",
       "      <td>12.60</td>\n",
       "      <td>0.638254</td>\n",
       "      <td>458</td>\n",
       "      <td>38.55</td>\n",
       "      <td>1.310835</td>\n",
       "      <td>17968</td>\n",
       "      <td>15828</td>\n",
       "    </tr>\n",
       "    <tr>\n",
       "      <th>pz20</th>\n",
       "      <td>221</td>\n",
       "      <td>13.15</td>\n",
       "      <td>0.696892</td>\n",
       "      <td>485</td>\n",
       "      <td>43.75</td>\n",
       "      <td>1.374342</td>\n",
       "      <td>25312</td>\n",
       "      <td>23104</td>\n",
       "    </tr>\n",
       "    <tr>\n",
       "      <th>pz25</th>\n",
       "      <td>227</td>\n",
       "      <td>13.90</td>\n",
       "      <td>0.763992</td>\n",
       "      <td>497</td>\n",
       "      <td>48.30</td>\n",
       "      <td>1.300000</td>\n",
       "      <td>22837</td>\n",
       "      <td>20611</td>\n",
       "    </tr>\n",
       "    <tr>\n",
       "      <th>pz40</th>\n",
       "      <td>225</td>\n",
       "      <td>13.40</td>\n",
       "      <td>0.758808</td>\n",
       "      <td>482</td>\n",
       "      <td>44.00</td>\n",
       "      <td>1.378405</td>\n",
       "      <td>19495</td>\n",
       "      <td>17306</td>\n",
       "    </tr>\n",
       "    <tr>\n",
       "      <th>pz_act06</th>\n",
       "      <td>112</td>\n",
       "      <td>7.00</td>\n",
       "      <td>0.606977</td>\n",
       "      <td>266</td>\n",
       "      <td>16.55</td>\n",
       "      <td>0.977308</td>\n",
       "      <td>17515</td>\n",
       "      <td>15934</td>\n",
       "    </tr>\n",
       "    <tr>\n",
       "      <th>pz_act10</th>\n",
       "      <td>163</td>\n",
       "      <td>9.45</td>\n",
       "      <td>0.737974</td>\n",
       "      <td>571</td>\n",
       "      <td>26.80</td>\n",
       "      <td>1.060288</td>\n",
       "      <td>18363</td>\n",
       "      <td>16316</td>\n",
       "    </tr>\n",
       "    <tr>\n",
       "      <th>pz_act14</th>\n",
       "      <td>174</td>\n",
       "      <td>8.80</td>\n",
       "      <td>0.749034</td>\n",
       "      <td>925</td>\n",
       "      <td>35.15</td>\n",
       "      <td>1.131545</td>\n",
       "      <td>18878</td>\n",
       "      <td>16484</td>\n",
       "    </tr>\n",
       "    <tr>\n",
       "      <th>pz_act20</th>\n",
       "      <td>119</td>\n",
       "      <td>7.25</td>\n",
       "      <td>0.556658</td>\n",
       "      <td>1533</td>\n",
       "      <td>30.85</td>\n",
       "      <td>1.156845</td>\n",
       "      <td>12239</td>\n",
       "      <td>9398</td>\n",
       "    </tr>\n",
       "    <tr>\n",
       "      <th>pz_act25</th>\n",
       "      <td>129</td>\n",
       "      <td>9.00</td>\n",
       "      <td>0.858395</td>\n",
       "      <td>1811</td>\n",
       "      <td>33.70</td>\n",
       "      <td>1.367094</td>\n",
       "      <td>18447</td>\n",
       "      <td>15275</td>\n",
       "    </tr>\n",
       "    <tr>\n",
       "      <th>all</th>\n",
       "      <td>1193</td>\n",
       "      <td>0.00</td>\n",
       "      <td>NaN</td>\n",
       "      <td>3720</td>\n",
       "      <td>0.00</td>\n",
       "      <td>NaN</td>\n",
       "      <td>0</td>\n",
       "      <td>0</td>\n",
       "    </tr>\n",
       "  </tbody>\n",
       "</table>\n",
       "</div>"
      ],
      "text/plain": [
       "          mcxcwp  mcxcwp_err  mcxcwp_std  actwp  actwp_err  actwp_std    all  \\\n",
       "pz14         214       12.60    0.638254    458      38.55   1.310835  17968   \n",
       "pz20         221       13.15    0.696892    485      43.75   1.374342  25312   \n",
       "pz25         227       13.90    0.763992    497      48.30   1.300000  22837   \n",
       "pz40         225       13.40    0.758808    482      44.00   1.378405  19495   \n",
       "pz_act06     112        7.00    0.606977    266      16.55   0.977308  17515   \n",
       "pz_act10     163        9.45    0.737974    571      26.80   1.060288  18363   \n",
       "pz_act14     174        8.80    0.749034    925      35.15   1.131545  18878   \n",
       "pz_act20     119        7.25    0.556658   1533      30.85   1.156845  12239   \n",
       "pz_act25     129        9.00    0.858395   1811      33.70   1.367094  18447   \n",
       "all         1193        0.00         NaN   3720       0.00        NaN      0   \n",
       "\n",
       "             fp  \n",
       "pz14      15828  \n",
       "pz20      23104  \n",
       "pz25      20611  \n",
       "pz40      17306  \n",
       "pz_act06  15934  \n",
       "pz_act10  16316  \n",
       "pz_act14  16484  \n",
       "pz_act20   9398  \n",
       "pz_act25  15275  \n",
       "all           0  "
      ]
     },
     "execution_count": 19,
     "metadata": {},
     "output_type": "execute_result"
    }
   ],
   "source": [
    "comp"
   ]
  },
  {
   "cell_type": "code",
   "execution_count": 20,
   "metadata": {
    "ExecuteTime": {
     "end_time": "2020-12-13T15:46:15.956375Z",
     "start_time": "2020-12-13T15:46:15.871190Z"
    }
   },
   "outputs": [
    {
     "data": {
      "text/html": [
       "<div>\n",
       "<style scoped>\n",
       "    .dataframe tbody tr th:only-of-type {\n",
       "        vertical-align: middle;\n",
       "    }\n",
       "\n",
       "    .dataframe tbody tr th {\n",
       "        vertical-align: top;\n",
       "    }\n",
       "\n",
       "    .dataframe thead th {\n",
       "        text-align: right;\n",
       "    }\n",
       "</style>\n",
       "<table border=\"1\" class=\"dataframe\">\n",
       "  <thead>\n",
       "    <tr style=\"text-align: right;\">\n",
       "      <th></th>\n",
       "      <th>mcxcwp</th>\n",
       "      <th>actwp</th>\n",
       "      <th>fp</th>\n",
       "      <th>all</th>\n",
       "    </tr>\n",
       "  </thead>\n",
       "  <tbody>\n",
       "    <tr>\n",
       "      <th>pz14</th>\n",
       "      <td>0.179380</td>\n",
       "      <td>0.123118</td>\n",
       "      <td>15828</td>\n",
       "      <td>17968</td>\n",
       "    </tr>\n",
       "    <tr>\n",
       "      <th>pz20</th>\n",
       "      <td>0.185247</td>\n",
       "      <td>0.130376</td>\n",
       "      <td>23104</td>\n",
       "      <td>25312</td>\n",
       "    </tr>\n",
       "    <tr>\n",
       "      <th>pz25</th>\n",
       "      <td>0.190277</td>\n",
       "      <td>0.133602</td>\n",
       "      <td>20611</td>\n",
       "      <td>22837</td>\n",
       "    </tr>\n",
       "    <tr>\n",
       "      <th>pz40</th>\n",
       "      <td>0.188600</td>\n",
       "      <td>0.129570</td>\n",
       "      <td>17306</td>\n",
       "      <td>19495</td>\n",
       "    </tr>\n",
       "    <tr>\n",
       "      <th>pz_act06</th>\n",
       "      <td>0.093881</td>\n",
       "      <td>0.071505</td>\n",
       "      <td>15934</td>\n",
       "      <td>17515</td>\n",
       "    </tr>\n",
       "    <tr>\n",
       "      <th>pz_act10</th>\n",
       "      <td>0.136630</td>\n",
       "      <td>0.153495</td>\n",
       "      <td>16316</td>\n",
       "      <td>18363</td>\n",
       "    </tr>\n",
       "    <tr>\n",
       "      <th>pz_act14</th>\n",
       "      <td>0.145851</td>\n",
       "      <td>0.248656</td>\n",
       "      <td>16484</td>\n",
       "      <td>18878</td>\n",
       "    </tr>\n",
       "    <tr>\n",
       "      <th>pz_act20</th>\n",
       "      <td>0.099749</td>\n",
       "      <td>0.412097</td>\n",
       "      <td>9398</td>\n",
       "      <td>12239</td>\n",
       "    </tr>\n",
       "    <tr>\n",
       "      <th>pz_act25</th>\n",
       "      <td>0.108131</td>\n",
       "      <td>0.486828</td>\n",
       "      <td>15275</td>\n",
       "      <td>18447</td>\n",
       "    </tr>\n",
       "  </tbody>\n",
       "</table>\n",
       "</div>"
      ],
      "text/plain": [
       "            mcxcwp     actwp     fp    all\n",
       "pz14      0.179380  0.123118  15828  17968\n",
       "pz20      0.185247  0.130376  23104  25312\n",
       "pz25      0.190277  0.133602  20611  22837\n",
       "pz40      0.188600  0.129570  17306  19495\n",
       "pz_act06  0.093881  0.071505  15934  17515\n",
       "pz_act10  0.136630  0.153495  16316  18363\n",
       "pz_act14  0.145851  0.248656  16484  18878\n",
       "pz_act20  0.099749  0.412097   9398  12239\n",
       "pz_act25  0.108131  0.486828  15275  18447"
      ]
     },
     "execution_count": 20,
     "metadata": {},
     "output_type": "execute_result"
    }
   ],
   "source": [
    "recall"
   ]
  },
  {
   "cell_type": "code",
   "execution_count": null,
   "metadata": {},
   "outputs": [],
   "source": []
  }
 ],
 "metadata": {
  "kernelspec": {
   "display_name": "Python 3",
   "language": "python",
   "name": "python3"
  },
  "language_info": {
   "codemirror_mode": {
    "name": "ipython",
    "version": 3
   },
   "file_extension": ".py",
   "mimetype": "text/x-python",
   "name": "python",
   "nbconvert_exporter": "python",
   "pygments_lexer": "ipython3",
   "version": "3.8.3"
  }
 },
 "nbformat": 4,
 "nbformat_minor": 4
}
