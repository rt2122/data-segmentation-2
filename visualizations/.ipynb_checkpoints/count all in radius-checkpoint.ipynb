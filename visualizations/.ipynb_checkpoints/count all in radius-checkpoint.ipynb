{
 "cells": [
  {
   "cell_type": "code",
   "execution_count": 1,
   "metadata": {
    "ExecuteTime": {
     "end_time": "2021-04-06T10:56:09.121027Z",
     "start_time": "2021-04-06T10:55:58.003980Z"
    }
   },
   "outputs": [],
   "source": [
    "import numpy as np\n",
    "import pandas as pd\n",
    "import matplotlib.pyplot as plt\n",
    "import os\n",
    "from astropy.coordinates import SkyCoord\n",
    "from astropy import units as u\n",
    "from tqdm.notebook import tqdm\n",
    "from DS_models_stat import cut_cat"
   ]
  },
  {
   "cell_type": "code",
   "execution_count": 2,
   "metadata": {
    "ExecuteTime": {
     "end_time": "2021-04-06T10:56:09.126291Z",
     "start_time": "2021-04-06T10:56:09.122546Z"
    }
   },
   "outputs": [],
   "source": [
    "def make_histogram(ax, tp, fp, n_bins, label1='Yes matches', label2='No matches'):\n",
    "    ax.hist(tp, n_bins, color='r', log=True, histtype='step', label=label1)\n",
    "    ax.hist(fp, n_bins, color='b', log=True, histtype='step', label=label2)\n",
    "    ax.legend()"
   ]
  },
  {
   "cell_type": "code",
   "execution_count": 7,
   "metadata": {
    "ExecuteTime": {
     "end_time": "2021-03-31T11:04:20.142511Z",
     "start_time": "2021-03-31T11:04:20.128687Z"
    }
   },
   "outputs": [],
   "source": [
    "    '''\n",
    "def match_2circles(ax, det_cat, true_cat, n_bins=20, small_circle=400/3600, big_circle=1500/3600, max_pred_lim=None, \n",
    "                  b_lim=None, big_pix=None):\n",
    "    if not (max_pred_lim is None):\n",
    "        det_cat = det_cat[det_cat['max_pred'] >= max_pred_lim]\n",
    "        det_cat.index = np.arange(len(det_cat))\n",
    "        \n",
    "    if not (big_pix is None):\n",
    "        pix2 = radec2pix(det_cat['RA'], det_cat['DEC'], 2)\n",
    "        det_cat = det_cat[np.in1d(pix2, big_pix)]\n",
    "        det_cat.index = np.arange(len(det_cat))\n",
    "        pix2 = radec2pix(true_cat['RA'], true_cat['DEC'], 2)\n",
    "        true_cat = true_cat[np.in1d(pix2, big_pix)]\n",
    "        true_cat.index = np.arange(len(true_cat))\n",
    "    det_sc = SkyCoord(ra=np.array(det_cat['RA'])*u.degree, dec=np.array(det_cat['DEC'])*u.degree, frame='icrs')\n",
    "    tr_sc = SkyCoord(ra=np.array(true_cat['RA'])*u.degree, dec=np.array(true_cat['DEC'])*u.degree, frame='icrs')\n",
    "    \n",
    "    if not (b_lim is None):\n",
    "        b = det_sc.galactic.b.degree\n",
    "        det_cat = det_cat[np.abs(b) >= b_lim]\n",
    "        det_cat.index = np.arange(len(det_cat))\n",
    "        det_sc = SkyCoord(ra=np.array(det_cat['RA'])*u.degree, dec=np.array(det_cat['DEC'])*u.degree, frame='icrs')\n",
    "        b = tr_sc.galactic.b.degree\n",
    "        true_cat = true_cat[np.abs(b) >= b_lim]\n",
    "        true_cat.index = np.arange(len(true_cat))\n",
    "        tr_sc = SkyCoord(ra=np.array(true_cat['RA'])*u.degree, dec=np.array(true_cat['DEC'])*u.degree, frame='icrs')\n",
    "            \n",
    "   \n",
    "    idx_s, d2d, _ = det_sc.match_to_catalog_sky(tr_sc)\n",
    "    matched_small = d2d.degree <= small_circle\n",
    "    while np.count_nonzero(d2d.degree < small_circle):\n",
    "        matched_small = np.concatenate([matched_small, d2d.degree <= small_circle])\n",
    "        not_matched_small = np.logical_not(matched_small) \n",
    "        tr_sc = SkyCoord(ra=np.array(true_cat['RA'][list(set(idx[not_matched_small]))])*u.degree, \n",
    "                         dec=np.array(true_cat['DEC'][list(set(idx[not_matched_small]))])*u.degree, frame='icrs')\n",
    "        idx, d2d, _ = det_sc.match_to_catalog_sky(tr_sc)\n",
    "        idx_s = np.concatenate([idx_s, idx])\n",
    "    \n",
    "    tr_sc = SkyCoord(ra=np.array(true_cat['RA'][list(set(idx[not_matched_small]))])*u.degree, \n",
    "                     dec=np.array(true_cat['DEC'][list(set(idx[not_matched_small]))])*u.degree, frame='icrs')\n",
    "    idx, d2d, _ = det_sc.match_to_catalog_sky(tr_sc)\n",
    "    matched_big = np.logical_and(d2d.degree > small_circle, d2d.degree <= big_circle)\n",
    "    \n",
    "    \n",
    "    make_histogram(ax, det_cat['max_pred'][matched_small], det_cat['max_pred'][matched_big], n_bins)\n",
    "    '''"
   ]
  },
  {
   "cell_type": "code",
   "execution_count": 3,
   "metadata": {
    "ExecuteTime": {
     "end_time": "2021-04-06T10:56:09.266622Z",
     "start_time": "2021-04-06T10:56:09.128210Z"
    }
   },
   "outputs": [],
   "source": [
    "dirname = '/home/rt2122/Data/original_catalogs/csv/'\n",
    "true_cats = next(os.walk(dirname))[-1]\n",
    "true_cats = [os.path.join(dirname, s) for s in true_cats]\n",
    "det_cat = '/home/rt2122/Data/detected_cats/full_pz_all_found34_thr0.1_step8_no_fn.csv'"
   ]
  },
  {
   "cell_type": "code",
   "execution_count": 11,
   "metadata": {
    "ExecuteTime": {
     "end_time": "2021-03-31T11:04:52.028848Z",
     "start_time": "2021-03-31T11:04:47.713386Z"
    }
   },
   "outputs": [
    {
     "data": {
      "image/png": "[encoded data removed]",
      "text/plain": [
       "<Figure size 1800x360 with 5 Axes>"
      ]
     },
     "metadata": {
      "needs_background": "light"
     },
     "output_type": "display_data"
    }
   ],
   "source": [
    "_, ax = plt.subplots(1, len(true_cats), figsize=(len(true_cats) * 5, 5))\n",
    "for i, tr_cat in enumerate(true_cats):\n",
    "    match_2circles(ax[i], pd.read_csv(det_cat), pd.read_csv(tr_cat))\n",
    "    ax[i].set_xlabel(os.path.splitext(os.path.basename(tr_cat))[0])"
   ]
  },
  {
   "cell_type": "code",
   "execution_count": 23,
   "metadata": {
    "ExecuteTime": {
     "end_time": "2021-04-06T16:47:17.847752Z",
     "start_time": "2021-04-06T16:47:17.830915Z"
    }
   },
   "outputs": [],
   "source": [
    "def match_one_by_one(ax, det_cat, true_cat, small_circle=400/3600, big_circle=1500/3600, name=None):\n",
    "    \n",
    "    def func(angle, det_cat, true_cat):\n",
    "        colored = []\n",
    "        tr = SkyCoord(ra=np.array(true_cat['RA'])*u.degree, dec=np.array(true_cat['DEC'])*u.degree, frame='icrs')\n",
    "\n",
    "        for i in tqdm(range(len(det_cat))):\n",
    "            det = SkyCoord(ra=det_cat.loc[i, 'RA']*u.degree, dec=det_cat.loc[i, 'DEC']*u.degree, frame='icrs')\n",
    "            sep = tr.separation(det).degree\n",
    "\n",
    "            count = np.count_nonzero(sep <= angle)\n",
    "            colored.extend(count * [det_cat.loc[i, 'max_pred']])\n",
    "\n",
    "            true_cat = true_cat[sep > angle]\n",
    "            if len(tr_cat) == 0:\n",
    "                break\n",
    "            true_cat.index = np.arange(len(true_cat))\n",
    "            tr = SkyCoord(ra=np.array(true_cat['RA'])*u.degree, dec=np.array(true_cat['DEC'])*u.degree, frame='icrs')\n",
    "        return colored, true_cat\n",
    "    \n",
    "    filered = '/home/rt2122/Data/cur/redblue/{}_red.npy'.format(name)\n",
    "    fileblue = '/home/rt2122/Data/cur/redblue/{}_blue.npy'.format(name)\n",
    "\n",
    "    if os.path.isfile(filered):\n",
    "        red = np.load(filered)\n",
    "        blue = np.load(fileblue)\n",
    "    else:\n",
    "        red, true_cat = func(small_circle, det_cat, true_cat)\n",
    "        blue, true_cat = func(big_circle, det_cat, true_cat)\n",
    "\n",
    "        if not (name is None):\n",
    "            np.save(filered, np.array(red))\n",
    "            np.save(fileblue, np.array(blue))\n",
    "    \n",
    "    make_histogram(ax, red, blue, 20, 'red', 'blue')"
   ]
  },
  {
   "cell_type": "code",
   "execution_count": 10,
   "metadata": {
    "ExecuteTime": {
     "end_time": "2021-04-06T11:04:22.415218Z",
     "start_time": "2021-04-06T11:02:49.607851Z"
    }
   },
   "outputs": [
    {
     "data": {
      "application/vnd.jupyter.widget-view+json": {
       "model_id": "9493f7f285a14433b5d13ebfcb3fc407",
       "version_major": 2,
       "version_minor": 0
      },
      "text/plain": [
       "HBox(children=(FloatProgress(value=0.0, max=558.0), HTML(value='')))"
      ]
     },
     "metadata": {},
     "output_type": "display_data"
    },
    {
     "name": "stdout",
     "output_type": "stream",
     "text": [
      "\n"
     ]
    },
    {
     "data": {
      "application/vnd.jupyter.widget-view+json": {
       "model_id": "8a377ab9d6c946c6a6ab126ee74d7c3f",
       "version_major": 2,
       "version_minor": 0
      },
      "text/plain": [
       "HBox(children=(FloatProgress(value=0.0, max=558.0), HTML(value='')))"
      ]
     },
     "metadata": {},
     "output_type": "display_data"
    },
    {
     "name": "stdout",
     "output_type": "stream",
     "text": [
      "\n"
     ]
    },
    {
     "data": {
      "application/vnd.jupyter.widget-view+json": {
       "model_id": "f5049f28781c45c7a31544153332a02f",
       "version_major": 2,
       "version_minor": 0
      },
      "text/plain": [
       "HBox(children=(FloatProgress(value=0.0, max=558.0), HTML(value='')))"
      ]
     },
     "metadata": {},
     "output_type": "display_data"
    },
    {
     "name": "stdout",
     "output_type": "stream",
     "text": [
      "\n"
     ]
    },
    {
     "data": {
      "application/vnd.jupyter.widget-view+json": {
       "model_id": "beb0ac8baf324fe5a24f65a9a76c8266",
       "version_major": 2,
       "version_minor": 0
      },
      "text/plain": [
       "HBox(children=(FloatProgress(value=0.0, max=558.0), HTML(value='')))"
      ]
     },
     "metadata": {},
     "output_type": "display_data"
    },
    {
     "name": "stdout",
     "output_type": "stream",
     "text": [
      "\n"
     ]
    },
    {
     "data": {
      "application/vnd.jupyter.widget-view+json": {
       "model_id": "5de596434c474d45825a61616a00f736",
       "version_major": 2,
       "version_minor": 0
      },
      "text/plain": [
       "HBox(children=(FloatProgress(value=0.0, max=558.0), HTML(value='')))"
      ]
     },
     "metadata": {},
     "output_type": "display_data"
    },
    {
     "name": "stdout",
     "output_type": "stream",
     "text": [
      "\n"
     ]
    },
    {
     "data": {
      "application/vnd.jupyter.widget-view+json": {
       "model_id": "dee2809149af40649094dc70fb188b02",
       "version_major": 2,
       "version_minor": 0
      },
      "text/plain": [
       "HBox(children=(FloatProgress(value=0.0, max=558.0), HTML(value='')))"
      ]
     },
     "metadata": {},
     "output_type": "display_data"
    },
    {
     "name": "stdout",
     "output_type": "stream",
     "text": [
      "\n"
     ]
    },
    {
     "data": {
      "application/vnd.jupyter.widget-view+json": {
       "model_id": "2af48ae0380343e8983b7c354ef7271a",
       "version_major": 2,
       "version_minor": 0
      },
      "text/plain": [
       "HBox(children=(FloatProgress(value=0.0, max=558.0), HTML(value='')))"
      ]
     },
     "metadata": {},
     "output_type": "display_data"
    },
    {
     "name": "stdout",
     "output_type": "stream",
     "text": [
      "\n"
     ]
    },
    {
     "data": {
      "application/vnd.jupyter.widget-view+json": {
       "model_id": "e4849de4417948f0891e8da0b04d8da6",
       "version_major": 2,
       "version_minor": 0
      },
      "text/plain": [
       "HBox(children=(FloatProgress(value=0.0, max=558.0), HTML(value='')))"
      ]
     },
     "metadata": {},
     "output_type": "display_data"
    },
    {
     "name": "stdout",
     "output_type": "stream",
     "text": [
      "\n"
     ]
    },
    {
     "data": {
      "application/vnd.jupyter.widget-view+json": {
       "model_id": "3261249dad254714baaf66e11fb470f0",
       "version_major": 2,
       "version_minor": 0
      },
      "text/plain": [
       "HBox(children=(FloatProgress(value=0.0, max=558.0), HTML(value='')))"
      ]
     },
     "metadata": {},
     "output_type": "display_data"
    },
    {
     "name": "stdout",
     "output_type": "stream",
     "text": [
      "\n"
     ]
    },
    {
     "data": {
      "application/vnd.jupyter.widget-view+json": {
       "model_id": "ae8d34d0275444fe93aac0873c2b3927",
       "version_major": 2,
       "version_minor": 0
      },
      "text/plain": [
       "HBox(children=(FloatProgress(value=0.0, max=558.0), HTML(value='')))"
      ]
     },
     "metadata": {},
     "output_type": "display_data"
    },
    {
     "name": "stdout",
     "output_type": "stream",
     "text": [
      "\n"
     ]
    },
    {
     "data": {
      "image/png": "[encoded data removed]",
      "text/plain": [
       "<Figure size 1800x360 with 5 Axes>"
      ]
     },
     "metadata": {
      "needs_background": "light"
     },
     "output_type": "display_data"
    }
   ],
   "source": [
    "_, ax = plt.subplots(1, len(true_cats), figsize=(len(true_cats) * 5, 5))\n",
    "for i, tr_cat in enumerate(true_cats):\n",
    "    name=os.path.splitext(os.path.basename(tr_cat))[0]\n",
    "    match_one_by_one(ax[i], cut_cat(pd.read_csv(det_cat), big_pix = 38), \n",
    "                     cut_cat(pd.read_csv(tr_cat), big_pix = 38), name=name)\n",
    "    ax[i].set_xlabel(name)"
   ]
  },
  {
   "cell_type": "code",
   "execution_count": 32,
   "metadata": {
    "ExecuteTime": {
     "end_time": "2021-04-03T19:26:28.147079Z",
     "start_time": "2021-04-03T19:04:30.305001Z"
    }
   },
   "outputs": [
    {
     "data": {
      "application/vnd.jupyter.widget-view+json": {
       "model_id": "a1309233fd484c60803f4a49deaa9b30",
       "version_major": 2,
       "version_minor": 0
      },
      "text/plain": [
       "HBox(children=(FloatProgress(value=0.0, max=23352.0), HTML(value='')))"
      ]
     },
     "metadata": {},
     "output_type": "display_data"
    },
    {
     "name": "stdout",
     "output_type": "stream",
     "text": [
      "\n"
     ]
    },
    {
     "data": {
      "application/vnd.jupyter.widget-view+json": {
       "model_id": "177bd9eaa66a49b996cdfc94287ec232",
       "version_major": 2,
       "version_minor": 0
      },
      "text/plain": [
       "HBox(children=(FloatProgress(value=0.0, max=23352.0), HTML(value='')))"
      ]
     },
     "metadata": {},
     "output_type": "display_data"
    },
    {
     "name": "stdout",
     "output_type": "stream",
     "text": [
      "\n"
     ]
    },
    {
     "data": {
      "text/plain": [
       "Text(0.5, 0, 'PSZ2')"
      ]
     },
     "execution_count": 32,
     "metadata": {},
     "output_type": "execute_result"
    },
    {
     "data": {
      "image/png": "[encoded data removed]",
      "text/plain": [
       "<Figure size 360x360 with 1 Axes>"
      ]
     },
     "metadata": {
      "needs_background": "light"
     },
     "output_type": "display_data"
    }
   ],
   "source": [
    "_, ax = plt.subplots(1, 1, figsize=(5, 5))\n",
    "match_one_by_one(ax, pd.read_csv(det_cat), \n",
    "                 pd.read_csv('/home/rt2122/Data/original_catalogs/csv/PSZ2.csv'))\n",
    "ax.set_xlabel('PSZ2')"
   ]
  },
  {
   "cell_type": "code",
   "execution_count": 24,
   "metadata": {
    "ExecuteTime": {
     "end_time": "2021-04-06T16:47:23.337180Z",
     "start_time": "2021-04-06T16:47:22.102759Z"
    }
   },
   "outputs": [
    {
     "name": "stdout",
     "output_type": "stream",
     "text": [
      "PSZ2\n",
      "MCXC\n",
      "RM\n",
      "ACT\n",
      "Abell\n"
     ]
    },
    {
     "data": {
      "image/png": "[encoded data removed]",
      "text/plain": [
       "<Figure size 1800x360 with 5 Axes>"
      ]
     },
     "metadata": {
      "needs_background": "light"
     },
     "output_type": "display_data"
    }
   ],
   "source": [
    "_, ax = plt.subplots(1, len(true_cats), figsize=(len(true_cats) * 5, 5))\n",
    "for i, tr_cat in enumerate(true_cats):\n",
    "    name=os.path.splitext(os.path.basename(tr_cat))[0]\n",
    "    print(name)\n",
    "    match_one_by_one(ax[i], pd.read_csv(det_cat), pd.read_csv(tr_cat), name=name)\n",
    "    ax[i].set_xlabel(name)"
   ]
  },
  {
   "cell_type": "code",
   "execution_count": 19,
   "metadata": {
    "ExecuteTime": {
     "end_time": "2021-04-06T16:45:23.853496Z",
     "start_time": "2021-04-06T16:45:23.848276Z"
    }
   },
   "outputs": [
    {
     "data": {
      "text/plain": [
       "'None'"
      ]
     },
     "execution_count": 19,
     "metadata": {},
     "output_type": "execute_result"
    }
   ],
   "source": [
    "'{}'.format(None)"
   ]
  },
  {
   "cell_type": "code",
   "execution_count": null,
   "metadata": {},
   "outputs": [],
   "source": []
  }
 ],
 "metadata": {
  "kernelspec": {
   "display_name": "Python 3",
   "language": "python",
   "name": "python3"
  },
  "language_info": {
   "codemirror_mode": {
    "name": "ipython",
    "version": 3
   },
   "file_extension": ".py",
   "mimetype": "text/x-python",
   "name": "python",
   "nbconvert_exporter": "python",
   "pygments_lexer": "ipython3",
   "version": "3.8.3"
  }
 },
 "nbformat": 4,
 "nbformat_minor": 4
}
