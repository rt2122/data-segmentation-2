{
 "cells": [
  {
   "cell_type": "code",
   "execution_count": 30,
   "metadata": {
    "ExecuteTime": {
     "end_time": "2020-12-08T11:55:27.312379Z",
     "start_time": "2020-12-08T11:55:27.301829Z"
    }
   },
   "outputs": [],
   "source": [
    "import numpy as np\n",
    "import pandas as pd\n",
    "from matplotlib import pyplot as plt\n",
    "from astropy.io import fits\n",
    "from astropy.table import Table\n",
    "from astropy.coordinates import SkyCoord\n",
    "from astropy import units as u"
   ]
  },
  {
   "cell_type": "code",
   "execution_count": 74,
   "metadata": {
    "ExecuteTime": {
     "end_time": "2020-12-08T12:20:30.591195Z",
     "start_time": "2020-12-08T12:20:30.475284Z"
    }
   },
   "outputs": [],
   "source": [
    "pz14 = pd.read_csv('/home/rt2122/Data/scans_old/scans_extended/connected/ep14_thr0.1.csv')\n",
    "pz40 = pd.read_csv('/home/rt2122/Data/scans_old/scans_extended/connected/ep40_thr0.1.csv')\n",
    "pz_act10 = pd.read_csv(\n",
    "    '/home/rt2122/Data/scans_old/scans_extended/connected/full_act_cut_ep10_thr0.1_step8.csv')\n",
    "pz_act14 = pd.read_csv(\n",
    "    '/home/rt2122/Data/scans_old/scans_extended/connected/full_act_cut_ep14_thr0.1_step8.csv')"
   ]
  },
  {
   "cell_type": "code",
   "execution_count": 75,
   "metadata": {
    "ExecuteTime": {
     "end_time": "2020-12-08T12:20:31.068770Z",
     "start_time": "2020-12-08T12:20:31.020097Z"
    }
   },
   "outputs": [],
   "source": [
    "det_cats = {'pz14' : pz14, 'pz40' : pz40, 'pz_act10' : pz_act10, 'pz_act14' : pz_act14}\n",
    "for name in det_cats:\n",
    "    det_cats[name] = det_cats[name][det_cats[name]['status'] != 'fn']\n",
    "    det_cats[name].index = np.arange(len(det_cats[name]))"
   ]
  },
  {
   "cell_type": "code",
   "execution_count": 19,
   "metadata": {
    "ExecuteTime": {
     "end_time": "2020-12-08T11:44:44.153445Z",
     "start_time": "2020-12-08T11:44:43.753448Z"
    }
   },
   "outputs": [],
   "source": [
    "psz2 = None\n",
    "with fits.open('/home/rt2122/Data/original_catalogs/psz2.fits') as hdul:\n",
    "    data = hdul[1].data\n",
    "    psz2 = Table(data).to_pandas()\n",
    "mcxc = None\n",
    "with fits.open('/home/rt2122/Data/original_catalogs/mcxc.fits') as hdul:\n",
    "    data = hdul[1].data\n",
    "    mcxc = Table(data).to_pandas()\n",
    "rm = None\n",
    "with fits.open('/home/rt2122/Data/original_catalogs/redmapper.fits.gz') as hdul:\n",
    "    data = Table(hdul[1].data)\n",
    "    names = [name for name in data.colnames if len(data[name].shape) <= 1]\n",
    "    rm = data[names].to_pandas()\n",
    "act = None\n",
    "with fits.open('/home/rt2122/Data/original_catalogs/act.fits') as hdul:\n",
    "    data = hdul[1].data\n",
    "    act = Table(data).to_pandas()"
   ]
  },
  {
   "cell_type": "code",
   "execution_count": 21,
   "metadata": {
    "ExecuteTime": {
     "end_time": "2020-12-08T11:51:16.752491Z",
     "start_time": "2020-12-08T11:51:16.746462Z"
    }
   },
   "outputs": [],
   "source": [
    "true_cats = {'psz2' : psz2, 'mcxc' : mcxc, 'rm' : rm, 'act' : act}"
   ]
  },
  {
   "cell_type": "code",
   "execution_count": 29,
   "metadata": {
    "ExecuteTime": {
     "end_time": "2020-12-08T11:54:51.676336Z",
     "start_time": "2020-12-08T11:54:51.672799Z"
    }
   },
   "outputs": [],
   "source": [
    "true_cats['mcxc'].rename({'RAdeg' : 'RA', 'DEdeg' : 'DEC'}, axis='columns', inplace=True)\n",
    "true_cats['act'].rename({'RADeg' : 'RA', 'decDeg' : 'DEC'}, axis='columns', inplace=True)"
   ]
  },
  {
   "cell_type": "code",
   "execution_count": 54,
   "metadata": {
    "ExecuteTime": {
     "end_time": "2020-12-08T12:13:37.018245Z",
     "start_time": "2020-12-08T12:13:37.012204Z"
    }
   },
   "outputs": [],
   "source": [
    "match_dist = 5 / 60"
   ]
  },
  {
   "cell_type": "code",
   "execution_count": 81,
   "metadata": {
    "ExecuteTime": {
     "end_time": "2020-12-08T12:22:23.453268Z",
     "start_time": "2020-12-08T12:22:23.057426Z"
    }
   },
   "outputs": [],
   "source": [
    "comp_df = []\n",
    "recall_df = []\n",
    "for det_name in det_cats:\n",
    "    line = {}\n",
    "    line_r = {}\n",
    "    \n",
    "    sc = SkyCoord(ra=np.array(det_cats[det_name]['RA'])*u.degree, \n",
    "                  dec=np.array(det_cats[det_name]['DEC'])*u.degree, frame='icrs')\n",
    "    \n",
    "    for tr_name in true_cats: \n",
    "        tr_sc = SkyCoord(ra=np.array(true_cats[tr_name]['RA'])*u.degree, \n",
    "                      dec=np.array(true_cats[tr_name]['DEC'])*u.degree, frame='icrs')\n",
    "        idx, d2d, _ = sc.match_to_catalog_sky(tr_sc)\n",
    "        matched = d2d.degree <= match_dist\n",
    "        line[tr_name] = len(set((idx[matched])))\n",
    "        line_r[tr_name] = line[tr_name] / len(true_cats[tr_name])\n",
    "    line['fp'] = np.count_nonzero(det_cats[det_name]['status'] == 'fp')\n",
    "    comp_df.append(pd.DataFrame(line, index=[det_name]))\n",
    "    recall_df.append(pd.DataFrame(line_r, index=[det_name]))\n",
    "\n",
    "line = {}\n",
    "for tr_name in true_cats:\n",
    "    line[tr_name] = len(true_cats[tr_name])\n",
    "line['fp'] = 0\n",
    "comp_df.append(pd.DataFrame(line, index=['all']))\n",
    "comp_df = pd.concat(comp_df)\n",
    "recall_df = pd.concat(recall_df)"
   ]
  },
  {
   "cell_type": "code",
   "execution_count": 82,
   "metadata": {
    "ExecuteTime": {
     "end_time": "2020-12-08T12:22:23.954699Z",
     "start_time": "2020-12-08T12:22:23.940543Z"
    }
   },
   "outputs": [
    {
     "data": {
      "text/html": [
       "<div>\n",
       "<style scoped>\n",
       "    .dataframe tbody tr th:only-of-type {\n",
       "        vertical-align: middle;\n",
       "    }\n",
       "\n",
       "    .dataframe tbody tr th {\n",
       "        vertical-align: top;\n",
       "    }\n",
       "\n",
       "    .dataframe thead th {\n",
       "        text-align: right;\n",
       "    }\n",
       "</style>\n",
       "<table border=\"1\" class=\"dataframe\">\n",
       "  <thead>\n",
       "    <tr style=\"text-align: right;\">\n",
       "      <th></th>\n",
       "      <th>psz2</th>\n",
       "      <th>mcxc</th>\n",
       "      <th>rm</th>\n",
       "      <th>act</th>\n",
       "      <th>fp</th>\n",
       "    </tr>\n",
       "  </thead>\n",
       "  <tbody>\n",
       "    <tr>\n",
       "      <th>pz14</th>\n",
       "      <td>1486</td>\n",
       "      <td>721</td>\n",
       "      <td>1241</td>\n",
       "      <td>847</td>\n",
       "      <td>15828</td>\n",
       "    </tr>\n",
       "    <tr>\n",
       "      <th>pz40</th>\n",
       "      <td>1501</td>\n",
       "      <td>736</td>\n",
       "      <td>1273</td>\n",
       "      <td>870</td>\n",
       "      <td>17306</td>\n",
       "    </tr>\n",
       "    <tr>\n",
       "      <th>pz_act10</th>\n",
       "      <td>1359</td>\n",
       "      <td>657</td>\n",
       "      <td>1029</td>\n",
       "      <td>925</td>\n",
       "      <td>16316</td>\n",
       "    </tr>\n",
       "    <tr>\n",
       "      <th>pz_act14</th>\n",
       "      <td>1361</td>\n",
       "      <td>667</td>\n",
       "      <td>1208</td>\n",
       "      <td>1281</td>\n",
       "      <td>16484</td>\n",
       "    </tr>\n",
       "    <tr>\n",
       "      <th>all</th>\n",
       "      <td>1653</td>\n",
       "      <td>1743</td>\n",
       "      <td>26111</td>\n",
       "      <td>4195</td>\n",
       "      <td>0</td>\n",
       "    </tr>\n",
       "  </tbody>\n",
       "</table>\n",
       "</div>"
      ],
      "text/plain": [
       "          psz2  mcxc     rm   act     fp\n",
       "pz14      1486   721   1241   847  15828\n",
       "pz40      1501   736   1273   870  17306\n",
       "pz_act10  1359   657   1029   925  16316\n",
       "pz_act14  1361   667   1208  1281  16484\n",
       "all       1653  1743  26111  4195      0"
      ]
     },
     "execution_count": 82,
     "metadata": {},
     "output_type": "execute_result"
    }
   ],
   "source": [
    "comp_df"
   ]
  },
  {
   "cell_type": "code",
   "execution_count": 83,
   "metadata": {
    "ExecuteTime": {
     "end_time": "2020-12-08T12:22:24.430511Z",
     "start_time": "2020-12-08T12:22:24.390615Z"
    }
   },
   "outputs": [
    {
     "data": {
      "text/html": [
       "<div>\n",
       "<style scoped>\n",
       "    .dataframe tbody tr th:only-of-type {\n",
       "        vertical-align: middle;\n",
       "    }\n",
       "\n",
       "    .dataframe tbody tr th {\n",
       "        vertical-align: top;\n",
       "    }\n",
       "\n",
       "    .dataframe thead th {\n",
       "        text-align: right;\n",
       "    }\n",
       "</style>\n",
       "<table border=\"1\" class=\"dataframe\">\n",
       "  <thead>\n",
       "    <tr style=\"text-align: right;\">\n",
       "      <th></th>\n",
       "      <th>psz2</th>\n",
       "      <th>mcxc</th>\n",
       "      <th>rm</th>\n",
       "      <th>act</th>\n",
       "    </tr>\n",
       "  </thead>\n",
       "  <tbody>\n",
       "    <tr>\n",
       "      <th>pz14</th>\n",
       "      <td>0.898972</td>\n",
       "      <td>0.413655</td>\n",
       "      <td>0.047528</td>\n",
       "      <td>0.201907</td>\n",
       "    </tr>\n",
       "    <tr>\n",
       "      <th>pz40</th>\n",
       "      <td>0.908046</td>\n",
       "      <td>0.422260</td>\n",
       "      <td>0.048753</td>\n",
       "      <td>0.207390</td>\n",
       "    </tr>\n",
       "    <tr>\n",
       "      <th>pz_act10</th>\n",
       "      <td>0.822142</td>\n",
       "      <td>0.376936</td>\n",
       "      <td>0.039409</td>\n",
       "      <td>0.220501</td>\n",
       "    </tr>\n",
       "    <tr>\n",
       "      <th>pz_act14</th>\n",
       "      <td>0.823351</td>\n",
       "      <td>0.382674</td>\n",
       "      <td>0.046264</td>\n",
       "      <td>0.305364</td>\n",
       "    </tr>\n",
       "  </tbody>\n",
       "</table>\n",
       "</div>"
      ],
      "text/plain": [
       "              psz2      mcxc        rm       act\n",
       "pz14      0.898972  0.413655  0.047528  0.201907\n",
       "pz40      0.908046  0.422260  0.048753  0.207390\n",
       "pz_act10  0.822142  0.376936  0.039409  0.220501\n",
       "pz_act14  0.823351  0.382674  0.046264  0.305364"
      ]
     },
     "execution_count": 83,
     "metadata": {},
     "output_type": "execute_result"
    }
   ],
   "source": [
    "recall_df"
   ]
  },
  {
   "cell_type": "code",
   "execution_count": null,
   "metadata": {},
   "outputs": [],
   "source": []
  }
 ],
 "metadata": {
  "kernelspec": {
   "display_name": "Python 3",
   "language": "python",
   "name": "python3"
  },
  "language_info": {
   "codemirror_mode": {
    "name": "ipython",
    "version": 3
   },
   "file_extension": ".py",
   "mimetype": "text/x-python",
   "name": "python",
   "nbconvert_exporter": "python",
   "pygments_lexer": "ipython3",
   "version": "3.8.3"
  }
 },
 "nbformat": 4,
 "nbformat_minor": 4
}
