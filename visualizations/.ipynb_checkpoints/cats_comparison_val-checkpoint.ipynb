{
 "cells": [
  {
   "cell_type": "code",
   "execution_count": 1,
   "metadata": {
    "ExecuteTime": {
     "end_time": "2020-12-09T18:11:58.855590Z",
     "start_time": "2020-12-09T18:11:58.054382Z"
    }
   },
   "outputs": [],
   "source": [
    "import numpy as np\n",
    "import pandas as pd\n",
    "from matplotlib import pyplot as plt\n",
    "from astropy.io import fits\n",
    "from astropy.table import Table\n",
    "from astropy.coordinates import SkyCoord\n",
    "from astropy import units as u\n",
    "from DS_healpix_fragmentation import radec2pix\n",
    "from DS_Planck_Unet import val_pix"
   ]
  },
  {
   "cell_type": "code",
   "execution_count": 2,
   "metadata": {
    "ExecuteTime": {
     "end_time": "2020-12-09T18:12:12.334656Z",
     "start_time": "2020-12-09T18:12:12.082309Z"
    }
   },
   "outputs": [],
   "source": [
    "det_cats = {\n",
    "    'pz14' : pd.read_csv('/home/rt2122/Data/detected_cats/full_pz14_thr0.1_step8.csv'),\n",
    "    'pz20' : pd.read_csv('/home/rt2122/Data/detected_cats/full_pz20_thr0.1_step8.csv'),\n",
    "    'pz25' : pd.read_csv('/home/rt2122/Data/detected_cats/full_pz25_thr0.1_step8.csv'),\n",
    "    'pz40' : pd.read_csv('/home/rt2122/Data/detected_cats/full_pz40_thr0.1_step8.csv'),\n",
    "    'pz_act10' : pd.read_csv(\n",
    "    '/home/rt2122/Data/detected_cats/full_pz_act10_thr0.1_step8.csv'),\n",
    "    'pz_act14' : pd.read_csv(\n",
    "    '/home/rt2122/Data/detected_cats/full_pz_act14_thr0.1_step8.csv'),\n",
    "    'pz_act20' : pd.read_csv('/home/rt2122/Data/detected_cats/full_pz_act20_thr0.1_step8.csv'),\n",
    "    'pz_act25' : pd.read_csv('/home/rt2122/Data/detected_cats/full_pz_act25_thr0.1_step8.csv')\n",
    "}"
   ]
  },
  {
   "cell_type": "code",
   "execution_count": 3,
   "metadata": {
    "ExecuteTime": {
     "end_time": "2020-12-09T18:21:05.353824Z",
     "start_time": "2020-12-09T18:21:03.047391Z"
    }
   },
   "outputs": [],
   "source": [
    "for name in det_cats:\n",
    "    df = det_cats[name]\n",
    "    df['pix2'] = radec2pix(df['RA'], df['DEC'], 2)\n",
    "    df = df[np.in1d(df['pix2'], val_pix)]\n",
    "    df.index = np.arange(len(df))\n",
    "    det_cats[name] = df"
   ]
  },
  {
   "cell_type": "code",
   "execution_count": 5,
   "metadata": {
    "ExecuteTime": {
     "end_time": "2020-12-09T18:21:35.020212Z",
     "start_time": "2020-12-09T18:21:34.538981Z"
    }
   },
   "outputs": [],
   "source": [
    "psz2 = None\n",
    "with fits.open('/home/rt2122/Data/original_catalogs/psz2.fits') as hdul:\n",
    "    data = hdul[1].data\n",
    "    psz2 = Table(data).to_pandas()\n",
    "mcxc = None\n",
    "with fits.open('/home/rt2122/Data/original_catalogs/mcxc.fits') as hdul:\n",
    "    data = hdul[1].data\n",
    "    mcxc = Table(data).to_pandas()\n",
    "rm = None\n",
    "with fits.open('/home/rt2122/Data/original_catalogs/redmapper.fits.gz') as hdul:\n",
    "    data = Table(hdul[1].data)\n",
    "    names = [name for name in data.colnames if len(data[name].shape) <= 1]\n",
    "    rm = data[names].to_pandas()\n",
    "act = None\n",
    "with fits.open('/home/rt2122/Data/original_catalogs/act.fits') as hdul:\n",
    "    data = hdul[1].data\n",
    "    act = Table(data).to_pandas()"
   ]
  },
  {
   "cell_type": "code",
   "execution_count": 6,
   "metadata": {
    "ExecuteTime": {
     "end_time": "2020-12-09T18:21:35.077016Z",
     "start_time": "2020-12-09T18:21:35.073261Z"
    }
   },
   "outputs": [],
   "source": [
    "true_cats = {'psz2' : psz2, 'mcxc' : mcxc, 'rm' : rm, 'act' : act}"
   ]
  },
  {
   "cell_type": "code",
   "execution_count": 9,
   "metadata": {
    "ExecuteTime": {
     "end_time": "2020-12-09T18:21:44.771110Z",
     "start_time": "2020-12-09T18:21:44.566068Z"
    }
   },
   "outputs": [
    {
     "name": "stderr",
     "output_type": "stream",
     "text": [
      "<ipython-input-9-5732c1c9f779>:3: SettingWithCopyWarning: \n",
      "A value is trying to be set on a copy of a slice from a DataFrame.\n",
      "Try using .loc[row_indexer,col_indexer] = value instead\n",
      "\n",
      "See the caveats in the documentation: https://pandas.pydata.org/pandas-docs/stable/user_guide/indexing.html#returning-a-view-versus-a-copy\n",
      "  df['pix2'] = radec2pix(df['RA'], df['DEC'], 2)\n"
     ]
    }
   ],
   "source": [
    "for name in true_cats:\n",
    "    df = true_cats[name]\n",
    "    df['pix2'] = radec2pix(df['RA'], df['DEC'], 2)\n",
    "    df = df[np.in1d(df['pix2'], val_pix)]\n",
    "    df.index = np.arange(len(df))\n",
    "    true_cats[name] = df"
   ]
  },
  {
   "cell_type": "code",
   "execution_count": 8,
   "metadata": {
    "ExecuteTime": {
     "end_time": "2020-12-09T18:21:42.020147Z",
     "start_time": "2020-12-09T18:21:42.008223Z"
    }
   },
   "outputs": [],
   "source": [
    "true_cats['mcxc'].rename({'RAdeg' : 'RA', 'DEdeg' : 'DEC'}, axis='columns', inplace=True)\n",
    "true_cats['act'].rename({'RADeg' : 'RA', 'decDeg' : 'DEC'}, axis='columns', inplace=True)"
   ]
  },
  {
   "cell_type": "code",
   "execution_count": 10,
   "metadata": {
    "ExecuteTime": {
     "end_time": "2020-12-09T18:21:47.948923Z",
     "start_time": "2020-12-09T18:21:47.943989Z"
    }
   },
   "outputs": [],
   "source": [
    "match_dist = 5 / 60"
   ]
  },
  {
   "cell_type": "code",
   "execution_count": 12,
   "metadata": {
    "ExecuteTime": {
     "end_time": "2020-12-09T18:22:09.919911Z",
     "start_time": "2020-12-09T18:22:09.907701Z"
    }
   },
   "outputs": [],
   "source": [
    "def calc_error(det_cat, true_cat, shift=15/60, match_dist=5/60, n_try=20, seed=0):\n",
    "    import numpy as np\n",
    "    from astropy.coordinates import SkyCoord\n",
    "    from astropy import units as u\n",
    "    \n",
    "    error = []\n",
    "    np.random.seed(seed)\n",
    "    for i in range(n_try):\n",
    "        det_sc = SkyCoord(ra=np.array(det_cat['RA']) * u.degree, \n",
    "                          dec=np.array(det_cat['DEC']) * u.degree, frame='icrs')\n",
    "        angles = np.random.randint(0, 360, len(det_cat))\n",
    "        det_sc = det_sc.directional_offset_by(angles*u.degree, shift)\n",
    "\n",
    "        true_sc = SkyCoord(ra=np.array(true_cat['RA']) * u.degree, \n",
    "                           dec=np.array(true_cat['DEC']) * u.degree, frame='icrs')\n",
    "        _, d2d, _ = det_sc.match_to_catalog_sky(true_sc)\n",
    "        c_error = np.count_nonzero(d2d.degree < match_dist)\n",
    "        error.append(c_error)\n",
    "    error = np.array(error)\n",
    "    return error.mean(), error.std() / np.sqrt(n_try - 1)"
   ]
  },
  {
   "cell_type": "code",
   "execution_count": 22,
   "metadata": {
    "ExecuteTime": {
     "end_time": "2020-12-09T18:23:35.729705Z",
     "start_time": "2020-12-09T18:23:29.973112Z"
    }
   },
   "outputs": [],
   "source": [
    "comp_df = []\n",
    "recall_df = []\n",
    "for det_name in det_cats:\n",
    "    line = {}\n",
    "    line_r = {}\n",
    "    \n",
    "    sc = SkyCoord(ra=np.array(det_cats[det_name]['RA'])*u.degree, \n",
    "                  dec=np.array(det_cats[det_name]['DEC'])*u.degree, frame='icrs')\n",
    "    \n",
    "    for tr_name in true_cats: \n",
    "        tr_sc = SkyCoord(ra=np.array(true_cats[tr_name]['RA'])*u.degree, \n",
    "                      dec=np.array(true_cats[tr_name]['DEC'])*u.degree, frame='icrs')\n",
    "        idx, d2d, _ = sc.match_to_catalog_sky(tr_sc)\n",
    "        matched = d2d.degree <= match_dist\n",
    "        line[tr_name] = np.count_nonzero(det_cats[det_name].iloc[matched]['status'] != 'fn')\n",
    "        line[tr_name+'_err'], line[tr_name+'_std'] = calc_error(det_cats[det_name], true_cats[tr_name])\n",
    "        \n",
    "        line_r[tr_name] = line[tr_name] / len(true_cats[tr_name])\n",
    "    line['fp'] = np.count_nonzero(det_cats[det_name]['status'] == 'fp')\n",
    "    line['all'] = len(det_cats[det_name])\n",
    "    line_r['fp'] = line['fp']\n",
    "    comp_df.append(pd.DataFrame(line, index=[det_name]))\n",
    "    recall_df.append(pd.DataFrame(line_r, index=[det_name]))\n",
    "\n",
    "line = {}\n",
    "for tr_name in true_cats:\n",
    "    line[tr_name] = len(true_cats[tr_name])\n",
    "    line[tr_name+'_err'] = 0\n",
    "line['fp'] = 0\n",
    "line['all'] = 0\n",
    "comp_df.append(pd.DataFrame(line, index=['all']))\n",
    "comp_df = pd.concat(comp_df)\n",
    "recall_df = pd.concat(recall_df)"
   ]
  },
  {
   "cell_type": "code",
   "execution_count": 23,
   "metadata": {
    "ExecuteTime": {
     "end_time": "2020-12-09T18:23:35.748398Z",
     "start_time": "2020-12-09T18:23:35.731212Z"
    },
    "scrolled": true
   },
   "outputs": [
    {
     "data": {
      "text/html": [
       "<div>\n",
       "<style scoped>\n",
       "    .dataframe tbody tr th:only-of-type {\n",
       "        vertical-align: middle;\n",
       "    }\n",
       "\n",
       "    .dataframe tbody tr th {\n",
       "        vertical-align: top;\n",
       "    }\n",
       "\n",
       "    .dataframe thead th {\n",
       "        text-align: right;\n",
       "    }\n",
       "</style>\n",
       "<table border=\"1\" class=\"dataframe\">\n",
       "  <thead>\n",
       "    <tr style=\"text-align: right;\">\n",
       "      <th></th>\n",
       "      <th>psz2</th>\n",
       "      <th>psz2_err</th>\n",
       "      <th>psz2_std</th>\n",
       "      <th>mcxc</th>\n",
       "      <th>mcxc_err</th>\n",
       "      <th>mcxc_std</th>\n",
       "      <th>rm</th>\n",
       "      <th>rm_err</th>\n",
       "      <th>rm_std</th>\n",
       "      <th>act</th>\n",
       "      <th>act_err</th>\n",
       "      <th>act_std</th>\n",
       "      <th>fp</th>\n",
       "      <th>all</th>\n",
       "    </tr>\n",
       "  </thead>\n",
       "  <tbody>\n",
       "    <tr>\n",
       "      <th>pz14</th>\n",
       "      <td>147</td>\n",
       "      <td>1.55</td>\n",
       "      <td>0.285390</td>\n",
       "      <td>71</td>\n",
       "      <td>1.20</td>\n",
       "      <td>0.304354</td>\n",
       "      <td>135</td>\n",
       "      <td>19.45</td>\n",
       "      <td>1.094183</td>\n",
       "      <td>127</td>\n",
       "      <td>3.90</td>\n",
       "      <td>0.446625</td>\n",
       "      <td>1055</td>\n",
       "      <td>1847</td>\n",
       "    </tr>\n",
       "    <tr>\n",
       "      <th>pz20</th>\n",
       "      <td>150</td>\n",
       "      <td>1.30</td>\n",
       "      <td>0.241704</td>\n",
       "      <td>71</td>\n",
       "      <td>1.10</td>\n",
       "      <td>0.203909</td>\n",
       "      <td>144</td>\n",
       "      <td>20.05</td>\n",
       "      <td>0.779592</td>\n",
       "      <td>143</td>\n",
       "      <td>4.45</td>\n",
       "      <td>0.419743</td>\n",
       "      <td>1116</td>\n",
       "      <td>1908</td>\n",
       "    </tr>\n",
       "    <tr>\n",
       "      <th>pz25</th>\n",
       "      <td>149</td>\n",
       "      <td>1.05</td>\n",
       "      <td>0.198348</td>\n",
       "      <td>73</td>\n",
       "      <td>1.35</td>\n",
       "      <td>0.195677</td>\n",
       "      <td>151</td>\n",
       "      <td>20.55</td>\n",
       "      <td>1.164101</td>\n",
       "      <td>146</td>\n",
       "      <td>5.35</td>\n",
       "      <td>0.488149</td>\n",
       "      <td>1187</td>\n",
       "      <td>1979</td>\n",
       "    </tr>\n",
       "    <tr>\n",
       "      <th>pz40</th>\n",
       "      <td>146</td>\n",
       "      <td>1.55</td>\n",
       "      <td>0.256238</td>\n",
       "      <td>69</td>\n",
       "      <td>0.90</td>\n",
       "      <td>0.250263</td>\n",
       "      <td>142</td>\n",
       "      <td>21.25</td>\n",
       "      <td>0.972991</td>\n",
       "      <td>129</td>\n",
       "      <td>4.40</td>\n",
       "      <td>0.466792</td>\n",
       "      <td>1180</td>\n",
       "      <td>1972</td>\n",
       "    </tr>\n",
       "    <tr>\n",
       "      <th>pz_act10</th>\n",
       "      <td>144</td>\n",
       "      <td>0.90</td>\n",
       "      <td>0.216430</td>\n",
       "      <td>64</td>\n",
       "      <td>1.15</td>\n",
       "      <td>0.208693</td>\n",
       "      <td>104</td>\n",
       "      <td>13.10</td>\n",
       "      <td>0.962180</td>\n",
       "      <td>95</td>\n",
       "      <td>2.80</td>\n",
       "      <td>0.321182</td>\n",
       "      <td>624</td>\n",
       "      <td>1313</td>\n",
       "    </tr>\n",
       "    <tr>\n",
       "      <th>pz_act14</th>\n",
       "      <td>143</td>\n",
       "      <td>1.25</td>\n",
       "      <td>0.260314</td>\n",
       "      <td>62</td>\n",
       "      <td>0.90</td>\n",
       "      <td>0.176218</td>\n",
       "      <td>114</td>\n",
       "      <td>16.05</td>\n",
       "      <td>0.712575</td>\n",
       "      <td>95</td>\n",
       "      <td>3.45</td>\n",
       "      <td>0.380270</td>\n",
       "      <td>759</td>\n",
       "      <td>1448</td>\n",
       "    </tr>\n",
       "    <tr>\n",
       "      <th>pz_act20</th>\n",
       "      <td>132</td>\n",
       "      <td>0.85</td>\n",
       "      <td>0.208693</td>\n",
       "      <td>58</td>\n",
       "      <td>0.85</td>\n",
       "      <td>0.301531</td>\n",
       "      <td>83</td>\n",
       "      <td>12.80</td>\n",
       "      <td>0.899122</td>\n",
       "      <td>72</td>\n",
       "      <td>3.45</td>\n",
       "      <td>0.328273</td>\n",
       "      <td>557</td>\n",
       "      <td>1349</td>\n",
       "    </tr>\n",
       "    <tr>\n",
       "      <th>pz_act25</th>\n",
       "      <td>131</td>\n",
       "      <td>0.90</td>\n",
       "      <td>0.190567</td>\n",
       "      <td>58</td>\n",
       "      <td>0.70</td>\n",
       "      <td>0.193309</td>\n",
       "      <td>92</td>\n",
       "      <td>15.15</td>\n",
       "      <td>1.124547</td>\n",
       "      <td>77</td>\n",
       "      <td>3.85</td>\n",
       "      <td>0.342399</td>\n",
       "      <td>624</td>\n",
       "      <td>1416</td>\n",
       "    </tr>\n",
       "    <tr>\n",
       "      <th>all</th>\n",
       "      <td>160</td>\n",
       "      <td>0.00</td>\n",
       "      <td>NaN</td>\n",
       "      <td>166</td>\n",
       "      <td>0.00</td>\n",
       "      <td>NaN</td>\n",
       "      <td>3081</td>\n",
       "      <td>0.00</td>\n",
       "      <td>NaN</td>\n",
       "      <td>602</td>\n",
       "      <td>0.00</td>\n",
       "      <td>NaN</td>\n",
       "      <td>0</td>\n",
       "      <td>0</td>\n",
       "    </tr>\n",
       "  </tbody>\n",
       "</table>\n",
       "</div>"
      ],
      "text/plain": [
       "          psz2  psz2_err  psz2_std  mcxc  mcxc_err  mcxc_std    rm  rm_err  \\\n",
       "pz14       147      1.55  0.285390    71      1.20  0.304354   135   19.45   \n",
       "pz20       150      1.30  0.241704    71      1.10  0.203909   144   20.05   \n",
       "pz25       149      1.05  0.198348    73      1.35  0.195677   151   20.55   \n",
       "pz40       146      1.55  0.256238    69      0.90  0.250263   142   21.25   \n",
       "pz_act10   144      0.90  0.216430    64      1.15  0.208693   104   13.10   \n",
       "pz_act14   143      1.25  0.260314    62      0.90  0.176218   114   16.05   \n",
       "pz_act20   132      0.85  0.208693    58      0.85  0.301531    83   12.80   \n",
       "pz_act25   131      0.90  0.190567    58      0.70  0.193309    92   15.15   \n",
       "all        160      0.00       NaN   166      0.00       NaN  3081    0.00   \n",
       "\n",
       "            rm_std  act  act_err   act_std    fp   all  \n",
       "pz14      1.094183  127     3.90  0.446625  1055  1847  \n",
       "pz20      0.779592  143     4.45  0.419743  1116  1908  \n",
       "pz25      1.164101  146     5.35  0.488149  1187  1979  \n",
       "pz40      0.972991  129     4.40  0.466792  1180  1972  \n",
       "pz_act10  0.962180   95     2.80  0.321182   624  1313  \n",
       "pz_act14  0.712575   95     3.45  0.380270   759  1448  \n",
       "pz_act20  0.899122   72     3.45  0.328273   557  1349  \n",
       "pz_act25  1.124547   77     3.85  0.342399   624  1416  \n",
       "all            NaN  602     0.00       NaN     0     0  "
      ]
     },
     "execution_count": 23,
     "metadata": {},
     "output_type": "execute_result"
    }
   ],
   "source": [
    "comp_df"
   ]
  },
  {
   "cell_type": "code",
   "execution_count": 24,
   "metadata": {
    "ExecuteTime": {
     "end_time": "2020-12-09T18:23:35.844330Z",
     "start_time": "2020-12-09T18:23:35.750135Z"
    }
   },
   "outputs": [
    {
     "data": {
      "text/html": [
       "<div>\n",
       "<style scoped>\n",
       "    .dataframe tbody tr th:only-of-type {\n",
       "        vertical-align: middle;\n",
       "    }\n",
       "\n",
       "    .dataframe tbody tr th {\n",
       "        vertical-align: top;\n",
       "    }\n",
       "\n",
       "    .dataframe thead th {\n",
       "        text-align: right;\n",
       "    }\n",
       "</style>\n",
       "<table border=\"1\" class=\"dataframe\">\n",
       "  <thead>\n",
       "    <tr style=\"text-align: right;\">\n",
       "      <th></th>\n",
       "      <th>psz2</th>\n",
       "      <th>mcxc</th>\n",
       "      <th>rm</th>\n",
       "      <th>act</th>\n",
       "      <th>fp</th>\n",
       "    </tr>\n",
       "  </thead>\n",
       "  <tbody>\n",
       "    <tr>\n",
       "      <th>pz14</th>\n",
       "      <td>0.91875</td>\n",
       "      <td>0.427711</td>\n",
       "      <td>0.043817</td>\n",
       "      <td>0.210963</td>\n",
       "      <td>1055</td>\n",
       "    </tr>\n",
       "    <tr>\n",
       "      <th>pz20</th>\n",
       "      <td>0.93750</td>\n",
       "      <td>0.427711</td>\n",
       "      <td>0.046738</td>\n",
       "      <td>0.237542</td>\n",
       "      <td>1116</td>\n",
       "    </tr>\n",
       "    <tr>\n",
       "      <th>pz25</th>\n",
       "      <td>0.93125</td>\n",
       "      <td>0.439759</td>\n",
       "      <td>0.049010</td>\n",
       "      <td>0.242525</td>\n",
       "      <td>1187</td>\n",
       "    </tr>\n",
       "    <tr>\n",
       "      <th>pz40</th>\n",
       "      <td>0.91250</td>\n",
       "      <td>0.415663</td>\n",
       "      <td>0.046089</td>\n",
       "      <td>0.214286</td>\n",
       "      <td>1180</td>\n",
       "    </tr>\n",
       "    <tr>\n",
       "      <th>pz_act10</th>\n",
       "      <td>0.90000</td>\n",
       "      <td>0.385542</td>\n",
       "      <td>0.033755</td>\n",
       "      <td>0.157807</td>\n",
       "      <td>624</td>\n",
       "    </tr>\n",
       "    <tr>\n",
       "      <th>pz_act14</th>\n",
       "      <td>0.89375</td>\n",
       "      <td>0.373494</td>\n",
       "      <td>0.037001</td>\n",
       "      <td>0.157807</td>\n",
       "      <td>759</td>\n",
       "    </tr>\n",
       "    <tr>\n",
       "      <th>pz_act20</th>\n",
       "      <td>0.82500</td>\n",
       "      <td>0.349398</td>\n",
       "      <td>0.026939</td>\n",
       "      <td>0.119601</td>\n",
       "      <td>557</td>\n",
       "    </tr>\n",
       "    <tr>\n",
       "      <th>pz_act25</th>\n",
       "      <td>0.81875</td>\n",
       "      <td>0.349398</td>\n",
       "      <td>0.029860</td>\n",
       "      <td>0.127907</td>\n",
       "      <td>624</td>\n",
       "    </tr>\n",
       "  </tbody>\n",
       "</table>\n",
       "</div>"
      ],
      "text/plain": [
       "             psz2      mcxc        rm       act    fp\n",
       "pz14      0.91875  0.427711  0.043817  0.210963  1055\n",
       "pz20      0.93750  0.427711  0.046738  0.237542  1116\n",
       "pz25      0.93125  0.439759  0.049010  0.242525  1187\n",
       "pz40      0.91250  0.415663  0.046089  0.214286  1180\n",
       "pz_act10  0.90000  0.385542  0.033755  0.157807   624\n",
       "pz_act14  0.89375  0.373494  0.037001  0.157807   759\n",
       "pz_act20  0.82500  0.349398  0.026939  0.119601   557\n",
       "pz_act25  0.81875  0.349398  0.029860  0.127907   624"
      ]
     },
     "execution_count": 24,
     "metadata": {},
     "output_type": "execute_result"
    }
   ],
   "source": [
    "recall_df"
   ]
  },
  {
   "cell_type": "code",
   "execution_count": null,
   "metadata": {},
   "outputs": [],
   "source": []
  }
 ],
 "metadata": {
  "kernelspec": {
   "display_name": "Python 3",
   "language": "python",
   "name": "python3"
  },
  "language_info": {
   "codemirror_mode": {
    "name": "ipython",
    "version": 3
   },
   "file_extension": ".py",
   "mimetype": "text/x-python",
   "name": "python",
   "nbconvert_exporter": "python",
   "pygments_lexer": "ipython3",
   "version": "3.8.3"
  }
 },
 "nbformat": 4,
 "nbformat_minor": 4
}
