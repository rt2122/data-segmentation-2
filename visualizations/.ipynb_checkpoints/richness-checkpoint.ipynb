{
 "cells": [
  {
   "cell_type": "code",
   "execution_count": 4,
   "metadata": {
    "ExecuteTime": {
     "end_time": "2021-03-27T11:08:39.841394Z",
     "start_time": "2021-03-27T11:08:39.827863Z"
    }
   },
   "outputs": [],
   "source": [
    "import pandas as pd\n",
    "import numpy as np\n",
    "from astropy.io import fits\n",
    "from astropy.table import Table"
   ]
  },
  {
   "cell_type": "code",
   "execution_count": 8,
   "metadata": {
    "ExecuteTime": {
     "end_time": "2021-03-27T11:11:27.388800Z",
     "start_time": "2021-03-27T11:11:27.101889Z"
    }
   },
   "outputs": [
    {
     "name": "stdout",
     "output_type": "stream",
     "text": [
      "ColDefs(\n",
      "    name = 'ID'; format = 'J'\n",
      "    name = 'NAME'; format = '20A'\n",
      "    name = 'RA'; format = 'D'\n",
      "    name = 'DEC'; format = 'D'\n",
      "    name = 'Z_LAMBDA'; format = 'E'\n",
      "    name = 'Z_LAMBDA_ERR'; format = 'E'\n",
      "    name = 'LAMBDA'; format = 'E'\n",
      "    name = 'LAMBDA_ERR'; format = 'E'\n",
      "    name = 'S'; format = 'E'\n",
      "    name = 'Z_SPEC'; format = 'E'\n",
      "    name = 'OBJID'; format = 'K'\n",
      "    name = 'IMAG'; format = 'E'\n",
      "    name = 'IMAG_ERR'; format = 'E'\n",
      "    name = 'MODEL_MAG_U'; format = 'E'\n",
      "    name = 'MODEL_MAGERR_U'; format = 'E'\n",
      "    name = 'MODEL_MAG_G'; format = 'E'\n",
      "    name = 'MODEL_MAGERR_G'; format = 'E'\n",
      "    name = 'MODEL_MAG_R'; format = 'E'\n",
      "    name = 'MODEL_MAGERR_R'; format = 'E'\n",
      "    name = 'MODEL_MAG_I'; format = 'E'\n",
      "    name = 'MODEL_MAGERR_I'; format = 'E'\n",
      "    name = 'MODEL_MAG_Z'; format = 'E'\n",
      "    name = 'MODEL_MAGERR_Z'; format = 'E'\n",
      "    name = 'ILUM'; format = 'E'\n",
      "    name = 'P_CEN'; format = '5E'\n",
      "    name = 'RA_CEN'; format = '5E'\n",
      "    name = 'DEC_CEN'; format = '5E'\n",
      "    name = 'ID_CEN'; format = '5K'\n",
      "    name = 'PZBINS'; format = '21E'\n",
      "    name = 'PZ'; format = '21E'\n",
      ")\n"
     ]
    }
   ],
   "source": [
    "rm = None\n",
    "with fits.open('/home/rt2122/Data/original_catalogs/redmapper.fits.gz') as hdul:\n",
    "    print(repr(hdul[1].columns))\n",
    "    rm = Table(hdul[1].data)['RA', 'DEC', 'LAMBDA', 'Z_SPEC'].to_pandas()"
   ]
  },
  {
   "cell_type": "code",
   "execution_count": 10,
   "metadata": {
    "ExecuteTime": {
     "end_time": "2021-03-27T11:11:58.421334Z",
     "start_time": "2021-03-27T11:11:58.175179Z"
    }
   },
   "outputs": [],
   "source": [
    "rm.to_csv('/home/rt2122/Data/original_catalogs/csv/RM.csv', index=False)"
   ]
  },
  {
   "cell_type": "code",
   "execution_count": null,
   "metadata": {},
   "outputs": [],
   "source": []
  }
 ],
 "metadata": {
  "kernelspec": {
   "display_name": "Python 3",
   "language": "python",
   "name": "python3"
  },
  "language_info": {
   "codemirror_mode": {
    "name": "ipython",
    "version": 3
   },
   "file_extension": ".py",
   "mimetype": "text/x-python",
   "name": "python",
   "nbconvert_exporter": "python",
   "pygments_lexer": "ipython3",
   "version": "3.8.3"
  }
 },
 "nbformat": 4,
 "nbformat_minor": 4
}
