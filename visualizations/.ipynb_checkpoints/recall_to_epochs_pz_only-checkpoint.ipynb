{
 "cells": [
  {
   "cell_type": "code",
   "execution_count": 1,
   "metadata": {
    "ExecuteTime": {
     "end_time": "2020-12-05T17:20:40.611170Z",
     "start_time": "2020-12-05T17:20:23.998160Z"
    }
   },
   "outputs": [],
   "source": [
    "import numpy as np\n",
    "import pandas as pd\n",
    "import os\n",
    "from matplotlib import pyplot as plt\n",
    "from DS_data_transformation import get_prm\n",
    "from DS_Planck_Unet import load_planck_model, val_pix\n",
    "from DS_detector import *\n",
    "from tqdm.notebook import tqdm"
   ]
  },
  {
   "cell_type": "code",
   "execution_count": 2,
   "metadata": {
    "ExecuteTime": {
     "end_time": "2020-12-05T17:20:40.670115Z",
     "start_time": "2020-12-05T17:20:40.613881Z"
    }
   },
   "outputs": [],
   "source": [
    "pz_dir = '/home/rt2122/Models/pz_only/'\n",
    "pz_act_dir = '/home/rt2122/Models/act_ros/'\n",
    "model_files_dict = {'pz' : [os.path.join(pz_dir, s) for s in next(os.walk(pz_dir))[-1]\n",
    "                            if s[-len('.hdf5'):] == '.hdf5'], \n",
    "                   'pz_act' : [os.path.join(pz_act_dir, s) for s in next(os.walk(pz_act_dir))[-1]\n",
    "                              if int(get_prm('ep', s)) <= 30 and s[-len('.hdf5'):] == '.hdf5']}"
   ]
  },
  {
   "cell_type": "code",
   "execution_count": null,
   "metadata": {
    "ExecuteTime": {
     "start_time": "2020-12-05T17:20:13.530Z"
    }
   },
   "outputs": [
    {
     "data": {
      "application/vnd.jupyter.widget-view+json": {
       "model_id": "35894878ec174f12b67d423def280291",
       "version_major": 2,
       "version_minor": 0
      },
      "text/plain": [
       "HBox(children=(FloatProgress(value=0.0, max=30.0), HTML(value='')))"
      ]
     },
     "metadata": {},
     "output_type": "display_data"
    },
    {
     "name": "stderr",
     "output_type": "stream",
     "text": [
      "/home/rt2122/anaconda3/lib/python3.8/site-packages/pandas/core/indexing.py:671: SettingWithCopyWarning: \n",
      "A value is trying to be set on a copy of a slice from a DataFrame\n",
      "\n",
      "See the caveats in the documentation: https://pandas.pydata.org/pandas-docs/stable/user_guide/indexing.html#returning-a-view-versus-a-copy\n",
      "  self._setitem_with_indexer(indexer, value)\n"
     ]
    },
    {
     "name": "stdout",
     "output_type": "stream",
     "text": [
      "\n"
     ]
    },
    {
     "data": {
      "application/vnd.jupyter.widget-view+json": {
       "model_id": "bb1c27e9e4bf4345840cd40c245bbd3d",
       "version_major": 2,
       "version_minor": 0
      },
      "text/plain": [
       "HBox(children=(FloatProgress(value=0.0, max=30.0), HTML(value='')))"
      ]
     },
     "metadata": {},
     "output_type": "display_data"
    }
   ],
   "source": [
    "#model_dict = {}\n",
    "for name in model_files_dict:\n",
    "    #model_dict[name] = {}\n",
    "    for file in tqdm(model_files_dict[name]):\n",
    "        model = load_planck_model(file)\n",
    "        cur_df = []\n",
    "        for i in val_pix:\n",
    "            all_dict = gen_pics_for_detection(i, model, step=8)\n",
    "            cur_df.append(detect_clusters_connected(all_dict, thr=0.1, ipix=i))\n",
    "        cur_df = pd.concat(cur_df, ignore_index=True)\n",
    "        ep = int(get_prm('ep', file))\n",
    "        cur_df.to_csv('/home/rt2122/Data/cur/recall2epoch/{model}_ep{ep}.csv'.format(model=name,\n",
    "                                                                                    ep=ep), index=False)\n",
    "        #model_dict[name][ep] = cur_df"
   ]
  },
  {
   "cell_type": "code",
   "execution_count": null,
   "metadata": {},
   "outputs": [],
   "source": []
  }
 ],
 "metadata": {
  "kernelspec": {
   "display_name": "Python 3",
   "language": "python",
   "name": "python3"
  },
  "language_info": {
   "codemirror_mode": {
    "name": "ipython",
    "version": 3
   },
   "file_extension": ".py",
   "mimetype": "text/x-python",
   "name": "python",
   "nbconvert_exporter": "python",
   "pygments_lexer": "ipython3",
   "version": "3.8.3"
  }
 },
 "nbformat": 4,
 "nbformat_minor": 4
}
