{
 "cells": [
  {
   "cell_type": "code",
   "execution_count": 3,
   "metadata": {
    "ExecuteTime": {
     "end_time": "2021-02-23T18:47:06.573834Z",
     "start_time": "2021-02-23T18:47:06.563293Z"
    }
   },
   "outputs": [],
   "source": [
    "import numpy as np\n",
    "import pandas as pd\n",
    "import seaborn as sns"
   ]
  },
  {
   "cell_type": "code",
   "execution_count": 4,
   "metadata": {
    "ExecuteTime": {
     "end_time": "2021-02-23T18:47:07.050270Z",
     "start_time": "2021-02-23T18:47:06.953362Z"
    }
   },
   "outputs": [],
   "source": [
    "df = pd.read_csv('/home/rt2122/Data/detected_cats/full_pz_rot28_thr0.1_step8.csv')"
   ]
  },
  {
   "cell_type": "code",
   "execution_count": 5,
   "metadata": {
    "ExecuteTime": {
     "end_time": "2021-02-23T18:47:08.264265Z",
     "start_time": "2021-02-23T18:47:08.110430Z"
    }
   },
   "outputs": [],
   "source": [
    "df = df[df['status'] != 'fp']\n",
    "df = df[df['catalog'] != 'planck_no_z']\n",
    "df.index = np.arange(len(df))"
   ]
  },
  {
   "cell_type": "code",
   "execution_count": 9,
   "metadata": {
    "ExecuteTime": {
     "end_time": "2021-02-23T18:48:02.540854Z",
     "start_time": "2021-02-23T18:48:02.513425Z"
    }
   },
   "outputs": [
    {
     "name": "stdout",
     "output_type": "stream",
     "text": [
      "[0, 0.146, 0.2769047021865845, 0.40646685, 0.545, 0.7208155989646913, 2]\n",
      "[0, 1.5892898885458655, 1.9960987294061288, 2.3466809369916932, 2.8144785284579608, 20]\n"
     ]
    }
   ],
   "source": [
    "q_z = [df['z'].quantile(i/6) for i in range(0, 7)]\n",
    "q_z[0] = 0\n",
    "q_z[-1] = 2\n",
    "q_m = [df['M500'].quantile(i/6) for i in range(0, 6)]\n",
    "q_m[0] = 0\n",
    "q_m[-1] = 20\n",
    "print(repr(q_z))\n",
    "print(repr(q_m))"
   ]
  },
  {
   "cell_type": "code",
   "execution_count": 16,
   "metadata": {
    "ExecuteTime": {
     "end_time": "2021-02-23T18:50:58.377909Z",
     "start_time": "2021-02-23T18:50:58.323727Z"
    }
   },
   "outputs": [],
   "source": [
    "q_m500 = {}\n",
    "for i in range(len(q_z) - 1):\n",
    "    st = q_z[i]\n",
    "    en = q_z[i + 1]\n",
    "    matched = np.logical_and(st <= df['z'], df['z'] < en)\n",
    "    cur_df = df[matched]\n",
    "    q_m500[en] = [cur_df['M500'].quantile(i / 5) for i in range(6)]\n",
    "    q_m500[en][-1] = 20\n"
   ]
  },
  {
   "cell_type": "code",
   "execution_count": 17,
   "metadata": {
    "ExecuteTime": {
     "end_time": "2021-02-23T18:51:03.345804Z",
     "start_time": "2021-02-23T18:51:03.326004Z"
    }
   },
   "outputs": [
    {
     "data": {
      "text/html": [
       "<div>\n",
       "<style scoped>\n",
       "    .dataframe tbody tr th:only-of-type {\n",
       "        vertical-align: middle;\n",
       "    }\n",
       "\n",
       "    .dataframe tbody tr th {\n",
       "        vertical-align: top;\n",
       "    }\n",
       "\n",
       "    .dataframe thead th {\n",
       "        text-align: right;\n",
       "    }\n",
       "</style>\n",
       "<table border=\"1\" class=\"dataframe\">\n",
       "  <thead>\n",
       "    <tr style=\"text-align: right;\">\n",
       "      <th></th>\n",
       "      <th>0.146000</th>\n",
       "      <th>0.276905</th>\n",
       "      <th>0.406467</th>\n",
       "      <th>0.545000</th>\n",
       "      <th>0.720816</th>\n",
       "      <th>2.000000</th>\n",
       "    </tr>\n",
       "  </thead>\n",
       "  <tbody>\n",
       "    <tr>\n",
       "      <th>0</th>\n",
       "      <td>0.009600</td>\n",
       "      <td>0.309300</td>\n",
       "      <td>0.324500</td>\n",
       "      <td>0.472700</td>\n",
       "      <td>0.958000</td>\n",
       "      <td>1.282935</td>\n",
       "    </tr>\n",
       "    <tr>\n",
       "      <th>1</th>\n",
       "      <td>0.613820</td>\n",
       "      <td>1.520560</td>\n",
       "      <td>1.796266</td>\n",
       "      <td>1.904794</td>\n",
       "      <td>1.949375</td>\n",
       "      <td>1.881850</td>\n",
       "    </tr>\n",
       "    <tr>\n",
       "      <th>2</th>\n",
       "      <td>1.272120</td>\n",
       "      <td>2.168034</td>\n",
       "      <td>2.288912</td>\n",
       "      <td>2.293961</td>\n",
       "      <td>2.278848</td>\n",
       "      <td>2.155825</td>\n",
       "    </tr>\n",
       "    <tr>\n",
       "      <th>3</th>\n",
       "      <td>1.903060</td>\n",
       "      <td>3.170817</td>\n",
       "      <td>2.877972</td>\n",
       "      <td>2.682044</td>\n",
       "      <td>2.655300</td>\n",
       "      <td>2.440612</td>\n",
       "    </tr>\n",
       "    <tr>\n",
       "      <th>4</th>\n",
       "      <td>2.736071</td>\n",
       "      <td>4.357869</td>\n",
       "      <td>4.906258</td>\n",
       "      <td>3.500986</td>\n",
       "      <td>3.318380</td>\n",
       "      <td>2.973040</td>\n",
       "    </tr>\n",
       "    <tr>\n",
       "      <th>5</th>\n",
       "      <td>20.000000</td>\n",
       "      <td>20.000000</td>\n",
       "      <td>20.000000</td>\n",
       "      <td>20.000000</td>\n",
       "      <td>20.000000</td>\n",
       "      <td>20.000000</td>\n",
       "    </tr>\n",
       "  </tbody>\n",
       "</table>\n",
       "</div>"
      ],
      "text/plain": [
       "    0.146000   0.276905   0.406467   0.545000   0.720816   2.000000\n",
       "0   0.009600   0.309300   0.324500   0.472700   0.958000   1.282935\n",
       "1   0.613820   1.520560   1.796266   1.904794   1.949375   1.881850\n",
       "2   1.272120   2.168034   2.288912   2.293961   2.278848   2.155825\n",
       "3   1.903060   3.170817   2.877972   2.682044   2.655300   2.440612\n",
       "4   2.736071   4.357869   4.906258   3.500986   3.318380   2.973040\n",
       "5  20.000000  20.000000  20.000000  20.000000  20.000000  20.000000"
      ]
     },
     "execution_count": 17,
     "metadata": {},
     "output_type": "execute_result"
    }
   ],
   "source": [
    "q_m500 = pd.DataFrame(q_m500)\n",
    "q_m500"
   ]
  },
  {
   "cell_type": "code",
   "execution_count": 46,
   "metadata": {
    "ExecuteTime": {
     "end_time": "2021-02-22T18:32:58.449129Z",
     "start_time": "2021-02-22T18:32:58.367874Z"
    }
   },
   "outputs": [],
   "source": [
    "recalls = []\n",
    "for j in range(len(q_m500) - 1):\n",
    "    line = {}\n",
    "    for i in range(len(q_z) - 1):\n",
    "        z_st = q_z[i]\n",
    "        z_en = q_z[i + 1]\n",
    "        m_st = q_m500[z_en][j]\n",
    "        m_en = q_m500[z_en][j + 1]\n",
    "        \n",
    "        matched1 = np.logical_and(z_st <= df['z'], df['z'] < z_en)\n",
    "        matched2 = np.logical_and(m_st <= df['M500'], df['M500'] < m_en)\n",
    "        cur_df = df[np.logical_and(matched1, matched2)]\n",
    "        recall = np.count_nonzero(cur_df['status'] == 'tp') / len(cur_df)\n",
    "        line['({:.2f},{:.2f})'.format(z_st, z_en)] = recall\n",
    "    recalls.append(pd.DataFrame(line, index=[j]))\n",
    "recalls = pd.concat(recalls)"
   ]
  },
  {
   "cell_type": "code",
   "execution_count": 47,
   "metadata": {
    "ExecuteTime": {
     "end_time": "2021-02-22T18:32:58.963208Z",
     "start_time": "2021-02-22T18:32:58.949317Z"
    }
   },
   "outputs": [
    {
     "data": {
      "text/html": [
       "<div>\n",
       "<style scoped>\n",
       "    .dataframe tbody tr th:only-of-type {\n",
       "        vertical-align: middle;\n",
       "    }\n",
       "\n",
       "    .dataframe tbody tr th {\n",
       "        vertical-align: top;\n",
       "    }\n",
       "\n",
       "    .dataframe thead th {\n",
       "        text-align: right;\n",
       "    }\n",
       "</style>\n",
       "<table border=\"1\" class=\"dataframe\">\n",
       "  <thead>\n",
       "    <tr style=\"text-align: right;\">\n",
       "      <th></th>\n",
       "      <th>(0.00,0.15)</th>\n",
       "      <th>(0.15,0.28)</th>\n",
       "      <th>(0.28,0.41)</th>\n",
       "      <th>(0.41,0.55)</th>\n",
       "      <th>(0.55,0.72)</th>\n",
       "      <th>(0.72,2.00)</th>\n",
       "    </tr>\n",
       "  </thead>\n",
       "  <tbody>\n",
       "    <tr>\n",
       "      <th>0</th>\n",
       "      <td>0.024390</td>\n",
       "      <td>0.092683</td>\n",
       "      <td>0.092683</td>\n",
       "      <td>0.068627</td>\n",
       "      <td>0.034146</td>\n",
       "      <td>0.034146</td>\n",
       "    </tr>\n",
       "    <tr>\n",
       "      <th>1</th>\n",
       "      <td>0.171569</td>\n",
       "      <td>0.191176</td>\n",
       "      <td>0.098039</td>\n",
       "      <td>0.078431</td>\n",
       "      <td>0.053659</td>\n",
       "      <td>0.034314</td>\n",
       "    </tr>\n",
       "    <tr>\n",
       "      <th>2</th>\n",
       "      <td>0.485294</td>\n",
       "      <td>0.326829</td>\n",
       "      <td>0.200000</td>\n",
       "      <td>0.132353</td>\n",
       "      <td>0.049020</td>\n",
       "      <td>0.039216</td>\n",
       "    </tr>\n",
       "    <tr>\n",
       "      <th>3</th>\n",
       "      <td>0.691176</td>\n",
       "      <td>0.803922</td>\n",
       "      <td>0.558824</td>\n",
       "      <td>0.245098</td>\n",
       "      <td>0.087805</td>\n",
       "      <td>0.087805</td>\n",
       "    </tr>\n",
       "    <tr>\n",
       "      <th>4</th>\n",
       "      <td>0.843902</td>\n",
       "      <td>0.921951</td>\n",
       "      <td>0.965854</td>\n",
       "      <td>0.731707</td>\n",
       "      <td>0.478049</td>\n",
       "      <td>0.243902</td>\n",
       "    </tr>\n",
       "  </tbody>\n",
       "</table>\n",
       "</div>"
      ],
      "text/plain": [
       "   (0.00,0.15)  (0.15,0.28)  (0.28,0.41)  (0.41,0.55)  (0.55,0.72)  \\\n",
       "0     0.024390     0.092683     0.092683     0.068627     0.034146   \n",
       "1     0.171569     0.191176     0.098039     0.078431     0.053659   \n",
       "2     0.485294     0.326829     0.200000     0.132353     0.049020   \n",
       "3     0.691176     0.803922     0.558824     0.245098     0.087805   \n",
       "4     0.843902     0.921951     0.965854     0.731707     0.478049   \n",
       "\n",
       "   (0.72,2.00)  \n",
       "0     0.034146  \n",
       "1     0.034314  \n",
       "2     0.039216  \n",
       "3     0.087805  \n",
       "4     0.243902  "
      ]
     },
     "execution_count": 47,
     "metadata": {},
     "output_type": "execute_result"
    }
   ],
   "source": [
    "recalls"
   ]
  },
  {
   "cell_type": "code",
   "execution_count": 48,
   "metadata": {
    "ExecuteTime": {
     "end_time": "2021-02-22T18:33:05.645768Z",
     "start_time": "2021-02-22T18:33:05.607140Z"
    }
   },
   "outputs": [
    {
     "data": {
      "text/html": [
       "<style  type=\"text/css\" >\n",
       "    #T_674b1ee0_753c_11eb_964f_675018f3427drow0_col0 {\n",
       "            background-color:  #e5ffe5;\n",
       "            color:  #000000;\n",
       "        }    #T_674b1ee0_753c_11eb_964f_675018f3427drow0_col1 {\n",
       "            background-color:  #e5ffe5;\n",
       "            color:  #000000;\n",
       "        }    #T_674b1ee0_753c_11eb_964f_675018f3427drow0_col2 {\n",
       "            background-color:  #e5ffe5;\n",
       "            color:  #000000;\n",
       "        }    #T_674b1ee0_753c_11eb_964f_675018f3427drow0_col3 {\n",
       "            background-color:  #e5ffe5;\n",
       "            color:  #000000;\n",
       "        }    #T_674b1ee0_753c_11eb_964f_675018f3427drow0_col4 {\n",
       "            background-color:  #e5ffe5;\n",
       "            color:  #000000;\n",
       "        }    #T_674b1ee0_753c_11eb_964f_675018f3427drow0_col5 {\n",
       "            background-color:  #e5ffe5;\n",
       "            color:  #000000;\n",
       "        }    #T_674b1ee0_753c_11eb_964f_675018f3427drow1_col0 {\n",
       "            background-color:  #bde9bd;\n",
       "            color:  #000000;\n",
       "        }    #T_674b1ee0_753c_11eb_964f_675018f3427drow1_col1 {\n",
       "            background-color:  #caf0ca;\n",
       "            color:  #000000;\n",
       "        }    #T_674b1ee0_753c_11eb_964f_675018f3427drow1_col2 {\n",
       "            background-color:  #e5ffe5;\n",
       "            color:  #000000;\n",
       "        }    #T_674b1ee0_753c_11eb_964f_675018f3427drow1_col3 {\n",
       "            background-color:  #e3fee3;\n",
       "            color:  #000000;\n",
       "        }    #T_674b1ee0_753c_11eb_964f_675018f3427drow1_col4 {\n",
       "            background-color:  #dcfadc;\n",
       "            color:  #000000;\n",
       "        }    #T_674b1ee0_753c_11eb_964f_675018f3427drow1_col5 {\n",
       "            background-color:  #e5ffe5;\n",
       "            color:  #000000;\n",
       "        }    #T_674b1ee0_753c_11eb_964f_675018f3427drow2_col0 {\n",
       "            background-color:  #65b865;\n",
       "            color:  #000000;\n",
       "        }    #T_674b1ee0_753c_11eb_964f_675018f3427drow2_col1 {\n",
       "            background-color:  #a5dba5;\n",
       "            color:  #000000;\n",
       "        }    #T_674b1ee0_753c_11eb_964f_675018f3427drow2_col2 {\n",
       "            background-color:  #caf0ca;\n",
       "            color:  #000000;\n",
       "        }    #T_674b1ee0_753c_11eb_964f_675018f3427drow2_col3 {\n",
       "            background-color:  #d0f3d0;\n",
       "            color:  #000000;\n",
       "        }    #T_674b1ee0_753c_11eb_964f_675018f3427drow2_col4 {\n",
       "            background-color:  #defbde;\n",
       "            color:  #000000;\n",
       "        }    #T_674b1ee0_753c_11eb_964f_675018f3427drow2_col5 {\n",
       "            background-color:  #e0fce0;\n",
       "            color:  #000000;\n",
       "        }    #T_674b1ee0_753c_11eb_964f_675018f3427drow3_col0 {\n",
       "            background-color:  #2a972a;\n",
       "            color:  #000000;\n",
       "        }    #T_674b1ee0_753c_11eb_964f_675018f3427drow3_col1 {\n",
       "            background-color:  #209220;\n",
       "            color:  #000000;\n",
       "        }    #T_674b1ee0_753c_11eb_964f_675018f3427drow3_col2 {\n",
       "            background-color:  #6bbb6b;\n",
       "            color:  #000000;\n",
       "        }    #T_674b1ee0_753c_11eb_964f_675018f3427drow3_col3 {\n",
       "            background-color:  #a8dda8;\n",
       "            color:  #000000;\n",
       "        }    #T_674b1ee0_753c_11eb_964f_675018f3427drow3_col4 {\n",
       "            background-color:  #caf0ca;\n",
       "            color:  #000000;\n",
       "        }    #T_674b1ee0_753c_11eb_964f_675018f3427drow3_col5 {\n",
       "            background-color:  #abdfab;\n",
       "            color:  #000000;\n",
       "        }    #T_674b1ee0_753c_11eb_964f_675018f3427drow4_col0 {\n",
       "            background-color:  #008000;\n",
       "            color:  #f1f1f1;\n",
       "        }    #T_674b1ee0_753c_11eb_964f_675018f3427drow4_col1 {\n",
       "            background-color:  #008000;\n",
       "            color:  #f1f1f1;\n",
       "        }    #T_674b1ee0_753c_11eb_964f_675018f3427drow4_col2 {\n",
       "            background-color:  #008000;\n",
       "            color:  #f1f1f1;\n",
       "        }    #T_674b1ee0_753c_11eb_964f_675018f3427drow4_col3 {\n",
       "            background-color:  #008000;\n",
       "            color:  #f1f1f1;\n",
       "        }    #T_674b1ee0_753c_11eb_964f_675018f3427drow4_col4 {\n",
       "            background-color:  #008000;\n",
       "            color:  #f1f1f1;\n",
       "        }    #T_674b1ee0_753c_11eb_964f_675018f3427drow4_col5 {\n",
       "            background-color:  #008000;\n",
       "            color:  #f1f1f1;\n",
       "        }</style><table id=\"T_674b1ee0_753c_11eb_964f_675018f3427d\" ><thead>    <tr>        <th class=\"blank level0\" ></th>        <th class=\"col_heading level0 col0\" >(0.00,0.15)</th>        <th class=\"col_heading level0 col1\" >(0.15,0.28)</th>        <th class=\"col_heading level0 col2\" >(0.28,0.41)</th>        <th class=\"col_heading level0 col3\" >(0.41,0.55)</th>        <th class=\"col_heading level0 col4\" >(0.55,0.72)</th>        <th class=\"col_heading level0 col5\" >(0.72,2.00)</th>    </tr></thead><tbody>\n",
       "                <tr>\n",
       "                        <th id=\"T_674b1ee0_753c_11eb_964f_675018f3427dlevel0_row0\" class=\"row_heading level0 row0\" >0</th>\n",
       "                        <td id=\"T_674b1ee0_753c_11eb_964f_675018f3427drow0_col0\" class=\"data row0 col0\" >0.024390</td>\n",
       "                        <td id=\"T_674b1ee0_753c_11eb_964f_675018f3427drow0_col1\" class=\"data row0 col1\" >0.092683</td>\n",
       "                        <td id=\"T_674b1ee0_753c_11eb_964f_675018f3427drow0_col2\" class=\"data row0 col2\" >0.092683</td>\n",
       "                        <td id=\"T_674b1ee0_753c_11eb_964f_675018f3427drow0_col3\" class=\"data row0 col3\" >0.068627</td>\n",
       "                        <td id=\"T_674b1ee0_753c_11eb_964f_675018f3427drow0_col4\" class=\"data row0 col4\" >0.034146</td>\n",
       "                        <td id=\"T_674b1ee0_753c_11eb_964f_675018f3427drow0_col5\" class=\"data row0 col5\" >0.034146</td>\n",
       "            </tr>\n",
       "            <tr>\n",
       "                        <th id=\"T_674b1ee0_753c_11eb_964f_675018f3427dlevel0_row1\" class=\"row_heading level0 row1\" >1</th>\n",
       "                        <td id=\"T_674b1ee0_753c_11eb_964f_675018f3427drow1_col0\" class=\"data row1 col0\" >0.171569</td>\n",
       "                        <td id=\"T_674b1ee0_753c_11eb_964f_675018f3427drow1_col1\" class=\"data row1 col1\" >0.191176</td>\n",
       "                        <td id=\"T_674b1ee0_753c_11eb_964f_675018f3427drow1_col2\" class=\"data row1 col2\" >0.098039</td>\n",
       "                        <td id=\"T_674b1ee0_753c_11eb_964f_675018f3427drow1_col3\" class=\"data row1 col3\" >0.078431</td>\n",
       "                        <td id=\"T_674b1ee0_753c_11eb_964f_675018f3427drow1_col4\" class=\"data row1 col4\" >0.053659</td>\n",
       "                        <td id=\"T_674b1ee0_753c_11eb_964f_675018f3427drow1_col5\" class=\"data row1 col5\" >0.034314</td>\n",
       "            </tr>\n",
       "            <tr>\n",
       "                        <th id=\"T_674b1ee0_753c_11eb_964f_675018f3427dlevel0_row2\" class=\"row_heading level0 row2\" >2</th>\n",
       "                        <td id=\"T_674b1ee0_753c_11eb_964f_675018f3427drow2_col0\" class=\"data row2 col0\" >0.485294</td>\n",
       "                        <td id=\"T_674b1ee0_753c_11eb_964f_675018f3427drow2_col1\" class=\"data row2 col1\" >0.326829</td>\n",
       "                        <td id=\"T_674b1ee0_753c_11eb_964f_675018f3427drow2_col2\" class=\"data row2 col2\" >0.200000</td>\n",
       "                        <td id=\"T_674b1ee0_753c_11eb_964f_675018f3427drow2_col3\" class=\"data row2 col3\" >0.132353</td>\n",
       "                        <td id=\"T_674b1ee0_753c_11eb_964f_675018f3427drow2_col4\" class=\"data row2 col4\" >0.049020</td>\n",
       "                        <td id=\"T_674b1ee0_753c_11eb_964f_675018f3427drow2_col5\" class=\"data row2 col5\" >0.039216</td>\n",
       "            </tr>\n",
       "            <tr>\n",
       "                        <th id=\"T_674b1ee0_753c_11eb_964f_675018f3427dlevel0_row3\" class=\"row_heading level0 row3\" >3</th>\n",
       "                        <td id=\"T_674b1ee0_753c_11eb_964f_675018f3427drow3_col0\" class=\"data row3 col0\" >0.691176</td>\n",
       "                        <td id=\"T_674b1ee0_753c_11eb_964f_675018f3427drow3_col1\" class=\"data row3 col1\" >0.803922</td>\n",
       "                        <td id=\"T_674b1ee0_753c_11eb_964f_675018f3427drow3_col2\" class=\"data row3 col2\" >0.558824</td>\n",
       "                        <td id=\"T_674b1ee0_753c_11eb_964f_675018f3427drow3_col3\" class=\"data row3 col3\" >0.245098</td>\n",
       "                        <td id=\"T_674b1ee0_753c_11eb_964f_675018f3427drow3_col4\" class=\"data row3 col4\" >0.087805</td>\n",
       "                        <td id=\"T_674b1ee0_753c_11eb_964f_675018f3427drow3_col5\" class=\"data row3 col5\" >0.087805</td>\n",
       "            </tr>\n",
       "            <tr>\n",
       "                        <th id=\"T_674b1ee0_753c_11eb_964f_675018f3427dlevel0_row4\" class=\"row_heading level0 row4\" >4</th>\n",
       "                        <td id=\"T_674b1ee0_753c_11eb_964f_675018f3427drow4_col0\" class=\"data row4 col0\" >0.843902</td>\n",
       "                        <td id=\"T_674b1ee0_753c_11eb_964f_675018f3427drow4_col1\" class=\"data row4 col1\" >0.921951</td>\n",
       "                        <td id=\"T_674b1ee0_753c_11eb_964f_675018f3427drow4_col2\" class=\"data row4 col2\" >0.965854</td>\n",
       "                        <td id=\"T_674b1ee0_753c_11eb_964f_675018f3427drow4_col3\" class=\"data row4 col3\" >0.731707</td>\n",
       "                        <td id=\"T_674b1ee0_753c_11eb_964f_675018f3427drow4_col4\" class=\"data row4 col4\" >0.478049</td>\n",
       "                        <td id=\"T_674b1ee0_753c_11eb_964f_675018f3427drow4_col5\" class=\"data row4 col5\" >0.243902</td>\n",
       "            </tr>\n",
       "    </tbody></table>"
      ],
      "text/plain": [
       "<pandas.io.formats.style.Styler at 0x7ff0c36e6400>"
      ]
     },
     "execution_count": 48,
     "metadata": {},
     "output_type": "execute_result"
    }
   ],
   "source": [
    "cm = sns.light_palette(\"green\", as_cmap=True)\n",
    "\n",
    "s = recalls.style.background_gradient(cmap=cm)\n",
    "s"
   ]
  },
  {
   "cell_type": "code",
   "execution_count": 45,
   "metadata": {
    "ExecuteTime": {
     "end_time": "2021-02-22T18:32:50.623302Z",
     "start_time": "2021-02-22T18:32:50.616746Z"
    }
   },
   "outputs": [
    {
     "data": {
      "text/plain": [
       "'(0.10,0.20)'"
      ]
     },
     "execution_count": 45,
     "metadata": {},
     "output_type": "execute_result"
    }
   ],
   "source": [
    "z_st = 0.1\n",
    "z_en=0.2\n",
    "'({:.2f},{:.2f})'.format(z_st, z_en)"
   ]
  },
  {
   "cell_type": "code",
   "execution_count": 14,
   "metadata": {
    "ExecuteTime": {
     "end_time": "2021-02-23T18:50:36.407992Z",
     "start_time": "2021-02-23T18:50:36.331612Z"
    }
   },
   "outputs": [],
   "source": [
    "recalls = []\n",
    "for j in range(len(q_m) - 1):\n",
    "    line = {}\n",
    "    m_st = q_m[j]\n",
    "    m_en = q_m[j + 1]\n",
    "    for i in range(len(q_z) - 1):\n",
    "        z_st = q_z[i]\n",
    "        z_en = q_z[i + 1]\n",
    "        \n",
    "        matched1 = np.logical_and(z_st <= df['z'], df['z'] < z_en)\n",
    "        matched2 = np.logical_and(m_st <= df['M500'], df['M500'] < m_en)\n",
    "        cur_df = df[np.logical_and(matched1, matched2)]\n",
    "        recall = np.count_nonzero(cur_df['status'] == 'tp') / len(cur_df)\n",
    "        line['({:.2f},{:.2f})'.format(z_st, z_en)] = recall\n",
    "    recalls.append(pd.DataFrame(line, index=['({:.2f},{:.2f})'.format(m_st, m_en)]))\n",
    "recalls = pd.concat(recalls)"
   ]
  },
  {
   "cell_type": "code",
   "execution_count": 15,
   "metadata": {
    "ExecuteTime": {
     "end_time": "2021-02-23T18:50:37.614004Z",
     "start_time": "2021-02-23T18:50:37.548306Z"
    }
   },
   "outputs": [
    {
     "data": {
      "text/html": [
       "<style  type=\"text/css\" >\n",
       "    #T_04ba79ca_7608_11eb_b79d_8b9ecf85cf5brow0_col0 {\n",
       "            background-color:  #e5ffe5;\n",
       "            color:  #000000;\n",
       "        }    #T_04ba79ca_7608_11eb_b79d_8b9ecf85cf5brow0_col1 {\n",
       "            background-color:  #e5ffe5;\n",
       "            color:  #000000;\n",
       "        }    #T_04ba79ca_7608_11eb_b79d_8b9ecf85cf5brow0_col2 {\n",
       "            background-color:  #e5ffe5;\n",
       "            color:  #000000;\n",
       "        }    #T_04ba79ca_7608_11eb_b79d_8b9ecf85cf5brow0_col3 {\n",
       "            background-color:  #e3fee3;\n",
       "            color:  #000000;\n",
       "        }    #T_04ba79ca_7608_11eb_b79d_8b9ecf85cf5brow0_col4 {\n",
       "            background-color:  #e5ffe5;\n",
       "            color:  #000000;\n",
       "        }    #T_04ba79ca_7608_11eb_b79d_8b9ecf85cf5brow0_col5 {\n",
       "            background-color:  #9ad59a;\n",
       "            color:  #000000;\n",
       "        }    #T_04ba79ca_7608_11eb_b79d_8b9ecf85cf5brow1_col0 {\n",
       "            background-color:  #64b764;\n",
       "            color:  #000000;\n",
       "        }    #T_04ba79ca_7608_11eb_b79d_8b9ecf85cf5brow1_col1 {\n",
       "            background-color:  #c8efc8;\n",
       "            color:  #000000;\n",
       "        }    #T_04ba79ca_7608_11eb_b79d_8b9ecf85cf5brow1_col2 {\n",
       "            background-color:  #d0f3d0;\n",
       "            color:  #000000;\n",
       "        }    #T_04ba79ca_7608_11eb_b79d_8b9ecf85cf5brow1_col3 {\n",
       "            background-color:  #e5ffe5;\n",
       "            color:  #000000;\n",
       "        }    #T_04ba79ca_7608_11eb_b79d_8b9ecf85cf5brow1_col4 {\n",
       "            background-color:  #dcfadc;\n",
       "            color:  #000000;\n",
       "        }    #T_04ba79ca_7608_11eb_b79d_8b9ecf85cf5brow1_col5 {\n",
       "            background-color:  #e5ffe5;\n",
       "            color:  #000000;\n",
       "        }    #T_04ba79ca_7608_11eb_b79d_8b9ecf85cf5brow2_col0 {\n",
       "            background-color:  #3da23d;\n",
       "            color:  #000000;\n",
       "        }    #T_04ba79ca_7608_11eb_b79d_8b9ecf85cf5brow2_col1 {\n",
       "            background-color:  #ccf1cc;\n",
       "            color:  #000000;\n",
       "        }    #T_04ba79ca_7608_11eb_b79d_8b9ecf85cf5brow2_col2 {\n",
       "            background-color:  #c8efc8;\n",
       "            color:  #000000;\n",
       "        }    #T_04ba79ca_7608_11eb_b79d_8b9ecf85cf5brow2_col3 {\n",
       "            background-color:  #ddfbdd;\n",
       "            color:  #000000;\n",
       "        }    #T_04ba79ca_7608_11eb_b79d_8b9ecf85cf5brow2_col4 {\n",
       "            background-color:  #c9efc9;\n",
       "            color:  #000000;\n",
       "        }    #T_04ba79ca_7608_11eb_b79d_8b9ecf85cf5brow2_col5 {\n",
       "            background-color:  #c6eec6;\n",
       "            color:  #000000;\n",
       "        }    #T_04ba79ca_7608_11eb_b79d_8b9ecf85cf5brow3_col0 {\n",
       "            background-color:  #2b982b;\n",
       "            color:  #000000;\n",
       "        }    #T_04ba79ca_7608_11eb_b79d_8b9ecf85cf5brow3_col1 {\n",
       "            background-color:  #a6dca6;\n",
       "            color:  #000000;\n",
       "        }    #T_04ba79ca_7608_11eb_b79d_8b9ecf85cf5brow3_col2 {\n",
       "            background-color:  #bae7ba;\n",
       "            color:  #000000;\n",
       "        }    #T_04ba79ca_7608_11eb_b79d_8b9ecf85cf5brow3_col3 {\n",
       "            background-color:  #b8e6b8;\n",
       "            color:  #000000;\n",
       "        }    #T_04ba79ca_7608_11eb_b79d_8b9ecf85cf5brow3_col4 {\n",
       "            background-color:  #c7eec7;\n",
       "            color:  #000000;\n",
       "        }    #T_04ba79ca_7608_11eb_b79d_8b9ecf85cf5brow3_col5 {\n",
       "            background-color:  #ade0ad;\n",
       "            color:  #000000;\n",
       "        }    #T_04ba79ca_7608_11eb_b79d_8b9ecf85cf5brow4_col0 {\n",
       "            background-color:  #008000;\n",
       "            color:  #f1f1f1;\n",
       "        }    #T_04ba79ca_7608_11eb_b79d_8b9ecf85cf5brow4_col1 {\n",
       "            background-color:  #008000;\n",
       "            color:  #f1f1f1;\n",
       "        }    #T_04ba79ca_7608_11eb_b79d_8b9ecf85cf5brow4_col2 {\n",
       "            background-color:  #008000;\n",
       "            color:  #f1f1f1;\n",
       "        }    #T_04ba79ca_7608_11eb_b79d_8b9ecf85cf5brow4_col3 {\n",
       "            background-color:  #008000;\n",
       "            color:  #f1f1f1;\n",
       "        }    #T_04ba79ca_7608_11eb_b79d_8b9ecf85cf5brow4_col4 {\n",
       "            background-color:  #008000;\n",
       "            color:  #f1f1f1;\n",
       "        }    #T_04ba79ca_7608_11eb_b79d_8b9ecf85cf5brow4_col5 {\n",
       "            background-color:  #008000;\n",
       "            color:  #f1f1f1;\n",
       "        }</style><table id=\"T_04ba79ca_7608_11eb_b79d_8b9ecf85cf5b\" ><thead>    <tr>        <th class=\"blank level0\" ></th>        <th class=\"col_heading level0 col0\" >(0.00,0.15)</th>        <th class=\"col_heading level0 col1\" >(0.15,0.28)</th>        <th class=\"col_heading level0 col2\" >(0.28,0.41)</th>        <th class=\"col_heading level0 col3\" >(0.41,0.55)</th>        <th class=\"col_heading level0 col4\" >(0.55,0.72)</th>        <th class=\"col_heading level0 col5\" >(0.72,2.00)</th>    </tr></thead><tbody>\n",
       "                <tr>\n",
       "                        <th id=\"T_04ba79ca_7608_11eb_b79d_8b9ecf85cf5blevel0_row0\" class=\"row_heading level0 row0\" >(0.00,1.59)</th>\n",
       "                        <td id=\"T_04ba79ca_7608_11eb_b79d_8b9ecf85cf5brow0_col0\" class=\"data row0 col0\" >0.152000</td>\n",
       "                        <td id=\"T_04ba79ca_7608_11eb_b79d_8b9ecf85cf5brow0_col1\" class=\"data row0 col1\" >0.099099</td>\n",
       "                        <td id=\"T_04ba79ca_7608_11eb_b79d_8b9ecf85cf5brow0_col2\" class=\"data row0 col2\" >0.052632</td>\n",
       "                        <td id=\"T_04ba79ca_7608_11eb_b79d_8b9ecf85cf5brow0_col3\" class=\"data row0 col3\" >0.068493</td>\n",
       "                        <td id=\"T_04ba79ca_7608_11eb_b79d_8b9ecf85cf5brow0_col4\" class=\"data row0 col4\" >0.022222</td>\n",
       "                        <td id=\"T_04ba79ca_7608_11eb_b79d_8b9ecf85cf5brow0_col5\" class=\"data row0 col5\" >0.081633</td>\n",
       "            </tr>\n",
       "            <tr>\n",
       "                        <th id=\"T_04ba79ca_7608_11eb_b79d_8b9ecf85cf5blevel0_row1\" class=\"row_heading level0 row1\" >(1.59,2.00)</th>\n",
       "                        <td id=\"T_04ba79ca_7608_11eb_b79d_8b9ecf85cf5brow1_col0\" class=\"data row1 col0\" >0.554745</td>\n",
       "                        <td id=\"T_04ba79ca_7608_11eb_b79d_8b9ecf85cf5brow1_col1\" class=\"data row1 col1\" >0.194030</td>\n",
       "                        <td id=\"T_04ba79ca_7608_11eb_b79d_8b9ecf85cf5brow1_col2\" class=\"data row1 col2\" >0.119205</td>\n",
       "                        <td id=\"T_04ba79ca_7608_11eb_b79d_8b9ecf85cf5brow1_col3\" class=\"data row1 col3\" >0.062147</td>\n",
       "                        <td id=\"T_04ba79ca_7608_11eb_b79d_8b9ecf85cf5brow1_col4\" class=\"data row1 col4\" >0.035714</td>\n",
       "                        <td id=\"T_04ba79ca_7608_11eb_b79d_8b9ecf85cf5brow1_col5\" class=\"data row1 col5\" >0.017621</td>\n",
       "            </tr>\n",
       "            <tr>\n",
       "                        <th id=\"T_04ba79ca_7608_11eb_b79d_8b9ecf85cf5blevel0_row2\" class=\"row_heading level0 row2\" >(2.00,2.35)</th>\n",
       "                        <td id=\"T_04ba79ca_7608_11eb_b79d_8b9ecf85cf5brow2_col0\" class=\"data row2 col0\" >0.673913</td>\n",
       "                        <td id=\"T_04ba79ca_7608_11eb_b79d_8b9ecf85cf5brow2_col1\" class=\"data row2 col1\" >0.178218</td>\n",
       "                        <td id=\"T_04ba79ca_7608_11eb_b79d_8b9ecf85cf5brow2_col2\" class=\"data row2 col2\" >0.143791</td>\n",
       "                        <td id=\"T_04ba79ca_7608_11eb_b79d_8b9ecf85cf5brow2_col3\" class=\"data row2 col3\" >0.079365</td>\n",
       "                        <td id=\"T_04ba79ca_7608_11eb_b79d_8b9ecf85cf5brow2_col4\" class=\"data row2 col4\" >0.059908</td>\n",
       "                        <td id=\"T_04ba79ca_7608_11eb_b79d_8b9ecf85cf5brow2_col5\" class=\"data row2 col5\" >0.044444</td>\n",
       "            </tr>\n",
       "            <tr>\n",
       "                        <th id=\"T_04ba79ca_7608_11eb_b79d_8b9ecf85cf5blevel0_row3\" class=\"row_heading level0 row3\" >(2.35,2.81)</th>\n",
       "                        <td id=\"T_04ba79ca_7608_11eb_b79d_8b9ecf85cf5brow3_col0\" class=\"data row3 col0\" >0.728155</td>\n",
       "                        <td id=\"T_04ba79ca_7608_11eb_b79d_8b9ecf85cf5brow3_col1\" class=\"data row3 col1\" >0.298969</td>\n",
       "                        <td id=\"T_04ba79ca_7608_11eb_b79d_8b9ecf85cf5brow3_col2\" class=\"data row3 col2\" >0.184049</td>\n",
       "                        <td id=\"T_04ba79ca_7608_11eb_b79d_8b9ecf85cf5brow3_col3\" class=\"data row3 col3\" >0.156250</td>\n",
       "                        <td id=\"T_04ba79ca_7608_11eb_b79d_8b9ecf85cf5brow3_col4\" class=\"data row3 col4\" >0.062500</td>\n",
       "                        <td id=\"T_04ba79ca_7608_11eb_b79d_8b9ecf85cf5brow3_col5\" class=\"data row3 col5\" >0.066038</td>\n",
       "            </tr>\n",
       "            <tr>\n",
       "                        <th id=\"T_04ba79ca_7608_11eb_b79d_8b9ecf85cf5blevel0_row4\" class=\"row_heading level0 row4\" >(2.81,20.00)</th>\n",
       "                        <td id=\"T_04ba79ca_7608_11eb_b79d_8b9ecf85cf5brow4_col0\" class=\"data row4 col0\" >0.863158</td>\n",
       "                        <td id=\"T_04ba79ca_7608_11eb_b79d_8b9ecf85cf5brow4_col1\" class=\"data row4 col1\" >0.816631</td>\n",
       "                        <td id=\"T_04ba79ca_7608_11eb_b79d_8b9ecf85cf5brow4_col2\" class=\"data row4 col2\" >0.744681</td>\n",
       "                        <td id=\"T_04ba79ca_7608_11eb_b79d_8b9ecf85cf5brow4_col3\" class=\"data row4 col3\" >0.533520</td>\n",
       "                        <td id=\"T_04ba79ca_7608_11eb_b79d_8b9ecf85cf5brow4_col4\" class=\"data row4 col4\" >0.318713</td>\n",
       "                        <td id=\"T_04ba79ca_7608_11eb_b79d_8b9ecf85cf5brow4_col5\" class=\"data row4 col5\" >0.211321</td>\n",
       "            </tr>\n",
       "    </tbody></table>"
      ],
      "text/plain": [
       "<pandas.io.formats.style.Styler at 0x7fba5ecee3d0>"
      ]
     },
     "execution_count": 15,
     "metadata": {},
     "output_type": "execute_result"
    }
   ],
   "source": [
    "cm = sns.light_palette(\"green\", as_cmap=True)\n",
    "\n",
    "s = recalls.style.background_gradient(cmap=cm)\n",
    "s"
   ]
  },
  {
   "cell_type": "code",
   "execution_count": 22,
   "metadata": {
    "ExecuteTime": {
     "end_time": "2021-02-23T19:00:17.299446Z",
     "start_time": "2021-02-23T19:00:17.227240Z"
    }
   },
   "outputs": [],
   "source": [
    "nums = []\n",
    "for j in range(len(q_m500) - 1):\n",
    "    line = {}\n",
    "    for i in range(len(q_z) - 1):\n",
    "        z_st = q_z[i]\n",
    "        z_en = q_z[i + 1]\n",
    "        m_st = q_m500[z_en][j]\n",
    "        m_en = q_m500[z_en][j + 1]\n",
    "        \n",
    "        matched1 = np.logical_and(z_st <= df['z'], df['z'] < z_en)\n",
    "        matched2 = np.logical_and(m_st <= df['M500'], df['M500'] < m_en)\n",
    "        cur_df = df[np.logical_and(matched1, matched2)]\n",
    "        num = len(cur_df)\n",
    "        line['({:.2f},{:.2f})'.format(z_st, z_en)] = num\n",
    "    nums.append(pd.DataFrame(line, index=[j]))\n",
    "nums = pd.concat(nums)"
   ]
  },
  {
   "cell_type": "code",
   "execution_count": 23,
   "metadata": {
    "ExecuteTime": {
     "end_time": "2021-02-23T19:00:17.700301Z",
     "start_time": "2021-02-23T19:00:17.677300Z"
    }
   },
   "outputs": [
    {
     "data": {
      "text/html": [
       "<div>\n",
       "<style scoped>\n",
       "    .dataframe tbody tr th:only-of-type {\n",
       "        vertical-align: middle;\n",
       "    }\n",
       "\n",
       "    .dataframe tbody tr th {\n",
       "        vertical-align: top;\n",
       "    }\n",
       "\n",
       "    .dataframe thead th {\n",
       "        text-align: right;\n",
       "    }\n",
       "</style>\n",
       "<table border=\"1\" class=\"dataframe\">\n",
       "  <thead>\n",
       "    <tr style=\"text-align: right;\">\n",
       "      <th></th>\n",
       "      <th>(0.00,0.15)</th>\n",
       "      <th>(0.15,0.28)</th>\n",
       "      <th>(0.28,0.41)</th>\n",
       "      <th>(0.41,0.55)</th>\n",
       "      <th>(0.55,0.72)</th>\n",
       "      <th>(0.72,2.00)</th>\n",
       "    </tr>\n",
       "  </thead>\n",
       "  <tbody>\n",
       "    <tr>\n",
       "      <th>0</th>\n",
       "      <td>205</td>\n",
       "      <td>205</td>\n",
       "      <td>205</td>\n",
       "      <td>204</td>\n",
       "      <td>205</td>\n",
       "      <td>205</td>\n",
       "    </tr>\n",
       "    <tr>\n",
       "      <th>1</th>\n",
       "      <td>204</td>\n",
       "      <td>204</td>\n",
       "      <td>204</td>\n",
       "      <td>204</td>\n",
       "      <td>205</td>\n",
       "      <td>204</td>\n",
       "    </tr>\n",
       "    <tr>\n",
       "      <th>2</th>\n",
       "      <td>204</td>\n",
       "      <td>205</td>\n",
       "      <td>205</td>\n",
       "      <td>204</td>\n",
       "      <td>204</td>\n",
       "      <td>204</td>\n",
       "    </tr>\n",
       "    <tr>\n",
       "      <th>3</th>\n",
       "      <td>204</td>\n",
       "      <td>204</td>\n",
       "      <td>204</td>\n",
       "      <td>204</td>\n",
       "      <td>205</td>\n",
       "      <td>205</td>\n",
       "    </tr>\n",
       "    <tr>\n",
       "      <th>4</th>\n",
       "      <td>205</td>\n",
       "      <td>205</td>\n",
       "      <td>205</td>\n",
       "      <td>205</td>\n",
       "      <td>205</td>\n",
       "      <td>205</td>\n",
       "    </tr>\n",
       "  </tbody>\n",
       "</table>\n",
       "</div>"
      ],
      "text/plain": [
       "   (0.00,0.15)  (0.15,0.28)  (0.28,0.41)  (0.41,0.55)  (0.55,0.72)  \\\n",
       "0          205          205          205          204          205   \n",
       "1          204          204          204          204          205   \n",
       "2          204          205          205          204          204   \n",
       "3          204          204          204          204          205   \n",
       "4          205          205          205          205          205   \n",
       "\n",
       "   (0.72,2.00)  \n",
       "0          205  \n",
       "1          204  \n",
       "2          204  \n",
       "3          205  \n",
       "4          205  "
      ]
     },
     "execution_count": 23,
     "metadata": {},
     "output_type": "execute_result"
    }
   ],
   "source": [
    "nums"
   ]
  },
  {
   "cell_type": "code",
   "execution_count": 18,
   "metadata": {
    "ExecuteTime": {
     "end_time": "2021-02-23T18:59:34.300720Z",
     "start_time": "2021-02-23T18:59:34.240279Z"
    }
   },
   "outputs": [],
   "source": [
    "nums = []\n",
    "for j in range(len(q_m) - 1):\n",
    "    line = {}\n",
    "    m_st = q_m[j]\n",
    "    m_en = q_m[j + 1]\n",
    "    for i in range(len(q_z) - 1):\n",
    "        z_st = q_z[i]\n",
    "        z_en = q_z[i + 1]\n",
    "        \n",
    "        matched1 = np.logical_and(z_st <= df['z'], df['z'] < z_en)\n",
    "        matched2 = np.logical_and(m_st <= df['M500'], df['M500'] < m_en)\n",
    "        cur_df = df[np.logical_and(matched1, matched2)]\n",
    "        num = len(cur_df)\n",
    "        line['({:.2f},{:.2f})'.format(z_st, z_en)] = num\n",
    "    nums.append(pd.DataFrame(line, index=['({:.2f},{:.2f})'.format(m_st, m_en)]))\n",
    "nums = pd.concat(nums)"
   ]
  },
  {
   "cell_type": "code",
   "execution_count": 19,
   "metadata": {
    "ExecuteTime": {
     "end_time": "2021-02-23T18:59:36.444991Z",
     "start_time": "2021-02-23T18:59:36.429022Z"
    }
   },
   "outputs": [
    {
     "data": {
      "text/html": [
       "<div>\n",
       "<style scoped>\n",
       "    .dataframe tbody tr th:only-of-type {\n",
       "        vertical-align: middle;\n",
       "    }\n",
       "\n",
       "    .dataframe tbody tr th {\n",
       "        vertical-align: top;\n",
       "    }\n",
       "\n",
       "    .dataframe thead th {\n",
       "        text-align: right;\n",
       "    }\n",
       "</style>\n",
       "<table border=\"1\" class=\"dataframe\">\n",
       "  <thead>\n",
       "    <tr style=\"text-align: right;\">\n",
       "      <th></th>\n",
       "      <th>(0.00,0.15)</th>\n",
       "      <th>(0.15,0.28)</th>\n",
       "      <th>(0.28,0.41)</th>\n",
       "      <th>(0.41,0.55)</th>\n",
       "      <th>(0.55,0.72)</th>\n",
       "      <th>(0.72,2.00)</th>\n",
       "    </tr>\n",
       "  </thead>\n",
       "  <tbody>\n",
       "    <tr>\n",
       "      <th>(0.00,1.59)</th>\n",
       "      <td>500</td>\n",
       "      <td>222</td>\n",
       "      <td>133</td>\n",
       "      <td>73</td>\n",
       "      <td>45</td>\n",
       "      <td>49</td>\n",
       "    </tr>\n",
       "    <tr>\n",
       "      <th>(1.59,2.00)</th>\n",
       "      <td>137</td>\n",
       "      <td>134</td>\n",
       "      <td>151</td>\n",
       "      <td>177</td>\n",
       "      <td>196</td>\n",
       "      <td>227</td>\n",
       "    </tr>\n",
       "    <tr>\n",
       "      <th>(2.00,2.35)</th>\n",
       "      <td>92</td>\n",
       "      <td>101</td>\n",
       "      <td>153</td>\n",
       "      <td>189</td>\n",
       "      <td>217</td>\n",
       "      <td>270</td>\n",
       "    </tr>\n",
       "    <tr>\n",
       "      <th>(2.35,2.81)</th>\n",
       "      <td>103</td>\n",
       "      <td>97</td>\n",
       "      <td>163</td>\n",
       "      <td>224</td>\n",
       "      <td>224</td>\n",
       "      <td>212</td>\n",
       "    </tr>\n",
       "    <tr>\n",
       "      <th>(2.81,20.00)</th>\n",
       "      <td>190</td>\n",
       "      <td>469</td>\n",
       "      <td>423</td>\n",
       "      <td>358</td>\n",
       "      <td>342</td>\n",
       "      <td>265</td>\n",
       "    </tr>\n",
       "  </tbody>\n",
       "</table>\n",
       "</div>"
      ],
      "text/plain": [
       "              (0.00,0.15)  (0.15,0.28)  (0.28,0.41)  (0.41,0.55)  (0.55,0.72)  \\\n",
       "(0.00,1.59)           500          222          133           73           45   \n",
       "(1.59,2.00)           137          134          151          177          196   \n",
       "(2.00,2.35)            92          101          153          189          217   \n",
       "(2.35,2.81)           103           97          163          224          224   \n",
       "(2.81,20.00)          190          469          423          358          342   \n",
       "\n",
       "              (0.72,2.00)  \n",
       "(0.00,1.59)            49  \n",
       "(1.59,2.00)           227  \n",
       "(2.00,2.35)           270  \n",
       "(2.35,2.81)           212  \n",
       "(2.81,20.00)          265  "
      ]
     },
     "execution_count": 19,
     "metadata": {},
     "output_type": "execute_result"
    }
   ],
   "source": [
    "nums"
   ]
  },
  {
   "cell_type": "code",
   "execution_count": null,
   "metadata": {},
   "outputs": [],
   "source": []
  }
 ],
 "metadata": {
  "kernelspec": {
   "display_name": "Python 3",
   "language": "python",
   "name": "python3"
  },
  "language_info": {
   "codemirror_mode": {
    "name": "ipython",
    "version": 3
   },
   "file_extension": ".py",
   "mimetype": "text/x-python",
   "name": "python",
   "nbconvert_exporter": "python",
   "pygments_lexer": "ipython3",
   "version": "3.8.3"
  }
 },
 "nbformat": 4,
 "nbformat_minor": 4
}
