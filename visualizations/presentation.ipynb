{
 "cells": [
  {
   "cell_type": "code",
   "execution_count": 1,
   "metadata": {
    "ExecuteTime": {
     "end_time": "2021-03-18T07:25:19.498425Z",
     "start_time": "2021-03-18T07:25:18.576398Z"
    }
   },
   "outputs": [],
   "source": [
    "import numpy as np\n",
    "import pandas as pd\n",
    "import healpy as hp\n",
    "from DS_Planck_Unet import train_pix_act, draw_pic, val_pix, test_pix\n",
    "from DS_healpix_fragmentation import radec2pix, one_pixel_fragmentation, matr2dict\n",
    "from matplotlib import pyplot as plt"
   ]
  },
  {
   "cell_type": "code",
   "execution_count": 12,
   "metadata": {
    "ExecuteTime": {
     "end_time": "2021-03-18T07:23:41.496781Z",
     "start_time": "2021-03-18T07:23:41.494099Z"
    }
   },
   "outputs": [],
   "source": [
    "a = np.ones(hp.nside2npix(2))\n",
    "a[train_pix_act] = 0\n",
    "a[val_pix] = 0"
   ]
  },
  {
   "cell_type": "code",
   "execution_count": 13,
   "metadata": {
    "ExecuteTime": {
     "end_time": "2021-03-18T07:23:42.004829Z",
     "start_time": "2021-03-18T07:23:41.823352Z"
    }
   },
   "outputs": [
    {
     "data": {
      "image/png": "[encoded data removed]",
      "text/plain": [
       "<Figure size 612x388.8 with 1 Axes>"
      ]
     },
     "metadata": {
      "needs_background": "light"
     },
     "output_type": "display_data"
    }
   ],
   "source": [
    "hp.mollview(a, nest=True, title='train_pix_act', cbar=False)"
   ]
  },
  {
   "cell_type": "code",
   "execution_count": 9,
   "metadata": {
    "ExecuteTime": {
     "end_time": "2021-03-16T21:01:35.787570Z",
     "start_time": "2021-03-16T21:01:35.742698Z"
    }
   },
   "outputs": [],
   "source": [
    "abell = pd.read_csv('/home/rt2122/Data/original_catalogs/csv/Abell.csv')"
   ]
  },
  {
   "cell_type": "code",
   "execution_count": 11,
   "metadata": {
    "ExecuteTime": {
     "end_time": "2021-03-16T21:01:55.334118Z",
     "start_time": "2021-03-16T21:01:55.327966Z"
    }
   },
   "outputs": [],
   "source": [
    "ra, dec = abell.iloc[2198]['RA'], abell.iloc[2198]['DEC']"
   ]
  },
  {
   "cell_type": "code",
   "execution_count": 15,
   "metadata": {
    "ExecuteTime": {
     "end_time": "2021-03-16T21:04:42.093980Z",
     "start_time": "2021-03-16T21:04:42.001680Z"
    }
   },
   "outputs": [],
   "source": [
    "pix2, pix11 = radec2pix(ra, dec, 2), radec2pix(ra, dec, 2**11)"
   ]
  },
  {
   "cell_type": "code",
   "execution_count": 16,
   "metadata": {
    "ExecuteTime": {
     "end_time": "2021-03-16T21:05:05.158556Z",
     "start_time": "2021-03-16T21:05:00.975053Z"
    }
   },
   "outputs": [
    {
     "data": {
      "text/plain": [
       "1689334"
      ]
     },
     "execution_count": 16,
     "metadata": {},
     "output_type": "execute_result"
    }
   ],
   "source": [
    "matr = one_pixel_fragmentation(2, pix2, 10)\n",
    "pix11"
   ]
  },
  {
   "cell_type": "code",
   "execution_count": 47,
   "metadata": {
    "ExecuteTime": {
     "end_time": "2021-03-16T21:19:46.815804Z",
     "start_time": "2021-03-16T21:19:46.342244Z"
    }
   },
   "outputs": [
    {
     "data": {
      "text/plain": [
       "(669, 430)"
      ]
     },
     "execution_count": 47,
     "metadata": {},
     "output_type": "execute_result"
    }
   ],
   "source": [
    "mdict = matr2dict(matr)\n",
    "x, y = mdict[pix11]\n",
    "x, y"
   ]
  },
  {
   "cell_type": "code",
   "execution_count": 32,
   "metadata": {
    "ExecuteTime": {
     "end_time": "2021-03-16T21:16:55.555573Z",
     "start_time": "2021-03-16T21:16:55.452092Z"
    }
   },
   "outputs": [
    {
     "name": "stdout",
     "output_type": "stream",
     "text": [
      "-1 -2\n",
      "4 0\n",
      "-3 3\n",
      "3 -2\n"
     ]
    }
   ],
   "source": [
    "coords = [(247.0343, 39.5769), (247.2617, 39.5674), (247.1504, 39.4382), (247.1566, 39.6125)]\n",
    "for r, d in coords:\n",
    "    x1, y1 = mdict[radec2pix(r, d, 2**11)]\n",
    "    print(x - x1, y - y1)"
   ]
  },
  {
   "cell_type": "code",
   "execution_count": 48,
   "metadata": {
    "ExecuteTime": {
     "end_time": "2021-03-16T21:19:51.196617Z",
     "start_time": "2021-03-16T21:19:51.190611Z"
    }
   },
   "outputs": [],
   "source": [
    "size=16\n",
    "sm_matr = matr[x-size:x+size+1, y-size:y+size+1]"
   ]
  },
  {
   "cell_type": "code",
   "execution_count": 49,
   "metadata": {
    "ExecuteTime": {
     "end_time": "2021-03-16T21:19:51.924634Z",
     "start_time": "2021-03-16T21:19:51.592476Z"
    }
   },
   "outputs": [],
   "source": [
    "pic = draw_pic(sm_matr)"
   ]
  },
  {
   "cell_type": "code",
   "execution_count": 50,
   "metadata": {
    "ExecuteTime": {
     "end_time": "2021-03-16T21:19:52.624964Z",
     "start_time": "2021-03-16T21:19:52.310894Z"
    }
   },
   "outputs": [
    {
     "name": "stderr",
     "output_type": "stream",
     "text": [
      "Clipping input data to the valid range for imshow with RGB data ([0..1] for floats or [0..255] for integers).\n",
      "Clipping input data to the valid range for imshow with RGB data ([0..1] for floats or [0..255] for integers).\n"
     ]
    },
    {
     "data": {
      "text/plain": [
       "<matplotlib.image.AxesImage at 0x7f18bc313ca0>"
      ]
     },
     "execution_count": 50,
     "metadata": {},
     "output_type": "execute_result"
    },
    {
     "data": {
      "image/png": "[encoded data removed]",
      "text/plain": [
       "<Figure size 864x576 with 2 Axes>"
      ]
     },
     "metadata": {
      "needs_background": "light"
     },
     "output_type": "display_data"
    }
   ],
   "source": [
    "_, ax = plt.subplots(1, 2, figsize=(12, 8))\n",
    "ax[0].imshow(pic[:,:,:3])\n",
    "ax[1].imshow(pic[:,:,3:])"
   ]
  },
  {
   "cell_type": "code",
   "execution_count": 25,
   "metadata": {
    "ExecuteTime": {
     "end_time": "2021-03-16T21:11:34.548014Z",
     "start_time": "2021-03-16T21:11:34.330904Z"
    }
   },
   "outputs": [
    {
     "name": "stderr",
     "output_type": "stream",
     "text": [
      "Clipping input data to the valid range for imshow with RGB data ([0..1] for floats or [0..255] for integers).\n"
     ]
    },
    {
     "data": {
      "text/plain": [
       "<matplotlib.image.AxesImage at 0x7f18bc4dfa60>"
      ]
     },
     "execution_count": 25,
     "metadata": {},
     "output_type": "execute_result"
    },
    {
     "data": {
      "image/png": "[encoded data removed]",
      "text/plain": [
       "<Figure size 432x288 with 1 Axes>"
      ]
     },
     "metadata": {
      "needs_background": "light"
     },
     "output_type": "display_data"
    }
   ],
   "source": [
    "plt.imshow(pic[:, :, 3:])"
   ]
  },
  {
   "cell_type": "code",
   "execution_count": 2,
   "metadata": {
    "ExecuteTime": {
     "end_time": "2021-03-18T07:20:57.001168Z",
     "start_time": "2021-03-18T07:20:56.958377Z"
    }
   },
   "outputs": [],
   "source": [
    "act = pd.read_csv('/home/rt2122/Data/original_catalogs/csv/ACT.csv')"
   ]
  },
  {
   "cell_type": "code",
   "execution_count": 6,
   "metadata": {
    "ExecuteTime": {
     "end_time": "2021-03-18T07:22:51.760880Z",
     "start_time": "2021-03-18T07:22:51.547972Z"
    }
   },
   "outputs": [
    {
     "data": {
      "image/png": "[encoded data removed]",
      "text/plain": [
       "<Figure size 612x388.8 with 1 Axes>"
      ]
     },
     "metadata": {
      "needs_background": "light"
     },
     "output_type": "display_data"
    }
   ],
   "source": [
    "nside = 2**6\n",
    "a = np.zeros(hp.nside2npix(nside))\n",
    "a[radec2pix(act['RA'], act['DEC'], nside)] = 1\n",
    "hp.mollview(a, nest=True, title='ACT clusters', cbar=False)"
   ]
  },
  {
   "cell_type": "code",
   "execution_count": 2,
   "metadata": {
    "ExecuteTime": {
     "end_time": "2021-03-18T07:25:51.154331Z",
     "start_time": "2021-03-18T07:25:50.822133Z"
    }
   },
   "outputs": [],
   "source": [
    "df = pd.read_csv('/home/rt2122/Data/detected_cats/full_pz_rot28_thr0.1_step8_no_fn.csv')\n",
    "df = df[df['status'] == 'tp']"
   ]
  },
  {
   "cell_type": "code",
   "execution_count": 5,
   "metadata": {
    "ExecuteTime": {
     "end_time": "2021-03-18T07:26:19.151410Z",
     "start_time": "2021-03-18T07:26:19.141985Z"
    }
   },
   "outputs": [
    {
     "data": {
      "text/plain": [
       "0.6924788607031598"
      ]
     },
     "execution_count": 5,
     "metadata": {},
     "output_type": "execute_result"
    }
   ],
   "source": [
    "np.count_nonzero(df['M500'] > 2) / len(df)"
   ]
  },
  {
   "cell_type": "code",
   "execution_count": null,
   "metadata": {},
   "outputs": [],
   "source": []
  }
 ],
 "metadata": {
  "kernelspec": {
   "display_name": "Python 3",
   "language": "python",
   "name": "python3"
  },
  "language_info": {
   "codemirror_mode": {
    "name": "ipython",
    "version": 3
   },
   "file_extension": ".py",
   "mimetype": "text/x-python",
   "name": "python",
   "nbconvert_exporter": "python",
   "pygments_lexer": "ipython3",
   "version": "3.8.3"
  }
 },
 "nbformat": 4,
 "nbformat_minor": 4
}
