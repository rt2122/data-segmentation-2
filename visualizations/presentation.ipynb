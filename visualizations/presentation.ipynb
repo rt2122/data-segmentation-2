{
 "cells": [
  {
   "cell_type": "code",
   "execution_count": 1,
   "metadata": {
    "ExecuteTime": {
     "end_time": "2021-04-22T08:38:51.840816Z",
     "start_time": "2021-04-22T08:38:47.040180Z"
    }
   },
   "outputs": [],
   "source": [
    "import numpy as np\n",
    "import pandas as pd\n",
    "import healpy as hp\n",
    "from DS_Planck_Unet import train_pix_act, draw_pic, val_pix, test_pix\n",
    "from DS_healpix_fragmentation import radec2pix, one_pixel_fragmentation, matr2dict\n",
    "from matplotlib import pyplot as plt\n",
    "from astropy.coordinates import SkyCoord\n",
    "from astropy import units as u"
   ]
  },
  {
   "cell_type": "code",
   "execution_count": 12,
   "metadata": {
    "ExecuteTime": {
     "end_time": "2021-03-18T07:23:41.496781Z",
     "start_time": "2021-03-18T07:23:41.494099Z"
    }
   },
   "outputs": [],
   "source": [
    "a = np.ones(hp.nside2npix(2))\n",
    "a[train_pix_act] = 0\n",
    "a[val_pix] = 0"
   ]
  },
  {
   "cell_type": "code",
   "execution_count": 13,
   "metadata": {
    "ExecuteTime": {
     "end_time": "2021-03-18T07:23:42.004829Z",
     "start_time": "2021-03-18T07:23:41.823352Z"
    }
   },
   "outputs": [
    {
     "data": {
      "image/png": "[encoded data removed]",
      "text/plain": [
       "<Figure size 612x388.8 with 1 Axes>"
      ]
     },
     "metadata": {
      "needs_background": "light"
     },
     "output_type": "display_data"
    }
   ],
   "source": [
    "hp.mollview(a, nest=True, title='train_pix_act', cbar=False)"
   ]
  },
  {
   "cell_type": "code",
   "execution_count": 9,
   "metadata": {
    "ExecuteTime": {
     "end_time": "2021-03-16T21:01:35.787570Z",
     "start_time": "2021-03-16T21:01:35.742698Z"
    }
   },
   "outputs": [],
   "source": [
    "abell = pd.read_csv('/home/rt2122/Data/original_catalogs/csv/Abell.csv')"
   ]
  },
  {
   "cell_type": "code",
   "execution_count": 11,
   "metadata": {
    "ExecuteTime": {
     "end_time": "2021-03-16T21:01:55.334118Z",
     "start_time": "2021-03-16T21:01:55.327966Z"
    }
   },
   "outputs": [],
   "source": [
    "ra, dec = abell.iloc[2198]['RA'], abell.iloc[2198]['DEC']"
   ]
  },
  {
   "cell_type": "code",
   "execution_count": 15,
   "metadata": {
    "ExecuteTime": {
     "end_time": "2021-03-16T21:04:42.093980Z",
     "start_time": "2021-03-16T21:04:42.001680Z"
    }
   },
   "outputs": [],
   "source": [
    "pix2, pix11 = radec2pix(ra, dec, 2), radec2pix(ra, dec, 2**11)"
   ]
  },
  {
   "cell_type": "code",
   "execution_count": 16,
   "metadata": {
    "ExecuteTime": {
     "end_time": "2021-03-16T21:05:05.158556Z",
     "start_time": "2021-03-16T21:05:00.975053Z"
    }
   },
   "outputs": [
    {
     "data": {
      "text/plain": [
       "1689334"
      ]
     },
     "execution_count": 16,
     "metadata": {},
     "output_type": "execute_result"
    }
   ],
   "source": [
    "matr = one_pixel_fragmentation(2, pix2, 10)\n",
    "pix11"
   ]
  },
  {
   "cell_type": "code",
   "execution_count": 47,
   "metadata": {
    "ExecuteTime": {
     "end_time": "2021-03-16T21:19:46.815804Z",
     "start_time": "2021-03-16T21:19:46.342244Z"
    }
   },
   "outputs": [
    {
     "data": {
      "text/plain": [
       "(669, 430)"
      ]
     },
     "execution_count": 47,
     "metadata": {},
     "output_type": "execute_result"
    }
   ],
   "source": [
    "mdict = matr2dict(matr)\n",
    "x, y = mdict[pix11]\n",
    "x, y"
   ]
  },
  {
   "cell_type": "code",
   "execution_count": 32,
   "metadata": {
    "ExecuteTime": {
     "end_time": "2021-03-16T21:16:55.555573Z",
     "start_time": "2021-03-16T21:16:55.452092Z"
    }
   },
   "outputs": [
    {
     "name": "stdout",
     "output_type": "stream",
     "text": [
      "-1 -2\n",
      "4 0\n",
      "-3 3\n",
      "3 -2\n"
     ]
    }
   ],
   "source": [
    "coords = [(247.0343, 39.5769), (247.2617, 39.5674), (247.1504, 39.4382), (247.1566, 39.6125)]\n",
    "for r, d in coords:\n",
    "    x1, y1 = mdict[radec2pix(r, d, 2**11)]\n",
    "    print(x - x1, y - y1)"
   ]
  },
  {
   "cell_type": "code",
   "execution_count": 48,
   "metadata": {
    "ExecuteTime": {
     "end_time": "2021-03-16T21:19:51.196617Z",
     "start_time": "2021-03-16T21:19:51.190611Z"
    }
   },
   "outputs": [],
   "source": [
    "size=16\n",
    "sm_matr = matr[x-size:x+size+1, y-size:y+size+1]"
   ]
  },
  {
   "cell_type": "code",
   "execution_count": 49,
   "metadata": {
    "ExecuteTime": {
     "end_time": "2021-03-16T21:19:51.924634Z",
     "start_time": "2021-03-16T21:19:51.592476Z"
    }
   },
   "outputs": [],
   "source": [
    "pic = draw_pic(sm_matr)"
   ]
  },
  {
   "cell_type": "code",
   "execution_count": 50,
   "metadata": {
    "ExecuteTime": {
     "end_time": "2021-03-16T21:19:52.624964Z",
     "start_time": "2021-03-16T21:19:52.310894Z"
    }
   },
   "outputs": [
    {
     "name": "stderr",
     "output_type": "stream",
     "text": [
      "Clipping input data to the valid range for imshow with RGB data ([0..1] for floats or [0..255] for integers).\n",
      "Clipping input data to the valid range for imshow with RGB data ([0..1] for floats or [0..255] for integers).\n"
     ]
    },
    {
     "data": {
      "text/plain": [
       "<matplotlib.image.AxesImage at 0x7f18bc313ca0>"
      ]
     },
     "execution_count": 50,
     "metadata": {},
     "output_type": "execute_result"
    },
    {
     "data": {
      "image/png": "[encoded data removed]",
      "text/plain": [
       "<Figure size 864x576 with 2 Axes>"
      ]
     },
     "metadata": {
      "needs_background": "light"
     },
     "output_type": "display_data"
    }
   ],
   "source": [
    "_, ax = plt.subplots(1, 2, figsize=(12, 8))\n",
    "ax[0].imshow(pic[:,:,:3])\n",
    "ax[1].imshow(pic[:,:,3:])"
   ]
  },
  {
   "cell_type": "code",
   "execution_count": 25,
   "metadata": {
    "ExecuteTime": {
     "end_time": "2021-03-16T21:11:34.548014Z",
     "start_time": "2021-03-16T21:11:34.330904Z"
    }
   },
   "outputs": [
    {
     "name": "stderr",
     "output_type": "stream",
     "text": [
      "Clipping input data to the valid range for imshow with RGB data ([0..1] for floats or [0..255] for integers).\n"
     ]
    },
    {
     "data": {
      "text/plain": [
       "<matplotlib.image.AxesImage at 0x7f18bc4dfa60>"
      ]
     },
     "execution_count": 25,
     "metadata": {},
     "output_type": "execute_result"
    },
    {
     "data": {
      "image/png": "[encoded data removed]",
      "text/plain": [
       "<Figure size 432x288 with 1 Axes>"
      ]
     },
     "metadata": {
      "needs_background": "light"
     },
     "output_type": "display_data"
    }
   ],
   "source": [
    "plt.imshow(pic[:, :, 3:])"
   ]
  },
  {
   "cell_type": "code",
   "execution_count": 2,
   "metadata": {
    "ExecuteTime": {
     "end_time": "2021-03-18T07:20:57.001168Z",
     "start_time": "2021-03-18T07:20:56.958377Z"
    }
   },
   "outputs": [],
   "source": [
    "act = pd.read_csv('/home/rt2122/Data/original_catalogs/csv/ACT.csv')"
   ]
  },
  {
   "cell_type": "code",
   "execution_count": 6,
   "metadata": {
    "ExecuteTime": {
     "end_time": "2021-03-18T07:22:51.760880Z",
     "start_time": "2021-03-18T07:22:51.547972Z"
    }
   },
   "outputs": [
    {
     "data": {
      "image/png": "[encoded data removed]",
      "text/plain": [
       "<Figure size 612x388.8 with 1 Axes>"
      ]
     },
     "metadata": {
      "needs_background": "light"
     },
     "output_type": "display_data"
    }
   ],
   "source": [
    "nside = 2**6\n",
    "a = np.zeros(hp.nside2npix(nside))\n",
    "a[radec2pix(act['RA'], act['DEC'], nside)] = 1\n",
    "hp.mollview(a, nest=True, title='ACT clusters', cbar=False)"
   ]
  },
  {
   "cell_type": "code",
   "execution_count": 2,
   "metadata": {
    "ExecuteTime": {
     "end_time": "2021-03-18T07:25:51.154331Z",
     "start_time": "2021-03-18T07:25:50.822133Z"
    }
   },
   "outputs": [],
   "source": [
    "df = pd.read_csv('/home/rt2122/Data/detected_cats/full_pz_rot28_thr0.1_step8_no_fn.csv')\n",
    "df = df[df['status'] == 'tp']"
   ]
  },
  {
   "cell_type": "code",
   "execution_count": 5,
   "metadata": {
    "ExecuteTime": {
     "end_time": "2021-03-18T07:26:19.151410Z",
     "start_time": "2021-03-18T07:26:19.141985Z"
    }
   },
   "outputs": [
    {
     "data": {
      "text/plain": [
       "0.6924788607031598"
      ]
     },
     "execution_count": 5,
     "metadata": {},
     "output_type": "execute_result"
    }
   ],
   "source": [
    "np.count_nonzero(df['M500'] > 2) / len(df)"
   ]
  },
  {
   "cell_type": "code",
   "execution_count": 3,
   "metadata": {
    "ExecuteTime": {
     "end_time": "2021-03-18T12:34:44.608758Z",
     "start_time": "2021-03-18T12:34:44.420386Z"
    }
   },
   "outputs": [
    {
     "data": {
      "image/png": "[encoded data removed]",
      "text/plain": [
       "<Figure size 612x388.8 with 1 Axes>"
      ]
     },
     "metadata": {
      "needs_background": "light"
     },
     "output_type": "display_data"
    }
   ],
   "source": [
    "psz2 = pd.read_csv('/home/rt2122/Data/original_catalogs/csv/PSZ2.csv')\n",
    "\n",
    "nside = 2**6\n",
    "a = np.zeros(hp.nside2npix(nside))\n",
    "a[radec2pix(psz2['RA'], psz2['DEC'], nside)] = 1\n",
    "hp.mollview(a, nest=True, title='PSZ2 clusters', cbar=False)"
   ]
  },
  {
   "cell_type": "code",
   "execution_count": 4,
   "metadata": {
    "ExecuteTime": {
     "end_time": "2021-03-18T12:58:02.498180Z",
     "start_time": "2021-03-18T12:58:02.163102Z"
    }
   },
   "outputs": [],
   "source": [
    "df = pd.read_csv('/home/rt2122/Data/detected_cats/full_pz_all_found34_thr0.1_step8_no_fn.csv')\n",
    "brcat = pd.read_csv('/home/rt2122/Data/SRGz/brcat.csv')"
   ]
  },
  {
   "cell_type": "code",
   "execution_count": 6,
   "metadata": {
    "ExecuteTime": {
     "end_time": "2021-03-18T13:00:28.579267Z",
     "start_time": "2021-03-18T13:00:28.550999Z"
    }
   },
   "outputs": [
    {
     "data": {
      "text/plain": [
       "739"
      ]
     },
     "execution_count": 6,
     "metadata": {},
     "output_type": "execute_result"
    }
   ],
   "source": [
    "df = df[df['status'] != 'fp']\n",
    "df_sc = SkyCoord(ra=np.array(df['RA'])*u.degree, dec=np.array(df['DEC'])*u.degree, frame='icrs')\n",
    "br_sc = SkyCoord(ra=np.array(brcat['RA'])*u.degree, dec=np.array(brcat['DEC'])*u.degree, frame='icrs')\n",
    "_, d2d, _ = df_sc.match_to_catalog_sky(br_sc)\n",
    "np.count_nonzero(d2d.degree > 5 / 60)"
   ]
  },
  {
   "cell_type": "code",
   "execution_count": 7,
   "metadata": {
    "ExecuteTime": {
     "end_time": "2021-03-18T13:00:48.488973Z",
     "start_time": "2021-03-18T13:00:48.478042Z"
    }
   },
   "outputs": [
    {
     "data": {
      "text/plain": [
       "739"
      ]
     },
     "execution_count": 7,
     "metadata": {},
     "output_type": "execute_result"
    }
   ],
   "source": [
    "df = df[d2d.degree > 5 / 60]\n",
    "len(df)"
   ]
  },
  {
   "cell_type": "code",
   "execution_count": 9,
   "metadata": {
    "ExecuteTime": {
     "end_time": "2021-03-18T13:01:42.060815Z",
     "start_time": "2021-03-18T13:01:42.054456Z"
    }
   },
   "outputs": [],
   "source": [
    "df = df[df['z'] != -1]"
   ]
  },
  {
   "cell_type": "code",
   "execution_count": 13,
   "metadata": {
    "ExecuteTime": {
     "end_time": "2021-03-18T13:02:35.885926Z",
     "start_time": "2021-03-18T13:02:35.735711Z"
    }
   },
   "outputs": [
    {
     "data": {
      "text/plain": [
       "Text(0, 0.5, 'M500')"
      ]
     },
     "execution_count": 13,
     "metadata": {},
     "output_type": "execute_result"
    },
    {
     "data": {
      "image/png": "[encoded data removed]",
      "text/plain": [
       "<Figure size 864x864 with 1 Axes>"
      ]
     },
     "metadata": {
      "needs_background": "light"
     },
     "output_type": "display_data"
    }
   ],
   "source": [
    "_, ax = plt.subplots(1, 1, figsize=(12, 12))\n",
    "s = ax.scatter(df['z'], df['M500'], c='r')\n",
    "ax.set_xlabel('z')\n",
    "ax.set_ylabel('M500')"
   ]
  },
  {
   "cell_type": "code",
   "execution_count": 2,
   "metadata": {
    "ExecuteTime": {
     "end_time": "2021-04-22T08:39:17.842058Z",
     "start_time": "2021-04-22T08:39:17.314135Z"
    }
   },
   "outputs": [],
   "source": [
    "df = pd.read_csv('/home/rt2122/Data/detected_cats/full_pz_all_found34_thr0.1_step8.csv')"
   ]
  },
  {
   "cell_type": "code",
   "execution_count": 3,
   "metadata": {
    "ExecuteTime": {
     "end_time": "2021-04-22T08:39:34.737813Z",
     "start_time": "2021-04-22T08:39:34.731160Z"
    }
   },
   "outputs": [
    {
     "data": {
      "text/plain": [
       "['RA',\n",
       " 'DEC',\n",
       " 'area',\n",
       " 'min_rad',\n",
       " 'max_rad',\n",
       " 'mean_rad',\n",
       " 'min_pred',\n",
       " 'max_pred',\n",
       " 'tRA',\n",
       " 'tDEC',\n",
       " 'status',\n",
       " 'catalog',\n",
       " 'M500',\n",
       " 'z',\n",
       " 'pix2']"
      ]
     },
     "execution_count": 3,
     "metadata": {},
     "output_type": "execute_result"
    }
   ],
   "source": [
    "list(df)"
   ]
  },
  {
   "cell_type": "code",
   "execution_count": 4,
   "metadata": {
    "ExecuteTime": {
     "end_time": "2021-04-22T08:39:51.721963Z",
     "start_time": "2021-04-22T08:39:51.464905Z"
    }
   },
   "outputs": [
    {
     "data": {
      "text/html": [
       "<div>\n",
       "<style scoped>\n",
       "    .dataframe tbody tr th:only-of-type {\n",
       "        vertical-align: middle;\n",
       "    }\n",
       "\n",
       "    .dataframe tbody tr th {\n",
       "        vertical-align: top;\n",
       "    }\n",
       "\n",
       "    .dataframe thead th {\n",
       "        text-align: right;\n",
       "    }\n",
       "</style>\n",
       "<table border=\"1\" class=\"dataframe\">\n",
       "  <thead>\n",
       "    <tr style=\"text-align: right;\">\n",
       "      <th></th>\n",
       "      <th>RA</th>\n",
       "      <th>DEC</th>\n",
       "      <th>area</th>\n",
       "      <th>min_rad</th>\n",
       "      <th>max_rad</th>\n",
       "      <th>mean_rad</th>\n",
       "      <th>min_pred</th>\n",
       "      <th>max_pred</th>\n",
       "    </tr>\n",
       "  </thead>\n",
       "  <tbody>\n",
       "    <tr>\n",
       "      <th>0</th>\n",
       "      <td>287.002617</td>\n",
       "      <td>16.563571</td>\n",
       "      <td>2.0</td>\n",
       "      <td>0.485261</td>\n",
       "      <td>1.124703</td>\n",
       "      <td>0.809056</td>\n",
       "      <td>0.105400</td>\n",
       "      <td>0.111802</td>\n",
       "    </tr>\n",
       "    <tr>\n",
       "      <th>1</th>\n",
       "      <td>286.821791</td>\n",
       "      <td>17.169244</td>\n",
       "      <td>1.0</td>\n",
       "      <td>0.000000</td>\n",
       "      <td>1.414214</td>\n",
       "      <td>0.853553</td>\n",
       "      <td>0.108591</td>\n",
       "      <td>0.108591</td>\n",
       "    </tr>\n",
       "    <tr>\n",
       "      <th>2</th>\n",
       "      <td>287.105345</td>\n",
       "      <td>15.896636</td>\n",
       "      <td>1.0</td>\n",
       "      <td>0.000000</td>\n",
       "      <td>1.414214</td>\n",
       "      <td>0.853553</td>\n",
       "      <td>0.102907</td>\n",
       "      <td>0.102907</td>\n",
       "    </tr>\n",
       "    <tr>\n",
       "      <th>3</th>\n",
       "      <td>278.743982</td>\n",
       "      <td>38.290619</td>\n",
       "      <td>29.0</td>\n",
       "      <td>2.116807</td>\n",
       "      <td>4.716900</td>\n",
       "      <td>3.127882</td>\n",
       "      <td>0.101256</td>\n",
       "      <td>0.756920</td>\n",
       "    </tr>\n",
       "    <tr>\n",
       "      <th>4</th>\n",
       "      <td>285.057804</td>\n",
       "      <td>21.935581</td>\n",
       "      <td>31.0</td>\n",
       "      <td>1.811791</td>\n",
       "      <td>4.225424</td>\n",
       "      <td>3.193153</td>\n",
       "      <td>0.108951</td>\n",
       "      <td>0.700417</td>\n",
       "    </tr>\n",
       "    <tr>\n",
       "      <th>...</th>\n",
       "      <td>...</td>\n",
       "      <td>...</td>\n",
       "      <td>...</td>\n",
       "      <td>...</td>\n",
       "      <td>...</td>\n",
       "      <td>...</td>\n",
       "      <td>...</td>\n",
       "      <td>...</td>\n",
       "    </tr>\n",
       "    <tr>\n",
       "      <th>27708</th>\n",
       "      <td>359.693397</td>\n",
       "      <td>-41.485077</td>\n",
       "      <td>NaN</td>\n",
       "      <td>NaN</td>\n",
       "      <td>NaN</td>\n",
       "      <td>NaN</td>\n",
       "      <td>NaN</td>\n",
       "      <td>NaN</td>\n",
       "    </tr>\n",
       "    <tr>\n",
       "      <th>27709</th>\n",
       "      <td>359.701568</td>\n",
       "      <td>18.601526</td>\n",
       "      <td>NaN</td>\n",
       "      <td>NaN</td>\n",
       "      <td>NaN</td>\n",
       "      <td>NaN</td>\n",
       "      <td>NaN</td>\n",
       "      <td>NaN</td>\n",
       "    </tr>\n",
       "    <tr>\n",
       "      <th>27710</th>\n",
       "      <td>359.886623</td>\n",
       "      <td>2.138933</td>\n",
       "      <td>NaN</td>\n",
       "      <td>NaN</td>\n",
       "      <td>NaN</td>\n",
       "      <td>NaN</td>\n",
       "      <td>NaN</td>\n",
       "      <td>NaN</td>\n",
       "    </tr>\n",
       "    <tr>\n",
       "      <th>27711</th>\n",
       "      <td>359.889739</td>\n",
       "      <td>-46.143625</td>\n",
       "      <td>NaN</td>\n",
       "      <td>NaN</td>\n",
       "      <td>NaN</td>\n",
       "      <td>NaN</td>\n",
       "      <td>NaN</td>\n",
       "      <td>NaN</td>\n",
       "    </tr>\n",
       "    <tr>\n",
       "      <th>27712</th>\n",
       "      <td>359.929871</td>\n",
       "      <td>-50.169846</td>\n",
       "      <td>NaN</td>\n",
       "      <td>NaN</td>\n",
       "      <td>NaN</td>\n",
       "      <td>NaN</td>\n",
       "      <td>NaN</td>\n",
       "      <td>NaN</td>\n",
       "    </tr>\n",
       "  </tbody>\n",
       "</table>\n",
       "<p>27713 rows × 8 columns</p>\n",
       "</div>"
      ],
      "text/plain": [
       "               RA        DEC  area   min_rad   max_rad  mean_rad  min_pred  \\\n",
       "0      287.002617  16.563571   2.0  0.485261  1.124703  0.809056  0.105400   \n",
       "1      286.821791  17.169244   1.0  0.000000  1.414214  0.853553  0.108591   \n",
       "2      287.105345  15.896636   1.0  0.000000  1.414214  0.853553  0.102907   \n",
       "3      278.743982  38.290619  29.0  2.116807  4.716900  3.127882  0.101256   \n",
       "4      285.057804  21.935581  31.0  1.811791  4.225424  3.193153  0.108951   \n",
       "...           ...        ...   ...       ...       ...       ...       ...   \n",
       "27708  359.693397 -41.485077   NaN       NaN       NaN       NaN       NaN   \n",
       "27709  359.701568  18.601526   NaN       NaN       NaN       NaN       NaN   \n",
       "27710  359.886623   2.138933   NaN       NaN       NaN       NaN       NaN   \n",
       "27711  359.889739 -46.143625   NaN       NaN       NaN       NaN       NaN   \n",
       "27712  359.929871 -50.169846   NaN       NaN       NaN       NaN       NaN   \n",
       "\n",
       "       max_pred  \n",
       "0      0.111802  \n",
       "1      0.108591  \n",
       "2      0.102907  \n",
       "3      0.756920  \n",
       "4      0.700417  \n",
       "...         ...  \n",
       "27708       NaN  \n",
       "27709       NaN  \n",
       "27710       NaN  \n",
       "27711       NaN  \n",
       "27712       NaN  \n",
       "\n",
       "[27713 rows x 8 columns]"
      ]
     },
     "execution_count": 4,
     "metadata": {},
     "output_type": "execute_result"
    }
   ],
   "source": [
    "df[['RA',\n",
    " 'DEC',\n",
    " 'area',\n",
    " 'min_rad',\n",
    " 'max_rad',\n",
    " 'mean_rad',\n",
    " 'min_pred',\n",
    " 'max_pred']]"
   ]
  },
  {
   "cell_type": "code",
   "execution_count": null,
   "metadata": {},
   "outputs": [],
   "source": []
  }
 ],
 "metadata": {
  "kernelspec": {
   "display_name": "Python 3",
   "language": "python",
   "name": "python3"
  },
  "language_info": {
   "codemirror_mode": {
    "name": "ipython",
    "version": 3
   },
   "file_extension": ".py",
   "mimetype": "text/x-python",
   "name": "python",
   "nbconvert_exporter": "python",
   "pygments_lexer": "ipython3",
   "version": "3.8.3"
  }
 },
 "nbformat": 4,
 "nbformat_minor": 4
}
