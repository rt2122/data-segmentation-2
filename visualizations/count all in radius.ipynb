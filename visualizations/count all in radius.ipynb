{
 "cells": [
  {
   "cell_type": "code",
   "execution_count": 10,
   "metadata": {
    "ExecuteTime": {
     "end_time": "2021-03-31T11:04:47.338080Z",
     "start_time": "2021-03-31T11:04:42.923246Z"
    }
   },
   "outputs": [],
   "source": [
    "import numpy as np\n",
    "import pandas as pd\n",
    "import matplotlib.pyplot as plt\n",
    "import os\n",
    "from astropy.coordinates import SkyCoord\n",
    "from astropy import units as u"
   ]
  },
  {
   "cell_type": "code",
   "execution_count": 6,
   "metadata": {
    "ExecuteTime": {
     "end_time": "2021-03-31T11:04:19.921143Z",
     "start_time": "2021-03-31T11:04:19.891273Z"
    }
   },
   "outputs": [],
   "source": [
    "def make_histogram(ax, tp, fp, n_bins, label1='Yes matches', label2='No matches'):\n",
    "    ax.hist(tp, n_bins, color='r', log=True, histtype='step', label=label1)\n",
    "    ax.hist(fp, n_bins, color='b', log=True, histtype='step', label=label2)\n",
    "    ax.legend()"
   ]
  },
  {
   "cell_type": "code",
   "execution_count": 7,
   "metadata": {
    "ExecuteTime": {
     "end_time": "2021-03-31T11:04:20.142511Z",
     "start_time": "2021-03-31T11:04:20.128687Z"
    }
   },
   "outputs": [],
   "source": [
    "def match_2circles(ax, det_cat, true_cat, n_bins=20, small_circle=400/3600, big_circle=1500/3600, max_pred_lim=None, \n",
    "                  b_lim=None, big_pix=None):\n",
    "    if not (max_pred_lim is None):\n",
    "        det_cat = det_cat[det_cat['max_pred'] >= max_pred_lim]\n",
    "        det_cat.index = np.arange(len(det_cat))\n",
    "        \n",
    "    if not (big_pix is None):\n",
    "        pix2 = radec2pix(det_cat['RA'], det_cat['DEC'], 2)\n",
    "        det_cat = det_cat[np.in1d(pix2, big_pix)]\n",
    "        det_cat.index = np.arange(len(det_cat))\n",
    "        pix2 = radec2pix(true_cat['RA'], true_cat['DEC'], 2)\n",
    "        true_cat = true_cat[np.in1d(pix2, big_pix)]\n",
    "        true_cat.index = np.arange(len(true_cat))\n",
    "        \n",
    "    det_sc = SkyCoord(ra=np.array(det_cat['RA'])*u.degree, dec=np.array(det_cat['DEC'])*u.degree, frame='icrs')\n",
    "    tr_sc = SkyCoord(ra=np.array(true_cat['RA'])*u.degree, dec=np.array(true_cat['DEC'])*u.degree, frame='icrs')\n",
    "    \n",
    "    if not (b_lim is None):\n",
    "        b = det_sc.galactic.b.degree\n",
    "        det_cat = det_cat[np.abs(b) >= b_lim]\n",
    "        det_cat.index = np.arange(len(det_cat))\n",
    "        det_sc = SkyCoord(ra=np.array(det_cat['RA'])*u.degree, dec=np.array(det_cat['DEC'])*u.degree, frame='icrs')\n",
    "        b = tr_sc.galactic.b.degree\n",
    "        true_cat = true_cat[np.abs(b) >= b_lim]\n",
    "        true_cat.index = np.arange(len(true_cat))\n",
    "        tr_sc = SkyCoord(ra=np.array(true_cat['RA'])*u.degree, dec=np.array(true_cat['DEC'])*u.degree, frame='icrs')\n",
    "            \n",
    "   \n",
    "    idx_s, d2d, _ = det_sc.match_to_catalog_sky(tr_sc)\n",
    "    matched_small = d2d.degree <= small_circle\n",
    "    while np.count_nonzero(d2d.degree < small_circle):\n",
    "        matched_small = np.concatenate([matched_small, d2d.degree <= small_circle])\n",
    "        not_matched_small = np.logical_not(matched_small) \n",
    "        tr_sc = SkyCoord(ra=np.array(true_cat['RA'][list(set(idx[not_matched_small]))])*u.degree, \n",
    "                         dec=np.array(true_cat['DEC'][list(set(idx[not_matched_small]))])*u.degree, frame='icrs')\n",
    "        idx, d2d, _ = det_sc.match_to_catalog_sky(tr_sc)\n",
    "        idx_s = np.concatenate([idx_s, idx])\n",
    "    \n",
    "    tr_sc = SkyCoord(ra=np.array(true_cat['RA'][list(set(idx[not_matched_small]))])*u.degree, \n",
    "                     dec=np.array(true_cat['DEC'][list(set(idx[not_matched_small]))])*u.degree, frame='icrs')\n",
    "    idx, d2d, _ = det_sc.match_to_catalog_sky(tr_sc)\n",
    "    matched_big = np.logical_and(d2d.degree > small_circle, d2d.degree <= big_circle)\n",
    "    \n",
    "    \n",
    "    make_histogram(ax, det_cat['max_pred'][matched_small], det_cat['max_pred'][matched_big], n_bins)"
   ]
  },
  {
   "cell_type": "code",
   "execution_count": 8,
   "metadata": {
    "ExecuteTime": {
     "end_time": "2021-03-31T11:04:20.446016Z",
     "start_time": "2021-03-31T11:04:20.431608Z"
    }
   },
   "outputs": [],
   "source": [
    "dirname = '/home/rt2122/Data/original_catalogs/csv/'\n",
    "true_cats = next(os.walk(dirname))[-1]\n",
    "true_cats = [os.path.join(dirname, s) for s in true_cats]\n",
    "det_cat = '/home/rt2122/Data/detected_cats/full_pz_all_found34_thr0.1_step8_no_fn.csv'"
   ]
  },
  {
   "cell_type": "code",
   "execution_count": 11,
   "metadata": {
    "ExecuteTime": {
     "end_time": "2021-03-31T11:04:52.028848Z",
     "start_time": "2021-03-31T11:04:47.713386Z"
    }
   },
   "outputs": [
    {
     "data": {
      "image/png": "[encoded data removed]",
      "text/plain": [
       "<Figure size 1800x360 with 5 Axes>"
      ]
     },
     "metadata": {
      "needs_background": "light"
     },
     "output_type": "display_data"
    }
   ],
   "source": [
    "_, ax = plt.subplots(1, len(true_cats), figsize=(len(true_cats) * 5, 5))\n",
    "for i, tr_cat in enumerate(true_cats):\n",
    "    match_2circles(ax[i], pd.read_csv(det_cat), pd.read_csv(tr_cat))\n",
    "    ax[i].set_xlabel(os.path.splitext(os.path.basename(tr_cat))[0])"
   ]
  },
  {
   "cell_type": "code",
   "execution_count": null,
   "metadata": {},
   "outputs": [],
   "source": []
  }
 ],
 "metadata": {
  "kernelspec": {
   "display_name": "Python 3",
   "language": "python",
   "name": "python3"
  },
  "language_info": {
   "codemirror_mode": {
    "name": "ipython",
    "version": 3
   },
   "file_extension": ".py",
   "mimetype": "text/x-python",
   "name": "python",
   "nbconvert_exporter": "python",
   "pygments_lexer": "ipython3",
   "version": "3.8.3"
  }
 },
 "nbformat": 4,
 "nbformat_minor": 4
}
