{
 "cells": [
  {
   "cell_type": "code",
   "execution_count": 1,
   "metadata": {
    "ExecuteTime": {
     "end_time": "2021-04-22T08:30:23.539227Z",
     "start_time": "2021-04-22T08:30:09.928820Z"
    }
   },
   "outputs": [],
   "source": [
    "import numpy as np\n",
    "import pandas as pd\n",
    "import matplotlib.pyplot as plt\n",
    "import os\n",
    "from astropy.coordinates import SkyCoord\n",
    "from astropy import units as u\n",
    "from tqdm.notebook import tqdm\n",
    "from DS_models_stat import cut_cat\n",
    "from DS_Planck_Unet import val_pix"
   ]
  },
  {
   "cell_type": "code",
   "execution_count": 12,
   "metadata": {
    "ExecuteTime": {
     "end_time": "2021-04-22T08:36:45.266383Z",
     "start_time": "2021-04-22T08:36:45.247960Z"
    }
   },
   "outputs": [],
   "source": [
    "def make_histogram(ax, red, blue, n_bins, label1='Yes matches', label2='No matches', redcoef=1, bluecoef=1, ):\n",
    "    histr, bins, _ = ax[0].hist(list(red) * redcoef, np.arange(0.1, 1 + 1/n_bins, 1/n_bins), color='r', \n",
    "                          log=True, histtype='step', label=label1)\n",
    "    histb, bins, _ = ax[0].hist(list(blue) * bluecoef, np.arange(0.1, 1 + 1/n_bins, 1/n_bins), color='b', \n",
    "                          log=True, histtype='step', label=label2)\n",
    "    dif = histr-histb\n",
    "    dif = [int(k) * [max_pred] for k, max_pred in zip(dif, bins)]\n",
    "    d=[]\n",
    "    for obj in dif:\n",
    "        d.extend(obj)\n",
    "    #counts, bins = np.histogram(data)\n",
    "    #plt.hist(bins[:-1], bins, weights=counts)\n",
    "    ax[1].hist(bins[:-1], bins, weights=histr/histb, color='k', log=False, histtype='step', label=label2)\n",
    "    #ax.legend()"
   ]
  },
  {
   "cell_type": "code",
   "execution_count": 3,
   "metadata": {
    "ExecuteTime": {
     "end_time": "2021-04-22T08:30:23.833140Z",
     "start_time": "2021-04-22T08:30:23.564323Z"
    }
   },
   "outputs": [],
   "source": [
    "dirname = '/home/rt2122/Data/original_catalogs/csv/'\n",
    "true_cats = next(os.walk(dirname))[-1]\n",
    "true_cats = [os.path.join(dirname, s) for s in true_cats]\n",
    "det_cat = '/home/rt2122/Data/detected_cats/full_pz_all_found34_thr0.1_step8_no_fn.csv'"
   ]
  },
  {
   "cell_type": "code",
   "execution_count": 4,
   "metadata": {
    "ExecuteTime": {
     "end_time": "2021-04-22T08:30:24.221083Z",
     "start_time": "2021-04-22T08:30:23.836892Z"
    }
   },
   "outputs": [],
   "source": [
    "def match_one_by_one(ax, det_cat, true_cat, small_circle=400/3600, mid_circle=400/3600,\n",
    "                     big_circle=1500/3600, name=None, filename='',\n",
    "                    redcoef=1, bluecoef=1, n_bins=20):\n",
    "    \n",
    "    def func(angle1, angle2, det_cat, true_cat):\n",
    "        colored = []\n",
    "        tr = SkyCoord(ra=np.array(true_cat['RA'])*u.degree, dec=np.array(true_cat['DEC'])*u.degree, frame='icrs')\n",
    "\n",
    "        for i in tqdm(range(len(det_cat))):\n",
    "            det = SkyCoord(ra=det_cat.loc[i, 'RA']*u.degree, dec=det_cat.loc[i, 'DEC']*u.degree, frame='icrs')\n",
    "            sep = tr.separation(det).degree\n",
    "            matched = np.logical_and( angle1 <= sep, sep <= angle2 )\n",
    "\n",
    "            count = np.count_nonzero(matched)\n",
    "            colored.extend(count * [det_cat.loc[i, 'max_pred']])\n",
    "\n",
    "            true_cat = true_cat[np.logical_not(matched)]\n",
    "            if len(tr_cat) == 0:\n",
    "                break\n",
    "            true_cat.index = np.arange(len(true_cat))\n",
    "            tr = SkyCoord(ra=np.array(true_cat['RA'])*u.degree, dec=np.array(true_cat['DEC'])*u.degree, frame='icrs')\n",
    "        return colored, true_cat\n",
    "    \n",
    "    filered = '/home/rt2122/Data/cur/redblue/{}{}_red.npy'.format(name, filename)\n",
    "    fileblue = '/home/rt2122/Data/cur/redblue/{}{}_blue.npy'.format(name, filename)\n",
    "\n",
    "    if os.path.isfile(filered):\n",
    "        red = np.load(filered)\n",
    "        blue = np.load(fileblue)\n",
    "    else:\n",
    "        red, true_cat = func(0, small_circle, det_cat, true_cat)\n",
    "        blue, true_cat = func(mid_circle, big_circle, det_cat, true_cat)\n",
    "\n",
    "        if not (name is None):\n",
    "            np.save(filered, np.array(red))\n",
    "            np.save(fileblue, np.array(blue))\n",
    "    \n",
    "    make_histogram(ax, red, blue, n_bins, 'red', 'blue', redcoef=redcoef, bluecoef=bluecoef)"
   ]
  },
  {
   "cell_type": "code",
   "execution_count": 6,
   "metadata": {
    "ExecuteTime": {
     "end_time": "2021-04-18T15:30:18.544168Z",
     "start_time": "2021-04-18T15:30:16.430468Z"
    }
   },
   "outputs": [
    {
     "data": {
      "image/png": "[encoded data removed]",
      "text/plain": [
       "<Figure size 1800x360 with 5 Axes>"
      ]
     },
     "metadata": {
      "needs_background": "light"
     },
     "output_type": "display_data"
    }
   ],
   "source": [
    "_, ax = plt.subplots(1, len(true_cats), figsize=(len(true_cats) * 5, 5))\n",
    "for i, tr_cat in enumerate(true_cats):\n",
    "    name=os.path.splitext(os.path.basename(tr_cat))[0]\n",
    "    ax[i].set_xlim(0, 1)\n",
    "    ax[i].set_ylim(1, 10**3)\n",
    "    match_one_by_one(ax[i], cut_cat(pd.read_csv(det_cat), big_pix = 38), \n",
    "                     cut_cat(pd.read_csv(tr_cat), big_pix = 38), name=name+'cd')\n",
    "    ax[i].set_xlabel(name)"
   ]
  },
  {
   "cell_type": "code",
   "execution_count": 10,
   "metadata": {
    "ExecuteTime": {
     "end_time": "2021-04-18T15:31:59.837368Z",
     "start_time": "2021-04-18T15:31:58.232398Z"
    }
   },
   "outputs": [
    {
     "data": {
      "image/png": "[encoded data removed]",
      "text/plain": [
       "<Figure size 1800x360 with 5 Axes>"
      ]
     },
     "metadata": {
      "needs_background": "light"
     },
     "output_type": "display_data"
    }
   ],
   "source": [
    "_, ax = plt.subplots(1, len(true_cats), figsize=(len(true_cats) * 5, 5))\n",
    "for i, tr_cat in enumerate(true_cats):\n",
    "    name=os.path.splitext(os.path.basename(tr_cat))[0]\n",
    "    ax[i].set_xlim(0, 1)\n",
    "    ax[i].set_ylim(1, 10**4)\n",
    "    match_one_by_one(ax[i], \n",
    "                     pd.read_csv(det_cat), pd.read_csv(tr_cat), name=name+'mid_', redcoef=int(blue_square/red_square), bluecoef=1,\n",
    "                    n_bins=20, small_circle=400/3600, mid_circle=1000/3600, big_circle=1500/3600)\n",
    "    ax[i].set_xlabel(name)"
   ]
  },
  {
   "cell_type": "code",
   "execution_count": 19,
   "metadata": {
    "ExecuteTime": {
     "end_time": "2021-04-06T16:45:23.853496Z",
     "start_time": "2021-04-06T16:45:23.848276Z"
    }
   },
   "outputs": [
    {
     "data": {
      "text/plain": [
       "'None'"
      ]
     },
     "execution_count": 19,
     "metadata": {},
     "output_type": "execute_result"
    }
   ],
   "source": [
    "'{}'.format(None)"
   ]
  },
  {
   "cell_type": "code",
   "execution_count": 5,
   "metadata": {
    "ExecuteTime": {
     "end_time": "2021-04-22T08:30:24.545864Z",
     "start_time": "2021-04-22T08:30:24.525412Z"
    }
   },
   "outputs": [],
   "source": [
    "def match_one_by_one_constant_gt(ax, det_cat, true_cat, small_circle=400/3600, mid_circle=400/3600, \n",
    "                                 big_circle=1500/3600, name=None, filename='',\n",
    "                                redname='red', bluename='blue', redcoef=1, bluecoef=1, n_bins=20):\n",
    "    \n",
    "    def func(angle1, angle2, det_cat, true_cat):\n",
    "        colored = []\n",
    "        tr = SkyCoord(ra=np.array(true_cat['RA'])*u.degree, dec=np.array(true_cat['DEC'])*u.degree, frame='icrs')\n",
    "\n",
    "        for i in range(len(det_cat)):\n",
    "            det = SkyCoord(ra=det_cat.loc[i, 'RA']*u.degree, dec=det_cat.loc[i, 'DEC']*u.degree, frame='icrs')\n",
    "            sep = tr.separation(det).degree\n",
    "\n",
    "            count = np.count_nonzero(np.logical_and(angle1 < sep, sep <= angle2))\n",
    "            colored.extend(count * [det_cat.loc[i, 'max_pred']])\n",
    "\n",
    "        return colored \n",
    "    \n",
    "    filered = '/home/rt2122/Data/cur/redblue/const_gt/{}{}_red.npy'.format(name, filename)\n",
    "    fileblue = '/home/rt2122/Data/cur/redblue/const_gt/{}{}_blue.npy'.format(name, filename)\n",
    "\n",
    "    if os.path.isfile(filered):\n",
    "        red = np.load(filered)\n",
    "        blue = np.load(fileblue)\n",
    "    else:\n",
    "        red = func(0, small_circle, det_cat, true_cat)\n",
    "        blue = func(mid_circle, big_circle, det_cat, true_cat)\n",
    "\n",
    "        if not (name is None):\n",
    "            np.save(filered, np.array(red))\n",
    "            np.save(fileblue, np.array(blue))\n",
    "    \n",
    "    make_histogram(ax, red, blue, n_bins, redname, bluename, redcoef=redcoef, bluecoef=bluecoef)"
   ]
  },
  {
   "cell_type": "code",
   "execution_count": 18,
   "metadata": {
    "ExecuteTime": {
     "end_time": "2021-04-15T11:46:06.424049Z",
     "start_time": "2021-04-15T11:46:04.157450Z"
    }
   },
   "outputs": [
    {
     "data": {
      "image/png": "[encoded data removed]",
      "text/plain": [
       "<Figure size 1800x360 with 5 Axes>"
      ]
     },
     "metadata": {
      "needs_background": "light"
     },
     "output_type": "display_data"
    }
   ],
   "source": [
    "_, ax = plt.subplots(1, len(true_cats), figsize=(len(true_cats) * 5, 5))\n",
    "for i, tr_cat in enumerate(true_cats):\n",
    "    name=os.path.splitext(os.path.basename(tr_cat))[0]\n",
    "    match_one_by_one_constant_gt(ax[i], cut_cat(pd.read_csv(det_cat), big_pix = val_pix), \n",
    "                     cut_cat(pd.read_csv(tr_cat), big_pix = val_pix), name=name, filename='val', n_bins=10, \n",
    "                                 redcoef=int(blue_square/red_square))\n",
    "    ax[i].set_xlabel(name)"
   ]
  },
  {
   "cell_type": "code",
   "execution_count": 7,
   "metadata": {
    "ExecuteTime": {
     "end_time": "2021-04-22T08:31:20.953955Z",
     "start_time": "2021-04-22T08:31:20.945080Z"
    }
   },
   "outputs": [
    {
     "data": {
      "text/plain": [
       "(502654.8245743669, 3926990.816987241)"
      ]
     },
     "execution_count": 7,
     "metadata": {},
     "output_type": "execute_result"
    }
   ],
   "source": [
    "red_square=np.pi * (400 ** 2)\n",
    "blue_square=np.pi * (1500 **2) - np.pi*(1000 ** 2) \n",
    "red_square, blue_square"
   ]
  },
  {
   "cell_type": "code",
   "execution_count": 12,
   "metadata": {
    "ExecuteTime": {
     "end_time": "2021-04-18T10:47:16.908004Z",
     "start_time": "2021-04-18T10:47:16.901030Z"
    }
   },
   "outputs": [
    {
     "data": {
      "text/plain": [
       "7.812499999999999"
      ]
     },
     "execution_count": 12,
     "metadata": {},
     "output_type": "execute_result"
    }
   ],
   "source": [
    "blue_square/red_square"
   ]
  },
  {
   "cell_type": "code",
   "execution_count": 13,
   "metadata": {
    "ExecuteTime": {
     "end_time": "2021-04-22T08:36:53.535623Z",
     "start_time": "2021-04-22T08:36:51.754127Z"
    }
   },
   "outputs": [
    {
     "data": {
      "application/vnd.jupyter.widget-view+json": {
       "model_id": "db31b7f8bca14d7abce74218c17d135f",
       "version_major": 2,
       "version_minor": 0
      },
      "text/plain": [
       "HBox(children=(FloatProgress(value=1.0, bar_style='info', max=1.0), HTML(value='')))"
      ]
     },
     "metadata": {},
     "output_type": "display_data"
    },
    {
     "name": "stdout",
     "output_type": "stream",
     "text": [
      "\n"
     ]
    },
    {
     "data": {
      "image/png": "[encoded data removed]",
      "text/plain": [
       "<Figure size 1800x720 with 10 Axes>"
      ]
     },
     "metadata": {
      "needs_background": "light"
     },
     "output_type": "display_data"
    }
   ],
   "source": [
    "_, ax = plt.subplots(2, len(true_cats), figsize=(len(true_cats) * 5, 10))\n",
    "for i, tr_cat in tqdm(enumerate(true_cats)):\n",
    "    name=os.path.splitext(os.path.basename(tr_cat))[0]\n",
    "    ax[0][i].set_xlim(0, 1)\n",
    "    ax[0][i].set_ylim(1, 10**4)\n",
    "    \n",
    "    match_one_by_one_constant_gt([ax[0][i], ax[1][i]], pd.read_csv(det_cat), \n",
    "                     pd.read_csv(tr_cat), name=name, filename='1000-1500_', redname='found', bluename='error', \n",
    "                                 redcoef=int(blue_square/red_square), \n",
    "                                 small_circle=400/3600, mid_circle=1000/3600, big_circle=1500/3600)\n",
    "    ax[1][i].set_xlabel(name)"
   ]
  },
  {
   "cell_type": "code",
   "execution_count": 21,
   "metadata": {
    "ExecuteTime": {
     "end_time": "2021-04-15T08:07:23.685165Z",
     "start_time": "2021-04-15T08:07:22.373006Z"
    }
   },
   "outputs": [
    {
     "data": {
      "application/vnd.jupyter.widget-view+json": {
       "model_id": "0cf02b158cd54fa7952af7cc36f17769",
       "version_major": 2,
       "version_minor": 0
      },
      "text/plain": [
       "HBox(children=(FloatProgress(value=1.0, bar_style='info', max=1.0), HTML(value='')))"
      ]
     },
     "metadata": {},
     "output_type": "display_data"
    },
    {
     "name": "stdout",
     "output_type": "stream",
     "text": [
      "\n"
     ]
    },
    {
     "data": {
      "image/png": "[encoded data removed]",
      "text/plain": [
       "<Figure size 1800x360 with 5 Axes>"
      ]
     },
     "metadata": {
      "needs_background": "light"
     },
     "output_type": "display_data"
    }
   ],
   "source": [
    "_, ax = plt.subplots(1, len(true_cats), figsize=(len(true_cats) * 5, 5))\n",
    "for i, tr_cat in tqdm(enumerate(true_cats)):\n",
    "    name=os.path.splitext(os.path.basename(tr_cat))[0]\n",
    "    match_one_by_one_constant_gt(ax[i], pd.read_csv(det_cat), \n",
    "                     pd.read_csv(tr_cat), name=name, filename='', redname='found', bluename='error', \n",
    "                                 redcoef=1)\n",
    "    ax[i].set_xlabel(name)"
   ]
  },
  {
   "cell_type": "code",
   "execution_count": null,
   "metadata": {},
   "outputs": [],
   "source": [
    "_, ax = plt.subplots(1, len(true_cats), figsize=(len(true_cats) * 5, 5))\n",
    "for i, tr_cat in tqdm(enumerate(true_cats)):\n",
    "    name=os.path.splitext(os.path.basename(tr_cat))[0]\n",
    "    match_one_by_one_constant_gt(ax[i], pd.read_csv(det_cat), \n",
    "                     pd.read_csv(tr_cat), name=name, filename='', redname='found', bluename='error', \n",
    "                                 redcoef=int(blue_square/red_square))\n",
    "    ax[i].set_xlabel(name)"
   ]
  },
  {
   "cell_type": "code",
   "execution_count": 38,
   "metadata": {
    "ExecuteTime": {
     "end_time": "2021-04-15T12:03:58.679856Z",
     "start_time": "2021-04-15T12:03:58.589205Z"
    }
   },
   "outputs": [],
   "source": [
    "cat = pd.read_csv('/home/rt2122/Data/detected_cats/full_pz_all_found34_thr0.1_step8_no_fn.csv')"
   ]
  },
  {
   "cell_type": "code",
   "execution_count": 39,
   "metadata": {
    "ExecuteTime": {
     "end_time": "2021-04-15T12:04:36.643003Z",
     "start_time": "2021-04-15T12:04:36.549157Z"
    }
   },
   "outputs": [
    {
     "data": {
      "text/html": [
       "<div>\n",
       "<style scoped>\n",
       "    .dataframe tbody tr th:only-of-type {\n",
       "        vertical-align: middle;\n",
       "    }\n",
       "\n",
       "    .dataframe tbody tr th {\n",
       "        vertical-align: top;\n",
       "    }\n",
       "\n",
       "    .dataframe thead th {\n",
       "        text-align: right;\n",
       "    }\n",
       "</style>\n",
       "<table border=\"1\" class=\"dataframe\">\n",
       "  <thead>\n",
       "    <tr style=\"text-align: right;\">\n",
       "      <th></th>\n",
       "      <th>RA</th>\n",
       "      <th>DEC</th>\n",
       "      <th>area</th>\n",
       "      <th>min_rad</th>\n",
       "      <th>max_rad</th>\n",
       "      <th>mean_rad</th>\n",
       "      <th>min_pred</th>\n",
       "      <th>max_pred</th>\n",
       "      <th>tRA</th>\n",
       "      <th>tDEC</th>\n",
       "      <th>status</th>\n",
       "      <th>catalog</th>\n",
       "      <th>M500</th>\n",
       "      <th>z</th>\n",
       "      <th>pix2</th>\n",
       "    </tr>\n",
       "  </thead>\n",
       "  <tbody>\n",
       "    <tr>\n",
       "      <th>1002</th>\n",
       "      <td>258.912800</td>\n",
       "      <td>0.052756</td>\n",
       "      <td>36.0</td>\n",
       "      <td>2.289824</td>\n",
       "      <td>4.342237</td>\n",
       "      <td>3.473600</td>\n",
       "      <td>0.110412</td>\n",
       "      <td>0.956089</td>\n",
       "      <td>NaN</td>\n",
       "      <td>NaN</td>\n",
       "      <td>fp</td>\n",
       "      <td>NaN</td>\n",
       "      <td>NaN</td>\n",
       "      <td>NaN</td>\n",
       "      <td>train_pix</td>\n",
       "    </tr>\n",
       "    <tr>\n",
       "      <th>1471</th>\n",
       "      <td>227.756081</td>\n",
       "      <td>5.665220</td>\n",
       "      <td>100.0</td>\n",
       "      <td>0.541522</td>\n",
       "      <td>17.650340</td>\n",
       "      <td>8.366707</td>\n",
       "      <td>0.100442</td>\n",
       "      <td>0.997097</td>\n",
       "      <td>NaN</td>\n",
       "      <td>NaN</td>\n",
       "      <td>fp</td>\n",
       "      <td>NaN</td>\n",
       "      <td>NaN</td>\n",
       "      <td>NaN</td>\n",
       "      <td>train_pix</td>\n",
       "    </tr>\n",
       "    <tr>\n",
       "      <th>3176</th>\n",
       "      <td>162.556401</td>\n",
       "      <td>64.812697</td>\n",
       "      <td>32.0</td>\n",
       "      <td>1.771288</td>\n",
       "      <td>4.389184</td>\n",
       "      <td>3.248701</td>\n",
       "      <td>0.104496</td>\n",
       "      <td>0.962947</td>\n",
       "      <td>NaN</td>\n",
       "      <td>NaN</td>\n",
       "      <td>fp</td>\n",
       "      <td>NaN</td>\n",
       "      <td>NaN</td>\n",
       "      <td>NaN</td>\n",
       "      <td>train_pix</td>\n",
       "    </tr>\n",
       "    <tr>\n",
       "      <th>5538</th>\n",
       "      <td>230.955106</td>\n",
       "      <td>-33.404650</td>\n",
       "      <td>23.0</td>\n",
       "      <td>1.392822</td>\n",
       "      <td>3.676397</td>\n",
       "      <td>2.751504</td>\n",
       "      <td>0.124428</td>\n",
       "      <td>0.956504</td>\n",
       "      <td>NaN</td>\n",
       "      <td>NaN</td>\n",
       "      <td>fp</td>\n",
       "      <td>NaN</td>\n",
       "      <td>NaN</td>\n",
       "      <td>NaN</td>\n",
       "      <td>train_pix</td>\n",
       "    </tr>\n",
       "    <tr>\n",
       "      <th>6056</th>\n",
       "      <td>232.054901</td>\n",
       "      <td>-31.219027</td>\n",
       "      <td>27.0</td>\n",
       "      <td>1.321054</td>\n",
       "      <td>3.730086</td>\n",
       "      <td>2.961099</td>\n",
       "      <td>0.105129</td>\n",
       "      <td>0.978701</td>\n",
       "      <td>NaN</td>\n",
       "      <td>NaN</td>\n",
       "      <td>fp</td>\n",
       "      <td>NaN</td>\n",
       "      <td>NaN</td>\n",
       "      <td>NaN</td>\n",
       "      <td>train_pix</td>\n",
       "    </tr>\n",
       "    <tr>\n",
       "      <th>...</th>\n",
       "      <td>...</td>\n",
       "      <td>...</td>\n",
       "      <td>...</td>\n",
       "      <td>...</td>\n",
       "      <td>...</td>\n",
       "      <td>...</td>\n",
       "      <td>...</td>\n",
       "      <td>...</td>\n",
       "      <td>...</td>\n",
       "      <td>...</td>\n",
       "      <td>...</td>\n",
       "      <td>...</td>\n",
       "      <td>...</td>\n",
       "      <td>...</td>\n",
       "      <td>...</td>\n",
       "    </tr>\n",
       "    <tr>\n",
       "      <th>23319</th>\n",
       "      <td>80.342561</td>\n",
       "      <td>-40.817055</td>\n",
       "      <td>31.0</td>\n",
       "      <td>2.268405</td>\n",
       "      <td>4.112448</td>\n",
       "      <td>3.213686</td>\n",
       "      <td>0.102983</td>\n",
       "      <td>0.966914</td>\n",
       "      <td>80.384113</td>\n",
       "      <td>-40.834128</td>\n",
       "      <td>tp</td>\n",
       "      <td>planck_z</td>\n",
       "      <td>1.942717</td>\n",
       "      <td>0.0756</td>\n",
       "      <td>val_pix</td>\n",
       "    </tr>\n",
       "    <tr>\n",
       "      <th>23329</th>\n",
       "      <td>82.204212</td>\n",
       "      <td>-39.478433</td>\n",
       "      <td>30.0</td>\n",
       "      <td>1.774505</td>\n",
       "      <td>4.061027</td>\n",
       "      <td>3.131644</td>\n",
       "      <td>0.124886</td>\n",
       "      <td>0.989700</td>\n",
       "      <td>82.201187</td>\n",
       "      <td>-39.477494</td>\n",
       "      <td>tp</td>\n",
       "      <td>planck_z</td>\n",
       "      <td>7.406209</td>\n",
       "      <td>0.2839</td>\n",
       "      <td>val_pix</td>\n",
       "    </tr>\n",
       "    <tr>\n",
       "      <th>23340</th>\n",
       "      <td>83.202141</td>\n",
       "      <td>-37.047721</td>\n",
       "      <td>32.0</td>\n",
       "      <td>2.016490</td>\n",
       "      <td>4.428141</td>\n",
       "      <td>3.271466</td>\n",
       "      <td>0.103728</td>\n",
       "      <td>0.993524</td>\n",
       "      <td>83.231675</td>\n",
       "      <td>-37.039633</td>\n",
       "      <td>tp</td>\n",
       "      <td>planck_z</td>\n",
       "      <td>7.004796</td>\n",
       "      <td>0.2708</td>\n",
       "      <td>val_pix</td>\n",
       "    </tr>\n",
       "    <tr>\n",
       "      <th>23345</th>\n",
       "      <td>94.103582</td>\n",
       "      <td>-39.842035</td>\n",
       "      <td>33.0</td>\n",
       "      <td>1.833864</td>\n",
       "      <td>4.222020</td>\n",
       "      <td>3.313638</td>\n",
       "      <td>0.102623</td>\n",
       "      <td>0.977697</td>\n",
       "      <td>94.134115</td>\n",
       "      <td>-39.832847</td>\n",
       "      <td>tp</td>\n",
       "      <td>planck_z</td>\n",
       "      <td>4.078645</td>\n",
       "      <td>0.1520</td>\n",
       "      <td>val_pix</td>\n",
       "    </tr>\n",
       "    <tr>\n",
       "      <th>23348</th>\n",
       "      <td>85.694530</td>\n",
       "      <td>-35.987890</td>\n",
       "      <td>28.0</td>\n",
       "      <td>1.860392</td>\n",
       "      <td>4.038803</td>\n",
       "      <td>3.099976</td>\n",
       "      <td>0.105760</td>\n",
       "      <td>0.966874</td>\n",
       "      <td>85.737814</td>\n",
       "      <td>-35.984258</td>\n",
       "      <td>tp</td>\n",
       "      <td>planck_z</td>\n",
       "      <td>7.361269</td>\n",
       "      <td>0.4200</td>\n",
       "      <td>val_pix</td>\n",
       "    </tr>\n",
       "  </tbody>\n",
       "</table>\n",
       "<p>549 rows × 15 columns</p>\n",
       "</div>"
      ],
      "text/plain": [
       "               RA        DEC   area   min_rad    max_rad  mean_rad  min_pred  \\\n",
       "1002   258.912800   0.052756   36.0  2.289824   4.342237  3.473600  0.110412   \n",
       "1471   227.756081   5.665220  100.0  0.541522  17.650340  8.366707  0.100442   \n",
       "3176   162.556401  64.812697   32.0  1.771288   4.389184  3.248701  0.104496   \n",
       "5538   230.955106 -33.404650   23.0  1.392822   3.676397  2.751504  0.124428   \n",
       "6056   232.054901 -31.219027   27.0  1.321054   3.730086  2.961099  0.105129   \n",
       "...           ...        ...    ...       ...        ...       ...       ...   \n",
       "23319   80.342561 -40.817055   31.0  2.268405   4.112448  3.213686  0.102983   \n",
       "23329   82.204212 -39.478433   30.0  1.774505   4.061027  3.131644  0.124886   \n",
       "23340   83.202141 -37.047721   32.0  2.016490   4.428141  3.271466  0.103728   \n",
       "23345   94.103582 -39.842035   33.0  1.833864   4.222020  3.313638  0.102623   \n",
       "23348   85.694530 -35.987890   28.0  1.860392   4.038803  3.099976  0.105760   \n",
       "\n",
       "       max_pred        tRA       tDEC status   catalog      M500       z  \\\n",
       "1002   0.956089        NaN        NaN     fp       NaN       NaN     NaN   \n",
       "1471   0.997097        NaN        NaN     fp       NaN       NaN     NaN   \n",
       "3176   0.962947        NaN        NaN     fp       NaN       NaN     NaN   \n",
       "5538   0.956504        NaN        NaN     fp       NaN       NaN     NaN   \n",
       "6056   0.978701        NaN        NaN     fp       NaN       NaN     NaN   \n",
       "...         ...        ...        ...    ...       ...       ...     ...   \n",
       "23319  0.966914  80.384113 -40.834128     tp  planck_z  1.942717  0.0756   \n",
       "23329  0.989700  82.201187 -39.477494     tp  planck_z  7.406209  0.2839   \n",
       "23340  0.993524  83.231675 -37.039633     tp  planck_z  7.004796  0.2708   \n",
       "23345  0.977697  94.134115 -39.832847     tp  planck_z  4.078645  0.1520   \n",
       "23348  0.966874  85.737814 -35.984258     tp  planck_z  7.361269  0.4200   \n",
       "\n",
       "            pix2  \n",
       "1002   train_pix  \n",
       "1471   train_pix  \n",
       "3176   train_pix  \n",
       "5538   train_pix  \n",
       "6056   train_pix  \n",
       "...          ...  \n",
       "23319    val_pix  \n",
       "23329    val_pix  \n",
       "23340    val_pix  \n",
       "23345    val_pix  \n",
       "23348    val_pix  \n",
       "\n",
       "[549 rows x 15 columns]"
      ]
     },
     "execution_count": 39,
     "metadata": {},
     "output_type": "execute_result"
    }
   ],
   "source": [
    "cat[cat['max_pred'] > 0.95]"
   ]
  },
  {
   "cell_type": "code",
   "execution_count": 68,
   "metadata": {
    "ExecuteTime": {
     "end_time": "2021-04-15T13:09:23.487845Z",
     "start_time": "2021-04-15T13:09:23.481072Z"
    }
   },
   "outputs": [
    {
     "name": "stdout",
     "output_type": "stream",
     "text": [
      "(1, 3)\n",
      "(2, 4)\n"
     ]
    }
   ],
   "source": [
    "for k in zip([1, 2, 3], [3, 4]):\n",
    "    print(k)"
   ]
  },
  {
   "cell_type": "code",
   "execution_count": 81,
   "metadata": {
    "ExecuteTime": {
     "end_time": "2021-04-15T13:17:28.990162Z",
     "start_time": "2021-04-15T13:17:28.976373Z"
    }
   },
   "outputs": [
    {
     "ename": "TypeError",
     "evalue": "unsupported operand type(s) for +: 'int' and 'list'",
     "output_type": "error",
     "traceback": [
      "\u001b[0;31m---------------------------------------------------------------------------\u001b[0m",
      "\u001b[0;31mTypeError\u001b[0m                                 Traceback (most recent call last)",
      "\u001b[0;32m<ipython-input-81-172a5f7d508d>\u001b[0m in \u001b[0;36m<module>\u001b[0;34m\u001b[0m\n\u001b[0;32m----> 1\u001b[0;31m \u001b[0msum\u001b[0m\u001b[0;34m(\u001b[0m\u001b[0;34m[\u001b[0m\u001b[0;34m[\u001b[0m\u001b[0;36m1\u001b[0m\u001b[0;34m,\u001b[0m \u001b[0;36m2\u001b[0m\u001b[0;34m]\u001b[0m\u001b[0;34m,\u001b[0m \u001b[0;34m[\u001b[0m\u001b[0;36m3\u001b[0m\u001b[0;34m,\u001b[0m \u001b[0;36m4\u001b[0m\u001b[0;34m]\u001b[0m\u001b[0;34m]\u001b[0m\u001b[0;34m)\u001b[0m\u001b[0;34m\u001b[0m\u001b[0;34m\u001b[0m\u001b[0m\n\u001b[0m",
      "\u001b[0;31mTypeError\u001b[0m: unsupported operand type(s) for +: 'int' and 'list'"
     ]
    }
   ],
   "source": [
    "sum([[1, 2], [3, 4]])"
   ]
  }
 ],
 "metadata": {
  "kernelspec": {
   "display_name": "Python 3",
   "language": "python",
   "name": "python3"
  },
  "language_info": {
   "codemirror_mode": {
    "name": "ipython",
    "version": 3
   },
   "file_extension": ".py",
   "mimetype": "text/x-python",
   "name": "python",
   "nbconvert_exporter": "python",
   "pygments_lexer": "ipython3",
   "version": "3.8.3"
  }
 },
 "nbformat": 4,
 "nbformat_minor": 4
}
