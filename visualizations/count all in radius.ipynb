{
 "cells": [
  {
   "cell_type": "code",
   "execution_count": 1,
   "metadata": {
    "ExecuteTime": {
     "end_time": "2021-04-07T15:43:38.384844Z",
     "start_time": "2021-04-07T15:43:26.336138Z"
    }
   },
   "outputs": [],
   "source": [
    "import numpy as np\n",
    "import pandas as pd\n",
    "import matplotlib.pyplot as plt\n",
    "import os\n",
    "from astropy.coordinates import SkyCoord\n",
    "from astropy import units as u\n",
    "from tqdm.notebook import tqdm\n",
    "from DS_models_stat import cut_cat"
   ]
  },
  {
   "cell_type": "code",
   "execution_count": 2,
   "metadata": {
    "ExecuteTime": {
     "end_time": "2021-04-07T15:43:38.390414Z",
     "start_time": "2021-04-07T15:43:38.387177Z"
    }
   },
   "outputs": [],
   "source": [
    "def make_histogram(ax, tp, fp, n_bins, label1='Yes matches', label2='No matches'):\n",
    "    ax.hist(tp, n_bins, color='r', log=True, histtype='step', label=label1)\n",
    "    ax.hist(fp, n_bins, color='b', log=True, histtype='step', label=label2)\n",
    "    ax.legend()"
   ]
  },
  {
   "cell_type": "code",
   "execution_count": 7,
   "metadata": {
    "ExecuteTime": {
     "end_time": "2021-03-31T11:04:20.142511Z",
     "start_time": "2021-03-31T11:04:20.128687Z"
    }
   },
   "outputs": [],
   "source": [
    "    '''\n",
    "def match_2circles(ax, det_cat, true_cat, n_bins=20, small_circle=400/3600, big_circle=1500/3600, max_pred_lim=None, \n",
    "                  b_lim=None, big_pix=None):\n",
    "    if not (max_pred_lim is None):\n",
    "        det_cat = det_cat[det_cat['max_pred'] >= max_pred_lim]\n",
    "        det_cat.index = np.arange(len(det_cat))\n",
    "        \n",
    "    if not (big_pix is None):\n",
    "        pix2 = radec2pix(det_cat['RA'], det_cat['DEC'], 2)\n",
    "        det_cat = det_cat[np.in1d(pix2, big_pix)]\n",
    "        det_cat.index = np.arange(len(det_cat))\n",
    "        pix2 = radec2pix(true_cat['RA'], true_cat['DEC'], 2)\n",
    "        true_cat = true_cat[np.in1d(pix2, big_pix)]\n",
    "        true_cat.index = np.arange(len(true_cat))\n",
    "    det_sc = SkyCoord(ra=np.array(det_cat['RA'])*u.degree, dec=np.array(det_cat['DEC'])*u.degree, frame='icrs')\n",
    "    tr_sc = SkyCoord(ra=np.array(true_cat['RA'])*u.degree, dec=np.array(true_cat['DEC'])*u.degree, frame='icrs')\n",
    "    \n",
    "    if not (b_lim is None):\n",
    "        b = det_sc.galactic.b.degree\n",
    "        det_cat = det_cat[np.abs(b) >= b_lim]\n",
    "        det_cat.index = np.arange(len(det_cat))\n",
    "        det_sc = SkyCoord(ra=np.array(det_cat['RA'])*u.degree, dec=np.array(det_cat['DEC'])*u.degree, frame='icrs')\n",
    "        b = tr_sc.galactic.b.degree\n",
    "        true_cat = true_cat[np.abs(b) >= b_lim]\n",
    "        true_cat.index = np.arange(len(true_cat))\n",
    "        tr_sc = SkyCoord(ra=np.array(true_cat['RA'])*u.degree, dec=np.array(true_cat['DEC'])*u.degree, frame='icrs')\n",
    "            \n",
    "   \n",
    "    idx_s, d2d, _ = det_sc.match_to_catalog_sky(tr_sc)\n",
    "    matched_small = d2d.degree <= small_circle\n",
    "    while np.count_nonzero(d2d.degree < small_circle):\n",
    "        matched_small = np.concatenate([matched_small, d2d.degree <= small_circle])\n",
    "        not_matched_small = np.logical_not(matched_small) \n",
    "        tr_sc = SkyCoord(ra=np.array(true_cat['RA'][list(set(idx[not_matched_small]))])*u.degree, \n",
    "                         dec=np.array(true_cat['DEC'][list(set(idx[not_matched_small]))])*u.degree, frame='icrs')\n",
    "        idx, d2d, _ = det_sc.match_to_catalog_sky(tr_sc)\n",
    "        idx_s = np.concatenate([idx_s, idx])\n",
    "    \n",
    "    tr_sc = SkyCoord(ra=np.array(true_cat['RA'][list(set(idx[not_matched_small]))])*u.degree, \n",
    "                     dec=np.array(true_cat['DEC'][list(set(idx[not_matched_small]))])*u.degree, frame='icrs')\n",
    "    idx, d2d, _ = det_sc.match_to_catalog_sky(tr_sc)\n",
    "    matched_big = np.logical_and(d2d.degree > small_circle, d2d.degree <= big_circle)\n",
    "    \n",
    "    \n",
    "    make_histogram(ax, det_cat['max_pred'][matched_small], det_cat['max_pred'][matched_big], n_bins)\n",
    "    '''"
   ]
  },
  {
   "cell_type": "code",
   "execution_count": 3,
   "metadata": {
    "ExecuteTime": {
     "end_time": "2021-04-07T15:43:38.578302Z",
     "start_time": "2021-04-07T15:43:38.392458Z"
    }
   },
   "outputs": [],
   "source": [
    "dirname = '/home/rt2122/Data/original_catalogs/csv/'\n",
    "true_cats = next(os.walk(dirname))[-1]\n",
    "true_cats = [os.path.join(dirname, s) for s in true_cats]\n",
    "det_cat = '/home/rt2122/Data/detected_cats/full_pz_all_found34_thr0.1_step8_no_fn.csv'"
   ]
  },
  {
   "cell_type": "code",
   "execution_count": 11,
   "metadata": {
    "ExecuteTime": {
     "end_time": "2021-03-31T11:04:52.028848Z",
     "start_time": "2021-03-31T11:04:47.713386Z"
    }
   },
   "outputs": [
    {
     "data": {
      "image/png": "[encoded data removed]",
      "text/plain": [
       "<Figure size 1800x360 with 5 Axes>"
      ]
     },
     "metadata": {
      "needs_background": "light"
     },
     "output_type": "display_data"
    }
   ],
   "source": [
    "_, ax = plt.subplots(1, len(true_cats), figsize=(len(true_cats) * 5, 5))\n",
    "for i, tr_cat in enumerate(true_cats):\n",
    "    match_2circles(ax[i], pd.read_csv(det_cat), pd.read_csv(tr_cat))\n",
    "    ax[i].set_xlabel(os.path.splitext(os.path.basename(tr_cat))[0])"
   ]
  },
  {
   "cell_type": "code",
   "execution_count": 6,
   "metadata": {
    "ExecuteTime": {
     "end_time": "2021-04-07T15:47:30.537170Z",
     "start_time": "2021-04-07T15:47:30.520264Z"
    }
   },
   "outputs": [],
   "source": [
    "def match_one_by_one(ax, det_cat, true_cat, small_circle=400/3600, big_circle=1500/3600, name=None, filename=''):\n",
    "    \n",
    "    def func(angle, det_cat, true_cat):\n",
    "        colored = []\n",
    "        tr = SkyCoord(ra=np.array(true_cat['RA'])*u.degree, dec=np.array(true_cat['DEC'])*u.degree, frame='icrs')\n",
    "\n",
    "        for i in tqdm(range(len(det_cat))):\n",
    "            det = SkyCoord(ra=det_cat.loc[i, 'RA']*u.degree, dec=det_cat.loc[i, 'DEC']*u.degree, frame='icrs')\n",
    "            sep = tr.separation(det).degree\n",
    "\n",
    "            count = np.count_nonzero(sep <= angle)\n",
    "            colored.extend(count * [det_cat.loc[i, 'max_pred']])\n",
    "\n",
    "            true_cat = true_cat[sep > angle]\n",
    "            if len(tr_cat) == 0:\n",
    "                break\n",
    "            true_cat.index = np.arange(len(true_cat))\n",
    "            tr = SkyCoord(ra=np.array(true_cat['RA'])*u.degree, dec=np.array(true_cat['DEC'])*u.degree, frame='icrs')\n",
    "        return colored, true_cat\n",
    "    \n",
    "    filered = '/home/rt2122/Data/cur/redblue/{}{}_red.npy'.format(name, filename)\n",
    "    fileblue = '/home/rt2122/Data/cur/redblue/{}{}_blue.npy'.format(name, filename)\n",
    "\n",
    "    if os.path.isfile(filered):\n",
    "        red = np.load(filered)\n",
    "        blue = np.load(fileblue)\n",
    "    else:\n",
    "        red, true_cat = func(small_circle, det_cat, true_cat)\n",
    "        blue, true_cat = func(big_circle, det_cat, true_cat)\n",
    "\n",
    "        if not (name is None):\n",
    "            np.save(filered, np.array(red))\n",
    "            np.save(fileblue, np.array(blue))\n",
    "    \n",
    "    make_histogram(ax, red, blue, 20, 'red', 'blue')"
   ]
  },
  {
   "cell_type": "code",
   "execution_count": 10,
   "metadata": {
    "ExecuteTime": {
     "end_time": "2021-04-06T11:04:22.415218Z",
     "start_time": "2021-04-06T11:02:49.607851Z"
    }
   },
   "outputs": [
    {
     "data": {
      "application/vnd.jupyter.widget-view+json": {
       "model_id": "9493f7f285a14433b5d13ebfcb3fc407",
       "version_major": 2,
       "version_minor": 0
      },
      "text/plain": [
       "HBox(children=(FloatProgress(value=0.0, max=558.0), HTML(value='')))"
      ]
     },
     "metadata": {},
     "output_type": "display_data"
    },
    {
     "name": "stdout",
     "output_type": "stream",
     "text": [
      "\n"
     ]
    },
    {
     "data": {
      "application/vnd.jupyter.widget-view+json": {
       "model_id": "8a377ab9d6c946c6a6ab126ee74d7c3f",
       "version_major": 2,
       "version_minor": 0
      },
      "text/plain": [
       "HBox(children=(FloatProgress(value=0.0, max=558.0), HTML(value='')))"
      ]
     },
     "metadata": {},
     "output_type": "display_data"
    },
    {
     "name": "stdout",
     "output_type": "stream",
     "text": [
      "\n"
     ]
    },
    {
     "data": {
      "application/vnd.jupyter.widget-view+json": {
       "model_id": "f5049f28781c45c7a31544153332a02f",
       "version_major": 2,
       "version_minor": 0
      },
      "text/plain": [
       "HBox(children=(FloatProgress(value=0.0, max=558.0), HTML(value='')))"
      ]
     },
     "metadata": {},
     "output_type": "display_data"
    },
    {
     "name": "stdout",
     "output_type": "stream",
     "text": [
      "\n"
     ]
    },
    {
     "data": {
      "application/vnd.jupyter.widget-view+json": {
       "model_id": "beb0ac8baf324fe5a24f65a9a76c8266",
       "version_major": 2,
       "version_minor": 0
      },
      "text/plain": [
       "HBox(children=(FloatProgress(value=0.0, max=558.0), HTML(value='')))"
      ]
     },
     "metadata": {},
     "output_type": "display_data"
    },
    {
     "name": "stdout",
     "output_type": "stream",
     "text": [
      "\n"
     ]
    },
    {
     "data": {
      "application/vnd.jupyter.widget-view+json": {
       "model_id": "5de596434c474d45825a61616a00f736",
       "version_major": 2,
       "version_minor": 0
      },
      "text/plain": [
       "HBox(children=(FloatProgress(value=0.0, max=558.0), HTML(value='')))"
      ]
     },
     "metadata": {},
     "output_type": "display_data"
    },
    {
     "name": "stdout",
     "output_type": "stream",
     "text": [
      "\n"
     ]
    },
    {
     "data": {
      "application/vnd.jupyter.widget-view+json": {
       "model_id": "dee2809149af40649094dc70fb188b02",
       "version_major": 2,
       "version_minor": 0
      },
      "text/plain": [
       "HBox(children=(FloatProgress(value=0.0, max=558.0), HTML(value='')))"
      ]
     },
     "metadata": {},
     "output_type": "display_data"
    },
    {
     "name": "stdout",
     "output_type": "stream",
     "text": [
      "\n"
     ]
    },
    {
     "data": {
      "application/vnd.jupyter.widget-view+json": {
       "model_id": "2af48ae0380343e8983b7c354ef7271a",
       "version_major": 2,
       "version_minor": 0
      },
      "text/plain": [
       "HBox(children=(FloatProgress(value=0.0, max=558.0), HTML(value='')))"
      ]
     },
     "metadata": {},
     "output_type": "display_data"
    },
    {
     "name": "stdout",
     "output_type": "stream",
     "text": [
      "\n"
     ]
    },
    {
     "data": {
      "application/vnd.jupyter.widget-view+json": {
       "model_id": "e4849de4417948f0891e8da0b04d8da6",
       "version_major": 2,
       "version_minor": 0
      },
      "text/plain": [
       "HBox(children=(FloatProgress(value=0.0, max=558.0), HTML(value='')))"
      ]
     },
     "metadata": {},
     "output_type": "display_data"
    },
    {
     "name": "stdout",
     "output_type": "stream",
     "text": [
      "\n"
     ]
    },
    {
     "data": {
      "application/vnd.jupyter.widget-view+json": {
       "model_id": "3261249dad254714baaf66e11fb470f0",
       "version_major": 2,
       "version_minor": 0
      },
      "text/plain": [
       "HBox(children=(FloatProgress(value=0.0, max=558.0), HTML(value='')))"
      ]
     },
     "metadata": {},
     "output_type": "display_data"
    },
    {
     "name": "stdout",
     "output_type": "stream",
     "text": [
      "\n"
     ]
    },
    {
     "data": {
      "application/vnd.jupyter.widget-view+json": {
       "model_id": "ae8d34d0275444fe93aac0873c2b3927",
       "version_major": 2,
       "version_minor": 0
      },
      "text/plain": [
       "HBox(children=(FloatProgress(value=0.0, max=558.0), HTML(value='')))"
      ]
     },
     "metadata": {},
     "output_type": "display_data"
    },
    {
     "name": "stdout",
     "output_type": "stream",
     "text": [
      "\n"
     ]
    },
    {
     "data": {
      "image/png": "[encoded data removed]",
      "text/plain": [
       "<Figure size 1800x360 with 5 Axes>"
      ]
     },
     "metadata": {
      "needs_background": "light"
     },
     "output_type": "display_data"
    }
   ],
   "source": [
    "_, ax = plt.subplots(1, len(true_cats), figsize=(len(true_cats) * 5, 5))\n",
    "for i, tr_cat in enumerate(true_cats):\n",
    "    name=os.path.splitext(os.path.basename(tr_cat))[0]\n",
    "    match_one_by_one(ax[i], cut_cat(pd.read_csv(det_cat), big_pix = 38), \n",
    "                     cut_cat(pd.read_csv(tr_cat), big_pix = 38), name=name)\n",
    "    ax[i].set_xlabel(name)"
   ]
  },
  {
   "cell_type": "code",
   "execution_count": 32,
   "metadata": {
    "ExecuteTime": {
     "end_time": "2021-04-03T19:26:28.147079Z",
     "start_time": "2021-04-03T19:04:30.305001Z"
    }
   },
   "outputs": [
    {
     "data": {
      "application/vnd.jupyter.widget-view+json": {
       "model_id": "a1309233fd484c60803f4a49deaa9b30",
       "version_major": 2,
       "version_minor": 0
      },
      "text/plain": [
       "HBox(children=(FloatProgress(value=0.0, max=23352.0), HTML(value='')))"
      ]
     },
     "metadata": {},
     "output_type": "display_data"
    },
    {
     "name": "stdout",
     "output_type": "stream",
     "text": [
      "\n"
     ]
    },
    {
     "data": {
      "application/vnd.jupyter.widget-view+json": {
       "model_id": "177bd9eaa66a49b996cdfc94287ec232",
       "version_major": 2,
       "version_minor": 0
      },
      "text/plain": [
       "HBox(children=(FloatProgress(value=0.0, max=23352.0), HTML(value='')))"
      ]
     },
     "metadata": {},
     "output_type": "display_data"
    },
    {
     "name": "stdout",
     "output_type": "stream",
     "text": [
      "\n"
     ]
    },
    {
     "data": {
      "text/plain": [
       "Text(0.5, 0, 'PSZ2')"
      ]
     },
     "execution_count": 32,
     "metadata": {},
     "output_type": "execute_result"
    },
    {
     "data": {
      "image/png": "[encoded data removed]",
      "text/plain": [
       "<Figure size 360x360 with 1 Axes>"
      ]
     },
     "metadata": {
      "needs_background": "light"
     },
     "output_type": "display_data"
    }
   ],
   "source": [
    "_, ax = plt.subplots(1, 1, figsize=(5, 5))\n",
    "match_one_by_one(ax, pd.read_csv(det_cat), \n",
    "                 pd.read_csv('/home/rt2122/Data/original_catalogs/csv/PSZ2.csv'))\n",
    "ax.set_xlabel('PSZ2')"
   ]
  },
  {
   "cell_type": "code",
   "execution_count": 24,
   "metadata": {
    "ExecuteTime": {
     "end_time": "2021-04-06T16:47:23.337180Z",
     "start_time": "2021-04-06T16:47:22.102759Z"
    }
   },
   "outputs": [
    {
     "name": "stdout",
     "output_type": "stream",
     "text": [
      "PSZ2\n",
      "MCXC\n",
      "RM\n",
      "ACT\n",
      "Abell\n"
     ]
    },
    {
     "data": {
      "image/png": "[encoded data removed]",
      "text/plain": [
       "<Figure size 1800x360 with 5 Axes>"
      ]
     },
     "metadata": {
      "needs_background": "light"
     },
     "output_type": "display_data"
    }
   ],
   "source": [
    "_, ax = plt.subplots(1, len(true_cats), figsize=(len(true_cats) * 5, 5))\n",
    "for i, tr_cat in enumerate(true_cats):\n",
    "    name=os.path.splitext(os.path.basename(tr_cat))[0]\n",
    "    print(name)\n",
    "    match_one_by_one(ax[i], pd.read_csv(det_cat), pd.read_csv(tr_cat), name=name)\n",
    "    ax[i].set_xlabel(name)"
   ]
  },
  {
   "cell_type": "code",
   "execution_count": 19,
   "metadata": {
    "ExecuteTime": {
     "end_time": "2021-04-06T16:45:23.853496Z",
     "start_time": "2021-04-06T16:45:23.848276Z"
    }
   },
   "outputs": [
    {
     "data": {
      "text/plain": [
       "'None'"
      ]
     },
     "execution_count": 19,
     "metadata": {},
     "output_type": "execute_result"
    }
   ],
   "source": [
    "'{}'.format(None)"
   ]
  },
  {
   "cell_type": "code",
   "execution_count": 11,
   "metadata": {
    "ExecuteTime": {
     "end_time": "2021-04-07T16:00:18.964415Z",
     "start_time": "2021-04-07T16:00:18.948597Z"
    }
   },
   "outputs": [],
   "source": [
    "def match_one_by_one_constant_gt(ax, det_cat, true_cat, small_circle=400/3600, big_circle=1500/3600, name=None, filename=''):\n",
    "    \n",
    "    def func(angle1, angle2, det_cat, true_cat):\n",
    "        colored = []\n",
    "        tr = SkyCoord(ra=np.array(true_cat['RA'])*u.degree, dec=np.array(true_cat['DEC'])*u.degree, frame='icrs')\n",
    "\n",
    "        for i in tqdm(range(len(det_cat))):\n",
    "            det = SkyCoord(ra=det_cat.loc[i, 'RA']*u.degree, dec=det_cat.loc[i, 'DEC']*u.degree, frame='icrs')\n",
    "            sep = tr.separation(det).degree\n",
    "\n",
    "            count = np.count_nonzero(np.logical_and(angle1 < sep, sep <= angle2))\n",
    "            colored.extend(count * [det_cat.loc[i, 'max_pred']])\n",
    "\n",
    "        return colored \n",
    "    \n",
    "    filered = '/home/rt2122/Data/cur/redblue/const_gt/{}{}_red.npy'.format(name, filename)\n",
    "    fileblue = '/home/rt2122/Data/cur/redblue/const_gt/{}{}_blue.npy'.format(name, filename)\n",
    "\n",
    "    if os.path.isfile(filered):\n",
    "        red = np.load(filered)\n",
    "        blue = np.load(fileblue)\n",
    "    else:\n",
    "        red = func(0, small_circle, det_cat, true_cat)\n",
    "        blue = func(small_circle, big_circle, det_cat, true_cat)\n",
    "\n",
    "        if not (name is None):\n",
    "            np.save(filered, np.array(red))\n",
    "            np.save(fileblue, np.array(blue))\n",
    "    \n",
    "    make_histogram(ax, red, blue, 20, 'red', 'blue')"
   ]
  },
  {
   "cell_type": "code",
   "execution_count": 13,
   "metadata": {
    "ExecuteTime": {
     "end_time": "2021-04-07T16:01:00.788487Z",
     "start_time": "2021-04-07T16:00:49.081640Z"
    }
   },
   "outputs": [
    {
     "data": {
      "application/vnd.jupyter.widget-view+json": {
       "model_id": "f1bcb258206747499c745cd86d1946b3",
       "version_major": 2,
       "version_minor": 0
      },
      "text/plain": [
       "HBox(children=(FloatProgress(value=0.0, max=558.0), HTML(value='')))"
      ]
     },
     "metadata": {},
     "output_type": "display_data"
    },
    {
     "name": "stdout",
     "output_type": "stream",
     "text": [
      "\n"
     ]
    },
    {
     "data": {
      "application/vnd.jupyter.widget-view+json": {
       "model_id": "6f001d8cfde8479e9d31e6b83877563d",
       "version_major": 2,
       "version_minor": 0
      },
      "text/plain": [
       "HBox(children=(FloatProgress(value=0.0, max=558.0), HTML(value='')))"
      ]
     },
     "metadata": {},
     "output_type": "display_data"
    },
    {
     "name": "stdout",
     "output_type": "stream",
     "text": [
      "\n"
     ]
    },
    {
     "data": {
      "application/vnd.jupyter.widget-view+json": {
       "model_id": "5294d5a78b92468ea98f44ee02dfbf2d",
       "version_major": 2,
       "version_minor": 0
      },
      "text/plain": [
       "HBox(children=(FloatProgress(value=0.0, max=558.0), HTML(value='')))"
      ]
     },
     "metadata": {},
     "output_type": "display_data"
    },
    {
     "name": "stdout",
     "output_type": "stream",
     "text": [
      "\n"
     ]
    },
    {
     "data": {
      "application/vnd.jupyter.widget-view+json": {
       "model_id": "9599c987af924ed48d9b994c2bafd443",
       "version_major": 2,
       "version_minor": 0
      },
      "text/plain": [
       "HBox(children=(FloatProgress(value=0.0, max=558.0), HTML(value='')))"
      ]
     },
     "metadata": {},
     "output_type": "display_data"
    },
    {
     "name": "stdout",
     "output_type": "stream",
     "text": [
      "\n"
     ]
    },
    {
     "data": {
      "application/vnd.jupyter.widget-view+json": {
       "model_id": "2fda6b5ce0484bf480e5860c8057bf37",
       "version_major": 2,
       "version_minor": 0
      },
      "text/plain": [
       "HBox(children=(FloatProgress(value=0.0, max=558.0), HTML(value='')))"
      ]
     },
     "metadata": {},
     "output_type": "display_data"
    },
    {
     "name": "stdout",
     "output_type": "stream",
     "text": [
      "\n"
     ]
    },
    {
     "data": {
      "application/vnd.jupyter.widget-view+json": {
       "model_id": "41634e7084b44faf83d0647a554244c6",
       "version_major": 2,
       "version_minor": 0
      },
      "text/plain": [
       "HBox(children=(FloatProgress(value=0.0, max=558.0), HTML(value='')))"
      ]
     },
     "metadata": {},
     "output_type": "display_data"
    },
    {
     "name": "stdout",
     "output_type": "stream",
     "text": [
      "\n"
     ]
    },
    {
     "data": {
      "application/vnd.jupyter.widget-view+json": {
       "model_id": "0becebc5ad9746798f1b16073e5f05ab",
       "version_major": 2,
       "version_minor": 0
      },
      "text/plain": [
       "HBox(children=(FloatProgress(value=0.0, max=558.0), HTML(value='')))"
      ]
     },
     "metadata": {},
     "output_type": "display_data"
    },
    {
     "name": "stdout",
     "output_type": "stream",
     "text": [
      "\n"
     ]
    },
    {
     "data": {
      "application/vnd.jupyter.widget-view+json": {
       "model_id": "c3c0df8993414301861124d0309b5c6e",
       "version_major": 2,
       "version_minor": 0
      },
      "text/plain": [
       "HBox(children=(FloatProgress(value=0.0, max=558.0), HTML(value='')))"
      ]
     },
     "metadata": {},
     "output_type": "display_data"
    },
    {
     "name": "stdout",
     "output_type": "stream",
     "text": [
      "\n"
     ]
    },
    {
     "data": {
      "application/vnd.jupyter.widget-view+json": {
       "model_id": "bf7b684ee1234a3aa1992d39adb6d01e",
       "version_major": 2,
       "version_minor": 0
      },
      "text/plain": [
       "HBox(children=(FloatProgress(value=0.0, max=558.0), HTML(value='')))"
      ]
     },
     "metadata": {},
     "output_type": "display_data"
    },
    {
     "name": "stdout",
     "output_type": "stream",
     "text": [
      "\n"
     ]
    },
    {
     "data": {
      "application/vnd.jupyter.widget-view+json": {
       "model_id": "251f231e67724648847e10b092321ab1",
       "version_major": 2,
       "version_minor": 0
      },
      "text/plain": [
       "HBox(children=(FloatProgress(value=0.0, max=558.0), HTML(value='')))"
      ]
     },
     "metadata": {},
     "output_type": "display_data"
    },
    {
     "name": "stdout",
     "output_type": "stream",
     "text": [
      "\n"
     ]
    },
    {
     "data": {
      "image/png": "[encoded data removed]",
      "text/plain": [
       "<Figure size 1800x360 with 5 Axes>"
      ]
     },
     "metadata": {
      "needs_background": "light"
     },
     "output_type": "display_data"
    }
   ],
   "source": [
    "_, ax = plt.subplots(1, len(true_cats), figsize=(len(true_cats) * 5, 5))\n",
    "for i, tr_cat in enumerate(true_cats):\n",
    "    name=os.path.splitext(os.path.basename(tr_cat))[0]\n",
    "    match_one_by_one_constant_gt(ax[i], cut_cat(pd.read_csv(det_cat), big_pix = 38), \n",
    "                     cut_cat(pd.read_csv(tr_cat), big_pix = 38), name=name, filename='38')\n",
    "    ax[i].set_xlabel(name)"
   ]
  },
  {
   "cell_type": "code",
   "execution_count": 14,
   "metadata": {
    "ExecuteTime": {
     "end_time": "2021-04-07T16:12:17.551756Z",
     "start_time": "2021-04-07T16:01:35.749148Z"
    }
   },
   "outputs": [
    {
     "data": {
      "application/vnd.jupyter.widget-view+json": {
       "model_id": "138c5a2f666d47508194b2d1458bcf1a",
       "version_major": 2,
       "version_minor": 0
      },
      "text/plain": [
       "HBox(children=(FloatProgress(value=0.0, max=23352.0), HTML(value='')))"
      ]
     },
     "metadata": {},
     "output_type": "display_data"
    },
    {
     "name": "stdout",
     "output_type": "stream",
     "text": [
      "\n"
     ]
    },
    {
     "data": {
      "application/vnd.jupyter.widget-view+json": {
       "model_id": "c32f903be0a74dbd815a45e41f577955",
       "version_major": 2,
       "version_minor": 0
      },
      "text/plain": [
       "HBox(children=(FloatProgress(value=0.0, max=23352.0), HTML(value='')))"
      ]
     },
     "metadata": {},
     "output_type": "display_data"
    },
    {
     "name": "stdout",
     "output_type": "stream",
     "text": [
      "\n"
     ]
    },
    {
     "data": {
      "application/vnd.jupyter.widget-view+json": {
       "model_id": "49aeb0f119af4de98c5603d4506712c8",
       "version_major": 2,
       "version_minor": 0
      },
      "text/plain": [
       "HBox(children=(FloatProgress(value=0.0, max=23352.0), HTML(value='')))"
      ]
     },
     "metadata": {},
     "output_type": "display_data"
    },
    {
     "name": "stdout",
     "output_type": "stream",
     "text": [
      "\n"
     ]
    },
    {
     "data": {
      "application/vnd.jupyter.widget-view+json": {
       "model_id": "38e108bf2e2e4f57881ffb53bfa5a679",
       "version_major": 2,
       "version_minor": 0
      },
      "text/plain": [
       "HBox(children=(FloatProgress(value=0.0, max=23352.0), HTML(value='')))"
      ]
     },
     "metadata": {},
     "output_type": "display_data"
    },
    {
     "name": "stdout",
     "output_type": "stream",
     "text": [
      "\n"
     ]
    },
    {
     "data": {
      "application/vnd.jupyter.widget-view+json": {
       "model_id": "e4f9c961ac7b4b30adba05eb68e3afe3",
       "version_major": 2,
       "version_minor": 0
      },
      "text/plain": [
       "HBox(children=(FloatProgress(value=0.0, max=23352.0), HTML(value='')))"
      ]
     },
     "metadata": {},
     "output_type": "display_data"
    },
    {
     "name": "stdout",
     "output_type": "stream",
     "text": [
      "\n"
     ]
    },
    {
     "data": {
      "application/vnd.jupyter.widget-view+json": {
       "model_id": "f9dc0ae1cdde4a7dbef014ac603d9166",
       "version_major": 2,
       "version_minor": 0
      },
      "text/plain": [
       "HBox(children=(FloatProgress(value=0.0, max=23352.0), HTML(value='')))"
      ]
     },
     "metadata": {},
     "output_type": "display_data"
    },
    {
     "name": "stdout",
     "output_type": "stream",
     "text": [
      "\n"
     ]
    },
    {
     "data": {
      "application/vnd.jupyter.widget-view+json": {
       "model_id": "1156214d3143498f8d860672e7463c0d",
       "version_major": 2,
       "version_minor": 0
      },
      "text/plain": [
       "HBox(children=(FloatProgress(value=0.0, max=23352.0), HTML(value='')))"
      ]
     },
     "metadata": {},
     "output_type": "display_data"
    },
    {
     "name": "stdout",
     "output_type": "stream",
     "text": [
      "\n"
     ]
    },
    {
     "data": {
      "application/vnd.jupyter.widget-view+json": {
       "model_id": "ad659dbb08ad4cde8364c716ab1f51bb",
       "version_major": 2,
       "version_minor": 0
      },
      "text/plain": [
       "HBox(children=(FloatProgress(value=0.0, max=23352.0), HTML(value='')))"
      ]
     },
     "metadata": {},
     "output_type": "display_data"
    },
    {
     "name": "stdout",
     "output_type": "stream",
     "text": [
      "\n"
     ]
    },
    {
     "data": {
      "application/vnd.jupyter.widget-view+json": {
       "model_id": "8709e53250ae4a209782407db4f71987",
       "version_major": 2,
       "version_minor": 0
      },
      "text/plain": [
       "HBox(children=(FloatProgress(value=0.0, max=23352.0), HTML(value='')))"
      ]
     },
     "metadata": {},
     "output_type": "display_data"
    },
    {
     "name": "stdout",
     "output_type": "stream",
     "text": [
      "\n"
     ]
    },
    {
     "data": {
      "application/vnd.jupyter.widget-view+json": {
       "model_id": "723156bc9bf444939fb37c3bb769cb51",
       "version_major": 2,
       "version_minor": 0
      },
      "text/plain": [
       "HBox(children=(FloatProgress(value=0.0, max=23352.0), HTML(value='')))"
      ]
     },
     "metadata": {},
     "output_type": "display_data"
    },
    {
     "name": "stdout",
     "output_type": "stream",
     "text": [
      "\n"
     ]
    },
    {
     "data": {
      "image/png": "[encoded data removed]",
      "text/plain": [
       "<Figure size 1800x360 with 5 Axes>"
      ]
     },
     "metadata": {
      "needs_background": "light"
     },
     "output_type": "display_data"
    }
   ],
   "source": [
    "_, ax = plt.subplots(1, len(true_cats), figsize=(len(true_cats) * 5, 5))\n",
    "for i, tr_cat in enumerate(true_cats):\n",
    "    name=os.path.splitext(os.path.basename(tr_cat))[0]\n",
    "    match_one_by_one_constant_gt(ax[i], pd.read_csv(det_cat), \n",
    "                     pd.read_csv(tr_cat), name=name, filename='')\n",
    "    ax[i].set_xlabel(name)"
   ]
  },
  {
   "cell_type": "code",
   "execution_count": null,
   "metadata": {},
   "outputs": [],
   "source": []
  }
 ],
 "metadata": {
  "kernelspec": {
   "display_name": "Python 3",
   "language": "python",
   "name": "python3"
  },
  "language_info": {
   "codemirror_mode": {
    "name": "ipython",
    "version": 3
   },
   "file_extension": ".py",
   "mimetype": "text/x-python",
   "name": "python",
   "nbconvert_exporter": "python",
   "pygments_lexer": "ipython3",
   "version": "3.8.3"
  }
 },
 "nbformat": 4,
 "nbformat_minor": 4
}
