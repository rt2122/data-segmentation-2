{
 "cells": [
  {
   "cell_type": "code",
   "execution_count": 1,
   "metadata": {
    "ExecuteTime": {
     "end_time": "2020-12-08T08:37:21.403429Z",
     "start_time": "2020-12-08T08:37:20.522716Z"
    }
   },
   "outputs": [],
   "source": [
    "import numpy as np\n",
    "import pandas as pd\n",
    "import os\n",
    "from matplotlib import pyplot as plt\n",
    "from DS_Planck_Unet import *\n",
    "from DS_detector import *\n",
    "from tqdm.notebook import tqdm\n",
    "from DS_data_transformation import get_prm"
   ]
  },
  {
   "cell_type": "code",
   "execution_count": 2,
   "metadata": {
    "ExecuteTime": {
     "end_time": "2020-12-08T08:37:23.355250Z",
     "start_time": "2020-12-08T08:37:23.349866Z"
    }
   },
   "outputs": [],
   "source": [
    "model_files = {'pz' : \n",
    "               '/home/rt2122/Models/planck_z/f8d2.ep0015-vl0.006127-l0.003979.hdf5',\n",
    "               'pz_act' :\n",
    "               '/home/rt2122/Models/act_ros/act_ros.ep0014-vl0.035122-l0.028428.hdf5'}"
   ]
  },
  {
   "cell_type": "code",
   "execution_count": 4,
   "metadata": {
    "ExecuteTime": {
     "end_time": "2020-12-08T09:55:41.648316Z",
     "start_time": "2020-12-08T08:40:10.855215Z"
    }
   },
   "outputs": [
    {
     "data": {
      "application/vnd.jupyter.widget-view+json": {
       "model_id": "49a59c16670f4c59b9ddea9b99837f6a",
       "version_major": 2,
       "version_minor": 0
      },
      "text/plain": [
       "HBox(children=(FloatProgress(value=0.0, max=7.0), HTML(value='')))"
      ]
     },
     "metadata": {},
     "output_type": "display_data"
    },
    {
     "name": "stderr",
     "output_type": "stream",
     "text": [
      "/home/rt2122/anaconda3/lib/python3.8/site-packages/pandas/core/indexing.py:671: SettingWithCopyWarning: \n",
      "A value is trying to be set on a copy of a slice from a DataFrame\n",
      "\n",
      "See the caveats in the documentation: https://pandas.pydata.org/pandas-docs/stable/user_guide/indexing.html#returning-a-view-versus-a-copy\n",
      "  self._setitem_with_indexer(indexer, value)\n"
     ]
    },
    {
     "name": "stdout",
     "output_type": "stream",
     "text": [
      "\n"
     ]
    },
    {
     "data": {
      "application/vnd.jupyter.widget-view+json": {
       "model_id": "4009004a9a6044a9ae6b2b62150c8e4d",
       "version_major": 2,
       "version_minor": 0
      },
      "text/plain": [
       "HBox(children=(FloatProgress(value=0.0, max=7.0), HTML(value='')))"
      ]
     },
     "metadata": {},
     "output_type": "display_data"
    },
    {
     "name": "stdout",
     "output_type": "stream",
     "text": [
      "\n"
     ]
    }
   ],
   "source": [
    "model_dict = {}\n",
    "for name in model_files:\n",
    "    model = load_planck_model(model_files[name])\n",
    "    step_dict = {}\n",
    "    for step in tqdm(range(15, 8, -1)):\n",
    "        step_dict[step] = []\n",
    "        for i in val_pix:\n",
    "            all_dict = gen_pics_for_detection(i, model, step=step)\n",
    "            step_dict[step].append(\n",
    "                detect_clusters_connected(all_dict, thr=0.1, ipix=i))\n",
    "        step_dict[step] = pd.concat(step_dict[step], ignore_index=True)\n",
    "        step_dict[step].to_csv(\n",
    "            '/home/rt2122/Data/cur/st{step}_mod-{model}.csv'.format(step=step, \n",
    "                                                                    model=name),\n",
    "                            index=False)\n",
    "    model_dict[name] = step_dict"
   ]
  },
  {
   "cell_type": "code",
   "execution_count": 17,
   "metadata": {
    "ExecuteTime": {
     "end_time": "2020-12-08T11:11:47.250942Z",
     "start_time": "2020-12-08T11:11:47.240455Z"
    }
   },
   "outputs": [
    {
     "data": {
      "text/plain": [
       "['st56_mod-pz.csv',\n",
       " 'st14_mod-pz.csv',\n",
       " 'st11_mod-pz.csv',\n",
       " 'st64_mod-pz_act.csv',\n",
       " 'st32_mod-pz_act.csv',\n",
       " 'st56_mod-pz_act.csv',\n",
       " 'st16_mod-pz.csv',\n",
       " 'st15_mod-pz_act.csv',\n",
       " 'st24_mod-pz_act.csv',\n",
       " 'st40_mod-pz_act.csv',\n",
       " 'st12_mod-pz_act.csv',\n",
       " 'st48_mod-pz_act.csv',\n",
       " 'st32_mod-pz.csv',\n",
       " 'st12_mod-pz.csv',\n",
       " 'st15_mod-pz.csv',\n",
       " 'st40_mod-pz.csv',\n",
       " 'st13_mod-pz_act.csv',\n",
       " 'st14_mod-pz_act.csv',\n",
       " 'st64_mod-pz.csv',\n",
       " 'st8_mod-pz.csv',\n",
       " 'st13_mod-pz.csv',\n",
       " 'st10_mod-pz_act.csv',\n",
       " 'st24_mod-pz.csv',\n",
       " 'st10_mod-pz.csv',\n",
       " 'st16_mod-pz_act.csv',\n",
       " 'st11_mod-pz_act.csv',\n",
       " 'st9_mod-pz_act.csv',\n",
       " 'st8_mod-pz_act.csv',\n",
       " 'st48_mod-pz.csv',\n",
       " 'st9_mod-pz.csv']"
      ]
     },
     "execution_count": 17,
     "metadata": {},
     "output_type": "execute_result"
    }
   ],
   "source": [
    "dirname = '/home/rt2122/Data/cur/step_comp/'\n",
    "files = list(filter(lambda x:x[:2] == 'st', next(os.walk(dirname))[-1]))\n",
    "files"
   ]
  },
  {
   "cell_type": "code",
   "execution_count": 24,
   "metadata": {
    "ExecuteTime": {
     "end_time": "2020-12-08T11:13:04.515175Z",
     "start_time": "2020-12-08T11:13:04.361866Z"
    }
   },
   "outputs": [],
   "source": [
    "model_dict = {'pz' : {}, 'pz_act' : {}}\n",
    "for file in files:\n",
    "    step = int(get_prm('st', file))\n",
    "    model = get_prm('mod-', file, '[a-z,_]')\n",
    "    model_dict[model][step] = pd.read_csv(os.path.join(dirname, file))"
   ]
  },
  {
   "cell_type": "code",
   "execution_count": 25,
   "metadata": {
    "ExecuteTime": {
     "end_time": "2020-12-08T11:13:05.271670Z",
     "start_time": "2020-12-08T11:13:05.074052Z"
    }
   },
   "outputs": [],
   "source": [
    "dfs = {}\n",
    "for model in ['pz', 'pz_act']:\n",
    "    dfs[model] = []\n",
    "    for step in model_dict[model]:\n",
    "        line = {}\n",
    "        for cat in ['planck_z', 'planck_no_z', 'mcxcwp', 'act']:\n",
    "            df = model_dict[model][step]\n",
    "            df = df[df['catalog'] == cat]\n",
    "            line[cat] = np.count_nonzero(df['status'] == 'tp') / len(df)\n",
    "        line['fp'] = np.count_nonzero(model_dict[model][step]['status'] == 'fp')\n",
    "        dfs[model].append(pd.DataFrame(line, index=[step]))\n",
    "    dfs[model] = pd.concat(dfs[model])\n",
    "    dfs[model] = dfs[model].sort_index(axis=0)"
   ]
  },
  {
   "cell_type": "code",
   "execution_count": 28,
   "metadata": {
    "ExecuteTime": {
     "end_time": "2020-12-08T11:13:19.852779Z",
     "start_time": "2020-12-08T11:13:19.830339Z"
    }
   },
   "outputs": [
    {
     "data": {
      "text/html": [
       "<div>\n",
       "<style scoped>\n",
       "    .dataframe tbody tr th:only-of-type {\n",
       "        vertical-align: middle;\n",
       "    }\n",
       "\n",
       "    .dataframe tbody tr th {\n",
       "        vertical-align: top;\n",
       "    }\n",
       "\n",
       "    .dataframe thead th {\n",
       "        text-align: right;\n",
       "    }\n",
       "</style>\n",
       "<table border=\"1\" class=\"dataframe\">\n",
       "  <thead>\n",
       "    <tr style=\"text-align: right;\">\n",
       "      <th></th>\n",
       "      <th>planck_z</th>\n",
       "      <th>planck_no_z</th>\n",
       "      <th>mcxcwp</th>\n",
       "      <th>act</th>\n",
       "      <th>fp</th>\n",
       "    </tr>\n",
       "  </thead>\n",
       "  <tbody>\n",
       "    <tr>\n",
       "      <th>8</th>\n",
       "      <td>0.939394</td>\n",
       "      <td>0.821429</td>\n",
       "      <td>0.174757</td>\n",
       "      <td>0.130435</td>\n",
       "      <td>1036</td>\n",
       "    </tr>\n",
       "    <tr>\n",
       "      <th>9</th>\n",
       "      <td>0.931818</td>\n",
       "      <td>0.821429</td>\n",
       "      <td>0.194175</td>\n",
       "      <td>0.132325</td>\n",
       "      <td>1053</td>\n",
       "    </tr>\n",
       "    <tr>\n",
       "      <th>10</th>\n",
       "      <td>0.931818</td>\n",
       "      <td>0.785714</td>\n",
       "      <td>0.184466</td>\n",
       "      <td>0.134216</td>\n",
       "      <td>1047</td>\n",
       "    </tr>\n",
       "    <tr>\n",
       "      <th>11</th>\n",
       "      <td>0.946970</td>\n",
       "      <td>0.785714</td>\n",
       "      <td>0.165049</td>\n",
       "      <td>0.137996</td>\n",
       "      <td>1068</td>\n",
       "    </tr>\n",
       "    <tr>\n",
       "      <th>12</th>\n",
       "      <td>0.939394</td>\n",
       "      <td>0.821429</td>\n",
       "      <td>0.184466</td>\n",
       "      <td>0.134216</td>\n",
       "      <td>1063</td>\n",
       "    </tr>\n",
       "    <tr>\n",
       "      <th>13</th>\n",
       "      <td>0.946970</td>\n",
       "      <td>0.821429</td>\n",
       "      <td>0.174757</td>\n",
       "      <td>0.141777</td>\n",
       "      <td>1085</td>\n",
       "    </tr>\n",
       "    <tr>\n",
       "      <th>14</th>\n",
       "      <td>0.939394</td>\n",
       "      <td>0.785714</td>\n",
       "      <td>0.165049</td>\n",
       "      <td>0.126654</td>\n",
       "      <td>1107</td>\n",
       "    </tr>\n",
       "    <tr>\n",
       "      <th>15</th>\n",
       "      <td>0.939394</td>\n",
       "      <td>0.821429</td>\n",
       "      <td>0.184466</td>\n",
       "      <td>0.132325</td>\n",
       "      <td>1052</td>\n",
       "    </tr>\n",
       "    <tr>\n",
       "      <th>16</th>\n",
       "      <td>0.939394</td>\n",
       "      <td>0.821429</td>\n",
       "      <td>0.174757</td>\n",
       "      <td>0.126654</td>\n",
       "      <td>1137</td>\n",
       "    </tr>\n",
       "    <tr>\n",
       "      <th>24</th>\n",
       "      <td>0.939394</td>\n",
       "      <td>0.750000</td>\n",
       "      <td>0.184466</td>\n",
       "      <td>0.134216</td>\n",
       "      <td>1107</td>\n",
       "    </tr>\n",
       "    <tr>\n",
       "      <th>32</th>\n",
       "      <td>0.939394</td>\n",
       "      <td>0.821429</td>\n",
       "      <td>0.174757</td>\n",
       "      <td>0.128544</td>\n",
       "      <td>1134</td>\n",
       "    </tr>\n",
       "    <tr>\n",
       "      <th>40</th>\n",
       "      <td>0.931818</td>\n",
       "      <td>0.714286</td>\n",
       "      <td>0.155340</td>\n",
       "      <td>0.134216</td>\n",
       "      <td>1067</td>\n",
       "    </tr>\n",
       "    <tr>\n",
       "      <th>48</th>\n",
       "      <td>0.924242</td>\n",
       "      <td>0.785714</td>\n",
       "      <td>0.184466</td>\n",
       "      <td>0.119093</td>\n",
       "      <td>1031</td>\n",
       "    </tr>\n",
       "    <tr>\n",
       "      <th>56</th>\n",
       "      <td>0.924242</td>\n",
       "      <td>0.642857</td>\n",
       "      <td>0.135922</td>\n",
       "      <td>0.113422</td>\n",
       "      <td>957</td>\n",
       "    </tr>\n",
       "    <tr>\n",
       "      <th>64</th>\n",
       "      <td>0.909091</td>\n",
       "      <td>0.714286</td>\n",
       "      <td>0.126214</td>\n",
       "      <td>0.103970</td>\n",
       "      <td>1049</td>\n",
       "    </tr>\n",
       "  </tbody>\n",
       "</table>\n",
       "</div>"
      ],
      "text/plain": [
       "    planck_z  planck_no_z    mcxcwp       act    fp\n",
       "8   0.939394     0.821429  0.174757  0.130435  1036\n",
       "9   0.931818     0.821429  0.194175  0.132325  1053\n",
       "10  0.931818     0.785714  0.184466  0.134216  1047\n",
       "11  0.946970     0.785714  0.165049  0.137996  1068\n",
       "12  0.939394     0.821429  0.184466  0.134216  1063\n",
       "13  0.946970     0.821429  0.174757  0.141777  1085\n",
       "14  0.939394     0.785714  0.165049  0.126654  1107\n",
       "15  0.939394     0.821429  0.184466  0.132325  1052\n",
       "16  0.939394     0.821429  0.174757  0.126654  1137\n",
       "24  0.939394     0.750000  0.184466  0.134216  1107\n",
       "32  0.939394     0.821429  0.174757  0.128544  1134\n",
       "40  0.931818     0.714286  0.155340  0.134216  1067\n",
       "48  0.924242     0.785714  0.184466  0.119093  1031\n",
       "56  0.924242     0.642857  0.135922  0.113422   957\n",
       "64  0.909091     0.714286  0.126214  0.103970  1049"
      ]
     },
     "execution_count": 28,
     "metadata": {},
     "output_type": "execute_result"
    }
   ],
   "source": [
    "dfs['pz']"
   ]
  },
  {
   "cell_type": "code",
   "execution_count": 31,
   "metadata": {
    "ExecuteTime": {
     "end_time": "2020-12-08T11:14:03.711498Z",
     "start_time": "2020-12-08T11:14:03.704633Z"
    }
   },
   "outputs": [],
   "source": [
    "dfs['pz'] = dfs['pz'].iloc[:9]\n",
    "dfs['pz_act'] = dfs['pz_act'].iloc[:9]"
   ]
  },
  {
   "cell_type": "code",
   "execution_count": 32,
   "metadata": {
    "ExecuteTime": {
     "end_time": "2020-12-08T11:14:04.939379Z",
     "start_time": "2020-12-08T11:14:04.690466Z"
    }
   },
   "outputs": [
    {
     "data": {
      "image/png": "[encoded data removed]",
      "text/plain": [
       "<Figure size 1152x360 with 2 Axes>"
      ]
     },
     "metadata": {
      "needs_background": "light"
     },
     "output_type": "display_data"
    }
   ],
   "source": [
    "_, ax = plt.subplots(1, 2, figsize=(16, 5))\n",
    "for i, model in enumerate(['pz', 'pz_act']):\n",
    "    df = dfs[model]\n",
    "    for cat, c in zip(['planck_z', 'planck_no_z', 'mcxcwp', 'act'], 'bgrc'):\n",
    "        line, = ax[i].plot(df.index, df[cat], c+'o-')\n",
    "        line.set_label(cat)\n",
    "    ax[i].set_xticks(df.index)\n",
    "    ax[i].set_yticks(np.arange(0, 1.1, 0.1))\n",
    "    ax[i].grid()\n",
    "    ax[i].text(15, 0.3, model+'_model val_pix')\n",
    "    ax[i].invert_xaxis()\n",
    "    ax[i].set_xlabel('step')\n",
    "    ax[i].legend()"
   ]
  },
  {
   "cell_type": "code",
   "execution_count": 33,
   "metadata": {
    "ExecuteTime": {
     "end_time": "2020-12-08T11:14:10.125548Z",
     "start_time": "2020-12-08T11:14:09.924564Z"
    }
   },
   "outputs": [
    {
     "data": {
      "image/png": "[encoded data removed]",
      "text/plain": [
       "<Figure size 1152x360 with 2 Axes>"
      ]
     },
     "metadata": {
      "needs_background": "light"
     },
     "output_type": "display_data"
    }
   ],
   "source": [
    "_, ax = plt.subplots(1, 2, figsize=(16, 5))\n",
    "for i, model in enumerate(['pz', 'pz_act']):\n",
    "    df = dfs[model]\n",
    "    line, = ax[i].plot(df.index, df['fp'], 'ko-')\n",
    "    line.set_label('fp')\n",
    "    ax[i].set_xticks(df.index)\n",
    "    ax[i].set_yticks(np.arange(500, 1300, 100))\n",
    "    ax[i].grid()\n",
    "    ax[i].text(15, 600, model+'_model val_pix')\n",
    "    ax[i].invert_xaxis()\n",
    "    ax[i].set_xlabel('step')\n",
    "    ax[i].legend()"
   ]
  },
  {
   "cell_type": "code",
   "execution_count": null,
   "metadata": {},
   "outputs": [],
   "source": []
  }
 ],
 "metadata": {
  "kernelspec": {
   "display_name": "Python 3",
   "language": "python",
   "name": "python3"
  },
  "language_info": {
   "codemirror_mode": {
    "name": "ipython",
    "version": 3
   },
   "file_extension": ".py",
   "mimetype": "text/x-python",
   "name": "python",
   "nbconvert_exporter": "python",
   "pygments_lexer": "ipython3",
   "version": "3.8.3"
  }
 },
 "nbformat": 4,
 "nbformat_minor": 4
}
