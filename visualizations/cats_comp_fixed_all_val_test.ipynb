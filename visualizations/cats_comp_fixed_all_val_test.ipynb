{
 "cells": [
  {
   "cell_type": "markdown",
   "metadata": {},
   "source": [
    "Пояснение по gen_table: параметр dict_cut выбирает, как обрезать каталоги.\n",
    "\n",
    "Например при dict_cut = {'z' : [0.1, 0.3]} в каталогах останутся только объекты с 0.1 =< z < 0.3. \n",
    "\n",
    "Для b используется модуль: dict_cut = {'b' : [20, np.inf]} оставит в каталогах объекты для которых |b| >= 20 "
   ]
  },
  {
   "cell_type": "code",
   "execution_count": 1,
   "metadata": {
    "ExecuteTime": {
     "end_time": "2020-12-15T13:20:59.506484Z",
     "start_time": "2020-12-15T13:20:58.798309Z"
    }
   },
   "outputs": [],
   "source": [
    "import numpy as np\n",
    "import pandas as pd\n",
    "import os\n",
    "from matplotlib import pyplot as plt\n",
    "from astropy.io import fits\n",
    "from astropy.table import Table\n",
    "from astropy.coordinates import SkyCoord\n",
    "from astropy import units as u\n",
    "from DS_healpix_fragmentation import radec2pix\n",
    "from DS_Planck_Unet import val_pix, test_pix, train_pix_act\n",
    "from DS_data_transformation import calc_error"
   ]
  },
  {
   "cell_type": "code",
   "execution_count": 2,
   "metadata": {
    "ExecuteTime": {
     "end_time": "2020-12-15T13:20:59.642036Z",
     "start_time": "2020-12-15T13:20:59.638807Z"
    }
   },
   "outputs": [],
   "source": [
    "def get_name(file):\n",
    "    if 'pz_act' in file:\n",
    "        return file[5:13]\n",
    "    return file[5:9]"
   ]
  },
  {
   "cell_type": "code",
   "execution_count": 3,
   "metadata": {
    "ExecuteTime": {
     "end_time": "2020-12-15T13:21:00.148116Z",
     "start_time": "2020-12-15T13:21:00.131905Z"
    }
   },
   "outputs": [],
   "source": [
    "def cut_cat(df, dict_cut = {'z' : [-np.inf, np.inf], 'M500' : [-np.inf, np.inf], 'b' :[-np.inf, np.inf]}, \n",
    "           big_pix=None):\n",
    " \n",
    "    sc = SkyCoord(ra=np.array(df['RA'])*u.degree, \n",
    "                  dec=np.array(df['DEC'])*u.degree, frame='icrs')\n",
    "    df['b'] = sc.galactic.b.degree\n",
    "    for prm in dict_cut:\n",
    "        if prm == 'b':\n",
    "            df = df[np.abs(df[prm]) >= dict_cut[prm][0]]\n",
    "            df = df[np.abs(df[prm]) < dict_cut[prm][1]]\n",
    "            df.index = np.arange(len(df))\n",
    "        else: \n",
    "            df = df[df[prm] >= dict_cut[prm][0]]\n",
    "            df = df[df[prm] < dict_cut[prm][1]]\n",
    "            df.index = np.arange(len(df))\n",
    "    \n",
    "    if not (big_pix is None):\n",
    "        pix2 = radec2pix(df['RA'], df['DEC'], 2)\n",
    "        df = df[np.in1d(pix2, big_pix)]\n",
    "        df.index = np.arange(len(df))\n",
    "    \n",
    "    return df"
   ]
  },
  {
   "cell_type": "code",
   "execution_count": 4,
   "metadata": {
    "ExecuteTime": {
     "end_time": "2020-12-15T13:21:01.224034Z",
     "start_time": "2020-12-15T13:21:01.202980Z"
    }
   },
   "outputs": [],
   "source": [
    "def gen_tables(det_cats_files, true_cats_files, dict_cut = {'z' : [-np.inf, np.inf], 'M500' : [-np.inf, np.inf], \n",
    "                        'b' :[-np.inf, np.inf]}, big_pix = None, match_dist=5/60, n_try=200):\n",
    "    \n",
    "    true_cats = {os.path.splitext(os.path.basename(file))[0] : pd.read_csv(file) for file in true_cats_files}\n",
    "    det_cats = {get_name(os.path.splitext(os.path.basename(file))[0]) : \n",
    "                pd.read_csv(file) for file in det_cats_files}\n",
    "    \n",
    "    comp_df = []\n",
    "    recall_df = []\n",
    "    \n",
    "    for name in det_cats:\n",
    "        df = det_cats[name]\n",
    "        df = df[df['status'] != 'fn']\n",
    "        df.index = np.arange(len(df))\n",
    "        if 'b' in dict_cut:\n",
    "            det_cats[name] = cut_cat(df, {'b' : dict_cut['b']}, big_pix)\n",
    "        else:\n",
    "            det_cats[name] = cut_cat(df, {}, big_pix)\n",
    "    for name in true_cats:\n",
    "        true_cats[name] = cut_cat(true_cats[name], dict_cut, big_pix)\n",
    "    \n",
    "    for det_name in det_cats:\n",
    "        det = det_cats[det_name]\n",
    "        line = {}\n",
    "        line_r = {}\n",
    "\n",
    "        det_sc = SkyCoord(ra=np.array(det['RA'])*u.degree, \n",
    "                      dec=np.array(det['DEC'])*u.degree, frame='icrs') \n",
    "\n",
    "        for tr_name in true_cats: \n",
    "            tr = true_cats[tr_name]\n",
    "            tr_sc = SkyCoord(ra=np.array(tr['RA'])*u.degree, \n",
    "                          dec=np.array(tr['DEC'])*u.degree, frame='icrs')\n",
    "            \n",
    "            idx, d2d, _ = tr_sc.match_to_catalog_sky(det_sc)\n",
    "            matched = d2d.degree <= match_dist\n",
    "            \n",
    "            line[tr_name] = np.count_nonzero(matched)\n",
    "            line[tr_name+'_err'], line[tr_name+'_std'] = calc_error(det, tr, n_try=n_try)\n",
    "\n",
    "            line_r[tr_name] = line[tr_name] / len(tr)\n",
    "            \n",
    "        line['all'] = len(det)\n",
    "        line['fp'] = np.count_nonzero(det['status'] == 'fp')\n",
    "        line_r['fp'] = line['fp']\n",
    "        line_r['all'] = line['all']\n",
    "        comp_df.append(pd.DataFrame(line, index=[det_name]))\n",
    "        recall_df.append(pd.DataFrame(line_r, index=[det_name]))\n",
    "        line = {}\n",
    "    \n",
    "    for tr_name in true_cats: \n",
    "        line[tr_name] = len(true_cats[tr_name])\n",
    "        line[tr_name+'_err'] = 0\n",
    "    line['fp'] = 0\n",
    "    line['all'] = 0\n",
    "    comp_df.append(pd.DataFrame(line, index=['all']))\n",
    "    \n",
    "    comp_df = pd.concat(comp_df)\n",
    "    recall_df = pd.concat(recall_df)\n",
    "    return comp_df, recall_df"
   ]
  },
  {
   "cell_type": "code",
   "execution_count": 19,
   "metadata": {
    "ExecuteTime": {
     "end_time": "2020-12-15T13:31:01.812591Z",
     "start_time": "2020-12-15T13:31:01.800560Z"
    }
   },
   "outputs": [],
   "source": [
    "def extr_one_model(comp, recall, model, line_name):\n",
    "    if model is None:\n",
    "        model = comp.index[0]\n",
    "    tr_cats = [name for name in list(recall) if not ('all' in name or 'fp' in name)]\n",
    "    line = {}\n",
    "    for name in tr_cats:\n",
    "        line[name] = '{:.2f}'.format(recall.loc[model, name])\n",
    "        line[name+'*'] = '{}/{}/{:.2f}'.format(\n",
    "            comp.loc[model, name], comp.loc['all', name], comp.loc[model, name+'_err'])\n",
    "    return pd.DataFrame(line, index=[line_name])"
   ]
  },
  {
   "cell_type": "code",
   "execution_count": 6,
   "metadata": {
    "ExecuteTime": {
     "end_time": "2020-12-15T13:21:06.796448Z",
     "start_time": "2020-12-15T13:21:06.787669Z"
    }
   },
   "outputs": [],
   "source": [
    "tr_dir = '/home/rt2122/Data/original_catalogs/csv/'\n",
    "true_cats_files = [os.path.join(tr_dir, name) for name in next(os.walk(tr_dir))[-1] if not ('RM' in name)]\n",
    "det_dir = '/home/rt2122/Data/detected_cats/'\n",
    "det_cats_files = [os.path.join(det_dir, name) for name in sorted(next(os.walk(det_dir))[-1]) if 'full' in name]"
   ]
  },
  {
   "cell_type": "code",
   "execution_count": 20,
   "metadata": {
    "ExecuteTime": {
     "end_time": "2020-12-15T13:31:38.467199Z",
     "start_time": "2020-12-15T13:31:02.899781Z"
    }
   },
   "outputs": [
    {
     "name": "stderr",
     "output_type": "stream",
     "text": [
      "<ipython-input-3-414464267a46>:6: SettingWithCopyWarning: \n",
      "A value is trying to be set on a copy of a slice from a DataFrame.\n",
      "Try using .loc[row_indexer,col_indexer] = value instead\n",
      "\n",
      "See the caveats in the documentation: https://pandas.pydata.org/pandas-docs/stable/user_guide/indexing.html#returning-a-view-versus-a-copy\n",
      "  df['b'] = sc.galactic.b.degree\n"
     ]
    },
    {
     "name": "stdout",
     "output_type": "stream",
     "text": [
      "\\begin{tabular}{lllllll}\n",
      "\\toprule\n",
      "{} &  PSZ2 &            PSZ2* &  MCXC &           MCXC* &   ACT &            ACT* \\\\\n",
      "\\midrule\n",
      "M500 > 5 &  0.99 &     411/417/4.04 &  0.88 &    107/121/1.10 &  0.92 &    140/153/1.50 \\\\\n",
      "M500 > 4 &  0.98 &     605/619/6.00 &  0.86 &    199/232/2.12 &  0.75 &    258/342/3.42 \\\\\n",
      "M500 > 3 &  0.97 &     753/775/7.35 &  0.82 &    309/378/3.35 &  0.48 &    465/975/9.71 \\\\\n",
      "all      &  0.91 &  1226/1342/12.09 &  0.40 &  647/1612/15.30 &  0.20 &  858/4195/42.53 \\\\\n",
      "\\bottomrule\n",
      "\\end{tabular}\n",
      "\n"
     ]
    }
   ],
   "source": [
    "m500_table1 = []\n",
    "cur_dcat = ['/home/rt2122/Data/detected_cats/full_pz14_thr0.1_step8.csv']\n",
    "for thr in [5, 4, 3, -np.inf]:\n",
    "    comp, recall = gen_tables(cur_dcat, true_cats_files, dict_cut={'b' : [20, np.inf], 'M500' : [thr, np.inf]})\n",
    "    name = 'M500 > {}'.format(thr)\n",
    "    if thr == -np.inf:\n",
    "        name = 'all'\n",
    "    line = extr_one_model(comp, recall, None, name)\n",
    "    m500_table1.append(line)\n",
    "m500_table1 = pd.concat(m500_table1)\n",
    "print(m500_table1.to_latex())"
   ]
  },
  {
   "cell_type": "code",
   "execution_count": 21,
   "metadata": {
    "ExecuteTime": {
     "end_time": "2020-12-15T13:32:05.671795Z",
     "start_time": "2020-12-15T13:31:38.468987Z"
    }
   },
   "outputs": [
    {
     "name": "stderr",
     "output_type": "stream",
     "text": [
      "<ipython-input-3-414464267a46>:6: SettingWithCopyWarning: \n",
      "A value is trying to be set on a copy of a slice from a DataFrame.\n",
      "Try using .loc[row_indexer,col_indexer] = value instead\n",
      "\n",
      "See the caveats in the documentation: https://pandas.pydata.org/pandas-docs/stable/user_guide/indexing.html#returning-a-view-versus-a-copy\n",
      "  df['b'] = sc.galactic.b.degree\n"
     ]
    },
    {
     "name": "stdout",
     "output_type": "stream",
     "text": [
      "\\begin{tabular}{lllllll}\n",
      "\\toprule\n",
      "{} &  PSZ2 &           PSZ2* &  MCXC &           MCXC* &   ACT &            ACT* \\\\\n",
      "\\midrule\n",
      "M500 > 5 &  0.95 &    397/417/2.71 &  0.88 &    107/121/0.84 &  0.86 &    132/153/1.09 \\\\\n",
      "M500 > 4 &  0.93 &    575/619/3.92 &  0.84 &    196/232/1.57 &  0.73 &    248/342/2.33 \\\\\n",
      "M500 > 3 &  0.91 &    709/775/4.80 &  0.78 &    295/378/2.49 &  0.48 &    470/975/6.57 \\\\\n",
      "all      &  0.85 &  1134/1342/7.93 &  0.37 &  599/1612/10.07 &  0.22 &  940/4195/30.53 \\\\\n",
      "\\bottomrule\n",
      "\\end{tabular}\n",
      "\n"
     ]
    }
   ],
   "source": [
    "m500_table2 = []\n",
    "cur_dcat = ['/home/rt2122/Data/detected_cats/full_pz_act10_thr0.1_step8.csv']\n",
    "for thr in [5, 4, 3, -np.inf]:\n",
    "    comp, recall = gen_tables(cur_dcat, true_cats_files, dict_cut={'b' : [20, np.inf], 'M500' : [thr, np.inf]})\n",
    "    name = 'M500 > {}'.format(thr)\n",
    "    if thr == -np.inf:\n",
    "        name = 'all'\n",
    "    line = extr_one_model(comp, recall, None, name)\n",
    "    m500_table2.append(line)\n",
    "m500_table2 = pd.concat(m500_table2)\n",
    "print(m500_table2.to_latex())"
   ]
  },
  {
   "cell_type": "code",
   "execution_count": 22,
   "metadata": {
    "ExecuteTime": {
     "end_time": "2020-12-15T13:33:02.451750Z",
     "start_time": "2020-12-15T13:32:50.323593Z"
    }
   },
   "outputs": [
    {
     "name": "stderr",
     "output_type": "stream",
     "text": [
      "<ipython-input-3-414464267a46>:6: SettingWithCopyWarning: \n",
      "A value is trying to be set on a copy of a slice from a DataFrame.\n",
      "Try using .loc[row_indexer,col_indexer] = value instead\n",
      "\n",
      "See the caveats in the documentation: https://pandas.pydata.org/pandas-docs/stable/user_guide/indexing.html#returning-a-view-versus-a-copy\n",
      "  df['b'] = sc.galactic.b.degree\n",
      "<ipython-input-3-414464267a46>:6: SettingWithCopyWarning: \n",
      "A value is trying to be set on a copy of a slice from a DataFrame.\n",
      "Try using .loc[row_indexer,col_indexer] = value instead\n",
      "\n",
      "See the caveats in the documentation: https://pandas.pydata.org/pandas-docs/stable/user_guide/indexing.html#returning-a-view-versus-a-copy\n",
      "  df['b'] = sc.galactic.b.degree\n"
     ]
    },
    {
     "name": "stdout",
     "output_type": "stream",
     "text": [
      "\\begin{tabular}{lllllll}\n",
      "\\toprule\n",
      "{} &  PSZ2 &         PSZ2* &  MCXC &        MCXC* &   ACT &          ACT* \\\\\n",
      "\\midrule\n",
      "M500 > 5 &  0.95 &    42/44/0.23 &  0.82 &    9/11/0.07 &  1.00 &    24/24/0.11 \\\\\n",
      "M500 > 4 &  0.96 &    72/75/0.35 &  0.84 &   16/19/0.10 &  0.78 &    36/46/0.17 \\\\\n",
      "M500 > 3 &  0.97 &    92/95/0.42 &  0.84 &   26/31/0.14 &  0.50 &   66/133/0.54 \\\\\n",
      "all      &  0.93 &  148/160/0.74 &  0.43 &  72/166/0.72 &  0.21 &  127/602/2.17 \\\\\n",
      "\\bottomrule\n",
      "\\end{tabular}\n",
      "\n"
     ]
    }
   ],
   "source": [
    "m500_table1_val = []\n",
    "cur_dcat = ['/home/rt2122/Data/detected_cats/full_pz14_thr0.1_step8.csv']\n",
    "for thr in [5, 4, 3, -np.inf]:\n",
    "    comp, recall = gen_tables(cur_dcat, true_cats_files, dict_cut={'b' : [20, np.inf], 'M500' : [thr, np.inf]},\n",
    "                             big_pix=val_pix)\n",
    "    name = 'M500 > {}'.format(thr)\n",
    "    if thr == -np.inf:\n",
    "        name = 'all'\n",
    "    line = extr_one_model(comp, recall, None, name)\n",
    "    m500_table1_val.append(line)\n",
    "m500_table1_val = pd.concat(m500_table1_val)\n",
    "print(m500_table1_val.to_latex())"
   ]
  },
  {
   "cell_type": "code",
   "execution_count": 24,
   "metadata": {
    "ExecuteTime": {
     "end_time": "2020-12-15T13:58:44.222251Z",
     "start_time": "2020-12-15T13:58:32.366539Z"
    }
   },
   "outputs": [
    {
     "name": "stderr",
     "output_type": "stream",
     "text": [
      "<ipython-input-3-414464267a46>:6: SettingWithCopyWarning: \n",
      "A value is trying to be set on a copy of a slice from a DataFrame.\n",
      "Try using .loc[row_indexer,col_indexer] = value instead\n",
      "\n",
      "See the caveats in the documentation: https://pandas.pydata.org/pandas-docs/stable/user_guide/indexing.html#returning-a-view-versus-a-copy\n",
      "  df['b'] = sc.galactic.b.degree\n"
     ]
    },
    {
     "name": "stdout",
     "output_type": "stream",
     "text": [
      "\\begin{tabular}{lllllll}\n",
      "\\toprule\n",
      "{} &  PSZ2 &         PSZ2* &  MCXC &        MCXC* &   ACT &         ACT* \\\\\n",
      "\\midrule\n",
      "M500 > 5 &  0.93 &    41/44/0.22 &  0.82 &    9/11/0.09 &  0.88 &   21/24/0.08 \\\\\n",
      "M500 > 4 &  0.93 &    70/75/0.32 &  0.79 &   15/19/0.12 &  0.63 &   29/46/0.13 \\\\\n",
      "M500 > 3 &  0.93 &    88/95/0.40 &  0.74 &   23/31/0.17 &  0.37 &  49/133/0.45 \\\\\n",
      "all      &  0.90 &  144/160/0.58 &  0.39 &  65/166/0.58 &  0.16 &  96/602/1.67 \\\\\n",
      "\\bottomrule\n",
      "\\end{tabular}\n",
      "\n"
     ]
    }
   ],
   "source": [
    "m500_table2_val = []\n",
    "cur_dcat = ['/home/rt2122/Data/detected_cats/full_pz_act10_thr0.1_step8.csv']\n",
    "for thr in [5, 4, 3, -np.inf]:\n",
    "    comp, recall = gen_tables(cur_dcat, true_cats_files, dict_cut={'b' : [20, np.inf], 'M500' : [thr, np.inf]},\n",
    "                             big_pix=val_pix)\n",
    "    name = 'M500 > {}'.format(thr)\n",
    "    if thr == -np.inf:\n",
    "        name = 'all'\n",
    "    line = extr_one_model(comp, recall, None, name)\n",
    "    m500_table2_val.append(line)\n",
    "m500_table2_val = pd.concat(m500_table2_val)\n",
    "print(m500_table2_val.to_latex())"
   ]
  },
  {
   "cell_type": "code",
   "execution_count": 36,
   "metadata": {
    "ExecuteTime": {
     "end_time": "2020-12-15T08:04:03.056560Z",
     "start_time": "2020-12-15T08:03:56.522252Z"
    }
   },
   "outputs": [
    {
     "name": "stderr",
     "output_type": "stream",
     "text": [
      "<ipython-input-3-414464267a46>:6: SettingWithCopyWarning: \n",
      "A value is trying to be set on a copy of a slice from a DataFrame.\n",
      "Try using .loc[row_indexer,col_indexer] = value instead\n",
      "\n",
      "See the caveats in the documentation: https://pandas.pydata.org/pandas-docs/stable/user_guide/indexing.html#returning-a-view-versus-a-copy\n",
      "  df['b'] = sc.galactic.b.degree\n"
     ]
    },
    {
     "data": {
      "text/html": [
       "<div>\n",
       "<style scoped>\n",
       "    .dataframe tbody tr th:only-of-type {\n",
       "        vertical-align: middle;\n",
       "    }\n",
       "\n",
       "    .dataframe tbody tr th {\n",
       "        vertical-align: top;\n",
       "    }\n",
       "\n",
       "    .dataframe thead th {\n",
       "        text-align: right;\n",
       "    }\n",
       "</style>\n",
       "<table border=\"1\" class=\"dataframe\">\n",
       "  <thead>\n",
       "    <tr style=\"text-align: right;\">\n",
       "      <th></th>\n",
       "      <th>PSZ2</th>\n",
       "      <th>PSZ2*</th>\n",
       "      <th>MCXC</th>\n",
       "      <th>MCXC*</th>\n",
       "    </tr>\n",
       "  </thead>\n",
       "  <tbody>\n",
       "    <tr>\n",
       "      <th>M500 &gt; 5</th>\n",
       "      <td>1.000000</td>\n",
       "      <td>9/9/0.01</td>\n",
       "      <td>1.000000</td>\n",
       "      <td>2/2/0.0</td>\n",
       "    </tr>\n",
       "    <tr>\n",
       "      <th>M500 &gt; 4</th>\n",
       "      <td>0.952381</td>\n",
       "      <td>20/21/0.065</td>\n",
       "      <td>0.909091</td>\n",
       "      <td>10/11/0.03</td>\n",
       "    </tr>\n",
       "    <tr>\n",
       "      <th>M500 &gt; 3</th>\n",
       "      <td>0.928571</td>\n",
       "      <td>26/28/0.085</td>\n",
       "      <td>0.857143</td>\n",
       "      <td>12/14/0.055</td>\n",
       "    </tr>\n",
       "    <tr>\n",
       "      <th>all</th>\n",
       "      <td>0.896552</td>\n",
       "      <td>52/58/0.18</td>\n",
       "      <td>0.328571</td>\n",
       "      <td>23/70/0.165</td>\n",
       "    </tr>\n",
       "  </tbody>\n",
       "</table>\n",
       "</div>"
      ],
      "text/plain": [
       "              PSZ2        PSZ2*      MCXC        MCXC*\n",
       "M500 > 5  1.000000     9/9/0.01  1.000000      2/2/0.0\n",
       "M500 > 4  0.952381  20/21/0.065  0.909091   10/11/0.03\n",
       "M500 > 3  0.928571  26/28/0.085  0.857143  12/14/0.055\n",
       "all       0.896552   52/58/0.18  0.328571  23/70/0.165"
      ]
     },
     "execution_count": 36,
     "metadata": {},
     "output_type": "execute_result"
    }
   ],
   "source": [
    "m500_table1_test = []\n",
    "cur_dcat = ['/home/rt2122/Data/detected_cats/full_pz14_thr0.1_step8.csv']\n",
    "cur_tcat = [name for name in true_cats_files if not ('ACT' in name)]\n",
    "for thr in [5, 4, 3, -np.inf]:\n",
    "    comp, recall = gen_tables(cur_dcat, cur_tcat, dict_cut={'b' : [20, np.inf], 'M500' : [thr, np.inf]},\n",
    "                             big_pix=test_pix)\n",
    "    name = 'M500 > {}'.format(thr)\n",
    "    if thr == -np.inf:\n",
    "        name = 'all'\n",
    "    line = extr_one_model(comp, recall, None, name)\n",
    "    m500_table1_test.append(line)\n",
    "m500_table1_test = pd.concat(m500_table1_test)\n",
    "m500_table1_test"
   ]
  },
  {
   "cell_type": "code",
   "execution_count": 37,
   "metadata": {
    "ExecuteTime": {
     "end_time": "2020-12-15T08:04:16.923256Z",
     "start_time": "2020-12-15T08:04:10.535591Z"
    }
   },
   "outputs": [
    {
     "name": "stderr",
     "output_type": "stream",
     "text": [
      "<ipython-input-3-414464267a46>:6: SettingWithCopyWarning: \n",
      "A value is trying to be set on a copy of a slice from a DataFrame.\n",
      "Try using .loc[row_indexer,col_indexer] = value instead\n",
      "\n",
      "See the caveats in the documentation: https://pandas.pydata.org/pandas-docs/stable/user_guide/indexing.html#returning-a-view-versus-a-copy\n",
      "  df['b'] = sc.galactic.b.degree\n"
     ]
    },
    {
     "data": {
      "text/html": [
       "<div>\n",
       "<style scoped>\n",
       "    .dataframe tbody tr th:only-of-type {\n",
       "        vertical-align: middle;\n",
       "    }\n",
       "\n",
       "    .dataframe tbody tr th {\n",
       "        vertical-align: top;\n",
       "    }\n",
       "\n",
       "    .dataframe thead th {\n",
       "        text-align: right;\n",
       "    }\n",
       "</style>\n",
       "<table border=\"1\" class=\"dataframe\">\n",
       "  <thead>\n",
       "    <tr style=\"text-align: right;\">\n",
       "      <th></th>\n",
       "      <th>PSZ2</th>\n",
       "      <th>PSZ2*</th>\n",
       "      <th>MCXC</th>\n",
       "      <th>MCXC*</th>\n",
       "    </tr>\n",
       "  </thead>\n",
       "  <tbody>\n",
       "    <tr>\n",
       "      <th>M500 &gt; 5</th>\n",
       "      <td>0.888889</td>\n",
       "      <td>8/9/0.02</td>\n",
       "      <td>1.000000</td>\n",
       "      <td>2/2/0.0</td>\n",
       "    </tr>\n",
       "    <tr>\n",
       "      <th>M500 &gt; 4</th>\n",
       "      <td>0.857143</td>\n",
       "      <td>18/21/0.03</td>\n",
       "      <td>0.818182</td>\n",
       "      <td>9/11/0.015</td>\n",
       "    </tr>\n",
       "    <tr>\n",
       "      <th>M500 &gt; 3</th>\n",
       "      <td>0.892857</td>\n",
       "      <td>25/28/0.035</td>\n",
       "      <td>0.785714</td>\n",
       "      <td>11/14/0.02</td>\n",
       "    </tr>\n",
       "    <tr>\n",
       "      <th>all</th>\n",
       "      <td>0.724138</td>\n",
       "      <td>42/58/0.125</td>\n",
       "      <td>0.300000</td>\n",
       "      <td>21/70/0.045</td>\n",
       "    </tr>\n",
       "  </tbody>\n",
       "</table>\n",
       "</div>"
      ],
      "text/plain": [
       "              PSZ2        PSZ2*      MCXC        MCXC*\n",
       "M500 > 5  0.888889     8/9/0.02  1.000000      2/2/0.0\n",
       "M500 > 4  0.857143   18/21/0.03  0.818182   9/11/0.015\n",
       "M500 > 3  0.892857  25/28/0.035  0.785714   11/14/0.02\n",
       "all       0.724138  42/58/0.125  0.300000  21/70/0.045"
      ]
     },
     "execution_count": 37,
     "metadata": {},
     "output_type": "execute_result"
    }
   ],
   "source": [
    "m500_table2_test = []\n",
    "cur_dcat = ['/home/rt2122/Data/detected_cats/full_pz_act10_thr0.1_step8.csv']\n",
    "for thr in [5, 4, 3, -np.inf]:\n",
    "    comp, recall = gen_tables(cur_dcat, cur_tcat, dict_cut={'b' : [20, np.inf], 'M500' : [thr, np.inf]},\n",
    "                             big_pix=test_pix)\n",
    "    name = 'M500 > {}'.format(thr)\n",
    "    if thr == -np.inf:\n",
    "        name = 'all'\n",
    "    line = extr_one_model(comp, recall, None, name)\n",
    "    m500_table2_test.append(line)\n",
    "m500_table2_test = pd.concat(m500_table2_test)\n",
    "m500_table2_test"
   ]
  },
  {
   "cell_type": "code",
   "execution_count": 18,
   "metadata": {
    "ExecuteTime": {
     "end_time": "2020-12-15T13:30:39.535765Z",
     "start_time": "2020-12-15T13:30:39.528627Z"
    }
   },
   "outputs": [
    {
     "data": {
      "text/plain": [
       "'0.314234'"
      ]
     },
     "execution_count": 18,
     "metadata": {},
     "output_type": "execute_result"
    }
   ],
   "source": [
    "'{:2f}'.format(0.314234)"
   ]
  },
  {
   "cell_type": "code",
   "execution_count": null,
   "metadata": {},
   "outputs": [],
   "source": []
  }
 ],
 "metadata": {
  "kernelspec": {
   "display_name": "Python 3",
   "language": "python",
   "name": "python3"
  },
  "language_info": {
   "codemirror_mode": {
    "name": "ipython",
    "version": 3
   },
   "file_extension": ".py",
   "mimetype": "text/x-python",
   "name": "python",
   "nbconvert_exporter": "python",
   "pygments_lexer": "ipython3",
   "version": "3.8.3"
  }
 },
 "nbformat": 4,
 "nbformat_minor": 4
}
