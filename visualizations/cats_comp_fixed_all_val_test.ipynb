{
 "cells": [
  {
   "cell_type": "markdown",
   "metadata": {},
   "source": [
    "Пояснение по gen_table: параметр dict_cut выбирает, как обрезать каталоги.\n",
    "\n",
    "Например при dict_cut = {'z' : [0.1, 0.3]} в каталогах останутся только объекты с 0.1 =< z < 0.3. \n",
    "\n",
    "Для b используется модуль: dict_cut = {'b' : [20, np.inf]} оставит в каталогах объекты для которых |b| >= 20 "
   ]
  },
  {
   "cell_type": "code",
   "execution_count": 27,
   "metadata": {
    "ExecuteTime": {
     "end_time": "2020-12-15T07:59:30.821748Z",
     "start_time": "2020-12-15T07:59:30.813976Z"
    }
   },
   "outputs": [],
   "source": [
    "import numpy as np\n",
    "import pandas as pd\n",
    "import os\n",
    "from matplotlib import pyplot as plt\n",
    "from astropy.io import fits\n",
    "from astropy.table import Table\n",
    "from astropy.coordinates import SkyCoord\n",
    "from astropy import units as u\n",
    "from DS_healpix_fragmentation import radec2pix\n",
    "from DS_Planck_Unet import val_pix, test_pix\n",
    "from DS_data_transformation import calc_error"
   ]
  },
  {
   "cell_type": "code",
   "execution_count": 2,
   "metadata": {
    "ExecuteTime": {
     "end_time": "2020-12-15T07:18:24.109037Z",
     "start_time": "2020-12-15T07:18:24.090965Z"
    }
   },
   "outputs": [],
   "source": [
    "def get_name(file):\n",
    "    if 'pz_act' in file:\n",
    "        return file[5:13]\n",
    "    return file[5:9]"
   ]
  },
  {
   "cell_type": "code",
   "execution_count": 3,
   "metadata": {
    "ExecuteTime": {
     "end_time": "2020-12-15T07:18:24.559892Z",
     "start_time": "2020-12-15T07:18:24.119468Z"
    }
   },
   "outputs": [],
   "source": [
    "def cut_cat(df, dict_cut = {'z' : [-np.inf, np.inf], 'M500' : [-np.inf, np.inf], 'b' :[-np.inf, np.inf]}, \n",
    "           big_pix=None):\n",
    " \n",
    "    sc = SkyCoord(ra=np.array(df['RA'])*u.degree, \n",
    "                  dec=np.array(df['DEC'])*u.degree, frame='icrs')\n",
    "    df['b'] = sc.galactic.b.degree\n",
    "    for prm in dict_cut:\n",
    "        if prm == 'b':\n",
    "            df = df[np.abs(df[prm]) >= dict_cut[prm][0]]\n",
    "            df = df[np.abs(df[prm]) < dict_cut[prm][1]]\n",
    "            df.index = np.arange(len(df))\n",
    "        else: \n",
    "            df = df[df[prm] >= dict_cut[prm][0]]\n",
    "            df = df[df[prm] < dict_cut[prm][1]]\n",
    "            df.index = np.arange(len(df))\n",
    "    \n",
    "    if not (big_pix is None):\n",
    "        pix2 = radec2pix(df['RA'], df['DEC'], 2)\n",
    "        df = df[np.in1d(pix2, big_pix)]\n",
    "        df.index = np.arange(len(df))\n",
    "    \n",
    "    return df"
   ]
  },
  {
   "cell_type": "code",
   "execution_count": 29,
   "metadata": {
    "ExecuteTime": {
     "end_time": "2020-12-15T08:00:55.635477Z",
     "start_time": "2020-12-15T08:00:55.620523Z"
    }
   },
   "outputs": [],
   "source": [
    "def gen_tables(det_cats_files, true_cats_files, dict_cut = {'z' : [-np.inf, np.inf], 'M500' : [-np.inf, np.inf], \n",
    "                        'b' :[-np.inf, np.inf]}, big_pix = None, match_dist=5/60, n_try=200):\n",
    "    \n",
    "    true_cats = {os.path.splitext(os.path.basename(file))[0] : pd.read_csv(file) for file in true_cats_files}\n",
    "    det_cats = {get_name(os.path.splitext(os.path.basename(file))[0]) : \n",
    "                pd.read_csv(file) for file in det_cats_files}\n",
    "    \n",
    "    comp_df = []\n",
    "    recall_df = []\n",
    "    \n",
    "    for name in det_cats:\n",
    "        df = det_cats[name]\n",
    "        df = df[df['status'] != 'fn']\n",
    "        df.index = np.arange(len(df))\n",
    "        if 'b' in dict_cut:\n",
    "            det_cats[name] = cut_cat(df, {'b' : dict_cut['b']}, big_pix)\n",
    "        else:\n",
    "            det_cats[name] = cut_cat(df, {}, big_pix)\n",
    "    for name in true_cats:\n",
    "        true_cats[name] = cut_cat(true_cats[name], dict_cut, big_pix)\n",
    "    \n",
    "    for det_name in det_cats:\n",
    "        det = det_cats[det_name]\n",
    "        line = {}\n",
    "        line_r = {}\n",
    "\n",
    "        det_sc = SkyCoord(ra=np.array(det['RA'])*u.degree, \n",
    "                      dec=np.array(det['DEC'])*u.degree, frame='icrs') \n",
    "\n",
    "        for tr_name in true_cats: \n",
    "            tr = true_cats[tr_name]\n",
    "            tr_sc = SkyCoord(ra=np.array(tr['RA'])*u.degree, \n",
    "                          dec=np.array(tr['DEC'])*u.degree, frame='icrs')\n",
    "            \n",
    "            idx, d2d, _ = tr_sc.match_to_catalog_sky(det_sc)\n",
    "            matched = d2d.degree <= match_dist\n",
    "            \n",
    "            line[tr_name] = np.count_nonzero(matched)\n",
    "            line[tr_name+'_err'], line[tr_name+'_std'] = calc_error(det, tr, n_try=n_try)\n",
    "\n",
    "            line_r[tr_name] = line[tr_name] / len(tr)\n",
    "            \n",
    "        line['all'] = len(det)\n",
    "        line['fp'] = np.count_nonzero(det['status'] == 'fp')\n",
    "        line_r['fp'] = line['fp']\n",
    "        line_r['all'] = line['all']\n",
    "        comp_df.append(pd.DataFrame(line, index=[det_name]))\n",
    "        recall_df.append(pd.DataFrame(line_r, index=[det_name]))\n",
    "        line = {}\n",
    "    \n",
    "    for tr_name in true_cats: \n",
    "        line[tr_name] = len(true_cats[tr_name])\n",
    "        line[tr_name+'_err'] = 0\n",
    "    line['fp'] = 0\n",
    "    line['all'] = 0\n",
    "    comp_df.append(pd.DataFrame(line, index=['all']))\n",
    "    \n",
    "    comp_df = pd.concat(comp_df)\n",
    "    recall_df = pd.concat(recall_df)\n",
    "    return comp_df, recall_df"
   ]
  },
  {
   "cell_type": "code",
   "execution_count": 17,
   "metadata": {
    "ExecuteTime": {
     "end_time": "2020-12-15T07:52:26.287352Z",
     "start_time": "2020-12-15T07:52:26.267765Z"
    }
   },
   "outputs": [],
   "source": [
    "def extr_one_model(comp, recall, model, line_name):\n",
    "    if model is None:\n",
    "        model = comp.index[0]\n",
    "    tr_cats = [name for name in list(recall) if not ('all' in name or 'fp' in name)]\n",
    "    line = {}\n",
    "    for name in tr_cats:\n",
    "        line[name] = recall.loc[model, name]\n",
    "        line[name+'*'] = '{}/{}/{}'.format(\n",
    "            comp.loc[model, name], comp.loc['all', name], comp.loc[model, name+'_err'])\n",
    "    return pd.DataFrame(line, index=[line_name])"
   ]
  },
  {
   "cell_type": "code",
   "execution_count": 5,
   "metadata": {
    "ExecuteTime": {
     "end_time": "2020-12-15T07:20:02.623001Z",
     "start_time": "2020-12-15T07:20:02.502158Z"
    }
   },
   "outputs": [],
   "source": [
    "tr_dir = '/home/rt2122/Data/original_catalogs/csv/'\n",
    "true_cats_files = [os.path.join(tr_dir, name) for name in next(os.walk(tr_dir))[-1] if not ('RM' in name)]\n",
    "det_dir = '/home/rt2122/Data/detected_cats/'\n",
    "det_cats_files = [os.path.join(det_dir, name) for name in sorted(next(os.walk(det_dir))[-1]) if 'full' in name]"
   ]
  },
  {
   "cell_type": "code",
   "execution_count": 16,
   "metadata": {
    "ExecuteTime": {
     "end_time": "2020-12-15T07:49:07.809926Z",
     "start_time": "2020-12-15T07:48:54.803353Z"
    }
   },
   "outputs": [
    {
     "name": "stderr",
     "output_type": "stream",
     "text": [
      "<ipython-input-3-414464267a46>:6: SettingWithCopyWarning: \n",
      "A value is trying to be set on a copy of a slice from a DataFrame.\n",
      "Try using .loc[row_indexer,col_indexer] = value instead\n",
      "\n",
      "See the caveats in the documentation: https://pandas.pydata.org/pandas-docs/stable/user_guide/indexing.html#returning-a-view-versus-a-copy\n",
      "  df['b'] = sc.galactic.b.degree\n"
     ]
    }
   ],
   "source": [
    "comp, recall = gen_tables(det_cats_files, true_cats_files, dict_cut={})"
   ]
  },
  {
   "cell_type": "code",
   "execution_count": 15,
   "metadata": {
    "ExecuteTime": {
     "end_time": "2020-12-15T07:47:21.206616Z",
     "start_time": "2020-12-15T07:47:21.187729Z"
    }
   },
   "outputs": [
    {
     "data": {
      "text/html": [
       "<div>\n",
       "<style scoped>\n",
       "    .dataframe tbody tr th:only-of-type {\n",
       "        vertical-align: middle;\n",
       "    }\n",
       "\n",
       "    .dataframe tbody tr th {\n",
       "        vertical-align: top;\n",
       "    }\n",
       "\n",
       "    .dataframe thead th {\n",
       "        text-align: right;\n",
       "    }\n",
       "</style>\n",
       "<table border=\"1\" class=\"dataframe\">\n",
       "  <thead>\n",
       "    <tr style=\"text-align: right;\">\n",
       "      <th></th>\n",
       "      <th>PSZ2</th>\n",
       "      <th>PSZ2*</th>\n",
       "      <th>MCXC</th>\n",
       "      <th>MCXC*</th>\n",
       "      <th>ACT</th>\n",
       "      <th>ACT*</th>\n",
       "    </tr>\n",
       "  </thead>\n",
       "  <tbody>\n",
       "    <tr>\n",
       "      <th>test</th>\n",
       "      <td>0.900181</td>\n",
       "      <td>1488/1653/15.75</td>\n",
       "      <td>0.416523</td>\n",
       "      <td>726/1743/17.95</td>\n",
       "      <td>0.204529</td>\n",
       "      <td>858/4195/43.25</td>\n",
       "    </tr>\n",
       "  </tbody>\n",
       "</table>\n",
       "</div>"
      ],
      "text/plain": [
       "          PSZ2            PSZ2*      MCXC           MCXC*       ACT  \\\n",
       "test  0.900181  1488/1653/15.75  0.416523  726/1743/17.95  0.204529   \n",
       "\n",
       "                ACT*  \n",
       "test  858/4195/43.25  "
      ]
     },
     "execution_count": 15,
     "metadata": {},
     "output_type": "execute_result"
    }
   ],
   "source": [
    "extr_one_model(comp, recall, 'pz14', 'test')"
   ]
  },
  {
   "cell_type": "code",
   "execution_count": 31,
   "metadata": {
    "ExecuteTime": {
     "end_time": "2020-12-15T08:01:56.782128Z",
     "start_time": "2020-12-15T08:01:20.046670Z"
    }
   },
   "outputs": [
    {
     "name": "stderr",
     "output_type": "stream",
     "text": [
      "<ipython-input-3-414464267a46>:6: SettingWithCopyWarning: \n",
      "A value is trying to be set on a copy of a slice from a DataFrame.\n",
      "Try using .loc[row_indexer,col_indexer] = value instead\n",
      "\n",
      "See the caveats in the documentation: https://pandas.pydata.org/pandas-docs/stable/user_guide/indexing.html#returning-a-view-versus-a-copy\n",
      "  df['b'] = sc.galactic.b.degree\n"
     ]
    },
    {
     "data": {
      "text/html": [
       "<div>\n",
       "<style scoped>\n",
       "    .dataframe tbody tr th:only-of-type {\n",
       "        vertical-align: middle;\n",
       "    }\n",
       "\n",
       "    .dataframe tbody tr th {\n",
       "        vertical-align: top;\n",
       "    }\n",
       "\n",
       "    .dataframe thead th {\n",
       "        text-align: right;\n",
       "    }\n",
       "</style>\n",
       "<table border=\"1\" class=\"dataframe\">\n",
       "  <thead>\n",
       "    <tr style=\"text-align: right;\">\n",
       "      <th></th>\n",
       "      <th>PSZ2</th>\n",
       "      <th>PSZ2*</th>\n",
       "      <th>MCXC</th>\n",
       "      <th>MCXC*</th>\n",
       "      <th>ACT</th>\n",
       "      <th>ACT*</th>\n",
       "    </tr>\n",
       "  </thead>\n",
       "  <tbody>\n",
       "    <tr>\n",
       "      <th>M500 &gt; 5</th>\n",
       "      <td>0.985612</td>\n",
       "      <td>411/417/4.045</td>\n",
       "      <td>0.884298</td>\n",
       "      <td>107/121/1.105</td>\n",
       "      <td>0.915033</td>\n",
       "      <td>140/153/1.505</td>\n",
       "    </tr>\n",
       "    <tr>\n",
       "      <th>M500 &gt; 4</th>\n",
       "      <td>0.977383</td>\n",
       "      <td>605/619/5.995</td>\n",
       "      <td>0.857759</td>\n",
       "      <td>199/232/2.125</td>\n",
       "      <td>0.754386</td>\n",
       "      <td>258/342/3.415</td>\n",
       "    </tr>\n",
       "    <tr>\n",
       "      <th>M500 &gt; 3</th>\n",
       "      <td>0.971613</td>\n",
       "      <td>753/775/7.35</td>\n",
       "      <td>0.817460</td>\n",
       "      <td>309/378/3.345</td>\n",
       "      <td>0.476923</td>\n",
       "      <td>465/975/9.715</td>\n",
       "    </tr>\n",
       "    <tr>\n",
       "      <th>all</th>\n",
       "      <td>0.913562</td>\n",
       "      <td>1226/1342/12.09</td>\n",
       "      <td>0.401365</td>\n",
       "      <td>647/1612/15.3</td>\n",
       "      <td>0.204529</td>\n",
       "      <td>858/4195/42.53</td>\n",
       "    </tr>\n",
       "  </tbody>\n",
       "</table>\n",
       "</div>"
      ],
      "text/plain": [
       "              PSZ2            PSZ2*      MCXC          MCXC*       ACT  \\\n",
       "M500 > 5  0.985612    411/417/4.045  0.884298  107/121/1.105  0.915033   \n",
       "M500 > 4  0.977383    605/619/5.995  0.857759  199/232/2.125  0.754386   \n",
       "M500 > 3  0.971613     753/775/7.35  0.817460  309/378/3.345  0.476923   \n",
       "all       0.913562  1226/1342/12.09  0.401365  647/1612/15.3  0.204529   \n",
       "\n",
       "                    ACT*  \n",
       "M500 > 5   140/153/1.505  \n",
       "M500 > 4   258/342/3.415  \n",
       "M500 > 3   465/975/9.715  \n",
       "all       858/4195/42.53  "
      ]
     },
     "execution_count": 31,
     "metadata": {},
     "output_type": "execute_result"
    }
   ],
   "source": [
    "m500_table1 = []\n",
    "cur_dcat = ['/home/rt2122/Data/detected_cats/full_pz14_thr0.1_step8.csv']\n",
    "for thr in [5, 4, 3, -np.inf]:\n",
    "    comp, recall = gen_tables(cur_dcat, true_cats_files, dict_cut={'b' : [20, np.inf], 'M500' : [thr, np.inf]})\n",
    "    name = 'M500 > {}'.format(thr)\n",
    "    if thr == -np.inf:\n",
    "        name = 'all'\n",
    "    line = extr_one_model(comp, recall, None, name)\n",
    "    m500_table1.append(line)\n",
    "m500_table1 = pd.concat(m500_table1)\n",
    "m500_table1"
   ]
  },
  {
   "cell_type": "code",
   "execution_count": 32,
   "metadata": {
    "ExecuteTime": {
     "end_time": "2020-12-15T08:02:24.547388Z",
     "start_time": "2020-12-15T08:01:56.784126Z"
    }
   },
   "outputs": [
    {
     "name": "stderr",
     "output_type": "stream",
     "text": [
      "<ipython-input-3-414464267a46>:6: SettingWithCopyWarning: \n",
      "A value is trying to be set on a copy of a slice from a DataFrame.\n",
      "Try using .loc[row_indexer,col_indexer] = value instead\n",
      "\n",
      "See the caveats in the documentation: https://pandas.pydata.org/pandas-docs/stable/user_guide/indexing.html#returning-a-view-versus-a-copy\n",
      "  df['b'] = sc.galactic.b.degree\n"
     ]
    },
    {
     "data": {
      "text/html": [
       "<div>\n",
       "<style scoped>\n",
       "    .dataframe tbody tr th:only-of-type {\n",
       "        vertical-align: middle;\n",
       "    }\n",
       "\n",
       "    .dataframe tbody tr th {\n",
       "        vertical-align: top;\n",
       "    }\n",
       "\n",
       "    .dataframe thead th {\n",
       "        text-align: right;\n",
       "    }\n",
       "</style>\n",
       "<table border=\"1\" class=\"dataframe\">\n",
       "  <thead>\n",
       "    <tr style=\"text-align: right;\">\n",
       "      <th></th>\n",
       "      <th>PSZ2</th>\n",
       "      <th>PSZ2*</th>\n",
       "      <th>MCXC</th>\n",
       "      <th>MCXC*</th>\n",
       "      <th>ACT</th>\n",
       "      <th>ACT*</th>\n",
       "    </tr>\n",
       "  </thead>\n",
       "  <tbody>\n",
       "    <tr>\n",
       "      <th>M500 &gt; 5</th>\n",
       "      <td>0.952038</td>\n",
       "      <td>397/417/2.705</td>\n",
       "      <td>0.884298</td>\n",
       "      <td>107/121/0.845</td>\n",
       "      <td>0.862745</td>\n",
       "      <td>132/153/1.095</td>\n",
       "    </tr>\n",
       "    <tr>\n",
       "      <th>M500 &gt; 4</th>\n",
       "      <td>0.928918</td>\n",
       "      <td>575/619/3.915</td>\n",
       "      <td>0.844828</td>\n",
       "      <td>196/232/1.575</td>\n",
       "      <td>0.725146</td>\n",
       "      <td>248/342/2.33</td>\n",
       "    </tr>\n",
       "    <tr>\n",
       "      <th>M500 &gt; 3</th>\n",
       "      <td>0.914839</td>\n",
       "      <td>709/775/4.805</td>\n",
       "      <td>0.780423</td>\n",
       "      <td>295/378/2.49</td>\n",
       "      <td>0.482051</td>\n",
       "      <td>470/975/6.57</td>\n",
       "    </tr>\n",
       "    <tr>\n",
       "      <th>all</th>\n",
       "      <td>0.845007</td>\n",
       "      <td>1134/1342/7.93</td>\n",
       "      <td>0.371588</td>\n",
       "      <td>599/1612/10.075</td>\n",
       "      <td>0.224076</td>\n",
       "      <td>940/4195/30.53</td>\n",
       "    </tr>\n",
       "  </tbody>\n",
       "</table>\n",
       "</div>"
      ],
      "text/plain": [
       "              PSZ2           PSZ2*      MCXC            MCXC*       ACT  \\\n",
       "M500 > 5  0.952038   397/417/2.705  0.884298    107/121/0.845  0.862745   \n",
       "M500 > 4  0.928918   575/619/3.915  0.844828    196/232/1.575  0.725146   \n",
       "M500 > 3  0.914839   709/775/4.805  0.780423     295/378/2.49  0.482051   \n",
       "all       0.845007  1134/1342/7.93  0.371588  599/1612/10.075  0.224076   \n",
       "\n",
       "                    ACT*  \n",
       "M500 > 5   132/153/1.095  \n",
       "M500 > 4    248/342/2.33  \n",
       "M500 > 3    470/975/6.57  \n",
       "all       940/4195/30.53  "
      ]
     },
     "execution_count": 32,
     "metadata": {},
     "output_type": "execute_result"
    }
   ],
   "source": [
    "m500_table2 = []\n",
    "cur_dcat = ['/home/rt2122/Data/detected_cats/full_pz_act10_thr0.1_step8.csv']\n",
    "for thr in [5, 4, 3, -np.inf]:\n",
    "    comp, recall = gen_tables(cur_dcat, true_cats_files, dict_cut={'b' : [20, np.inf], 'M500' : [thr, np.inf]})\n",
    "    name = 'M500 > {}'.format(thr)\n",
    "    if thr == -np.inf:\n",
    "        name = 'all'\n",
    "    line = extr_one_model(comp, recall, None, name)\n",
    "    m500_table2.append(line)\n",
    "m500_table2 = pd.concat(m500_table2)\n",
    "m500_table2"
   ]
  },
  {
   "cell_type": "code",
   "execution_count": 33,
   "metadata": {
    "ExecuteTime": {
     "end_time": "2020-12-15T08:02:24.554795Z",
     "start_time": "2020-12-15T08:02:24.549064Z"
    }
   },
   "outputs": [
    {
     "name": "stdout",
     "output_type": "stream",
     "text": [
      "\\begin{tabular}{lrlrlrl}\n",
      "\\toprule\n",
      "{} &      PSZ2 &            PSZ2* &      MCXC &          MCXC* &       ACT &            ACT* \\\\\n",
      "\\midrule\n",
      "M500 > 5 &  0.985612 &    411/417/4.045 &  0.884298 &  107/121/1.105 &  0.915033 &   140/153/1.505 \\\\\n",
      "M500 > 4 &  0.977383 &    605/619/5.995 &  0.857759 &  199/232/2.125 &  0.754386 &   258/342/3.415 \\\\\n",
      "M500 > 3 &  0.971613 &     753/775/7.35 &  0.817460 &  309/378/3.345 &  0.476923 &   465/975/9.715 \\\\\n",
      "all      &  0.913562 &  1226/1342/12.09 &  0.401365 &  647/1612/15.3 &  0.204529 &  858/4195/42.53 \\\\\n",
      "\\bottomrule\n",
      "\\end{tabular}\n",
      "\n"
     ]
    }
   ],
   "source": [
    "print(m500_table1.to_latex())"
   ]
  },
  {
   "cell_type": "code",
   "execution_count": 34,
   "metadata": {
    "ExecuteTime": {
     "end_time": "2020-12-15T08:02:35.955824Z",
     "start_time": "2020-12-15T08:02:24.556592Z"
    }
   },
   "outputs": [
    {
     "name": "stderr",
     "output_type": "stream",
     "text": [
      "<ipython-input-3-414464267a46>:6: SettingWithCopyWarning: \n",
      "A value is trying to be set on a copy of a slice from a DataFrame.\n",
      "Try using .loc[row_indexer,col_indexer] = value instead\n",
      "\n",
      "See the caveats in the documentation: https://pandas.pydata.org/pandas-docs/stable/user_guide/indexing.html#returning-a-view-versus-a-copy\n",
      "  df['b'] = sc.galactic.b.degree\n"
     ]
    },
    {
     "data": {
      "text/html": [
       "<div>\n",
       "<style scoped>\n",
       "    .dataframe tbody tr th:only-of-type {\n",
       "        vertical-align: middle;\n",
       "    }\n",
       "\n",
       "    .dataframe tbody tr th {\n",
       "        vertical-align: top;\n",
       "    }\n",
       "\n",
       "    .dataframe thead th {\n",
       "        text-align: right;\n",
       "    }\n",
       "</style>\n",
       "<table border=\"1\" class=\"dataframe\">\n",
       "  <thead>\n",
       "    <tr style=\"text-align: right;\">\n",
       "      <th></th>\n",
       "      <th>PSZ2</th>\n",
       "      <th>PSZ2*</th>\n",
       "      <th>MCXC</th>\n",
       "      <th>MCXC*</th>\n",
       "      <th>ACT</th>\n",
       "      <th>ACT*</th>\n",
       "    </tr>\n",
       "  </thead>\n",
       "  <tbody>\n",
       "    <tr>\n",
       "      <th>M500 &gt; 5</th>\n",
       "      <td>0.954545</td>\n",
       "      <td>42/44/0.23</td>\n",
       "      <td>0.818182</td>\n",
       "      <td>9/11/0.065</td>\n",
       "      <td>1.000000</td>\n",
       "      <td>24/24/0.11</td>\n",
       "    </tr>\n",
       "    <tr>\n",
       "      <th>M500 &gt; 4</th>\n",
       "      <td>0.960000</td>\n",
       "      <td>72/75/0.35</td>\n",
       "      <td>0.842105</td>\n",
       "      <td>16/19/0.105</td>\n",
       "      <td>0.782609</td>\n",
       "      <td>36/46/0.175</td>\n",
       "    </tr>\n",
       "    <tr>\n",
       "      <th>M500 &gt; 3</th>\n",
       "      <td>0.968421</td>\n",
       "      <td>92/95/0.425</td>\n",
       "      <td>0.838710</td>\n",
       "      <td>26/31/0.14</td>\n",
       "      <td>0.496241</td>\n",
       "      <td>66/133/0.54</td>\n",
       "    </tr>\n",
       "    <tr>\n",
       "      <th>all</th>\n",
       "      <td>0.925000</td>\n",
       "      <td>148/160/0.74</td>\n",
       "      <td>0.433735</td>\n",
       "      <td>72/166/0.72</td>\n",
       "      <td>0.210963</td>\n",
       "      <td>127/602/2.165</td>\n",
       "    </tr>\n",
       "  </tbody>\n",
       "</table>\n",
       "</div>"
      ],
      "text/plain": [
       "              PSZ2         PSZ2*      MCXC        MCXC*       ACT  \\\n",
       "M500 > 5  0.954545    42/44/0.23  0.818182   9/11/0.065  1.000000   \n",
       "M500 > 4  0.960000    72/75/0.35  0.842105  16/19/0.105  0.782609   \n",
       "M500 > 3  0.968421   92/95/0.425  0.838710   26/31/0.14  0.496241   \n",
       "all       0.925000  148/160/0.74  0.433735  72/166/0.72  0.210963   \n",
       "\n",
       "                   ACT*  \n",
       "M500 > 5     24/24/0.11  \n",
       "M500 > 4    36/46/0.175  \n",
       "M500 > 3    66/133/0.54  \n",
       "all       127/602/2.165  "
      ]
     },
     "execution_count": 34,
     "metadata": {},
     "output_type": "execute_result"
    }
   ],
   "source": [
    "m500_table1_val = []\n",
    "cur_dcat = ['/home/rt2122/Data/detected_cats/full_pz14_thr0.1_step8.csv']\n",
    "for thr in [5, 4, 3, -np.inf]:\n",
    "    comp, recall = gen_tables(cur_dcat, true_cats_files, dict_cut={'b' : [20, np.inf], 'M500' : [thr, np.inf]},\n",
    "                             big_pix=val_pix)\n",
    "    name = 'M500 > {}'.format(thr)\n",
    "    if thr == -np.inf:\n",
    "        name = 'all'\n",
    "    line = extr_one_model(comp, recall, None, name)\n",
    "    m500_table1_val.append(line)\n",
    "m500_table1_val = pd.concat(m500_table1_val)\n",
    "m500_table1_val"
   ]
  },
  {
   "cell_type": "code",
   "execution_count": 30,
   "metadata": {
    "ExecuteTime": {
     "end_time": "2020-12-15T08:01:20.045084Z",
     "start_time": "2020-12-15T08:01:08.216396Z"
    }
   },
   "outputs": [
    {
     "name": "stderr",
     "output_type": "stream",
     "text": [
      "<ipython-input-3-414464267a46>:6: SettingWithCopyWarning: \n",
      "A value is trying to be set on a copy of a slice from a DataFrame.\n",
      "Try using .loc[row_indexer,col_indexer] = value instead\n",
      "\n",
      "See the caveats in the documentation: https://pandas.pydata.org/pandas-docs/stable/user_guide/indexing.html#returning-a-view-versus-a-copy\n",
      "  df['b'] = sc.galactic.b.degree\n"
     ]
    },
    {
     "data": {
      "text/html": [
       "<div>\n",
       "<style scoped>\n",
       "    .dataframe tbody tr th:only-of-type {\n",
       "        vertical-align: middle;\n",
       "    }\n",
       "\n",
       "    .dataframe tbody tr th {\n",
       "        vertical-align: top;\n",
       "    }\n",
       "\n",
       "    .dataframe thead th {\n",
       "        text-align: right;\n",
       "    }\n",
       "</style>\n",
       "<table border=\"1\" class=\"dataframe\">\n",
       "  <thead>\n",
       "    <tr style=\"text-align: right;\">\n",
       "      <th></th>\n",
       "      <th>PSZ2</th>\n",
       "      <th>PSZ2*</th>\n",
       "      <th>MCXC</th>\n",
       "      <th>MCXC*</th>\n",
       "      <th>ACT</th>\n",
       "      <th>ACT*</th>\n",
       "    </tr>\n",
       "  </thead>\n",
       "  <tbody>\n",
       "    <tr>\n",
       "      <th>M500 &gt; 5</th>\n",
       "      <td>0.931818</td>\n",
       "      <td>41/44/0.22</td>\n",
       "      <td>0.818182</td>\n",
       "      <td>9/11/0.085</td>\n",
       "      <td>0.875000</td>\n",
       "      <td>21/24/0.08</td>\n",
       "    </tr>\n",
       "    <tr>\n",
       "      <th>M500 &gt; 4</th>\n",
       "      <td>0.933333</td>\n",
       "      <td>70/75/0.315</td>\n",
       "      <td>0.789474</td>\n",
       "      <td>15/19/0.125</td>\n",
       "      <td>0.630435</td>\n",
       "      <td>29/46/0.13</td>\n",
       "    </tr>\n",
       "    <tr>\n",
       "      <th>M500 &gt; 3</th>\n",
       "      <td>0.926316</td>\n",
       "      <td>88/95/0.395</td>\n",
       "      <td>0.741935</td>\n",
       "      <td>23/31/0.175</td>\n",
       "      <td>0.368421</td>\n",
       "      <td>49/133/0.445</td>\n",
       "    </tr>\n",
       "    <tr>\n",
       "      <th>all</th>\n",
       "      <td>0.900000</td>\n",
       "      <td>144/160/0.585</td>\n",
       "      <td>0.391566</td>\n",
       "      <td>65/166/0.585</td>\n",
       "      <td>0.159468</td>\n",
       "      <td>96/602/1.665</td>\n",
       "    </tr>\n",
       "  </tbody>\n",
       "</table>\n",
       "</div>"
      ],
      "text/plain": [
       "              PSZ2          PSZ2*      MCXC         MCXC*       ACT  \\\n",
       "M500 > 5  0.931818     41/44/0.22  0.818182    9/11/0.085  0.875000   \n",
       "M500 > 4  0.933333    70/75/0.315  0.789474   15/19/0.125  0.630435   \n",
       "M500 > 3  0.926316    88/95/0.395  0.741935   23/31/0.175  0.368421   \n",
       "all       0.900000  144/160/0.585  0.391566  65/166/0.585  0.159468   \n",
       "\n",
       "                  ACT*  \n",
       "M500 > 5    21/24/0.08  \n",
       "M500 > 4    29/46/0.13  \n",
       "M500 > 3  49/133/0.445  \n",
       "all       96/602/1.665  "
      ]
     },
     "execution_count": 30,
     "metadata": {},
     "output_type": "execute_result"
    }
   ],
   "source": [
    "m500_table2_val = []\n",
    "cur_dcat = ['/home/rt2122/Data/detected_cats/full_pz_act10_thr0.1_step8.csv']\n",
    "for thr in [5, 4, 3, -np.inf]:\n",
    "    comp, recall = gen_tables(cur_dcat, true_cats_files, dict_cut={'b' : [20, np.inf], 'M500' : [thr, np.inf]},\n",
    "                             big_pix=val_pix)\n",
    "    name = 'M500 > {}'.format(thr)\n",
    "    if thr == -np.inf:\n",
    "        name = 'all'\n",
    "    line = extr_one_model(comp, recall, None, name)\n",
    "    m500_table2_val.append(line)\n",
    "m500_table2_val = pd.concat(m500_table2_val)\n",
    "m500_table2_val"
   ]
  },
  {
   "cell_type": "code",
   "execution_count": 36,
   "metadata": {
    "ExecuteTime": {
     "end_time": "2020-12-15T08:04:03.056560Z",
     "start_time": "2020-12-15T08:03:56.522252Z"
    }
   },
   "outputs": [
    {
     "name": "stderr",
     "output_type": "stream",
     "text": [
      "<ipython-input-3-414464267a46>:6: SettingWithCopyWarning: \n",
      "A value is trying to be set on a copy of a slice from a DataFrame.\n",
      "Try using .loc[row_indexer,col_indexer] = value instead\n",
      "\n",
      "See the caveats in the documentation: https://pandas.pydata.org/pandas-docs/stable/user_guide/indexing.html#returning-a-view-versus-a-copy\n",
      "  df['b'] = sc.galactic.b.degree\n"
     ]
    },
    {
     "data": {
      "text/html": [
       "<div>\n",
       "<style scoped>\n",
       "    .dataframe tbody tr th:only-of-type {\n",
       "        vertical-align: middle;\n",
       "    }\n",
       "\n",
       "    .dataframe tbody tr th {\n",
       "        vertical-align: top;\n",
       "    }\n",
       "\n",
       "    .dataframe thead th {\n",
       "        text-align: right;\n",
       "    }\n",
       "</style>\n",
       "<table border=\"1\" class=\"dataframe\">\n",
       "  <thead>\n",
       "    <tr style=\"text-align: right;\">\n",
       "      <th></th>\n",
       "      <th>PSZ2</th>\n",
       "      <th>PSZ2*</th>\n",
       "      <th>MCXC</th>\n",
       "      <th>MCXC*</th>\n",
       "    </tr>\n",
       "  </thead>\n",
       "  <tbody>\n",
       "    <tr>\n",
       "      <th>M500 &gt; 5</th>\n",
       "      <td>1.000000</td>\n",
       "      <td>9/9/0.01</td>\n",
       "      <td>1.000000</td>\n",
       "      <td>2/2/0.0</td>\n",
       "    </tr>\n",
       "    <tr>\n",
       "      <th>M500 &gt; 4</th>\n",
       "      <td>0.952381</td>\n",
       "      <td>20/21/0.065</td>\n",
       "      <td>0.909091</td>\n",
       "      <td>10/11/0.03</td>\n",
       "    </tr>\n",
       "    <tr>\n",
       "      <th>M500 &gt; 3</th>\n",
       "      <td>0.928571</td>\n",
       "      <td>26/28/0.085</td>\n",
       "      <td>0.857143</td>\n",
       "      <td>12/14/0.055</td>\n",
       "    </tr>\n",
       "    <tr>\n",
       "      <th>all</th>\n",
       "      <td>0.896552</td>\n",
       "      <td>52/58/0.18</td>\n",
       "      <td>0.328571</td>\n",
       "      <td>23/70/0.165</td>\n",
       "    </tr>\n",
       "  </tbody>\n",
       "</table>\n",
       "</div>"
      ],
      "text/plain": [
       "              PSZ2        PSZ2*      MCXC        MCXC*\n",
       "M500 > 5  1.000000     9/9/0.01  1.000000      2/2/0.0\n",
       "M500 > 4  0.952381  20/21/0.065  0.909091   10/11/0.03\n",
       "M500 > 3  0.928571  26/28/0.085  0.857143  12/14/0.055\n",
       "all       0.896552   52/58/0.18  0.328571  23/70/0.165"
      ]
     },
     "execution_count": 36,
     "metadata": {},
     "output_type": "execute_result"
    }
   ],
   "source": [
    "m500_table1_test = []\n",
    "cur_dcat = ['/home/rt2122/Data/detected_cats/full_pz14_thr0.1_step8.csv']\n",
    "cur_tcat = [name for name in true_cats_files if not ('ACT' in name)]\n",
    "for thr in [5, 4, 3, -np.inf]:\n",
    "    comp, recall = gen_tables(cur_dcat, cur_tcat, dict_cut={'b' : [20, np.inf], 'M500' : [thr, np.inf]},\n",
    "                             big_pix=test_pix)\n",
    "    name = 'M500 > {}'.format(thr)\n",
    "    if thr == -np.inf:\n",
    "        name = 'all'\n",
    "    line = extr_one_model(comp, recall, None, name)\n",
    "    m500_table1_test.append(line)\n",
    "m500_table1_test = pd.concat(m500_table1_test)\n",
    "m500_table1_test"
   ]
  },
  {
   "cell_type": "code",
   "execution_count": 37,
   "metadata": {
    "ExecuteTime": {
     "end_time": "2020-12-15T08:04:16.923256Z",
     "start_time": "2020-12-15T08:04:10.535591Z"
    }
   },
   "outputs": [
    {
     "name": "stderr",
     "output_type": "stream",
     "text": [
      "<ipython-input-3-414464267a46>:6: SettingWithCopyWarning: \n",
      "A value is trying to be set on a copy of a slice from a DataFrame.\n",
      "Try using .loc[row_indexer,col_indexer] = value instead\n",
      "\n",
      "See the caveats in the documentation: https://pandas.pydata.org/pandas-docs/stable/user_guide/indexing.html#returning-a-view-versus-a-copy\n",
      "  df['b'] = sc.galactic.b.degree\n"
     ]
    },
    {
     "data": {
      "text/html": [
       "<div>\n",
       "<style scoped>\n",
       "    .dataframe tbody tr th:only-of-type {\n",
       "        vertical-align: middle;\n",
       "    }\n",
       "\n",
       "    .dataframe tbody tr th {\n",
       "        vertical-align: top;\n",
       "    }\n",
       "\n",
       "    .dataframe thead th {\n",
       "        text-align: right;\n",
       "    }\n",
       "</style>\n",
       "<table border=\"1\" class=\"dataframe\">\n",
       "  <thead>\n",
       "    <tr style=\"text-align: right;\">\n",
       "      <th></th>\n",
       "      <th>PSZ2</th>\n",
       "      <th>PSZ2*</th>\n",
       "      <th>MCXC</th>\n",
       "      <th>MCXC*</th>\n",
       "    </tr>\n",
       "  </thead>\n",
       "  <tbody>\n",
       "    <tr>\n",
       "      <th>M500 &gt; 5</th>\n",
       "      <td>0.888889</td>\n",
       "      <td>8/9/0.02</td>\n",
       "      <td>1.000000</td>\n",
       "      <td>2/2/0.0</td>\n",
       "    </tr>\n",
       "    <tr>\n",
       "      <th>M500 &gt; 4</th>\n",
       "      <td>0.857143</td>\n",
       "      <td>18/21/0.03</td>\n",
       "      <td>0.818182</td>\n",
       "      <td>9/11/0.015</td>\n",
       "    </tr>\n",
       "    <tr>\n",
       "      <th>M500 &gt; 3</th>\n",
       "      <td>0.892857</td>\n",
       "      <td>25/28/0.035</td>\n",
       "      <td>0.785714</td>\n",
       "      <td>11/14/0.02</td>\n",
       "    </tr>\n",
       "    <tr>\n",
       "      <th>all</th>\n",
       "      <td>0.724138</td>\n",
       "      <td>42/58/0.125</td>\n",
       "      <td>0.300000</td>\n",
       "      <td>21/70/0.045</td>\n",
       "    </tr>\n",
       "  </tbody>\n",
       "</table>\n",
       "</div>"
      ],
      "text/plain": [
       "              PSZ2        PSZ2*      MCXC        MCXC*\n",
       "M500 > 5  0.888889     8/9/0.02  1.000000      2/2/0.0\n",
       "M500 > 4  0.857143   18/21/0.03  0.818182   9/11/0.015\n",
       "M500 > 3  0.892857  25/28/0.035  0.785714   11/14/0.02\n",
       "all       0.724138  42/58/0.125  0.300000  21/70/0.045"
      ]
     },
     "execution_count": 37,
     "metadata": {},
     "output_type": "execute_result"
    }
   ],
   "source": [
    "m500_table2_test = []\n",
    "cur_dcat = ['/home/rt2122/Data/detected_cats/full_pz_act10_thr0.1_step8.csv']\n",
    "for thr in [5, 4, 3, -np.inf]:\n",
    "    comp, recall = gen_tables(cur_dcat, cur_tcat, dict_cut={'b' : [20, np.inf], 'M500' : [thr, np.inf]},\n",
    "                             big_pix=test_pix)\n",
    "    name = 'M500 > {}'.format(thr)\n",
    "    if thr == -np.inf:\n",
    "        name = 'all'\n",
    "    line = extr_one_model(comp, recall, None, name)\n",
    "    m500_table2_test.append(line)\n",
    "m500_table2_test = pd.concat(m500_table2_test)\n",
    "m500_table2_test"
   ]
  },
  {
   "cell_type": "code",
   "execution_count": null,
   "metadata": {},
   "outputs": [],
   "source": []
  }
 ],
 "metadata": {
  "kernelspec": {
   "display_name": "Python 3",
   "language": "python",
   "name": "python3"
  },
  "language_info": {
   "codemirror_mode": {
    "name": "ipython",
    "version": 3
   },
   "file_extension": ".py",
   "mimetype": "text/x-python",
   "name": "python",
   "nbconvert_exporter": "python",
   "pygments_lexer": "ipython3",
   "version": "3.8.3"
  }
 },
 "nbformat": 4,
 "nbformat_minor": 4
}
