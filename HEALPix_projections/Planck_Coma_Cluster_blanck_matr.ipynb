{
 "cells": [
  {
   "cell_type": "code",
   "execution_count": 1,
   "metadata": {
    "ExecuteTime": {
     "end_time": "2020-08-04T10:49:30.983120Z",
     "start_time": "2020-08-04T10:49:29.860666Z"
    }
   },
   "outputs": [],
   "source": [
    "from DS_healpix_fragmentation import *\n",
    "from DS_WCS_projections import show_pic\n",
    "import numpy as np\n",
    "import healpy as hp\n",
    "from astropy.io import fits\n",
    "from astropy.coordinates import SkyCoord\n",
    "from astropy import units as u\n",
    "from matplotlib import pyplot as plt\n",
    "from skimage.filters import gaussian\n",
    "from skimage.draw import circle\n",
    "import pandas as pd\n",
    "from astropy.table import Table\n",
    "from tqdm.notebook import tqdm\n",
    "from threading import Thread\n",
    "import os"
   ]
  },
  {
   "cell_type": "code",
   "execution_count": 61,
   "metadata": {
    "ExecuteTime": {
     "end_time": "2020-08-04T11:48:29.046297Z",
     "start_time": "2020-08-04T11:48:29.040114Z"
    }
   },
   "outputs": [],
   "source": [
    "ra, dec = 194.9356, 28.0256"
   ]
  },
  {
   "cell_type": "code",
   "execution_count": 2,
   "metadata": {
    "ExecuteTime": {
     "end_time": "2020-08-04T10:50:14.095309Z",
     "start_time": "2020-08-04T10:50:13.434440Z"
    }
   },
   "outputs": [],
   "source": [
    "matr = np.load('/home/rt2122/Data/coma_sweep/south/small_matr.npy')\n",
    "mdict = matr2dict(matr)"
   ]
  },
  {
   "cell_type": "code",
   "execution_count": 59,
   "metadata": {
    "ExecuteTime": {
     "end_time": "2020-08-04T11:43:18.377986Z",
     "start_time": "2020-08-04T11:43:18.368191Z"
    }
   },
   "outputs": [
    {
     "data": {
      "text/plain": [
       "4.0"
      ]
     },
     "execution_count": 59,
     "metadata": {},
     "output_type": "execute_result"
    }
   ],
   "source": [
    "small_nside = 2**15\n",
    "depth = small_nside // 2048\n",
    "np.log2(depth)"
   ]
  },
  {
   "cell_type": "code",
   "execution_count": 60,
   "metadata": {
    "ExecuteTime": {
     "end_time": "2020-08-04T11:47:06.800969Z",
     "start_time": "2020-08-04T11:47:06.791446Z"
    }
   },
   "outputs": [],
   "source": [
    "def pix_in_radec(pix, nside, ra, dec, rad):\n",
    "    sc = SkyCoord(ra=ra*u.degree, dec=dec*u.degree, frame='icrs')\n",
    "    theta, phi = hp.pix2ang(nside, pix, lonlat=True, nest=True)\n",
    "    sc2 = SkyCoord(l=theta*u.degree, b=phi*u.degree, frame='galactic')\n",
    "    return sc.separation(sc2).degree < rad"
   ]
  },
  {
   "cell_type": "code",
   "execution_count": 67,
   "metadata": {
    "ExecuteTime": {
     "end_time": "2020-08-04T11:57:56.895686Z",
     "start_time": "2020-08-04T11:57:56.887318Z"
    }
   },
   "outputs": [
    {
     "data": {
      "text/plain": [
       "['HFI_SkyMap_217_2048_R3.01_full.fits',\n",
       " 'HFI_SkyMap_545_2048_R3.01_full.fits',\n",
       " 'HFI_SkyMap_857_2048_R3.01_full.fits',\n",
       " 'HFI_SkyMap_100_2048_R3.01_full.fits',\n",
       " 'HFI_SkyMap_353_2048_R3.01_full.fits',\n",
       " 'HFI_SkyMap_143_2048_R3.01_full.fits']"
      ]
     },
     "execution_count": 67,
     "metadata": {},
     "output_type": "execute_result"
    }
   ],
   "source": [
    "dirname = '/home/rt2122/Data/Planck/'\n",
    "files = next(os.walk(dirname))[-1]\n",
    "files"
   ]
  },
  {
   "cell_type": "code",
   "execution_count": 77,
   "metadata": {
    "ExecuteTime": {
     "end_time": "2020-08-04T12:13:07.487087Z",
     "start_time": "2020-08-04T12:09:21.446563Z"
    }
   },
   "outputs": [
    {
     "data": {
      "application/vnd.jupyter.widget-view+json": {
       "model_id": "44c4c82642204673bece072b1440b858",
       "version_major": 2,
       "version_minor": 0
      },
      "text/plain": [
       "HBox(children=(FloatProgress(value=0.0, max=15339.0), HTML(value='')))"
      ]
     },
     "metadata": {},
     "output_type": "display_data"
    },
    {
     "name": "stdout",
     "output_type": "stream",
     "text": [
      "\n"
     ]
    },
    {
     "data": {
      "application/vnd.jupyter.widget-view+json": {
       "model_id": "6e44e16fd2234fab9433b022d9a578b1",
       "version_major": 2,
       "version_minor": 0
      },
      "text/plain": [
       "HBox(children=(FloatProgress(value=0.0, max=15339.0), HTML(value='')))"
      ]
     },
     "metadata": {},
     "output_type": "display_data"
    },
    {
     "name": "stdout",
     "output_type": "stream",
     "text": [
      "\n"
     ]
    },
    {
     "data": {
      "application/vnd.jupyter.widget-view+json": {
       "model_id": "3a392ef244c840fa87c397839dd2898e",
       "version_major": 2,
       "version_minor": 0
      },
      "text/plain": [
       "HBox(children=(FloatProgress(value=0.0, max=15339.0), HTML(value='')))"
      ]
     },
     "metadata": {},
     "output_type": "display_data"
    },
    {
     "name": "stdout",
     "output_type": "stream",
     "text": [
      "\n"
     ]
    },
    {
     "data": {
      "application/vnd.jupyter.widget-view+json": {
       "model_id": "dd16dd0474a74cd79d56ad3e2e3d4a90",
       "version_major": 2,
       "version_minor": 0
      },
      "text/plain": [
       "HBox(children=(FloatProgress(value=0.0, max=15339.0), HTML(value='')))"
      ]
     },
     "metadata": {},
     "output_type": "display_data"
    },
    {
     "name": "stdout",
     "output_type": "stream",
     "text": [
      "\n"
     ]
    },
    {
     "data": {
      "application/vnd.jupyter.widget-view+json": {
       "model_id": "3ae41d408eb041b9b31282d0d06f2b66",
       "version_major": 2,
       "version_minor": 0
      },
      "text/plain": [
       "HBox(children=(FloatProgress(value=0.0, max=15339.0), HTML(value='')))"
      ]
     },
     "metadata": {},
     "output_type": "display_data"
    },
    {
     "name": "stdout",
     "output_type": "stream",
     "text": [
      "\n"
     ]
    },
    {
     "data": {
      "application/vnd.jupyter.widget-view+json": {
       "model_id": "2ef85e5a8e8d44409f5a60c7fd84ddf3",
       "version_major": 2,
       "version_minor": 0
      },
      "text/plain": [
       "HBox(children=(FloatProgress(value=0.0, max=15339.0), HTML(value='')))"
      ]
     },
     "metadata": {},
     "output_type": "display_data"
    },
    {
     "name": "stdout",
     "output_type": "stream",
     "text": [
      "\n"
     ]
    }
   ],
   "source": [
    "planck_nside = None\n",
    "last_pix = None\n",
    "planck_pic = np.zeros((list(matr.shape)+[6]))\n",
    "channel = 'I_STOKES'\n",
    "for i, file in enumerate(files):\n",
    "    with fits.open(os.path.join(dirname, file)) as hdul:\n",
    "        #print(repr(hdul[1].data.columns))\n",
    "        planck_nside = hdul[1].header['NSIDE']\n",
    "        last_pix = hdul[1].header['LASTPIX']\n",
    "        pixels = np.arange(last_pix + 1)\n",
    "        in_rad = pix_in_radec(pixels, planck_nside, ra, dec, 2)\n",
    "        data = hdul[1].data[channel][in_rad]\n",
    "        pixels = pixels[in_rad]\n",
    "        \n",
    "        for i in tqdm(range(pixels.shape[0])):\n",
    "            pix = pixels[i]\n",
    "            pix = one_pixel_fragmentation(planck_nside, pix, 4)\n",
    "            pix = pix.flatten()\n",
    "            pix = [mdict[p] for p in pix if p in mdict]\n",
    "            if len(pix) > 0:\n",
    "                planck_pic[pix, 0] = data[i]"
   ]
  },
  {
   "cell_type": "code",
   "execution_count": 78,
   "metadata": {
    "ExecuteTime": {
     "end_time": "2020-08-04T12:13:17.613809Z",
     "start_time": "2020-08-04T12:13:17.421301Z"
    }
   },
   "outputs": [
    {
     "data": {
      "image/png": "[encoded data removed]",
      "text/plain": [
       "<Figure size 720x720 with 1 Axes>"
      ]
     },
     "metadata": {
      "needs_background": "light"
     },
     "output_type": "display_data"
    }
   ],
   "source": [
    "show_pic(planck_pic[:,:,2], vmax=planck_pic.max())"
   ]
  },
  {
   "cell_type": "code",
   "execution_count": 27,
   "metadata": {
    "ExecuteTime": {
     "end_time": "2020-08-04T11:08:07.822778Z",
     "start_time": "2020-08-04T11:08:07.803303Z"
    }
   },
   "outputs": [
    {
     "data": {
      "text/plain": [
       "0.00016150684677995741"
      ]
     },
     "execution_count": 27,
     "metadata": {},
     "output_type": "execute_result"
    }
   ],
   "source": [
    "planck_pic.max()"
   ]
  },
  {
   "cell_type": "code",
   "execution_count": 41,
   "metadata": {
    "ExecuteTime": {
     "end_time": "2020-08-04T11:19:04.462511Z",
     "start_time": "2020-08-04T11:19:04.448931Z"
    }
   },
   "outputs": [
    {
     "data": {
      "text/plain": [
       "['HFI_SkyMap_217_2048_R3.01_full.fits',\n",
       " 'HFI_SkyMap_545_2048_R3.01_full.fits',\n",
       " 'HFI_SkyMap_857_2048_R3.01_full.fits',\n",
       " 'HFI_SkyMap_100_2048_R3.01_full.fits',\n",
       " 'HFI_SkyMap_353_2048_R3.01_full.fits',\n",
       " 'HFI_SkyMap_143_2048_R3.01_full.fits']"
      ]
     },
     "execution_count": 41,
     "metadata": {},
     "output_type": "execute_result"
    }
   ],
   "source": []
  },
  {
   "cell_type": "code",
   "execution_count": 42,
   "metadata": {
    "ExecuteTime": {
     "end_time": "2020-08-04T11:25:04.263598Z",
     "start_time": "2020-08-04T11:21:39.512118Z"
    }
   },
   "outputs": [
    {
     "data": {
      "application/vnd.jupyter.widget-view+json": {
       "model_id": "787dce8bf87645cfa2ff87d59a62fd3e",
       "version_major": 2,
       "version_minor": 0
      },
      "text/plain": [
       "HBox(children=(FloatProgress(value=0.0, max=50331648.0), HTML(value='')))"
      ]
     },
     "metadata": {},
     "output_type": "display_data"
    },
    {
     "name": "stdout",
     "output_type": "stream",
     "text": [
      "\n"
     ]
    },
    {
     "data": {
      "application/vnd.jupyter.widget-view+json": {
       "model_id": "8ad4ab03eb1b4414aac7fea68132ca4b",
       "version_major": 2,
       "version_minor": 0
      },
      "text/plain": [
       "HBox(children=(FloatProgress(value=0.0, max=50331648.0), HTML(value='')))"
      ]
     },
     "metadata": {},
     "output_type": "display_data"
    },
    {
     "name": "stdout",
     "output_type": "stream",
     "text": [
      "\n"
     ]
    },
    {
     "data": {
      "application/vnd.jupyter.widget-view+json": {
       "model_id": "4f276d174d504334a41e9d32eaf99f89",
       "version_major": 2,
       "version_minor": 0
      },
      "text/plain": [
       "HBox(children=(FloatProgress(value=0.0, max=50331648.0), HTML(value='')))"
      ]
     },
     "metadata": {},
     "output_type": "display_data"
    },
    {
     "name": "stdout",
     "output_type": "stream",
     "text": [
      "\n"
     ]
    },
    {
     "data": {
      "application/vnd.jupyter.widget-view+json": {
       "model_id": "aaa6a767ea1b4d1bad1475d6cab4c495",
       "version_major": 2,
       "version_minor": 0
      },
      "text/plain": [
       "HBox(children=(FloatProgress(value=0.0, max=50331648.0), HTML(value='')))"
      ]
     },
     "metadata": {},
     "output_type": "display_data"
    },
    {
     "name": "stdout",
     "output_type": "stream",
     "text": [
      "\n"
     ]
    },
    {
     "data": {
      "application/vnd.jupyter.widget-view+json": {
       "model_id": "0ac472381ddb4cb69d1b71a766bac9c3",
       "version_major": 2,
       "version_minor": 0
      },
      "text/plain": [
       "HBox(children=(FloatProgress(value=0.0, max=50331648.0), HTML(value='')))"
      ]
     },
     "metadata": {},
     "output_type": "display_data"
    },
    {
     "name": "stdout",
     "output_type": "stream",
     "text": [
      "\n"
     ]
    },
    {
     "data": {
      "application/vnd.jupyter.widget-view+json": {
       "model_id": "b20387ce67424b008a07fc27561d8c80",
       "version_major": 2,
       "version_minor": 0
      },
      "text/plain": [
       "HBox(children=(FloatProgress(value=0.0, max=50331648.0), HTML(value='')))"
      ]
     },
     "metadata": {},
     "output_type": "display_data"
    },
    {
     "name": "stdout",
     "output_type": "stream",
     "text": [
      "\n"
     ]
    }
   ],
   "source": [
    "planck_pic = np.zeros((list(matr.shape)+[6]))\n",
    "channel = 'I_STOKES'\n",
    "\n",
    "for n_ch, fits_file in enumerate(files):\n",
    "    fits_file = os.path.join(dirname, fits_file)\n",
    "    with fits.open(fits_file) as hdul:\n",
    "        #print(repr(hdul[1].data.columns))\n",
    "        planck_nside = hdul[1].header['NSIDE']\n",
    "        last_pix = hdul[1].header['LASTPIX']\n",
    "        pixels = np.arange(last_pix + 1)\n",
    "        pixels = pix2pix(pixels, planck_nside, small_nside)\n",
    "        for i in tqdm(range(pixels.shape[0])):\n",
    "            pix = pixels[i]\n",
    "            if pix in mdict:\n",
    "                planck_pic[mdict[pix], n_ch] = hdul[1].data[channel][i]"
   ]
  },
  {
   "cell_type": "code",
   "execution_count": 58,
   "metadata": {
    "ExecuteTime": {
     "end_time": "2020-08-04T11:42:02.022937Z",
     "start_time": "2020-08-04T11:42:01.859394Z"
    }
   },
   "outputs": [
    {
     "data": {
      "image/png": "[encoded data removed]",
      "text/plain": [
       "<Figure size 720x720 with 1 Axes>"
      ]
     },
     "metadata": {
      "needs_background": "light"
     },
     "output_type": "display_data"
    }
   ],
   "source": [
    "show_pic(planck_pic[:,:,4])"
   ]
  },
  {
   "cell_type": "code",
   "execution_count": 50,
   "metadata": {
    "ExecuteTime": {
     "end_time": "2020-08-04T11:39:18.609055Z",
     "start_time": "2020-08-04T11:39:18.094149Z"
    }
   },
   "outputs": [],
   "source": [
    "for i, ch in enumerate((100, 143, 217, 353, 545, 857)):\n",
    "    hdu = fits.ImageHDU(planck_pic[:,:,i])\n",
    "    hdu.writeto(os.path.join('/home/rt2122/Data/Planck/', 'planck_coma' + str(ch) +'.fits'))"
   ]
  },
  {
   "cell_type": "code",
   "execution_count": 52,
   "metadata": {
    "ExecuteTime": {
     "end_time": "2020-08-04T11:41:33.782652Z",
     "start_time": "2020-08-04T11:41:33.610849Z"
    }
   },
   "outputs": [],
   "source": [
    "for i in range(6):\n",
    "    planck_pic[:,:,i] -= planck_pic[:,:,i].min()\n",
    "    planck_pic[:,:,i] /= planck_pic[:,:,i].max()"
   ]
  },
  {
   "cell_type": "code",
   "execution_count": 76,
   "metadata": {
    "ExecuteTime": {
     "end_time": "2020-08-04T12:09:11.843594Z",
     "start_time": "2020-08-04T12:09:11.826600Z"
    }
   },
   "outputs": [
    {
     "data": {
      "text/plain": [
       "0.00020448409486562014"
      ]
     },
     "execution_count": 76,
     "metadata": {},
     "output_type": "execute_result"
    }
   ],
   "source": [
    "planck_pic.max()"
   ]
  },
  {
   "cell_type": "code",
   "execution_count": 81,
   "metadata": {
    "ExecuteTime": {
     "end_time": "2020-08-04T12:14:35.191790Z",
     "start_time": "2020-08-04T12:14:35.161871Z"
    }
   },
   "outputs": [],
   "source": [
    "planck_pic[planck_pic == 100] = 0"
   ]
  },
  {
   "cell_type": "code",
   "execution_count": 82,
   "metadata": {
    "ExecuteTime": {
     "end_time": "2020-08-04T12:14:35.813394Z",
     "start_time": "2020-08-04T12:14:35.648720Z"
    }
   },
   "outputs": [
    {
     "data": {
      "image/png": "[encoded data removed]",
      "text/plain": [
       "<Figure size 720x720 with 1 Axes>"
      ]
     },
     "metadata": {
      "needs_background": "light"
     },
     "output_type": "display_data"
    }
   ],
   "source": [
    "show_pic(planck_pic[:,:,0])"
   ]
  },
  {
   "cell_type": "code",
   "execution_count": 84,
   "metadata": {
    "ExecuteTime": {
     "end_time": "2020-08-04T12:14:51.739744Z",
     "start_time": "2020-08-04T12:14:51.715318Z"
    }
   },
   "outputs": [
    {
     "data": {
      "text/plain": [
       "1716"
      ]
     },
     "execution_count": 84,
     "metadata": {},
     "output_type": "execute_result"
    }
   ],
   "source": [
    "np.count_nonzero(planck_pic[:,:,0])"
   ]
  },
  {
   "cell_type": "code",
   "execution_count": null,
   "metadata": {},
   "outputs": [],
   "source": []
  }
 ],
 "metadata": {
  "kernelspec": {
   "display_name": "Python 3",
   "language": "python",
   "name": "python3"
  },
  "language_info": {
   "codemirror_mode": {
    "name": "ipython",
    "version": 3
   },
   "file_extension": ".py",
   "mimetype": "text/x-python",
   "name": "python",
   "nbconvert_exporter": "python",
   "pygments_lexer": "ipython3",
   "version": "3.8.3"
  }
 },
 "nbformat": 4,
 "nbformat_minor": 4
}
