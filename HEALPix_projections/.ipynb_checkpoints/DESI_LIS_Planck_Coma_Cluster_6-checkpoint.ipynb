{
 "cells": [
  {
   "cell_type": "code",
   "execution_count": 32,
   "metadata": {
    "ExecuteTime": {
     "end_time": "2020-08-04T17:09:28.658013Z",
     "start_time": "2020-08-04T17:09:28.647168Z"
    }
   },
   "outputs": [],
   "source": [
    "from DS_healpix_fragmentation import *\n",
    "from DS_WCS_projections import show_pic\n",
    "import numpy as np\n",
    "import healpy as hp\n",
    "from astropy.io import fits\n",
    "from astropy.coordinates import SkyCoord\n",
    "from astropy import units as u\n",
    "from matplotlib import pyplot as plt\n",
    "from skimage.filters import gaussian\n",
    "from skimage.draw import circle\n",
    "import pandas as pd\n",
    "from astropy.table import Table\n",
    "from tqdm.notebook import tqdm\n",
    "from threading import Thread\n",
    "import os\n",
    "from skimage.filters import gaussian"
   ]
  },
  {
   "cell_type": "code",
   "execution_count": 2,
   "metadata": {
    "ExecuteTime": {
     "end_time": "2020-08-04T16:47:37.948620Z",
     "start_time": "2020-08-04T16:47:37.945795Z"
    }
   },
   "outputs": [],
   "source": [
    "ra, dec, radius = 194.9356, 28.0256, 1.1"
   ]
  },
  {
   "cell_type": "code",
   "execution_count": 3,
   "metadata": {
    "ExecuteTime": {
     "end_time": "2020-08-04T16:47:38.143731Z",
     "start_time": "2020-08-04T16:47:37.950774Z"
    }
   },
   "outputs": [
    {
     "data": {
      "text/plain": [
       "32768"
      ]
     },
     "execution_count": 3,
     "metadata": {},
     "output_type": "execute_result"
    }
   ],
   "source": [
    "big_nside, big_ipix = find_biggest_pixel(ra, dec, radius)\n",
    "depth = 12\n",
    "small_nside = big_nside * (2 ** depth)\n",
    "small_nside"
   ]
  },
  {
   "cell_type": "code",
   "execution_count": 4,
   "metadata": {
    "ExecuteTime": {
     "end_time": "2020-08-04T16:48:43.764196Z",
     "start_time": "2020-08-04T16:47:38.145743Z"
    }
   },
   "outputs": [],
   "source": [
    "big_matr = one_pixel_fragmentation(big_nside, big_ipix, depth)\n",
    "mdict = matr2dict(big_matr)"
   ]
  },
  {
   "cell_type": "code",
   "execution_count": 5,
   "metadata": {
    "ExecuteTime": {
     "end_time": "2020-08-04T16:48:44.518900Z",
     "start_time": "2020-08-04T16:48:43.765405Z"
    }
   },
   "outputs": [],
   "source": [
    "coords = draw_proper_circle(ra, dec, small_nside, list(big_matr.shape) + [1], mdict, 1.1)"
   ]
  },
  {
   "cell_type": "code",
   "execution_count": 6,
   "metadata": {
    "ExecuteTime": {
     "end_time": "2020-08-04T16:48:44.530700Z",
     "start_time": "2020-08-04T16:48:44.521244Z"
    }
   },
   "outputs": [],
   "source": [
    "small_matr = zoom_to_circle(coords, big_matr)"
   ]
  },
  {
   "cell_type": "code",
   "execution_count": 7,
   "metadata": {
    "ExecuteTime": {
     "end_time": "2020-08-04T16:48:45.268217Z",
     "start_time": "2020-08-04T16:48:44.531849Z"
    }
   },
   "outputs": [],
   "source": [
    "small_dict = matr2dict(small_matr)"
   ]
  },
  {
   "cell_type": "code",
   "execution_count": 8,
   "metadata": {
    "ExecuteTime": {
     "end_time": "2020-08-04T16:48:45.845135Z",
     "start_time": "2020-08-04T16:48:45.269870Z"
    }
   },
   "outputs": [
    {
     "data": {
      "text/plain": [
       "<matplotlib.image.AxesImage at 0x7f017ceb62b0>"
      ]
     },
     "execution_count": 8,
     "metadata": {},
     "output_type": "execute_result"
    },
    {
     "data": {
      "image/png": "[encoded data removed]",
      "text/plain": [
       "<Figure size 432x288 with 1 Axes>"
      ]
     },
     "metadata": {
      "needs_background": "light"
     },
     "output_type": "display_data"
    }
   ],
   "source": [
    "plt.imshow(small_matr)"
   ]
  },
  {
   "cell_type": "code",
   "execution_count": 9,
   "metadata": {
    "ExecuteTime": {
     "end_time": "2020-08-04T16:48:45.848519Z",
     "start_time": "2020-08-04T16:48:45.846263Z"
    }
   },
   "outputs": [],
   "source": [
    "planck_pic = np.zeros(list(small_matr.shape) + [6])"
   ]
  },
  {
   "cell_type": "code",
   "execution_count": 10,
   "metadata": {
    "ExecuteTime": {
     "end_time": "2020-08-04T16:48:45.957937Z",
     "start_time": "2020-08-04T16:48:45.849603Z"
    }
   },
   "outputs": [
    {
     "data": {
      "text/plain": [
       "['planck3.csv',\n",
       " 'planck1.csv',\n",
       " 'planck5.csv',\n",
       " 'planck4.csv',\n",
       " 'planck2.csv',\n",
       " 'planck0.csv']"
      ]
     },
     "execution_count": 10,
     "metadata": {},
     "output_type": "execute_result"
    }
   ],
   "source": [
    "dirname = '/home/rt2122/Data/Planck/dataframe2/'\n",
    "files = next(os.walk(dirname))[-1]\n",
    "files"
   ]
  },
  {
   "cell_type": "code",
   "execution_count": 21,
   "metadata": {
    "ExecuteTime": {
     "end_time": "2020-08-04T16:58:20.860421Z",
     "start_time": "2020-08-04T16:58:20.854530Z"
    }
   },
   "outputs": [],
   "source": [
    "k = 0"
   ]
  },
  {
   "cell_type": "code",
   "execution_count": 22,
   "metadata": {
    "ExecuteTime": {
     "end_time": "2020-08-04T17:01:45.914658Z",
     "start_time": "2020-08-04T16:58:21.281378Z"
    }
   },
   "outputs": [
    {
     "data": {
      "application/vnd.jupyter.widget-view+json": {
       "model_id": "b949a0fcd6a04e7c88bde3de1acd6d31",
       "version_major": 2,
       "version_minor": 0
      },
      "text/plain": [
       "HBox(children=(FloatProgress(value=0.0, max=7452.0), HTML(value='')))"
      ]
     },
     "metadata": {},
     "output_type": "display_data"
    },
    {
     "name": "stdout",
     "output_type": "stream",
     "text": [
      "\n"
     ]
    },
    {
     "data": {
      "application/vnd.jupyter.widget-view+json": {
       "model_id": "c159f56787d14797ad6bb1da07712b5c",
       "version_major": 2,
       "version_minor": 0
      },
      "text/plain": [
       "HBox(children=(FloatProgress(value=0.0, max=7452.0), HTML(value='')))"
      ]
     },
     "metadata": {},
     "output_type": "display_data"
    },
    {
     "name": "stdout",
     "output_type": "stream",
     "text": [
      "\n"
     ]
    },
    {
     "data": {
      "application/vnd.jupyter.widget-view+json": {
       "model_id": "f2edcb23fccb49d498bc372c614ab139",
       "version_major": 2,
       "version_minor": 0
      },
      "text/plain": [
       "HBox(children=(FloatProgress(value=0.0, max=7452.0), HTML(value='')))"
      ]
     },
     "metadata": {},
     "output_type": "display_data"
    },
    {
     "name": "stdout",
     "output_type": "stream",
     "text": [
      "\n"
     ]
    },
    {
     "data": {
      "application/vnd.jupyter.widget-view+json": {
       "model_id": "274a9462d6fe4513b104fea48ba36b07",
       "version_major": 2,
       "version_minor": 0
      },
      "text/plain": [
       "HBox(children=(FloatProgress(value=0.0, max=7452.0), HTML(value='')))"
      ]
     },
     "metadata": {},
     "output_type": "display_data"
    },
    {
     "name": "stdout",
     "output_type": "stream",
     "text": [
      "\n"
     ]
    },
    {
     "data": {
      "application/vnd.jupyter.widget-view+json": {
       "model_id": "068cb1214d2342f2a49121d689d44205",
       "version_major": 2,
       "version_minor": 0
      },
      "text/plain": [
       "HBox(children=(FloatProgress(value=0.0, max=7452.0), HTML(value='')))"
      ]
     },
     "metadata": {},
     "output_type": "display_data"
    },
    {
     "name": "stdout",
     "output_type": "stream",
     "text": [
      "\n"
     ]
    },
    {
     "data": {
      "application/vnd.jupyter.widget-view+json": {
       "model_id": "9254c5287fe34d908780ac25213bd095",
       "version_major": 2,
       "version_minor": 0
      },
      "text/plain": [
       "HBox(children=(FloatProgress(value=0.0, max=7452.0), HTML(value='')))"
      ]
     },
     "metadata": {},
     "output_type": "display_data"
    },
    {
     "name": "stdout",
     "output_type": "stream",
     "text": [
      "\n"
     ]
    }
   ],
   "source": [
    "for i, file in enumerate(files):\n",
    "    df = pd.read_csv(os.path.join(dirname, file))\n",
    "    \n",
    "    for j in tqdm(range(df.shape[0])):\n",
    "        pix = df['pix'][i]\n",
    "        pix = one_pixel_fragmentation(2048, pix, 4).flatten()\n",
    "        for p in pix:\n",
    "            if p in small_dict:\n",
    "                planck_pic[small_dict[p], i] = df['I_STOKES'][i]\n",
    "            else:\n",
    "                k += 1"
   ]
  },
  {
   "cell_type": "code",
   "execution_count": 20,
   "metadata": {
    "ExecuteTime": {
     "end_time": "2020-08-04T16:54:30.121125Z",
     "start_time": "2020-08-04T16:54:29.813219Z"
    }
   },
   "outputs": [
    {
     "data": {
      "image/png": "[encoded data removed]",
      "text/plain": [
       "<Figure size 720x720 with 1 Axes>"
      ]
     },
     "metadata": {
      "needs_background": "light"
     },
     "output_type": "display_data"
    }
   ],
   "source": [
    "show_pic(planck_pic[:,:,3:])"
   ]
  },
  {
   "cell_type": "code",
   "execution_count": 17,
   "metadata": {
    "ExecuteTime": {
     "end_time": "2020-08-04T16:53:11.916313Z",
     "start_time": "2020-08-04T16:53:11.905894Z"
    }
   },
   "outputs": [
    {
     "data": {
      "text/plain": [
       "(1070032292, 1073741823)"
      ]
     },
     "execution_count": 17,
     "metadata": {},
     "output_type": "execute_result"
    }
   ],
   "source": [
    "small_matr.min(), small_matr.max()"
   ]
  },
  {
   "cell_type": "code",
   "execution_count": 18,
   "metadata": {
    "ExecuteTime": {
     "end_time": "2020-08-04T16:53:12.000902Z",
     "start_time": "2020-08-04T16:53:11.917901Z"
    }
   },
   "outputs": [
    {
     "data": {
      "text/plain": [
       "(0.0, 0.8272091)"
      ]
     },
     "execution_count": 18,
     "metadata": {},
     "output_type": "execute_result"
    }
   ],
   "source": [
    "planck_pic.min(), planck_pic.max()"
   ]
  },
  {
   "cell_type": "code",
   "execution_count": 14,
   "metadata": {
    "ExecuteTime": {
     "end_time": "2020-08-04T16:49:40.110854Z",
     "start_time": "2020-08-04T16:49:40.102795Z"
    }
   },
   "outputs": [
    {
     "data": {
      "text/plain": [
       "32768"
      ]
     },
     "execution_count": 14,
     "metadata": {},
     "output_type": "execute_result"
    }
   ],
   "source": [
    "2048 * (2**4)"
   ]
  },
  {
   "cell_type": "code",
   "execution_count": 24,
   "metadata": {
    "ExecuteTime": {
     "end_time": "2020-08-04T17:07:49.745593Z",
     "start_time": "2020-08-04T17:07:49.733563Z"
    }
   },
   "outputs": [
    {
     "data": {
      "text/plain": [
       "77"
      ]
     },
     "execution_count": 24,
     "metadata": {},
     "output_type": "execute_result"
    }
   ],
   "source": [
    "k // 2**16"
   ]
  },
  {
   "cell_type": "code",
   "execution_count": 28,
   "metadata": {
    "ExecuteTime": {
     "end_time": "2020-08-04T17:08:58.696643Z",
     "start_time": "2020-08-04T17:08:58.670872Z"
    }
   },
   "outputs": [],
   "source": [
    "planck_picc = planck_pic.copy()"
   ]
  },
  {
   "cell_type": "code",
   "execution_count": 30,
   "metadata": {
    "ExecuteTime": {
     "end_time": "2020-08-04T17:09:09.032560Z",
     "start_time": "2020-08-04T17:09:09.014133Z"
    }
   },
   "outputs": [],
   "source": [
    "planck_picc[planck_picc != 0] = 100"
   ]
  },
  {
   "cell_type": "code",
   "execution_count": 36,
   "metadata": {
    "ExecuteTime": {
     "end_time": "2020-08-04T17:10:19.408089Z",
     "start_time": "2020-08-04T17:10:16.521770Z"
    }
   },
   "outputs": [
    {
     "name": "stderr",
     "output_type": "stream",
     "text": [
      "<ipython-input-36-8cef5008b4f2>:1: RuntimeWarning: Images with dimensions (M, N, 3) are interpreted as 2D+RGB by default. Use `multichannel=False` to interpret as 3D image with last dimension of length 3.\n",
      "  show_pic(gaussian(planck_picc[:,:,3:], 50))\n",
      "Clipping input data to the valid range for imshow with RGB data ([0..1] for floats or [0..255] for integers).\n"
     ]
    },
    {
     "data": {
      "image/png": "[encoded data removed]",
      "text/plain": [
       "<Figure size 720x720 with 1 Axes>"
      ]
     },
     "metadata": {
      "needs_background": "light"
     },
     "output_type": "display_data"
    }
   ],
   "source": [
    "show_pic(gaussian(planck_picc[:,:,3:], 50))"
   ]
  },
  {
   "cell_type": "code",
   "execution_count": null,
   "metadata": {},
   "outputs": [],
   "source": []
  }
 ],
 "metadata": {
  "kernelspec": {
   "display_name": "Python 3",
   "language": "python",
   "name": "python3"
  },
  "language_info": {
   "codemirror_mode": {
    "name": "ipython",
    "version": 3
   },
   "file_extension": ".py",
   "mimetype": "text/x-python",
   "name": "python",
   "nbconvert_exporter": "python",
   "pygments_lexer": "ipython3",
   "version": "3.8.3"
  }
 },
 "nbformat": 4,
 "nbformat_minor": 4
}
