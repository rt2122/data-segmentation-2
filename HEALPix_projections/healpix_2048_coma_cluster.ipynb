{
 "cells": [
  {
   "cell_type": "code",
   "execution_count": 1,
   "metadata": {
    "ExecuteTime": {
     "end_time": "2020-08-15T18:16:05.977286Z",
     "start_time": "2020-08-15T18:16:02.872377Z"
    }
   },
   "outputs": [],
   "source": [
    "import pandas as pd\n",
    "import numpy as np\n",
    "from DS_healpix_fragmentation import *\n",
    "from DS_data_transformation import *\n",
    "import healpy as hp\n",
    "import DS_Coma_Cluster_param as cc_prm\n",
    "from astropy.coordinates import SkyCoord\n",
    "from astropy import units as u\n",
    "from matplotlib import pyplot as plt"
   ]
  },
  {
   "cell_type": "code",
   "execution_count": 2,
   "metadata": {
    "ExecuteTime": {
     "end_time": "2020-08-15T16:03:26.559942Z",
     "start_time": "2020-08-15T16:03:26.543141Z"
    }
   },
   "outputs": [
    {
     "data": {
      "text/plain": [
       "0"
      ]
     },
     "execution_count": 2,
     "metadata": {},
     "output_type": "execute_result"
    }
   ],
   "source": [
    "sc_cen = SkyCoord(ra=cc_prm.ra_center*u.degree, dec=cc_prm.dec_center*u.degree, \n",
    "                  frame='icrs')\n",
    "bigpix = hp.ang2pix(nside=1, theta=sc_cen.galactic.l.degree, \n",
    "                    phi=sc_cen.galactic.b.degree, nest=True, lonlat=True)\n",
    "bigpix"
   ]
  },
  {
   "cell_type": "code",
   "execution_count": 3,
   "metadata": {
    "ExecuteTime": {
     "end_time": "2020-08-15T16:03:27.423675Z",
     "start_time": "2020-08-15T16:03:27.191504Z"
    }
   },
   "outputs": [
    {
     "data": {
      "image/png": "[encoded data removed]",
      "text/plain": [
       "<Figure size 612x388.8 with 2 Axes>"
      ]
     },
     "metadata": {
      "needs_background": "light"
     },
     "output_type": "display_data"
    }
   ],
   "source": [
    "a = np.zeros(hp.nside2npix(1))\n",
    "a[0] = 1\n",
    "hp.mollview(a, nest=True)"
   ]
  },
  {
   "cell_type": "code",
   "execution_count": 9,
   "metadata": {
    "ExecuteTime": {
     "end_time": "2020-08-15T14:51:01.122656Z",
     "start_time": "2020-08-15T14:47:03.229048Z"
    }
   },
   "outputs": [],
   "source": [
    "big_matr = one_pixel_fragmentation(1, 0, 13)"
   ]
  },
  {
   "cell_type": "code",
   "execution_count": 10,
   "metadata": {
    "ExecuteTime": {
     "end_time": "2020-08-15T14:52:41.884644Z",
     "start_time": "2020-08-15T14:52:21.748384Z"
    }
   },
   "outputs": [],
   "source": [
    "big_dict = matr2dict(big_matr)"
   ]
  },
  {
   "cell_type": "code",
   "execution_count": 13,
   "metadata": {
    "ExecuteTime": {
     "end_time": "2020-08-15T14:53:14.297888Z",
     "start_time": "2020-08-15T14:53:14.221337Z"
    }
   },
   "outputs": [],
   "source": [
    "small_nside = 2**13\n",
    "circle_pic = draw_proper_circle(cc_prm.ra_center, cc_prm.dec_center, small_nside, \n",
    "                list(big_matr.shape)+[1], big_dict, cc_prm.radius, mode='pic')"
   ]
  },
  {
   "cell_type": "code",
   "execution_count": 17,
   "metadata": {
    "ExecuteTime": {
     "end_time": "2020-08-15T14:54:09.131849Z",
     "start_time": "2020-08-15T14:54:08.499094Z"
    }
   },
   "outputs": [
    {
     "data": {
      "image/png": "[encoded data removed]",
      "text/plain": [
       "<Figure size 720x720 with 1 Axes>"
      ]
     },
     "metadata": {
      "needs_background": "light"
     },
     "output_type": "display_data"
    }
   ],
   "source": [
    "show_pic(circle_pic[:,:,0])"
   ]
  },
  {
   "cell_type": "code",
   "execution_count": 18,
   "metadata": {
    "ExecuteTime": {
     "end_time": "2020-08-15T14:58:18.188613Z",
     "start_time": "2020-08-15T14:58:18.176527Z"
    }
   },
   "outputs": [],
   "source": [
    "del(big_matr)\n",
    "del(big_dict)\n",
    "del(circle_pic)"
   ]
  },
  {
   "cell_type": "code",
   "execution_count": 6,
   "metadata": {
    "ExecuteTime": {
     "end_time": "2020-08-15T18:16:48.008566Z",
     "start_time": "2020-08-15T18:16:48.004528Z"
    }
   },
   "outputs": [],
   "source": [
    "depth=13"
   ]
  },
  {
   "cell_type": "code",
   "execution_count": 3,
   "metadata": {
    "ExecuteTime": {
     "end_time": "2020-08-15T16:15:38.893396Z",
     "start_time": "2020-08-15T16:11:44.151009Z"
    }
   },
   "outputs": [],
   "source": [
    "big_matr = one_pixel_fragmentation(cc_prm.big_nside, cc_prm.big_ipix, depth)"
   ]
  },
  {
   "cell_type": "code",
   "execution_count": 7,
   "metadata": {
    "ExecuteTime": {
     "end_time": "2020-08-15T18:16:48.896915Z",
     "start_time": "2020-08-15T18:16:48.892594Z"
    }
   },
   "outputs": [
    {
     "data": {
      "text/plain": [
       "65536"
      ]
     },
     "execution_count": 7,
     "metadata": {},
     "output_type": "execute_result"
    }
   ],
   "source": [
    "small_nside = cc_prm.big_nside * 2 ** depth\n",
    "small_nside"
   ]
  },
  {
   "cell_type": "code",
   "execution_count": 5,
   "metadata": {
    "ExecuteTime": {
     "end_time": "2020-08-15T16:16:00.686177Z",
     "start_time": "2020-08-15T16:15:38.901967Z"
    }
   },
   "outputs": [],
   "source": [
    "big_dict = matr2dict(big_matr)"
   ]
  },
  {
   "cell_type": "code",
   "execution_count": 6,
   "metadata": {
    "ExecuteTime": {
     "end_time": "2020-08-15T16:16:03.400439Z",
     "start_time": "2020-08-15T16:16:00.687442Z"
    }
   },
   "outputs": [],
   "source": [
    "circle_coords = draw_proper_circle(cc_prm.ra_center, cc_prm.dec_center, small_nside, \n",
    "                                  big_matr.shape, big_dict, cc_prm.radius)"
   ]
  },
  {
   "cell_type": "code",
   "execution_count": 10,
   "metadata": {
    "ExecuteTime": {
     "end_time": "2020-08-15T16:18:36.061570Z",
     "start_time": "2020-08-15T16:18:36.035918Z"
    }
   },
   "outputs": [
    {
     "name": "stdout",
     "output_type": "stream",
     "text": [
      "-2809\n",
      "-2202\n"
     ]
    }
   ],
   "source": [
    "print(circle_coords[:,0].min() - circle_coords[:,0].max())\n",
    "print(circle_coords[:,1].min() - circle_coords[:,1].max())"
   ]
  },
  {
   "cell_type": "code",
   "execution_count": 8,
   "metadata": {
    "ExecuteTime": {
     "end_time": "2020-08-15T16:16:03.504856Z",
     "start_time": "2020-08-15T16:16:03.435816Z"
    }
   },
   "outputs": [],
   "source": [
    "small_matr = zoom_to_circle(circle_coords, big_matr)"
   ]
  },
  {
   "cell_type": "code",
   "execution_count": 9,
   "metadata": {
    "ExecuteTime": {
     "end_time": "2020-08-15T16:16:03.577476Z",
     "start_time": "2020-08-15T16:16:03.506292Z"
    }
   },
   "outputs": [
    {
     "data": {
      "text/plain": [
       "(4075, 3150)"
      ]
     },
     "execution_count": 9,
     "metadata": {},
     "output_type": "execute_result"
    }
   ],
   "source": [
    "small_matr.shape"
   ]
  },
  {
   "cell_type": "code",
   "execution_count": 11,
   "metadata": {
    "ExecuteTime": {
     "end_time": "2020-08-15T16:19:46.621287Z",
     "start_time": "2020-08-15T16:19:46.586400Z"
    }
   },
   "outputs": [],
   "source": [
    "small_matr = big_matr[circle_coords[:, 0].min():circle_coords[:, 0].max() + 1,\n",
    "                     circle_coords[:, 1].min():circle_coords[:, 1].max() + 1]"
   ]
  },
  {
   "cell_type": "code",
   "execution_count": 12,
   "metadata": {
    "ExecuteTime": {
     "end_time": "2020-08-15T16:20:44.553069Z",
     "start_time": "2020-08-15T16:20:44.353956Z"
    }
   },
   "outputs": [],
   "source": [
    "np.save('/home/rt2122/Data/coma_sweep/south/small_matr_depth13', small_matr)"
   ]
  },
  {
   "cell_type": "code",
   "execution_count": 2,
   "metadata": {
    "ExecuteTime": {
     "end_time": "2020-08-15T18:16:19.472476Z",
     "start_time": "2020-08-15T18:16:18.835068Z"
    }
   },
   "outputs": [],
   "source": [
    "small_matr = np.load('/home/rt2122/Data/coma_sweep/south/small_matr_depth13.npy')"
   ]
  },
  {
   "cell_type": "code",
   "execution_count": 3,
   "metadata": {
    "ExecuteTime": {
     "end_time": "2020-08-15T18:16:22.159306Z",
     "start_time": "2020-08-15T18:16:20.046192Z"
    }
   },
   "outputs": [],
   "source": [
    "small_dict = matr2dict(small_matr)"
   ]
  },
  {
   "cell_type": "code",
   "execution_count": 12,
   "metadata": {
    "ExecuteTime": {
     "end_time": "2020-08-15T18:18:14.776734Z",
     "start_time": "2020-08-15T18:18:14.762808Z"
    }
   },
   "outputs": [],
   "source": [
    "circle_coords = draw_proper_circle(cc_prm.ra_center, cc_prm.dec_center, small_nside, \n",
    "                               list(small_matr.shape) + [1], small_dict, 0.0001)"
   ]
  },
  {
   "cell_type": "code",
   "execution_count": 14,
   "metadata": {
    "ExecuteTime": {
     "end_time": "2020-08-15T18:18:36.647931Z",
     "start_time": "2020-08-15T18:18:36.640860Z"
    }
   },
   "outputs": [
    {
     "name": "stdout",
     "output_type": "stream",
     "text": [
      "1537 1538\n",
      "1227 1228\n",
      "(2810, 2203)\n"
     ]
    }
   ],
   "source": [
    "print(circle_coords[:,0].min(), circle_coords[:,0].max())\n",
    "print(circle_coords[:,1].min(), circle_coords[:,1].max())\n",
    "print(small_matr.shape)"
   ]
  },
  {
   "cell_type": "code",
   "execution_count": 13,
   "metadata": {
    "ExecuteTime": {
     "end_time": "2020-08-15T16:24:15.135529Z",
     "start_time": "2020-08-15T16:24:15.130754Z"
    }
   },
   "outputs": [
    {
     "data": {
      "text/plain": [
       "array([381. ,  77.5])"
      ]
     },
     "execution_count": 13,
     "metadata": {},
     "output_type": "execute_result"
    }
   ],
   "source": [
    "(np.array(small_matr.shape) - 2048) / 2"
   ]
  },
  {
   "cell_type": "code",
   "execution_count": 21,
   "metadata": {
    "ExecuteTime": {
     "end_time": "2020-08-15T18:22:45.290500Z",
     "start_time": "2020-08-15T18:22:45.283091Z"
    }
   },
   "outputs": [
    {
     "data": {
      "text/plain": [
       "(2048, 2048)"
      ]
     },
     "execution_count": 21,
     "metadata": {},
     "output_type": "execute_result"
    }
   ],
   "source": [
    "small_matr[1537-1024:1537+1024,1227-1024-48:1227+1024].shape"
   ]
  },
  {
   "cell_type": "code",
   "execution_count": 22,
   "metadata": {
    "ExecuteTime": {
     "end_time": "2020-08-15T18:23:05.903736Z",
     "start_time": "2020-08-15T18:23:04.131501Z"
    }
   },
   "outputs": [],
   "source": [
    "small_matr = small_matr[1537-1024:1537+1024,1227-1024-48:1227+1024]\n",
    "small_dict = matr2dict(small_matr)"
   ]
  },
  {
   "cell_type": "code",
   "execution_count": 23,
   "metadata": {
    "ExecuteTime": {
     "end_time": "2020-08-15T18:23:17.075035Z",
     "start_time": "2020-08-15T18:23:07.662205Z"
    }
   },
   "outputs": [],
   "source": [
    "df = pd.read_csv('/home/rt2122/Data/coma_sweep/south/circle_2degree_filtered.csv')"
   ]
  },
  {
   "cell_type": "code",
   "execution_count": 24,
   "metadata": {
    "ExecuteTime": {
     "end_time": "2020-08-15T18:23:17.130088Z",
     "start_time": "2020-08-15T18:23:17.076512Z"
    }
   },
   "outputs": [],
   "source": [
    "df_max = n_max_flux_df(df, 100, ['FLUX_G', 'FLUX_R', 'FLUX_Z'])\n",
    "df_max.index = np.arange(df_max.shape[0])"
   ]
  },
  {
   "cell_type": "code",
   "execution_count": 25,
   "metadata": {
    "ExecuteTime": {
     "end_time": "2020-08-15T18:23:17.181164Z",
     "start_time": "2020-08-15T18:23:17.131334Z"
    }
   },
   "outputs": [],
   "source": [
    "def draw_circles_ch(ra, dec, nside, shape, mdict, data, coef=0.02):\n",
    "    import numpy as np\n",
    "    from skimage.draw import circle\n",
    "    \n",
    "    coef = shape[0] * coef / max(data)\n",
    "    pic = np.zeros(shape)\n",
    "    pix = radec2pix(ra, dec, nside)\n",
    "    \n",
    "    for i in range(len(pix)):\n",
    "        if pix[i] in mdict:\n",
    "            coords = circle(*mdict[pix[i]], coef * data[i], shape=shape)\n",
    "            pic[coords] = 1\n",
    "    return pic"
   ]
  },
  {
   "cell_type": "code",
   "execution_count": 26,
   "metadata": {
    "ExecuteTime": {
     "end_time": "2020-08-15T18:23:17.623765Z",
     "start_time": "2020-08-15T18:23:17.184785Z"
    }
   },
   "outputs": [],
   "source": [
    "pic_g = draw_circles_ch(df_max['RA'], df_max['DEC'], small_nside, (2048, 2048, 1), \n",
    "                       small_dict, df_max['FLUX_G'])\n",
    "pic_r = draw_circles_ch(df_max['RA'], df_max['DEC'], small_nside, (2048, 2048, 1), \n",
    "                       small_dict, df_max['FLUX_R'])\n",
    "pic_z = draw_circles_ch(df_max['RA'], df_max['DEC'], small_nside, (2048, 2048, 1), \n",
    "                       small_dict, df_max['FLUX_Z'])"
   ]
  },
  {
   "cell_type": "code",
   "execution_count": 27,
   "metadata": {
    "ExecuteTime": {
     "end_time": "2020-08-15T18:23:18.224539Z",
     "start_time": "2020-08-15T18:23:17.624771Z"
    }
   },
   "outputs": [
    {
     "data": {
      "image/png": "[encoded data removed]",
      "text/plain": [
       "<Figure size 720x720 with 1 Axes>"
      ]
     },
     "metadata": {
      "needs_background": "light"
     },
     "output_type": "display_data"
    }
   ],
   "source": [
    "show_pic(np.dstack([pic_g, pic_r, pic_z]))"
   ]
  },
  {
   "cell_type": "code",
   "execution_count": 26,
   "metadata": {
    "ExecuteTime": {
     "end_time": "2020-08-15T17:40:52.618172Z",
     "start_time": "2020-08-15T17:40:52.611070Z"
    }
   },
   "outputs": [
    {
     "data": {
      "text/plain": [
       "1.561472637857801e-05"
      ]
     },
     "execution_count": 26,
     "metadata": {},
     "output_type": "execute_result"
    }
   ],
   "source": [
    "hp.nside2resol(small_nside)"
   ]
  },
  {
   "cell_type": "code",
   "execution_count": null,
   "metadata": {},
   "outputs": [],
   "source": []
  }
 ],
 "metadata": {
  "kernelspec": {
   "display_name": "Python 3",
   "language": "python",
   "name": "python3"
  },
  "language_info": {
   "codemirror_mode": {
    "name": "ipython",
    "version": 3
   },
   "file_extension": ".py",
   "mimetype": "text/x-python",
   "name": "python",
   "nbconvert_exporter": "python",
   "pygments_lexer": "ipython3",
   "version": "3.8.3"
  }
 },
 "nbformat": 4,
 "nbformat_minor": 4
}
