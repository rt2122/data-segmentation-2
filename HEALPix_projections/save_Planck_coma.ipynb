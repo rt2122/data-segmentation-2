{
 "cells": [
  {
   "cell_type": "code",
   "execution_count": 20,
   "metadata": {
    "ExecuteTime": {
     "end_time": "2020-08-04T16:39:35.668333Z",
     "start_time": "2020-08-04T16:39:35.658260Z"
    }
   },
   "outputs": [],
   "source": [
    "from DS_healpix_fragmentation import *\n",
    "from DS_WCS_projections import show_pic\n",
    "from astropy.io import fits\n",
    "import pandas as pd\n",
    "import numpy as np\n",
    "import healpy as hp\n",
    "from tqdm.notebook import tqdm\n",
    "import os\n",
    "from astropy.table import Table"
   ]
  },
  {
   "cell_type": "code",
   "execution_count": 2,
   "metadata": {
    "ExecuteTime": {
     "end_time": "2020-08-04T16:30:53.174807Z",
     "start_time": "2020-08-04T16:30:53.171927Z"
    }
   },
   "outputs": [],
   "source": [
    "ra, dec, radius = 194.9356, 28.0256, 1.1"
   ]
  },
  {
   "cell_type": "code",
   "execution_count": 3,
   "metadata": {
    "ExecuteTime": {
     "end_time": "2020-08-04T16:30:53.274179Z",
     "start_time": "2020-08-04T16:30:53.177110Z"
    }
   },
   "outputs": [
    {
     "data": {
      "text/plain": [
       "2048"
      ]
     },
     "execution_count": 3,
     "metadata": {},
     "output_type": "execute_result"
    }
   ],
   "source": [
    "big_nside, big_pix = find_biggest_pixel(ra, dec, radius)\n",
    "depth = 8\n",
    "small_nside = big_nside * (2**depth)\n",
    "small_nside"
   ]
  },
  {
   "cell_type": "code",
   "execution_count": 4,
   "metadata": {
    "ExecuteTime": {
     "end_time": "2020-08-04T16:30:53.616821Z",
     "start_time": "2020-08-04T16:30:53.275756Z"
    }
   },
   "outputs": [],
   "source": [
    "big_matr = one_pixel_fragmentation(big_nside, big_pix, depth)"
   ]
  },
  {
   "cell_type": "code",
   "execution_count": 5,
   "metadata": {
    "ExecuteTime": {
     "end_time": "2020-08-04T16:30:53.645306Z",
     "start_time": "2020-08-04T16:30:53.620962Z"
    }
   },
   "outputs": [],
   "source": [
    "big_dict = matr2dict(big_matr)"
   ]
  },
  {
   "cell_type": "code",
   "execution_count": 6,
   "metadata": {
    "ExecuteTime": {
     "end_time": "2020-08-04T16:30:53.735452Z",
     "start_time": "2020-08-04T16:30:53.648282Z"
    }
   },
   "outputs": [],
   "source": [
    "coords = draw_proper_circle(ra, dec, small_nside, big_matr.shape, big_dict, radius)"
   ]
  },
  {
   "cell_type": "code",
   "execution_count": 7,
   "metadata": {
    "ExecuteTime": {
     "end_time": "2020-08-04T16:30:56.024515Z",
     "start_time": "2020-08-04T16:30:55.944432Z"
    }
   },
   "outputs": [],
   "source": [
    "circle_pic = draw_proper_circle(ra, dec, small_nside, list(big_matr.shape)+[1], big_dict, radius, \n",
    "                                mode='pic')"
   ]
  },
  {
   "cell_type": "code",
   "execution_count": 8,
   "metadata": {
    "ExecuteTime": {
     "end_time": "2020-08-04T16:30:56.846695Z",
     "start_time": "2020-08-04T16:30:56.632138Z"
    }
   },
   "outputs": [
    {
     "data": {
      "image/png": "[encoded data removed]",
      "text/plain": [
       "<Figure size 432x432 with 1 Axes>"
      ]
     },
     "metadata": {
      "needs_background": "light"
     },
     "output_type": "display_data"
    }
   ],
   "source": [
    "show_pic(circle_pic[:,:,0], figsize=(6, 6))"
   ]
  },
  {
   "cell_type": "code",
   "execution_count": 9,
   "metadata": {
    "ExecuteTime": {
     "end_time": "2020-08-04T16:30:58.744265Z",
     "start_time": "2020-08-04T16:30:58.740274Z"
    }
   },
   "outputs": [],
   "source": [
    "small_matr = zoom_to_circle(coords, big_matr)"
   ]
  },
  {
   "cell_type": "code",
   "execution_count": 11,
   "metadata": {
    "ExecuteTime": {
     "end_time": "2020-08-04T16:31:50.596561Z",
     "start_time": "2020-08-04T16:31:50.580914Z"
    }
   },
   "outputs": [
    {
     "data": {
      "text/plain": [
       "7452"
      ]
     },
     "execution_count": 11,
     "metadata": {},
     "output_type": "execute_result"
    }
   ],
   "source": [
    "small_matr = list(small_matr.flatten())\n",
    "len(small_matr)"
   ]
  },
  {
   "cell_type": "code",
   "execution_count": 15,
   "metadata": {
    "ExecuteTime": {
     "end_time": "2020-08-04T16:35:32.015201Z",
     "start_time": "2020-08-04T16:35:29.724695Z"
    }
   },
   "outputs": [],
   "source": [
    "pixels = np.arange(hp.nside2npix(small_nside))\n",
    "small_matr = np.array(small_matr)\n",
    "in_rad = np.in1d(pixels, small_matr)"
   ]
  },
  {
   "cell_type": "code",
   "execution_count": 16,
   "metadata": {
    "ExecuteTime": {
     "end_time": "2020-08-04T16:35:38.879800Z",
     "start_time": "2020-08-04T16:35:38.867895Z"
    }
   },
   "outputs": [
    {
     "data": {
      "text/plain": [
       "7452"
      ]
     },
     "execution_count": 16,
     "metadata": {},
     "output_type": "execute_result"
    }
   ],
   "source": [
    "np.count_nonzero(in_rad)"
   ]
  },
  {
   "cell_type": "code",
   "execution_count": 18,
   "metadata": {
    "ExecuteTime": {
     "end_time": "2020-08-04T16:36:20.998981Z",
     "start_time": "2020-08-04T16:36:20.973420Z"
    }
   },
   "outputs": [
    {
     "data": {
      "text/plain": [
       "['HFI_SkyMap_217_2048_R3.01_full.fits',\n",
       " 'HFI_SkyMap_545_2048_R3.01_full.fits',\n",
       " 'HFI_SkyMap_857_2048_R3.01_full.fits',\n",
       " 'HFI_SkyMap_100_2048_R3.01_full.fits',\n",
       " 'HFI_SkyMap_353_2048_R3.01_full.fits',\n",
       " 'HFI_SkyMap_143_2048_R3.01_full.fits']"
      ]
     },
     "execution_count": 18,
     "metadata": {},
     "output_type": "execute_result"
    }
   ],
   "source": [
    "dirname = '/home/rt2122/Data/Planck/'\n",
    "files = next(os.walk(dirname))[-1]\n",
    "files"
   ]
  },
  {
   "cell_type": "code",
   "execution_count": 22,
   "metadata": {
    "ExecuteTime": {
     "end_time": "2020-08-04T16:45:51.499684Z",
     "start_time": "2020-08-04T16:40:23.358715Z"
    }
   },
   "outputs": [
    {
     "data": {
      "application/vnd.jupyter.widget-view+json": {
       "model_id": "8d9ef07563d042b4b9f65083ac415347",
       "version_major": 2,
       "version_minor": 0
      },
      "text/plain": [
       "HBox(children=(FloatProgress(value=1.0, bar_style='info', max=1.0), HTML(value='')))"
      ]
     },
     "metadata": {},
     "output_type": "display_data"
    },
    {
     "name": "stdout",
     "output_type": "stream",
     "text": [
      "\n"
     ]
    }
   ],
   "source": [
    "for i_ch, file in tqdm(enumerate(files)):\n",
    "    df = None\n",
    "    with fits.open(os.path.join(dirname, file)) as hdul:\n",
    "        tbl = Table(hdul[1].data)\n",
    "        names = [name for name in tbl.colnames if len(tbl[name].shape) <= 1]\n",
    "        df = tbl[names].to_pandas()\n",
    "    df['pix'] = np.arange(df.shape[0])\n",
    "    df = df[in_rad]\n",
    "    df.to_csv('/home/rt2122/Data/Planck/dataframe2/planck' + str(i_ch) + '.csv', index=False) "
   ]
  },
  {
   "cell_type": "code",
   "execution_count": null,
   "metadata": {},
   "outputs": [],
   "source": []
  }
 ],
 "metadata": {
  "kernelspec": {
   "display_name": "Python 3",
   "language": "python",
   "name": "python3"
  },
  "language_info": {
   "codemirror_mode": {
    "name": "ipython",
    "version": 3
   },
   "file_extension": ".py",
   "mimetype": "text/x-python",
   "name": "python",
   "nbconvert_exporter": "python",
   "pygments_lexer": "ipython3",
   "version": "3.8.3"
  }
 },
 "nbformat": 4,
 "nbformat_minor": 4
}
