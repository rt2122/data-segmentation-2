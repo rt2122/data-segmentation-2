{
 "cells": [
  {
   "cell_type": "code",
   "execution_count": 1,
   "metadata": {
    "ExecuteTime": {
     "end_time": "2020-08-04T17:11:24.222830Z",
     "start_time": "2020-08-04T17:11:23.137877Z"
    }
   },
   "outputs": [],
   "source": [
    "from DS_healpix_fragmentation import *\n",
    "from DS_WCS_projections import show_pic\n",
    "import numpy as np\n",
    "import healpy as hp\n",
    "from astropy.io import fits\n",
    "from astropy.coordinates import SkyCoord\n",
    "from astropy import units as u\n",
    "from matplotlib import pyplot as plt\n",
    "from skimage.filters import gaussian\n",
    "from skimage.draw import circle\n",
    "import pandas as pd\n",
    "from astropy.table import Table\n",
    "from tqdm.notebook import tqdm\n",
    "from threading import Thread\n",
    "import os\n",
    "from skimage.filters import gaussian"
   ]
  },
  {
   "cell_type": "code",
   "execution_count": 2,
   "metadata": {
    "ExecuteTime": {
     "end_time": "2020-08-04T17:11:34.193487Z",
     "start_time": "2020-08-04T17:11:34.186417Z"
    }
   },
   "outputs": [],
   "source": [
    "ra, dec, radius = 194.9356, 28.0256, 1.1"
   ]
  },
  {
   "cell_type": "code",
   "execution_count": 5,
   "metadata": {
    "ExecuteTime": {
     "end_time": "2020-08-04T17:11:46.803033Z",
     "start_time": "2020-08-04T17:11:46.781906Z"
    }
   },
   "outputs": [
    {
     "data": {
      "text/plain": [
       "2048"
      ]
     },
     "execution_count": 5,
     "metadata": {},
     "output_type": "execute_result"
    }
   ],
   "source": [
    "big_nside, big_ipix = find_biggest_pixel(ra, dec, radius)\n",
    "depth = 8\n",
    "small_nside = big_nside * (2 ** depth)\n",
    "small_nside"
   ]
  },
  {
   "cell_type": "code",
   "execution_count": 6,
   "metadata": {
    "ExecuteTime": {
     "end_time": "2020-08-04T17:11:50.545456Z",
     "start_time": "2020-08-04T17:11:50.201497Z"
    }
   },
   "outputs": [],
   "source": [
    "big_matr = one_pixel_fragmentation(big_nside, big_ipix, depth)\n",
    "mdict = matr2dict(big_matr)"
   ]
  },
  {
   "cell_type": "code",
   "execution_count": 7,
   "metadata": {
    "ExecuteTime": {
     "end_time": "2020-08-04T17:11:50.565145Z",
     "start_time": "2020-08-04T17:11:50.547106Z"
    }
   },
   "outputs": [],
   "source": [
    "coords = draw_proper_circle(ra, dec, small_nside, list(big_matr.shape) + [1], mdict, 1.1)"
   ]
  },
  {
   "cell_type": "code",
   "execution_count": 8,
   "metadata": {
    "ExecuteTime": {
     "end_time": "2020-08-04T17:11:50.778687Z",
     "start_time": "2020-08-04T17:11:50.772778Z"
    }
   },
   "outputs": [],
   "source": [
    "small_matr = zoom_to_circle(coords, big_matr)"
   ]
  },
  {
   "cell_type": "code",
   "execution_count": 9,
   "metadata": {
    "ExecuteTime": {
     "end_time": "2020-08-04T17:11:51.534867Z",
     "start_time": "2020-08-04T17:11:51.493370Z"
    }
   },
   "outputs": [],
   "source": [
    "small_dict = matr2dict(small_matr)"
   ]
  },
  {
   "cell_type": "code",
   "execution_count": 10,
   "metadata": {
    "ExecuteTime": {
     "end_time": "2020-08-04T17:11:52.564559Z",
     "start_time": "2020-08-04T17:11:52.353082Z"
    }
   },
   "outputs": [
    {
     "data": {
      "text/plain": [
       "<matplotlib.image.AxesImage at 0x7fd2860880a0>"
      ]
     },
     "execution_count": 10,
     "metadata": {},
     "output_type": "execute_result"
    },
    {
     "data": {
      "image/png": "[encoded data removed]",
      "text/plain": [
       "<Figure size 432x288 with 1 Axes>"
      ]
     },
     "metadata": {
      "needs_background": "light"
     },
     "output_type": "display_data"
    }
   ],
   "source": [
    "plt.imshow(small_matr)"
   ]
  },
  {
   "cell_type": "code",
   "execution_count": 11,
   "metadata": {
    "ExecuteTime": {
     "end_time": "2020-08-04T17:11:53.765700Z",
     "start_time": "2020-08-04T17:11:53.758753Z"
    }
   },
   "outputs": [],
   "source": [
    "planck_pic = np.zeros(list(small_matr.shape) + [6])"
   ]
  },
  {
   "cell_type": "code",
   "execution_count": 12,
   "metadata": {
    "ExecuteTime": {
     "end_time": "2020-08-04T17:11:54.010170Z",
     "start_time": "2020-08-04T17:11:53.998761Z"
    }
   },
   "outputs": [
    {
     "data": {
      "text/plain": [
       "['planck3.csv',\n",
       " 'planck1.csv',\n",
       " 'planck5.csv',\n",
       " 'planck4.csv',\n",
       " 'planck2.csv',\n",
       " 'planck0.csv']"
      ]
     },
     "execution_count": 12,
     "metadata": {},
     "output_type": "execute_result"
    }
   ],
   "source": [
    "dirname = '/home/rt2122/Data/Planck/dataframe2/'\n",
    "files = next(os.walk(dirname))[-1]\n",
    "files"
   ]
  },
  {
   "cell_type": "code",
   "execution_count": 23,
   "metadata": {
    "ExecuteTime": {
     "end_time": "2020-08-04T17:16:21.219457Z",
     "start_time": "2020-08-04T17:16:21.216539Z"
    }
   },
   "outputs": [],
   "source": [
    "k = 0"
   ]
  },
  {
   "cell_type": "code",
   "execution_count": 24,
   "metadata": {
    "ExecuteTime": {
     "end_time": "2020-08-04T17:16:23.539848Z",
     "start_time": "2020-08-04T17:16:21.586617Z"
    }
   },
   "outputs": [
    {
     "data": {
      "application/vnd.jupyter.widget-view+json": {
       "model_id": "7ff1635e432141a4b35d13031a1aa2fc",
       "version_major": 2,
       "version_minor": 0
      },
      "text/plain": [
       "HBox(children=(FloatProgress(value=0.0, max=7452.0), HTML(value='')))"
      ]
     },
     "metadata": {},
     "output_type": "display_data"
    },
    {
     "name": "stdout",
     "output_type": "stream",
     "text": [
      "\n"
     ]
    },
    {
     "data": {
      "application/vnd.jupyter.widget-view+json": {
       "model_id": "37e73827e56d44949eb8f87c3c4d27ce",
       "version_major": 2,
       "version_minor": 0
      },
      "text/plain": [
       "HBox(children=(FloatProgress(value=0.0, max=7452.0), HTML(value='')))"
      ]
     },
     "metadata": {},
     "output_type": "display_data"
    },
    {
     "name": "stdout",
     "output_type": "stream",
     "text": [
      "\n"
     ]
    },
    {
     "data": {
      "application/vnd.jupyter.widget-view+json": {
       "model_id": "37272e56af2749a5b89838d7b4ffb50c",
       "version_major": 2,
       "version_minor": 0
      },
      "text/plain": [
       "HBox(children=(FloatProgress(value=0.0, max=7452.0), HTML(value='')))"
      ]
     },
     "metadata": {},
     "output_type": "display_data"
    },
    {
     "name": "stdout",
     "output_type": "stream",
     "text": [
      "\n"
     ]
    },
    {
     "data": {
      "application/vnd.jupyter.widget-view+json": {
       "model_id": "57d6e1f2bbe04b1da04b36264d329d87",
       "version_major": 2,
       "version_minor": 0
      },
      "text/plain": [
       "HBox(children=(FloatProgress(value=0.0, max=7452.0), HTML(value='')))"
      ]
     },
     "metadata": {},
     "output_type": "display_data"
    },
    {
     "name": "stdout",
     "output_type": "stream",
     "text": [
      "\n"
     ]
    },
    {
     "data": {
      "application/vnd.jupyter.widget-view+json": {
       "model_id": "820da472ce4648dd81fc4e286bb402cb",
       "version_major": 2,
       "version_minor": 0
      },
      "text/plain": [
       "HBox(children=(FloatProgress(value=0.0, max=7452.0), HTML(value='')))"
      ]
     },
     "metadata": {},
     "output_type": "display_data"
    },
    {
     "name": "stdout",
     "output_type": "stream",
     "text": [
      "\n"
     ]
    },
    {
     "data": {
      "application/vnd.jupyter.widget-view+json": {
       "model_id": "6ad14807aea44e229c44ff456e32edaf",
       "version_major": 2,
       "version_minor": 0
      },
      "text/plain": [
       "HBox(children=(FloatProgress(value=0.0, max=7452.0), HTML(value='')))"
      ]
     },
     "metadata": {},
     "output_type": "display_data"
    },
    {
     "name": "stdout",
     "output_type": "stream",
     "text": [
      "\n"
     ]
    }
   ],
   "source": [
    "for i, file in enumerate(files):\n",
    "    df = pd.read_csv(os.path.join(dirname, file))\n",
    "    \n",
    "    for j in tqdm(range(df.shape[0])):\n",
    "        pix = df['pix'][i]\n",
    "        #pix = one_pixel_fragmentation(2048, pix, 4).flatten()\n",
    "        for p in [pix]:\n",
    "            if p in small_dict:\n",
    "                planck_pic[small_dict[p], i] = df['I_STOKES'][i]\n",
    "            else:\n",
    "                k += 1"
   ]
  },
  {
   "cell_type": "code",
   "execution_count": 21,
   "metadata": {
    "ExecuteTime": {
     "end_time": "2020-08-04T17:15:58.064285Z",
     "start_time": "2020-08-04T17:15:57.902207Z"
    }
   },
   "outputs": [
    {
     "data": {
      "image/png": "[encoded data removed]",
      "text/plain": [
       "<Figure size 720x720 with 1 Axes>"
      ]
     },
     "metadata": {
      "needs_background": "light"
     },
     "output_type": "display_data"
    }
   ],
   "source": [
    "show_pic(planck_pic[:,:,3:])"
   ]
  },
  {
   "cell_type": "code",
   "execution_count": 17,
   "metadata": {
    "ExecuteTime": {
     "end_time": "2020-08-04T16:53:11.916313Z",
     "start_time": "2020-08-04T16:53:11.905894Z"
    }
   },
   "outputs": [
    {
     "data": {
      "text/plain": [
       "(1070032292, 1073741823)"
      ]
     },
     "execution_count": 17,
     "metadata": {},
     "output_type": "execute_result"
    }
   ],
   "source": [
    "small_matr.min(), small_matr.max()"
   ]
  },
  {
   "cell_type": "code",
   "execution_count": 18,
   "metadata": {
    "ExecuteTime": {
     "end_time": "2020-08-04T17:15:28.175322Z",
     "start_time": "2020-08-04T17:15:28.170120Z"
    }
   },
   "outputs": [
    {
     "data": {
      "text/plain": [
       "(0.0, 0.0)"
      ]
     },
     "execution_count": 18,
     "metadata": {},
     "output_type": "execute_result"
    }
   ],
   "source": [
    "planck_pic.min(), planck_pic.max()"
   ]
  },
  {
   "cell_type": "code",
   "execution_count": 14,
   "metadata": {
    "ExecuteTime": {
     "end_time": "2020-08-04T16:49:40.110854Z",
     "start_time": "2020-08-04T16:49:40.102795Z"
    }
   },
   "outputs": [
    {
     "data": {
      "text/plain": [
       "32768"
      ]
     },
     "execution_count": 14,
     "metadata": {},
     "output_type": "execute_result"
    }
   ],
   "source": [
    "2048 * (2**4)"
   ]
  },
  {
   "cell_type": "code",
   "execution_count": 26,
   "metadata": {
    "ExecuteTime": {
     "end_time": "2020-08-04T17:16:30.617721Z",
     "start_time": "2020-08-04T17:16:30.612098Z"
    }
   },
   "outputs": [
    {
     "data": {
      "text/plain": [
       "0"
      ]
     },
     "execution_count": 26,
     "metadata": {},
     "output_type": "execute_result"
    }
   ],
   "source": [
    "k"
   ]
  },
  {
   "cell_type": "code",
   "execution_count": 28,
   "metadata": {
    "ExecuteTime": {
     "end_time": "2020-08-04T17:08:58.696643Z",
     "start_time": "2020-08-04T17:08:58.670872Z"
    }
   },
   "outputs": [],
   "source": [
    "planck_picc = planck_pic.copy()"
   ]
  },
  {
   "cell_type": "code",
   "execution_count": 30,
   "metadata": {
    "ExecuteTime": {
     "end_time": "2020-08-04T17:09:09.032560Z",
     "start_time": "2020-08-04T17:09:09.014133Z"
    }
   },
   "outputs": [],
   "source": [
    "planck_picc[planck_picc != 0] = 100"
   ]
  },
  {
   "cell_type": "code",
   "execution_count": 36,
   "metadata": {
    "ExecuteTime": {
     "end_time": "2020-08-04T17:10:19.408089Z",
     "start_time": "2020-08-04T17:10:16.521770Z"
    }
   },
   "outputs": [
    {
     "name": "stderr",
     "output_type": "stream",
     "text": [
      "<ipython-input-36-8cef5008b4f2>:1: RuntimeWarning: Images with dimensions (M, N, 3) are interpreted as 2D+RGB by default. Use `multichannel=False` to interpret as 3D image with last dimension of length 3.\n",
      "  show_pic(gaussian(planck_picc[:,:,3:], 50))\n",
      "Clipping input data to the valid range for imshow with RGB data ([0..1] for floats or [0..255] for integers).\n"
     ]
    },
    {
     "data": {
      "image/png": "[encoded data removed]",
      "text/plain": [
       "<Figure size 720x720 with 1 Axes>"
      ]
     },
     "metadata": {
      "needs_background": "light"
     },
     "output_type": "display_data"
    }
   ],
   "source": [
    "show_pic(gaussian(planck_picc[:,:,3:], 50))"
   ]
  },
  {
   "cell_type": "code",
   "execution_count": null,
   "metadata": {},
   "outputs": [],
   "source": []
  }
 ],
 "metadata": {
  "kernelspec": {
   "display_name": "Python 3",
   "language": "python",
   "name": "python3"
  },
  "language_info": {
   "codemirror_mode": {
    "name": "ipython",
    "version": 3
   },
   "file_extension": ".py",
   "mimetype": "text/x-python",
   "name": "python",
   "nbconvert_exporter": "python",
   "pygments_lexer": "ipython3",
   "version": "3.8.3"
  }
 },
 "nbformat": 4,
 "nbformat_minor": 4
}
