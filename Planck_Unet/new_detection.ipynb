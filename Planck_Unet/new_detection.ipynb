{
 "cells": [
  {
   "cell_type": "code",
   "execution_count": 4,
   "metadata": {
    "ExecuteTime": {
     "end_time": "2020-10-10T08:27:40.417925Z",
     "start_time": "2020-10-10T08:27:36.656579Z"
    }
   },
   "outputs": [
    {
     "name": "stderr",
     "output_type": "stream",
     "text": [
      "<frozen importlib._bootstrap>:219: RuntimeWarning: numpy.ufunc size changed, may indicate binary incompatibility. Expected 192 from C header, got 216 from PyObject\n"
     ]
    }
   ],
   "source": [
    "import numpy as np\n",
    "import pandas as pd\n",
    "from DS_detector import *\n",
    "from DS_Planck_Unet import load_planck_model\n",
    "from matplotlib import pyplot as plt\n",
    "from skimage.filters import roberts \n",
    "from skimage.draw import circle"
   ]
  },
  {
   "cell_type": "code",
   "execution_count": 5,
   "metadata": {
    "ExecuteTime": {
     "end_time": "2020-10-10T08:27:40.430000Z",
     "start_time": "2020-10-10T08:27:40.422947Z"
    }
   },
   "outputs": [],
   "source": [
    "def pack_all_catalogs(cat_dir='/home/rt2122/Data/clusters/'):\n",
    "    import os\n",
    "    import pandas as pd\n",
    "    \n",
    "    all_cats = []\n",
    "    files = next(os.walk(cat_dir))[-1]\n",
    "    for file in files:\n",
    "        df = pd.read_csv(os.path.join(cat_dir, file))\n",
    "        df['catalog'] = file[:-4]\n",
    "        all_cats.append(df)\n",
    "    all_cats = pd.concat(all_cats)\n",
    "    all_cats.index = np.arange(all_cats.shape[0])\n",
    "    \n",
    "    return all_cats"
   ]
  },
  {
   "cell_type": "code",
   "execution_count": 6,
   "metadata": {
    "ExecuteTime": {
     "end_time": "2020-10-10T08:27:40.563372Z",
     "start_time": "2020-10-10T08:27:40.434109Z"
    }
   },
   "outputs": [],
   "source": [
    "def gen_pics_for_detection_new(ipix, model, nside=2, depth=10, step=64, size=64, \n",
    "        mask_radius=15/60, clusters_dir='/home/rt2122/Data/clusters/'):\n",
    "    from DS_healpix_fragmentation import one_pixel_fragmentation, pix2radec, radec2pix\n",
    "    from DS_Planck_Unet import draw_pic_with_mask, draw_pic\n",
    "    import pandas as pd\n",
    "    import numpy as np\n",
    "    import healpy as hp\n",
    "    import os\n",
    "    \n",
    "    true_clusters = pack_all_catalogs(clusters_dir)\n",
    " \n",
    "    big_matr = one_pixel_fragmentation(nside, ipix, depth)\n",
    "    big_pic, big_mask = draw_pic_with_mask(center=None, matr=big_matr, \n",
    "                            mask_radius=mask_radius,\n",
    "                            clusters_arr=np.array(true_clusters[['RA', 'DEC']]))\n",
    "    \n",
    "    pics, matrs, masks = [], [], []\n",
    "    for i in range(0, big_matr.shape[0], step):\n",
    "        for j in range(0, big_matr.shape[1], step):\n",
    "            pic = big_pic[i:i+size,j:j+size,:]\n",
    "            mask = big_mask[i:i+size,j:j+size,:]\n",
    "            matr = big_matr[i:i+size,j:j+size]\n",
    "            \n",
    "            if pic.shape == (size, size, pic.shape[-1]):\n",
    "                if np.count_nonzero(mask) > 0:\n",
    "                    pics.append(pic)\n",
    "                    matrs.append(matr)\n",
    "                    masks.append(mask)\n",
    " \n",
    "    \n",
    "    ans = model.predict(np.array(pics))\n",
    "    return {'true_clusters' : true_clusters,\n",
    "            'pics' : pics, 'matrs' : matrs, 'masks' : masks, 'ans' : ans} \n"
   ]
  },
  {
   "cell_type": "code",
   "execution_count": 7,
   "metadata": {
    "ExecuteTime": {
     "end_time": "2020-10-10T08:27:40.654855Z",
     "start_time": "2020-10-10T08:27:40.569225Z"
    }
   },
   "outputs": [],
   "source": [
    "def get_radius(figure, center):\n",
    "    import numpy as np\n",
    "    from skimage.filters import roberts\n",
    "    center = np.array(center)\n",
    "    \n",
    "    edge = np.where(roberts(figure) != 0)\n",
    "    min_rad = figure.shape[0]\n",
    "    max_rad = 0\n",
    "    \n",
    "    for point in zip(*edge):\n",
    "        rad = np.linalg.norm(center - np.array(point))\n",
    "        min_rad = min(min_rad, rad)\n",
    "        max_rad = max(max_rad, rad)\n",
    "    \n",
    "    return min_rad, max_rad"
   ]
  },
  {
   "cell_type": "code",
   "execution_count": 29,
   "metadata": {
    "ExecuteTime": {
     "end_time": "2020-10-10T08:35:24.279923Z",
     "start_time": "2020-10-10T08:35:24.264920Z"
    }
   },
   "outputs": [],
   "source": [
    "def find_centers_on_mask_new(mask, thr, binary=True):\n",
    "    import numpy as np\n",
    "\n",
    "    mask_binary = np.copy(mask)\n",
    "    mask_binary = np.array(mask_binary >= thr, dtype=np.float32)\n",
    "    \n",
    "    figures = divide_figures(mask_binary)\n",
    "    centers = []\n",
    "    areas = []\n",
    "    min_rad = []\n",
    "    max_rad = []\n",
    "    min_pred = []\n",
    "    max_pred = []\n",
    "    for figure in figures:\n",
    "        f = np.zeros_like(mask)\n",
    "        f[np.where(figure)] = mask[np.where(figure)]\n",
    "\n",
    "        if not binary:\n",
    "            centers.append(find_centroid(f))\n",
    "        else:\n",
    "            centers.append(find_centroid(figure))\n",
    "        \n",
    "        areas.append(np.count_nonzero(figure))\n",
    "        rads = get_radius(figure[:,:,0], centers[-1])\n",
    "        min_rad.append(rads[0])\n",
    "        max_rad.append(rads[1])\n",
    "        min_pred.append(np.partition(list(set(f.flatten())), 1)[1])\n",
    "        max_pred.append(f.max())\n",
    "\n",
    "    return {'centers' : np.array(centers), 'areas' : np.array(areas), \n",
    "            'min_rad' : np.array(min_rad), 'max_rad' : np.array(max_rad),\n",
    "           'min_pred': np.array(min_pred), 'max_pred' : np.array(max_pred)}"
   ]
  },
  {
   "cell_type": "code",
   "execution_count": 38,
   "metadata": {
    "ExecuteTime": {
     "end_time": "2020-10-10T08:39:42.934935Z",
     "start_time": "2020-10-10T08:39:42.907139Z"
    }
   },
   "outputs": [],
   "source": [
    "def gen_pics_for_detection_new(ipix, model, big_nside=2, step=64, size=64, depth=10, \n",
    "        mask_radius=15/60, clusters_dir='/home/rt2122/Data/clusters/'):\n",
    "    from DS_healpix_fragmentation import one_pixel_fragmentation, pix2radec, radec2pix\n",
    "    from DS_Planck_Unet import draw_pic_with_mask, draw_pic\n",
    "    import pandas as pd\n",
    "    import numpy as np\n",
    "    import healpy as hp\n",
    "    import os\n",
    "    \n",
    "    true_clusters = pack_all_catalogs(clusters_dir)\n",
    "    clusters_pix = radec2pix(true_clusters['RA'], true_clusters['DEC'], 2)\n",
    "    true_clusters = true_clusters[clusters_pix == ipix]\n",
    "    true_clusters.index = np.arange(true_clusters.shape[0])\n",
    " \n",
    "    big_matr = one_pixel_fragmentation(big_nside, ipix, depth)\n",
    "    big_pic, big_mask = draw_pic_with_mask(center=None, matr=big_matr, \n",
    "                            mask_radius=mask_radius,\n",
    "                            clusters_arr=np.array(true_clusters[['RA', 'DEC']]))\n",
    "    \n",
    "    pics, matrs, masks = [], [], []\n",
    "    for i in range(0, big_matr.shape[0], step):\n",
    "        for j in range(0, big_matr.shape[1], step):\n",
    "            pic = big_pic[i:i+size,j:j+size,:]\n",
    "            mask = big_mask[i:i+size,j:j+size,:]\n",
    "            matr = big_matr[i:i+size,j:j+size]\n",
    "            \n",
    "            if pic.shape == (size, size, pic.shape[-1]):\n",
    "                if np.count_nonzero(mask) > 0:\n",
    "                    pics.append(pic)\n",
    "                    matrs.append(matr)\n",
    "                    masks.append(mask)\n",
    " \n",
    "    \n",
    "    ans = model.predict(np.array(pics))\n",
    "    return {'true_clusters' : true_clusters,\n",
    "            'pics' : pics, 'matrs' : matrs, 'masks' : masks, 'ans' : ans} \n"
   ]
  },
  {
   "cell_type": "code",
   "execution_count": 10,
   "metadata": {
    "ExecuteTime": {
     "end_time": "2020-10-10T08:27:40.959604Z",
     "start_time": "2020-10-10T08:27:40.856817Z"
    }
   },
   "outputs": [],
   "source": [
    "def detect_clusters_on_pic_new(ans, matr, thr, binary):\n",
    "    import numpy as np\n",
    "    dd = find_centers_on_mask_new(ans, thr, binary)\n",
    "    if len(dd['centers']) > 0:\n",
    "        centers = np.array(dd['centers'], dtype=np.int32)\n",
    "        dd['centers'] = matr[centers[:,0], centers[:,1]]\n",
    "    return dd"
   ]
  },
  {
   "cell_type": "code",
   "execution_count": 182,
   "metadata": {
    "ExecuteTime": {
     "end_time": "2020-10-10T10:00:08.506523Z",
     "start_time": "2020-10-10T10:00:08.488324Z"
    }
   },
   "outputs": [],
   "source": [
    "def detect_clusters_new(all_dict, thr, base_nside=2048, tp_dist=5/60, \n",
    "                        fp_dist=15/60, binary=False, ret_coords=True):\n",
    "    import numpy as np\n",
    "    import pandas as pd\n",
    "    from DS_healpix_fragmentation import pix2radec\n",
    "    from astropy.coordinates import SkyCoord\n",
    "    from astropy import units as u\n",
    "    \n",
    "    masks = all_dict['masks']\n",
    "    ans = all_dict['ans']\n",
    "    matrs = all_dict['matrs']\n",
    "    true_clusters = all_dict['true_clusters']\n",
    "    \n",
    "    res_cat = pd.DataFrame({'RA' : [], 'DEC' : [], 'area' : [], \n",
    "                      'min_rad' : [], 'max_rad' : [],\n",
    "                      'min_pred' : [], 'max_pred' : []})\n",
    "    res_cat_sc = None\n",
    "    \n",
    "    params = ['tp', 'fp', 'tn', 'fn']\n",
    "    stat_df = dict(zip(params, [0] * len(params)))\n",
    "    \n",
    "    for i in range(len(ans)):\n",
    "        dd_pic = detect_clusters_on_pic_new(ans[i], matrs[i], thr, binary)\n",
    "        centers = dd_pic['centers']\n",
    "        \n",
    "        if np.count_nonzero(masks[i]) and len(centers) == 0:\n",
    "            stat_df['tn'] += 1\n",
    "        \n",
    "        if len(centers) > 0: \n",
    "            centers = pix2radec(centers, nside=base_nside)\n",
    "            sc = SkyCoord(ra=centers[0]*u.degree, \n",
    "                          dec=centers[1]*u.degree, frame='icrs')\n",
    "            if res_cat_sc is None:\n",
    "                res_cat['RA'] = sc.icrs.ra.degree\n",
    "                res_cat['DEC'] = sc.icrs.dec.degree\n",
    "                res_cat['area'] = dd_pic['areas']\n",
    "                res_cat['min_rad'] = dd_pic['min_rad']\n",
    "                res_cat['max_rad'] = dd_pic['max_rad']\n",
    "                res_cat['min_pred'] = dd_pic['min_pred']\n",
    "                res_cat['max_pred'] = dd_pic['max_pred']\n",
    "                res_cat_sc = sc\n",
    "            else: \n",
    "                idx, d2d, _ = sc.match_to_catalog_sky(res_cat_sc)\n",
    "                res_cat_new_idx = d2d.degree >  fp_dist\n",
    "                res_cat_new = pd.DataFrame({'RA':centers[0][res_cat_new_idx],\n",
    "                                      'DEC':centers[1][res_cat_new_idx],\n",
    "                                      'area' : dd_pic['areas'][res_cat_new_idx],          \n",
    "                'min_rad' : dd_pic['min_rad'][res_cat_new_idx],\n",
    "                'max_rad' : dd_pic['max_rad'][res_cat_new_idx],\n",
    "                'min_pred' : dd_pic['min_pred'][res_cat_new_idx],\n",
    "                'max_pred' : dd_pic['max_pred'][res_cat_new_idx],\n",
    "                                      })\n",
    "                res_cat = pd.concat([res_cat, res_cat_new])\n",
    "                res_cat.index = np.arange(len(res_cat))\n",
    "                res_cat_sc = SkyCoord(ra=res_cat['RA']*u.degree, dec=res_cat['DEC']*u.degree, \n",
    "                                 frame='icrs')\n",
    "        \n",
    "    true_clusters_sc = SkyCoord(ra=true_clusters['RA']*u.degree, \n",
    "                                dec=true_clusters['DEC']*u.degree, frame='icrs')\n",
    "    \n",
    "    idx, d2d, _ = res_cat_sc.match_to_catalog_sky(true_clusters_sc)\n",
    "    matched_idx = d2d.degree <= tp_dist\n",
    "    res_cat['status'] = ''\n",
    "    res_cat['status'].iloc[matched_idx] = 'tp'\n",
    "    res_cat['catalog'] = ''\n",
    "    res_cat['catalog'].iloc[matched_idx] = np.array(\n",
    "        true_clusters['catalog'][idx[matched_idx]])\n",
    "    res_cat['status'].iloc[np.logical_not(matched_idx)] = 'fp'\n",
    "    \n",
    "    true_clusters['found'] = False\n",
    "    true_clusters['found'].iloc[idx[matched_idx]] = True\n",
    "    not_found = true_clusters[np.logical_not(true_clusters['found'])]\n",
    "    \n",
    "    fn = pd.DataFrame({'RA' : not_found['RA'], 'DEC' : not_found['DEC'], \n",
    "                      'catalog' : not_found['catalog'], \n",
    "                       'status' : ['fn'] * len(not_found)})\n",
    "    \n",
    "    res_cat = pd.concat([res_cat, fn])\n",
    "    res_cat.index = np.arange(len(res_cat))\n",
    "    if ret_coords:\n",
    "        return res_cat\n",
    "    stat_df['tp'] = np.count_nonzero(res_cat['status'] == 'tp')\n",
    "    stat_df['fp'] = np.count_nonzero(res_cat['status'] == 'fp')\n",
    "    stat_df['fn'] = np.count_nonzero(res_cat['status'] == 'fn')\n",
    "    return stat_df"
   ]
  },
  {
   "cell_type": "code",
   "execution_count": 12,
   "metadata": {
    "ExecuteTime": {
     "end_time": "2020-10-10T08:28:45.897138Z",
     "start_time": "2020-10-10T08:28:15.921415Z"
    }
   },
   "outputs": [],
   "source": [
    "model = load_planck_model(\n",
    "    '/home/rt2122/Models/planck_z/f8d2.ep0014-vl0.006570-l0.004067.hdf5')"
   ]
  },
  {
   "cell_type": "code",
   "execution_count": 58,
   "metadata": {
    "ExecuteTime": {
     "end_time": "2020-10-10T08:50:16.919314Z",
     "start_time": "2020-10-10T08:50:11.223026Z"
    }
   },
   "outputs": [],
   "source": [
    "all_dict = gen_pics_for_detection_new(6, model, \n",
    "                            clusters_dir='/home/rt2122/Data/clusters_planck_z/')"
   ]
  },
  {
   "cell_type": "code",
   "execution_count": 183,
   "metadata": {
    "ExecuteTime": {
     "end_time": "2020-10-10T10:00:20.103858Z",
     "start_time": "2020-10-10T10:00:19.541132Z"
    }
   },
   "outputs": [
    {
     "name": "stderr",
     "output_type": "stream",
     "text": [
      "/home/rt2122/anaconda3/lib/python3.8/site-packages/pandas/core/indexing.py:671: SettingWithCopyWarning: \n",
      "A value is trying to be set on a copy of a slice from a DataFrame\n",
      "\n",
      "See the caveats in the documentation: https://pandas.pydata.org/pandas-docs/stable/user_guide/indexing.html#returning-a-view-versus-a-copy\n",
      "  self._setitem_with_indexer(indexer, value)\n"
     ]
    }
   ],
   "source": [
    "coords = detect_clusters_new(all_dict, 0.4)"
   ]
  },
  {
   "cell_type": "code",
   "execution_count": 179,
   "metadata": {
    "ExecuteTime": {
     "end_time": "2020-10-10T09:56:06.814174Z",
     "start_time": "2020-10-10T09:56:06.810251Z"
    }
   },
   "outputs": [
    {
     "data": {
      "text/plain": [
       "(49, 9)"
      ]
     },
     "execution_count": 179,
     "metadata": {},
     "output_type": "execute_result"
    }
   ],
   "source": [
    "coords.shape"
   ]
  },
  {
   "cell_type": "code",
   "execution_count": 180,
   "metadata": {
    "ExecuteTime": {
     "end_time": "2020-10-10T09:56:07.700079Z",
     "start_time": "2020-10-10T09:56:07.673741Z"
    }
   },
   "outputs": [
    {
     "name": "stdout",
     "output_type": "stream",
     "text": [
      "tp planck_z 29\n",
      "tp planck_no_z 0\n",
      "tp mcxcwp 0\n",
      "tp act 0\n",
      "fn planck_z 11\n",
      "fn planck_no_z 0\n",
      "fn mcxcwp 0\n",
      "fn act 0\n",
      "9\n",
      "29\n"
     ]
    }
   ],
   "source": [
    "for status in ['tp', 'fn']:\n",
    "    for cat in ['planck_z', 'planck_no_z', 'mcxcwp', 'act']:\n",
    "        c = coords[coords['catalog'] == cat]\n",
    "        c.index = np.arange(len(c))\n",
    "        print(status, cat, np.count_nonzero(c['status'] == status))\n",
    "print(np.count_nonzero(coords['status'] == 'fp'))\n",
    "print(np.count_nonzero(coords['status'] == 'tp'))"
   ]
  },
  {
   "cell_type": "code",
   "execution_count": 173,
   "metadata": {
    "ExecuteTime": {
     "end_time": "2020-10-10T09:55:22.164301Z",
     "start_time": "2020-10-10T09:55:22.159965Z"
    }
   },
   "outputs": [],
   "source": [
    "planck_z = coords[coords['catalog'] == 'planck_z']"
   ]
  },
  {
   "cell_type": "code",
   "execution_count": 174,
   "metadata": {
    "ExecuteTime": {
     "end_time": "2020-10-10T09:55:22.561027Z",
     "start_time": "2020-10-10T09:55:22.555664Z"
    }
   },
   "outputs": [
    {
     "data": {
      "text/plain": [
       "(32, 9)"
      ]
     },
     "execution_count": 174,
     "metadata": {},
     "output_type": "execute_result"
    }
   ],
   "source": [
    "planck_z.shape"
   ]
  },
  {
   "cell_type": "code",
   "execution_count": 175,
   "metadata": {
    "ExecuteTime": {
     "end_time": "2020-10-10T09:55:23.491059Z",
     "start_time": "2020-10-10T09:55:23.458590Z"
    }
   },
   "outputs": [
    {
     "data": {
      "text/html": [
       "<div>\n",
       "<style scoped>\n",
       "    .dataframe tbody tr th:only-of-type {\n",
       "        vertical-align: middle;\n",
       "    }\n",
       "\n",
       "    .dataframe tbody tr th {\n",
       "        vertical-align: top;\n",
       "    }\n",
       "\n",
       "    .dataframe thead th {\n",
       "        text-align: right;\n",
       "    }\n",
       "</style>\n",
       "<table border=\"1\" class=\"dataframe\">\n",
       "  <thead>\n",
       "    <tr style=\"text-align: right;\">\n",
       "      <th></th>\n",
       "      <th>RA</th>\n",
       "      <th>DEC</th>\n",
       "      <th>area</th>\n",
       "      <th>min_rad</th>\n",
       "      <th>max_rad</th>\n",
       "      <th>min_pred</th>\n",
       "      <th>max_pred</th>\n",
       "      <th>status</th>\n",
       "      <th>catalog</th>\n",
       "    </tr>\n",
       "  </thead>\n",
       "  <tbody>\n",
       "    <tr>\n",
       "      <th>0</th>\n",
       "      <td>261.411216</td>\n",
       "      <td>85.879280</td>\n",
       "      <td>19.0</td>\n",
       "      <td>1.478872</td>\n",
       "      <td>3.613255</td>\n",
       "      <td>0.508190</td>\n",
       "      <td>0.998537</td>\n",
       "      <td>tp</td>\n",
       "      <td>planck_z</td>\n",
       "    </tr>\n",
       "    <tr>\n",
       "      <th>1</th>\n",
       "      <td>171.923132</td>\n",
       "      <td>71.105538</td>\n",
       "      <td>19.0</td>\n",
       "      <td>1.134615</td>\n",
       "      <td>3.556877</td>\n",
       "      <td>0.430976</td>\n",
       "      <td>0.922336</td>\n",
       "      <td>tp</td>\n",
       "      <td>planck_z</td>\n",
       "    </tr>\n",
       "    <tr>\n",
       "      <th>2</th>\n",
       "      <td>178.983605</td>\n",
       "      <td>73.566323</td>\n",
       "      <td>15.0</td>\n",
       "      <td>1.070389</td>\n",
       "      <td>3.143234</td>\n",
       "      <td>0.403708</td>\n",
       "      <td>0.760757</td>\n",
       "      <td>tp</td>\n",
       "      <td>planck_z</td>\n",
       "    </tr>\n",
       "    <tr>\n",
       "      <th>3</th>\n",
       "      <td>181.797649</td>\n",
       "      <td>71.686960</td>\n",
       "      <td>14.0</td>\n",
       "      <td>0.921796</td>\n",
       "      <td>3.343648</td>\n",
       "      <td>0.482473</td>\n",
       "      <td>0.813310</td>\n",
       "      <td>tp</td>\n",
       "      <td>planck_z</td>\n",
       "    </tr>\n",
       "    <tr>\n",
       "      <th>5</th>\n",
       "      <td>275.878223</td>\n",
       "      <td>78.388854</td>\n",
       "      <td>17.0</td>\n",
       "      <td>0.978495</td>\n",
       "      <td>3.508872</td>\n",
       "      <td>0.434119</td>\n",
       "      <td>0.984679</td>\n",
       "      <td>tp</td>\n",
       "      <td>planck_z</td>\n",
       "    </tr>\n",
       "    <tr>\n",
       "      <th>8</th>\n",
       "      <td>208.761411</td>\n",
       "      <td>77.263916</td>\n",
       "      <td>17.0</td>\n",
       "      <td>1.015839</td>\n",
       "      <td>3.472759</td>\n",
       "      <td>0.465352</td>\n",
       "      <td>0.990765</td>\n",
       "      <td>tp</td>\n",
       "      <td>planck_z</td>\n",
       "    </tr>\n",
       "    <tr>\n",
       "      <th>10</th>\n",
       "      <td>199.954068</td>\n",
       "      <td>70.016700</td>\n",
       "      <td>13.0</td>\n",
       "      <td>1.035318</td>\n",
       "      <td>3.262703</td>\n",
       "      <td>0.417573</td>\n",
       "      <td>0.812428</td>\n",
       "      <td>tp</td>\n",
       "      <td>planck_z</td>\n",
       "    </tr>\n",
       "    <tr>\n",
       "      <th>12</th>\n",
       "      <td>195.837588</td>\n",
       "      <td>67.458089</td>\n",
       "      <td>16.0</td>\n",
       "      <td>1.151331</td>\n",
       "      <td>3.340828</td>\n",
       "      <td>0.409737</td>\n",
       "      <td>0.939598</td>\n",
       "      <td>tp</td>\n",
       "      <td>planck_z</td>\n",
       "    </tr>\n",
       "    <tr>\n",
       "      <th>13</th>\n",
       "      <td>194.572598</td>\n",
       "      <td>65.373192</td>\n",
       "      <td>16.0</td>\n",
       "      <td>1.529360</td>\n",
       "      <td>3.576284</td>\n",
       "      <td>0.486278</td>\n",
       "      <td>0.973751</td>\n",
       "      <td>tp</td>\n",
       "      <td>planck_z</td>\n",
       "    </tr>\n",
       "    <tr>\n",
       "      <th>14</th>\n",
       "      <td>213.485300</td>\n",
       "      <td>71.292974</td>\n",
       "      <td>18.0</td>\n",
       "      <td>1.106321</td>\n",
       "      <td>3.376304</td>\n",
       "      <td>0.413182</td>\n",
       "      <td>0.974803</td>\n",
       "      <td>tp</td>\n",
       "      <td>planck_z</td>\n",
       "    </tr>\n",
       "    <tr>\n",
       "      <th>16</th>\n",
       "      <td>198.559209</td>\n",
       "      <td>64.607322</td>\n",
       "      <td>18.0</td>\n",
       "      <td>1.081389</td>\n",
       "      <td>3.485846</td>\n",
       "      <td>0.417733</td>\n",
       "      <td>0.972595</td>\n",
       "      <td>tp</td>\n",
       "      <td>planck_z</td>\n",
       "    </tr>\n",
       "    <tr>\n",
       "      <th>17</th>\n",
       "      <td>261.894925</td>\n",
       "      <td>70.621822</td>\n",
       "      <td>2.0</td>\n",
       "      <td>0.499885</td>\n",
       "      <td>1.802680</td>\n",
       "      <td>0.410516</td>\n",
       "      <td>0.410705</td>\n",
       "      <td>tp</td>\n",
       "      <td>planck_z</td>\n",
       "    </tr>\n",
       "    <tr>\n",
       "      <th>19</th>\n",
       "      <td>209.938881</td>\n",
       "      <td>62.524432</td>\n",
       "      <td>18.0</td>\n",
       "      <td>1.006873</td>\n",
       "      <td>3.353002</td>\n",
       "      <td>0.456349</td>\n",
       "      <td>0.958437</td>\n",
       "      <td>tp</td>\n",
       "      <td>planck_z</td>\n",
       "    </tr>\n",
       "    <tr>\n",
       "      <th>24</th>\n",
       "      <td>216.366076</td>\n",
       "      <td>63.238739</td>\n",
       "      <td>18.0</td>\n",
       "      <td>1.490965</td>\n",
       "      <td>3.555615</td>\n",
       "      <td>0.431278</td>\n",
       "      <td>0.945924</td>\n",
       "      <td>tp</td>\n",
       "      <td>planck_z</td>\n",
       "    </tr>\n",
       "    <tr>\n",
       "      <th>25</th>\n",
       "      <td>212.586934</td>\n",
       "      <td>59.697488</td>\n",
       "      <td>18.0</td>\n",
       "      <td>1.283739</td>\n",
       "      <td>3.718112</td>\n",
       "      <td>0.428237</td>\n",
       "      <td>0.915368</td>\n",
       "      <td>tp</td>\n",
       "      <td>planck_z</td>\n",
       "    </tr>\n",
       "    <tr>\n",
       "      <th>27</th>\n",
       "      <td>239.071310</td>\n",
       "      <td>66.354136</td>\n",
       "      <td>17.0</td>\n",
       "      <td>1.039959</td>\n",
       "      <td>3.448895</td>\n",
       "      <td>0.401314</td>\n",
       "      <td>0.979798</td>\n",
       "      <td>tp</td>\n",
       "      <td>planck_z</td>\n",
       "    </tr>\n",
       "    <tr>\n",
       "      <th>30</th>\n",
       "      <td>216.761780</td>\n",
       "      <td>55.794877</td>\n",
       "      <td>16.0</td>\n",
       "      <td>0.572928</td>\n",
       "      <td>3.299361</td>\n",
       "      <td>0.414153</td>\n",
       "      <td>0.886572</td>\n",
       "      <td>tp</td>\n",
       "      <td>planck_z</td>\n",
       "    </tr>\n",
       "    <tr>\n",
       "      <th>32</th>\n",
       "      <td>213.674510</td>\n",
       "      <td>54.829549</td>\n",
       "      <td>15.0</td>\n",
       "      <td>0.892859</td>\n",
       "      <td>2.792526</td>\n",
       "      <td>0.452998</td>\n",
       "      <td>0.923296</td>\n",
       "      <td>tp</td>\n",
       "      <td>planck_z</td>\n",
       "    </tr>\n",
       "    <tr>\n",
       "      <th>33</th>\n",
       "      <td>238.125773</td>\n",
       "      <td>62.072073</td>\n",
       "      <td>13.0</td>\n",
       "      <td>0.787969</td>\n",
       "      <td>2.961847</td>\n",
       "      <td>0.412519</td>\n",
       "      <td>0.731900</td>\n",
       "      <td>tp</td>\n",
       "      <td>planck_z</td>\n",
       "    </tr>\n",
       "    <tr>\n",
       "      <th>35</th>\n",
       "      <td>227.104172</td>\n",
       "      <td>57.929406</td>\n",
       "      <td>17.0</td>\n",
       "      <td>1.173071</td>\n",
       "      <td>3.371694</td>\n",
       "      <td>0.422547</td>\n",
       "      <td>0.984610</td>\n",
       "      <td>tp</td>\n",
       "      <td>planck_z</td>\n",
       "    </tr>\n",
       "    <tr>\n",
       "      <th>37</th>\n",
       "      <td>218.924036</td>\n",
       "      <td>55.181897</td>\n",
       "      <td>17.0</td>\n",
       "      <td>0.756471</td>\n",
       "      <td>3.658951</td>\n",
       "      <td>0.442479</td>\n",
       "      <td>0.880564</td>\n",
       "      <td>tp</td>\n",
       "      <td>planck_z</td>\n",
       "    </tr>\n",
       "    <tr>\n",
       "      <th>38</th>\n",
       "      <td>246.903435</td>\n",
       "      <td>65.396317</td>\n",
       "      <td>NaN</td>\n",
       "      <td>NaN</td>\n",
       "      <td>NaN</td>\n",
       "      <td>NaN</td>\n",
       "      <td>NaN</td>\n",
       "      <td>fn</td>\n",
       "      <td>planck_z</td>\n",
       "    </tr>\n",
       "    <tr>\n",
       "      <th>39</th>\n",
       "      <td>248.977644</td>\n",
       "      <td>66.202314</td>\n",
       "      <td>NaN</td>\n",
       "      <td>NaN</td>\n",
       "      <td>NaN</td>\n",
       "      <td>NaN</td>\n",
       "      <td>NaN</td>\n",
       "      <td>fn</td>\n",
       "      <td>planck_z</td>\n",
       "    </tr>\n",
       "    <tr>\n",
       "      <th>40</th>\n",
       "      <td>231.052549</td>\n",
       "      <td>62.022709</td>\n",
       "      <td>NaN</td>\n",
       "      <td>NaN</td>\n",
       "      <td>NaN</td>\n",
       "      <td>NaN</td>\n",
       "      <td>NaN</td>\n",
       "      <td>fn</td>\n",
       "      <td>planck_z</td>\n",
       "    </tr>\n",
       "    <tr>\n",
       "      <th>41</th>\n",
       "      <td>238.037819</td>\n",
       "      <td>65.340540</td>\n",
       "      <td>NaN</td>\n",
       "      <td>NaN</td>\n",
       "      <td>NaN</td>\n",
       "      <td>NaN</td>\n",
       "      <td>NaN</td>\n",
       "      <td>fn</td>\n",
       "      <td>planck_z</td>\n",
       "    </tr>\n",
       "    <tr>\n",
       "      <th>42</th>\n",
       "      <td>236.709588</td>\n",
       "      <td>69.944118</td>\n",
       "      <td>NaN</td>\n",
       "      <td>NaN</td>\n",
       "      <td>NaN</td>\n",
       "      <td>NaN</td>\n",
       "      <td>NaN</td>\n",
       "      <td>fn</td>\n",
       "      <td>planck_z</td>\n",
       "    </tr>\n",
       "    <tr>\n",
       "      <th>43</th>\n",
       "      <td>216.777337</td>\n",
       "      <td>65.652811</td>\n",
       "      <td>NaN</td>\n",
       "      <td>NaN</td>\n",
       "      <td>NaN</td>\n",
       "      <td>NaN</td>\n",
       "      <td>NaN</td>\n",
       "      <td>fn</td>\n",
       "      <td>planck_z</td>\n",
       "    </tr>\n",
       "    <tr>\n",
       "      <th>44</th>\n",
       "      <td>256.100465</td>\n",
       "      <td>78.632469</td>\n",
       "      <td>NaN</td>\n",
       "      <td>NaN</td>\n",
       "      <td>NaN</td>\n",
       "      <td>NaN</td>\n",
       "      <td>NaN</td>\n",
       "      <td>fn</td>\n",
       "      <td>planck_z</td>\n",
       "    </tr>\n",
       "    <tr>\n",
       "      <th>45</th>\n",
       "      <td>213.306316</td>\n",
       "      <td>74.292047</td>\n",
       "      <td>NaN</td>\n",
       "      <td>NaN</td>\n",
       "      <td>NaN</td>\n",
       "      <td>NaN</td>\n",
       "      <td>NaN</td>\n",
       "      <td>fn</td>\n",
       "      <td>planck_z</td>\n",
       "    </tr>\n",
       "    <tr>\n",
       "      <th>46</th>\n",
       "      <td>238.760353</td>\n",
       "      <td>84.163702</td>\n",
       "      <td>NaN</td>\n",
       "      <td>NaN</td>\n",
       "      <td>NaN</td>\n",
       "      <td>NaN</td>\n",
       "      <td>NaN</td>\n",
       "      <td>fn</td>\n",
       "      <td>planck_z</td>\n",
       "    </tr>\n",
       "    <tr>\n",
       "      <th>47</th>\n",
       "      <td>205.487900</td>\n",
       "      <td>74.451412</td>\n",
       "      <td>NaN</td>\n",
       "      <td>NaN</td>\n",
       "      <td>NaN</td>\n",
       "      <td>NaN</td>\n",
       "      <td>NaN</td>\n",
       "      <td>fn</td>\n",
       "      <td>planck_z</td>\n",
       "    </tr>\n",
       "    <tr>\n",
       "      <th>48</th>\n",
       "      <td>187.943617</td>\n",
       "      <td>82.410032</td>\n",
       "      <td>NaN</td>\n",
       "      <td>NaN</td>\n",
       "      <td>NaN</td>\n",
       "      <td>NaN</td>\n",
       "      <td>NaN</td>\n",
       "      <td>fn</td>\n",
       "      <td>planck_z</td>\n",
       "    </tr>\n",
       "  </tbody>\n",
       "</table>\n",
       "</div>"
      ],
      "text/plain": [
       "            RA        DEC  area   min_rad   max_rad  min_pred  max_pred status   catalog\n",
       "0   261.411216  85.879280  19.0  1.478872  3.613255  0.508190  0.998537     tp  planck_z\n",
       "1   171.923132  71.105538  19.0  1.134615  3.556877  0.430976  0.922336     tp  planck_z\n",
       "2   178.983605  73.566323  15.0  1.070389  3.143234  0.403708  0.760757     tp  planck_z\n",
       "3   181.797649  71.686960  14.0  0.921796  3.343648  0.482473  0.813310     tp  planck_z\n",
       "5   275.878223  78.388854  17.0  0.978495  3.508872  0.434119  0.984679     tp  planck_z\n",
       "8   208.761411  77.263916  17.0  1.015839  3.472759  0.465352  0.990765     tp  planck_z\n",
       "10  199.954068  70.016700  13.0  1.035318  3.262703  0.417573  0.812428     tp  planck_z\n",
       "12  195.837588  67.458089  16.0  1.151331  3.340828  0.409737  0.939598     tp  planck_z\n",
       "13  194.572598  65.373192  16.0  1.529360  3.576284  0.486278  0.973751     tp  planck_z\n",
       "14  213.485300  71.292974  18.0  1.106321  3.376304  0.413182  0.974803     tp  planck_z\n",
       "16  198.559209  64.607322  18.0  1.081389  3.485846  0.417733  0.972595     tp  planck_z\n",
       "17  261.894925  70.621822   2.0  0.499885  1.802680  0.410516  0.410705     tp  planck_z\n",
       "19  209.938881  62.524432  18.0  1.006873  3.353002  0.456349  0.958437     tp  planck_z\n",
       "24  216.366076  63.238739  18.0  1.490965  3.555615  0.431278  0.945924     tp  planck_z\n",
       "25  212.586934  59.697488  18.0  1.283739  3.718112  0.428237  0.915368     tp  planck_z\n",
       "27  239.071310  66.354136  17.0  1.039959  3.448895  0.401314  0.979798     tp  planck_z\n",
       "30  216.761780  55.794877  16.0  0.572928  3.299361  0.414153  0.886572     tp  planck_z\n",
       "32  213.674510  54.829549  15.0  0.892859  2.792526  0.452998  0.923296     tp  planck_z\n",
       "33  238.125773  62.072073  13.0  0.787969  2.961847  0.412519  0.731900     tp  planck_z\n",
       "35  227.104172  57.929406  17.0  1.173071  3.371694  0.422547  0.984610     tp  planck_z\n",
       "37  218.924036  55.181897  17.0  0.756471  3.658951  0.442479  0.880564     tp  planck_z\n",
       "38  246.903435  65.396317   NaN       NaN       NaN       NaN       NaN     fn  planck_z\n",
       "39  248.977644  66.202314   NaN       NaN       NaN       NaN       NaN     fn  planck_z\n",
       "40  231.052549  62.022709   NaN       NaN       NaN       NaN       NaN     fn  planck_z\n",
       "41  238.037819  65.340540   NaN       NaN       NaN       NaN       NaN     fn  planck_z\n",
       "42  236.709588  69.944118   NaN       NaN       NaN       NaN       NaN     fn  planck_z\n",
       "43  216.777337  65.652811   NaN       NaN       NaN       NaN       NaN     fn  planck_z\n",
       "44  256.100465  78.632469   NaN       NaN       NaN       NaN       NaN     fn  planck_z\n",
       "45  213.306316  74.292047   NaN       NaN       NaN       NaN       NaN     fn  planck_z\n",
       "46  238.760353  84.163702   NaN       NaN       NaN       NaN       NaN     fn  planck_z\n",
       "47  205.487900  74.451412   NaN       NaN       NaN       NaN       NaN     fn  planck_z\n",
       "48  187.943617  82.410032   NaN       NaN       NaN       NaN       NaN     fn  planck_z"
      ]
     },
     "execution_count": 175,
     "metadata": {},
     "output_type": "execute_result"
    }
   ],
   "source": [
    "planck_z"
   ]
  },
  {
   "cell_type": "code",
   "execution_count": 75,
   "metadata": {
    "ExecuteTime": {
     "end_time": "2020-10-10T08:53:43.918495Z",
     "start_time": "2020-10-10T08:53:43.915434Z"
    }
   },
   "outputs": [],
   "source": [
    "true_clusters = all_dict['true_clusters']"
   ]
  },
  {
   "cell_type": "code",
   "execution_count": 76,
   "metadata": {
    "ExecuteTime": {
     "end_time": "2020-10-10T08:53:44.417108Z",
     "start_time": "2020-10-10T08:53:44.408553Z"
    }
   },
   "outputs": [
    {
     "data": {
      "text/plain": [
       "40"
      ]
     },
     "execution_count": 76,
     "metadata": {},
     "output_type": "execute_result"
    }
   ],
   "source": [
    "np.count_nonzero(true_clusters['catalog'] == 'planck_z')"
   ]
  },
  {
   "cell_type": "code",
   "execution_count": 74,
   "metadata": {
    "ExecuteTime": {
     "end_time": "2020-10-10T08:53:38.676544Z",
     "start_time": "2020-10-10T08:53:38.665959Z"
    }
   },
   "outputs": [
    {
     "data": {
      "text/plain": [
       "((49, 10), 48)"
      ]
     },
     "execution_count": 74,
     "metadata": {},
     "output_type": "execute_result"
    }
   ],
   "source": [
    "coords.shape, coords.index[-1]"
   ]
  },
  {
   "cell_type": "code",
   "execution_count": 91,
   "metadata": {
    "ExecuteTime": {
     "end_time": "2020-10-10T08:58:18.235704Z",
     "start_time": "2020-10-10T08:58:18.230117Z"
    }
   },
   "outputs": [
    {
     "data": {
      "text/plain": [
       "{nan, 'planck_z'}"
      ]
     },
     "execution_count": 91,
     "metadata": {},
     "output_type": "execute_result"
    }
   ],
   "source": [
    "set(coords['catalog'])"
   ]
  },
  {
   "cell_type": "code",
   "execution_count": 126,
   "metadata": {
    "ExecuteTime": {
     "end_time": "2020-10-10T09:33:48.371422Z",
     "start_time": "2020-10-10T09:33:48.365149Z"
    }
   },
   "outputs": [],
   "source": [
    "res_cat = pd.DataFrame({'RA' : [1, 2, 3], 'DEC' : [4, 5, 6], 'area' : [6, 6, 4]})"
   ]
  },
  {
   "cell_type": "code",
   "execution_count": 127,
   "metadata": {
    "ExecuteTime": {
     "end_time": "2020-10-10T09:33:48.544346Z",
     "start_time": "2020-10-10T09:33:48.536213Z"
    }
   },
   "outputs": [],
   "source": [
    "true_clusters = pd.DataFrame({'RA' : [1, 2], 'DEC' : [4, 5], 'catalog' : ['planck_z'] * 2})"
   ]
  },
  {
   "cell_type": "code",
   "execution_count": 128,
   "metadata": {
    "ExecuteTime": {
     "end_time": "2020-10-10T09:33:48.792915Z",
     "start_time": "2020-10-10T09:33:48.785038Z"
    }
   },
   "outputs": [],
   "source": [
    "res_cat['tp_cat'] = ''\n",
    "matched_idx = np.array([True, True, False])\n",
    "idx = np.array([0, 1, 2])\n",
    "res_cat['catalog'] = ''"
   ]
  },
  {
   "cell_type": "code",
   "execution_count": 135,
   "metadata": {
    "ExecuteTime": {
     "end_time": "2020-10-10T09:36:09.167017Z",
     "start_time": "2020-10-10T09:36:09.147556Z"
    }
   },
   "outputs": [
    {
     "name": "stdout",
     "output_type": "stream",
     "text": [
      "2\n"
     ]
    },
    {
     "name": "stderr",
     "output_type": "stream",
     "text": [
      "/home/rt2122/anaconda3/lib/python3.8/site-packages/pandas/core/indexing.py:671: SettingWithCopyWarning: \n",
      "A value is trying to be set on a copy of a slice from a DataFrame\n",
      "\n",
      "See the caveats in the documentation: https://pandas.pydata.org/pandas-docs/stable/user_guide/indexing.html#returning-a-view-versus-a-copy\n",
      "  self._setitem_with_indexer(indexer, value)\n"
     ]
    }
   ],
   "source": [
    "res_cat['catalog'] = ''\n",
    "res_cat['catalog'].iloc[matched_idx]= true_clusters['catalog'][idx[matched_idx]]\n",
    "res_cat['status'] = ''\n",
    "res_cat['status'].iloc[matched_idx] = 'tp'\n",
    "res_cat['status'].iloc[np.logical_not(matched_idx)] = 'fp'\n",
    "    \n",
    "true_clusters['found'] = False\n",
    "true_clusters['found'].iloc[idx[matched_idx]] = True\n",
    "not_found = true_clusters[np.logical_not(true_clusters['found'])]\n",
    "print(np.count_nonzero(true_clusters['found']))"
   ]
  },
  {
   "cell_type": "code",
   "execution_count": 136,
   "metadata": {
    "ExecuteTime": {
     "end_time": "2020-10-10T09:36:09.516167Z",
     "start_time": "2020-10-10T09:36:09.498579Z"
    }
   },
   "outputs": [
    {
     "data": {
      "text/html": [
       "<div>\n",
       "<style scoped>\n",
       "    .dataframe tbody tr th:only-of-type {\n",
       "        vertical-align: middle;\n",
       "    }\n",
       "\n",
       "    .dataframe tbody tr th {\n",
       "        vertical-align: top;\n",
       "    }\n",
       "\n",
       "    .dataframe thead th {\n",
       "        text-align: right;\n",
       "    }\n",
       "</style>\n",
       "<table border=\"1\" class=\"dataframe\">\n",
       "  <thead>\n",
       "    <tr style=\"text-align: right;\">\n",
       "      <th></th>\n",
       "      <th>RA</th>\n",
       "      <th>DEC</th>\n",
       "      <th>area</th>\n",
       "      <th>tp_cat</th>\n",
       "      <th>catalog</th>\n",
       "      <th>status</th>\n",
       "    </tr>\n",
       "  </thead>\n",
       "  <tbody>\n",
       "    <tr>\n",
       "      <th>0</th>\n",
       "      <td>1</td>\n",
       "      <td>4</td>\n",
       "      <td>6</td>\n",
       "      <td></td>\n",
       "      <td>planck_z</td>\n",
       "      <td>tp</td>\n",
       "    </tr>\n",
       "    <tr>\n",
       "      <th>1</th>\n",
       "      <td>2</td>\n",
       "      <td>5</td>\n",
       "      <td>6</td>\n",
       "      <td></td>\n",
       "      <td>planck_z</td>\n",
       "      <td>tp</td>\n",
       "    </tr>\n",
       "    <tr>\n",
       "      <th>2</th>\n",
       "      <td>3</td>\n",
       "      <td>6</td>\n",
       "      <td>4</td>\n",
       "      <td></td>\n",
       "      <td></td>\n",
       "      <td>fp</td>\n",
       "    </tr>\n",
       "  </tbody>\n",
       "</table>\n",
       "</div>"
      ],
      "text/plain": [
       "   RA  DEC  area tp_cat   catalog status\n",
       "0   1    4     6         planck_z     tp\n",
       "1   2    5     6         planck_z     tp\n",
       "2   3    6     4                      fp"
      ]
     },
     "execution_count": 136,
     "metadata": {},
     "output_type": "execute_result"
    }
   ],
   "source": [
    "res_cat"
   ]
  },
  {
   "cell_type": "code",
   "execution_count": 181,
   "metadata": {
    "ExecuteTime": {
     "end_time": "2020-10-10T09:56:24.425405Z",
     "start_time": "2020-10-10T09:56:24.374256Z"
    }
   },
   "outputs": [
    {
     "data": {
      "text/html": [
       "<div>\n",
       "<style scoped>\n",
       "    .dataframe tbody tr th:only-of-type {\n",
       "        vertical-align: middle;\n",
       "    }\n",
       "\n",
       "    .dataframe tbody tr th {\n",
       "        vertical-align: top;\n",
       "    }\n",
       "\n",
       "    .dataframe thead th {\n",
       "        text-align: right;\n",
       "    }\n",
       "</style>\n",
       "<table border=\"1\" class=\"dataframe\">\n",
       "  <thead>\n",
       "    <tr style=\"text-align: right;\">\n",
       "      <th></th>\n",
       "      <th>RA</th>\n",
       "      <th>DEC</th>\n",
       "      <th>area</th>\n",
       "      <th>min_rad</th>\n",
       "      <th>max_rad</th>\n",
       "      <th>min_pred</th>\n",
       "      <th>max_pred</th>\n",
       "      <th>status</th>\n",
       "      <th>catalog</th>\n",
       "    </tr>\n",
       "  </thead>\n",
       "  <tbody>\n",
       "    <tr>\n",
       "      <th>0</th>\n",
       "      <td>261.411216</td>\n",
       "      <td>85.879280</td>\n",
       "      <td>19.0</td>\n",
       "      <td>1.478872</td>\n",
       "      <td>3.613255</td>\n",
       "      <td>0.508190</td>\n",
       "      <td>0.998537</td>\n",
       "      <td>tp</td>\n",
       "      <td>planck_z</td>\n",
       "    </tr>\n",
       "    <tr>\n",
       "      <th>1</th>\n",
       "      <td>171.923132</td>\n",
       "      <td>71.105538</td>\n",
       "      <td>19.0</td>\n",
       "      <td>1.134615</td>\n",
       "      <td>3.556877</td>\n",
       "      <td>0.430976</td>\n",
       "      <td>0.922336</td>\n",
       "      <td>tp</td>\n",
       "      <td>planck_z</td>\n",
       "    </tr>\n",
       "    <tr>\n",
       "      <th>2</th>\n",
       "      <td>178.983605</td>\n",
       "      <td>73.566323</td>\n",
       "      <td>15.0</td>\n",
       "      <td>1.070389</td>\n",
       "      <td>3.143234</td>\n",
       "      <td>0.403708</td>\n",
       "      <td>0.760757</td>\n",
       "      <td>tp</td>\n",
       "      <td>planck_z</td>\n",
       "    </tr>\n",
       "    <tr>\n",
       "      <th>3</th>\n",
       "      <td>181.797649</td>\n",
       "      <td>71.686960</td>\n",
       "      <td>14.0</td>\n",
       "      <td>0.921796</td>\n",
       "      <td>3.343648</td>\n",
       "      <td>0.482473</td>\n",
       "      <td>0.813310</td>\n",
       "      <td>tp</td>\n",
       "      <td>planck_z</td>\n",
       "    </tr>\n",
       "    <tr>\n",
       "      <th>4</th>\n",
       "      <td>284.353067</td>\n",
       "      <td>74.919484</td>\n",
       "      <td>11.0</td>\n",
       "      <td>1.081440</td>\n",
       "      <td>3.332216</td>\n",
       "      <td>0.425504</td>\n",
       "      <td>0.868978</td>\n",
       "      <td>tp</td>\n",
       "      <td>planck_z</td>\n",
       "    </tr>\n",
       "    <tr>\n",
       "      <th>5</th>\n",
       "      <td>275.878223</td>\n",
       "      <td>78.388854</td>\n",
       "      <td>17.0</td>\n",
       "      <td>0.978495</td>\n",
       "      <td>3.508872</td>\n",
       "      <td>0.434119</td>\n",
       "      <td>0.984679</td>\n",
       "      <td>tp</td>\n",
       "      <td>planck_z</td>\n",
       "    </tr>\n",
       "    <tr>\n",
       "      <th>8</th>\n",
       "      <td>208.761411</td>\n",
       "      <td>77.263916</td>\n",
       "      <td>17.0</td>\n",
       "      <td>1.015839</td>\n",
       "      <td>3.472759</td>\n",
       "      <td>0.465352</td>\n",
       "      <td>0.990765</td>\n",
       "      <td>tp</td>\n",
       "      <td>planck_z</td>\n",
       "    </tr>\n",
       "    <tr>\n",
       "      <th>10</th>\n",
       "      <td>199.954068</td>\n",
       "      <td>70.016700</td>\n",
       "      <td>13.0</td>\n",
       "      <td>1.035318</td>\n",
       "      <td>3.262703</td>\n",
       "      <td>0.417573</td>\n",
       "      <td>0.812428</td>\n",
       "      <td>tp</td>\n",
       "      <td>planck_z</td>\n",
       "    </tr>\n",
       "    <tr>\n",
       "      <th>12</th>\n",
       "      <td>195.837588</td>\n",
       "      <td>67.458089</td>\n",
       "      <td>16.0</td>\n",
       "      <td>1.151331</td>\n",
       "      <td>3.340828</td>\n",
       "      <td>0.409737</td>\n",
       "      <td>0.939598</td>\n",
       "      <td>tp</td>\n",
       "      <td>planck_z</td>\n",
       "    </tr>\n",
       "    <tr>\n",
       "      <th>13</th>\n",
       "      <td>194.572598</td>\n",
       "      <td>65.373192</td>\n",
       "      <td>16.0</td>\n",
       "      <td>1.529360</td>\n",
       "      <td>3.576284</td>\n",
       "      <td>0.486278</td>\n",
       "      <td>0.973751</td>\n",
       "      <td>tp</td>\n",
       "      <td>planck_z</td>\n",
       "    </tr>\n",
       "    <tr>\n",
       "      <th>14</th>\n",
       "      <td>213.485300</td>\n",
       "      <td>71.292974</td>\n",
       "      <td>18.0</td>\n",
       "      <td>1.106321</td>\n",
       "      <td>3.376304</td>\n",
       "      <td>0.413182</td>\n",
       "      <td>0.974803</td>\n",
       "      <td>tp</td>\n",
       "      <td>planck_z</td>\n",
       "    </tr>\n",
       "    <tr>\n",
       "      <th>15</th>\n",
       "      <td>209.957586</td>\n",
       "      <td>72.157188</td>\n",
       "      <td>16.0</td>\n",
       "      <td>0.875839</td>\n",
       "      <td>3.374101</td>\n",
       "      <td>0.421557</td>\n",
       "      <td>0.862101</td>\n",
       "      <td>tp</td>\n",
       "      <td>planck_z</td>\n",
       "    </tr>\n",
       "    <tr>\n",
       "      <th>16</th>\n",
       "      <td>198.559209</td>\n",
       "      <td>64.607322</td>\n",
       "      <td>18.0</td>\n",
       "      <td>1.081389</td>\n",
       "      <td>3.485846</td>\n",
       "      <td>0.417733</td>\n",
       "      <td>0.972595</td>\n",
       "      <td>tp</td>\n",
       "      <td>planck_z</td>\n",
       "    </tr>\n",
       "    <tr>\n",
       "      <th>17</th>\n",
       "      <td>261.894925</td>\n",
       "      <td>70.621822</td>\n",
       "      <td>2.0</td>\n",
       "      <td>0.499885</td>\n",
       "      <td>1.802680</td>\n",
       "      <td>0.410516</td>\n",
       "      <td>0.410705</td>\n",
       "      <td>tp</td>\n",
       "      <td>planck_z</td>\n",
       "    </tr>\n",
       "    <tr>\n",
       "      <th>19</th>\n",
       "      <td>209.938881</td>\n",
       "      <td>62.524432</td>\n",
       "      <td>18.0</td>\n",
       "      <td>1.006873</td>\n",
       "      <td>3.353002</td>\n",
       "      <td>0.456349</td>\n",
       "      <td>0.958437</td>\n",
       "      <td>tp</td>\n",
       "      <td>planck_z</td>\n",
       "    </tr>\n",
       "    <tr>\n",
       "      <th>20</th>\n",
       "      <td>203.987873</td>\n",
       "      <td>59.246696</td>\n",
       "      <td>22.0</td>\n",
       "      <td>1.442856</td>\n",
       "      <td>3.968591</td>\n",
       "      <td>0.401936</td>\n",
       "      <td>0.952616</td>\n",
       "      <td>tp</td>\n",
       "      <td>planck_z</td>\n",
       "    </tr>\n",
       "    <tr>\n",
       "      <th>23</th>\n",
       "      <td>248.752028</td>\n",
       "      <td>67.620019</td>\n",
       "      <td>14.0</td>\n",
       "      <td>0.774379</td>\n",
       "      <td>2.944922</td>\n",
       "      <td>0.414109</td>\n",
       "      <td>0.741829</td>\n",
       "      <td>tp</td>\n",
       "      <td>planck_z</td>\n",
       "    </tr>\n",
       "    <tr>\n",
       "      <th>24</th>\n",
       "      <td>216.366076</td>\n",
       "      <td>63.238739</td>\n",
       "      <td>18.0</td>\n",
       "      <td>1.490965</td>\n",
       "      <td>3.555615</td>\n",
       "      <td>0.431278</td>\n",
       "      <td>0.945924</td>\n",
       "      <td>tp</td>\n",
       "      <td>planck_z</td>\n",
       "    </tr>\n",
       "    <tr>\n",
       "      <th>25</th>\n",
       "      <td>212.586934</td>\n",
       "      <td>59.697488</td>\n",
       "      <td>18.0</td>\n",
       "      <td>1.283739</td>\n",
       "      <td>3.718112</td>\n",
       "      <td>0.428237</td>\n",
       "      <td>0.915368</td>\n",
       "      <td>tp</td>\n",
       "      <td>planck_z</td>\n",
       "    </tr>\n",
       "    <tr>\n",
       "      <th>26</th>\n",
       "      <td>207.195082</td>\n",
       "      <td>57.381217</td>\n",
       "      <td>15.0</td>\n",
       "      <td>1.420455</td>\n",
       "      <td>3.075745</td>\n",
       "      <td>0.430675</td>\n",
       "      <td>0.969792</td>\n",
       "      <td>tp</td>\n",
       "      <td>planck_z</td>\n",
       "    </tr>\n",
       "    <tr>\n",
       "      <th>27</th>\n",
       "      <td>239.071310</td>\n",
       "      <td>66.354136</td>\n",
       "      <td>17.0</td>\n",
       "      <td>1.039959</td>\n",
       "      <td>3.448895</td>\n",
       "      <td>0.401314</td>\n",
       "      <td>0.979798</td>\n",
       "      <td>tp</td>\n",
       "      <td>planck_z</td>\n",
       "    </tr>\n",
       "    <tr>\n",
       "      <th>28</th>\n",
       "      <td>223.804081</td>\n",
       "      <td>58.869190</td>\n",
       "      <td>8.0</td>\n",
       "      <td>0.877482</td>\n",
       "      <td>2.388728</td>\n",
       "      <td>0.423525</td>\n",
       "      <td>0.651555</td>\n",
       "      <td>tp</td>\n",
       "      <td>planck_z</td>\n",
       "    </tr>\n",
       "    <tr>\n",
       "      <th>29</th>\n",
       "      <td>217.150999</td>\n",
       "      <td>56.931308</td>\n",
       "      <td>19.0</td>\n",
       "      <td>1.202048</td>\n",
       "      <td>3.340621</td>\n",
       "      <td>0.425725</td>\n",
       "      <td>0.975734</td>\n",
       "      <td>tp</td>\n",
       "      <td>planck_z</td>\n",
       "    </tr>\n",
       "    <tr>\n",
       "      <th>30</th>\n",
       "      <td>216.761780</td>\n",
       "      <td>55.794877</td>\n",
       "      <td>16.0</td>\n",
       "      <td>0.572928</td>\n",
       "      <td>3.299361</td>\n",
       "      <td>0.414153</td>\n",
       "      <td>0.886572</td>\n",
       "      <td>tp</td>\n",
       "      <td>planck_z</td>\n",
       "    </tr>\n",
       "    <tr>\n",
       "      <th>32</th>\n",
       "      <td>213.674510</td>\n",
       "      <td>54.829549</td>\n",
       "      <td>15.0</td>\n",
       "      <td>0.892859</td>\n",
       "      <td>2.792526</td>\n",
       "      <td>0.452998</td>\n",
       "      <td>0.923296</td>\n",
       "      <td>tp</td>\n",
       "      <td>planck_z</td>\n",
       "    </tr>\n",
       "    <tr>\n",
       "      <th>33</th>\n",
       "      <td>238.125773</td>\n",
       "      <td>62.072073</td>\n",
       "      <td>13.0</td>\n",
       "      <td>0.787969</td>\n",
       "      <td>2.961847</td>\n",
       "      <td>0.412519</td>\n",
       "      <td>0.731900</td>\n",
       "      <td>tp</td>\n",
       "      <td>planck_z</td>\n",
       "    </tr>\n",
       "    <tr>\n",
       "      <th>35</th>\n",
       "      <td>227.104172</td>\n",
       "      <td>57.929406</td>\n",
       "      <td>17.0</td>\n",
       "      <td>1.173071</td>\n",
       "      <td>3.371694</td>\n",
       "      <td>0.422547</td>\n",
       "      <td>0.984610</td>\n",
       "      <td>tp</td>\n",
       "      <td>planck_z</td>\n",
       "    </tr>\n",
       "    <tr>\n",
       "      <th>36</th>\n",
       "      <td>223.287020</td>\n",
       "      <td>58.090154</td>\n",
       "      <td>19.0</td>\n",
       "      <td>1.189236</td>\n",
       "      <td>3.325685</td>\n",
       "      <td>0.405837</td>\n",
       "      <td>0.985720</td>\n",
       "      <td>tp</td>\n",
       "      <td>planck_z</td>\n",
       "    </tr>\n",
       "    <tr>\n",
       "      <th>37</th>\n",
       "      <td>218.924036</td>\n",
       "      <td>55.181897</td>\n",
       "      <td>17.0</td>\n",
       "      <td>0.756471</td>\n",
       "      <td>3.658951</td>\n",
       "      <td>0.442479</td>\n",
       "      <td>0.880564</td>\n",
       "      <td>tp</td>\n",
       "      <td>planck_z</td>\n",
       "    </tr>\n",
       "  </tbody>\n",
       "</table>\n",
       "</div>"
      ],
      "text/plain": [
       "            RA        DEC  area   min_rad   max_rad  min_pred  max_pred status   catalog\n",
       "0   261.411216  85.879280  19.0  1.478872  3.613255  0.508190  0.998537     tp  planck_z\n",
       "1   171.923132  71.105538  19.0  1.134615  3.556877  0.430976  0.922336     tp  planck_z\n",
       "2   178.983605  73.566323  15.0  1.070389  3.143234  0.403708  0.760757     tp  planck_z\n",
       "3   181.797649  71.686960  14.0  0.921796  3.343648  0.482473  0.813310     tp  planck_z\n",
       "4   284.353067  74.919484  11.0  1.081440  3.332216  0.425504  0.868978     tp  planck_z\n",
       "5   275.878223  78.388854  17.0  0.978495  3.508872  0.434119  0.984679     tp  planck_z\n",
       "8   208.761411  77.263916  17.0  1.015839  3.472759  0.465352  0.990765     tp  planck_z\n",
       "10  199.954068  70.016700  13.0  1.035318  3.262703  0.417573  0.812428     tp  planck_z\n",
       "12  195.837588  67.458089  16.0  1.151331  3.340828  0.409737  0.939598     tp  planck_z\n",
       "13  194.572598  65.373192  16.0  1.529360  3.576284  0.486278  0.973751     tp  planck_z\n",
       "14  213.485300  71.292974  18.0  1.106321  3.376304  0.413182  0.974803     tp  planck_z\n",
       "15  209.957586  72.157188  16.0  0.875839  3.374101  0.421557  0.862101     tp  planck_z\n",
       "16  198.559209  64.607322  18.0  1.081389  3.485846  0.417733  0.972595     tp  planck_z\n",
       "17  261.894925  70.621822   2.0  0.499885  1.802680  0.410516  0.410705     tp  planck_z\n",
       "19  209.938881  62.524432  18.0  1.006873  3.353002  0.456349  0.958437     tp  planck_z\n",
       "20  203.987873  59.246696  22.0  1.442856  3.968591  0.401936  0.952616     tp  planck_z\n",
       "23  248.752028  67.620019  14.0  0.774379  2.944922  0.414109  0.741829     tp  planck_z\n",
       "24  216.366076  63.238739  18.0  1.490965  3.555615  0.431278  0.945924     tp  planck_z\n",
       "25  212.586934  59.697488  18.0  1.283739  3.718112  0.428237  0.915368     tp  planck_z\n",
       "26  207.195082  57.381217  15.0  1.420455  3.075745  0.430675  0.969792     tp  planck_z\n",
       "27  239.071310  66.354136  17.0  1.039959  3.448895  0.401314  0.979798     tp  planck_z\n",
       "28  223.804081  58.869190   8.0  0.877482  2.388728  0.423525  0.651555     tp  planck_z\n",
       "29  217.150999  56.931308  19.0  1.202048  3.340621  0.425725  0.975734     tp  planck_z\n",
       "30  216.761780  55.794877  16.0  0.572928  3.299361  0.414153  0.886572     tp  planck_z\n",
       "32  213.674510  54.829549  15.0  0.892859  2.792526  0.452998  0.923296     tp  planck_z\n",
       "33  238.125773  62.072073  13.0  0.787969  2.961847  0.412519  0.731900     tp  planck_z\n",
       "35  227.104172  57.929406  17.0  1.173071  3.371694  0.422547  0.984610     tp  planck_z\n",
       "36  223.287020  58.090154  19.0  1.189236  3.325685  0.405837  0.985720     tp  planck_z\n",
       "37  218.924036  55.181897  17.0  0.756471  3.658951  0.442479  0.880564     tp  planck_z"
      ]
     },
     "execution_count": 181,
     "metadata": {},
     "output_type": "execute_result"
    }
   ],
   "source": [
    "coords[coords['status'] == 'tp']"
   ]
  },
  {
   "cell_type": "code",
   "execution_count": 184,
   "metadata": {
    "ExecuteTime": {
     "end_time": "2020-10-10T10:00:40.095853Z",
     "start_time": "2020-10-10T10:00:39.528857Z"
    }
   },
   "outputs": [
    {
     "name": "stderr",
     "output_type": "stream",
     "text": [
      "/home/rt2122/anaconda3/lib/python3.8/site-packages/pandas/core/indexing.py:671: SettingWithCopyWarning: \n",
      "A value is trying to be set on a copy of a slice from a DataFrame\n",
      "\n",
      "See the caveats in the documentation: https://pandas.pydata.org/pandas-docs/stable/user_guide/indexing.html#returning-a-view-versus-a-copy\n",
      "  self._setitem_with_indexer(indexer, value)\n"
     ]
    }
   ],
   "source": [
    "stat = detect_clusters_new(all_dict, 0.4, ret_coords=False)"
   ]
  },
  {
   "cell_type": "code",
   "execution_count": 185,
   "metadata": {
    "ExecuteTime": {
     "end_time": "2020-10-10T10:00:42.308322Z",
     "start_time": "2020-10-10T10:00:42.303038Z"
    }
   },
   "outputs": [
    {
     "data": {
      "text/plain": [
       "{'tp': 29, 'fp': 9, 'tn': 15, 'fn': 11}"
      ]
     },
     "execution_count": 185,
     "metadata": {},
     "output_type": "execute_result"
    }
   ],
   "source": [
    "stat"
   ]
  },
  {
   "cell_type": "code",
   "execution_count": null,
   "metadata": {},
   "outputs": [],
   "source": []
  }
 ],
 "metadata": {
  "kernelspec": {
   "display_name": "Python 3",
   "language": "python",
   "name": "python3"
  },
  "language_info": {
   "codemirror_mode": {
    "name": "ipython",
    "version": 3
   },
   "file_extension": ".py",
   "mimetype": "text/x-python",
   "name": "python",
   "nbconvert_exporter": "python",
   "pygments_lexer": "ipython3",
   "version": "3.8.3"
  }
 },
 "nbformat": 4,
 "nbformat_minor": 4
}
