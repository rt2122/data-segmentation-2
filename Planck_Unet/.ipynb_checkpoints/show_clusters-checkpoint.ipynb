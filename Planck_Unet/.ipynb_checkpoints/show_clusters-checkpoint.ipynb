{
 "cells": [
  {
   "cell_type": "code",
   "execution_count": 73,
   "metadata": {
    "ExecuteTime": {
     "end_time": "2020-09-12T09:50:53.030868Z",
     "start_time": "2020-09-12T09:50:53.026869Z"
    }
   },
   "outputs": [],
   "source": [
    "import numpy as np\n",
    "from matplotlib import pyplot as plt\n",
    "from DS_detector import clusters_in_pix, find_centers_on_ans\n",
    "from DS_Planck_Unet import unet_planck\n",
    "from DS_healpix_fragmentation import one_pixel_fragmentation, draw_circles_h, matr2dict"
   ]
  },
  {
   "cell_type": "code",
   "execution_count": 65,
   "metadata": {
    "ExecuteTime": {
     "end_time": "2020-09-12T09:47:20.480411Z",
     "start_time": "2020-09-12T09:47:20.460743Z"
    }
   },
   "outputs": [],
   "source": [
    "def scan_none(pix2, model, clusters_dir='/home/rt2122/Data/clusters/', \n",
    "              thr_list=[0.1], size=64, depth=10, \n",
    "              planck_nside=2048, clusters_dist=15/60, ret_coords=False):\n",
    "    from DS_healpix_fragmentation import one_pixel_fragmentation\n",
    "    from DS_Planck_Unet import draw_pic\n",
    "    import os\n",
    "    import healpy as hp\n",
    "    import pandas as pd\n",
    "    from astropy.coordinates import SkyCoord\n",
    "    from astropy import units as u\n",
    "    \n",
    "    matr = one_pixel_fragmentation(2, pix2, depth)\n",
    "    true_clusters = {file[:-4] : clusters_in_pix(os.path.join(clusters_dir, file), pix2, 2) \n",
    "                     for file in next(os.walk(clusters_dir))[-1]}\n",
    "    true_clusters['all'] = pd.concat(list(item[1] for item in true_clusters.items()))\n",
    "    \n",
    "    pic = draw_pic(matr)\n",
    "    ans = model.predict(np.array([pic]))\n",
    "    \n",
    "    thr_dict = find_centers_on_ans(ans, [matr], thr_list)\n",
    "    sc_true = {name : SkyCoord(ra=true_clusters[name]['RA']*u.degree, \n",
    "                               dec=true_clusters[name]['DEC']*u.degree,\n",
    "                       frame='icrs') for name in true_clusters}\n",
    "    coords = {}\n",
    "    df = pd.DataFrame({\n",
    "        'tp_pz':[0] * len(thr_list), \n",
    "        'tp_pnz':[0] * len(thr_list), \n",
    "        'tp_m':[0] * len(thr_list), \n",
    "        'tn':[0] * len(thr_list), \n",
    "        'fp':[0] * len(thr_list), \n",
    "        'fn_pz':[0] * len(thr_list), \n",
    "        'fn_pnz':[0] * len(thr_list), \n",
    "        'fn_m':[0] * len(thr_list), \n",
    "                   'thr': thr_list, \n",
    "                   'min_dist':[0] * len(thr_list),\n",
    "                   'all_found':[0] * len(thr_list)})\n",
    "    for i in range(len(thr_list)):\n",
    "        thr = thr_list[i]\n",
    "        df['all_found'][i] = len(thr_dict[thr])\n",
    "        \n",
    "        if len(thr_dict[thr]) > 0:\n",
    "            theta, phi = hp.pix2ang(nside=planck_nside, nest=True, ipix=thr_dict[thr], \n",
    "                                lonlat=True)\n",
    "            sc_found = SkyCoord(l=theta*u.degree, b=phi*u.degree, frame='galactic')\n",
    "        \n",
    "            for name, sm_name in [('planck_z', 'pz'), \n",
    "                                 ('planck_no_z', 'pnz'), ('mcxcwp', 'm')]:\n",
    "\n",
    "                idx, d2d, _ = sc_found.match_to_catalog_sky(sc_true[name])\n",
    "                idx = np.unique(idx[d2d.degree <= clusters_dist])\n",
    "                tp = np.count_nonzero(d2d.degree <= clusters_dist)\n",
    "                df['tp_'+sm_name][i] = tp \n",
    "                df['fn_'+sm_name][i] = len(true_clusters[name]) - tp\n",
    "                coords[name] = true_clusters[name].iloc[idx]\n",
    "                \n",
    "            idx, d2d, _ = sc_found.match_to_catalog_sky(sc_true['all'])\n",
    "            df['fp'][i] = np.count_nonzero(d2d.degree > clusters_dist)\n",
    "            found = pd.DataFrame({\n",
    "                'RA':sc_found.icrs.ra.degree,\n",
    "                'DEC':sc_found.icrs.dec.degree})\n",
    "            coords['fp'] = found[d2d.degree > clusters_dist]\n",
    "        \n",
    "        else:\n",
    "            df['fn_pz'][i] = len(true_clusters['planck_z'])\n",
    "            df['fn_pnz'][i] = len(true_clusters['planck_no_z'])\n",
    "            df['fn_m'][i] = len(true_clusters['mcxcwp'])\n",
    "    \n",
    "    if ret_coords:\n",
    "        return coords\n",
    "    return df\n",
    "        "
   ]
  },
  {
   "cell_type": "code",
   "execution_count": 3,
   "metadata": {
    "ExecuteTime": {
     "end_time": "2020-09-12T08:34:23.769664Z",
     "start_time": "2020-09-12T08:34:21.958888Z"
    }
   },
   "outputs": [],
   "source": [
    "model = unet_planck(input_size=(None, None, 6), \n",
    "    weights='/home/rt2122/Models/planck_z/model.ep0208-vl0.026899-l0.003223.h5')"
   ]
  },
  {
   "cell_type": "code",
   "execution_count": 32,
   "metadata": {
    "ExecuteTime": {
     "end_time": "2020-09-12T08:46:36.554863Z",
     "start_time": "2020-09-12T08:46:26.277803Z"
    }
   },
   "outputs": [
    {
     "name": "stderr",
     "output_type": "stream",
     "text": [
      "<ipython-input-31-8ba27f6a700b>:39: SettingWithCopyWarning: \n",
      "A value is trying to be set on a copy of a slice from a DataFrame\n",
      "\n",
      "See the caveats in the documentation: https://pandas.pydata.org/pandas-docs/stable/user_guide/indexing.html#returning-a-view-versus-a-copy\n",
      "  df['all_found'][i] = len(thr_dict[thr])\n",
      "<ipython-input-31-8ba27f6a700b>:51: SettingWithCopyWarning: \n",
      "A value is trying to be set on a copy of a slice from a DataFrame\n",
      "\n",
      "See the caveats in the documentation: https://pandas.pydata.org/pandas-docs/stable/user_guide/indexing.html#returning-a-view-versus-a-copy\n",
      "  df['tp_'+sm_name][i] = tp\n",
      "<ipython-input-31-8ba27f6a700b>:52: SettingWithCopyWarning: \n",
      "A value is trying to be set on a copy of a slice from a DataFrame\n",
      "\n",
      "See the caveats in the documentation: https://pandas.pydata.org/pandas-docs/stable/user_guide/indexing.html#returning-a-view-versus-a-copy\n",
      "  df['fn_'+sm_name][i] = len(true_clusters[name]) - tp\n",
      "<ipython-input-31-8ba27f6a700b>:55: SettingWithCopyWarning: \n",
      "A value is trying to be set on a copy of a slice from a DataFrame\n",
      "\n",
      "See the caveats in the documentation: https://pandas.pydata.org/pandas-docs/stable/user_guide/indexing.html#returning-a-view-versus-a-copy\n",
      "  df['fp'][i] = np.count_nonzero(d2d.degree > clusters_dist)\n"
     ]
    }
   ],
   "source": [
    "df = scan_none(6, model)"
   ]
  },
  {
   "cell_type": "code",
   "execution_count": 33,
   "metadata": {
    "ExecuteTime": {
     "end_time": "2020-09-12T08:47:22.635681Z",
     "start_time": "2020-09-12T08:47:22.625195Z"
    }
   },
   "outputs": [],
   "source": [
    "thr_list = [0.1 * i for i in range(9, 0, -1)]"
   ]
  },
  {
   "cell_type": "code",
   "execution_count": 35,
   "metadata": {
    "ExecuteTime": {
     "end_time": "2020-09-12T08:48:16.783328Z",
     "start_time": "2020-09-12T08:47:59.205038Z"
    }
   },
   "outputs": [
    {
     "name": "stderr",
     "output_type": "stream",
     "text": [
      "/home/rt2122/L/git/data-segmentation-2/modules/DS_detector.py:54: FutureWarning: Using a non-tuple sequence for multidimensional indexing is deprecated; use `arr[tuple(seq)]` instead of `arr[seq]`. In the future this will be interpreted as an array index, `arr[np.array(seq)]`, which will result either in an error or a different result.\n",
      "  thr_dict[thr].extend(list(matrs[i][[new_cen[:, 0], new_cen[:, 1]]]))\n",
      "<ipython-input-31-8ba27f6a700b>:39: SettingWithCopyWarning: \n",
      "A value is trying to be set on a copy of a slice from a DataFrame\n",
      "\n",
      "See the caveats in the documentation: https://pandas.pydata.org/pandas-docs/stable/user_guide/indexing.html#returning-a-view-versus-a-copy\n",
      "  df['all_found'][i] = len(thr_dict[thr])\n",
      "<ipython-input-31-8ba27f6a700b>:51: SettingWithCopyWarning: \n",
      "A value is trying to be set on a copy of a slice from a DataFrame\n",
      "\n",
      "See the caveats in the documentation: https://pandas.pydata.org/pandas-docs/stable/user_guide/indexing.html#returning-a-view-versus-a-copy\n",
      "  df['tp_'+sm_name][i] = tp\n",
      "<ipython-input-31-8ba27f6a700b>:52: SettingWithCopyWarning: \n",
      "A value is trying to be set on a copy of a slice from a DataFrame\n",
      "\n",
      "See the caveats in the documentation: https://pandas.pydata.org/pandas-docs/stable/user_guide/indexing.html#returning-a-view-versus-a-copy\n",
      "  df['fn_'+sm_name][i] = len(true_clusters[name]) - tp\n",
      "<ipython-input-31-8ba27f6a700b>:55: SettingWithCopyWarning: \n",
      "A value is trying to be set on a copy of a slice from a DataFrame\n",
      "\n",
      "See the caveats in the documentation: https://pandas.pydata.org/pandas-docs/stable/user_guide/indexing.html#returning-a-view-versus-a-copy\n",
      "  df['fp'][i] = np.count_nonzero(d2d.degree > clusters_dist)\n"
     ]
    }
   ],
   "source": [
    "df = scan_none(6, model, thr_list=thr_list)"
   ]
  },
  {
   "cell_type": "code",
   "execution_count": 36,
   "metadata": {
    "ExecuteTime": {
     "end_time": "2020-09-12T08:48:39.588850Z",
     "start_time": "2020-09-12T08:48:39.569848Z"
    }
   },
   "outputs": [
    {
     "data": {
      "text/html": [
       "<div>\n",
       "<style scoped>\n",
       "    .dataframe tbody tr th:only-of-type {\n",
       "        vertical-align: middle;\n",
       "    }\n",
       "\n",
       "    .dataframe tbody tr th {\n",
       "        vertical-align: top;\n",
       "    }\n",
       "\n",
       "    .dataframe thead th {\n",
       "        text-align: right;\n",
       "    }\n",
       "</style>\n",
       "<table border=\"1\" class=\"dataframe\">\n",
       "  <thead>\n",
       "    <tr style=\"text-align: right;\">\n",
       "      <th></th>\n",
       "      <th>tp_pz</th>\n",
       "      <th>tp_pnz</th>\n",
       "      <th>tp_m</th>\n",
       "      <th>tn</th>\n",
       "      <th>fp</th>\n",
       "      <th>fn_pz</th>\n",
       "      <th>fn_pnz</th>\n",
       "      <th>fn_m</th>\n",
       "      <th>thr</th>\n",
       "      <th>min_dist</th>\n",
       "      <th>all_found</th>\n",
       "    </tr>\n",
       "  </thead>\n",
       "  <tbody>\n",
       "    <tr>\n",
       "      <th>0</th>\n",
       "      <td>5</td>\n",
       "      <td>0</td>\n",
       "      <td>2</td>\n",
       "      <td>0</td>\n",
       "      <td>7</td>\n",
       "      <td>35</td>\n",
       "      <td>18</td>\n",
       "      <td>48</td>\n",
       "      <td>0.9</td>\n",
       "      <td>0</td>\n",
       "      <td>13</td>\n",
       "    </tr>\n",
       "    <tr>\n",
       "      <th>1</th>\n",
       "      <td>6</td>\n",
       "      <td>0</td>\n",
       "      <td>2</td>\n",
       "      <td>0</td>\n",
       "      <td>12</td>\n",
       "      <td>34</td>\n",
       "      <td>18</td>\n",
       "      <td>48</td>\n",
       "      <td>0.8</td>\n",
       "      <td>0</td>\n",
       "      <td>19</td>\n",
       "    </tr>\n",
       "    <tr>\n",
       "      <th>2</th>\n",
       "      <td>9</td>\n",
       "      <td>0</td>\n",
       "      <td>2</td>\n",
       "      <td>0</td>\n",
       "      <td>20</td>\n",
       "      <td>31</td>\n",
       "      <td>18</td>\n",
       "      <td>48</td>\n",
       "      <td>0.7</td>\n",
       "      <td>0</td>\n",
       "      <td>30</td>\n",
       "    </tr>\n",
       "    <tr>\n",
       "      <th>3</th>\n",
       "      <td>10</td>\n",
       "      <td>0</td>\n",
       "      <td>2</td>\n",
       "      <td>0</td>\n",
       "      <td>34</td>\n",
       "      <td>30</td>\n",
       "      <td>18</td>\n",
       "      <td>48</td>\n",
       "      <td>0.6</td>\n",
       "      <td>0</td>\n",
       "      <td>45</td>\n",
       "    </tr>\n",
       "    <tr>\n",
       "      <th>4</th>\n",
       "      <td>11</td>\n",
       "      <td>0</td>\n",
       "      <td>3</td>\n",
       "      <td>0</td>\n",
       "      <td>45</td>\n",
       "      <td>29</td>\n",
       "      <td>18</td>\n",
       "      <td>47</td>\n",
       "      <td>0.5</td>\n",
       "      <td>0</td>\n",
       "      <td>58</td>\n",
       "    </tr>\n",
       "    <tr>\n",
       "      <th>5</th>\n",
       "      <td>14</td>\n",
       "      <td>0</td>\n",
       "      <td>5</td>\n",
       "      <td>0</td>\n",
       "      <td>73</td>\n",
       "      <td>26</td>\n",
       "      <td>18</td>\n",
       "      <td>45</td>\n",
       "      <td>0.4</td>\n",
       "      <td>0</td>\n",
       "      <td>91</td>\n",
       "    </tr>\n",
       "    <tr>\n",
       "      <th>6</th>\n",
       "      <td>16</td>\n",
       "      <td>1</td>\n",
       "      <td>4</td>\n",
       "      <td>0</td>\n",
       "      <td>114</td>\n",
       "      <td>24</td>\n",
       "      <td>17</td>\n",
       "      <td>46</td>\n",
       "      <td>0.3</td>\n",
       "      <td>0</td>\n",
       "      <td>134</td>\n",
       "    </tr>\n",
       "    <tr>\n",
       "      <th>7</th>\n",
       "      <td>17</td>\n",
       "      <td>0</td>\n",
       "      <td>4</td>\n",
       "      <td>0</td>\n",
       "      <td>165</td>\n",
       "      <td>23</td>\n",
       "      <td>18</td>\n",
       "      <td>46</td>\n",
       "      <td>0.2</td>\n",
       "      <td>0</td>\n",
       "      <td>185</td>\n",
       "    </tr>\n",
       "    <tr>\n",
       "      <th>8</th>\n",
       "      <td>20</td>\n",
       "      <td>2</td>\n",
       "      <td>4</td>\n",
       "      <td>0</td>\n",
       "      <td>269</td>\n",
       "      <td>20</td>\n",
       "      <td>16</td>\n",
       "      <td>46</td>\n",
       "      <td>0.1</td>\n",
       "      <td>0</td>\n",
       "      <td>295</td>\n",
       "    </tr>\n",
       "  </tbody>\n",
       "</table>\n",
       "</div>"
      ],
      "text/plain": [
       "   tp_pz  tp_pnz  tp_m  tn   fp  fn_pz  fn_pnz  fn_m  thr  min_dist  all_found\n",
       "0      5       0     2   0    7     35      18    48  0.9         0         13\n",
       "1      6       0     2   0   12     34      18    48  0.8         0         19\n",
       "2      9       0     2   0   20     31      18    48  0.7         0         30\n",
       "3     10       0     2   0   34     30      18    48  0.6         0         45\n",
       "4     11       0     3   0   45     29      18    47  0.5         0         58\n",
       "5     14       0     5   0   73     26      18    45  0.4         0         91\n",
       "6     16       1     4   0  114     24      17    46  0.3         0        134\n",
       "7     17       0     4   0  165     23      18    46  0.2         0        185\n",
       "8     20       2     4   0  269     20      16    46  0.1         0        295"
      ]
     },
     "execution_count": 36,
     "metadata": {},
     "output_type": "execute_result"
    }
   ],
   "source": [
    "df"
   ]
  },
  {
   "cell_type": "code",
   "execution_count": 51,
   "metadata": {
    "ExecuteTime": {
     "end_time": "2020-09-12T09:03:09.551848Z",
     "start_time": "2020-09-12T09:03:09.535377Z"
    }
   },
   "outputs": [],
   "source": [
    "def draw_df(df, data, base, figsize=(8, 6)):\n",
    "    fig, ax = plt.subplots(1, figsize=figsize)\n",
    "    colors = 'bgrcmykw'\n",
    "    plt.gca().invert_xaxis()\n",
    "    for c, label in zip(colors[:len(data)], data):\n",
    "        line, = ax.plot(base, data[label], c+'o-')\n",
    "        line.set_label(label)\n",
    "    ax.legend()\n",
    "    plt.show()"
   ]
  },
  {
   "cell_type": "code",
   "execution_count": 52,
   "metadata": {
    "ExecuteTime": {
     "end_time": "2020-09-12T09:03:10.128478Z",
     "start_time": "2020-09-12T09:03:09.980129Z"
    }
   },
   "outputs": [
    {
     "data": {
      "image/png": "[encoded data removed]",
      "text/plain": [
       "<Figure size 576x432 with 1 Axes>"
      ]
     },
     "metadata": {
      "needs_background": "light"
     },
     "output_type": "display_data"
    }
   ],
   "source": [
    "draw_df(df, {\n",
    "    'planck_z':df['tp_pz'] / (df['tp_pz'] + df['fn_pz']),\n",
    "    'planck_np_z':df['tp_pnz'] / (df['tp_pnz'] + df['fn_pnz']),\n",
    "    'mcxcwp':df['tp_m'] / (df['tp_m'] + df['fn_m']),\n",
    "            }, df['thr'])"
   ]
  },
  {
   "cell_type": "code",
   "execution_count": 53,
   "metadata": {
    "ExecuteTime": {
     "end_time": "2020-09-12T09:04:31.313803Z",
     "start_time": "2020-09-12T09:04:30.287717Z"
    }
   },
   "outputs": [],
   "source": [
    "model = unet_planck(input_size=(None, None, 6), \n",
    "    weights='/home/rt2122/Models/planck_z_none/model.ep20.h5')"
   ]
  },
  {
   "cell_type": "code",
   "execution_count": 54,
   "metadata": {
    "ExecuteTime": {
     "end_time": "2020-09-12T09:05:00.732140Z",
     "start_time": "2020-09-12T09:04:40.036998Z"
    }
   },
   "outputs": [
    {
     "name": "stderr",
     "output_type": "stream",
     "text": [
      "/home/rt2122/L/git/data-segmentation-2/modules/DS_detector.py:54: FutureWarning: Using a non-tuple sequence for multidimensional indexing is deprecated; use `arr[tuple(seq)]` instead of `arr[seq]`. In the future this will be interpreted as an array index, `arr[np.array(seq)]`, which will result either in an error or a different result.\n",
      "  thr_dict[thr].extend(list(matrs[i][[new_cen[:, 0], new_cen[:, 1]]]))\n",
      "<ipython-input-31-8ba27f6a700b>:39: SettingWithCopyWarning: \n",
      "A value is trying to be set on a copy of a slice from a DataFrame\n",
      "\n",
      "See the caveats in the documentation: https://pandas.pydata.org/pandas-docs/stable/user_guide/indexing.html#returning-a-view-versus-a-copy\n",
      "  df['all_found'][i] = len(thr_dict[thr])\n",
      "<ipython-input-31-8ba27f6a700b>:51: SettingWithCopyWarning: \n",
      "A value is trying to be set on a copy of a slice from a DataFrame\n",
      "\n",
      "See the caveats in the documentation: https://pandas.pydata.org/pandas-docs/stable/user_guide/indexing.html#returning-a-view-versus-a-copy\n",
      "  df['tp_'+sm_name][i] = tp\n",
      "<ipython-input-31-8ba27f6a700b>:52: SettingWithCopyWarning: \n",
      "A value is trying to be set on a copy of a slice from a DataFrame\n",
      "\n",
      "See the caveats in the documentation: https://pandas.pydata.org/pandas-docs/stable/user_guide/indexing.html#returning-a-view-versus-a-copy\n",
      "  df['fn_'+sm_name][i] = len(true_clusters[name]) - tp\n",
      "<ipython-input-31-8ba27f6a700b>:55: SettingWithCopyWarning: \n",
      "A value is trying to be set on a copy of a slice from a DataFrame\n",
      "\n",
      "See the caveats in the documentation: https://pandas.pydata.org/pandas-docs/stable/user_guide/indexing.html#returning-a-view-versus-a-copy\n",
      "  df['fp'][i] = np.count_nonzero(d2d.degree > clusters_dist)\n"
     ]
    }
   ],
   "source": [
    "df = scan_none(6, model, thr_list=thr_list)"
   ]
  },
  {
   "cell_type": "code",
   "execution_count": 55,
   "metadata": {
    "ExecuteTime": {
     "end_time": "2020-09-12T09:05:00.877318Z",
     "start_time": "2020-09-12T09:05:00.733381Z"
    }
   },
   "outputs": [
    {
     "data": {
      "image/png": "[encoded data removed]",
      "text/plain": [
       "<Figure size 576x432 with 1 Axes>"
      ]
     },
     "metadata": {
      "needs_background": "light"
     },
     "output_type": "display_data"
    }
   ],
   "source": [
    "draw_df(df, {\n",
    "    'planck_z':df['tp_pz'] / (df['tp_pz'] + df['fn_pz']),\n",
    "    'planck_np_z':df['tp_pnz'] / (df['tp_pnz'] + df['fn_pnz']),\n",
    "    'mcxcwp':df['tp_m'] / (df['tp_m'] + df['fn_m']),\n",
    "            }, df['thr'])"
   ]
  },
  {
   "cell_type": "code",
   "execution_count": 57,
   "metadata": {
    "ExecuteTime": {
     "end_time": "2020-09-12T09:40:57.398363Z",
     "start_time": "2020-09-12T09:40:57.021754Z"
    }
   },
   "outputs": [],
   "source": [
    "model = unet_planck(input_size=(None, None, 6), \n",
    "    weights='/home/rt2122/Models/planck_z/model.ep0208-vl0.026899-l0.003223.h5')"
   ]
  },
  {
   "cell_type": "code",
   "execution_count": 68,
   "metadata": {
    "ExecuteTime": {
     "end_time": "2020-09-12T09:48:53.170652Z",
     "start_time": "2020-09-12T09:48:41.028577Z"
    }
   },
   "outputs": [
    {
     "name": "stderr",
     "output_type": "stream",
     "text": [
      "/home/rt2122/L/git/data-segmentation-2/modules/DS_detector.py:54: FutureWarning: Using a non-tuple sequence for multidimensional indexing is deprecated; use `arr[tuple(seq)]` instead of `arr[seq]`. In the future this will be interpreted as an array index, `arr[np.array(seq)]`, which will result either in an error or a different result.\n",
      "  thr_dict[thr].extend(list(matrs[i][[new_cen[:, 0], new_cen[:, 1]]]))\n",
      "<ipython-input-65-40c6f076cfb1>:39: SettingWithCopyWarning: \n",
      "A value is trying to be set on a copy of a slice from a DataFrame\n",
      "\n",
      "See the caveats in the documentation: https://pandas.pydata.org/pandas-docs/stable/user_guide/indexing.html#returning-a-view-versus-a-copy\n",
      "  df['all_found'][i] = len(thr_dict[thr])\n",
      "<ipython-input-65-40c6f076cfb1>:52: SettingWithCopyWarning: \n",
      "A value is trying to be set on a copy of a slice from a DataFrame\n",
      "\n",
      "See the caveats in the documentation: https://pandas.pydata.org/pandas-docs/stable/user_guide/indexing.html#returning-a-view-versus-a-copy\n",
      "  df['tp_'+sm_name][i] = tp\n",
      "<ipython-input-65-40c6f076cfb1>:53: SettingWithCopyWarning: \n",
      "A value is trying to be set on a copy of a slice from a DataFrame\n",
      "\n",
      "See the caveats in the documentation: https://pandas.pydata.org/pandas-docs/stable/user_guide/indexing.html#returning-a-view-versus-a-copy\n",
      "  df['fn_'+sm_name][i] = len(true_clusters[name]) - tp\n",
      "<ipython-input-65-40c6f076cfb1>:57: SettingWithCopyWarning: \n",
      "A value is trying to be set on a copy of a slice from a DataFrame\n",
      "\n",
      "See the caveats in the documentation: https://pandas.pydata.org/pandas-docs/stable/user_guide/indexing.html#returning-a-view-versus-a-copy\n",
      "  df['fp'][i] = np.count_nonzero(d2d.degree > clusters_dist)\n"
     ]
    }
   ],
   "source": [
    "coords = scan_none(6, model, thr_list=[0.1], ret_coords=True)"
   ]
  },
  {
   "cell_type": "code",
   "execution_count": 70,
   "metadata": {
    "ExecuteTime": {
     "end_time": "2020-09-12T09:49:53.203758Z",
     "start_time": "2020-09-12T09:49:53.193306Z"
    }
   },
   "outputs": [
    {
     "name": "stdout",
     "output_type": "stream",
     "text": [
      "19\n",
      "2\n",
      "4\n",
      "269\n"
     ]
    }
   ],
   "source": [
    "for key in coords:\n",
    "    print(len(coords[key]))"
   ]
  },
  {
   "cell_type": "code",
   "execution_count": 72,
   "metadata": {
    "ExecuteTime": {
     "end_time": "2020-09-12T09:50:49.309552Z",
     "start_time": "2020-09-12T09:50:45.398270Z"
    }
   },
   "outputs": [],
   "source": [
    "matr = one_pixel_fragmentation(2, 6, 10) "
   ]
  },
  {
   "cell_type": "code",
   "execution_count": 74,
   "metadata": {
    "ExecuteTime": {
     "end_time": "2020-09-12T09:51:02.433047Z",
     "start_time": "2020-09-12T09:51:02.097156Z"
    }
   },
   "outputs": [],
   "source": [
    "mdict = matr2dict(matr)"
   ]
  },
  {
   "cell_type": "code",
   "execution_count": 79,
   "metadata": {
    "ExecuteTime": {
     "end_time": "2020-09-12T09:53:52.505697Z",
     "start_time": "2020-09-12T09:53:52.474652Z"
    }
   },
   "outputs": [],
   "source": [
    "tp_pz = draw_circles_h(nside=2048, data=np.ones(len(coords['planck_z'])), \n",
    "        ra=coords['planck_z']['RA'],\n",
    "        dec=coords['planck_z']['DEC'], mdict=mdict, shape=list(matr.shape)+[1])"
   ]
  },
  {
   "cell_type": "code",
   "execution_count": 80,
   "metadata": {
    "ExecuteTime": {
     "end_time": "2020-09-12T09:54:50.796865Z",
     "start_time": "2020-09-12T09:54:50.759304Z"
    }
   },
   "outputs": [],
   "source": [
    "tp_pnz = draw_circles_h(nside=2048, data=np.ones(len(coords['planck_no_z'])), \n",
    "        ra=coords['planck_no_z']['RA'],\n",
    "        dec=coords['planck_no_z']['DEC'], mdict=mdict, shape=list(matr.shape)+[1])\n",
    "tp_m = draw_circles_h(nside=2048, data=np.ones(len(coords['mcxcwp'])), \n",
    "        ra=coords['mcxcwp']['RA'],\n",
    "        dec=coords['mcxcwp']['DEC'], mdict=mdict, shape=list(matr.shape)+[1])"
   ]
  },
  {
   "cell_type": "code",
   "execution_count": 82,
   "metadata": {
    "ExecuteTime": {
     "end_time": "2020-09-12T09:55:27.660952Z",
     "start_time": "2020-09-12T09:55:27.460753Z"
    }
   },
   "outputs": [
    {
     "data": {
      "text/plain": [
       "<matplotlib.image.AxesImage at 0x7f3c4f63ddc0>"
      ]
     },
     "execution_count": 82,
     "metadata": {},
     "output_type": "execute_result"
    },
    {
     "data": {
      "image/png": "[encoded data removed]",
      "text/plain": [
       "<Figure size 432x288 with 1 Axes>"
      ]
     },
     "metadata": {
      "needs_background": "light"
     },
     "output_type": "display_data"
    }
   ],
   "source": [
    "plt.imshow(np.dstack([tp_pz, tp_pnz, tp_m]) * 255)"
   ]
  },
  {
   "cell_type": "code",
   "execution_count": 87,
   "metadata": {
    "ExecuteTime": {
     "end_time": "2020-09-12T09:57:13.567777Z",
     "start_time": "2020-09-12T09:57:13.515237Z"
    }
   },
   "outputs": [],
   "source": [
    "fp = draw_circles_h(nside=2048, data=np.ones(len(coords['fp'])), \n",
    "        ra=coords['fp']['RA'],\n",
    "        dec=coords['fp']['DEC'], mdict=mdict, shape=list(matr.shape)+[1], coef=0.013)"
   ]
  },
  {
   "cell_type": "code",
   "execution_count": null,
   "metadata": {},
   "outputs": [],
   "source": []
  },
  {
   "cell_type": "code",
   "execution_count": 88,
   "metadata": {
    "ExecuteTime": {
     "end_time": "2020-09-12T09:57:13.979205Z",
     "start_time": "2020-09-12T09:57:13.776556Z"
    }
   },
   "outputs": [
    {
     "data": {
      "text/plain": [
       "<matplotlib.image.AxesImage at 0x7f3c4f5749d0>"
      ]
     },
     "execution_count": 88,
     "metadata": {},
     "output_type": "execute_result"
    },
    {
     "data": {
      "image/png": "[encoded data removed]",
      "text/plain": [
       "<Figure size 432x288 with 1 Axes>"
      ]
     },
     "metadata": {
      "needs_background": "light"
     },
     "output_type": "display_data"
    }
   ],
   "source": [
    "plt.imshow(np.dstack([np.logical_or(tp_pz, tp_pnz, tp_m), fp]) * 255)"
   ]
  },
  {
   "cell_type": "code",
   "execution_count": null,
   "metadata": {},
   "outputs": [],
   "source": []
  }
 ],
 "metadata": {
  "kernelspec": {
   "display_name": "Python 3",
   "language": "python",
   "name": "python3"
  },
  "language_info": {
   "codemirror_mode": {
    "name": "ipython",
    "version": 3
   },
   "file_extension": ".py",
   "mimetype": "text/x-python",
   "name": "python",
   "nbconvert_exporter": "python",
   "pygments_lexer": "ipython3",
   "version": "3.8.3"
  }
 },
 "nbformat": 4,
 "nbformat_minor": 4
}
