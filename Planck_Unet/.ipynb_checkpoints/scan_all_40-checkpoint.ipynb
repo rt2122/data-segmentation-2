{
 "cells": [
  {
   "cell_type": "code",
   "execution_count": 1,
   "metadata": {
    "ExecuteTime": {
     "end_time": "2020-09-30T17:50:48.800849Z",
     "start_time": "2020-09-30T17:50:47.280699Z"
    }
   },
   "outputs": [],
   "source": [
    "from DS_detector import gen_pics_for_detection, detect_clusters\n",
    "from DS_Planck_Unet import *\n",
    "from DS_data_transformation import draw_df\n",
    "import numpy as np\n",
    "import pandas as pd\n",
    "from matplotlib import pyplot as plt\n",
    "from tqdm.notebook import tqdm\n",
    "from tensorflow import convert_to_tensor"
   ]
  },
  {
   "cell_type": "code",
   "execution_count": 2,
   "metadata": {
    "ExecuteTime": {
     "end_time": "2020-09-30T17:50:55.411284Z",
     "start_time": "2020-09-30T17:50:54.855138Z"
    }
   },
   "outputs": [],
   "source": [
    "model = load_planck_model(\n",
    "    '/home/rt2122/Models/planck_z/f8d2.ep0040.hdf5')"
   ]
  },
  {
   "cell_type": "code",
   "execution_count": 3,
   "metadata": {
    "ExecuteTime": {
     "end_time": "2020-09-30T17:51:08.108501Z",
     "start_time": "2020-09-30T17:51:08.101703Z"
    }
   },
   "outputs": [],
   "source": [
    "ipix = 0"
   ]
  },
  {
   "cell_type": "code",
   "execution_count": 4,
   "metadata": {
    "ExecuteTime": {
     "end_time": "2020-09-30T17:51:23.509172Z",
     "start_time": "2020-09-30T17:51:13.700386Z"
    }
   },
   "outputs": [],
   "source": [
    "all_dict = gen_pics_for_detection(ipix, model, step=16)"
   ]
  },
  {
   "cell_type": "code",
   "execution_count": 5,
   "metadata": {
    "ExecuteTime": {
     "end_time": "2020-09-30T17:51:23.514263Z",
     "start_time": "2020-09-30T17:51:23.511086Z"
    }
   },
   "outputs": [],
   "source": [
    "thr_list = [0.1 * i for i in range(9, 0, -1)]"
   ]
  },
  {
   "cell_type": "code",
   "execution_count": 8,
   "metadata": {
    "ExecuteTime": {
     "end_time": "2020-09-30T18:05:23.295623Z",
     "start_time": "2020-09-30T18:01:32.259047Z"
    }
   },
   "outputs": [
    {
     "data": {
      "application/vnd.jupyter.widget-view+json": {
       "model_id": "ab52675e4a0841cda6550ecd43f7a915",
       "version_major": 2,
       "version_minor": 0
      },
      "text/plain": [
       "HBox(children=(FloatProgress(value=0.0, max=9.0), HTML(value='')))"
      ]
     },
     "metadata": {},
     "output_type": "display_data"
    },
    {
     "name": "stdout",
     "output_type": "stream",
     "text": [
      "\n"
     ]
    }
   ],
   "source": [
    "coords_dicts = []\n",
    "for thr in tqdm(thr_list):\n",
    "    coords_dicts.append(detect_clusters(all_dict, thr, \n",
    "                     max_dist=5/60, get_coords_mode=True))"
   ]
  },
  {
   "cell_type": "code",
   "execution_count": 10,
   "metadata": {
    "ExecuteTime": {
     "end_time": "2020-09-30T18:06:00.620466Z",
     "start_time": "2020-09-30T18:06:00.564033Z"
    }
   },
   "outputs": [
    {
     "data": {
      "text/plain": [
       "{'mcxcwp':            MCXC               OName  \\\n",
       " 0  J1654.3+2334  RXC J1654.3+2334     \n",
       " 1  J1658.0+2751  RXC J1658.0+2751     \n",
       " 2  J1716.1+2021  ZwCl8182             \n",
       " 3  J1722.2+3042  RXC J1722.2+3042     \n",
       " 4  J1735.9+1659  RXC J1735.9+1659     \n",
       " 5  J1751.7+2304  RXC J1751.7+2304     \n",
       " 6  J1812.0+3113  WARP J1812.0+3113    \n",
       " 7  J1819.8+3307  RXC J1819.8+3307     \n",
       " 8  J1824.1+3029  RXC J1824.1+3029     \n",
       " \n",
       "                                                AName       RA     DEC       z  \\\n",
       " 0                                                ...  253.597  23.570  0.0575   \n",
       " 1  AWM 5                                         ...  254.503  27.854  0.0337   \n",
       " 2  ZwCl8182                                      ...  259.043  20.357  0.1306   \n",
       " 3  CGCG170-018                                   ...  260.562  30.704  0.0500   \n",
       " 4                                                ...  263.976  16.994  0.0858   \n",
       " 5  NGC 6482                                      ...  267.948  23.070  0.0132   \n",
       " 6                                                ...  273.007  31.220  0.2246   \n",
       " 7                                                ...  274.967  33.133  0.2796   \n",
       " 8  NPM1G +30.0453                                ...  276.040  30.492  0.0720   \n",
       " \n",
       "      M500  found  \n",
       " 0  0.7197  False  \n",
       " 1  0.7079  False  \n",
       " 2  2.2601   True  \n",
       " 3  0.3634  False  \n",
       " 4  1.0113  False  \n",
       " 5  0.1879  False  \n",
       " 6  0.6464  False  \n",
       " 7  2.9785  False  \n",
       " 8  1.4197   True  ,\n",
       " 'planck_no_z':                   Name          RA        DEC    z  MSZ          MCXC  \\\n",
       " 0   PSZ2 G027.23+15.73  266.291228   2.218193 -1.0  0.0                 \n",
       " 1   PSZ2 G027.28+23.79  259.137090   5.964182 -1.0  0.0                 \n",
       " 2   PSZ2 G027.39+15.39  266.661165   2.191051 -1.0  0.0                 \n",
       " 3   PSZ2 G027.92+15.54  266.767193   2.711520 -1.0  0.0                 \n",
       " 4   PSZ2 G032.77+19.69  265.122484   8.711238 -1.0  0.0                 \n",
       " 5   PSZ2 G036.36+16.01  269.984453  10.196411 -1.0  0.0                 \n",
       " 6   PSZ2 G037.67+15.71  270.809935  11.205522 -1.0  0.0                 \n",
       " 7   PSZ2 G039.86+18.70  268.927220  14.361966 -1.0  0.0                 \n",
       " 8   PSZ2 G042.54+18.02  270.643400  16.401395 -1.0  0.0                 \n",
       " 9   PSZ2 G044.83+10.02  279.164107  15.080479 -1.0  0.0                 \n",
       " 10  PSZ2 G045.20+15.63  274.014594  17.762165 -1.0  0.0                 \n",
       " 11  PSZ2 G045.47+17.80  272.032217  18.874291 -1.0  0.0                 \n",
       " 12  PSZ2 G046.39+11.71  278.249183  17.192044 -1.0  0.0                 \n",
       " 13  PSZ2 G047.53+08.55  281.744111  16.843164 -1.0  0.0                 \n",
       " 14  PSZ2 G048.47+34.86  255.535051  27.146681 -1.0  0.0                 \n",
       " 15  PSZ2 G052.93+10.42  282.386761  22.454051 -1.0  0.0                 \n",
       " 16  PSZ2 G056.38+23.36  270.384521  30.396151 -1.0  0.0                 \n",
       " 17  PSZ2 G057.09+11.19  283.519410  26.482998 -1.0  0.0                 \n",
       " 18  PSZ2 G059.52+16.23  279.339341  30.664193 -1.0  0.0                 \n",
       " 19  PSZ2 G059.76+14.59  281.194927  30.246774 -1.0  0.0                 \n",
       " \n",
       "                RedMAPPer  found  \n",
       " 0                         False  \n",
       " 1                          True  \n",
       " 2                         False  \n",
       " 3                         False  \n",
       " 4                          True  \n",
       " 5                          True  \n",
       " 6                          True  \n",
       " 7                          True  \n",
       " 8                          True  \n",
       " 9                          True  \n",
       " 10                         True  \n",
       " 11                         True  \n",
       " 12                        False  \n",
       " 13                         True  \n",
       " 14                         True  \n",
       " 15                         True  \n",
       " 16                         True  \n",
       " 17                         True  \n",
       " 18                        False  \n",
       " 19                         True  ,\n",
       " 'planck_z':                   Name          RA        DEC        z       MSZ  \\\n",
       " 0   PSZ2 G022.98+19.49  261.068715   0.415468  0.40440  6.790033   \n",
       " 1   PSZ2 G036.73+14.93  271.129365  10.055297  0.15250  5.288359   \n",
       " 2   PSZ2 G038.68+24.50  262.972551  15.677847  0.08360  2.475157   \n",
       " 3   PSZ2 G041.45+29.10  259.466480  19.692548  0.17800  5.587061   \n",
       " 4   PSZ2 G041.69+21.68  266.804962  17.130922  0.47900  5.828984   \n",
       " 5   PSZ2 G042.32+17.48  271.069853  15.997300  0.45800  7.029055   \n",
       " 6   PSZ2 G042.53+35.20  253.624259  22.590872  0.18110  3.430715   \n",
       " 7   PSZ2 G045.04+30.38  259.311525  23.059839  0.16030  3.238837   \n",
       " 8   PSZ2 G045.51+16.26  273.534871  18.292842  0.24000  4.112292   \n",
       " 9   PSZ2 G046.10+27.18  262.927304  22.875127  0.38900  8.269269   \n",
       " 10  PSZ2 G046.13+30.72  259.281068  24.064568  0.56900  6.394540   \n",
       " 11  PSZ2 G047.48+37.37  252.578697  27.035119  0.24000  4.194511   \n",
       " 12  PSZ2 G048.09+27.18  263.564868  24.544347  0.73608  6.134852   \n",
       " 13  PSZ2 G049.09+25.23  265.915475  24.740320  0.14100  3.682184   \n",
       " 14  PSZ2 G049.22+30.87  260.021725  26.631583  0.16440  5.904146   \n",
       " 15  PSZ2 G050.40+31.17  260.032318  27.688185  0.16400  4.331068   \n",
       " 16  PSZ2 G056.14+28.06  265.074766  31.603019  0.42600  5.529974   \n",
       " 17  PSZ2 G057.92+27.64  266.067814  32.998643  0.07570  2.683969   \n",
       " 18  PSZ2 G058.29+18.55  276.336046  30.431996  0.06500  3.882002   \n",
       " 19  PSZ2 G060.10+15.59  280.278406  30.932247  0.19000  4.666568   \n",
       " \n",
       "             MCXC             RedMAPPer  found  \n",
       " 0                                        True  \n",
       " 1   J1804.4+1002                         True  \n",
       " 2                                        True  \n",
       " 3   J1717.8+1940                         True  \n",
       " 4                                        True  \n",
       " 5                                        True  \n",
       " 6                                        True  \n",
       " 7                                        True  \n",
       " 8                                        True  \n",
       " 9   J1731.6+2251                         True  \n",
       " 10                RMJ171705.5+240423.6   True  \n",
       " 11                                       True  \n",
       " 12                                       True  \n",
       " 13                                       True  \n",
       " 14  J1720.1+2637  RMJ172003.3+263839.8   True  \n",
       " 15  J1720.1+2740  RMJ172009.6+274008.1   True  \n",
       " 16                                       True  \n",
       " 17  J1744.2+3259                         True  \n",
       " 18  J1825.3+3026                         True  \n",
       " 19                                       True  ,\n",
       " 'all':             MCXC               OName  \\\n",
       " 0   J1654.3+2334  RXC J1654.3+2334     \n",
       " 1   J1658.0+2751  RXC J1658.0+2751     \n",
       " 2   J1716.1+2021  ZwCl8182             \n",
       " 3   J1722.2+3042  RXC J1722.2+3042     \n",
       " 4   J1735.9+1659  RXC J1735.9+1659     \n",
       " 5   J1751.7+2304  RXC J1751.7+2304     \n",
       " 6   J1812.0+3113  WARP J1812.0+3113    \n",
       " 7   J1819.8+3307  RXC J1819.8+3307     \n",
       " 8   J1824.1+3029  RXC J1824.1+3029     \n",
       " 0                                NaN   \n",
       " 1                                NaN   \n",
       " 2                                NaN   \n",
       " 3                                NaN   \n",
       " 4                                NaN   \n",
       " 5                                NaN   \n",
       " 6                                NaN   \n",
       " 7                                NaN   \n",
       " 8                                NaN   \n",
       " 9                                NaN   \n",
       " 10                               NaN   \n",
       " 11                               NaN   \n",
       " 12                               NaN   \n",
       " 13                               NaN   \n",
       " 14                               NaN   \n",
       " 15                               NaN   \n",
       " 16                               NaN   \n",
       " 17                               NaN   \n",
       " 18                               NaN   \n",
       " 19                               NaN   \n",
       " 0                                NaN   \n",
       " 1   J1804.4+1002                 NaN   \n",
       " 2                                NaN   \n",
       " 3   J1717.8+1940                 NaN   \n",
       " 4                                NaN   \n",
       " 5                                NaN   \n",
       " 6                                NaN   \n",
       " 7                                NaN   \n",
       " 8                                NaN   \n",
       " 9   J1731.6+2251                 NaN   \n",
       " 10                               NaN   \n",
       " 11                               NaN   \n",
       " 12                               NaN   \n",
       " 13                               NaN   \n",
       " 14  J1720.1+2637                 NaN   \n",
       " 15  J1720.1+2740                 NaN   \n",
       " 16                               NaN   \n",
       " 17  J1744.2+3259                 NaN   \n",
       " 18  J1825.3+3026                 NaN   \n",
       " 19                               NaN   \n",
       " \n",
       "                                                 AName          RA        DEC  \\\n",
       " 0                                                 ...  253.597000  23.570000   \n",
       " 1   AWM 5                                         ...  254.503000  27.854000   \n",
       " 2   ZwCl8182                                      ...  259.043000  20.357000   \n",
       " 3   CGCG170-018                                   ...  260.562000  30.704000   \n",
       " 4                                                 ...  263.976000  16.994000   \n",
       " 5   NGC 6482                                      ...  267.948000  23.070000   \n",
       " 6                                                 ...  273.007000  31.220000   \n",
       " 7                                                 ...  274.967000  33.133000   \n",
       " 8   NPM1G +30.0453                                ...  276.040000  30.492000   \n",
       " 0                                                 NaN  266.291228   2.218193   \n",
       " 1                                                 NaN  259.137090   5.964182   \n",
       " 2                                                 NaN  266.661165   2.191051   \n",
       " 3                                                 NaN  266.767193   2.711520   \n",
       " 4                                                 NaN  265.122484   8.711238   \n",
       " 5                                                 NaN  269.984453  10.196411   \n",
       " 6                                                 NaN  270.809935  11.205522   \n",
       " 7                                                 NaN  268.927220  14.361966   \n",
       " 8                                                 NaN  270.643400  16.401395   \n",
       " 9                                                 NaN  279.164107  15.080479   \n",
       " 10                                                NaN  274.014594  17.762165   \n",
       " 11                                                NaN  272.032217  18.874291   \n",
       " 12                                                NaN  278.249183  17.192044   \n",
       " 13                                                NaN  281.744111  16.843164   \n",
       " 14                                                NaN  255.535051  27.146681   \n",
       " 15                                                NaN  282.386761  22.454051   \n",
       " 16                                                NaN  270.384521  30.396151   \n",
       " 17                                                NaN  283.519410  26.482998   \n",
       " 18                                                NaN  279.339341  30.664193   \n",
       " 19                                                NaN  281.194927  30.246774   \n",
       " 0                                                 NaN  261.068715   0.415468   \n",
       " 1                                                 NaN  271.129365  10.055297   \n",
       " 2                                                 NaN  262.972551  15.677847   \n",
       " 3                                                 NaN  259.466480  19.692548   \n",
       " 4                                                 NaN  266.804962  17.130922   \n",
       " 5                                                 NaN  271.069853  15.997300   \n",
       " 6                                                 NaN  253.624259  22.590872   \n",
       " 7                                                 NaN  259.311525  23.059839   \n",
       " 8                                                 NaN  273.534871  18.292842   \n",
       " 9                                                 NaN  262.927304  22.875127   \n",
       " 10                                                NaN  259.281068  24.064568   \n",
       " 11                                                NaN  252.578697  27.035119   \n",
       " 12                                                NaN  263.564868  24.544347   \n",
       " 13                                                NaN  265.915475  24.740320   \n",
       " 14                                                NaN  260.021725  26.631583   \n",
       " 15                                                NaN  260.032318  27.688185   \n",
       " 16                                                NaN  265.074766  31.603019   \n",
       " 17                                                NaN  266.067814  32.998643   \n",
       " 18                                                NaN  276.336046  30.431996   \n",
       " 19                                                NaN  280.278406  30.932247   \n",
       " \n",
       "           z    M500                Name       MSZ             RedMAPPer  found  \n",
       " 0   0.05750  0.7197                 NaN       NaN                   NaN  False  \n",
       " 1   0.03370  0.7079                 NaN       NaN                   NaN  False  \n",
       " 2   0.13060  2.2601                 NaN       NaN                   NaN   True  \n",
       " 3   0.05000  0.3634                 NaN       NaN                   NaN  False  \n",
       " 4   0.08580  1.0113                 NaN       NaN                   NaN  False  \n",
       " 5   0.01320  0.1879                 NaN       NaN                   NaN  False  \n",
       " 6   0.22460  0.6464                 NaN       NaN                   NaN  False  \n",
       " 7   0.27960  2.9785                 NaN       NaN                   NaN  False  \n",
       " 8   0.07200  1.4197                 NaN       NaN                   NaN   True  \n",
       " 0  -1.00000     NaN  PSZ2 G027.23+15.73  0.000000                        False  \n",
       " 1  -1.00000     NaN  PSZ2 G027.28+23.79  0.000000                         True  \n",
       " 2  -1.00000     NaN  PSZ2 G027.39+15.39  0.000000                        False  \n",
       " 3  -1.00000     NaN  PSZ2 G027.92+15.54  0.000000                        False  \n",
       " 4  -1.00000     NaN  PSZ2 G032.77+19.69  0.000000                         True  \n",
       " 5  -1.00000     NaN  PSZ2 G036.36+16.01  0.000000                         True  \n",
       " 6  -1.00000     NaN  PSZ2 G037.67+15.71  0.000000                         True  \n",
       " 7  -1.00000     NaN  PSZ2 G039.86+18.70  0.000000                         True  \n",
       " 8  -1.00000     NaN  PSZ2 G042.54+18.02  0.000000                         True  \n",
       " 9  -1.00000     NaN  PSZ2 G044.83+10.02  0.000000                         True  \n",
       " 10 -1.00000     NaN  PSZ2 G045.20+15.63  0.000000                         True  \n",
       " 11 -1.00000     NaN  PSZ2 G045.47+17.80  0.000000                         True  \n",
       " 12 -1.00000     NaN  PSZ2 G046.39+11.71  0.000000                        False  \n",
       " 13 -1.00000     NaN  PSZ2 G047.53+08.55  0.000000                         True  \n",
       " 14 -1.00000     NaN  PSZ2 G048.47+34.86  0.000000                         True  \n",
       " 15 -1.00000     NaN  PSZ2 G052.93+10.42  0.000000                         True  \n",
       " 16 -1.00000     NaN  PSZ2 G056.38+23.36  0.000000                         True  \n",
       " 17 -1.00000     NaN  PSZ2 G057.09+11.19  0.000000                         True  \n",
       " 18 -1.00000     NaN  PSZ2 G059.52+16.23  0.000000                        False  \n",
       " 19 -1.00000     NaN  PSZ2 G059.76+14.59  0.000000                         True  \n",
       " 0   0.40440     NaN  PSZ2 G022.98+19.49  6.790033                         True  \n",
       " 1   0.15250     NaN  PSZ2 G036.73+14.93  5.288359                         True  \n",
       " 2   0.08360     NaN  PSZ2 G038.68+24.50  2.475157                         True  \n",
       " 3   0.17800     NaN  PSZ2 G041.45+29.10  5.587061                         True  \n",
       " 4   0.47900     NaN  PSZ2 G041.69+21.68  5.828984                         True  \n",
       " 5   0.45800     NaN  PSZ2 G042.32+17.48  7.029055                         True  \n",
       " 6   0.18110     NaN  PSZ2 G042.53+35.20  3.430715                         True  \n",
       " 7   0.16030     NaN  PSZ2 G045.04+30.38  3.238837                         True  \n",
       " 8   0.24000     NaN  PSZ2 G045.51+16.26  4.112292                         True  \n",
       " 9   0.38900     NaN  PSZ2 G046.10+27.18  8.269269                         True  \n",
       " 10  0.56900     NaN  PSZ2 G046.13+30.72  6.394540  RMJ171705.5+240423.6   True  \n",
       " 11  0.24000     NaN  PSZ2 G047.48+37.37  4.194511                         True  \n",
       " 12  0.73608     NaN  PSZ2 G048.09+27.18  6.134852                         True  \n",
       " 13  0.14100     NaN  PSZ2 G049.09+25.23  3.682184                         True  \n",
       " 14  0.16440     NaN  PSZ2 G049.22+30.87  5.904146  RMJ172003.3+263839.8   True  \n",
       " 15  0.16400     NaN  PSZ2 G050.40+31.17  4.331068  RMJ172009.6+274008.1   True  \n",
       " 16  0.42600     NaN  PSZ2 G056.14+28.06  5.529974                         True  \n",
       " 17  0.07570     NaN  PSZ2 G057.92+27.64  2.683969                         True  \n",
       " 18  0.06500     NaN  PSZ2 G058.29+18.55  3.882002                         True  \n",
       " 19  0.19000     NaN  PSZ2 G060.10+15.59  4.666568                         True  }"
      ]
     },
     "execution_count": 10,
     "metadata": {},
     "output_type": "execute_result"
    }
   ],
   "source": [
    "coords_dicts[0]['true_clusters']"
   ]
  },
  {
   "cell_type": "code",
   "execution_count": null,
   "metadata": {},
   "outputs": [],
   "source": []
  }
 ],
 "metadata": {
  "kernelspec": {
   "display_name": "Python 3",
   "language": "python",
   "name": "python3"
  },
  "language_info": {
   "codemirror_mode": {
    "name": "ipython",
    "version": 3
   },
   "file_extension": ".py",
   "mimetype": "text/x-python",
   "name": "python",
   "nbconvert_exporter": "python",
   "pygments_lexer": "ipython3",
   "version": "3.8.3"
  }
 },
 "nbformat": 4,
 "nbformat_minor": 4
}
