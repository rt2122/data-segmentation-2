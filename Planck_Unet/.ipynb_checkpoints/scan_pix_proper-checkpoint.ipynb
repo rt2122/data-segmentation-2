{
 "cells": [
  {
   "cell_type": "code",
   "execution_count": 1,
   "metadata": {
    "ExecuteTime": {
     "end_time": "2020-09-20T19:51:47.253880Z",
     "start_time": "2020-09-20T19:51:46.851684Z"
    }
   },
   "outputs": [],
   "source": [
    "import numpy as np\n",
    "from matplotlib import pyplot as plt\n",
    "from DS_detector import clusters_in_pix, find_centroid, find_centers_on_mask\n",
    "from DS_Planck_Unet import unet_planck\n",
    "from DS_data_transformation import draw_df\n",
    "import pandas as pd"
   ]
  },
  {
   "cell_type": "code",
   "execution_count": 2,
   "metadata": {
    "ExecuteTime": {
     "end_time": "2020-09-20T19:51:49.032807Z",
     "start_time": "2020-09-20T19:51:49.022006Z"
    }
   },
   "outputs": [],
   "source": [
    "def gen_pics_for_detection(ipix, model, nside=2, depth=10, step=64, size=64, \n",
    "        mask_radius=15/60, clusters_dir='/home/rt2122/Data/clusters/'):\n",
    "    from DS_healpix_fragmentation import one_pixel_fragmentation, pix2radec, radec2pix\n",
    "    from DS_Planck_Unet import draw_pic_with_mask, draw_pic\n",
    "    import pandas as pd\n",
    "    import numpy as np\n",
    "    import healpy as hp\n",
    "    import os\n",
    "    \n",
    "    true_clusters = {file[:-4] : clusters_in_pix(os.path.join(clusters_dir, file), \n",
    "                                                 ipix, 2) \n",
    "                     for file in next(os.walk(clusters_dir))[-1]}\n",
    "    true_clusters['all'] = pd.concat(list(item[1] for item in true_clusters.items()))\n",
    " \n",
    "    big_matr = one_pixel_fragmentation(nside, ipix, depth)\n",
    "    big_pic, big_mask = draw_pic_with_mask(center=None, matr=big_matr, \n",
    "                                 mask_radius=mask_radius,\n",
    "                            clusters_arr=np.array(true_clusters['all'][['RA', 'DEC']]))\n",
    "    pics, matrs, masks = [], [], []\n",
    "    for i in range(0, big_matr.shape[0], step):\n",
    "        for j in range(0, big_matr.shape[1], step):\n",
    "            pic = big_pic[i:i+size,j:j+size,:]\n",
    "            mask = big_mask[i:i+size,j:j+size,:]\n",
    "            matr = big_matr[i:i+size,j:j+size]\n",
    "            if pic.shape[0] == size and pic.shape[1] == size:\n",
    "                if np.count_nonzero(mask) > 0:\n",
    "                    pics.append(pic)\n",
    "                    matrs.append(matr)\n",
    "                    masks.append(mask)\n",
    " \n",
    "    \n",
    "    ans = model.predict(np.array(pics))\n",
    "    return {'true_clusters' : true_clusters,\n",
    "            'pics' : pics, 'matrs' : matrs, 'masks' : masks, 'ans' : ans} "
   ]
  },
  {
   "cell_type": "code",
   "execution_count": 3,
   "metadata": {
    "ExecuteTime": {
     "end_time": "2020-09-20T19:51:49.592865Z",
     "start_time": "2020-09-20T19:51:49.578966Z"
    }
   },
   "outputs": [],
   "source": [
    "def detect_clusters_on_pic(ans, matr, thr):\n",
    "    centers = find_centers_on_mask(ans, thr)\n",
    "    if len(centers) > 0:\n",
    "        centers = np.array(centers, dtype=np.int32)\n",
    "        centers = matr[centers[:,0], centers[:,1]]\n",
    "    return centers"
   ]
  },
  {
   "cell_type": "code",
   "execution_count": 4,
   "metadata": {
    "ExecuteTime": {
     "end_time": "2020-09-20T19:51:50.045581Z",
     "start_time": "2020-09-20T19:51:50.027714Z"
    }
   },
   "outputs": [],
   "source": [
    "def detect_clusters(all_dict, thr, base_nside=2048, main_cat='all', max_dist=15/60):\n",
    "    import numpy as np\n",
    "    import pandas as pd\n",
    "    from DS_healpix_fragmentation import pix2radec\n",
    "    from astropy.coordinates import SkyCoord\n",
    "    from astropy import units as u\n",
    "    \n",
    "    masks = all_dict['masks']\n",
    "    ans = all_dict['ans']\n",
    "    matrs = all_dict['matrs']\n",
    "    true_clusters = all_dict['true_clusters']\n",
    "    sc_true_clusters = {cat : SkyCoord(ra=true_clusters[cat]['RA']*u.degree, \n",
    "                                 dec=true_clusters[cat]['DEC']*u.degree, \n",
    "                                 frame='icrs') for cat in true_clusters}\n",
    "    for cat_name in true_clusters:\n",
    "        true_clusters[cat_name]['found'] = False\n",
    "    params = ['tp', 'fp', 'tn', 'fn']\n",
    "    stat_df = dict(zip(params, [0] * len(params)))\n",
    "    fp = pd.DataFrame({'RA':[], 'DEC':[]})\n",
    "    fp_sc = None\n",
    "    \n",
    "    for i in range(len(ans)):\n",
    "        centers = detect_clusters_on_pic(ans[i], matrs[i], thr)\n",
    "        if np.count_nonzero(masks[i]) and len(centers) == 0:\n",
    "            stat_df['tn'] += 1\n",
    "        if len(centers) > 0:\n",
    "            centers = pix2radec(centers, nside=base_nside)\n",
    "            sc = SkyCoord(ra=centers[0]*u.degree, dec=centers[1]*u.degree, frame='icrs')\n",
    "            for cat in true_clusters:\n",
    "                idx, d2d, _ = sc_true_clusters[cat].match_to_catalog_sky(sc)\n",
    "                true_clusters[cat]['found'] = np.logical_or(d2d.degree <= max_dist,\n",
    "                                                           true_clusters[cat]['found'])\n",
    "                \n",
    "                if fp_sc is None:\n",
    "                    fp['RA'] = centers[0]\n",
    "                    fp['DEC'] = centers[1]\n",
    "                    fp_sc = sc\n",
    "                else:\n",
    "                    idx, d2d, _ = sc.match_to_catalog_sky(fp_sc)\n",
    "                    fp_new = pd.DataFrame({'RA':centers[0][d2d.degree >  max_dist],\n",
    "                                          'DEC':centers[1][d2d.degree >  max_dist]})\n",
    "                    fp = pd.concat([fp, fp_new])\n",
    "                    fp_sc = SkyCoord(ra=fp['RA']*u.degree, dec=fp['DEC']*u.degree, \n",
    "                                     frame='icrs')\n",
    "            \n",
    "    stat_df['tp'] = np.count_nonzero(true_clusters[main_cat]['found'])\n",
    "    stat_df['fn'] = np.count_nonzero(np.logical_not(true_clusters[main_cat]['found']))\n",
    "    stat_df['fp'] = len(fp)\n",
    "    return stat_df\n",
    "            \n",
    "    "
   ]
  },
  {
   "cell_type": "code",
   "execution_count": 5,
   "metadata": {
    "ExecuteTime": {
     "end_time": "2020-09-20T19:51:52.897227Z",
     "start_time": "2020-09-20T19:51:51.252277Z"
    }
   },
   "outputs": [],
   "source": [
    "model = unet_planck(\n",
    "    weights='/home/rt2122/Models/planck_z/f8d0.8.ep0125-vl0.017043-l0.023604.h5')"
   ]
  },
  {
   "cell_type": "code",
   "execution_count": 6,
   "metadata": {
    "ExecuteTime": {
     "end_time": "2020-09-20T19:52:07.635541Z",
     "start_time": "2020-09-20T19:51:52.898422Z"
    }
   },
   "outputs": [],
   "source": [
    "all_dict = gen_pics_for_detection(6, model, step=16)"
   ]
  },
  {
   "cell_type": "code",
   "execution_count": 7,
   "metadata": {
    "ExecuteTime": {
     "end_time": "2020-09-20T19:52:07.883869Z",
     "start_time": "2020-09-20T19:52:07.647513Z"
    }
   },
   "outputs": [
    {
     "name": "stderr",
     "output_type": "stream",
     "text": [
      "Clipping input data to the valid range for imshow with RGB data ([0..1] for floats or [0..255] for integers).\n"
     ]
    },
    {
     "data": {
      "text/plain": [
       "<matplotlib.image.AxesImage at 0x7f0cd5ef97c0>"
      ]
     },
     "execution_count": 7,
     "metadata": {},
     "output_type": "execute_result"
    },
    {
     "data": {
      "image/png": "[encoded data removed]",
      "text/plain": [
       "<Figure size 288x288 with 1 Axes>"
      ]
     },
     "metadata": {
      "needs_background": "light"
     },
     "output_type": "display_data"
    }
   ],
   "source": [
    "plt.matshow(all_dict['pics'][0][:,:,:3])"
   ]
  },
  {
   "cell_type": "code",
   "execution_count": 8,
   "metadata": {
    "ExecuteTime": {
     "end_time": "2020-09-20T19:52:07.891172Z",
     "start_time": "2020-09-20T19:52:07.885895Z"
    }
   },
   "outputs": [],
   "source": [
    "thr_list = [0.1 * i for i in range(9, 0, -1)]"
   ]
  },
  {
   "cell_type": "code",
   "execution_count": 9,
   "metadata": {
    "ExecuteTime": {
     "end_time": "2020-09-20T19:55:00.726972Z",
     "start_time": "2020-09-20T19:52:07.892520Z"
    }
   },
   "outputs": [],
   "source": [
    "stat_df = []\n",
    "for thr in thr_list:\n",
    "    stat_df.append(pd.DataFrame(detect_clusters(all_dict, thr, main_cat='planck_z'), \n",
    "                                index=[0]))\n",
    "stat_df = pd.concat(stat_df)"
   ]
  },
  {
   "cell_type": "code",
   "execution_count": 10,
   "metadata": {
    "ExecuteTime": {
     "end_time": "2020-09-20T19:55:00.738665Z",
     "start_time": "2020-09-20T19:55:00.728225Z"
    }
   },
   "outputs": [
    {
     "data": {
      "text/html": [
       "<div>\n",
       "<style scoped>\n",
       "    .dataframe tbody tr th:only-of-type {\n",
       "        vertical-align: middle;\n",
       "    }\n",
       "\n",
       "    .dataframe tbody tr th {\n",
       "        vertical-align: top;\n",
       "    }\n",
       "\n",
       "    .dataframe thead th {\n",
       "        text-align: right;\n",
       "    }\n",
       "</style>\n",
       "<table border=\"1\" class=\"dataframe\">\n",
       "  <thead>\n",
       "    <tr style=\"text-align: right;\">\n",
       "      <th></th>\n",
       "      <th>tp</th>\n",
       "      <th>fp</th>\n",
       "      <th>tn</th>\n",
       "      <th>fn</th>\n",
       "    </tr>\n",
       "  </thead>\n",
       "  <tbody>\n",
       "    <tr>\n",
       "      <th>0</th>\n",
       "      <td>4</td>\n",
       "      <td>4</td>\n",
       "      <td>1608</td>\n",
       "      <td>36</td>\n",
       "    </tr>\n",
       "    <tr>\n",
       "      <th>0</th>\n",
       "      <td>11</td>\n",
       "      <td>12</td>\n",
       "      <td>1536</td>\n",
       "      <td>29</td>\n",
       "    </tr>\n",
       "    <tr>\n",
       "      <th>0</th>\n",
       "      <td>17</td>\n",
       "      <td>20</td>\n",
       "      <td>1449</td>\n",
       "      <td>23</td>\n",
       "    </tr>\n",
       "    <tr>\n",
       "      <th>0</th>\n",
       "      <td>24</td>\n",
       "      <td>33</td>\n",
       "      <td>1352</td>\n",
       "      <td>16</td>\n",
       "    </tr>\n",
       "    <tr>\n",
       "      <th>0</th>\n",
       "      <td>25</td>\n",
       "      <td>42</td>\n",
       "      <td>1281</td>\n",
       "      <td>15</td>\n",
       "    </tr>\n",
       "    <tr>\n",
       "      <th>0</th>\n",
       "      <td>26</td>\n",
       "      <td>48</td>\n",
       "      <td>1236</td>\n",
       "      <td>14</td>\n",
       "    </tr>\n",
       "    <tr>\n",
       "      <th>0</th>\n",
       "      <td>27</td>\n",
       "      <td>60</td>\n",
       "      <td>1182</td>\n",
       "      <td>13</td>\n",
       "    </tr>\n",
       "    <tr>\n",
       "      <th>0</th>\n",
       "      <td>31</td>\n",
       "      <td>94</td>\n",
       "      <td>1084</td>\n",
       "      <td>9</td>\n",
       "    </tr>\n",
       "    <tr>\n",
       "      <th>0</th>\n",
       "      <td>40</td>\n",
       "      <td>994</td>\n",
       "      <td>446</td>\n",
       "      <td>0</td>\n",
       "    </tr>\n",
       "  </tbody>\n",
       "</table>\n",
       "</div>"
      ],
      "text/plain": [
       "   tp   fp    tn  fn\n",
       "0   4    4  1608  36\n",
       "0  11   12  1536  29\n",
       "0  17   20  1449  23\n",
       "0  24   33  1352  16\n",
       "0  25   42  1281  15\n",
       "0  26   48  1236  14\n",
       "0  27   60  1182  13\n",
       "0  31   94  1084   9\n",
       "0  40  994   446   0"
      ]
     },
     "execution_count": 10,
     "metadata": {},
     "output_type": "execute_result"
    }
   ],
   "source": [
    "stat_df"
   ]
  },
  {
   "cell_type": "code",
   "execution_count": 11,
   "metadata": {
    "ExecuteTime": {
     "end_time": "2020-09-20T19:57:54.381763Z",
     "start_time": "2020-09-20T19:55:00.739771Z"
    }
   },
   "outputs": [],
   "source": [
    "stat_df_all = []\n",
    "for thr in thr_list:\n",
    "    stat_df_all.append(pd.DataFrame(detect_clusters(all_dict, thr, main_cat='all'), \n",
    "                                index=[0]))\n",
    "stat_df_all = pd.concat(stat_df_all)"
   ]
  },
  {
   "cell_type": "code",
   "execution_count": 14,
   "metadata": {
    "ExecuteTime": {
     "end_time": "2020-09-20T20:02:17.847886Z",
     "start_time": "2020-09-20T20:02:17.690804Z"
    }
   },
   "outputs": [
    {
     "data": {
      "image/png": "[encoded data removed]",
      "text/plain": [
       "<Figure size 576x432 with 1 Axes>"
      ]
     },
     "metadata": {
      "needs_background": "light"
     },
     "output_type": "display_data"
    }
   ],
   "source": [
    "draw_df(None, {'tp_planck' : stat_df['tp'] / (stat_df['tp'] + stat_df['fn']), \n",
    "               'tp_all' : stat_df_all['tp'] / (stat_df_all['tp'] + stat_df_all['fn'])},\n",
    "        thr_list, ygrid=np.arange(0,1.1, 0.1))"
   ]
  },
  {
   "cell_type": "code",
   "execution_count": 17,
   "metadata": {
    "ExecuteTime": {
     "end_time": "2020-09-20T20:04:23.914713Z",
     "start_time": "2020-09-20T20:04:23.772765Z"
    }
   },
   "outputs": [
    {
     "data": {
      "image/png": "[encoded data removed]",
      "text/plain": [
       "<Figure size 576x432 with 1 Axes>"
      ]
     },
     "metadata": {
      "needs_background": "light"
     },
     "output_type": "display_data"
    }
   ],
   "source": [
    "draw_df(None, {'fp':stat_df_all['fp']},\n",
    "        thr_list, ygrid=np.arange(0,1100,100))"
   ]
  },
  {
   "cell_type": "code",
   "execution_count": null,
   "metadata": {},
   "outputs": [],
   "source": []
  }
 ],
 "metadata": {
  "kernelspec": {
   "display_name": "Python 3",
   "language": "python",
   "name": "python3"
  },
  "language_info": {
   "codemirror_mode": {
    "name": "ipython",
    "version": 3
   },
   "file_extension": ".py",
   "mimetype": "text/x-python",
   "name": "python",
   "nbconvert_exporter": "python",
   "pygments_lexer": "ipython3",
   "version": "3.8.3"
  }
 },
 "nbformat": 4,
 "nbformat_minor": 4
}
