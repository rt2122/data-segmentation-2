{
 "cells": [
  {
   "cell_type": "code",
   "execution_count": 1,
   "metadata": {
    "ExecuteTime": {
     "end_time": "2020-10-15T15:37:56.986139Z",
     "start_time": "2020-10-15T15:37:56.627116Z"
    }
   },
   "outputs": [],
   "source": [
    "import pandas as pd\n",
    "import numpy as np"
   ]
  },
  {
   "cell_type": "code",
   "execution_count": 2,
   "metadata": {
    "ExecuteTime": {
     "end_time": "2020-10-15T15:37:58.768511Z",
     "start_time": "2020-10-15T15:37:58.731226Z"
    }
   },
   "outputs": [],
   "source": [
    "df = pd.read_csv('/home/rt2122/Data/scans_extended/connected/ep14_thr0.2_step8.csv')"
   ]
  },
  {
   "cell_type": "code",
   "execution_count": 6,
   "metadata": {
    "ExecuteTime": {
     "end_time": "2020-10-15T15:00:54.640973Z",
     "start_time": "2020-10-15T15:00:54.616183Z"
    }
   },
   "outputs": [
    {
     "data": {
      "text/plain": [
       "10395"
      ]
     },
     "execution_count": 6,
     "metadata": {},
     "output_type": "execute_result"
    }
   ],
   "source": [
    "np.count_nonzero(df['status'] != 'fn')"
   ]
  },
  {
   "cell_type": "code",
   "execution_count": 7,
   "metadata": {
    "ExecuteTime": {
     "end_time": "2020-10-15T15:00:55.964812Z",
     "start_time": "2020-10-15T15:00:55.947189Z"
    }
   },
   "outputs": [
    {
     "data": {
      "text/plain": [
       "(15015, 12)"
      ]
     },
     "execution_count": 7,
     "metadata": {},
     "output_type": "execute_result"
    }
   ],
   "source": [
    "df.shape"
   ]
  },
  {
   "cell_type": "code",
   "execution_count": 5,
   "metadata": {
    "ExecuteTime": {
     "end_time": "2020-10-15T15:39:32.709038Z",
     "start_time": "2020-10-15T15:39:32.403361Z"
    }
   },
   "outputs": [],
   "source": [
    "df = pd.read_csv('/home/rt2122/Data/scans_extended/connected/ep14_thr0.1_step8.csv')\n",
    "df = df[df['status'] != 'fn']\n",
    "df.to_csv('/home/rt2122/Data/scans_extended/connected/ep14_thr0.1_step8_nofn.csv', \n",
    "         index=False)"
   ]
  },
  {
   "cell_type": "code",
   "execution_count": 6,
   "metadata": {
    "ExecuteTime": {
     "end_time": "2020-10-15T15:39:38.692248Z",
     "start_time": "2020-10-15T15:39:38.475982Z"
    }
   },
   "outputs": [],
   "source": [
    "df = pd.read_csv('/home/rt2122/Data/scans_extended/connected/ep14_thr0.2_step8.csv')\n",
    "df = df[df['status'] != 'fn']\n",
    "df.to_csv('/home/rt2122/Data/scans_extended/connected/ep14_thr0.2_step8_nofn.csv',\n",
    "         index=False)"
   ]
  },
  {
   "cell_type": "code",
   "execution_count": 8,
   "metadata": {
    "ExecuteTime": {
     "end_time": "2020-10-15T15:40:42.647996Z",
     "start_time": "2020-10-15T15:40:42.619097Z"
    }
   },
   "outputs": [
    {
     "data": {
      "text/plain": [
       "{'fp', 'tp'}"
      ]
     },
     "execution_count": 8,
     "metadata": {},
     "output_type": "execute_result"
    }
   ],
   "source": [
    "set(df['status'])"
   ]
  },
  {
   "cell_type": "code",
   "execution_count": null,
   "metadata": {},
   "outputs": [],
   "source": []
  }
 ],
 "metadata": {
  "kernelspec": {
   "display_name": "Python 3",
   "language": "python",
   "name": "python3"
  },
  "language_info": {
   "codemirror_mode": {
    "name": "ipython",
    "version": 3
   },
   "file_extension": ".py",
   "mimetype": "text/x-python",
   "name": "python",
   "nbconvert_exporter": "python",
   "pygments_lexer": "ipython3",
   "version": "3.8.3"
  }
 },
 "nbformat": 4,
 "nbformat_minor": 4
}
