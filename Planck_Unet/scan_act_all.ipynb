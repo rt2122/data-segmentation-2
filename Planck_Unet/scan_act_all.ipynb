{
 "cells": [
  {
   "cell_type": "code",
   "execution_count": 1,
   "metadata": {
    "ExecuteTime": {
     "end_time": "2020-10-01T13:28:37.995751Z",
     "start_time": "2020-10-01T13:28:36.504355Z"
    }
   },
   "outputs": [],
   "source": [
    "from DS_detector import gen_pics_for_detection, detect_clusters\n",
    "from DS_Planck_Unet import *\n",
    "from DS_data_transformation import draw_df\n",
    "import numpy as np\n",
    "import pandas as pd\n",
    "from matplotlib import pyplot as plt\n",
    "from tqdm.notebook import tqdm\n",
    "from tensorflow import convert_to_tensor\n",
    "from DS_healpix_fragmentation import one_pixel_fragmentation, matr2dict, \\\n",
    "    draw_proper_circle, pix2radec\n",
    "import os"
   ]
  },
  {
   "cell_type": "code",
   "execution_count": 2,
   "metadata": {
    "ExecuteTime": {
     "end_time": "2020-10-01T13:28:38.759471Z",
     "start_time": "2020-10-01T13:28:38.102494Z"
    }
   },
   "outputs": [],
   "source": [
    "model = load_planck_model(\n",
    "    '/home/rt2122/Models/planck_z/f8d2.ep0040.hdf5')"
   ]
  },
  {
   "cell_type": "code",
   "execution_count": 3,
   "metadata": {
    "ExecuteTime": {
     "end_time": "2020-10-01T13:28:39.246485Z",
     "start_time": "2020-10-01T13:28:39.241439Z"
    }
   },
   "outputs": [],
   "source": [
    "thr_list = [0.1 * i for i in range(9, 0, -1)]"
   ]
  },
  {
   "cell_type": "code",
   "execution_count": null,
   "metadata": {
    "ExecuteTime": {
     "start_time": "2020-10-01T13:56:57.025Z"
    }
   },
   "outputs": [
    {
     "data": {
      "application/vnd.jupyter.widget-view+json": {
       "model_id": "f32bc6173ac34bc18b4aec59131b3fe8",
       "version_major": 2,
       "version_minor": 0
      },
      "text/plain": [
       "HBox(children=(FloatProgress(value=0.0, max=48.0), HTML(value='')))"
      ]
     },
     "metadata": {},
     "output_type": "display_data"
    },
    {
     "data": {
      "application/vnd.jupyter.widget-view+json": {
       "model_id": "8644aa68f49f41018193cb475093b022",
       "version_major": 2,
       "version_minor": 0
      },
      "text/plain": [
       "HBox(children=(FloatProgress(value=0.0, max=9.0), HTML(value='')))"
      ]
     },
     "metadata": {},
     "output_type": "display_data"
    },
    {
     "name": "stdout",
     "output_type": "stream",
     "text": [
      "\n"
     ]
    },
    {
     "data": {
      "application/vnd.jupyter.widget-view+json": {
       "model_id": "af9fdf08912644499b48c686fe3ad0b0",
       "version_major": 2,
       "version_minor": 0
      },
      "text/plain": [
       "HBox(children=(FloatProgress(value=0.0, max=9.0), HTML(value='')))"
      ]
     },
     "metadata": {},
     "output_type": "display_data"
    },
    {
     "name": "stdout",
     "output_type": "stream",
     "text": [
      "\n"
     ]
    },
    {
     "data": {
      "application/vnd.jupyter.widget-view+json": {
       "model_id": "245575100ab8457fb49291445eca7d4b",
       "version_major": 2,
       "version_minor": 0
      },
      "text/plain": [
       "HBox(children=(FloatProgress(value=0.0, max=9.0), HTML(value='')))"
      ]
     },
     "metadata": {},
     "output_type": "display_data"
    },
    {
     "name": "stdout",
     "output_type": "stream",
     "text": [
      "\n"
     ]
    },
    {
     "data": {
      "application/vnd.jupyter.widget-view+json": {
       "model_id": "cc700547ac0c4b4c800c0a18883d53ba",
       "version_major": 2,
       "version_minor": 0
      },
      "text/plain": [
       "HBox(children=(FloatProgress(value=0.0, max=9.0), HTML(value='')))"
      ]
     },
     "metadata": {},
     "output_type": "display_data"
    },
    {
     "name": "stdout",
     "output_type": "stream",
     "text": [
      "\n"
     ]
    },
    {
     "data": {
      "application/vnd.jupyter.widget-view+json": {
       "model_id": "1bf9b7f828e14c01b336432b1f858ee7",
       "version_major": 2,
       "version_minor": 0
      },
      "text/plain": [
       "HBox(children=(FloatProgress(value=0.0, max=9.0), HTML(value='')))"
      ]
     },
     "metadata": {},
     "output_type": "display_data"
    },
    {
     "name": "stdout",
     "output_type": "stream",
     "text": [
      "\n"
     ]
    },
    {
     "data": {
      "application/vnd.jupyter.widget-view+json": {
       "model_id": "6b589a06b7db402d949b57f68796806e",
       "version_major": 2,
       "version_minor": 0
      },
      "text/plain": [
       "HBox(children=(FloatProgress(value=0.0, max=9.0), HTML(value='')))"
      ]
     },
     "metadata": {},
     "output_type": "display_data"
    },
    {
     "name": "stdout",
     "output_type": "stream",
     "text": [
      "\n"
     ]
    },
    {
     "data": {
      "application/vnd.jupyter.widget-view+json": {
       "model_id": "2d588ce647684df2a5987e4256fa318f",
       "version_major": 2,
       "version_minor": 0
      },
      "text/plain": [
       "HBox(children=(FloatProgress(value=0.0, max=9.0), HTML(value='')))"
      ]
     },
     "metadata": {},
     "output_type": "display_data"
    },
    {
     "name": "stdout",
     "output_type": "stream",
     "text": [
      "\n"
     ]
    },
    {
     "data": {
      "application/vnd.jupyter.widget-view+json": {
       "model_id": "99b016c884dc4121a8393632a208a7ae",
       "version_major": 2,
       "version_minor": 0
      },
      "text/plain": [
       "HBox(children=(FloatProgress(value=0.0, max=9.0), HTML(value='')))"
      ]
     },
     "metadata": {},
     "output_type": "display_data"
    }
   ],
   "source": [
    "for i in tqdm(range(48)):\n",
    "    all_dict = gen_pics_for_detection(i, model, step=16)\n",
    "    \n",
    "    stats = {cat : [] for cat in all_dict['true_clusters']}\n",
    "    for thr in tqdm(thr_list):\n",
    "        cur_stats = detect_clusters(all_dict, thr, all_catalogs_mode=True, binary=False,  \n",
    "                                    max_dist=5/60)\n",
    "        for cat in cur_stats:\n",
    "            stats[cat].append(pd.DataFrame(cur_stats[cat], index=[thr]))\n",
    "\n",
    "    for cat in stats:\n",
    "        if len(stats[cat]) > 1:\n",
    "            stats[cat] = pd.concat(stats[cat])\n",
    "        elif len(stats[cat]) > 0:\n",
    "            stats[cat] = stats[cat][0]\n",
    "        else:\n",
    "            continue\n",
    "        stats[cat].index.name = 'thr'\n",
    "        stats[cat].to_csv(os.path.join('/home/rt2122/Data/scans/', cat+str(i) + '.csv'))\n",
    "    "
   ]
  },
  {
   "cell_type": "code",
   "execution_count": null,
   "metadata": {
    "ExecuteTime": {
     "start_time": "2020-10-01T09:24:56.525Z"
    }
   },
   "outputs": [],
   "source": [
    "draw_df({cat : stats[cat]['tp'] / (stats[cat]['tp'] + stats[cat]['fn']) \n",
    "             for cat in ['planck_z', 'planck_no_z', 'mcxcwp', 'act']},\n",
    "        thr_list, ygrid=np.arange(0,1.1, 0.1), comment='ep 40', comm_coords=(0.6, 0.2))"
   ]
  },
  {
   "cell_type": "code",
   "execution_count": null,
   "metadata": {
    "ExecuteTime": {
     "start_time": "2020-10-01T09:24:56.795Z"
    }
   },
   "outputs": [],
   "source": [
    "draw_df({'fp':stats['all']['fp']},\n",
    "        thr_list, ygrid=np.arange(0,600,100), comment='ep 40', comm_coords=(0.6, 100))"
   ]
  },
  {
   "cell_type": "code",
   "execution_count": null,
   "metadata": {
    "ExecuteTime": {
     "start_time": "2020-10-01T09:24:57.182Z"
    }
   },
   "outputs": [],
   "source": [
    "stats['act']"
   ]
  },
  {
   "cell_type": "code",
   "execution_count": null,
   "metadata": {
    "ExecuteTime": {
     "start_time": "2020-10-01T09:24:57.560Z"
    }
   },
   "outputs": [],
   "source": [
    "model = load_planck_model(\n",
    "    '/home/rt2122/Models/planck_z/f8d2.ep0014-vl0.006570-l0.004067.hdf5')"
   ]
  },
  {
   "cell_type": "code",
   "execution_count": null,
   "metadata": {
    "ExecuteTime": {
     "start_time": "2020-10-01T09:25:06.328Z"
    }
   },
   "outputs": [],
   "source": [
    "all_dict = gen_pics_for_detection(2, model, step=16)"
   ]
  },
  {
   "cell_type": "code",
   "execution_count": null,
   "metadata": {
    "ExecuteTime": {
     "start_time": "2020-10-01T09:25:07.253Z"
    }
   },
   "outputs": [],
   "source": [
    "stats = {cat : [] for cat in all_dict['true_clusters']}\n",
    "for thr in tqdm(thr_list):\n",
    "    cur_stats = detect_clusters(all_dict, thr, all_catalogs_mode=True, binary=False,  \n",
    "                                max_dist=5/60)\n",
    "    for cat in all_dict['true_clusters']:\n",
    "        stats[cat].append(pd.DataFrame(cur_stats[cat], index=[thr]))\n",
    "    \n",
    "for cat in all_dict['true_clusters']:\n",
    "    stats[cat] = pd.concat(stats[cat])"
   ]
  },
  {
   "cell_type": "code",
   "execution_count": null,
   "metadata": {
    "ExecuteTime": {
     "start_time": "2020-10-01T09:25:07.363Z"
    }
   },
   "outputs": [],
   "source": [
    "draw_df({cat : stats[cat]['tp'] / (stats[cat]['tp'] + stats[cat]['fn']) \n",
    "             for cat in ['planck_z', 'planck_no_z', 'mcxcwp', 'act']},\n",
    "        thr_list, ygrid=np.arange(0,1.1, 0.1), comment='ep 14', comm_coords=(0.6, 0.2))"
   ]
  },
  {
   "cell_type": "code",
   "execution_count": null,
   "metadata": {
    "ExecuteTime": {
     "start_time": "2020-10-01T09:25:07.772Z"
    }
   },
   "outputs": [],
   "source": [
    "draw_df({'fp':stats['all']['fp']},\n",
    "        thr_list, ygrid=np.arange(0,700,100), comment='ep 14', comm_coords=(0.6, 100))"
   ]
  },
  {
   "cell_type": "code",
   "execution_count": null,
   "metadata": {
    "ExecuteTime": {
     "start_time": "2020-10-01T09:25:08.271Z"
    }
   },
   "outputs": [],
   "source": [
    "stats['act']"
   ]
  },
  {
   "cell_type": "code",
   "execution_count": null,
   "metadata": {},
   "outputs": [],
   "source": []
  }
 ],
 "metadata": {
  "kernelspec": {
   "display_name": "Python 3",
   "language": "python",
   "name": "python3"
  },
  "language_info": {
   "codemirror_mode": {
    "name": "ipython",
    "version": 3
   },
   "file_extension": ".py",
   "mimetype": "text/x-python",
   "name": "python",
   "nbconvert_exporter": "python",
   "pygments_lexer": "ipython3",
   "version": "3.8.3"
  }
 },
 "nbformat": 4,
 "nbformat_minor": 4
}
