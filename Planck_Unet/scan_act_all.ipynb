{
 "cells": [
  {
   "cell_type": "code",
   "execution_count": 1,
   "metadata": {
    "ExecuteTime": {
     "end_time": "2020-10-05T15:29:53.519487Z",
     "start_time": "2020-10-05T15:29:51.600679Z"
    }
   },
   "outputs": [],
   "source": [
    "from DS_detector import gen_pics_for_detection, detect_clusters\n",
    "from DS_Planck_Unet import *\n",
    "from DS_data_transformation import draw_df\n",
    "import numpy as np\n",
    "import pandas as pd\n",
    "from matplotlib import pyplot as plt\n",
    "from tqdm.notebook import tqdm\n",
    "from tensorflow import convert_to_tensor\n",
    "from DS_healpix_fragmentation import one_pixel_fragmentation, matr2dict, \\\n",
    "    draw_proper_circle, pix2radec\n",
    "import os"
   ]
  },
  {
   "cell_type": "code",
   "execution_count": null,
   "metadata": {
    "ExecuteTime": {
     "end_time": "2020-10-01T13:28:38.759471Z",
     "start_time": "2020-10-01T13:28:38.102494Z"
    }
   },
   "outputs": [],
   "source": [
    "model = load_planck_model(\n",
    "    '/home/rt2122/Models/planck_z/f8d2.ep0040.hdf5')"
   ]
  },
  {
   "cell_type": "code",
   "execution_count": 2,
   "metadata": {
    "ExecuteTime": {
     "end_time": "2020-10-05T15:29:53.526814Z",
     "start_time": "2020-10-05T15:29:53.521627Z"
    }
   },
   "outputs": [],
   "source": [
    "thr_list = [0.1 * i for i in range(9, 0, -1)]"
   ]
  },
  {
   "cell_type": "code",
   "execution_count": null,
   "metadata": {
    "ExecuteTime": {
     "end_time": "2020-10-01T22:03:43.333374Z",
     "start_time": "2020-10-01T13:56:57.029840Z"
    }
   },
   "outputs": [],
   "source": [
    "for i in tqdm(range(48)):\n",
    "    all_dict = gen_pics_for_detection(i, model, step=16)\n",
    "    \n",
    "    stats = {cat : [] for cat in all_dict['true_clusters']}\n",
    "    for thr in tqdm(thr_list):\n",
    "        cur_stats = detect_clusters(all_dict, thr, all_catalogs_mode=True, binary=False,  \n",
    "                                    max_dist=5/60)\n",
    "        for cat in cur_stats:\n",
    "            stats[cat].append(pd.DataFrame(cur_stats[cat], index=[thr]))\n",
    "\n",
    "    for cat in stats:\n",
    "        if len(stats[cat]) > 1:\n",
    "            stats[cat] = pd.concat(stats[cat])\n",
    "        elif len(stats[cat]) > 0:\n",
    "            stats[cat] = stats[cat][0]\n",
    "        else:\n",
    "            continue\n",
    "        stats[cat].index.name = 'thr'\n",
    "        stats[cat].to_csv(os.path.join('/home/rt2122/Data/scans/', cat+str(i) + '.csv'))\n",
    "    "
   ]
  },
  {
   "cell_type": "code",
   "execution_count": 3,
   "metadata": {
    "ExecuteTime": {
     "end_time": "2020-10-05T15:29:58.332941Z",
     "start_time": "2020-10-05T15:29:57.510953Z"
    }
   },
   "outputs": [],
   "source": [
    "thr = 0.7\n",
    "model = load_planck_model(\n",
    "    '/home/rt2122/Models/planck_z/f8d2.ep0014-vl0.006570-l0.004067.hdf5')"
   ]
  },
  {
   "cell_type": "code",
   "execution_count": 4,
   "metadata": {
    "ExecuteTime": {
     "end_time": "2020-10-05T15:30:09.909053Z",
     "start_time": "2020-10-05T15:29:58.334506Z"
    }
   },
   "outputs": [
    {
     "data": {
      "application/vnd.jupyter.widget-view+json": {
       "model_id": "5373049452374c8cb9d2b24284a10d8a",
       "version_major": 2,
       "version_minor": 0
      },
      "text/plain": [
       "HBox(children=(FloatProgress(value=0.0, max=48.0), HTML(value='')))"
      ]
     },
     "metadata": {},
     "output_type": "display_data"
    },
    {
     "name": "stdout",
     "output_type": "stream",
     "text": [
      "\n"
     ]
    },
    {
     "ename": "KeyboardInterrupt",
     "evalue": "",
     "output_type": "error",
     "traceback": [
      "\u001b[0;31m---------------------------------------------------------------------------\u001b[0m",
      "\u001b[0;31mKeyboardInterrupt\u001b[0m                         Traceback (most recent call last)",
      "\u001b[0;32m<ipython-input-4-834178043f82>\u001b[0m in \u001b[0;36m<module>\u001b[0;34m\u001b[0m\n\u001b[1;32m      1\u001b[0m \u001b[0;32mfor\u001b[0m \u001b[0mi\u001b[0m \u001b[0;32min\u001b[0m \u001b[0mtqdm\u001b[0m\u001b[0;34m(\u001b[0m\u001b[0mrange\u001b[0m\u001b[0;34m(\u001b[0m\u001b[0;36m48\u001b[0m\u001b[0;34m)\u001b[0m\u001b[0;34m)\u001b[0m\u001b[0;34m:\u001b[0m\u001b[0;34m\u001b[0m\u001b[0;34m\u001b[0m\u001b[0m\n\u001b[0;32m----> 2\u001b[0;31m     \u001b[0mall_dict\u001b[0m \u001b[0;34m=\u001b[0m \u001b[0mgen_pics_for_detection\u001b[0m\u001b[0;34m(\u001b[0m\u001b[0mi\u001b[0m\u001b[0;34m,\u001b[0m \u001b[0mmodel\u001b[0m\u001b[0;34m,\u001b[0m \u001b[0mstep\u001b[0m\u001b[0;34m=\u001b[0m\u001b[0;36m16\u001b[0m\u001b[0;34m)\u001b[0m\u001b[0;34m\u001b[0m\u001b[0;34m\u001b[0m\u001b[0m\n\u001b[0m\u001b[1;32m      3\u001b[0m \u001b[0;34m\u001b[0m\u001b[0m\n\u001b[1;32m      4\u001b[0m     coords = detect_clusters(all_dict, thr, all_catalogs_mode=True, binary=False,  \n\u001b[1;32m      5\u001b[0m                                     max_dist=5/60, get_coords_mode=True)\n",
      "\u001b[0;32m~/L/git/data-segmentation-2/modules/DS_detector.py\u001b[0m in \u001b[0;36mgen_pics_for_detection\u001b[0;34m(ipix, model, nside, depth, step, size, mask_radius, clusters_dir)\u001b[0m\n\u001b[1;32m     73\u001b[0m \u001b[0;34m\u001b[0m\u001b[0m\n\u001b[1;32m     74\u001b[0m     \u001b[0mbig_matr\u001b[0m \u001b[0;34m=\u001b[0m \u001b[0mone_pixel_fragmentation\u001b[0m\u001b[0;34m(\u001b[0m\u001b[0mnside\u001b[0m\u001b[0;34m,\u001b[0m \u001b[0mipix\u001b[0m\u001b[0;34m,\u001b[0m \u001b[0mdepth\u001b[0m\u001b[0;34m)\u001b[0m\u001b[0;34m\u001b[0m\u001b[0;34m\u001b[0m\u001b[0m\n\u001b[0;32m---> 75\u001b[0;31m     big_pic, big_mask = draw_pic_with_mask(center=None, matr=big_matr, \n\u001b[0m\u001b[1;32m     76\u001b[0m                                  \u001b[0mmask_radius\u001b[0m\u001b[0;34m=\u001b[0m\u001b[0mmask_radius\u001b[0m\u001b[0;34m,\u001b[0m\u001b[0;34m\u001b[0m\u001b[0;34m\u001b[0m\u001b[0m\n\u001b[1;32m     77\u001b[0m                             clusters_arr=np.array(true_clusters['all'][['RA', 'DEC']]))\n",
      "\u001b[0;32m~/L/git/data-segmentation-2/modules/DS_Planck_Unet.py\u001b[0m in \u001b[0;36mdraw_pic_with_mask\u001b[0;34m(center, clusters_arr, radius, size, fin_nside, dirname, mask_radius, retmatr, matr, centers_in_patch)\u001b[0m\n\u001b[1;32m     59\u001b[0m     \u001b[0mmdict\u001b[0m \u001b[0;34m=\u001b[0m \u001b[0mmatr2dict\u001b[0m\u001b[0;34m(\u001b[0m\u001b[0mmatr\u001b[0m\u001b[0;34m)\u001b[0m\u001b[0;34m\u001b[0m\u001b[0;34m\u001b[0m\u001b[0m\n\u001b[1;32m     60\u001b[0m \u001b[0;34m\u001b[0m\u001b[0m\n\u001b[0;32m---> 61\u001b[0;31m     \u001b[0mpic\u001b[0m \u001b[0;34m=\u001b[0m \u001b[0mdraw_pic\u001b[0m\u001b[0;34m(\u001b[0m\u001b[0mmatr\u001b[0m\u001b[0;34m,\u001b[0m \u001b[0mdirname\u001b[0m\u001b[0;34m)\u001b[0m\u001b[0;34m\u001b[0m\u001b[0;34m\u001b[0m\u001b[0m\n\u001b[0m\u001b[1;32m     62\u001b[0m     \u001b[0mmask\u001b[0m \u001b[0;34m=\u001b[0m \u001b[0mnp\u001b[0m\u001b[0;34m.\u001b[0m\u001b[0mzeros\u001b[0m\u001b[0;34m(\u001b[0m\u001b[0mlist\u001b[0m\u001b[0;34m(\u001b[0m\u001b[0mmatr\u001b[0m\u001b[0;34m.\u001b[0m\u001b[0mshape\u001b[0m\u001b[0;34m)\u001b[0m \u001b[0;34m+\u001b[0m \u001b[0;34m[\u001b[0m\u001b[0;36m1\u001b[0m\u001b[0;34m]\u001b[0m\u001b[0;34m,\u001b[0m \u001b[0mdtype\u001b[0m\u001b[0;34m=\u001b[0m\u001b[0mnp\u001b[0m\u001b[0;34m.\u001b[0m\u001b[0muint8\u001b[0m\u001b[0;34m)\u001b[0m\u001b[0;34m\u001b[0m\u001b[0;34m\u001b[0m\u001b[0m\n\u001b[1;32m     63\u001b[0m     \u001b[0;32mfor\u001b[0m \u001b[0mra\u001b[0m\u001b[0;34m,\u001b[0m \u001b[0mdec\u001b[0m \u001b[0;32min\u001b[0m \u001b[0mclusters_arr\u001b[0m\u001b[0;34m:\u001b[0m\u001b[0;34m\u001b[0m\u001b[0;34m\u001b[0m\u001b[0m\n",
      "\u001b[0;32m~/L/git/data-segmentation-2/modules/DS_Planck_Unet.py\u001b[0m in \u001b[0;36mdraw_pic\u001b[0;34m(matr, dirname, y)\u001b[0m\n\u001b[1;32m     42\u001b[0m \u001b[0;34m\u001b[0m\u001b[0m\n\u001b[1;32m     43\u001b[0m     \u001b[0;32mfor\u001b[0m \u001b[0mi_f\u001b[0m\u001b[0;34m,\u001b[0m \u001b[0mfile\u001b[0m \u001b[0;32min\u001b[0m \u001b[0menumerate\u001b[0m\u001b[0;34m(\u001b[0m\u001b[0mfiles\u001b[0m\u001b[0;34m)\u001b[0m\u001b[0;34m:\u001b[0m\u001b[0;34m\u001b[0m\u001b[0;34m\u001b[0m\u001b[0m\n\u001b[0;32m---> 44\u001b[0;31m         \u001b[0mi_s\u001b[0m \u001b[0;34m=\u001b[0m \u001b[0mnp\u001b[0m\u001b[0;34m.\u001b[0m\u001b[0mload\u001b[0m\u001b[0;34m(\u001b[0m\u001b[0mos\u001b[0m\u001b[0;34m.\u001b[0m\u001b[0mpath\u001b[0m\u001b[0;34m.\u001b[0m\u001b[0mjoin\u001b[0m\u001b[0;34m(\u001b[0m\u001b[0mdirname\u001b[0m\u001b[0;34m,\u001b[0m \u001b[0mfile\u001b[0m\u001b[0;34m)\u001b[0m\u001b[0;34m)\u001b[0m\u001b[0;34m\u001b[0m\u001b[0;34m\u001b[0m\u001b[0m\n\u001b[0m\u001b[1;32m     45\u001b[0m \u001b[0;34m\u001b[0m\u001b[0m\n\u001b[1;32m     46\u001b[0m         \u001b[0;32mfor\u001b[0m \u001b[0mx\u001b[0m \u001b[0;32min\u001b[0m \u001b[0mrange\u001b[0m\u001b[0;34m(\u001b[0m\u001b[0mpic\u001b[0m\u001b[0;34m.\u001b[0m\u001b[0mshape\u001b[0m\u001b[0;34m[\u001b[0m\u001b[0;36m0\u001b[0m\u001b[0;34m]\u001b[0m\u001b[0;34m)\u001b[0m\u001b[0;34m:\u001b[0m\u001b[0;34m\u001b[0m\u001b[0;34m\u001b[0m\u001b[0m\n",
      "\u001b[0;32m~/anaconda3/lib/python3.8/site-packages/numpy/lib/npyio.py\u001b[0m in \u001b[0;36mload\u001b[0;34m(file, mmap_mode, allow_pickle, fix_imports, encoding)\u001b[0m\n\u001b[1;32m    450\u001b[0m                 \u001b[0;32mreturn\u001b[0m \u001b[0mformat\u001b[0m\u001b[0;34m.\u001b[0m\u001b[0mopen_memmap\u001b[0m\u001b[0;34m(\u001b[0m\u001b[0mfile\u001b[0m\u001b[0;34m,\u001b[0m \u001b[0mmode\u001b[0m\u001b[0;34m=\u001b[0m\u001b[0mmmap_mode\u001b[0m\u001b[0;34m)\u001b[0m\u001b[0;34m\u001b[0m\u001b[0;34m\u001b[0m\u001b[0m\n\u001b[1;32m    451\u001b[0m             \u001b[0;32melse\u001b[0m\u001b[0;34m:\u001b[0m\u001b[0;34m\u001b[0m\u001b[0;34m\u001b[0m\u001b[0m\n\u001b[0;32m--> 452\u001b[0;31m                 return format.read_array(fid, allow_pickle=allow_pickle,\n\u001b[0m\u001b[1;32m    453\u001b[0m                                          pickle_kwargs=pickle_kwargs)\n\u001b[1;32m    454\u001b[0m         \u001b[0;32melse\u001b[0m\u001b[0;34m:\u001b[0m\u001b[0;34m\u001b[0m\u001b[0;34m\u001b[0m\u001b[0m\n",
      "\u001b[0;32m~/anaconda3/lib/python3.8/site-packages/numpy/lib/format.py\u001b[0m in \u001b[0;36mread_array\u001b[0;34m(fp, allow_pickle, pickle_kwargs)\u001b[0m\n\u001b[1;32m    753\u001b[0m         \u001b[0;32mif\u001b[0m \u001b[0misfileobj\u001b[0m\u001b[0;34m(\u001b[0m\u001b[0mfp\u001b[0m\u001b[0;34m)\u001b[0m\u001b[0;34m:\u001b[0m\u001b[0;34m\u001b[0m\u001b[0;34m\u001b[0m\u001b[0m\n\u001b[1;32m    754\u001b[0m             \u001b[0;31m# We can use the fast fromfile() function.\u001b[0m\u001b[0;34m\u001b[0m\u001b[0;34m\u001b[0m\u001b[0;34m\u001b[0m\u001b[0m\n\u001b[0;32m--> 755\u001b[0;31m             \u001b[0marray\u001b[0m \u001b[0;34m=\u001b[0m \u001b[0mnumpy\u001b[0m\u001b[0;34m.\u001b[0m\u001b[0mfromfile\u001b[0m\u001b[0;34m(\u001b[0m\u001b[0mfp\u001b[0m\u001b[0;34m,\u001b[0m \u001b[0mdtype\u001b[0m\u001b[0;34m=\u001b[0m\u001b[0mdtype\u001b[0m\u001b[0;34m,\u001b[0m \u001b[0mcount\u001b[0m\u001b[0;34m=\u001b[0m\u001b[0mcount\u001b[0m\u001b[0;34m)\u001b[0m\u001b[0;34m\u001b[0m\u001b[0;34m\u001b[0m\u001b[0m\n\u001b[0m\u001b[1;32m    756\u001b[0m         \u001b[0;32melse\u001b[0m\u001b[0;34m:\u001b[0m\u001b[0;34m\u001b[0m\u001b[0;34m\u001b[0m\u001b[0m\n\u001b[1;32m    757\u001b[0m             \u001b[0;31m# This is not a real file. We have to read it the\u001b[0m\u001b[0;34m\u001b[0m\u001b[0;34m\u001b[0m\u001b[0;34m\u001b[0m\u001b[0m\n",
      "\u001b[0;31mKeyboardInterrupt\u001b[0m: "
     ]
    }
   ],
   "source": [
    "for i in tqdm(range(48)):\n",
    "    all_dict = gen_pics_for_detection(i, model, step=16)\n",
    "    \n",
    "    coords = detect_clusters(all_dict, thr, all_catalogs_mode=True, binary=False,  \n",
    "                                    max_dist=5/60, get_coords_mode=True)\n",
    "    for cat in coords['true_clusters']:\n",
    "        coords['true_clusters'][cat].to_csv(\n",
    "            '/home/rt2122/Data/scans_coords/' + cat + str(i) + '.csv', index=False)\n",
    "\n",
    "    coords['fp'].to_csv(\n",
    "        '/home/rt2122/Data/scans_coords/fp' + str(i) + '.csv', index=False)\n",
    "    "
   ]
  },
  {
   "cell_type": "code",
   "execution_count": null,
   "metadata": {
    "ExecuteTime": {
     "start_time": "2020-10-01T09:24:56.525Z"
    }
   },
   "outputs": [],
   "source": [
    "draw_df({cat : stats[cat]['tp'] / (stats[cat]['tp'] + stats[cat]['fn']) \n",
    "             for cat in ['planck_z', 'planck_no_z', 'mcxcwp', 'act']},\n",
    "        thr_list, ygrid=np.arange(0,1.1, 0.1), comment='ep 40', comm_coords=(0.6, 0.2))"
   ]
  },
  {
   "cell_type": "code",
   "execution_count": null,
   "metadata": {
    "ExecuteTime": {
     "start_time": "2020-10-01T09:24:56.795Z"
    }
   },
   "outputs": [],
   "source": [
    "draw_df({'fp':stats['all']['fp']},\n",
    "        thr_list, ygrid=np.arange(0,600,100), comment='ep 40', comm_coords=(0.6, 100))"
   ]
  },
  {
   "cell_type": "code",
   "execution_count": null,
   "metadata": {
    "ExecuteTime": {
     "start_time": "2020-10-01T09:24:57.182Z"
    }
   },
   "outputs": [],
   "source": [
    "stats['act']"
   ]
  },
  {
   "cell_type": "code",
   "execution_count": null,
   "metadata": {
    "ExecuteTime": {
     "start_time": "2020-10-01T09:24:57.560Z"
    }
   },
   "outputs": [],
   "source": [
    "model = load_planck_model(\n",
    "    '/home/rt2122/Models/planck_z/f8d2.ep0014-vl0.006570-l0.004067.hdf5')"
   ]
  },
  {
   "cell_type": "code",
   "execution_count": null,
   "metadata": {
    "ExecuteTime": {
     "start_time": "2020-10-01T09:25:06.328Z"
    }
   },
   "outputs": [],
   "source": [
    "all_dict = gen_pics_for_detection(2, model, step=16)"
   ]
  },
  {
   "cell_type": "code",
   "execution_count": null,
   "metadata": {
    "ExecuteTime": {
     "start_time": "2020-10-01T09:25:07.253Z"
    }
   },
   "outputs": [],
   "source": [
    "stats = {cat : [] for cat in all_dict['true_clusters']}\n",
    "for thr in tqdm(thr_list):\n",
    "    cur_stats = detect_clusters(all_dict, thr, all_catalogs_mode=True, binary=False,  \n",
    "                                max_dist=5/60)\n",
    "    for cat in all_dict['true_clusters']:\n",
    "        stats[cat].append(pd.DataFrame(cur_stats[cat], index=[thr]))\n",
    "    \n",
    "for cat in all_dict['true_clusters']:\n",
    "    stats[cat] = pd.concat(stats[cat])"
   ]
  },
  {
   "cell_type": "code",
   "execution_count": null,
   "metadata": {
    "ExecuteTime": {
     "start_time": "2020-10-01T09:25:07.363Z"
    }
   },
   "outputs": [],
   "source": [
    "draw_df({cat : stats[cat]['tp'] / (stats[cat]['tp'] + stats[cat]['fn']) \n",
    "             for cat in ['planck_z', 'planck_no_z', 'mcxcwp', 'act']},\n",
    "        thr_list, ygrid=np.arange(0,1.1, 0.1), comment='ep 14', comm_coords=(0.6, 0.2))"
   ]
  },
  {
   "cell_type": "code",
   "execution_count": null,
   "metadata": {
    "ExecuteTime": {
     "start_time": "2020-10-01T09:25:07.772Z"
    }
   },
   "outputs": [],
   "source": [
    "draw_df({'fp':stats['all']['fp']},\n",
    "        thr_list, ygrid=np.arange(0,700,100), comment='ep 14', comm_coords=(0.6, 100))"
   ]
  },
  {
   "cell_type": "code",
   "execution_count": null,
   "metadata": {
    "ExecuteTime": {
     "start_time": "2020-10-01T09:25:08.271Z"
    }
   },
   "outputs": [],
   "source": [
    "stats['act']"
   ]
  },
  {
   "cell_type": "code",
   "execution_count": null,
   "metadata": {},
   "outputs": [],
   "source": []
  }
 ],
 "metadata": {
  "kernelspec": {
   "display_name": "Python 3",
   "language": "python",
   "name": "python3"
  },
  "language_info": {
   "codemirror_mode": {
    "name": "ipython",
    "version": 3
   },
   "file_extension": ".py",
   "mimetype": "text/x-python",
   "name": "python",
   "nbconvert_exporter": "python",
   "pygments_lexer": "ipython3",
   "version": "3.8.3"
  }
 },
 "nbformat": 4,
 "nbformat_minor": 4
}
