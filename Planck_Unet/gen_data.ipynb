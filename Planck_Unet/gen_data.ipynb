{
 "cells": [
  {
   "cell_type": "code",
   "execution_count": 1,
   "metadata": {
    "ExecuteTime": {
     "end_time": "2020-08-20T16:56:26.689411Z",
     "start_time": "2020-08-20T16:56:25.846901Z"
    }
   },
   "outputs": [],
   "source": [
    "import pandas as pd\n",
    "import numpy as np\n",
    "import healpy as hp\n",
    "import DS_Planck_Unet as planck_unet\n",
    "from DS_data_transformation import show_pic"
   ]
  },
  {
   "cell_type": "code",
   "execution_count": null,
   "metadata": {
    "ExecuteTime": {
     "end_time": "2020-08-20T14:37:13.408284Z",
     "start_time": "2020-08-20T14:37:13.233697Z"
    }
   },
   "outputs": [],
   "source": [
    "df = pd.read_csv('/home/rt2122/Data/clusters/planck_z.csv')"
   ]
  },
  {
   "cell_type": "code",
   "execution_count": null,
   "metadata": {
    "ExecuteTime": {
     "end_time": "2020-08-20T14:37:16.181977Z",
     "start_time": "2020-08-20T14:37:16.103727Z"
    }
   },
   "outputs": [],
   "source": [
    "df.head()"
   ]
  },
  {
   "cell_type": "code",
   "execution_count": null,
   "metadata": {
    "ExecuteTime": {
     "end_time": "2020-08-20T14:38:23.087484Z",
     "start_time": "2020-08-20T14:38:23.075094Z"
    }
   },
   "outputs": [],
   "source": [
    "df = df.drop(columns=['index', 'pix', 'theta', 'phi'])\n",
    "df.head()"
   ]
  },
  {
   "cell_type": "code",
   "execution_count": null,
   "metadata": {
    "ExecuteTime": {
     "end_time": "2020-08-20T14:38:44.304690Z",
     "start_time": "2020-08-20T14:38:44.244380Z"
    }
   },
   "outputs": [],
   "source": [
    "df.to_csv('/home/rt2122/Data/clusters/planck_z.csv', index=False)"
   ]
  },
  {
   "cell_type": "code",
   "execution_count": null,
   "metadata": {
    "ExecuteTime": {
     "end_time": "2020-08-20T14:38:59.924592Z",
     "start_time": "2020-08-20T14:38:59.894390Z"
    }
   },
   "outputs": [],
   "source": [
    "df = pd.read_csv('/home/rt2122/Data/clusters/planck_no_z.csv')\n",
    "df.head()"
   ]
  },
  {
   "cell_type": "code",
   "execution_count": null,
   "metadata": {
    "ExecuteTime": {
     "end_time": "2020-08-20T14:42:13.330775Z",
     "start_time": "2020-08-20T14:42:13.307903Z"
    }
   },
   "outputs": [],
   "source": [
    "df = df.drop(columns=['Unnamed: 0'])\n",
    "df = df.rename(columns={'RAdeg' : 'RA', 'DEdeg' : 'DEC'})\n",
    "df.head()"
   ]
  },
  {
   "cell_type": "code",
   "execution_count": null,
   "metadata": {
    "ExecuteTime": {
     "end_time": "2020-08-20T14:42:16.121867Z",
     "start_time": "2020-08-20T14:42:16.097370Z"
    }
   },
   "outputs": [],
   "source": [
    "df.to_csv('/home/rt2122/Data/clusters/planck_no_z.csv', index=False)"
   ]
  },
  {
   "cell_type": "code",
   "execution_count": null,
   "metadata": {
    "ExecuteTime": {
     "end_time": "2020-08-20T14:43:28.425871Z",
     "start_time": "2020-08-20T14:43:28.390003Z"
    }
   },
   "outputs": [],
   "source": [
    "df = pd.read_csv('/home/rt2122/Data/clusters/planck_z.csv')\n",
    "df = df.rename(columns={'ra' : 'RA', 'dec' : 'DEC'})\n",
    "df.head()"
   ]
  },
  {
   "cell_type": "code",
   "execution_count": null,
   "metadata": {
    "ExecuteTime": {
     "end_time": "2020-08-20T14:43:47.929579Z",
     "start_time": "2020-08-20T14:43:47.853027Z"
    }
   },
   "outputs": [],
   "source": [
    "df.to_csv('/home/rt2122/Data/clusters/planck_z.csv', index=False)"
   ]
  },
  {
   "cell_type": "code",
   "execution_count": null,
   "metadata": {
    "ExecuteTime": {
     "end_time": "2020-08-20T14:44:05.207894Z",
     "start_time": "2020-08-20T14:44:05.187229Z"
    }
   },
   "outputs": [],
   "source": [
    "df = pd.read_csv('/home/rt2122/Data/clusters/mcxcwp.csv')\n",
    "df.head()"
   ]
  },
  {
   "cell_type": "code",
   "execution_count": null,
   "metadata": {
    "ExecuteTime": {
     "end_time": "2020-08-20T14:45:07.831185Z",
     "start_time": "2020-08-20T14:45:07.813444Z"
    }
   },
   "outputs": [],
   "source": [
    "#df = df.drop(columns=['Unnamed: 0'])\n",
    "df = df.rename(columns={'RAdeg' : 'RA', 'DEdeg' : 'DEC'})\n",
    "df.head()"
   ]
  },
  {
   "cell_type": "code",
   "execution_count": null,
   "metadata": {
    "ExecuteTime": {
     "end_time": "2020-08-20T14:45:22.586261Z",
     "start_time": "2020-08-20T14:45:22.573139Z"
    }
   },
   "outputs": [],
   "source": [
    "df.to_csv('/home/rt2122/Data/clusters/mcxcwp.csv', index=False)"
   ]
  },
  {
   "cell_type": "code",
   "execution_count": 2,
   "metadata": {
    "ExecuteTime": {
     "end_time": "2020-08-20T16:56:29.227129Z",
     "start_time": "2020-08-20T16:56:29.195941Z"
    }
   },
   "outputs": [],
   "source": [
    "def gen_data(clusters, big_pixels, n, nside=2048, min_rad=0.62):\n",
    "    import healpy as hp\n",
    "    import pandas as pd\n",
    "    from DS_healpix_fragmentation import radec2pix\n",
    "    from DS_Planck_Unet import draw_pic_with_mask\n",
    "    from astropy.coordinates import SkyCoord\n",
    "    from astropy import units as u\n",
    "    from tqdm.notebook import tqdm\n",
    "    \n",
    "    def nearest_clusters(df, ra, dec, radius=2):\n",
    "        sc_cen = SkyCoord(ra=ra*u.degree, dec=dec*u.degree, frame='icrs')\n",
    "        sc_cl = SkyCoord(ra=np.array(df['RA'])*u.degree, \n",
    "                         dec=np.array(df['DEC'])*u.degree, frame='icrs')\n",
    "        return df[sc_cen.separation(sc_cl).degree < radius]\n",
    "    \n",
    "    df = pd.read_csv(clusters)\n",
    "    pix2 = radec2pix(df['RA'], df['DEC'], 2)\n",
    "    df = df[np.in1d(pix2, big_pixels)]\n",
    "    df.index = np.arange(df.shape[0])\n",
    "    \n",
    "    small_pixels = set()\n",
    "    sc = SkyCoord(ra=np.array(df['RA'])*u.degree, \n",
    "                  dec=np.array(df['DEC'])*u.degree, frame='icrs')\n",
    "    vecs = hp.ang2vec(theta=sc.galactic.l.degree, phi=sc.galactic.b.degree, \n",
    "                      lonlat=True)\n",
    "    for i in range(df.shape[0]):\n",
    "        small_pixels = small_pixels.union(hp.query_disc(nside, vecs[i], \n",
    "                                                np.radians(min_rad), nest=True))\n",
    "    small_pixels = np.array(list(small_pixels))\n",
    "    \n",
    "    \n",
    "    ipix = np.random.choice(small_pixels, n)\n",
    "    theta, phi = hp.pix2ang(nside=nside, nest=True, ipix=ipix, lonlat=True)\n",
    "    sc = SkyCoord(l=theta*u.degree, b=phi*u.degree, frame='galactic')\n",
    "    ra = sc.icrs.ra.degree\n",
    "    dec = sc.icrs.dec.degree\n",
    "    pics = []\n",
    "    masks = []\n",
    "    for i in tqdm(range(n)):\n",
    "        cl_list = nearest_clusters(df, ra[i], dec[i])\n",
    "        cl_list = np.stack([cl_list['RA'], cl_list['DEC']]).T\n",
    "        pic, mask = draw_pic_with_mask([ra[i], dec[i]], cl_list)\n",
    "        pics.append(pic)\n",
    "        masks.append(mask)\n",
    "    return pics, masks"
   ]
  },
  {
   "cell_type": "code",
   "execution_count": null,
   "metadata": {
    "ExecuteTime": {
     "end_time": "2020-08-20T16:02:15.452918Z",
     "start_time": "2020-08-20T16:01:51.159765Z"
    }
   },
   "outputs": [],
   "source": [
    "a = np.zeros(hp.nside2npix(2048), dtype=np.int32)\n",
    "pix = gen_data('/home/rt2122/Data/clusters/planck_z.csv', planck_unet.train_pix, 1)"
   ]
  },
  {
   "cell_type": "code",
   "execution_count": null,
   "metadata": {
    "ExecuteTime": {
     "end_time": "2020-08-20T16:02:15.787594Z",
     "start_time": "2020-08-20T16:02:15.461967Z"
    }
   },
   "outputs": [],
   "source": [
    "pix = np.array(list(pix))\n",
    "pix.shape"
   ]
  },
  {
   "cell_type": "code",
   "execution_count": null,
   "metadata": {
    "ExecuteTime": {
     "end_time": "2020-08-20T16:02:15.855598Z",
     "start_time": "2020-08-20T16:02:15.789396Z"
    }
   },
   "outputs": [],
   "source": [
    "a[pix] = 1"
   ]
  },
  {
   "cell_type": "code",
   "execution_count": null,
   "metadata": {
    "ExecuteTime": {
     "end_time": "2020-08-20T16:02:16.255660Z",
     "start_time": "2020-08-20T16:02:15.857403Z"
    }
   },
   "outputs": [],
   "source": [
    "hp.mollview(a, nest=True)"
   ]
  },
  {
   "cell_type": "code",
   "execution_count": null,
   "metadata": {
    "ExecuteTime": {
     "end_time": "2020-08-20T16:00:34.627267Z",
     "start_time": "2020-08-20T16:00:34.484008Z"
    }
   },
   "outputs": [],
   "source": [
    "len(list(pix))"
   ]
  },
  {
   "cell_type": "code",
   "execution_count": null,
   "metadata": {
    "ExecuteTime": {
     "end_time": "2020-08-20T16:11:57.045671Z",
     "start_time": "2020-08-20T16:11:57.035669Z"
    }
   },
   "outputs": [],
   "source": [
    "ra = np.array([1, 2, 3, 4])\n",
    "dec = np.array([1, 7, 3, 2])\n",
    "np.stack([ra, dec]).T"
   ]
  },
  {
   "cell_type": "code",
   "execution_count": 3,
   "metadata": {
    "ExecuteTime": {
     "end_time": "2020-08-20T16:56:37.787022Z",
     "start_time": "2020-08-20T16:56:33.458001Z"
    }
   },
   "outputs": [
    {
     "data": {
      "application/vnd.jupyter.widget-view+json": {
       "model_id": "0b8147a4aeb74bf0acc3fc0e4babbdf6",
       "version_major": 2,
       "version_minor": 0
      },
      "text/plain": [
       "HBox(children=(FloatProgress(value=0.0, max=3.0), HTML(value='')))"
      ]
     },
     "metadata": {},
     "output_type": "display_data"
    },
    {
     "name": "stdout",
     "output_type": "stream",
     "text": [
      "\n"
     ]
    }
   ],
   "source": [
    "pics, masks = gen_data('/home/rt2122/Data/clusters/planck_z.csv', planck_unet.test_pix, \n",
    "                       3)"
   ]
  },
  {
   "cell_type": "code",
   "execution_count": 6,
   "metadata": {
    "ExecuteTime": {
     "end_time": "2020-08-20T16:56:45.335034Z",
     "start_time": "2020-08-20T16:56:45.327616Z"
    }
   },
   "outputs": [
    {
     "data": {
      "text/plain": [
       "(64, 64, 6)"
      ]
     },
     "execution_count": 6,
     "metadata": {},
     "output_type": "execute_result"
    }
   ],
   "source": [
    "pics[2].shape"
   ]
  },
  {
   "cell_type": "code",
   "execution_count": 7,
   "metadata": {
    "ExecuteTime": {
     "end_time": "2020-08-20T16:56:48.425746Z",
     "start_time": "2020-08-20T16:56:48.215767Z"
    }
   },
   "outputs": [
    {
     "name": "stderr",
     "output_type": "stream",
     "text": [
      "Clipping input data to the valid range for imshow with RGB data ([0..1] for floats or [0..255] for integers).\n"
     ]
    },
    {
     "data": {
      "image/png": "[encoded data removed]",
      "text/plain": [
       "<Figure size 720x720 with 1 Axes>"
      ]
     },
     "metadata": {
      "needs_background": "light"
     },
     "output_type": "display_data"
    }
   ],
   "source": [
    "show_pic(pics[2][:,:,:3])"
   ]
  },
  {
   "cell_type": "code",
   "execution_count": 8,
   "metadata": {
    "ExecuteTime": {
     "end_time": "2020-08-20T16:56:53.072314Z",
     "start_time": "2020-08-20T16:56:52.887070Z"
    }
   },
   "outputs": [
    {
     "data": {
      "image/png": "[encoded data removed]",
      "text/plain": [
       "<Figure size 720x720 with 1 Axes>"
      ]
     },
     "metadata": {
      "needs_background": "light"
     },
     "output_type": "display_data"
    }
   ],
   "source": [
    "show_pic(masks[0][:,:,0])"
   ]
  },
  {
   "cell_type": "code",
   "execution_count": null,
   "metadata": {},
   "outputs": [],
   "source": []
  }
 ],
 "metadata": {
  "kernelspec": {
   "display_name": "Python 3",
   "language": "python",
   "name": "python3"
  },
  "language_info": {
   "codemirror_mode": {
    "name": "ipython",
    "version": 3
   },
   "file_extension": ".py",
   "mimetype": "text/x-python",
   "name": "python",
   "nbconvert_exporter": "python",
   "pygments_lexer": "ipython3",
   "version": "3.8.3"
  }
 },
 "nbformat": 4,
 "nbformat_minor": 4
}
