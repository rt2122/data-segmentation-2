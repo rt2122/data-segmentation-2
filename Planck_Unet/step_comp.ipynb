{
 "cells": [
  {
   "cell_type": "code",
   "execution_count": 1,
   "metadata": {
    "ExecuteTime": {
     "end_time": "2020-10-15T06:33:34.832987Z",
     "start_time": "2020-10-15T06:33:28.095043Z"
    }
   },
   "outputs": [],
   "source": [
    "import pandas as pd\n",
    "import numpy as np\n",
    "from DS_detector import *\n",
    "from DS_Planck_Unet import load_planck_model\n",
    "from tqdm.notebook import tqdm"
   ]
  },
  {
   "cell_type": "code",
   "execution_count": 2,
   "metadata": {
    "ExecuteTime": {
     "end_time": "2020-10-15T06:34:09.243426Z",
     "start_time": "2020-10-15T06:33:34.835072Z"
    }
   },
   "outputs": [],
   "source": [
    "model = load_planck_model(\n",
    "    '/home/rt2122/Models/planck_z/f8d2.ep0014-vl0.006570-l0.004067.hdf5')"
   ]
  },
  {
   "cell_type": "code",
   "execution_count": 3,
   "metadata": {
    "ExecuteTime": {
     "end_time": "2020-10-15T06:34:09.258660Z",
     "start_time": "2020-10-15T06:34:09.246759Z"
    }
   },
   "outputs": [
    {
     "data": {
      "text/plain": [
       "[64, 32, 16, 8]"
      ]
     },
     "execution_count": 3,
     "metadata": {},
     "output_type": "execute_result"
    }
   ],
   "source": [
    "steps = [2 ** i for i in range(6, 2, -1)]\n",
    "steps"
   ]
  },
  {
   "cell_type": "code",
   "execution_count": 4,
   "metadata": {
    "ExecuteTime": {
     "end_time": "2020-10-15T06:34:09.374292Z",
     "start_time": "2020-10-15T06:34:09.260558Z"
    }
   },
   "outputs": [],
   "source": [
    "thr_list = [0.1, 0.2, 0.9]"
   ]
  },
  {
   "cell_type": "code",
   "execution_count": 5,
   "metadata": {
    "ExecuteTime": {
     "end_time": "2020-10-15T06:34:09.476103Z",
     "start_time": "2020-10-15T06:34:09.375545Z"
    }
   },
   "outputs": [
    {
     "data": {
      "text/plain": [
       "{64: {}, 32: {}, 16: {}, 8: {}}"
      ]
     },
     "execution_count": 5,
     "metadata": {},
     "output_type": "execute_result"
    }
   ],
   "source": [
    "step_dict = {step : {} for step in steps}\n",
    "step_dict"
   ]
  },
  {
   "cell_type": "code",
   "execution_count": 6,
   "metadata": {
    "ExecuteTime": {
     "end_time": "2020-10-15T06:41:14.654058Z",
     "start_time": "2020-10-15T06:34:55.372372Z"
    }
   },
   "outputs": [
    {
     "data": {
      "application/vnd.jupyter.widget-view+json": {
       "model_id": "026a706f12d54c12b0e853f820b9b82e",
       "version_major": 2,
       "version_minor": 0
      },
      "text/plain": [
       "HBox(children=(FloatProgress(value=0.0, max=4.0), HTML(value='')))"
      ]
     },
     "metadata": {},
     "output_type": "display_data"
    },
    {
     "data": {
      "application/vnd.jupyter.widget-view+json": {
       "model_id": "1775aba3ed5f4d46b0350399c5b8763a",
       "version_major": 2,
       "version_minor": 0
      },
      "text/plain": [
       "HBox(children=(FloatProgress(value=0.0, max=3.0), HTML(value='')))"
      ]
     },
     "metadata": {},
     "output_type": "display_data"
    },
    {
     "name": "stderr",
     "output_type": "stream",
     "text": [
      "/home/rt2122/anaconda3/lib/python3.8/site-packages/pandas/core/indexing.py:671: SettingWithCopyWarning: \n",
      "A value is trying to be set on a copy of a slice from a DataFrame\n",
      "\n",
      "See the caveats in the documentation: https://pandas.pydata.org/pandas-docs/stable/user_guide/indexing.html#returning-a-view-versus-a-copy\n",
      "  self._setitem_with_indexer(indexer, value)\n"
     ]
    },
    {
     "name": "stdout",
     "output_type": "stream",
     "text": [
      "\n"
     ]
    },
    {
     "data": {
      "application/vnd.jupyter.widget-view+json": {
       "model_id": "67f5ec49a8424e48ba9bc479096a9207",
       "version_major": 2,
       "version_minor": 0
      },
      "text/plain": [
       "HBox(children=(FloatProgress(value=0.0, max=3.0), HTML(value='')))"
      ]
     },
     "metadata": {},
     "output_type": "display_data"
    },
    {
     "name": "stdout",
     "output_type": "stream",
     "text": [
      "\n"
     ]
    },
    {
     "data": {
      "application/vnd.jupyter.widget-view+json": {
       "model_id": "549270da6fc34422ba17dd72145b0c19",
       "version_major": 2,
       "version_minor": 0
      },
      "text/plain": [
       "HBox(children=(FloatProgress(value=0.0, max=3.0), HTML(value='')))"
      ]
     },
     "metadata": {},
     "output_type": "display_data"
    },
    {
     "name": "stdout",
     "output_type": "stream",
     "text": [
      "\n"
     ]
    },
    {
     "data": {
      "application/vnd.jupyter.widget-view+json": {
       "model_id": "0ca2731f316a4bdbb2007648803c874c",
       "version_major": 2,
       "version_minor": 0
      },
      "text/plain": [
       "HBox(children=(FloatProgress(value=0.0, max=3.0), HTML(value='')))"
      ]
     },
     "metadata": {},
     "output_type": "display_data"
    },
    {
     "name": "stdout",
     "output_type": "stream",
     "text": [
      "\n",
      "\n"
     ]
    }
   ],
   "source": [
    "for step in tqdm(steps):\n",
    "    all_dict = gen_pics_for_detection(6, model, step=step)\n",
    "    for thr in tqdm(thr_list):\n",
    "        coords = detect_clusters_connected(all_dict, thr, 6)\n",
    "        step_dict[step][thr] = coords\n",
    "        coords.to_csv(\n",
    "            '/home/rt2122/Data/step_comp/ep14_thr{thr}_st{st}.csv'.format(thr=thr,\n",
    "                                                                         st=step))"
   ]
  },
  {
   "cell_type": "code",
   "execution_count": 11,
   "metadata": {
    "ExecuteTime": {
     "end_time": "2020-10-15T06:47:06.331980Z",
     "start_time": "2020-10-15T06:47:06.323406Z"
    }
   },
   "outputs": [],
   "source": [
    "step_stat = {}"
   ]
  },
  {
   "cell_type": "code",
   "execution_count": 12,
   "metadata": {
    "ExecuteTime": {
     "end_time": "2020-10-15T06:47:06.711455Z",
     "start_time": "2020-10-15T06:47:06.636043Z"
    }
   },
   "outputs": [],
   "source": [
    "for step in step_dict:\n",
    "    step_stat[step] = []\n",
    "    for thr in step_dict[step]:\n",
    "        df = {}\n",
    "        for cat in ['planck_z', 'planck_no_z', 'mcxcwp', 'act']:\n",
    "            cur_cat = step_dict[step][thr]\n",
    "            cur_cat = cur_cat[cur_cat['catalog'] == cat]\n",
    "            if len(cur_cat) == 0:\n",
    "                continue\n",
    "            recall = np.count_nonzero(cur_cat['status'] == 'tp') / len(cur_cat)\n",
    "            df[cat] = recall\n",
    "        df['fp'] = np.count_nonzero(step_dict[step][thr]['status'] == 'fp')\n",
    "        df['all'] = len(step_dict[step][thr])\n",
    "        df = pd.DataFrame(df, index=[thr])\n",
    "        step_stat[step].append(df)\n",
    "    step_stat[step] = pd.concat(step_stat[step])"
   ]
  },
  {
   "cell_type": "code",
   "execution_count": 14,
   "metadata": {
    "ExecuteTime": {
     "end_time": "2020-10-15T06:49:14.355383Z",
     "start_time": "2020-10-15T06:49:14.346953Z"
    }
   },
   "outputs": [],
   "source": [
    "for step in step_stat:\n",
    "    step_stat[step]['step'] = step"
   ]
  },
  {
   "cell_type": "code",
   "execution_count": 28,
   "metadata": {
    "ExecuteTime": {
     "end_time": "2020-10-15T06:53:22.113220Z",
     "start_time": "2020-10-15T06:53:22.090483Z"
    }
   },
   "outputs": [],
   "source": [
    "thr_stat = {thr:[] for thr in thr_list}\n",
    "for step in step_stat:\n",
    "    for thr in thr_list:\n",
    "        thr_stat[thr].append(step_stat[step][step_stat[step].index == thr])"
   ]
  },
  {
   "cell_type": "code",
   "execution_count": 27,
   "metadata": {
    "ExecuteTime": {
     "end_time": "2020-10-15T06:53:17.822641Z",
     "start_time": "2020-10-15T06:53:17.812579Z"
    }
   },
   "outputs": [],
   "source": [
    "for step in step_stat:\n",
    "    step_stat[step]['thr'] = step_stat[step].index"
   ]
  },
  {
   "cell_type": "code",
   "execution_count": 29,
   "metadata": {
    "ExecuteTime": {
     "end_time": "2020-10-15T06:53:23.917899Z",
     "start_time": "2020-10-15T06:53:23.896904Z"
    }
   },
   "outputs": [],
   "source": [
    "for thr in thr_stat:\n",
    "    thr_stat[thr] = pd.concat(thr_stat[thr])"
   ]
  },
  {
   "cell_type": "code",
   "execution_count": 30,
   "metadata": {
    "ExecuteTime": {
     "end_time": "2020-10-15T06:53:24.543363Z",
     "start_time": "2020-10-15T06:53:24.527094Z"
    }
   },
   "outputs": [
    {
     "data": {
      "text/html": [
       "<div>\n",
       "<style scoped>\n",
       "    .dataframe tbody tr th:only-of-type {\n",
       "        vertical-align: middle;\n",
       "    }\n",
       "\n",
       "    .dataframe tbody tr th {\n",
       "        vertical-align: top;\n",
       "    }\n",
       "\n",
       "    .dataframe thead th {\n",
       "        text-align: right;\n",
       "    }\n",
       "</style>\n",
       "<table border=\"1\" class=\"dataframe\">\n",
       "  <thead>\n",
       "    <tr style=\"text-align: right;\">\n",
       "      <th></th>\n",
       "      <th>planck_z</th>\n",
       "      <th>planck_no_z</th>\n",
       "      <th>mcxcwp</th>\n",
       "      <th>fp</th>\n",
       "      <th>all</th>\n",
       "      <th>step</th>\n",
       "      <th>thr</th>\n",
       "    </tr>\n",
       "  </thead>\n",
       "  <tbody>\n",
       "    <tr>\n",
       "      <th>0.1</th>\n",
       "      <td>0.875</td>\n",
       "      <td>0.666667</td>\n",
       "      <td>0.04</td>\n",
       "      <td>134</td>\n",
       "      <td>242</td>\n",
       "      <td>64</td>\n",
       "      <td>0.1</td>\n",
       "    </tr>\n",
       "    <tr>\n",
       "      <th>0.1</th>\n",
       "      <td>0.925</td>\n",
       "      <td>0.722222</td>\n",
       "      <td>0.08</td>\n",
       "      <td>136</td>\n",
       "      <td>244</td>\n",
       "      <td>32</td>\n",
       "      <td>0.1</td>\n",
       "    </tr>\n",
       "    <tr>\n",
       "      <th>0.1</th>\n",
       "      <td>0.925</td>\n",
       "      <td>0.833333</td>\n",
       "      <td>0.08</td>\n",
       "      <td>145</td>\n",
       "      <td>253</td>\n",
       "      <td>16</td>\n",
       "      <td>0.1</td>\n",
       "    </tr>\n",
       "    <tr>\n",
       "      <th>0.1</th>\n",
       "      <td>0.950</td>\n",
       "      <td>0.777778</td>\n",
       "      <td>0.10</td>\n",
       "      <td>119</td>\n",
       "      <td>227</td>\n",
       "      <td>8</td>\n",
       "      <td>0.1</td>\n",
       "    </tr>\n",
       "  </tbody>\n",
       "</table>\n",
       "</div>"
      ],
      "text/plain": [
       "     planck_z  planck_no_z  mcxcwp   fp  all  step  thr\n",
       "0.1     0.875     0.666667    0.04  134  242    64  0.1\n",
       "0.1     0.925     0.722222    0.08  136  244    32  0.1\n",
       "0.1     0.925     0.833333    0.08  145  253    16  0.1\n",
       "0.1     0.950     0.777778    0.10  119  227     8  0.1"
      ]
     },
     "execution_count": 30,
     "metadata": {},
     "output_type": "execute_result"
    }
   ],
   "source": [
    "thr_stat[0.1]"
   ]
  },
  {
   "cell_type": "code",
   "execution_count": 31,
   "metadata": {
    "ExecuteTime": {
     "end_time": "2020-10-15T06:53:26.189910Z",
     "start_time": "2020-10-15T06:53:26.166386Z"
    }
   },
   "outputs": [
    {
     "data": {
      "text/html": [
       "<div>\n",
       "<style scoped>\n",
       "    .dataframe tbody tr th:only-of-type {\n",
       "        vertical-align: middle;\n",
       "    }\n",
       "\n",
       "    .dataframe tbody tr th {\n",
       "        vertical-align: top;\n",
       "    }\n",
       "\n",
       "    .dataframe thead th {\n",
       "        text-align: right;\n",
       "    }\n",
       "</style>\n",
       "<table border=\"1\" class=\"dataframe\">\n",
       "  <thead>\n",
       "    <tr style=\"text-align: right;\">\n",
       "      <th></th>\n",
       "      <th>planck_z</th>\n",
       "      <th>planck_no_z</th>\n",
       "      <th>mcxcwp</th>\n",
       "      <th>fp</th>\n",
       "      <th>all</th>\n",
       "      <th>step</th>\n",
       "      <th>thr</th>\n",
       "    </tr>\n",
       "  </thead>\n",
       "  <tbody>\n",
       "    <tr>\n",
       "      <th>0.2</th>\n",
       "      <td>0.825</td>\n",
       "      <td>0.666667</td>\n",
       "      <td>0.04</td>\n",
       "      <td>84</td>\n",
       "      <td>192</td>\n",
       "      <td>64</td>\n",
       "      <td>0.2</td>\n",
       "    </tr>\n",
       "    <tr>\n",
       "      <th>0.2</th>\n",
       "      <td>0.900</td>\n",
       "      <td>0.611111</td>\n",
       "      <td>0.06</td>\n",
       "      <td>74</td>\n",
       "      <td>182</td>\n",
       "      <td>32</td>\n",
       "      <td>0.2</td>\n",
       "    </tr>\n",
       "    <tr>\n",
       "      <th>0.2</th>\n",
       "      <td>0.925</td>\n",
       "      <td>0.666667</td>\n",
       "      <td>0.06</td>\n",
       "      <td>67</td>\n",
       "      <td>175</td>\n",
       "      <td>16</td>\n",
       "      <td>0.2</td>\n",
       "    </tr>\n",
       "    <tr>\n",
       "      <th>0.2</th>\n",
       "      <td>0.925</td>\n",
       "      <td>0.777778</td>\n",
       "      <td>0.08</td>\n",
       "      <td>60</td>\n",
       "      <td>168</td>\n",
       "      <td>8</td>\n",
       "      <td>0.2</td>\n",
       "    </tr>\n",
       "  </tbody>\n",
       "</table>\n",
       "</div>"
      ],
      "text/plain": [
       "     planck_z  planck_no_z  mcxcwp  fp  all  step  thr\n",
       "0.2     0.825     0.666667    0.04  84  192    64  0.2\n",
       "0.2     0.900     0.611111    0.06  74  182    32  0.2\n",
       "0.2     0.925     0.666667    0.06  67  175    16  0.2\n",
       "0.2     0.925     0.777778    0.08  60  168     8  0.2"
      ]
     },
     "execution_count": 31,
     "metadata": {},
     "output_type": "execute_result"
    }
   ],
   "source": [
    "thr_stat[0.2]"
   ]
  },
  {
   "cell_type": "code",
   "execution_count": 32,
   "metadata": {
    "ExecuteTime": {
     "end_time": "2020-10-15T06:53:27.147369Z",
     "start_time": "2020-10-15T06:53:27.128721Z"
    }
   },
   "outputs": [
    {
     "data": {
      "text/html": [
       "<div>\n",
       "<style scoped>\n",
       "    .dataframe tbody tr th:only-of-type {\n",
       "        vertical-align: middle;\n",
       "    }\n",
       "\n",
       "    .dataframe tbody tr th {\n",
       "        vertical-align: top;\n",
       "    }\n",
       "\n",
       "    .dataframe thead th {\n",
       "        text-align: right;\n",
       "    }\n",
       "</style>\n",
       "<table border=\"1\" class=\"dataframe\">\n",
       "  <thead>\n",
       "    <tr style=\"text-align: right;\">\n",
       "      <th></th>\n",
       "      <th>planck_z</th>\n",
       "      <th>planck_no_z</th>\n",
       "      <th>mcxcwp</th>\n",
       "      <th>fp</th>\n",
       "      <th>all</th>\n",
       "      <th>step</th>\n",
       "      <th>thr</th>\n",
       "    </tr>\n",
       "  </thead>\n",
       "  <tbody>\n",
       "    <tr>\n",
       "      <th>0.9</th>\n",
       "      <td>0.500</td>\n",
       "      <td>0.055556</td>\n",
       "      <td>0.0</td>\n",
       "      <td>5</td>\n",
       "      <td>113</td>\n",
       "      <td>64</td>\n",
       "      <td>0.9</td>\n",
       "    </tr>\n",
       "    <tr>\n",
       "      <th>0.9</th>\n",
       "      <td>0.500</td>\n",
       "      <td>0.055556</td>\n",
       "      <td>0.0</td>\n",
       "      <td>2</td>\n",
       "      <td>110</td>\n",
       "      <td>32</td>\n",
       "      <td>0.9</td>\n",
       "    </tr>\n",
       "    <tr>\n",
       "      <th>0.9</th>\n",
       "      <td>0.425</td>\n",
       "      <td>0.055556</td>\n",
       "      <td>0.0</td>\n",
       "      <td>1</td>\n",
       "      <td>109</td>\n",
       "      <td>16</td>\n",
       "      <td>0.9</td>\n",
       "    </tr>\n",
       "    <tr>\n",
       "      <th>0.9</th>\n",
       "      <td>0.450</td>\n",
       "      <td>0.000000</td>\n",
       "      <td>0.0</td>\n",
       "      <td>1</td>\n",
       "      <td>109</td>\n",
       "      <td>8</td>\n",
       "      <td>0.9</td>\n",
       "    </tr>\n",
       "  </tbody>\n",
       "</table>\n",
       "</div>"
      ],
      "text/plain": [
       "     planck_z  planck_no_z  mcxcwp  fp  all  step  thr\n",
       "0.9     0.500     0.055556     0.0   5  113    64  0.9\n",
       "0.9     0.500     0.055556     0.0   2  110    32  0.9\n",
       "0.9     0.425     0.055556     0.0   1  109    16  0.9\n",
       "0.9     0.450     0.000000     0.0   1  109     8  0.9"
      ]
     },
     "execution_count": 32,
     "metadata": {},
     "output_type": "execute_result"
    }
   ],
   "source": [
    "thr_stat[0.9]"
   ]
  },
  {
   "cell_type": "code",
   "execution_count": 33,
   "metadata": {
    "ExecuteTime": {
     "end_time": "2020-10-15T07:12:01.037265Z",
     "start_time": "2020-10-15T07:12:01.026767Z"
    }
   },
   "outputs": [
    {
     "data": {
      "text/plain": [
       "[4, 2]"
      ]
     },
     "execution_count": 33,
     "metadata": {},
     "output_type": "execute_result"
    }
   ],
   "source": [
    "steps = [2 ** i for i in range(2, 0, -1)]\n",
    "steps"
   ]
  },
  {
   "cell_type": "code",
   "execution_count": 34,
   "metadata": {
    "ExecuteTime": {
     "end_time": "2020-10-15T07:12:15.059006Z",
     "start_time": "2020-10-15T07:12:15.049338Z"
    }
   },
   "outputs": [
    {
     "data": {
      "text/plain": [
       "{4: {}, 2: {}}"
      ]
     },
     "execution_count": 34,
     "metadata": {},
     "output_type": "execute_result"
    }
   ],
   "source": [
    "step_dict = {step : {} for step in steps}\n",
    "step_dict"
   ]
  },
  {
   "cell_type": "code",
   "execution_count": null,
   "metadata": {
    "ExecuteTime": {
     "start_time": "2020-10-15T07:13:18.478Z"
    }
   },
   "outputs": [
    {
     "data": {
      "application/vnd.jupyter.widget-view+json": {
       "model_id": "a070b06b4e904dcfa838d75772079a3a",
       "version_major": 2,
       "version_minor": 0
      },
      "text/plain": [
       "HBox(children=(FloatProgress(value=0.0, max=2.0), HTML(value='')))"
      ]
     },
     "metadata": {},
     "output_type": "display_data"
    }
   ],
   "source": [
    "for step in tqdm(steps):\n",
    "    all_dict = gen_pics_for_detection(6, model, step=step)\n",
    "    for thr in tqdm(thr_list):\n",
    "        coords = detect_clusters_connected(all_dict, thr, 6)\n",
    "        step_dict[step][thr] = coords\n",
    "        coords.to_csv(\n",
    "            '/home/rt2122/Data/step_comp/ep14_thr{thr}_st{st}.csv'.format(thr=thr,\n",
    "                                                                         st=step))"
   ]
  },
  {
   "cell_type": "code",
   "execution_count": null,
   "metadata": {},
   "outputs": [],
   "source": []
  }
 ],
 "metadata": {
  "kernelspec": {
   "display_name": "Python 3",
   "language": "python",
   "name": "python3"
  },
  "language_info": {
   "codemirror_mode": {
    "name": "ipython",
    "version": 3
   },
   "file_extension": ".py",
   "mimetype": "text/x-python",
   "name": "python",
   "nbconvert_exporter": "python",
   "pygments_lexer": "ipython3",
   "version": "3.8.3"
  }
 },
 "nbformat": 4,
 "nbformat_minor": 4
}
