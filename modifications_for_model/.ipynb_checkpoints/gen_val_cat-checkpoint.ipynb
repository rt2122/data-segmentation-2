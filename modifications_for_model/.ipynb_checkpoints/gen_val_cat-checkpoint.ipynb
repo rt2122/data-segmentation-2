{
 "cells": [
  {
   "cell_type": "code",
   "execution_count": 1,
   "metadata": {
    "ExecuteTime": {
     "end_time": "2021-05-21T12:32:51.807626Z",
     "start_time": "2021-05-21T12:32:51.587872Z"
    }
   },
   "outputs": [],
   "source": [
    "import numpy as np\n",
    "import pandas as pd\n",
    "import os\n",
    "from DS_detector import gen_catalog\n",
    "from DS_Planck_Unet import val_pix, train_pix_act, train_pix, test_pix, east_val, west_val\n",
    "from DS_data_transformation import mark_cat, get_prm"
   ]
  },
  {
   "cell_type": "code",
   "execution_count": 9,
   "metadata": {
    "ExecuteTime": {
     "end_time": "2021-05-21T12:46:16.887334Z",
     "start_time": "2021-05-21T12:46:16.879310Z"
    }
   },
   "outputs": [],
   "source": [
    "model_dir = '/home/rt2122/Models/all_found4/'\n",
    "names = next(os.walk(model_dir))[-1]"
   ]
  },
  {
   "cell_type": "code",
   "execution_count": 11,
   "metadata": {
    "ExecuteTime": {
     "end_time": "2021-05-21T12:46:18.929080Z",
     "start_time": "2021-05-21T12:46:18.919863Z"
    }
   },
   "outputs": [],
   "source": [
    "models = {\n",
    "          'pz_all_found4_ep{}'.format(get_prm('ep', name)) : os.path.join(model_dir, name) for name in names if 'ep' in name\n",
    "         }"
   ]
  },
  {
   "cell_type": "code",
   "execution_count": 3,
   "metadata": {
    "ExecuteTime": {
     "end_time": "2021-04-05T19:00:33.271566Z",
     "start_time": "2021-04-05T18:48:49.260055Z"
    }
   },
   "outputs": [
    {
     "data": {
      "application/vnd.jupyter.widget-view+json": {
       "model_id": "add65dd2f80f4690beab60b2932aaaf3",
       "version_major": 2,
       "version_minor": 0
      },
      "text/plain": [
       "HBox(children=(FloatProgress(value=0.0, max=1.0), HTML(value='')))"
      ]
     },
     "metadata": {},
     "output_type": "display_data"
    },
    {
     "data": {
      "application/vnd.jupyter.widget-view+json": {
       "model_id": "2b8eb0eb4e0b471fb4d37e876120ea8a",
       "version_major": 2,
       "version_minor": 0
      },
      "text/plain": [
       "HBox(children=(FloatProgress(value=0.0, max=4.0), HTML(value='')))"
      ]
     },
     "metadata": {},
     "output_type": "display_data"
    },
    {
     "name": "stderr",
     "output_type": "stream",
     "text": [
      "/home/rt2122/anaconda3/lib/python3.8/site-packages/pandas/core/indexing.py:671: SettingWithCopyWarning: \n",
      "A value is trying to be set on a copy of a slice from a DataFrame\n",
      "\n",
      "See the caveats in the documentation: https://pandas.pydata.org/pandas-docs/stable/user_guide/indexing.html#returning-a-view-versus-a-copy\n",
      "  self._setitem_with_indexer(indexer, value)\n"
     ]
    },
    {
     "name": "stdout",
     "output_type": "stream",
     "text": [
      "\n",
      "\n"
     ]
    }
   ],
   "source": [
    "gen_catalog(models, west_val, '/home/rt2122/Data/detected_cats/all_found4/west_val_{model}_thr{thr}_step{step}.csv')"
   ]
  },
  {
   "cell_type": "code",
   "execution_count": 3,
   "metadata": {
    "ExecuteTime": {
     "end_time": "2021-02-18T00:59:57.188993Z",
     "start_time": "2021-02-17T23:00:16.395486Z"
    }
   },
   "outputs": [
    {
     "data": {
      "application/vnd.jupyter.widget-view+json": {
       "model_id": "be19a18022ef4bcfb31ba048253943fe",
       "version_major": 2,
       "version_minor": 0
      },
      "text/plain": [
       "HBox(children=(FloatProgress(value=0.0, max=1.0), HTML(value='')))"
      ]
     },
     "metadata": {},
     "output_type": "display_data"
    },
    {
     "data": {
      "application/vnd.jupyter.widget-view+json": {
       "model_id": "025654643e4b480d96e793dbff90de69",
       "version_major": 2,
       "version_minor": 0
      },
      "text/plain": [
       "HBox(children=(FloatProgress(value=0.0, max=45.0), HTML(value='')))"
      ]
     },
     "metadata": {},
     "output_type": "display_data"
    },
    {
     "name": "stderr",
     "output_type": "stream",
     "text": [
      "/home/rt2122/anaconda3/lib/python3.8/site-packages/pandas/core/indexing.py:671: SettingWithCopyWarning: \n",
      "A value is trying to be set on a copy of a slice from a DataFrame\n",
      "\n",
      "See the caveats in the documentation: https://pandas.pydata.org/pandas-docs/stable/user_guide/indexing.html#returning-a-view-versus-a-copy\n",
      "  self._setitem_with_indexer(indexer, value)\n"
     ]
    },
    {
     "name": "stdout",
     "output_type": "stream",
     "text": [
      "\n",
      "\n"
     ]
    }
   ],
   "source": [
    "gen_catalog(models, list(range(48)), '/home/rt2122/Data/detected_cats/full_{model}_thr{thr}_step{step}.csv', \n",
    "           val_cats={'pz_all_found34' : \n",
    "                     '/home/rt2122/Data/detected_cats/val_pz_all_found34_thr0.1_step8.csv'})"
   ]
  },
  {
   "cell_type": "code",
   "execution_count": 4,
   "metadata": {
    "ExecuteTime": {
     "end_time": "2021-02-18T05:39:53.749283Z",
     "start_time": "2021-02-18T05:39:53.058921Z"
    }
   },
   "outputs": [
    {
     "name": "stderr",
     "output_type": "stream",
     "text": [
      "/home/rt2122/anaconda3/lib/python3.8/site-packages/pandas/core/indexing.py:671: SettingWithCopyWarning: \n",
      "A value is trying to be set on a copy of a slice from a DataFrame\n",
      "\n",
      "See the caveats in the documentation: https://pandas.pydata.org/pandas-docs/stable/user_guide/indexing.html#returning-a-view-versus-a-copy\n",
      "  self._setitem_with_indexer(indexer, value)\n"
     ]
    }
   ],
   "source": [
    "df = pd.read_csv('/home/rt2122/Data/detected_cats/full_pz_all_found34_thr0.1_step8.csv')\n",
    "df = df[df['status'] != 'fn']\n",
    "df.index = np.arange(len(df)) \n",
    "df = mark_cat(df, {'train_pix' : train_pix, 'val_pix' : val_pix, 'test_pix' : test_pix})\n",
    "df.to_csv('/home/rt2122/Data/detected_cats/full_pz_all_found34_thr0.1_step8.csv', index=False)"
   ]
  },
  {
   "cell_type": "code",
   "execution_count": 11,
   "metadata": {
    "ExecuteTime": {
     "end_time": "2021-01-28T19:21:15.857389Z",
     "start_time": "2021-01-28T19:21:15.476266Z"
    }
   },
   "outputs": [
    {
     "name": "stderr",
     "output_type": "stream",
     "text": [
      "/home/rt2122/anaconda3/lib/python3.8/site-packages/pandas/core/indexing.py:671: SettingWithCopyWarning: \n",
      "A value is trying to be set on a copy of a slice from a DataFrame\n",
      "\n",
      "See the caveats in the documentation: https://pandas.pydata.org/pandas-docs/stable/user_guide/indexing.html#returning-a-view-versus-a-copy\n",
      "  self._setitem_with_indexer(indexer, value)\n"
     ]
    }
   ],
   "source": [
    "df = pd.read_csv('/home/rt2122/Data/detected_cats/full_pz_act_rot_drop0.1_ep9_thr0.1_step8.csv')\n",
    "df = df[df['status'] != 'fn']\n",
    "df.index = np.arange(len(df)) \n",
    "df = mark_cat(df, {'train_pix_act' : train_pix_act, 'val_pix' : val_pix, 'test_pix' : test_pix})\n",
    "df.to_csv('/home/rt2122/Data/detected_cats/full_pz_act_rot_drop0.1_ep9_thr0.1_step8_no_fn.csv', index=False)"
   ]
  },
  {
   "cell_type": "code",
   "execution_count": 15,
   "metadata": {
    "ExecuteTime": {
     "end_time": "2021-01-28T19:22:01.470774Z",
     "start_time": "2021-01-28T19:22:01.433521Z"
    }
   },
   "outputs": [
    {
     "data": {
      "text/plain": [
       "14224"
      ]
     },
     "execution_count": 15,
     "metadata": {},
     "output_type": "execute_result"
    }
   ],
   "source": [
    "df = pd.read_csv('/home/rt2122/Data/detected_cats/full_pz_act_rot_drop0.1_ep9_thr0.1_step8_no_fn.csv')\n",
    "len(df)"
   ]
  },
  {
   "cell_type": "code",
   "execution_count": 3,
   "metadata": {
    "ExecuteTime": {
     "end_time": "2021-03-03T16:55:12.620840Z",
     "start_time": "2021-03-03T16:55:12.597611Z"
    }
   },
   "outputs": [],
   "source": [
    "file_list = next(os.walk('/home/rt2122/Models/all_found4/'))[-1]\n",
    "file_list = [name for name in file_list if 'hdf5' in name]\n",
    "dir_name = '/home/rt2122/Models/all_found4/'"
   ]
  },
  {
   "cell_type": "code",
   "execution_count": 4,
   "metadata": {
    "ExecuteTime": {
     "end_time": "2021-03-03T16:55:12.871962Z",
     "start_time": "2021-03-03T16:55:12.866590Z"
    }
   },
   "outputs": [],
   "source": [
    "models = {'all_found4_ep{}'.format(int(get_prm('ep', name))) : os.path.join(dir_name, name) for name in file_list \n",
    "          if int(get_prm('ep', name)) % 2 == 0}"
   ]
  },
  {
   "cell_type": "code",
   "execution_count": 5,
   "metadata": {
    "ExecuteTime": {
     "end_time": "2021-03-03T16:55:13.230652Z",
     "start_time": "2021-03-03T16:55:13.210207Z"
    }
   },
   "outputs": [
    {
     "data": {
      "text/plain": [
       "{'all_found4_ep50': '/home/rt2122/Models/all_found4/all_found4.ep0050-vl0.009661-l0.007831.hdf5',\n",
       " 'all_found4_ep48': '/home/rt2122/Models/all_found4/all_found4.ep0048-vl0.009770-l0.007913.hdf5',\n",
       " 'all_found4_ep6': '/home/rt2122/Models/all_found4/all_found4.ep0006-vl0.010593-l0.011442.hdf5',\n",
       " 'all_found4_ep44': '/home/rt2122/Models/all_found4/all_found4.ep0044-vl0.009873-l0.008065.hdf5',\n",
       " 'all_found4_ep14': '/home/rt2122/Models/all_found4/all_found4.ep0014-vl0.009541-l0.009971.hdf5',\n",
       " 'all_found4_ep30': '/home/rt2122/Models/all_found4/all_found4.ep0030-vl0.009503-l0.008755.hdf5',\n",
       " 'all_found4_ep26': '/home/rt2122/Models/all_found4/all_found4.ep0026-vl0.009254-l0.008999.hdf5',\n",
       " 'all_found4_ep24': '/home/rt2122/Models/all_found4/all_found4.ep0024-vl0.009222-l0.009107.hdf5',\n",
       " 'all_found4_ep46': '/home/rt2122/Models/all_found4/all_found4.ep0046-vl0.009599-l0.007993.hdf5',\n",
       " 'all_found4_ep42': '/home/rt2122/Models/all_found4/all_found4.ep0042-vl0.009455-l0.008167.hdf5',\n",
       " 'all_found4_ep20': '/home/rt2122/Models/all_found4/all_found4.ep0020-vl0.009465-l0.009443.hdf5',\n",
       " 'all_found4_ep2': '/home/rt2122/Models/all_found4/all_found4.ep0002-vl0.014616-l0.017256.hdf5',\n",
       " 'all_found4_ep32': '/home/rt2122/Models/all_found4/all_found4.ep0032-vl0.009428-l0.008641.hdf5',\n",
       " 'all_found4_ep28': '/home/rt2122/Models/all_found4/all_found4.ep0028-vl0.009352-l0.008890.hdf5',\n",
       " 'all_found4_ep8': '/home/rt2122/Models/all_found4/all_found4.ep0008-vl0.010256-l0.010831.hdf5',\n",
       " 'all_found4_ep18': '/home/rt2122/Models/all_found4/all_found4.ep0018-vl0.009336-l0.009599.hdf5',\n",
       " 'all_found4_ep38': '/home/rt2122/Models/all_found4/all_found4.ep0038-vl0.009461-l0.008333.hdf5',\n",
       " 'all_found4_ep10': '/home/rt2122/Models/all_found4/all_found4.ep0010-vl0.009816-l0.010465.hdf5',\n",
       " 'all_found4_ep16': '/home/rt2122/Models/all_found4/all_found4.ep0016-vl0.009523-l0.009760.hdf5',\n",
       " 'all_found4_ep4': '/home/rt2122/Models/all_found4/all_found4.ep0004-vl0.011703-l0.012608.hdf5',\n",
       " 'all_found4_ep36': '/home/rt2122/Models/all_found4/all_found4.ep0036-vl0.009484-l0.008406.hdf5',\n",
       " 'all_found4_ep34': '/home/rt2122/Models/all_found4/all_found4.ep0034-vl0.009424-l0.008492.hdf5',\n",
       " 'all_found4_ep22': '/home/rt2122/Models/all_found4/all_found4.ep0022-vl0.009323-l0.009286.hdf5',\n",
       " 'all_found4_ep12': '/home/rt2122/Models/all_found4/all_found4.ep0012-vl0.009657-l0.010235.hdf5',\n",
       " 'all_found4_ep40': '/home/rt2122/Models/all_found4/all_found4.ep0040-vl0.009784-l0.008238.hdf5'}"
      ]
     },
     "execution_count": 5,
     "metadata": {},
     "output_type": "execute_result"
    }
   ],
   "source": [
    "models"
   ]
  },
  {
   "cell_type": "code",
   "execution_count": null,
   "metadata": {},
   "outputs": [],
   "source": [
    "get_prm()"
   ]
  }
 ],
 "metadata": {
  "kernelspec": {
   "display_name": "Python 3",
   "language": "python",
   "name": "python3"
  },
  "language_info": {
   "codemirror_mode": {
    "name": "ipython",
    "version": 3
   },
   "file_extension": ".py",
   "mimetype": "text/x-python",
   "name": "python",
   "nbconvert_exporter": "python",
   "pygments_lexer": "ipython3",
   "version": "3.8.3"
  }
 },
 "nbformat": 4,
 "nbformat_minor": 4
}
