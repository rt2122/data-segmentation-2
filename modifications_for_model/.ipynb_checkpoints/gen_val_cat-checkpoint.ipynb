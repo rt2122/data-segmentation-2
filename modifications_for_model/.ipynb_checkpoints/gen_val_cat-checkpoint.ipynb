{
 "cells": [
  {
   "cell_type": "code",
   "execution_count": 3,
   "metadata": {
    "ExecuteTime": {
     "end_time": "2021-02-01T14:38:17.342521Z",
     "start_time": "2021-02-01T14:38:11.206160Z"
    }
   },
   "outputs": [],
   "source": [
    "import numpy as np\n",
    "import pandas as pd\n",
    "from DS_detector import gen_catalog\n",
    "from DS_Planck_Unet import val_pix, train_pix_act, train_pix, test_pix\n",
    "from DS_data_transformation import mark_cat"
   ]
  },
  {
   "cell_type": "code",
   "execution_count": 1,
   "metadata": {
    "ExecuteTime": {
     "end_time": "2021-02-01T14:38:02.476014Z",
     "start_time": "2021-02-01T14:38:02.471897Z"
    }
   },
   "outputs": [],
   "source": [
    "models = {'pz_act_feb_rot_drop0.1_ep5' : \n",
    "          '/home/rt2122/Models/act_feb/act_feb.ep0005-vl0.021825-l0.014817.hdf5'}"
   ]
  },
  {
   "cell_type": "code",
   "execution_count": 3,
   "metadata": {
    "ExecuteTime": {
     "end_time": "2021-01-24T11:39:54.636315Z",
     "start_time": "2021-01-24T11:32:29.549567Z"
    }
   },
   "outputs": [
    {
     "data": {
      "application/vnd.jupyter.widget-view+json": {
       "model_id": "76d4e3d77f184c2787480bb071c46591",
       "version_major": 2,
       "version_minor": 0
      },
      "text/plain": [
       "HBox(children=(FloatProgress(value=0.0, max=1.0), HTML(value='')))"
      ]
     },
     "metadata": {},
     "output_type": "display_data"
    },
    {
     "name": "stderr",
     "output_type": "stream",
     "text": [
      "/home/rt2122/anaconda3/lib/python3.8/site-packages/pandas/core/indexing.py:671: SettingWithCopyWarning: \n",
      "A value is trying to be set on a copy of a slice from a DataFrame\n",
      "\n",
      "See the caveats in the documentation: https://pandas.pydata.org/pandas-docs/stable/user_guide/indexing.html#returning-a-view-versus-a-copy\n",
      "  self._setitem_with_indexer(indexer, value)\n"
     ]
    },
    {
     "name": "stdout",
     "output_type": "stream",
     "text": [
      "\n"
     ]
    }
   ],
   "source": [
    "gen_catalog(models, val_pix, '/home/rt2122/Data/detected_cats/val_{model}_thr{thr}_step{step}.csv')"
   ]
  },
  {
   "cell_type": "code",
   "execution_count": 4,
   "metadata": {
    "ExecuteTime": {
     "end_time": "2021-02-01T17:12:24.799867Z",
     "start_time": "2021-02-01T14:38:17.346814Z"
    }
   },
   "outputs": [
    {
     "data": {
      "application/vnd.jupyter.widget-view+json": {
       "model_id": "7f8b1b6e341c4099b0c26b9601ed6b18",
       "version_major": 2,
       "version_minor": 0
      },
      "text/plain": [
       "HBox(children=(FloatProgress(value=0.0, max=1.0), HTML(value='')))"
      ]
     },
     "metadata": {},
     "output_type": "display_data"
    },
    {
     "data": {
      "application/vnd.jupyter.widget-view+json": {
       "model_id": "b71ac7f9880a44869f8122900d21407f",
       "version_major": 2,
       "version_minor": 0
      },
      "text/plain": [
       "HBox(children=(FloatProgress(value=0.0, max=48.0), HTML(value='')))"
      ]
     },
     "metadata": {},
     "output_type": "display_data"
    },
    {
     "name": "stderr",
     "output_type": "stream",
     "text": [
      "/home/rt2122/anaconda3/lib/python3.8/site-packages/pandas/core/indexing.py:671: SettingWithCopyWarning: \n",
      "A value is trying to be set on a copy of a slice from a DataFrame\n",
      "\n",
      "See the caveats in the documentation: https://pandas.pydata.org/pandas-docs/stable/user_guide/indexing.html#returning-a-view-versus-a-copy\n",
      "  self._setitem_with_indexer(indexer, value)\n"
     ]
    },
    {
     "name": "stdout",
     "output_type": "stream",
     "text": [
      "\n",
      "\n"
     ]
    }
   ],
   "source": [
    "gen_catalog(models, list(range(48)), '/home/rt2122/Data/detected_cats/full_{model}_thr{thr}_step{step}.csv')"
   ]
  },
  {
   "cell_type": "code",
   "execution_count": 5,
   "metadata": {
    "ExecuteTime": {
     "end_time": "2021-02-01T17:13:30.992609Z",
     "start_time": "2021-02-01T17:13:30.426781Z"
    }
   },
   "outputs": [
    {
     "name": "stderr",
     "output_type": "stream",
     "text": [
      "/home/rt2122/anaconda3/lib/python3.8/site-packages/pandas/core/indexing.py:671: SettingWithCopyWarning: \n",
      "A value is trying to be set on a copy of a slice from a DataFrame\n",
      "\n",
      "See the caveats in the documentation: https://pandas.pydata.org/pandas-docs/stable/user_guide/indexing.html#returning-a-view-versus-a-copy\n",
      "  self._setitem_with_indexer(indexer, value)\n"
     ]
    }
   ],
   "source": [
    "df = pd.read_csv('/home/rt2122/Data/detected_cats/full_pz_act_feb_rot_drop0.1_ep5_thr0.1_step8.csv')\n",
    "df = df[df['status'] != 'fn']\n",
    "df.index = np.arange(len(df)) \n",
    "df = mark_cat(df, {'train_pix' : train_pix, 'val_pix' : val_pix, 'test_pix' : test_pix})\n",
    "df.to_csv('/home/rt2122/Data/detected_cats/full_pz_act_feb_rot_drop0.1_ep5_thr0.1_step8_no_fn.csv', index=False)"
   ]
  },
  {
   "cell_type": "code",
   "execution_count": 11,
   "metadata": {
    "ExecuteTime": {
     "end_time": "2021-01-28T19:21:15.857389Z",
     "start_time": "2021-01-28T19:21:15.476266Z"
    }
   },
   "outputs": [
    {
     "name": "stderr",
     "output_type": "stream",
     "text": [
      "/home/rt2122/anaconda3/lib/python3.8/site-packages/pandas/core/indexing.py:671: SettingWithCopyWarning: \n",
      "A value is trying to be set on a copy of a slice from a DataFrame\n",
      "\n",
      "See the caveats in the documentation: https://pandas.pydata.org/pandas-docs/stable/user_guide/indexing.html#returning-a-view-versus-a-copy\n",
      "  self._setitem_with_indexer(indexer, value)\n"
     ]
    }
   ],
   "source": [
    "df = pd.read_csv('/home/rt2122/Data/detected_cats/full_pz_act_rot_drop0.1_ep9_thr0.1_step8.csv')\n",
    "df = df[df['status'] != 'fn']\n",
    "df.index = np.arange(len(df)) \n",
    "df = mark_cat(df, {'train_pix_act' : train_pix_act, 'val_pix' : val_pix, 'test_pix' : test_pix})\n",
    "df.to_csv('/home/rt2122/Data/detected_cats/full_pz_act_rot_drop0.1_ep9_thr0.1_step8_no_fn.csv', index=False)"
   ]
  },
  {
   "cell_type": "code",
   "execution_count": 15,
   "metadata": {
    "ExecuteTime": {
     "end_time": "2021-01-28T19:22:01.470774Z",
     "start_time": "2021-01-28T19:22:01.433521Z"
    }
   },
   "outputs": [
    {
     "data": {
      "text/plain": [
       "14224"
      ]
     },
     "execution_count": 15,
     "metadata": {},
     "output_type": "execute_result"
    }
   ],
   "source": [
    "df = pd.read_csv('/home/rt2122/Data/detected_cats/full_pz_act_rot_drop0.1_ep9_thr0.1_step8_no_fn.csv')\n",
    "len(df)"
   ]
  },
  {
   "cell_type": "code",
   "execution_count": null,
   "metadata": {},
   "outputs": [],
   "source": []
  }
 ],
 "metadata": {
  "kernelspec": {
   "display_name": "Python 3",
   "language": "python",
   "name": "python3"
  },
  "language_info": {
   "codemirror_mode": {
    "name": "ipython",
    "version": 3
   },
   "file_extension": ".py",
   "mimetype": "text/x-python",
   "name": "python",
   "nbconvert_exporter": "python",
   "pygments_lexer": "ipython3",
   "version": "3.8.3"
  }
 },
 "nbformat": 4,
 "nbformat_minor": 4
}
