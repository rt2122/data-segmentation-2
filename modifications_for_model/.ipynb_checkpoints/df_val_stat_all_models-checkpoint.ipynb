{
 "cells": [
  {
   "cell_type": "code",
   "execution_count": 1,
   "metadata": {
    "ExecuteTime": {
     "end_time": "2021-01-30T12:09:49.499564Z",
     "start_time": "2021-01-30T12:09:49.236526Z"
    }
   },
   "outputs": [],
   "source": [
    "import pandas as pd\n",
    "import numpy as np\n",
    "from DS_Planck_Unet import val_pix\n",
    "from DS_models_stat import stat_orig_cats, stat_split_cats"
   ]
  },
  {
   "cell_type": "code",
   "execution_count": 2,
   "metadata": {
    "ExecuteTime": {
     "end_time": "2021-01-30T12:09:49.704026Z",
     "start_time": "2021-01-30T12:09:49.694705Z"
    }
   },
   "outputs": [],
   "source": [
    "files = {'pz14' : '/home/rt2122/Data/detected_cats/full_pz14_thr0.1_step8.csv', \n",
    "        'pz40' : '/home/rt2122/Data/detected_cats/full_pz40_thr0.1_step8.csv',\n",
    "        'pz_act10' : '/home/rt2122/Data/detected_cats/full_pz_act10_thr0.1_step8.csv',\n",
    "        'pz_act14' : '/home/rt2122/Data/detected_cats/full_pz_act20_thr0.1_step8.csv',\n",
    "        'pz_act_rot27' : '/home/rt2122/Data/detected_cats/act_ros_rot/val_pz_act_rot_ep27_thr0.1_step8.csv',\n",
    "        'pz_act_drop0.3_ep14' : \n",
    "             '/home/rt2122/Data/detected_cats/act_ros_drop0.3/pz_act_drop0.3_ep14_thr0.1_step8.csv',\n",
    "        'pz_act_drop0.3_ep18' : \n",
    "             '/home/rt2122/Data/detected_cats/act_ros_drop0.3/pz_act_drop0.3_ep18_thr0.1_step8.csv',\n",
    "        'pz_act_drop0.4_ep14' : \n",
    "             '/home/rt2122/Data/detected_cats/act_ros_drop0.4/pz_act_drop0.4_ep14_thr0.1_step8.csv',\n",
    "        'pz_act_drop0.4_ep25' : \n",
    "             '/home/rt2122/Data/detected_cats/act_ros_drop0.4/pz_act_drop0.4_ep25_thr0.1_step8.csv',\n",
    "        'pz_act_norm2' : '/home/rt2122/Data/detected_cats/act_ros_norm/pz_act_norm2_thr0.1_step8.csv',\n",
    "        'pz_act_rot_drop0.1_ep9' : \n",
    "         '/home/rt2122/Data/detected_cats/act_ros_rot_drop0.1/pz_act_rot_drop0.1_ep9_thr0.1_step8.csv', \n",
    "        'pz_act_tr9' : \n",
    "        '/home/rt2122/Data/detected_cats/full_pz_act_tr9_thr0.1_step8.csv'}"
   ]
  },
  {
   "cell_type": "code",
   "execution_count": 3,
   "metadata": {
    "ExecuteTime": {
     "end_time": "2021-01-24T11:41:25.401024Z",
     "start_time": "2021-01-24T11:41:23.510527Z"
    }
   },
   "outputs": [
    {
     "name": "stderr",
     "output_type": "stream",
     "text": [
      "<ipython-input-3-45f549c6dac2>:3: SettingWithCopyWarning: \n",
      "A value is trying to be set on a copy of a slice from a DataFrame\n",
      "\n",
      "See the caveats in the documentation: https://pandas.pydata.org/pandas-docs/stable/user_guide/indexing.html#returning-a-view-versus-a-copy\n",
      "  df['catalog'][df['catalog'] == 'act_erosita'] = 'actwp'\n",
      "<ipython-input-3-45f549c6dac2>:4: SettingWithCopyWarning: \n",
      "A value is trying to be set on a copy of a slice from a DataFrame\n",
      "\n",
      "See the caveats in the documentation: https://pandas.pydata.org/pandas-docs/stable/user_guide/indexing.html#returning-a-view-versus-a-copy\n",
      "  df['catalog'][df['catalog'] == 'act'] = 'actwp'\n"
     ]
    }
   ],
   "source": [
    "for model in files:\n",
    "    df = pd.read_csv(files[model])\n",
    "    df['catalog'][df['catalog'] == 'act_erosita'] = 'actwp'\n",
    "    df['catalog'][df['catalog'] == 'act'] = 'actwp'\n",
    "    df.to_csv(files[model], index=False)"
   ]
  },
  {
   "cell_type": "code",
   "execution_count": 3,
   "metadata": {
    "ExecuteTime": {
     "end_time": "2021-01-30T12:10:02.437652Z",
     "start_time": "2021-01-30T12:09:57.781731Z"
    }
   },
   "outputs": [
    {
     "ename": "ZeroDivisionError",
     "evalue": "division by zero",
     "output_type": "error",
     "traceback": [
      "\u001b[0;31m---------------------------------------------------------------------------\u001b[0m",
      "\u001b[0;31mZeroDivisionError\u001b[0m                         Traceback (most recent call last)",
      "\u001b[0;32m<ipython-input-3-9c2aebd2e0fa>\u001b[0m in \u001b[0;36m<module>\u001b[0;34m\u001b[0m\n\u001b[0;32m----> 1\u001b[0;31m \u001b[0mres_df\u001b[0m \u001b[0;34m=\u001b[0m \u001b[0mstat_split_cats\u001b[0m\u001b[0;34m(\u001b[0m\u001b[0mfiles\u001b[0m\u001b[0;34m,\u001b[0m \u001b[0mval_pix\u001b[0m\u001b[0;34m)\u001b[0m\u001b[0;34m\u001b[0m\u001b[0;34m\u001b[0m\u001b[0m\n\u001b[0m\u001b[1;32m      2\u001b[0m \u001b[0mres_df\u001b[0m\u001b[0;34m\u001b[0m\u001b[0;34m\u001b[0m\u001b[0m\n",
      "\u001b[0;32m~/L/git/data-segmentation-2/modules/DS_models_stat.py\u001b[0m in \u001b[0;36mstat_split_cats\u001b[0;34m(files, big_pix)\u001b[0m\n\u001b[1;32m     13\u001b[0m             \u001b[0mcur_df\u001b[0m \u001b[0;34m=\u001b[0m \u001b[0mdf\u001b[0m\u001b[0;34m[\u001b[0m\u001b[0mdf\u001b[0m\u001b[0;34m[\u001b[0m\u001b[0;34m'catalog'\u001b[0m\u001b[0;34m]\u001b[0m \u001b[0;34m==\u001b[0m \u001b[0mcat\u001b[0m\u001b[0;34m]\u001b[0m\u001b[0;34m\u001b[0m\u001b[0;34m\u001b[0m\u001b[0m\n\u001b[1;32m     14\u001b[0m             \u001b[0mcur_df\u001b[0m\u001b[0;34m.\u001b[0m\u001b[0mindex\u001b[0m \u001b[0;34m=\u001b[0m \u001b[0mnp\u001b[0m\u001b[0;34m.\u001b[0m\u001b[0marange\u001b[0m\u001b[0;34m(\u001b[0m\u001b[0mlen\u001b[0m\u001b[0;34m(\u001b[0m\u001b[0mcur_df\u001b[0m\u001b[0;34m)\u001b[0m\u001b[0;34m)\u001b[0m\u001b[0;34m\u001b[0m\u001b[0;34m\u001b[0m\u001b[0m\n\u001b[0;32m---> 15\u001b[0;31m             \u001b[0mline\u001b[0m\u001b[0;34m[\u001b[0m\u001b[0mcat\u001b[0m\u001b[0;34m]\u001b[0m \u001b[0;34m=\u001b[0m \u001b[0mnp\u001b[0m\u001b[0;34m.\u001b[0m\u001b[0mcount_nonzero\u001b[0m\u001b[0;34m(\u001b[0m\u001b[0mcur_df\u001b[0m\u001b[0;34m[\u001b[0m\u001b[0;34m'status'\u001b[0m\u001b[0;34m]\u001b[0m \u001b[0;34m==\u001b[0m \u001b[0;34m'tp'\u001b[0m\u001b[0;34m)\u001b[0m \u001b[0;34m/\u001b[0m \u001b[0mlen\u001b[0m\u001b[0;34m(\u001b[0m\u001b[0mcur_df\u001b[0m\u001b[0;34m)\u001b[0m\u001b[0;34m\u001b[0m\u001b[0;34m\u001b[0m\u001b[0m\n\u001b[0m\u001b[1;32m     16\u001b[0m         \u001b[0mline\u001b[0m\u001b[0;34m[\u001b[0m\u001b[0;34m'fp'\u001b[0m\u001b[0;34m]\u001b[0m \u001b[0;34m=\u001b[0m \u001b[0mnp\u001b[0m\u001b[0;34m.\u001b[0m\u001b[0mcount_nonzero\u001b[0m\u001b[0;34m(\u001b[0m\u001b[0mdf\u001b[0m\u001b[0;34m[\u001b[0m\u001b[0;34m'status'\u001b[0m\u001b[0;34m]\u001b[0m \u001b[0;34m==\u001b[0m \u001b[0;34m'fp'\u001b[0m\u001b[0;34m)\u001b[0m\u001b[0;34m\u001b[0m\u001b[0;34m\u001b[0m\u001b[0m\n\u001b[1;32m     17\u001b[0m         \u001b[0mres_df\u001b[0m\u001b[0;34m.\u001b[0m\u001b[0mappend\u001b[0m\u001b[0;34m(\u001b[0m\u001b[0mpd\u001b[0m\u001b[0;34m.\u001b[0m\u001b[0mDataFrame\u001b[0m\u001b[0;34m(\u001b[0m\u001b[0mline\u001b[0m\u001b[0;34m,\u001b[0m \u001b[0mindex\u001b[0m\u001b[0;34m=\u001b[0m\u001b[0;34m[\u001b[0m\u001b[0;36m0\u001b[0m\u001b[0;34m]\u001b[0m\u001b[0;34m)\u001b[0m\u001b[0;34m)\u001b[0m\u001b[0;34m\u001b[0m\u001b[0;34m\u001b[0m\u001b[0m\n",
      "\u001b[0;31mZeroDivisionError\u001b[0m: division by zero"
     ]
    }
   ],
   "source": [
    "res_df = stat_split_cats(files, val_pix)\n",
    "res_df"
   ]
  },
  {
   "cell_type": "code",
   "execution_count": 5,
   "metadata": {
    "ExecuteTime": {
     "end_time": "2021-01-24T11:41:46.010948Z",
     "start_time": "2021-01-24T11:41:46.000294Z"
    }
   },
   "outputs": [],
   "source": [
    "res_df.to_csv('/home/rt2122/Data/models_stat/by_split_cats.csv', index=False)"
   ]
  },
  {
   "cell_type": "code",
   "execution_count": 4,
   "metadata": {
    "ExecuteTime": {
     "end_time": "2021-01-30T12:11:22.307638Z",
     "start_time": "2021-01-30T12:10:36.804711Z"
    }
   },
   "outputs": [
    {
     "name": "stderr",
     "output_type": "stream",
     "text": [
      "/home/rt2122/L/git/data-segmentation-2/modules/DS_models_stat.py:30: SettingWithCopyWarning: \n",
      "A value is trying to be set on a copy of a slice from a DataFrame.\n",
      "Try using .loc[row_indexer,col_indexer] = value instead\n",
      "\n",
      "See the caveats in the documentation: https://pandas.pydata.org/pandas-docs/stable/user_guide/indexing.html#returning-a-view-versus-a-copy\n",
      "  df['b'] = sc.galactic.b.degree\n"
     ]
    }
   ],
   "source": [
    "comp_df, recall_df = stat_orig_cats(files, '/home/rt2122/Data/original_catalogs/csv', \n",
    "                                    big_pix=val_pix, dict_cut={})"
   ]
  },
  {
   "cell_type": "code",
   "execution_count": 5,
   "metadata": {
    "ExecuteTime": {
     "end_time": "2021-01-30T12:11:22.326453Z",
     "start_time": "2021-01-30T12:11:22.308973Z"
    }
   },
   "outputs": [
    {
     "data": {
      "text/html": [
       "<div>\n",
       "<style scoped>\n",
       "    .dataframe tbody tr th:only-of-type {\n",
       "        vertical-align: middle;\n",
       "    }\n",
       "\n",
       "    .dataframe tbody tr th {\n",
       "        vertical-align: top;\n",
       "    }\n",
       "\n",
       "    .dataframe thead th {\n",
       "        text-align: right;\n",
       "    }\n",
       "</style>\n",
       "<table border=\"1\" class=\"dataframe\">\n",
       "  <thead>\n",
       "    <tr style=\"text-align: right;\">\n",
       "      <th></th>\n",
       "      <th>PSZ2</th>\n",
       "      <th>MCXC</th>\n",
       "      <th>RM</th>\n",
       "      <th>ACT</th>\n",
       "      <th>fp</th>\n",
       "      <th>all</th>\n",
       "    </tr>\n",
       "  </thead>\n",
       "  <tbody>\n",
       "    <tr>\n",
       "      <th>pz14</th>\n",
       "      <td>0.93125</td>\n",
       "      <td>0.439759</td>\n",
       "      <td>0.043817</td>\n",
       "      <td>0.220930</td>\n",
       "      <td>949</td>\n",
       "      <td>1181</td>\n",
       "    </tr>\n",
       "    <tr>\n",
       "      <th>pz40</th>\n",
       "      <td>0.91875</td>\n",
       "      <td>0.421687</td>\n",
       "      <td>0.048361</td>\n",
       "      <td>0.219269</td>\n",
       "      <td>1180</td>\n",
       "      <td>1409</td>\n",
       "    </tr>\n",
       "    <tr>\n",
       "      <th>pz_act10</th>\n",
       "      <td>0.90000</td>\n",
       "      <td>0.391566</td>\n",
       "      <td>0.035054</td>\n",
       "      <td>0.159468</td>\n",
       "      <td>624</td>\n",
       "      <td>814</td>\n",
       "    </tr>\n",
       "    <tr>\n",
       "      <th>pz_act14</th>\n",
       "      <td>0.83125</td>\n",
       "      <td>0.355422</td>\n",
       "      <td>0.029211</td>\n",
       "      <td>0.121262</td>\n",
       "      <td>557</td>\n",
       "      <td>716</td>\n",
       "    </tr>\n",
       "    <tr>\n",
       "      <th>pz_act_rot27</th>\n",
       "      <td>0.88125</td>\n",
       "      <td>0.415663</td>\n",
       "      <td>0.029536</td>\n",
       "      <td>0.157807</td>\n",
       "      <td>351</td>\n",
       "      <td>540</td>\n",
       "    </tr>\n",
       "    <tr>\n",
       "      <th>pz_act_drop0.3_ep14</th>\n",
       "      <td>0.89375</td>\n",
       "      <td>0.361446</td>\n",
       "      <td>0.032782</td>\n",
       "      <td>0.166113</td>\n",
       "      <td>526</td>\n",
       "      <td>717</td>\n",
       "    </tr>\n",
       "    <tr>\n",
       "      <th>pz_act_drop0.3_ep18</th>\n",
       "      <td>0.86875</td>\n",
       "      <td>0.379518</td>\n",
       "      <td>0.031483</td>\n",
       "      <td>0.162791</td>\n",
       "      <td>527</td>\n",
       "      <td>716</td>\n",
       "    </tr>\n",
       "    <tr>\n",
       "      <th>pz_act_drop0.4_ep14</th>\n",
       "      <td>0.86250</td>\n",
       "      <td>0.379518</td>\n",
       "      <td>0.027588</td>\n",
       "      <td>0.152824</td>\n",
       "      <td>461</td>\n",
       "      <td>639</td>\n",
       "    </tr>\n",
       "    <tr>\n",
       "      <th>pz_act_drop0.4_ep25</th>\n",
       "      <td>0.86250</td>\n",
       "      <td>0.379518</td>\n",
       "      <td>0.031483</td>\n",
       "      <td>0.149502</td>\n",
       "      <td>510</td>\n",
       "      <td>688</td>\n",
       "    </tr>\n",
       "    <tr>\n",
       "      <th>pz_act_norm2</th>\n",
       "      <td>0.81250</td>\n",
       "      <td>0.361446</td>\n",
       "      <td>0.024667</td>\n",
       "      <td>0.139535</td>\n",
       "      <td>424</td>\n",
       "      <td>587</td>\n",
       "    </tr>\n",
       "    <tr>\n",
       "      <th>pz_act_rot_drop0.1_ep9</th>\n",
       "      <td>0.91875</td>\n",
       "      <td>0.427711</td>\n",
       "      <td>0.037326</td>\n",
       "      <td>0.186047</td>\n",
       "      <td>605</td>\n",
       "      <td>815</td>\n",
       "    </tr>\n",
       "    <tr>\n",
       "      <th>pz_act_tr9</th>\n",
       "      <td>0.89375</td>\n",
       "      <td>0.415663</td>\n",
       "      <td>0.038948</td>\n",
       "      <td>0.182724</td>\n",
       "      <td>774</td>\n",
       "      <td>962</td>\n",
       "    </tr>\n",
       "  </tbody>\n",
       "</table>\n",
       "</div>"
      ],
      "text/plain": [
       "                           PSZ2      MCXC        RM       ACT    fp   all\n",
       "pz14                    0.93125  0.439759  0.043817  0.220930   949  1181\n",
       "pz40                    0.91875  0.421687  0.048361  0.219269  1180  1409\n",
       "pz_act10                0.90000  0.391566  0.035054  0.159468   624   814\n",
       "pz_act14                0.83125  0.355422  0.029211  0.121262   557   716\n",
       "pz_act_rot27            0.88125  0.415663  0.029536  0.157807   351   540\n",
       "pz_act_drop0.3_ep14     0.89375  0.361446  0.032782  0.166113   526   717\n",
       "pz_act_drop0.3_ep18     0.86875  0.379518  0.031483  0.162791   527   716\n",
       "pz_act_drop0.4_ep14     0.86250  0.379518  0.027588  0.152824   461   639\n",
       "pz_act_drop0.4_ep25     0.86250  0.379518  0.031483  0.149502   510   688\n",
       "pz_act_norm2            0.81250  0.361446  0.024667  0.139535   424   587\n",
       "pz_act_rot_drop0.1_ep9  0.91875  0.427711  0.037326  0.186047   605   815\n",
       "pz_act_tr9              0.89375  0.415663  0.038948  0.182724   774   962"
      ]
     },
     "execution_count": 5,
     "metadata": {},
     "output_type": "execute_result"
    }
   ],
   "source": [
    "recall_df"
   ]
  },
  {
   "cell_type": "code",
   "execution_count": 8,
   "metadata": {
    "ExecuteTime": {
     "end_time": "2021-01-24T11:42:28.989103Z",
     "start_time": "2021-01-24T11:42:28.888219Z"
    }
   },
   "outputs": [],
   "source": [
    "recall_df.to_csv('/home/rt2122/Data/models_stat/by_orig_cats.csv', index=False)"
   ]
  },
  {
   "cell_type": "code",
   "execution_count": 6,
   "metadata": {
    "ExecuteTime": {
     "end_time": "2021-01-30T12:13:46.951219Z",
     "start_time": "2021-01-30T12:13:46.948929Z"
    }
   },
   "outputs": [],
   "source": [
    "files_full = {'pz14' : '/home/rt2122/Data/detected_cats/full_pz14_thr0.1_step8.csv', \n",
    "        'pz40' : '/home/rt2122/Data/detected_cats/full_pz40_thr0.1_step8.csv',\n",
    "        'pz_act10' : '/home/rt2122/Data/detected_cats/full_pz_act10_thr0.1_step8.csv',\n",
    "        'pz_act14' : '/home/rt2122/Data/detected_cats/full_pz_act20_thr0.1_step8.csv',\n",
    "        'pz_act_tr9' : \n",
    "        '/home/rt2122/Data/detected_cats/full_pz_act_tr9_thr0.1_step8.csv'}"
   ]
  },
  {
   "cell_type": "code",
   "execution_count": 11,
   "metadata": {
    "ExecuteTime": {
     "end_time": "2021-01-30T12:23:59.755613Z",
     "start_time": "2021-01-30T12:22:18.172691Z"
    }
   },
   "outputs": [
    {
     "name": "stderr",
     "output_type": "stream",
     "text": [
      "/home/rt2122/L/git/data-segmentation-2/modules/DS_models_stat.py:30: SettingWithCopyWarning: \n",
      "A value is trying to be set on a copy of a slice from a DataFrame.\n",
      "Try using .loc[row_indexer,col_indexer] = value instead\n",
      "\n",
      "See the caveats in the documentation: https://pandas.pydata.org/pandas-docs/stable/user_guide/indexing.html#returning-a-view-versus-a-copy\n",
      "  df['b'] = sc.galactic.b.degree\n"
     ]
    }
   ],
   "source": [
    "comp_df, recall_df = stat_orig_cats(files_full, '/home/rt2122/Data/original_catalogs/csv', \n",
    "                                    big_pix=list(range(48)), dict_cut={})"
   ]
  },
  {
   "cell_type": "code",
   "execution_count": 12,
   "metadata": {
    "ExecuteTime": {
     "end_time": "2021-01-30T12:23:59.770783Z",
     "start_time": "2021-01-30T12:23:59.757085Z"
    }
   },
   "outputs": [
    {
     "data": {
      "text/html": [
       "<div>\n",
       "<style scoped>\n",
       "    .dataframe tbody tr th:only-of-type {\n",
       "        vertical-align: middle;\n",
       "    }\n",
       "\n",
       "    .dataframe tbody tr th {\n",
       "        vertical-align: top;\n",
       "    }\n",
       "\n",
       "    .dataframe thead th {\n",
       "        text-align: right;\n",
       "    }\n",
       "</style>\n",
       "<table border=\"1\" class=\"dataframe\">\n",
       "  <thead>\n",
       "    <tr style=\"text-align: right;\">\n",
       "      <th></th>\n",
       "      <th>PSZ2</th>\n",
       "      <th>PSZ2_err</th>\n",
       "      <th>PSZ2_std</th>\n",
       "      <th>MCXC</th>\n",
       "      <th>MCXC_err</th>\n",
       "      <th>MCXC_std</th>\n",
       "      <th>RM</th>\n",
       "      <th>RM_err</th>\n",
       "      <th>RM_std</th>\n",
       "      <th>ACT</th>\n",
       "      <th>ACT_err</th>\n",
       "      <th>ACT_std</th>\n",
       "      <th>all</th>\n",
       "      <th>fp</th>\n",
       "    </tr>\n",
       "  </thead>\n",
       "  <tbody>\n",
       "    <tr>\n",
       "      <th>pz14</th>\n",
       "      <td>1490</td>\n",
       "      <td>14.530</td>\n",
       "      <td>0.272888</td>\n",
       "      <td>730</td>\n",
       "      <td>15.965</td>\n",
       "      <td>0.274583</td>\n",
       "      <td>1266</td>\n",
       "      <td>282.760</td>\n",
       "      <td>1.114009</td>\n",
       "      <td>848</td>\n",
       "      <td>41.835</td>\n",
       "      <td>0.443307</td>\n",
       "      <td>16729</td>\n",
       "      <td>14594</td>\n",
       "    </tr>\n",
       "    <tr>\n",
       "      <th>pz40</th>\n",
       "      <td>1503</td>\n",
       "      <td>16.960</td>\n",
       "      <td>0.284953</td>\n",
       "      <td>740</td>\n",
       "      <td>19.865</td>\n",
       "      <td>0.295840</td>\n",
       "      <td>1315</td>\n",
       "      <td>322.920</td>\n",
       "      <td>1.187505</td>\n",
       "      <td>881</td>\n",
       "      <td>48.935</td>\n",
       "      <td>0.495714</td>\n",
       "      <td>19495</td>\n",
       "      <td>17306</td>\n",
       "    </tr>\n",
       "    <tr>\n",
       "      <th>pz_act10</th>\n",
       "      <td>1360</td>\n",
       "      <td>13.585</td>\n",
       "      <td>0.256011</td>\n",
       "      <td>662</td>\n",
       "      <td>13.685</td>\n",
       "      <td>0.268401</td>\n",
       "      <td>1058</td>\n",
       "      <td>206.545</td>\n",
       "      <td>1.021694</td>\n",
       "      <td>940</td>\n",
       "      <td>31.055</td>\n",
       "      <td>0.412688</td>\n",
       "      <td>18363</td>\n",
       "      <td>16316</td>\n",
       "    </tr>\n",
       "    <tr>\n",
       "      <th>pz_act14</th>\n",
       "      <td>1219</td>\n",
       "      <td>9.860</td>\n",
       "      <td>0.210770</td>\n",
       "      <td>602</td>\n",
       "      <td>11.035</td>\n",
       "      <td>0.236428</td>\n",
       "      <td>1230</td>\n",
       "      <td>190.720</td>\n",
       "      <td>0.911131</td>\n",
       "      <td>1884</td>\n",
       "      <td>31.875</td>\n",
       "      <td>0.393090</td>\n",
       "      <td>12239</td>\n",
       "      <td>9398</td>\n",
       "    </tr>\n",
       "    <tr>\n",
       "      <th>pz_act_tr9</th>\n",
       "      <td>1453</td>\n",
       "      <td>13.435</td>\n",
       "      <td>0.252980</td>\n",
       "      <td>704</td>\n",
       "      <td>14.745</td>\n",
       "      <td>0.286549</td>\n",
       "      <td>1152</td>\n",
       "      <td>240.260</td>\n",
       "      <td>1.102287</td>\n",
       "      <td>773</td>\n",
       "      <td>36.675</td>\n",
       "      <td>0.379231</td>\n",
       "      <td>17040</td>\n",
       "      <td>15152</td>\n",
       "    </tr>\n",
       "    <tr>\n",
       "      <th>all</th>\n",
       "      <td>1653</td>\n",
       "      <td>0.000</td>\n",
       "      <td>NaN</td>\n",
       "      <td>1743</td>\n",
       "      <td>0.000</td>\n",
       "      <td>NaN</td>\n",
       "      <td>26111</td>\n",
       "      <td>0.000</td>\n",
       "      <td>NaN</td>\n",
       "      <td>4195</td>\n",
       "      <td>0.000</td>\n",
       "      <td>NaN</td>\n",
       "      <td>0</td>\n",
       "      <td>0</td>\n",
       "    </tr>\n",
       "  </tbody>\n",
       "</table>\n",
       "</div>"
      ],
      "text/plain": [
       "            PSZ2  PSZ2_err  PSZ2_std  MCXC  MCXC_err  MCXC_std     RM  \\\n",
       "pz14        1490    14.530  0.272888   730    15.965  0.274583   1266   \n",
       "pz40        1503    16.960  0.284953   740    19.865  0.295840   1315   \n",
       "pz_act10    1360    13.585  0.256011   662    13.685  0.268401   1058   \n",
       "pz_act14    1219     9.860  0.210770   602    11.035  0.236428   1230   \n",
       "pz_act_tr9  1453    13.435  0.252980   704    14.745  0.286549   1152   \n",
       "all         1653     0.000       NaN  1743     0.000       NaN  26111   \n",
       "\n",
       "             RM_err    RM_std   ACT  ACT_err   ACT_std    all     fp  \n",
       "pz14        282.760  1.114009   848   41.835  0.443307  16729  14594  \n",
       "pz40        322.920  1.187505   881   48.935  0.495714  19495  17306  \n",
       "pz_act10    206.545  1.021694   940   31.055  0.412688  18363  16316  \n",
       "pz_act14    190.720  0.911131  1884   31.875  0.393090  12239   9398  \n",
       "pz_act_tr9  240.260  1.102287   773   36.675  0.379231  17040  15152  \n",
       "all           0.000       NaN  4195    0.000       NaN      0      0  "
      ]
     },
     "execution_count": 12,
     "metadata": {},
     "output_type": "execute_result"
    }
   ],
   "source": [
    "comp_df"
   ]
  },
  {
   "cell_type": "code",
   "execution_count": 13,
   "metadata": {
    "ExecuteTime": {
     "end_time": "2021-01-30T12:23:59.857966Z",
     "start_time": "2021-01-30T12:23:59.772429Z"
    }
   },
   "outputs": [
    {
     "data": {
      "text/html": [
       "<div>\n",
       "<style scoped>\n",
       "    .dataframe tbody tr th:only-of-type {\n",
       "        vertical-align: middle;\n",
       "    }\n",
       "\n",
       "    .dataframe tbody tr th {\n",
       "        vertical-align: top;\n",
       "    }\n",
       "\n",
       "    .dataframe thead th {\n",
       "        text-align: right;\n",
       "    }\n",
       "</style>\n",
       "<table border=\"1\" class=\"dataframe\">\n",
       "  <thead>\n",
       "    <tr style=\"text-align: right;\">\n",
       "      <th></th>\n",
       "      <th>PSZ2</th>\n",
       "      <th>MCXC</th>\n",
       "      <th>RM</th>\n",
       "      <th>ACT</th>\n",
       "      <th>fp</th>\n",
       "      <th>all</th>\n",
       "    </tr>\n",
       "  </thead>\n",
       "  <tbody>\n",
       "    <tr>\n",
       "      <th>pz14</th>\n",
       "      <td>0.901391</td>\n",
       "      <td>0.418818</td>\n",
       "      <td>0.048485</td>\n",
       "      <td>0.202145</td>\n",
       "      <td>14594</td>\n",
       "      <td>16729</td>\n",
       "    </tr>\n",
       "    <tr>\n",
       "      <th>pz40</th>\n",
       "      <td>0.909256</td>\n",
       "      <td>0.424555</td>\n",
       "      <td>0.050362</td>\n",
       "      <td>0.210012</td>\n",
       "      <td>17306</td>\n",
       "      <td>19495</td>\n",
       "    </tr>\n",
       "    <tr>\n",
       "      <th>pz_act10</th>\n",
       "      <td>0.822747</td>\n",
       "      <td>0.379805</td>\n",
       "      <td>0.040519</td>\n",
       "      <td>0.224076</td>\n",
       "      <td>16316</td>\n",
       "      <td>18363</td>\n",
       "    </tr>\n",
       "    <tr>\n",
       "      <th>pz_act14</th>\n",
       "      <td>0.737447</td>\n",
       "      <td>0.345382</td>\n",
       "      <td>0.047107</td>\n",
       "      <td>0.449106</td>\n",
       "      <td>9398</td>\n",
       "      <td>12239</td>\n",
       "    </tr>\n",
       "    <tr>\n",
       "      <th>pz_act_tr9</th>\n",
       "      <td>0.879008</td>\n",
       "      <td>0.403901</td>\n",
       "      <td>0.044119</td>\n",
       "      <td>0.184267</td>\n",
       "      <td>15152</td>\n",
       "      <td>17040</td>\n",
       "    </tr>\n",
       "  </tbody>\n",
       "</table>\n",
       "</div>"
      ],
      "text/plain": [
       "                PSZ2      MCXC        RM       ACT     fp    all\n",
       "pz14        0.901391  0.418818  0.048485  0.202145  14594  16729\n",
       "pz40        0.909256  0.424555  0.050362  0.210012  17306  19495\n",
       "pz_act10    0.822747  0.379805  0.040519  0.224076  16316  18363\n",
       "pz_act14    0.737447  0.345382  0.047107  0.449106   9398  12239\n",
       "pz_act_tr9  0.879008  0.403901  0.044119  0.184267  15152  17040"
      ]
     },
     "execution_count": 13,
     "metadata": {},
     "output_type": "execute_result"
    }
   ],
   "source": [
    "recall_df"
   ]
  },
  {
   "cell_type": "code",
   "execution_count": 14,
   "metadata": {
    "ExecuteTime": {
     "end_time": "2021-01-30T12:23:59.928669Z",
     "start_time": "2021-01-30T12:23:59.859999Z"
    }
   },
   "outputs": [],
   "source": [
    "recall_df.to_csv('/home/rt2122/Data/models_stat/by_orig_cats_full.csv', index=False)"
   ]
  },
  {
   "cell_type": "code",
   "execution_count": null,
   "metadata": {},
   "outputs": [],
   "source": []
  }
 ],
 "metadata": {
  "kernelspec": {
   "display_name": "Python 3",
   "language": "python",
   "name": "python3"
  },
  "language_info": {
   "codemirror_mode": {
    "name": "ipython",
    "version": 3
   },
   "file_extension": ".py",
   "mimetype": "text/x-python",
   "name": "python",
   "nbconvert_exporter": "python",
   "pygments_lexer": "ipython3",
   "version": "3.8.3"
  }
 },
 "nbformat": 4,
 "nbformat_minor": 4
}
