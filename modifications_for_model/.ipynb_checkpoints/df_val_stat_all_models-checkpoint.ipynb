{
 "cells": [
  {
   "cell_type": "code",
   "execution_count": 3,
   "metadata": {
    "ExecuteTime": {
     "end_time": "2021-01-20T10:35:18.791644Z",
     "start_time": "2021-01-20T10:35:18.773288Z"
    }
   },
   "outputs": [],
   "source": [
    "import pandas as pd\n",
    "import numpy as np\n",
    "from DS_healpix_fragmentation import radec2pix\n",
    "from DS_Planck_Unet import val_pix"
   ]
  },
  {
   "cell_type": "code",
   "execution_count": 16,
   "metadata": {
    "ExecuteTime": {
     "end_time": "2021-01-20T11:42:56.740559Z",
     "start_time": "2021-01-20T11:42:56.733217Z"
    }
   },
   "outputs": [],
   "source": [
    "files = {'pz14' : '/home/rt2122/Data/detected_cats/full_pz14_thr0.1_step8.csv', \n",
    "        'pz40' : '/home/rt2122/Data/detected_cats/full_pz40_thr0.1_step8.csv',\n",
    "        'pz_act10' : '/home/rt2122/Data/detected_cats/full_pz_act10_thr0.1_step8.csv',\n",
    "        'pz_act14' : '/home/rt2122/Data/detected_cats/full_pz_act20_thr0.1_step8.csv',\n",
    "        'pz_act_rot27' : '/home/rt2122/Data/detected_cats/act_ros_rot/val_pz_act_rot_ep27_thr0.1_step8.csv',\n",
    "        'pz_act_drop0.3_ep14' : \n",
    "             '/home/rt2122/Data/detected_cats/act_ros_drop0.3/pz_act_drop0.3_ep14_thr0.1_step8.csv'}"
   ]
  },
  {
   "cell_type": "code",
   "execution_count": 12,
   "metadata": {
    "ExecuteTime": {
     "end_time": "2021-01-20T10:41:16.251613Z",
     "start_time": "2021-01-20T10:41:15.115063Z"
    }
   },
   "outputs": [
    {
     "name": "stderr",
     "output_type": "stream",
     "text": [
      "<ipython-input-12-45f549c6dac2>:3: SettingWithCopyWarning: \n",
      "A value is trying to be set on a copy of a slice from a DataFrame\n",
      "\n",
      "See the caveats in the documentation: https://pandas.pydata.org/pandas-docs/stable/user_guide/indexing.html#returning-a-view-versus-a-copy\n",
      "  df['catalog'][df['catalog'] == 'act_erosita'] = 'actwp'\n",
      "<ipython-input-12-45f549c6dac2>:4: SettingWithCopyWarning: \n",
      "A value is trying to be set on a copy of a slice from a DataFrame\n",
      "\n",
      "See the caveats in the documentation: https://pandas.pydata.org/pandas-docs/stable/user_guide/indexing.html#returning-a-view-versus-a-copy\n",
      "  df['catalog'][df['catalog'] == 'act'] = 'actwp'\n"
     ]
    }
   ],
   "source": [
    "for model in files:\n",
    "    df = pd.read_csv(files[model])\n",
    "    df['catalog'][df['catalog'] == 'act_erosita'] = 'actwp'\n",
    "    df['catalog'][df['catalog'] == 'act'] = 'actwp'\n",
    "    df.to_csv(files[model], index=False)"
   ]
  },
  {
   "cell_type": "code",
   "execution_count": 17,
   "metadata": {
    "ExecuteTime": {
     "end_time": "2021-01-20T11:43:01.788927Z",
     "start_time": "2021-01-20T11:43:01.499343Z"
    }
   },
   "outputs": [
    {
     "data": {
      "text/html": [
       "<div>\n",
       "<style scoped>\n",
       "    .dataframe tbody tr th:only-of-type {\n",
       "        vertical-align: middle;\n",
       "    }\n",
       "\n",
       "    .dataframe tbody tr th {\n",
       "        vertical-align: top;\n",
       "    }\n",
       "\n",
       "    .dataframe thead th {\n",
       "        text-align: right;\n",
       "    }\n",
       "</style>\n",
       "<table border=\"1\" class=\"dataframe\">\n",
       "  <thead>\n",
       "    <tr style=\"text-align: right;\">\n",
       "      <th></th>\n",
       "      <th>name</th>\n",
       "      <th>planck_z</th>\n",
       "      <th>planck_no_z</th>\n",
       "      <th>mcxcwp</th>\n",
       "      <th>actwp</th>\n",
       "      <th>fp</th>\n",
       "    </tr>\n",
       "  </thead>\n",
       "  <tbody>\n",
       "    <tr>\n",
       "      <th>0</th>\n",
       "      <td>pz14</td>\n",
       "      <td>0.931818</td>\n",
       "      <td>0.821429</td>\n",
       "      <td>0.155340</td>\n",
       "      <td>0.120983</td>\n",
       "      <td>1055</td>\n",
       "    </tr>\n",
       "    <tr>\n",
       "      <th>1</th>\n",
       "      <td>pz40</td>\n",
       "      <td>0.931818</td>\n",
       "      <td>0.785714</td>\n",
       "      <td>0.145631</td>\n",
       "      <td>0.130435</td>\n",
       "      <td>1180</td>\n",
       "    </tr>\n",
       "    <tr>\n",
       "      <th>2</th>\n",
       "      <td>pz_act10</td>\n",
       "      <td>0.901515</td>\n",
       "      <td>0.821429</td>\n",
       "      <td>0.097087</td>\n",
       "      <td>0.089202</td>\n",
       "      <td>624</td>\n",
       "    </tr>\n",
       "    <tr>\n",
       "      <th>3</th>\n",
       "      <td>pz_act14</td>\n",
       "      <td>0.825758</td>\n",
       "      <td>0.750000</td>\n",
       "      <td>0.058252</td>\n",
       "      <td>0.043478</td>\n",
       "      <td>557</td>\n",
       "    </tr>\n",
       "    <tr>\n",
       "      <th>4</th>\n",
       "      <td>pz_act_rot27</td>\n",
       "      <td>0.901515</td>\n",
       "      <td>0.750000</td>\n",
       "      <td>0.135922</td>\n",
       "      <td>0.066163</td>\n",
       "      <td>351</td>\n",
       "    </tr>\n",
       "    <tr>\n",
       "      <th>5</th>\n",
       "      <td>pz_act_drop0.3_ep14</td>\n",
       "      <td>0.901515</td>\n",
       "      <td>0.785714</td>\n",
       "      <td>0.077670</td>\n",
       "      <td>0.079395</td>\n",
       "      <td>526</td>\n",
       "    </tr>\n",
       "  </tbody>\n",
       "</table>\n",
       "</div>"
      ],
      "text/plain": [
       "                  name  planck_z  planck_no_z    mcxcwp     actwp    fp\n",
       "0                 pz14  0.931818     0.821429  0.155340  0.120983  1055\n",
       "1                 pz40  0.931818     0.785714  0.145631  0.130435  1180\n",
       "2             pz_act10  0.901515     0.821429  0.097087  0.089202   624\n",
       "3             pz_act14  0.825758     0.750000  0.058252  0.043478   557\n",
       "4         pz_act_rot27  0.901515     0.750000  0.135922  0.066163   351\n",
       "5  pz_act_drop0.3_ep14  0.901515     0.785714  0.077670  0.079395   526"
      ]
     },
     "execution_count": 17,
     "metadata": {},
     "output_type": "execute_result"
    }
   ],
   "source": [
    "res_df = []\n",
    "for model in files:\n",
    "    df = pd.read_csv(files[model])\n",
    "    df = df.iloc[np.in1d(radec2pix(df['RA'], df['DEC'], 2), val_pix)]\n",
    "    df.index = np.arange(len(df))\n",
    "    line = {'name' : model}\n",
    "    for cat in ['planck_z', 'planck_no_z', 'mcxcwp', 'actwp']:\n",
    "        cur_df = df[df['catalog'] == cat]\n",
    "        cur_df.index = np.arange(len(cur_df))\n",
    "        line[cat] = np.count_nonzero(cur_df['status'] == 'tp') / len(cur_df)\n",
    "    line['fp'] = np.count_nonzero(df['status'] == 'fp')\n",
    "    res_df.append(pd.DataFrame(line, index=[0]))\n",
    "res_df = pd.concat(res_df, ignore_index=True)\n",
    "res_df"
   ]
  },
  {
   "cell_type": "code",
   "execution_count": 18,
   "metadata": {
    "ExecuteTime": {
     "end_time": "2021-01-20T11:43:13.679951Z",
     "start_time": "2021-01-20T11:43:13.653399Z"
    }
   },
   "outputs": [],
   "source": [
    "res_df.to_csv('/home/rt2122/Data/models_stat/by_split_cats.csv', index=False)"
   ]
  },
  {
   "cell_type": "code",
   "execution_count": null,
   "metadata": {},
   "outputs": [],
   "source": []
  }
 ],
 "metadata": {
  "kernelspec": {
   "display_name": "Python 3",
   "language": "python",
   "name": "python3"
  },
  "language_info": {
   "codemirror_mode": {
    "name": "ipython",
    "version": 3
   },
   "file_extension": ".py",
   "mimetype": "text/x-python",
   "name": "python",
   "nbconvert_exporter": "python",
   "pygments_lexer": "ipython3",
   "version": "3.8.3"
  }
 },
 "nbformat": 4,
 "nbformat_minor": 4
}
