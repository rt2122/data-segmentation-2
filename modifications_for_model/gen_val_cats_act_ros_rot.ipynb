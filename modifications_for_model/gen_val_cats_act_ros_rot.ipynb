{
 "cells": [
  {
   "cell_type": "code",
   "execution_count": 1,
   "metadata": {
    "ExecuteTime": {
     "end_time": "2021-01-15T20:51:13.740266Z",
     "start_time": "2021-01-15T20:51:05.220294Z"
    }
   },
   "outputs": [],
   "source": [
    "import numpy as np\n",
    "import pandas as pd\n",
    "import os\n",
    "from matplotlib import pyplot as plt\n",
    "from DS_data_transformation import get_prm\n",
    "from DS_Planck_Unet import val_pix"
   ]
  },
  {
   "cell_type": "code",
   "execution_count": 2,
   "metadata": {
    "ExecuteTime": {
     "end_time": "2021-01-15T20:51:13.752264Z",
     "start_time": "2021-01-15T20:51:13.742053Z"
    }
   },
   "outputs": [],
   "source": [
    "def gen_catalog(models, big_pix, cat_name, step=8, thr=0.1, save_inter_cats=None):\n",
    "    from tqdm.notebook import tqdm\n",
    "    \n",
    "    from DS_detector import gen_pics_for_detection, detect_clusters_connected\n",
    "    from DS_Planck_Unet import load_planck_model\n",
    "    \n",
    "    for model_name in tqdm(models):\n",
    "        cur_cat = []\n",
    "        for i in big_pix:\n",
    "            model = load_planck_model(models[model_name])\n",
    "            all_dict = gen_pics_for_detection(i, model, step=step)\n",
    "            coords = detect_clusters_connected(all_dict, thr, i)\n",
    "            cur_cat.append(coords)\n",
    "            if not (save_inter_cats is None):\n",
    "                coords.to_csv(save_inter_cats.format(pix=i, model=model_name), index=False)\n",
    "        cur_cat = pd.concat(cur_cat, ignore_index=True)\n",
    "        cur_cat.to_csv(cat_name.format(model=model_name, thr=thr, step=step), index=False)"
   ]
  },
  {
   "cell_type": "code",
   "execution_count": 3,
   "metadata": {
    "ExecuteTime": {
     "end_time": "2021-01-15T20:51:13.994023Z",
     "start_time": "2021-01-15T20:51:13.755723Z"
    }
   },
   "outputs": [],
   "source": [
    "models_dir = '/home/rt2122/Models/act_ros_rot/'\n",
    "models_files = next(os.walk(models_dir))[-1]"
   ]
  },
  {
   "cell_type": "code",
   "execution_count": 4,
   "metadata": {
    "ExecuteTime": {
     "end_time": "2021-01-15T20:51:14.440925Z",
     "start_time": "2021-01-15T20:51:14.000716Z"
    }
   },
   "outputs": [
    {
     "data": {
      "text/plain": [
       "'[3, 14, 22, 28, 31, 11, 35, 25, 12, 38, 10, 17, 45, 47, 21, 44, 15, 4, 26, 5, 24, 37, 27, 32, 41, 30, 43, 34, 46, 23, 42, 40, 36, 18, 1, 6, 33, 19, 16]'"
      ]
     },
     "execution_count": 4,
     "metadata": {},
     "output_type": "execute_result"
    }
   ],
   "source": [
    "cats_dir = '/home/rt2122/Data/detected_cats/act_ros_rot/'\n",
    "detected_eps = next(os.walk(cats_dir))[-1]\n",
    "detected_eps = [int(get_prm('rot', file)) for file in detected_eps]\n",
    "repr(detected_eps)"
   ]
  },
  {
   "cell_type": "code",
   "execution_count": 5,
   "metadata": {
    "ExecuteTime": {
     "end_time": "2021-01-15T20:51:14.505561Z",
     "start_time": "2021-01-15T20:51:14.464235Z"
    }
   },
   "outputs": [],
   "source": [
    "models = {int(get_prm('ep', file)) : os.path.join(models_dir, file) for file in models_files \n",
    "          if not (int(get_prm('ep', file)) in detected_eps)}"
   ]
  },
  {
   "cell_type": "code",
   "execution_count": 6,
   "metadata": {
    "ExecuteTime": {
     "end_time": "2021-01-15T20:51:14.674296Z",
     "start_time": "2021-01-15T20:51:14.508475Z"
    }
   },
   "outputs": [
    {
     "data": {
      "text/plain": [
       "11"
      ]
     },
     "execution_count": 6,
     "metadata": {},
     "output_type": "execute_result"
    }
   ],
   "source": [
    "len(models)"
   ]
  },
  {
   "cell_type": "code",
   "execution_count": 7,
   "metadata": {
    "ExecuteTime": {
     "end_time": "2021-01-15T21:57:45.847621Z",
     "start_time": "2021-01-15T20:51:14.679862Z"
    }
   },
   "outputs": [
    {
     "data": {
      "application/vnd.jupyter.widget-view+json": {
       "model_id": "4d60d3f752d6470880230a6e56f06a34",
       "version_major": 2,
       "version_minor": 0
      },
      "text/plain": [
       "HBox(children=(FloatProgress(value=0.0, max=11.0), HTML(value='')))"
      ]
     },
     "metadata": {},
     "output_type": "display_data"
    },
    {
     "name": "stderr",
     "output_type": "stream",
     "text": [
      "/home/rt2122/anaconda3/lib/python3.8/site-packages/pandas/core/indexing.py:671: SettingWithCopyWarning: \n",
      "A value is trying to be set on a copy of a slice from a DataFrame\n",
      "\n",
      "See the caveats in the documentation: https://pandas.pydata.org/pandas-docs/stable/user_guide/indexing.html#returning-a-view-versus-a-copy\n",
      "  self._setitem_with_indexer(indexer, value)\n"
     ]
    },
    {
     "name": "stdout",
     "output_type": "stream",
     "text": [
      "\n"
     ]
    }
   ],
   "source": [
    "gen_catalog(models, val_pix, \n",
    "            '/home/rt2122/Data/detected_cats/act_ros_rot/val_pz_act_rot{model}_thr{thr}_step{step}.csv',\n",
    "           save_inter_cats='/home/rt2122/Data/detected_cats/act_ros_rot/tmp/ep{model}_p{pix}.csv')"
   ]
  },
  {
   "cell_type": "code",
   "execution_count": null,
   "metadata": {},
   "outputs": [],
   "source": []
  }
 ],
 "metadata": {
  "kernelspec": {
   "display_name": "Python 3",
   "language": "python",
   "name": "python3"
  },
  "language_info": {
   "codemirror_mode": {
    "name": "ipython",
    "version": 3
   },
   "file_extension": ".py",
   "mimetype": "text/x-python",
   "name": "python",
   "nbconvert_exporter": "python",
   "pygments_lexer": "ipython3",
   "version": "3.8.3"
  }
 },
 "nbformat": 4,
 "nbformat_minor": 4
}
