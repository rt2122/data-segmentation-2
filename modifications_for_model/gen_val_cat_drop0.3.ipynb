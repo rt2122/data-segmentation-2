{
 "cells": [
  {
   "cell_type": "code",
   "execution_count": 4,
   "metadata": {
    "ExecuteTime": {
     "end_time": "2021-01-20T11:31:15.960991Z",
     "start_time": "2021-01-20T11:31:15.940534Z"
    }
   },
   "outputs": [],
   "source": [
    "import numpy as np\n",
    "import pandas as pd\n",
    "from DS_detector import gen_catalog\n",
    "from DS_Planck_Unet import val_pix"
   ]
  },
  {
   "cell_type": "code",
   "execution_count": 2,
   "metadata": {
    "ExecuteTime": {
     "end_time": "2021-01-20T11:28:25.850209Z",
     "start_time": "2021-01-20T11:28:25.838243Z"
    }
   },
   "outputs": [],
   "source": [
    "models = {'pz_act_drop0.3_ep14' : \n",
    "          '/home/rt2122/Models/act_ros_drop0.3/act_ros_drop0.3.ep0014-vl0.033033-l0.032564.hdf5'}"
   ]
  },
  {
   "cell_type": "code",
   "execution_count": null,
   "metadata": {
    "ExecuteTime": {
     "start_time": "2021-01-20T11:31:16.883Z"
    }
   },
   "outputs": [],
   "source": [
    "gen_catalog(models, val_pix, '/home/rt2122/Data/detected_cats/act_ros_drop0.3/{model}_thr{thr}_step{step}.csv')"
   ]
  },
  {
   "cell_type": "code",
   "execution_count": null,
   "metadata": {},
   "outputs": [],
   "source": []
  }
 ],
 "metadata": {
  "kernelspec": {
   "display_name": "Python 3",
   "language": "python",
   "name": "python3"
  },
  "language_info": {
   "codemirror_mode": {
    "name": "ipython",
    "version": 3
   },
   "file_extension": ".py",
   "mimetype": "text/x-python",
   "name": "python",
   "nbconvert_exporter": "python",
   "pygments_lexer": "ipython3",
   "version": "3.8.3"
  }
 },
 "nbformat": 4,
 "nbformat_minor": 4
}
