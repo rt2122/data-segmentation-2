{
 "cells": [
  {
   "cell_type": "code",
   "execution_count": 3,
   "metadata": {
    "ExecuteTime": {
     "end_time": "2021-01-22T11:53:39.018051Z",
     "start_time": "2021-01-22T11:53:38.782966Z"
    }
   },
   "outputs": [],
   "source": [
    "import pandas as pd\n",
    "import numpy as np\n",
    "from DS_healpix_fragmentation import radec2pix\n",
    "from DS_Planck_Unet import val_pix"
   ]
  },
  {
   "cell_type": "code",
   "execution_count": 4,
   "metadata": {
    "ExecuteTime": {
     "end_time": "2021-01-22T11:53:39.149092Z",
     "start_time": "2021-01-22T11:53:39.144941Z"
    }
   },
   "outputs": [],
   "source": [
    "files = {'pz14' : '/home/rt2122/Data/detected_cats/full_pz14_thr0.1_step8.csv', \n",
    "        'pz40' : '/home/rt2122/Data/detected_cats/full_pz40_thr0.1_step8.csv',\n",
    "        'pz_act10' : '/home/rt2122/Data/detected_cats/full_pz_act10_thr0.1_step8.csv',\n",
    "        'pz_act14' : '/home/rt2122/Data/detected_cats/full_pz_act20_thr0.1_step8.csv',\n",
    "        'pz_act_rot27' : '/home/rt2122/Data/detected_cats/act_ros_rot/val_pz_act_rot_ep27_thr0.1_step8.csv',\n",
    "        'pz_act_drop0.3_ep14' : \n",
    "             '/home/rt2122/Data/detected_cats/act_ros_drop0.3/pz_act_drop0.3_ep14_thr0.1_step8.csv',\n",
    "        'pz_act_drop0.4_ep25' : \n",
    "             '/home/rt2122/Data/detected_cats/act_ros_drop0.4/pz_act_drop0.4_ep25_thr0.1_step8.csv',\n",
    "        'pz_act_norm2' : '/home/rt2122/Data/detected_cats/act_ros_norm/pz_act_norm2_thr0.1_step8.csv'}"
   ]
  },
  {
   "cell_type": "code",
   "execution_count": 5,
   "metadata": {
    "ExecuteTime": {
     "end_time": "2021-01-22T11:53:42.866788Z",
     "start_time": "2021-01-22T11:53:41.319912Z"
    }
   },
   "outputs": [
    {
     "name": "stderr",
     "output_type": "stream",
     "text": [
      "<ipython-input-5-45f549c6dac2>:3: SettingWithCopyWarning: \n",
      "A value is trying to be set on a copy of a slice from a DataFrame\n",
      "\n",
      "See the caveats in the documentation: https://pandas.pydata.org/pandas-docs/stable/user_guide/indexing.html#returning-a-view-versus-a-copy\n",
      "  df['catalog'][df['catalog'] == 'act_erosita'] = 'actwp'\n",
      "<ipython-input-5-45f549c6dac2>:4: SettingWithCopyWarning: \n",
      "A value is trying to be set on a copy of a slice from a DataFrame\n",
      "\n",
      "See the caveats in the documentation: https://pandas.pydata.org/pandas-docs/stable/user_guide/indexing.html#returning-a-view-versus-a-copy\n",
      "  df['catalog'][df['catalog'] == 'act'] = 'actwp'\n"
     ]
    }
   ],
   "source": [
    "for model in files:\n",
    "    df = pd.read_csv(files[model])\n",
    "    df['catalog'][df['catalog'] == 'act_erosita'] = 'actwp'\n",
    "    df['catalog'][df['catalog'] == 'act'] = 'actwp'\n",
    "    df.to_csv(files[model], index=False)"
   ]
  },
  {
   "cell_type": "code",
   "execution_count": 6,
   "metadata": {
    "ExecuteTime": {
     "end_time": "2021-01-22T11:53:44.165837Z",
     "start_time": "2021-01-22T11:53:43.290948Z"
    }
   },
   "outputs": [
    {
     "data": {
      "text/html": [
       "<div>\n",
       "<style scoped>\n",
       "    .dataframe tbody tr th:only-of-type {\n",
       "        vertical-align: middle;\n",
       "    }\n",
       "\n",
       "    .dataframe tbody tr th {\n",
       "        vertical-align: top;\n",
       "    }\n",
       "\n",
       "    .dataframe thead th {\n",
       "        text-align: right;\n",
       "    }\n",
       "</style>\n",
       "<table border=\"1\" class=\"dataframe\">\n",
       "  <thead>\n",
       "    <tr style=\"text-align: right;\">\n",
       "      <th></th>\n",
       "      <th>name</th>\n",
       "      <th>planck_z</th>\n",
       "      <th>planck_no_z</th>\n",
       "      <th>mcxcwp</th>\n",
       "      <th>actwp</th>\n",
       "      <th>fp</th>\n",
       "    </tr>\n",
       "  </thead>\n",
       "  <tbody>\n",
       "    <tr>\n",
       "      <th>0</th>\n",
       "      <td>pz14</td>\n",
       "      <td>0.931818</td>\n",
       "      <td>0.821429</td>\n",
       "      <td>0.155340</td>\n",
       "      <td>0.120983</td>\n",
       "      <td>1055</td>\n",
       "    </tr>\n",
       "    <tr>\n",
       "      <th>1</th>\n",
       "      <td>pz40</td>\n",
       "      <td>0.931818</td>\n",
       "      <td>0.785714</td>\n",
       "      <td>0.145631</td>\n",
       "      <td>0.130435</td>\n",
       "      <td>1180</td>\n",
       "    </tr>\n",
       "    <tr>\n",
       "      <th>2</th>\n",
       "      <td>pz_act10</td>\n",
       "      <td>0.901515</td>\n",
       "      <td>0.821429</td>\n",
       "      <td>0.097087</td>\n",
       "      <td>0.089202</td>\n",
       "      <td>624</td>\n",
       "    </tr>\n",
       "    <tr>\n",
       "      <th>3</th>\n",
       "      <td>pz_act14</td>\n",
       "      <td>0.825758</td>\n",
       "      <td>0.750000</td>\n",
       "      <td>0.058252</td>\n",
       "      <td>0.043478</td>\n",
       "      <td>557</td>\n",
       "    </tr>\n",
       "    <tr>\n",
       "      <th>4</th>\n",
       "      <td>pz_act_rot27</td>\n",
       "      <td>0.901515</td>\n",
       "      <td>0.750000</td>\n",
       "      <td>0.135922</td>\n",
       "      <td>0.066163</td>\n",
       "      <td>351</td>\n",
       "    </tr>\n",
       "    <tr>\n",
       "      <th>5</th>\n",
       "      <td>pz_act_drop0.3_ep14</td>\n",
       "      <td>0.901515</td>\n",
       "      <td>0.785714</td>\n",
       "      <td>0.077670</td>\n",
       "      <td>0.079395</td>\n",
       "      <td>526</td>\n",
       "    </tr>\n",
       "    <tr>\n",
       "      <th>6</th>\n",
       "      <td>pz_act_drop0.4_ep25</td>\n",
       "      <td>0.893939</td>\n",
       "      <td>0.642857</td>\n",
       "      <td>0.087379</td>\n",
       "      <td>0.062382</td>\n",
       "      <td>510</td>\n",
       "    </tr>\n",
       "    <tr>\n",
       "      <th>7</th>\n",
       "      <td>pz_act_norm2</td>\n",
       "      <td>0.863636</td>\n",
       "      <td>0.500000</td>\n",
       "      <td>0.058252</td>\n",
       "      <td>0.054820</td>\n",
       "      <td>424</td>\n",
       "    </tr>\n",
       "  </tbody>\n",
       "</table>\n",
       "</div>"
      ],
      "text/plain": [
       "                  name  planck_z  planck_no_z    mcxcwp     actwp    fp\n",
       "0                 pz14  0.931818     0.821429  0.155340  0.120983  1055\n",
       "1                 pz40  0.931818     0.785714  0.145631  0.130435  1180\n",
       "2             pz_act10  0.901515     0.821429  0.097087  0.089202   624\n",
       "3             pz_act14  0.825758     0.750000  0.058252  0.043478   557\n",
       "4         pz_act_rot27  0.901515     0.750000  0.135922  0.066163   351\n",
       "5  pz_act_drop0.3_ep14  0.901515     0.785714  0.077670  0.079395   526\n",
       "6  pz_act_drop0.4_ep25  0.893939     0.642857  0.087379  0.062382   510\n",
       "7         pz_act_norm2  0.863636     0.500000  0.058252  0.054820   424"
      ]
     },
     "execution_count": 6,
     "metadata": {},
     "output_type": "execute_result"
    }
   ],
   "source": [
    "res_df = []\n",
    "for model in files:\n",
    "    df = pd.read_csv(files[model])\n",
    "    df = df.iloc[np.in1d(radec2pix(df['RA'], df['DEC'], 2), val_pix)]\n",
    "    df.index = np.arange(len(df))\n",
    "    line = {'name' : model}\n",
    "    for cat in ['planck_z', 'planck_no_z', 'mcxcwp', 'actwp']:\n",
    "        cur_df = df[df['catalog'] == cat]\n",
    "        cur_df.index = np.arange(len(cur_df))\n",
    "        line[cat] = np.count_nonzero(cur_df['status'] == 'tp') / len(cur_df)\n",
    "    line['fp'] = np.count_nonzero(df['status'] == 'fp')\n",
    "    res_df.append(pd.DataFrame(line, index=[0]))\n",
    "res_df = pd.concat(res_df, ignore_index=True)\n",
    "res_df"
   ]
  },
  {
   "cell_type": "code",
   "execution_count": 7,
   "metadata": {
    "ExecuteTime": {
     "end_time": "2021-01-22T11:53:47.772850Z",
     "start_time": "2021-01-22T11:53:47.718858Z"
    }
   },
   "outputs": [],
   "source": [
    "res_df.to_csv('/home/rt2122/Data/models_stat/by_split_cats.csv', index=False)"
   ]
  },
  {
   "cell_type": "code",
   "execution_count": 14,
   "metadata": {
    "ExecuteTime": {
     "end_time": "2021-01-22T12:21:19.142760Z",
     "start_time": "2021-01-22T12:21:19.127912Z"
    }
   },
   "outputs": [],
   "source": [
    "def cut_cat(df, dict_cut = {'z' : [-np.inf, np.inf], 'M500' : [-np.inf, np.inf], 'b' :[-np.inf, np.inf]}, \n",
    "           big_pix=None):\n",
    "    from astropy.coordinates import SkyCoord\n",
    "    from astropy import units as u\n",
    " \n",
    "    sc = SkyCoord(ra=np.array(df['RA'])*u.degree, \n",
    "                  dec=np.array(df['DEC'])*u.degree, frame='icrs')\n",
    "    df['b'] = sc.galactic.b.degree\n",
    "    for prm in dict_cut:\n",
    "        if prm == 'b':\n",
    "            df = df[np.abs(df[prm]) >= dict_cut[prm][0]]\n",
    "            df = df[np.abs(df[prm]) < dict_cut[prm][1]]\n",
    "            df.index = np.arange(len(df))\n",
    "        else: \n",
    "            df = df[df[prm] >= dict_cut[prm][0]]\n",
    "            df = df[df[prm] < dict_cut[prm][1]]\n",
    "            df.index = np.arange(len(df))\n",
    "    \n",
    "    if not (big_pix is None):\n",
    "        pix2 = radec2pix(df['RA'], df['DEC'], 2)\n",
    "        df = df[np.in1d(pix2, big_pix)]\n",
    "        df.index = np.arange(len(df))\n",
    "    \n",
    "    return df"
   ]
  },
  {
   "cell_type": "code",
   "execution_count": 18,
   "metadata": {
    "ExecuteTime": {
     "end_time": "2021-01-22T12:22:04.373718Z",
     "start_time": "2021-01-22T12:22:04.350487Z"
    }
   },
   "outputs": [],
   "source": [
    "def gen_tables(det_cats_dict, true_cats_dir, dict_cut = {'z' : [-np.inf, np.inf], 'M500' : [-np.inf, np.inf], \n",
    "                        'b' :[-np.inf, np.inf]}, big_pix = None, match_dist=5/60, n_try=200):\n",
    "    import os\n",
    "    from astropy.coordinates import SkyCoord\n",
    "    from astropy import units as u\n",
    "    from DS_data_transformation import calc_error\n",
    "    \n",
    "    true_cats_files = next(os.walk(true_cats_dir))[-1]\n",
    "    true_cats_files = [os.path.join(true_cats_dir, file) for file in true_cats_files]\n",
    "    \n",
    "    true_cats = {os.path.splitext(os.path.basename(file))[0] : pd.read_csv(file) for file in true_cats_files}\n",
    "    det_cats = {name : \n",
    "                pd.read_csv(det_cats_dict[name]) for name in det_cats_dict}\n",
    "    \n",
    "    comp_df = []\n",
    "    recall_df = []\n",
    "    \n",
    "    for name in det_cats:\n",
    "        df = det_cats[name]\n",
    "        df = df[df['status'] != 'fn']\n",
    "        df.index = np.arange(len(df))\n",
    "        if 'b' in dict_cut:\n",
    "            det_cats[name] = cut_cat(df, {'b' : dict_cut['b']}, big_pix)\n",
    "        else:\n",
    "            det_cats[name] = cut_cat(df, {}, big_pix)\n",
    "    for name in true_cats:\n",
    "        true_cats[name] = cut_cat(true_cats[name], dict_cut, big_pix)\n",
    "    \n",
    "    for det_name in det_cats:\n",
    "        det = det_cats[det_name]\n",
    "        line = {}\n",
    "        line_r = {}\n",
    "\n",
    "        det_sc = SkyCoord(ra=np.array(det['RA'])*u.degree, \n",
    "                      dec=np.array(det['DEC'])*u.degree, frame='icrs') \n",
    "\n",
    "        for tr_name in true_cats: \n",
    "            tr = true_cats[tr_name]\n",
    "            tr_sc = SkyCoord(ra=np.array(tr['RA'])*u.degree, \n",
    "                          dec=np.array(tr['DEC'])*u.degree, frame='icrs')\n",
    "            \n",
    "            idx, d2d, _ = tr_sc.match_to_catalog_sky(det_sc)\n",
    "            matched = d2d.degree <= match_dist\n",
    "            \n",
    "            line[tr_name] = np.count_nonzero(matched)\n",
    "            line[tr_name+'_err'], line[tr_name+'_std'] = calc_error(det, tr, n_try=n_try)\n",
    "\n",
    "            line_r[tr_name] = line[tr_name] / len(tr)\n",
    "            \n",
    "        line['all'] = len(det)\n",
    "        line['fp'] = np.count_nonzero(det['status'] == 'fp')\n",
    "        line_r['fp'] = line['fp']\n",
    "        line_r['all'] = line['all']\n",
    "        comp_df.append(pd.DataFrame(line, index=[det_name]))\n",
    "        recall_df.append(pd.DataFrame(line_r, index=[det_name]))\n",
    "        line = {}\n",
    "    \n",
    "    for tr_name in true_cats: \n",
    "        line[tr_name] = len(true_cats[tr_name])\n",
    "        line[tr_name+'_err'] = 0\n",
    "    line['fp'] = 0\n",
    "    line['all'] = 0\n",
    "    comp_df.append(pd.DataFrame(line, index=['all']))\n",
    "    \n",
    "    comp_df = pd.concat(comp_df)\n",
    "    recall_df = pd.concat(recall_df)\n",
    "    return comp_df, recall_df"
   ]
  },
  {
   "cell_type": "code",
   "execution_count": 19,
   "metadata": {
    "ExecuteTime": {
     "end_time": "2021-01-22T12:22:36.371764Z",
     "start_time": "2021-01-22T12:22:04.911131Z"
    }
   },
   "outputs": [
    {
     "name": "stderr",
     "output_type": "stream",
     "text": [
      "<ipython-input-14-fea80ac82c83>:8: SettingWithCopyWarning: \n",
      "A value is trying to be set on a copy of a slice from a DataFrame.\n",
      "Try using .loc[row_indexer,col_indexer] = value instead\n",
      "\n",
      "See the caveats in the documentation: https://pandas.pydata.org/pandas-docs/stable/user_guide/indexing.html#returning-a-view-versus-a-copy\n",
      "  df['b'] = sc.galactic.b.degree\n"
     ]
    }
   ],
   "source": [
    "comp_df, recall_df = gen_tables(files, '/home/rt2122/Data/original_catalogs/csv', big_pix=val_pix, dict_cut={})"
   ]
  },
  {
   "cell_type": "code",
   "execution_count": 21,
   "metadata": {
    "ExecuteTime": {
     "end_time": "2021-01-22T12:22:53.338128Z",
     "start_time": "2021-01-22T12:22:53.325667Z"
    }
   },
   "outputs": [
    {
     "data": {
      "text/html": [
       "<div>\n",
       "<style scoped>\n",
       "    .dataframe tbody tr th:only-of-type {\n",
       "        vertical-align: middle;\n",
       "    }\n",
       "\n",
       "    .dataframe tbody tr th {\n",
       "        vertical-align: top;\n",
       "    }\n",
       "\n",
       "    .dataframe thead th {\n",
       "        text-align: right;\n",
       "    }\n",
       "</style>\n",
       "<table border=\"1\" class=\"dataframe\">\n",
       "  <thead>\n",
       "    <tr style=\"text-align: right;\">\n",
       "      <th></th>\n",
       "      <th>PSZ2</th>\n",
       "      <th>MCXC</th>\n",
       "      <th>RM</th>\n",
       "      <th>ACT</th>\n",
       "      <th>fp</th>\n",
       "      <th>all</th>\n",
       "    </tr>\n",
       "  </thead>\n",
       "  <tbody>\n",
       "    <tr>\n",
       "      <th>pz14</th>\n",
       "      <td>0.92500</td>\n",
       "      <td>0.433735</td>\n",
       "      <td>0.045764</td>\n",
       "      <td>0.210963</td>\n",
       "      <td>1055</td>\n",
       "      <td>1281</td>\n",
       "    </tr>\n",
       "    <tr>\n",
       "      <th>pz40</th>\n",
       "      <td>0.91875</td>\n",
       "      <td>0.421687</td>\n",
       "      <td>0.048361</td>\n",
       "      <td>0.219269</td>\n",
       "      <td>1180</td>\n",
       "      <td>1409</td>\n",
       "    </tr>\n",
       "    <tr>\n",
       "      <th>pz_act10</th>\n",
       "      <td>0.90000</td>\n",
       "      <td>0.391566</td>\n",
       "      <td>0.035054</td>\n",
       "      <td>0.159468</td>\n",
       "      <td>624</td>\n",
       "      <td>814</td>\n",
       "    </tr>\n",
       "    <tr>\n",
       "      <th>pz_act14</th>\n",
       "      <td>0.83125</td>\n",
       "      <td>0.355422</td>\n",
       "      <td>0.029211</td>\n",
       "      <td>0.121262</td>\n",
       "      <td>557</td>\n",
       "      <td>716</td>\n",
       "    </tr>\n",
       "    <tr>\n",
       "      <th>pz_act_rot27</th>\n",
       "      <td>0.88125</td>\n",
       "      <td>0.415663</td>\n",
       "      <td>0.029536</td>\n",
       "      <td>0.157807</td>\n",
       "      <td>351</td>\n",
       "      <td>540</td>\n",
       "    </tr>\n",
       "    <tr>\n",
       "      <th>pz_act_drop0.3_ep14</th>\n",
       "      <td>0.89375</td>\n",
       "      <td>0.361446</td>\n",
       "      <td>0.032782</td>\n",
       "      <td>0.166113</td>\n",
       "      <td>526</td>\n",
       "      <td>717</td>\n",
       "    </tr>\n",
       "    <tr>\n",
       "      <th>pz_act_drop0.4_ep25</th>\n",
       "      <td>0.86250</td>\n",
       "      <td>0.379518</td>\n",
       "      <td>0.031483</td>\n",
       "      <td>0.149502</td>\n",
       "      <td>510</td>\n",
       "      <td>688</td>\n",
       "    </tr>\n",
       "    <tr>\n",
       "      <th>pz_act_norm2</th>\n",
       "      <td>0.81250</td>\n",
       "      <td>0.361446</td>\n",
       "      <td>0.024667</td>\n",
       "      <td>0.139535</td>\n",
       "      <td>424</td>\n",
       "      <td>587</td>\n",
       "    </tr>\n",
       "  </tbody>\n",
       "</table>\n",
       "</div>"
      ],
      "text/plain": [
       "                        PSZ2      MCXC        RM       ACT    fp   all\n",
       "pz14                 0.92500  0.433735  0.045764  0.210963  1055  1281\n",
       "pz40                 0.91875  0.421687  0.048361  0.219269  1180  1409\n",
       "pz_act10             0.90000  0.391566  0.035054  0.159468   624   814\n",
       "pz_act14             0.83125  0.355422  0.029211  0.121262   557   716\n",
       "pz_act_rot27         0.88125  0.415663  0.029536  0.157807   351   540\n",
       "pz_act_drop0.3_ep14  0.89375  0.361446  0.032782  0.166113   526   717\n",
       "pz_act_drop0.4_ep25  0.86250  0.379518  0.031483  0.149502   510   688\n",
       "pz_act_norm2         0.81250  0.361446  0.024667  0.139535   424   587"
      ]
     },
     "execution_count": 21,
     "metadata": {},
     "output_type": "execute_result"
    }
   ],
   "source": [
    "recall_df"
   ]
  },
  {
   "cell_type": "code",
   "execution_count": 22,
   "metadata": {
    "ExecuteTime": {
     "end_time": "2021-01-22T12:23:30.736338Z",
     "start_time": "2021-01-22T12:23:30.724590Z"
    }
   },
   "outputs": [],
   "source": [
    "recall_df.to_csv('/home/rt2122/Data/models_stat/by_orig_cats.csv', index=False)"
   ]
  },
  {
   "cell_type": "code",
   "execution_count": null,
   "metadata": {},
   "outputs": [],
   "source": []
  }
 ],
 "metadata": {
  "kernelspec": {
   "display_name": "Python 3",
   "language": "python",
   "name": "python3"
  },
  "language_info": {
   "codemirror_mode": {
    "name": "ipython",
    "version": 3
   },
   "file_extension": ".py",
   "mimetype": "text/x-python",
   "name": "python",
   "nbconvert_exporter": "python",
   "pygments_lexer": "ipython3",
   "version": "3.8.3"
  }
 },
 "nbformat": 4,
 "nbformat_minor": 4
}
