{
 "cells": [
  {
   "cell_type": "code",
   "execution_count": 1,
   "metadata": {
    "ExecuteTime": {
     "end_time": "2021-01-31T13:39:46.759112Z",
     "start_time": "2021-01-31T13:39:41.094721Z"
    }
   },
   "outputs": [],
   "source": [
    "import pandas as pd\n",
    "import numpy as np\n",
    "from DS_Planck_Unet import val_pix\n",
    "from DS_models_stat import stat_orig_cats, stat_split_cats"
   ]
  },
  {
   "cell_type": "code",
   "execution_count": 4,
   "metadata": {
    "ExecuteTime": {
     "end_time": "2021-01-31T13:41:37.407618Z",
     "start_time": "2021-01-31T13:41:27.835608Z"
    }
   },
   "outputs": [
    {
     "data": {
      "text/html": [
       "<div>\n",
       "<style scoped>\n",
       "    .dataframe tbody tr th:only-of-type {\n",
       "        vertical-align: middle;\n",
       "    }\n",
       "\n",
       "    .dataframe tbody tr th {\n",
       "        vertical-align: top;\n",
       "    }\n",
       "\n",
       "    .dataframe thead th {\n",
       "        text-align: right;\n",
       "    }\n",
       "</style>\n",
       "<table border=\"1\" class=\"dataframe\">\n",
       "  <thead>\n",
       "    <tr style=\"text-align: right;\">\n",
       "      <th></th>\n",
       "      <th>name</th>\n",
       "      <th>planck_z</th>\n",
       "      <th>planck_no_z</th>\n",
       "      <th>mcxcwp</th>\n",
       "      <th>actwp</th>\n",
       "      <th>fp</th>\n",
       "    </tr>\n",
       "  </thead>\n",
       "  <tbody>\n",
       "    <tr>\n",
       "      <th>0</th>\n",
       "      <td>pz14</td>\n",
       "      <td>0.939394</td>\n",
       "      <td>0.821429</td>\n",
       "      <td>0.155340</td>\n",
       "      <td>0.130435</td>\n",
       "      <td>949</td>\n",
       "    </tr>\n",
       "    <tr>\n",
       "      <th>1</th>\n",
       "      <td>pz40</td>\n",
       "      <td>0.931818</td>\n",
       "      <td>0.785714</td>\n",
       "      <td>0.145631</td>\n",
       "      <td>0.130435</td>\n",
       "      <td>1180</td>\n",
       "    </tr>\n",
       "    <tr>\n",
       "      <th>2</th>\n",
       "      <td>pz_act10</td>\n",
       "      <td>0.901515</td>\n",
       "      <td>0.821429</td>\n",
       "      <td>0.097087</td>\n",
       "      <td>0.089202</td>\n",
       "      <td>624</td>\n",
       "    </tr>\n",
       "    <tr>\n",
       "      <th>3</th>\n",
       "      <td>pz_act14</td>\n",
       "      <td>0.825758</td>\n",
       "      <td>0.750000</td>\n",
       "      <td>0.058252</td>\n",
       "      <td>0.043478</td>\n",
       "      <td>557</td>\n",
       "    </tr>\n",
       "    <tr>\n",
       "      <th>4</th>\n",
       "      <td>pz_act_rot_drop0.1_ep9</td>\n",
       "      <td>0.931818</td>\n",
       "      <td>0.750000</td>\n",
       "      <td>0.155340</td>\n",
       "      <td>0.094518</td>\n",
       "      <td>605</td>\n",
       "    </tr>\n",
       "    <tr>\n",
       "      <th>5</th>\n",
       "      <td>pz_act_jan_rot_drop0.1_ep9</td>\n",
       "      <td>0.954545</td>\n",
       "      <td>0.785714</td>\n",
       "      <td>0.106796</td>\n",
       "      <td>0.093750</td>\n",
       "      <td>693</td>\n",
       "    </tr>\n",
       "  </tbody>\n",
       "</table>\n",
       "</div>"
      ],
      "text/plain": [
       "                         name  planck_z  planck_no_z    mcxcwp     actwp    fp\n",
       "0                        pz14  0.939394     0.821429  0.155340  0.130435   949\n",
       "1                        pz40  0.931818     0.785714  0.145631  0.130435  1180\n",
       "2                    pz_act10  0.901515     0.821429  0.097087  0.089202   624\n",
       "3                    pz_act14  0.825758     0.750000  0.058252  0.043478   557\n",
       "4      pz_act_rot_drop0.1_ep9  0.931818     0.750000  0.155340  0.094518   605\n",
       "5  pz_act_jan_rot_drop0.1_ep9  0.954545     0.785714  0.106796  0.093750   693"
      ]
     },
     "execution_count": 4,
     "metadata": {},
     "output_type": "execute_result"
    }
   ],
   "source": [
    "res_df = stat_split_cats(files_full, val_pix)\n",
    "res_df"
   ]
  },
  {
   "cell_type": "code",
   "execution_count": 5,
   "metadata": {
    "ExecuteTime": {
     "end_time": "2021-01-31T13:42:10.394033Z",
     "start_time": "2021-01-31T13:42:10.363182Z"
    }
   },
   "outputs": [],
   "source": [
    "res_df.to_csv('/home/rt2122/Data/models_stat/by_split_cats.csv', index=False)"
   ]
  },
  {
   "cell_type": "code",
   "execution_count": 6,
   "metadata": {
    "ExecuteTime": {
     "end_time": "2021-01-31T13:42:37.659583Z",
     "start_time": "2021-01-31T13:42:12.810908Z"
    }
   },
   "outputs": [
    {
     "name": "stderr",
     "output_type": "stream",
     "text": [
      "/home/rt2122/L/git/data-segmentation-2/modules/DS_models_stat.py:30: SettingWithCopyWarning: \n",
      "A value is trying to be set on a copy of a slice from a DataFrame.\n",
      "Try using .loc[row_indexer,col_indexer] = value instead\n",
      "\n",
      "See the caveats in the documentation: https://pandas.pydata.org/pandas-docs/stable/user_guide/indexing.html#returning-a-view-versus-a-copy\n",
      "  df['b'] = sc.galactic.b.degree\n"
     ]
    }
   ],
   "source": [
    "comp_df, recall_df = stat_orig_cats(files_full, '/home/rt2122/Data/original_catalogs/csv', \n",
    "                                    big_pix=val_pix, dict_cut={})"
   ]
  },
  {
   "cell_type": "code",
   "execution_count": 7,
   "metadata": {
    "ExecuteTime": {
     "end_time": "2021-01-31T13:42:37.671745Z",
     "start_time": "2021-01-31T13:42:37.661425Z"
    }
   },
   "outputs": [
    {
     "data": {
      "text/html": [
       "<div>\n",
       "<style scoped>\n",
       "    .dataframe tbody tr th:only-of-type {\n",
       "        vertical-align: middle;\n",
       "    }\n",
       "\n",
       "    .dataframe tbody tr th {\n",
       "        vertical-align: top;\n",
       "    }\n",
       "\n",
       "    .dataframe thead th {\n",
       "        text-align: right;\n",
       "    }\n",
       "</style>\n",
       "<table border=\"1\" class=\"dataframe\">\n",
       "  <thead>\n",
       "    <tr style=\"text-align: right;\">\n",
       "      <th></th>\n",
       "      <th>PSZ2</th>\n",
       "      <th>MCXC</th>\n",
       "      <th>RM</th>\n",
       "      <th>ACT</th>\n",
       "      <th>fp</th>\n",
       "      <th>all</th>\n",
       "    </tr>\n",
       "  </thead>\n",
       "  <tbody>\n",
       "    <tr>\n",
       "      <th>pz14</th>\n",
       "      <td>0.93125</td>\n",
       "      <td>0.439759</td>\n",
       "      <td>0.043817</td>\n",
       "      <td>0.220930</td>\n",
       "      <td>949</td>\n",
       "      <td>1181</td>\n",
       "    </tr>\n",
       "    <tr>\n",
       "      <th>pz40</th>\n",
       "      <td>0.91875</td>\n",
       "      <td>0.421687</td>\n",
       "      <td>0.048361</td>\n",
       "      <td>0.219269</td>\n",
       "      <td>1180</td>\n",
       "      <td>1409</td>\n",
       "    </tr>\n",
       "    <tr>\n",
       "      <th>pz_act10</th>\n",
       "      <td>0.90000</td>\n",
       "      <td>0.391566</td>\n",
       "      <td>0.035054</td>\n",
       "      <td>0.159468</td>\n",
       "      <td>624</td>\n",
       "      <td>814</td>\n",
       "    </tr>\n",
       "    <tr>\n",
       "      <th>pz_act14</th>\n",
       "      <td>0.83125</td>\n",
       "      <td>0.355422</td>\n",
       "      <td>0.029211</td>\n",
       "      <td>0.121262</td>\n",
       "      <td>557</td>\n",
       "      <td>716</td>\n",
       "    </tr>\n",
       "    <tr>\n",
       "      <th>pz_act_rot_drop0.1_ep9</th>\n",
       "      <td>0.91875</td>\n",
       "      <td>0.427711</td>\n",
       "      <td>0.037326</td>\n",
       "      <td>0.186047</td>\n",
       "      <td>605</td>\n",
       "      <td>815</td>\n",
       "    </tr>\n",
       "    <tr>\n",
       "      <th>pz_act_jan_rot_drop0.1_ep9</th>\n",
       "      <td>0.93750</td>\n",
       "      <td>0.409639</td>\n",
       "      <td>0.038624</td>\n",
       "      <td>0.179402</td>\n",
       "      <td>693</td>\n",
       "      <td>903</td>\n",
       "    </tr>\n",
       "  </tbody>\n",
       "</table>\n",
       "</div>"
      ],
      "text/plain": [
       "                               PSZ2      MCXC        RM       ACT    fp   all\n",
       "pz14                        0.93125  0.439759  0.043817  0.220930   949  1181\n",
       "pz40                        0.91875  0.421687  0.048361  0.219269  1180  1409\n",
       "pz_act10                    0.90000  0.391566  0.035054  0.159468   624   814\n",
       "pz_act14                    0.83125  0.355422  0.029211  0.121262   557   716\n",
       "pz_act_rot_drop0.1_ep9      0.91875  0.427711  0.037326  0.186047   605   815\n",
       "pz_act_jan_rot_drop0.1_ep9  0.93750  0.409639  0.038624  0.179402   693   903"
      ]
     },
     "execution_count": 7,
     "metadata": {},
     "output_type": "execute_result"
    }
   ],
   "source": [
    "recall_df"
   ]
  },
  {
   "cell_type": "code",
   "execution_count": 8,
   "metadata": {
    "ExecuteTime": {
     "end_time": "2021-01-31T13:42:38.113397Z",
     "start_time": "2021-01-31T13:42:37.673819Z"
    }
   },
   "outputs": [],
   "source": [
    "recall_df.to_csv('/home/rt2122/Data/models_stat/by_orig_cats.csv', index=False)"
   ]
  },
  {
   "cell_type": "code",
   "execution_count": 3,
   "metadata": {
    "ExecuteTime": {
     "end_time": "2021-01-31T13:41:00.960751Z",
     "start_time": "2021-01-31T13:41:00.955439Z"
    }
   },
   "outputs": [],
   "source": [
    "files_full = {'pz14' : '/home/rt2122/Data/detected_cats/full_pz14_thr0.1_step8.csv', \n",
    "        'pz40' : '/home/rt2122/Data/detected_cats/full_pz40_thr0.1_step8.csv',\n",
    "        'pz_act10' : '/home/rt2122/Data/detected_cats/full_pz_act10_thr0.1_step8.csv',\n",
    "        'pz_act14' : '/home/rt2122/Data/detected_cats/full_pz_act20_thr0.1_step8.csv',\n",
    "        'pz_act_rot_drop0.1_ep9' : \n",
    "              '/home/rt2122/Data/detected_cats/full_pz_act_rot_drop0.1_ep9_thr0.1_step8.csv',\n",
    "        'pz_act_jan_rot_drop0.1_ep9' : \n",
    "              '/home/rt2122/Data/detected_cats/full_pz_act_jan_rot_drop0.1_ep6_thr0.1_step8.csv'}"
   ]
  },
  {
   "cell_type": "code",
   "execution_count": 9,
   "metadata": {
    "ExecuteTime": {
     "end_time": "2021-01-31T13:44:45.708833Z",
     "start_time": "2021-01-31T13:42:38.119056Z"
    }
   },
   "outputs": [
    {
     "name": "stderr",
     "output_type": "stream",
     "text": [
      "/home/rt2122/L/git/data-segmentation-2/modules/DS_models_stat.py:30: SettingWithCopyWarning: \n",
      "A value is trying to be set on a copy of a slice from a DataFrame.\n",
      "Try using .loc[row_indexer,col_indexer] = value instead\n",
      "\n",
      "See the caveats in the documentation: https://pandas.pydata.org/pandas-docs/stable/user_guide/indexing.html#returning-a-view-versus-a-copy\n",
      "  df['b'] = sc.galactic.b.degree\n"
     ]
    }
   ],
   "source": [
    "comp_df, recall_df = stat_orig_cats(files_full, '/home/rt2122/Data/original_catalogs/csv', \n",
    "                                    big_pix=list(range(48)), dict_cut={})"
   ]
  },
  {
   "cell_type": "code",
   "execution_count": 10,
   "metadata": {
    "ExecuteTime": {
     "end_time": "2021-01-31T13:44:45.724811Z",
     "start_time": "2021-01-31T13:44:45.710126Z"
    }
   },
   "outputs": [
    {
     "data": {
      "text/html": [
       "<div>\n",
       "<style scoped>\n",
       "    .dataframe tbody tr th:only-of-type {\n",
       "        vertical-align: middle;\n",
       "    }\n",
       "\n",
       "    .dataframe tbody tr th {\n",
       "        vertical-align: top;\n",
       "    }\n",
       "\n",
       "    .dataframe thead th {\n",
       "        text-align: right;\n",
       "    }\n",
       "</style>\n",
       "<table border=\"1\" class=\"dataframe\">\n",
       "  <thead>\n",
       "    <tr style=\"text-align: right;\">\n",
       "      <th></th>\n",
       "      <th>PSZ2</th>\n",
       "      <th>PSZ2_err</th>\n",
       "      <th>PSZ2_std</th>\n",
       "      <th>MCXC</th>\n",
       "      <th>MCXC_err</th>\n",
       "      <th>MCXC_std</th>\n",
       "      <th>RM</th>\n",
       "      <th>RM_err</th>\n",
       "      <th>RM_std</th>\n",
       "      <th>ACT</th>\n",
       "      <th>ACT_err</th>\n",
       "      <th>ACT_std</th>\n",
       "      <th>all</th>\n",
       "      <th>fp</th>\n",
       "    </tr>\n",
       "  </thead>\n",
       "  <tbody>\n",
       "    <tr>\n",
       "      <th>pz14</th>\n",
       "      <td>1490</td>\n",
       "      <td>14.530</td>\n",
       "      <td>0.272888</td>\n",
       "      <td>730</td>\n",
       "      <td>15.965</td>\n",
       "      <td>0.274583</td>\n",
       "      <td>1266</td>\n",
       "      <td>282.760</td>\n",
       "      <td>1.114009</td>\n",
       "      <td>848</td>\n",
       "      <td>41.835</td>\n",
       "      <td>0.443307</td>\n",
       "      <td>16729</td>\n",
       "      <td>14594</td>\n",
       "    </tr>\n",
       "    <tr>\n",
       "      <th>pz40</th>\n",
       "      <td>1503</td>\n",
       "      <td>16.960</td>\n",
       "      <td>0.284953</td>\n",
       "      <td>740</td>\n",
       "      <td>19.865</td>\n",
       "      <td>0.295840</td>\n",
       "      <td>1315</td>\n",
       "      <td>322.920</td>\n",
       "      <td>1.187505</td>\n",
       "      <td>881</td>\n",
       "      <td>48.935</td>\n",
       "      <td>0.495714</td>\n",
       "      <td>19495</td>\n",
       "      <td>17306</td>\n",
       "    </tr>\n",
       "    <tr>\n",
       "      <th>pz_act10</th>\n",
       "      <td>1360</td>\n",
       "      <td>13.585</td>\n",
       "      <td>0.256011</td>\n",
       "      <td>662</td>\n",
       "      <td>13.685</td>\n",
       "      <td>0.268401</td>\n",
       "      <td>1058</td>\n",
       "      <td>206.545</td>\n",
       "      <td>1.021694</td>\n",
       "      <td>940</td>\n",
       "      <td>31.055</td>\n",
       "      <td>0.412688</td>\n",
       "      <td>18363</td>\n",
       "      <td>16316</td>\n",
       "    </tr>\n",
       "    <tr>\n",
       "      <th>pz_act14</th>\n",
       "      <td>1219</td>\n",
       "      <td>9.860</td>\n",
       "      <td>0.210770</td>\n",
       "      <td>602</td>\n",
       "      <td>11.035</td>\n",
       "      <td>0.236428</td>\n",
       "      <td>1230</td>\n",
       "      <td>190.720</td>\n",
       "      <td>0.911131</td>\n",
       "      <td>1884</td>\n",
       "      <td>31.875</td>\n",
       "      <td>0.393090</td>\n",
       "      <td>12239</td>\n",
       "      <td>9398</td>\n",
       "    </tr>\n",
       "    <tr>\n",
       "      <th>pz_act_rot_drop0.1_ep9</th>\n",
       "      <td>1437</td>\n",
       "      <td>11.795</td>\n",
       "      <td>0.235141</td>\n",
       "      <td>683</td>\n",
       "      <td>12.715</td>\n",
       "      <td>0.246725</td>\n",
       "      <td>1071</td>\n",
       "      <td>203.375</td>\n",
       "      <td>1.066376</td>\n",
       "      <td>779</td>\n",
       "      <td>29.870</td>\n",
       "      <td>0.406066</td>\n",
       "      <td>14224</td>\n",
       "      <td>12236</td>\n",
       "    </tr>\n",
       "    <tr>\n",
       "      <th>pz_act_jan_rot_drop0.1_ep9</th>\n",
       "      <td>1482</td>\n",
       "      <td>13.210</td>\n",
       "      <td>0.247864</td>\n",
       "      <td>707</td>\n",
       "      <td>14.515</td>\n",
       "      <td>0.263812</td>\n",
       "      <td>1122</td>\n",
       "      <td>224.275</td>\n",
       "      <td>1.037753</td>\n",
       "      <td>784</td>\n",
       "      <td>33.600</td>\n",
       "      <td>0.426096</td>\n",
       "      <td>17210</td>\n",
       "      <td>15162</td>\n",
       "    </tr>\n",
       "    <tr>\n",
       "      <th>all</th>\n",
       "      <td>1653</td>\n",
       "      <td>0.000</td>\n",
       "      <td>NaN</td>\n",
       "      <td>1743</td>\n",
       "      <td>0.000</td>\n",
       "      <td>NaN</td>\n",
       "      <td>26111</td>\n",
       "      <td>0.000</td>\n",
       "      <td>NaN</td>\n",
       "      <td>4195</td>\n",
       "      <td>0.000</td>\n",
       "      <td>NaN</td>\n",
       "      <td>0</td>\n",
       "      <td>0</td>\n",
       "    </tr>\n",
       "  </tbody>\n",
       "</table>\n",
       "</div>"
      ],
      "text/plain": [
       "                            PSZ2  PSZ2_err  PSZ2_std  MCXC  MCXC_err  \\\n",
       "pz14                        1490    14.530  0.272888   730    15.965   \n",
       "pz40                        1503    16.960  0.284953   740    19.865   \n",
       "pz_act10                    1360    13.585  0.256011   662    13.685   \n",
       "pz_act14                    1219     9.860  0.210770   602    11.035   \n",
       "pz_act_rot_drop0.1_ep9      1437    11.795  0.235141   683    12.715   \n",
       "pz_act_jan_rot_drop0.1_ep9  1482    13.210  0.247864   707    14.515   \n",
       "all                         1653     0.000       NaN  1743     0.000   \n",
       "\n",
       "                            MCXC_std     RM   RM_err    RM_std   ACT  ACT_err  \\\n",
       "pz14                        0.274583   1266  282.760  1.114009   848   41.835   \n",
       "pz40                        0.295840   1315  322.920  1.187505   881   48.935   \n",
       "pz_act10                    0.268401   1058  206.545  1.021694   940   31.055   \n",
       "pz_act14                    0.236428   1230  190.720  0.911131  1884   31.875   \n",
       "pz_act_rot_drop0.1_ep9      0.246725   1071  203.375  1.066376   779   29.870   \n",
       "pz_act_jan_rot_drop0.1_ep9  0.263812   1122  224.275  1.037753   784   33.600   \n",
       "all                              NaN  26111    0.000       NaN  4195    0.000   \n",
       "\n",
       "                             ACT_std    all     fp  \n",
       "pz14                        0.443307  16729  14594  \n",
       "pz40                        0.495714  19495  17306  \n",
       "pz_act10                    0.412688  18363  16316  \n",
       "pz_act14                    0.393090  12239   9398  \n",
       "pz_act_rot_drop0.1_ep9      0.406066  14224  12236  \n",
       "pz_act_jan_rot_drop0.1_ep9  0.426096  17210  15162  \n",
       "all                              NaN      0      0  "
      ]
     },
     "execution_count": 10,
     "metadata": {},
     "output_type": "execute_result"
    }
   ],
   "source": [
    "comp_df"
   ]
  },
  {
   "cell_type": "code",
   "execution_count": 11,
   "metadata": {
    "ExecuteTime": {
     "end_time": "2021-01-31T13:44:45.828722Z",
     "start_time": "2021-01-31T13:44:45.726241Z"
    }
   },
   "outputs": [
    {
     "data": {
      "text/html": [
       "<div>\n",
       "<style scoped>\n",
       "    .dataframe tbody tr th:only-of-type {\n",
       "        vertical-align: middle;\n",
       "    }\n",
       "\n",
       "    .dataframe tbody tr th {\n",
       "        vertical-align: top;\n",
       "    }\n",
       "\n",
       "    .dataframe thead th {\n",
       "        text-align: right;\n",
       "    }\n",
       "</style>\n",
       "<table border=\"1\" class=\"dataframe\">\n",
       "  <thead>\n",
       "    <tr style=\"text-align: right;\">\n",
       "      <th></th>\n",
       "      <th>PSZ2</th>\n",
       "      <th>MCXC</th>\n",
       "      <th>RM</th>\n",
       "      <th>ACT</th>\n",
       "      <th>fp</th>\n",
       "      <th>all</th>\n",
       "    </tr>\n",
       "  </thead>\n",
       "  <tbody>\n",
       "    <tr>\n",
       "      <th>pz14</th>\n",
       "      <td>0.901391</td>\n",
       "      <td>0.418818</td>\n",
       "      <td>0.048485</td>\n",
       "      <td>0.202145</td>\n",
       "      <td>14594</td>\n",
       "      <td>16729</td>\n",
       "    </tr>\n",
       "    <tr>\n",
       "      <th>pz40</th>\n",
       "      <td>0.909256</td>\n",
       "      <td>0.424555</td>\n",
       "      <td>0.050362</td>\n",
       "      <td>0.210012</td>\n",
       "      <td>17306</td>\n",
       "      <td>19495</td>\n",
       "    </tr>\n",
       "    <tr>\n",
       "      <th>pz_act10</th>\n",
       "      <td>0.822747</td>\n",
       "      <td>0.379805</td>\n",
       "      <td>0.040519</td>\n",
       "      <td>0.224076</td>\n",
       "      <td>16316</td>\n",
       "      <td>18363</td>\n",
       "    </tr>\n",
       "    <tr>\n",
       "      <th>pz_act14</th>\n",
       "      <td>0.737447</td>\n",
       "      <td>0.345382</td>\n",
       "      <td>0.047107</td>\n",
       "      <td>0.449106</td>\n",
       "      <td>9398</td>\n",
       "      <td>12239</td>\n",
       "    </tr>\n",
       "    <tr>\n",
       "      <th>pz_act_rot_drop0.1_ep9</th>\n",
       "      <td>0.869328</td>\n",
       "      <td>0.391853</td>\n",
       "      <td>0.041017</td>\n",
       "      <td>0.185697</td>\n",
       "      <td>12236</td>\n",
       "      <td>14224</td>\n",
       "    </tr>\n",
       "    <tr>\n",
       "      <th>pz_act_jan_rot_drop0.1_ep9</th>\n",
       "      <td>0.896552</td>\n",
       "      <td>0.405622</td>\n",
       "      <td>0.042970</td>\n",
       "      <td>0.186889</td>\n",
       "      <td>15162</td>\n",
       "      <td>17210</td>\n",
       "    </tr>\n",
       "  </tbody>\n",
       "</table>\n",
       "</div>"
      ],
      "text/plain": [
       "                                PSZ2      MCXC        RM       ACT     fp  \\\n",
       "pz14                        0.901391  0.418818  0.048485  0.202145  14594   \n",
       "pz40                        0.909256  0.424555  0.050362  0.210012  17306   \n",
       "pz_act10                    0.822747  0.379805  0.040519  0.224076  16316   \n",
       "pz_act14                    0.737447  0.345382  0.047107  0.449106   9398   \n",
       "pz_act_rot_drop0.1_ep9      0.869328  0.391853  0.041017  0.185697  12236   \n",
       "pz_act_jan_rot_drop0.1_ep9  0.896552  0.405622  0.042970  0.186889  15162   \n",
       "\n",
       "                              all  \n",
       "pz14                        16729  \n",
       "pz40                        19495  \n",
       "pz_act10                    18363  \n",
       "pz_act14                    12239  \n",
       "pz_act_rot_drop0.1_ep9      14224  \n",
       "pz_act_jan_rot_drop0.1_ep9  17210  "
      ]
     },
     "execution_count": 11,
     "metadata": {},
     "output_type": "execute_result"
    }
   ],
   "source": [
    "recall_df"
   ]
  },
  {
   "cell_type": "code",
   "execution_count": 12,
   "metadata": {
    "ExecuteTime": {
     "end_time": "2021-01-31T13:44:45.928465Z",
     "start_time": "2021-01-31T13:44:45.830245Z"
    }
   },
   "outputs": [],
   "source": [
    "recall_df.to_csv('/home/rt2122/Data/models_stat/by_orig_cats_full.csv', index=False)"
   ]
  },
  {
   "cell_type": "code",
   "execution_count": null,
   "metadata": {},
   "outputs": [],
   "source": []
  }
 ],
 "metadata": {
  "kernelspec": {
   "display_name": "Python 3",
   "language": "python",
   "name": "python3"
  },
  "language_info": {
   "codemirror_mode": {
    "name": "ipython",
    "version": 3
   },
   "file_extension": ".py",
   "mimetype": "text/x-python",
   "name": "python",
   "nbconvert_exporter": "python",
   "pygments_lexer": "ipython3",
   "version": "3.8.3"
  }
 },
 "nbformat": 4,
 "nbformat_minor": 4
}
