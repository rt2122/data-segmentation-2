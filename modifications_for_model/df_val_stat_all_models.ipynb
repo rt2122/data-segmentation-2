{
 "cells": [
  {
   "cell_type": "code",
   "execution_count": 1,
   "metadata": {
    "ExecuteTime": {
     "end_time": "2021-06-05T08:52:40.332409Z",
     "start_time": "2021-06-05T08:52:39.631811Z"
    }
   },
   "outputs": [],
   "source": [
    "import pandas as pd\n",
    "import numpy as np\n",
    "from DS_Planck_Unet import val_pix, east_val, west_val\n",
    "from DS_models_stat import stat_orig_cats, stat_split_cats, do_all_stats, stat_cat, change_df\n",
    "import seaborn as sns\n",
    "from matplotlib import cm\n",
    "from matplotlib.ticker import LinearLocator"
   ]
  },
  {
   "cell_type": "code",
   "execution_count": 2,
   "metadata": {
    "ExecuteTime": {
     "end_time": "2021-06-05T08:52:40.338452Z",
     "start_time": "2021-06-05T08:52:40.333728Z"
    }
   },
   "outputs": [],
   "source": [
    "files3 = { \n",
    "        'pz_rot_28' : '/home/rt2122/Data/detected_cats/full_pz_rot28_thr0.1_step8.csv',\n",
    "        #'pz_act_found2_22' : '/home/rt2122/Data/detected_cats/full_pz_act_found2_22_thr0.1_step8.csv',\n",
    "        'pz_all_found34' : '/home/rt2122/Data/detected_cats/full_pz_all_found34_thr0.1_step8.csv',\n",
    "        'br_cat' : '/home/rt2122/Data/SRGz/nilc_src_0.3deg_mar12_matched.csv'\n",
    "        }"
   ]
  },
  {
   "cell_type": "code",
   "execution_count": 2,
   "metadata": {
    "ExecuteTime": {
     "end_time": "2021-04-28T22:29:12.520237Z",
     "start_time": "2021-04-28T22:29:12.516449Z"
    }
   },
   "outputs": [],
   "source": [
    "files_full = {'pz14' : '/home/rt2122/Data/detected_cats/full_pz14_thr0.1_step8.csv', \n",
    "        #'pz40' : '/home/rt2122/Data/detected_cats/full_pz40_thr0.1_step8.csv',\n",
    "        'pz_rot_28' : '/home/rt2122/Data/detected_cats/full_pz_rot28_thr0.1_step8.csv',\n",
    "        #'pz_act10' : '/home/rt2122/Data/detected_cats/full_pz_act10_thr0.1_step8.csv',\n",
    "        'pz_act14' : '/home/rt2122/Data/detected_cats/full_pz_act20_thr0.1_step8.csv',\n",
    "        #'pz_act_rot_drop0.1_ep9' : \n",
    "        #      '/home/rt2122/Data/detected_cats/full_pz_act_rot_drop0.1_ep9_thr0.1_step8.csv',\n",
    "        'pz_act_jan_rot_drop0.1_ep6' : \n",
    "              '/home/rt2122/Data/detected_cats/full_pz_act_jan_rot_drop0.1_ep6_thr0.1_step8.csv',\n",
    "        #'pz_act_feb_rot_drop0.1_ep5' : \n",
    "        #     '/home/rt2122/Data/detected_cats/full_pz_act_feb_rot_drop0.1_ep5_thr0.1_step8.csv',\n",
    "        'pz_act_feb_rot_drop0.2_ep10' :\n",
    "              '/home/rt2122/Data/detected_cats/full_pz_act_feb_rot_drop0.2_ep10_thr0.1_step8.csv',\n",
    "        #'pz_act_feb_rot_drop0.3_ep14' :\n",
    "        #     '/home/rt2122/Data/detected_cats/full_pz_act_feb_rot_drop0.3_ep14_thr0.1_step8.csv',\n",
    "        'pz_act_found21':'/home/rt2122/Data/detected_cats/full_pz_act_found21_thr0.1_step8.csv',\n",
    "        'pz_act_found2_22' : '/home/rt2122/Data/detected_cats/full_pz_act_found2_22_thr0.1_step8.csv',\n",
    "        'pz_all_found34' : '/home/rt2122/Data/detected_cats/full_pz_all_found34_thr0.1_step8.csv'}"
   ]
  },
  {
   "cell_type": "code",
   "execution_count": 7,
   "metadata": {
    "ExecuteTime": {
     "end_time": "2021-04-14T20:51:25.795916Z",
     "start_time": "2021-04-14T20:51:25.790468Z"
    }
   },
   "outputs": [],
   "source": [
    "files_val= {'pz14' : '/home/rt2122/Data/detected_cats/full_pz14_thr0.1_step8.csv', \n",
    "        'pz40' : '/home/rt2122/Data/detected_cats/full_pz40_thr0.1_step8.csv',\n",
    "            \n",
    "        #'pz_rot19' : '/home/rt2122/Data/detected_cats/val_pz_rot19_thr0.1_step8.csv',\n",
    "        'pz_rot28' : '/home/rt2122/Data/detected_cats/val_pz_rot28_thr0.1_step8.csv',\n",
    "        #'pz_rot33' : '/home/rt2122/Data/detected_cats/val_pz_rot33_thr0.1_step8.csv',\n",
    "            \n",
    "        'pz_act10' : '/home/rt2122/Data/detected_cats/full_pz_act10_thr0.1_step8.csv',\n",
    "        'pz_act14' : '/home/rt2122/Data/detected_cats/full_pz_act20_thr0.1_step8.csv',\n",
    "            \n",
    "        #'pz_act_rot_drop0.1_ep9' : \n",
    "        #      '/home/rt2122/Data/detected_cats/full_pz_act_rot_drop0.1_ep9_thr0.1_step8.csv',\n",
    "        #'pz_act_jan_rot_drop0.1_ep6' : \n",
    "        #      '/home/rt2122/Data/detected_cats/full_pz_act_jan_rot_drop0.1_ep6_thr0.1_step8.csv',\n",
    "        #'pz_act_feb_rot_drop0.1_ep5' : \n",
    "        #     '/home/rt2122/Data/detected_cats/full_pz_act_feb_rot_drop0.1_ep5_thr0.1_step8.csv',\n",
    "        #'pz_act_feb_rot_drop0.2_ep10': \n",
    "        #   '/home/rt2122/Data/detected_cats/val_pz_act_feb_rot_drop0.2_ep10_thr0.1_step8.csv',\n",
    "        #'pz_act_feb_rot_drop0.3_ep14' :\n",
    "             #'/home/rt2122/Data/detected_cats/full_pz_act_feb_rot_drop0.3_ep14_thr0.1_step8.csv',\n",
    "           #'pz_act_q_0.1_0.9_12' : '/home/rt2122/Data/detected_cats/val_pz_act_q_12_thr0.1_step8.csv',\n",
    "           #'pz_act_q_0.1_0.9_14' : '/home/rt2122/Data/detected_cats/val_pz_act_q_14_thr0.1_step8.csv',\n",
    "           #'pz_act_found13' : '/home/rt2122/Data/detected_cats/val_pz_act_found13_thr0.1_step8.csv',\n",
    "           #'pz_act_found16':'/home/rt2122/Data/detected_cats/val_pz_act_found16_thr0.1_step8.csv',\n",
    "           'pz_act_found21':'/home/rt2122/Data/detected_cats/val_pz_act_found21_thr0.1_step8.csv',\n",
    "           'pz_act_found2_22' : '/home/rt2122/Data/detected_cats/val_pz_act_found2_22_thr0.1_step8.csv',\n",
    "           #'pz_all_found19' : '/home/rt2122/Data/detected_cats/val_pz_all_found19_thr0.1_step8.csv',\n",
    "           #'pz_all_found25' : '/home/rt2122/Data/detected_cats/val_pz_all_found25_thr0.1_step8.csv',\n",
    "           'pz_all_found34' : '/home/rt2122/Data/detected_cats/val_pz_all_found34_thr0.1_step8.csv',\n",
    "           #'pz_all_found2_17':'/home/rt2122/Data/detected_cats/val_pz_all_found2_17_thr0.1_step8.csv',\n",
    "           #'pz_all_found2_29':'/home/rt2122/Data/detected_cats/val_pz_all_found2_29_thr0.1_step8.csv',\n",
    "           #'pz_all_found2_34':'/home/rt2122/Data/detected_cats/val_pz_all_found2_34_thr0.1_step8.csv',\n",
    "           #'pz_found0.8_20' : '/home/rt2122/Data/detected_cats/found0.8/we_val_pz_found0.8_20_thr0.1_step8.csv',\n",
    "           #'pz_found0_28' : '/home/rt2122/Data/detected_cats/found0/we_val_pz_found0_28_thr0.1_step8.csv'\n",
    "           }"
   ]
  },
  {
   "cell_type": "code",
   "execution_count": 3,
   "metadata": {
    "ExecuteTime": {
     "end_time": "2021-04-05T19:20:16.405235Z",
     "start_time": "2021-04-05T19:20:14.422567Z"
    }
   },
   "outputs": [
    {
     "data": {
      "text/html": [
       "<div>\n",
       "<style scoped>\n",
       "    .dataframe tbody tr th:only-of-type {\n",
       "        vertical-align: middle;\n",
       "    }\n",
       "\n",
       "    .dataframe tbody tr th {\n",
       "        vertical-align: top;\n",
       "    }\n",
       "\n",
       "    .dataframe thead th {\n",
       "        text-align: right;\n",
       "    }\n",
       "</style>\n",
       "<table border=\"1\" class=\"dataframe\">\n",
       "  <thead>\n",
       "    <tr style=\"text-align: right;\">\n",
       "      <th></th>\n",
       "      <th>planck_z</th>\n",
       "      <th>planck_no_z</th>\n",
       "      <th>mcxcwp</th>\n",
       "      <th>actwp</th>\n",
       "      <th>fp</th>\n",
       "    </tr>\n",
       "  </thead>\n",
       "  <tbody>\n",
       "    <tr>\n",
       "      <th>pz14</th>\n",
       "      <td>0.939394</td>\n",
       "      <td>0.821429</td>\n",
       "      <td>0.155340</td>\n",
       "      <td>0.130435</td>\n",
       "      <td>949</td>\n",
       "    </tr>\n",
       "    <tr>\n",
       "      <th>pz40</th>\n",
       "      <td>0.931818</td>\n",
       "      <td>0.785714</td>\n",
       "      <td>0.145631</td>\n",
       "      <td>0.130435</td>\n",
       "      <td>1180</td>\n",
       "    </tr>\n",
       "    <tr>\n",
       "      <th>pz_rot19</th>\n",
       "      <td>0.962121</td>\n",
       "      <td>0.750000</td>\n",
       "      <td>0.165049</td>\n",
       "      <td>0.145221</td>\n",
       "      <td>1439</td>\n",
       "    </tr>\n",
       "    <tr>\n",
       "      <th>pz_rot28</th>\n",
       "      <td>0.962121</td>\n",
       "      <td>0.785714</td>\n",
       "      <td>0.174757</td>\n",
       "      <td>0.141544</td>\n",
       "      <td>1287</td>\n",
       "    </tr>\n",
       "    <tr>\n",
       "      <th>pz_rot33</th>\n",
       "      <td>0.954545</td>\n",
       "      <td>0.785714</td>\n",
       "      <td>0.155340</td>\n",
       "      <td>0.154412</td>\n",
       "      <td>1379</td>\n",
       "    </tr>\n",
       "    <tr>\n",
       "      <th>pz_act10</th>\n",
       "      <td>0.901515</td>\n",
       "      <td>0.821429</td>\n",
       "      <td>0.097087</td>\n",
       "      <td>0.089202</td>\n",
       "      <td>624</td>\n",
       "    </tr>\n",
       "    <tr>\n",
       "      <th>pz_act14</th>\n",
       "      <td>0.825758</td>\n",
       "      <td>0.750000</td>\n",
       "      <td>0.058252</td>\n",
       "      <td>0.043478</td>\n",
       "      <td>557</td>\n",
       "    </tr>\n",
       "    <tr>\n",
       "      <th>pz_act_rot_drop0.1_ep9</th>\n",
       "      <td>0.931818</td>\n",
       "      <td>0.750000</td>\n",
       "      <td>0.155340</td>\n",
       "      <td>0.094518</td>\n",
       "      <td>605</td>\n",
       "    </tr>\n",
       "    <tr>\n",
       "      <th>pz_act_jan_rot_drop0.1_ep6</th>\n",
       "      <td>0.954545</td>\n",
       "      <td>0.785714</td>\n",
       "      <td>0.106796</td>\n",
       "      <td>0.093750</td>\n",
       "      <td>693</td>\n",
       "    </tr>\n",
       "    <tr>\n",
       "      <th>pz_act_feb_rot_drop0.1_ep5</th>\n",
       "      <td>0.969697</td>\n",
       "      <td>0.821429</td>\n",
       "      <td>0.116505</td>\n",
       "      <td>0.163603</td>\n",
       "      <td>1843</td>\n",
       "    </tr>\n",
       "    <tr>\n",
       "      <th>pz_act_feb_rot_drop0.2_ep10</th>\n",
       "      <td>0.969697</td>\n",
       "      <td>0.821429</td>\n",
       "      <td>0.155340</td>\n",
       "      <td>0.136029</td>\n",
       "      <td>1424</td>\n",
       "    </tr>\n",
       "    <tr>\n",
       "      <th>pz_act_feb_rot_drop0.3_ep14</th>\n",
       "      <td>0.946970</td>\n",
       "      <td>0.714286</td>\n",
       "      <td>0.145631</td>\n",
       "      <td>0.152574</td>\n",
       "      <td>1695</td>\n",
       "    </tr>\n",
       "    <tr>\n",
       "      <th>pz_act_q_0.1_0.9_12</th>\n",
       "      <td>0.962121</td>\n",
       "      <td>0.821429</td>\n",
       "      <td>0.145631</td>\n",
       "      <td>0.139706</td>\n",
       "      <td>1039</td>\n",
       "    </tr>\n",
       "    <tr>\n",
       "      <th>pz_act_q_0.1_0.9_14</th>\n",
       "      <td>0.962121</td>\n",
       "      <td>0.750000</td>\n",
       "      <td>0.165049</td>\n",
       "      <td>0.148897</td>\n",
       "      <td>1290</td>\n",
       "    </tr>\n",
       "    <tr>\n",
       "      <th>pz_act_found13</th>\n",
       "      <td>0.954545</td>\n",
       "      <td>0.785714</td>\n",
       "      <td>0.145631</td>\n",
       "      <td>0.139706</td>\n",
       "      <td>1232</td>\n",
       "    </tr>\n",
       "    <tr>\n",
       "      <th>pz_act_found16</th>\n",
       "      <td>0.946970</td>\n",
       "      <td>0.821429</td>\n",
       "      <td>0.126214</td>\n",
       "      <td>0.125000</td>\n",
       "      <td>1073</td>\n",
       "    </tr>\n",
       "    <tr>\n",
       "      <th>pz_act_found21</th>\n",
       "      <td>0.946970</td>\n",
       "      <td>0.750000</td>\n",
       "      <td>0.165049</td>\n",
       "      <td>0.136029</td>\n",
       "      <td>1307</td>\n",
       "    </tr>\n",
       "    <tr>\n",
       "      <th>pz_act_found2_22</th>\n",
       "      <td>0.954545</td>\n",
       "      <td>0.750000</td>\n",
       "      <td>0.174757</td>\n",
       "      <td>0.163603</td>\n",
       "      <td>1250</td>\n",
       "    </tr>\n",
       "    <tr>\n",
       "      <th>pz_all_found19</th>\n",
       "      <td>0.962121</td>\n",
       "      <td>0.750000</td>\n",
       "      <td>0.155340</td>\n",
       "      <td>0.150735</td>\n",
       "      <td>1385</td>\n",
       "    </tr>\n",
       "    <tr>\n",
       "      <th>pz_all_found25</th>\n",
       "      <td>0.969697</td>\n",
       "      <td>0.785714</td>\n",
       "      <td>0.155340</td>\n",
       "      <td>0.158088</td>\n",
       "      <td>1412</td>\n",
       "    </tr>\n",
       "    <tr>\n",
       "      <th>pz_all_found34</th>\n",
       "      <td>0.962121</td>\n",
       "      <td>0.785714</td>\n",
       "      <td>0.174757</td>\n",
       "      <td>0.159926</td>\n",
       "      <td>1390</td>\n",
       "    </tr>\n",
       "    <tr>\n",
       "      <th>pz_all_found2_17</th>\n",
       "      <td>0.946970</td>\n",
       "      <td>0.821429</td>\n",
       "      <td>0.194175</td>\n",
       "      <td>0.163603</td>\n",
       "      <td>1515</td>\n",
       "    </tr>\n",
       "    <tr>\n",
       "      <th>pz_all_found2_29</th>\n",
       "      <td>0.946970</td>\n",
       "      <td>0.821429</td>\n",
       "      <td>0.194175</td>\n",
       "      <td>0.158088</td>\n",
       "      <td>1341</td>\n",
       "    </tr>\n",
       "    <tr>\n",
       "      <th>pz_all_found2_34</th>\n",
       "      <td>0.946970</td>\n",
       "      <td>0.821429</td>\n",
       "      <td>0.203883</td>\n",
       "      <td>0.161765</td>\n",
       "      <td>1564</td>\n",
       "    </tr>\n",
       "    <tr>\n",
       "      <th>pz_found0.8_20</th>\n",
       "      <td>0.954545</td>\n",
       "      <td>0.750000</td>\n",
       "      <td>0.184466</td>\n",
       "      <td>0.141544</td>\n",
       "      <td>1344</td>\n",
       "    </tr>\n",
       "    <tr>\n",
       "      <th>pz_found0_28</th>\n",
       "      <td>0.954545</td>\n",
       "      <td>0.785714</td>\n",
       "      <td>0.165049</td>\n",
       "      <td>0.148897</td>\n",
       "      <td>1424</td>\n",
       "    </tr>\n",
       "  </tbody>\n",
       "</table>\n",
       "</div>"
      ],
      "text/plain": [
       "                             planck_z  planck_no_z    mcxcwp     actwp    fp\n",
       "pz14                         0.939394     0.821429  0.155340  0.130435   949\n",
       "pz40                         0.931818     0.785714  0.145631  0.130435  1180\n",
       "pz_rot19                     0.962121     0.750000  0.165049  0.145221  1439\n",
       "pz_rot28                     0.962121     0.785714  0.174757  0.141544  1287\n",
       "pz_rot33                     0.954545     0.785714  0.155340  0.154412  1379\n",
       "pz_act10                     0.901515     0.821429  0.097087  0.089202   624\n",
       "pz_act14                     0.825758     0.750000  0.058252  0.043478   557\n",
       "pz_act_rot_drop0.1_ep9       0.931818     0.750000  0.155340  0.094518   605\n",
       "pz_act_jan_rot_drop0.1_ep6   0.954545     0.785714  0.106796  0.093750   693\n",
       "pz_act_feb_rot_drop0.1_ep5   0.969697     0.821429  0.116505  0.163603  1843\n",
       "pz_act_feb_rot_drop0.2_ep10  0.969697     0.821429  0.155340  0.136029  1424\n",
       "pz_act_feb_rot_drop0.3_ep14  0.946970     0.714286  0.145631  0.152574  1695\n",
       "pz_act_q_0.1_0.9_12          0.962121     0.821429  0.145631  0.139706  1039\n",
       "pz_act_q_0.1_0.9_14          0.962121     0.750000  0.165049  0.148897  1290\n",
       "pz_act_found13               0.954545     0.785714  0.145631  0.139706  1232\n",
       "pz_act_found16               0.946970     0.821429  0.126214  0.125000  1073\n",
       "pz_act_found21               0.946970     0.750000  0.165049  0.136029  1307\n",
       "pz_act_found2_22             0.954545     0.750000  0.174757  0.163603  1250\n",
       "pz_all_found19               0.962121     0.750000  0.155340  0.150735  1385\n",
       "pz_all_found25               0.969697     0.785714  0.155340  0.158088  1412\n",
       "pz_all_found34               0.962121     0.785714  0.174757  0.159926  1390\n",
       "pz_all_found2_17             0.946970     0.821429  0.194175  0.163603  1515\n",
       "pz_all_found2_29             0.946970     0.821429  0.194175  0.158088  1341\n",
       "pz_all_found2_34             0.946970     0.821429  0.203883  0.161765  1564\n",
       "pz_found0.8_20               0.954545     0.750000  0.184466  0.141544  1344\n",
       "pz_found0_28                 0.954545     0.785714  0.165049  0.148897  1424"
      ]
     },
     "execution_count": 3,
     "metadata": {},
     "output_type": "execute_result"
    }
   ],
   "source": [
    "res_df, stat_df = stat_split_cats(files_val, val_pix)\n",
    "res_df"
   ]
  },
  {
   "cell_type": "code",
   "execution_count": 3,
   "metadata": {
    "ExecuteTime": {
     "end_time": "2021-05-25T08:10:37.156081Z",
     "start_time": "2021-05-25T08:10:18.700845Z"
    }
   },
   "outputs": [
    {
     "name": "stderr",
     "output_type": "stream",
     "text": [
      "/home/rt2122/L/git/data-segmentation-2/modules/DS_models_stat.py:79: SettingWithCopyWarning: \n",
      "A value is trying to be set on a copy of a slice from a DataFrame.\n",
      "Try using .loc[row_indexer,col_indexer] = value instead\n",
      "\n",
      "See the caveats in the documentation: https://pandas.pydata.org/pandas-docs/stable/user_guide/indexing.html#returning-a-view-versus-a-copy\n",
      "  df['found'] = False\n",
      "/home/rt2122/L/git/data-segmentation-2/modules/DS_models_stat.py:35: SettingWithCopyWarning: \n",
      "A value is trying to be set on a copy of a slice from a DataFrame.\n",
      "Try using .loc[row_indexer,col_indexer] = value instead\n",
      "\n",
      "See the caveats in the documentation: https://pandas.pydata.org/pandas-docs/stable/user_guide/indexing.html#returning-a-view-versus-a-copy\n",
      "  df['b'] = sc.galactic.b.degree\n",
      "/home/rt2122/L/git/data-segmentation-2/modules/DS_models_stat.py:79: SettingWithCopyWarning: \n",
      "A value is trying to be set on a copy of a slice from a DataFrame.\n",
      "Try using .loc[row_indexer,col_indexer] = value instead\n",
      "\n",
      "See the caveats in the documentation: https://pandas.pydata.org/pandas-docs/stable/user_guide/indexing.html#returning-a-view-versus-a-copy\n",
      "  df['found'] = False\n",
      "/home/rt2122/L/git/data-segmentation-2/modules/DS_models_stat.py:35: SettingWithCopyWarning: \n",
      "A value is trying to be set on a copy of a slice from a DataFrame.\n",
      "Try using .loc[row_indexer,col_indexer] = value instead\n",
      "\n",
      "See the caveats in the documentation: https://pandas.pydata.org/pandas-docs/stable/user_guide/indexing.html#returning-a-view-versus-a-copy\n",
      "  df['b'] = sc.galactic.b.degree\n",
      "/home/rt2122/anaconda3/lib/python3.8/site-packages/pandas/core/indexing.py:671: SettingWithCopyWarning: \n",
      "A value is trying to be set on a copy of a slice from a DataFrame\n",
      "\n",
      "See the caveats in the documentation: https://pandas.pydata.org/pandas-docs/stable/user_guide/indexing.html#returning-a-view-versus-a-copy\n",
      "  self._setitem_with_indexer(indexer, value)\n",
      "/home/rt2122/L/git/data-segmentation-2/modules/DS_models_stat.py:103: SettingWithCopyWarning: \n",
      "A value is trying to be set on a copy of a slice from a DataFrame\n",
      "\n",
      "See the caveats in the documentation: https://pandas.pydata.org/pandas-docs/stable/user_guide/indexing.html#returning-a-view-versus-a-copy\n",
      "  det['found'].iloc[idx[matched]] = True\n"
     ]
    }
   ],
   "source": [
    "comp_df, recall_df = stat_orig_cats(files3, '/home/rt2122/Data/original_catalogs/csv', \n",
    "                                    big_pix=east_val + west_val, dict_cut={})"
   ]
  },
  {
   "cell_type": "code",
   "execution_count": 5,
   "metadata": {
    "ExecuteTime": {
     "end_time": "2021-05-25T08:13:54.219931Z",
     "start_time": "2021-05-25T08:13:54.207215Z"
    }
   },
   "outputs": [
    {
     "data": {
      "text/html": [
       "<div>\n",
       "<style scoped>\n",
       "    .dataframe tbody tr th:only-of-type {\n",
       "        vertical-align: middle;\n",
       "    }\n",
       "\n",
       "    .dataframe tbody tr th {\n",
       "        vertical-align: top;\n",
       "    }\n",
       "\n",
       "    .dataframe thead th {\n",
       "        text-align: right;\n",
       "    }\n",
       "</style>\n",
       "<table border=\"1\" class=\"dataframe\">\n",
       "  <thead>\n",
       "    <tr style=\"text-align: right;\">\n",
       "      <th></th>\n",
       "      <th>PSZ2</th>\n",
       "      <th>MCXC</th>\n",
       "      <th>ACT</th>\n",
       "      <th>Abell</th>\n",
       "      <th>fp</th>\n",
       "      <th>all</th>\n",
       "    </tr>\n",
       "  </thead>\n",
       "  <tbody>\n",
       "    <tr>\n",
       "      <th>pz_rot_28</th>\n",
       "      <td>0.922018</td>\n",
       "      <td>0.419492</td>\n",
       "      <td>0.225914</td>\n",
       "      <td>0.222615</td>\n",
       "      <td>1333</td>\n",
       "      <td>1745</td>\n",
       "    </tr>\n",
       "    <tr>\n",
       "      <th>pz_all_found34</th>\n",
       "      <td>0.940367</td>\n",
       "      <td>0.444915</td>\n",
       "      <td>0.242525</td>\n",
       "      <td>0.250883</td>\n",
       "      <td>1463</td>\n",
       "      <td>1933</td>\n",
       "    </tr>\n",
       "    <tr>\n",
       "      <th>br_cat</th>\n",
       "      <td>0.963303</td>\n",
       "      <td>0.419492</td>\n",
       "      <td>0.227575</td>\n",
       "      <td>0.240283</td>\n",
       "      <td>1487</td>\n",
       "      <td>1921</td>\n",
       "    </tr>\n",
       "  </tbody>\n",
       "</table>\n",
       "</div>"
      ],
      "text/plain": [
       "                    PSZ2      MCXC       ACT     Abell    fp   all\n",
       "pz_rot_28       0.922018  0.419492  0.225914  0.222615  1333  1745\n",
       "pz_all_found34  0.940367  0.444915  0.242525  0.250883  1463  1933\n",
       "br_cat          0.963303  0.419492  0.227575  0.240283  1487  1921"
      ]
     },
     "execution_count": 5,
     "metadata": {},
     "output_type": "execute_result"
    }
   ],
   "source": [
    "recall_df[['PSZ2', 'MCXC', 'ACT', 'Abell', 'fp', 'all']]"
   ]
  },
  {
   "cell_type": "code",
   "execution_count": 5,
   "metadata": {
    "ExecuteTime": {
     "end_time": "2021-06-05T07:48:27.804294Z",
     "start_time": "2021-06-05T07:48:26.625536Z"
    }
   },
   "outputs": [
    {
     "name": "stderr",
     "output_type": "stream",
     "text": [
      "/home/rt2122/L/git/data-segmentation-2/modules/DS_models_stat.py:77: SettingWithCopyWarning: \n",
      "A value is trying to be set on a copy of a slice from a DataFrame.\n",
      "Try using .loc[row_indexer,col_indexer] = value instead\n",
      "\n",
      "See the caveats in the documentation: https://pandas.pydata.org/pandas-docs/stable/user_guide/indexing.html#returning-a-view-versus-a-copy\n",
      "  df['found'] = False\n",
      "/home/rt2122/L/git/data-segmentation-2/modules/DS_models_stat.py:35: SettingWithCopyWarning: \n",
      "A value is trying to be set on a copy of a slice from a DataFrame.\n",
      "Try using .loc[row_indexer,col_indexer] = value instead\n",
      "\n",
      "See the caveats in the documentation: https://pandas.pydata.org/pandas-docs/stable/user_guide/indexing.html#returning-a-view-versus-a-copy\n",
      "  df['b'] = sc.galactic.b.degree\n",
      "/home/rt2122/L/git/data-segmentation-2/modules/DS_models_stat.py:77: SettingWithCopyWarning: \n",
      "A value is trying to be set on a copy of a slice from a DataFrame.\n",
      "Try using .loc[row_indexer,col_indexer] = value instead\n",
      "\n",
      "See the caveats in the documentation: https://pandas.pydata.org/pandas-docs/stable/user_guide/indexing.html#returning-a-view-versus-a-copy\n",
      "  df['found'] = False\n",
      "/home/rt2122/L/git/data-segmentation-2/modules/DS_models_stat.py:35: SettingWithCopyWarning: \n",
      "A value is trying to be set on a copy of a slice from a DataFrame.\n",
      "Try using .loc[row_indexer,col_indexer] = value instead\n",
      "\n",
      "See the caveats in the documentation: https://pandas.pydata.org/pandas-docs/stable/user_guide/indexing.html#returning-a-view-versus-a-copy\n",
      "  df['b'] = sc.galactic.b.degree\n",
      "/home/rt2122/anaconda3/lib/python3.8/site-packages/pandas/core/indexing.py:671: SettingWithCopyWarning: \n",
      "A value is trying to be set on a copy of a slice from a DataFrame\n",
      "\n",
      "See the caveats in the documentation: https://pandas.pydata.org/pandas-docs/stable/user_guide/indexing.html#returning-a-view-versus-a-copy\n",
      "  self._setitem_with_indexer(indexer, value)\n"
     ]
    }
   ],
   "source": [
    "comp_df, recall_df = stat_orig_cats(files3, '/home/rt2122/Data/original_catalogs/csv', \n",
    "                                    big_pix=list(range(48)), dict_cut={}, match_dist=400/3600, no_err=True)"
   ]
  },
  {
   "cell_type": "code",
   "execution_count": 9,
   "metadata": {
    "ExecuteTime": {
     "end_time": "2021-06-05T07:50:04.738306Z",
     "start_time": "2021-06-05T07:50:04.503316Z"
    }
   },
   "outputs": [],
   "source": [
    "recall_df_split, stat_df = stat_split_cats(files3, list(range(48)))"
   ]
  },
  {
   "cell_type": "code",
   "execution_count": 15,
   "metadata": {
    "ExecuteTime": {
     "end_time": "2021-06-05T07:55:25.847722Z",
     "start_time": "2021-06-05T07:55:25.829313Z"
    }
   },
   "outputs": [
    {
     "data": {
      "text/html": [
       "<div>\n",
       "<style scoped>\n",
       "    .dataframe tbody tr th:only-of-type {\n",
       "        vertical-align: middle;\n",
       "    }\n",
       "\n",
       "    .dataframe tbody tr th {\n",
       "        vertical-align: top;\n",
       "    }\n",
       "\n",
       "    .dataframe thead th {\n",
       "        text-align: right;\n",
       "    }\n",
       "</style>\n",
       "<table border=\"1\" class=\"dataframe\">\n",
       "  <thead>\n",
       "    <tr style=\"text-align: right;\">\n",
       "      <th></th>\n",
       "      <th>PSZ2</th>\n",
       "      <th>MCXC</th>\n",
       "      <th>ACT</th>\n",
       "      <th>Abell</th>\n",
       "      <th>fp</th>\n",
       "      <th>all</th>\n",
       "      <th>PSZ2(z)</th>\n",
       "      <th>precision</th>\n",
       "    </tr>\n",
       "  </thead>\n",
       "  <tbody>\n",
       "    <tr>\n",
       "      <th>pz_rot_28</th>\n",
       "      <td>0.931034</td>\n",
       "      <td>0.470453</td>\n",
       "      <td>0.241955</td>\n",
       "      <td>0.230373</td>\n",
       "      <td>20604</td>\n",
       "      <td>23331</td>\n",
       "      <td>0.974406</td>\n",
       "      <td>0.116883</td>\n",
       "    </tr>\n",
       "    <tr>\n",
       "      <th>pz_all_found34</th>\n",
       "      <td>0.935269</td>\n",
       "      <td>0.473322</td>\n",
       "      <td>0.262694</td>\n",
       "      <td>0.248037</td>\n",
       "      <td>20480</td>\n",
       "      <td>23352</td>\n",
       "      <td>0.975320</td>\n",
       "      <td>0.122987</td>\n",
       "    </tr>\n",
       "    <tr>\n",
       "      <th>br_cat</th>\n",
       "      <td>0.747126</td>\n",
       "      <td>0.395869</td>\n",
       "      <td>0.205006</td>\n",
       "      <td>0.203140</td>\n",
       "      <td>11544</td>\n",
       "      <td>13689</td>\n",
       "      <td>0.845521</td>\n",
       "      <td>0.156695</td>\n",
       "    </tr>\n",
       "  </tbody>\n",
       "</table>\n",
       "</div>"
      ],
      "text/plain": [
       "                    PSZ2      MCXC       ACT     Abell     fp    all  \\\n",
       "pz_rot_28       0.931034  0.470453  0.241955  0.230373  20604  23331   \n",
       "pz_all_found34  0.935269  0.473322  0.262694  0.248037  20480  23352   \n",
       "br_cat          0.747126  0.395869  0.205006  0.203140  11544  13689   \n",
       "\n",
       "                 PSZ2(z)  precision  \n",
       "pz_rot_28       0.974406   0.116883  \n",
       "pz_all_found34  0.975320   0.122987  \n",
       "br_cat          0.845521   0.156695  "
      ]
     },
     "execution_count": 15,
     "metadata": {},
     "output_type": "execute_result"
    }
   ],
   "source": [
    "recall_df['PSZ2(z)'] = recall_df_split['planck_z']\n",
    "recall_df['precision'] = 1 - (recall_df['fp'] / recall_df['all'])\n",
    "recall_df"
   ]
  },
  {
   "cell_type": "code",
   "execution_count": 12,
   "metadata": {
    "ExecuteTime": {
     "end_time": "2021-06-05T07:52:42.196191Z",
     "start_time": "2021-06-05T07:52:41.826938Z"
    }
   },
   "outputs": [
    {
     "name": "stderr",
     "output_type": "stream",
     "text": [
      "/home/rt2122/L/git/data-segmentation-2/modules/DS_models_stat.py:77: SettingWithCopyWarning: \n",
      "A value is trying to be set on a copy of a slice from a DataFrame.\n",
      "Try using .loc[row_indexer,col_indexer] = value instead\n",
      "\n",
      "See the caveats in the documentation: https://pandas.pydata.org/pandas-docs/stable/user_guide/indexing.html#returning-a-view-versus-a-copy\n",
      "  df['found'] = False\n",
      "/home/rt2122/L/git/data-segmentation-2/modules/DS_models_stat.py:35: SettingWithCopyWarning: \n",
      "A value is trying to be set on a copy of a slice from a DataFrame.\n",
      "Try using .loc[row_indexer,col_indexer] = value instead\n",
      "\n",
      "See the caveats in the documentation: https://pandas.pydata.org/pandas-docs/stable/user_guide/indexing.html#returning-a-view-versus-a-copy\n",
      "  df['b'] = sc.galactic.b.degree\n",
      "/home/rt2122/anaconda3/lib/python3.8/site-packages/pandas/core/indexing.py:671: SettingWithCopyWarning: \n",
      "A value is trying to be set on a copy of a slice from a DataFrame\n",
      "\n",
      "See the caveats in the documentation: https://pandas.pydata.org/pandas-docs/stable/user_guide/indexing.html#returning-a-view-versus-a-copy\n",
      "  self._setitem_with_indexer(indexer, value)\n",
      "/home/rt2122/L/git/data-segmentation-2/modules/DS_models_stat.py:101: SettingWithCopyWarning: \n",
      "A value is trying to be set on a copy of a slice from a DataFrame\n",
      "\n",
      "See the caveats in the documentation: https://pandas.pydata.org/pandas-docs/stable/user_guide/indexing.html#returning-a-view-versus-a-copy\n",
      "  det['found'].iloc[idx[matched]] = True\n"
     ]
    }
   ],
   "source": [
    "comp_df41, recall_df41 = stat_orig_cats(files3, '/home/rt2122/Data/original_catalogs/csv', \n",
    "                                    big_pix=[41], dict_cut={}, match_dist=400/3600, no_err=True)"
   ]
  },
  {
   "cell_type": "code",
   "execution_count": 14,
   "metadata": {
    "ExecuteTime": {
     "end_time": "2021-06-05T07:54:38.242140Z",
     "start_time": "2021-06-05T07:54:37.956520Z"
    }
   },
   "outputs": [
    {
     "data": {
      "text/html": [
       "<div>\n",
       "<style scoped>\n",
       "    .dataframe tbody tr th:only-of-type {\n",
       "        vertical-align: middle;\n",
       "    }\n",
       "\n",
       "    .dataframe tbody tr th {\n",
       "        vertical-align: top;\n",
       "    }\n",
       "\n",
       "    .dataframe thead th {\n",
       "        text-align: right;\n",
       "    }\n",
       "</style>\n",
       "<table border=\"1\" class=\"dataframe\">\n",
       "  <thead>\n",
       "    <tr style=\"text-align: right;\">\n",
       "      <th></th>\n",
       "      <th>PSZ2</th>\n",
       "      <th>MCXC</th>\n",
       "      <th>ACT</th>\n",
       "      <th>Abell</th>\n",
       "      <th>fp</th>\n",
       "      <th>all</th>\n",
       "      <th>precision</th>\n",
       "    </tr>\n",
       "  </thead>\n",
       "  <tbody>\n",
       "    <tr>\n",
       "      <th>pz_rot_28</th>\n",
       "      <td>0.913793</td>\n",
       "      <td>0.500000</td>\n",
       "      <td>0.268293</td>\n",
       "      <td>0.201117</td>\n",
       "      <td>246</td>\n",
       "      <td>364</td>\n",
       "      <td>0.116883</td>\n",
       "    </tr>\n",
       "    <tr>\n",
       "      <th>pz_all_found34</th>\n",
       "      <td>0.913793</td>\n",
       "      <td>0.514706</td>\n",
       "      <td>0.292683</td>\n",
       "      <td>0.217877</td>\n",
       "      <td>300</td>\n",
       "      <td>430</td>\n",
       "      <td>0.122987</td>\n",
       "    </tr>\n",
       "    <tr>\n",
       "      <th>br_cat</th>\n",
       "      <td>0.948276</td>\n",
       "      <td>0.500000</td>\n",
       "      <td>0.283537</td>\n",
       "      <td>0.229050</td>\n",
       "      <td>400</td>\n",
       "      <td>530</td>\n",
       "      <td>0.156695</td>\n",
       "    </tr>\n",
       "  </tbody>\n",
       "</table>\n",
       "</div>"
      ],
      "text/plain": [
       "                    PSZ2      MCXC       ACT     Abell   fp  all  precision\n",
       "pz_rot_28       0.913793  0.500000  0.268293  0.201117  246  364   0.116883\n",
       "pz_all_found34  0.913793  0.514706  0.292683  0.217877  300  430   0.122987\n",
       "br_cat          0.948276  0.500000  0.283537  0.229050  400  530   0.156695"
      ]
     },
     "execution_count": 14,
     "metadata": {},
     "output_type": "execute_result"
    }
   ],
   "source": [
    "recall_df41['precision'] = 1 - (recall_df['fp'] / recall_df['all'])\n",
    "recall_df41"
   ]
  },
  {
   "cell_type": "code",
   "execution_count": 4,
   "metadata": {
    "ExecuteTime": {
     "end_time": "2021-06-05T08:50:12.052282Z",
     "start_time": "2021-06-05T08:50:11.206030Z"
    }
   },
   "outputs": [
    {
     "name": "stderr",
     "output_type": "stream",
     "text": [
      "/home/rt2122/L/git/data-segmentation-2/modules/DS_models_stat.py:151: SettingWithCopyWarning: \n",
      "A value is trying to be set on a copy of a slice from a DataFrame.\n",
      "Try using .loc[row_indexer,col_indexer] = value instead\n",
      "\n",
      "See the caveats in the documentation: https://pandas.pydata.org/pandas-docs/stable/user_guide/indexing.html#returning-a-view-versus-a-copy\n",
      "  det_cat['found'] = False\n",
      "/home/rt2122/anaconda3/lib/python3.8/site-packages/pandas/core/indexing.py:966: SettingWithCopyWarning: \n",
      "A value is trying to be set on a copy of a slice from a DataFrame.\n",
      "Try using .loc[row_indexer,col_indexer] = value instead\n",
      "\n",
      "See the caveats in the documentation: https://pandas.pydata.org/pandas-docs/stable/user_guide/indexing.html#returning-a-view-versus-a-copy\n",
      "  self.obj[item] = s\n"
     ]
    },
    {
     "name": "stdout",
     "output_type": "stream",
     "text": [
      "\\begin{tabular}{llllllr}\n",
      "\\toprule\n",
      "{} &   PSZ2 &   MCXC &    ACT &  Abell & precision &    all \\\\\n",
      "\\midrule\n",
      "pz\\_rot\\_28      &  0.917 &  0.425 &  0.219 &  0.196 &     0.108 &  23331 \\\\\n",
      "pz\\_all\\_found34 &  0.923 &  0.438 &  0.236 &  0.209 &     0.113 &  23352 \\\\\n",
      "br\\_cat         &  0.741 &  0.378 &  0.190 &  0.178 &     0.148 &  13689 \\\\\n",
      "\\bottomrule\n",
      "\\end{tabular}\n",
      "\n"
     ]
    }
   ],
   "source": [
    "recall = stat_cat(files3)\n",
    "recall = change_df(recall, format_s=lambda x: '{:.3f}'.format(x) if not float(x).is_integer() else x) \n",
    "print(recall.to_latex())"
   ]
  },
  {
   "cell_type": "code",
   "execution_count": 5,
   "metadata": {
    "ExecuteTime": {
     "end_time": "2021-06-05T08:50:19.932760Z",
     "start_time": "2021-06-05T08:50:19.922483Z"
    }
   },
   "outputs": [
    {
     "data": {
      "text/html": [
       "<div>\n",
       "<style scoped>\n",
       "    .dataframe tbody tr th:only-of-type {\n",
       "        vertical-align: middle;\n",
       "    }\n",
       "\n",
       "    .dataframe tbody tr th {\n",
       "        vertical-align: top;\n",
       "    }\n",
       "\n",
       "    .dataframe thead th {\n",
       "        text-align: right;\n",
       "    }\n",
       "</style>\n",
       "<table border=\"1\" class=\"dataframe\">\n",
       "  <thead>\n",
       "    <tr style=\"text-align: right;\">\n",
       "      <th></th>\n",
       "      <th>PSZ2</th>\n",
       "      <th>MCXC</th>\n",
       "      <th>ACT</th>\n",
       "      <th>Abell</th>\n",
       "      <th>precision</th>\n",
       "      <th>all</th>\n",
       "    </tr>\n",
       "  </thead>\n",
       "  <tbody>\n",
       "    <tr>\n",
       "      <th>pz_rot_28</th>\n",
       "      <td>0.917</td>\n",
       "      <td>0.425</td>\n",
       "      <td>0.219</td>\n",
       "      <td>0.196</td>\n",
       "      <td>0.108</td>\n",
       "      <td>23331</td>\n",
       "    </tr>\n",
       "    <tr>\n",
       "      <th>pz_all_found34</th>\n",
       "      <td>0.923</td>\n",
       "      <td>0.438</td>\n",
       "      <td>0.236</td>\n",
       "      <td>0.209</td>\n",
       "      <td>0.113</td>\n",
       "      <td>23352</td>\n",
       "    </tr>\n",
       "    <tr>\n",
       "      <th>br_cat</th>\n",
       "      <td>0.741</td>\n",
       "      <td>0.378</td>\n",
       "      <td>0.190</td>\n",
       "      <td>0.178</td>\n",
       "      <td>0.148</td>\n",
       "      <td>13689</td>\n",
       "    </tr>\n",
       "  </tbody>\n",
       "</table>\n",
       "</div>"
      ],
      "text/plain": [
       "                 PSZ2   MCXC    ACT  Abell precision    all\n",
       "pz_rot_28       0.917  0.425  0.219  0.196     0.108  23331\n",
       "pz_all_found34  0.923  0.438  0.236  0.209     0.113  23352\n",
       "br_cat          0.741  0.378  0.190  0.178     0.148  13689"
      ]
     },
     "execution_count": 5,
     "metadata": {},
     "output_type": "execute_result"
    }
   ],
   "source": [
    "recall"
   ]
  },
  {
   "cell_type": "code",
   "execution_count": 13,
   "metadata": {
    "ExecuteTime": {
     "end_time": "2021-06-05T13:56:40.196169Z",
     "start_time": "2021-06-05T13:56:39.763492Z"
    }
   },
   "outputs": [
    {
     "name": "stderr",
     "output_type": "stream",
     "text": [
      "/home/rt2122/L/git/data-segmentation-2/modules/DS_models_stat.py:151: SettingWithCopyWarning: \n",
      "A value is trying to be set on a copy of a slice from a DataFrame.\n",
      "Try using .loc[row_indexer,col_indexer] = value instead\n",
      "\n",
      "See the caveats in the documentation: https://pandas.pydata.org/pandas-docs/stable/user_guide/indexing.html#returning-a-view-versus-a-copy\n",
      "  det_cat['found'] = False\n",
      "/home/rt2122/anaconda3/lib/python3.8/site-packages/pandas/core/indexing.py:966: SettingWithCopyWarning: \n",
      "A value is trying to be set on a copy of a slice from a DataFrame.\n",
      "Try using .loc[row_indexer,col_indexer] = value instead\n",
      "\n",
      "See the caveats in the documentation: https://pandas.pydata.org/pandas-docs/stable/user_guide/indexing.html#returning-a-view-versus-a-copy\n",
      "  self.obj[item] = s\n"
     ]
    },
    {
     "data": {
      "text/html": [
       "<div>\n",
       "<style scoped>\n",
       "    .dataframe tbody tr th:only-of-type {\n",
       "        vertical-align: middle;\n",
       "    }\n",
       "\n",
       "    .dataframe tbody tr th {\n",
       "        vertical-align: top;\n",
       "    }\n",
       "\n",
       "    .dataframe thead th {\n",
       "        text-align: right;\n",
       "    }\n",
       "</style>\n",
       "<table border=\"1\" class=\"dataframe\">\n",
       "  <thead>\n",
       "    <tr style=\"text-align: right;\">\n",
       "      <th></th>\n",
       "      <th>PSZ2</th>\n",
       "      <th>MCXC</th>\n",
       "      <th>ACT</th>\n",
       "      <th>Abell</th>\n",
       "      <th>precision</th>\n",
       "      <th>all</th>\n",
       "    </tr>\n",
       "  </thead>\n",
       "  <tbody>\n",
       "    <tr>\n",
       "      <th>pz_rot_28</th>\n",
       "      <td>0.799</td>\n",
       "      <td>0.346</td>\n",
       "      <td>0.125</td>\n",
       "      <td>0.136</td>\n",
       "      <td>0.374</td>\n",
       "      <td>4475</td>\n",
       "    </tr>\n",
       "    <tr>\n",
       "      <th>pz_all_found34</th>\n",
       "      <td>0.759</td>\n",
       "      <td>0.339</td>\n",
       "      <td>0.119</td>\n",
       "      <td>0.128</td>\n",
       "      <td>0.562</td>\n",
       "      <td>2749</td>\n",
       "    </tr>\n",
       "    <tr>\n",
       "      <th>br_cat</th>\n",
       "      <td>0.741</td>\n",
       "      <td>0.378</td>\n",
       "      <td>0.190</td>\n",
       "      <td>0.178</td>\n",
       "      <td>0.148</td>\n",
       "      <td>13689</td>\n",
       "    </tr>\n",
       "  </tbody>\n",
       "</table>\n",
       "</div>"
      ],
      "text/plain": [
       "                 PSZ2   MCXC    ACT  Abell precision    all\n",
       "pz_rot_28       0.799  0.346  0.125  0.136     0.374   4475\n",
       "pz_all_found34  0.759  0.339  0.119  0.128     0.562   2749\n",
       "br_cat          0.741  0.378  0.190  0.178     0.148  13689"
      ]
     },
     "execution_count": 13,
     "metadata": {},
     "output_type": "execute_result"
    }
   ],
   "source": [
    "recall65 = stat_cat(files3, dict_cut={'max_pred' : [0.65, 2]})\n",
    "recall65 = change_df(recall65, format_s=lambda x: '{:.3f}'.format(x) if not float(x).is_integer() else x)\n",
    "recall65"
   ]
  },
  {
   "cell_type": "code",
   "execution_count": 12,
   "metadata": {
    "ExecuteTime": {
     "end_time": "2021-06-05T13:56:04.106704Z",
     "start_time": "2021-06-05T13:56:03.724546Z"
    }
   },
   "outputs": [
    {
     "name": "stderr",
     "output_type": "stream",
     "text": [
      "/home/rt2122/L/git/data-segmentation-2/modules/DS_models_stat.py:151: SettingWithCopyWarning: \n",
      "A value is trying to be set on a copy of a slice from a DataFrame.\n",
      "Try using .loc[row_indexer,col_indexer] = value instead\n",
      "\n",
      "See the caveats in the documentation: https://pandas.pydata.org/pandas-docs/stable/user_guide/indexing.html#returning-a-view-versus-a-copy\n",
      "  det_cat['found'] = False\n",
      "/home/rt2122/anaconda3/lib/python3.8/site-packages/pandas/core/indexing.py:966: SettingWithCopyWarning: \n",
      "A value is trying to be set on a copy of a slice from a DataFrame.\n",
      "Try using .loc[row_indexer,col_indexer] = value instead\n",
      "\n",
      "See the caveats in the documentation: https://pandas.pydata.org/pandas-docs/stable/user_guide/indexing.html#returning-a-view-versus-a-copy\n",
      "  self.obj[item] = s\n"
     ]
    },
    {
     "data": {
      "text/html": [
       "<div>\n",
       "<style scoped>\n",
       "    .dataframe tbody tr th:only-of-type {\n",
       "        vertical-align: middle;\n",
       "    }\n",
       "\n",
       "    .dataframe tbody tr th {\n",
       "        vertical-align: top;\n",
       "    }\n",
       "\n",
       "    .dataframe thead th {\n",
       "        text-align: right;\n",
       "    }\n",
       "</style>\n",
       "<table border=\"1\" class=\"dataframe\">\n",
       "  <thead>\n",
       "    <tr style=\"text-align: right;\">\n",
       "      <th></th>\n",
       "      <th>PSZ2</th>\n",
       "      <th>MCXC</th>\n",
       "      <th>ACT</th>\n",
       "      <th>Abell</th>\n",
       "      <th>precision</th>\n",
       "      <th>all</th>\n",
       "    </tr>\n",
       "  </thead>\n",
       "  <tbody>\n",
       "    <tr>\n",
       "      <th>pz_rot_28</th>\n",
       "      <td>0.682</td>\n",
       "      <td>0.302</td>\n",
       "      <td>0.098</td>\n",
       "      <td>0.110</td>\n",
       "      <td>0.586</td>\n",
       "      <td>2220</td>\n",
       "    </tr>\n",
       "    <tr>\n",
       "      <th>pz_all_found34</th>\n",
       "      <td>0.567</td>\n",
       "      <td>0.271</td>\n",
       "      <td>0.074</td>\n",
       "      <td>0.092</td>\n",
       "      <td>0.851</td>\n",
       "      <td>1176</td>\n",
       "    </tr>\n",
       "    <tr>\n",
       "      <th>br_cat</th>\n",
       "      <td>0.741</td>\n",
       "      <td>0.378</td>\n",
       "      <td>0.190</td>\n",
       "      <td>0.178</td>\n",
       "      <td>0.148</td>\n",
       "      <td>13689</td>\n",
       "    </tr>\n",
       "  </tbody>\n",
       "</table>\n",
       "</div>"
      ],
      "text/plain": [
       "                 PSZ2   MCXC    ACT  Abell precision    all\n",
       "pz_rot_28       0.682  0.302  0.098  0.110     0.586   2220\n",
       "pz_all_found34  0.567  0.271  0.074  0.092     0.851   1176\n",
       "br_cat          0.741  0.378  0.190  0.178     0.148  13689"
      ]
     },
     "execution_count": 12,
     "metadata": {},
     "output_type": "execute_result"
    }
   ],
   "source": [
    "recall85 = stat_cat(files3, dict_cut={'max_pred' : [0.85, 2]})\n",
    "recall85 = change_df(recall85, format_s=lambda x: '{:.3f}'.format(x) if not float(x).is_integer() else x) \n",
    "recall85"
   ]
  },
  {
   "cell_type": "code",
   "execution_count": 14,
   "metadata": {
    "ExecuteTime": {
     "end_time": "2021-06-05T13:58:01.506927Z",
     "start_time": "2021-06-05T13:58:01.490564Z"
    }
   },
   "outputs": [
    {
     "data": {
      "text/html": [
       "<div>\n",
       "<style scoped>\n",
       "    .dataframe tbody tr th:only-of-type {\n",
       "        vertical-align: middle;\n",
       "    }\n",
       "\n",
       "    .dataframe tbody tr th {\n",
       "        vertical-align: top;\n",
       "    }\n",
       "\n",
       "    .dataframe thead th {\n",
       "        text-align: right;\n",
       "    }\n",
       "</style>\n",
       "<table border=\"1\" class=\"dataframe\">\n",
       "  <thead>\n",
       "    <tr style=\"text-align: right;\">\n",
       "      <th></th>\n",
       "      <th>PSZ2</th>\n",
       "      <th>MCXC</th>\n",
       "      <th>ACT</th>\n",
       "      <th>Abell</th>\n",
       "      <th>precision</th>\n",
       "      <th>all</th>\n",
       "    </tr>\n",
       "  </thead>\n",
       "  <tbody>\n",
       "    <tr>\n",
       "      <th>pz_rot_28 0.65</th>\n",
       "      <td>0.799</td>\n",
       "      <td>0.346</td>\n",
       "      <td>0.125</td>\n",
       "      <td>0.136</td>\n",
       "      <td>0.374</td>\n",
       "      <td>4475</td>\n",
       "    </tr>\n",
       "    <tr>\n",
       "      <th>pz_all_found34 0.65</th>\n",
       "      <td>0.759</td>\n",
       "      <td>0.339</td>\n",
       "      <td>0.119</td>\n",
       "      <td>0.128</td>\n",
       "      <td>0.562</td>\n",
       "      <td>2749</td>\n",
       "    </tr>\n",
       "    <tr>\n",
       "      <th>br_cat 0.65</th>\n",
       "      <td>0.741</td>\n",
       "      <td>0.378</td>\n",
       "      <td>0.190</td>\n",
       "      <td>0.178</td>\n",
       "      <td>0.148</td>\n",
       "      <td>13689</td>\n",
       "    </tr>\n",
       "  </tbody>\n",
       "</table>\n",
       "</div>"
      ],
      "text/plain": [
       "                      PSZ2   MCXC    ACT  Abell precision    all\n",
       "pz_rot_28 0.65       0.799  0.346  0.125  0.136     0.374   4475\n",
       "pz_all_found34 0.65  0.759  0.339  0.119  0.128     0.562   2749\n",
       "br_cat 0.65          0.741  0.378  0.190  0.178     0.148  13689"
      ]
     },
     "execution_count": 14,
     "metadata": {},
     "output_type": "execute_result"
    }
   ],
   "source": [
    "recall65.index += ' 0.65'"
   ]
  },
  {
   "cell_type": "code",
   "execution_count": 15,
   "metadata": {
    "ExecuteTime": {
     "end_time": "2021-06-05T13:58:18.953298Z",
     "start_time": "2021-06-05T13:58:18.948511Z"
    }
   },
   "outputs": [],
   "source": [
    "recall85.index += ' 0.85'"
   ]
  },
  {
   "cell_type": "code",
   "execution_count": 26,
   "metadata": {
    "ExecuteTime": {
     "end_time": "2021-06-05T14:03:29.840656Z",
     "start_time": "2021-06-05T14:03:29.832068Z"
    }
   },
   "outputs": [
    {
     "data": {
      "text/plain": [
       "{'PSZ2': '0.799',\n",
       " 'MCXC': '0.346',\n",
       " 'ACT': '0.125',\n",
       " 'Abell': '0.136',\n",
       " 'precision': '0.374',\n",
       " 'all': 4475}"
      ]
     },
     "execution_count": 26,
     "metadata": {},
     "output_type": "execute_result"
    }
   ],
   "source": [
    "dict(recall65.loc['pz_rot_28 0.65'])"
   ]
  },
  {
   "cell_type": "code",
   "execution_count": 28,
   "metadata": {
    "ExecuteTime": {
     "end_time": "2021-06-05T14:04:33.486831Z",
     "start_time": "2021-06-05T14:04:33.465111Z"
    }
   },
   "outputs": [
    {
     "name": "stdout",
     "output_type": "stream",
     "text": [
      "\\begin{tabular}{llllllr}\n",
      "\\toprule\n",
      "{} &   PSZ2 &   MCXC &    ACT &  Abell & precision &    all \\\\\n",
      "\\midrule\n",
      "pz\\_all\\_found34 0.65 &  0.759 &  0.339 &  0.119 &  0.128 &     0.562 &   2749 \\\\\n",
      "pz\\_rot\\_28 0.85      &  0.682 &  0.302 &  0.098 &  0.110 &     0.586 &   2220 \\\\\n",
      "br\\_cat 0.65         &  0.741 &  0.378 &  0.190 &  0.178 &     0.148 &  13689 \\\\\n",
      "\\bottomrule\n",
      "\\end{tabular}\n",
      "\n"
     ]
    }
   ],
   "source": [
    "res = pd.concat([pd.DataFrame(dict(recall65.loc['pz_all_found34 0.65']), index=['pz_all_found34 0.65']), \n",
    "                 pd.DataFrame(dict(recall85.loc['pz_rot_28 0.85']), index=['pz_rot_28 0.85']), \n",
    "                 pd.DataFrame(dict(recall65.loc['br_cat 0.65']), index=['br_cat 0.65'])])\n",
    "print(res.to_latex())"
   ]
  },
  {
   "cell_type": "code",
   "execution_count": null,
   "metadata": {},
   "outputs": [],
   "source": []
  }
 ],
 "metadata": {
  "kernelspec": {
   "display_name": "Python 3",
   "language": "python",
   "name": "python3"
  },
  "language_info": {
   "codemirror_mode": {
    "name": "ipython",
    "version": 3
   },
   "file_extension": ".py",
   "mimetype": "text/x-python",
   "name": "python",
   "nbconvert_exporter": "python",
   "pygments_lexer": "ipython3",
   "version": "3.8.3"
  }
 },
 "nbformat": 4,
 "nbformat_minor": 4
}
