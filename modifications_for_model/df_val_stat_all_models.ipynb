{
 "cells": [
  {
   "cell_type": "code",
   "execution_count": 1,
   "metadata": {
    "ExecuteTime": {
     "end_time": "2021-01-22T12:58:16.275763Z",
     "start_time": "2021-01-22T12:58:16.038365Z"
    }
   },
   "outputs": [],
   "source": [
    "import pandas as pd\n",
    "import numpy as np\n",
    "from DS_Planck_Unet import val_pix\n",
    "from DS_models_stat import stat_orig_cats, stat_split_cats"
   ]
  },
  {
   "cell_type": "code",
   "execution_count": 2,
   "metadata": {
    "ExecuteTime": {
     "end_time": "2021-01-22T12:58:16.280636Z",
     "start_time": "2021-01-22T12:58:16.277380Z"
    }
   },
   "outputs": [],
   "source": [
    "files = {'pz14' : '/home/rt2122/Data/detected_cats/full_pz14_thr0.1_step8.csv', \n",
    "        'pz40' : '/home/rt2122/Data/detected_cats/full_pz40_thr0.1_step8.csv',\n",
    "        'pz_act10' : '/home/rt2122/Data/detected_cats/full_pz_act10_thr0.1_step8.csv',\n",
    "        'pz_act14' : '/home/rt2122/Data/detected_cats/full_pz_act20_thr0.1_step8.csv',\n",
    "        'pz_act_rot27' : '/home/rt2122/Data/detected_cats/act_ros_rot/val_pz_act_rot_ep27_thr0.1_step8.csv',\n",
    "        'pz_act_drop0.3_ep14' : \n",
    "             '/home/rt2122/Data/detected_cats/act_ros_drop0.3/pz_act_drop0.3_ep14_thr0.1_step8.csv',\n",
    "        'pz_act_drop0.3_ep18' : \n",
    "             '/home/rt2122/Data/detected_cats/act_ros_drop0.3/pz_act_drop0.3_ep18_thr0.1_step8.csv',\n",
    "        'pz_act_drop0.4_ep14' : \n",
    "             '/home/rt2122/Data/detected_cats/act_ros_drop0.4/pz_act_drop0.4_ep14_thr0.1_step8.csv',\n",
    "        'pz_act_drop0.4_ep25' : \n",
    "             '/home/rt2122/Data/detected_cats/act_ros_drop0.4/pz_act_drop0.4_ep25_thr0.1_step8.csv',\n",
    "        'pz_act_norm2' : '/home/rt2122/Data/detected_cats/act_ros_norm/pz_act_norm2_thr0.1_step8.csv',\n",
    "        'pz_act_rot_drop0.1_ep9' : ''}"
   ]
  },
  {
   "cell_type": "code",
   "execution_count": 3,
   "metadata": {
    "ExecuteTime": {
     "end_time": "2021-01-22T12:58:17.758141Z",
     "start_time": "2021-01-22T12:58:16.284031Z"
    }
   },
   "outputs": [
    {
     "name": "stderr",
     "output_type": "stream",
     "text": [
      "<ipython-input-3-45f549c6dac2>:3: SettingWithCopyWarning: \n",
      "A value is trying to be set on a copy of a slice from a DataFrame\n",
      "\n",
      "See the caveats in the documentation: https://pandas.pydata.org/pandas-docs/stable/user_guide/indexing.html#returning-a-view-versus-a-copy\n",
      "  df['catalog'][df['catalog'] == 'act_erosita'] = 'actwp'\n",
      "<ipython-input-3-45f549c6dac2>:4: SettingWithCopyWarning: \n",
      "A value is trying to be set on a copy of a slice from a DataFrame\n",
      "\n",
      "See the caveats in the documentation: https://pandas.pydata.org/pandas-docs/stable/user_guide/indexing.html#returning-a-view-versus-a-copy\n",
      "  df['catalog'][df['catalog'] == 'act'] = 'actwp'\n"
     ]
    }
   ],
   "source": [
    "for model in files:\n",
    "    df = pd.read_csv(files[model])\n",
    "    df['catalog'][df['catalog'] == 'act_erosita'] = 'actwp'\n",
    "    df['catalog'][df['catalog'] == 'act'] = 'actwp'\n",
    "    df.to_csv(files[model], index=False)"
   ]
  },
  {
   "cell_type": "code",
   "execution_count": 4,
   "metadata": {
    "ExecuteTime": {
     "end_time": "2021-01-22T12:58:18.826112Z",
     "start_time": "2021-01-22T12:58:17.760291Z"
    }
   },
   "outputs": [
    {
     "data": {
      "text/html": [
       "<div>\n",
       "<style scoped>\n",
       "    .dataframe tbody tr th:only-of-type {\n",
       "        vertical-align: middle;\n",
       "    }\n",
       "\n",
       "    .dataframe tbody tr th {\n",
       "        vertical-align: top;\n",
       "    }\n",
       "\n",
       "    .dataframe thead th {\n",
       "        text-align: right;\n",
       "    }\n",
       "</style>\n",
       "<table border=\"1\" class=\"dataframe\">\n",
       "  <thead>\n",
       "    <tr style=\"text-align: right;\">\n",
       "      <th></th>\n",
       "      <th>name</th>\n",
       "      <th>planck_z</th>\n",
       "      <th>planck_no_z</th>\n",
       "      <th>mcxcwp</th>\n",
       "      <th>actwp</th>\n",
       "      <th>fp</th>\n",
       "    </tr>\n",
       "  </thead>\n",
       "  <tbody>\n",
       "    <tr>\n",
       "      <th>0</th>\n",
       "      <td>pz14</td>\n",
       "      <td>0.931818</td>\n",
       "      <td>0.821429</td>\n",
       "      <td>0.155340</td>\n",
       "      <td>0.120983</td>\n",
       "      <td>1055</td>\n",
       "    </tr>\n",
       "    <tr>\n",
       "      <th>1</th>\n",
       "      <td>pz40</td>\n",
       "      <td>0.931818</td>\n",
       "      <td>0.785714</td>\n",
       "      <td>0.145631</td>\n",
       "      <td>0.130435</td>\n",
       "      <td>1180</td>\n",
       "    </tr>\n",
       "    <tr>\n",
       "      <th>2</th>\n",
       "      <td>pz_act10</td>\n",
       "      <td>0.901515</td>\n",
       "      <td>0.821429</td>\n",
       "      <td>0.097087</td>\n",
       "      <td>0.089202</td>\n",
       "      <td>624</td>\n",
       "    </tr>\n",
       "    <tr>\n",
       "      <th>3</th>\n",
       "      <td>pz_act14</td>\n",
       "      <td>0.825758</td>\n",
       "      <td>0.750000</td>\n",
       "      <td>0.058252</td>\n",
       "      <td>0.043478</td>\n",
       "      <td>557</td>\n",
       "    </tr>\n",
       "    <tr>\n",
       "      <th>4</th>\n",
       "      <td>pz_act_rot27</td>\n",
       "      <td>0.901515</td>\n",
       "      <td>0.750000</td>\n",
       "      <td>0.135922</td>\n",
       "      <td>0.066163</td>\n",
       "      <td>351</td>\n",
       "    </tr>\n",
       "    <tr>\n",
       "      <th>5</th>\n",
       "      <td>pz_act_drop0.3_ep14</td>\n",
       "      <td>0.901515</td>\n",
       "      <td>0.785714</td>\n",
       "      <td>0.077670</td>\n",
       "      <td>0.079395</td>\n",
       "      <td>526</td>\n",
       "    </tr>\n",
       "    <tr>\n",
       "      <th>6</th>\n",
       "      <td>pz_act_drop0.3_ep18</td>\n",
       "      <td>0.878788</td>\n",
       "      <td>0.750000</td>\n",
       "      <td>0.097087</td>\n",
       "      <td>0.079395</td>\n",
       "      <td>527</td>\n",
       "    </tr>\n",
       "    <tr>\n",
       "      <th>7</th>\n",
       "      <td>pz_act_drop0.4_ep14</td>\n",
       "      <td>0.886364</td>\n",
       "      <td>0.642857</td>\n",
       "      <td>0.087379</td>\n",
       "      <td>0.064272</td>\n",
       "      <td>461</td>\n",
       "    </tr>\n",
       "    <tr>\n",
       "      <th>8</th>\n",
       "      <td>pz_act_drop0.4_ep25</td>\n",
       "      <td>0.893939</td>\n",
       "      <td>0.642857</td>\n",
       "      <td>0.087379</td>\n",
       "      <td>0.062382</td>\n",
       "      <td>510</td>\n",
       "    </tr>\n",
       "    <tr>\n",
       "      <th>9</th>\n",
       "      <td>pz_act_norm2</td>\n",
       "      <td>0.863636</td>\n",
       "      <td>0.500000</td>\n",
       "      <td>0.058252</td>\n",
       "      <td>0.054820</td>\n",
       "      <td>424</td>\n",
       "    </tr>\n",
       "  </tbody>\n",
       "</table>\n",
       "</div>"
      ],
      "text/plain": [
       "                  name  planck_z  planck_no_z    mcxcwp     actwp    fp\n",
       "0                 pz14  0.931818     0.821429  0.155340  0.120983  1055\n",
       "1                 pz40  0.931818     0.785714  0.145631  0.130435  1180\n",
       "2             pz_act10  0.901515     0.821429  0.097087  0.089202   624\n",
       "3             pz_act14  0.825758     0.750000  0.058252  0.043478   557\n",
       "4         pz_act_rot27  0.901515     0.750000  0.135922  0.066163   351\n",
       "5  pz_act_drop0.3_ep14  0.901515     0.785714  0.077670  0.079395   526\n",
       "6  pz_act_drop0.3_ep18  0.878788     0.750000  0.097087  0.079395   527\n",
       "7  pz_act_drop0.4_ep14  0.886364     0.642857  0.087379  0.064272   461\n",
       "8  pz_act_drop0.4_ep25  0.893939     0.642857  0.087379  0.062382   510\n",
       "9         pz_act_norm2  0.863636     0.500000  0.058252  0.054820   424"
      ]
     },
     "execution_count": 4,
     "metadata": {},
     "output_type": "execute_result"
    }
   ],
   "source": [
    "res_df = stat_split_cats(files, val_pix)\n",
    "res_df"
   ]
  },
  {
   "cell_type": "code",
   "execution_count": 5,
   "metadata": {
    "ExecuteTime": {
     "end_time": "2021-01-22T12:58:18.833631Z",
     "start_time": "2021-01-22T12:58:18.827864Z"
    }
   },
   "outputs": [],
   "source": [
    "res_df.to_csv('/home/rt2122/Data/models_stat/by_split_cats.csv', index=False)"
   ]
  },
  {
   "cell_type": "code",
   "execution_count": 6,
   "metadata": {
    "ExecuteTime": {
     "end_time": "2021-01-22T12:58:57.352685Z",
     "start_time": "2021-01-22T12:58:18.835378Z"
    }
   },
   "outputs": [
    {
     "name": "stderr",
     "output_type": "stream",
     "text": [
      "/home/rt2122/L/git/data-segmentation-2/modules/DS_models_stat.py:30: SettingWithCopyWarning: \n",
      "A value is trying to be set on a copy of a slice from a DataFrame.\n",
      "Try using .loc[row_indexer,col_indexer] = value instead\n",
      "\n",
      "See the caveats in the documentation: https://pandas.pydata.org/pandas-docs/stable/user_guide/indexing.html#returning-a-view-versus-a-copy\n",
      "  df['b'] = sc.galactic.b.degree\n"
     ]
    }
   ],
   "source": [
    "comp_df, recall_df = stat_orig_cats(files, '/home/rt2122/Data/original_catalogs/csv', \n",
    "                                    big_pix=val_pix, dict_cut={})"
   ]
  },
  {
   "cell_type": "code",
   "execution_count": 7,
   "metadata": {
    "ExecuteTime": {
     "end_time": "2021-01-22T12:58:57.364750Z",
     "start_time": "2021-01-22T12:58:57.354278Z"
    }
   },
   "outputs": [
    {
     "data": {
      "text/html": [
       "<div>\n",
       "<style scoped>\n",
       "    .dataframe tbody tr th:only-of-type {\n",
       "        vertical-align: middle;\n",
       "    }\n",
       "\n",
       "    .dataframe tbody tr th {\n",
       "        vertical-align: top;\n",
       "    }\n",
       "\n",
       "    .dataframe thead th {\n",
       "        text-align: right;\n",
       "    }\n",
       "</style>\n",
       "<table border=\"1\" class=\"dataframe\">\n",
       "  <thead>\n",
       "    <tr style=\"text-align: right;\">\n",
       "      <th></th>\n",
       "      <th>PSZ2</th>\n",
       "      <th>MCXC</th>\n",
       "      <th>RM</th>\n",
       "      <th>ACT</th>\n",
       "      <th>fp</th>\n",
       "      <th>all</th>\n",
       "    </tr>\n",
       "  </thead>\n",
       "  <tbody>\n",
       "    <tr>\n",
       "      <th>pz14</th>\n",
       "      <td>0.92500</td>\n",
       "      <td>0.433735</td>\n",
       "      <td>0.045764</td>\n",
       "      <td>0.210963</td>\n",
       "      <td>1055</td>\n",
       "      <td>1281</td>\n",
       "    </tr>\n",
       "    <tr>\n",
       "      <th>pz40</th>\n",
       "      <td>0.91875</td>\n",
       "      <td>0.421687</td>\n",
       "      <td>0.048361</td>\n",
       "      <td>0.219269</td>\n",
       "      <td>1180</td>\n",
       "      <td>1409</td>\n",
       "    </tr>\n",
       "    <tr>\n",
       "      <th>pz_act10</th>\n",
       "      <td>0.90000</td>\n",
       "      <td>0.391566</td>\n",
       "      <td>0.035054</td>\n",
       "      <td>0.159468</td>\n",
       "      <td>624</td>\n",
       "      <td>814</td>\n",
       "    </tr>\n",
       "    <tr>\n",
       "      <th>pz_act14</th>\n",
       "      <td>0.83125</td>\n",
       "      <td>0.355422</td>\n",
       "      <td>0.029211</td>\n",
       "      <td>0.121262</td>\n",
       "      <td>557</td>\n",
       "      <td>716</td>\n",
       "    </tr>\n",
       "    <tr>\n",
       "      <th>pz_act_rot27</th>\n",
       "      <td>0.88125</td>\n",
       "      <td>0.415663</td>\n",
       "      <td>0.029536</td>\n",
       "      <td>0.157807</td>\n",
       "      <td>351</td>\n",
       "      <td>540</td>\n",
       "    </tr>\n",
       "    <tr>\n",
       "      <th>pz_act_drop0.3_ep14</th>\n",
       "      <td>0.89375</td>\n",
       "      <td>0.361446</td>\n",
       "      <td>0.032782</td>\n",
       "      <td>0.166113</td>\n",
       "      <td>526</td>\n",
       "      <td>717</td>\n",
       "    </tr>\n",
       "    <tr>\n",
       "      <th>pz_act_drop0.3_ep18</th>\n",
       "      <td>0.86875</td>\n",
       "      <td>0.379518</td>\n",
       "      <td>0.031483</td>\n",
       "      <td>0.162791</td>\n",
       "      <td>527</td>\n",
       "      <td>716</td>\n",
       "    </tr>\n",
       "    <tr>\n",
       "      <th>pz_act_drop0.4_ep14</th>\n",
       "      <td>0.86250</td>\n",
       "      <td>0.379518</td>\n",
       "      <td>0.027588</td>\n",
       "      <td>0.152824</td>\n",
       "      <td>461</td>\n",
       "      <td>639</td>\n",
       "    </tr>\n",
       "    <tr>\n",
       "      <th>pz_act_drop0.4_ep25</th>\n",
       "      <td>0.86250</td>\n",
       "      <td>0.379518</td>\n",
       "      <td>0.031483</td>\n",
       "      <td>0.149502</td>\n",
       "      <td>510</td>\n",
       "      <td>688</td>\n",
       "    </tr>\n",
       "    <tr>\n",
       "      <th>pz_act_norm2</th>\n",
       "      <td>0.81250</td>\n",
       "      <td>0.361446</td>\n",
       "      <td>0.024667</td>\n",
       "      <td>0.139535</td>\n",
       "      <td>424</td>\n",
       "      <td>587</td>\n",
       "    </tr>\n",
       "  </tbody>\n",
       "</table>\n",
       "</div>"
      ],
      "text/plain": [
       "                        PSZ2      MCXC        RM       ACT    fp   all\n",
       "pz14                 0.92500  0.433735  0.045764  0.210963  1055  1281\n",
       "pz40                 0.91875  0.421687  0.048361  0.219269  1180  1409\n",
       "pz_act10             0.90000  0.391566  0.035054  0.159468   624   814\n",
       "pz_act14             0.83125  0.355422  0.029211  0.121262   557   716\n",
       "pz_act_rot27         0.88125  0.415663  0.029536  0.157807   351   540\n",
       "pz_act_drop0.3_ep14  0.89375  0.361446  0.032782  0.166113   526   717\n",
       "pz_act_drop0.3_ep18  0.86875  0.379518  0.031483  0.162791   527   716\n",
       "pz_act_drop0.4_ep14  0.86250  0.379518  0.027588  0.152824   461   639\n",
       "pz_act_drop0.4_ep25  0.86250  0.379518  0.031483  0.149502   510   688\n",
       "pz_act_norm2         0.81250  0.361446  0.024667  0.139535   424   587"
      ]
     },
     "execution_count": 7,
     "metadata": {},
     "output_type": "execute_result"
    }
   ],
   "source": [
    "recall_df"
   ]
  },
  {
   "cell_type": "code",
   "execution_count": 8,
   "metadata": {
    "ExecuteTime": {
     "end_time": "2021-01-22T12:58:57.488220Z",
     "start_time": "2021-01-22T12:58:57.366268Z"
    }
   },
   "outputs": [],
   "source": [
    "recall_df.to_csv('/home/rt2122/Data/models_stat/by_orig_cats.csv', index=False)"
   ]
  },
  {
   "cell_type": "code",
   "execution_count": null,
   "metadata": {},
   "outputs": [],
   "source": []
  }
 ],
 "metadata": {
  "kernelspec": {
   "display_name": "Python 3",
   "language": "python",
   "name": "python3"
  },
  "language_info": {
   "codemirror_mode": {
    "name": "ipython",
    "version": 3
   },
   "file_extension": ".py",
   "mimetype": "text/x-python",
   "name": "python",
   "nbconvert_exporter": "python",
   "pygments_lexer": "ipython3",
   "version": "3.8.3"
  }
 },
 "nbformat": 4,
 "nbformat_minor": 4
}
