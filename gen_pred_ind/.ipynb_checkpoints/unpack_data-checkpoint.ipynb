{
 "cells": [
  {
   "cell_type": "code",
   "execution_count": 5,
   "metadata": {
    "ExecuteTime": {
     "end_time": "2021-01-18T23:16:55.674484Z",
     "start_time": "2021-01-18T23:16:55.632250Z"
    }
   },
   "outputs": [],
   "source": [
    "import numpy as np\n",
    "import pandas as pd\n",
    "import gzip\n",
    "import pickle\n",
    "from astropy.io import fits"
   ]
  },
  {
   "cell_type": "code",
   "execution_count": 13,
   "metadata": {
    "ExecuteTime": {
     "end_time": "2021-01-18T23:22:31.325061Z",
     "start_time": "2021-01-18T23:22:31.243601Z"
    }
   },
   "outputs": [
    {
     "name": "stdout",
     "output_type": "stream",
     "text": [
      "ColDefs(\n",
      "    name = 'srcID'; format = 'K'\n",
      "    name = 'RA'; format = 'D'\n",
      "    name = 'DEC'; format = 'D'\n",
      "    name = 'RADEC_ERR'; format = 'E'\n",
      "    name = 'EXT'; format = 'E'\n",
      "    name = 'DET_LIKE_0'; format = 'E'\n",
      "    name = 'ML_FLUX_0'; format = 'E'\n",
      "    name = 'ML_FLUX_ERR_0'; format = 'E'\n",
      "    name = 'EXT_LIKE'; format = 'E'\n",
      "    name = 'EXT_ERR'; format = 'E'\n",
      "    name = 'ID_CLUSTER'; format = 'J'\n",
      "    name = 'DIST_NN'; format = 'E'\n",
      "    name = 'ML_CTS_0'; format = 'E'\n",
      "    name = 'ML_CTS_ERR_0'; format = 'E'\n",
      "    name = 'ML_BKG_0'; format = 'E'\n",
      "    name = 'APE_CTS_1'; format = 'J'\n",
      "    name = 'APE_BKG_1'; format = 'E'\n",
      "    name = 'APE_EXP_1'; format = 'E'\n",
      "    name = 'APE_EEF_1'; format = 'E'\n",
      "    name = 'APE_RADIUS_1'; format = 'E'\n",
      "    name = 'APE_POIS_1'; format = 'E'\n",
      ")\n"
     ]
    }
   ],
   "source": [
    "with fits.open('/home/rt2122/Data/gen_pred_ind/catalog_v4.fits') as hdul:\n",
    "    data = hdul[1].data\n",
    "    print(repr(data.columns))"
   ]
  },
  {
   "cell_type": "code",
   "execution_count": 10,
   "metadata": {
    "ExecuteTime": {
     "end_time": "2021-01-18T23:19:10.927307Z",
     "start_time": "2021-01-18T23:19:09.551820Z"
    }
   },
   "outputs": [],
   "source": [
    "lh = None\n",
    "with gzip.open('/home/rt2122/Data/gen_pred_ind/'\n",
    "               'LH_catalog_v4_SRGz-sdss-v17_class_QvG_SSvQG_SSvQvG_Z3vALL_catalog-full.gz_pkl', 'rb') as f:\n",
    "     lh = pickle.load(f)"
   ]
  },
  {
   "cell_type": "code",
   "execution_count": 11,
   "metadata": {
    "ExecuteTime": {
     "end_time": "2021-01-18T23:19:11.521140Z",
     "start_time": "2021-01-18T23:19:11.503298Z"
    }
   },
   "outputs": [
    {
     "name": "stdout",
     "output_type": "stream",
     "text": [
      "['index', 'srcID_', 'RA_', 'DEC_', 'RADEC_ERR_', 'EXT_', 'DET_LIKE_0_', 'ML_FLUX_0_', 'ML_FLUX_ERR_0_', 'EXT_LIKE_', 'EXT_ERR_', 'ID_CLUSTER_', 'DIST_NN_', 'ML_CTS_0_', 'ML_CTS_ERR_0_', 'ML_BKG_0_', 'APE_CTS_1_', 'APE_BKG_1_', 'APE_EXP_1_', 'APE_EEF_1_', 'APE_RADIUS_1_', 'APE_POIS_1_', 'sep_', 'OBJID', 'MODE', 'CLEAN', 'RA', 'DEC', 'RAERR', 'DECERR', 'has_wise_phot', 'treated_as_pointsource', 'w1_mag', 'w1_mag_err', 'w2_mag', 'w2_mag_err', 'psfmag_u', 'psfmag_g', 'psfmag_r', 'psfmag_i', 'psfmag_z', 'psfmagerr_u', 'psfmagerr_g', 'psfmagerr_r', 'psfmagerr_i', 'psfmagerr_z', 'cmodelmag_u', 'cmodelmag_g', 'cmodelmag_r', 'cmodelmag_i', 'cmodelmag_z', 'cmodelmagerr_u', 'cmodelmagerr_g', 'cmodelmagerr_r', 'cmodelmagerr_i', 'cmodelmagerr_z', 'u', 'g', 'r', 'i', 'z', 'Lw1', 'Lw2', 'uM', 'gM', 'rM', 'iM', 'zM', 'objID_dr16', 'srg_match_p', 'srg_match_flag', 'srg_match_pany', 'srg_match_pi', 'srg_c1ph', 'srg_p1qso', 'srg_c2ph', 'srg_p2star', 'srg_c4ph', 'srg_p4', 'srg_c3ph', 'srg_p3star', 'srg_p3qso', 'srg_p3gal', 'srg_zph', 'srg_zConf', 'srg_z2ph', 'srg_z2Conf', 'srg_zpdf', 'srg_z2pdf', 'srg_match_p_p', 'srg_match_p_sp', 'srg_match_p_s', 'srg_match_p_s_any', 'srg_match_p_s_sigma', 'srg_match_p_s_fx', 'srg_match_p_s_rho', 'srg_match_p_s_lh', 'srg_match_flag_p', 'srg_match_flag_s', 'srg_match_flag_sp', 'srg_z2pdf_z_max', 'srg_z2pdf_z_max_proba', 'srg_z2pdf_z_maxConf', 'srg_z2pdf_ci1_68', 'srg_z2pdf_ci2_68', 'srg_z2pdf_ci2_68_peaks', 'srg_z2pdf_ci2_68_peaks_proba', 'srg_z2pdf_ci2_68_peaks_zConf', 'srg_z2pdf_ci1_90', 'srg_z2pdf_ci2_90', 'srg_z2pdf_ci2_90_peaks', 'srg_z2pdf_ci2_90_peaks_proba', 'srg_z2pdf_ci2_90_peaks_zConf', 'srg_z2pdf_ci1_95', 'srg_z2pdf_ci2_95', 'srg_z2pdf_ci2_95_peaks', 'srg_z2pdf_ci2_95_peaks_proba', 'srg_z2pdf_ci2_95_peaks_zConf', 'srg_z2pdf_mean', 'srg_z2pdf_std', 'srg_z2pdf_skewness', 'srg_z2pdf_kurtosis', 'srg_z2pdf_entropy']\n"
     ]
    }
   ],
   "source": [
    "print(list(lh))"
   ]
  },
  {
   "cell_type": "code",
   "execution_count": 24,
   "metadata": {
    "ExecuteTime": {
     "end_time": "2021-01-18T23:30:00.754985Z",
     "start_time": "2021-01-18T23:30:00.700639Z"
    }
   },
   "outputs": [],
   "source": [
    "def get_df(filename, mode='fits'):\n",
    "    import pandas as pd\n",
    "    import gzip\n",
    "    import pickle\n",
    "    from astropy.io import fits\n",
    "    from astropy.table import Table\n",
    "    \n",
    "    if mode == 'fits':\n",
    "        with fits.open(filename) as hdul:\n",
    "            tbl = Table(hdul[1].data)\n",
    "            tbl = tbl['srcID', 'RA', 'DEC']\n",
    "            df = tbl.to_pandas()\n",
    "            return df\n",
    "    \n",
    "    if mode == 'gz_pkl':\n",
    "         with gzip.open(filename, 'rb') as f:\n",
    "            df = pickle.load(f)[['srcID_', 'RA_', 'DEC_']]\n",
    "            df.rename(columns={'srcID_' : 'srcID', 'RA_' : 'RA', 'DEC_' : 'DEC'}, inplace=True)\n",
    "            return df"
   ]
  },
  {
   "cell_type": "code",
   "execution_count": 25,
   "metadata": {
    "ExecuteTime": {
     "end_time": "2021-01-18T23:30:02.422157Z",
     "start_time": "2021-01-18T23:30:01.064063Z"
    }
   },
   "outputs": [],
   "source": [
    "df = get_df('/home/rt2122/Data/gen_pred_ind/LH_catalog_v4_SRGz-sdss-v17_class_QvG_SSvQG_SSvQvG_Z3vALL_catalog-full.gz_pkl',\n",
    "           mode='gz_pkl')"
   ]
  },
  {
   "cell_type": "code",
   "execution_count": 26,
   "metadata": {
    "ExecuteTime": {
     "end_time": "2021-01-18T23:30:05.442947Z",
     "start_time": "2021-01-18T23:30:05.369321Z"
    }
   },
   "outputs": [
    {
     "data": {
      "text/html": [
       "<div>\n",
       "<style scoped>\n",
       "    .dataframe tbody tr th:only-of-type {\n",
       "        vertical-align: middle;\n",
       "    }\n",
       "\n",
       "    .dataframe tbody tr th {\n",
       "        vertical-align: top;\n",
       "    }\n",
       "\n",
       "    .dataframe thead th {\n",
       "        text-align: right;\n",
       "    }\n",
       "</style>\n",
       "<table border=\"1\" class=\"dataframe\">\n",
       "  <thead>\n",
       "    <tr style=\"text-align: right;\">\n",
       "      <th></th>\n",
       "      <th>srcID</th>\n",
       "      <th>RA</th>\n",
       "      <th>DEC</th>\n",
       "    </tr>\n",
       "  </thead>\n",
       "  <tbody>\n",
       "    <tr>\n",
       "      <th>0</th>\n",
       "      <td>1</td>\n",
       "      <td>159.435</td>\n",
       "      <td>57.1988</td>\n",
       "    </tr>\n",
       "    <tr>\n",
       "      <th>1</th>\n",
       "      <td>1</td>\n",
       "      <td>159.435</td>\n",
       "      <td>57.1988</td>\n",
       "    </tr>\n",
       "    <tr>\n",
       "      <th>2</th>\n",
       "      <td>1</td>\n",
       "      <td>159.435</td>\n",
       "      <td>57.1988</td>\n",
       "    </tr>\n",
       "    <tr>\n",
       "      <th>3</th>\n",
       "      <td>56</td>\n",
       "      <td>159.693</td>\n",
       "      <td>56.6682</td>\n",
       "    </tr>\n",
       "    <tr>\n",
       "      <th>4</th>\n",
       "      <td>56</td>\n",
       "      <td>159.693</td>\n",
       "      <td>56.6682</td>\n",
       "    </tr>\n",
       "    <tr>\n",
       "      <th>...</th>\n",
       "      <td>...</td>\n",
       "      <td>...</td>\n",
       "      <td>...</td>\n",
       "    </tr>\n",
       "    <tr>\n",
       "      <th>23317</th>\n",
       "      <td>6861</td>\n",
       "      <td>158.14</td>\n",
       "      <td>55.5575</td>\n",
       "    </tr>\n",
       "    <tr>\n",
       "      <th>23318</th>\n",
       "      <td>92</td>\n",
       "      <td>155.976</td>\n",
       "      <td>57.7913</td>\n",
       "    </tr>\n",
       "    <tr>\n",
       "      <th>23319</th>\n",
       "      <td>92</td>\n",
       "      <td>155.976</td>\n",
       "      <td>57.7913</td>\n",
       "    </tr>\n",
       "    <tr>\n",
       "      <th>23320</th>\n",
       "      <td>92</td>\n",
       "      <td>155.976</td>\n",
       "      <td>57.7913</td>\n",
       "    </tr>\n",
       "    <tr>\n",
       "      <th>23321</th>\n",
       "      <td>92</td>\n",
       "      <td>155.976</td>\n",
       "      <td>57.7913</td>\n",
       "    </tr>\n",
       "  </tbody>\n",
       "</table>\n",
       "<p>23322 rows × 3 columns</p>\n",
       "</div>"
      ],
      "text/plain": [
       "      srcID       RA      DEC\n",
       "0         1  159.435  57.1988\n",
       "1         1  159.435  57.1988\n",
       "2         1  159.435  57.1988\n",
       "3        56  159.693  56.6682\n",
       "4        56  159.693  56.6682\n",
       "...     ...      ...      ...\n",
       "23317  6861   158.14  55.5575\n",
       "23318    92  155.976  57.7913\n",
       "23319    92  155.976  57.7913\n",
       "23320    92  155.976  57.7913\n",
       "23321    92  155.976  57.7913\n",
       "\n",
       "[23322 rows x 3 columns]"
      ]
     },
     "execution_count": 26,
     "metadata": {},
     "output_type": "execute_result"
    }
   ],
   "source": [
    "df"
   ]
  },
  {
   "cell_type": "code",
   "execution_count": null,
   "metadata": {},
   "outputs": [],
   "source": []
  }
 ],
 "metadata": {
  "kernelspec": {
   "display_name": "Python 3",
   "language": "python",
   "name": "python3"
  },
  "language_info": {
   "codemirror_mode": {
    "name": "ipython",
    "version": 3
   },
   "file_extension": ".py",
   "mimetype": "text/x-python",
   "name": "python",
   "nbconvert_exporter": "python",
   "pygments_lexer": "ipython3",
   "version": "3.8.3"
  }
 },
 "nbformat": 4,
 "nbformat_minor": 4
}
