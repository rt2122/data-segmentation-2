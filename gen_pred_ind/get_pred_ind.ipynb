{
 "cells": [
  {
   "cell_type": "code",
   "execution_count": 6,
   "metadata": {
    "ExecuteTime": {
     "end_time": "2021-01-19T15:42:35.357145Z",
     "start_time": "2021-01-19T15:42:35.338122Z"
    }
   },
   "outputs": [],
   "source": [
    "import numpy as np\n",
    "import pandas as pd\n",
    "from DS_gen_pred_ind import get_df"
   ]
  },
  {
   "cell_type": "code",
   "execution_count": 7,
   "metadata": {
    "ExecuteTime": {
     "end_time": "2021-01-19T15:42:35.722374Z",
     "start_time": "2021-01-19T15:42:35.700509Z"
    }
   },
   "outputs": [],
   "source": [
    "def radec2pred_ind(scan_name, input_name, output_name, mode='fits'):\n",
    "    from DS_healpix_fragmentation import radec2pix\n",
    "    import os\n",
    "    import numpy as np\n",
    "    import pandas as pd\n",
    "    \n",
    "    in_df = get_df(input_name, mode=mode)\n",
    "    in_df['healpix'] = radec2pix(in_df['RA'], in_df['DEC'], 2**11)\n",
    "    \n",
    "    scan = np.load(scan_name)\n",
    "    in_df['pred_ind'] = scan[in_df['healpix']]\n",
    "    \n",
    "    in_df.index.name='index'\n",
    "    in_df.to_csv(output_name)"
   ]
  },
  {
   "cell_type": "code",
   "execution_count": 8,
   "metadata": {
    "ExecuteTime": {
     "end_time": "2021-01-19T15:42:36.685119Z",
     "start_time": "2021-01-19T15:42:36.232973Z"
    }
   },
   "outputs": [],
   "source": [
    "radec2pred_ind('/home/rt2122/Data/gen_pred_ind/pz14_scans/scan.npy', \n",
    "               '/home/rt2122/Data/gen_pred_ind/catalog_v4.fits',\n",
    "               '/home/rt2122/Data/gen_pred_ind/output/catalog_v4[pz14_scan64].csv')"
   ]
  },
  {
   "cell_type": "code",
   "execution_count": 10,
   "metadata": {
    "ExecuteTime": {
     "end_time": "2021-01-19T15:43:05.156596Z",
     "start_time": "2021-01-19T15:43:04.998475Z"
    }
   },
   "outputs": [],
   "source": [
    "df = pd.read_csv('/home/rt2122/Data/gen_pred_ind/output/catalog_v4[pz14_scan64].csv', index_col='index')"
   ]
  },
  {
   "cell_type": "code",
   "execution_count": 11,
   "metadata": {
    "ExecuteTime": {
     "end_time": "2021-01-19T15:43:06.447603Z",
     "start_time": "2021-01-19T15:43:06.325864Z"
    }
   },
   "outputs": [
    {
     "data": {
      "text/html": [
       "<div>\n",
       "<style scoped>\n",
       "    .dataframe tbody tr th:only-of-type {\n",
       "        vertical-align: middle;\n",
       "    }\n",
       "\n",
       "    .dataframe tbody tr th {\n",
       "        vertical-align: top;\n",
       "    }\n",
       "\n",
       "    .dataframe thead th {\n",
       "        text-align: right;\n",
       "    }\n",
       "</style>\n",
       "<table border=\"1\" class=\"dataframe\">\n",
       "  <thead>\n",
       "    <tr style=\"text-align: right;\">\n",
       "      <th></th>\n",
       "      <th>srcID</th>\n",
       "      <th>RA</th>\n",
       "      <th>DEC</th>\n",
       "      <th>healpix</th>\n",
       "      <th>pred_ind</th>\n",
       "    </tr>\n",
       "    <tr>\n",
       "      <th>index</th>\n",
       "      <th></th>\n",
       "      <th></th>\n",
       "      <th></th>\n",
       "      <th></th>\n",
       "      <th></th>\n",
       "    </tr>\n",
       "  </thead>\n",
       "  <tbody>\n",
       "    <tr>\n",
       "      <th>0</th>\n",
       "      <td>0</td>\n",
       "      <td>164.607854</td>\n",
       "      <td>56.790479</td>\n",
       "      <td>7427456</td>\n",
       "      <td>9.846800e-01</td>\n",
       "    </tr>\n",
       "    <tr>\n",
       "      <th>1</th>\n",
       "      <td>1</td>\n",
       "      <td>159.434523</td>\n",
       "      <td>57.198785</td>\n",
       "      <td>6019024</td>\n",
       "      <td>2.995748e-05</td>\n",
       "    </tr>\n",
       "    <tr>\n",
       "      <th>2</th>\n",
       "      <td>2</td>\n",
       "      <td>164.661805</td>\n",
       "      <td>56.469769</td>\n",
       "      <td>7427526</td>\n",
       "      <td>8.389623e-14</td>\n",
       "    </tr>\n",
       "    <tr>\n",
       "      <th>3</th>\n",
       "      <td>3</td>\n",
       "      <td>165.406836</td>\n",
       "      <td>57.490323</td>\n",
       "      <td>7426974</td>\n",
       "      <td>6.314029e-14</td>\n",
       "    </tr>\n",
       "    <tr>\n",
       "      <th>4</th>\n",
       "      <td>4</td>\n",
       "      <td>163.945174</td>\n",
       "      <td>60.469039</td>\n",
       "      <td>7421960</td>\n",
       "      <td>3.176630e-04</td>\n",
       "    </tr>\n",
       "    <tr>\n",
       "      <th>...</th>\n",
       "      <td>...</td>\n",
       "      <td>...</td>\n",
       "      <td>...</td>\n",
       "      <td>...</td>\n",
       "      <td>...</td>\n",
       "    </tr>\n",
       "    <tr>\n",
       "      <th>6902</th>\n",
       "      <td>6902</td>\n",
       "      <td>161.078914</td>\n",
       "      <td>55.159490</td>\n",
       "      <td>6197016</td>\n",
       "      <td>1.227638e-04</td>\n",
       "    </tr>\n",
       "    <tr>\n",
       "      <th>6903</th>\n",
       "      <td>6903</td>\n",
       "      <td>161.112612</td>\n",
       "      <td>54.905880</td>\n",
       "      <td>6197080</td>\n",
       "      <td>3.562644e-06</td>\n",
       "    </tr>\n",
       "    <tr>\n",
       "      <th>6904</th>\n",
       "      <td>6904</td>\n",
       "      <td>160.930217</td>\n",
       "      <td>55.025199</td>\n",
       "      <td>6196713</td>\n",
       "      <td>6.896860e-08</td>\n",
       "    </tr>\n",
       "    <tr>\n",
       "      <th>6905</th>\n",
       "      <td>6905</td>\n",
       "      <td>161.015723</td>\n",
       "      <td>54.731538</td>\n",
       "      <td>6199468</td>\n",
       "      <td>3.446937e-04</td>\n",
       "    </tr>\n",
       "    <tr>\n",
       "      <th>6906</th>\n",
       "      <td>6906</td>\n",
       "      <td>161.289618</td>\n",
       "      <td>54.733013</td>\n",
       "      <td>6199842</td>\n",
       "      <td>2.807110e-05</td>\n",
       "    </tr>\n",
       "  </tbody>\n",
       "</table>\n",
       "<p>6907 rows × 5 columns</p>\n",
       "</div>"
      ],
      "text/plain": [
       "       srcID          RA        DEC  healpix      pred_ind\n",
       "index                                                     \n",
       "0          0  164.607854  56.790479  7427456  9.846800e-01\n",
       "1          1  159.434523  57.198785  6019024  2.995748e-05\n",
       "2          2  164.661805  56.469769  7427526  8.389623e-14\n",
       "3          3  165.406836  57.490323  7426974  6.314029e-14\n",
       "4          4  163.945174  60.469039  7421960  3.176630e-04\n",
       "...      ...         ...        ...      ...           ...\n",
       "6902    6902  161.078914  55.159490  6197016  1.227638e-04\n",
       "6903    6903  161.112612  54.905880  6197080  3.562644e-06\n",
       "6904    6904  160.930217  55.025199  6196713  6.896860e-08\n",
       "6905    6905  161.015723  54.731538  6199468  3.446937e-04\n",
       "6906    6906  161.289618  54.733013  6199842  2.807110e-05\n",
       "\n",
       "[6907 rows x 5 columns]"
      ]
     },
     "execution_count": 11,
     "metadata": {},
     "output_type": "execute_result"
    }
   ],
   "source": [
    "df"
   ]
  },
  {
   "cell_type": "code",
   "execution_count": 1,
   "metadata": {
    "ExecuteTime": {
     "end_time": "2021-01-19T22:14:54.135730Z",
     "start_time": "2021-01-19T22:14:54.129805Z"
    }
   },
   "outputs": [
    {
     "name": "stdout",
     "output_type": "stream",
     "text": [
      "/home/rt2122/anaconda3/bin/python\n"
     ]
    }
   ],
   "source": [
    "import sys\n",
    "print(sys.executable)"
   ]
  },
  {
   "cell_type": "code",
   "execution_count": null,
   "metadata": {},
   "outputs": [],
   "source": []
  }
 ],
 "metadata": {
  "kernelspec": {
   "display_name": "Python 3",
   "language": "python",
   "name": "python3"
  },
  "language_info": {
   "codemirror_mode": {
    "name": "ipython",
    "version": 3
   },
   "file_extension": ".py",
   "mimetype": "text/x-python",
   "name": "python",
   "nbconvert_exporter": "python",
   "pygments_lexer": "ipython3",
   "version": "3.8.3"
  }
 },
 "nbformat": 4,
 "nbformat_minor": 4
}
