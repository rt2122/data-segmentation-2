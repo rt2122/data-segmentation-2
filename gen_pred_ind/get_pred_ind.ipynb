{
 "cells": [
  {
   "cell_type": "code",
   "execution_count": 1,
   "metadata": {
    "ExecuteTime": {
     "end_time": "2021-01-19T00:09:31.401751Z",
     "start_time": "2021-01-19T00:09:31.076088Z"
    }
   },
   "outputs": [],
   "source": [
    "import numpy as np\n",
    "import pandas as pd\n",
    "from DS_gen_pred_ind import get_df"
   ]
  },
  {
   "cell_type": "code",
   "execution_count": null,
   "metadata": {},
   "outputs": [],
   "source": [
    "def radec2pred_ind(scan_dir, input_name, output_name, mode='fits'):\n",
    "    from DS_healpix_fragmentation import radec2pix, one_pixel_fragmentation, matr2dict\n",
    "    import os\n",
    "    \n",
    "    in_df = get_df(input_name, mode=mode)\n",
    "    in_df['pix2'] = radec2pix(in_df['RA'], in_df['DEC'], 2)\n",
    "    in_df['healpix'] = radec2pix(in_df['RA'], in_df['DEC'], 2**11)\n",
    "    in_df['pred_ind'] = 0.0\n",
    "    \n",
    "    for i in range(48):\n",
    "        cur_df = in_df[in_df['pix2'] == i]\n",
    "        cur_pred = []\n",
    "        mask = np.load(os.path.join(scan_dir, '{pix}.npy'.format(pix=i)))\n",
    "        matr = one_pixel_fragmentation(2, i, 10)\n",
    "        mdict = matr2dict(matr)\n",
    "        del(matr)\n",
    "        \n",
    "        for pix in cur_df['healpix']:\n",
    "            \n",
    "        \n",
    "    in_df.drop(columns=['pix2'], inplace=True)\n",
    "    return df"
   ]
  }
 ],
 "metadata": {
  "kernelspec": {
   "display_name": "Python 3",
   "language": "python",
   "name": "python3"
  },
  "language_info": {
   "codemirror_mode": {
    "name": "ipython",
    "version": 3
   },
   "file_extension": ".py",
   "mimetype": "text/x-python",
   "name": "python",
   "nbconvert_exporter": "python",
   "pygments_lexer": "ipython3",
   "version": "3.8.3"
  }
 },
 "nbformat": 4,
 "nbformat_minor": 4
}
