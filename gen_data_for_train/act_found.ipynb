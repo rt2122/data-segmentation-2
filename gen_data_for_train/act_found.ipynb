{
 "cells": [
  {
   "cell_type": "code",
   "execution_count": 1,
   "metadata": {
    "ExecuteTime": {
     "end_time": "2021-02-12T22:28:13.369947Z",
     "start_time": "2021-02-12T22:28:06.673730Z"
    }
   },
   "outputs": [],
   "source": [
    "import numpy as np\n",
    "import pandas as pd"
   ]
  },
  {
   "cell_type": "code",
   "execution_count": 2,
   "metadata": {
    "ExecuteTime": {
     "end_time": "2021-02-12T22:30:53.441462Z",
     "start_time": "2021-02-12T22:30:53.106997Z"
    }
   },
   "outputs": [],
   "source": [
    "pz_rot = pd.read_csv('/home/rt2122/Data/detected_cats/full_pz_rot28_thr0.1_step8.csv')\n",
    "act_found = pz_rot[pz_rot['catalog'] == 'actwp']\n",
    "act_found = act_found[act_found['status'] == 'tp']"
   ]
  },
  {
   "cell_type": "code",
   "execution_count": 5,
   "metadata": {
    "ExecuteTime": {
     "end_time": "2021-02-12T22:32:49.405115Z",
     "start_time": "2021-02-12T22:32:49.390412Z"
    }
   },
   "outputs": [],
   "source": [
    "act_found['RA'] = act_found['tRA']\n",
    "act_found['DEC'] = act_found['tDEC']"
   ]
  },
  {
   "cell_type": "code",
   "execution_count": 6,
   "metadata": {
    "ExecuteTime": {
     "end_time": "2021-02-12T22:33:04.457084Z",
     "start_time": "2021-02-12T22:33:04.372204Z"
    }
   },
   "outputs": [],
   "source": [
    "act_found[['RA', 'DEC', 'M500', 'z']].to_csv(\n",
    "    '/home/rt2122/Data/clusters/acts/act_found_pz_rot_28.csv', index=False)"
   ]
  },
  {
   "cell_type": "code",
   "execution_count": null,
   "metadata": {},
   "outputs": [],
   "source": []
  }
 ],
 "metadata": {
  "kernelspec": {
   "display_name": "Python 3",
   "language": "python",
   "name": "python3"
  },
  "language_info": {
   "codemirror_mode": {
    "name": "ipython",
    "version": 3
   },
   "file_extension": ".py",
   "mimetype": "text/x-python",
   "name": "python",
   "nbconvert_exporter": "python",
   "pygments_lexer": "ipython3",
   "version": "3.8.3"
  }
 },
 "nbformat": 4,
 "nbformat_minor": 4
}
