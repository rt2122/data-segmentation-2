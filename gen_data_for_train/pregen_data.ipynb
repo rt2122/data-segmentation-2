{
 "cells": [
  {
   "cell_type": "code",
   "execution_count": 2,
   "metadata": {
    "ExecuteTime": {
     "end_time": "2021-03-27T10:53:44.741758Z",
     "start_time": "2021-03-27T10:53:44.738287Z"
    }
   },
   "outputs": [],
   "source": [
    "import numpy as np\n",
    "import os\n",
    "import pandas as pd\n",
    "from tqdm.notebook import tqdm\n",
    "from DS_Planck_Unet import *\n",
    "from DS_healpix_fragmentation import one_pixel_fragmentation, matr2dict, radec2pix\n",
    "from matplotlib import pyplot as plt"
   ]
  },
  {
   "cell_type": "code",
   "execution_count": 3,
   "metadata": {
    "ExecuteTime": {
     "end_time": "2021-03-27T10:53:45.360877Z",
     "start_time": "2021-03-27T10:53:45.349180Z"
    }
   },
   "outputs": [],
   "source": [
    "clusters = ['/home/rt2122/Data/clusters/planck_z.csv', '/home/rt2122/Data/clusters/acts/found0.8.csv'] "
   ]
  },
  {
   "cell_type": "code",
   "execution_count": 4,
   "metadata": {
    "ExecuteTime": {
     "end_time": "2021-03-27T10:54:20.750707Z",
     "start_time": "2021-03-27T10:54:20.748098Z"
    }
   },
   "outputs": [],
   "source": [
    "pregen_pics = '/home/rt2122/Data/Planck/pregen_pics/'\n",
    "pregen_masks = '/home/rt2122/Data/Planck/pregen_masks_found0.8/'"
   ]
  },
  {
   "cell_type": "code",
   "execution_count": 5,
   "metadata": {
    "ExecuteTime": {
     "end_time": "2021-03-27T11:00:16.454740Z",
     "start_time": "2021-03-27T10:54:31.376493Z"
    }
   },
   "outputs": [
    {
     "data": {
      "application/vnd.jupyter.widget-view+json": {
       "model_id": "7e0506a0ad1345aea56283fe9cf8359c",
       "version_major": 2,
       "version_minor": 0
      },
      "text/plain": [
       "HBox(children=(FloatProgress(value=0.0, max=48.0), HTML(value='')))"
      ]
     },
     "metadata": {},
     "output_type": "display_data"
    },
    {
     "name": "stdout",
     "output_type": "stream",
     "text": [
      "\n"
     ]
    }
   ],
   "source": [
    "for i in tqdm(range(48)):\n",
    "    \n",
    "    matr = one_pixel_fragmentation(2, i, 10)\n",
    "    _, cl_df = pixels_with_clusters(clusters, i, 256, \n",
    "                                 min_rad = 2.0)\n",
    "    pic, mask = draw_pic_with_mask(None, \n",
    "                        clusters_arr=np.stack([cl_df['RA'], cl_df['DEC']]).T, \n",
    "                        matr=matr)\n",
    "    #np.save(os.path.join(pregen_pics, str(i)), pic)\n",
    "    np.save(os.path.join(pregen_masks, str(i)), mask)"
   ]
  },
  {
   "cell_type": "code",
   "execution_count": null,
   "metadata": {},
   "outputs": [],
   "source": []
  }
 ],
 "metadata": {
  "kernelspec": {
   "display_name": "Python 3",
   "language": "python",
   "name": "python3"
  },
  "language_info": {
   "codemirror_mode": {
    "name": "ipython",
    "version": 3
   },
   "file_extension": ".py",
   "mimetype": "text/x-python",
   "name": "python",
   "nbconvert_exporter": "python",
   "pygments_lexer": "ipython3",
   "version": "3.8.3"
  }
 },
 "nbformat": 4,
 "nbformat_minor": 4
}
