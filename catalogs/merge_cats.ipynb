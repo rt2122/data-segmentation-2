{
 "cells": [
  {
   "cell_type": "code",
   "execution_count": 2,
   "metadata": {
    "ExecuteTime": {
     "end_time": "2020-12-09T14:35:33.284729Z",
     "start_time": "2020-12-09T14:35:33.277491Z"
    }
   },
   "outputs": [],
   "source": [
    "import numpy as np\n",
    "import pandas as pd\n",
    "from astropy.coordinates import SkyCoord\n",
    "from astropy import units as u"
   ]
  },
  {
   "cell_type": "code",
   "execution_count": 3,
   "metadata": {
    "ExecuteTime": {
     "end_time": "2020-12-09T14:41:55.612565Z",
     "start_time": "2020-12-09T14:41:55.495186Z"
    }
   },
   "outputs": [],
   "source": [
    "det_cats = {\n",
    "    'pz14' : pd.read_csv('/home/rt2122/Data/scans_old/scans_extended/connected/ep14_thr0.1.csv'),\n",
    "    'pz25' : pd.read_csv('/home/rt2122/Data/detected_cats/full_pz25_thr0.1_step8.csv'),\n",
    "    'pz_act14' : pd.read_csv(\n",
    "    '/home/rt2122/Data/scans_old/scans_extended/connected/full_act_cut_ep14_thr0.1_step8.csv'),\n",
    "    'pz_act20' : pd.read_csv('/home/rt2122/Data/detected_cats/full_pz_act20_thr0.1_step8.csv'),\n",
    "}"
   ]
  },
  {
   "cell_type": "code",
   "execution_count": 4,
   "metadata": {
    "ExecuteTime": {
     "end_time": "2020-12-09T14:42:39.704023Z",
     "start_time": "2020-12-09T14:42:39.684791Z"
    }
   },
   "outputs": [],
   "source": [
    "for name in det_cats:\n",
    "    det_cats[name] = det_cats[name][det_cats[name]['status']!='fn']\n",
    "    det_cats[name].index = np.arange(len(det_cats[name]))"
   ]
  },
  {
   "cell_type": "code",
   "execution_count": 37,
   "metadata": {
    "ExecuteTime": {
     "end_time": "2020-12-09T16:12:22.423034Z",
     "start_time": "2020-12-09T16:12:22.398052Z"
    }
   },
   "outputs": [],
   "source": [
    "def merge_cats(cat1, cat2, merge_dist=5/60): \n",
    "    import numpy as np\n",
    "    import pandas as pd\n",
    "    from astropy.coordinates import SkyCoord\n",
    "    from astropy import units as u\n",
    "    \n",
    "    sc1 = SkyCoord(ra=np.array(cat1['RA'])*u.degree, dec=np.array(cat1['DEC'])*u.degree, frame='icrs')\n",
    "    sc2 = SkyCoord(ra=np.array(cat2['RA'])*u.degree, dec=np.array(cat2['DEC'])*u.degree, frame='icrs')\n",
    "    \n",
    "    idx, d2d, _ = sc1.match_to_catalog_sky(sc2)\n",
    "    matched = d2d.degree <= merge_dist\n",
    "    \n",
    "    cat1_matched = cat1.iloc[matched]\n",
    "    cat1_uniq = cat1.iloc[matched == False]\n",
    "    cat2_matched = cat2.iloc[np.array(idx[matched])]\n",
    "    cat2_uniq = cat2.iloc[np.array(idx[matched == False])]\n",
    "    \n",
    "    sc1 = SkyCoord(ra=np.array(cat1_matched['RA'])*u.degree, \n",
    "                   dec=np.array(cat1_matched['DEC'])*u.degree, frame='icrs')\n",
    "    sc2 = SkyCoord(ra=np.array(cat2_matched['RA'])*u.degree, \n",
    "                   dec=np.array(cat2_matched['DEC'])*u.degree, frame='icrs')\n",
    "    \n",
    "    sep = np.array(sc1.separation(sc2).degree) / 2\n",
    "    angle = sc1.position_angle(sc2).to(u.degree)\n",
    "    sc3 = sc1.directional_offset_by(angle, sep)\n",
    "    \n",
    "    for prm in list(cat1) - ['RA', 'DEC']:\n",
    "        "
   ]
  },
  {
   "cell_type": "code",
   "execution_count": 38,
   "metadata": {
    "ExecuteTime": {
     "end_time": "2020-12-09T16:12:23.096213Z",
     "start_time": "2020-12-09T16:12:22.971377Z"
    }
   },
   "outputs": [
    {
     "name": "stdout",
     "output_type": "stream",
     "text": [
      "0.3669243986254295\n"
     ]
    }
   ],
   "source": [
    "merge_cats(det_cats['pz14'], det_cats['pz25'])"
   ]
  },
  {
   "cell_type": "code",
   "execution_count": null,
   "metadata": {},
   "outputs": [],
   "source": []
  }
 ],
 "metadata": {
  "kernelspec": {
   "display_name": "Python 3",
   "language": "python",
   "name": "python3"
  },
  "language_info": {
   "codemirror_mode": {
    "name": "ipython",
    "version": 3
   },
   "file_extension": ".py",
   "mimetype": "text/x-python",
   "name": "python",
   "nbconvert_exporter": "python",
   "pygments_lexer": "ipython3",
   "version": "3.8.3"
  }
 },
 "nbformat": 4,
 "nbformat_minor": 4
}
