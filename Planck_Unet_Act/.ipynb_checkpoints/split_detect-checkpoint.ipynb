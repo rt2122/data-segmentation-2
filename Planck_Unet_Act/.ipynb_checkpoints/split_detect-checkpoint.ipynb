{
 "cells": [
  {
   "cell_type": "code",
   "execution_count": 5,
   "metadata": {
    "ExecuteTime": {
     "end_time": "2020-11-06T20:41:36.048026Z",
     "start_time": "2020-11-06T20:41:36.038726Z"
    }
   },
   "outputs": [],
   "source": [
    "import numpy as np\n",
    "import pandas as pd\n",
    "from DS_detector import *\n",
    "from DS_Planck_Unet import *"
   ]
  },
  {
   "cell_type": "code",
   "execution_count": 28,
   "metadata": {
    "ExecuteTime": {
     "end_time": "2020-11-06T21:15:45.869901Z",
     "start_time": "2020-11-06T21:15:45.836513Z"
    }
   },
   "outputs": [],
   "source": [
    "def match_detections_to_catalog(dd, true_clusters, pix, save_unmatched=None, \n",
    "                                base_nside=2048, tp_dist=5/60):\n",
    "    import pandas as pd\n",
    "    import numpy as np\n",
    "    from astropy.coordinates import SkyCoord\n",
    "    from astropy import units as u\n",
    "    from DS_healpix_fragmentation import pix2radec\n",
    "    \n",
    "    res_cat = pd.DataFrame({'RA' : [], 'DEC' : [], 'area' : [], \n",
    "        'min_rad' : [], 'max_rad' : [], 'mean_rad': [],\n",
    "                      'min_pred' : [], 'max_pred' : [], \n",
    "                      'tRA': [], 'tDEC' : [], \n",
    "                      'status' : [], 'catalog': []})\n",
    "    \n",
    "    ra, dec = pix2radec(dd['centers'], nside=base_nside)\n",
    "    res_cat['RA'] = ra\n",
    "    res_cat['DEC'] = dec\n",
    "    for prm in ['area', 'min_rad', 'max_rad', 'min_pred', 'max_pred', 'mean_rad']:\n",
    "        res_cat[prm] = dd[prm]\n",
    "    if not (save_unmatched is None):\n",
    "        res_cat.to_csv(save_unmatched.format(pix=pix), index=False)\n",
    "    \n",
    "    res_cat_sc = SkyCoord(ra=ra*u.degree, dec=dec*u.degree, frame='icrs')\n",
    "    true_clusters_sc = SkyCoord(ra=true_clusters['RA']*u.degree, \n",
    "                               dec=true_clusters['DEC']*u.degree)\n",
    "    \n",
    "    idx, d2d, _ = res_cat_sc.match_to_catalog_sky(true_clusters_sc)\n",
    "    matched = d2d.degree <= tp_dist\n",
    "    res_cat['status'] = 'fp'\n",
    "    res_cat['status'].iloc[matched] = 'tp'\n",
    "    res_cat['catalog'].iloc[matched] = np.array(\n",
    "        true_clusters['catalog'][idx[matched]])\n",
    "    res_cat['tRA'].iloc[matched] = np.array(true_clusters['RA'][idx[matched]])\n",
    "    res_cat['tDEC'].iloc[matched] = np.array(true_clusters['DEC'][idx[matched]])\n",
    "    \n",
    "    res_cat_tp = res_cat[res_cat['status'] == 'tp']\n",
    "    res_cat_tp = res_cat_tp.drop_duplicates(subset=['tRA', 'tDEC'])\n",
    "    res_cat = pd.concat([res_cat[res_cat['status'] != 'tp'], res_cat_tp], \n",
    "                        ignore_index=True)\n",
    " \n",
    "    \n",
    "    true_clusters['found'] = False\n",
    "    true_clusters['found'].iloc[idx[matched]] = True\n",
    "    true_clusters['status'] = 'fn'\n",
    "    \n",
    "    res_cat = pd.concat([res_cat, true_clusters[['RA', 'DEC', 'status', 'catalog']]\n",
    "                         [true_clusters['found']==False]], ignore_index=True)\n",
    "    return res_cat"
   ]
  },
  {
   "cell_type": "code",
   "execution_count": 29,
   "metadata": {
    "ExecuteTime": {
     "end_time": "2020-11-06T21:15:56.286015Z",
     "start_time": "2020-11-06T21:15:56.263884Z"
    }
   },
   "outputs": [],
   "source": [
    "def detect_clusters_connected_new(all_dict, thr, pix, depth=10, \n",
    "                              base_nside=2048, tp_dist=5/60,\n",
    "                             binary=False, save_scan=None, save_unmatched=None):\n",
    "    import numpy as np\n",
    "    import pandas as pd\n",
    "    from DS_healpix_fragmentation import one_pixel_fragmentation, pix2radec\n",
    "    \n",
    "    true_clusters = all_dict['true_clusters']\n",
    "    big_ans = connect_masks(all_dict['ans'], all_dict['pic_idx'])\n",
    "    big_matr = one_pixel_fragmentation(2, pix, depth)\n",
    "    if not (save_scan is None):\n",
    "        np.save(save_scan.format(pix=pix), big_matr)\n",
    "    \n",
    "    dd = detect_clusters_on_pic(big_ans, big_matr, thr, binary)\n",
    "    res_cat = match_detections_to_catalog(dd, true_clusters, pix, save_unmatched, \n",
    "                                          base_nside=base_nside, tp_dist=tp_dist) \n",
    "    return res_cat\n"
   ]
  },
  {
   "cell_type": "code",
   "execution_count": 24,
   "metadata": {
    "ExecuteTime": {
     "end_time": "2020-11-06T21:09:00.463730Z",
     "start_time": "2020-11-06T21:09:00.444662Z"
    }
   },
   "outputs": [],
   "source": [
    "def detect_main(model, ipix, thr, step = 8, save_scan=None, save_unmatched=None, \n",
    "                save_matched=None):\n",
    "    from DS_Planck_Unet import load_planck_model\n",
    "    \n",
    "    model = load_planck_model(model)\n",
    "    df = []\n",
    "    for pix in ipix:\n",
    "        all_dict = gen_pics_for_detection(pix, model, step=step)\n",
    "        df.append(detect_clusters_connected_new(all_dict, thr, pix, \n",
    "            save_scan=save_scan, save_unmatched=save_unmatched))\n",
    "    df = pd.concat(df, ignore_index=True)\n",
    "    if not (save_matched is None):\n",
    "        df.to_csv(save_matched, index=False)\n",
    "    return df"
   ]
  },
  {
   "cell_type": "code",
   "execution_count": 30,
   "metadata": {
    "ExecuteTime": {
     "end_time": "2020-11-06T21:24:30.099709Z",
     "start_time": "2020-11-06T21:16:00.515913Z"
    }
   },
   "outputs": [
    {
     "name": "stderr",
     "output_type": "stream",
     "text": [
      "/home/rt2122/anaconda3/lib/python3.8/site-packages/pandas/core/indexing.py:671: SettingWithCopyWarning: \n",
      "A value is trying to be set on a copy of a slice from a DataFrame\n",
      "\n",
      "See the caveats in the documentation: https://pandas.pydata.org/pandas-docs/stable/user_guide/indexing.html#returning-a-view-versus-a-copy\n",
      "  self._setitem_with_indexer(indexer, value)\n"
     ]
    }
   ],
   "source": [
    "df = detect_main('/home/rt2122/Models/act/ep0011-vl0.031839-l0.017455.hdf5',\n",
    "                val_pix, 0.1, \n",
    "    save_scan='/home/rt2122/Data/connected_scans/c_act_ep11_{pix}_st8',\n",
    "    save_unmatched='/home/rt2122/Data/detected_cats/unmatched/c_act_ep11_{pix}_st8_thr.1.csv',\n",
    "    save_matched='/home/rt2122/Data/detected_cats/c_act_ep11_val_st8_thr.1.csv')"
   ]
  },
  {
   "cell_type": "code",
   "execution_count": 37,
   "metadata": {
    "ExecuteTime": {
     "end_time": "2020-11-06T21:53:36.802729Z",
     "start_time": "2020-11-06T21:53:36.795544Z"
    }
   },
   "outputs": [],
   "source": [
    "def stat_detection(df):\n",
    "    import numpy as np\n",
    "    import pandas as pd\n",
    "    \n",
    "    cats = [cat for cat in set(df['catalog']) if type(cat) == type('')]\n",
    "    stat_df = {}\n",
    "    for cat in cats:\n",
    "        df_cur = df[df['catalog']==cat]\n",
    "        recall = np.count_nonzero(df_cur['status'] == 'tp') / len(df_cur)\n",
    "        stat_df[cat] = recall\n",
    "    stat_df['fp'] = np.count_nonzero(df['status'] == 'fp')\n",
    "    return pd.DataFrame(stat_df, index=[0])"
   ]
  },
  {
   "cell_type": "code",
   "execution_count": 38,
   "metadata": {
    "ExecuteTime": {
     "end_time": "2020-11-06T21:53:37.087311Z",
     "start_time": "2020-11-06T21:53:37.036926Z"
    }
   },
   "outputs": [],
   "source": [
    "df = pd.read_csv('/home/rt2122/Data/detected_cats/c_act_ep11_val_st8_thr.1.csv')\n",
    "stat = stat_detection(df)"
   ]
  },
  {
   "cell_type": "code",
   "execution_count": 39,
   "metadata": {
    "ExecuteTime": {
     "end_time": "2020-11-06T21:53:37.927435Z",
     "start_time": "2020-11-06T21:53:37.681872Z"
    }
   },
   "outputs": [
    {
     "data": {
      "text/html": [
       "<div>\n",
       "<style scoped>\n",
       "    .dataframe tbody tr th:only-of-type {\n",
       "        vertical-align: middle;\n",
       "    }\n",
       "\n",
       "    .dataframe tbody tr th {\n",
       "        vertical-align: top;\n",
       "    }\n",
       "\n",
       "    .dataframe thead th {\n",
       "        text-align: right;\n",
       "    }\n",
       "</style>\n",
       "<table border=\"1\" class=\"dataframe\">\n",
       "  <thead>\n",
       "    <tr style=\"text-align: right;\">\n",
       "      <th></th>\n",
       "      <th>planck_no_z</th>\n",
       "      <th>act</th>\n",
       "      <th>planck_z</th>\n",
       "      <th>mcxcwp</th>\n",
       "      <th>fp</th>\n",
       "    </tr>\n",
       "  </thead>\n",
       "  <tbody>\n",
       "    <tr>\n",
       "      <th>0</th>\n",
       "      <td>0.75</td>\n",
       "      <td>0.139887</td>\n",
       "      <td>0.939394</td>\n",
       "      <td>0.174757</td>\n",
       "      <td>1226</td>\n",
       "    </tr>\n",
       "  </tbody>\n",
       "</table>\n",
       "</div>"
      ],
      "text/plain": [
       "   planck_no_z       act  planck_z    mcxcwp    fp\n",
       "0         0.75  0.139887  0.939394  0.174757  1226"
      ]
     },
     "execution_count": 39,
     "metadata": {},
     "output_type": "execute_result"
    }
   ],
   "source": [
    "stat"
   ]
  },
  {
   "cell_type": "code",
   "execution_count": null,
   "metadata": {
    "ExecuteTime": {
     "start_time": "2020-11-06T22:10:31.781Z"
    }
   },
   "outputs": [
    {
     "name": "stderr",
     "output_type": "stream",
     "text": [
      "/home/rt2122/anaconda3/lib/python3.8/site-packages/pandas/core/indexing.py:671: SettingWithCopyWarning: \n",
      "A value is trying to be set on a copy of a slice from a DataFrame\n",
      "\n",
      "See the caveats in the documentation: https://pandas.pydata.org/pandas-docs/stable/user_guide/indexing.html#returning-a-view-versus-a-copy\n",
      "  self._setitem_with_indexer(indexer, value)\n"
     ]
    }
   ],
   "source": [
    "model = '/home/rt2122/Models/act_cut/act_cut.ep0014-vl0.035575-l0.029666.hdf5'\n",
    "for thr in [0.9, 0.7, 0.6, 0.4, 0.3, 0.2, 0.1]:\n",
    "    df = detect_main(model,\n",
    "                list(range(48)), 0.1, \n",
    "    save_scan='/home/rt2122/Data/connected_scans/act_cut_ep14_{pix}_st8',\n",
    "    save_unmatched='/home/rt2122/Data/detected_cats/unmatched/act_cut_ep14_{pix}_st8_thr{thr}.csv'.format(thr=thr, pix='{pix}'),\n",
    "    save_matched='/home/rt2122/Data/detected_cats/act_cut_ep14_val_st8_thr{thr}.csv'.format(thr=thr))"
   ]
  },
  {
   "cell_type": "code",
   "execution_count": null,
   "metadata": {},
   "outputs": [],
   "source": []
  }
 ],
 "metadata": {
  "kernelspec": {
   "display_name": "Python 3",
   "language": "python",
   "name": "python3"
  },
  "language_info": {
   "codemirror_mode": {
    "name": "ipython",
    "version": 3
   },
   "file_extension": ".py",
   "mimetype": "text/x-python",
   "name": "python",
   "nbconvert_exporter": "python",
   "pygments_lexer": "ipython3",
   "version": "3.8.3"
  }
 },
 "nbformat": 4,
 "nbformat_minor": 4
}
