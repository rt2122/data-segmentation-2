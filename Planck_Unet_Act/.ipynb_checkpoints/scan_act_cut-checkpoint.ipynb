{
 "cells": [
  {
   "cell_type": "code",
   "execution_count": 1,
   "metadata": {
    "ExecuteTime": {
     "end_time": "2020-11-02T17:10:10.400627Z",
     "start_time": "2020-11-02T17:10:02.763493Z"
    }
   },
   "outputs": [],
   "source": [
    "import numpy as np\n",
    "import pandas as pd\n",
    "import re\n",
    "import os\n",
    "from DS_Planck_Unet import *\n",
    "from DS_detector import *\n",
    "from tqdm.notebook import tqdm\n",
    "from matplotlib import pyplot as plt\n",
    "from DS_healpix_fragmentation import radec2pix"
   ]
  },
  {
   "cell_type": "code",
   "execution_count": 2,
   "metadata": {
    "ExecuteTime": {
     "end_time": "2020-11-02T17:10:10.409693Z",
     "start_time": "2020-11-02T17:10:10.403149Z"
    }
   },
   "outputs": [],
   "source": [
    "def get_ep(s):\n",
    "    return int(re.search('ep(\\d+)', s)[0][2:])"
   ]
  },
  {
   "cell_type": "code",
   "execution_count": 3,
   "metadata": {
    "ExecuteTime": {
     "end_time": "2020-11-02T17:10:10.712383Z",
     "start_time": "2020-11-02T17:10:10.704201Z"
    }
   },
   "outputs": [
    {
     "data": {
      "text/plain": [
       "('act_cut.ep0028-vl0.039661-l0.023777.hdf5', 28)"
      ]
     },
     "execution_count": 3,
     "metadata": {},
     "output_type": "execute_result"
    }
   ],
   "source": [
    "dirname = '/home/rt2122/Models/act_cut/'\n",
    "files = next(os.walk(dirname))[-1]\n",
    "files[0], get_ep(files[0])"
   ]
  },
  {
   "cell_type": "code",
   "execution_count": 4,
   "metadata": {
    "ExecuteTime": {
     "end_time": "2020-11-02T17:10:14.053506Z",
     "start_time": "2020-11-02T17:10:14.048313Z"
    }
   },
   "outputs": [],
   "source": [
    "step = 8"
   ]
  },
  {
   "cell_type": "code",
   "execution_count": 5,
   "metadata": {
    "ExecuteTime": {
     "end_time": "2020-11-02T17:10:14.358037Z",
     "start_time": "2020-11-02T17:10:14.353005Z"
    }
   },
   "outputs": [
    {
     "data": {
      "text/plain": [
       "[9, 38, 41]"
      ]
     },
     "execution_count": 5,
     "metadata": {},
     "output_type": "execute_result"
    }
   ],
   "source": [
    "val_pix"
   ]
  },
  {
   "cell_type": "code",
   "execution_count": 6,
   "metadata": {
    "ExecuteTime": {
     "end_time": "2020-11-02T17:42:14.624050Z",
     "start_time": "2020-11-02T17:10:18.528835Z"
    }
   },
   "outputs": [
    {
     "data": {
      "application/vnd.jupyter.widget-view+json": {
       "model_id": "f992e0c5a9fb422a9076862d3d632644",
       "version_major": 2,
       "version_minor": 0
      },
      "text/plain": [
       "HBox(children=(FloatProgress(value=0.0, max=5.0), HTML(value='')))"
      ]
     },
     "metadata": {},
     "output_type": "display_data"
    },
    {
     "name": "stderr",
     "output_type": "stream",
     "text": [
      "/home/rt2122/anaconda3/lib/python3.8/site-packages/pandas/core/indexing.py:671: SettingWithCopyWarning: \n",
      "A value is trying to be set on a copy of a slice from a DataFrame\n",
      "\n",
      "See the caveats in the documentation: https://pandas.pydata.org/pandas-docs/stable/user_guide/indexing.html#returning-a-view-versus-a-copy\n",
      "  self._setitem_with_indexer(indexer, value)\n"
     ]
    },
    {
     "name": "stdout",
     "output_type": "stream",
     "text": [
      "\n"
     ]
    }
   ],
   "source": [
    "cats_dict = {}\n",
    "for file in tqdm(files):\n",
    "    model = load_planck_model(os.path.join(dirname, file))\n",
    "    ep = get_ep(file)\n",
    "    cats_dict[ep] = []\n",
    "    for i in val_pix:\n",
    "        all_dict = gen_pics_for_detection(i, model, step=step)\n",
    "        cats_dict[ep].append(detect_clusters_connected(all_dict, thr=0.1, ipix=i))\n",
    "    cats_dict[ep] = pd.concat(cats_dict[ep], ignore_index=True)\n",
    "    cats_dict[ep].to_csv(\n",
    "        '/home/rt2122/Data/scan_act/val_thr0.1_ep{ep}_step{step}.csv'.format(ep=ep, \n",
    "                step=step), index=False)"
   ]
  },
  {
   "cell_type": "code",
   "execution_count": 7,
   "metadata": {
    "ExecuteTime": {
     "end_time": "2020-11-02T17:42:14.630631Z",
     "start_time": "2020-11-02T17:42:14.626057Z"
    }
   },
   "outputs": [],
   "source": [
    "stat_df = pd.DataFrame({'planck_z' : [], 'planck_no_z':[], 'mcxcwp' : [], 'act':[], \n",
    "                       'fp':[]})"
   ]
  },
  {
   "cell_type": "code",
   "execution_count": 8,
   "metadata": {
    "ExecuteTime": {
     "end_time": "2020-11-02T17:42:14.751454Z",
     "start_time": "2020-11-02T17:42:14.632409Z"
    }
   },
   "outputs": [],
   "source": [
    "for ep in cats_dict:\n",
    "    df = cats_dict[ep]\n",
    "    cur_line = {}\n",
    "    for cat in ['planck_z', 'planck_no_z', 'mcxcwp', 'act']:\n",
    "        df_cat = df[df['catalog'] == cat]\n",
    "        cur_line[cat] = np.count_nonzero(df_cat['status'] == 'tp') / len(df_cat)\n",
    "    cur_line['fp'] = np.count_nonzero(df['status'] == 'fp')\n",
    "    stat_df.loc[ep] = cur_line"
   ]
  },
  {
   "cell_type": "code",
   "execution_count": 9,
   "metadata": {
    "ExecuteTime": {
     "end_time": "2020-11-02T17:42:14.916199Z",
     "start_time": "2020-11-02T17:42:14.753846Z"
    }
   },
   "outputs": [
    {
     "data": {
      "text/html": [
       "<div>\n",
       "<style scoped>\n",
       "    .dataframe tbody tr th:only-of-type {\n",
       "        vertical-align: middle;\n",
       "    }\n",
       "\n",
       "    .dataframe tbody tr th {\n",
       "        vertical-align: top;\n",
       "    }\n",
       "\n",
       "    .dataframe thead th {\n",
       "        text-align: right;\n",
       "    }\n",
       "</style>\n",
       "<table border=\"1\" class=\"dataframe\">\n",
       "  <thead>\n",
       "    <tr style=\"text-align: right;\">\n",
       "      <th></th>\n",
       "      <th>planck_z</th>\n",
       "      <th>planck_no_z</th>\n",
       "      <th>mcxcwp</th>\n",
       "      <th>act</th>\n",
       "      <th>fp</th>\n",
       "    </tr>\n",
       "  </thead>\n",
       "  <tbody>\n",
       "    <tr>\n",
       "      <th>9</th>\n",
       "      <td>0.909091</td>\n",
       "      <td>0.785714</td>\n",
       "      <td>0.097087</td>\n",
       "      <td>0.022684</td>\n",
       "      <td>515.0</td>\n",
       "    </tr>\n",
       "    <tr>\n",
       "      <th>14</th>\n",
       "      <td>0.893939</td>\n",
       "      <td>0.821429</td>\n",
       "      <td>0.097087</td>\n",
       "      <td>0.022684</td>\n",
       "      <td>756.0</td>\n",
       "    </tr>\n",
       "    <tr>\n",
       "      <th>28</th>\n",
       "      <td>0.825758</td>\n",
       "      <td>0.642857</td>\n",
       "      <td>0.087379</td>\n",
       "      <td>0.020794</td>\n",
       "      <td>720.0</td>\n",
       "    </tr>\n",
       "    <tr>\n",
       "      <th>30</th>\n",
       "      <td>0.803030</td>\n",
       "      <td>0.678571</td>\n",
       "      <td>0.077670</td>\n",
       "      <td>0.024575</td>\n",
       "      <td>618.0</td>\n",
       "    </tr>\n",
       "    <tr>\n",
       "      <th>37</th>\n",
       "      <td>0.825758</td>\n",
       "      <td>0.678571</td>\n",
       "      <td>0.077670</td>\n",
       "      <td>0.017013</td>\n",
       "      <td>643.0</td>\n",
       "    </tr>\n",
       "  </tbody>\n",
       "</table>\n",
       "</div>"
      ],
      "text/plain": [
       "    planck_z  planck_no_z    mcxcwp       act     fp\n",
       "9   0.909091     0.785714  0.097087  0.022684  515.0\n",
       "14  0.893939     0.821429  0.097087  0.022684  756.0\n",
       "28  0.825758     0.642857  0.087379  0.020794  720.0\n",
       "30  0.803030     0.678571  0.077670  0.024575  618.0\n",
       "37  0.825758     0.678571  0.077670  0.017013  643.0"
      ]
     },
     "execution_count": 9,
     "metadata": {},
     "output_type": "execute_result"
    }
   ],
   "source": [
    "stat_df.sort_index(inplace=True)\n",
    "stat_df"
   ]
  },
  {
   "cell_type": "code",
   "execution_count": 10,
   "metadata": {
    "ExecuteTime": {
     "end_time": "2020-11-02T17:42:15.303767Z",
     "start_time": "2020-11-02T17:42:14.919505Z"
    }
   },
   "outputs": [
    {
     "data": {
      "text/plain": [
       "<matplotlib.legend.Legend at 0x7fbc6059e820>"
      ]
     },
     "execution_count": 10,
     "metadata": {},
     "output_type": "execute_result"
    },
    {
     "data": {
      "image/png": "[encoded data removed]",
      "text/plain": [
       "<Figure size 1584x576 with 2 Axes>"
      ]
     },
     "metadata": {
      "needs_background": "light"
     },
     "output_type": "display_data"
    }
   ],
   "source": [
    "_, ax = plt.subplots(1, 2, figsize=(22, 8))\n",
    "ax[0].grid(b=True, which='major', color='#666666', linestyle=':')\n",
    "for cat, c in zip(['planck_z', 'planck_no_z', 'mcxcwp', 'act'], 'bgrc'):\n",
    "    line, = ax[0].plot(stat_df.index, stat_df[cat], c+'o-')\n",
    "    line.set_label(cat)\n",
    "ax[0].set_yticks(np.arange(0, 1, 0.1))\n",
    "ax[0].legend()\n",
    "line, = ax[1].plot(stat_df.index, stat_df['fp'], 'ko-')\n",
    "line.set_label('fp')\n",
    "ax[1].legend()"
   ]
  },
  {
   "cell_type": "code",
   "execution_count": null,
   "metadata": {},
   "outputs": [],
   "source": []
  }
 ],
 "metadata": {
  "kernelspec": {
   "display_name": "Python 3",
   "language": "python",
   "name": "python3"
  },
  "language_info": {
   "codemirror_mode": {
    "name": "ipython",
    "version": 3
   },
   "file_extension": ".py",
   "mimetype": "text/x-python",
   "name": "python",
   "nbconvert_exporter": "python",
   "pygments_lexer": "ipython3",
   "version": "3.8.3"
  }
 },
 "nbformat": 4,
 "nbformat_minor": 4
}
