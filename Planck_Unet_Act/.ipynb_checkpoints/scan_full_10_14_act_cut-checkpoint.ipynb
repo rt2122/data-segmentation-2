{
 "cells": [
  {
   "cell_type": "code",
   "execution_count": 1,
   "metadata": {
    "ExecuteTime": {
     "end_time": "2020-11-04T19:25:33.910926Z",
     "start_time": "2020-11-04T19:25:16.966426Z"
    }
   },
   "outputs": [],
   "source": [
    "import numpy as np\n",
    "import pandas as pd\n",
    "import healpy as hp\n",
    "import os\n",
    "from DS_Planck_Unet import *\n",
    "from DS_healpix_fragmentation import radec2pix\n",
    "from matplotlib import pyplot as plt\n",
    "from DS_data_transformation import draw_df\n",
    "from DS_detector import *\n",
    "from tqdm.notebook import tqdm\n",
    "import re"
   ]
  },
  {
   "cell_type": "code",
   "execution_count": 4,
   "metadata": {
    "ExecuteTime": {
     "end_time": "2020-11-04T19:26:51.694616Z",
     "start_time": "2020-11-04T19:26:50.813946Z"
    }
   },
   "outputs": [],
   "source": [
    "models = {10 : load_planck_model('/home/rt2122/Models/act_cut/act_cut.ep0010-vl0.034219-l0.032022.hdf5'),\n",
    "    14 : load_planck_model('/home/rt2122/Models/act_cut/act_cut.ep0014-vl0.035575-l0.029666.hdf5')}"
   ]
  },
  {
   "cell_type": "code",
   "execution_count": 5,
   "metadata": {
    "ExecuteTime": {
     "end_time": "2020-11-04T19:26:51.698190Z",
     "start_time": "2020-11-04T19:26:51.695997Z"
    }
   },
   "outputs": [],
   "source": [
    "thr = 0.1"
   ]
  },
  {
   "cell_type": "code",
   "execution_count": 7,
   "metadata": {
    "ExecuteTime": {
     "end_time": "2020-11-05T09:22:37.378236Z",
     "start_time": "2020-11-05T05:26:08.436273Z"
    }
   },
   "outputs": [
    {
     "data": {
      "application/vnd.jupyter.widget-view+json": {
       "model_id": "d4fbd39ce63d4dbdbf0ee1fa5860157b",
       "version_major": 2,
       "version_minor": 0
      },
      "text/plain": [
       "HBox(children=(FloatProgress(value=0.0, max=48.0), HTML(value='')))"
      ]
     },
     "metadata": {},
     "output_type": "display_data"
    },
    {
     "name": "stdout",
     "output_type": "stream",
     "text": [
      "\n"
     ]
    },
    {
     "data": {
      "application/vnd.jupyter.widget-view+json": {
       "model_id": "f16ceaa8187f4284a4eec04f83e643b2",
       "version_major": 2,
       "version_minor": 0
      },
      "text/plain": [
       "HBox(children=(FloatProgress(value=0.0, max=48.0), HTML(value='')))"
      ]
     },
     "metadata": {},
     "output_type": "display_data"
    },
    {
     "name": "stdout",
     "output_type": "stream",
     "text": [
      "\n"
     ]
    }
   ],
   "source": [
    "mod_dict = {10 : [], 14 : []}\n",
    "for ep in models:\n",
    "    for i in tqdm(range(48)):\n",
    "        all_dict = gen_pics_for_detection(i, models[ep], step=8)\n",
    "        coords = detect_clusters_connected(all_dict, thr, i)\n",
    "        mod_dict[ep].append(coords)\n",
    "    mod_dict[ep] = pd.concat(mod_dict[ep], ignore_index=True)\n",
    "    mod_dict[ep].to_csv(\n",
    "        '/home/rt2122/Data/scans_extended/connected/full_act_cut_ep{ep}_thr{thr}_step8.csv'.format(\n",
    "            ep=ep, thr=0.1), index=False)"
   ]
  },
  {
   "cell_type": "code",
   "execution_count": 8,
   "metadata": {
    "ExecuteTime": {
     "end_time": "2020-11-05T09:38:33.748605Z",
     "start_time": "2020-11-05T09:38:32.850832Z"
    }
   },
   "outputs": [],
   "source": [
    "act_cut10 = pd.read_csv('/home/rt2122/Data/scans_extended/connected/full_act_cut_ep10_thr0.1_step8.csv')\n",
    "act_cut14 = pd.read_csv('/home/rt2122/Data/scans_extended/connected/full_act_cut_ep14_thr0.1_step8.csv')"
   ]
  },
  {
   "cell_type": "code",
   "execution_count": 12,
   "metadata": {
    "ExecuteTime": {
     "end_time": "2020-11-05T09:42:50.819685Z",
     "start_time": "2020-11-05T09:42:50.802946Z"
    }
   },
   "outputs": [],
   "source": [
    "def recall(df, cat):\n",
    "    import numpy as np\n",
    "    if cat == 'fp':\n",
    "        return np.count_nonzero(df['status'] == 'fp')\n",
    "    df = df[df['catalog'] == cat]\n",
    "    return np.count_nonzero(df['status'] == 'tp') / len(df)"
   ]
  },
  {
   "cell_type": "code",
   "execution_count": 22,
   "metadata": {
    "ExecuteTime": {
     "end_time": "2020-11-05T09:45:53.759329Z",
     "start_time": "2020-11-05T09:45:53.738091Z"
    }
   },
   "outputs": [],
   "source": [
    "stat_df = pd.DataFrame({cat : [recall(act_cut10, cat), recall(act_cut14, cat)] for \n",
    "                       cat in ['planck_z', 'planck_no_z', 'mcxcwp', 'act_erosita', 'fp']},\n",
    "                      index=[10, 14])"
   ]
  },
  {
   "cell_type": "code",
   "execution_count": 23,
   "metadata": {
    "ExecuteTime": {
     "end_time": "2020-11-05T09:45:54.410830Z",
     "start_time": "2020-11-05T09:45:54.393305Z"
    }
   },
   "outputs": [
    {
     "data": {
      "text/html": [
       "<div>\n",
       "<style scoped>\n",
       "    .dataframe tbody tr th:only-of-type {\n",
       "        vertical-align: middle;\n",
       "    }\n",
       "\n",
       "    .dataframe tbody tr th {\n",
       "        vertical-align: top;\n",
       "    }\n",
       "\n",
       "    .dataframe thead th {\n",
       "        text-align: right;\n",
       "    }\n",
       "</style>\n",
       "<table border=\"1\" class=\"dataframe\">\n",
       "  <thead>\n",
       "    <tr style=\"text-align: right;\">\n",
       "      <th></th>\n",
       "      <th>planck_z</th>\n",
       "      <th>planck_no_z</th>\n",
       "      <th>mcxcwp</th>\n",
       "      <th>act_erosita</th>\n",
       "      <th>fp</th>\n",
       "    </tr>\n",
       "  </thead>\n",
       "  <tbody>\n",
       "    <tr>\n",
       "      <th>10</th>\n",
       "      <td>0.905850</td>\n",
       "      <td>0.651163</td>\n",
       "      <td>0.132439</td>\n",
       "      <td>0.179195</td>\n",
       "      <td>16316</td>\n",
       "    </tr>\n",
       "    <tr>\n",
       "      <th>14</th>\n",
       "      <td>0.909506</td>\n",
       "      <td>0.644007</td>\n",
       "      <td>0.140821</td>\n",
       "      <td>0.292282</td>\n",
       "      <td>16484</td>\n",
       "    </tr>\n",
       "  </tbody>\n",
       "</table>\n",
       "</div>"
      ],
      "text/plain": [
       "    planck_z  planck_no_z    mcxcwp  act_erosita     fp\n",
       "10  0.905850     0.651163  0.132439     0.179195  16316\n",
       "14  0.909506     0.644007  0.140821     0.292282  16484"
      ]
     },
     "execution_count": 23,
     "metadata": {},
     "output_type": "execute_result"
    }
   ],
   "source": [
    "stat_df"
   ]
  },
  {
   "cell_type": "code",
   "execution_count": null,
   "metadata": {},
   "outputs": [],
   "source": []
  }
 ],
 "metadata": {
  "kernelspec": {
   "display_name": "Python 3",
   "language": "python",
   "name": "python3"
  },
  "language_info": {
   "codemirror_mode": {
    "name": "ipython",
    "version": 3
   },
   "file_extension": ".py",
   "mimetype": "text/x-python",
   "name": "python",
   "nbconvert_exporter": "python",
   "pygments_lexer": "ipython3",
   "version": "3.8.3"
  }
 },
 "nbformat": 4,
 "nbformat_minor": 4
}
