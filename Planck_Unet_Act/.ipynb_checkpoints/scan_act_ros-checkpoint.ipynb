{
 "cells": [
  {
   "cell_type": "code",
   "execution_count": 1,
   "metadata": {
    "ExecuteTime": {
     "end_time": "2020-11-03T18:52:23.683376Z",
     "start_time": "2020-11-03T18:52:14.246859Z"
    }
   },
   "outputs": [],
   "source": [
    "import numpy as np\n",
    "import pandas as pd\n",
    "import re\n",
    "import os\n",
    "from DS_Planck_Unet import *\n",
    "from DS_detector import *\n",
    "from tqdm.notebook import tqdm\n",
    "from matplotlib import pyplot as plt\n",
    "from DS_healpix_fragmentation import radec2pix"
   ]
  },
  {
   "cell_type": "code",
   "execution_count": 2,
   "metadata": {
    "ExecuteTime": {
     "end_time": "2020-11-03T18:52:23.691876Z",
     "start_time": "2020-11-03T18:52:23.685907Z"
    }
   },
   "outputs": [],
   "source": [
    "def get_ep(s):\n",
    "    return int(re.search('ep(\\d+)', s)[0][2:])"
   ]
  },
  {
   "cell_type": "code",
   "execution_count": 10,
   "metadata": {
    "ExecuteTime": {
     "end_time": "2020-11-03T20:25:51.516003Z",
     "start_time": "2020-11-03T20:25:51.505202Z"
    }
   },
   "outputs": [
    {
     "data": {
      "text/plain": [
       "('act_ros.ep0014-vl0.035122-l0.028428.hdf5', 14)"
      ]
     },
     "execution_count": 10,
     "metadata": {},
     "output_type": "execute_result"
    }
   ],
   "source": [
    "dirname = '/home/rt2122/Models/act_ros/'\n",
    "files = list(filter(lambda x: get_ep(x) <= 20 and x[-1] =='5', next(os.walk(dirname))[-1]))\n",
    "files[0], get_ep(files[0])"
   ]
  },
  {
   "cell_type": "code",
   "execution_count": 4,
   "metadata": {
    "ExecuteTime": {
     "end_time": "2020-11-03T18:57:45.197744Z",
     "start_time": "2020-11-03T18:57:45.189792Z"
    }
   },
   "outputs": [],
   "source": [
    "step = 8"
   ]
  },
  {
   "cell_type": "code",
   "execution_count": 5,
   "metadata": {
    "ExecuteTime": {
     "end_time": "2020-11-03T18:57:46.356180Z",
     "start_time": "2020-11-03T18:57:46.350602Z"
    }
   },
   "outputs": [
    {
     "data": {
      "text/plain": [
       "[9, 38, 41]"
      ]
     },
     "execution_count": 5,
     "metadata": {},
     "output_type": "execute_result"
    }
   ],
   "source": [
    "val_pix"
   ]
  },
  {
   "cell_type": "code",
   "execution_count": 11,
   "metadata": {
    "ExecuteTime": {
     "end_time": "2020-11-03T22:37:17.165315Z",
     "start_time": "2020-11-03T20:25:58.401755Z"
    }
   },
   "outputs": [
    {
     "data": {
      "application/vnd.jupyter.widget-view+json": {
       "model_id": "6a399f7d5eec47ff88fc6509f258db7e",
       "version_major": 2,
       "version_minor": 0
      },
      "text/plain": [
       "HBox(children=(FloatProgress(value=0.0, max=20.0), HTML(value='')))"
      ]
     },
     "metadata": {},
     "output_type": "display_data"
    },
    {
     "name": "stdout",
     "output_type": "stream",
     "text": [
      "\n"
     ]
    }
   ],
   "source": [
    "cats_dict = {}\n",
    "for file in tqdm(files):\n",
    "    model = load_planck_model(os.path.join(dirname, file))\n",
    "    ep = get_ep(file)\n",
    "    cats_dict[ep] = []\n",
    "    for i in val_pix:\n",
    "        all_dict = gen_pics_for_detection(i, model, step=step)\n",
    "        cats_dict[ep].append(detect_clusters_connected(all_dict, thr=0.1, ipix=i))\n",
    "    cats_dict[ep] = pd.concat(cats_dict[ep], ignore_index=True)\n",
    "    cats_dict[ep].to_csv(\n",
    "        '/home/rt2122/Data/scan_act/act_ros_val_thr0.1_ep{ep}_step{step}.csv'.format(ep=ep, \n",
    "                step=step), index=False)"
   ]
  },
  {
   "cell_type": "code",
   "execution_count": 12,
   "metadata": {
    "ExecuteTime": {
     "end_time": "2020-11-03T22:54:37.878272Z",
     "start_time": "2020-11-03T22:54:37.858474Z"
    }
   },
   "outputs": [],
   "source": [
    "stat_df = pd.DataFrame({'planck_z' : [], 'planck_no_z': [], 'mcxcwp' : [], \n",
    "                        'act_erosita': [], 'fp': []})"
   ]
  },
  {
   "cell_type": "code",
   "execution_count": 13,
   "metadata": {
    "ExecuteTime": {
     "end_time": "2020-11-03T22:54:42.289593Z",
     "start_time": "2020-11-03T22:54:42.035443Z"
    }
   },
   "outputs": [],
   "source": [
    "for ep in cats_dict:\n",
    "    df = cats_dict[ep]\n",
    "    cur_line = {}\n",
    "    for cat in ['planck_z', 'planck_no_z', 'mcxcwp', 'act_erosita']:\n",
    "        df_cat = df[df['catalog'] == cat]\n",
    "        if len(df_cat) == 0:\n",
    "            continue\n",
    "        cur_line[cat] = np.count_nonzero(df_cat['status'] == 'tp') / len(df_cat)\n",
    "    cur_line['fp'] = np.count_nonzero(df['status'] == 'fp')\n",
    "    stat_df.loc[ep] = cur_line"
   ]
  },
  {
   "cell_type": "code",
   "execution_count": 14,
   "metadata": {
    "ExecuteTime": {
     "end_time": "2020-11-03T22:54:43.229199Z",
     "start_time": "2020-11-03T22:54:42.703685Z"
    }
   },
   "outputs": [
    {
     "data": {
      "text/html": [
       "<div>\n",
       "<style scoped>\n",
       "    .dataframe tbody tr th:only-of-type {\n",
       "        vertical-align: middle;\n",
       "    }\n",
       "\n",
       "    .dataframe tbody tr th {\n",
       "        vertical-align: top;\n",
       "    }\n",
       "\n",
       "    .dataframe thead th {\n",
       "        text-align: right;\n",
       "    }\n",
       "</style>\n",
       "<table border=\"1\" class=\"dataframe\">\n",
       "  <thead>\n",
       "    <tr style=\"text-align: right;\">\n",
       "      <th></th>\n",
       "      <th>planck_z</th>\n",
       "      <th>planck_no_z</th>\n",
       "      <th>mcxcwp</th>\n",
       "      <th>act_erosita</th>\n",
       "      <th>fp</th>\n",
       "    </tr>\n",
       "  </thead>\n",
       "  <tbody>\n",
       "    <tr>\n",
       "      <th>1</th>\n",
       "      <td>0.068182</td>\n",
       "      <td>0.035714</td>\n",
       "      <td>0.000000</td>\n",
       "      <td>0.000000</td>\n",
       "      <td>23.0</td>\n",
       "    </tr>\n",
       "    <tr>\n",
       "      <th>2</th>\n",
       "      <td>0.439394</td>\n",
       "      <td>0.214286</td>\n",
       "      <td>0.019417</td>\n",
       "      <td>0.011737</td>\n",
       "      <td>168.0</td>\n",
       "    </tr>\n",
       "    <tr>\n",
       "      <th>3</th>\n",
       "      <td>0.734848</td>\n",
       "      <td>0.500000</td>\n",
       "      <td>0.048544</td>\n",
       "      <td>0.032864</td>\n",
       "      <td>310.0</td>\n",
       "    </tr>\n",
       "    <tr>\n",
       "      <th>4</th>\n",
       "      <td>0.772727</td>\n",
       "      <td>0.607143</td>\n",
       "      <td>0.067961</td>\n",
       "      <td>0.042254</td>\n",
       "      <td>410.0</td>\n",
       "    </tr>\n",
       "    <tr>\n",
       "      <th>5</th>\n",
       "      <td>0.780303</td>\n",
       "      <td>0.607143</td>\n",
       "      <td>0.067961</td>\n",
       "      <td>0.042254</td>\n",
       "      <td>410.0</td>\n",
       "    </tr>\n",
       "    <tr>\n",
       "      <th>6</th>\n",
       "      <td>0.772727</td>\n",
       "      <td>0.642857</td>\n",
       "      <td>0.067961</td>\n",
       "      <td>0.049296</td>\n",
       "      <td>378.0</td>\n",
       "    </tr>\n",
       "    <tr>\n",
       "      <th>7</th>\n",
       "      <td>0.787879</td>\n",
       "      <td>0.678571</td>\n",
       "      <td>0.097087</td>\n",
       "      <td>0.051643</td>\n",
       "      <td>411.0</td>\n",
       "    </tr>\n",
       "    <tr>\n",
       "      <th>8</th>\n",
       "      <td>0.840909</td>\n",
       "      <td>0.714286</td>\n",
       "      <td>0.077670</td>\n",
       "      <td>0.077465</td>\n",
       "      <td>585.0</td>\n",
       "    </tr>\n",
       "    <tr>\n",
       "      <th>9</th>\n",
       "      <td>0.833333</td>\n",
       "      <td>0.678571</td>\n",
       "      <td>0.067961</td>\n",
       "      <td>0.049296</td>\n",
       "      <td>455.0</td>\n",
       "    </tr>\n",
       "    <tr>\n",
       "      <th>10</th>\n",
       "      <td>0.833333</td>\n",
       "      <td>0.714286</td>\n",
       "      <td>0.077670</td>\n",
       "      <td>0.063380</td>\n",
       "      <td>464.0</td>\n",
       "    </tr>\n",
       "    <tr>\n",
       "      <th>11</th>\n",
       "      <td>0.833333</td>\n",
       "      <td>0.678571</td>\n",
       "      <td>0.077670</td>\n",
       "      <td>0.049296</td>\n",
       "      <td>462.0</td>\n",
       "    </tr>\n",
       "    <tr>\n",
       "      <th>12</th>\n",
       "      <td>0.818182</td>\n",
       "      <td>0.678571</td>\n",
       "      <td>0.067961</td>\n",
       "      <td>0.051643</td>\n",
       "      <td>498.0</td>\n",
       "    </tr>\n",
       "    <tr>\n",
       "      <th>13</th>\n",
       "      <td>0.825758</td>\n",
       "      <td>0.714286</td>\n",
       "      <td>0.097087</td>\n",
       "      <td>0.053991</td>\n",
       "      <td>499.0</td>\n",
       "    </tr>\n",
       "    <tr>\n",
       "      <th>14</th>\n",
       "      <td>0.825758</td>\n",
       "      <td>0.714286</td>\n",
       "      <td>0.077670</td>\n",
       "      <td>0.058685</td>\n",
       "      <td>548.0</td>\n",
       "    </tr>\n",
       "    <tr>\n",
       "      <th>15</th>\n",
       "      <td>0.833333</td>\n",
       "      <td>0.678571</td>\n",
       "      <td>0.067961</td>\n",
       "      <td>0.058685</td>\n",
       "      <td>565.0</td>\n",
       "    </tr>\n",
       "    <tr>\n",
       "      <th>16</th>\n",
       "      <td>0.840909</td>\n",
       "      <td>0.714286</td>\n",
       "      <td>0.067961</td>\n",
       "      <td>0.049296</td>\n",
       "      <td>586.0</td>\n",
       "    </tr>\n",
       "    <tr>\n",
       "      <th>17</th>\n",
       "      <td>0.833333</td>\n",
       "      <td>0.678571</td>\n",
       "      <td>0.087379</td>\n",
       "      <td>0.056338</td>\n",
       "      <td>605.0</td>\n",
       "    </tr>\n",
       "    <tr>\n",
       "      <th>18</th>\n",
       "      <td>0.795455</td>\n",
       "      <td>0.678571</td>\n",
       "      <td>0.067961</td>\n",
       "      <td>0.053991</td>\n",
       "      <td>514.0</td>\n",
       "    </tr>\n",
       "    <tr>\n",
       "      <th>19</th>\n",
       "      <td>0.825758</td>\n",
       "      <td>0.642857</td>\n",
       "      <td>0.058252</td>\n",
       "      <td>0.044601</td>\n",
       "      <td>505.0</td>\n",
       "    </tr>\n",
       "    <tr>\n",
       "      <th>20</th>\n",
       "      <td>0.825758</td>\n",
       "      <td>0.750000</td>\n",
       "      <td>0.058252</td>\n",
       "      <td>0.046948</td>\n",
       "      <td>562.0</td>\n",
       "    </tr>\n",
       "  </tbody>\n",
       "</table>\n",
       "</div>"
      ],
      "text/plain": [
       "    planck_z  planck_no_z    mcxcwp  act_erosita     fp\n",
       "1   0.068182     0.035714  0.000000     0.000000   23.0\n",
       "2   0.439394     0.214286  0.019417     0.011737  168.0\n",
       "3   0.734848     0.500000  0.048544     0.032864  310.0\n",
       "4   0.772727     0.607143  0.067961     0.042254  410.0\n",
       "5   0.780303     0.607143  0.067961     0.042254  410.0\n",
       "6   0.772727     0.642857  0.067961     0.049296  378.0\n",
       "7   0.787879     0.678571  0.097087     0.051643  411.0\n",
       "8   0.840909     0.714286  0.077670     0.077465  585.0\n",
       "9   0.833333     0.678571  0.067961     0.049296  455.0\n",
       "10  0.833333     0.714286  0.077670     0.063380  464.0\n",
       "11  0.833333     0.678571  0.077670     0.049296  462.0\n",
       "12  0.818182     0.678571  0.067961     0.051643  498.0\n",
       "13  0.825758     0.714286  0.097087     0.053991  499.0\n",
       "14  0.825758     0.714286  0.077670     0.058685  548.0\n",
       "15  0.833333     0.678571  0.067961     0.058685  565.0\n",
       "16  0.840909     0.714286  0.067961     0.049296  586.0\n",
       "17  0.833333     0.678571  0.087379     0.056338  605.0\n",
       "18  0.795455     0.678571  0.067961     0.053991  514.0\n",
       "19  0.825758     0.642857  0.058252     0.044601  505.0\n",
       "20  0.825758     0.750000  0.058252     0.046948  562.0"
      ]
     },
     "execution_count": 14,
     "metadata": {},
     "output_type": "execute_result"
    }
   ],
   "source": [
    "stat_df.sort_index(inplace=True)\n",
    "stat_df"
   ]
  },
  {
   "cell_type": "code",
   "execution_count": 15,
   "metadata": {
    "ExecuteTime": {
     "end_time": "2020-11-03T22:54:46.046409Z",
     "start_time": "2020-11-03T22:54:44.083366Z"
    }
   },
   "outputs": [
    {
     "data": {
      "text/plain": [
       "<matplotlib.legend.Legend at 0x7f63b5ac1be0>"
      ]
     },
     "execution_count": 15,
     "metadata": {},
     "output_type": "execute_result"
    },
    {
     "data": {
      "image/png": "[encoded data removed]",
      "text/plain": [
       "<Figure size 1584x576 with 2 Axes>"
      ]
     },
     "metadata": {
      "needs_background": "light"
     },
     "output_type": "display_data"
    }
   ],
   "source": [
    "_, ax = plt.subplots(1, 2, figsize=(22, 8))\n",
    "ax[0].grid(b=True, which='major', color='#666666', linestyle=':')\n",
    "for cat, c in zip(['planck_z', 'planck_no_z', 'mcxcwp', 'act_erosita'], 'bgrc'):\n",
    "    line, = ax[0].plot(stat_df.index, stat_df[cat], c+'o-')\n",
    "    line.set_label(cat)\n",
    "ax[0].set_yticks(np.arange(0, 1, 0.1))\n",
    "ax[0].legend()\n",
    "line, = ax[1].plot(stat_df.index, stat_df['fp'], 'ko-')\n",
    "line.set_label('fp')\n",
    "ax[1].legend()"
   ]
  },
  {
   "cell_type": "code",
   "execution_count": null,
   "metadata": {},
   "outputs": [],
   "source": []
  }
 ],
 "metadata": {
  "kernelspec": {
   "display_name": "Python 3",
   "language": "python",
   "name": "python3"
  },
  "language_info": {
   "codemirror_mode": {
    "name": "ipython",
    "version": 3
   },
   "file_extension": ".py",
   "mimetype": "text/x-python",
   "name": "python",
   "nbconvert_exporter": "python",
   "pygments_lexer": "ipython3",
   "version": "3.8.3"
  }
 },
 "nbformat": 4,
 "nbformat_minor": 4
}
