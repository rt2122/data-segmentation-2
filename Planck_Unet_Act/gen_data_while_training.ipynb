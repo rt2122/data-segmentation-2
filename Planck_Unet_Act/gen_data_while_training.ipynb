{
 "cells": [
  {
   "cell_type": "code",
   "execution_count": 1,
   "metadata": {
    "ExecuteTime": {
     "end_time": "2020-10-26T20:27:44.094466Z",
     "start_time": "2020-10-26T20:27:34.563593Z"
    }
   },
   "outputs": [],
   "source": [
    "import numpy as np\n",
    "import pandas as pd"
   ]
  },
  {
   "cell_type": "code",
   "execution_count": 7,
   "metadata": {
    "ExecuteTime": {
     "end_time": "2020-10-26T20:43:59.957091Z",
     "start_time": "2020-10-26T20:43:59.944121Z"
    }
   },
   "outputs": [],
   "source": [
    "def gen_corners(big_pix, clusters_df, planck_nside=2048, size=64):\n",
    "    import numpy as np\n",
    "    import pandas as pd\n",
    "    from DS_healpix_fragmentation import radec2pix, one_pixel_fragmentation, matr2dict\n",
    "    \n",
    "    matr = one_pixel_fragmentation(2, big_pix, 10)\n",
    "    mdict = matr2dict(matr)\n",
    "    clusters_df['pix'] = radec2pix(clusters_df['RA'], clusters_df['DEC'], planck_nside)\n",
    "    \n",
    "    corners = set()\n",
    "    for pix in clusters_df['pix']:\n",
    "        if pix in mdict:\n",
    "            x_cl, y_cl = mdict[pix]\n",
    "            cur_corners = np.array([(x, y) for x in range(max(x_cl-size+1, 0), \n",
    "                                                 min(x_cl+size-1, matr.shape[0]))\n",
    "                                  for y in range(max(y_cl-size+1, 0),\n",
    "                                                 min(y_cl+size-1, matr.shape[1]))])\n",
    "            cur_corners = matr[cur_corners[:,0], cur_corners[:,1]]\n",
    "            corners += set(cur_corners)\n",
    "    \n",
    "    return list(corners)"
   ]
  },
  {
   "cell_type": "code",
   "execution_count": null,
   "metadata": {},
   "outputs": [],
   "source": [
    "def gen_data_while_train(clusters_files, big_pixels, batch_size, planck_nside=2048,\n",
    "                        big_nside=2, size=64):\n",
    "    import numpy as np\n",
    "    import pandas as pd\n",
    "    from DS_healpix_fragmentation import one_pixel_fragmentation, pix2pix, matr2dict\n",
    "    \n",
    "    clusters_df = pd.concat([pd.read_csv(file) for file in clusters_files], \n",
    "                            ignore_index=True)\n",
    "    corners = []\n",
    "    for pix in big_pixels:\n",
    "        corners.extend(gen_corners(pix, clusters_df))\n",
    "\n",
    "    big_matrs = {}\n",
    "    big_mdicts = {}\n",
    "    for pix in big_pixels:\n",
    "        big_matrs[pix] = one_pixel_fragmentation(2, pix, 10)\n",
    "        big_mdicts[pix] = matr2dict(big_matrs[pix])\n",
    "    \n",
    "    while 4:\n",
    "        cur_corners = np.random.choice(corners, batch_size)\n",
    "        big_pix = pix2pix(cur_corners, planck_nside, big_nside)\n",
    "        \n",
    "        small_matrs = []\n",
    "        for corner, pix in zip(cur_corners, big_pix):\n",
    "            x, y = big_mdicts[pix][corner]\n",
    "            small_matrs.append(big_matrs[pix][x:x+size, y:y+size])\n",
    "        \n",
    "        "
   ]
  }
 ],
 "metadata": {
  "kernelspec": {
   "display_name": "Python 3",
   "language": "python",
   "name": "python3"
  },
  "language_info": {
   "codemirror_mode": {
    "name": "ipython",
    "version": 3
   },
   "file_extension": ".py",
   "mimetype": "text/x-python",
   "name": "python",
   "nbconvert_exporter": "python",
   "pygments_lexer": "ipython3",
   "version": "3.8.3"
  }
 },
 "nbformat": 4,
 "nbformat_minor": 4
}
