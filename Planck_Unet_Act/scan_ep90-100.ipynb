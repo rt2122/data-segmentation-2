{
 "cells": [
  {
   "cell_type": "code",
   "execution_count": 20,
   "metadata": {
    "ExecuteTime": {
     "end_time": "2020-10-29T09:46:36.500185Z",
     "start_time": "2020-10-29T09:46:35.434672Z"
    }
   },
   "outputs": [],
   "source": [
    "import numpy as np\n",
    "import pandas as pd\n",
    "import re\n",
    "import os\n",
    "from DS_Planck_Unet import *\n",
    "from DS_detector import *\n",
    "from tqdm.notebook import tqdm\n",
    "from matplotlib import pyplot as plt"
   ]
  },
  {
   "cell_type": "code",
   "execution_count": 2,
   "metadata": {
    "ExecuteTime": {
     "end_time": "2020-10-29T07:50:10.680327Z",
     "start_time": "2020-10-29T07:50:09.589245Z"
    }
   },
   "outputs": [
    {
     "data": {
      "text/plain": [
       "90"
      ]
     },
     "execution_count": 2,
     "metadata": {},
     "output_type": "execute_result"
    }
   ],
   "source": [
    "int(re.search('ep(\\d+)', 'act.ep0090-vl0.041928-l0.017998.hdf5')[0][2:])"
   ]
  },
  {
   "cell_type": "code",
   "execution_count": 3,
   "metadata": {
    "ExecuteTime": {
     "end_time": "2020-10-29T07:50:12.686112Z",
     "start_time": "2020-10-29T07:50:10.683443Z"
    }
   },
   "outputs": [],
   "source": [
    "def get_ep(s):\n",
    "    return int(re.search('ep(\\d+)', s)[0][2:])"
   ]
  },
  {
   "cell_type": "code",
   "execution_count": 4,
   "metadata": {
    "ExecuteTime": {
     "end_time": "2020-10-29T07:50:14.848576Z",
     "start_time": "2020-10-29T07:50:12.696354Z"
    }
   },
   "outputs": [
    {
     "data": {
      "text/plain": [
       "('act.ep0095-vl0.041513-l0.017848.hdf5', 95)"
      ]
     },
     "execution_count": 4,
     "metadata": {},
     "output_type": "execute_result"
    }
   ],
   "source": [
    "dirname = '/home/rt2122/Models/act/ep90-100/'\n",
    "files = next(os.walk(dirname))[-1]\n",
    "files[0], get_ep(files[0])"
   ]
  },
  {
   "cell_type": "code",
   "execution_count": 5,
   "metadata": {
    "ExecuteTime": {
     "end_time": "2020-10-29T07:50:16.666645Z",
     "start_time": "2020-10-29T07:50:14.855347Z"
    }
   },
   "outputs": [],
   "source": [
    "step = 8"
   ]
  },
  {
   "cell_type": "code",
   "execution_count": 6,
   "metadata": {
    "ExecuteTime": {
     "end_time": "2020-10-29T07:50:18.284888Z",
     "start_time": "2020-10-29T07:50:16.674172Z"
    }
   },
   "outputs": [
    {
     "data": {
      "text/plain": [
       "[9, 38, 41]"
      ]
     },
     "execution_count": 6,
     "metadata": {},
     "output_type": "execute_result"
    }
   ],
   "source": [
    "val_pix"
   ]
  },
  {
   "cell_type": "code",
   "execution_count": 7,
   "metadata": {
    "ExecuteTime": {
     "end_time": "2020-10-29T08:54:37.726014Z",
     "start_time": "2020-10-29T07:50:18.288045Z"
    }
   },
   "outputs": [
    {
     "data": {
      "application/vnd.jupyter.widget-view+json": {
       "model_id": "183b8de1f1954b8694a56789a88cc49d",
       "version_major": 2,
       "version_minor": 0
      },
      "text/plain": [
       "HBox(children=(FloatProgress(value=0.0, max=11.0), HTML(value='')))"
      ]
     },
     "metadata": {},
     "output_type": "display_data"
    },
    {
     "name": "stderr",
     "output_type": "stream",
     "text": [
      "/home/rt2122/anaconda3/lib/python3.8/site-packages/pandas/core/indexing.py:671: SettingWithCopyWarning: \n",
      "A value is trying to be set on a copy of a slice from a DataFrame\n",
      "\n",
      "See the caveats in the documentation: https://pandas.pydata.org/pandas-docs/stable/user_guide/indexing.html#returning-a-view-versus-a-copy\n",
      "  self._setitem_with_indexer(indexer, value)\n"
     ]
    },
    {
     "name": "stdout",
     "output_type": "stream",
     "text": [
      "\n"
     ]
    }
   ],
   "source": [
    "cats_dict = {i : [] for i in range(90, 101)}\n",
    "for file in tqdm(files):\n",
    "    model = load_planck_model(os.path.join(dirname, file))\n",
    "    ep = get_ep(file)\n",
    "    for i in val_pix:\n",
    "        all_dict = gen_pics_for_detection(i, model, step=step)\n",
    "        cats_dict[ep].append(detect_clusters_connected(all_dict, thr=0.1, ipix=i))\n",
    "    cats_dict[ep] = pd.concat(cats_dict[ep], ignore_index=True)\n",
    "    cats_dict[ep].to_csv(\n",
    "        '/home/rt2122/Data/scan_act/val_thr0.1_ep{ep}_step{step}.csv'.format(ep=ep, \n",
    "                step=step), index=False)"
   ]
  },
  {
   "cell_type": "code",
   "execution_count": 17,
   "metadata": {
    "ExecuteTime": {
     "end_time": "2020-10-29T09:43:58.792394Z",
     "start_time": "2020-10-29T09:43:58.780643Z"
    }
   },
   "outputs": [],
   "source": [
    "stat_df = pd.DataFrame({'planck_z' : [], 'planck_no_z':[], 'mcxcwp' : [], 'act':[], \n",
    "                       'fp':[]})"
   ]
  },
  {
   "cell_type": "code",
   "execution_count": 18,
   "metadata": {
    "ExecuteTime": {
     "end_time": "2020-10-29T09:44:00.785730Z",
     "start_time": "2020-10-29T09:44:00.694087Z"
    }
   },
   "outputs": [],
   "source": [
    "for ep in cats_dict:\n",
    "    df = cats_dict[ep]\n",
    "    cur_line = {}\n",
    "    for cat in ['planck_z', 'planck_no_z', 'mcxcwp', 'act']:\n",
    "        df_cat = df[df['catalog'] == cat]\n",
    "        cur_line[cat] = np.count_nonzero(df_cat['status'] == 'tp') / len(df_cat)\n",
    "    cur_line['fp'] = np.count_nonzero(df['status'] == 'fp')\n",
    "    stat_df.loc[ep] = cur_line"
   ]
  },
  {
   "cell_type": "code",
   "execution_count": 19,
   "metadata": {
    "ExecuteTime": {
     "end_time": "2020-10-29T09:44:03.491485Z",
     "start_time": "2020-10-29T09:44:03.466855Z"
    }
   },
   "outputs": [
    {
     "data": {
      "text/html": [
       "<div>\n",
       "<style scoped>\n",
       "    .dataframe tbody tr th:only-of-type {\n",
       "        vertical-align: middle;\n",
       "    }\n",
       "\n",
       "    .dataframe tbody tr th {\n",
       "        vertical-align: top;\n",
       "    }\n",
       "\n",
       "    .dataframe thead th {\n",
       "        text-align: right;\n",
       "    }\n",
       "</style>\n",
       "<table border=\"1\" class=\"dataframe\">\n",
       "  <thead>\n",
       "    <tr style=\"text-align: right;\">\n",
       "      <th></th>\n",
       "      <th>planck_z</th>\n",
       "      <th>planck_no_z</th>\n",
       "      <th>mcxcwp</th>\n",
       "      <th>act</th>\n",
       "      <th>fp</th>\n",
       "    </tr>\n",
       "  </thead>\n",
       "  <tbody>\n",
       "    <tr>\n",
       "      <th>90</th>\n",
       "      <td>0.825758</td>\n",
       "      <td>0.642857</td>\n",
       "      <td>0.048544</td>\n",
       "      <td>0.047259</td>\n",
       "      <td>509.0</td>\n",
       "    </tr>\n",
       "    <tr>\n",
       "      <th>91</th>\n",
       "      <td>0.856061</td>\n",
       "      <td>0.571429</td>\n",
       "      <td>0.067961</td>\n",
       "      <td>0.045369</td>\n",
       "      <td>443.0</td>\n",
       "    </tr>\n",
       "    <tr>\n",
       "      <th>92</th>\n",
       "      <td>0.886364</td>\n",
       "      <td>0.714286</td>\n",
       "      <td>0.077670</td>\n",
       "      <td>0.060491</td>\n",
       "      <td>692.0</td>\n",
       "    </tr>\n",
       "    <tr>\n",
       "      <th>93</th>\n",
       "      <td>0.833333</td>\n",
       "      <td>0.642857</td>\n",
       "      <td>0.077670</td>\n",
       "      <td>0.054820</td>\n",
       "      <td>512.0</td>\n",
       "    </tr>\n",
       "    <tr>\n",
       "      <th>94</th>\n",
       "      <td>0.833333</td>\n",
       "      <td>0.642857</td>\n",
       "      <td>0.067961</td>\n",
       "      <td>0.039698</td>\n",
       "      <td>390.0</td>\n",
       "    </tr>\n",
       "    <tr>\n",
       "      <th>95</th>\n",
       "      <td>0.856061</td>\n",
       "      <td>0.642857</td>\n",
       "      <td>0.077670</td>\n",
       "      <td>0.047259</td>\n",
       "      <td>574.0</td>\n",
       "    </tr>\n",
       "    <tr>\n",
       "      <th>96</th>\n",
       "      <td>0.840909</td>\n",
       "      <td>0.571429</td>\n",
       "      <td>0.067961</td>\n",
       "      <td>0.039698</td>\n",
       "      <td>487.0</td>\n",
       "    </tr>\n",
       "    <tr>\n",
       "      <th>97</th>\n",
       "      <td>0.856061</td>\n",
       "      <td>0.642857</td>\n",
       "      <td>0.067961</td>\n",
       "      <td>0.054820</td>\n",
       "      <td>512.0</td>\n",
       "    </tr>\n",
       "    <tr>\n",
       "      <th>98</th>\n",
       "      <td>0.856061</td>\n",
       "      <td>0.607143</td>\n",
       "      <td>0.067961</td>\n",
       "      <td>0.045369</td>\n",
       "      <td>497.0</td>\n",
       "    </tr>\n",
       "    <tr>\n",
       "      <th>99</th>\n",
       "      <td>0.840909</td>\n",
       "      <td>0.678571</td>\n",
       "      <td>0.067961</td>\n",
       "      <td>0.043478</td>\n",
       "      <td>496.0</td>\n",
       "    </tr>\n",
       "    <tr>\n",
       "      <th>100</th>\n",
       "      <td>0.856061</td>\n",
       "      <td>0.642857</td>\n",
       "      <td>0.067961</td>\n",
       "      <td>0.052930</td>\n",
       "      <td>542.0</td>\n",
       "    </tr>\n",
       "  </tbody>\n",
       "</table>\n",
       "</div>"
      ],
      "text/plain": [
       "     planck_z  planck_no_z    mcxcwp       act     fp\n",
       "90   0.825758     0.642857  0.048544  0.047259  509.0\n",
       "91   0.856061     0.571429  0.067961  0.045369  443.0\n",
       "92   0.886364     0.714286  0.077670  0.060491  692.0\n",
       "93   0.833333     0.642857  0.077670  0.054820  512.0\n",
       "94   0.833333     0.642857  0.067961  0.039698  390.0\n",
       "95   0.856061     0.642857  0.077670  0.047259  574.0\n",
       "96   0.840909     0.571429  0.067961  0.039698  487.0\n",
       "97   0.856061     0.642857  0.067961  0.054820  512.0\n",
       "98   0.856061     0.607143  0.067961  0.045369  497.0\n",
       "99   0.840909     0.678571  0.067961  0.043478  496.0\n",
       "100  0.856061     0.642857  0.067961  0.052930  542.0"
      ]
     },
     "execution_count": 19,
     "metadata": {},
     "output_type": "execute_result"
    }
   ],
   "source": [
    "stat_df"
   ]
  },
  {
   "cell_type": "code",
   "execution_count": 29,
   "metadata": {
    "ExecuteTime": {
     "end_time": "2020-10-29T09:52:44.264582Z",
     "start_time": "2020-10-29T09:52:44.008624Z"
    }
   },
   "outputs": [
    {
     "data": {
      "text/plain": [
       "<matplotlib.legend.Legend at 0x7fcd53415100>"
      ]
     },
     "execution_count": 29,
     "metadata": {},
     "output_type": "execute_result"
    },
    {
     "data": {
      "image/png": "[encoded data removed]",
      "text/plain": [
       "<Figure size 1584x576 with 2 Axes>"
      ]
     },
     "metadata": {
      "needs_background": "light"
     },
     "output_type": "display_data"
    }
   ],
   "source": [
    "_, ax = plt.subplots(1, 2, figsize=(22, 8))\n",
    "ax[0].grid(b=True, which='major', color='#666666', linestyle=':')\n",
    "for cat, c in zip(['planck_z', 'planck_no_z', 'mcxcwp', 'act'], 'bgrc'):\n",
    "    line, = ax[0].plot(stat_df.index, stat_df[cat], c+'o-')\n",
    "    line.set_label(cat)\n",
    "ax[0].set_yticks(np.arange(0, 1, 0.1))\n",
    "ax[0].legend()\n",
    "line, = ax[1].plot(stat_df.index, stat_df['fp'], 'ko-')\n",
    "line.set_label('fp')\n",
    "ax[1].legend()"
   ]
  },
  {
   "cell_type": "code",
   "execution_count": null,
   "metadata": {},
   "outputs": [],
   "source": []
  }
 ],
 "metadata": {
  "kernelspec": {
   "display_name": "Python 3",
   "language": "python",
   "name": "python3"
  },
  "language_info": {
   "codemirror_mode": {
    "name": "ipython",
    "version": 3
   },
   "file_extension": ".py",
   "mimetype": "text/x-python",
   "name": "python",
   "nbconvert_exporter": "python",
   "pygments_lexer": "ipython3",
   "version": "3.8.3"
  }
 },
 "nbformat": 4,
 "nbformat_minor": 4
}
