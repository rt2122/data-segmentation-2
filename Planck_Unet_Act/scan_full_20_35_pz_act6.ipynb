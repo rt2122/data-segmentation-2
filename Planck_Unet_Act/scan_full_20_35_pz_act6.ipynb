{
 "cells": [
  {
   "cell_type": "code",
   "execution_count": 1,
   "metadata": {
    "ExecuteTime": {
     "end_time": "2020-12-11T22:38:29.383063Z",
     "start_time": "2020-12-11T22:38:12.324739Z"
    }
   },
   "outputs": [],
   "source": [
    "import numpy as np\n",
    "import pandas as pd\n",
    "import healpy as hp\n",
    "import os\n",
    "from DS_Planck_Unet import *\n",
    "from DS_healpix_fragmentation import radec2pix\n",
    "from matplotlib import pyplot as plt\n",
    "from DS_data_transformation import draw_df\n",
    "from DS_detector import *\n",
    "from tqdm.notebook import tqdm\n",
    "import re\n",
    "from DS_data_transformation import get_prm"
   ]
  },
  {
   "cell_type": "code",
   "execution_count": 2,
   "metadata": {
    "ExecuteTime": {
     "end_time": "2020-12-11T22:39:10.457121Z",
     "start_time": "2020-12-11T22:38:37.815284Z"
    }
   },
   "outputs": [],
   "source": [
    "models = {#'pz20' : load_planck_model('/home/rt2122/Models/pz_only/pz_only.ep0020-vl0.006524-l0.003684.hdf5'),\n",
    "        #'pz25': load_planck_model('/home/rt2122/Models/pz_only/pz_only.ep0025-vl0.006676-l0.003428.hdf5'),\n",
    "        #'pz_act20' : load_planck_model('/home/rt2122/Models/act_ros/act_ros.ep0020-vl0.038030-l0.025285.hdf5'),\n",
    "         'pz_act6' : load_planck_model('/home/rt2122/Models/act_ros/act_ros.ep0006-vl0.033158-l0.033525.hdf5')}"
   ]
  },
  {
   "cell_type": "code",
   "execution_count": 3,
   "metadata": {
    "ExecuteTime": {
     "end_time": "2020-12-11T22:39:10.467063Z",
     "start_time": "2020-12-11T22:39:10.461196Z"
    }
   },
   "outputs": [],
   "source": [
    "thr = 0.1"
   ]
  },
  {
   "cell_type": "code",
   "execution_count": 4,
   "metadata": {
    "ExecuteTime": {
     "end_time": "2020-12-12T00:34:47.145796Z",
     "start_time": "2020-12-11T22:40:40.550538Z"
    }
   },
   "outputs": [
    {
     "data": {
      "application/vnd.jupyter.widget-view+json": {
       "model_id": "42fca30d15c0471ea22cea27749f3573",
       "version_major": 2,
       "version_minor": 0
      },
      "text/plain": [
       "HBox(children=(FloatProgress(value=0.0, max=48.0), HTML(value='')))"
      ]
     },
     "metadata": {},
     "output_type": "display_data"
    },
    {
     "name": "stderr",
     "output_type": "stream",
     "text": [
      "/home/rt2122/anaconda3/lib/python3.8/site-packages/pandas/core/indexing.py:671: SettingWithCopyWarning: \n",
      "A value is trying to be set on a copy of a slice from a DataFrame\n",
      "\n",
      "See the caveats in the documentation: https://pandas.pydata.org/pandas-docs/stable/user_guide/indexing.html#returning-a-view-versus-a-copy\n",
      "  self._setitem_with_indexer(indexer, value)\n"
     ]
    },
    {
     "name": "stdout",
     "output_type": "stream",
     "text": [
      "\n"
     ]
    }
   ],
   "source": [
    "for model_name in models:\n",
    "    #cur_cat = []\n",
    "    for i in tqdm(range(48)):\n",
    "        all_dict = gen_pics_for_detection(i, models[model_name], step=8)\n",
    "        coords = detect_clusters_connected(all_dict, thr, i)\n",
    "        #cur_cat.append(coords)\n",
    "        coords.to_csv('/home/rt2122/Data/detected_cats/tmp/p{pix}_{model}_thr0.1_step8'.format(pix=i, \n",
    "                                                                                    model=model_name),\n",
    "                     index=False)\n",
    "    #cur_cat = pd.concat(cur_cat, ignore_index=True)\n",
    "    #cur_cat.to_csv(\n",
    "    #    '/home/rt2122/Data/detected_cats/full_{model}_thr{thr}_step8.csv'.format(\n",
    "    #        model=model_name, thr=thr), index=False)"
   ]
  },
  {
   "cell_type": "code",
   "execution_count": 6,
   "metadata": {
    "ExecuteTime": {
     "end_time": "2020-12-09T12:12:22.077504Z",
     "start_time": "2020-12-09T12:12:22.067828Z"
    }
   },
   "outputs": [
    {
     "data": {
      "text/plain": [
       "False"
      ]
     },
     "execution_count": 6,
     "metadata": {},
     "output_type": "execute_result"
    }
   ],
   "source": [
    "'pz_act25' in 'pz_act20_dfasjkfha'"
   ]
  },
  {
   "cell_type": "code",
   "execution_count": 6,
   "metadata": {
    "ExecuteTime": {
     "end_time": "2020-12-12T07:20:52.270340Z",
     "start_time": "2020-12-12T07:20:52.265822Z"
    }
   },
   "outputs": [
    {
     "data": {
      "text/plain": [
       "48"
      ]
     },
     "execution_count": 6,
     "metadata": {},
     "output_type": "execute_result"
    }
   ],
   "source": [
    "files = next(os.walk('/home/rt2122/Data/detected_cats/tmp/'))[-1]\n",
    "len(files)"
   ]
  },
  {
   "cell_type": "code",
   "execution_count": 7,
   "metadata": {
    "ExecuteTime": {
     "end_time": "2020-12-12T07:20:58.064380Z",
     "start_time": "2020-12-12T07:20:57.987956Z"
    }
   },
   "outputs": [],
   "source": [
    "pix = [int(get_prm('p', name)) for name in files]\n",
    "for i in range(48):\n",
    "    if not (i in pix):\n",
    "        print(i)"
   ]
  },
  {
   "cell_type": "code",
   "execution_count": 8,
   "metadata": {
    "ExecuteTime": {
     "end_time": "2020-12-12T07:21:07.181883Z",
     "start_time": "2020-12-12T07:21:06.516481Z"
    }
   },
   "outputs": [],
   "source": [
    "full_df = [pd.read_csv(os.path.join('/home/rt2122/Data/detected_cats/tmp/', name)) for name in files]\n",
    "full_df = pd.concat(full_df, ignore_index=True)"
   ]
  },
  {
   "cell_type": "code",
   "execution_count": 9,
   "metadata": {
    "ExecuteTime": {
     "end_time": "2020-12-12T07:21:07.188292Z",
     "start_time": "2020-12-12T07:21:07.183201Z"
    }
   },
   "outputs": [
    {
     "data": {
      "text/plain": [
       "(22500, 13)"
      ]
     },
     "execution_count": 9,
     "metadata": {},
     "output_type": "execute_result"
    }
   ],
   "source": [
    "full_df.shape"
   ]
  },
  {
   "cell_type": "code",
   "execution_count": 13,
   "metadata": {
    "ExecuteTime": {
     "end_time": "2020-12-12T07:22:26.161365Z",
     "start_time": "2020-12-12T07:22:26.130651Z"
    }
   },
   "outputs": [
    {
     "data": {
      "text/html": [
       "<div>\n",
       "<style scoped>\n",
       "    .dataframe tbody tr th:only-of-type {\n",
       "        vertical-align: middle;\n",
       "    }\n",
       "\n",
       "    .dataframe tbody tr th {\n",
       "        vertical-align: top;\n",
       "    }\n",
       "\n",
       "    .dataframe thead th {\n",
       "        text-align: right;\n",
       "    }\n",
       "</style>\n",
       "<table border=\"1\" class=\"dataframe\">\n",
       "  <thead>\n",
       "    <tr style=\"text-align: right;\">\n",
       "      <th></th>\n",
       "      <th>RA</th>\n",
       "      <th>DEC</th>\n",
       "      <th>area</th>\n",
       "      <th>min_rad</th>\n",
       "      <th>max_rad</th>\n",
       "      <th>mean_rad</th>\n",
       "      <th>min_pred</th>\n",
       "      <th>max_pred</th>\n",
       "      <th>tRA</th>\n",
       "      <th>tDEC</th>\n",
       "      <th>status</th>\n",
       "      <th>catalog</th>\n",
       "    </tr>\n",
       "  </thead>\n",
       "  <tbody>\n",
       "    <tr>\n",
       "      <th>0</th>\n",
       "      <td>288.310691</td>\n",
       "      <td>10.263022</td>\n",
       "      <td>8.0</td>\n",
       "      <td>0.482738</td>\n",
       "      <td>3.643752</td>\n",
       "      <td>1.851784</td>\n",
       "      <td>0.117075</td>\n",
       "      <td>0.986539</td>\n",
       "      <td>NaN</td>\n",
       "      <td>NaN</td>\n",
       "      <td>fp</td>\n",
       "      <td>NaN</td>\n",
       "    </tr>\n",
       "    <tr>\n",
       "      <th>1</th>\n",
       "      <td>290.160115</td>\n",
       "      <td>1.404166</td>\n",
       "      <td>16.0</td>\n",
       "      <td>1.338526</td>\n",
       "      <td>3.831315</td>\n",
       "      <td>2.389915</td>\n",
       "      <td>0.100982</td>\n",
       "      <td>0.154774</td>\n",
       "      <td>NaN</td>\n",
       "      <td>NaN</td>\n",
       "      <td>fp</td>\n",
       "      <td>NaN</td>\n",
       "    </tr>\n",
       "    <tr>\n",
       "      <th>2</th>\n",
       "      <td>288.123350</td>\n",
       "      <td>10.433811</td>\n",
       "      <td>3.0</td>\n",
       "      <td>0.351760</td>\n",
       "      <td>1.738945</td>\n",
       "      <td>1.139314</td>\n",
       "      <td>0.201384</td>\n",
       "      <td>0.929666</td>\n",
       "      <td>NaN</td>\n",
       "      <td>NaN</td>\n",
       "      <td>fp</td>\n",
       "      <td>NaN</td>\n",
       "    </tr>\n",
       "    <tr>\n",
       "      <th>3</th>\n",
       "      <td>290.046669</td>\n",
       "      <td>1.389174</td>\n",
       "      <td>2.0</td>\n",
       "      <td>0.484719</td>\n",
       "      <td>1.815510</td>\n",
       "      <td>1.094504</td>\n",
       "      <td>0.110045</td>\n",
       "      <td>0.116983</td>\n",
       "      <td>NaN</td>\n",
       "      <td>NaN</td>\n",
       "      <td>fp</td>\n",
       "      <td>NaN</td>\n",
       "    </tr>\n",
       "    <tr>\n",
       "      <th>4</th>\n",
       "      <td>287.972115</td>\n",
       "      <td>10.189269</td>\n",
       "      <td>30.0</td>\n",
       "      <td>1.932570</td>\n",
       "      <td>4.594723</td>\n",
       "      <td>3.198335</td>\n",
       "      <td>0.103385</td>\n",
       "      <td>0.999664</td>\n",
       "      <td>NaN</td>\n",
       "      <td>NaN</td>\n",
       "      <td>fp</td>\n",
       "      <td>NaN</td>\n",
       "    </tr>\n",
       "    <tr>\n",
       "      <th>...</th>\n",
       "      <td>...</td>\n",
       "      <td>...</td>\n",
       "      <td>...</td>\n",
       "      <td>...</td>\n",
       "      <td>...</td>\n",
       "      <td>...</td>\n",
       "      <td>...</td>\n",
       "      <td>...</td>\n",
       "      <td>...</td>\n",
       "      <td>...</td>\n",
       "      <td>...</td>\n",
       "      <td>...</td>\n",
       "    </tr>\n",
       "    <tr>\n",
       "      <th>22495</th>\n",
       "      <td>211.604201</td>\n",
       "      <td>12.658333</td>\n",
       "      <td>NaN</td>\n",
       "      <td>NaN</td>\n",
       "      <td>NaN</td>\n",
       "      <td>NaN</td>\n",
       "      <td>NaN</td>\n",
       "      <td>NaN</td>\n",
       "      <td>NaN</td>\n",
       "      <td>NaN</td>\n",
       "      <td>fn</td>\n",
       "      <td>act</td>\n",
       "    </tr>\n",
       "    <tr>\n",
       "      <th>22496</th>\n",
       "      <td>211.772854</td>\n",
       "      <td>10.806414</td>\n",
       "      <td>NaN</td>\n",
       "      <td>NaN</td>\n",
       "      <td>NaN</td>\n",
       "      <td>NaN</td>\n",
       "      <td>NaN</td>\n",
       "      <td>NaN</td>\n",
       "      <td>NaN</td>\n",
       "      <td>NaN</td>\n",
       "      <td>fn</td>\n",
       "      <td>act</td>\n",
       "    </tr>\n",
       "    <tr>\n",
       "      <th>22497</th>\n",
       "      <td>211.775000</td>\n",
       "      <td>7.795815</td>\n",
       "      <td>NaN</td>\n",
       "      <td>NaN</td>\n",
       "      <td>NaN</td>\n",
       "      <td>NaN</td>\n",
       "      <td>NaN</td>\n",
       "      <td>NaN</td>\n",
       "      <td>NaN</td>\n",
       "      <td>NaN</td>\n",
       "      <td>fn</td>\n",
       "      <td>act</td>\n",
       "    </tr>\n",
       "    <tr>\n",
       "      <th>22498</th>\n",
       "      <td>211.792919</td>\n",
       "      <td>8.887455</td>\n",
       "      <td>NaN</td>\n",
       "      <td>NaN</td>\n",
       "      <td>NaN</td>\n",
       "      <td>NaN</td>\n",
       "      <td>NaN</td>\n",
       "      <td>NaN</td>\n",
       "      <td>NaN</td>\n",
       "      <td>NaN</td>\n",
       "      <td>fn</td>\n",
       "      <td>act</td>\n",
       "    </tr>\n",
       "    <tr>\n",
       "      <th>22499</th>\n",
       "      <td>212.654096</td>\n",
       "      <td>12.225000</td>\n",
       "      <td>NaN</td>\n",
       "      <td>NaN</td>\n",
       "      <td>NaN</td>\n",
       "      <td>NaN</td>\n",
       "      <td>NaN</td>\n",
       "      <td>NaN</td>\n",
       "      <td>NaN</td>\n",
       "      <td>NaN</td>\n",
       "      <td>fn</td>\n",
       "      <td>act</td>\n",
       "    </tr>\n",
       "  </tbody>\n",
       "</table>\n",
       "<p>22500 rows × 12 columns</p>\n",
       "</div>"
      ],
      "text/plain": [
       "               RA        DEC  area   min_rad   max_rad  mean_rad  min_pred  \\\n",
       "0      288.310691  10.263022   8.0  0.482738  3.643752  1.851784  0.117075   \n",
       "1      290.160115   1.404166  16.0  1.338526  3.831315  2.389915  0.100982   \n",
       "2      288.123350  10.433811   3.0  0.351760  1.738945  1.139314  0.201384   \n",
       "3      290.046669   1.389174   2.0  0.484719  1.815510  1.094504  0.110045   \n",
       "4      287.972115  10.189269  30.0  1.932570  4.594723  3.198335  0.103385   \n",
       "...           ...        ...   ...       ...       ...       ...       ...   \n",
       "22495  211.604201  12.658333   NaN       NaN       NaN       NaN       NaN   \n",
       "22496  211.772854  10.806414   NaN       NaN       NaN       NaN       NaN   \n",
       "22497  211.775000   7.795815   NaN       NaN       NaN       NaN       NaN   \n",
       "22498  211.792919   8.887455   NaN       NaN       NaN       NaN       NaN   \n",
       "22499  212.654096  12.225000   NaN       NaN       NaN       NaN       NaN   \n",
       "\n",
       "       max_pred  tRA  tDEC status catalog  \n",
       "0      0.986539  NaN   NaN     fp     NaN  \n",
       "1      0.154774  NaN   NaN     fp     NaN  \n",
       "2      0.929666  NaN   NaN     fp     NaN  \n",
       "3      0.116983  NaN   NaN     fp     NaN  \n",
       "4      0.999664  NaN   NaN     fp     NaN  \n",
       "...         ...  ...   ...    ...     ...  \n",
       "22495       NaN  NaN   NaN     fn     act  \n",
       "22496       NaN  NaN   NaN     fn     act  \n",
       "22497       NaN  NaN   NaN     fn     act  \n",
       "22498       NaN  NaN   NaN     fn     act  \n",
       "22499       NaN  NaN   NaN     fn     act  \n",
       "\n",
       "[22500 rows x 12 columns]"
      ]
     },
     "execution_count": 13,
     "metadata": {},
     "output_type": "execute_result"
    }
   ],
   "source": [
    "full_df = full_df.drop(['Unnamed: 0'], axis='columns')\n",
    "full_df"
   ]
  },
  {
   "cell_type": "code",
   "execution_count": 14,
   "metadata": {
    "ExecuteTime": {
     "end_time": "2020-12-12T07:22:30.433870Z",
     "start_time": "2020-12-12T07:22:30.190007Z"
    }
   },
   "outputs": [],
   "source": [
    "full_df.to_csv('/home/rt2122/Data/detected_cats/full_pz_act6_thr0.1_step8.csv', index=False)"
   ]
  },
  {
   "cell_type": "code",
   "execution_count": 11,
   "metadata": {
    "ExecuteTime": {
     "end_time": "2020-12-12T07:21:35.111276Z",
     "start_time": "2020-12-12T07:21:34.761649Z"
    }
   },
   "outputs": [
    {
     "data": {
      "text/html": [
       "<div>\n",
       "<style scoped>\n",
       "    .dataframe tbody tr th:only-of-type {\n",
       "        vertical-align: middle;\n",
       "    }\n",
       "\n",
       "    .dataframe tbody tr th {\n",
       "        vertical-align: top;\n",
       "    }\n",
       "\n",
       "    .dataframe thead th {\n",
       "        text-align: right;\n",
       "    }\n",
       "</style>\n",
       "<table border=\"1\" class=\"dataframe\">\n",
       "  <thead>\n",
       "    <tr style=\"text-align: right;\">\n",
       "      <th></th>\n",
       "      <th>Unnamed: 0</th>\n",
       "      <th>RA</th>\n",
       "      <th>DEC</th>\n",
       "      <th>area</th>\n",
       "      <th>min_rad</th>\n",
       "      <th>max_rad</th>\n",
       "      <th>mean_rad</th>\n",
       "      <th>min_pred</th>\n",
       "      <th>max_pred</th>\n",
       "      <th>tRA</th>\n",
       "      <th>tDEC</th>\n",
       "      <th>status</th>\n",
       "      <th>catalog</th>\n",
       "    </tr>\n",
       "  </thead>\n",
       "  <tbody>\n",
       "    <tr>\n",
       "      <th>0</th>\n",
       "      <td>0</td>\n",
       "      <td>288.310691</td>\n",
       "      <td>10.263022</td>\n",
       "      <td>8.0</td>\n",
       "      <td>0.482738</td>\n",
       "      <td>3.643752</td>\n",
       "      <td>1.851784</td>\n",
       "      <td>0.117075</td>\n",
       "      <td>0.986539</td>\n",
       "      <td>NaN</td>\n",
       "      <td>NaN</td>\n",
       "      <td>fp</td>\n",
       "      <td>NaN</td>\n",
       "    </tr>\n",
       "    <tr>\n",
       "      <th>1</th>\n",
       "      <td>1</td>\n",
       "      <td>290.160115</td>\n",
       "      <td>1.404166</td>\n",
       "      <td>16.0</td>\n",
       "      <td>1.338526</td>\n",
       "      <td>3.831315</td>\n",
       "      <td>2.389915</td>\n",
       "      <td>0.100982</td>\n",
       "      <td>0.154774</td>\n",
       "      <td>NaN</td>\n",
       "      <td>NaN</td>\n",
       "      <td>fp</td>\n",
       "      <td>NaN</td>\n",
       "    </tr>\n",
       "    <tr>\n",
       "      <th>2</th>\n",
       "      <td>2</td>\n",
       "      <td>288.123350</td>\n",
       "      <td>10.433811</td>\n",
       "      <td>3.0</td>\n",
       "      <td>0.351760</td>\n",
       "      <td>1.738945</td>\n",
       "      <td>1.139314</td>\n",
       "      <td>0.201384</td>\n",
       "      <td>0.929666</td>\n",
       "      <td>NaN</td>\n",
       "      <td>NaN</td>\n",
       "      <td>fp</td>\n",
       "      <td>NaN</td>\n",
       "    </tr>\n",
       "    <tr>\n",
       "      <th>3</th>\n",
       "      <td>3</td>\n",
       "      <td>290.046669</td>\n",
       "      <td>1.389174</td>\n",
       "      <td>2.0</td>\n",
       "      <td>0.484719</td>\n",
       "      <td>1.815510</td>\n",
       "      <td>1.094504</td>\n",
       "      <td>0.110045</td>\n",
       "      <td>0.116983</td>\n",
       "      <td>NaN</td>\n",
       "      <td>NaN</td>\n",
       "      <td>fp</td>\n",
       "      <td>NaN</td>\n",
       "    </tr>\n",
       "    <tr>\n",
       "      <th>4</th>\n",
       "      <td>4</td>\n",
       "      <td>287.972115</td>\n",
       "      <td>10.189269</td>\n",
       "      <td>30.0</td>\n",
       "      <td>1.932570</td>\n",
       "      <td>4.594723</td>\n",
       "      <td>3.198335</td>\n",
       "      <td>0.103385</td>\n",
       "      <td>0.999664</td>\n",
       "      <td>NaN</td>\n",
       "      <td>NaN</td>\n",
       "      <td>fp</td>\n",
       "      <td>NaN</td>\n",
       "    </tr>\n",
       "  </tbody>\n",
       "</table>\n",
       "</div>"
      ],
      "text/plain": [
       "   Unnamed: 0          RA        DEC  area   min_rad   max_rad  mean_rad  \\\n",
       "0           0  288.310691  10.263022   8.0  0.482738  3.643752  1.851784   \n",
       "1           1  290.160115   1.404166  16.0  1.338526  3.831315  2.389915   \n",
       "2           2  288.123350  10.433811   3.0  0.351760  1.738945  1.139314   \n",
       "3           3  290.046669   1.389174   2.0  0.484719  1.815510  1.094504   \n",
       "4           4  287.972115  10.189269  30.0  1.932570  4.594723  3.198335   \n",
       "\n",
       "   min_pred  max_pred  tRA  tDEC status catalog  \n",
       "0  0.117075  0.986539  NaN   NaN     fp     NaN  \n",
       "1  0.100982  0.154774  NaN   NaN     fp     NaN  \n",
       "2  0.201384  0.929666  NaN   NaN     fp     NaN  \n",
       "3  0.110045  0.116983  NaN   NaN     fp     NaN  \n",
       "4  0.103385  0.999664  NaN   NaN     fp     NaN  "
      ]
     },
     "execution_count": 11,
     "metadata": {},
     "output_type": "execute_result"
    }
   ],
   "source": [
    "df = pd.read_csv('/home/rt2122/Data/detected_cats/full_pz_act6_thr0.1_step8.csv')\n",
    "df.head()"
   ]
  },
  {
   "cell_type": "code",
   "execution_count": null,
   "metadata": {},
   "outputs": [],
   "source": []
  }
 ],
 "metadata": {
  "kernelspec": {
   "display_name": "Python 3",
   "language": "python",
   "name": "python3"
  },
  "language_info": {
   "codemirror_mode": {
    "name": "ipython",
    "version": 3
   },
   "file_extension": ".py",
   "mimetype": "text/x-python",
   "name": "python",
   "nbconvert_exporter": "python",
   "pygments_lexer": "ipython3",
   "version": "3.8.3"
  }
 },
 "nbformat": 4,
 "nbformat_minor": 4
}
