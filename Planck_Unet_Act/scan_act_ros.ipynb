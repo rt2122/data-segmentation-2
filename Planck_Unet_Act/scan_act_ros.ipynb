{
 "cells": [
  {
   "cell_type": "code",
   "execution_count": 1,
   "metadata": {
    "ExecuteTime": {
     "end_time": "2020-11-03T18:52:23.683376Z",
     "start_time": "2020-11-03T18:52:14.246859Z"
    }
   },
   "outputs": [],
   "source": [
    "import numpy as np\n",
    "import pandas as pd\n",
    "import re\n",
    "import os\n",
    "from DS_Planck_Unet import *\n",
    "from DS_detector import *\n",
    "from tqdm.notebook import tqdm\n",
    "from matplotlib import pyplot as plt\n",
    "from DS_healpix_fragmentation import radec2pix"
   ]
  },
  {
   "cell_type": "code",
   "execution_count": 2,
   "metadata": {
    "ExecuteTime": {
     "end_time": "2020-11-03T18:52:23.691876Z",
     "start_time": "2020-11-03T18:52:23.685907Z"
    }
   },
   "outputs": [],
   "source": [
    "def get_ep(s):\n",
    "    return int(re.search('ep(\\d+)', s)[0][2:])"
   ]
  },
  {
   "cell_type": "code",
   "execution_count": 3,
   "metadata": {
    "ExecuteTime": {
     "end_time": "2020-11-03T18:57:42.249865Z",
     "start_time": "2020-11-03T18:57:42.198326Z"
    }
   },
   "outputs": [
    {
     "data": {
      "text/plain": [
       "('act_ros.ep0014-vl0.035122-l0.028428.hdf5', 14)"
      ]
     },
     "execution_count": 3,
     "metadata": {},
     "output_type": "execute_result"
    }
   ],
   "source": [
    "dirname = '/home/rt2122/Models/act_ros/'\n",
    "files = list(filter(lambda x: get_ep(x) <= 20, next(os.walk(dirname))[-1]))\n",
    "files[0], get_ep(files[0])"
   ]
  },
  {
   "cell_type": "code",
   "execution_count": 4,
   "metadata": {
    "ExecuteTime": {
     "end_time": "2020-11-03T18:57:45.197744Z",
     "start_time": "2020-11-03T18:57:45.189792Z"
    }
   },
   "outputs": [],
   "source": [
    "step = 8"
   ]
  },
  {
   "cell_type": "code",
   "execution_count": 5,
   "metadata": {
    "ExecuteTime": {
     "end_time": "2020-11-03T18:57:46.356180Z",
     "start_time": "2020-11-03T18:57:46.350602Z"
    }
   },
   "outputs": [
    {
     "data": {
      "text/plain": [
       "[9, 38, 41]"
      ]
     },
     "execution_count": 5,
     "metadata": {},
     "output_type": "execute_result"
    }
   ],
   "source": [
    "val_pix"
   ]
  },
  {
   "cell_type": "code",
   "execution_count": null,
   "metadata": {
    "ExecuteTime": {
     "start_time": "2020-11-03T18:58:29.916Z"
    }
   },
   "outputs": [
    {
     "data": {
      "application/vnd.jupyter.widget-view+json": {
       "model_id": "1e3fa58a1ee24ac4b57d0a9bf32e865e",
       "version_major": 2,
       "version_minor": 0
      },
      "text/plain": [
       "HBox(children=(FloatProgress(value=0.0, max=21.0), HTML(value='')))"
      ]
     },
     "metadata": {},
     "output_type": "display_data"
    },
    {
     "name": "stderr",
     "output_type": "stream",
     "text": [
      "/home/rt2122/anaconda3/lib/python3.8/site-packages/pandas/core/indexing.py:671: SettingWithCopyWarning: \n",
      "A value is trying to be set on a copy of a slice from a DataFrame\n",
      "\n",
      "See the caveats in the documentation: https://pandas.pydata.org/pandas-docs/stable/user_guide/indexing.html#returning-a-view-versus-a-copy\n",
      "  self._setitem_with_indexer(indexer, value)\n"
     ]
    }
   ],
   "source": [
    "cats_dict = {}\n",
    "for file in tqdm(files):\n",
    "    model = load_planck_model(os.path.join(dirname, file))\n",
    "    ep = get_ep(file)\n",
    "    cats_dict[ep] = []\n",
    "    for i in val_pix:\n",
    "        all_dict = gen_pics_for_detection(i, model, step=step)\n",
    "        cats_dict[ep].append(detect_clusters_connected(all_dict, thr=0.1, ipix=i))\n",
    "    cats_dict[ep] = pd.concat(cats_dict[ep], ignore_index=True)\n",
    "    cats_dict[ep].to_csv(\n",
    "        '/home/rt2122/Data/scan_act/act_ros_val_thr0.1_ep{ep}_step{step}.csv'.format(ep=ep, \n",
    "                step=step), index=False)"
   ]
  },
  {
   "cell_type": "code",
   "execution_count": null,
   "metadata": {
    "ExecuteTime": {
     "start_time": "2020-11-03T18:58:42.222Z"
    }
   },
   "outputs": [],
   "source": [
    "stat_df = pd.DataFrame({'planck_z' : [], 'planck_no_z':[], 'mcxcwp' : [], \n",
    "                        'act_erosita':[], \n",
    "                       'fp':[]})"
   ]
  },
  {
   "cell_type": "code",
   "execution_count": null,
   "metadata": {
    "ExecuteTime": {
     "start_time": "2020-11-03T18:58:48.828Z"
    }
   },
   "outputs": [],
   "source": [
    "for ep in cats_dict:\n",
    "    df = cats_dict[ep]\n",
    "    cur_line = {}\n",
    "    for cat in ['planck_z', 'planck_no_z', 'mcxcwp', 'act_erosita']:\n",
    "        df_cat = df[df['catalog'] == cat]\n",
    "        if len(df_cat) == 0:\n",
    "            continue\n",
    "        cur_line[cat] = np.count_nonzero(df_cat['status'] == 'tp') / len(df_cat)\n",
    "    cur_line['fp'] = np.count_nonzero(df['status'] == 'fp')\n",
    "    stat_df.loc[ep] = cur_line"
   ]
  },
  {
   "cell_type": "code",
   "execution_count": null,
   "metadata": {
    "ExecuteTime": {
     "start_time": "2020-11-03T18:58:50.747Z"
    }
   },
   "outputs": [],
   "source": [
    "stat_df.sort_index(inplace=True)\n",
    "stat_df"
   ]
  },
  {
   "cell_type": "code",
   "execution_count": null,
   "metadata": {
    "ExecuteTime": {
     "start_time": "2020-11-03T18:58:58.946Z"
    }
   },
   "outputs": [],
   "source": [
    "_, ax = plt.subplots(1, 2, figsize=(22, 8))\n",
    "ax[0].grid(b=True, which='major', color='#666666', linestyle=':')\n",
    "for cat, c in zip(['planck_z', 'planck_no_z', 'mcxcwp', 'act_erosita'], 'bgrc'):\n",
    "    line, = ax[0].plot(stat_df.index, stat_df[cat], c+'o-')\n",
    "    line.set_label(cat)\n",
    "ax[0].set_yticks(np.arange(0, 1, 0.1))\n",
    "ax[0].legend()\n",
    "line, = ax[1].plot(stat_df.index, stat_df['fp'], 'ko-')\n",
    "line.set_label('fp')\n",
    "ax[1].legend()"
   ]
  },
  {
   "cell_type": "code",
   "execution_count": null,
   "metadata": {},
   "outputs": [],
   "source": []
  }
 ],
 "metadata": {
  "kernelspec": {
   "display_name": "Python 3",
   "language": "python",
   "name": "python3"
  },
  "language_info": {
   "codemirror_mode": {
    "name": "ipython",
    "version": 3
   },
   "file_extension": ".py",
   "mimetype": "text/x-python",
   "name": "python",
   "nbconvert_exporter": "python",
   "pygments_lexer": "ipython3",
   "version": "3.8.3"
  }
 },
 "nbformat": 4,
 "nbformat_minor": 4
}
