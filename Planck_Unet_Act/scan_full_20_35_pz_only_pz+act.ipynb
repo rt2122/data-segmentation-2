{
 "cells": [
  {
   "cell_type": "code",
   "execution_count": 9,
   "metadata": {
    "ExecuteTime": {
     "end_time": "2020-12-09T12:13:20.461180Z",
     "start_time": "2020-12-09T12:13:20.445026Z"
    }
   },
   "outputs": [],
   "source": [
    "import numpy as np\n",
    "import pandas as pd\n",
    "import healpy as hp\n",
    "import os\n",
    "from DS_Planck_Unet import *\n",
    "from DS_healpix_fragmentation import radec2pix\n",
    "from matplotlib import pyplot as plt\n",
    "from DS_data_transformation import draw_df\n",
    "from DS_detector import *\n",
    "from tqdm.notebook import tqdm\n",
    "import re\n",
    "from DS_data_transformation import get_prm"
   ]
  },
  {
   "cell_type": "code",
   "execution_count": 2,
   "metadata": {
    "ExecuteTime": {
     "end_time": "2020-12-09T10:30:17.208238Z",
     "start_time": "2020-12-09T10:29:40.129330Z"
    }
   },
   "outputs": [],
   "source": [
    "models = {#'pz20' : load_planck_model('/home/rt2122/Models/pz_only/pz_only.ep0020-vl0.006524-l0.003684.hdf5'),\n",
    "        #'pz25': load_planck_model('/home/rt2122/Models/pz_only/pz_only.ep0025-vl0.006676-l0.003428.hdf5'),\n",
    "        #'pz_act20' : load_planck_model('/home/rt2122/Models/act_ros/act_ros.ep0020-vl0.038030-l0.025285.hdf5'),\n",
    "         'pz_act25' : load_planck_model('/home/rt2122/Models/act_ros/act_ros.ep0025-vl0.038082-l0.023381.hdf5')}"
   ]
  },
  {
   "cell_type": "code",
   "execution_count": 3,
   "metadata": {
    "ExecuteTime": {
     "end_time": "2020-12-09T10:30:17.216682Z",
     "start_time": "2020-12-09T10:30:17.212087Z"
    }
   },
   "outputs": [],
   "source": [
    "thr = 0.1"
   ]
  },
  {
   "cell_type": "code",
   "execution_count": 4,
   "metadata": {
    "ExecuteTime": {
     "end_time": "2020-12-09T11:53:21.447224Z",
     "start_time": "2020-12-09T10:31:09.848594Z"
    }
   },
   "outputs": [
    {
     "data": {
      "application/vnd.jupyter.widget-view+json": {
       "model_id": "1d753a1353cb440eab551a08352b4469",
       "version_major": 2,
       "version_minor": 0
      },
      "text/plain": [
       "HBox(children=(FloatProgress(value=0.0, max=31.0), HTML(value='')))"
      ]
     },
     "metadata": {},
     "output_type": "display_data"
    },
    {
     "name": "stderr",
     "output_type": "stream",
     "text": [
      "/home/rt2122/anaconda3/lib/python3.8/site-packages/pandas/core/indexing.py:671: SettingWithCopyWarning: \n",
      "A value is trying to be set on a copy of a slice from a DataFrame\n",
      "\n",
      "See the caveats in the documentation: https://pandas.pydata.org/pandas-docs/stable/user_guide/indexing.html#returning-a-view-versus-a-copy\n",
      "  self._setitem_with_indexer(indexer, value)\n"
     ]
    },
    {
     "name": "stdout",
     "output_type": "stream",
     "text": [
      "\n"
     ]
    }
   ],
   "source": [
    "for model_name in models:\n",
    "    #cur_cat = []\n",
    "    for i in tqdm(range(17, 48)):\n",
    "        all_dict = gen_pics_for_detection(i, models[model_name], step=8)\n",
    "        coords = detect_clusters_connected(all_dict, thr, i)\n",
    "        #cur_cat.append(coords)\n",
    "        coords.to_csv('/home/rt2122/Data/detected_cats/tmp/p{pix}_{model}_thr0.1_step8'.format(pix=i, \n",
    "                                                                                    model=model_name))\n",
    "    #cur_cat = pd.concat(cur_cat, ignore_index=True)\n",
    "    #cur_cat.to_csv(\n",
    "    #    '/home/rt2122/Data/detected_cats/full_{model}_thr{thr}_step8.csv'.format(\n",
    "    #        model=model_name, thr=thr), index=False)"
   ]
  },
  {
   "cell_type": "code",
   "execution_count": 6,
   "metadata": {
    "ExecuteTime": {
     "end_time": "2020-12-09T12:12:22.077504Z",
     "start_time": "2020-12-09T12:12:22.067828Z"
    }
   },
   "outputs": [
    {
     "data": {
      "text/plain": [
       "False"
      ]
     },
     "execution_count": 6,
     "metadata": {},
     "output_type": "execute_result"
    }
   ],
   "source": [
    "'pz_act25' in 'pz_act20_dfasjkfha'"
   ]
  },
  {
   "cell_type": "code",
   "execution_count": 8,
   "metadata": {
    "ExecuteTime": {
     "end_time": "2020-12-09T12:12:49.804488Z",
     "start_time": "2020-12-09T12:12:49.784705Z"
    }
   },
   "outputs": [
    {
     "data": {
      "text/plain": [
       "['p26_pz_act25_thr0.1_step8',\n",
       " 'p41_pz_act25_thr0.1_step8',\n",
       " 'p32_pz_act25_thr0.1_step8',\n",
       " 'p6_pz_act25_thr0.1_step8',\n",
       " 'p13_pz_act25_thr0.1_step8',\n",
       " 'p10_pz_act25_thr0.1_step8',\n",
       " 'p16_pz_act25_thr0.1_step8',\n",
       " 'p17_pz_act25_thr0.1_step8',\n",
       " 'p30_pz_act25_thr0.1_step8',\n",
       " 'p2_pz_act25_thr0.1_step8',\n",
       " 'p46_pz_act25_thr0.1_step8',\n",
       " 'p24_pz_act25_thr0.1_step8',\n",
       " 'p23_pz_act25_thr0.1_step8',\n",
       " 'p7_pz_act25_thr0.1_step8',\n",
       " 'p0_pz_act25_thr0.1_step8',\n",
       " 'p8_pz_act25_thr0.1_step8',\n",
       " 'p45_pz_act25_thr0.1_step8',\n",
       " 'p3_pz_act25_thr0.1_step8',\n",
       " 'p21_pz_act25_thr0.1_step8',\n",
       " 'p28_pz_act25_thr0.1_step8',\n",
       " 'p31_pz_act25_thr0.1_step8',\n",
       " 'p44_pz_act25_thr0.1_step8',\n",
       " 'p27_pz_act25_thr0.1_step8',\n",
       " 'p37_pz_act25_thr0.1_step8',\n",
       " 'p25_pz_act25_thr0.1_step8',\n",
       " 'p40_pz_act25_thr0.1_step8',\n",
       " 'p34_pz_act25_thr0.1_step8',\n",
       " 'p1_pz_act25_thr0.1_step8',\n",
       " 'p47_pz_act25_thr0.1_step8',\n",
       " 'p35_pz_act25_thr0.1_step8',\n",
       " 'p20_pz_act25_thr0.1_step8',\n",
       " 'p15_pz_act25_thr0.1_step8',\n",
       " 'p18_pz_act25_thr0.1_step8',\n",
       " 'p38_pz_act25_thr0.1_step8',\n",
       " 'p39_pz_act25_thr0.1_step8',\n",
       " 'p5_pz_act25_thr0.1_step8',\n",
       " 'p22_pz_act25_thr0.1_step8',\n",
       " 'p43_pz_act25_thr0.1_step8',\n",
       " 'p14_pz_act25_thr0.1_step8',\n",
       " 'p19_pz_act25_thr0.1_step8',\n",
       " 'p33_pz_act25_thr0.1_step8',\n",
       " 'p42_pz_act25_thr0.1_step8',\n",
       " 'p29_pz_act25_thr0.1_step8',\n",
       " 'p9_pz_act25_thr0.1_step8',\n",
       " 'p11_pz_act25_thr0.1_step8',\n",
       " 'p4_pz_act25_thr0.1_step8',\n",
       " 'p36_pz_act25_thr0.1_step8',\n",
       " 'p12_pz_act25_thr0.1_step8']"
      ]
     },
     "execution_count": 8,
     "metadata": {},
     "output_type": "execute_result"
    }
   ],
   "source": [
    "files = next(os.walk('/home/rt2122/Data/detected_cats/tmp/'))[-1]\n",
    "files = list(filter(lambda x: 'pz_act25' in x, files))\n",
    "files"
   ]
  },
  {
   "cell_type": "code",
   "execution_count": 11,
   "metadata": {
    "ExecuteTime": {
     "end_time": "2020-12-09T12:14:18.552884Z",
     "start_time": "2020-12-09T12:14:18.544150Z"
    }
   },
   "outputs": [],
   "source": [
    "pix = [int(get_prm('p', name)) for name in files]\n",
    "for i in range(48):\n",
    "    if not (i in pix):\n",
    "        print(i)"
   ]
  },
  {
   "cell_type": "code",
   "execution_count": 12,
   "metadata": {
    "ExecuteTime": {
     "end_time": "2020-12-09T12:15:21.124212Z",
     "start_time": "2020-12-09T12:15:20.649909Z"
    }
   },
   "outputs": [],
   "source": [
    "full_df = [pd.read_csv(os.path.join('/home/rt2122/Data/detected_cats/tmp/', name)) for name in files]\n",
    "full_df = pd.concat(full_df, ignore_index=True)"
   ]
  },
  {
   "cell_type": "code",
   "execution_count": 13,
   "metadata": {
    "ExecuteTime": {
     "end_time": "2020-12-09T12:15:25.512218Z",
     "start_time": "2020-12-09T12:15:25.508784Z"
    }
   },
   "outputs": [
    {
     "data": {
      "text/plain": [
       "(21841, 13)"
      ]
     },
     "execution_count": 13,
     "metadata": {},
     "output_type": "execute_result"
    }
   ],
   "source": [
    "full_df.shape"
   ]
  },
  {
   "cell_type": "code",
   "execution_count": 14,
   "metadata": {
    "ExecuteTime": {
     "end_time": "2020-12-09T12:15:48.674666Z",
     "start_time": "2020-12-09T12:15:48.410566Z"
    }
   },
   "outputs": [],
   "source": [
    "full_df.to_csv('/home/rt2122/Data/detected_cats/full_pz_act25_thr0.1_step8.csv', index=False)"
   ]
  },
  {
   "cell_type": "code",
   "execution_count": 16,
   "metadata": {
    "ExecuteTime": {
     "end_time": "2020-12-09T12:16:25.432166Z",
     "start_time": "2020-12-09T12:16:25.186848Z"
    }
   },
   "outputs": [
    {
     "data": {
      "text/html": [
       "<div>\n",
       "<style scoped>\n",
       "    .dataframe tbody tr th:only-of-type {\n",
       "        vertical-align: middle;\n",
       "    }\n",
       "\n",
       "    .dataframe tbody tr th {\n",
       "        vertical-align: top;\n",
       "    }\n",
       "\n",
       "    .dataframe thead th {\n",
       "        text-align: right;\n",
       "    }\n",
       "</style>\n",
       "<table border=\"1\" class=\"dataframe\">\n",
       "  <thead>\n",
       "    <tr style=\"text-align: right;\">\n",
       "      <th></th>\n",
       "      <th>RA</th>\n",
       "      <th>DEC</th>\n",
       "      <th>area</th>\n",
       "      <th>min_rad</th>\n",
       "      <th>max_rad</th>\n",
       "      <th>mean_rad</th>\n",
       "      <th>min_pred</th>\n",
       "      <th>max_pred</th>\n",
       "      <th>tRA</th>\n",
       "      <th>tDEC</th>\n",
       "      <th>status</th>\n",
       "      <th>catalog</th>\n",
       "    </tr>\n",
       "  </thead>\n",
       "  <tbody>\n",
       "    <tr>\n",
       "      <th>0</th>\n",
       "      <td>287.023499</td>\n",
       "      <td>16.602579</td>\n",
       "      <td>3.0</td>\n",
       "      <td>0.440446</td>\n",
       "      <td>1.345338</td>\n",
       "      <td>0.848693</td>\n",
       "      <td>0.113006</td>\n",
       "      <td>0.138391</td>\n",
       "      <td>NaN</td>\n",
       "      <td>NaN</td>\n",
       "      <td>fp</td>\n",
       "      <td>NaN</td>\n",
       "    </tr>\n",
       "    <tr>\n",
       "      <th>1</th>\n",
       "      <td>280.722560</td>\n",
       "      <td>35.529991</td>\n",
       "      <td>4.0</td>\n",
       "      <td>0.723313</td>\n",
       "      <td>1.593147</td>\n",
       "      <td>1.014972</td>\n",
       "      <td>0.144873</td>\n",
       "      <td>0.169449</td>\n",
       "      <td>NaN</td>\n",
       "      <td>NaN</td>\n",
       "      <td>fp</td>\n",
       "      <td>NaN</td>\n",
       "    </tr>\n",
       "    <tr>\n",
       "      <th>2</th>\n",
       "      <td>287.147083</td>\n",
       "      <td>15.974640</td>\n",
       "      <td>5.0</td>\n",
       "      <td>0.455283</td>\n",
       "      <td>2.245523</td>\n",
       "      <td>1.343244</td>\n",
       "      <td>0.114428</td>\n",
       "      <td>0.202474</td>\n",
       "      <td>NaN</td>\n",
       "      <td>NaN</td>\n",
       "      <td>fp</td>\n",
       "      <td>NaN</td>\n",
       "    </tr>\n",
       "    <tr>\n",
       "      <th>3</th>\n",
       "      <td>286.856651</td>\n",
       "      <td>17.152215</td>\n",
       "      <td>4.0</td>\n",
       "      <td>0.698742</td>\n",
       "      <td>1.565234</td>\n",
       "      <td>1.056896</td>\n",
       "      <td>0.139093</td>\n",
       "      <td>0.193673</td>\n",
       "      <td>NaN</td>\n",
       "      <td>NaN</td>\n",
       "      <td>fp</td>\n",
       "      <td>NaN</td>\n",
       "    </tr>\n",
       "    <tr>\n",
       "      <th>4</th>\n",
       "      <td>284.244074</td>\n",
       "      <td>24.994612</td>\n",
       "      <td>2.0</td>\n",
       "      <td>0.459891</td>\n",
       "      <td>1.769543</td>\n",
       "      <td>1.077775</td>\n",
       "      <td>0.112947</td>\n",
       "      <td>0.132648</td>\n",
       "      <td>NaN</td>\n",
       "      <td>NaN</td>\n",
       "      <td>fp</td>\n",
       "      <td>NaN</td>\n",
       "    </tr>\n",
       "  </tbody>\n",
       "</table>\n",
       "</div>"
      ],
      "text/plain": [
       "           RA        DEC  area   min_rad   max_rad  mean_rad  min_pred  \\\n",
       "0  287.023499  16.602579   3.0  0.440446  1.345338  0.848693  0.113006   \n",
       "1  280.722560  35.529991   4.0  0.723313  1.593147  1.014972  0.144873   \n",
       "2  287.147083  15.974640   5.0  0.455283  2.245523  1.343244  0.114428   \n",
       "3  286.856651  17.152215   4.0  0.698742  1.565234  1.056896  0.139093   \n",
       "4  284.244074  24.994612   2.0  0.459891  1.769543  1.077775  0.112947   \n",
       "\n",
       "   max_pred  tRA  tDEC status catalog  \n",
       "0  0.138391  NaN   NaN     fp     NaN  \n",
       "1  0.169449  NaN   NaN     fp     NaN  \n",
       "2  0.202474  NaN   NaN     fp     NaN  \n",
       "3  0.193673  NaN   NaN     fp     NaN  \n",
       "4  0.132648  NaN   NaN     fp     NaN  "
      ]
     },
     "execution_count": 16,
     "metadata": {},
     "output_type": "execute_result"
    }
   ],
   "source": [
    "df = pd.read_csv('/home/rt2122/Data/detected_cats/full_pz25_thr0.1_step8.csv')\n",
    "df.head()"
   ]
  },
  {
   "cell_type": "code",
   "execution_count": null,
   "metadata": {},
   "outputs": [],
   "source": []
  }
 ],
 "metadata": {
  "kernelspec": {
   "display_name": "Python 3",
   "language": "python",
   "name": "python3"
  },
  "language_info": {
   "codemirror_mode": {
    "name": "ipython",
    "version": 3
   },
   "file_extension": ".py",
   "mimetype": "text/x-python",
   "name": "python",
   "nbconvert_exporter": "python",
   "pygments_lexer": "ipython3",
   "version": "3.8.3"
  }
 },
 "nbformat": 4,
 "nbformat_minor": 4
}
