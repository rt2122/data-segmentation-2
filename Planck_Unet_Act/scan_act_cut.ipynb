{
 "cells": [
  {
   "cell_type": "code",
   "execution_count": 1,
   "metadata": {
    "ExecuteTime": {
     "end_time": "2020-11-03T19:02:54.045037Z",
     "start_time": "2020-11-03T19:02:53.266739Z"
    }
   },
   "outputs": [],
   "source": [
    "import numpy as np\n",
    "import pandas as pd\n",
    "import re\n",
    "import os\n",
    "from DS_Planck_Unet import *\n",
    "from DS_detector import *\n",
    "from tqdm.notebook import tqdm\n",
    "from matplotlib import pyplot as plt\n",
    "from DS_healpix_fragmentation import radec2pix"
   ]
  },
  {
   "cell_type": "code",
   "execution_count": 18,
   "metadata": {
    "ExecuteTime": {
     "end_time": "2020-11-03T11:33:23.357671Z",
     "start_time": "2020-11-03T11:33:23.337642Z"
    }
   },
   "outputs": [],
   "source": [
    "def get_ep(s):\n",
    "    return int(re.search('ep(\\d+)', s)[0][2:])"
   ]
  },
  {
   "cell_type": "code",
   "execution_count": 19,
   "metadata": {
    "ExecuteTime": {
     "end_time": "2020-11-03T11:33:25.217084Z",
     "start_time": "2020-11-03T11:33:25.205139Z"
    }
   },
   "outputs": [
    {
     "data": {
      "text/plain": [
       "('act_cut.ep0008-vl0.033816-l0.033266.hdf5', 8)"
      ]
     },
     "execution_count": 19,
     "metadata": {},
     "output_type": "execute_result"
    }
   ],
   "source": [
    "dirname = '/home/rt2122/Models/act_cut/'\n",
    "files = next(os.walk(dirname))[-1]\n",
    "files[0], get_ep(files[0])"
   ]
  },
  {
   "cell_type": "code",
   "execution_count": 20,
   "metadata": {
    "ExecuteTime": {
     "end_time": "2020-11-03T11:33:26.386767Z",
     "start_time": "2020-11-03T11:33:26.372697Z"
    }
   },
   "outputs": [],
   "source": [
    "step = 8"
   ]
  },
  {
   "cell_type": "code",
   "execution_count": 21,
   "metadata": {
    "ExecuteTime": {
     "end_time": "2020-11-03T11:33:27.012753Z",
     "start_time": "2020-11-03T11:33:26.990389Z"
    }
   },
   "outputs": [
    {
     "data": {
      "text/plain": [
       "[9, 38, 41]"
      ]
     },
     "execution_count": 21,
     "metadata": {},
     "output_type": "execute_result"
    }
   ],
   "source": [
    "val_pix"
   ]
  },
  {
   "cell_type": "code",
   "execution_count": 22,
   "metadata": {
    "ExecuteTime": {
     "end_time": "2020-11-03T13:09:21.868763Z",
     "start_time": "2020-11-03T11:33:28.953701Z"
    }
   },
   "outputs": [
    {
     "data": {
      "application/vnd.jupyter.widget-view+json": {
       "model_id": "0452fb3b56474929b9f724eb932d9fbc",
       "version_major": 2,
       "version_minor": 0
      },
      "text/plain": [
       "HBox(children=(FloatProgress(value=0.0, max=14.0), HTML(value='')))"
      ]
     },
     "metadata": {},
     "output_type": "display_data"
    },
    {
     "name": "stderr",
     "output_type": "stream",
     "text": [
      "/home/rt2122/anaconda3/lib/python3.8/site-packages/pandas/core/indexing.py:671: SettingWithCopyWarning: \n",
      "A value is trying to be set on a copy of a slice from a DataFrame\n",
      "\n",
      "See the caveats in the documentation: https://pandas.pydata.org/pandas-docs/stable/user_guide/indexing.html#returning-a-view-versus-a-copy\n",
      "  self._setitem_with_indexer(indexer, value)\n"
     ]
    },
    {
     "name": "stdout",
     "output_type": "stream",
     "text": [
      "\n"
     ]
    }
   ],
   "source": [
    "cats_dict = {}\n",
    "for file in tqdm(files):\n",
    "    model = load_planck_model(os.path.join(dirname, file))\n",
    "    ep = get_ep(file)\n",
    "    cats_dict[ep] = []\n",
    "    for i in val_pix:\n",
    "        all_dict = gen_pics_for_detection(i, model, step=step)\n",
    "        cats_dict[ep].append(detect_clusters_connected(all_dict, thr=0.1, ipix=i))\n",
    "    cats_dict[ep] = pd.concat(cats_dict[ep], ignore_index=True)\n",
    "    cats_dict[ep].to_csv(\n",
    "        '/home/rt2122/Data/scan_act/val_thr0.1_ep{ep}_step{step}.csv'.format(ep=ep, \n",
    "                step=step), index=False)"
   ]
  },
  {
   "cell_type": "code",
   "execution_count": 23,
   "metadata": {
    "ExecuteTime": {
     "end_time": "2020-11-03T13:09:24.039123Z",
     "start_time": "2020-11-03T13:09:22.289335Z"
    }
   },
   "outputs": [],
   "source": [
    "stat_df = pd.DataFrame({'planck_z' : [], 'planck_no_z':[], 'mcxcwp' : [], 'act_cut':[], \n",
    "                       'fp':[]})"
   ]
  },
  {
   "cell_type": "code",
   "execution_count": 27,
   "metadata": {
    "ExecuteTime": {
     "end_time": "2020-11-03T15:00:28.779214Z",
     "start_time": "2020-11-03T15:00:25.670091Z"
    }
   },
   "outputs": [],
   "source": [
    "for ep in cats_dict:\n",
    "    df = cats_dict[ep]\n",
    "    cur_line = {}\n",
    "    for cat in ['planck_z', 'planck_no_z', 'mcxcwp', 'act_cut']:\n",
    "        df_cat = df[df['catalog'] == cat]\n",
    "        if len(df_cat) == 0:\n",
    "            continue\n",
    "        cur_line[cat] = np.count_nonzero(df_cat['status'] == 'tp') / len(df_cat)\n",
    "    cur_line['fp'] = np.count_nonzero(df['status'] == 'fp')\n",
    "    stat_df.loc[ep] = cur_line"
   ]
  },
  {
   "cell_type": "code",
   "execution_count": 28,
   "metadata": {
    "ExecuteTime": {
     "end_time": "2020-11-03T15:00:29.708642Z",
     "start_time": "2020-11-03T15:00:28.781237Z"
    }
   },
   "outputs": [
    {
     "data": {
      "text/html": [
       "<div>\n",
       "<style scoped>\n",
       "    .dataframe tbody tr th:only-of-type {\n",
       "        vertical-align: middle;\n",
       "    }\n",
       "\n",
       "    .dataframe tbody tr th {\n",
       "        vertical-align: top;\n",
       "    }\n",
       "\n",
       "    .dataframe thead th {\n",
       "        text-align: right;\n",
       "    }\n",
       "</style>\n",
       "<table border=\"1\" class=\"dataframe\">\n",
       "  <thead>\n",
       "    <tr style=\"text-align: right;\">\n",
       "      <th></th>\n",
       "      <th>planck_z</th>\n",
       "      <th>planck_no_z</th>\n",
       "      <th>mcxcwp</th>\n",
       "      <th>act_cut</th>\n",
       "      <th>fp</th>\n",
       "    </tr>\n",
       "  </thead>\n",
       "  <tbody>\n",
       "    <tr>\n",
       "      <th>1</th>\n",
       "      <td>0.098485</td>\n",
       "      <td>0.107143</td>\n",
       "      <td>0.000000</td>\n",
       "      <td>0.000000</td>\n",
       "      <td>58.0</td>\n",
       "    </tr>\n",
       "    <tr>\n",
       "      <th>2</th>\n",
       "      <td>0.583333</td>\n",
       "      <td>0.428571</td>\n",
       "      <td>0.019417</td>\n",
       "      <td>0.013605</td>\n",
       "      <td>204.0</td>\n",
       "    </tr>\n",
       "    <tr>\n",
       "      <th>3</th>\n",
       "      <td>0.712121</td>\n",
       "      <td>0.607143</td>\n",
       "      <td>0.048544</td>\n",
       "      <td>0.022676</td>\n",
       "      <td>232.0</td>\n",
       "    </tr>\n",
       "    <tr>\n",
       "      <th>4</th>\n",
       "      <td>0.810606</td>\n",
       "      <td>0.785714</td>\n",
       "      <td>0.067961</td>\n",
       "      <td>0.040816</td>\n",
       "      <td>310.0</td>\n",
       "    </tr>\n",
       "    <tr>\n",
       "      <th>5</th>\n",
       "      <td>0.833333</td>\n",
       "      <td>0.750000</td>\n",
       "      <td>0.058252</td>\n",
       "      <td>0.040816</td>\n",
       "      <td>236.0</td>\n",
       "    </tr>\n",
       "    <tr>\n",
       "      <th>6</th>\n",
       "      <td>0.871212</td>\n",
       "      <td>0.857143</td>\n",
       "      <td>0.087379</td>\n",
       "      <td>0.061224</td>\n",
       "      <td>383.0</td>\n",
       "    </tr>\n",
       "    <tr>\n",
       "      <th>7</th>\n",
       "      <td>0.863636</td>\n",
       "      <td>0.750000</td>\n",
       "      <td>0.087379</td>\n",
       "      <td>0.058957</td>\n",
       "      <td>328.0</td>\n",
       "    </tr>\n",
       "    <tr>\n",
       "      <th>8</th>\n",
       "      <td>0.886364</td>\n",
       "      <td>0.857143</td>\n",
       "      <td>0.087379</td>\n",
       "      <td>0.079365</td>\n",
       "      <td>600.0</td>\n",
       "    </tr>\n",
       "    <tr>\n",
       "      <th>9</th>\n",
       "      <td>0.909091</td>\n",
       "      <td>0.785714</td>\n",
       "      <td>0.097087</td>\n",
       "      <td>0.077098</td>\n",
       "      <td>517.0</td>\n",
       "    </tr>\n",
       "    <tr>\n",
       "      <th>10</th>\n",
       "      <td>0.901515</td>\n",
       "      <td>0.821429</td>\n",
       "      <td>0.097087</td>\n",
       "      <td>0.088435</td>\n",
       "      <td>623.0</td>\n",
       "    </tr>\n",
       "    <tr>\n",
       "      <th>14</th>\n",
       "      <td>0.893939</td>\n",
       "      <td>0.821429</td>\n",
       "      <td>0.097087</td>\n",
       "      <td>0.086168</td>\n",
       "      <td>758.0</td>\n",
       "    </tr>\n",
       "    <tr>\n",
       "      <th>28</th>\n",
       "      <td>0.825758</td>\n",
       "      <td>0.642857</td>\n",
       "      <td>0.087379</td>\n",
       "      <td>0.068027</td>\n",
       "      <td>720.0</td>\n",
       "    </tr>\n",
       "    <tr>\n",
       "      <th>30</th>\n",
       "      <td>0.803030</td>\n",
       "      <td>0.678571</td>\n",
       "      <td>0.077670</td>\n",
       "      <td>0.070295</td>\n",
       "      <td>618.0</td>\n",
       "    </tr>\n",
       "    <tr>\n",
       "      <th>37</th>\n",
       "      <td>0.825758</td>\n",
       "      <td>0.678571</td>\n",
       "      <td>0.077670</td>\n",
       "      <td>0.063492</td>\n",
       "      <td>643.0</td>\n",
       "    </tr>\n",
       "  </tbody>\n",
       "</table>\n",
       "</div>"
      ],
      "text/plain": [
       "    planck_z  planck_no_z    mcxcwp   act_cut     fp\n",
       "1   0.098485     0.107143  0.000000  0.000000   58.0\n",
       "2   0.583333     0.428571  0.019417  0.013605  204.0\n",
       "3   0.712121     0.607143  0.048544  0.022676  232.0\n",
       "4   0.810606     0.785714  0.067961  0.040816  310.0\n",
       "5   0.833333     0.750000  0.058252  0.040816  236.0\n",
       "6   0.871212     0.857143  0.087379  0.061224  383.0\n",
       "7   0.863636     0.750000  0.087379  0.058957  328.0\n",
       "8   0.886364     0.857143  0.087379  0.079365  600.0\n",
       "9   0.909091     0.785714  0.097087  0.077098  517.0\n",
       "10  0.901515     0.821429  0.097087  0.088435  623.0\n",
       "14  0.893939     0.821429  0.097087  0.086168  758.0\n",
       "28  0.825758     0.642857  0.087379  0.068027  720.0\n",
       "30  0.803030     0.678571  0.077670  0.070295  618.0\n",
       "37  0.825758     0.678571  0.077670  0.063492  643.0"
      ]
     },
     "execution_count": 28,
     "metadata": {},
     "output_type": "execute_result"
    }
   ],
   "source": [
    "stat_df.sort_index(inplace=True)\n",
    "stat_df"
   ]
  },
  {
   "cell_type": "code",
   "execution_count": 30,
   "metadata": {
    "ExecuteTime": {
     "end_time": "2020-11-03T15:01:38.664483Z",
     "start_time": "2020-11-03T15:01:37.967964Z"
    }
   },
   "outputs": [
    {
     "data": {
      "text/plain": [
       "<matplotlib.legend.Legend at 0x7f72297005e0>"
      ]
     },
     "execution_count": 30,
     "metadata": {},
     "output_type": "execute_result"
    },
    {
     "data": {
      "image/png": "[encoded data removed]",
      "text/plain": [
       "<Figure size 1584x576 with 2 Axes>"
      ]
     },
     "metadata": {
      "needs_background": "light"
     },
     "output_type": "display_data"
    }
   ],
   "source": [
    "_, ax = plt.subplots(1, 2, figsize=(22, 8))\n",
    "ax[0].grid(b=True, which='major', color='#666666', linestyle=':')\n",
    "for cat, c in zip(['planck_z', 'planck_no_z', 'mcxcwp', 'act_cut'], 'bgrc'):\n",
    "    line, = ax[0].plot(stat_df.index, stat_df[cat], c+'o-')\n",
    "    line.set_label(cat)\n",
    "ax[0].set_yticks(np.arange(0, 1, 0.1))\n",
    "ax[0].legend()\n",
    "line, = ax[1].plot(stat_df.index, stat_df['fp'], 'ko-')\n",
    "line.set_label('fp')\n",
    "ax[1].legend()"
   ]
  },
  {
   "cell_type": "code",
   "execution_count": 2,
   "metadata": {
    "ExecuteTime": {
     "end_time": "2020-11-03T19:03:11.762325Z",
     "start_time": "2020-11-03T19:03:11.668586Z"
    }
   },
   "outputs": [],
   "source": [
    "new10 = pd.read_csv('/home/rt2122/Data/scan_act/val_thr0.1_ep10_step8.csv')\n",
    "new15 = pd.read_csv('/home/rt2122/Data/scan_act/val_thr0.1_ep14_step8.csv')\n",
    "old = pd.read_csv('/home/rt2122/Data/scans_extended/connected/ep14_thr0.1.csv')"
   ]
  },
  {
   "cell_type": "code",
   "execution_count": 3,
   "metadata": {
    "ExecuteTime": {
     "end_time": "2020-11-03T19:03:15.299457Z",
     "start_time": "2020-11-03T19:03:14.143914Z"
    }
   },
   "outputs": [
    {
     "data": {
      "text/plain": [
       "(1327, 1847, 1462)"
      ]
     },
     "execution_count": 3,
     "metadata": {},
     "output_type": "execute_result"
    }
   ],
   "source": [
    "pix2old = radec2pix(old['RA'], old['DEC'], 2)\n",
    "old = old[np.in1d(pix2old, val_pix)]\n",
    "len(new10), len(old), len(new15)"
   ]
  },
  {
   "cell_type": "code",
   "execution_count": 4,
   "metadata": {
    "ExecuteTime": {
     "end_time": "2020-11-03T19:03:27.866098Z",
     "start_time": "2020-11-03T19:03:27.829814Z"
    }
   },
   "outputs": [],
   "source": [
    "stat_new = {}\n",
    "stat_new15 = {}\n",
    "stat_old = {}\n",
    "for cat in ['planck_z', 'planck_no_z', 'mcxcwp', 'act']:\n",
    "    old_cat = old[old['catalog'] == cat]\n",
    "    stat_old[cat] = np.count_nonzero(old_cat['status'] == 'tp') / len(old_cat)\n",
    "stat_old['fp'] = np.count_nonzero(old['status'] == 'fp')\n",
    "for cat in ['planck_z', 'planck_no_z', 'mcxcwp', 'act_cut']:\n",
    "    new_cat = new10[new10['catalog'] == cat]\n",
    "    stat_new[cat] = np.count_nonzero(new_cat['status'] == 'tp') / len(new_cat)\n",
    "stat_new['fp'] = np.count_nonzero(new10['status'] == 'fp')\n",
    "for cat in ['planck_z', 'planck_no_z', 'mcxcwp', 'act_cut']:\n",
    "    new_cat = new15[new15['catalog'] == cat]\n",
    "    stat_new15[cat] = np.count_nonzero(new_cat['status'] == 'tp') / len(new_cat)\n",
    "stat_new15['fp'] = np.count_nonzero(new15['status'] == 'fp')"
   ]
  },
  {
   "cell_type": "code",
   "execution_count": 5,
   "metadata": {
    "ExecuteTime": {
     "end_time": "2020-11-03T19:03:31.292561Z",
     "start_time": "2020-11-03T19:03:31.287674Z"
    }
   },
   "outputs": [],
   "source": [
    "act = stat_new['act_cut']\n",
    "stat_new.pop('act_cut')\n",
    "stat_new['act'] = act\n",
    "act = stat_new15['act_cut']\n",
    "stat_new15.pop('act_cut')\n",
    "stat_new15['act'] = act"
   ]
  },
  {
   "cell_type": "code",
   "execution_count": 6,
   "metadata": {
    "ExecuteTime": {
     "end_time": "2020-11-03T19:03:34.554420Z",
     "start_time": "2020-11-03T19:03:34.548165Z"
    }
   },
   "outputs": [],
   "source": [
    "stat_new['cat_name'] = 'new10'\n",
    "stat_new15['cat_name'] = 'new14'"
   ]
  },
  {
   "cell_type": "code",
   "execution_count": 7,
   "metadata": {
    "ExecuteTime": {
     "end_time": "2020-11-03T19:03:35.434399Z",
     "start_time": "2020-11-03T19:03:35.431172Z"
    }
   },
   "outputs": [],
   "source": [
    "stat_old['cat_name'] = 'old'"
   ]
  },
  {
   "cell_type": "code",
   "execution_count": 8,
   "metadata": {
    "ExecuteTime": {
     "end_time": "2020-11-03T19:03:36.150940Z",
     "start_time": "2020-11-03T19:03:36.141815Z"
    }
   },
   "outputs": [],
   "source": [
    "a = pd.concat([pd.DataFrame(stat_new, index=[0]), pd.DataFrame(stat_new15, index=[1]),\n",
    "               pd.DataFrame(stat_old, index=[2])])"
   ]
  },
  {
   "cell_type": "code",
   "execution_count": 9,
   "metadata": {
    "ExecuteTime": {
     "end_time": "2020-11-03T19:03:36.758118Z",
     "start_time": "2020-11-03T19:03:36.744439Z"
    }
   },
   "outputs": [
    {
     "data": {
      "text/html": [
       "<div>\n",
       "<style scoped>\n",
       "    .dataframe tbody tr th:only-of-type {\n",
       "        vertical-align: middle;\n",
       "    }\n",
       "\n",
       "    .dataframe tbody tr th {\n",
       "        vertical-align: top;\n",
       "    }\n",
       "\n",
       "    .dataframe thead th {\n",
       "        text-align: right;\n",
       "    }\n",
       "</style>\n",
       "<table border=\"1\" class=\"dataframe\">\n",
       "  <thead>\n",
       "    <tr style=\"text-align: right;\">\n",
       "      <th></th>\n",
       "      <th>planck_z</th>\n",
       "      <th>planck_no_z</th>\n",
       "      <th>mcxcwp</th>\n",
       "      <th>fp</th>\n",
       "      <th>act</th>\n",
       "      <th>cat_name</th>\n",
       "    </tr>\n",
       "  </thead>\n",
       "  <tbody>\n",
       "    <tr>\n",
       "      <th>0</th>\n",
       "      <td>0.901515</td>\n",
       "      <td>0.821429</td>\n",
       "      <td>0.097087</td>\n",
       "      <td>623</td>\n",
       "      <td>0.088435</td>\n",
       "      <td>new10</td>\n",
       "    </tr>\n",
       "    <tr>\n",
       "      <th>1</th>\n",
       "      <td>0.893939</td>\n",
       "      <td>0.821429</td>\n",
       "      <td>0.097087</td>\n",
       "      <td>758</td>\n",
       "      <td>0.086168</td>\n",
       "      <td>new14</td>\n",
       "    </tr>\n",
       "    <tr>\n",
       "      <th>2</th>\n",
       "      <td>0.931818</td>\n",
       "      <td>0.821429</td>\n",
       "      <td>0.155340</td>\n",
       "      <td>1055</td>\n",
       "      <td>0.120983</td>\n",
       "      <td>old</td>\n",
       "    </tr>\n",
       "  </tbody>\n",
       "</table>\n",
       "</div>"
      ],
      "text/plain": [
       "   planck_z  planck_no_z    mcxcwp    fp       act cat_name\n",
       "0  0.901515     0.821429  0.097087   623  0.088435    new10\n",
       "1  0.893939     0.821429  0.097087   758  0.086168    new14\n",
       "2  0.931818     0.821429  0.155340  1055  0.120983      old"
      ]
     },
     "execution_count": 9,
     "metadata": {},
     "output_type": "execute_result"
    }
   ],
   "source": [
    "a"
   ]
  },
  {
   "cell_type": "code",
   "execution_count": null,
   "metadata": {},
   "outputs": [],
   "source": []
  }
 ],
 "metadata": {
  "kernelspec": {
   "display_name": "Python 3",
   "language": "python",
   "name": "python3"
  },
  "language_info": {
   "codemirror_mode": {
    "name": "ipython",
    "version": 3
   },
   "file_extension": ".py",
   "mimetype": "text/x-python",
   "name": "python",
   "nbconvert_exporter": "python",
   "pygments_lexer": "ipython3",
   "version": "3.8.3"
  }
 },
 "nbformat": 4,
 "nbformat_minor": 4
}
