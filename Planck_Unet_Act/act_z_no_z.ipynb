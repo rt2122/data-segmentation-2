{
 "cells": [
  {
   "cell_type": "code",
   "execution_count": 1,
   "metadata": {
    "ExecuteTime": {
     "end_time": "2020-10-18T07:28:36.111109Z",
     "start_time": "2020-10-18T07:28:29.606349Z"
    }
   },
   "outputs": [],
   "source": [
    "import numpy as np\n",
    "import pandas as pd"
   ]
  },
  {
   "cell_type": "code",
   "execution_count": 2,
   "metadata": {
    "ExecuteTime": {
     "end_time": "2020-10-18T07:28:54.569863Z",
     "start_time": "2020-10-18T07:28:54.264479Z"
    }
   },
   "outputs": [],
   "source": [
    "act = pd.read_csv('/home/rt2122/Data/clusters/act.csv')"
   ]
  },
  {
   "cell_type": "code",
   "execution_count": 4,
   "metadata": {
    "ExecuteTime": {
     "end_time": "2020-10-18T07:29:25.580513Z",
     "start_time": "2020-10-18T07:29:25.572896Z"
    }
   },
   "outputs": [
    {
     "data": {
      "text/plain": [
       "['name',\n",
       " 'RA',\n",
       " 'DEC',\n",
       " 'SNR',\n",
       " 'y_c',\n",
       " 'err_y_c',\n",
       " 'fixed_SNR',\n",
       " 'fixed_y_c',\n",
       " 'fixed_err_y_c',\n",
       " 'template',\n",
       " 'tileName',\n",
       " 'redshift',\n",
       " 'redshiftErr',\n",
       " 'redshiftType',\n",
       " 'redshiftSource',\n",
       " 'M500',\n",
       " 'M500_errPlus',\n",
       " 'M500_errMinus',\n",
       " 'M500Cal',\n",
       " 'M500Cal_errPlus',\n",
       " 'M500Cal_errMinus',\n",
       " 'M200m',\n",
       " 'M200m_errPlus',\n",
       " 'M200m_errMinus',\n",
       " 'M500Uncorr',\n",
       " 'M500Uncorr_errPlus',\n",
       " 'M500Uncorr_errMinus',\n",
       " 'M200mUncorr',\n",
       " 'M200mUncorr_errPlus',\n",
       " 'M200mUncorr_errMinus',\n",
       " 'footprint_DESY3',\n",
       " 'footprint_HSCs19a',\n",
       " 'footprint_KiDSDR4',\n",
       " 'zCluster_delta',\n",
       " 'zCluster_errDelta',\n",
       " 'zCluster_source',\n",
       " 'RM',\n",
       " 'RM_LAMBDA',\n",
       " 'RM_LAMBDA_ERR',\n",
       " 'RMDESY3',\n",
       " 'RMDESY3_LAMBDA_CHISQ',\n",
       " 'RMDESY3_LAMBDA_CHISQ_E',\n",
       " 'CAMIRA',\n",
       " 'CAMIRA_N_mem',\n",
       " 'opt_RADeg',\n",
       " 'opt_decDeg',\n",
       " 'opt_positionSource',\n",
       " 'notes',\n",
       " 'knownLens',\n",
       " 'knownLensRefCode',\n",
       " 'warnings']"
      ]
     },
     "execution_count": 4,
     "metadata": {},
     "output_type": "execute_result"
    }
   ],
   "source": [
    "list(act)"
   ]
  },
  {
   "cell_type": "code",
   "execution_count": 6,
   "metadata": {
    "ExecuteTime": {
     "end_time": "2020-10-18T07:30:26.023277Z",
     "start_time": "2020-10-18T07:30:26.017400Z"
    }
   },
   "outputs": [],
   "source": [
    "act = act.rename({'redshift' : 'z'}, axis='columns')"
   ]
  },
  {
   "cell_type": "code",
   "execution_count": 7,
   "metadata": {
    "ExecuteTime": {
     "end_time": "2020-10-18T07:30:30.612276Z",
     "start_time": "2020-10-18T07:30:30.602214Z"
    }
   },
   "outputs": [
    {
     "data": {
      "text/plain": [
       "['name',\n",
       " 'RA',\n",
       " 'DEC',\n",
       " 'SNR',\n",
       " 'y_c',\n",
       " 'err_y_c',\n",
       " 'fixed_SNR',\n",
       " 'fixed_y_c',\n",
       " 'fixed_err_y_c',\n",
       " 'template',\n",
       " 'tileName',\n",
       " 'z',\n",
       " 'redshiftErr',\n",
       " 'redshiftType',\n",
       " 'redshiftSource',\n",
       " 'M500',\n",
       " 'M500_errPlus',\n",
       " 'M500_errMinus',\n",
       " 'M500Cal',\n",
       " 'M500Cal_errPlus',\n",
       " 'M500Cal_errMinus',\n",
       " 'M200m',\n",
       " 'M200m_errPlus',\n",
       " 'M200m_errMinus',\n",
       " 'M500Uncorr',\n",
       " 'M500Uncorr_errPlus',\n",
       " 'M500Uncorr_errMinus',\n",
       " 'M200mUncorr',\n",
       " 'M200mUncorr_errPlus',\n",
       " 'M200mUncorr_errMinus',\n",
       " 'footprint_DESY3',\n",
       " 'footprint_HSCs19a',\n",
       " 'footprint_KiDSDR4',\n",
       " 'zCluster_delta',\n",
       " 'zCluster_errDelta',\n",
       " 'zCluster_source',\n",
       " 'RM',\n",
       " 'RM_LAMBDA',\n",
       " 'RM_LAMBDA_ERR',\n",
       " 'RMDESY3',\n",
       " 'RMDESY3_LAMBDA_CHISQ',\n",
       " 'RMDESY3_LAMBDA_CHISQ_E',\n",
       " 'CAMIRA',\n",
       " 'CAMIRA_N_mem',\n",
       " 'opt_RADeg',\n",
       " 'opt_decDeg',\n",
       " 'opt_positionSource',\n",
       " 'notes',\n",
       " 'knownLens',\n",
       " 'knownLensRefCode',\n",
       " 'warnings']"
      ]
     },
     "execution_count": 7,
     "metadata": {},
     "output_type": "execute_result"
    }
   ],
   "source": [
    "list(act)"
   ]
  },
  {
   "cell_type": "code",
   "execution_count": 8,
   "metadata": {
    "ExecuteTime": {
     "end_time": "2020-10-18T07:30:52.305517Z",
     "start_time": "2020-10-18T07:30:52.291277Z"
    }
   },
   "outputs": [
    {
     "data": {
      "text/plain": [
       "(0.061000000685453415, 1.91)"
      ]
     },
     "execution_count": 8,
     "metadata": {},
     "output_type": "execute_result"
    }
   ],
   "source": [
    "act['z'].min(), act['z'].max()"
   ]
  },
  {
   "cell_type": "code",
   "execution_count": 9,
   "metadata": {
    "ExecuteTime": {
     "end_time": "2020-10-18T07:31:32.844759Z",
     "start_time": "2020-10-18T07:31:32.837951Z"
    }
   },
   "outputs": [
    {
     "data": {
      "text/plain": [
       "0"
      ]
     },
     "execution_count": 9,
     "metadata": {},
     "output_type": "execute_result"
    }
   ],
   "source": [
    "np.count_nonzero(np.isnan(act['z']))"
   ]
  },
  {
   "cell_type": "code",
   "execution_count": 10,
   "metadata": {
    "ExecuteTime": {
     "end_time": "2020-10-18T07:32:01.665699Z",
     "start_time": "2020-10-18T07:32:01.442032Z"
    }
   },
   "outputs": [],
   "source": [
    "act.to_csv('/home/rt2122/Data/clusters/act.csv', index=False)"
   ]
  },
  {
   "cell_type": "code",
   "execution_count": 15,
   "metadata": {
    "ExecuteTime": {
     "end_time": "2020-10-18T07:33:19.097245Z",
     "start_time": "2020-10-18T07:33:19.073022Z"
    }
   },
   "outputs": [],
   "source": [
    "planck_no_z = pd.read_csv('/home/rt2122/Data/clusters/planck_no_z.csv')"
   ]
  },
  {
   "cell_type": "code",
   "execution_count": 16,
   "metadata": {
    "ExecuteTime": {
     "end_time": "2020-10-18T07:33:21.264497Z",
     "start_time": "2020-10-18T07:33:21.259862Z"
    }
   },
   "outputs": [
    {
     "data": {
      "text/plain": [
       "['Name', 'RA', 'DEC', 'z', 'MSZ', 'MCXC', 'RedMAPPer']"
      ]
     },
     "execution_count": 16,
     "metadata": {},
     "output_type": "execute_result"
    }
   ],
   "source": [
    "list(planck_no_z)"
   ]
  },
  {
   "cell_type": "code",
   "execution_count": 17,
   "metadata": {
    "ExecuteTime": {
     "end_time": "2020-10-18T07:33:33.629493Z",
     "start_time": "2020-10-18T07:33:33.622891Z"
    }
   },
   "outputs": [],
   "source": [
    "planck_no_z = planck_no_z.rename({'MSZ' : 'M500'}, axis='columns')"
   ]
  },
  {
   "cell_type": "code",
   "execution_count": 18,
   "metadata": {
    "ExecuteTime": {
     "end_time": "2020-10-18T07:33:42.547968Z",
     "start_time": "2020-10-18T07:33:42.525346Z"
    }
   },
   "outputs": [],
   "source": [
    "planck_no_z.to_csv('/home/rt2122/Data/clusters/planck_no_z.csv', index=False)"
   ]
  },
  {
   "cell_type": "code",
   "execution_count": 19,
   "metadata": {
    "ExecuteTime": {
     "end_time": "2020-10-18T07:34:03.864763Z",
     "start_time": "2020-10-18T07:34:03.841548Z"
    }
   },
   "outputs": [],
   "source": [
    "mcxcwp = pd.read_csv('/home/rt2122/Data/clusters/mcxcwp.csv')"
   ]
  },
  {
   "cell_type": "code",
   "execution_count": 20,
   "metadata": {
    "ExecuteTime": {
     "end_time": "2020-10-18T07:34:07.592486Z",
     "start_time": "2020-10-18T07:34:07.588583Z"
    }
   },
   "outputs": [
    {
     "data": {
      "text/plain": [
       "['MCXC', 'OName', 'AName', 'RA', 'DEC', 'z', 'M500']"
      ]
     },
     "execution_count": 20,
     "metadata": {},
     "output_type": "execute_result"
    }
   ],
   "source": [
    "list(mcxcwp)"
   ]
  },
  {
   "cell_type": "code",
   "execution_count": null,
   "metadata": {},
   "outputs": [],
   "source": []
  }
 ],
 "metadata": {
  "kernelspec": {
   "display_name": "Python 3",
   "language": "python",
   "name": "python3"
  },
  "language_info": {
   "codemirror_mode": {
    "name": "ipython",
    "version": 3
   },
   "file_extension": ".py",
   "mimetype": "text/x-python",
   "name": "python",
   "nbconvert_exporter": "python",
   "pygments_lexer": "ipython3",
   "version": "3.8.3"
  }
 },
 "nbformat": 4,
 "nbformat_minor": 4
}
