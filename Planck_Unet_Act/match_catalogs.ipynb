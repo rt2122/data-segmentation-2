{
 "cells": [
  {
   "cell_type": "code",
   "execution_count": 17,
   "metadata": {
    "ExecuteTime": {
     "end_time": "2020-11-05T13:44:20.816938Z",
     "start_time": "2020-11-05T13:44:20.805340Z"
    }
   },
   "outputs": [],
   "source": [
    "import pandas as pd\n",
    "import numpy as np\n",
    "from astropy.coordinates import SkyCoord\n",
    "from astropy import units as u"
   ]
  },
  {
   "cell_type": "code",
   "execution_count": 20,
   "metadata": {
    "ExecuteTime": {
     "end_time": "2020-11-05T13:54:47.122985Z",
     "start_time": "2020-11-05T13:54:47.079014Z"
    }
   },
   "outputs": [],
   "source": [
    "df = pd.read_csv(\n",
    "    '/home/rt2122/Data/scans_extended/connected/full_act_cut_ep10_thr0.1_step8.csv')"
   ]
  },
  {
   "cell_type": "code",
   "execution_count": 5,
   "metadata": {
    "ExecuteTime": {
     "end_time": "2020-11-05T13:33:04.374288Z",
     "start_time": "2020-11-05T13:33:04.362467Z"
    }
   },
   "outputs": [
    {
     "data": {
      "text/plain": [
       "['act_erosita', 'planck_no_z', 'planck_z', 'mcxcwp']"
      ]
     },
     "execution_count": 5,
     "metadata": {},
     "output_type": "execute_result"
    }
   ],
   "source": [
    "cats = [cat for cat in set(df['catalog']) if type(cat) == type('')]\n",
    "cats"
   ]
  },
  {
   "cell_type": "code",
   "execution_count": 12,
   "metadata": {
    "ExecuteTime": {
     "end_time": "2020-11-05T13:38:15.718142Z",
     "start_time": "2020-11-05T13:38:15.702957Z"
    }
   },
   "outputs": [
    {
     "name": "stdout",
     "output_type": "stream",
     "text": [
      "act_erosita tp 0 fn 0\n",
      "planck_no_z tp 364 fn 195\n",
      "planck_z tp 991 fn 103\n",
      "mcxcwp tp 158 fn 1035\n"
     ]
    }
   ],
   "source": [
    "for cat in cats:\n",
    "    df_cur = df[df['catalog'] == cat]\n",
    "    print(cat, 'tp', np.count_nonzero(df_cur['status'] == 'tp'), \n",
    "          'fn', np.count_nonzero(df_cur['status'] == 'fn'))"
   ]
  },
  {
   "cell_type": "code",
   "execution_count": 9,
   "metadata": {
    "ExecuteTime": {
     "end_time": "2020-11-05T13:36:33.744610Z",
     "start_time": "2020-11-05T13:36:33.734366Z"
    }
   },
   "outputs": [
    {
     "data": {
      "text/plain": [
       "2980"
      ]
     },
     "execution_count": 9,
     "metadata": {},
     "output_type": "execute_result"
    }
   ],
   "source": [
    "idx = df['catalog'] == 'act_erosita'\n",
    "np.count_nonzero(idx)"
   ]
  },
  {
   "cell_type": "code",
   "execution_count": 11,
   "metadata": {
    "ExecuteTime": {
     "end_time": "2020-11-05T13:38:09.403005Z",
     "start_time": "2020-11-05T13:38:09.388758Z"
    }
   },
   "outputs": [
    {
     "name": "stderr",
     "output_type": "stream",
     "text": [
      "/home/rt2122/anaconda3/lib/python3.8/site-packages/pandas/core/indexing.py:671: SettingWithCopyWarning: \n",
      "A value is trying to be set on a copy of a slice from a DataFrame\n",
      "\n",
      "See the caveats in the documentation: https://pandas.pydata.org/pandas-docs/stable/user_guide/indexing.html#returning-a-view-versus-a-copy\n",
      "  self._setitem_with_indexer(indexer, value)\n"
     ]
    }
   ],
   "source": [
    "df['catalog'].loc[idx] = np.nan"
   ]
  },
  {
   "cell_type": "code",
   "execution_count": 14,
   "metadata": {
    "ExecuteTime": {
     "end_time": "2020-11-05T13:38:57.130312Z",
     "start_time": "2020-11-05T13:38:57.119994Z"
    }
   },
   "outputs": [],
   "source": [
    "df['status'].loc[idx] = 'fn'"
   ]
  },
  {
   "cell_type": "code",
   "execution_count": 15,
   "metadata": {
    "ExecuteTime": {
     "end_time": "2020-11-05T13:40:23.215597Z",
     "start_time": "2020-11-05T13:40:22.950829Z"
    }
   },
   "outputs": [],
   "source": [
    "act = pd.read_csv('/home/rt2122/Data/clusters/act.csv')"
   ]
  },
  {
   "cell_type": "code",
   "execution_count": 16,
   "metadata": {
    "ExecuteTime": {
     "end_time": "2020-11-05T13:42:56.153822Z",
     "start_time": "2020-11-05T13:42:56.135977Z"
    }
   },
   "outputs": [],
   "source": [
    "df_fp = df[df['status'] == 'fp']\n",
    "df_fp.index = np.arange(len(df_fp))\n",
    "df_tpfn = df[df['status'] != 'fp']\n",
    "df_tpfn.index = np.arange(len(df_tpfn))"
   ]
  },
  {
   "cell_type": "code",
   "execution_count": 19,
   "metadata": {
    "ExecuteTime": {
     "end_time": "2020-11-05T13:46:52.722941Z",
     "start_time": "2020-11-05T13:46:52.708300Z"
    }
   },
   "outputs": [],
   "source": [
    "fp_sc = SkyCoord(ra=np.array(df_fp['RA'])*u.degree, \n",
    "                 dec=np.array(df_fp['DEC'])*u.degree, frame='icrs')\n",
    "act_sc = SkyCoord(ra=np.array(act['RA'])*u.degree, \n",
    "                  dec=np.array(act['DEC'])*u.degree, frame='icrs')"
   ]
  },
  {
   "cell_type": "code",
   "execution_count": null,
   "metadata": {},
   "outputs": [],
   "source": [
    "idx, d2d, _ = fp_sc.match_to_catalog_sky(act_sc)\n",
    "matched = d2d.degree <= 5/60\n",
    "\n",
    "#res_cat['status'] = 'fp'\n",
    "df_fn['status'].iloc[matched] = 'tp'\n",
    "df_fn['catalog'].iloc[matched] = 'act' \n",
    "df_fn['tRA'].iloc[matched] = np.array(act['RA'][idx[matched]])\n",
    "df_fn['tDEC'].iloc[matched] = np.array(act['DEC'][idx[matched]])\n",
    "\n",
    "df_fn = df_fn.drop_duplicates(subset=['tRA', 'tDEC'])\n",
    "\n",
    "act['found'] = False\n",
    "act['found'].iloc[idx[matched]] = True\n",
    "act['status'] = 'fn'\n"
   ]
  }
 ],
 "metadata": {
  "kernelspec": {
   "display_name": "Python 3",
   "language": "python",
   "name": "python3"
  },
  "language_info": {
   "codemirror_mode": {
    "name": "ipython",
    "version": 3
   },
   "file_extension": ".py",
   "mimetype": "text/x-python",
   "name": "python",
   "nbconvert_exporter": "python",
   "pygments_lexer": "ipython3",
   "version": "3.8.3"
  }
 },
 "nbformat": 4,
 "nbformat_minor": 4
}
