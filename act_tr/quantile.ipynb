{
 "cells": [
  {
   "cell_type": "code",
   "execution_count": 1,
   "metadata": {
    "ExecuteTime": {
     "end_time": "2021-02-11T14:14:48.743879Z",
     "start_time": "2021-02-11T14:14:48.551008Z"
    }
   },
   "outputs": [],
   "source": [
    "import numpy as np\n",
    "import pandas as pd"
   ]
  },
  {
   "cell_type": "code",
   "execution_count": 2,
   "metadata": {
    "ExecuteTime": {
     "end_time": "2021-02-11T14:17:24.420326Z",
     "start_time": "2021-02-11T14:17:24.415018Z"
    }
   },
   "outputs": [],
   "source": [
    "def find_quantiles(arr, n):\n",
    "    import numpy as np\n",
    "    import pandas as pd\n",
    "    \n",
    "    arr = pd.Series(arr)\n",
    "    \n",
    "    for i in np.arange(0, 1, 1/n):\n",
    "        yield arr.quantile(i), arr.quantile(i + 1/n)"
   ]
  },
  {
   "cell_type": "code",
   "execution_count": null,
   "metadata": {},
   "outputs": [],
   "source": [
    "def bins_quantile(cat_file, xprm='z', yprm='M500', n=10):\n",
    "    import numpy as np\n",
    "    import pandas as pd\n",
    "    \n",
    "    df = pd.read_csv(cat_file)\n",
    "    \n",
    "    for st, en in find_quantiles(cat_file[xprm], n):\n",
    "        "
   ]
  }
 ],
 "metadata": {
  "kernelspec": {
   "display_name": "Python 3",
   "language": "python",
   "name": "python3"
  },
  "language_info": {
   "codemirror_mode": {
    "name": "ipython",
    "version": 3
   },
   "file_extension": ".py",
   "mimetype": "text/x-python",
   "name": "python",
   "nbconvert_exporter": "python",
   "pygments_lexer": "ipython3",
   "version": "3.8.3"
  }
 },
 "nbformat": 4,
 "nbformat_minor": 4
}
