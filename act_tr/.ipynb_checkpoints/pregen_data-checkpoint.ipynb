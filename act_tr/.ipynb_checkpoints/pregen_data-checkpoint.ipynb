{
 "cells": [
  {
   "cell_type": "code",
   "execution_count": 1,
   "metadata": {
    "ExecuteTime": {
     "end_time": "2021-02-11T14:48:32.438148Z",
     "start_time": "2021-02-11T14:48:31.282746Z"
    }
   },
   "outputs": [],
   "source": [
    "import numpy as np\n",
    "import os\n",
    "import pandas as pd\n",
    "from tqdm.notebook import tqdm\n",
    "from DS_Planck_Unet import *\n",
    "from DS_healpix_fragmentation import one_pixel_fragmentation, matr2dict, radec2pix\n",
    "from matplotlib import pyplot as plt"
   ]
  },
  {
   "cell_type": "code",
   "execution_count": 4,
   "metadata": {
    "ExecuteTime": {
     "end_time": "2021-02-11T14:49:54.277451Z",
     "start_time": "2021-02-11T14:49:54.271997Z"
    }
   },
   "outputs": [],
   "source": [
    "clusters = ['/home/rt2122/Data/clusters/acts/act_q0.1_0.9.csv', '/home/rt2122/Data/clusters/planck_z.csv'] "
   ]
  },
  {
   "cell_type": "code",
   "execution_count": 3,
   "metadata": {
    "ExecuteTime": {
     "end_time": "2021-02-11T14:49:36.721062Z",
     "start_time": "2021-02-11T14:49:36.713906Z"
    }
   },
   "outputs": [],
   "source": [
    "pregen_pics = '/home/rt2122/Data/Planck/pregen_pics/'\n",
    "pregen_masks = '/home/rt2122/Data/Planck/pregen_masks_act_q_0.1_0.9/'"
   ]
  },
  {
   "cell_type": "code",
   "execution_count": 5,
   "metadata": {
    "ExecuteTime": {
     "end_time": "2021-02-11T14:54:14.171683Z",
     "start_time": "2021-02-11T14:49:56.868555Z"
    }
   },
   "outputs": [
    {
     "data": {
      "application/vnd.jupyter.widget-view+json": {
       "model_id": "5058114d8d3d4a64b27e732518fec475",
       "version_major": 2,
       "version_minor": 0
      },
      "text/plain": [
       "HBox(children=(FloatProgress(value=0.0, max=48.0), HTML(value='')))"
      ]
     },
     "metadata": {},
     "output_type": "display_data"
    },
    {
     "name": "stdout",
     "output_type": "stream",
     "text": [
      "\n"
     ]
    }
   ],
   "source": [
    "for i in tqdm(range(48)):\n",
    "    \n",
    "    matr = one_pixel_fragmentation(2, i, 10)\n",
    "    _, cl_df = pixels_with_clusters(clusters, i, 256, \n",
    "                                 min_rad = 2.0)\n",
    "    pic, mask = draw_pic_with_mask(None, \n",
    "                        clusters_arr=np.stack([cl_df['RA'], cl_df['DEC']]).T, \n",
    "                        matr=matr)\n",
    "    #np.save(os.path.join(pregen_pics, str(i)), pic)\n",
    "    np.save(os.path.join(pregen_masks, str(i)), mask)"
   ]
  },
  {
   "cell_type": "code",
   "execution_count": null,
   "metadata": {},
   "outputs": [],
   "source": []
  }
 ],
 "metadata": {
  "kernelspec": {
   "display_name": "Python 3",
   "language": "python",
   "name": "python3"
  },
  "language_info": {
   "codemirror_mode": {
    "name": "ipython",
    "version": 3
   },
   "file_extension": ".py",
   "mimetype": "text/x-python",
   "name": "python",
   "nbconvert_exporter": "python",
   "pygments_lexer": "ipython3",
   "version": "3.8.3"
  }
 },
 "nbformat": 4,
 "nbformat_minor": 4
}
