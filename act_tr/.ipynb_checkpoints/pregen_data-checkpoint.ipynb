{
 "cells": [
  {
   "cell_type": "code",
   "execution_count": 4,
   "metadata": {
    "ExecuteTime": {
     "end_time": "2021-02-12T22:35:04.711071Z",
     "start_time": "2021-02-12T22:35:04.703090Z"
    }
   },
   "outputs": [],
   "source": [
    "import numpy as np\n",
    "import os\n",
    "import pandas as pd\n",
    "from tqdm.notebook import tqdm\n",
    "from DS_Planck_Unet import *\n",
    "from DS_healpix_fragmentation import one_pixel_fragmentation, matr2dict, radec2pix\n",
    "from matplotlib import pyplot as plt"
   ]
  },
  {
   "cell_type": "code",
   "execution_count": 5,
   "metadata": {
    "ExecuteTime": {
     "end_time": "2021-02-12T22:35:04.994705Z",
     "start_time": "2021-02-12T22:35:04.991419Z"
    }
   },
   "outputs": [],
   "source": [
    "clusters = ['/home/rt2122/Data/clusters/acts/act_found_pz_rot_28.csv', \n",
    "            '/home/rt2122/Data/clusters/planck_z.csv'] "
   ]
  },
  {
   "cell_type": "code",
   "execution_count": 6,
   "metadata": {
    "ExecuteTime": {
     "end_time": "2021-02-12T22:35:05.317986Z",
     "start_time": "2021-02-12T22:35:05.313501Z"
    }
   },
   "outputs": [],
   "source": [
    "pregen_pics = '/home/rt2122/Data/Planck/pregen_pics/'\n",
    "pregen_masks = '/home/rt2122/Data/Planck/pregen_masks_act_found/'"
   ]
  },
  {
   "cell_type": "code",
   "execution_count": 7,
   "metadata": {
    "ExecuteTime": {
     "end_time": "2021-02-12T22:39:43.944691Z",
     "start_time": "2021-02-12T22:35:07.221171Z"
    }
   },
   "outputs": [
    {
     "data": {
      "application/vnd.jupyter.widget-view+json": {
       "model_id": "86be0cefb7234f499903b689d92bb48f",
       "version_major": 2,
       "version_minor": 0
      },
      "text/plain": [
       "HBox(children=(FloatProgress(value=0.0, max=48.0), HTML(value='')))"
      ]
     },
     "metadata": {},
     "output_type": "display_data"
    },
    {
     "name": "stdout",
     "output_type": "stream",
     "text": [
      "\n"
     ]
    }
   ],
   "source": [
    "for i in tqdm(range(48)):\n",
    "    \n",
    "    matr = one_pixel_fragmentation(2, i, 10)\n",
    "    _, cl_df = pixels_with_clusters(clusters, i, 256, \n",
    "                                 min_rad = 2.0)\n",
    "    pic, mask = draw_pic_with_mask(None, \n",
    "                        clusters_arr=np.stack([cl_df['RA'], cl_df['DEC']]).T, \n",
    "                        matr=matr)\n",
    "    #np.save(os.path.join(pregen_pics, str(i)), pic)\n",
    "    np.save(os.path.join(pregen_masks, str(i)), mask)"
   ]
  },
  {
   "cell_type": "code",
   "execution_count": null,
   "metadata": {},
   "outputs": [],
   "source": []
  }
 ],
 "metadata": {
  "kernelspec": {
   "display_name": "Python 3",
   "language": "python",
   "name": "python3"
  },
  "language_info": {
   "codemirror_mode": {
    "name": "ipython",
    "version": 3
   },
   "file_extension": ".py",
   "mimetype": "text/x-python",
   "name": "python",
   "nbconvert_exporter": "python",
   "pygments_lexer": "ipython3",
   "version": "3.8.3"
  }
 },
 "nbformat": 4,
 "nbformat_minor": 4
}
