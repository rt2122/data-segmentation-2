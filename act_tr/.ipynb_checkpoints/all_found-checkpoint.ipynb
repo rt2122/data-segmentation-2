{
 "cells": [
  {
   "cell_type": "code",
   "execution_count": 1,
   "metadata": {
    "ExecuteTime": {
     "end_time": "2021-02-15T17:03:04.395267Z",
     "start_time": "2021-02-15T17:02:58.983365Z"
    }
   },
   "outputs": [],
   "source": [
    "import numpy as np\n",
    "import pandas as pd"
   ]
  },
  {
   "cell_type": "code",
   "execution_count": 2,
   "metadata": {
    "ExecuteTime": {
     "end_time": "2021-02-15T17:04:14.964950Z",
     "start_time": "2021-02-15T17:04:14.718452Z"
    }
   },
   "outputs": [],
   "source": [
    "df = pd.read_csv('/home/rt2122/Data/detected_cats/full_pz_act_found2_22_thr0.1_step8.csv')"
   ]
  },
  {
   "cell_type": "code",
   "execution_count": 3,
   "metadata": {
    "ExecuteTime": {
     "end_time": "2021-02-15T17:04:56.735296Z",
     "start_time": "2021-02-15T17:04:56.666082Z"
    }
   },
   "outputs": [],
   "source": [
    "df = df[df['status'] == 'tp']\n",
    "df = df[df['catalog'] != 'planck_z']"
   ]
  },
  {
   "cell_type": "code",
   "execution_count": 4,
   "metadata": {
    "ExecuteTime": {
     "end_time": "2021-02-15T17:04:59.207560Z",
     "start_time": "2021-02-15T17:04:59.184722Z"
    }
   },
   "outputs": [
    {
     "data": {
      "text/plain": [
       "1249"
      ]
     },
     "execution_count": 4,
     "metadata": {},
     "output_type": "execute_result"
    }
   ],
   "source": [
    "len(df)"
   ]
  },
  {
   "cell_type": "code",
   "execution_count": 6,
   "metadata": {
    "ExecuteTime": {
     "end_time": "2021-02-15T17:05:52.732621Z",
     "start_time": "2021-02-15T17:05:52.729781Z"
    }
   },
   "outputs": [],
   "source": [
    "df['RA'] = df['tRA']\n",
    "df['DEC'] = df['tDEC']"
   ]
  },
  {
   "cell_type": "code",
   "execution_count": 7,
   "metadata": {
    "ExecuteTime": {
     "end_time": "2021-02-15T17:07:00.026234Z",
     "start_time": "2021-02-15T17:06:59.941169Z"
    }
   },
   "outputs": [],
   "source": [
    "df[['RA', 'DEC', 'catalog']].to_csv('/home/rt2122/Data/clusters/acts/all_found.csv', index=False)"
   ]
  },
  {
   "cell_type": "code",
   "execution_count": null,
   "metadata": {},
   "outputs": [],
   "source": []
  }
 ],
 "metadata": {
  "kernelspec": {
   "display_name": "Python 3",
   "language": "python",
   "name": "python3"
  },
  "language_info": {
   "codemirror_mode": {
    "name": "ipython",
    "version": 3
   },
   "file_extension": ".py",
   "mimetype": "text/x-python",
   "name": "python",
   "nbconvert_exporter": "python",
   "pygments_lexer": "ipython3",
   "version": "3.8.3"
  }
 },
 "nbformat": 4,
 "nbformat_minor": 4
}
