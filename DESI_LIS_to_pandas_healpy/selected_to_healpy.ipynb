{
 "cells": [
  {
   "cell_type": "code",
   "execution_count": 1,
   "metadata": {
    "ExecuteTime": {
     "end_time": "2020-07-10T10:17:49.977490Z",
     "start_time": "2020-07-10T10:17:48.788474Z"
    }
   },
   "outputs": [],
   "source": [
    "from os.path import join\n",
    "from os import walk\n",
    "import pandas as pd\n",
    "import healpy as hp\n",
    "import numpy as np\n",
    "from astropy import units as u\n",
    "from astropy.coordinates import SkyCoord\n",
    "from tqdm.notebook import tqdm\n",
    "import threading"
   ]
  },
  {
   "cell_type": "code",
   "execution_count": 2,
   "metadata": {
    "ExecuteTime": {
     "end_time": "2020-07-10T10:17:50.853518Z",
     "start_time": "2020-07-10T10:17:50.843343Z"
    }
   },
   "outputs": [],
   "source": [
    "def radec2pix(ra, dec, nside):\n",
    "    c = SkyCoord(ra=ra*u.degree, dec=dec*u.degree, frame='icrs')\n",
    "    \n",
    "    l = c.galactic.l.degree\n",
    "    b = c.galactic.b.degree\n",
    "    \n",
    "    return hp.ang2pix(nside, l, b, nest=True, lonlat=True)"
   ]
  },
  {
   "cell_type": "code",
   "execution_count": 12,
   "metadata": {
    "ExecuteTime": {
     "end_time": "2020-07-10T10:20:09.627912Z",
     "start_time": "2020-07-10T10:20:09.618347Z"
    }
   },
   "outputs": [],
   "source": [
    "def selected_to_healpy(origdir, filename, findir, nside):\n",
    "    \n",
    "    table = pd.read_csv(join(origdir, filename), index_col='index')\n",
    "    table.index = np.arange(table.shape[0])\n",
    "    table['npix'] = np.NaN\n",
    "\n",
    "    ra = np.array(table['RA'])\n",
    "    dec = np.array(table['DEC'])\n",
    "    table['npix'] = radec2pix(ra, dec, nside)\n",
    "    table.index.name='index'\n",
    "    table.to_csv(join(findir, 'nside_' + str(nside) + filename))"
   ]
  },
  {
   "cell_type": "code",
   "execution_count": 13,
   "metadata": {
    "ExecuteTime": {
     "end_time": "2020-07-10T10:20:12.700371Z",
     "start_time": "2020-07-10T10:20:10.408616Z"
    }
   },
   "outputs": [],
   "source": [
    "selected_to_healpy('/home/rt2122/Data/selected_north/', 'sweep-150p050-160p055.csv', \n",
    "                   '/home/rt2122/Data/north_pix/', 512)"
   ]
  },
  {
   "cell_type": "code",
   "execution_count": 14,
   "metadata": {
    "ExecuteTime": {
     "end_time": "2020-07-10T10:20:14.199774Z",
     "start_time": "2020-07-10T10:20:13.974042Z"
    }
   },
   "outputs": [
    {
     "data": {
      "text/html": [
       "<div>\n",
       "<style scoped>\n",
       "    .dataframe tbody tr th:only-of-type {\n",
       "        vertical-align: middle;\n",
       "    }\n",
       "\n",
       "    .dataframe tbody tr th {\n",
       "        vertical-align: top;\n",
       "    }\n",
       "\n",
       "    .dataframe thead th {\n",
       "        text-align: right;\n",
       "    }\n",
       "</style>\n",
       "<table border=\"1\" class=\"dataframe\">\n",
       "  <thead>\n",
       "    <tr style=\"text-align: right;\">\n",
       "      <th></th>\n",
       "      <th>BRICKID</th>\n",
       "      <th>RA</th>\n",
       "      <th>DEC</th>\n",
       "      <th>FLUX_G</th>\n",
       "      <th>FLUX_R</th>\n",
       "      <th>FLUX_Z</th>\n",
       "      <th>FLUX_W1</th>\n",
       "      <th>FLUX_W2</th>\n",
       "      <th>FLUX_W3</th>\n",
       "      <th>FLUX_W4</th>\n",
       "      <th>npix</th>\n",
       "    </tr>\n",
       "    <tr>\n",
       "      <th>index</th>\n",
       "      <th></th>\n",
       "      <th></th>\n",
       "      <th></th>\n",
       "      <th></th>\n",
       "      <th></th>\n",
       "      <th></th>\n",
       "      <th></th>\n",
       "      <th></th>\n",
       "      <th></th>\n",
       "      <th></th>\n",
       "      <th></th>\n",
       "    </tr>\n",
       "  </thead>\n",
       "  <tbody>\n",
       "    <tr>\n",
       "      <th>0</th>\n",
       "      <td>601061</td>\n",
       "      <td>155.154441</td>\n",
       "      <td>54.627220</td>\n",
       "      <td>0.437298</td>\n",
       "      <td>0.833180</td>\n",
       "      <td>1.110131</td>\n",
       "      <td>-17.775790</td>\n",
       "      <td>5.131460</td>\n",
       "      <td>-0.951051</td>\n",
       "      <td>-67.833530</td>\n",
       "      <td>385429</td>\n",
       "    </tr>\n",
       "    <tr>\n",
       "      <th>1</th>\n",
       "      <td>601061</td>\n",
       "      <td>155.179560</td>\n",
       "      <td>54.625992</td>\n",
       "      <td>0.086432</td>\n",
       "      <td>0.517316</td>\n",
       "      <td>1.160431</td>\n",
       "      <td>2.708611</td>\n",
       "      <td>1.031565</td>\n",
       "      <td>-40.575610</td>\n",
       "      <td>-431.941220</td>\n",
       "      <td>385429</td>\n",
       "    </tr>\n",
       "    <tr>\n",
       "      <th>2</th>\n",
       "      <td>601061</td>\n",
       "      <td>154.996849</td>\n",
       "      <td>54.626928</td>\n",
       "      <td>38.270237</td>\n",
       "      <td>68.789970</td>\n",
       "      <td>106.425580</td>\n",
       "      <td>79.402970</td>\n",
       "      <td>52.157444</td>\n",
       "      <td>236.747150</td>\n",
       "      <td>21.125671</td>\n",
       "      <td>385343</td>\n",
       "    </tr>\n",
       "    <tr>\n",
       "      <th>3</th>\n",
       "      <td>601061</td>\n",
       "      <td>155.000979</td>\n",
       "      <td>54.628108</td>\n",
       "      <td>0.774508</td>\n",
       "      <td>2.091712</td>\n",
       "      <td>8.493885</td>\n",
       "      <td>29.833971</td>\n",
       "      <td>13.815964</td>\n",
       "      <td>60.465540</td>\n",
       "      <td>769.855100</td>\n",
       "      <td>385343</td>\n",
       "    </tr>\n",
       "    <tr>\n",
       "      <th>4</th>\n",
       "      <td>601061</td>\n",
       "      <td>155.003931</td>\n",
       "      <td>54.627518</td>\n",
       "      <td>0.566023</td>\n",
       "      <td>1.041511</td>\n",
       "      <td>2.184387</td>\n",
       "      <td>11.005062</td>\n",
       "      <td>11.851215</td>\n",
       "      <td>42.392258</td>\n",
       "      <td>-307.422760</td>\n",
       "      <td>385343</td>\n",
       "    </tr>\n",
       "  </tbody>\n",
       "</table>\n",
       "</div>"
      ],
      "text/plain": [
       "       BRICKID          RA        DEC     FLUX_G     FLUX_R      FLUX_Z  \\\n",
       "index                                                                     \n",
       "0       601061  155.154441  54.627220   0.437298   0.833180    1.110131   \n",
       "1       601061  155.179560  54.625992   0.086432   0.517316    1.160431   \n",
       "2       601061  154.996849  54.626928  38.270237  68.789970  106.425580   \n",
       "3       601061  155.000979  54.628108   0.774508   2.091712    8.493885   \n",
       "4       601061  155.003931  54.627518   0.566023   1.041511    2.184387   \n",
       "\n",
       "         FLUX_W1    FLUX_W2     FLUX_W3     FLUX_W4    npix  \n",
       "index                                                        \n",
       "0     -17.775790   5.131460   -0.951051  -67.833530  385429  \n",
       "1       2.708611   1.031565  -40.575610 -431.941220  385429  \n",
       "2      79.402970  52.157444  236.747150   21.125671  385343  \n",
       "3      29.833971  13.815964   60.465540  769.855100  385343  \n",
       "4      11.005062  11.851215   42.392258 -307.422760  385343  "
      ]
     },
     "execution_count": 14,
     "metadata": {},
     "output_type": "execute_result"
    }
   ],
   "source": [
    "t = pd.read_csv('/home/rt2122/Data/north_pix/nside_512sweep-150p050-160p055.csv', \n",
    "                index_col='index')\n",
    "t.head()"
   ]
  },
  {
   "cell_type": "code",
   "execution_count": 16,
   "metadata": {
    "ExecuteTime": {
     "end_time": "2020-07-10T10:21:16.090964Z",
     "start_time": "2020-07-10T10:21:16.081552Z"
    }
   },
   "outputs": [
    {
     "data": {
      "text/plain": [
       "['sweep-150p060-160p065.csv',\n",
       " 'sweep-160p055-170p060.csv',\n",
       " 'sweep-160p060-170p065.csv',\n",
       " 'sweep-150p055-160p060.csv',\n",
       " 'sweep-150p050-160p055.csv',\n",
       " 'sweep-160p050-170p055.csv']"
      ]
     },
     "execution_count": 16,
     "metadata": {},
     "output_type": "execute_result"
    }
   ],
   "source": [
    "orig_dir = '/home/rt2122/Data/selected_north/'\n",
    "files = next(walk(orig_dir))[-1]\n",
    "fin_dir = '/home/rt2122/Data/north_pix/'\n",
    "files"
   ]
  },
  {
   "cell_type": "code",
   "execution_count": 17,
   "metadata": {
    "ExecuteTime": {
     "end_time": "2020-07-10T10:22:36.049839Z",
     "start_time": "2020-07-10T10:21:54.807489Z"
    }
   },
   "outputs": [
    {
     "name": "stderr",
     "output_type": "stream",
     "text": [
      "/home/rt2122/anaconda3/lib/python3.7/site-packages/numpy/lib/arraysetops.py:569: FutureWarning: elementwise comparison failed; returning scalar instead, but in the future will perform elementwise comparison\n",
      "  mask |= (ar1 == a)\n"
     ]
    }
   ],
   "source": [
    "for file in files:\n",
    "    selected_to_healpy(orig_dir, file, fin_dir, 512)"
   ]
  },
  {
   "cell_type": "code",
   "execution_count": null,
   "metadata": {},
   "outputs": [],
   "source": []
  }
 ],
 "metadata": {
  "kernelspec": {
   "display_name": "Python 3",
   "language": "python",
   "name": "python3"
  },
  "language_info": {
   "codemirror_mode": {
    "name": "ipython",
    "version": 3
   },
   "file_extension": ".py",
   "mimetype": "text/x-python",
   "name": "python",
   "nbconvert_exporter": "python",
   "pygments_lexer": "ipython3",
   "version": "3.7.6"
  }
 },
 "nbformat": 4,
 "nbformat_minor": 4
}
