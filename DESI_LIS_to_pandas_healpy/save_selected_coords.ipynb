{
 "cells": [
  {
   "cell_type": "code",
   "execution_count": 1,
   "metadata": {
    "ExecuteTime": {
     "end_time": "2020-07-10T10:10:13.010262Z",
     "start_time": "2020-07-10T10:10:12.643303Z"
    }
   },
   "outputs": [],
   "source": [
    "from DS_coordinates import line_in_field\n",
    "import pandas as pd\n",
    "import numpy as np\n",
    "from astropy.io import fits\n",
    "from os.path import join\n",
    "from tqdm.notebook import tqdm\n",
    "import threading \n",
    "from os import walk\n",
    "from os.path import splitext"
   ]
  },
  {
   "cell_type": "code",
   "execution_count": null,
   "metadata": {
    "ExecuteTime": {
     "end_time": "2020-07-09T08:23:39.538076Z",
     "start_time": "2020-07-09T08:23:39.499569Z"
    }
   },
   "outputs": [],
   "source": [
    "a = ['f', 'g', 'h']\n",
    "z = dict(zip(a, [[] for i in range(len(a))]))\n",
    "d = pd.DataFrame(columns=a)\n",
    "d"
   ]
  },
  {
   "cell_type": "code",
   "execution_count": 2,
   "metadata": {
    "ExecuteTime": {
     "end_time": "2020-07-10T10:10:15.276612Z",
     "start_time": "2020-07-10T10:10:15.262692Z"
    }
   },
   "outputs": [],
   "source": [
    "def save_selected_coords(dirname, filename, selected_dir,\n",
    "                         selected_columns=['BRICKID', 'RA', 'DEC', 'FLUX_G', 'FLUX_R', \n",
    "                                            'FLUX_Z', 'FLUX_W1', 'FLUX_W2', 'FLUX_W3', \n",
    "                                            'FLUX_W4']):\n",
    "    \n",
    "    with fits.open(join(dirname, filename)) as hdul:\n",
    "        orig_table = hdul[1].data\n",
    "        fin_table = pd.DataFrame(columns=selected_columns)\n",
    "        \n",
    "        \n",
    "        selected_index = line_in_field(orig_table)\n",
    "        for col in selected_columns:\n",
    "            fin_table[col] = np.array(orig_table[selected_index][col])\n",
    "        \n",
    "        fin_table.index = np.arange(fin_table.shape[0])\n",
    "        print('Size of original table: ', orig_table.shape[0])\n",
    "        print('Size of selected table: ', fin_table.shape[0])\n",
    "        fin_table.index.name = 'index'\n",
    "        fin_table.to_csv(join(selected_dir, splitext(filename)[0] + '.csv'))"
   ]
  },
  {
   "cell_type": "code",
   "execution_count": 3,
   "metadata": {
    "ExecuteTime": {
     "end_time": "2020-07-10T10:10:18.270317Z",
     "start_time": "2020-07-10T10:10:18.195599Z"
    }
   },
   "outputs": [
    {
     "data": {
      "text/plain": [
       "['sweep-150p060-160p065.fits',\n",
       " 'sweep-150p055-160p060.fits',\n",
       " 'sweep-160p050-170p055.fits',\n",
       " 'sweep-160p055-170p060.fits',\n",
       " 'sweep-150p050-160p055.fits',\n",
       " 'sweep-160p060-170p065.fits']"
      ]
     },
     "execution_count": 3,
     "metadata": {},
     "output_type": "execute_result"
    }
   ],
   "source": [
    "dirname = '/home/rt2122/Data/north/'\n",
    "filenames = next(walk(dirname))[-1]\n",
    "selected_dir = '/home/rt2122/Data/selected_north/'\n",
    "filenames"
   ]
  },
  {
   "cell_type": "code",
   "execution_count": 4,
   "metadata": {
    "ExecuteTime": {
     "end_time": "2020-07-10T10:11:46.307985Z",
     "start_time": "2020-07-10T10:10:22.248256Z"
    }
   },
   "outputs": [
    {
     "data": {
      "application/vnd.jupyter.widget-view+json": {
       "model_id": "94f1545cf1d347c5ab7a4c0f0da1128f",
       "version_major": 2,
       "version_minor": 0
      },
      "text/plain": [
       "HBox(children=(FloatProgress(value=0.0, max=4.0), HTML(value='')))"
      ]
     },
     "metadata": {},
     "output_type": "display_data"
    },
    {
     "name": "stdout",
     "output_type": "stream",
     "text": [
      "Size of original table:  1747470\n",
      "Size of selected table:  175221\n",
      "Size of original table:  1560630\n",
      "Size of selected table:  1123688\n",
      "Size of original table:  1704308\n",
      "Size of selected table:  124564\n",
      "Size of original table:  1291295\n",
      "Size of selected table:  249164\n",
      "\n"
     ]
    }
   ],
   "source": [
    "for file in tqdm(filenames[2:]):\n",
    "    save_selected_coords(dirname, file, selected_dir)"
   ]
  },
  {
   "cell_type": "code",
   "execution_count": 5,
   "metadata": {
    "ExecuteTime": {
     "end_time": "2020-07-10T10:11:46.321534Z",
     "start_time": "2020-07-10T10:11:46.310250Z"
    }
   },
   "outputs": [
    {
     "data": {
      "text/plain": [
       "['sweep-150p060-160p065.fits',\n",
       " 'sweep-150p055-160p060.fits',\n",
       " 'sweep-160p050-170p055.fits',\n",
       " 'sweep-160p055-170p060.fits',\n",
       " 'sweep-150p050-160p055.fits',\n",
       " 'sweep-160p060-170p065.fits']"
      ]
     },
     "execution_count": 5,
     "metadata": {},
     "output_type": "execute_result"
    }
   ],
   "source": [
    "dirname = '/home/rt2122/Data/south/'\n",
    "filenames = next(walk(dirname))[-1]\n",
    "selected_dir = '/home/rt2122/Data/selected_south/'\n",
    "filenames"
   ]
  },
  {
   "cell_type": "code",
   "execution_count": 6,
   "metadata": {
    "ExecuteTime": {
     "end_time": "2020-07-10T10:19:20.982418Z",
     "start_time": "2020-07-10T10:17:09.418380Z"
    }
   },
   "outputs": [
    {
     "data": {
      "application/vnd.jupyter.widget-view+json": {
       "model_id": "9935609e6d59491d8cb55f94dfd8b9ee",
       "version_major": 2,
       "version_minor": 0
      },
      "text/plain": [
       "HBox(children=(FloatProgress(value=0.0, max=6.0), HTML(value='')))"
      ]
     },
     "metadata": {},
     "output_type": "display_data"
    },
    {
     "name": "stdout",
     "output_type": "stream",
     "text": [
      "Size of original table:  1288114\n",
      "Size of selected table:  177373\n",
      "Size of original table:  1491129\n",
      "Size of selected table:  785985\n",
      "Size of original table:  1747470\n",
      "Size of selected table:  175221\n",
      "Size of original table:  1560630\n",
      "Size of selected table:  1123688\n",
      "Size of original table:  1704308\n",
      "Size of selected table:  124564\n",
      "Size of original table:  1291295\n",
      "Size of selected table:  249164\n",
      "\n"
     ]
    }
   ],
   "source": [
    "for file in tqdm(filenames):\n",
    "    save_selected_coords(dirname, file, selected_dir)"
   ]
  },
  {
   "cell_type": "code",
   "execution_count": null,
   "metadata": {},
   "outputs": [],
   "source": []
  }
 ],
 "metadata": {
  "kernelspec": {
   "display_name": "Python 3",
   "language": "python",
   "name": "python3"
  },
  "language_info": {
   "codemirror_mode": {
    "name": "ipython",
    "version": 3
   },
   "file_extension": ".py",
   "mimetype": "text/x-python",
   "name": "python",
   "nbconvert_exporter": "python",
   "pygments_lexer": "ipython3",
   "version": "3.7.0"
  }
 },
 "nbformat": 4,
 "nbformat_minor": 4
}
