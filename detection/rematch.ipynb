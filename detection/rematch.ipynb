{
 "cells": [
  {
   "cell_type": "code",
   "execution_count": 2,
   "metadata": {
    "ExecuteTime": {
     "end_time": "2021-01-30T11:56:55.054989Z",
     "start_time": "2021-01-30T11:56:55.052391Z"
    }
   },
   "outputs": [],
   "source": [
    "import numpy as np\n",
    "import pandas as pd\n",
    "from DS_detector import pack_all_catalogs"
   ]
  },
  {
   "cell_type": "code",
   "execution_count": 7,
   "metadata": {
    "ExecuteTime": {
     "end_time": "2021-01-30T12:07:40.658673Z",
     "start_time": "2021-01-30T12:07:40.635588Z"
    }
   },
   "outputs": [],
   "source": [
    "def rematch_cat(name, clusters_dir='/home/rt2122/Data/clusters/', tp_dist=5/60):\n",
    "    import numpy as np\n",
    "    import pandas as pd\n",
    "    import os\n",
    "    from astropy.coordinates import SkyCoord\n",
    "    from astropy import units as u\n",
    "    \n",
    "    res_cat = pd.read_csv(name)\n",
    "    true_clusters = pack_all_catalogs(clusters_dir)\n",
    "    \n",
    "    if 'status' in list(res_cat):\n",
    "        res_cat = res_cat[res_cat['status'] != 'fn']\n",
    "        res_cat.index = np.arange(len(res_cat))\n",
    "    \n",
    "    res_cat_sc = SkyCoord(ra=np.array(res_cat['RA'])*u.degree, \n",
    "                          dec=np.array(res_cat['DEC'])*u.degree, frame='icrs')\n",
    "    true_clusters_sc = SkyCoord(ra=true_clusters['RA']*u.degree, \n",
    "                               dec=true_clusters['DEC']*u.degree)\n",
    "    \n",
    "    idx, d2d, _ = res_cat_sc.match_to_catalog_sky(true_clusters_sc)\n",
    "    matched = d2d.degree <= tp_dist\n",
    "    \n",
    "    res_cat['status'] = 'fp'\n",
    "    res_cat['status'].iloc[matched] = 'tp'\n",
    "    res_cat['catalog'] = ''\n",
    "    res_cat['catalog'].iloc[matched] = np.array(\n",
    "        true_clusters['catalog'][idx[matched]])\n",
    "    res_cat['tRA'] = np.nan\n",
    "    res_cat['tRA'].iloc[matched] = np.array(true_clusters['RA'][idx[matched]])\n",
    "    res_cat['tDEC'] = np.nan\n",
    "    res_cat['tDEC'].iloc[matched] = np.array(true_clusters['DEC'][idx[matched]])\n",
    "    res_cat['M500'] = np.nan\n",
    "    res_cat['M500'].iloc[matched] = np.array(true_clusters['M500'][idx[matched]])\n",
    "    res_cat['z'] = np.nan\n",
    "    res_cat['z'].iloc[matched] = np.array(true_clusters['z'][idx[matched]])\n",
    "    \n",
    "    res_cat_tp = res_cat[res_cat['status'] == 'tp']\n",
    "    res_cat_tp = res_cat_tp.drop_duplicates(subset=['tRA', 'tDEC'])\n",
    "    res_cat = pd.concat([res_cat[res_cat['status'] != 'tp'], res_cat_tp], \n",
    "                        ignore_index=True)\n",
    " \n",
    "    \n",
    "    true_clusters['found'] = False\n",
    "    true_clusters['found'].iloc[idx[matched]] = True\n",
    "    true_clusters['status'] = 'fn'\n",
    "    true_clusters['tRA'] = true_clusters['RA']\n",
    "    true_clusters['tDEC'] = true_clusters['DEC']\n",
    "    \n",
    "    res_cat = pd.concat([res_cat, true_clusters[['RA', 'DEC', 'status', 'catalog', 'M500', 'z', \n",
    "                            'tRA', 'tDEC']]\n",
    "                         [true_clusters['found']==False]], ignore_index=True)\n",
    "    return res_cat\n"
   ]
  },
  {
   "cell_type": "code",
   "execution_count": 8,
   "metadata": {
    "ExecuteTime": {
     "end_time": "2021-01-30T12:07:42.759984Z",
     "start_time": "2021-01-30T12:07:40.911848Z"
    }
   },
   "outputs": [
    {
     "name": "stderr",
     "output_type": "stream",
     "text": [
      "/home/rt2122/anaconda3/lib/python3.8/site-packages/pandas/core/indexing.py:671: SettingWithCopyWarning: \n",
      "A value is trying to be set on a copy of a slice from a DataFrame\n",
      "\n",
      "See the caveats in the documentation: https://pandas.pydata.org/pandas-docs/stable/user_guide/indexing.html#returning-a-view-versus-a-copy\n",
      "  self._setitem_with_indexer(indexer, value)\n"
     ]
    }
   ],
   "source": [
    "df = rematch_cat('/home/rt2122/Data/detected_cats/full_pz_act_tr9_thr0.1_step8.csv')"
   ]
  },
  {
   "cell_type": "code",
   "execution_count": 10,
   "metadata": {
    "ExecuteTime": {
     "end_time": "2021-01-30T12:08:19.806597Z",
     "start_time": "2021-01-30T12:08:19.799020Z"
    }
   },
   "outputs": [],
   "source": [
    "act = df[df['catalog'] == 'act_tr_wp']"
   ]
  },
  {
   "cell_type": "code",
   "execution_count": 11,
   "metadata": {
    "ExecuteTime": {
     "end_time": "2021-01-30T12:08:41.146272Z",
     "start_time": "2021-01-30T12:08:41.132905Z"
    }
   },
   "outputs": [
    {
     "data": {
      "text/plain": [
       "0.19357092941998602"
      ]
     },
     "execution_count": 11,
     "metadata": {},
     "output_type": "execute_result"
    }
   ],
   "source": [
    "np.count_nonzero(act['status'] == 'tp') / len(act)"
   ]
  },
  {
   "cell_type": "code",
   "execution_count": 12,
   "metadata": {
    "ExecuteTime": {
     "end_time": "2021-01-30T12:09:09.262204Z",
     "start_time": "2021-01-30T12:09:09.010517Z"
    }
   },
   "outputs": [],
   "source": [
    "df.to_csv('/home/rt2122/Data/detected_cats/full_pz_act_tr9_thr0.1_step8.csv', index=False)"
   ]
  },
  {
   "cell_type": "code",
   "execution_count": null,
   "metadata": {},
   "outputs": [],
   "source": []
  }
 ],
 "metadata": {
  "kernelspec": {
   "display_name": "Python 3",
   "language": "python",
   "name": "python3"
  },
  "language_info": {
   "codemirror_mode": {
    "name": "ipython",
    "version": 3
   },
   "file_extension": ".py",
   "mimetype": "text/x-python",
   "name": "python",
   "nbconvert_exporter": "python",
   "pygments_lexer": "ipython3",
   "version": "3.8.3"
  }
 },
 "nbformat": 4,
 "nbformat_minor": 4
}
