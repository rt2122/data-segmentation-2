{
 "cells": [
  {
   "cell_type": "code",
   "execution_count": 1,
   "id": "5df510e3",
   "metadata": {
    "ExecuteTime": {
     "end_time": "2021-08-17T09:26:19.253681Z",
     "start_time": "2021-08-17T09:26:11.191851Z"
    }
   },
   "outputs": [],
   "source": [
    "import numpy as np\n",
    "import pandas as pd\n",
    "from DS_models_stat import simple_recall, calc_corr_b\n",
    "from tqdm.notebook import tqdm"
   ]
  },
  {
   "cell_type": "code",
   "execution_count": 2,
   "id": "ea7ff106",
   "metadata": {
    "ExecuteTime": {
     "end_time": "2021-08-17T09:26:19.261524Z",
     "start_time": "2021-08-17T09:26:19.256200Z"
    }
   },
   "outputs": [],
   "source": [
    "rads = np.arange(400/3600, 1200/3600, 200/3600)\n",
    "det_cats = {'SZcat(AL)' : '/home/rt2122/Data/detected_cats/full_pz_all_found34_thr0.1_step8_no_fn.csv',\n",
    "           'SZcat(gen)' : '/home/rt2122/Data/gen_cats/gen_all_found_brcat_prec0.00.csv'}\n",
    "true_cats = {\n",
    "            'PSZ2(z)' : '/home/rt2122/Data/clusters/planck_z.csv',\n",
    "            'MCXC' : '/home/rt2122/Data/original_catalogs/csv/MCXC.csv',\n",
    "            'ACT' : '/home/rt2122/Data/original_catalogs/csv/ACT.csv',\n",
    "            'eROSITA' : '/home/rt2122/Data/SRGz/clusters/clusters1_b20_edit.csv'\n",
    "            }"
   ]
  },
  {
   "cell_type": "code",
   "execution_count": 3,
   "id": "9e27b759",
   "metadata": {
    "ExecuteTime": {
     "end_time": "2021-08-17T10:26:03.456081Z",
     "start_time": "2021-08-17T09:26:19.263713Z"
    }
   },
   "outputs": [
    {
     "data": {
      "application/vnd.jupyter.widget-view+json": {
       "model_id": "1311002c53524e418e81653bdc8577e1",
       "version_major": 2,
       "version_minor": 0
      },
      "text/plain": [
       "  0%|          | 0/4 [00:00<?, ?it/s]"
      ]
     },
     "metadata": {},
     "output_type": "display_data"
    },
    {
     "data": {
      "application/vnd.jupyter.widget-view+json": {
       "model_id": "6d7a2793208a4569a08d05f9ac81e124",
       "version_major": 2,
       "version_minor": 0
      },
      "text/plain": [
       "  0%|          | 0/2 [00:00<?, ?it/s]"
      ]
     },
     "metadata": {},
     "output_type": "display_data"
    },
    {
     "data": {
      "application/vnd.jupyter.widget-view+json": {
       "model_id": "1bf1b3432f4e488caf7bf567a947b732",
       "version_major": 2,
       "version_minor": 0
      },
      "text/plain": [
       "  0%|          | 0/2 [00:00<?, ?it/s]"
      ]
     },
     "metadata": {},
     "output_type": "display_data"
    },
    {
     "data": {
      "application/vnd.jupyter.widget-view+json": {
       "model_id": "7263f9eeaa364e2c83dc3e28f48c1c22",
       "version_major": 2,
       "version_minor": 0
      },
      "text/plain": [
       "  0%|          | 0/2 [00:00<?, ?it/s]"
      ]
     },
     "metadata": {},
     "output_type": "display_data"
    },
    {
     "data": {
      "application/vnd.jupyter.widget-view+json": {
       "model_id": "b8edb05e1b10459384e0062d8dc92047",
       "version_major": 2,
       "version_minor": 0
      },
      "text/plain": [
       "  0%|          | 0/2 [00:00<?, ?it/s]"
      ]
     },
     "metadata": {},
     "output_type": "display_data"
    }
   ],
   "source": [
    "true_d = {}\n",
    "for tr_name in tqdm(true_cats):\n",
    "    true_cat = pd.read_csv(true_cats[tr_name])\n",
    "    cur_d = {}\n",
    "    for det_name in tqdm(det_cats):\n",
    "        det_cat = pd.read_csv(det_cats[det_name])\n",
    "        df_lines = []\n",
    "        for rad in rads:\n",
    "            line = {}\n",
    "            line['recall'] = simple_recall(det_cat, true_cat, match=rad)\n",
    "            line['coef'], line['%false'], line['%not_found'] = calc_corr_b(det_cat, true_cat, \n",
    "                                                small_rads=[0, rad], get_coefs=True)\n",
    "            line['corr_recall'] = line['recall'] * line['coef']\n",
    "            df_lines.append(pd.DataFrame(line, index=[int(rad*3600)]))\n",
    "        cur_d[det_name] = pd.concat(df_lines)\n",
    "    true_d[tr_name] = cur_d"
   ]
  },
  {
   "cell_type": "code",
   "execution_count": 4,
   "id": "99060c1b",
   "metadata": {
    "ExecuteTime": {
     "end_time": "2021-08-17T10:26:03.553617Z",
     "start_time": "2021-08-17T10:26:03.457498Z"
    }
   },
   "outputs": [
    {
     "data": {
      "text/html": [
       "<div>\n",
       "<style scoped>\n",
       "    .dataframe tbody tr th:only-of-type {\n",
       "        vertical-align: middle;\n",
       "    }\n",
       "\n",
       "    .dataframe tbody tr th {\n",
       "        vertical-align: top;\n",
       "    }\n",
       "\n",
       "    .dataframe thead th {\n",
       "        text-align: right;\n",
       "    }\n",
       "</style>\n",
       "<table border=\"1\" class=\"dataframe\">\n",
       "  <thead>\n",
       "    <tr style=\"text-align: right;\">\n",
       "      <th></th>\n",
       "      <th>recall</th>\n",
       "      <th>coef</th>\n",
       "      <th>%false</th>\n",
       "      <th>%not_found</th>\n",
       "      <th>corr_recall</th>\n",
       "    </tr>\n",
       "  </thead>\n",
       "  <tbody>\n",
       "    <tr>\n",
       "      <th>400</th>\n",
       "      <td>0.111976</td>\n",
       "      <td>0.857450</td>\n",
       "      <td>0.201649</td>\n",
       "      <td>0.074027</td>\n",
       "      <td>0.096014</td>\n",
       "    </tr>\n",
       "    <tr>\n",
       "      <th>600</th>\n",
       "      <td>0.148004</td>\n",
       "      <td>0.693639</td>\n",
       "      <td>0.339314</td>\n",
       "      <td>0.049877</td>\n",
       "      <td>0.102661</td>\n",
       "    </tr>\n",
       "    <tr>\n",
       "      <th>800</th>\n",
       "      <td>0.186200</td>\n",
       "      <td>0.545647</td>\n",
       "      <td>0.468473</td>\n",
       "      <td>0.026565</td>\n",
       "      <td>0.101600</td>\n",
       "    </tr>\n",
       "    <tr>\n",
       "      <th>1000</th>\n",
       "      <td>0.228388</td>\n",
       "      <td>0.419478</td>\n",
       "      <td>0.580522</td>\n",
       "      <td>0.000000</td>\n",
       "      <td>0.095804</td>\n",
       "    </tr>\n",
       "  </tbody>\n",
       "</table>\n",
       "</div>"
      ],
      "text/plain": [
       "        recall      coef    %false  %not_found  corr_recall\n",
       "400   0.111976  0.857450  0.201649    0.074027     0.096014\n",
       "600   0.148004  0.693639  0.339314    0.049877     0.102661\n",
       "800   0.186200  0.545647  0.468473    0.026565     0.101600\n",
       "1000  0.228388  0.419478  0.580522    0.000000     0.095804"
      ]
     },
     "execution_count": 4,
     "metadata": {},
     "output_type": "execute_result"
    }
   ],
   "source": [
    "true_d['eROSITA']['SZcat(AL)']"
   ]
  },
  {
   "cell_type": "code",
   "execution_count": 5,
   "id": "a7f7a5ef",
   "metadata": {
    "ExecuteTime": {
     "end_time": "2021-08-17T10:26:03.672249Z",
     "start_time": "2021-08-17T10:26:03.556850Z"
    }
   },
   "outputs": [
    {
     "data": {
      "text/html": [
       "<div>\n",
       "<style scoped>\n",
       "    .dataframe tbody tr th:only-of-type {\n",
       "        vertical-align: middle;\n",
       "    }\n",
       "\n",
       "    .dataframe tbody tr th {\n",
       "        vertical-align: top;\n",
       "    }\n",
       "\n",
       "    .dataframe thead th {\n",
       "        text-align: right;\n",
       "    }\n",
       "</style>\n",
       "<table border=\"1\" class=\"dataframe\">\n",
       "  <thead>\n",
       "    <tr style=\"text-align: right;\">\n",
       "      <th></th>\n",
       "      <th>recall</th>\n",
       "      <th>coef</th>\n",
       "      <th>%false</th>\n",
       "      <th>%not_found</th>\n",
       "      <th>corr_recall</th>\n",
       "    </tr>\n",
       "  </thead>\n",
       "  <tbody>\n",
       "    <tr>\n",
       "      <th>400</th>\n",
       "      <td>0.142188</td>\n",
       "      <td>0.844114</td>\n",
       "      <td>0.240519</td>\n",
       "      <td>0.111434</td>\n",
       "      <td>0.120023</td>\n",
       "    </tr>\n",
       "    <tr>\n",
       "      <th>600</th>\n",
       "      <td>0.192065</td>\n",
       "      <td>0.655708</td>\n",
       "      <td>0.389822</td>\n",
       "      <td>0.074618</td>\n",
       "      <td>0.125939</td>\n",
       "    </tr>\n",
       "    <tr>\n",
       "      <th>800</th>\n",
       "      <td>0.244800</td>\n",
       "      <td>0.493865</td>\n",
       "      <td>0.524688</td>\n",
       "      <td>0.039034</td>\n",
       "      <td>0.120898</td>\n",
       "    </tr>\n",
       "    <tr>\n",
       "      <th>1000</th>\n",
       "      <td>0.304091</td>\n",
       "      <td>0.363531</td>\n",
       "      <td>0.636469</td>\n",
       "      <td>0.000000</td>\n",
       "      <td>0.110546</td>\n",
       "    </tr>\n",
       "  </tbody>\n",
       "</table>\n",
       "</div>"
      ],
      "text/plain": [
       "        recall      coef    %false  %not_found  corr_recall\n",
       "400   0.142188  0.844114  0.240519    0.111434     0.120023\n",
       "600   0.192065  0.655708  0.389822    0.074618     0.125939\n",
       "800   0.244800  0.493865  0.524688    0.039034     0.120898\n",
       "1000  0.304091  0.363531  0.636469    0.000000     0.110546"
      ]
     },
     "execution_count": 5,
     "metadata": {},
     "output_type": "execute_result"
    }
   ],
   "source": [
    "true_d['eROSITA']['SZcat(gen)']"
   ]
  },
  {
   "cell_type": "code",
   "execution_count": 6,
   "id": "8fd06344",
   "metadata": {
    "ExecuteTime": {
     "end_time": "2021-08-17T10:26:03.773607Z",
     "start_time": "2021-08-17T10:26:03.678048Z"
    }
   },
   "outputs": [
    {
     "data": {
      "text/html": [
       "<div>\n",
       "<style scoped>\n",
       "    .dataframe tbody tr th:only-of-type {\n",
       "        vertical-align: middle;\n",
       "    }\n",
       "\n",
       "    .dataframe tbody tr th {\n",
       "        vertical-align: top;\n",
       "    }\n",
       "\n",
       "    .dataframe thead th {\n",
       "        text-align: right;\n",
       "    }\n",
       "</style>\n",
       "<table border=\"1\" class=\"dataframe\">\n",
       "  <thead>\n",
       "    <tr style=\"text-align: right;\">\n",
       "      <th></th>\n",
       "      <th>recall</th>\n",
       "      <th>coef</th>\n",
       "      <th>%false</th>\n",
       "      <th>%not_found</th>\n",
       "      <th>corr_recall</th>\n",
       "    </tr>\n",
       "  </thead>\n",
       "  <tbody>\n",
       "    <tr>\n",
       "      <th>400</th>\n",
       "      <td>0.989945</td>\n",
       "      <td>1.047096</td>\n",
       "      <td>0.013331</td>\n",
       "      <td>0.061243</td>\n",
       "      <td>1.036567</td>\n",
       "    </tr>\n",
       "    <tr>\n",
       "      <th>600</th>\n",
       "      <td>0.995430</td>\n",
       "      <td>1.014906</td>\n",
       "      <td>0.029452</td>\n",
       "      <td>0.045704</td>\n",
       "      <td>1.010268</td>\n",
       "    </tr>\n",
       "    <tr>\n",
       "      <th>800</th>\n",
       "      <td>0.997258</td>\n",
       "      <td>0.972944</td>\n",
       "      <td>0.051336</td>\n",
       "      <td>0.025594</td>\n",
       "      <td>0.970276</td>\n",
       "    </tr>\n",
       "    <tr>\n",
       "      <th>1000</th>\n",
       "      <td>0.997258</td>\n",
       "      <td>0.922136</td>\n",
       "      <td>0.077864</td>\n",
       "      <td>0.000000</td>\n",
       "      <td>0.919607</td>\n",
       "    </tr>\n",
       "  </tbody>\n",
       "</table>\n",
       "</div>"
      ],
      "text/plain": [
       "        recall      coef    %false  %not_found  corr_recall\n",
       "400   0.989945  1.047096  0.013331    0.061243     1.036567\n",
       "600   0.995430  1.014906  0.029452    0.045704     1.010268\n",
       "800   0.997258  0.972944  0.051336    0.025594     0.970276\n",
       "1000  0.997258  0.922136  0.077864    0.000000     0.919607"
      ]
     },
     "execution_count": 6,
     "metadata": {},
     "output_type": "execute_result"
    }
   ],
   "source": [
    "true_d['PSZ2(z)']['SZcat(AL)']"
   ]
  },
  {
   "cell_type": "code",
   "execution_count": 7,
   "id": "eed9c6b7",
   "metadata": {
    "ExecuteTime": {
     "end_time": "2021-08-17T10:26:03.874034Z",
     "start_time": "2021-08-17T10:26:03.778103Z"
    }
   },
   "outputs": [
    {
     "data": {
      "text/html": [
       "<div>\n",
       "<style scoped>\n",
       "    .dataframe tbody tr th:only-of-type {\n",
       "        vertical-align: middle;\n",
       "    }\n",
       "\n",
       "    .dataframe tbody tr th {\n",
       "        vertical-align: top;\n",
       "    }\n",
       "\n",
       "    .dataframe thead th {\n",
       "        text-align: right;\n",
       "    }\n",
       "</style>\n",
       "<table border=\"1\" class=\"dataframe\">\n",
       "  <thead>\n",
       "    <tr style=\"text-align: right;\">\n",
       "      <th></th>\n",
       "      <th>recall</th>\n",
       "      <th>coef</th>\n",
       "      <th>%false</th>\n",
       "      <th>%not_found</th>\n",
       "      <th>corr_recall</th>\n",
       "    </tr>\n",
       "  </thead>\n",
       "  <tbody>\n",
       "    <tr>\n",
       "      <th>400</th>\n",
       "      <td>0.994516</td>\n",
       "      <td>1.095343</td>\n",
       "      <td>0.021792</td>\n",
       "      <td>0.119744</td>\n",
       "      <td>1.089335</td>\n",
       "    </tr>\n",
       "    <tr>\n",
       "      <th>600</th>\n",
       "      <td>0.997258</td>\n",
       "      <td>1.041112</td>\n",
       "      <td>0.047679</td>\n",
       "      <td>0.093236</td>\n",
       "      <td>1.038257</td>\n",
       "    </tr>\n",
       "    <tr>\n",
       "      <th>800</th>\n",
       "      <td>0.999086</td>\n",
       "      <td>0.963914</td>\n",
       "      <td>0.081427</td>\n",
       "      <td>0.049360</td>\n",
       "      <td>0.963033</td>\n",
       "    </tr>\n",
       "    <tr>\n",
       "      <th>1000</th>\n",
       "      <td>0.999086</td>\n",
       "      <td>0.878714</td>\n",
       "      <td>0.121286</td>\n",
       "      <td>0.000000</td>\n",
       "      <td>0.877910</td>\n",
       "    </tr>\n",
       "  </tbody>\n",
       "</table>\n",
       "</div>"
      ],
      "text/plain": [
       "        recall      coef    %false  %not_found  corr_recall\n",
       "400   0.994516  1.095343  0.021792    0.119744     1.089335\n",
       "600   0.997258  1.041112  0.047679    0.093236     1.038257\n",
       "800   0.999086  0.963914  0.081427    0.049360     0.963033\n",
       "1000  0.999086  0.878714  0.121286    0.000000     0.877910"
      ]
     },
     "execution_count": 7,
     "metadata": {},
     "output_type": "execute_result"
    }
   ],
   "source": [
    "true_d['PSZ2(z)']['SZcat(gen)']"
   ]
  },
  {
   "cell_type": "code",
   "execution_count": 8,
   "id": "2845d354",
   "metadata": {
    "ExecuteTime": {
     "end_time": "2021-08-17T10:26:03.973615Z",
     "start_time": "2021-08-17T10:26:03.879159Z"
    }
   },
   "outputs": [
    {
     "data": {
      "text/html": [
       "<div>\n",
       "<style scoped>\n",
       "    .dataframe tbody tr th:only-of-type {\n",
       "        vertical-align: middle;\n",
       "    }\n",
       "\n",
       "    .dataframe tbody tr th {\n",
       "        vertical-align: top;\n",
       "    }\n",
       "\n",
       "    .dataframe thead th {\n",
       "        text-align: right;\n",
       "    }\n",
       "</style>\n",
       "<table border=\"1\" class=\"dataframe\">\n",
       "  <thead>\n",
       "    <tr style=\"text-align: right;\">\n",
       "      <th></th>\n",
       "      <th>recall</th>\n",
       "      <th>coef</th>\n",
       "      <th>%false</th>\n",
       "      <th>%not_found</th>\n",
       "      <th>corr_recall</th>\n",
       "    </tr>\n",
       "  </thead>\n",
       "  <tbody>\n",
       "    <tr>\n",
       "      <th>400</th>\n",
       "      <td>0.473322</td>\n",
       "      <td>1.080532</td>\n",
       "      <td>0.045913</td>\n",
       "      <td>0.132530</td>\n",
       "      <td>0.511440</td>\n",
       "    </tr>\n",
       "    <tr>\n",
       "      <th>600</th>\n",
       "      <td>0.520367</td>\n",
       "      <td>0.981481</td>\n",
       "      <td>0.091974</td>\n",
       "      <td>0.080895</td>\n",
       "      <td>0.510730</td>\n",
       "    </tr>\n",
       "    <tr>\n",
       "      <th>800</th>\n",
       "      <td>0.549627</td>\n",
       "      <td>0.886829</td>\n",
       "      <td>0.151157</td>\n",
       "      <td>0.044750</td>\n",
       "      <td>0.487425</td>\n",
       "    </tr>\n",
       "    <tr>\n",
       "      <th>1000</th>\n",
       "      <td>0.580608</td>\n",
       "      <td>0.783014</td>\n",
       "      <td>0.216986</td>\n",
       "      <td>0.000000</td>\n",
       "      <td>0.454624</td>\n",
       "    </tr>\n",
       "  </tbody>\n",
       "</table>\n",
       "</div>"
      ],
      "text/plain": [
       "        recall      coef    %false  %not_found  corr_recall\n",
       "400   0.473322  1.080532  0.045913    0.132530     0.511440\n",
       "600   0.520367  0.981481  0.091974    0.080895     0.510730\n",
       "800   0.549627  0.886829  0.151157    0.044750     0.487425\n",
       "1000  0.580608  0.783014  0.216986    0.000000     0.454624"
      ]
     },
     "execution_count": 8,
     "metadata": {},
     "output_type": "execute_result"
    }
   ],
   "source": [
    "true_d['MCXC']['SZcat(AL)']"
   ]
  },
  {
   "cell_type": "code",
   "execution_count": 9,
   "id": "5c912dbc",
   "metadata": {
    "ExecuteTime": {
     "end_time": "2021-08-17T10:26:04.072752Z",
     "start_time": "2021-08-17T10:26:03.978615Z"
    }
   },
   "outputs": [
    {
     "data": {
      "text/html": [
       "<div>\n",
       "<style scoped>\n",
       "    .dataframe tbody tr th:only-of-type {\n",
       "        vertical-align: middle;\n",
       "    }\n",
       "\n",
       "    .dataframe tbody tr th {\n",
       "        vertical-align: top;\n",
       "    }\n",
       "\n",
       "    .dataframe thead th {\n",
       "        text-align: right;\n",
       "    }\n",
       "</style>\n",
       "<table border=\"1\" class=\"dataframe\">\n",
       "  <thead>\n",
       "    <tr style=\"text-align: right;\">\n",
       "      <th></th>\n",
       "      <th>recall</th>\n",
       "      <th>coef</th>\n",
       "      <th>%false</th>\n",
       "      <th>%not_found</th>\n",
       "      <th>corr_recall</th>\n",
       "    </tr>\n",
       "  </thead>\n",
       "  <tbody>\n",
       "    <tr>\n",
       "      <th>400</th>\n",
       "      <td>0.506024</td>\n",
       "      <td>1.121612</td>\n",
       "      <td>0.057846</td>\n",
       "      <td>0.190476</td>\n",
       "      <td>0.567563</td>\n",
       "    </tr>\n",
       "    <tr>\n",
       "      <th>600</th>\n",
       "      <td>0.556512</td>\n",
       "      <td>0.992330</td>\n",
       "      <td>0.113009</td>\n",
       "      <td>0.118761</td>\n",
       "      <td>0.552244</td>\n",
       "    </tr>\n",
       "    <tr>\n",
       "      <th>800</th>\n",
       "      <td>0.589788</td>\n",
       "      <td>0.871974</td>\n",
       "      <td>0.181997</td>\n",
       "      <td>0.065978</td>\n",
       "      <td>0.514279</td>\n",
       "    </tr>\n",
       "    <tr>\n",
       "      <th>1000</th>\n",
       "      <td>0.627080</td>\n",
       "      <td>0.744604</td>\n",
       "      <td>0.255396</td>\n",
       "      <td>0.000000</td>\n",
       "      <td>0.466926</td>\n",
       "    </tr>\n",
       "  </tbody>\n",
       "</table>\n",
       "</div>"
      ],
      "text/plain": [
       "        recall      coef    %false  %not_found  corr_recall\n",
       "400   0.506024  1.121612  0.057846    0.190476     0.567563\n",
       "600   0.556512  0.992330  0.113009    0.118761     0.552244\n",
       "800   0.589788  0.871974  0.181997    0.065978     0.514279\n",
       "1000  0.627080  0.744604  0.255396    0.000000     0.466926"
      ]
     },
     "execution_count": 9,
     "metadata": {},
     "output_type": "execute_result"
    }
   ],
   "source": [
    "true_d['MCXC']['SZcat(gen)']"
   ]
  },
  {
   "cell_type": "code",
   "execution_count": 10,
   "id": "aba2b02a",
   "metadata": {
    "ExecuteTime": {
     "end_time": "2021-08-17T10:26:04.173715Z",
     "start_time": "2021-08-17T10:26:04.079072Z"
    }
   },
   "outputs": [
    {
     "data": {
      "text/html": [
       "<div>\n",
       "<style scoped>\n",
       "    .dataframe tbody tr th:only-of-type {\n",
       "        vertical-align: middle;\n",
       "    }\n",
       "\n",
       "    .dataframe tbody tr th {\n",
       "        vertical-align: top;\n",
       "    }\n",
       "\n",
       "    .dataframe thead th {\n",
       "        text-align: right;\n",
       "    }\n",
       "</style>\n",
       "<table border=\"1\" class=\"dataframe\">\n",
       "  <thead>\n",
       "    <tr style=\"text-align: right;\">\n",
       "      <th></th>\n",
       "      <th>recall</th>\n",
       "      <th>coef</th>\n",
       "      <th>%false</th>\n",
       "      <th>%not_found</th>\n",
       "      <th>corr_recall</th>\n",
       "    </tr>\n",
       "  </thead>\n",
       "  <tbody>\n",
       "    <tr>\n",
       "      <th>400</th>\n",
       "      <td>0.262694</td>\n",
       "      <td>1.009083</td>\n",
       "      <td>0.090633</td>\n",
       "      <td>0.109654</td>\n",
       "      <td>0.265080</td>\n",
       "    </tr>\n",
       "    <tr>\n",
       "      <th>600</th>\n",
       "      <td>0.299881</td>\n",
       "      <td>0.885663</td>\n",
       "      <td>0.177109</td>\n",
       "      <td>0.076281</td>\n",
       "      <td>0.265593</td>\n",
       "    </tr>\n",
       "    <tr>\n",
       "      <th>800</th>\n",
       "      <td>0.335399</td>\n",
       "      <td>0.752700</td>\n",
       "      <td>0.277112</td>\n",
       "      <td>0.041240</td>\n",
       "      <td>0.252455</td>\n",
       "    </tr>\n",
       "    <tr>\n",
       "      <th>1000</th>\n",
       "      <td>0.380215</td>\n",
       "      <td>0.629419</td>\n",
       "      <td>0.370581</td>\n",
       "      <td>0.000000</td>\n",
       "      <td>0.239314</td>\n",
       "    </tr>\n",
       "  </tbody>\n",
       "</table>\n",
       "</div>"
      ],
      "text/plain": [
       "        recall      coef    %false  %not_found  corr_recall\n",
       "400   0.262694  1.009083  0.090633    0.109654     0.265080\n",
       "600   0.299881  0.885663  0.177109    0.076281     0.265593\n",
       "800   0.335399  0.752700  0.277112    0.041240     0.252455\n",
       "1000  0.380215  0.629419  0.370581    0.000000     0.239314"
      ]
     },
     "execution_count": 10,
     "metadata": {},
     "output_type": "execute_result"
    }
   ],
   "source": [
    "true_d['ACT']['SZcat(AL)']"
   ]
  },
  {
   "cell_type": "code",
   "execution_count": 11,
   "id": "58fa32d2",
   "metadata": {
    "ExecuteTime": {
     "end_time": "2021-08-17T10:26:04.275849Z",
     "start_time": "2021-08-17T10:26:04.178654Z"
    }
   },
   "outputs": [
    {
     "data": {
      "text/html": [
       "<div>\n",
       "<style scoped>\n",
       "    .dataframe tbody tr th:only-of-type {\n",
       "        vertical-align: middle;\n",
       "    }\n",
       "\n",
       "    .dataframe tbody tr th {\n",
       "        vertical-align: top;\n",
       "    }\n",
       "\n",
       "    .dataframe thead th {\n",
       "        text-align: right;\n",
       "    }\n",
       "</style>\n",
       "<table border=\"1\" class=\"dataframe\">\n",
       "  <thead>\n",
       "    <tr style=\"text-align: right;\">\n",
       "      <th></th>\n",
       "      <th>recall</th>\n",
       "      <th>coef</th>\n",
       "      <th>%false</th>\n",
       "      <th>%not_found</th>\n",
       "      <th>corr_recall</th>\n",
       "    </tr>\n",
       "  </thead>\n",
       "  <tbody>\n",
       "    <tr>\n",
       "      <th>400</th>\n",
       "      <td>0.290346</td>\n",
       "      <td>1.027193</td>\n",
       "      <td>0.101528</td>\n",
       "      <td>0.143266</td>\n",
       "      <td>0.298241</td>\n",
       "    </tr>\n",
       "    <tr>\n",
       "      <th>600</th>\n",
       "      <td>0.331347</td>\n",
       "      <td>0.884572</td>\n",
       "      <td>0.195582</td>\n",
       "      <td>0.099642</td>\n",
       "      <td>0.293100</td>\n",
       "    </tr>\n",
       "    <tr>\n",
       "      <th>800</th>\n",
       "      <td>0.372348</td>\n",
       "      <td>0.736900</td>\n",
       "      <td>0.300770</td>\n",
       "      <td>0.053874</td>\n",
       "      <td>0.274383</td>\n",
       "    </tr>\n",
       "    <tr>\n",
       "      <th>1000</th>\n",
       "      <td>0.423838</td>\n",
       "      <td>0.600997</td>\n",
       "      <td>0.399003</td>\n",
       "      <td>0.000000</td>\n",
       "      <td>0.254725</td>\n",
       "    </tr>\n",
       "  </tbody>\n",
       "</table>\n",
       "</div>"
      ],
      "text/plain": [
       "        recall      coef    %false  %not_found  corr_recall\n",
       "400   0.290346  1.027193  0.101528    0.143266     0.298241\n",
       "600   0.331347  0.884572  0.195582    0.099642     0.293100\n",
       "800   0.372348  0.736900  0.300770    0.053874     0.274383\n",
       "1000  0.423838  0.600997  0.399003    0.000000     0.254725"
      ]
     },
     "execution_count": 11,
     "metadata": {},
     "output_type": "execute_result"
    }
   ],
   "source": [
    "true_d['ACT']['SZcat(gen)']"
   ]
  },
  {
   "cell_type": "code",
   "execution_count": null,
   "id": "51c03b36",
   "metadata": {},
   "outputs": [],
   "source": []
  }
 ],
 "metadata": {
  "kernelspec": {
   "display_name": "Python 3",
   "language": "python",
   "name": "python3"
  },
  "language_info": {
   "codemirror_mode": {
    "name": "ipython",
    "version": 3
   },
   "file_extension": ".py",
   "mimetype": "text/x-python",
   "name": "python",
   "nbconvert_exporter": "python",
   "pygments_lexer": "ipython3",
   "version": "3.8.8"
  }
 },
 "nbformat": 4,
 "nbformat_minor": 5
}
