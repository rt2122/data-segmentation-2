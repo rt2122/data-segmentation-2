{
 "cells": [
  {
   "cell_type": "code",
   "execution_count": 1,
   "id": "5df510e3",
   "metadata": {
    "ExecuteTime": {
     "end_time": "2021-08-13T18:22:50.543295Z",
     "start_time": "2021-08-13T18:22:50.281690Z"
    }
   },
   "outputs": [],
   "source": [
    "import numpy as np\n",
    "import pandas as pd\n",
    "from DS_models_stat import simple_recall, calc_corr_b\n",
    "from tqdm.notebook import tqdm"
   ]
  },
  {
   "cell_type": "code",
   "execution_count": 2,
   "id": "ea7ff106",
   "metadata": {
    "ExecuteTime": {
     "end_time": "2021-08-13T18:22:55.564437Z",
     "start_time": "2021-08-13T18:22:55.557180Z"
    }
   },
   "outputs": [],
   "source": [
    "rads = np.arange(400/3600, 1200/3600, 200/3600)\n",
    "det_cats = {'SZcat(AL)' : '/home/rt2122/Data/detected_cats/full_pz_all_found34_thr0.1_step8_no_fn.csv',\n",
    "           'SZcat(gen)' : '/home/rt2122/Data/gen_cats/gen_all_found_brcat_prec0.00.csv'}\n",
    "true_cats = {\n",
    "            #'PSZ2(z)' : '/home/rt2122/Data/clusters/planck_z.csv',\n",
    "            #'MCXC' : '/home/rt2122/Data/original_catalogs/csv/MCXC.csv',\n",
    "            #'ACT' : '/home/rt2122/Data/original_catalogs/csv/ACT.csv',\n",
    "            'eROSITA' : '/home/rt2122/Data/SRGz/clusters/clusters1_b20_edit.csv'\n",
    "            }"
   ]
  },
  {
   "cell_type": "code",
   "execution_count": 3,
   "id": "9e27b759",
   "metadata": {
    "ExecuteTime": {
     "end_time": "2021-08-13T18:44:41.389593Z",
     "start_time": "2021-08-13T18:22:59.135016Z"
    }
   },
   "outputs": [
    {
     "data": {
      "application/vnd.jupyter.widget-view+json": {
       "model_id": "6929544465474b81b7528b6068aa94b1",
       "version_major": 2,
       "version_minor": 0
      },
      "text/plain": [
       "  0%|          | 0/1 [00:00<?, ?it/s]"
      ]
     },
     "metadata": {},
     "output_type": "display_data"
    },
    {
     "data": {
      "application/vnd.jupyter.widget-view+json": {
       "model_id": "1fec8e84a41b49299d0fa336da7573ec",
       "version_major": 2,
       "version_minor": 0
      },
      "text/plain": [
       "  0%|          | 0/2 [00:00<?, ?it/s]"
      ]
     },
     "metadata": {},
     "output_type": "display_data"
    }
   ],
   "source": [
    "true_d = {}\n",
    "for tr_name in tqdm(true_cats):\n",
    "    true_cat = pd.read_csv(true_cats[tr_name])\n",
    "    cur_d = {}\n",
    "    for det_name in tqdm(det_cats):\n",
    "        det_cat = pd.read_csv(det_cats[det_name])\n",
    "        df_lines = []\n",
    "        for rad in rads:\n",
    "            line = {}\n",
    "            line['recall'] = simple_recall(det_cat, true_cat, match=rad)\n",
    "            line['coef'], line['%false'], line['%not_found'] = calc_corr_b(det_cat, true_cat, \n",
    "                                                small_rads=[0, rad], get_coefs=True)\n",
    "            line['corr_recall'] = line['recall'] * line['coef']\n",
    "            df_lines.append(pd.DataFrame(line, index=[int(rad*3600)]))\n",
    "        cur_d[det_name] = pd.concat(df_lines)\n",
    "    true_d[tr_name] = cur_d"
   ]
  },
  {
   "cell_type": "code",
   "execution_count": 4,
   "id": "99060c1b",
   "metadata": {
    "ExecuteTime": {
     "end_time": "2021-08-13T18:44:41.406644Z",
     "start_time": "2021-08-13T18:44:41.391027Z"
    }
   },
   "outputs": [
    {
     "data": {
      "text/html": [
       "<div>\n",
       "<style scoped>\n",
       "    .dataframe tbody tr th:only-of-type {\n",
       "        vertical-align: middle;\n",
       "    }\n",
       "\n",
       "    .dataframe tbody tr th {\n",
       "        vertical-align: top;\n",
       "    }\n",
       "\n",
       "    .dataframe thead th {\n",
       "        text-align: right;\n",
       "    }\n",
       "</style>\n",
       "<table border=\"1\" class=\"dataframe\">\n",
       "  <thead>\n",
       "    <tr style=\"text-align: right;\">\n",
       "      <th></th>\n",
       "      <th>recall</th>\n",
       "      <th>coef</th>\n",
       "      <th>%false</th>\n",
       "      <th>%not_found</th>\n",
       "      <th>corr_recall</th>\n",
       "    </tr>\n",
       "  </thead>\n",
       "  <tbody>\n",
       "    <tr>\n",
       "      <th>400</th>\n",
       "      <td>0.111976</td>\n",
       "      <td>0.857450</td>\n",
       "      <td>0.201649</td>\n",
       "      <td>0.074027</td>\n",
       "      <td>0.096014</td>\n",
       "    </tr>\n",
       "    <tr>\n",
       "      <th>600</th>\n",
       "      <td>0.148004</td>\n",
       "      <td>0.693639</td>\n",
       "      <td>0.339314</td>\n",
       "      <td>0.049877</td>\n",
       "      <td>0.102661</td>\n",
       "    </tr>\n",
       "    <tr>\n",
       "      <th>800</th>\n",
       "      <td>0.186200</td>\n",
       "      <td>0.545647</td>\n",
       "      <td>0.468473</td>\n",
       "      <td>0.026565</td>\n",
       "      <td>0.101600</td>\n",
       "    </tr>\n",
       "    <tr>\n",
       "      <th>1000</th>\n",
       "      <td>0.228388</td>\n",
       "      <td>0.419478</td>\n",
       "      <td>0.580522</td>\n",
       "      <td>0.000000</td>\n",
       "      <td>0.095804</td>\n",
       "    </tr>\n",
       "  </tbody>\n",
       "</table>\n",
       "</div>"
      ],
      "text/plain": [
       "        recall      coef    %false  %not_found  corr_recall\n",
       "400   0.111976  0.857450  0.201649    0.074027     0.096014\n",
       "600   0.148004  0.693639  0.339314    0.049877     0.102661\n",
       "800   0.186200  0.545647  0.468473    0.026565     0.101600\n",
       "1000  0.228388  0.419478  0.580522    0.000000     0.095804"
      ]
     },
     "execution_count": 4,
     "metadata": {},
     "output_type": "execute_result"
    }
   ],
   "source": [
    "true_d['eROSITA']['SZcat(AL)']"
   ]
  },
  {
   "cell_type": "code",
   "execution_count": 5,
   "id": "a7f7a5ef",
   "metadata": {
    "ExecuteTime": {
     "end_time": "2021-08-13T18:44:41.509358Z",
     "start_time": "2021-08-13T18:44:41.407924Z"
    }
   },
   "outputs": [
    {
     "data": {
      "text/html": [
       "<div>\n",
       "<style scoped>\n",
       "    .dataframe tbody tr th:only-of-type {\n",
       "        vertical-align: middle;\n",
       "    }\n",
       "\n",
       "    .dataframe tbody tr th {\n",
       "        vertical-align: top;\n",
       "    }\n",
       "\n",
       "    .dataframe thead th {\n",
       "        text-align: right;\n",
       "    }\n",
       "</style>\n",
       "<table border=\"1\" class=\"dataframe\">\n",
       "  <thead>\n",
       "    <tr style=\"text-align: right;\">\n",
       "      <th></th>\n",
       "      <th>recall</th>\n",
       "      <th>coef</th>\n",
       "      <th>%false</th>\n",
       "      <th>%not_found</th>\n",
       "      <th>corr_recall</th>\n",
       "    </tr>\n",
       "  </thead>\n",
       "  <tbody>\n",
       "    <tr>\n",
       "      <th>400</th>\n",
       "      <td>0.142188</td>\n",
       "      <td>0.844114</td>\n",
       "      <td>0.240519</td>\n",
       "      <td>0.111434</td>\n",
       "      <td>0.120023</td>\n",
       "    </tr>\n",
       "    <tr>\n",
       "      <th>600</th>\n",
       "      <td>0.192065</td>\n",
       "      <td>0.655708</td>\n",
       "      <td>0.389822</td>\n",
       "      <td>0.074618</td>\n",
       "      <td>0.125939</td>\n",
       "    </tr>\n",
       "    <tr>\n",
       "      <th>800</th>\n",
       "      <td>0.244800</td>\n",
       "      <td>0.493865</td>\n",
       "      <td>0.524688</td>\n",
       "      <td>0.039034</td>\n",
       "      <td>0.120898</td>\n",
       "    </tr>\n",
       "    <tr>\n",
       "      <th>1000</th>\n",
       "      <td>0.304091</td>\n",
       "      <td>0.363531</td>\n",
       "      <td>0.636469</td>\n",
       "      <td>0.000000</td>\n",
       "      <td>0.110546</td>\n",
       "    </tr>\n",
       "  </tbody>\n",
       "</table>\n",
       "</div>"
      ],
      "text/plain": [
       "        recall      coef    %false  %not_found  corr_recall\n",
       "400   0.142188  0.844114  0.240519    0.111434     0.120023\n",
       "600   0.192065  0.655708  0.389822    0.074618     0.125939\n",
       "800   0.244800  0.493865  0.524688    0.039034     0.120898\n",
       "1000  0.304091  0.363531  0.636469    0.000000     0.110546"
      ]
     },
     "execution_count": 5,
     "metadata": {},
     "output_type": "execute_result"
    }
   ],
   "source": [
    "true_d['eROSITA']['SZcat(gen)']"
   ]
  },
  {
   "cell_type": "code",
   "execution_count": null,
   "id": "8fd06344",
   "metadata": {},
   "outputs": [],
   "source": []
  }
 ],
 "metadata": {
  "kernelspec": {
   "display_name": "Python 3",
   "language": "python",
   "name": "python3"
  },
  "language_info": {
   "codemirror_mode": {
    "name": "ipython",
    "version": 3
   },
   "file_extension": ".py",
   "mimetype": "text/x-python",
   "name": "python",
   "nbconvert_exporter": "python",
   "pygments_lexer": "ipython3",
   "version": "3.8.8"
  }
 },
 "nbformat": 4,
 "nbformat_minor": 5
}
