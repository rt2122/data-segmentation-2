{
 "cells": [
  {
   "cell_type": "code",
   "execution_count": 1,
   "id": "0e033a42",
   "metadata": {
    "ExecuteTime": {
     "end_time": "2021-08-09T15:34:30.985397Z",
     "start_time": "2021-08-09T15:34:24.407110Z"
    }
   },
   "outputs": [],
   "source": [
    "import numpy as np\n",
    "import pandas as pd\n",
    "from DS_models_stat import calc_corr_b\n",
    "from DS_models_stat import cut_cat"
   ]
  },
  {
   "cell_type": "code",
   "execution_count": 2,
   "id": "58784a12",
   "metadata": {
    "ExecuteTime": {
     "end_time": "2021-08-09T15:34:31.258596Z",
     "start_time": "2021-08-09T15:34:30.995998Z"
    }
   },
   "outputs": [],
   "source": [
    "eRosita = pd.read_csv('/home/rt2122/Data/SRGz/clusters/clusters1_b20_edit.csv')\n",
    "cats = {'SZcat(AL)' : '/home/rt2122/Data/detected_cats/full_pz_all_found34_thr0.1_step8_no_fn.csv',\n",
    "       'SZcat(gen)' : '/home/rt2122/Data/gen_cats/gen_all_found_brcat_prec0.00.csv'}"
   ]
  },
  {
   "cell_type": "code",
   "execution_count": 7,
   "id": "ef62bfb6",
   "metadata": {
    "ExecuteTime": {
     "end_time": "2021-08-09T16:14:04.826118Z",
     "start_time": "2021-08-09T16:03:43.683436Z"
    }
   },
   "outputs": [],
   "source": [
    "df = []\n",
    "for rad in np.arange(400/3600, 1200/3600, 200/3600):\n",
    "    line = {}\n",
    "    for name in cats:\n",
    "        det = cut_cat(pd.read_csv(cats[name]), dict_cut={'l' : [0, 180], 'b' : [20, np.inf]})\n",
    "        line[name] = 1-calc_corr_b(det, eRosita, small_rads=[0, rad])\n",
    "    df.append(pd.DataFrame(line, index=[rad]))\n",
    "df = pd.concat(df)"
   ]
  },
  {
   "cell_type": "code",
   "execution_count": 8,
   "id": "62fe6c73",
   "metadata": {
    "ExecuteTime": {
     "end_time": "2021-08-09T16:14:04.838033Z",
     "start_time": "2021-08-09T16:14:04.827477Z"
    }
   },
   "outputs": [
    {
     "data": {
      "text/html": [
       "<div>\n",
       "<style scoped>\n",
       "    .dataframe tbody tr th:only-of-type {\n",
       "        vertical-align: middle;\n",
       "    }\n",
       "\n",
       "    .dataframe tbody tr th {\n",
       "        vertical-align: top;\n",
       "    }\n",
       "\n",
       "    .dataframe thead th {\n",
       "        text-align: right;\n",
       "    }\n",
       "</style>\n",
       "<table border=\"1\" class=\"dataframe\">\n",
       "  <thead>\n",
       "    <tr style=\"text-align: right;\">\n",
       "      <th></th>\n",
       "      <th>SZcat(AL)</th>\n",
       "      <th>SZcat(gen)</th>\n",
       "    </tr>\n",
       "  </thead>\n",
       "  <tbody>\n",
       "    <tr>\n",
       "      <th>400</th>\n",
       "      <td>0.200644</td>\n",
       "      <td>0.239609</td>\n",
       "    </tr>\n",
       "    <tr>\n",
       "      <th>600</th>\n",
       "      <td>0.338103</td>\n",
       "      <td>0.388744</td>\n",
       "    </tr>\n",
       "    <tr>\n",
       "      <th>800</th>\n",
       "      <td>0.466800</td>\n",
       "      <td>0.523405</td>\n",
       "    </tr>\n",
       "    <tr>\n",
       "      <th>1000</th>\n",
       "      <td>0.578879</td>\n",
       "      <td>0.635167</td>\n",
       "    </tr>\n",
       "  </tbody>\n",
       "</table>\n",
       "</div>"
      ],
      "text/plain": [
       "      SZcat(AL)  SZcat(gen)\n",
       "400    0.200644    0.239609\n",
       "600    0.338103    0.388744\n",
       "800    0.466800    0.523405\n",
       "1000   0.578879    0.635167"
      ]
     },
     "execution_count": 8,
     "metadata": {},
     "output_type": "execute_result"
    }
   ],
   "source": [
    "df.index = np.int32(df.index * 3600)\n",
    "df #%ложных"
   ]
  },
  {
   "cell_type": "code",
   "execution_count": 3,
   "id": "10bdd5c1",
   "metadata": {
    "ExecuteTime": {
     "end_time": "2021-08-06T13:26:53.809877Z",
     "start_time": "2021-08-06T13:26:53.798034Z"
    }
   },
   "outputs": [],
   "source": [
    "def simple_recall(det_cat, true_cat, match=400/3600):\n",
    "    from astropy.coordinates import SkyCoord\n",
    "    from astropy import units as u\n",
    "    \n",
    "    det_sc = SkyCoord(ra=np.array(det_cat['RA'])*u.degree, dec=np.array(det_cat['DEC'])*u.degree, frame='icrs')\n",
    "    tr_sc = SkyCoord(ra=np.array(true_cat['RA'])*u.degree, dec=np.array(true_cat['DEC'])*u.degree, frame='icrs')\n",
    "    \n",
    "    _, d2d, _ = tr_sc.match_to_catalog_sky(det_sc)\n",
    "    return np.count_nonzero(d2d.degree < match) / len(true_cat)"
   ]
  },
  {
   "cell_type": "code",
   "execution_count": 4,
   "id": "784fe21c",
   "metadata": {
    "ExecuteTime": {
     "end_time": "2021-08-06T13:28:08.764919Z",
     "start_time": "2021-08-06T13:28:00.660272Z"
    }
   },
   "outputs": [],
   "source": [
    "df = []\n",
    "for rad in np.arange(400/3600, 1200/3600, 200/3600):\n",
    "    line = {}\n",
    "    for name in cats:\n",
    "        det = cut_cat(pd.read_csv(cats[name]), dict_cut={'l' : [0, 180], 'b' : [20, np.inf]})\n",
    "        line[name] = simple_recall(det, eRosita, match=rad)\n",
    "    df.append(pd.DataFrame(line, index=[int(rad*3600)]))\n",
    "df = pd.concat(df)"
   ]
  },
  {
   "cell_type": "code",
   "execution_count": 5,
   "id": "6d7f24e0",
   "metadata": {
    "ExecuteTime": {
     "end_time": "2021-08-06T13:28:08.863449Z",
     "start_time": "2021-08-06T13:28:08.766275Z"
    }
   },
   "outputs": [
    {
     "data": {
      "text/html": [
       "<div>\n",
       "<style scoped>\n",
       "    .dataframe tbody tr th:only-of-type {\n",
       "        vertical-align: middle;\n",
       "    }\n",
       "\n",
       "    .dataframe tbody tr th {\n",
       "        vertical-align: top;\n",
       "    }\n",
       "\n",
       "    .dataframe thead th {\n",
       "        text-align: right;\n",
       "    }\n",
       "</style>\n",
       "<table border=\"1\" class=\"dataframe\">\n",
       "  <thead>\n",
       "    <tr style=\"text-align: right;\">\n",
       "      <th></th>\n",
       "      <th>SZcat(AL)</th>\n",
       "      <th>SZcat(gen)</th>\n",
       "    </tr>\n",
       "  </thead>\n",
       "  <tbody>\n",
       "    <tr>\n",
       "      <th>400</th>\n",
       "      <td>0.111878</td>\n",
       "      <td>0.142090</td>\n",
       "    </tr>\n",
       "    <tr>\n",
       "      <th>600</th>\n",
       "      <td>0.147856</td>\n",
       "      <td>0.191917</td>\n",
       "    </tr>\n",
       "    <tr>\n",
       "      <th>800</th>\n",
       "      <td>0.185954</td>\n",
       "      <td>0.244455</td>\n",
       "    </tr>\n",
       "    <tr>\n",
       "      <th>1000</th>\n",
       "      <td>0.228043</td>\n",
       "      <td>0.303696</td>\n",
       "    </tr>\n",
       "  </tbody>\n",
       "</table>\n",
       "</div>"
      ],
      "text/plain": [
       "      SZcat(AL)  SZcat(gen)\n",
       "400    0.111878    0.142090\n",
       "600    0.147856    0.191917\n",
       "800    0.185954    0.244455\n",
       "1000   0.228043    0.303696"
      ]
     },
     "execution_count": 5,
     "metadata": {},
     "output_type": "execute_result"
    }
   ],
   "source": [
    "df"
   ]
  },
  {
   "cell_type": "code",
   "execution_count": 4,
   "id": "17664dd3",
   "metadata": {
    "ExecuteTime": {
     "end_time": "2021-08-09T15:39:39.499522Z",
     "start_time": "2021-08-09T15:39:39.491343Z"
    }
   },
   "outputs": [],
   "source": [
    "def not_found(det_cat, true_cat, r1, r2=1000/3600):\n",
    "    from astropy.coordinates import SkyCoord\n",
    "    from astropy import units as u\n",
    "    \n",
    "    det_sc = SkyCoord(ra=np.array(det_cat['RA'])*u.degree, dec=np.array(det_cat['DEC'])*u.degree, frame='icrs')\n",
    "    tr_sc = SkyCoord(ra=np.array(true_cat['RA'])*u.degree, dec=np.array(true_cat['DEC'])*u.degree, frame='icrs')\n",
    "    \n",
    "    _, d2d, _ = tr_sc.match_to_catalog_sky(det_sc)\n",
    "    count = np.count_nonzero(np.logical_and(d2d.degree >= r1, d2d.degree < r2))\n",
    "    return count / len(true_cat)"
   ]
  },
  {
   "cell_type": "code",
   "execution_count": 5,
   "id": "19fa6052",
   "metadata": {
    "ExecuteTime": {
     "end_time": "2021-08-09T15:40:16.243188Z",
     "start_time": "2021-08-09T15:40:07.439889Z"
    }
   },
   "outputs": [],
   "source": [
    "df = []\n",
    "for rad in np.arange(400/3600, 1200/3600, 200/3600):\n",
    "    line = {}\n",
    "    for name in cats:\n",
    "        det = cut_cat(pd.read_csv(cats[name]), dict_cut={'l' : [0, 180], 'b' : [20, np.inf]})\n",
    "        line[name] = not_found(det, eRosita, r1=rad)\n",
    "    df.append(pd.DataFrame(line, index=[int(rad*3600)]))\n",
    "df = pd.concat(df)"
   ]
  },
  {
   "cell_type": "code",
   "execution_count": 6,
   "id": "4371214e",
   "metadata": {
    "ExecuteTime": {
     "end_time": "2021-08-09T15:40:29.469018Z",
     "start_time": "2021-08-09T15:40:29.360951Z"
    }
   },
   "outputs": [
    {
     "data": {
      "text/html": [
       "<div>\n",
       "<style scoped>\n",
       "    .dataframe tbody tr th:only-of-type {\n",
       "        vertical-align: middle;\n",
       "    }\n",
       "\n",
       "    .dataframe tbody tr th {\n",
       "        vertical-align: top;\n",
       "    }\n",
       "\n",
       "    .dataframe thead th {\n",
       "        text-align: right;\n",
       "    }\n",
       "</style>\n",
       "<table border=\"1\" class=\"dataframe\">\n",
       "  <thead>\n",
       "    <tr style=\"text-align: right;\">\n",
       "      <th></th>\n",
       "      <th>SZcat(AL)</th>\n",
       "      <th>SZcat(gen)</th>\n",
       "    </tr>\n",
       "  </thead>\n",
       "  <tbody>\n",
       "    <tr>\n",
       "      <th>400</th>\n",
       "      <td>0.116166</td>\n",
       "      <td>0.161607</td>\n",
       "    </tr>\n",
       "    <tr>\n",
       "      <th>600</th>\n",
       "      <td>0.080187</td>\n",
       "      <td>0.111779</td>\n",
       "    </tr>\n",
       "    <tr>\n",
       "      <th>800</th>\n",
       "      <td>0.042090</td>\n",
       "      <td>0.059241</td>\n",
       "    </tr>\n",
       "    <tr>\n",
       "      <th>1000</th>\n",
       "      <td>0.000000</td>\n",
       "      <td>0.000000</td>\n",
       "    </tr>\n",
       "  </tbody>\n",
       "</table>\n",
       "</div>"
      ],
      "text/plain": [
       "      SZcat(AL)  SZcat(gen)\n",
       "400    0.116166    0.161607\n",
       "600    0.080187    0.111779\n",
       "800    0.042090    0.059241\n",
       "1000   0.000000    0.000000"
      ]
     },
     "execution_count": 6,
     "metadata": {},
     "output_type": "execute_result"
    }
   ],
   "source": [
    "df #%ненайденных"
   ]
  },
  {
   "cell_type": "code",
   "execution_count": null,
   "id": "3fc19e27",
   "metadata": {},
   "outputs": [],
   "source": []
  }
 ],
 "metadata": {
  "kernelspec": {
   "display_name": "Python 3",
   "language": "python",
   "name": "python3"
  },
  "language_info": {
   "codemirror_mode": {
    "name": "ipython",
    "version": 3
   },
   "file_extension": ".py",
   "mimetype": "text/x-python",
   "name": "python",
   "nbconvert_exporter": "python",
   "pygments_lexer": "ipython3",
   "version": "3.8.8"
  }
 },
 "nbformat": 4,
 "nbformat_minor": 5
}
