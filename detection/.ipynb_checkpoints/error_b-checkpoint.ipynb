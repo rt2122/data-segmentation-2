{
 "cells": [
  {
   "cell_type": "code",
   "execution_count": 1,
   "id": "d7d6508d",
   "metadata": {
    "ExecuteTime": {
     "end_time": "2021-08-05T13:23:19.069424Z",
     "start_time": "2021-08-05T13:23:13.225804Z"
    }
   },
   "outputs": [],
   "source": [
    "import numpy as np\n",
    "import pandas as pd"
   ]
  },
  {
   "cell_type": "code",
   "execution_count": 2,
   "id": "65c81c46",
   "metadata": {
    "ExecuteTime": {
     "end_time": "2021-08-05T13:23:19.094189Z",
     "start_time": "2021-08-05T13:23:19.077469Z"
    }
   },
   "outputs": [],
   "source": [
    "def calc_corr_b1(det_cat, true_cat, small_rads=[0, 400/3600], big_rads=[1000/3600, 1500/3600], with_tqdm=False):\n",
    "    import numpy as np\n",
    "    import pandas as pd\n",
    "    from astropy.coordinates import SkyCoord\n",
    "    from astropy import units as u\n",
    "    \n",
    "    def func(angle1, angle2, det_cat, true_cat):\n",
    "        count = 0\n",
    "        tr = SkyCoord(ra=np.array(true_cat['RA'])*u.degree, dec=np.array(true_cat['DEC'])*u.degree, frame='icrs')\n",
    "        \n",
    "        iterator = range(len(det_cat))\n",
    "        if with_tqdm:\n",
    "            iterator = tqdm(iterator)\n",
    "\n",
    "        for i in iterator:\n",
    "            det = SkyCoord(ra=det_cat.loc[i, 'RA']*u.degree, dec=det_cat.loc[i, 'DEC']*u.degree, frame='icrs')\n",
    "            sep = tr.separation(det).degree\n",
    "\n",
    "            count += np.count_nonzero(np.logical_and(angle1 <= sep, sep < angle2))\n",
    "\n",
    "        return count \n",
    "    \n",
    "    def square(rads):\n",
    "        return np.pi * (rads[1] ** 2 - rads[0] ** 2)\n",
    "    \n",
    "    found = func(*small_rads, det_cat, true_cat)\n",
    "    error = func(*big_rads, det_cat, true_cat)\n",
    "    \n",
    "    found_sq = square(small_rads)\n",
    "    err_sq = square(big_rads)\n",
    "    \n",
    "    return 1 - (error / err_sq) * (found_sq / found)"
   ]
  },
  {
   "cell_type": "code",
   "execution_count": 6,
   "id": "ebab5ba3",
   "metadata": {
    "ExecuteTime": {
     "end_time": "2021-08-04T17:55:04.982484Z",
     "start_time": "2021-08-04T17:55:04.953845Z"
    }
   },
   "outputs": [],
   "source": [
    "def calc_corr_b(det_cat, true_cat, small_rads=[0, 400/3600], big_rads=[1000/3600, 1500/3600], \n",
    "                              with_tqdm=False):\n",
    "    import numpy as np\n",
    "    import pandas as pd\n",
    "    from astropy.coordinates import SkyCoord\n",
    "    from astropy import units as u\n",
    "    \n",
    "    def func(angle1, angle2, det_cat, true_cat):\n",
    "        print(det_cat.shape, true_cat.shape)\n",
    "        tr_sc = SkyCoord(ra=np.array(true_cat['RA'])*u.degree, \n",
    "                dec=np.array(true_cat['DEC'])*u.degree, \n",
    "                frame='icrs')\n",
    "        det_sc = SkyCoord(ra=np.array(det_cat['RA'])*u.degree, \n",
    "                dec=np.array(det_cat['DEC'])*u.degree, \n",
    "                frame='icrs')\n",
    "        _, d2d, _ = tr_sc.match_to_catalog_sky(det_sc)\n",
    "        count = np.count_nonzero(np.logical_and(angle1 <= d2d, d2d < angle2))\n",
    "        return count\n",
    "    \n",
    "    def square(rads):\n",
    "        return np.pi * (rads[1] ** 2 - rads[0] ** 2)\n",
    "    \n",
    "    \n",
    "    found = func(*small_rads, det_cat, true_cat)\n",
    "    error = func(*big_rads, det_cat, true_cat)\n",
    "    \n",
    "    small_sq = square(small_rads)\n",
    "    big_sq = square(big_rads)\n",
    "    \n",
    "    corr_found = found - error * (small_sq / big_sq)\n",
    "    \n",
    "    return corr_found\n"
   ]
  },
  {
   "cell_type": "code",
   "execution_count": 3,
   "id": "eaeb9bb1",
   "metadata": {
    "ExecuteTime": {
     "end_time": "2021-08-05T13:23:19.589318Z",
     "start_time": "2021-08-05T13:23:19.096269Z"
    }
   },
   "outputs": [],
   "source": [
    "pz = pd.read_csv('/home/rt2122/Data/clusters/planck_z.csv')\n",
    "gen = pd.read_csv('/home/rt2122/Data/gen_cats/gen_all_found_brcat_prec0.00.csv')"
   ]
  },
  {
   "cell_type": "code",
   "execution_count": 4,
   "id": "109521e8",
   "metadata": {
    "ExecuteTime": {
     "end_time": "2021-08-05T13:25:06.830150Z",
     "start_time": "2021-08-05T13:23:22.734753Z"
    }
   },
   "outputs": [
    {
     "data": {
      "text/plain": [
       "0.9782080825451419"
      ]
     },
     "execution_count": 4,
     "metadata": {},
     "output_type": "execute_result"
    }
   ],
   "source": [
    "calc_corr_b1(gen, pz, small_rads=[0, 400/3600])"
   ]
  },
  {
   "cell_type": "code",
   "execution_count": 5,
   "id": "d0cfbde6",
   "metadata": {
    "ExecuteTime": {
     "end_time": "2021-08-05T13:26:49.871722Z",
     "start_time": "2021-08-05T13:25:06.832319Z"
    }
   },
   "outputs": [
    {
     "data": {
      "text/plain": [
       "0.9523210702341137"
      ]
     },
     "execution_count": 5,
     "metadata": {},
     "output_type": "execute_result"
    }
   ],
   "source": [
    "calc_corr_b1(gen, pz, small_rads=[0, 600/3600])"
   ]
  },
  {
   "cell_type": "code",
   "execution_count": null,
   "id": "419c9325",
   "metadata": {},
   "outputs": [],
   "source": []
  }
 ],
 "metadata": {
  "kernelspec": {
   "display_name": "Python 3",
   "language": "python",
   "name": "python3"
  },
  "language_info": {
   "codemirror_mode": {
    "name": "ipython",
    "version": 3
   },
   "file_extension": ".py",
   "mimetype": "text/x-python",
   "name": "python",
   "nbconvert_exporter": "python",
   "pygments_lexer": "ipython3",
   "version": "3.8.8"
  }
 },
 "nbformat": 4,
 "nbformat_minor": 5
}
